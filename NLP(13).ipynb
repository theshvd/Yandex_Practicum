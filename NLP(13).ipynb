{
 "cells": [
  {
   "cell_type": "markdown",
   "metadata": {
    "toc": true
   },
   "source": [
    "<h1>Содержание<span class=\"tocSkip\"></span></h1>\n",
    "<div class=\"toc\"><ul class=\"toc-item\"><li><span><a href=\"#Подготовка\" data-toc-modified-id=\"Подготовка-1\"><span class=\"toc-item-num\">1&nbsp;&nbsp;</span>Подготовка</a></span></li><li><span><a href=\"#Обучение\" data-toc-modified-id=\"Обучение-2\"><span class=\"toc-item-num\">2&nbsp;&nbsp;</span>Обучение</a></span><ul class=\"toc-item\"><li><span><a href=\"#Baseline\" data-toc-modified-id=\"Baseline-2.1\"><span class=\"toc-item-num\">2.1&nbsp;&nbsp;</span>Baseline</a></span></li><li><span><a href=\"#CatBoost\" data-toc-modified-id=\"CatBoost-2.2\"><span class=\"toc-item-num\">2.2&nbsp;&nbsp;</span>CatBoost</a></span></li><li><span><a href=\"#BERT\" data-toc-modified-id=\"BERT-2.3\"><span class=\"toc-item-num\">2.3&nbsp;&nbsp;</span>BERT</a></span></li></ul></li><li><span><a href=\"#Выводы\" data-toc-modified-id=\"Выводы-3\"><span class=\"toc-item-num\">3&nbsp;&nbsp;</span>Выводы</a></span></li><li><span><a href=\"#Чек-лист-проверки\" data-toc-modified-id=\"Чек-лист-проверки-4\"><span class=\"toc-item-num\">4&nbsp;&nbsp;</span>Чек-лист проверки</a></span></li></ul></div>"
   ]
  },
  {
   "cell_type": "markdown",
   "metadata": {},
   "source": [
    "# Проект для «Викишоп» BERT"
   ]
  },
  {
   "cell_type": "markdown",
   "metadata": {},
   "source": [
    "Интернет-магазин «Викишоп» запускает новый сервис. Теперь пользователи могут редактировать и дополнять описания товаров, как в вики-сообществах. То есть клиенты предлагают свои правки и комментируют изменения других. Магазину нужен инструмент, который будет искать токсичные комментарии и отправлять их на модерацию. \n",
    "\n",
    "Обучите модель классифицировать комментарии на позитивные и негативные. В вашем распоряжении набор данных с разметкой о токсичности правок.\n",
    "\n",
    "Постройте модель со значением метрики качества *F1* не меньше 0.75. \n",
    "\n",
    "**Инструкция по выполнению проекта**\n",
    "\n",
    "1. Загрузите и подготовьте данные.\n",
    "2. Обучите разные модели. \n",
    "3. Сделайте выводы.\n",
    "\n",
    "Для выполнения проекта применять *BERT* необязательно, но вы можете попробовать.\n",
    "\n",
    "**Описание данных**\n",
    "\n",
    "Данные находятся в файле `toxic_comments.csv`. Столбец *text* в нём содержит текст комментария, а *toxic* — целевой признак."
   ]
  },
  {
   "cell_type": "markdown",
   "metadata": {},
   "source": [
    "## Подготовка"
   ]
  },
  {
   "cell_type": "markdown",
   "metadata": {},
   "source": [
    "Подключим необходимые библиотеки"
   ]
  },
  {
   "cell_type": "code",
   "execution_count": 16,
   "metadata": {
    "scrolled": false
   },
   "outputs": [
    {
     "name": "stderr",
     "output_type": "stream",
     "text": [
      "[nltk_data] Downloading package wordnet to\n",
      "[nltk_data]     C:\\Users\\User\\AppData\\Roaming\\nltk_data...\n",
      "[nltk_data]   Package wordnet is already up-to-date!\n"
     ]
    }
   ],
   "source": [
    "import pandas as pd\n",
    "from pymystem3 import Mystem\n",
    "import re\n",
    "import nltk\n",
    "nltk.download('wordnet')\n",
    "import spacy\n",
    "import sklearn.metrics as metrics\n",
    "import torch\n",
    "import transformers  # pytorch transformers\n",
    "import numpy as np\n",
    "import sklearn as sk\n",
    "\n",
    "from nltk.corpus import stopwords\n",
    "from sklearn.feature_extraction.text import TfidfVectorizer\n",
    "from sklearn.model_selection import train_test_split,GridSearchCV,cross_validate\n",
    "from sklearn.linear_model import LogisticRegression\n",
    "from sklearn.metrics import f1_score\n",
    "from sklearn.pipeline import Pipeline\n",
    "from sklearn.naive_bayes import MultinomialNB\n",
    "from sklearn.svm import LinearSVC\n",
    "from sklearn.neighbors import KNeighborsClassifier\n",
    "from catboost import CatBoostClassifier\n",
    "import warnings\n",
    "\n",
    "\n",
    "warnings.filterwarnings('ignore')"
   ]
  },
  {
   "cell_type": "markdown",
   "metadata": {},
   "source": [
    "Переключимся на CPU"
   ]
  },
  {
   "cell_type": "code",
   "execution_count": 17,
   "metadata": {},
   "outputs": [],
   "source": [
    "device = torch.device('cpu')"
   ]
  },
  {
   "cell_type": "markdown",
   "metadata": {},
   "source": [
    "Для лемматизации загрузим пак английских слов"
   ]
  },
  {
   "cell_type": "code",
   "execution_count": 18,
   "metadata": {
    "scrolled": false
   },
   "outputs": [],
   "source": [
    "disabled_pipes = [ \"parser\",  \"ner\"]\n",
    "sp = spacy.load('C://Users/User/.conda/envs/stack-overflow/Lib/site-packages/en_core_web_sm/en_core_web_sm-3.4.0',disable=disabled_pipes)"
   ]
  },
  {
   "cell_type": "markdown",
   "metadata": {},
   "source": [
    "Прочитаем данные"
   ]
  },
  {
   "cell_type": "code",
   "execution_count": 20,
   "metadata": {
    "scrolled": false
   },
   "outputs": [],
   "source": [
    "data = pd.read_csv('D://toxic_comments.csv')\n",
    "df = data.copy()\n",
    "df = df.sample(70_000)"
   ]
  },
  {
   "cell_type": "markdown",
   "metadata": {},
   "source": [
    "Удалим дубликаты"
   ]
  },
  {
   "cell_type": "code",
   "execution_count": 23,
   "metadata": {
    "scrolled": false
   },
   "outputs": [],
   "source": [
    "df = df.drop_duplicates()"
   ]
  },
  {
   "cell_type": "markdown",
   "metadata": {},
   "source": [
    "С помощью регулярных выражений оставим только английские слова, символы, знаки препинания и цифры удалим"
   ]
  },
  {
   "cell_type": "code",
   "execution_count": 24,
   "metadata": {},
   "outputs": [],
   "source": [
    "df['re'] = df['text'].apply(lambda x : \" \".join((re.sub(r'(?i)[^a-z]+', ' ', x).split())))"
   ]
  },
  {
   "cell_type": "markdown",
   "metadata": {},
   "source": [
    "Проводим лемматизацию"
   ]
  },
  {
   "cell_type": "code",
   "execution_count": 25,
   "metadata": {},
   "outputs": [
    {
     "name": "stdout",
     "output_type": "stream",
     "text": [
      "CPU times: total: 4min 59s\n",
      "Wall time: 4min 59s\n"
     ]
    }
   ],
   "source": [
    "%%time\n",
    "df['lemm'] = df['re'].apply(lambda x : \" \".join(token.lemma_ for token in sp(x)))"
   ]
  },
  {
   "cell_type": "markdown",
   "metadata": {},
   "source": [
    "Проверям на пропущенные значения"
   ]
  },
  {
   "cell_type": "code",
   "execution_count": 26,
   "metadata": {
    "scrolled": true
   },
   "outputs": [
    {
     "data": {
      "text/plain": [
       "336"
      ]
     },
     "execution_count": 26,
     "metadata": {},
     "output_type": "execute_result"
    }
   ],
   "source": [
    "len(df['lemm'])-len(df['lemm'].drop_duplicates())"
   ]
  },
  {
   "cell_type": "markdown",
   "metadata": {},
   "source": [
    "Удаляем пропущенные значения"
   ]
  },
  {
   "cell_type": "code",
   "execution_count": 27,
   "metadata": {},
   "outputs": [],
   "source": [
    "df = df.drop_duplicates()\n",
    "df = df.dropna()"
   ]
  },
  {
   "cell_type": "markdown",
   "metadata": {},
   "source": [
    "Теперь удалим ранее созданный столбец 're' который мы создали для предложений после использования регулярных выражений, изначальный столбец 'text', он нам не понадобится и 'Unnamed: 0 ' потому что он копирует id"
   ]
  },
  {
   "cell_type": "code",
   "execution_count": 28,
   "metadata": {},
   "outputs": [],
   "source": [
    "df = df.drop(['re','text','Unnamed: 0'],axis = 1 )"
   ]
  },
  {
   "cell_type": "markdown",
   "metadata": {},
   "source": [
    "Разделим данные на обучающую и тестовую выборку"
   ]
  },
  {
   "cell_type": "code",
   "execution_count": 29,
   "metadata": {},
   "outputs": [],
   "source": [
    "X = df.drop(['toxic'],axis = 1 )\n",
    "y = df['toxic']\n",
    "X_train,X_test,y_train,y_test =  train_test_split(X, y, test_size=0.33, random_state=42)"
   ]
  },
  {
   "cell_type": "markdown",
   "metadata": {},
   "source": [
    "Приведём к нужному типу"
   ]
  },
  {
   "cell_type": "code",
   "execution_count": 30,
   "metadata": {
    "scrolled": true
   },
   "outputs": [],
   "source": [
    "X_train = X_train.values\n",
    "X_test = X_test.values"
   ]
  },
  {
   "cell_type": "markdown",
   "metadata": {},
   "source": [
    "## Обучение"
   ]
  },
  {
   "cell_type": "markdown",
   "metadata": {},
   "source": [
    "### Baseline"
   ]
  },
  {
   "cell_type": "markdown",
   "metadata": {},
   "source": [
    "Создадим пайплайн в котором проверим базовые модели: наивный байес, метод опорных векторов, логистическая регрессия и метод К-ближайших соседей. В нём закодируем текст с помощью TF-IDF векторизатора, далее проверим каждую модель и выберем лучшую и на ней вычислим f1 "
   ]
  },
  {
   "cell_type": "code",
   "execution_count": 31,
   "metadata": {},
   "outputs": [
    {
     "name": "stderr",
     "output_type": "stream",
     "text": [
      "[nltk_data] Downloading package stopwords to\n",
      "[nltk_data]     C:\\Users\\User\\AppData\\Roaming\\nltk_data...\n",
      "[nltk_data]   Package stopwords is already up-to-date!\n"
     ]
    }
   ],
   "source": [
    "nltk.download('stopwords')\n",
    "stop_words = set(stopwords.words('english'))\n",
    "count_tf_idf = TfidfVectorizer(stop_words=stop_words)\n",
    "\n",
    "\n",
    "pipe = Pipeline(steps = [('tf_idf_vectorization',TfidfVectorizer(stop_words=stop_words)),('clf',MultinomialNB())])\n",
    "\n",
    "search_space = [{'clf': [MultinomialNB()]},\n",
    "                {'clf' :[LinearSVC()]},\n",
    "                {'clf':[LogisticRegression(C = 10)],\n",
    "                'clf__solver': ['liblinear']},\n",
    "                {'clf':[KNeighborsClassifier()],\n",
    "                'clf__n_neighbors':[5,6]}]\n",
    "             "
   ]
  },
  {
   "cell_type": "code",
   "execution_count": 32,
   "metadata": {},
   "outputs": [],
   "source": [
    "#scoring={F1-мера':metrics.make_scorer(metrics.f1_score)}\n",
    "\n",
    "grid = GridSearchCV(estimator = pipe, param_grid = search_space, cv=3,\n",
    "                   scoring = metrics.make_scorer(metrics.f1_score), return_train_score = True, n_jobs = -1, refit=True)"
   ]
  },
  {
   "cell_type": "code",
   "execution_count": 33,
   "metadata": {
    "scrolled": true
   },
   "outputs": [
    {
     "name": "stdout",
     "output_type": "stream",
     "text": [
      "CPU times: total: 3.25 s\n",
      "Wall time: 1min 44s\n"
     ]
    }
   ],
   "source": [
    "%%time\n",
    "best_model = grid.fit(X_train.ravel(),y_train.ravel())"
   ]
  },
  {
   "cell_type": "code",
   "execution_count": 34,
   "metadata": {},
   "outputs": [
    {
     "name": "stdout",
     "output_type": "stream",
     "text": [
      "0.7474833593485416 {'clf': LinearSVC()}\n"
     ]
    }
   ],
   "source": [
    "print(best_model.best_score_,best_model.best_params_)"
   ]
  },
  {
   "cell_type": "markdown",
   "metadata": {},
   "source": [
    "Так как я заметил, что очень большая разница в F1-score на тестовых и тренировочных данных я решил тут же проверить на тестовой выборке, я знаю так делать нельзя, но не знаю как сделать по-другому."
   ]
  },
  {
   "cell_type": "code",
   "execution_count": 35,
   "metadata": {},
   "outputs": [
    {
     "name": "stdout",
     "output_type": "stream",
     "text": [
      "0.7769953051643192\n"
     ]
    }
   ],
   "source": [
    "pred = best_model.predict(X_test.ravel())\n",
    "print(f1_score(y_test, pred))"
   ]
  },
  {
   "cell_type": "markdown",
   "metadata": {},
   "source": [
    "Точность нас  устраивает, но попробуем её улучшить,попробуем градиентный бустинг"
   ]
  },
  {
   "cell_type": "markdown",
   "metadata": {},
   "source": [
    "### CatBoost"
   ]
  },
  {
   "cell_type": "markdown",
   "metadata": {},
   "source": [
    "С помощью TF-IDF создадим из предложений вектора на основе которых будем обучаться"
   ]
  },
  {
   "cell_type": "code",
   "execution_count": 36,
   "metadata": {},
   "outputs": [],
   "source": [
    "X_train = count_tf_idf.fit_transform(X_train.ravel())\n",
    "X_test = count_tf_idf.transform(X_test.ravel())"
   ]
  },
  {
   "cell_type": "code",
   "execution_count": 37,
   "metadata": {},
   "outputs": [
    {
     "name": "stdout",
     "output_type": "stream",
     "text": [
      "CPU times: total: 1h 17s\n",
      "Wall time: 8min 55s\n"
     ]
    },
    {
     "data": {
      "text/plain": [
       "<catboost.core.CatBoostClassifier at 0x277fa564b50>"
      ]
     },
     "execution_count": 37,
     "metadata": {},
     "output_type": "execute_result"
    }
   ],
   "source": [
    "%%time\n",
    "model = CatBoostClassifier(\n",
    "    iterations=1500,\n",
    "    depth = 6,\n",
    "    random_seed=43,\n",
    "    loss_function = 'Logloss'\n",
    ")\n",
    "\n",
    "model.fit(\n",
    "    X_train, y_train,\n",
    "    eval_set=(X_test, y_test),\n",
    "    verbose=False,\n",
    ")"
   ]
  },
  {
   "cell_type": "markdown",
   "metadata": {},
   "source": [
    "Проверяем на тренировочных данных"
   ]
  },
  {
   "cell_type": "code",
   "execution_count": 38,
   "metadata": {
    "scrolled": true
   },
   "outputs": [
    {
     "name": "stdout",
     "output_type": "stream",
     "text": [
      "CPU times: total: 2.22 s\n",
      "Wall time: 370 ms\n"
     ]
    },
    {
     "data": {
      "text/plain": [
       "0.8157324993986047"
      ]
     },
     "execution_count": 38,
     "metadata": {},
     "output_type": "execute_result"
    }
   ],
   "source": [
    "%%time\n",
    "y_pred = model.predict(X_train)\n",
    "f1_score(y_train, y_pred)"
   ]
  },
  {
   "cell_type": "markdown",
   "metadata": {},
   "source": [
    "И тестовые данные"
   ]
  },
  {
   "cell_type": "code",
   "execution_count": 39,
   "metadata": {},
   "outputs": [
    {
     "data": {
      "text/plain": [
       "0.7547995139732685"
      ]
     },
     "execution_count": 39,
     "metadata": {},
     "output_type": "execute_result"
    }
   ],
   "source": [
    "y_pred = model.predict(X_test)\n",
    "f1_score(y_test, y_pred)"
   ]
  },
  {
   "cell_type": "markdown",
   "metadata": {},
   "source": [
    "Вывод: можно использовать градиентый бустинг, но результат хотелось бы получше"
   ]
  },
  {
   "cell_type": "markdown",
   "metadata": {},
   "source": [
    "### BERT"
   ]
  },
  {
   "cell_type": "markdown",
   "metadata": {},
   "source": [
    "Теперь воспользуемся моделью BERT для создания эмбендингов"
   ]
  },
  {
   "cell_type": "code",
   "execution_count": 40,
   "metadata": {
    "scrolled": true
   },
   "outputs": [
    {
     "name": "stderr",
     "output_type": "stream",
     "text": [
      "Some weights of the model checkpoint at unitary/toxic-bert were not used when initializing BertModel: ['classifier.weight', 'classifier.bias']\n",
      "- This IS expected if you are initializing BertModel from the checkpoint of a model trained on another task or with another architecture (e.g. initializing a BertForSequenceClassification model from a BertForPreTraining model).\n",
      "- This IS NOT expected if you are initializing BertModel from the checkpoint of a model that you expect to be exactly identical (initializing a BertForSequenceClassification model from a BertForSequenceClassification model).\n"
     ]
    }
   ],
   "source": [
    "tokenizer = transformers.BertTokenizer.from_pretrained('unitary/toxic-bert', max_length=512) \n",
    "config = transformers.BertConfig.from_pretrained('unitary/toxic-bert')\n",
    "model = transformers.BertModel.from_pretrained('unitary/toxic-bert', config=config) "
   ]
  },
  {
   "cell_type": "markdown",
   "metadata": {},
   "source": [
    "Так как вычислительные мощности компьютера не позволяют взять весь датасет, возьмём его часть"
   ]
  },
  {
   "cell_type": "code",
   "execution_count": 41,
   "metadata": {},
   "outputs": [],
   "source": [
    "batch = data[:70_000]"
   ]
  },
  {
   "cell_type": "markdown",
   "metadata": {},
   "source": [
    "Токениризуем предложения"
   ]
  },
  {
   "cell_type": "code",
   "execution_count": 42,
   "metadata": {},
   "outputs": [],
   "source": [
    "tokenized = batch['text'].apply((lambda x: tokenizer.encode(x, add_special_tokens=True,truncation=True)))"
   ]
  },
  {
   "cell_type": "markdown",
   "metadata": {},
   "source": [
    "Находим длину самогого большого предложения и дополняем нулями те, которые меньше по длинне"
   ]
  },
  {
   "cell_type": "code",
   "execution_count": 43,
   "metadata": {},
   "outputs": [],
   "source": [
    "max_len = 0\n",
    "for i in tokenized.values:\n",
    "    if len(i) > max_len:\n",
    "        max_len = len(i)\n",
    "\n",
    "padded = np.array([i + [0]*(max_len-len(i)) for i in tokenized.values])"
   ]
  },
  {
   "cell_type": "markdown",
   "metadata": {},
   "source": [
    "Проверяем размер"
   ]
  },
  {
   "cell_type": "code",
   "execution_count": 44,
   "metadata": {},
   "outputs": [
    {
     "data": {
      "text/plain": [
       "(70000, 512)"
      ]
     },
     "execution_count": 44,
     "metadata": {},
     "output_type": "execute_result"
    }
   ],
   "source": [
    "np.array(padded).shape"
   ]
  },
  {
   "cell_type": "code",
   "execution_count": 45,
   "metadata": {},
   "outputs": [
    {
     "data": {
      "text/plain": [
       "(70000, 512)"
      ]
     },
     "execution_count": 45,
     "metadata": {},
     "output_type": "execute_result"
    }
   ],
   "source": [
    "attention_mask = np.where(padded != 0, 1, 0)\n",
    "attention_mask.shape"
   ]
  },
  {
   "cell_type": "markdown",
   "metadata": {},
   "source": [
    "Очищаем кэш прежде чем начать создание эмбендингов"
   ]
  },
  {
   "cell_type": "code",
   "execution_count": 46,
   "metadata": {},
   "outputs": [],
   "source": [
    "torch.cuda.empty_cache()"
   ]
  },
  {
   "cell_type": "code",
   "execution_count": 47,
   "metadata": {
    "scrolled": true
   },
   "outputs": [
    {
     "name": "stdout",
     "output_type": "stream",
     "text": [
      "cuda:0\n"
     ]
    },
    {
     "name": "stderr",
     "output_type": "stream",
     "text": [
      "100%|████████████████████████████████████████████████████████████████████████████| 1400/1400 [1:27:14<00:00,  3.74s/it]\n"
     ]
    }
   ],
   "source": [
    "from tqdm import tqdm\n",
    "embeddings = []\n",
    "\n",
    "batch_size = 50\n",
    "device = torch.device(\"cuda:0\") if torch.cuda.is_available() else torch.device(\"cpu\")\n",
    "print(device)\n",
    "\n",
    "for i in tqdm(range(tokenized.values.shape[0] // batch_size)):\n",
    "    # преобразуем батч с токенизированными твитами в тензор \n",
    "    # по сути тензор - это многомерный массив, который может быть обработан нейронной сетью\n",
    "    input_ids = torch.LongTensor(padded[batch_size*i:batch_size*(i+1)]).to(device)\n",
    "    # создаем тензор и для подготовленной маски\n",
    "    attention_mask_batch = torch.LongTensor(attention_mask[batch_size*i:batch_size*(i+1)]).to(device)\n",
    "    \n",
    "    # передаем в модель BERT тензор из твитов и маску - на выходе получаем эмбеддинги - вектор текста твита\n",
    "    # torch.no_grad() - для ускорения инференса модели отключим рассчет градиентов\n",
    "    with torch.no_grad():\n",
    "        model.to(device)\n",
    "        last_hidden_states = model(input_ids, attention_mask = attention_mask_batch)\n",
    "    \n",
    "    # в итоге собираем все эмбеддинги твитов в features\n",
    "    embeddings.append(last_hidden_states[0][:,0,:].cpu().numpy())\n",
    "    \n",
    "    torch.cuda.empty_cache()"
   ]
  },
  {
   "cell_type": "markdown",
   "metadata": {},
   "source": [
    "Создадим фичи и целевую переменную"
   ]
  },
  {
   "cell_type": "code",
   "execution_count": 48,
   "metadata": {},
   "outputs": [],
   "source": [
    "labels = batch['toxic']\n",
    "features = np.concatenate(embeddings) "
   ]
  },
  {
   "cell_type": "markdown",
   "metadata": {},
   "source": [
    "Разделяем на тренировочную и тестовую выборки"
   ]
  },
  {
   "cell_type": "code",
   "execution_count": 49,
   "metadata": {},
   "outputs": [],
   "source": [
    "train_features, test_features, train_labels, test_labels = train_test_split(features, labels, test_size = 0.1)"
   ]
  },
  {
   "cell_type": "markdown",
   "metadata": {},
   "source": [
    "Используем CatBoost для классификации"
   ]
  },
  {
   "cell_type": "code",
   "execution_count": 50,
   "metadata": {},
   "outputs": [
    {
     "name": "stdout",
     "output_type": "stream",
     "text": [
      "CPU times: total: 10min 22s\n",
      "Wall time: 55.2 s\n"
     ]
    },
    {
     "data": {
      "text/plain": [
       "<catboost.core.CatBoostClassifier at 0x277960a3f10>"
      ]
     },
     "execution_count": 50,
     "metadata": {},
     "output_type": "execute_result"
    }
   ],
   "source": [
    "%%time\n",
    "model = CatBoostClassifier(\n",
    "    iterations=500,\n",
    "    random_seed=43,\n",
    "    loss_function = 'Logloss'\n",
    ")\n",
    "\n",
    "model.fit(\n",
    "    train_features, train_labels,\n",
    "    eval_set=(test_features, test_labels),\n",
    "    verbose=False,\n",
    ")"
   ]
  },
  {
   "cell_type": "markdown",
   "metadata": {},
   "source": [
    "Проверяем на тестовых данных"
   ]
  },
  {
   "cell_type": "code",
   "execution_count": 51,
   "metadata": {},
   "outputs": [
    {
     "name": "stdout",
     "output_type": "stream",
     "text": [
      "CPU times: total: 203 ms\n",
      "Wall time: 129 ms\n"
     ]
    }
   ],
   "source": [
    "%%time\n",
    "y_pred = model.predict(test_features)"
   ]
  },
  {
   "cell_type": "code",
   "execution_count": 52,
   "metadata": {},
   "outputs": [
    {
     "data": {
      "text/plain": [
       "0.9444444444444444"
      ]
     },
     "execution_count": 52,
     "metadata": {},
     "output_type": "execute_result"
    }
   ],
   "source": [
    "f1_score(test_labels, y_pred)"
   ]
  },
  {
   "cell_type": "markdown",
   "metadata": {},
   "source": [
    "Получили отличные метрики"
   ]
  },
  {
   "cell_type": "markdown",
   "metadata": {},
   "source": [
    "## Выводы"
   ]
  },
  {
   "cell_type": "markdown",
   "metadata": {},
   "source": [
    "Вывод: модель BERT очень хорошо определяет токсичные комментарии и делает это сильно лучше других классификаторов, её стоит использовать в таких задачах."
   ]
  }
 ],
 "metadata": {
  "ExecuteTimeLog": [
   {
    "duration": 416,
    "start_time": "2022-10-12T05:42:58.389Z"
   },
   {
    "duration": 93,
    "start_time": "2022-10-12T05:43:12.599Z"
   },
   {
    "duration": 2153,
    "start_time": "2022-10-12T05:43:29.439Z"
   },
   {
    "duration": 15,
    "start_time": "2022-10-12T05:43:32.277Z"
   },
   {
    "duration": 9,
    "start_time": "2022-10-12T05:44:05.169Z"
   },
   {
    "duration": 7,
    "start_time": "2022-10-12T06:15:03.062Z"
   },
   {
    "duration": 4,
    "start_time": "2022-10-12T06:15:04.751Z"
   },
   {
    "duration": 804,
    "start_time": "2022-10-12T06:15:04.892Z"
   },
   {
    "duration": 3,
    "start_time": "2022-10-12T06:15:05.697Z"
   },
   {
    "duration": 11,
    "start_time": "2022-10-12T06:15:05.701Z"
   },
   {
    "duration": 10,
    "start_time": "2022-10-12T06:15:07.156Z"
   },
   {
    "duration": 407,
    "start_time": "2022-10-12T06:15:56.875Z"
   },
   {
    "duration": 2204,
    "start_time": "2022-10-12T06:15:57.319Z"
   },
   {
    "duration": 3,
    "start_time": "2022-10-12T06:15:59.525Z"
   },
   {
    "duration": 50,
    "start_time": "2022-10-12T06:16:11.608Z"
   },
   {
    "duration": 370,
    "start_time": "2022-10-12T06:16:14.049Z"
   },
   {
    "duration": 2196,
    "start_time": "2022-10-12T06:16:14.424Z"
   },
   {
    "duration": 3,
    "start_time": "2022-10-12T06:16:16.621Z"
   },
   {
    "duration": 359,
    "start_time": "2022-10-12T06:16:25.758Z"
   },
   {
    "duration": 2183,
    "start_time": "2022-10-12T06:16:26.119Z"
   },
   {
    "duration": 3,
    "start_time": "2022-10-12T06:16:28.303Z"
   },
   {
    "duration": 16,
    "start_time": "2022-10-12T06:16:28.307Z"
   },
   {
    "duration": 4,
    "start_time": "2022-10-12T06:16:45.742Z"
   },
   {
    "duration": 4,
    "start_time": "2022-10-12T06:16:51.029Z"
   },
   {
    "duration": 633,
    "start_time": "2022-10-12T06:17:15.806Z"
   },
   {
    "duration": 428,
    "start_time": "2022-10-12T10:35:36.622Z"
   },
   {
    "duration": 3228,
    "start_time": "2022-10-12T10:35:37.051Z"
   },
   {
    "duration": 2,
    "start_time": "2022-10-12T10:35:40.281Z"
   },
   {
    "duration": 707,
    "start_time": "2022-10-12T10:35:40.285Z"
   },
   {
    "duration": 3,
    "start_time": "2022-10-12T10:37:42.010Z"
   },
   {
    "duration": 754,
    "start_time": "2022-10-12T10:37:42.221Z"
   },
   {
    "duration": 20,
    "start_time": "2022-10-12T10:37:42.977Z"
   },
   {
    "duration": 718,
    "start_time": "2022-10-12T10:37:42.999Z"
   },
   {
    "duration": 16,
    "start_time": "2022-10-12T10:37:47.172Z"
   },
   {
    "duration": 4,
    "start_time": "2022-10-12T10:38:00.528Z"
   },
   {
    "duration": 3,
    "start_time": "2022-10-12T10:38:05.568Z"
   },
   {
    "duration": 65,
    "start_time": "2022-10-12T10:39:00.907Z"
   },
   {
    "duration": 3,
    "start_time": "2022-10-12T10:39:27.050Z"
   },
   {
    "duration": 9,
    "start_time": "2022-10-12T10:44:06.525Z"
   },
   {
    "duration": 2,
    "start_time": "2022-10-12T10:44:11.626Z"
   },
   {
    "duration": 801,
    "start_time": "2022-10-12T10:44:11.972Z"
   },
   {
    "duration": 3,
    "start_time": "2022-10-12T10:44:12.775Z"
   },
   {
    "duration": 3,
    "start_time": "2022-10-12T10:44:13.143Z"
   },
   {
    "duration": 99574,
    "start_time": "2022-10-12T10:44:13.851Z"
   },
   {
    "duration": 5,
    "start_time": "2022-10-12T10:46:23.101Z"
   },
   {
    "duration": 6,
    "start_time": "2022-10-12T10:47:37.131Z"
   },
   {
    "duration": 3,
    "start_time": "2022-10-12T10:48:51.613Z"
   },
   {
    "duration": 714,
    "start_time": "2022-10-12T10:48:52.067Z"
   },
   {
    "duration": 27,
    "start_time": "2022-10-12T10:48:52.783Z"
   },
   {
    "duration": 4,
    "start_time": "2022-10-12T10:48:52.812Z"
   },
   {
    "duration": 87,
    "start_time": "2022-10-12T10:48:53.327Z"
   },
   {
    "duration": 8,
    "start_time": "2022-10-12T10:48:58.029Z"
   },
   {
    "duration": 5,
    "start_time": "2022-10-12T10:50:16.136Z"
   },
   {
    "duration": 3,
    "start_time": "2022-10-12T10:50:29.912Z"
   },
   {
    "duration": 776,
    "start_time": "2022-10-12T10:50:30.032Z"
   },
   {
    "duration": 3,
    "start_time": "2022-10-12T10:50:30.810Z"
   },
   {
    "duration": 29,
    "start_time": "2022-10-12T10:50:30.815Z"
   },
   {
    "duration": 121030,
    "start_time": "2022-10-12T10:51:51.791Z"
   },
   {
    "duration": 3,
    "start_time": "2022-10-12T10:53:56.238Z"
   },
   {
    "duration": 97938,
    "start_time": "2022-10-12T10:54:31.932Z"
   },
   {
    "duration": 15,
    "start_time": "2022-10-12T10:56:15.028Z"
   },
   {
    "duration": 11,
    "start_time": "2022-10-12T11:01:46.726Z"
   },
   {
    "duration": 4,
    "start_time": "2022-10-12T11:02:08.815Z"
   },
   {
    "duration": 4,
    "start_time": "2022-10-12T11:02:20.557Z"
   },
   {
    "duration": 8,
    "start_time": "2022-10-12T11:05:13.426Z"
   },
   {
    "duration": 3,
    "start_time": "2022-10-12T11:05:18.278Z"
   },
   {
    "duration": 3,
    "start_time": "2022-10-12T11:06:58.036Z"
   },
   {
    "duration": 759,
    "start_time": "2022-10-12T11:06:58.213Z"
   },
   {
    "duration": 20,
    "start_time": "2022-10-12T11:06:58.974Z"
   },
   {
    "duration": 10,
    "start_time": "2022-10-12T11:06:58.996Z"
   },
   {
    "duration": 6,
    "start_time": "2022-10-12T11:07:14.434Z"
   },
   {
    "duration": 13,
    "start_time": "2022-10-12T11:07:18.226Z"
   },
   {
    "duration": 3,
    "start_time": "2022-10-12T11:07:57.596Z"
   },
   {
    "duration": 758,
    "start_time": "2022-10-12T11:07:57.750Z"
   },
   {
    "duration": 3,
    "start_time": "2022-10-12T11:07:58.511Z"
   },
   {
    "duration": 100,
    "start_time": "2022-10-12T11:07:58.516Z"
   },
   {
    "duration": 94987,
    "start_time": "2022-10-12T11:08:04.241Z"
   },
   {
    "duration": 27,
    "start_time": "2022-10-12T11:09:49.797Z"
   },
   {
    "duration": 438,
    "start_time": "2022-10-12T11:12:17.181Z"
   },
   {
    "duration": 70,
    "start_time": "2022-10-12T11:15:33.897Z"
   },
   {
    "duration": 2,
    "start_time": "2022-10-12T11:15:38.865Z"
   },
   {
    "duration": 3299,
    "start_time": "2022-10-12T11:15:39.046Z"
   },
   {
    "duration": 3,
    "start_time": "2022-10-12T11:15:42.347Z"
   },
   {
    "duration": 27698,
    "start_time": "2022-10-12T11:15:42.352Z"
   },
   {
    "duration": 53,
    "start_time": "2022-10-12T11:16:25.092Z"
   },
   {
    "duration": 4,
    "start_time": "2022-10-12T11:17:38.916Z"
   },
   {
    "duration": 5,
    "start_time": "2022-10-12T11:17:49.145Z"
   },
   {
    "duration": 80,
    "start_time": "2022-10-12T11:18:03.339Z"
   },
   {
    "duration": 92,
    "start_time": "2022-10-12T11:18:09.515Z"
   },
   {
    "duration": 8,
    "start_time": "2022-10-12T11:18:12.039Z"
   },
   {
    "duration": 4,
    "start_time": "2022-10-12T11:18:19.297Z"
   },
   {
    "duration": 5,
    "start_time": "2022-10-12T11:18:23.847Z"
   },
   {
    "duration": 1303,
    "start_time": "2022-10-12T11:22:11.360Z"
   },
   {
    "duration": 28,
    "start_time": "2022-10-12T11:22:14.468Z"
   },
   {
    "duration": 817,
    "start_time": "2022-10-12T11:22:18.719Z"
   },
   {
    "duration": 1189,
    "start_time": "2022-10-12T11:22:22.703Z"
   },
   {
    "duration": 4,
    "start_time": "2022-10-12T11:22:25.057Z"
   },
   {
    "duration": 4,
    "start_time": "2022-10-12T11:23:07.793Z"
   },
   {
    "duration": 4,
    "start_time": "2022-10-12T11:23:33.100Z"
   },
   {
    "duration": 4,
    "start_time": "2022-10-12T11:24:47.753Z"
   },
   {
    "duration": 4,
    "start_time": "2022-10-12T11:24:54.349Z"
   },
   {
    "duration": 3,
    "start_time": "2022-10-12T11:24:57.266Z"
   },
   {
    "duration": 1700,
    "start_time": "2022-10-12T13:22:47.692Z"
   },
   {
    "duration": 3,
    "start_time": "2022-10-12T13:23:04.584Z"
   },
   {
    "duration": 119,
    "start_time": "2022-10-12T13:23:29.961Z"
   },
   {
    "duration": 3,
    "start_time": "2022-10-12T13:23:34.715Z"
   },
   {
    "duration": 2412,
    "start_time": "2022-10-12T13:23:34.949Z"
   },
   {
    "duration": 3,
    "start_time": "2022-10-12T13:23:37.364Z"
   },
   {
    "duration": 1173,
    "start_time": "2022-10-12T13:23:39.804Z"
   },
   {
    "duration": 8,
    "start_time": "2022-10-12T13:23:42.737Z"
   },
   {
    "duration": 4,
    "start_time": "2022-10-12T13:24:10.815Z"
   },
   {
    "duration": 4,
    "start_time": "2022-10-12T13:24:13.366Z"
   },
   {
    "duration": 5,
    "start_time": "2022-10-12T13:24:23.525Z"
   },
   {
    "duration": 53,
    "start_time": "2022-10-12T13:24:35.769Z"
   },
   {
    "duration": 8,
    "start_time": "2022-10-12T13:24:53.307Z"
   },
   {
    "duration": 4055,
    "start_time": "2022-10-12T13:32:18.964Z"
   },
   {
    "duration": 260,
    "start_time": "2022-10-12T13:33:16.833Z"
   },
   {
    "duration": 11042,
    "start_time": "2022-10-12T13:33:33.361Z"
   },
   {
    "duration": 71,
    "start_time": "2022-10-12T13:33:44.405Z"
   },
   {
    "duration": 51,
    "start_time": "2022-10-12T13:33:49.310Z"
   },
   {
    "duration": 668,
    "start_time": "2022-10-12T13:34:16.376Z"
   },
   {
    "duration": 905,
    "start_time": "2022-10-12T13:35:27.935Z"
   },
   {
    "duration": 42,
    "start_time": "2022-10-12T13:35:33.448Z"
   },
   {
    "duration": 35,
    "start_time": "2022-10-12T13:35:48.717Z"
   },
   {
    "duration": 19,
    "start_time": "2022-10-12T13:36:56.471Z"
   },
   {
    "duration": 4,
    "start_time": "2022-10-12T13:37:03.325Z"
   },
   {
    "duration": 436,
    "start_time": "2022-10-12T13:37:06.709Z"
   },
   {
    "duration": 828,
    "start_time": "2022-10-12T13:37:07.573Z"
   },
   {
    "duration": 18,
    "start_time": "2022-10-12T13:37:09.011Z"
   },
   {
    "duration": 18,
    "start_time": "2022-10-12T13:37:09.363Z"
   },
   {
    "duration": 17,
    "start_time": "2022-10-12T13:37:33.300Z"
   },
   {
    "duration": 16,
    "start_time": "2022-10-12T13:38:14.963Z"
   },
   {
    "duration": 18,
    "start_time": "2022-10-12T13:38:15.175Z"
   },
   {
    "duration": 8029,
    "start_time": "2022-10-12T13:38:31.528Z"
   },
   {
    "duration": 5,
    "start_time": "2022-10-12T13:39:03.872Z"
   },
   {
    "duration": 461,
    "start_time": "2022-10-12T13:39:04.296Z"
   },
   {
    "duration": 903,
    "start_time": "2022-10-12T13:39:05.749Z"
   },
   {
    "duration": 54,
    "start_time": "2022-10-12T13:39:06.654Z"
   },
   {
    "duration": 30,
    "start_time": "2022-10-12T13:39:06.980Z"
   },
   {
    "duration": 14,
    "start_time": "2022-10-12T13:39:10.761Z"
   },
   {
    "duration": 3,
    "start_time": "2022-10-12T13:39:13.607Z"
   },
   {
    "duration": 5,
    "start_time": "2022-10-12T13:39:40.812Z"
   },
   {
    "duration": 18,
    "start_time": "2022-10-12T13:39:56.234Z"
   },
   {
    "duration": 464,
    "start_time": "2022-10-12T13:39:58.897Z"
   },
   {
    "duration": 854,
    "start_time": "2022-10-12T13:39:59.363Z"
   },
   {
    "duration": 21,
    "start_time": "2022-10-12T13:40:00.219Z"
   },
   {
    "duration": 18,
    "start_time": "2022-10-12T13:40:00.242Z"
   },
   {
    "duration": 4,
    "start_time": "2022-10-12T13:40:00.727Z"
   },
   {
    "duration": 307887,
    "start_time": "2022-10-12T13:41:19.839Z"
   },
   {
    "duration": 19,
    "start_time": "2022-10-12T13:46:48.928Z"
   },
   {
    "duration": 19,
    "start_time": "2022-10-12T13:46:56.882Z"
   },
   {
    "duration": 18,
    "start_time": "2022-10-12T13:47:12.357Z"
   },
   {
    "duration": 22,
    "start_time": "2022-10-12T13:47:17.942Z"
   },
   {
    "duration": 17,
    "start_time": "2022-10-12T13:47:38.239Z"
   },
   {
    "duration": 4,
    "start_time": "2022-10-12T13:47:42.046Z"
   },
   {
    "duration": 12636,
    "start_time": "2022-10-12T13:48:34.578Z"
   },
   {
    "duration": 18212,
    "start_time": "2022-10-12T13:48:51.702Z"
   },
   {
    "duration": 48,
    "start_time": "2022-10-12T13:49:18.328Z"
   },
   {
    "duration": 19,
    "start_time": "2022-10-12T13:49:20.738Z"
   },
   {
    "duration": 4,
    "start_time": "2022-10-12T13:49:43.399Z"
   },
   {
    "duration": 1017239,
    "start_time": "2022-10-12T13:49:56.534Z"
   },
   {
    "duration": 771,
    "start_time": "2022-10-12T14:35:36.929Z"
   },
   {
    "duration": 144,
    "start_time": "2022-10-12T14:35:40.097Z"
   },
   {
    "duration": 465,
    "start_time": "2022-10-12T14:35:40.244Z"
   },
   {
    "duration": 753,
    "start_time": "2022-10-12T14:35:40.711Z"
   },
   {
    "duration": 4,
    "start_time": "2022-10-12T14:35:41.466Z"
   },
   {
    "duration": 25,
    "start_time": "2022-10-12T14:35:41.472Z"
   },
   {
    "duration": 4,
    "start_time": "2022-10-12T14:35:41.499Z"
   },
   {
    "duration": 19,
    "start_time": "2022-10-12T14:35:41.902Z"
   },
   {
    "duration": 2546606,
    "start_time": "2022-10-12T14:35:43.116Z"
   },
   {
    "duration": 4967,
    "start_time": "2022-10-13T06:41:16.871Z"
   },
   {
    "duration": 498,
    "start_time": "2022-10-13T06:41:21.840Z"
   },
   {
    "duration": 3237,
    "start_time": "2022-10-13T06:41:22.340Z"
   },
   {
    "duration": 4,
    "start_time": "2022-10-13T06:41:25.579Z"
   },
   {
    "duration": 41,
    "start_time": "2022-10-13T06:41:25.585Z"
   },
   {
    "duration": 21,
    "start_time": "2022-10-13T06:41:25.628Z"
   },
   {
    "duration": 52,
    "start_time": "2022-10-13T06:41:25.651Z"
   },
   {
    "duration": 104,
    "start_time": "2022-10-13T06:45:23.186Z"
   },
   {
    "duration": 2878,
    "start_time": "2022-10-13T06:45:25.724Z"
   },
   {
    "duration": 16,
    "start_time": "2022-10-13T06:45:33.512Z"
   },
   {
    "duration": 4,
    "start_time": "2022-10-13T06:46:00.725Z"
   },
   {
    "duration": 432,
    "start_time": "2022-10-13T06:46:00.880Z"
   },
   {
    "duration": 805,
    "start_time": "2022-10-13T06:46:01.314Z"
   },
   {
    "duration": 4,
    "start_time": "2022-10-13T06:46:02.121Z"
   },
   {
    "duration": 33,
    "start_time": "2022-10-13T06:46:02.126Z"
   },
   {
    "duration": 3,
    "start_time": "2022-10-13T06:46:02.161Z"
   },
   {
    "duration": 33,
    "start_time": "2022-10-13T06:46:02.166Z"
   },
   {
    "duration": 4911,
    "start_time": "2022-10-13T06:46:02.743Z"
   },
   {
    "duration": 12,
    "start_time": "2022-10-13T06:46:09.194Z"
   },
   {
    "duration": 4,
    "start_time": "2022-10-13T06:46:48.072Z"
   },
   {
    "duration": 424,
    "start_time": "2022-10-13T06:46:48.232Z"
   },
   {
    "duration": 747,
    "start_time": "2022-10-13T06:46:48.658Z"
   },
   {
    "duration": 4,
    "start_time": "2022-10-13T06:46:50.661Z"
   },
   {
    "duration": 29,
    "start_time": "2022-10-13T06:46:51.381Z"
   },
   {
    "duration": 4,
    "start_time": "2022-10-13T06:46:51.644Z"
   },
   {
    "duration": 26,
    "start_time": "2022-10-13T06:46:52.159Z"
   },
   {
    "duration": 17,
    "start_time": "2022-10-13T06:46:54.771Z"
   },
   {
    "duration": 5770,
    "start_time": "2022-10-13T06:46:55.830Z"
   },
   {
    "duration": 6,
    "start_time": "2022-10-13T06:47:05.457Z"
   },
   {
    "duration": 14,
    "start_time": "2022-10-13T06:47:10.987Z"
   },
   {
    "duration": 6,
    "start_time": "2022-10-13T06:48:02.006Z"
   },
   {
    "duration": 310,
    "start_time": "2022-10-13T06:48:10.308Z"
   },
   {
    "duration": 5,
    "start_time": "2022-10-13T06:48:17.870Z"
   },
   {
    "duration": 5,
    "start_time": "2022-10-13T06:48:25.054Z"
   },
   {
    "duration": 5,
    "start_time": "2022-10-13T06:49:45.692Z"
   },
   {
    "duration": 787,
    "start_time": "2022-10-13T06:49:57.487Z"
   },
   {
    "duration": 3,
    "start_time": "2022-10-13T06:49:59.023Z"
   },
   {
    "duration": 22,
    "start_time": "2022-10-13T06:49:59.310Z"
   },
   {
    "duration": 4,
    "start_time": "2022-10-13T06:49:59.471Z"
   },
   {
    "duration": 24,
    "start_time": "2022-10-13T06:49:59.703Z"
   },
   {
    "duration": 106,
    "start_time": "2022-10-13T06:49:59.982Z"
   },
   {
    "duration": 44705,
    "start_time": "2022-10-13T06:50:00.612Z"
   },
   {
    "duration": 7,
    "start_time": "2022-10-13T06:50:45.319Z"
   },
   {
    "duration": 30,
    "start_time": "2022-10-13T06:50:45.328Z"
   },
   {
    "duration": 0,
    "start_time": "2022-10-13T06:50:45.360Z"
   },
   {
    "duration": 6,
    "start_time": "2022-10-13T06:55:11.673Z"
   },
   {
    "duration": 20,
    "start_time": "2022-10-13T06:55:18.276Z"
   },
   {
    "duration": 14,
    "start_time": "2022-10-13T06:55:19.482Z"
   },
   {
    "duration": 3,
    "start_time": "2022-10-13T06:55:48.533Z"
   },
   {
    "duration": 430,
    "start_time": "2022-10-13T06:55:48.687Z"
   },
   {
    "duration": 734,
    "start_time": "2022-10-13T06:55:49.120Z"
   },
   {
    "duration": 4,
    "start_time": "2022-10-13T06:55:49.856Z"
   },
   {
    "duration": 49,
    "start_time": "2022-10-13T06:55:49.861Z"
   },
   {
    "duration": 4,
    "start_time": "2022-10-13T06:55:49.912Z"
   },
   {
    "duration": 36,
    "start_time": "2022-10-13T06:55:49.917Z"
   },
   {
    "duration": 104,
    "start_time": "2022-10-13T06:55:49.955Z"
   },
   {
    "duration": 44848,
    "start_time": "2022-10-13T06:55:50.061Z"
   },
   {
    "duration": 7,
    "start_time": "2022-10-13T06:56:34.912Z"
   },
   {
    "duration": 16,
    "start_time": "2022-10-13T06:56:34.921Z"
   },
   {
    "duration": 25,
    "start_time": "2022-10-13T06:56:47.056Z"
   },
   {
    "duration": 11,
    "start_time": "2022-10-13T06:57:07.102Z"
   },
   {
    "duration": 5,
    "start_time": "2022-10-13T06:57:30.355Z"
   },
   {
    "duration": 8,
    "start_time": "2022-10-13T06:57:31.561Z"
   },
   {
    "duration": 4,
    "start_time": "2022-10-13T07:03:56.009Z"
   },
   {
    "duration": 4,
    "start_time": "2022-10-13T07:04:45.444Z"
   },
   {
    "duration": 23,
    "start_time": "2022-10-13T07:05:27.034Z"
   },
   {
    "duration": 8,
    "start_time": "2022-10-13T07:05:38.165Z"
   },
   {
    "duration": 17,
    "start_time": "2022-10-13T07:05:56.698Z"
   },
   {
    "duration": 7,
    "start_time": "2022-10-13T07:06:22.242Z"
   },
   {
    "duration": 3,
    "start_time": "2022-10-13T07:06:31.471Z"
   },
   {
    "duration": 413,
    "start_time": "2022-10-13T07:06:31.631Z"
   },
   {
    "duration": 760,
    "start_time": "2022-10-13T07:06:32.046Z"
   },
   {
    "duration": 4,
    "start_time": "2022-10-13T07:06:32.808Z"
   },
   {
    "duration": 118,
    "start_time": "2022-10-13T07:06:32.814Z"
   },
   {
    "duration": 47307,
    "start_time": "2022-10-13T07:06:32.934Z"
   },
   {
    "duration": 7,
    "start_time": "2022-10-13T07:07:20.242Z"
   },
   {
    "duration": 10,
    "start_time": "2022-10-13T07:07:20.251Z"
   },
   {
    "duration": 14,
    "start_time": "2022-10-13T07:07:20.264Z"
   },
   {
    "duration": 19,
    "start_time": "2022-10-13T07:07:20.280Z"
   },
   {
    "duration": 14,
    "start_time": "2022-10-13T07:07:20.301Z"
   },
   {
    "duration": 4,
    "start_time": "2022-10-13T07:07:21.428Z"
   },
   {
    "duration": 25,
    "start_time": "2022-10-13T07:07:47.054Z"
   },
   {
    "duration": 4,
    "start_time": "2022-10-13T07:07:56.856Z"
   },
   {
    "duration": 4,
    "start_time": "2022-10-13T07:08:03.147Z"
   },
   {
    "duration": 4,
    "start_time": "2022-10-13T07:08:15.582Z"
   },
   {
    "duration": 4,
    "start_time": "2022-10-13T07:08:19.732Z"
   },
   {
    "duration": 436,
    "start_time": "2022-10-13T07:08:19.887Z"
   },
   {
    "duration": 757,
    "start_time": "2022-10-13T07:08:20.325Z"
   },
   {
    "duration": 4,
    "start_time": "2022-10-13T07:08:21.085Z"
   },
   {
    "duration": 107,
    "start_time": "2022-10-13T07:08:21.096Z"
   },
   {
    "duration": 46875,
    "start_time": "2022-10-13T07:08:21.205Z"
   },
   {
    "duration": 8,
    "start_time": "2022-10-13T07:09:08.082Z"
   },
   {
    "duration": 15,
    "start_time": "2022-10-13T07:09:08.098Z"
   },
   {
    "duration": 19,
    "start_time": "2022-10-13T07:09:08.115Z"
   },
   {
    "duration": 13,
    "start_time": "2022-10-13T07:09:08.137Z"
   },
   {
    "duration": 15,
    "start_time": "2022-10-13T07:09:08.153Z"
   },
   {
    "duration": 4,
    "start_time": "2022-10-13T07:37:45.372Z"
   },
   {
    "duration": 8,
    "start_time": "2022-10-13T07:37:52.525Z"
   },
   {
    "duration": 5,
    "start_time": "2022-10-13T07:37:58.726Z"
   },
   {
    "duration": 4,
    "start_time": "2022-10-13T07:38:12.863Z"
   },
   {
    "duration": 23,
    "start_time": "2022-10-13T07:40:04.720Z"
   },
   {
    "duration": 7,
    "start_time": "2022-10-13T07:40:10.755Z"
   },
   {
    "duration": 22,
    "start_time": "2022-10-13T07:40:19.464Z"
   },
   {
    "duration": 10,
    "start_time": "2022-10-13T07:40:30.073Z"
   },
   {
    "duration": 6,
    "start_time": "2022-10-13T07:40:35.869Z"
   },
   {
    "duration": 22,
    "start_time": "2022-10-13T07:40:40.688Z"
   },
   {
    "duration": 18,
    "start_time": "2022-10-13T07:40:59.117Z"
   },
   {
    "duration": 4,
    "start_time": "2022-10-13T07:41:10.785Z"
   },
   {
    "duration": 7,
    "start_time": "2022-10-13T07:41:40.774Z"
   },
   {
    "duration": 5,
    "start_time": "2022-10-13T07:41:52.037Z"
   },
   {
    "duration": 30,
    "start_time": "2022-10-13T07:42:03.030Z"
   },
   {
    "duration": 48,
    "start_time": "2022-10-13T07:42:41.857Z"
   },
   {
    "duration": 257,
    "start_time": "2022-10-13T07:42:43.738Z"
   },
   {
    "duration": 5,
    "start_time": "2022-10-13T07:43:19.898Z"
   },
   {
    "duration": 5,
    "start_time": "2022-10-13T07:44:29.187Z"
   },
   {
    "duration": 5,
    "start_time": "2022-10-13T07:44:51.285Z"
   },
   {
    "duration": 3,
    "start_time": "2022-10-13T07:44:57.607Z"
   },
   {
    "duration": 4,
    "start_time": "2022-10-13T07:45:02.312Z"
   },
   {
    "duration": 3,
    "start_time": "2022-10-13T07:45:09.940Z"
   },
   {
    "duration": 29,
    "start_time": "2022-10-13T07:45:28.111Z"
   },
   {
    "duration": 541,
    "start_time": "2022-10-13T07:45:28.246Z"
   },
   {
    "duration": 852,
    "start_time": "2022-10-13T07:45:28.790Z"
   },
   {
    "duration": 5,
    "start_time": "2022-10-13T07:45:29.644Z"
   },
   {
    "duration": 140,
    "start_time": "2022-10-13T07:45:29.651Z"
   },
   {
    "duration": 50118,
    "start_time": "2022-10-13T07:45:29.793Z"
   },
   {
    "duration": 9,
    "start_time": "2022-10-13T07:46:19.913Z"
   },
   {
    "duration": 12,
    "start_time": "2022-10-13T07:46:19.924Z"
   },
   {
    "duration": 14,
    "start_time": "2022-10-13T07:46:19.939Z"
   },
   {
    "duration": 10,
    "start_time": "2022-10-13T07:46:19.955Z"
   },
   {
    "duration": 60,
    "start_time": "2022-10-13T07:46:19.967Z"
   },
   {
    "duration": 208,
    "start_time": "2022-10-13T07:46:20.029Z"
   },
   {
    "duration": 4,
    "start_time": "2022-10-13T07:46:27.462Z"
   },
   {
    "duration": 1847,
    "start_time": "2022-10-13T07:46:29.157Z"
   },
   {
    "duration": 5,
    "start_time": "2022-10-13T07:46:59.166Z"
   },
   {
    "duration": 5,
    "start_time": "2022-10-13T07:47:05.789Z"
   },
   {
    "duration": 3,
    "start_time": "2022-10-13T07:47:25.860Z"
   },
   {
    "duration": 7,
    "start_time": "2022-10-13T07:47:32.890Z"
   },
   {
    "duration": 840,
    "start_time": "2022-10-13T07:48:00.026Z"
   },
   {
    "duration": 5,
    "start_time": "2022-10-13T07:48:00.868Z"
   },
   {
    "duration": 203,
    "start_time": "2022-10-13T07:48:00.875Z"
   },
   {
    "duration": 82124,
    "start_time": "2022-10-13T07:48:01.100Z"
   },
   {
    "duration": 7,
    "start_time": "2022-10-13T07:49:23.226Z"
   },
   {
    "duration": 13,
    "start_time": "2022-10-13T07:49:23.235Z"
   },
   {
    "duration": 10,
    "start_time": "2022-10-13T07:49:23.251Z"
   },
   {
    "duration": 9,
    "start_time": "2022-10-13T07:49:23.262Z"
   },
   {
    "duration": 88,
    "start_time": "2022-10-13T07:49:23.272Z"
   },
   {
    "duration": 361,
    "start_time": "2022-10-13T07:49:23.362Z"
   },
   {
    "duration": 4,
    "start_time": "2022-10-13T07:49:23.725Z"
   },
   {
    "duration": 3367,
    "start_time": "2022-10-13T07:49:23.730Z"
   },
   {
    "duration": 98,
    "start_time": "2022-10-13T07:49:27.100Z"
   },
   {
    "duration": 98,
    "start_time": "2022-10-13T08:56:56.395Z"
   },
   {
    "duration": 22,
    "start_time": "2022-10-13T08:57:22.434Z"
   },
   {
    "duration": 27,
    "start_time": "2022-10-13T09:00:55.117Z"
   },
   {
    "duration": 117,
    "start_time": "2022-10-13T09:02:21.597Z"
   },
   {
    "duration": 269,
    "start_time": "2022-10-13T09:02:27.913Z"
   },
   {
    "duration": 31,
    "start_time": "2022-10-13T09:02:47.890Z"
   },
   {
    "duration": 7,
    "start_time": "2022-10-13T09:03:30.030Z"
   },
   {
    "duration": 22,
    "start_time": "2022-10-13T09:05:00.401Z"
   },
   {
    "duration": 31,
    "start_time": "2022-10-13T09:05:04.374Z"
   },
   {
    "duration": 7,
    "start_time": "2022-10-13T09:05:39.982Z"
   },
   {
    "duration": 24,
    "start_time": "2022-10-13T09:05:42.684Z"
   },
   {
    "duration": 25,
    "start_time": "2022-10-13T09:05:48.353Z"
   },
   {
    "duration": 4,
    "start_time": "2022-10-13T09:05:53.690Z"
   },
   {
    "duration": 20,
    "start_time": "2022-10-13T09:05:55.965Z"
   },
   {
    "duration": 5,
    "start_time": "2022-10-13T09:07:00.525Z"
   },
   {
    "duration": 4,
    "start_time": "2022-10-13T09:07:03.673Z"
   },
   {
    "duration": 19,
    "start_time": "2022-10-13T09:09:12.195Z"
   },
   {
    "duration": 6,
    "start_time": "2022-10-13T09:10:07.359Z"
   },
   {
    "duration": 4,
    "start_time": "2022-10-13T09:10:10.572Z"
   },
   {
    "duration": 6,
    "start_time": "2022-10-13T09:11:15.947Z"
   },
   {
    "duration": 461,
    "start_time": "2022-10-13T09:11:16.068Z"
   },
   {
    "duration": 799,
    "start_time": "2022-10-13T09:11:16.531Z"
   },
   {
    "duration": 5,
    "start_time": "2022-10-13T09:11:17.332Z"
   },
   {
    "duration": 191,
    "start_time": "2022-10-13T09:11:17.340Z"
   },
   {
    "duration": 84394,
    "start_time": "2022-10-13T09:11:17.534Z"
   },
   {
    "duration": 8,
    "start_time": "2022-10-13T09:12:41.930Z"
   },
   {
    "duration": 9,
    "start_time": "2022-10-13T09:12:41.940Z"
   },
   {
    "duration": 16,
    "start_time": "2022-10-13T09:12:41.952Z"
   },
   {
    "duration": 32,
    "start_time": "2022-10-13T09:12:41.971Z"
   },
   {
    "duration": 66,
    "start_time": "2022-10-13T09:12:42.005Z"
   },
   {
    "duration": 11,
    "start_time": "2022-10-13T09:13:01.648Z"
   },
   {
    "duration": 6,
    "start_time": "2022-10-13T09:13:02.102Z"
   },
   {
    "duration": 36,
    "start_time": "2022-10-13T09:13:03.153Z"
   },
   {
    "duration": 4,
    "start_time": "2022-10-13T09:13:24.864Z"
   },
   {
    "duration": 25290,
    "start_time": "2022-10-13T09:13:34.426Z"
   },
   {
    "duration": 18,
    "start_time": "2022-10-13T09:24:26.514Z"
   },
   {
    "duration": 16,
    "start_time": "2022-10-13T09:24:46.607Z"
   },
   {
    "duration": 6,
    "start_time": "2022-10-13T09:24:50.285Z"
   },
   {
    "duration": 4,
    "start_time": "2022-10-13T09:25:25.521Z"
   },
   {
    "duration": 8,
    "start_time": "2022-10-13T09:25:33.193Z"
   },
   {
    "duration": 4,
    "start_time": "2022-10-13T09:25:34.241Z"
   },
   {
    "duration": 23247,
    "start_time": "2022-10-13T09:25:34.983Z"
   },
   {
    "duration": 9,
    "start_time": "2022-10-13T09:27:54.615Z"
   },
   {
    "duration": 5,
    "start_time": "2022-10-13T09:27:55.140Z"
   },
   {
    "duration": 95446,
    "start_time": "2022-10-13T09:27:55.653Z"
   },
   {
    "duration": 19,
    "start_time": "2022-10-13T09:30:18.587Z"
   },
   {
    "duration": 4,
    "start_time": "2022-10-13T09:30:25.477Z"
   },
   {
    "duration": 5,
    "start_time": "2022-10-13T09:30:40.609Z"
   },
   {
    "duration": 5,
    "start_time": "2022-10-13T09:33:40.840Z"
   },
   {
    "duration": 707,
    "start_time": "2022-10-13T09:33:40.990Z"
   },
   {
    "duration": 855,
    "start_time": "2022-10-13T09:33:41.700Z"
   },
   {
    "duration": 6,
    "start_time": "2022-10-13T09:33:42.557Z"
   },
   {
    "duration": 196,
    "start_time": "2022-10-13T09:33:42.565Z"
   },
   {
    "duration": 87286,
    "start_time": "2022-10-13T09:33:42.764Z"
   },
   {
    "duration": 8,
    "start_time": "2022-10-13T09:35:10.052Z"
   },
   {
    "duration": 16,
    "start_time": "2022-10-13T09:35:10.061Z"
   },
   {
    "duration": 22,
    "start_time": "2022-10-13T09:35:10.080Z"
   },
   {
    "duration": 24,
    "start_time": "2022-10-13T09:35:10.104Z"
   },
   {
    "duration": 62,
    "start_time": "2022-10-13T09:35:10.130Z"
   },
   {
    "duration": 338,
    "start_time": "2022-10-13T09:35:10.193Z"
   },
   {
    "duration": 22,
    "start_time": "2022-10-13T09:35:10.534Z"
   },
   {
    "duration": 0,
    "start_time": "2022-10-13T09:35:10.558Z"
   },
   {
    "duration": 0,
    "start_time": "2022-10-13T09:35:10.559Z"
   },
   {
    "duration": 163,
    "start_time": "2022-10-13T09:35:22.446Z"
   },
   {
    "duration": 9,
    "start_time": "2022-10-13T09:35:22.798Z"
   },
   {
    "duration": 4802,
    "start_time": "2022-10-13T09:37:31.551Z"
   },
   {
    "duration": 515,
    "start_time": "2022-10-13T09:37:36.356Z"
   },
   {
    "duration": 833,
    "start_time": "2022-10-13T09:37:36.873Z"
   },
   {
    "duration": 4,
    "start_time": "2022-10-13T09:37:37.708Z"
   },
   {
    "duration": 206,
    "start_time": "2022-10-13T09:37:37.715Z"
   },
   {
    "duration": 49884,
    "start_time": "2022-10-13T09:37:37.923Z"
   },
   {
    "duration": 2302,
    "start_time": "2022-10-13T09:38:27.809Z"
   },
   {
    "duration": 0,
    "start_time": "2022-10-13T09:38:30.114Z"
   },
   {
    "duration": 0,
    "start_time": "2022-10-13T09:38:30.118Z"
   },
   {
    "duration": 0,
    "start_time": "2022-10-13T09:38:30.119Z"
   },
   {
    "duration": 0,
    "start_time": "2022-10-13T09:38:30.121Z"
   },
   {
    "duration": 0,
    "start_time": "2022-10-13T09:38:30.123Z"
   },
   {
    "duration": 0,
    "start_time": "2022-10-13T09:38:30.125Z"
   },
   {
    "duration": 0,
    "start_time": "2022-10-13T09:38:30.130Z"
   },
   {
    "duration": 0,
    "start_time": "2022-10-13T09:38:30.131Z"
   },
   {
    "duration": 0,
    "start_time": "2022-10-13T09:38:30.132Z"
   },
   {
    "duration": 0,
    "start_time": "2022-10-13T09:38:30.134Z"
   },
   {
    "duration": 0,
    "start_time": "2022-10-13T09:38:30.135Z"
   },
   {
    "duration": 0,
    "start_time": "2022-10-13T09:38:30.137Z"
   },
   {
    "duration": 0,
    "start_time": "2022-10-13T09:38:30.138Z"
   },
   {
    "duration": 7,
    "start_time": "2022-10-13T09:38:30.893Z"
   },
   {
    "duration": 4484,
    "start_time": "2022-10-13T09:38:40.358Z"
   },
   {
    "duration": 526,
    "start_time": "2022-10-13T09:38:44.844Z"
   },
   {
    "duration": 818,
    "start_time": "2022-10-13T09:38:45.372Z"
   },
   {
    "duration": 5,
    "start_time": "2022-10-13T09:38:46.192Z"
   },
   {
    "duration": 167,
    "start_time": "2022-10-13T09:38:46.198Z"
   },
   {
    "duration": 78700,
    "start_time": "2022-10-13T09:38:46.367Z"
   },
   {
    "duration": 11,
    "start_time": "2022-10-13T09:40:05.069Z"
   },
   {
    "duration": 17,
    "start_time": "2022-10-13T09:40:05.082Z"
   },
   {
    "duration": 14,
    "start_time": "2022-10-13T09:40:05.101Z"
   },
   {
    "duration": 6,
    "start_time": "2022-10-13T09:40:05.118Z"
   },
   {
    "duration": 86,
    "start_time": "2022-10-13T09:40:05.126Z"
   },
   {
    "duration": 5,
    "start_time": "2022-10-13T09:40:05.214Z"
   },
   {
    "duration": 7,
    "start_time": "2022-10-13T09:40:05.220Z"
   },
   {
    "duration": 10,
    "start_time": "2022-10-13T09:40:05.229Z"
   },
   {
    "duration": 14,
    "start_time": "2022-10-13T09:40:05.240Z"
   },
   {
    "duration": 17,
    "start_time": "2022-10-13T09:40:05.256Z"
   },
   {
    "duration": 19,
    "start_time": "2022-10-13T09:40:05.276Z"
   },
   {
    "duration": 92606,
    "start_time": "2022-10-13T09:40:05.298Z"
   },
   {
    "duration": 92,
    "start_time": "2022-10-13T09:41:37.906Z"
   },
   {
    "duration": 240,
    "start_time": "2022-10-13T09:41:38.002Z"
   },
   {
    "duration": 569,
    "start_time": "2022-10-13T09:42:30.113Z"
   },
   {
    "duration": 112,
    "start_time": "2022-10-13T09:42:43.714Z"
   },
   {
    "duration": 101,
    "start_time": "2022-10-13T11:34:42.135Z"
   },
   {
    "duration": 173,
    "start_time": "2022-10-13T11:35:20.340Z"
   },
   {
    "duration": 769,
    "start_time": "2022-10-13T11:35:20.515Z"
   },
   {
    "duration": 812,
    "start_time": "2022-10-13T11:35:21.287Z"
   },
   {
    "duration": 6,
    "start_time": "2022-10-13T11:35:22.101Z"
   },
   {
    "duration": 191,
    "start_time": "2022-10-13T11:35:22.109Z"
   },
   {
    "duration": 75246,
    "start_time": "2022-10-13T11:35:22.302Z"
   },
   {
    "duration": 7,
    "start_time": "2022-10-13T11:36:37.550Z"
   },
   {
    "duration": 20,
    "start_time": "2022-10-13T11:36:37.559Z"
   },
   {
    "duration": 29,
    "start_time": "2022-10-13T11:36:37.581Z"
   },
   {
    "duration": 21,
    "start_time": "2022-10-13T11:36:37.612Z"
   },
   {
    "duration": 76,
    "start_time": "2022-10-13T11:36:37.635Z"
   },
   {
    "duration": 319,
    "start_time": "2022-10-13T11:36:37.713Z"
   },
   {
    "duration": 3,
    "start_time": "2022-10-13T11:36:38.033Z"
   },
   {
    "duration": 72,
    "start_time": "2022-10-13T11:36:38.037Z"
   },
   {
    "duration": 98,
    "start_time": "2022-10-13T11:36:38.111Z"
   },
   {
    "duration": 6,
    "start_time": "2022-10-13T11:37:22.564Z"
   },
   {
    "duration": 434,
    "start_time": "2022-10-13T11:37:22.670Z"
   },
   {
    "duration": 773,
    "start_time": "2022-10-13T11:37:23.106Z"
   },
   {
    "duration": 4,
    "start_time": "2022-10-13T11:37:26.200Z"
   },
   {
    "duration": 805,
    "start_time": "2022-10-13T11:37:39.300Z"
   },
   {
    "duration": 3,
    "start_time": "2022-10-13T11:37:40.750Z"
   },
   {
    "duration": 5,
    "start_time": "2022-10-13T11:37:41.052Z"
   },
   {
    "duration": 3240,
    "start_time": "2022-10-13T11:37:41.188Z"
   },
   {
    "duration": 1430602,
    "start_time": "2022-10-13T11:37:44.430Z"
   },
   {
    "duration": 52,
    "start_time": "2022-10-13T12:01:35.033Z"
   },
   {
    "duration": 47,
    "start_time": "2022-10-13T12:01:35.097Z"
   },
   {
    "duration": 11,
    "start_time": "2022-10-13T12:01:35.146Z"
   },
   {
    "duration": 24,
    "start_time": "2022-10-13T12:01:35.158Z"
   },
   {
    "duration": 1378,
    "start_time": "2022-10-13T12:01:35.196Z"
   },
   {
    "duration": 6370,
    "start_time": "2022-10-13T12:01:36.576Z"
   },
   {
    "duration": 3,
    "start_time": "2022-10-13T12:01:42.948Z"
   },
   {
    "duration": 7052,
    "start_time": "2022-10-13T12:01:42.953Z"
   },
   {
    "duration": 27,
    "start_time": "2022-10-13T12:01:50.006Z"
   },
   {
    "duration": 133,
    "start_time": "2022-10-13T12:04:55.328Z"
   },
   {
    "duration": 4,
    "start_time": "2022-10-13T12:05:02.683Z"
   },
   {
    "duration": 125,
    "start_time": "2022-10-13T12:05:08.834Z"
   },
   {
    "duration": 4,
    "start_time": "2022-10-13T12:05:09.329Z"
   },
   {
    "duration": 7,
    "start_time": "2022-10-13T12:06:03.579Z"
   },
   {
    "duration": 507,
    "start_time": "2022-10-13T12:06:03.705Z"
   },
   {
    "duration": 823,
    "start_time": "2022-10-13T12:06:04.214Z"
   },
   {
    "duration": 188,
    "start_time": "2022-10-13T12:06:05.039Z"
   },
   {
    "duration": 16,
    "start_time": "2022-10-13T12:06:05.230Z"
   },
   {
    "duration": 3323,
    "start_time": "2022-10-13T12:06:05.249Z"
   },
   {
    "duration": 1431560,
    "start_time": "2022-10-13T12:06:08.574Z"
   },
   {
    "duration": 65,
    "start_time": "2022-10-13T12:30:00.136Z"
   },
   {
    "duration": 465,
    "start_time": "2022-10-13T12:30:00.202Z"
   },
   {
    "duration": 16,
    "start_time": "2022-10-13T12:30:00.669Z"
   },
   {
    "duration": 19,
    "start_time": "2022-10-13T12:30:00.687Z"
   },
   {
    "duration": 39,
    "start_time": "2022-10-13T12:30:00.708Z"
   },
   {
    "duration": 1322,
    "start_time": "2022-10-13T12:30:00.749Z"
   },
   {
    "duration": 348,
    "start_time": "2022-10-13T12:30:02.073Z"
   },
   {
    "duration": 0,
    "start_time": "2022-10-13T12:30:02.423Z"
   },
   {
    "duration": 0,
    "start_time": "2022-10-13T12:30:02.425Z"
   },
   {
    "duration": 0,
    "start_time": "2022-10-13T12:30:02.427Z"
   },
   {
    "duration": 0,
    "start_time": "2022-10-13T12:30:02.429Z"
   },
   {
    "duration": 0,
    "start_time": "2022-10-13T12:30:02.431Z"
   },
   {
    "duration": 0,
    "start_time": "2022-10-13T12:30:02.432Z"
   },
   {
    "duration": 0,
    "start_time": "2022-10-13T12:30:02.433Z"
   },
   {
    "duration": 0,
    "start_time": "2022-10-13T12:30:02.434Z"
   },
   {
    "duration": 13,
    "start_time": "2022-10-13T12:35:04.835Z"
   },
   {
    "duration": 4,
    "start_time": "2022-10-13T12:35:05.290Z"
   },
   {
    "duration": 48,
    "start_time": "2022-10-13T12:36:40.730Z"
   },
   {
    "duration": 6,
    "start_time": "2022-10-13T12:36:41.021Z"
   },
   {
    "duration": 8,
    "start_time": "2022-10-13T12:36:41.540Z"
   },
   {
    "duration": 5128,
    "start_time": "2022-10-13T12:37:07.020Z"
   },
   {
    "duration": 517,
    "start_time": "2022-10-13T12:37:12.150Z"
   },
   {
    "duration": 3202,
    "start_time": "2022-10-13T12:37:12.669Z"
   },
   {
    "duration": 175,
    "start_time": "2022-10-13T12:37:15.873Z"
   },
   {
    "duration": 4,
    "start_time": "2022-10-13T12:37:16.050Z"
   },
   {
    "duration": 3247,
    "start_time": "2022-10-13T12:37:16.056Z"
   },
   {
    "duration": 1400292,
    "start_time": "2022-10-13T12:37:19.305Z"
   },
   {
    "duration": 59,
    "start_time": "2022-10-13T13:00:39.598Z"
   },
   {
    "duration": 441,
    "start_time": "2022-10-13T13:00:39.658Z"
   },
   {
    "duration": 13,
    "start_time": "2022-10-13T13:00:40.101Z"
   },
   {
    "duration": 14,
    "start_time": "2022-10-13T13:00:40.116Z"
   },
   {
    "duration": 24,
    "start_time": "2022-10-13T13:00:40.132Z"
   },
   {
    "duration": 1283,
    "start_time": "2022-10-13T13:00:40.157Z"
   },
   {
    "duration": 8,
    "start_time": "2022-10-13T13:00:41.442Z"
   },
   {
    "duration": 8,
    "start_time": "2022-10-13T13:00:41.452Z"
   },
   {
    "duration": 4,
    "start_time": "2022-10-13T13:00:41.462Z"
   },
   {
    "duration": 9,
    "start_time": "2022-10-13T13:00:41.468Z"
   },
   {
    "duration": 25,
    "start_time": "2022-10-13T13:00:41.479Z"
   },
   {
    "duration": 4,
    "start_time": "2022-10-13T13:00:41.505Z"
   },
   {
    "duration": 5374,
    "start_time": "2022-10-13T13:19:25.384Z"
   },
   {
    "duration": 533,
    "start_time": "2022-10-13T13:19:30.760Z"
   },
   {
    "duration": 3262,
    "start_time": "2022-10-13T13:19:31.295Z"
   },
   {
    "duration": 13,
    "start_time": "2022-10-13T13:19:35.914Z"
   },
   {
    "duration": 4,
    "start_time": "2022-10-13T13:19:36.208Z"
   },
   {
    "duration": 188,
    "start_time": "2022-10-13T13:19:36.611Z"
   },
   {
    "duration": 76357,
    "start_time": "2022-10-13T13:19:37.432Z"
   },
   {
    "duration": 11,
    "start_time": "2022-10-13T13:21:05.625Z"
   },
   {
    "duration": 34,
    "start_time": "2022-10-13T13:21:06.674Z"
   },
   {
    "duration": 4,
    "start_time": "2022-10-13T13:21:07.583Z"
   },
   {
    "duration": 9,
    "start_time": "2022-10-13T13:21:08.477Z"
   },
   {
    "duration": 8,
    "start_time": "2022-10-13T13:21:08.961Z"
   },
   {
    "duration": 65,
    "start_time": "2022-10-13T13:21:09.360Z"
   },
   {
    "duration": 2,
    "start_time": "2022-10-13T13:21:10.335Z"
   },
   {
    "duration": 2,
    "start_time": "2022-10-13T13:21:10.516Z"
   },
   {
    "duration": 3,
    "start_time": "2022-10-13T13:21:10.805Z"
   },
   {
    "duration": 2,
    "start_time": "2022-10-13T13:21:10.867Z"
   },
   {
    "duration": 13,
    "start_time": "2022-10-13T13:21:11.560Z"
   },
   {
    "duration": 4,
    "start_time": "2022-10-13T13:21:12.145Z"
   },
   {
    "duration": 88193,
    "start_time": "2022-10-13T13:21:13.104Z"
   },
   {
    "duration": 5,
    "start_time": "2022-10-13T13:22:41.300Z"
   },
   {
    "duration": 102,
    "start_time": "2022-10-13T13:22:41.397Z"
   }
  ],
  "kernelspec": {
   "display_name": "Python 3 (ipykernel)",
   "language": "python",
   "name": "python3"
  },
  "language_info": {
   "codemirror_mode": {
    "name": "ipython",
    "version": 3
   },
   "file_extension": ".py",
   "mimetype": "text/x-python",
   "name": "python",
   "nbconvert_exporter": "python",
   "pygments_lexer": "ipython3",
   "version": "3.9.7"
  },
  "toc": {
   "base_numbering": 1,
   "nav_menu": {},
   "number_sections": true,
   "sideBar": true,
   "skip_h1_title": true,
   "title_cell": "Содержание",
   "title_sidebar": "Contents",
   "toc_cell": true,
   "toc_position": {
    "height": "calc(100% - 180px)",
    "left": "10px",
    "top": "150px",
    "width": "302.391px"
   },
   "toc_section_display": true,
   "toc_window_display": true
  }
 },
 "nbformat": 4,
 "nbformat_minor": 2
}
