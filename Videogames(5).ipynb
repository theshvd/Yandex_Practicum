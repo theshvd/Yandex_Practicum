{
 "cells": [
  {
   "cell_type": "markdown",
   "metadata": {
    "toc": true
   },
   "source": [
    "<h1>Оглавление<span class=\"tocSkip\"></span></h1>\n",
    "<div class=\"toc\"><ul class=\"toc-item\"><li><span><a href=\"#Изучение-данных\" data-toc-modified-id=\"Изучение-данных-1\"><span class=\"toc-item-num\">1&nbsp;&nbsp;</span>Изучение данных</a></span></li><li><span><a href=\"#Подготовка-данных\" data-toc-modified-id=\"Подготовка-данных-2\"><span class=\"toc-item-num\">2&nbsp;&nbsp;</span>Подготовка данных</a></span><ul class=\"toc-item\"><li><span><a href=\"#Преобразование-типов,-работа-с-пропусками,-добавление-столбцов\" data-toc-modified-id=\"Преобразование-типов,-работа-с-пропусками,-добавление-столбцов-2.1\"><span class=\"toc-item-num\">2.1&nbsp;&nbsp;</span>Преобразование типов, работа с пропусками, добавление столбцов</a></span></li></ul></li><li><span><a href=\"#Исследовательский-анализ-данных\" data-toc-modified-id=\"Исследовательский-анализ-данных-3\"><span class=\"toc-item-num\">3&nbsp;&nbsp;</span>Исследовательский анализ данных</a></span><ul class=\"toc-item\"><li><span><a href=\"#Количество-игр-в-разные-годы\" data-toc-modified-id=\"Количество-игр-в-разные-годы-3.1\"><span class=\"toc-item-num\">3.1&nbsp;&nbsp;</span>Количество игр в разные годы</a></span></li><li><span><a href=\"#Гистограммы-продаж-по-платформам,-отбор-прибыльных-платформ\" data-toc-modified-id=\"Гистограммы-продаж-по-платформам,-отбор-прибыльных-платформ-3.2\"><span class=\"toc-item-num\">3.2&nbsp;&nbsp;</span>Гистограммы продаж по платформам, отбор прибыльных платформ</a></span></li><li><span><a href=\"#Определение-актуального-периода\" data-toc-modified-id=\"Определение-актуального-периода-3.3\"><span class=\"toc-item-num\">3.3&nbsp;&nbsp;</span>Определение актуального периода</a></span></li><li><span><a href=\"#Boxplot-продаж-по-платформам\" data-toc-modified-id=\"Boxplot-продаж-по-платформам-3.4\"><span class=\"toc-item-num\">3.4&nbsp;&nbsp;</span>Boxplot продаж по платформам</a></span></li><li><span><a href=\"#Оценка-влияния-отзывов-на-продажи\" data-toc-modified-id=\"Оценка-влияния-отзывов-на-продажи-3.5\"><span class=\"toc-item-num\">3.5&nbsp;&nbsp;</span>Оценка влияния отзывов на продажи</a></span></li><li><span><a href=\"#Гистограмма-распределения-и-boxplot-игр-по-жанрам\" data-toc-modified-id=\"Гистограмма-распределения-и-boxplot-игр-по-жанрам-3.6\"><span class=\"toc-item-num\">3.6&nbsp;&nbsp;</span>Гистограмма распределения и boxplot игр по жанрам</a></span></li></ul></li><li><span><a href=\"#Портрет-пользователя-каждого-региона\" data-toc-modified-id=\"Портрет-пользователя-каждого-региона-4\"><span class=\"toc-item-num\">4&nbsp;&nbsp;</span>Портрет пользователя каждого региона</a></span><ul class=\"toc-item\"><li><span><a href=\"#Топ-5-популярных-платформ\" data-toc-modified-id=\"Топ-5-популярных-платформ-4.1\"><span class=\"toc-item-num\">4.1&nbsp;&nbsp;</span>Топ 5 популярных платформ</a></span></li><li><span><a href=\"#Топ-5-популярных-жанров\" data-toc-modified-id=\"Топ-5-популярных-жанров-4.2\"><span class=\"toc-item-num\">4.2&nbsp;&nbsp;</span>Топ 5 популярных жанров</a></span></li><li><span><a href=\"#Оценка-влияния-рейтинга-ESRB-на-продажи-в-отдельном-регионе\" data-toc-modified-id=\"Оценка-влияния-рейтинга-ESRB-на-продажи-в-отдельном-регионе-4.3\"><span class=\"toc-item-num\">4.3&nbsp;&nbsp;</span>Оценка влияния рейтинга ESRB на продажи в отдельном регионе</a></span></li></ul></li><li><span><a href=\"#Проверка-гипотез\" data-toc-modified-id=\"Проверка-гипотез-5\"><span class=\"toc-item-num\">5&nbsp;&nbsp;</span>Проверка гипотез</a></span></li><li><span><a href=\"#Общий-вывод\" data-toc-modified-id=\"Общий-вывод-6\"><span class=\"toc-item-num\">6&nbsp;&nbsp;</span>Общий вывод</a></span></li></ul></div>"
   ]
  },
  {
   "cell_type": "markdown",
   "metadata": {},
   "source": [
    "# Описание проекта\n",
    "Вы работаете в интернет-магазине «Стримчик», который продаёт по всему миру компьютерные игры. Из открытых источников доступны исторические данные о продажах игр, оценки пользователей и экспертов, жанры и платформы (например, Xbox или PlayStation). Вам нужно выявить определяющие успешность игры закономерности. Это позволит сделать ставку на потенциально популярный продукт и спланировать рекламные кампании.\n"
   ]
  },
  {
   "cell_type": "markdown",
   "metadata": {},
   "source": [
    "# Цель проекта\n",
    "Выявить закономерности которые помогут спланировать бюджет рекламных компаний игр и помочь бизнесу правильно вложить денги."
   ]
  },
  {
   "cell_type": "markdown",
   "metadata": {},
   "source": [
    "# Краткий план исследования\n",
    "1) Изучить общую информацию о данных\n",
    "\n",
    "2) Подготовить даннные к исследованию\n",
    "\n",
    "3) Провести исследовательский анализ данных\n",
    "\n",
    "4) Проверить гипотезы \n",
    "\n",
    "5) Сделать общий вывод"
   ]
  },
  {
   "cell_type": "code",
   "execution_count": 1,
   "metadata": {},
   "outputs": [],
   "source": [
    "import pandas as pd\n",
    "import matplotlib.pyplot as plt\n",
    "import seaborn as sns\n",
    "import plotly\n",
    "import plotly.graph_objs as go\n",
    "import plotly.express as px\n",
    "from plotly.subplots import make_subplots\n",
    "from scipy import stats as st"
   ]
  },
  {
   "cell_type": "markdown",
   "metadata": {},
   "source": [
    "### Изучение данных"
   ]
  },
  {
   "cell_type": "code",
   "execution_count": 2,
   "metadata": {},
   "outputs": [],
   "source": [
    "df= pd.read_csv('/datasets/games.csv')"
   ]
  },
  {
   "cell_type": "markdown",
   "metadata": {},
   "source": [
    "Смотрим на данные"
   ]
  },
  {
   "cell_type": "code",
   "execution_count": 3,
   "metadata": {},
   "outputs": [
    {
     "name": "stdout",
     "output_type": "stream",
     "text": [
      "<class 'pandas.core.frame.DataFrame'>\n",
      "RangeIndex: 16715 entries, 0 to 16714\n",
      "Data columns (total 11 columns):\n",
      " #   Column           Non-Null Count  Dtype  \n",
      "---  ------           --------------  -----  \n",
      " 0   Name             16713 non-null  object \n",
      " 1   Platform         16715 non-null  object \n",
      " 2   Year_of_Release  16446 non-null  float64\n",
      " 3   Genre            16713 non-null  object \n",
      " 4   NA_sales         16715 non-null  float64\n",
      " 5   EU_sales         16715 non-null  float64\n",
      " 6   JP_sales         16715 non-null  float64\n",
      " 7   Other_sales      16715 non-null  float64\n",
      " 8   Critic_Score     8137 non-null   float64\n",
      " 9   User_Score       10014 non-null  object \n",
      " 10  Rating           9949 non-null   object \n",
      "dtypes: float64(6), object(5)\n",
      "memory usage: 1.4+ MB\n"
     ]
    }
   ],
   "source": [
    "df.info()"
   ]
  },
  {
   "cell_type": "markdown",
   "metadata": {},
   "source": [
    "Как сразу можно заметить, с данными есть некоторые проблемы. Во-первых, все столбцы написано с заглавных букв, что крайне неудобно. Во-вторых, столбец year_of_release типа float, хотя год дробным быть не может. В-третьих user_score тоже типа object, хотя score это число. Так же стоит посмотреть на пропущенные значения, например в critic_score и rating и определиться что с ними делать"
   ]
  },
  {
   "cell_type": "markdown",
   "metadata": {},
   "source": [
    "### Подготовка данных"
   ]
  },
  {
   "cell_type": "markdown",
   "metadata": {},
   "source": [
    "Приводим названия всех столбцов к нижнему регистру"
   ]
  },
  {
   "cell_type": "code",
   "execution_count": 4,
   "metadata": {
    "scrolled": true
   },
   "outputs": [],
   "source": [
    "df.columns = df.columns.str.lower()"
   ]
  },
  {
   "cell_type": "markdown",
   "metadata": {},
   "source": [
    "Теперь посмотрим на саму таблицу"
   ]
  },
  {
   "cell_type": "code",
   "execution_count": 5,
   "metadata": {
    "scrolled": false
   },
   "outputs": [
    {
     "data": {
      "text/html": [
       "<div>\n",
       "<style scoped>\n",
       "    .dataframe tbody tr th:only-of-type {\n",
       "        vertical-align: middle;\n",
       "    }\n",
       "\n",
       "    .dataframe tbody tr th {\n",
       "        vertical-align: top;\n",
       "    }\n",
       "\n",
       "    .dataframe thead th {\n",
       "        text-align: right;\n",
       "    }\n",
       "</style>\n",
       "<table border=\"1\" class=\"dataframe\">\n",
       "  <thead>\n",
       "    <tr style=\"text-align: right;\">\n",
       "      <th></th>\n",
       "      <th>name</th>\n",
       "      <th>platform</th>\n",
       "      <th>year_of_release</th>\n",
       "      <th>genre</th>\n",
       "      <th>na_sales</th>\n",
       "      <th>eu_sales</th>\n",
       "      <th>jp_sales</th>\n",
       "      <th>other_sales</th>\n",
       "      <th>critic_score</th>\n",
       "      <th>user_score</th>\n",
       "      <th>rating</th>\n",
       "    </tr>\n",
       "  </thead>\n",
       "  <tbody>\n",
       "    <tr>\n",
       "      <th>0</th>\n",
       "      <td>Wii Sports</td>\n",
       "      <td>Wii</td>\n",
       "      <td>2006.0</td>\n",
       "      <td>Sports</td>\n",
       "      <td>41.36</td>\n",
       "      <td>28.96</td>\n",
       "      <td>3.77</td>\n",
       "      <td>8.45</td>\n",
       "      <td>76.0</td>\n",
       "      <td>8</td>\n",
       "      <td>E</td>\n",
       "    </tr>\n",
       "    <tr>\n",
       "      <th>1</th>\n",
       "      <td>Super Mario Bros.</td>\n",
       "      <td>NES</td>\n",
       "      <td>1985.0</td>\n",
       "      <td>Platform</td>\n",
       "      <td>29.08</td>\n",
       "      <td>3.58</td>\n",
       "      <td>6.81</td>\n",
       "      <td>0.77</td>\n",
       "      <td>NaN</td>\n",
       "      <td>NaN</td>\n",
       "      <td>NaN</td>\n",
       "    </tr>\n",
       "    <tr>\n",
       "      <th>2</th>\n",
       "      <td>Mario Kart Wii</td>\n",
       "      <td>Wii</td>\n",
       "      <td>2008.0</td>\n",
       "      <td>Racing</td>\n",
       "      <td>15.68</td>\n",
       "      <td>12.76</td>\n",
       "      <td>3.79</td>\n",
       "      <td>3.29</td>\n",
       "      <td>82.0</td>\n",
       "      <td>8.3</td>\n",
       "      <td>E</td>\n",
       "    </tr>\n",
       "    <tr>\n",
       "      <th>3</th>\n",
       "      <td>Wii Sports Resort</td>\n",
       "      <td>Wii</td>\n",
       "      <td>2009.0</td>\n",
       "      <td>Sports</td>\n",
       "      <td>15.61</td>\n",
       "      <td>10.93</td>\n",
       "      <td>3.28</td>\n",
       "      <td>2.95</td>\n",
       "      <td>80.0</td>\n",
       "      <td>8</td>\n",
       "      <td>E</td>\n",
       "    </tr>\n",
       "    <tr>\n",
       "      <th>4</th>\n",
       "      <td>Pokemon Red/Pokemon Blue</td>\n",
       "      <td>GB</td>\n",
       "      <td>1996.0</td>\n",
       "      <td>Role-Playing</td>\n",
       "      <td>11.27</td>\n",
       "      <td>8.89</td>\n",
       "      <td>10.22</td>\n",
       "      <td>1.00</td>\n",
       "      <td>NaN</td>\n",
       "      <td>NaN</td>\n",
       "      <td>NaN</td>\n",
       "    </tr>\n",
       "  </tbody>\n",
       "</table>\n",
       "</div>"
      ],
      "text/plain": [
       "                       name platform  year_of_release         genre  na_sales  \\\n",
       "0                Wii Sports      Wii           2006.0        Sports     41.36   \n",
       "1         Super Mario Bros.      NES           1985.0      Platform     29.08   \n",
       "2            Mario Kart Wii      Wii           2008.0        Racing     15.68   \n",
       "3         Wii Sports Resort      Wii           2009.0        Sports     15.61   \n",
       "4  Pokemon Red/Pokemon Blue       GB           1996.0  Role-Playing     11.27   \n",
       "\n",
       "   eu_sales  jp_sales  other_sales  critic_score user_score rating  \n",
       "0     28.96      3.77         8.45          76.0          8      E  \n",
       "1      3.58      6.81         0.77           NaN        NaN    NaN  \n",
       "2     12.76      3.79         3.29          82.0        8.3      E  \n",
       "3     10.93      3.28         2.95          80.0          8      E  \n",
       "4      8.89     10.22         1.00           NaN        NaN    NaN  "
      ]
     },
     "execution_count": 5,
     "metadata": {},
     "output_type": "execute_result"
    }
   ],
   "source": [
    "df.head()"
   ]
  },
  {
   "cell_type": "markdown",
   "metadata": {},
   "source": [
    "#### Преобразование типов, работа с пропусками, добавление столбцов\n"
   ]
  },
  {
   "cell_type": "markdown",
   "metadata": {},
   "source": [
    "Приведём столбец user_score к числовому типу"
   ]
  },
  {
   "cell_type": "code",
   "execution_count": 6,
   "metadata": {},
   "outputs": [],
   "source": [
    "df['user_score']=pd.to_numeric(df['user_score'],errors = 'coerce')"
   ]
  },
  {
   "cell_type": "markdown",
   "metadata": {},
   "source": [
    "Далее поработаем со столбцами year_of_release,name и genre. Как мы видим, в нём есть пропущенные значения и появляется вопрос чем их заменить. Вариантов немного, это либо среднее, либо 0, либо просто удалить, если их не так много. Так как пропусков немного, можно просто удалить строки с пропущенными данными."
   ]
  },
  {
   "cell_type": "code",
   "execution_count": 7,
   "metadata": {},
   "outputs": [],
   "source": [
    "df = df.dropna(subset=['year_of_release','name','genre'])"
   ]
  },
  {
   "cell_type": "code",
   "execution_count": 8,
   "metadata": {},
   "outputs": [],
   "source": [
    "df['year_of_release'] = df['year_of_release'].astype(int)"
   ]
  },
  {
   "cell_type": "markdown",
   "metadata": {},
   "source": [
    "Заменим NaN значение в critic_score на -1, которые потом сможем отфильтровать."
   ]
  },
  {
   "cell_type": "code",
   "execution_count": 9,
   "metadata": {},
   "outputs": [],
   "source": [
    "df['critic_score'] = df['critic_score'].fillna(-1).astype(int)                                            "
   ]
  },
  {
   "cell_type": "markdown",
   "metadata": {},
   "source": [
    "И user_score, однако здесь оценки пользователей могу быть не целочисленнными, поэтому менять тип на int нельзя. TBD - аббревиатура от английского To Be Determined (будет определено) или To Be Decided (будет решено). То есть в нашем случае, tbd = NaN. Поэтому мы прежде чем работать со столбцом user_score приведём его к численнному (не ЦЕЛОчисленному) типу данных функцией to_numeric. При переводе все аббривеатуры TBD заменятся на NaN и далее мы заполняем эти пропущенные значения числом -1 чтобы потом его отфильтровать. Profit!"
   ]
  },
  {
   "cell_type": "code",
   "execution_count": 10,
   "metadata": {},
   "outputs": [],
   "source": [
    "df['user_score'] = df['user_score'].fillna(-1)"
   ]
  },
  {
   "cell_type": "code",
   "execution_count": 11,
   "metadata": {},
   "outputs": [],
   "source": [
    "df['rating'] = df['rating'].fillna('undef')"
   ]
  },
  {
   "cell_type": "markdown",
   "metadata": {},
   "source": [
    "Проверяем все ли пропущенные значения заполнились "
   ]
  },
  {
   "cell_type": "code",
   "execution_count": 12,
   "metadata": {
    "scrolled": false
   },
   "outputs": [
    {
     "name": "stdout",
     "output_type": "stream",
     "text": [
      "0\n",
      "0\n",
      "0\n"
     ]
    }
   ],
   "source": [
    "print(df['user_score'].isna().sum())\n",
    "print(df['critic_score'].isna().sum())\n",
    "print(df['year_of_release'].isna().sum())"
   ]
  },
  {
   "cell_type": "markdown",
   "metadata": {},
   "source": [
    "Как мы видим, пропуски ещё остались в столбце rating, однако нам нечем их заменять. Мы не знаем по каким критериями оценивался рейтинг игры и потому заменить NaN на какую-то букву исходя из условий не можем, поэтому оставим просто NaN."
   ]
  },
  {
   "cell_type": "markdown",
   "metadata": {},
   "source": [
    "Пропуски могли появиться, потому что игра, к примеру, вышла совсем недавно и ещё не успела получить свой рейтинг от критиков или пользователей. Так же игра могла не получить букву рейтинга потому что такого рейтинга в те годы не существовало,например. Так же пропуски могли появится просто из-за ошибки человека, который составлял базу данных или программы, которая её формировала"
   ]
  },
  {
   "cell_type": "markdown",
   "metadata": {},
   "source": [
    "Далее добавляем столбец sum_sales, который суммирует количество проданных копий в Японии, США, Европе и других странах"
   ]
  },
  {
   "cell_type": "code",
   "execution_count": 13,
   "metadata": {
    "scrolled": true
   },
   "outputs": [],
   "source": [
    "df['sum_sales'] = df['na_sales'] + df['eu_sales'] + df['jp_sales'] + df['other_sales']"
   ]
  },
  {
   "cell_type": "code",
   "execution_count": 14,
   "metadata": {
    "scrolled": true
   },
   "outputs": [
    {
     "name": "stdout",
     "output_type": "stream",
     "text": [
      "<class 'pandas.core.frame.DataFrame'>\n",
      "Int64Index: 16444 entries, 0 to 16714\n",
      "Data columns (total 12 columns):\n",
      " #   Column           Non-Null Count  Dtype  \n",
      "---  ------           --------------  -----  \n",
      " 0   name             16444 non-null  object \n",
      " 1   platform         16444 non-null  object \n",
      " 2   year_of_release  16444 non-null  int64  \n",
      " 3   genre            16444 non-null  object \n",
      " 4   na_sales         16444 non-null  float64\n",
      " 5   eu_sales         16444 non-null  float64\n",
      " 6   jp_sales         16444 non-null  float64\n",
      " 7   other_sales      16444 non-null  float64\n",
      " 8   critic_score     16444 non-null  int64  \n",
      " 9   user_score       16444 non-null  float64\n",
      " 10  rating           16444 non-null  object \n",
      " 11  sum_sales        16444 non-null  float64\n",
      "dtypes: float64(6), int64(2), object(4)\n",
      "memory usage: 1.6+ MB\n",
      "None\n",
      "-------------------------\n",
      "name [' Beyblade Burst' ' Fire Emblem Fates' \" Frozen: Olaf's Quest\" ...\n",
      " 'uDraw Studio' 'uDraw Studio: Instant Artist'\n",
      " '¡Shin Chan Flipa en colores!']\n",
      "name : кол-во NaN 0 , процент NaN 0.0 %\n",
      "-------------------------\n",
      "platform ['2600' '3DO' '3DS' 'DC' 'DS' 'GB' 'GBA' 'GC' 'GEN' 'GG' 'N64' 'NES' 'NG'\n",
      " 'PC' 'PCFX' 'PS' 'PS2' 'PS3' 'PS4' 'PSP' 'PSV' 'SAT' 'SCD' 'SNES' 'TG16'\n",
      " 'WS' 'Wii' 'WiiU' 'X360' 'XB' 'XOne']\n",
      "platform : кол-во NaN 0 , процент NaN 0.0 %\n",
      "-------------------------\n",
      "year_of_release [1980 1981 1982 1983 1984 1985 1986 1987 1988 1989 1990 1991 1992 1993\n",
      " 1994 1995 1996 1997 1998 1999 2000 2001 2002 2003 2004 2005 2006 2007\n",
      " 2008 2009 2010 2011 2012 2013 2014 2015 2016]\n",
      "year_of_release : кол-во NaN 0 , процент NaN 0.0 %\n",
      "-------------------------\n",
      "genre ['Action' 'Adventure' 'Fighting' 'Misc' 'Platform' 'Puzzle' 'Racing'\n",
      " 'Role-Playing' 'Shooter' 'Simulation' 'Sports' 'Strategy']\n",
      "genre : кол-во NaN 0 , процент NaN 0.0 %\n",
      "-------------------------\n",
      "critic_score [-1 13 17 19 20 21 23 24 25 26 27 28 29 30 31 32 33 34 35 36 37 38 39 40\n",
      " 41 42 43 44 45 46 47 48 49 50 51 52 53 54 55 56 57 58 59 60 61 62 63 64\n",
      " 65 66 67 68 69 70 71 72 73 74 75 76 77 78 79 80 81 82 83 84 85 86 87 88\n",
      " 89 90 91 92 93 94 95 96 97 98]\n",
      "critic_score : кол-во NaN 0 , процент NaN 0.0 %\n",
      "-------------------------\n",
      "user_score [-1.   0.   0.2  0.3  0.5  0.6  0.7  0.9  1.   1.1  1.2  1.3  1.4  1.5\n",
      "  1.6  1.7  1.8  1.9  2.   2.1  2.2  2.3  2.4  2.5  2.6  2.7  2.8  2.9\n",
      "  3.   3.1  3.2  3.3  3.4  3.5  3.6  3.7  3.8  3.9  4.   4.1  4.2  4.3\n",
      "  4.4  4.5  4.6  4.7  4.8  4.9  5.   5.1  5.2  5.3  5.4  5.5  5.6  5.7\n",
      "  5.8  5.9  6.   6.1  6.2  6.3  6.4  6.5  6.6  6.7  6.8  6.9  7.   7.1\n",
      "  7.2  7.3  7.4  7.5  7.6  7.7  7.8  7.9  8.   8.1  8.2  8.3  8.4  8.5\n",
      "  8.6  8.7  8.8  8.9  9.   9.1  9.2  9.3  9.4  9.5  9.6  9.7]\n",
      "user_score : кол-во NaN 0 , процент NaN 0.0 %\n",
      "-------------------------\n",
      "rating ['AO' 'E' 'E10+' 'EC' 'K-A' 'M' 'RP' 'T' 'undef']\n",
      "rating : кол-во NaN 0 , процент NaN 0.0 %\n"
     ]
    }
   ],
   "source": [
    "# Посмотрим, что у нас осталось\n",
    "temp = df.copy() \n",
    "list_c = ['name', 'platform', 'year_of_release', 'genre', 'critic_score', 'user_score', 'rating']\n",
    "print(temp.info())\n",
    "for col_l in list_c:\n",
    "    print('-------------------------')\n",
    "    print(col_l, temp[col_l].sort_values().unique())\n",
    "    print(col_l,': кол-во NaN',temp[col_l].isna().sum(),\n",
    "        ', процент NaN', round(temp[col_l].isna().sum()/len(temp)*100, 2),'%')"
   ]
  },
  {
   "cell_type": "markdown",
   "metadata": {},
   "source": [
    "### Исследовательский анализ данных"
   ]
  },
  {
   "cell_type": "markdown",
   "metadata": {},
   "source": [
    "#### Количество игр в разные годы"
   ]
  },
  {
   "cell_type": "markdown",
   "metadata": {},
   "source": [
    "Для того, чтобы понять все ли годы нам неоходимо учитывать мы с помощью функции cut создадим интервалы года выпуска игры длинной в 4 года. То есть если игра была выпущена в период с 1980 по 1984 год, то она попадает в интервал 80-84 и напротив неё в соответствующем столбце grouped_year появляется значение интервала в котором она находится"
   ]
  },
  {
   "cell_type": "code",
   "execution_count": 15,
   "metadata": {},
   "outputs": [],
   "source": [
    "df['grouped_year'] = pd.cut(x = df['year_of_release'],\n",
    "      bins = [1980,1984,1988,1992,1996,2000,2004,2008,2012,2016],\n",
    "      include_lowest = False,\n",
    "      labels = ['80-84','85-88','89-92','93-96','97-00','01-04','05-08','09-12','13-16'])"
   ]
  },
  {
   "cell_type": "markdown",
   "metadata": {},
   "source": [
    "Далее группируем по получившемуся столбцу и находим количество игр выпущенных за все периоды"
   ]
  },
  {
   "cell_type": "code",
   "execution_count": 16,
   "metadata": {},
   "outputs": [
    {
     "data": {
      "text/plain": [
       "Text(0, 0.5, 'Количество проданных игр')"
      ]
     },
     "execution_count": 16,
     "metadata": {},
     "output_type": "execute_result"
    },
    {
     "data": {
      "image/png": "[encoded data removed]",
      "text/plain": [
       "<Figure size 432x288 with 1 Axes>"
      ]
     },
     "metadata": {
      "needs_background": "light"
     },
     "output_type": "display_data"
    }
   ],
   "source": [
    "df.groupby('grouped_year').agg({'name':'count'}).plot(kind='bar')\n",
    "plt.title('Количество продаж по годам ',fontsize = (10))\n",
    "plt.xlabel(\"Года\",fontsize = (10))\n",
    "plt.ylabel(\"Количество проданных игр\", fontsize = (10))"
   ]
  },
  {
   "cell_type": "markdown",
   "metadata": {},
   "source": [
    "Как мы видим, до примерно  95 года игры только начинали зарабатывать популярность и потому их выпускалось достаточно мало. А вот после 95 они начали приобретать достаточно серьёзные тиражи, поэтому мы уже сейчас можем ограничить таблицу для рассмотрения снизу 1995 годом"
   ]
  },
  {
   "cell_type": "markdown",
   "metadata": {},
   "source": [
    "#### Гистограммы продаж по платформам, отбор прибыльных платформ\n"
   ]
  },
  {
   "cell_type": "markdown",
   "metadata": {},
   "source": [
    "Далее создаём сводную таблицу в которой группируем по платформам и суммируем продажи по всем регионам для нахождения самых популярных платформ. Созданную таблицу сортируем по убыванию и достаём первые 5 платформ. Далее во всей таблице оставляем только те строки, где платформа одна из списка тех 5-ти самых популярных. "
   ]
  },
  {
   "cell_type": "code",
   "execution_count": 17,
   "metadata": {
    "scrolled": false
   },
   "outputs": [
    {
     "data": {
      "text/plain": [
       "platform\n",
       "PS2     1233.56\n",
       "X360     961.24\n",
       "PS3      931.34\n",
       "Wii      891.18\n",
       "DS       802.76\n",
       "PS       685.59\n",
       "Name: sum_sales, dtype: float64"
      ]
     },
     "execution_count": 17,
     "metadata": {},
     "output_type": "execute_result"
    }
   ],
   "source": [
    "good_data = df.query('year_of_release > 1995')\n",
    "good_platform = good_data.groupby('platform').agg({'sum_sales':'sum'})['sum_sales'].sort_values(ascending = False)[:6]\n",
    "good_data_platform = good_data.query('platform in @good_platform.index')\n",
    "good_platform"
   ]
  },
  {
   "cell_type": "markdown",
   "metadata": {},
   "source": [
    "Построим таблицу на которой будет видно в каком году какая платформа какой объём  купленных копий имела."
   ]
  },
  {
   "cell_type": "code",
   "execution_count": 18,
   "metadata": {
    "scrolled": false
   },
   "outputs": [
    {
     "data": {
      "text/plain": [
       "Text(0, 0.5, 'Количество проданных игр')"
      ]
     },
     "execution_count": 18,
     "metadata": {},
     "output_type": "execute_result"
    },
    {
     "data": {
      "image/png": "[encoded data removed]",
      "text/plain": [
       "<Figure size 1800x1080 with 1 Axes>"
      ]
     },
     "metadata": {
      "needs_background": "light"
     },
     "output_type": "display_data"
    }
   ],
   "source": [
    "good_data_platform.pivot_table(index=['year_of_release','platform'], values = 'sum_sales',aggfunc='sum').unstack().plot(kind='bar',figsize = (25,15),fontsize = 25)\n",
    "plt.title('Количество продаж по годам и платформам',fontsize = (20))\n",
    "plt.xlabel(\"Года\",fontsize = (20))\n",
    "plt.ylabel(\"Количество проданных игр\", fontsize = (20))"
   ]
  },
  {
   "cell_type": "markdown",
   "metadata": {},
   "source": [
    "Как мы видим, платформа PS жила до 2003 года, а после окончателньо пропала. Платформа PS2 появилась в 2000 году, а закончила своё существование в 2010. Эпоха платформы DS началась в 2004 и закончилась в 2013. И так далее. Как мы видим, все платформы живут около 10 лет, после чего пропадают с рынка.\n",
    "\n",
    "Для определения срока за который появляются новые платформы посмотрим на платформу PS( PS,PS2,PS3). PS, это всё PlayStation от компании Sony, то есть все эти консоли произведены одной компанией в разное время. Если мы посмотрим например на PS2 и PS3, то PS2 появилась в 2000 году и пропала в 2010. А в 2006 уже появилась PS3. То есть примерный срок появления новой платформы 6 лет. "
   ]
  },
  {
   "cell_type": "markdown",
   "metadata": {},
   "source": [
    "По продажам, как мы уже выяснили выше, лидируют PS2, X360, и PS3"
   ]
  },
  {
   "cell_type": "markdown",
   "metadata": {},
   "source": [
    "#### Определение актуального периода"
   ]
  },
  {
   "cell_type": "markdown",
   "metadata": {},
   "source": [
    "Ну и как видно из графика, игры очень быстро развиваются и потому стоит взять данные младше 2013 года."
   ]
  },
  {
   "cell_type": "code",
   "execution_count": 19,
   "metadata": {},
   "outputs": [],
   "source": [
    "good_data = good_data.query('year_of_release > 2013')"
   ]
  },
  {
   "cell_type": "markdown",
   "metadata": {},
   "source": [
    "#### Boxplot продаж по платформам"
   ]
  },
  {
   "cell_type": "markdown",
   "metadata": {},
   "source": [
    "Далее необходимо построить боксплот по продажам для всех платформ. Построим обычные боксплоты со всеми выбросами и масштабированные ограниченные по оси Y."
   ]
  },
  {
   "cell_type": "code",
   "execution_count": 20,
   "metadata": {
    "scrolled": false
   },
   "outputs": [
    {
     "data": {
      "text/plain": [
       "Text(0, 0.5, 'Количество проданных игр')"
      ]
     },
     "execution_count": 20,
     "metadata": {},
     "output_type": "execute_result"
    },
    {
     "data": {
      "image/png": "[encoded data removed]",
      "text/plain": [
       "<Figure size 1440x576 with 1 Axes>"
      ]
     },
     "metadata": {
      "needs_background": "light"
     },
     "output_type": "display_data"
    }
   ],
   "source": [
    "good_data.boxplot(by ='platform', column =['sum_sales'], grid = False,figsize=(20,8))\n",
    "plt.title('Диаграммы размаха по платформам')\n",
    "plt.ylabel('Количество проданных игр')"
   ]
  },
  {
   "cell_type": "code",
   "execution_count": 21,
   "metadata": {
    "scrolled": true
   },
   "outputs": [
    {
     "data": {
      "text/plain": [
       "(0.0, 4.0)"
      ]
     },
     "execution_count": 21,
     "metadata": {},
     "output_type": "execute_result"
    },
    {
     "data": {
      "image/png": "[encoded data removed]",
      "text/plain": [
       "<Figure size 1440x576 with 1 Axes>"
      ]
     },
     "metadata": {
      "needs_background": "light"
     },
     "output_type": "display_data"
    }
   ],
   "source": [
    "good_data.boxplot(by ='platform', column =['sum_sales'], grid = False,figsize=(20,8))\n",
    "plt.title('Масштабированные диаграммы размаха по платформам')\n",
    "plt.ylabel('Количество проданных игр')\n",
    "plt.ylim([0,4])"
   ]
  },
  {
   "cell_type": "markdown",
   "metadata": {},
   "source": [
    "И в общем, мы видим, что медианы у основных платформ примерно совпадают. Основными платформами после 2013 года являются PS4 и XOne. Так же и квантили у них отличаются не сильно."
   ]
  },
  {
   "cell_type": "markdown",
   "metadata": {},
   "source": [
    "#### Оценка влияния отзывов на продажи"
   ]
  },
  {
   "cell_type": "markdown",
   "metadata": {},
   "source": [
    "Теперь построим зависимость между количеством продаж и отзывами критиков и пользователей."
   ]
  },
  {
   "cell_type": "code",
   "execution_count": 22,
   "metadata": {
    "scrolled": false
   },
   "outputs": [
    {
     "data": {
      "text/plain": [
       "Text(0, 0.5, 'Оценки пользователей')"
      ]
     },
     "execution_count": 22,
     "metadata": {},
     "output_type": "execute_result"
    },
    {
     "data": {
      "image/png": "[encoded data removed]",
      "text/plain": [
       "<Figure size 1440x720 with 4 Axes>"
      ]
     },
     "metadata": {
      "needs_background": "light"
     },
     "output_type": "display_data"
    }
   ],
   "source": [
    "f,ax = plt.subplots(2,2,figsize = (20,10))\n",
    "\n",
    "ax[0,0].scatter(x = good_data.query('platform == \"PS4\" and critic_score > 0')['sum_sales'],\\\n",
    "                y = good_data.query('platform == \"PS4\" and critic_score > 0')['critic_score'])\n",
    "ax[0,0].set_title(\"PS4\")\n",
    "ax[0,0].set_xlabel(\"Количество продаж\")\n",
    "ax[0,0].set_ylabel(\"Оценки критиков\")\n",
    "\n",
    "ax[0,1].scatter(x = good_data.query('platform == \"PS4\" and user_score > 0')['sum_sales'],\\\n",
    "                y = good_data.query('platform == \"PS4\" and user_score > 0')['user_score'])\n",
    "ax[0,1].set_title(\"PS4\")\n",
    "ax[0,1].set_xlabel(\"Количество продаж\")\n",
    "ax[0,1].set_ylabel(\"Оценки польователей\")\n",
    "\n",
    "ax[1,0].scatter(x = good_data.query('platform == \"XOne\" and critic_score > 0')['sum_sales'],\\\n",
    "                y = good_data.query('platform == \"XOne\" and critic_score > 0')['critic_score'])\n",
    "ax[1,0].set_title(\"XOne\")\n",
    "ax[1,0].set_xlabel(\"Количество продаж\")\n",
    "ax[1,0].set_ylabel(\"Оценки критиков\")\n",
    "\n",
    "ax[1,1].scatter(x = good_data.query('platform == \"XOne\" and user_score > 0')['sum_sales'],\\\n",
    "                y = good_data.query('platform == \"XOne\" and user_score > 0')['user_score'])\n",
    "ax[1,1].set_title(\"XOne\")\n",
    "ax[1,1].set_xlabel(\"Количество продаж\")\n",
    "ax[1,1].set_ylabel(\"Оценки пользователей\")"
   ]
  },
  {
   "cell_type": "markdown",
   "metadata": {},
   "source": [
    "Как мы видим из графиков, прямолинейной зависимости между отзывами(пользователей или критиков) и количеством продаж трёх самых популярных платформ нет. Возьмём самые популярные платформы PS4 и XOne и вычислим корреляцию для critic_score и user_score. Увидим, что она ничтожно маленькая,поэтому можно сказать что прямой зависимости между этими факторами нет."
   ]
  },
  {
   "cell_type": "code",
   "execution_count": 43,
   "metadata": {
    "scrolled": true
   },
   "outputs": [
    {
     "name": "stdout",
     "output_type": "stream",
     "text": [
      "Корреляция между продажами и оценками критиков для PS4:  0.40266141068104094\n",
      "Корреляция между продажами и оценками пользователей для PS4:  -0.04013158947269733\n",
      "-------------------------\n",
      "Корреляция между продажами и оценками критиков для XOne:  0.42867694370333226\n",
      "Корреляция между продажами и оценками пользователей для XOne:  -0.0703839280647581\n"
     ]
    }
   ],
   "source": [
    "print('Корреляция между продажами и оценками критиков для PS4: ',good_data.query('platform == \"PS4\" and critic_score > 0')['sum_sales']\\\n",
    "      .corr(good_data.query(\" critic_score > 0\")['critic_score']))\n",
    "print('Корреляция между продажами и оценками пользователей для PS4: ',good_data.query('platform == \"PS4\" and user_score > 0')['sum_sales']\\\n",
    "      .corr(good_data.query(\"user_score > 0\")['user_score']))\n",
    "print('-------------------------')\n",
    "print('Корреляция между продажами и оценками критиков для XOne: ',good_data.query('platform == \"XOne\" and critic_score > 0')['sum_sales']\\\n",
    "      .corr(good_data.query(\" critic_score > 0\")['critic_score']))\n",
    "print('Корреляция между продажами и оценками пользователей для XOne: ',good_data.query('platform == \"XOne\"')['sum_sales']\\\n",
    "      .corr(good_data.query(\"user_score > 0\")['user_score']))\n"
   ]
  },
  {
   "cell_type": "markdown",
   "metadata": {},
   "source": [
    "#### Гистограмма распределения и boxplot игр по жанрам"
   ]
  },
  {
   "cell_type": "markdown",
   "metadata": {},
   "source": [
    "Посмотрим на общее распределение игр по жанрам"
   ]
  },
  {
   "cell_type": "code",
   "execution_count": 24,
   "metadata": {
    "scrolled": false
   },
   "outputs": [
    {
     "data": {
      "text/plain": [
       "<AxesSubplot:xlabel='genre'>"
      ]
     },
     "execution_count": 24,
     "metadata": {},
     "output_type": "execute_result"
    },
    {
     "data": {
      "image/png": "[encoded data removed]",
      "text/plain": [
       "<Figure size 1800x1080 with 1 Axes>"
      ]
     },
     "metadata": {
      "needs_background": "light"
     },
     "output_type": "display_data"
    }
   ],
   "source": [
    "good_data.pivot_table(index=['genre'], values = 'sum_sales',aggfunc='median').plot(kind='bar',figsize = (25,15),fontsize = 25)"
   ]
  },
  {
   "cell_type": "code",
   "execution_count": 25,
   "metadata": {},
   "outputs": [
    {
     "data": {
      "text/plain": [
       "Text(0, 0.5, 'Количество проданных игр')"
      ]
     },
     "execution_count": 25,
     "metadata": {},
     "output_type": "execute_result"
    },
    {
     "data": {
      "image/png": "[encoded data removed]",
      "text/plain": [
       "<Figure size 1440x576 with 1 Axes>"
      ]
     },
     "metadata": {
      "needs_background": "light"
     },
     "output_type": "display_data"
    }
   ],
   "source": [
    "good_data.boxplot(by ='genre', column =['sum_sales'], grid = False,figsize=(20,8))\n",
    "plt.title('Диаграммы размаха по жанрам')\n",
    "plt.ylabel('Количество проданных игр')"
   ]
  },
  {
   "cell_type": "code",
   "execution_count": 26,
   "metadata": {},
   "outputs": [
    {
     "data": {
      "text/plain": [
       "(0.0, 4.0)"
      ]
     },
     "execution_count": 26,
     "metadata": {},
     "output_type": "execute_result"
    },
    {
     "data": {
      "image/png": "[encoded data removed]",
      "text/plain": [
       "<Figure size 1440x576 with 1 Axes>"
      ]
     },
     "metadata": {
      "needs_background": "light"
     },
     "output_type": "display_data"
    }
   ],
   "source": [
    "good_data.boxplot(by ='genre', column =['sum_sales'], grid = False,figsize=(20,8))\n",
    "plt.title('Масштабированные диаграммы размаха по жанрам')\n",
    "plt.ylabel('Количество проданных игр')\n",
    "plt.ylim([0,4])"
   ]
  },
  {
   "cell_type": "markdown",
   "metadata": {},
   "source": [
    "Самый популярный жанр это Shooter.Далее идёт Sports,Platform,Fighting и Action. Получается, что самый прибыльный жанр это шутер, после идёт спорт и так далее. Низкими продажами отличаются игры которые требуют включения логики ( Puzzle,Strategy,Adventure), что логично. "
   ]
  },
  {
   "cell_type": "markdown",
   "metadata": {},
   "source": [
    "###  Портрет пользователя каждого региона"
   ]
  },
  {
   "cell_type": "markdown",
   "metadata": {},
   "source": [
    "#### Топ 5 популярных платформ"
   ]
  },
  {
   "cell_type": "markdown",
   "metadata": {},
   "source": [
    "Далее посмотрим на типичный портрет пользователя каждого региона. Сгруппируем данные по платформам для каждого из регионов и просуммируем продажи в этом регионе. Отсортируем по возрастанию и возьмём последние 5 платформ с самыми высокими продажами и построим по ним pieplot."
   ]
  },
  {
   "cell_type": "code",
   "execution_count": 27,
   "metadata": {},
   "outputs": [],
   "source": [
    "pie_plat_na_sales = good_data.groupby('platform').agg({'na_sales':'sum'}).sort_values(by='na_sales')[-5:]\n",
    "pie_plat_eu_sales = good_data.groupby('platform').agg({'eu_sales':'sum'}).sort_values(by = 'eu_sales')[-5:]\n",
    "pie_plat_jp_sales = good_data.groupby('platform').agg({'jp_sales':'sum'}).sort_values(by = 'jp_sales')[-5:]                                            \n",
    "genres = pie_plat_na_sales.index"
   ]
  },
  {
   "cell_type": "code",
   "execution_count": 28,
   "metadata": {
    "scrolled": true
   },
   "outputs": [
    {
     "data": {
      "text/plain": [
       "Text(0.5, 1.0, 'JP_Sales')"
      ]
     },
     "execution_count": 28,
     "metadata": {},
     "output_type": "execute_result"
    },
    {
     "data": {
      "image/png": "[encoded data removed]",
      "text/plain": [
       "<Figure size 1440x720 with 3 Axes>"
      ]
     },
     "metadata": {},
     "output_type": "display_data"
    }
   ],
   "source": [
    "f,ax = plt.subplots(1,3,figsize = (20,10))\n",
    "\n",
    "ax[0].pie(x=pie_plat_na_sales['na_sales'], labels=genres, autopct='%1.1f%%',shadow=True, startangle=90)\n",
    "ax[0].set_title('NA_Sales')\n",
    "\n",
    "ax[1].pie(x=pie_plat_eu_sales['eu_sales'], labels=genres, autopct='%1.1f%%',shadow=True, startangle=90)\n",
    "ax[1].set_title('EU_Sales')\n",
    "\n",
    "ax[2].pie(x=pie_plat_jp_sales['jp_sales'], labels=genres, autopct='%1.1f%%',shadow=True, startangle=90)\n",
    "ax[2].set_title('JP_Sales')"
   ]
  },
  {
   "cell_type": "markdown",
   "metadata": {},
   "source": [
    "Взглянув на график понимаем, что для каждого региона ситуация немного отличается. Всё ещё стабильно первые 3 места во всех регионах это PS4,XOne и X360. Однако если в Европе и Японии PS4 сильно преобладает над всем остальным, то в США он спорит с XOne. Между ними небольшой разрыв. В Японии X360 всё ещё практически не уступает по популярности новой платформе XOne."
   ]
  },
  {
   "cell_type": "markdown",
   "metadata": {},
   "source": [
    "#### Топ 5 популярных жанров\n"
   ]
  },
  {
   "cell_type": "markdown",
   "metadata": {},
   "source": [
    "Теперь посмотрим на самые популярные жанры по регионам"
   ]
  },
  {
   "cell_type": "code",
   "execution_count": 29,
   "metadata": {},
   "outputs": [],
   "source": [
    "pie_gen_na_sales = good_data.groupby('genre').agg({'na_sales':'sum'}).sort_values(by='na_sales')[-5:]\n",
    "pie_gen_eu_sales = good_data.groupby('genre').agg({'eu_sales':'sum'}).sort_values(by = 'eu_sales')[-5:]\n",
    "pie_gen_jp_sales = good_data.groupby('genre').agg({'jp_sales':'sum'}).sort_values(by = 'jp_sales')[-5:]                                            \n",
    "genres = pie_gen_na_sales.index"
   ]
  },
  {
   "cell_type": "code",
   "execution_count": 30,
   "metadata": {},
   "outputs": [
    {
     "data": {
      "text/plain": [
       "Text(0.5, 1.0, 'JP_Sales')"
      ]
     },
     "execution_count": 30,
     "metadata": {},
     "output_type": "execute_result"
    },
    {
     "data": {
      "image/png": "[encoded data removed]",
      "text/plain": [
       "<Figure size 1440x720 with 3 Axes>"
      ]
     },
     "metadata": {},
     "output_type": "display_data"
    }
   ],
   "source": [
    "f,ax = plt.subplots(1,3,figsize = (20,10))\n",
    "\n",
    "ax[0].pie(x=pie_gen_na_sales['na_sales'], labels=genres, autopct='%1.1f%%',shadow=True, startangle=90)\n",
    "ax[0].set_title('NA_Sales')\n",
    "\n",
    "ax[1].pie(x=pie_gen_eu_sales['eu_sales'], labels=genres, autopct='%1.1f%%',shadow=True, startangle=90)\n",
    "ax[1].set_title('EU_Sales')\n",
    "\n",
    "ax[2].pie(x=pie_gen_jp_sales['jp_sales'], labels=genres, autopct='%1.1f%%',shadow=True, startangle=90)\n",
    "ax[2].set_title('JP_Sales')"
   ]
  },
  {
   "cell_type": "markdown",
   "metadata": {},
   "source": [
    "Как мы видим, США и Европа по выбору жанров игр не особо отличается. Самые популярные жанры это Action,Shooter и Sports. А вот Япония по приоритетным жанрам немного отличается. В Японии так же на первых 3-ёх местах Shooter, Action и Sports, но если между Sports и жанрами ниже в США и Европе достаточно большой разрыв, то вот в Японии Sports практически на одном уровне с Role-Playing и Misc"
   ]
  },
  {
   "cell_type": "markdown",
   "metadata": {},
   "source": [
    "#### Оценка влияния рейтинга ESRB на продажи в отдельном регионе\n"
   ]
  },
  {
   "cell_type": "markdown",
   "metadata": {},
   "source": [
    "Далее рассмотрим распределение рейтинга по всем регионам"
   ]
  },
  {
   "cell_type": "code",
   "execution_count": 31,
   "metadata": {
    "scrolled": true
   },
   "outputs": [
    {
     "data": {
      "text/html": [
       "<div>\n",
       "<style scoped>\n",
       "    .dataframe tbody tr th:only-of-type {\n",
       "        vertical-align: middle;\n",
       "    }\n",
       "\n",
       "    .dataframe tbody tr th {\n",
       "        vertical-align: top;\n",
       "    }\n",
       "\n",
       "    .dataframe thead th {\n",
       "        text-align: right;\n",
       "    }\n",
       "</style>\n",
       "<table border=\"1\" class=\"dataframe\">\n",
       "  <thead>\n",
       "    <tr style=\"text-align: right;\">\n",
       "      <th></th>\n",
       "      <th>na_sales</th>\n",
       "      <th>eu_sales</th>\n",
       "      <th>jp_sales</th>\n",
       "    </tr>\n",
       "    <tr>\n",
       "      <th>rating</th>\n",
       "      <th></th>\n",
       "      <th></th>\n",
       "      <th></th>\n",
       "    </tr>\n",
       "  </thead>\n",
       "  <tbody>\n",
       "    <tr>\n",
       "      <th>E</th>\n",
       "      <td>50.74</td>\n",
       "      <td>58.06</td>\n",
       "      <td>8.94</td>\n",
       "    </tr>\n",
       "    <tr>\n",
       "      <th>E10+</th>\n",
       "      <td>33.23</td>\n",
       "      <td>26.16</td>\n",
       "      <td>4.46</td>\n",
       "    </tr>\n",
       "    <tr>\n",
       "      <th>M</th>\n",
       "      <td>96.42</td>\n",
       "      <td>93.44</td>\n",
       "      <td>8.01</td>\n",
       "    </tr>\n",
       "    <tr>\n",
       "      <th>T</th>\n",
       "      <td>38.95</td>\n",
       "      <td>34.07</td>\n",
       "      <td>14.78</td>\n",
       "    </tr>\n",
       "    <tr>\n",
       "      <th>undef</th>\n",
       "      <td>64.72</td>\n",
       "      <td>58.95</td>\n",
       "      <td>56.90</td>\n",
       "    </tr>\n",
       "  </tbody>\n",
       "</table>\n",
       "</div>"
      ],
      "text/plain": [
       "        na_sales  eu_sales  jp_sales\n",
       "rating                              \n",
       "E          50.74     58.06      8.94\n",
       "E10+       33.23     26.16      4.46\n",
       "M          96.42     93.44      8.01\n",
       "T          38.95     34.07     14.78\n",
       "undef      64.72     58.95     56.90"
      ]
     },
     "execution_count": 31,
     "metadata": {},
     "output_type": "execute_result"
    }
   ],
   "source": [
    "good_data.groupby('rating').agg({'na_sales':'sum','eu_sales':'sum','jp_sales':'sum'})"
   ]
  },
  {
   "cell_type": "markdown",
   "metadata": {},
   "source": [
    "Посмотрим в более удобочитаемом варианте, в виде таблицы."
   ]
  },
  {
   "cell_type": "code",
   "execution_count": 32,
   "metadata": {},
   "outputs": [
    {
     "data": {
      "text/plain": [
       "<AxesSubplot:xlabel='rating'>"
      ]
     },
     "execution_count": 32,
     "metadata": {},
     "output_type": "execute_result"
    },
    {
     "data": {
      "image/png": "[encoded data removed]",
      "text/plain": [
       "<Figure size 720x360 with 1 Axes>"
      ]
     },
     "metadata": {
      "needs_background": "light"
     },
     "output_type": "display_data"
    }
   ],
   "source": [
    "good_data.groupby('rating').agg({'na_sales':'sum','eu_sales':'sum','jp_sales':'sum'}).plot(kind = 'bar',figsize = (10,5),fontsize = 15)"
   ]
  },
  {
   "cell_type": "markdown",
   "metadata": {},
   "source": [
    "Самый популярный рейтинг в США и Европе это M, в Японии он не катируется совсем. Далее на втором месте в Европе идёт Е, в США он тоже занимает одно из высших мест. А вот рейтинг \"undef\" то есть его отсутсвие, значит игра была выпущена на на территории США или Канады в Японии занимает первое  место по продажам а в США и Европе второе место. То есть игры без рейтинга люди охотно покупают и в США и  в Японии и в Европе, поэтому можно сделать вывод, что рейтинг не влияет на продажи. В Японии это видно особенно так как игры без рейтинга японцы покупают больше всего ( возможно потому что часть этих игр местного производства) "
   ]
  },
  {
   "cell_type": "code",
   "execution_count": 33,
   "metadata": {},
   "outputs": [
    {
     "name": "stdout",
     "output_type": "stream",
     "text": [
      "0 0.0\n"
     ]
    },
    {
     "data": {
      "text/plain": [
       "undef    749\n",
       "T        271\n",
       "M        265\n",
       "E        219\n",
       "E10+     185\n",
       "Name: rating, dtype: int64"
      ]
     },
     "execution_count": 33,
     "metadata": {},
     "output_type": "execute_result"
    }
   ],
   "source": [
    "temp = good_data.copy()\n",
    "print(temp.rating.isna().sum(), temp.rating.isna().sum()/len(temp))\n",
    "temp.rating.value_counts()"
   ]
  },
  {
   "cell_type": "markdown",
   "metadata": {},
   "source": [
    "###  Проверка гипотез"
   ]
  },
  {
   "cell_type": "markdown",
   "metadata": {},
   "source": [
    "Далее сформулируем гипотезы и проверим их."
   ]
  },
  {
   "cell_type": "markdown",
   "metadata": {},
   "source": [
    "H0 - Средние пользовательские рейтинги платформ Xbox One и PC одинаковые;\n",
    "\n",
    "\n",
    "H1 - Средние пользовательские рейтинги платформ Xbox One и PC разные;"
   ]
  },
  {
   "cell_type": "markdown",
   "metadata": {},
   "source": [
    "Для удобства, H0 звучит как \"одно равно другому\" потому что в таком случае гипотезу удобно проверять. Для того чтобы понять какой t-тест использовать использует статистический тест Левене, чтобы понять есть ли различия между дисперсиями двух генеральных совокупностей. "
   ]
  },
  {
   "cell_type": "markdown",
   "metadata": {},
   "source": [
    "Проверяем на различия дисперсий двух выборок."
   ]
  },
  {
   "cell_type": "code",
   "execution_count": 34,
   "metadata": {},
   "outputs": [
    {
     "name": "stdout",
     "output_type": "stream",
     "text": [
      "p-value: 0.014868430917663678\n",
      "Отвергаем нулевую гипотезу\n"
     ]
    }
   ],
   "source": [
    "xbox_data = df.query('platform == \"XOne\" and year_of_release > 2013 and user_score > 0')\n",
    "pc_data = df.query('platform == \"PC\" and year_of_release > 2013 and user_score > 0')\n",
    "\n",
    "alpha = .05\n",
    "\n",
    "dispersion = st.levene(\n",
    "    xbox_data['user_score'], \n",
    "    pc_data['user_score'],)\n",
    "\n",
    "\n",
    "print('p-value:', dispersion.pvalue)\n",
    "\n",
    "if (dispersion.pvalue < alpha):\n",
    "    print(\"Отвергаем нулевую гипотезу\")\n",
    "else:\n",
    "    print(\"Не получилось отвергнуть нулевую гипотезу\")"
   ]
  },
  {
   "cell_type": "markdown",
   "metadata": {},
   "source": [
    "Как мы видим, вероятность получить такие или ещё более серьёзные различия между дисперсиями двух генеральных совокупностей при условии что Н0-дисперсии одинаковые верна, равна 1 %. Поэтому мы смело можем отвергнуть нулевую гипотезу и сказать что дисперсии не равны"
   ]
  },
  {
   "cell_type": "code",
   "execution_count": 35,
   "metadata": {
    "scrolled": true
   },
   "outputs": [
    {
     "name": "stdout",
     "output_type": "stream",
     "text": [
      "Размер выборки Xbox One:  165\n",
      "Размер выборки PC:  122\n"
     ]
    }
   ],
   "source": [
    "print('Размер выборки Xbox One: ', len(xbox_data))\n",
    "print('Размер выборки PC: ', len(pc_data))"
   ]
  },
  {
   "cell_type": "markdown",
   "metadata": {},
   "source": [
    "Как мы видим, выборки по размеру отличаются, поэтому параметру equal_var присваиваем значение False."
   ]
  },
  {
   "cell_type": "code",
   "execution_count": 36,
   "metadata": {},
   "outputs": [
    {
     "data": {
      "text/plain": [
       "1.6"
      ]
     },
     "execution_count": 36,
     "metadata": {},
     "output_type": "execute_result"
    }
   ],
   "source": [
    "xbox_data.user_score.min()"
   ]
  },
  {
   "cell_type": "code",
   "execution_count": 37,
   "metadata": {},
   "outputs": [
    {
     "name": "stdout",
     "output_type": "stream",
     "text": [
      "p-value: 0.11601398086668827\n",
      "Не получилось отвергнуть нулевую гипотезу\n"
     ]
    }
   ],
   "source": [
    "alpha = .05\n",
    "\n",
    "results = st.ttest_ind(\n",
    "    xbox_data['user_score'], \n",
    "    pc_data['user_score'],\n",
    "    equal_var = False)\n",
    "\n",
    "print('p-value:', results.pvalue)\n",
    "\n",
    "if (results.pvalue < alpha):\n",
    "    print(\"Отвергаем нулевую гипотезу\")\n",
    "else:\n",
    "    print(\"Не получилось отвергнуть нулевую гипотезу\")"
   ]
  },
  {
   "cell_type": "markdown",
   "metadata": {},
   "source": [
    "Так как p-value > 0.05, мы не можем отвергнуть нулевую гипотезу. Это значит, что вероятность получить такие или ещё более значимые различия при условии что H0 верна, равна 11 % , а это больше 5 %, значит принимаем, что гипотеза H0 верна и средние пользовательские рейтинги платформ Xbox One и PC одинаковые. "
   ]
  },
  {
   "cell_type": "code",
   "execution_count": 38,
   "metadata": {},
   "outputs": [
    {
     "name": "stdout",
     "output_type": "stream",
     "text": [
      "Средний пользовательский рейтинг платформы Xbox:  6.594545454545456\n",
      "Средний пользовательский рейтинг платформы PC:  6.298360655737705\n"
     ]
    }
   ],
   "source": [
    "print('Средний пользовательский рейтинг платформы Xbox: ',xbox_data['user_score'].sort_values().mean())\n",
    "print('Средний пользовательский рейтинг платформы PC: ',pc_data['user_score'].sort_values().mean())"
   ]
  },
  {
   "cell_type": "markdown",
   "metadata": {},
   "source": [
    "Далее проверим пользовательские рейтинги жанров."
   ]
  },
  {
   "cell_type": "markdown",
   "metadata": {},
   "source": [
    "H0 - Средние пользовательские рейтинги жанров Action  и Sports  одинаковые.\n",
    "\n",
    "H1 - Средние пользовательские рейтинги жанров Action и Sports разные."
   ]
  },
  {
   "cell_type": "markdown",
   "metadata": {},
   "source": [
    "Для того чтобы определиться какой тест использовать, проверим размерность выборок. И разность дисперсий генеральных совокупностей."
   ]
  },
  {
   "cell_type": "code",
   "execution_count": 39,
   "metadata": {},
   "outputs": [
    {
     "name": "stdout",
     "output_type": "stream",
     "text": [
      "p-value: 4.480161685830322e-06\n",
      "Отвергаем нулевую гипотезу\n"
     ]
    }
   ],
   "source": [
    "action_data = df.query('genre == \"Action\" and year_of_release > 2013 and user_score > 0')\n",
    "sport_data = df.query('genre == \"Sports\" and year_of_release > 2013 and user_score > 0')\n",
    "\n",
    "alpha = .05\n",
    "\n",
    "dispersion = st.levene(\n",
    "    action_data['user_score'], \n",
    "    sport_data['user_score'],)\n",
    "\n",
    "\n",
    "print('p-value:', dispersion.pvalue)\n",
    "\n",
    "if (dispersion.pvalue < alpha):\n",
    "    print(\"Отвергаем нулевую гипотезу\")\n",
    "else:\n",
    "    print(\"Не получилось отвергнуть нулевую гипотезу\")"
   ]
  },
  {
   "cell_type": "markdown",
   "metadata": {},
   "source": [
    "Вероятнее всего, дисперсии двух генеральных совокупностей не равны."
   ]
  },
  {
   "cell_type": "code",
   "execution_count": 40,
   "metadata": {},
   "outputs": [
    {
     "name": "stdout",
     "output_type": "stream",
     "text": [
      "Размер выборки Action:  297\n",
      "Размер выборки Sport:  127\n"
     ]
    }
   ],
   "source": [
    "print('Размер выборки Action: ', len(action_data))\n",
    "print('Размер выборки Sport: ', len(sport_data))"
   ]
  },
  {
   "cell_type": "markdown",
   "metadata": {},
   "source": [
    "Как мы видим, выборки разного размера, поэтому будем использовать t-тест с параметром equal_var = False."
   ]
  },
  {
   "cell_type": "code",
   "execution_count": 41,
   "metadata": {},
   "outputs": [
    {
     "name": "stdout",
     "output_type": "stream",
     "text": [
      "p-value: 1.1825550382644557e-14\n",
      "Отвергаем нулевую гипотезу\n"
     ]
    }
   ],
   "source": [
    "alpha = .05\n",
    "\n",
    "results = st.ttest_ind(\n",
    "    action_data['user_score'],\n",
    "    sport_data['user_score'],\n",
    "    equal_var = False)\n",
    "\n",
    "print('p-value:', results.pvalue)\n",
    "\n",
    "if (results.pvalue < alpha):\n",
    "    print(\"Отвергаем нулевую гипотезу\")\n",
    "else:\n",
    "    print(\"Не получилось отвергнуть нулевую гипотезу\")"
   ]
  },
  {
   "cell_type": "code",
   "execution_count": 44,
   "metadata": {},
   "outputs": [
    {
     "name": "stdout",
     "output_type": "stream",
     "text": [
      "Средний пользовательский рейтинг жанра Action:  6.760606060606061\n",
      "Средний пользовательский рейтинг жанра Sports:  5.225196850393702\n"
     ]
    }
   ],
   "source": [
    "print('Средний пользовательский рейтинг жанра Action: ',action_data['user_score'].sort_values().mean())\n",
    "print('Средний пользовательский рейтинг жанра Sports: ',sport_data['user_score'].sort_values().mean())"
   ]
  },
  {
   "cell_type": "markdown",
   "metadata": {},
   "source": [
    "Так как p-value < 0.05, мы можем отвергнуть нулевую гипотезу. Это значит, что вероятность получить такие или ещё более значимые различия при условии что H0 верна,менее 5 %, значит мы можем отвергнуть нулевую гипотезу и считать, что средние пользовательские рейтинги жанров Action и Sports разные"
   ]
  },
  {
   "cell_type": "markdown",
   "metadata": {},
   "source": [
    "### Общий вывод"
   ]
  },
  {
   "cell_type": "markdown",
   "metadata": {},
   "source": [
    "Подводя итог, можно сказать, что успешность игры зависит от платформы, на которой выпущена эта игра и так же жанра игры. И если США и Европа по приоритетам в платформах  и жанрах совпадают, то Япония немного  отличается по предпочтениям. В США и Европе самой продаваемой игрой будет Шутер выпущенный на платформе PS4 с возрастным рейтингом М. А для Японии это будет Шутер игра на платформе PS4 без возрастного рейтинга. "
   ]
  }
 ],
 "metadata": {
  "ExecuteTimeLog": [
   {
    "duration": 733,
    "start_time": "2022-05-16T12:16:34.640Z"
   },
   {
    "duration": 134,
    "start_time": "2022-05-16T12:17:57.741Z"
   },
   {
    "duration": 74,
    "start_time": "2022-05-16T12:18:04.663Z"
   },
   {
    "duration": 3,
    "start_time": "2022-05-16T14:36:15.274Z"
   },
   {
    "duration": 72,
    "start_time": "2022-05-16T14:36:15.584Z"
   },
   {
    "duration": 131,
    "start_time": "2022-05-16T14:36:16.185Z"
   },
   {
    "duration": 24,
    "start_time": "2022-05-16T14:37:25.931Z"
   },
   {
    "duration": 113,
    "start_time": "2022-05-16T16:57:12.635Z"
   },
   {
    "duration": 10,
    "start_time": "2022-05-16T16:57:17.610Z"
   },
   {
    "duration": 13,
    "start_time": "2022-05-16T16:57:20.121Z"
   },
   {
    "duration": 23,
    "start_time": "2022-05-16T16:57:24.235Z"
   },
   {
    "duration": 18,
    "start_time": "2022-05-16T16:57:27.268Z"
   },
   {
    "duration": 12,
    "start_time": "2022-05-16T16:57:29.073Z"
   },
   {
    "duration": 10,
    "start_time": "2022-05-16T16:57:40.934Z"
   },
   {
    "duration": 100,
    "start_time": "2022-05-16T16:57:41.158Z"
   },
   {
    "duration": 14,
    "start_time": "2022-05-16T16:57:41.567Z"
   },
   {
    "duration": 29,
    "start_time": "2022-05-16T17:01:27.673Z"
   },
   {
    "duration": 7,
    "start_time": "2022-05-16T17:01:48.307Z"
   },
   {
    "duration": 46,
    "start_time": "2022-05-16T17:01:54.720Z"
   },
   {
    "duration": 32,
    "start_time": "2022-05-16T17:20:31.547Z"
   },
   {
    "duration": 30,
    "start_time": "2022-05-16T17:20:58.073Z"
   },
   {
    "duration": 7,
    "start_time": "2022-05-16T17:21:36.934Z"
   },
   {
    "duration": 7,
    "start_time": "2022-05-16T17:21:49.613Z"
   },
   {
    "duration": 49,
    "start_time": "2022-05-16T17:59:24.310Z"
   },
   {
    "duration": 69,
    "start_time": "2022-05-16T18:00:40.213Z"
   },
   {
    "duration": 67,
    "start_time": "2022-05-16T18:00:45.467Z"
   },
   {
    "duration": 26,
    "start_time": "2022-05-16T18:00:49.571Z"
   },
   {
    "duration": 27,
    "start_time": "2022-05-16T18:00:53.968Z"
   },
   {
    "duration": 39,
    "start_time": "2022-05-16T18:01:18.796Z"
   },
   {
    "duration": 62,
    "start_time": "2022-05-16T18:02:58.611Z"
   },
   {
    "duration": 51,
    "start_time": "2022-05-16T18:03:40.439Z"
   },
   {
    "duration": 8,
    "start_time": "2022-05-16T18:03:55.033Z"
   },
   {
    "duration": 9,
    "start_time": "2022-05-16T18:06:19.201Z"
   },
   {
    "duration": 7,
    "start_time": "2022-05-16T18:06:33.853Z"
   },
   {
    "duration": 56,
    "start_time": "2022-05-16T18:06:42.197Z"
   },
   {
    "duration": 15,
    "start_time": "2022-05-16T18:07:27.493Z"
   },
   {
    "duration": 65,
    "start_time": "2022-05-16T18:07:28.923Z"
   },
   {
    "duration": 12,
    "start_time": "2022-05-16T18:08:01.356Z"
   },
   {
    "duration": 16,
    "start_time": "2022-05-16T18:08:05.286Z"
   },
   {
    "duration": 14,
    "start_time": "2022-05-16T18:08:53.362Z"
   },
   {
    "duration": 10,
    "start_time": "2022-05-16T18:09:44.207Z"
   },
   {
    "duration": 42,
    "start_time": "2022-05-16T18:09:54.659Z"
   },
   {
    "duration": 46,
    "start_time": "2022-05-16T18:10:00.293Z"
   },
   {
    "duration": 6,
    "start_time": "2022-05-16T18:10:15.407Z"
   },
   {
    "duration": 46,
    "start_time": "2022-05-16T18:10:20.168Z"
   },
   {
    "duration": 9,
    "start_time": "2022-05-16T18:10:23.301Z"
   },
   {
    "duration": 8,
    "start_time": "2022-05-16T18:10:31.023Z"
   },
   {
    "duration": 12,
    "start_time": "2022-05-16T18:10:34.039Z"
   },
   {
    "duration": 7,
    "start_time": "2022-05-16T18:10:38.120Z"
   },
   {
    "duration": 19,
    "start_time": "2022-05-16T18:11:06.369Z"
   },
   {
    "duration": 42,
    "start_time": "2022-05-16T18:11:10.069Z"
   },
   {
    "duration": 13,
    "start_time": "2022-05-16T18:11:32.605Z"
   },
   {
    "duration": 48,
    "start_time": "2022-05-16T18:11:36.606Z"
   },
   {
    "duration": 4,
    "start_time": "2022-05-16T18:11:52.404Z"
   },
   {
    "duration": 100,
    "start_time": "2022-05-16T18:11:52.642Z"
   },
   {
    "duration": 7,
    "start_time": "2022-05-16T18:11:52.868Z"
   },
   {
    "duration": 30,
    "start_time": "2022-05-16T18:11:53.504Z"
   },
   {
    "duration": 36,
    "start_time": "2022-05-16T18:12:01.968Z"
   },
   {
    "duration": 50,
    "start_time": "2022-05-16T18:12:14.402Z"
   },
   {
    "duration": 3,
    "start_time": "2022-05-16T18:12:21.997Z"
   },
   {
    "duration": 84,
    "start_time": "2022-05-16T18:12:22.318Z"
   },
   {
    "duration": 9,
    "start_time": "2022-05-16T18:12:22.692Z"
   },
   {
    "duration": 35,
    "start_time": "2022-05-16T18:12:24.749Z"
   },
   {
    "duration": 23,
    "start_time": "2022-05-16T18:12:54.790Z"
   },
   {
    "duration": 42,
    "start_time": "2022-05-16T18:13:02.109Z"
   },
   {
    "duration": 20,
    "start_time": "2022-05-16T18:13:24.584Z"
   },
   {
    "duration": 239,
    "start_time": "2022-05-16T18:13:33.640Z"
   },
   {
    "duration": 6,
    "start_time": "2022-05-16T18:13:36.393Z"
   },
   {
    "duration": 6,
    "start_time": "2022-05-16T18:13:46.392Z"
   },
   {
    "duration": 22,
    "start_time": "2022-05-16T18:13:49.687Z"
   },
   {
    "duration": 11,
    "start_time": "2022-05-16T18:13:56.962Z"
   },
   {
    "duration": 17,
    "start_time": "2022-05-16T18:14:06.472Z"
   },
   {
    "duration": 6,
    "start_time": "2022-05-16T18:14:23.025Z"
   },
   {
    "duration": 230,
    "start_time": "2022-05-16T18:14:24.007Z"
   },
   {
    "duration": 8,
    "start_time": "2022-05-16T18:14:24.291Z"
   },
   {
    "duration": 4,
    "start_time": "2022-05-16T18:14:33.121Z"
   },
   {
    "duration": 8,
    "start_time": "2022-05-16T18:14:33.932Z"
   },
   {
    "duration": 8,
    "start_time": "2022-05-16T18:14:42.735Z"
   },
   {
    "duration": 5,
    "start_time": "2022-05-16T18:14:45.876Z"
   },
   {
    "duration": 63,
    "start_time": "2022-05-16T18:14:46.372Z"
   },
   {
    "duration": 5,
    "start_time": "2022-05-16T18:14:47.003Z"
   },
   {
    "duration": 12,
    "start_time": "2022-05-16T18:14:47.983Z"
   },
   {
    "duration": 4,
    "start_time": "2022-05-16T18:14:49.472Z"
   },
   {
    "duration": 7,
    "start_time": "2022-05-16T18:14:49.800Z"
   },
   {
    "duration": 9,
    "start_time": "2022-05-16T18:14:50.169Z"
   },
   {
    "duration": 22,
    "start_time": "2022-05-16T18:15:01.851Z"
   },
   {
    "duration": 3,
    "start_time": "2022-05-16T18:15:02.594Z"
   },
   {
    "duration": 7,
    "start_time": "2022-05-16T18:15:02.834Z"
   },
   {
    "duration": 12,
    "start_time": "2022-05-16T18:15:03.182Z"
   },
   {
    "duration": 14,
    "start_time": "2022-05-16T18:15:16.972Z"
   },
   {
    "duration": 8,
    "start_time": "2022-05-16T18:15:22.994Z"
   },
   {
    "duration": 7,
    "start_time": "2022-05-16T18:15:34.806Z"
   },
   {
    "duration": 6,
    "start_time": "2022-05-16T18:15:36.984Z"
   },
   {
    "duration": 78,
    "start_time": "2022-05-16T18:15:37.223Z"
   },
   {
    "duration": 7,
    "start_time": "2022-05-16T18:15:37.384Z"
   },
   {
    "duration": 7,
    "start_time": "2022-05-16T18:15:37.804Z"
   },
   {
    "duration": 3,
    "start_time": "2022-05-16T18:15:38.172Z"
   },
   {
    "duration": 15,
    "start_time": "2022-05-16T18:15:38.443Z"
   },
   {
    "duration": 8,
    "start_time": "2022-05-16T18:15:38.786Z"
   },
   {
    "duration": 10,
    "start_time": "2022-05-16T18:15:56.395Z"
   },
   {
    "duration": 4,
    "start_time": "2022-05-16T18:15:56.790Z"
   },
   {
    "duration": 10,
    "start_time": "2022-05-16T18:15:56.989Z"
   },
   {
    "duration": 8,
    "start_time": "2022-05-16T18:15:57.288Z"
   },
   {
    "duration": 8,
    "start_time": "2022-05-16T18:16:09.126Z"
   },
   {
    "duration": 7,
    "start_time": "2022-05-16T18:16:09.694Z"
   },
   {
    "duration": 7,
    "start_time": "2022-05-16T18:16:09.910Z"
   },
   {
    "duration": 12,
    "start_time": "2022-05-16T18:16:10.250Z"
   },
   {
    "duration": 4,
    "start_time": "2022-05-16T18:16:13.513Z"
   },
   {
    "duration": 90,
    "start_time": "2022-05-16T18:16:13.661Z"
   },
   {
    "duration": 8,
    "start_time": "2022-05-16T18:16:13.809Z"
   },
   {
    "duration": 6,
    "start_time": "2022-05-16T18:16:14.078Z"
   },
   {
    "duration": 3,
    "start_time": "2022-05-16T18:16:14.269Z"
   },
   {
    "duration": 14,
    "start_time": "2022-05-16T18:16:14.435Z"
   },
   {
    "duration": 8,
    "start_time": "2022-05-16T18:16:14.702Z"
   },
   {
    "duration": 7,
    "start_time": "2022-05-16T18:16:43.534Z"
   },
   {
    "duration": 9,
    "start_time": "2022-05-16T18:16:47.811Z"
   },
   {
    "duration": 4,
    "start_time": "2022-05-16T18:17:15.073Z"
   },
   {
    "duration": 62,
    "start_time": "2022-05-16T18:17:15.182Z"
   },
   {
    "duration": 6,
    "start_time": "2022-05-16T18:17:15.315Z"
   },
   {
    "duration": 12,
    "start_time": "2022-05-16T18:17:15.843Z"
   },
   {
    "duration": 8,
    "start_time": "2022-05-16T18:17:16.299Z"
   },
   {
    "duration": 12,
    "start_time": "2022-05-16T18:17:16.790Z"
   },
   {
    "duration": 7,
    "start_time": "2022-05-16T18:17:17.312Z"
   },
   {
    "duration": 9,
    "start_time": "2022-05-16T18:17:21.900Z"
   },
   {
    "duration": 29,
    "start_time": "2022-05-16T18:17:28.398Z"
   },
   {
    "duration": 4,
    "start_time": "2022-05-16T18:17:37.993Z"
   },
   {
    "duration": 51,
    "start_time": "2022-05-16T18:17:38.089Z"
   },
   {
    "duration": 5,
    "start_time": "2022-05-16T18:17:38.200Z"
   },
   {
    "duration": 12,
    "start_time": "2022-05-16T18:17:38.436Z"
   },
   {
    "duration": 10,
    "start_time": "2022-05-16T18:17:38.585Z"
   },
   {
    "duration": 9,
    "start_time": "2022-05-16T18:17:39.234Z"
   },
   {
    "duration": 8,
    "start_time": "2022-05-16T18:17:39.598Z"
   },
   {
    "duration": 51,
    "start_time": "2022-05-16T18:17:40.531Z"
   },
   {
    "duration": 71,
    "start_time": "2022-05-16T18:17:49.537Z"
   },
   {
    "duration": 8,
    "start_time": "2022-05-16T18:18:14.216Z"
   },
   {
    "duration": 8,
    "start_time": "2022-05-16T18:18:14.475Z"
   },
   {
    "duration": 6,
    "start_time": "2022-05-16T18:18:14.687Z"
   },
   {
    "duration": 48,
    "start_time": "2022-05-16T18:18:17.660Z"
   },
   {
    "duration": 8,
    "start_time": "2022-05-16T18:18:31.778Z"
   },
   {
    "duration": 3,
    "start_time": "2022-05-16T18:18:41.207Z"
   },
   {
    "duration": 85,
    "start_time": "2022-05-16T18:18:41.342Z"
   },
   {
    "duration": 7,
    "start_time": "2022-05-16T18:18:41.493Z"
   },
   {
    "duration": 10,
    "start_time": "2022-05-16T18:18:41.727Z"
   },
   {
    "duration": 8,
    "start_time": "2022-05-16T18:18:41.913Z"
   },
   {
    "duration": 43,
    "start_time": "2022-05-16T18:18:42.225Z"
   },
   {
    "duration": 15,
    "start_time": "2022-05-16T18:19:22.378Z"
   },
   {
    "duration": 5,
    "start_time": "2022-05-16T18:22:06.417Z"
   },
   {
    "duration": 6,
    "start_time": "2022-05-16T18:22:18.037Z"
   },
   {
    "duration": 36,
    "start_time": "2022-05-16T18:22:21.773Z"
   },
   {
    "duration": 7,
    "start_time": "2022-05-16T18:34:44.656Z"
   },
   {
    "duration": 532,
    "start_time": "2022-05-16T18:34:44.796Z"
   },
   {
    "duration": 7,
    "start_time": "2022-05-16T18:34:45.332Z"
   },
   {
    "duration": 59,
    "start_time": "2022-05-16T18:34:45.343Z"
   },
   {
    "duration": 11,
    "start_time": "2022-05-16T18:34:45.679Z"
   },
   {
    "duration": 29,
    "start_time": "2022-05-16T18:34:47.511Z"
   },
   {
    "duration": 12,
    "start_time": "2022-05-16T18:34:56.542Z"
   },
   {
    "duration": 12,
    "start_time": "2022-05-16T18:34:57.127Z"
   },
   {
    "duration": 41,
    "start_time": "2022-05-16T18:34:58.289Z"
   },
   {
    "duration": 35,
    "start_time": "2022-05-16T18:35:01.473Z"
   },
   {
    "duration": 4,
    "start_time": "2022-05-16T18:35:11.691Z"
   },
   {
    "duration": 63,
    "start_time": "2022-05-16T18:35:12.008Z"
   },
   {
    "duration": 5,
    "start_time": "2022-05-16T18:35:12.322Z"
   },
   {
    "duration": 23,
    "start_time": "2022-05-16T18:35:15.779Z"
   },
   {
    "duration": 13,
    "start_time": "2022-05-16T18:35:24.330Z"
   },
   {
    "duration": 11,
    "start_time": "2022-05-16T18:35:24.734Z"
   },
   {
    "duration": 35,
    "start_time": "2022-05-16T18:35:25.320Z"
   },
   {
    "duration": 12,
    "start_time": "2022-05-16T18:35:25.593Z"
   },
   {
    "duration": 3,
    "start_time": "2022-05-16T18:35:25.819Z"
   },
   {
    "duration": 40,
    "start_time": "2022-05-16T18:35:26.015Z"
   },
   {
    "duration": 18,
    "start_time": "2022-05-16T18:35:30.542Z"
   },
   {
    "duration": 38,
    "start_time": "2022-05-16T18:35:31.074Z"
   },
   {
    "duration": 7,
    "start_time": "2022-05-16T18:35:39.520Z"
   },
   {
    "duration": 5,
    "start_time": "2022-05-16T18:35:55.608Z"
   },
   {
    "duration": 69,
    "start_time": "2022-05-16T18:35:55.739Z"
   },
   {
    "duration": 5,
    "start_time": "2022-05-16T18:35:56.139Z"
   },
   {
    "duration": 35,
    "start_time": "2022-05-16T18:36:17.720Z"
   },
   {
    "duration": 48,
    "start_time": "2022-05-16T18:36:23.040Z"
   },
   {
    "duration": 25,
    "start_time": "2022-05-16T18:36:30.945Z"
   },
   {
    "duration": 3,
    "start_time": "2022-05-16T18:36:55.184Z"
   },
   {
    "duration": 54,
    "start_time": "2022-05-16T18:36:55.480Z"
   },
   {
    "duration": 7,
    "start_time": "2022-05-16T18:36:55.701Z"
   },
   {
    "duration": 19,
    "start_time": "2022-05-16T18:36:56.003Z"
   },
   {
    "duration": 10,
    "start_time": "2022-05-16T18:36:56.552Z"
   },
   {
    "duration": 10,
    "start_time": "2022-05-16T18:36:56.923Z"
   },
   {
    "duration": 8,
    "start_time": "2022-05-16T18:36:57.385Z"
   },
   {
    "duration": 6,
    "start_time": "2022-05-16T18:36:58.627Z"
   },
   {
    "duration": 5,
    "start_time": "2022-05-16T18:36:59.681Z"
   },
   {
    "duration": 10,
    "start_time": "2022-05-16T18:37:00.519Z"
   },
   {
    "duration": 28,
    "start_time": "2022-05-16T18:37:08.692Z"
   },
   {
    "duration": 31,
    "start_time": "2022-05-16T18:37:18.006Z"
   },
   {
    "duration": 7,
    "start_time": "2022-05-16T18:37:43.293Z"
   },
   {
    "duration": 8,
    "start_time": "2022-05-16T18:37:56.972Z"
   },
   {
    "duration": 8,
    "start_time": "2022-05-16T18:38:00.527Z"
   },
   {
    "duration": 49,
    "start_time": "2022-05-16T18:38:14.296Z"
   },
   {
    "duration": 10,
    "start_time": "2022-05-16T18:40:54.704Z"
   },
   {
    "duration": 17,
    "start_time": "2022-05-16T18:41:01.864Z"
   },
   {
    "duration": 9,
    "start_time": "2022-05-16T18:41:07.693Z"
   },
   {
    "duration": 75,
    "start_time": "2022-05-16T18:41:10.880Z"
   },
   {
    "duration": 15,
    "start_time": "2022-05-16T18:42:03.464Z"
   },
   {
    "duration": 61,
    "start_time": "2022-05-16T18:42:08.119Z"
   },
   {
    "duration": 6,
    "start_time": "2022-05-16T18:42:53.037Z"
   },
   {
    "duration": 22,
    "start_time": "2022-05-16T18:43:32.496Z"
   },
   {
    "duration": 21,
    "start_time": "2022-05-16T18:49:24.279Z"
   },
   {
    "duration": 16,
    "start_time": "2022-05-16T18:49:42.989Z"
   },
   {
    "duration": 21,
    "start_time": "2022-05-16T18:49:51.397Z"
   },
   {
    "duration": 14,
    "start_time": "2022-05-16T18:50:01.093Z"
   },
   {
    "duration": 10,
    "start_time": "2022-05-16T18:50:32.470Z"
   },
   {
    "duration": 57,
    "start_time": "2022-05-16T18:50:40.134Z"
   },
   {
    "duration": 9,
    "start_time": "2022-05-16T18:51:31.235Z"
   },
   {
    "duration": 39,
    "start_time": "2022-05-16T18:51:33.988Z"
   },
   {
    "duration": 10,
    "start_time": "2022-05-16T18:54:30.184Z"
   },
   {
    "duration": 40,
    "start_time": "2022-05-16T18:54:31.608Z"
   },
   {
    "duration": 8,
    "start_time": "2022-05-16T18:55:15.724Z"
   },
   {
    "duration": 42,
    "start_time": "2022-05-16T18:55:21.408Z"
   },
   {
    "duration": 14,
    "start_time": "2022-05-16T18:56:51.256Z"
   },
   {
    "duration": 9,
    "start_time": "2022-05-16T18:57:17.343Z"
   },
   {
    "duration": 9,
    "start_time": "2022-05-16T18:57:18.302Z"
   },
   {
    "duration": 42,
    "start_time": "2022-05-16T18:57:22.759Z"
   },
   {
    "duration": 11,
    "start_time": "2022-05-16T18:57:31.997Z"
   },
   {
    "duration": 50,
    "start_time": "2022-05-16T18:57:32.478Z"
   },
   {
    "duration": 503,
    "start_time": "2022-05-17T12:21:22.332Z"
   },
   {
    "duration": 87,
    "start_time": "2022-05-17T12:21:22.837Z"
   },
   {
    "duration": 5,
    "start_time": "2022-05-17T12:21:22.927Z"
   },
   {
    "duration": 15,
    "start_time": "2022-05-17T12:21:22.935Z"
   },
   {
    "duration": 16,
    "start_time": "2022-05-17T12:21:22.952Z"
   },
   {
    "duration": 7,
    "start_time": "2022-05-17T12:21:23.073Z"
   },
   {
    "duration": 7,
    "start_time": "2022-05-17T12:21:23.587Z"
   },
   {
    "duration": 14,
    "start_time": "2022-05-17T12:21:23.864Z"
   },
   {
    "duration": 5,
    "start_time": "2022-05-17T12:21:24.169Z"
   },
   {
    "duration": 7,
    "start_time": "2022-05-17T12:21:24.465Z"
   },
   {
    "duration": 10,
    "start_time": "2022-05-17T12:21:24.929Z"
   },
   {
    "duration": 8,
    "start_time": "2022-05-17T12:21:25.465Z"
   },
   {
    "duration": 41,
    "start_time": "2022-05-17T12:21:25.838Z"
   },
   {
    "duration": 10,
    "start_time": "2022-05-17T12:28:13.420Z"
   },
   {
    "duration": 52,
    "start_time": "2022-05-17T12:28:14.182Z"
   },
   {
    "duration": 58,
    "start_time": "2022-05-17T12:31:42.979Z"
   },
   {
    "duration": 13,
    "start_time": "2022-05-17T12:32:35.855Z"
   },
   {
    "duration": 84,
    "start_time": "2022-05-17T12:32:36.277Z"
   },
   {
    "duration": 9,
    "start_time": "2022-05-17T12:34:11.178Z"
   },
   {
    "duration": 23,
    "start_time": "2022-05-17T12:34:51.216Z"
   },
   {
    "duration": 982,
    "start_time": "2022-05-17T12:35:27.430Z"
   },
   {
    "duration": 24,
    "start_time": "2022-05-17T12:35:36.501Z"
   },
   {
    "duration": 114,
    "start_time": "2022-05-17T12:38:06.253Z"
   },
   {
    "duration": 156,
    "start_time": "2022-05-17T12:38:09.740Z"
   },
   {
    "duration": 53,
    "start_time": "2022-05-17T12:38:11.193Z"
   },
   {
    "duration": 46,
    "start_time": "2022-05-17T12:39:33.672Z"
   },
   {
    "duration": 16,
    "start_time": "2022-05-17T12:39:53.252Z"
   },
   {
    "duration": 23,
    "start_time": "2022-05-17T12:40:36.027Z"
   },
   {
    "duration": 196,
    "start_time": "2022-05-17T12:40:51.166Z"
   },
   {
    "duration": 29,
    "start_time": "2022-05-17T12:41:10.808Z"
   },
   {
    "duration": 15,
    "start_time": "2022-05-17T12:41:18.490Z"
   },
   {
    "duration": 14,
    "start_time": "2022-05-17T12:41:27.172Z"
   },
   {
    "duration": 14,
    "start_time": "2022-05-17T12:42:24.180Z"
   },
   {
    "duration": 7,
    "start_time": "2022-05-17T12:42:41.197Z"
   },
   {
    "duration": 7,
    "start_time": "2022-05-17T12:42:41.664Z"
   },
   {
    "duration": 7,
    "start_time": "2022-05-17T12:42:41.835Z"
   },
   {
    "duration": 11,
    "start_time": "2022-05-17T12:42:42.031Z"
   },
   {
    "duration": 9,
    "start_time": "2022-05-17T12:42:42.230Z"
   },
   {
    "duration": 15,
    "start_time": "2022-05-17T12:42:42.408Z"
   },
   {
    "duration": 6,
    "start_time": "2022-05-17T12:42:42.787Z"
   },
   {
    "duration": 16,
    "start_time": "2022-05-17T12:42:43.213Z"
   },
   {
    "duration": 16,
    "start_time": "2022-05-17T12:42:43.553Z"
   },
   {
    "duration": 21,
    "start_time": "2022-05-17T12:42:43.931Z"
   },
   {
    "duration": 26,
    "start_time": "2022-05-17T12:43:05.390Z"
   },
   {
    "duration": 155,
    "start_time": "2022-05-17T12:44:35.353Z"
   },
   {
    "duration": 127,
    "start_time": "2022-05-17T12:44:41.472Z"
   },
   {
    "duration": 30,
    "start_time": "2022-05-17T12:44:45.835Z"
   },
   {
    "duration": 36,
    "start_time": "2022-05-17T12:44:54.327Z"
   },
   {
    "duration": 56,
    "start_time": "2022-05-17T12:58:01.602Z"
   },
   {
    "duration": 13,
    "start_time": "2022-05-17T12:58:17.566Z"
   },
   {
    "duration": 24,
    "start_time": "2022-05-17T13:03:06.300Z"
   },
   {
    "duration": 36,
    "start_time": "2022-05-17T13:03:27.735Z"
   },
   {
    "duration": 18,
    "start_time": "2022-05-17T13:03:48.871Z"
   },
   {
    "duration": 2851,
    "start_time": "2022-05-17T13:04:21.418Z"
   },
   {
    "duration": 53,
    "start_time": "2022-05-17T13:04:30.392Z"
   },
   {
    "duration": 12,
    "start_time": "2022-05-17T13:04:36.530Z"
   },
   {
    "duration": 17,
    "start_time": "2022-05-17T13:04:43.634Z"
   },
   {
    "duration": 207,
    "start_time": "2022-05-17T13:06:08.148Z"
   },
   {
    "duration": 15,
    "start_time": "2022-05-17T13:06:23.552Z"
   },
   {
    "duration": 10,
    "start_time": "2022-05-17T13:06:35.197Z"
   },
   {
    "duration": 23,
    "start_time": "2022-05-17T13:06:39.216Z"
   },
   {
    "duration": 13,
    "start_time": "2022-05-17T13:06:43.060Z"
   },
   {
    "duration": 30,
    "start_time": "2022-05-17T13:07:20.165Z"
   },
   {
    "duration": 47,
    "start_time": "2022-05-17T13:09:30.944Z"
   },
   {
    "duration": 30,
    "start_time": "2022-05-17T13:09:42.454Z"
   },
   {
    "duration": 54,
    "start_time": "2022-05-17T13:10:02.015Z"
   },
   {
    "duration": 44,
    "start_time": "2022-05-17T13:10:09.553Z"
   },
   {
    "duration": 32,
    "start_time": "2022-05-17T13:10:24.016Z"
   },
   {
    "duration": 4,
    "start_time": "2022-05-17T13:12:00.150Z"
   },
   {
    "duration": 57,
    "start_time": "2022-05-17T13:12:00.310Z"
   },
   {
    "duration": 6,
    "start_time": "2022-05-17T13:12:00.476Z"
   },
   {
    "duration": 21,
    "start_time": "2022-05-17T13:12:00.624Z"
   },
   {
    "duration": 8,
    "start_time": "2022-05-17T13:12:00.773Z"
   },
   {
    "duration": 7,
    "start_time": "2022-05-17T13:12:00.940Z"
   },
   {
    "duration": 6,
    "start_time": "2022-05-17T13:12:01.081Z"
   },
   {
    "duration": 7,
    "start_time": "2022-05-17T13:12:01.238Z"
   },
   {
    "duration": 6,
    "start_time": "2022-05-17T13:12:01.368Z"
   },
   {
    "duration": 8,
    "start_time": "2022-05-17T13:12:01.543Z"
   },
   {
    "duration": 7,
    "start_time": "2022-05-17T13:12:01.757Z"
   },
   {
    "duration": 8,
    "start_time": "2022-05-17T13:12:01.943Z"
   },
   {
    "duration": 23,
    "start_time": "2022-05-17T13:12:02.201Z"
   },
   {
    "duration": 16,
    "start_time": "2022-05-17T13:29:14.438Z"
   },
   {
    "duration": 19,
    "start_time": "2022-05-17T13:29:24.975Z"
   },
   {
    "duration": 33,
    "start_time": "2022-05-17T13:29:30.360Z"
   },
   {
    "duration": 13,
    "start_time": "2022-05-17T13:29:43.866Z"
   },
   {
    "duration": 40,
    "start_time": "2022-05-17T13:31:14.542Z"
   },
   {
    "duration": 233,
    "start_time": "2022-05-17T13:31:42.272Z"
   },
   {
    "duration": 10,
    "start_time": "2022-05-17T13:31:52.806Z"
   },
   {
    "duration": 56,
    "start_time": "2022-05-17T13:32:56.107Z"
   },
   {
    "duration": 23,
    "start_time": "2022-05-17T13:33:05.208Z"
   },
   {
    "duration": 73,
    "start_time": "2022-05-17T13:33:08.974Z"
   },
   {
    "duration": 58,
    "start_time": "2022-05-17T13:34:03.302Z"
   },
   {
    "duration": 29,
    "start_time": "2022-05-17T13:34:10.047Z"
   },
   {
    "duration": 41,
    "start_time": "2022-05-17T13:34:23.101Z"
   },
   {
    "duration": 25,
    "start_time": "2022-05-17T13:34:35.832Z"
   },
   {
    "duration": 54,
    "start_time": "2022-05-17T13:35:16.369Z"
   },
   {
    "duration": 29,
    "start_time": "2022-05-17T13:35:27.061Z"
   },
   {
    "duration": 32,
    "start_time": "2022-05-17T13:36:23.098Z"
   },
   {
    "duration": 184,
    "start_time": "2022-05-17T13:36:28.177Z"
   },
   {
    "duration": 38,
    "start_time": "2022-05-17T13:36:30.458Z"
   },
   {
    "duration": 41,
    "start_time": "2022-05-17T13:36:51.110Z"
   },
   {
    "duration": 171,
    "start_time": "2022-05-17T13:36:53.937Z"
   },
   {
    "duration": 26,
    "start_time": "2022-05-17T13:36:57.730Z"
   },
   {
    "duration": 68,
    "start_time": "2022-05-17T13:37:32.895Z"
   },
   {
    "duration": 85,
    "start_time": "2022-05-17T13:38:05.191Z"
   },
   {
    "duration": 67,
    "start_time": "2022-05-17T13:38:10.391Z"
   },
   {
    "duration": 68,
    "start_time": "2022-05-17T13:38:12.786Z"
   },
   {
    "duration": 42,
    "start_time": "2022-05-17T13:38:30.749Z"
   },
   {
    "duration": 31,
    "start_time": "2022-05-17T13:39:46.364Z"
   },
   {
    "duration": 42,
    "start_time": "2022-05-17T13:39:50.887Z"
   },
   {
    "duration": 93,
    "start_time": "2022-05-17T13:39:54.435Z"
   },
   {
    "duration": 62,
    "start_time": "2022-05-17T13:41:30.022Z"
   },
   {
    "duration": 282,
    "start_time": "2022-05-17T13:41:40.029Z"
   },
   {
    "duration": 329,
    "start_time": "2022-05-17T13:42:08.143Z"
   },
   {
    "duration": 67,
    "start_time": "2022-05-17T13:42:20.564Z"
   },
   {
    "duration": 57,
    "start_time": "2022-05-17T13:42:24.092Z"
   },
   {
    "duration": 54,
    "start_time": "2022-05-17T13:42:27.030Z"
   },
   {
    "duration": 49,
    "start_time": "2022-05-17T13:43:06.037Z"
   },
   {
    "duration": 45,
    "start_time": "2022-05-17T13:44:12.867Z"
   },
   {
    "duration": 55,
    "start_time": "2022-05-17T13:44:26.678Z"
   },
   {
    "duration": 77,
    "start_time": "2022-05-17T13:44:38.189Z"
   },
   {
    "duration": 360,
    "start_time": "2022-05-17T13:44:47.254Z"
   },
   {
    "duration": 418,
    "start_time": "2022-05-17T13:44:56.491Z"
   },
   {
    "duration": 50,
    "start_time": "2022-05-17T13:45:01.571Z"
   },
   {
    "duration": 34,
    "start_time": "2022-05-17T13:45:19.671Z"
   },
   {
    "duration": 40,
    "start_time": "2022-05-17T13:45:39.227Z"
   },
   {
    "duration": 4,
    "start_time": "2022-05-17T13:45:58.036Z"
   },
   {
    "duration": 44,
    "start_time": "2022-05-17T13:45:58.326Z"
   },
   {
    "duration": 5,
    "start_time": "2022-05-17T13:45:58.461Z"
   },
   {
    "duration": 12,
    "start_time": "2022-05-17T13:45:58.577Z"
   },
   {
    "duration": 9,
    "start_time": "2022-05-17T13:45:58.718Z"
   },
   {
    "duration": 10,
    "start_time": "2022-05-17T13:45:58.855Z"
   },
   {
    "duration": 9,
    "start_time": "2022-05-17T13:45:58.994Z"
   },
   {
    "duration": 7,
    "start_time": "2022-05-17T13:45:59.124Z"
   },
   {
    "duration": 4,
    "start_time": "2022-05-17T13:45:59.269Z"
   },
   {
    "duration": 8,
    "start_time": "2022-05-17T13:45:59.405Z"
   },
   {
    "duration": 6,
    "start_time": "2022-05-17T13:45:59.544Z"
   },
   {
    "duration": 9,
    "start_time": "2022-05-17T13:45:59.706Z"
   },
   {
    "duration": 15,
    "start_time": "2022-05-17T13:45:59.862Z"
   },
   {
    "duration": 44,
    "start_time": "2022-05-17T13:46:00.025Z"
   },
   {
    "duration": 38,
    "start_time": "2022-05-17T13:46:00.177Z"
   },
   {
    "duration": 45,
    "start_time": "2022-05-17T13:46:04.771Z"
   },
   {
    "duration": 48,
    "start_time": "2022-05-17T13:46:12.902Z"
   },
   {
    "duration": 73,
    "start_time": "2022-05-17T13:48:31.606Z"
   },
   {
    "duration": 55,
    "start_time": "2022-05-17T13:49:44.063Z"
   },
   {
    "duration": 1604,
    "start_time": "2022-05-17T13:49:52.097Z"
   },
   {
    "duration": 72,
    "start_time": "2022-05-17T13:50:00.377Z"
   },
   {
    "duration": 233,
    "start_time": "2022-05-17T13:53:32.240Z"
   },
   {
    "duration": 122,
    "start_time": "2022-05-17T13:53:44.691Z"
   },
   {
    "duration": 97,
    "start_time": "2022-05-17T13:53:47.433Z"
   },
   {
    "duration": 52,
    "start_time": "2022-05-17T13:57:25.827Z"
   },
   {
    "duration": 342,
    "start_time": "2022-05-17T13:59:54.559Z"
   },
   {
    "duration": 43,
    "start_time": "2022-05-17T14:00:16.281Z"
   },
   {
    "duration": 45,
    "start_time": "2022-05-17T14:00:19.677Z"
   },
   {
    "duration": 3299,
    "start_time": "2022-05-17T14:00:29.195Z"
   },
   {
    "duration": 61,
    "start_time": "2022-05-17T14:00:44.631Z"
   },
   {
    "duration": 54,
    "start_time": "2022-05-17T14:00:53.986Z"
   },
   {
    "duration": 48,
    "start_time": "2022-05-17T14:00:56.127Z"
   },
   {
    "duration": 122,
    "start_time": "2022-05-17T14:01:21.574Z"
   },
   {
    "duration": 28,
    "start_time": "2022-05-17T14:01:23.878Z"
   },
   {
    "duration": 47,
    "start_time": "2022-05-17T14:01:57.609Z"
   },
   {
    "duration": 49,
    "start_time": "2022-05-17T14:15:27.079Z"
   },
   {
    "duration": 23,
    "start_time": "2022-05-17T14:16:29.575Z"
   },
   {
    "duration": 1267,
    "start_time": "2022-05-17T14:17:07.744Z"
   },
   {
    "duration": 10,
    "start_time": "2022-05-17T14:17:28.120Z"
   },
   {
    "duration": 17,
    "start_time": "2022-05-17T14:17:30.356Z"
   },
   {
    "duration": 3,
    "start_time": "2022-05-17T14:45:09.386Z"
   },
   {
    "duration": 46,
    "start_time": "2022-05-17T14:45:09.901Z"
   },
   {
    "duration": 5,
    "start_time": "2022-05-17T14:45:10.250Z"
   },
   {
    "duration": 12,
    "start_time": "2022-05-17T14:45:10.623Z"
   },
   {
    "duration": 9,
    "start_time": "2022-05-17T14:45:10.904Z"
   },
   {
    "duration": 8,
    "start_time": "2022-05-17T14:45:11.198Z"
   },
   {
    "duration": 7,
    "start_time": "2022-05-17T14:45:12.782Z"
   },
   {
    "duration": 7,
    "start_time": "2022-05-17T14:45:13.262Z"
   },
   {
    "duration": 5,
    "start_time": "2022-05-17T14:45:13.771Z"
   },
   {
    "duration": 8,
    "start_time": "2022-05-17T14:45:14.251Z"
   },
   {
    "duration": 6,
    "start_time": "2022-05-17T14:45:14.730Z"
   },
   {
    "duration": 9,
    "start_time": "2022-05-17T14:45:15.246Z"
   },
   {
    "duration": 14,
    "start_time": "2022-05-17T14:45:15.734Z"
   },
   {
    "duration": 41,
    "start_time": "2022-05-17T14:45:16.343Z"
   },
   {
    "duration": 147,
    "start_time": "2022-05-17T14:49:07.180Z"
   },
   {
    "duration": 8,
    "start_time": "2022-05-17T14:49:50.522Z"
   },
   {
    "duration": 1179,
    "start_time": "2022-05-17T16:07:02.916Z"
   },
   {
    "duration": 87,
    "start_time": "2022-05-17T16:07:04.101Z"
   },
   {
    "duration": 6,
    "start_time": "2022-05-17T16:07:04.190Z"
   },
   {
    "duration": 17,
    "start_time": "2022-05-17T16:07:04.199Z"
   },
   {
    "duration": 29,
    "start_time": "2022-05-17T16:07:04.221Z"
   },
   {
    "duration": 9,
    "start_time": "2022-05-17T16:07:04.253Z"
   },
   {
    "duration": 7,
    "start_time": "2022-05-17T16:07:04.264Z"
   },
   {
    "duration": 12,
    "start_time": "2022-05-17T16:07:04.273Z"
   },
   {
    "duration": 6,
    "start_time": "2022-05-17T16:07:04.287Z"
   },
   {
    "duration": 48,
    "start_time": "2022-05-17T16:07:04.295Z"
   },
   {
    "duration": 14,
    "start_time": "2022-05-17T16:07:04.346Z"
   },
   {
    "duration": 12,
    "start_time": "2022-05-17T16:07:04.362Z"
   },
   {
    "duration": 17,
    "start_time": "2022-05-17T16:07:04.376Z"
   },
   {
    "duration": 48,
    "start_time": "2022-05-17T16:07:04.396Z"
   },
   {
    "duration": 156,
    "start_time": "2022-05-17T16:07:04.447Z"
   },
   {
    "duration": 0,
    "start_time": "2022-05-17T16:07:04.606Z"
   },
   {
    "duration": 121,
    "start_time": "2022-05-17T16:09:01.397Z"
   },
   {
    "duration": 12,
    "start_time": "2022-05-17T16:09:15.272Z"
   },
   {
    "duration": 748,
    "start_time": "2022-05-17T16:09:22.998Z"
   },
   {
    "duration": 57,
    "start_time": "2022-05-17T16:09:23.748Z"
   },
   {
    "duration": 7,
    "start_time": "2022-05-17T16:09:24.396Z"
   },
   {
    "duration": 19,
    "start_time": "2022-05-17T16:09:24.541Z"
   },
   {
    "duration": 9,
    "start_time": "2022-05-17T16:09:24.698Z"
   },
   {
    "duration": 9,
    "start_time": "2022-05-17T16:09:24.867Z"
   },
   {
    "duration": 11,
    "start_time": "2022-05-17T16:09:25.018Z"
   },
   {
    "duration": 7,
    "start_time": "2022-05-17T16:09:25.173Z"
   },
   {
    "duration": 5,
    "start_time": "2022-05-17T16:09:25.338Z"
   },
   {
    "duration": 12,
    "start_time": "2022-05-17T16:09:25.511Z"
   },
   {
    "duration": 7,
    "start_time": "2022-05-17T16:09:25.686Z"
   },
   {
    "duration": 10,
    "start_time": "2022-05-17T16:09:25.876Z"
   },
   {
    "duration": 28,
    "start_time": "2022-05-17T16:09:26.108Z"
   },
   {
    "duration": 57,
    "start_time": "2022-05-17T16:09:26.505Z"
   },
   {
    "duration": 161,
    "start_time": "2022-05-17T16:11:57.473Z"
   },
   {
    "duration": 158,
    "start_time": "2022-05-17T16:12:57.501Z"
   },
   {
    "duration": 145,
    "start_time": "2022-05-17T16:13:20.750Z"
   },
   {
    "duration": 243,
    "start_time": "2022-05-17T16:19:32.648Z"
   },
   {
    "duration": 27,
    "start_time": "2022-05-17T16:20:23.081Z"
   },
   {
    "duration": 6,
    "start_time": "2022-05-17T16:20:26.782Z"
   },
   {
    "duration": 5,
    "start_time": "2022-05-17T16:20:32.989Z"
   },
   {
    "duration": 60,
    "start_time": "2022-05-17T16:21:10.394Z"
   },
   {
    "duration": 41,
    "start_time": "2022-05-17T16:22:34.944Z"
   },
   {
    "duration": 5,
    "start_time": "2022-05-17T16:23:37.377Z"
   },
   {
    "duration": 7,
    "start_time": "2022-05-17T16:24:54.449Z"
   },
   {
    "duration": 48,
    "start_time": "2022-05-17T16:24:59.207Z"
   },
   {
    "duration": 17,
    "start_time": "2022-05-17T16:25:22.734Z"
   },
   {
    "duration": 17,
    "start_time": "2022-05-17T16:25:39.345Z"
   },
   {
    "duration": 11,
    "start_time": "2022-05-17T16:25:44.189Z"
   },
   {
    "duration": 61,
    "start_time": "2022-05-17T16:25:44.796Z"
   },
   {
    "duration": 6,
    "start_time": "2022-05-17T16:28:30.642Z"
   },
   {
    "duration": 211,
    "start_time": "2022-05-17T16:28:37.778Z"
   },
   {
    "duration": 1400,
    "start_time": "2022-05-18T09:02:23.374Z"
   },
   {
    "duration": 76,
    "start_time": "2022-05-18T09:02:24.776Z"
   },
   {
    "duration": 3,
    "start_time": "2022-05-18T09:02:24.854Z"
   },
   {
    "duration": 10,
    "start_time": "2022-05-18T09:02:24.859Z"
   },
   {
    "duration": 6,
    "start_time": "2022-05-18T09:02:25.569Z"
   },
   {
    "duration": 6,
    "start_time": "2022-05-18T09:02:25.718Z"
   },
   {
    "duration": 5,
    "start_time": "2022-05-18T09:02:25.858Z"
   },
   {
    "duration": 8,
    "start_time": "2022-05-18T09:02:25.983Z"
   },
   {
    "duration": 4,
    "start_time": "2022-05-18T09:02:26.128Z"
   },
   {
    "duration": 6,
    "start_time": "2022-05-18T09:02:26.297Z"
   },
   {
    "duration": 5,
    "start_time": "2022-05-18T09:02:26.492Z"
   },
   {
    "duration": 6,
    "start_time": "2022-05-18T09:02:26.670Z"
   },
   {
    "duration": 13,
    "start_time": "2022-05-18T09:02:26.864Z"
   },
   {
    "duration": 17,
    "start_time": "2022-05-18T09:02:27.092Z"
   },
   {
    "duration": 661,
    "start_time": "2022-05-18T09:02:27.863Z"
   },
   {
    "duration": 6,
    "start_time": "2022-05-18T09:02:28.526Z"
   },
   {
    "duration": 20,
    "start_time": "2022-05-18T09:04:03.009Z"
   },
   {
    "duration": 23,
    "start_time": "2022-05-18T09:04:21.038Z"
   },
   {
    "duration": 14,
    "start_time": "2022-05-18T09:06:06.985Z"
   },
   {
    "duration": 98,
    "start_time": "2022-05-18T09:06:25.069Z"
   },
   {
    "duration": 13,
    "start_time": "2022-05-18T09:06:40.827Z"
   },
   {
    "duration": 13,
    "start_time": "2022-05-18T09:06:43.898Z"
   },
   {
    "duration": 92,
    "start_time": "2022-05-18T09:06:51.441Z"
   },
   {
    "duration": 560,
    "start_time": "2022-05-18T09:07:04.467Z"
   },
   {
    "duration": 14,
    "start_time": "2022-05-18T09:07:14.897Z"
   },
   {
    "duration": 9,
    "start_time": "2022-05-18T09:07:30.692Z"
   },
   {
    "duration": 314,
    "start_time": "2022-05-18T09:07:41.793Z"
   },
   {
    "duration": 561,
    "start_time": "2022-05-18T09:07:47.090Z"
   },
   {
    "duration": 8,
    "start_time": "2022-05-18T09:07:59.899Z"
   },
   {
    "duration": 6,
    "start_time": "2022-05-18T09:08:40.316Z"
   },
   {
    "duration": 6,
    "start_time": "2022-05-18T09:08:43.983Z"
   },
   {
    "duration": 7,
    "start_time": "2022-05-18T09:08:46.428Z"
   },
   {
    "duration": 11,
    "start_time": "2022-05-18T09:08:59.163Z"
   },
   {
    "duration": 15,
    "start_time": "2022-05-18T09:09:01.781Z"
   },
   {
    "duration": 7,
    "start_time": "2022-05-18T09:09:15.804Z"
   },
   {
    "duration": 433,
    "start_time": "2022-05-18T09:09:34.807Z"
   },
   {
    "duration": 15,
    "start_time": "2022-05-18T09:10:05.844Z"
   },
   {
    "duration": 6,
    "start_time": "2022-05-18T09:10:11.393Z"
   },
   {
    "duration": 482,
    "start_time": "2022-05-18T09:11:19.608Z"
   },
   {
    "duration": 9,
    "start_time": "2022-05-18T09:11:41.163Z"
   },
   {
    "duration": 10,
    "start_time": "2022-05-18T09:11:43.470Z"
   },
   {
    "duration": 6,
    "start_time": "2022-05-18T09:11:44.253Z"
   },
   {
    "duration": 10,
    "start_time": "2022-05-18T09:11:47.726Z"
   },
   {
    "duration": 28,
    "start_time": "2022-05-18T09:12:42.361Z"
   },
   {
    "duration": 27,
    "start_time": "2022-05-18T09:13:23.620Z"
   },
   {
    "duration": 16321,
    "start_time": "2022-05-18T09:14:00.916Z"
   },
   {
    "duration": 459,
    "start_time": "2022-05-18T09:14:49.976Z"
   },
   {
    "duration": 3,
    "start_time": "2022-05-18T09:14:55.899Z"
   },
   {
    "duration": 19,
    "start_time": "2022-05-18T09:15:27.833Z"
   },
   {
    "duration": 19,
    "start_time": "2022-05-18T09:16:04.955Z"
   },
   {
    "duration": 8,
    "start_time": "2022-05-18T09:16:20.698Z"
   },
   {
    "duration": 19,
    "start_time": "2022-05-18T09:16:23.996Z"
   },
   {
    "duration": 604,
    "start_time": "2022-05-18T09:17:25.841Z"
   },
   {
    "duration": 163,
    "start_time": "2022-05-18T09:17:36.195Z"
   },
   {
    "duration": 233,
    "start_time": "2022-05-18T09:17:49.073Z"
   },
   {
    "duration": 6,
    "start_time": "2022-05-18T09:18:48.823Z"
   },
   {
    "duration": 27,
    "start_time": "2022-05-18T09:19:15.596Z"
   },
   {
    "duration": 227,
    "start_time": "2022-05-18T09:19:59.106Z"
   },
   {
    "duration": 202,
    "start_time": "2022-05-18T09:20:08.417Z"
   },
   {
    "duration": 255,
    "start_time": "2022-05-18T09:20:17.617Z"
   },
   {
    "duration": 184,
    "start_time": "2022-05-18T09:20:48.755Z"
   },
   {
    "duration": 28,
    "start_time": "2022-05-18T09:26:49.561Z"
   },
   {
    "duration": 32,
    "start_time": "2022-05-18T09:27:09.965Z"
   },
   {
    "duration": 30,
    "start_time": "2022-05-18T09:27:15.391Z"
   },
   {
    "duration": 276,
    "start_time": "2022-05-18T09:27:21.823Z"
   },
   {
    "duration": 240,
    "start_time": "2022-05-18T09:31:24.086Z"
   },
   {
    "duration": 267,
    "start_time": "2022-05-18T09:55:18.885Z"
   },
   {
    "duration": 239,
    "start_time": "2022-05-18T10:00:54.695Z"
   },
   {
    "duration": 241,
    "start_time": "2022-05-18T10:00:59.711Z"
   },
   {
    "duration": 235,
    "start_time": "2022-05-18T10:01:14.124Z"
   },
   {
    "duration": 40,
    "start_time": "2022-05-18T10:01:30.942Z"
   },
   {
    "duration": 41,
    "start_time": "2022-05-18T10:01:36.354Z"
   },
   {
    "duration": 34,
    "start_time": "2022-05-18T10:01:39.868Z"
   },
   {
    "duration": 326,
    "start_time": "2022-05-18T10:01:44.830Z"
   },
   {
    "duration": 241,
    "start_time": "2022-05-18T10:03:04.824Z"
   },
   {
    "duration": 32,
    "start_time": "2022-05-18T10:39:45.388Z"
   },
   {
    "duration": 994,
    "start_time": "2022-05-18T10:40:10.439Z"
   },
   {
    "duration": 945,
    "start_time": "2022-05-18T10:40:22.108Z"
   },
   {
    "duration": 1015,
    "start_time": "2022-05-18T10:40:29.645Z"
   },
   {
    "duration": 988,
    "start_time": "2022-05-18T10:40:40.354Z"
   },
   {
    "duration": 1062,
    "start_time": "2022-05-18T10:40:48.655Z"
   },
   {
    "duration": 1327,
    "start_time": "2022-05-18T10:40:58.737Z"
   },
   {
    "duration": 1052,
    "start_time": "2022-05-18T10:41:17.738Z"
   },
   {
    "duration": 18,
    "start_time": "2022-05-18T10:41:34.977Z"
   },
   {
    "duration": 1049,
    "start_time": "2022-05-18T10:42:09.621Z"
   },
   {
    "duration": 1410,
    "start_time": "2022-05-18T10:43:35.749Z"
   },
   {
    "duration": 1439,
    "start_time": "2022-05-18T10:44:34.445Z"
   },
   {
    "duration": 7,
    "start_time": "2022-05-18T10:45:41.395Z"
   },
   {
    "duration": 1911,
    "start_time": "2022-05-18T10:46:16.873Z"
   },
   {
    "duration": 1457,
    "start_time": "2022-05-18T10:47:20.648Z"
   },
   {
    "duration": 1121,
    "start_time": "2022-05-18T10:51:32.184Z"
   },
   {
    "duration": 23,
    "start_time": "2022-05-18T10:52:27.551Z"
   },
   {
    "duration": 1037,
    "start_time": "2022-05-18T10:52:33.871Z"
   },
   {
    "duration": 1067,
    "start_time": "2022-05-18T10:52:54.270Z"
   },
   {
    "duration": 240,
    "start_time": "2022-05-18T10:56:13.941Z"
   },
   {
    "duration": 266,
    "start_time": "2022-05-18T10:56:22.783Z"
   },
   {
    "duration": 19,
    "start_time": "2022-05-18T10:56:37.069Z"
   },
   {
    "duration": 36,
    "start_time": "2022-05-18T10:57:55.173Z"
   },
   {
    "duration": 238,
    "start_time": "2022-05-18T10:58:02.844Z"
   },
   {
    "duration": 260,
    "start_time": "2022-05-18T10:58:51.444Z"
   },
   {
    "duration": 782,
    "start_time": "2022-05-18T11:00:45.509Z"
   },
   {
    "duration": 637,
    "start_time": "2022-05-18T11:01:03.279Z"
   },
   {
    "duration": 934,
    "start_time": "2022-05-18T11:01:40.983Z"
   },
   {
    "duration": 29,
    "start_time": "2022-05-18T11:02:09.054Z"
   },
   {
    "duration": 426,
    "start_time": "2022-05-18T11:03:50.847Z"
   },
   {
    "duration": 520,
    "start_time": "2022-05-18T11:03:59.870Z"
   },
   {
    "duration": 404,
    "start_time": "2022-05-18T11:04:09.957Z"
   },
   {
    "duration": 20,
    "start_time": "2022-05-18T11:05:23.218Z"
   },
   {
    "duration": 13,
    "start_time": "2022-05-18T11:05:36.941Z"
   },
   {
    "duration": 17,
    "start_time": "2022-05-18T11:06:27.745Z"
   },
   {
    "duration": 13,
    "start_time": "2022-05-18T11:06:32.984Z"
   },
   {
    "duration": 16,
    "start_time": "2022-05-18T11:06:41.488Z"
   },
   {
    "duration": 13,
    "start_time": "2022-05-18T11:08:33.459Z"
   },
   {
    "duration": 13,
    "start_time": "2022-05-18T11:08:47.787Z"
   },
   {
    "duration": 17,
    "start_time": "2022-05-18T11:13:57.944Z"
   },
   {
    "duration": 963,
    "start_time": "2022-05-18T11:16:52.218Z"
   },
   {
    "duration": 901,
    "start_time": "2022-05-18T11:17:24.524Z"
   },
   {
    "duration": 921,
    "start_time": "2022-05-18T11:17:35.479Z"
   },
   {
    "duration": 937,
    "start_time": "2022-05-18T11:18:07.357Z"
   },
   {
    "duration": 927,
    "start_time": "2022-05-18T11:18:16.711Z"
   },
   {
    "duration": 938,
    "start_time": "2022-05-18T11:18:37.223Z"
   },
   {
    "duration": 913,
    "start_time": "2022-05-18T11:19:50.984Z"
   },
   {
    "duration": 259,
    "start_time": "2022-05-18T11:23:08.691Z"
   },
   {
    "duration": 15,
    "start_time": "2022-05-18T11:23:20.580Z"
   },
   {
    "duration": 15,
    "start_time": "2022-05-18T11:23:29.680Z"
   },
   {
    "duration": 10,
    "start_time": "2022-05-18T11:23:40.410Z"
   },
   {
    "duration": 19,
    "start_time": "2022-05-18T11:23:45.119Z"
   },
   {
    "duration": 268,
    "start_time": "2022-05-18T11:23:51.717Z"
   },
   {
    "duration": 371,
    "start_time": "2022-05-18T11:26:45.054Z"
   },
   {
    "duration": 3,
    "start_time": "2022-05-18T11:29:56.960Z"
   },
   {
    "duration": 67,
    "start_time": "2022-05-18T11:29:57.125Z"
   },
   {
    "duration": 4,
    "start_time": "2022-05-18T11:29:57.293Z"
   },
   {
    "duration": 8,
    "start_time": "2022-05-18T11:29:57.414Z"
   },
   {
    "duration": 7,
    "start_time": "2022-05-18T11:29:57.563Z"
   },
   {
    "duration": 7,
    "start_time": "2022-05-18T11:29:57.858Z"
   },
   {
    "duration": 6,
    "start_time": "2022-05-18T11:29:57.973Z"
   },
   {
    "duration": 6,
    "start_time": "2022-05-18T11:29:58.087Z"
   },
   {
    "duration": 4,
    "start_time": "2022-05-18T11:29:58.205Z"
   },
   {
    "duration": 6,
    "start_time": "2022-05-18T11:29:58.495Z"
   },
   {
    "duration": 7,
    "start_time": "2022-05-18T11:29:58.667Z"
   },
   {
    "duration": 11,
    "start_time": "2022-05-18T11:29:58.841Z"
   },
   {
    "duration": 19,
    "start_time": "2022-05-18T11:29:59.037Z"
   },
   {
    "duration": 622,
    "start_time": "2022-05-18T11:29:59.244Z"
   },
   {
    "duration": 8,
    "start_time": "2022-05-18T11:29:59.867Z"
   },
   {
    "duration": 7,
    "start_time": "2022-05-18T11:29:59.877Z"
   },
   {
    "duration": 292,
    "start_time": "2022-05-18T11:29:59.887Z"
   },
   {
    "duration": 1491,
    "start_time": "2022-05-18T11:30:00.181Z"
   },
   {
    "duration": 13,
    "start_time": "2022-05-18T11:30:01.674Z"
   },
   {
    "duration": 479,
    "start_time": "2022-05-18T11:30:01.689Z"
   },
   {
    "duration": 28,
    "start_time": "2022-05-18T12:16:15.276Z"
   },
   {
    "duration": 5,
    "start_time": "2022-05-18T12:16:23.815Z"
   },
   {
    "duration": 10,
    "start_time": "2022-05-18T12:18:25.838Z"
   },
   {
    "duration": 17,
    "start_time": "2022-05-18T12:19:01.965Z"
   },
   {
    "duration": 14,
    "start_time": "2022-05-18T12:41:00.104Z"
   },
   {
    "duration": 17,
    "start_time": "2022-05-18T12:41:15.509Z"
   },
   {
    "duration": 14,
    "start_time": "2022-05-18T12:41:21.319Z"
   },
   {
    "duration": 27,
    "start_time": "2022-05-18T12:41:42.159Z"
   },
   {
    "duration": 18,
    "start_time": "2022-05-18T12:41:48.045Z"
   },
   {
    "duration": 23,
    "start_time": "2022-05-18T12:42:02.643Z"
   },
   {
    "duration": 14,
    "start_time": "2022-05-18T12:42:19.106Z"
   },
   {
    "duration": 14,
    "start_time": "2022-05-18T12:42:23.311Z"
   },
   {
    "duration": 5,
    "start_time": "2022-05-18T12:44:36.132Z"
   },
   {
    "duration": 13,
    "start_time": "2022-05-18T12:44:51.784Z"
   },
   {
    "duration": 28,
    "start_time": "2022-05-18T13:29:41.576Z"
   },
   {
    "duration": 34,
    "start_time": "2022-05-18T13:29:48.236Z"
   },
   {
    "duration": 23,
    "start_time": "2022-05-18T13:29:57.454Z"
   },
   {
    "duration": 24,
    "start_time": "2022-05-18T13:29:59.693Z"
   },
   {
    "duration": 19,
    "start_time": "2022-05-18T13:30:31.859Z"
   },
   {
    "duration": 18,
    "start_time": "2022-05-18T13:31:31.243Z"
   },
   {
    "duration": 3,
    "start_time": "2022-05-18T13:33:27.432Z"
   },
   {
    "duration": 14,
    "start_time": "2022-05-18T13:33:34.107Z"
   },
   {
    "duration": 4,
    "start_time": "2022-05-18T13:34:06.907Z"
   },
   {
    "duration": 4,
    "start_time": "2022-05-18T13:34:16.043Z"
   },
   {
    "duration": 3,
    "start_time": "2022-05-18T13:35:29.767Z"
   },
   {
    "duration": 5,
    "start_time": "2022-05-18T13:36:06.552Z"
   },
   {
    "duration": 13,
    "start_time": "2022-05-18T13:39:09.739Z"
   },
   {
    "duration": 5,
    "start_time": "2022-05-18T13:39:56.865Z"
   },
   {
    "duration": 15,
    "start_time": "2022-05-18T13:39:57.532Z"
   },
   {
    "duration": 6,
    "start_time": "2022-05-18T13:40:08.817Z"
   },
   {
    "duration": 15,
    "start_time": "2022-05-18T13:40:09.463Z"
   },
   {
    "duration": 5,
    "start_time": "2022-05-18T13:40:15.808Z"
   },
   {
    "duration": 13,
    "start_time": "2022-05-18T13:40:16.515Z"
   },
   {
    "duration": 8,
    "start_time": "2022-05-18T13:46:22.717Z"
   },
   {
    "duration": 11,
    "start_time": "2022-05-18T13:46:47.561Z"
   },
   {
    "duration": 159,
    "start_time": "2022-05-18T13:47:27.563Z"
   },
   {
    "duration": 16,
    "start_time": "2022-05-18T13:48:36.392Z"
   },
   {
    "duration": 611,
    "start_time": "2022-05-18T13:48:42.673Z"
   },
   {
    "duration": 7,
    "start_time": "2022-05-18T13:48:51.816Z"
   },
   {
    "duration": 471,
    "start_time": "2022-05-18T13:48:52.264Z"
   },
   {
    "duration": 232,
    "start_time": "2022-05-18T13:49:11.700Z"
   },
   {
    "duration": 805,
    "start_time": "2022-05-18T13:49:20.570Z"
   },
   {
    "duration": 12,
    "start_time": "2022-05-18T13:49:24.540Z"
   },
   {
    "duration": 16,
    "start_time": "2022-05-18T13:49:29.106Z"
   },
   {
    "duration": 333,
    "start_time": "2022-05-18T13:49:39.042Z"
   },
   {
    "duration": 17,
    "start_time": "2022-05-18T13:49:45.963Z"
   },
   {
    "duration": 15,
    "start_time": "2022-05-18T13:50:21.627Z"
   },
   {
    "duration": 7,
    "start_time": "2022-05-18T13:50:50.320Z"
   },
   {
    "duration": 178,
    "start_time": "2022-05-18T13:50:51.134Z"
   },
   {
    "duration": 17,
    "start_time": "2022-05-18T13:50:57.545Z"
   },
   {
    "duration": 4,
    "start_time": "2022-05-18T13:50:58.681Z"
   },
   {
    "duration": 5,
    "start_time": "2022-05-18T13:50:59.066Z"
   },
   {
    "duration": 13,
    "start_time": "2022-05-18T13:51:00.473Z"
   },
   {
    "duration": 13,
    "start_time": "2022-05-18T13:51:29.572Z"
   },
   {
    "duration": 15,
    "start_time": "2022-05-18T13:52:40.104Z"
   },
   {
    "duration": 13,
    "start_time": "2022-05-18T13:54:34.994Z"
   },
   {
    "duration": 14,
    "start_time": "2022-05-18T13:54:38.038Z"
   },
   {
    "duration": 23,
    "start_time": "2022-05-18T13:55:01.118Z"
   },
   {
    "duration": 8,
    "start_time": "2022-05-18T13:55:03.785Z"
   },
   {
    "duration": 11,
    "start_time": "2022-05-18T13:55:32.327Z"
   },
   {
    "duration": 10,
    "start_time": "2022-05-18T13:55:34.167Z"
   },
   {
    "duration": 14,
    "start_time": "2022-05-18T13:58:39.617Z"
   },
   {
    "duration": 17,
    "start_time": "2022-05-18T13:58:52.497Z"
   },
   {
    "duration": 30,
    "start_time": "2022-05-18T13:58:56.430Z"
   },
   {
    "duration": 9,
    "start_time": "2022-05-18T13:58:58.465Z"
   },
   {
    "duration": 185,
    "start_time": "2022-05-18T13:59:05.521Z"
   },
   {
    "duration": 348,
    "start_time": "2022-05-18T13:59:27.735Z"
   },
   {
    "duration": 581,
    "start_time": "2022-05-18T13:59:39.652Z"
   },
   {
    "duration": 263,
    "start_time": "2022-05-18T14:00:43.056Z"
   },
   {
    "duration": 267,
    "start_time": "2022-05-18T14:00:50.919Z"
   },
   {
    "duration": 321,
    "start_time": "2022-05-18T14:01:12.426Z"
   },
   {
    "duration": 265,
    "start_time": "2022-05-18T14:01:21.903Z"
   },
   {
    "duration": 263,
    "start_time": "2022-05-18T14:01:36.016Z"
   },
   {
    "duration": 258,
    "start_time": "2022-05-18T14:01:40.922Z"
   },
   {
    "duration": 247,
    "start_time": "2022-05-18T14:01:50.963Z"
   },
   {
    "duration": 243,
    "start_time": "2022-05-18T14:02:35.075Z"
   },
   {
    "duration": 242,
    "start_time": "2022-05-18T14:02:48.616Z"
   },
   {
    "duration": 283,
    "start_time": "2022-05-18T14:03:05.671Z"
   },
   {
    "duration": 257,
    "start_time": "2022-05-18T14:03:20.923Z"
   },
   {
    "duration": 255,
    "start_time": "2022-05-18T14:03:32.964Z"
   },
   {
    "duration": 256,
    "start_time": "2022-05-18T14:04:31.315Z"
   },
   {
    "duration": 844,
    "start_time": "2022-05-18T14:04:39.491Z"
   },
   {
    "duration": 303,
    "start_time": "2022-05-18T14:04:46.499Z"
   },
   {
    "duration": 29,
    "start_time": "2022-05-18T14:06:37.017Z"
   },
   {
    "duration": 764,
    "start_time": "2022-05-18T14:06:40.606Z"
   },
   {
    "duration": 247,
    "start_time": "2022-05-18T14:06:50.596Z"
   },
   {
    "duration": 271,
    "start_time": "2022-05-18T14:07:47.228Z"
   },
   {
    "duration": 249,
    "start_time": "2022-05-18T14:07:55.685Z"
   },
   {
    "duration": 256,
    "start_time": "2022-05-18T14:08:10.312Z"
   },
   {
    "duration": 299,
    "start_time": "2022-05-18T14:09:49.449Z"
   },
   {
    "duration": 258,
    "start_time": "2022-05-18T14:09:57.558Z"
   },
   {
    "duration": 285,
    "start_time": "2022-05-18T14:10:43.215Z"
   },
   {
    "duration": 311,
    "start_time": "2022-05-18T14:10:47.439Z"
   },
   {
    "duration": 251,
    "start_time": "2022-05-18T14:10:54.866Z"
   },
   {
    "duration": 252,
    "start_time": "2022-05-18T14:10:59.777Z"
   },
   {
    "duration": 262,
    "start_time": "2022-05-18T14:11:10.178Z"
   },
   {
    "duration": 282,
    "start_time": "2022-05-18T14:11:17.457Z"
   },
   {
    "duration": 255,
    "start_time": "2022-05-18T14:11:39.463Z"
   },
   {
    "duration": 17,
    "start_time": "2022-05-18T14:12:17.520Z"
   },
   {
    "duration": 17,
    "start_time": "2022-05-18T14:12:26.402Z"
   },
   {
    "duration": 17,
    "start_time": "2022-05-18T14:12:30.857Z"
   },
   {
    "duration": 201,
    "start_time": "2022-05-18T14:12:44.084Z"
   },
   {
    "duration": 294,
    "start_time": "2022-05-18T14:13:12.316Z"
   },
   {
    "duration": 273,
    "start_time": "2022-05-18T14:15:27.082Z"
   },
   {
    "duration": 341,
    "start_time": "2022-05-18T14:15:32.262Z"
   },
   {
    "duration": 365,
    "start_time": "2022-05-18T14:15:42.209Z"
   },
   {
    "duration": 316,
    "start_time": "2022-05-18T14:15:46.435Z"
   },
   {
    "duration": 315,
    "start_time": "2022-05-18T14:15:49.478Z"
   },
   {
    "duration": 354,
    "start_time": "2022-05-18T14:16:21.041Z"
   },
   {
    "duration": 412,
    "start_time": "2022-05-18T14:16:26.650Z"
   },
   {
    "duration": 1029,
    "start_time": "2022-05-18T14:16:37.786Z"
   },
   {
    "duration": 731,
    "start_time": "2022-05-18T14:16:43.861Z"
   },
   {
    "duration": 7,
    "start_time": "2022-05-18T14:17:29.550Z"
   },
   {
    "duration": 4,
    "start_time": "2022-05-18T14:18:26.214Z"
   },
   {
    "duration": 21,
    "start_time": "2022-05-18T14:21:26.238Z"
   },
   {
    "duration": 197,
    "start_time": "2022-05-18T14:22:06.148Z"
   },
   {
    "duration": 190,
    "start_time": "2022-05-18T14:22:34.438Z"
   },
   {
    "duration": 240,
    "start_time": "2022-05-18T14:22:39.598Z"
   },
   {
    "duration": 237,
    "start_time": "2022-05-18T14:22:54.702Z"
   },
   {
    "duration": 225,
    "start_time": "2022-05-18T14:23:04.717Z"
   },
   {
    "duration": 1152,
    "start_time": "2022-05-18T14:24:53.869Z"
   },
   {
    "duration": 350,
    "start_time": "2022-05-18T14:25:11.269Z"
   },
   {
    "duration": 14,
    "start_time": "2022-05-18T14:25:35.194Z"
   },
   {
    "duration": 354,
    "start_time": "2022-05-18T14:25:37.510Z"
   },
   {
    "duration": 380,
    "start_time": "2022-05-18T14:25:37.866Z"
   },
   {
    "duration": 295,
    "start_time": "2022-05-18T14:25:46.756Z"
   },
   {
    "duration": 257,
    "start_time": "2022-05-18T14:25:56.652Z"
   },
   {
    "duration": 267,
    "start_time": "2022-05-18T14:26:11.421Z"
   },
   {
    "duration": 174,
    "start_time": "2022-05-18T14:26:59.139Z"
   },
   {
    "duration": 13,
    "start_time": "2022-05-18T14:27:01.298Z"
   },
   {
    "duration": 199,
    "start_time": "2022-05-18T14:27:13.285Z"
   },
   {
    "duration": 200,
    "start_time": "2022-05-18T14:27:22.000Z"
   },
   {
    "duration": 183,
    "start_time": "2022-05-18T14:27:27.444Z"
   },
   {
    "duration": 178,
    "start_time": "2022-05-18T14:27:37.576Z"
   },
   {
    "duration": 16,
    "start_time": "2022-05-18T14:30:07.406Z"
   },
   {
    "duration": 461,
    "start_time": "2022-05-18T14:30:30.048Z"
   },
   {
    "duration": 15,
    "start_time": "2022-05-18T14:30:53.134Z"
   },
   {
    "duration": 451,
    "start_time": "2022-05-18T14:30:58.356Z"
   },
   {
    "duration": 475,
    "start_time": "2022-05-18T14:32:07.704Z"
   },
   {
    "duration": 8,
    "start_time": "2022-05-18T14:32:11.705Z"
   },
   {
    "duration": 9,
    "start_time": "2022-05-18T14:32:15.220Z"
   },
   {
    "duration": 128,
    "start_time": "2022-05-18T14:32:26.823Z"
   },
   {
    "duration": 230,
    "start_time": "2022-05-18T14:32:45.868Z"
   },
   {
    "duration": 222,
    "start_time": "2022-05-18T14:32:54.816Z"
   },
   {
    "duration": 262,
    "start_time": "2022-05-18T14:32:58.820Z"
   },
   {
    "duration": 229,
    "start_time": "2022-05-18T14:33:07.412Z"
   },
   {
    "duration": 14,
    "start_time": "2022-05-18T14:33:20.169Z"
   },
   {
    "duration": 293,
    "start_time": "2022-05-18T14:34:29.166Z"
   },
   {
    "duration": 224,
    "start_time": "2022-05-18T14:36:02.864Z"
   },
   {
    "duration": 8,
    "start_time": "2022-05-18T14:38:21.635Z"
   },
   {
    "duration": 227,
    "start_time": "2022-05-18T14:38:23.388Z"
   },
   {
    "duration": 8,
    "start_time": "2022-05-18T14:38:35.286Z"
   },
   {
    "duration": 241,
    "start_time": "2022-05-18T14:38:35.558Z"
   },
   {
    "duration": 120,
    "start_time": "2022-05-18T14:38:44.362Z"
   },
   {
    "duration": 8,
    "start_time": "2022-05-18T14:38:58.217Z"
   },
   {
    "duration": 110,
    "start_time": "2022-05-18T14:38:58.726Z"
   },
   {
    "duration": 198,
    "start_time": "2022-05-18T14:40:10.278Z"
   },
   {
    "duration": 258,
    "start_time": "2022-05-18T14:40:14.947Z"
   },
   {
    "duration": 211,
    "start_time": "2022-05-18T14:40:21.691Z"
   },
   {
    "duration": 9,
    "start_time": "2022-05-18T14:42:12.115Z"
   },
   {
    "duration": 15,
    "start_time": "2022-05-18T14:42:39.030Z"
   },
   {
    "duration": 10,
    "start_time": "2022-05-18T14:42:51.326Z"
   },
   {
    "duration": 27,
    "start_time": "2022-05-18T14:43:36.000Z"
   },
   {
    "duration": 227,
    "start_time": "2022-05-18T14:44:05.697Z"
   },
   {
    "duration": 27,
    "start_time": "2022-05-18T14:44:10.919Z"
   },
   {
    "duration": 12,
    "start_time": "2022-05-18T14:44:28.544Z"
   },
   {
    "duration": 223,
    "start_time": "2022-05-18T14:44:30.912Z"
   },
   {
    "duration": 248,
    "start_time": "2022-05-18T14:44:43.380Z"
   },
   {
    "duration": 392,
    "start_time": "2022-05-18T14:46:57.370Z"
   },
   {
    "duration": 343,
    "start_time": "2022-05-18T14:47:12.786Z"
   },
   {
    "duration": 345,
    "start_time": "2022-05-18T14:47:21.870Z"
   },
   {
    "duration": 320,
    "start_time": "2022-05-18T14:48:18.066Z"
   },
   {
    "duration": 18,
    "start_time": "2022-05-18T15:09:53.908Z"
   },
   {
    "duration": 17,
    "start_time": "2022-05-18T15:09:58.523Z"
   },
   {
    "duration": 18,
    "start_time": "2022-05-18T15:10:04.392Z"
   },
   {
    "duration": 17,
    "start_time": "2022-05-18T15:10:16.812Z"
   },
   {
    "duration": 17,
    "start_time": "2022-05-18T15:10:24.631Z"
   },
   {
    "duration": 17,
    "start_time": "2022-05-18T15:10:30.092Z"
   },
   {
    "duration": 585,
    "start_time": "2022-05-18T15:10:30.259Z"
   },
   {
    "duration": 24,
    "start_time": "2022-05-18T15:11:33.934Z"
   },
   {
    "duration": 22,
    "start_time": "2022-05-18T15:11:48.469Z"
   },
   {
    "duration": 713,
    "start_time": "2022-05-18T15:11:48.994Z"
   },
   {
    "duration": 22,
    "start_time": "2022-05-18T15:12:50.816Z"
   },
   {
    "duration": 15,
    "start_time": "2022-05-18T15:12:53.238Z"
   },
   {
    "duration": 17,
    "start_time": "2022-05-18T15:12:58.232Z"
   },
   {
    "duration": 1205,
    "start_time": "2022-05-18T15:12:59.210Z"
   },
   {
    "duration": 25,
    "start_time": "2022-05-18T15:14:42.091Z"
   },
   {
    "duration": 6,
    "start_time": "2022-05-18T15:14:45.299Z"
   },
   {
    "duration": 27,
    "start_time": "2022-05-18T15:14:45.782Z"
   },
   {
    "duration": 3,
    "start_time": "2022-05-18T15:16:39.043Z"
   },
   {
    "duration": 38,
    "start_time": "2022-05-18T15:16:39.486Z"
   },
   {
    "duration": 4,
    "start_time": "2022-05-18T15:16:39.808Z"
   },
   {
    "duration": 7,
    "start_time": "2022-05-18T15:16:40.088Z"
   },
   {
    "duration": 6,
    "start_time": "2022-05-18T15:16:40.323Z"
   },
   {
    "duration": 6,
    "start_time": "2022-05-18T15:16:40.586Z"
   },
   {
    "duration": 6,
    "start_time": "2022-05-18T15:16:40.847Z"
   },
   {
    "duration": 6,
    "start_time": "2022-05-18T15:16:41.161Z"
   },
   {
    "duration": 4,
    "start_time": "2022-05-18T15:16:41.589Z"
   },
   {
    "duration": 6,
    "start_time": "2022-05-18T15:16:42.615Z"
   },
   {
    "duration": 6,
    "start_time": "2022-05-18T15:16:43.045Z"
   },
   {
    "duration": 10,
    "start_time": "2022-05-18T15:16:43.648Z"
   },
   {
    "duration": 19,
    "start_time": "2022-05-18T15:16:45.002Z"
   },
   {
    "duration": 569,
    "start_time": "2022-05-18T15:16:45.822Z"
   },
   {
    "duration": 7,
    "start_time": "2022-05-18T15:16:51.977Z"
   },
   {
    "duration": 27,
    "start_time": "2022-05-18T15:16:52.900Z"
   },
   {
    "duration": 237,
    "start_time": "2022-05-18T15:16:54.898Z"
   },
   {
    "duration": 249,
    "start_time": "2022-05-18T15:17:04.016Z"
   },
   {
    "duration": 851,
    "start_time": "2022-05-18T15:17:13.808Z"
   },
   {
    "duration": 15,
    "start_time": "2022-05-18T15:17:15.829Z"
   },
   {
    "duration": 343,
    "start_time": "2022-05-18T15:17:17.904Z"
   },
   {
    "duration": 13,
    "start_time": "2022-05-18T15:17:22.305Z"
   },
   {
    "duration": 357,
    "start_time": "2022-05-18T15:17:25.814Z"
   },
   {
    "duration": 14,
    "start_time": "2022-05-18T15:17:27.923Z"
   },
   {
    "duration": 263,
    "start_time": "2022-05-18T15:17:29.600Z"
   },
   {
    "duration": 19,
    "start_time": "2022-05-18T15:17:31.862Z"
   },
   {
    "duration": 291,
    "start_time": "2022-05-18T15:17:32.574Z"
   },
   {
    "duration": 14,
    "start_time": "2022-05-18T15:17:35.071Z"
   },
   {
    "duration": 5,
    "start_time": "2022-05-18T15:17:35.489Z"
   },
   {
    "duration": 7,
    "start_time": "2022-05-18T15:17:36.207Z"
   },
   {
    "duration": 16,
    "start_time": "2022-05-18T15:17:39.273Z"
   },
   {
    "duration": 25,
    "start_time": "2022-05-18T15:17:40.591Z"
   },
   {
    "duration": 1536,
    "start_time": "2022-05-19T12:50:56.199Z"
   },
   {
    "duration": 71,
    "start_time": "2022-05-19T12:50:57.737Z"
   },
   {
    "duration": 5,
    "start_time": "2022-05-19T12:50:57.810Z"
   },
   {
    "duration": 40,
    "start_time": "2022-05-19T12:50:57.817Z"
   },
   {
    "duration": 22,
    "start_time": "2022-05-19T12:50:57.859Z"
   },
   {
    "duration": 22,
    "start_time": "2022-05-19T12:50:57.883Z"
   },
   {
    "duration": 19,
    "start_time": "2022-05-19T12:50:57.907Z"
   },
   {
    "duration": 29,
    "start_time": "2022-05-19T12:50:57.928Z"
   },
   {
    "duration": 14,
    "start_time": "2022-05-19T12:50:57.958Z"
   },
   {
    "duration": 15,
    "start_time": "2022-05-19T12:50:57.975Z"
   },
   {
    "duration": 16,
    "start_time": "2022-05-19T12:50:57.992Z"
   },
   {
    "duration": 31,
    "start_time": "2022-05-19T12:50:58.010Z"
   },
   {
    "duration": 20,
    "start_time": "2022-05-19T12:50:58.043Z"
   },
   {
    "duration": 750,
    "start_time": "2022-05-19T12:50:58.065Z"
   },
   {
    "duration": 7,
    "start_time": "2022-05-19T12:50:58.817Z"
   },
   {
    "duration": 40,
    "start_time": "2022-05-19T12:50:58.826Z"
   },
   {
    "duration": 255,
    "start_time": "2022-05-19T12:50:58.867Z"
   },
   {
    "duration": 900,
    "start_time": "2022-05-19T12:50:59.124Z"
   },
   {
    "duration": 13,
    "start_time": "2022-05-19T12:51:00.025Z"
   },
   {
    "duration": 363,
    "start_time": "2022-05-19T12:51:00.040Z"
   },
   {
    "duration": 15,
    "start_time": "2022-05-19T12:51:00.405Z"
   },
   {
    "duration": 399,
    "start_time": "2022-05-19T12:51:00.422Z"
   },
   {
    "duration": 16,
    "start_time": "2022-05-19T12:51:00.823Z"
   },
   {
    "duration": 284,
    "start_time": "2022-05-19T12:51:00.852Z"
   },
   {
    "duration": 19,
    "start_time": "2022-05-19T12:51:01.138Z"
   },
   {
    "duration": 296,
    "start_time": "2022-05-19T12:51:01.159Z"
   },
   {
    "duration": 17,
    "start_time": "2022-05-19T12:51:01.457Z"
   },
   {
    "duration": 9,
    "start_time": "2022-05-19T12:51:01.476Z"
   },
   {
    "duration": 10,
    "start_time": "2022-05-19T12:51:01.486Z"
   },
   {
    "duration": 15,
    "start_time": "2022-05-19T12:51:01.498Z"
   },
   {
    "duration": 52,
    "start_time": "2022-05-19T12:51:01.515Z"
   },
   {
    "duration": 3,
    "start_time": "2022-05-19T13:10:39.656Z"
   },
   {
    "duration": 17,
    "start_time": "2022-05-19T13:11:01.420Z"
   },
   {
    "duration": 2,
    "start_time": "2022-05-19T13:11:39.732Z"
   },
   {
    "duration": 35,
    "start_time": "2022-05-19T13:11:40.257Z"
   },
   {
    "duration": 14,
    "start_time": "2022-05-19T13:11:41.026Z"
   },
   {
    "duration": 15,
    "start_time": "2022-05-19T13:15:15.122Z"
   },
   {
    "duration": 483,
    "start_time": "2022-05-19T13:16:02.723Z"
   },
   {
    "duration": 3,
    "start_time": "2022-05-19T13:16:08.884Z"
   },
   {
    "duration": 34,
    "start_time": "2022-05-19T13:16:09.168Z"
   },
   {
    "duration": 13,
    "start_time": "2022-05-19T13:16:09.460Z"
   },
   {
    "duration": 5,
    "start_time": "2022-05-19T13:16:10.415Z"
   },
   {
    "duration": 14,
    "start_time": "2022-05-19T13:16:11.073Z"
   },
   {
    "duration": 8,
    "start_time": "2022-05-19T13:16:12.264Z"
   },
   {
    "duration": 6,
    "start_time": "2022-05-19T13:25:50.008Z"
   },
   {
    "duration": 6,
    "start_time": "2022-05-19T13:26:19.170Z"
   },
   {
    "duration": 5,
    "start_time": "2022-05-19T13:27:13.066Z"
   },
   {
    "duration": 6,
    "start_time": "2022-05-19T13:30:15.447Z"
   },
   {
    "duration": 5,
    "start_time": "2022-05-19T13:30:55.794Z"
   },
   {
    "duration": 5,
    "start_time": "2022-05-19T13:34:37.860Z"
   },
   {
    "duration": 22,
    "start_time": "2022-05-19T13:39:10.458Z"
   },
   {
    "duration": 7,
    "start_time": "2022-05-19T13:46:51.095Z"
   },
   {
    "duration": 3,
    "start_time": "2022-05-19T13:47:20.729Z"
   },
   {
    "duration": 42,
    "start_time": "2022-05-19T13:47:21.031Z"
   },
   {
    "duration": 15,
    "start_time": "2022-05-19T13:47:21.316Z"
   },
   {
    "duration": 4,
    "start_time": "2022-05-19T13:47:21.764Z"
   },
   {
    "duration": 17,
    "start_time": "2022-05-19T13:47:22.111Z"
   },
   {
    "duration": 9,
    "start_time": "2022-05-19T13:47:22.464Z"
   },
   {
    "duration": 7,
    "start_time": "2022-05-19T13:47:22.865Z"
   },
   {
    "duration": 7,
    "start_time": "2022-05-19T13:47:23.281Z"
   },
   {
    "duration": 6,
    "start_time": "2022-05-19T13:47:24.098Z"
   },
   {
    "duration": 6,
    "start_time": "2022-05-19T13:47:25.013Z"
   },
   {
    "duration": 22,
    "start_time": "2022-05-19T13:47:25.723Z"
   },
   {
    "duration": 5,
    "start_time": "2022-05-19T13:49:02.366Z"
   },
   {
    "duration": 1442,
    "start_time": "2022-05-19T17:13:52.758Z"
   },
   {
    "duration": 206,
    "start_time": "2022-05-19T17:13:54.202Z"
   },
   {
    "duration": 18,
    "start_time": "2022-05-19T17:13:54.410Z"
   },
   {
    "duration": 4,
    "start_time": "2022-05-19T17:13:54.431Z"
   },
   {
    "duration": 23,
    "start_time": "2022-05-19T17:13:54.437Z"
   },
   {
    "duration": 8,
    "start_time": "2022-05-19T17:13:54.462Z"
   },
   {
    "duration": 6,
    "start_time": "2022-05-19T17:13:54.661Z"
   },
   {
    "duration": 6,
    "start_time": "2022-05-19T17:13:54.985Z"
   },
   {
    "duration": 5,
    "start_time": "2022-05-19T17:13:55.293Z"
   },
   {
    "duration": 5,
    "start_time": "2022-05-19T17:13:55.630Z"
   },
   {
    "duration": 21,
    "start_time": "2022-05-19T17:13:55.791Z"
   },
   {
    "duration": 5,
    "start_time": "2022-05-19T17:13:57.138Z"
   },
   {
    "duration": 8,
    "start_time": "2022-05-19T17:13:58.198Z"
   },
   {
    "duration": 12,
    "start_time": "2022-05-19T17:13:59.581Z"
   },
   {
    "duration": 20,
    "start_time": "2022-05-19T17:14:01.145Z"
   },
   {
    "duration": 702,
    "start_time": "2022-05-19T17:14:02.251Z"
   },
   {
    "duration": 6,
    "start_time": "2022-05-19T17:17:38.073Z"
   },
   {
    "duration": 27,
    "start_time": "2022-05-19T17:20:49.685Z"
   },
   {
    "duration": 24,
    "start_time": "2022-05-19T17:20:58.270Z"
   },
   {
    "duration": 26,
    "start_time": "2022-05-19T17:21:05.484Z"
   },
   {
    "duration": 26,
    "start_time": "2022-05-19T17:21:09.213Z"
   },
   {
    "duration": 26,
    "start_time": "2022-05-19T17:21:13.682Z"
   },
   {
    "duration": 28,
    "start_time": "2022-05-19T17:21:17.124Z"
   },
   {
    "duration": 243,
    "start_time": "2022-05-19T17:21:27.313Z"
   },
   {
    "duration": 24,
    "start_time": "2022-05-19T17:22:36.082Z"
   },
   {
    "duration": 28,
    "start_time": "2022-05-19T17:22:43.277Z"
   },
   {
    "duration": 253,
    "start_time": "2022-05-19T17:26:02.607Z"
   },
   {
    "duration": 232,
    "start_time": "2022-05-19T17:26:10.480Z"
   },
   {
    "duration": 831,
    "start_time": "2022-05-19T17:29:22.530Z"
   },
   {
    "duration": 925,
    "start_time": "2022-05-19T17:29:32.302Z"
   },
   {
    "duration": 781,
    "start_time": "2022-05-19T17:30:06.560Z"
   },
   {
    "duration": 13,
    "start_time": "2022-05-19T17:32:34.193Z"
   },
   {
    "duration": 120,
    "start_time": "2022-05-19T17:42:23.936Z"
   },
   {
    "duration": 12,
    "start_time": "2022-05-19T17:42:27.287Z"
   },
   {
    "duration": 319,
    "start_time": "2022-05-19T17:42:27.873Z"
   },
   {
    "duration": 6,
    "start_time": "2022-05-19T17:42:30.454Z"
   },
   {
    "duration": 380,
    "start_time": "2022-05-19T17:43:31.880Z"
   },
   {
    "duration": 315,
    "start_time": "2022-05-19T17:43:57.036Z"
   },
   {
    "duration": 327,
    "start_time": "2022-05-19T17:44:06.544Z"
   },
   {
    "duration": 15,
    "start_time": "2022-05-19T17:44:25.603Z"
   },
   {
    "duration": 1126,
    "start_time": "2022-05-20T10:29:49.668Z"
   },
   {
    "duration": 42,
    "start_time": "2022-05-20T10:29:50.796Z"
   },
   {
    "duration": 13,
    "start_time": "2022-05-20T10:29:50.839Z"
   },
   {
    "duration": 18,
    "start_time": "2022-05-20T10:29:50.854Z"
   },
   {
    "duration": 47,
    "start_time": "2022-05-20T10:29:50.874Z"
   },
   {
    "duration": 7,
    "start_time": "2022-05-20T10:29:50.923Z"
   },
   {
    "duration": 17,
    "start_time": "2022-05-20T10:29:50.931Z"
   },
   {
    "duration": 17,
    "start_time": "2022-05-20T10:29:50.949Z"
   },
   {
    "duration": 17,
    "start_time": "2022-05-20T10:29:50.967Z"
   },
   {
    "duration": 22,
    "start_time": "2022-05-20T10:29:50.985Z"
   },
   {
    "duration": 46,
    "start_time": "2022-05-20T10:29:51.008Z"
   },
   {
    "duration": 14,
    "start_time": "2022-05-20T10:29:51.055Z"
   },
   {
    "duration": 8,
    "start_time": "2022-05-20T10:29:51.071Z"
   },
   {
    "duration": 16,
    "start_time": "2022-05-20T10:29:51.081Z"
   },
   {
    "duration": 20,
    "start_time": "2022-05-20T10:29:51.098Z"
   },
   {
    "duration": 603,
    "start_time": "2022-05-20T10:29:51.120Z"
   },
   {
    "duration": 8,
    "start_time": "2022-05-20T10:29:51.724Z"
   },
   {
    "duration": 224,
    "start_time": "2022-05-20T10:29:51.734Z"
   },
   {
    "duration": 806,
    "start_time": "2022-05-20T10:29:51.960Z"
   },
   {
    "duration": 11,
    "start_time": "2022-05-20T10:29:52.768Z"
   },
   {
    "duration": 285,
    "start_time": "2022-05-20T10:29:52.780Z"
   },
   {
    "duration": 13,
    "start_time": "2022-05-20T10:29:53.067Z"
   },
   {
    "duration": 353,
    "start_time": "2022-05-20T10:29:53.082Z"
   },
   {
    "duration": 248,
    "start_time": "2022-05-20T10:29:53.437Z"
   },
   {
    "duration": 12,
    "start_time": "2022-05-20T10:29:53.687Z"
   },
   {
    "duration": 286,
    "start_time": "2022-05-20T10:29:53.700Z"
   },
   {
    "duration": 13,
    "start_time": "2022-05-20T10:29:53.988Z"
   },
   {
    "duration": 28,
    "start_time": "2022-05-20T10:29:54.003Z"
   },
   {
    "duration": 37,
    "start_time": "2022-05-20T10:29:54.032Z"
   },
   {
    "duration": 40,
    "start_time": "2022-05-20T10:29:54.071Z"
   },
   {
    "duration": 4,
    "start_time": "2022-05-20T11:33:32.278Z"
   },
   {
    "duration": 12,
    "start_time": "2022-05-20T11:42:14.564Z"
   },
   {
    "duration": 4,
    "start_time": "2022-05-20T11:42:25.790Z"
   },
   {
    "duration": 13,
    "start_time": "2022-05-20T11:42:26.075Z"
   },
   {
    "duration": 6,
    "start_time": "2022-05-20T11:55:02.503Z"
   },
   {
    "duration": 58,
    "start_time": "2022-05-20T22:47:15.011Z"
   },
   {
    "duration": 1413,
    "start_time": "2022-05-20T22:47:21.835Z"
   },
   {
    "duration": 80,
    "start_time": "2022-05-20T22:47:23.250Z"
   },
   {
    "duration": 31,
    "start_time": "2022-05-20T22:47:23.333Z"
   },
   {
    "duration": 22,
    "start_time": "2022-05-20T22:47:23.366Z"
   },
   {
    "duration": 33,
    "start_time": "2022-05-20T22:47:23.392Z"
   },
   {
    "duration": 19,
    "start_time": "2022-05-20T22:47:23.427Z"
   },
   {
    "duration": 29,
    "start_time": "2022-05-20T22:47:23.449Z"
   },
   {
    "duration": 11,
    "start_time": "2022-05-20T22:47:23.480Z"
   },
   {
    "duration": 12,
    "start_time": "2022-05-20T22:47:23.493Z"
   },
   {
    "duration": 16,
    "start_time": "2022-05-20T22:47:23.507Z"
   },
   {
    "duration": 33,
    "start_time": "2022-05-20T22:47:23.525Z"
   },
   {
    "duration": 89,
    "start_time": "2022-05-20T22:47:23.561Z"
   },
   {
    "duration": 8,
    "start_time": "2022-05-20T22:47:23.652Z"
   },
   {
    "duration": 19,
    "start_time": "2022-05-20T22:47:23.663Z"
   },
   {
    "duration": 25,
    "start_time": "2022-05-20T22:47:23.684Z"
   },
   {
    "duration": 756,
    "start_time": "2022-05-20T22:47:23.711Z"
   },
   {
    "duration": 12,
    "start_time": "2022-05-20T22:47:24.468Z"
   },
   {
    "duration": 276,
    "start_time": "2022-05-20T22:47:24.482Z"
   },
   {
    "duration": 893,
    "start_time": "2022-05-20T22:47:24.761Z"
   },
   {
    "duration": 14,
    "start_time": "2022-05-20T22:47:25.655Z"
   },
   {
    "duration": 316,
    "start_time": "2022-05-20T22:47:25.670Z"
   },
   {
    "duration": 14,
    "start_time": "2022-05-20T22:47:25.988Z"
   },
   {
    "duration": 369,
    "start_time": "2022-05-20T22:47:26.004Z"
   },
   {
    "duration": 278,
    "start_time": "2022-05-20T22:47:26.375Z"
   },
   {
    "duration": 13,
    "start_time": "2022-05-20T22:47:26.655Z"
   },
   {
    "duration": 316,
    "start_time": "2022-05-20T22:47:26.669Z"
   },
   {
    "duration": 17,
    "start_time": "2022-05-20T22:47:26.986Z"
   },
   {
    "duration": 22,
    "start_time": "2022-05-20T22:47:27.006Z"
   },
   {
    "duration": 14,
    "start_time": "2022-05-20T22:47:27.030Z"
   },
   {
    "duration": 187,
    "start_time": "2022-05-20T22:47:27.046Z"
   },
   {
    "duration": 0,
    "start_time": "2022-05-20T22:47:27.235Z"
   },
   {
    "duration": 0,
    "start_time": "2022-05-20T22:47:27.237Z"
   },
   {
    "duration": 11,
    "start_time": "2022-05-20T23:43:41.660Z"
   },
   {
    "duration": 1710,
    "start_time": "2022-05-21T09:33:12.074Z"
   },
   {
    "duration": 438,
    "start_time": "2022-05-21T09:33:13.785Z"
   },
   {
    "duration": 15,
    "start_time": "2022-05-21T09:33:16.172Z"
   },
   {
    "duration": 4,
    "start_time": "2022-05-21T09:33:29.731Z"
   },
   {
    "duration": 17,
    "start_time": "2022-05-21T09:34:15.569Z"
   },
   {
    "duration": 7,
    "start_time": "2022-05-21T09:34:18.580Z"
   },
   {
    "duration": 5,
    "start_time": "2022-05-21T09:35:28.805Z"
   },
   {
    "duration": 3,
    "start_time": "2022-05-21T09:35:46.793Z"
   },
   {
    "duration": 57,
    "start_time": "2022-05-21T09:35:47.036Z"
   },
   {
    "duration": 13,
    "start_time": "2022-05-21T09:35:47.311Z"
   },
   {
    "duration": 4,
    "start_time": "2022-05-21T09:35:48.324Z"
   },
   {
    "duration": 14,
    "start_time": "2022-05-21T09:35:49.528Z"
   },
   {
    "duration": 7,
    "start_time": "2022-05-21T09:35:50.601Z"
   },
   {
    "duration": 5,
    "start_time": "2022-05-21T09:35:52.293Z"
   },
   {
    "duration": 4,
    "start_time": "2022-05-21T09:35:54.361Z"
   },
   {
    "duration": 5,
    "start_time": "2022-05-21T09:35:59.187Z"
   },
   {
    "duration": 5,
    "start_time": "2022-05-21T09:36:09.671Z"
   },
   {
    "duration": 7,
    "start_time": "2022-05-21T09:36:21.381Z"
   },
   {
    "duration": 4,
    "start_time": "2022-05-21T09:39:29.221Z"
   },
   {
    "duration": 5,
    "start_time": "2022-05-21T09:39:42.970Z"
   },
   {
    "duration": 4,
    "start_time": "2022-05-21T09:39:44.408Z"
   },
   {
    "duration": 5,
    "start_time": "2022-05-21T09:39:57.036Z"
   },
   {
    "duration": 4,
    "start_time": "2022-05-21T09:40:23.031Z"
   },
   {
    "duration": 4,
    "start_time": "2022-05-21T09:41:05.830Z"
   },
   {
    "duration": 7,
    "start_time": "2022-05-21T09:41:23.383Z"
   },
   {
    "duration": 4,
    "start_time": "2022-05-21T09:41:33.792Z"
   },
   {
    "duration": 50,
    "start_time": "2022-05-21T09:41:34.069Z"
   },
   {
    "duration": 13,
    "start_time": "2022-05-21T09:41:34.310Z"
   },
   {
    "duration": 3,
    "start_time": "2022-05-21T09:41:35.073Z"
   },
   {
    "duration": 19,
    "start_time": "2022-05-21T09:41:35.774Z"
   },
   {
    "duration": 10,
    "start_time": "2022-05-21T09:41:36.592Z"
   },
   {
    "duration": 6,
    "start_time": "2022-05-21T09:41:37.389Z"
   },
   {
    "duration": 4,
    "start_time": "2022-05-21T09:41:38.488Z"
   },
   {
    "duration": 3,
    "start_time": "2022-05-21T09:41:39.076Z"
   },
   {
    "duration": 5,
    "start_time": "2022-05-21T09:41:40.521Z"
   },
   {
    "duration": 4,
    "start_time": "2022-05-21T09:42:36.025Z"
   },
   {
    "duration": 5,
    "start_time": "2022-05-21T09:42:39.024Z"
   },
   {
    "duration": 5,
    "start_time": "2022-05-21T09:42:57.483Z"
   },
   {
    "duration": 4,
    "start_time": "2022-05-21T09:42:58.970Z"
   },
   {
    "duration": 4,
    "start_time": "2022-05-21T09:42:59.191Z"
   },
   {
    "duration": 3,
    "start_time": "2022-05-21T09:43:08.181Z"
   },
   {
    "duration": 63,
    "start_time": "2022-05-21T09:43:08.419Z"
   },
   {
    "duration": 15,
    "start_time": "2022-05-21T09:43:08.686Z"
   },
   {
    "duration": 3,
    "start_time": "2022-05-21T09:43:09.400Z"
   },
   {
    "duration": 15,
    "start_time": "2022-05-21T09:43:10.481Z"
   },
   {
    "duration": 8,
    "start_time": "2022-05-21T09:43:11.368Z"
   },
   {
    "duration": 5,
    "start_time": "2022-05-21T09:43:12.485Z"
   },
   {
    "duration": 5,
    "start_time": "2022-05-21T09:43:13.035Z"
   },
   {
    "duration": 4,
    "start_time": "2022-05-21T09:43:13.376Z"
   },
   {
    "duration": 4,
    "start_time": "2022-05-21T09:43:44.068Z"
   },
   {
    "duration": 4,
    "start_time": "2022-05-21T09:43:44.366Z"
   },
   {
    "duration": 3,
    "start_time": "2022-05-21T09:43:46.677Z"
   },
   {
    "duration": 4,
    "start_time": "2022-05-21T09:43:46.799Z"
   },
   {
    "duration": 5,
    "start_time": "2022-05-21T09:43:46.928Z"
   },
   {
    "duration": 75,
    "start_time": "2022-05-21T09:44:20.829Z"
   },
   {
    "duration": 4,
    "start_time": "2022-05-21T09:46:18.974Z"
   },
   {
    "duration": 50,
    "start_time": "2022-05-21T09:46:19.279Z"
   },
   {
    "duration": 14,
    "start_time": "2022-05-21T09:46:19.586Z"
   },
   {
    "duration": 4,
    "start_time": "2022-05-21T09:46:20.465Z"
   },
   {
    "duration": 20,
    "start_time": "2022-05-21T09:46:21.610Z"
   },
   {
    "duration": 11,
    "start_time": "2022-05-21T09:46:22.388Z"
   },
   {
    "duration": 4,
    "start_time": "2022-05-21T09:46:24.107Z"
   },
   {
    "duration": 10,
    "start_time": "2022-05-21T09:46:24.506Z"
   },
   {
    "duration": 6,
    "start_time": "2022-05-21T09:46:28.060Z"
   },
   {
    "duration": 6,
    "start_time": "2022-05-21T09:46:29.725Z"
   },
   {
    "duration": 5,
    "start_time": "2022-05-21T09:46:29.926Z"
   },
   {
    "duration": 280,
    "start_time": "2022-05-21T09:47:01.976Z"
   },
   {
    "duration": 4,
    "start_time": "2022-05-21T09:47:02.716Z"
   },
   {
    "duration": 4,
    "start_time": "2022-05-21T09:47:04.702Z"
   },
   {
    "duration": 6,
    "start_time": "2022-05-21T09:47:04.968Z"
   },
   {
    "duration": 4,
    "start_time": "2022-05-21T09:47:05.296Z"
   },
   {
    "duration": 3,
    "start_time": "2022-05-21T09:47:09.625Z"
   },
   {
    "duration": 54,
    "start_time": "2022-05-21T09:47:09.893Z"
   },
   {
    "duration": 15,
    "start_time": "2022-05-21T09:47:10.186Z"
   },
   {
    "duration": 4,
    "start_time": "2022-05-21T09:47:10.905Z"
   },
   {
    "duration": 13,
    "start_time": "2022-05-21T09:47:11.539Z"
   },
   {
    "duration": 8,
    "start_time": "2022-05-21T09:47:12.264Z"
   },
   {
    "duration": 4,
    "start_time": "2022-05-21T09:47:13.394Z"
   },
   {
    "duration": 7,
    "start_time": "2022-05-21T09:47:13.640Z"
   },
   {
    "duration": 5,
    "start_time": "2022-05-21T09:47:14.018Z"
   },
   {
    "duration": 4,
    "start_time": "2022-05-21T09:47:20.837Z"
   },
   {
    "duration": 4,
    "start_time": "2022-05-21T09:47:21.378Z"
   },
   {
    "duration": 6,
    "start_time": "2022-05-21T09:47:23.379Z"
   },
   {
    "duration": 5,
    "start_time": "2022-05-21T09:47:33.969Z"
   },
   {
    "duration": 80,
    "start_time": "2022-05-21T09:47:48.368Z"
   },
   {
    "duration": 10,
    "start_time": "2022-05-21T09:49:04.537Z"
   },
   {
    "duration": 4,
    "start_time": "2022-05-21T09:49:05.691Z"
   },
   {
    "duration": 3,
    "start_time": "2022-05-21T09:49:05.979Z"
   },
   {
    "duration": 7,
    "start_time": "2022-05-21T09:49:06.587Z"
   },
   {
    "duration": 5,
    "start_time": "2022-05-21T09:49:07.573Z"
   },
   {
    "duration": 88,
    "start_time": "2022-05-21T09:49:08.300Z"
   },
   {
    "duration": 6,
    "start_time": "2022-05-21T09:49:50.333Z"
   },
   {
    "duration": 10,
    "start_time": "2022-05-21T09:49:50.972Z"
   },
   {
    "duration": 355,
    "start_time": "2022-05-21T09:50:13.830Z"
   },
   {
    "duration": 10,
    "start_time": "2022-05-21T09:50:35.205Z"
   },
   {
    "duration": 160,
    "start_time": "2022-05-21T09:50:37.439Z"
   },
   {
    "duration": 28,
    "start_time": "2022-05-21T09:51:03.372Z"
   },
   {
    "duration": 632,
    "start_time": "2022-05-21T09:51:06.214Z"
   },
   {
    "duration": 6,
    "start_time": "2022-05-21T09:51:38.063Z"
   },
   {
    "duration": 4,
    "start_time": "2022-05-21T09:51:46.170Z"
   },
   {
    "duration": 10,
    "start_time": "2022-05-21T09:51:48.244Z"
   },
   {
    "duration": 4,
    "start_time": "2022-05-21T09:51:48.408Z"
   },
   {
    "duration": 4,
    "start_time": "2022-05-21T09:51:49.071Z"
   },
   {
    "duration": 4,
    "start_time": "2022-05-21T09:51:49.369Z"
   },
   {
    "duration": 7,
    "start_time": "2022-05-21T09:51:49.920Z"
   },
   {
    "duration": 5,
    "start_time": "2022-05-21T09:51:50.673Z"
   },
   {
    "duration": 90,
    "start_time": "2022-05-21T09:51:50.977Z"
   },
   {
    "duration": 6,
    "start_time": "2022-05-21T09:51:52.467Z"
   },
   {
    "duration": 158,
    "start_time": "2022-05-21T09:51:53.008Z"
   },
   {
    "duration": 19,
    "start_time": "2022-05-21T09:51:55.266Z"
   },
   {
    "duration": 588,
    "start_time": "2022-05-21T09:51:56.154Z"
   },
   {
    "duration": 702,
    "start_time": "2022-05-21T09:52:54.606Z"
   },
   {
    "duration": 595,
    "start_time": "2022-05-21T09:53:26.176Z"
   },
   {
    "duration": 627,
    "start_time": "2022-05-21T09:53:40.268Z"
   },
   {
    "duration": 612,
    "start_time": "2022-05-21T09:53:47.471Z"
   },
   {
    "duration": 720,
    "start_time": "2022-05-21T09:54:02.071Z"
   },
   {
    "duration": 633,
    "start_time": "2022-05-21T09:54:29.069Z"
   },
   {
    "duration": 636,
    "start_time": "2022-05-21T09:54:33.881Z"
   },
   {
    "duration": 643,
    "start_time": "2022-05-21T09:54:39.994Z"
   },
   {
    "duration": 923,
    "start_time": "2022-05-21T09:56:28.987Z"
   },
   {
    "duration": 31,
    "start_time": "2022-05-21T09:56:37.801Z"
   },
   {
    "duration": 703,
    "start_time": "2022-05-21T09:56:41.076Z"
   },
   {
    "duration": 714,
    "start_time": "2022-05-21T09:56:49.374Z"
   },
   {
    "duration": 757,
    "start_time": "2022-05-21T09:57:12.280Z"
   },
   {
    "duration": 348,
    "start_time": "2022-05-21T09:57:41.040Z"
   },
   {
    "duration": 18,
    "start_time": "2022-05-21T09:57:44.974Z"
   },
   {
    "duration": 668,
    "start_time": "2022-05-21T09:57:45.505Z"
   },
   {
    "duration": 6,
    "start_time": "2022-05-21T09:58:17.611Z"
   },
   {
    "duration": 273,
    "start_time": "2022-05-21T09:58:19.601Z"
   },
   {
    "duration": 596,
    "start_time": "2022-05-21T09:59:56.513Z"
   },
   {
    "duration": 211,
    "start_time": "2022-05-21T10:00:15.285Z"
   },
   {
    "duration": 549,
    "start_time": "2022-05-21T10:00:20.075Z"
   },
   {
    "duration": 35,
    "start_time": "2022-05-21T10:01:19.182Z"
   },
   {
    "duration": 14,
    "start_time": "2022-05-21T10:01:27.593Z"
   },
   {
    "duration": 744,
    "start_time": "2022-05-21T10:03:47.979Z"
   },
   {
    "duration": 5,
    "start_time": "2022-05-21T10:04:03.592Z"
   },
   {
    "duration": 298,
    "start_time": "2022-05-21T10:04:04.299Z"
   },
   {
    "duration": 313,
    "start_time": "2022-05-21T10:04:49.881Z"
   },
   {
    "duration": 339,
    "start_time": "2022-05-21T10:04:56.674Z"
   },
   {
    "duration": 306,
    "start_time": "2022-05-21T10:05:03.201Z"
   },
   {
    "duration": 165,
    "start_time": "2022-05-21T10:06:08.868Z"
   },
   {
    "duration": 4,
    "start_time": "2022-05-21T10:06:48.171Z"
   },
   {
    "duration": 138,
    "start_time": "2022-05-21T10:06:52.474Z"
   },
   {
    "duration": 28,
    "start_time": "2022-05-21T10:06:57.964Z"
   },
   {
    "duration": 106,
    "start_time": "2022-05-21T10:07:00.298Z"
   },
   {
    "duration": 581,
    "start_time": "2022-05-21T10:08:06.701Z"
   },
   {
    "duration": 50,
    "start_time": "2022-05-21T10:09:29.875Z"
   },
   {
    "duration": 29,
    "start_time": "2022-05-21T10:09:35.635Z"
   },
   {
    "duration": 554,
    "start_time": "2022-05-21T10:09:39.175Z"
   },
   {
    "duration": 518,
    "start_time": "2022-05-21T10:09:46.098Z"
   },
   {
    "duration": 770,
    "start_time": "2022-05-21T10:09:49.471Z"
   },
   {
    "duration": 27,
    "start_time": "2022-05-21T10:09:52.940Z"
   },
   {
    "duration": 625,
    "start_time": "2022-05-21T10:09:55.077Z"
   },
   {
    "duration": 895,
    "start_time": "2022-05-21T10:13:36.709Z"
   },
   {
    "duration": 665,
    "start_time": "2022-05-21T10:14:09.483Z"
   },
   {
    "duration": 696,
    "start_time": "2022-05-21T10:14:15.877Z"
   },
   {
    "duration": 637,
    "start_time": "2022-05-21T10:15:08.731Z"
   },
   {
    "duration": 579,
    "start_time": "2022-05-21T10:15:30.812Z"
   },
   {
    "duration": 671,
    "start_time": "2022-05-21T10:15:45.872Z"
   },
   {
    "duration": 1072,
    "start_time": "2022-05-21T10:16:18.710Z"
   },
   {
    "duration": 737,
    "start_time": "2022-05-21T10:16:27.698Z"
   },
   {
    "duration": 30,
    "start_time": "2022-05-21T10:16:45.389Z"
   },
   {
    "duration": 695,
    "start_time": "2022-05-21T10:16:52.465Z"
   },
   {
    "duration": 739,
    "start_time": "2022-05-21T10:17:09.429Z"
   },
   {
    "duration": 721,
    "start_time": "2022-05-21T10:17:23.284Z"
   },
   {
    "duration": 755,
    "start_time": "2022-05-21T10:17:37.412Z"
   },
   {
    "duration": 750,
    "start_time": "2022-05-21T10:17:53.811Z"
   },
   {
    "duration": 1168,
    "start_time": "2022-05-21T10:18:16.793Z"
   },
   {
    "duration": 929,
    "start_time": "2022-05-21T10:18:39.665Z"
   },
   {
    "duration": 918,
    "start_time": "2022-05-21T10:19:15.940Z"
   },
   {
    "duration": 291,
    "start_time": "2022-05-21T10:20:50.597Z"
   },
   {
    "duration": 322,
    "start_time": "2022-05-21T10:21:34.273Z"
   },
   {
    "duration": 841,
    "start_time": "2022-05-21T10:21:50.893Z"
   },
   {
    "duration": 875,
    "start_time": "2022-05-21T10:22:08.083Z"
   },
   {
    "duration": 895,
    "start_time": "2022-05-21T10:22:23.494Z"
   },
   {
    "duration": 1774,
    "start_time": "2022-05-21T10:24:06.168Z"
   },
   {
    "duration": 292,
    "start_time": "2022-05-21T10:26:24.399Z"
   },
   {
    "duration": 295,
    "start_time": "2022-05-21T10:27:03.373Z"
   },
   {
    "duration": 325,
    "start_time": "2022-05-21T10:27:07.470Z"
   },
   {
    "duration": 307,
    "start_time": "2022-05-21T10:27:13.563Z"
   },
   {
    "duration": 374,
    "start_time": "2022-05-21T10:28:38.210Z"
   },
   {
    "duration": 346,
    "start_time": "2022-05-21T10:28:38.905Z"
   },
   {
    "duration": 55,
    "start_time": "2022-05-21T10:33:33.634Z"
   },
   {
    "duration": 17,
    "start_time": "2022-05-21T10:33:37.964Z"
   },
   {
    "duration": 6,
    "start_time": "2022-05-21T10:43:27.383Z"
   },
   {
    "duration": 7,
    "start_time": "2022-05-21T10:43:28.376Z"
   },
   {
    "duration": 13,
    "start_time": "2022-05-21T10:43:29.239Z"
   },
   {
    "duration": 103,
    "start_time": "2022-05-21T10:43:29.584Z"
   },
   {
    "duration": 9,
    "start_time": "2022-05-21T10:43:31.480Z"
   },
   {
    "duration": 193,
    "start_time": "2022-05-21T10:43:32.004Z"
   },
   {
    "duration": 31,
    "start_time": "2022-05-21T10:43:33.672Z"
   },
   {
    "duration": 852,
    "start_time": "2022-05-21T10:43:34.191Z"
   },
   {
    "duration": 8,
    "start_time": "2022-05-21T10:43:57.396Z"
   },
   {
    "duration": 4,
    "start_time": "2022-05-21T13:16:30.370Z"
   },
   {
    "duration": 184,
    "start_time": "2022-05-21T13:16:30.834Z"
   },
   {
    "duration": 22,
    "start_time": "2022-05-21T13:16:31.178Z"
   },
   {
    "duration": 7,
    "start_time": "2022-05-21T13:16:31.942Z"
   },
   {
    "duration": 23,
    "start_time": "2022-05-21T13:16:32.567Z"
   },
   {
    "duration": 14,
    "start_time": "2022-05-21T13:16:33.071Z"
   },
   {
    "duration": 13,
    "start_time": "2022-05-21T13:16:33.523Z"
   },
   {
    "duration": 5,
    "start_time": "2022-05-21T13:16:33.699Z"
   },
   {
    "duration": 6,
    "start_time": "2022-05-21T13:16:34.335Z"
   },
   {
    "duration": 5,
    "start_time": "2022-05-21T13:16:34.698Z"
   },
   {
    "duration": 8,
    "start_time": "2022-05-21T13:16:34.886Z"
   },
   {
    "duration": 8,
    "start_time": "2022-05-21T13:16:35.605Z"
   },
   {
    "duration": 8,
    "start_time": "2022-05-21T13:16:36.679Z"
   },
   {
    "duration": 134,
    "start_time": "2022-05-21T13:16:37.286Z"
   },
   {
    "duration": 4,
    "start_time": "2022-05-21T13:17:59.168Z"
   },
   {
    "duration": 81,
    "start_time": "2022-05-21T13:17:59.436Z"
   },
   {
    "duration": 23,
    "start_time": "2022-05-21T13:17:59.711Z"
   },
   {
    "duration": 15,
    "start_time": "2022-05-21T13:18:00.465Z"
   },
   {
    "duration": 23,
    "start_time": "2022-05-21T13:18:01.188Z"
   },
   {
    "duration": 13,
    "start_time": "2022-05-21T13:18:01.622Z"
   },
   {
    "duration": 18,
    "start_time": "2022-05-21T13:18:02.128Z"
   },
   {
    "duration": 6,
    "start_time": "2022-05-21T13:18:02.279Z"
   },
   {
    "duration": 5,
    "start_time": "2022-05-21T13:18:02.923Z"
   },
   {
    "duration": 4,
    "start_time": "2022-05-21T13:18:03.277Z"
   },
   {
    "duration": 6,
    "start_time": "2022-05-21T13:18:03.472Z"
   },
   {
    "duration": 7,
    "start_time": "2022-05-21T13:18:04.188Z"
   },
   {
    "duration": 7,
    "start_time": "2022-05-21T13:18:05.423Z"
   },
   {
    "duration": 135,
    "start_time": "2022-05-21T13:18:06.878Z"
   },
   {
    "duration": 131,
    "start_time": "2022-05-21T13:18:55.074Z"
   },
   {
    "duration": 11,
    "start_time": "2022-05-21T13:18:56.980Z"
   },
   {
    "duration": 219,
    "start_time": "2022-05-21T13:18:57.818Z"
   },
   {
    "duration": 26,
    "start_time": "2022-05-21T13:19:00.389Z"
   },
   {
    "duration": 932,
    "start_time": "2022-05-21T13:19:03.121Z"
   },
   {
    "duration": 9,
    "start_time": "2022-05-21T13:19:29.007Z"
   },
   {
    "duration": 434,
    "start_time": "2022-05-21T13:19:30.770Z"
   },
   {
    "duration": 482,
    "start_time": "2022-05-21T13:19:31.206Z"
   },
   {
    "duration": 1100,
    "start_time": "2022-05-21T13:20:45.630Z"
   },
   {
    "duration": 1082,
    "start_time": "2022-05-21T13:22:35.899Z"
   },
   {
    "duration": 41,
    "start_time": "2022-05-21T13:24:52.477Z"
   },
   {
    "duration": 1541,
    "start_time": "2022-05-21T13:25:12.877Z"
   },
   {
    "duration": 30,
    "start_time": "2022-05-21T13:26:10.264Z"
   },
   {
    "duration": 11,
    "start_time": "2022-05-21T13:26:46.307Z"
   },
   {
    "duration": 9,
    "start_time": "2022-05-21T13:26:52.510Z"
   },
   {
    "duration": 1100,
    "start_time": "2022-05-21T13:27:17.234Z"
   },
   {
    "duration": 10,
    "start_time": "2022-05-21T13:27:36.413Z"
   },
   {
    "duration": 814,
    "start_time": "2022-05-21T13:28:22.938Z"
   },
   {
    "duration": 732,
    "start_time": "2022-05-21T13:28:31.412Z"
   },
   {
    "duration": 29,
    "start_time": "2022-05-21T13:28:44.118Z"
   },
   {
    "duration": 485,
    "start_time": "2022-05-21T13:36:24.616Z"
   },
   {
    "duration": 26,
    "start_time": "2022-05-21T13:55:49.866Z"
   },
   {
    "duration": 419,
    "start_time": "2022-05-21T13:57:02.293Z"
   },
   {
    "duration": 19,
    "start_time": "2022-05-21T14:20:17.395Z"
   },
   {
    "duration": 204,
    "start_time": "2022-05-21T14:20:18.296Z"
   },
   {
    "duration": 626,
    "start_time": "2022-05-21T14:43:56.392Z"
   },
   {
    "duration": 628,
    "start_time": "2022-05-21T14:44:47.306Z"
   },
   {
    "duration": 24,
    "start_time": "2022-05-21T14:44:48.989Z"
   },
   {
    "duration": 14,
    "start_time": "2022-05-21T14:45:44.763Z"
   },
   {
    "duration": 464,
    "start_time": "2022-05-21T14:45:45.223Z"
   },
   {
    "duration": 20,
    "start_time": "2022-05-21T15:13:15.608Z"
   },
   {
    "duration": 329,
    "start_time": "2022-05-21T15:13:25.423Z"
   },
   {
    "duration": 4,
    "start_time": "2022-05-21T15:14:01.111Z"
   },
   {
    "duration": 74,
    "start_time": "2022-05-21T15:14:01.826Z"
   },
   {
    "duration": 25,
    "start_time": "2022-05-21T15:14:02.624Z"
   },
   {
    "duration": 4,
    "start_time": "2022-05-21T15:14:03.775Z"
   },
   {
    "duration": 18,
    "start_time": "2022-05-21T15:14:04.864Z"
   },
   {
    "duration": 9,
    "start_time": "2022-05-21T15:14:05.528Z"
   },
   {
    "duration": 13,
    "start_time": "2022-05-21T15:14:06.568Z"
   },
   {
    "duration": 6,
    "start_time": "2022-05-21T15:14:06.895Z"
   },
   {
    "duration": 20,
    "start_time": "2022-05-21T15:14:47.231Z"
   },
   {
    "duration": 4,
    "start_time": "2022-05-21T15:14:47.800Z"
   },
   {
    "duration": 5,
    "start_time": "2022-05-21T15:14:50.228Z"
   },
   {
    "duration": 6,
    "start_time": "2022-05-21T15:14:52.754Z"
   },
   {
    "duration": 6,
    "start_time": "2022-05-21T15:14:53.513Z"
   },
   {
    "duration": 6,
    "start_time": "2022-05-21T15:15:00.125Z"
   },
   {
    "duration": 7,
    "start_time": "2022-05-21T15:15:01.813Z"
   },
   {
    "duration": 135,
    "start_time": "2022-05-21T15:15:02.303Z"
   },
   {
    "duration": 7,
    "start_time": "2022-05-21T15:15:17.116Z"
   },
   {
    "duration": 194,
    "start_time": "2022-05-21T15:15:20.703Z"
   },
   {
    "duration": 19,
    "start_time": "2022-05-21T15:15:28.313Z"
   },
   {
    "duration": 753,
    "start_time": "2022-05-21T15:15:49.108Z"
   },
   {
    "duration": 7,
    "start_time": "2022-05-21T15:16:04.618Z"
   },
   {
    "duration": 333,
    "start_time": "2022-05-21T15:16:07.435Z"
   },
   {
    "duration": 350,
    "start_time": "2022-05-21T15:16:08.612Z"
   },
   {
    "duration": 583,
    "start_time": "2022-05-21T15:16:19.320Z"
   },
   {
    "duration": 25,
    "start_time": "2022-05-21T15:16:21.725Z"
   },
   {
    "duration": 19,
    "start_time": "2022-05-21T15:16:43.899Z"
   },
   {
    "duration": 400,
    "start_time": "2022-05-21T15:16:48.708Z"
   },
   {
    "duration": 28,
    "start_time": "2022-05-21T15:16:57.327Z"
   },
   {
    "duration": 541,
    "start_time": "2022-05-21T15:16:57.929Z"
   },
   {
    "duration": 314,
    "start_time": "2022-05-21T15:17:07.903Z"
   },
   {
    "duration": 43,
    "start_time": "2022-05-21T15:18:54.239Z"
   },
   {
    "duration": 15,
    "start_time": "2022-05-21T15:19:05.007Z"
   },
   {
    "duration": 463,
    "start_time": "2022-05-21T15:19:20.301Z"
   },
   {
    "duration": 23,
    "start_time": "2022-05-21T15:20:04.755Z"
   },
   {
    "duration": 470,
    "start_time": "2022-05-21T15:20:29.400Z"
   },
   {
    "duration": 14,
    "start_time": "2022-05-21T15:23:07.859Z"
   },
   {
    "duration": 187,
    "start_time": "2022-05-21T15:23:10.020Z"
   },
   {
    "duration": 34,
    "start_time": "2022-05-21T15:44:43.697Z"
   },
   {
    "duration": 33,
    "start_time": "2022-05-21T16:03:28.297Z"
   },
   {
    "duration": 4,
    "start_time": "2022-05-21T16:03:31.377Z"
   },
   {
    "duration": 37,
    "start_time": "2022-05-21T16:03:32.076Z"
   },
   {
    "duration": 6,
    "start_time": "2022-05-21T16:03:32.271Z"
   },
   {
    "duration": 3,
    "start_time": "2022-05-21T16:03:36.485Z"
   },
   {
    "duration": 6,
    "start_time": "2022-05-21T16:03:36.831Z"
   },
   {
    "duration": 6,
    "start_time": "2022-05-21T16:03:37.969Z"
   },
   {
    "duration": 6,
    "start_time": "2022-05-21T16:03:39.277Z"
   },
   {
    "duration": 97,
    "start_time": "2022-05-21T16:03:39.619Z"
   },
   {
    "duration": 6,
    "start_time": "2022-05-21T16:03:41.106Z"
   },
   {
    "duration": 180,
    "start_time": "2022-05-21T16:03:41.599Z"
   },
   {
    "duration": 18,
    "start_time": "2022-05-21T16:03:42.891Z"
   },
   {
    "duration": 855,
    "start_time": "2022-05-21T16:03:43.374Z"
   },
   {
    "duration": 6,
    "start_time": "2022-05-21T16:03:46.432Z"
   },
   {
    "duration": 927,
    "start_time": "2022-05-21T16:03:47.123Z"
   },
   {
    "duration": 330,
    "start_time": "2022-05-21T16:03:48.053Z"
   },
   {
    "duration": 556,
    "start_time": "2022-05-21T16:03:51.775Z"
   },
   {
    "duration": 29,
    "start_time": "2022-05-21T16:03:53.123Z"
   },
   {
    "duration": 415,
    "start_time": "2022-05-21T16:03:57.125Z"
   },
   {
    "duration": 14,
    "start_time": "2022-05-21T16:04:00.974Z"
   },
   {
    "duration": 391,
    "start_time": "2022-05-21T16:04:01.374Z"
   },
   {
    "duration": 12,
    "start_time": "2022-05-21T16:04:04.096Z"
   },
   {
    "duration": 416,
    "start_time": "2022-05-21T16:04:04.770Z"
   },
   {
    "duration": 19,
    "start_time": "2022-05-21T16:04:06.893Z"
   },
   {
    "duration": 195,
    "start_time": "2022-05-21T16:04:08.609Z"
   },
   {
    "duration": 1295,
    "start_time": "2022-05-21T16:04:23.963Z"
   },
   {
    "duration": 57,
    "start_time": "2022-05-21T16:04:25.260Z"
   },
   {
    "duration": 18,
    "start_time": "2022-05-21T16:04:25.318Z"
   },
   {
    "duration": 31,
    "start_time": "2022-05-21T16:04:25.338Z"
   },
   {
    "duration": 29,
    "start_time": "2022-05-21T16:04:25.371Z"
   },
   {
    "duration": 8,
    "start_time": "2022-05-21T16:04:25.402Z"
   },
   {
    "duration": 13,
    "start_time": "2022-05-21T16:04:25.412Z"
   },
   {
    "duration": 4,
    "start_time": "2022-05-21T16:04:25.426Z"
   },
   {
    "duration": 151,
    "start_time": "2022-05-21T16:04:25.432Z"
   },
   {
    "duration": 0,
    "start_time": "2022-05-21T16:04:25.586Z"
   },
   {
    "duration": 0,
    "start_time": "2022-05-21T16:04:25.587Z"
   },
   {
    "duration": 0,
    "start_time": "2022-05-21T16:04:25.588Z"
   },
   {
    "duration": 0,
    "start_time": "2022-05-21T16:04:25.589Z"
   },
   {
    "duration": 0,
    "start_time": "2022-05-21T16:04:25.590Z"
   },
   {
    "duration": 0,
    "start_time": "2022-05-21T16:04:25.591Z"
   },
   {
    "duration": 0,
    "start_time": "2022-05-21T16:04:25.592Z"
   },
   {
    "duration": 0,
    "start_time": "2022-05-21T16:04:25.593Z"
   },
   {
    "duration": 0,
    "start_time": "2022-05-21T16:04:25.593Z"
   },
   {
    "duration": 0,
    "start_time": "2022-05-21T16:04:25.594Z"
   },
   {
    "duration": 0,
    "start_time": "2022-05-21T16:04:25.595Z"
   },
   {
    "duration": 0,
    "start_time": "2022-05-21T16:04:25.596Z"
   },
   {
    "duration": 0,
    "start_time": "2022-05-21T16:04:25.597Z"
   },
   {
    "duration": 0,
    "start_time": "2022-05-21T16:04:25.598Z"
   },
   {
    "duration": 0,
    "start_time": "2022-05-21T16:04:25.600Z"
   },
   {
    "duration": 0,
    "start_time": "2022-05-21T16:04:25.601Z"
   },
   {
    "duration": 0,
    "start_time": "2022-05-21T16:04:25.602Z"
   },
   {
    "duration": 0,
    "start_time": "2022-05-21T16:04:25.603Z"
   },
   {
    "duration": 0,
    "start_time": "2022-05-21T16:04:25.604Z"
   },
   {
    "duration": 0,
    "start_time": "2022-05-21T16:04:25.605Z"
   },
   {
    "duration": 0,
    "start_time": "2022-05-21T16:04:25.606Z"
   },
   {
    "duration": 0,
    "start_time": "2022-05-21T16:04:25.607Z"
   },
   {
    "duration": 0,
    "start_time": "2022-05-21T16:04:25.608Z"
   },
   {
    "duration": 0,
    "start_time": "2022-05-21T16:04:25.608Z"
   },
   {
    "duration": 0,
    "start_time": "2022-05-21T16:04:25.609Z"
   },
   {
    "duration": 0,
    "start_time": "2022-05-21T16:04:25.610Z"
   },
   {
    "duration": 0,
    "start_time": "2022-05-21T16:04:25.611Z"
   },
   {
    "duration": 0,
    "start_time": "2022-05-21T16:04:25.645Z"
   },
   {
    "duration": 11,
    "start_time": "2022-05-21T16:04:40.663Z"
   },
   {
    "duration": 7,
    "start_time": "2022-05-21T16:04:58.100Z"
   },
   {
    "duration": 1417,
    "start_time": "2022-05-21T16:05:15.833Z"
   },
   {
    "duration": 67,
    "start_time": "2022-05-21T16:05:17.255Z"
   },
   {
    "duration": 15,
    "start_time": "2022-05-21T16:05:17.324Z"
   },
   {
    "duration": 37,
    "start_time": "2022-05-21T16:05:17.340Z"
   },
   {
    "duration": 23,
    "start_time": "2022-05-21T16:05:17.380Z"
   },
   {
    "duration": 11,
    "start_time": "2022-05-21T16:05:17.405Z"
   },
   {
    "duration": 13,
    "start_time": "2022-05-21T16:05:17.418Z"
   },
   {
    "duration": 4,
    "start_time": "2022-05-21T16:05:17.433Z"
   },
   {
    "duration": 38,
    "start_time": "2022-05-21T16:05:17.439Z"
   },
   {
    "duration": 6,
    "start_time": "2022-05-21T16:05:17.479Z"
   },
   {
    "duration": 5,
    "start_time": "2022-05-21T16:05:17.487Z"
   },
   {
    "duration": 8,
    "start_time": "2022-05-21T16:05:17.493Z"
   },
   {
    "duration": 5,
    "start_time": "2022-05-21T16:05:17.503Z"
   },
   {
    "duration": 90,
    "start_time": "2022-05-21T16:05:17.511Z"
   },
   {
    "duration": 6,
    "start_time": "2022-05-21T16:05:17.603Z"
   },
   {
    "duration": 280,
    "start_time": "2022-05-21T16:05:17.610Z"
   },
   {
    "duration": 18,
    "start_time": "2022-05-21T16:05:17.892Z"
   },
   {
    "duration": 683,
    "start_time": "2022-05-21T16:05:17.912Z"
   },
   {
    "duration": 6,
    "start_time": "2022-05-21T16:05:18.598Z"
   },
   {
    "duration": 323,
    "start_time": "2022-05-21T16:05:18.605Z"
   },
   {
    "duration": 341,
    "start_time": "2022-05-21T16:05:18.930Z"
   },
   {
    "duration": 548,
    "start_time": "2022-05-21T16:05:19.272Z"
   },
   {
    "duration": 35,
    "start_time": "2022-05-21T16:05:19.821Z"
   },
   {
    "duration": 437,
    "start_time": "2022-05-21T16:05:19.857Z"
   },
   {
    "duration": 13,
    "start_time": "2022-05-21T16:05:20.296Z"
   },
   {
    "duration": 559,
    "start_time": "2022-05-21T16:05:20.310Z"
   },
   {
    "duration": 23,
    "start_time": "2022-05-21T16:05:20.871Z"
   },
   {
    "duration": 409,
    "start_time": "2022-05-21T16:05:20.897Z"
   },
   {
    "duration": 13,
    "start_time": "2022-05-21T16:05:21.308Z"
   },
   {
    "duration": 201,
    "start_time": "2022-05-21T16:05:21.322Z"
   },
   {
    "duration": 8,
    "start_time": "2022-05-21T16:05:21.525Z"
   },
   {
    "duration": 23,
    "start_time": "2022-05-21T16:05:21.541Z"
   },
   {
    "duration": 10,
    "start_time": "2022-05-21T16:05:21.568Z"
   },
   {
    "duration": 6,
    "start_time": "2022-05-21T16:05:21.580Z"
   },
   {
    "duration": 128,
    "start_time": "2022-05-21T16:05:21.587Z"
   },
   {
    "duration": 0,
    "start_time": "2022-05-21T16:05:21.716Z"
   },
   {
    "duration": 0,
    "start_time": "2022-05-21T16:05:21.718Z"
   },
   {
    "duration": 8,
    "start_time": "2022-05-21T16:09:38.860Z"
   },
   {
    "duration": 13,
    "start_time": "2022-05-21T16:09:42.552Z"
   },
   {
    "duration": 4,
    "start_time": "2022-05-21T16:09:45.030Z"
   },
   {
    "duration": 5,
    "start_time": "2022-05-21T16:09:48.633Z"
   },
   {
    "duration": 6,
    "start_time": "2022-05-21T16:10:55.529Z"
   },
   {
    "duration": 6,
    "start_time": "2022-05-21T16:11:02.387Z"
   },
   {
    "duration": 7,
    "start_time": "2022-05-21T16:11:17.485Z"
   },
   {
    "duration": 25,
    "start_time": "2022-05-21T16:12:01.512Z"
   },
   {
    "duration": 6,
    "start_time": "2022-05-21T16:12:15.616Z"
   },
   {
    "duration": 12,
    "start_time": "2022-05-21T16:12:35.802Z"
   },
   {
    "duration": 15,
    "start_time": "2022-05-21T16:12:41.702Z"
   },
   {
    "duration": 12,
    "start_time": "2022-05-21T16:12:46.394Z"
   },
   {
    "duration": 5,
    "start_time": "2022-05-21T16:12:49.902Z"
   },
   {
    "duration": 5,
    "start_time": "2022-05-21T16:12:51.060Z"
   },
   {
    "duration": 5,
    "start_time": "2022-05-21T16:13:22.793Z"
   },
   {
    "duration": 405,
    "start_time": "2022-05-21T16:15:35.984Z"
   },
   {
    "duration": 332,
    "start_time": "2022-05-21T16:15:48.102Z"
   },
   {
    "duration": 315,
    "start_time": "2022-05-21T16:16:04.339Z"
   },
   {
    "duration": 464,
    "start_time": "2022-05-21T16:16:42.959Z"
   },
   {
    "duration": 11,
    "start_time": "2022-05-21T16:23:27.098Z"
   },
   {
    "duration": 1255,
    "start_time": "2022-05-21T16:23:34.958Z"
   },
   {
    "duration": 53,
    "start_time": "2022-05-21T16:23:36.215Z"
   },
   {
    "duration": 17,
    "start_time": "2022-05-21T16:23:36.269Z"
   },
   {
    "duration": 3,
    "start_time": "2022-05-21T16:23:36.288Z"
   },
   {
    "duration": 20,
    "start_time": "2022-05-21T16:23:36.293Z"
   },
   {
    "duration": 27,
    "start_time": "2022-05-21T16:23:36.315Z"
   },
   {
    "duration": 13,
    "start_time": "2022-05-21T16:23:36.343Z"
   },
   {
    "duration": 3,
    "start_time": "2022-05-21T16:23:36.358Z"
   },
   {
    "duration": 6,
    "start_time": "2022-05-21T16:23:36.363Z"
   },
   {
    "duration": 9,
    "start_time": "2022-05-21T16:23:36.371Z"
   },
   {
    "duration": 6,
    "start_time": "2022-05-21T16:23:36.381Z"
   },
   {
    "duration": 7,
    "start_time": "2022-05-21T16:23:36.389Z"
   },
   {
    "duration": 9,
    "start_time": "2022-05-21T16:23:36.398Z"
   },
   {
    "duration": 99,
    "start_time": "2022-05-21T16:23:36.410Z"
   },
   {
    "duration": 7,
    "start_time": "2022-05-21T16:23:36.511Z"
   },
   {
    "duration": 276,
    "start_time": "2022-05-21T16:23:36.520Z"
   },
   {
    "duration": 20,
    "start_time": "2022-05-21T16:23:36.798Z"
   },
   {
    "duration": 705,
    "start_time": "2022-05-21T16:23:36.820Z"
   },
   {
    "duration": 14,
    "start_time": "2022-05-21T16:23:37.527Z"
   },
   {
    "duration": 298,
    "start_time": "2022-05-21T16:23:37.543Z"
   },
   {
    "duration": 307,
    "start_time": "2022-05-21T16:23:37.843Z"
   },
   {
    "duration": 533,
    "start_time": "2022-05-21T16:23:38.152Z"
   },
   {
    "duration": 19,
    "start_time": "2022-05-21T16:23:38.687Z"
   },
   {
    "duration": 330,
    "start_time": "2022-05-21T16:23:38.708Z"
   },
   {
    "duration": 416,
    "start_time": "2022-05-21T16:23:39.041Z"
   },
   {
    "duration": 328,
    "start_time": "2022-05-21T16:23:39.459Z"
   },
   {
    "duration": 13,
    "start_time": "2022-05-21T16:23:39.789Z"
   },
   {
    "duration": 419,
    "start_time": "2022-05-21T16:23:39.805Z"
   },
   {
    "duration": 13,
    "start_time": "2022-05-21T16:23:40.226Z"
   },
   {
    "duration": 352,
    "start_time": "2022-05-21T16:23:40.241Z"
   },
   {
    "duration": 13,
    "start_time": "2022-05-21T16:23:40.595Z"
   },
   {
    "duration": 179,
    "start_time": "2022-05-21T16:23:40.610Z"
   },
   {
    "duration": 9,
    "start_time": "2022-05-21T16:23:40.791Z"
   },
   {
    "duration": 13,
    "start_time": "2022-05-21T16:23:40.802Z"
   },
   {
    "duration": 26,
    "start_time": "2022-05-21T16:23:40.816Z"
   },
   {
    "duration": 7,
    "start_time": "2022-05-21T16:23:40.843Z"
   },
   {
    "duration": 6,
    "start_time": "2022-05-21T16:23:40.852Z"
   },
   {
    "duration": 15,
    "start_time": "2022-05-21T16:23:40.860Z"
   },
   {
    "duration": 4,
    "start_time": "2022-05-21T16:23:40.876Z"
   },
   {
    "duration": 6,
    "start_time": "2022-05-21T16:23:40.883Z"
   },
   {
    "duration": 6,
    "start_time": "2022-05-21T16:24:56.180Z"
   },
   {
    "duration": 1213,
    "start_time": "2022-05-22T00:29:54.198Z"
   },
   {
    "duration": 43,
    "start_time": "2022-05-22T00:29:55.412Z"
   },
   {
    "duration": 14,
    "start_time": "2022-05-22T00:29:55.457Z"
   },
   {
    "duration": 3,
    "start_time": "2022-05-22T00:29:55.473Z"
   },
   {
    "duration": 26,
    "start_time": "2022-05-22T00:29:55.478Z"
   },
   {
    "duration": 28,
    "start_time": "2022-05-22T00:29:55.506Z"
   },
   {
    "duration": 18,
    "start_time": "2022-05-22T00:29:55.535Z"
   },
   {
    "duration": 4,
    "start_time": "2022-05-22T00:29:55.555Z"
   },
   {
    "duration": 9,
    "start_time": "2022-05-22T00:29:55.560Z"
   },
   {
    "duration": 10,
    "start_time": "2022-05-22T00:29:55.571Z"
   },
   {
    "duration": 14,
    "start_time": "2022-05-22T00:29:55.583Z"
   },
   {
    "duration": 11,
    "start_time": "2022-05-22T00:29:55.599Z"
   },
   {
    "duration": 8,
    "start_time": "2022-05-22T00:29:55.611Z"
   },
   {
    "duration": 71,
    "start_time": "2022-05-22T00:29:55.622Z"
   },
   {
    "duration": 6,
    "start_time": "2022-05-22T00:29:55.694Z"
   },
   {
    "duration": 269,
    "start_time": "2022-05-22T00:29:55.702Z"
   },
   {
    "duration": 21,
    "start_time": "2022-05-22T00:29:55.973Z"
   },
   {
    "duration": 718,
    "start_time": "2022-05-22T00:29:55.996Z"
   },
   {
    "duration": 11,
    "start_time": "2022-05-22T00:29:56.716Z"
   },
   {
    "duration": 275,
    "start_time": "2022-05-22T00:29:56.728Z"
   },
   {
    "duration": 292,
    "start_time": "2022-05-22T00:29:57.005Z"
   },
   {
    "duration": 474,
    "start_time": "2022-05-22T00:29:57.299Z"
   },
   {
    "duration": 18,
    "start_time": "2022-05-22T00:29:57.775Z"
   },
   {
    "duration": 308,
    "start_time": "2022-05-22T00:29:57.795Z"
   },
   {
    "duration": 377,
    "start_time": "2022-05-22T00:29:58.105Z"
   },
   {
    "duration": 319,
    "start_time": "2022-05-22T00:29:58.484Z"
   },
   {
    "duration": 22,
    "start_time": "2022-05-22T00:29:58.805Z"
   },
   {
    "duration": 334,
    "start_time": "2022-05-22T00:29:58.828Z"
   },
   {
    "duration": 12,
    "start_time": "2022-05-22T00:29:59.164Z"
   },
   {
    "duration": 375,
    "start_time": "2022-05-22T00:29:59.177Z"
   },
   {
    "duration": 11,
    "start_time": "2022-05-22T00:29:59.555Z"
   },
   {
    "duration": 184,
    "start_time": "2022-05-22T00:29:59.568Z"
   },
   {
    "duration": 9,
    "start_time": "2022-05-22T00:29:59.753Z"
   },
   {
    "duration": 13,
    "start_time": "2022-05-22T00:29:59.764Z"
   },
   {
    "duration": 3,
    "start_time": "2022-05-22T00:29:59.779Z"
   },
   {
    "duration": 5,
    "start_time": "2022-05-22T00:29:59.784Z"
   },
   {
    "duration": 37,
    "start_time": "2022-05-22T00:29:59.790Z"
   },
   {
    "duration": 12,
    "start_time": "2022-05-22T00:29:59.828Z"
   },
   {
    "duration": 3,
    "start_time": "2022-05-22T00:29:59.841Z"
   },
   {
    "duration": 8,
    "start_time": "2022-05-22T00:29:59.846Z"
   },
   {
    "duration": 9,
    "start_time": "2022-05-22T00:29:59.857Z"
   },
   {
    "duration": 28,
    "start_time": "2022-05-22T00:42:35.262Z"
   },
   {
    "duration": 5,
    "start_time": "2022-05-22T00:42:58.599Z"
   },
   {
    "duration": 59,
    "start_time": "2022-05-22T06:52:36.087Z"
   },
   {
    "duration": 8,
    "start_time": "2022-05-22T06:53:41.530Z"
   },
   {
    "duration": 4,
    "start_time": "2022-05-22T06:56:55.438Z"
   },
   {
    "duration": 38,
    "start_time": "2022-05-22T06:56:55.808Z"
   },
   {
    "duration": 15,
    "start_time": "2022-05-22T06:56:56.108Z"
   },
   {
    "duration": 3,
    "start_time": "2022-05-22T06:56:56.933Z"
   },
   {
    "duration": 14,
    "start_time": "2022-05-22T06:56:57.924Z"
   },
   {
    "duration": 8,
    "start_time": "2022-05-22T06:56:58.078Z"
   },
   {
    "duration": 9,
    "start_time": "2022-05-22T06:56:58.227Z"
   },
   {
    "duration": 4,
    "start_time": "2022-05-22T06:56:58.371Z"
   },
   {
    "duration": 5,
    "start_time": "2022-05-22T06:56:59.384Z"
   },
   {
    "duration": 4,
    "start_time": "2022-05-22T06:56:59.813Z"
   },
   {
    "duration": 5,
    "start_time": "2022-05-22T06:57:00.443Z"
   },
   {
    "duration": 5,
    "start_time": "2022-05-22T06:57:01.911Z"
   },
   {
    "duration": 5,
    "start_time": "2022-05-22T06:57:02.964Z"
   },
   {
    "duration": 77,
    "start_time": "2022-05-22T06:57:03.395Z"
   },
   {
    "duration": 6,
    "start_time": "2022-05-22T06:57:04.947Z"
   },
   {
    "duration": 155,
    "start_time": "2022-05-22T06:57:05.362Z"
   },
   {
    "duration": 18,
    "start_time": "2022-05-22T06:57:11.307Z"
   },
   {
    "duration": 729,
    "start_time": "2022-05-22T06:57:11.702Z"
   },
   {
    "duration": 6,
    "start_time": "2022-05-22T06:57:15.176Z"
   },
   {
    "duration": 264,
    "start_time": "2022-05-22T06:57:15.713Z"
   },
   {
    "duration": 296,
    "start_time": "2022-05-22T06:57:15.979Z"
   },
   {
    "duration": 528,
    "start_time": "2022-05-22T06:57:17.043Z"
   },
   {
    "duration": 25,
    "start_time": "2022-05-22T06:57:18.483Z"
   },
   {
    "duration": 311,
    "start_time": "2022-05-22T06:57:23.635Z"
   },
   {
    "duration": 331,
    "start_time": "2022-05-22T06:57:23.948Z"
   },
   {
    "duration": 466,
    "start_time": "2022-05-22T06:57:24.281Z"
   },
   {
    "duration": 13,
    "start_time": "2022-05-22T06:57:28.752Z"
   },
   {
    "duration": 354,
    "start_time": "2022-05-22T06:57:29.221Z"
   },
   {
    "duration": 1277,
    "start_time": "2022-05-22T07:09:10.499Z"
   },
   {
    "duration": 44,
    "start_time": "2022-05-22T07:09:11.778Z"
   },
   {
    "duration": 14,
    "start_time": "2022-05-22T07:09:11.823Z"
   },
   {
    "duration": 3,
    "start_time": "2022-05-22T07:09:11.840Z"
   },
   {
    "duration": 20,
    "start_time": "2022-05-22T07:09:11.845Z"
   },
   {
    "duration": 8,
    "start_time": "2022-05-22T07:09:11.866Z"
   },
   {
    "duration": 13,
    "start_time": "2022-05-22T07:09:11.875Z"
   },
   {
    "duration": 33,
    "start_time": "2022-05-22T07:09:11.890Z"
   },
   {
    "duration": 5,
    "start_time": "2022-05-22T07:09:11.924Z"
   },
   {
    "duration": 7,
    "start_time": "2022-05-22T07:09:11.931Z"
   },
   {
    "duration": 15,
    "start_time": "2022-05-22T07:09:11.940Z"
   },
   {
    "duration": 30,
    "start_time": "2022-05-22T07:09:11.957Z"
   },
   {
    "duration": 11,
    "start_time": "2022-05-22T07:09:11.989Z"
   },
   {
    "duration": 79,
    "start_time": "2022-05-22T07:09:12.002Z"
   },
   {
    "duration": 6,
    "start_time": "2022-05-22T07:09:12.084Z"
   },
   {
    "duration": 283,
    "start_time": "2022-05-22T07:09:12.092Z"
   },
   {
    "duration": 19,
    "start_time": "2022-05-22T07:09:12.377Z"
   },
   {
    "duration": 683,
    "start_time": "2022-05-22T07:09:12.397Z"
   },
   {
    "duration": 6,
    "start_time": "2022-05-22T07:09:13.082Z"
   },
   {
    "duration": 298,
    "start_time": "2022-05-22T07:09:13.090Z"
   },
   {
    "duration": 292,
    "start_time": "2022-05-22T07:09:13.389Z"
   },
   {
    "duration": 535,
    "start_time": "2022-05-22T07:09:13.683Z"
   },
   {
    "duration": 26,
    "start_time": "2022-05-22T07:09:14.219Z"
   },
   {
    "duration": 324,
    "start_time": "2022-05-22T07:09:14.247Z"
   },
   {
    "duration": 404,
    "start_time": "2022-05-22T07:09:14.572Z"
   },
   {
    "duration": 323,
    "start_time": "2022-05-22T07:09:14.978Z"
   },
   {
    "duration": 20,
    "start_time": "2022-05-22T07:09:15.303Z"
   },
   {
    "duration": 365,
    "start_time": "2022-05-22T07:09:15.326Z"
   },
   {
    "duration": 11,
    "start_time": "2022-05-22T07:09:15.693Z"
   },
   {
    "duration": 357,
    "start_time": "2022-05-22T07:09:15.706Z"
   },
   {
    "duration": 13,
    "start_time": "2022-05-22T07:09:16.065Z"
   },
   {
    "duration": 189,
    "start_time": "2022-05-22T07:09:16.079Z"
   },
   {
    "duration": 12,
    "start_time": "2022-05-22T07:09:16.270Z"
   },
   {
    "duration": 17,
    "start_time": "2022-05-22T07:09:16.283Z"
   },
   {
    "duration": 24,
    "start_time": "2022-05-22T07:09:16.301Z"
   },
   {
    "duration": 7,
    "start_time": "2022-05-22T07:09:16.326Z"
   },
   {
    "duration": 6,
    "start_time": "2022-05-22T07:09:16.334Z"
   },
   {
    "duration": 7,
    "start_time": "2022-05-22T07:09:16.342Z"
   },
   {
    "duration": 16,
    "start_time": "2022-05-22T07:09:16.351Z"
   },
   {
    "duration": 4,
    "start_time": "2022-05-22T07:09:16.368Z"
   },
   {
    "duration": 7,
    "start_time": "2022-05-22T07:09:16.374Z"
   },
   {
    "duration": 42,
    "start_time": "2022-05-22T07:09:16.383Z"
   },
   {
    "duration": 36,
    "start_time": "2022-05-22T07:11:42.106Z"
   },
   {
    "duration": 6,
    "start_time": "2022-05-22T07:16:34.606Z"
   }
  ],
  "kernelspec": {
   "display_name": "Python 3 (ipykernel)",
   "language": "python",
   "name": "python3"
  },
  "language_info": {
   "codemirror_mode": {
    "name": "ipython",
    "version": 3
   },
   "file_extension": ".py",
   "mimetype": "text/x-python",
   "name": "python",
   "nbconvert_exporter": "python",
   "pygments_lexer": "ipython3",
   "version": "3.9.7"
  },
  "toc": {
   "base_numbering": 1,
   "nav_menu": {},
   "number_sections": true,
   "sideBar": true,
   "skip_h1_title": true,
   "title_cell": "Оглавление",
   "title_sidebar": "Содержание",
   "toc_cell": true,
   "toc_position": {
    "height": "calc(100% - 180px)",
    "left": "10px",
    "top": "150px",
    "width": "360.575px"
   },
   "toc_section_display": true,
   "toc_window_display": true
  }
 },
 "nbformat": 4,
 "nbformat_minor": 2
}
