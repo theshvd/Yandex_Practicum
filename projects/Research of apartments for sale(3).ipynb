{
 "cells": [
  {
   "cell_type": "markdown",
   "metadata": {
    "toc": true
   },
   "source": [
    "<h1>Содержание<span class=\"tocSkip\"></span></h1>\n",
    "<div class=\"toc\"><ul class=\"toc-item\"><li><span><a href=\"#Изучение-данных-из-файла\" data-toc-modified-id=\"Изучение-данных-из-файла-1\"><span class=\"toc-item-num\">1&nbsp;&nbsp;</span>Изучение данных из файла</a></span></li><li><span><a href=\"#Предобработка-данных\" data-toc-modified-id=\"Предобработка-данных-2\"><span class=\"toc-item-num\">2&nbsp;&nbsp;</span>Предобработка данных</a></span><ul class=\"toc-item\"><li><span><a href=\"#Работа-с-NaN-и-типами-данных\" data-toc-modified-id=\"Работа-с-NaN-и-типами-данных-2.1\"><span class=\"toc-item-num\">2.1&nbsp;&nbsp;</span>Работа с NaN и типами данных</a></span></li></ul></li><li><span><a href=\"#Features-Engeneering\" data-toc-modified-id=\"Features-Engeneering-3\"><span class=\"toc-item-num\">3&nbsp;&nbsp;</span>Features Engeneering</a></span><ul class=\"toc-item\"><li><span><a href=\"#Добавление-цены-квадратного-метра\" data-toc-modified-id=\"Добавление-цены-квадратного-метра-3.1\"><span class=\"toc-item-num\">3.1&nbsp;&nbsp;</span>Добавление цены квадратного метра</a></span></li><li><span><a href=\"#Добавление-столбцов-с-днем-недели,-месяцем-и-годом-публикации-объявления\" data-toc-modified-id=\"Добавление-столбцов-с-днем-недели,-месяцем-и-годом-публикации-объявления-3.2\"><span class=\"toc-item-num\">3.2&nbsp;&nbsp;</span>Добавление столбцов с днем недели, месяцем и годом публикации объявления</a></span></li><li><span><a href=\"#Функция-категоризации-этажа-квартиры\" data-toc-modified-id=\"Функция-категоризации-этажа-квартиры-3.3\"><span class=\"toc-item-num\">3.3&nbsp;&nbsp;</span>Функция категоризации этажа квартиры</a></span></li><li><span><a href=\"#Добавление-столбцов-соотношения-жилой-и-нежилой-площади,-а-также-соотношение-площади-кухни-к-общей-площади\" data-toc-modified-id=\"Добавление-столбцов-соотношения-жилой-и-нежилой-площади,-а-также-соотношение-площади-кухни-к-общей-площади-3.4\"><span class=\"toc-item-num\">3.4&nbsp;&nbsp;</span>Добавление столбцов соотношения жилой и нежилой площади, а также соотношение площади кухни к общей площади</a></span></li></ul></li><li><span><a href=\"#Исследовательский-анализ-данных\" data-toc-modified-id=\"Исследовательский-анализ-данных-4\"><span class=\"toc-item-num\">4&nbsp;&nbsp;</span>Исследовательский анализ данных</a></span><ul class=\"toc-item\"><li><span><a href=\"#Гистограммы-распределения-площади,-цен,-количества-комнат\" data-toc-modified-id=\"Гистограммы-распределения-площади,-цен,-количества-комнат-4.1\"><span class=\"toc-item-num\">4.1&nbsp;&nbsp;</span>Гистограммы распределения площади, цен, количества комнат</a></span></li><li><span><a href=\"#Распределение-времени-продаж\" data-toc-modified-id=\"Распределение-времени-продаж-4.2\"><span class=\"toc-item-num\">4.2&nbsp;&nbsp;</span>Распределение времени продаж</a></span></li><li><span><a href=\"#Вычисление-медианы-и-среднего\" data-toc-modified-id=\"Вычисление-медианы-и-среднего-4.3\"><span class=\"toc-item-num\">4.3&nbsp;&nbsp;</span>Вычисление медианы и среднего</a></span></li><li><span><a href=\"#Удаление-выбивающихся-значений\" data-toc-modified-id=\"Удаление-выбивающихся-значений-4.4\"><span class=\"toc-item-num\">4.4&nbsp;&nbsp;</span>Удаление выбивающихся значений</a></span></li><li><span><a href=\"#Как-стоимость-квартиры-зависит-от-площади,-числа-комнат,-удалённости-от-центра\" data-toc-modified-id=\"Как-стоимость-квартиры-зависит-от-площади,-числа-комнат,-удалённости-от-центра-4.5\"><span class=\"toc-item-num\">4.5&nbsp;&nbsp;</span>Как стоимость квартиры зависит от площади, числа комнат, удалённости от центра</a></span><ul class=\"toc-item\"><li><span><a href=\"#Цена-квартир-в-зависимости-от-площади\" data-toc-modified-id=\"Цена-квартир-в-зависимости-от-площади-4.5.1\"><span class=\"toc-item-num\">4.5.1&nbsp;&nbsp;</span>Цена квартир в зависимости от площади</a></span></li><li><span><a href=\"#Цена-квартир-в-зависимости-от-количества-комнат\" data-toc-modified-id=\"Цена-квартир-в-зависимости-от-количества-комнат-4.5.2\"><span class=\"toc-item-num\">4.5.2&nbsp;&nbsp;</span>Цена квартир в зависимости от количества комнат</a></span></li><li><span><a href=\"#Цена-квартир-в-зависимости-от-расстояния-до-центра\" data-toc-modified-id=\"Цена-квартир-в-зависимости-от-расстояния-до-центра-4.5.3\"><span class=\"toc-item-num\">4.5.3&nbsp;&nbsp;</span>Цена квартир в зависимости от расстояния до центра</a></span></li><li><span><a href=\"#Цена-квартир-в-зависимости-от-дня-недели,месяца,года\" data-toc-modified-id=\"Цена-квартир-в-зависимости-от-дня-недели,месяца,года-4.5.4\"><span class=\"toc-item-num\">4.5.4&nbsp;&nbsp;</span>Цена квартир в зависимости от дня недели,месяца,года</a></span></li></ul></li><li><span><a href=\"#10-населенных-пунктов-с-самой-высокой-стоимостью-кв.-метра\" data-toc-modified-id=\"10-населенных-пунктов-с-самой-высокой-стоимостью-кв.-метра-4.6\"><span class=\"toc-item-num\">4.6&nbsp;&nbsp;</span>10 населенных пунктов с самой высокой стоимостью кв. метра</a></span></li><li><span><a href=\"#Стоимость-квартир-в-центре\" data-toc-modified-id=\"Стоимость-квартир-в-центре-4.7\"><span class=\"toc-item-num\">4.7&nbsp;&nbsp;</span>Стоимость квартир в центре</a></span></li><li><span><a href=\"#Выясним-какие-факторы-влияют-на-стоимость-квартиры-в-центре-(число-комнат,-этаж,-удалённость-от-центра,-дата-размещения-объявления)-и-сравним-с-выводом-по-всем-квартирам\" data-toc-modified-id=\"Выясним-какие-факторы-влияют-на-стоимость-квартиры-в-центре-(число-комнат,-этаж,-удалённость-от-центра,-дата-размещения-объявления)-и-сравним-с-выводом-по-всем-квартирам-4.8\"><span class=\"toc-item-num\">4.8&nbsp;&nbsp;</span>Выясним какие факторы влияют на стоимость квартиры в центре (число комнат, этаж, удалённость от центра, дата размещения объявления) и сравним с выводом по всем квартирам</a></span></li></ul></li><li><span><a href=\"#Общий-вывод\" data-toc-modified-id=\"Общий-вывод-5\"><span class=\"toc-item-num\">5&nbsp;&nbsp;</span>Общий вывод</a></span></li></ul></div>"
   ]
  },
  {
   "cell_type": "markdown",
   "metadata": {},
   "source": [
    "# Исследование объявлений о продаже квартир\n",
    "\n",
    "В вашем распоряжении данные сервиса Яндекc Недвижимость — архив объявлений о продаже квартир в Санкт-Петербурге и соседних населённых пунктах за несколько лет. Нужно научиться определять рыночную стоимость объектов недвижимости. Ваша задача — установить параметры. Это позволит построить автоматизированную систему: она отследит аномалии и мошенническую деятельность. \n",
    "\n",
    "По каждой квартире на продажу доступны два вида данных. Первые вписаны пользователем, вторые получены автоматически на основе картографических данных. Например, расстояние до центра, аэропорта, ближайшего парка и водоёма. "
   ]
  },
  {
   "cell_type": "markdown",
   "metadata": {},
   "source": [
    "## Изучение данных из файла"
   ]
  },
  {
   "cell_type": "code",
   "execution_count": 59,
   "metadata": {},
   "outputs": [],
   "source": [
    "import pandas as pd\n",
    "import numpy as np\n",
    "import matplotlib.pyplot as plt"
   ]
  },
  {
   "cell_type": "code",
   "execution_count": 60,
   "metadata": {
    "scrolled": true
   },
   "outputs": [
    {
     "data": {
      "text/html": [
       "<div>\n",
       "<style scoped>\n",
       "    .dataframe tbody tr th:only-of-type {\n",
       "        vertical-align: middle;\n",
       "    }\n",
       "\n",
       "    .dataframe tbody tr th {\n",
       "        vertical-align: top;\n",
       "    }\n",
       "\n",
       "    .dataframe thead th {\n",
       "        text-align: right;\n",
       "    }\n",
       "</style>\n",
       "<table border=\"1\" class=\"dataframe\">\n",
       "  <thead>\n",
       "    <tr style=\"text-align: right;\">\n",
       "      <th></th>\n",
       "      <th>total_images</th>\n",
       "      <th>last_price</th>\n",
       "      <th>total_area</th>\n",
       "      <th>first_day_exposition</th>\n",
       "      <th>rooms</th>\n",
       "      <th>ceiling_height</th>\n",
       "      <th>floors_total</th>\n",
       "      <th>living_area</th>\n",
       "      <th>floor</th>\n",
       "      <th>is_apartment</th>\n",
       "      <th>...</th>\n",
       "      <th>kitchen_area</th>\n",
       "      <th>balcony</th>\n",
       "      <th>locality_name</th>\n",
       "      <th>airports_nearest</th>\n",
       "      <th>cityCenters_nearest</th>\n",
       "      <th>parks_around3000</th>\n",
       "      <th>parks_nearest</th>\n",
       "      <th>ponds_around3000</th>\n",
       "      <th>ponds_nearest</th>\n",
       "      <th>days_exposition</th>\n",
       "    </tr>\n",
       "  </thead>\n",
       "  <tbody>\n",
       "    <tr>\n",
       "      <th>0</th>\n",
       "      <td>20</td>\n",
       "      <td>13000000.0</td>\n",
       "      <td>108.0</td>\n",
       "      <td>2019-03-07T00:00:00</td>\n",
       "      <td>3</td>\n",
       "      <td>2.70</td>\n",
       "      <td>16.0</td>\n",
       "      <td>51.0</td>\n",
       "      <td>8</td>\n",
       "      <td>NaN</td>\n",
       "      <td>...</td>\n",
       "      <td>25.0</td>\n",
       "      <td>NaN</td>\n",
       "      <td>Санкт-Петербург</td>\n",
       "      <td>18863.0</td>\n",
       "      <td>16028.0</td>\n",
       "      <td>1.0</td>\n",
       "      <td>482.0</td>\n",
       "      <td>2.0</td>\n",
       "      <td>755.0</td>\n",
       "      <td>NaN</td>\n",
       "    </tr>\n",
       "    <tr>\n",
       "      <th>1</th>\n",
       "      <td>7</td>\n",
       "      <td>3350000.0</td>\n",
       "      <td>40.4</td>\n",
       "      <td>2018-12-04T00:00:00</td>\n",
       "      <td>1</td>\n",
       "      <td>NaN</td>\n",
       "      <td>11.0</td>\n",
       "      <td>18.6</td>\n",
       "      <td>1</td>\n",
       "      <td>NaN</td>\n",
       "      <td>...</td>\n",
       "      <td>11.0</td>\n",
       "      <td>2.0</td>\n",
       "      <td>посёлок Шушары</td>\n",
       "      <td>12817.0</td>\n",
       "      <td>18603.0</td>\n",
       "      <td>0.0</td>\n",
       "      <td>NaN</td>\n",
       "      <td>0.0</td>\n",
       "      <td>NaN</td>\n",
       "      <td>81.0</td>\n",
       "    </tr>\n",
       "    <tr>\n",
       "      <th>2</th>\n",
       "      <td>10</td>\n",
       "      <td>5196000.0</td>\n",
       "      <td>56.0</td>\n",
       "      <td>2015-08-20T00:00:00</td>\n",
       "      <td>2</td>\n",
       "      <td>NaN</td>\n",
       "      <td>5.0</td>\n",
       "      <td>34.3</td>\n",
       "      <td>4</td>\n",
       "      <td>NaN</td>\n",
       "      <td>...</td>\n",
       "      <td>8.3</td>\n",
       "      <td>0.0</td>\n",
       "      <td>Санкт-Петербург</td>\n",
       "      <td>21741.0</td>\n",
       "      <td>13933.0</td>\n",
       "      <td>1.0</td>\n",
       "      <td>90.0</td>\n",
       "      <td>2.0</td>\n",
       "      <td>574.0</td>\n",
       "      <td>558.0</td>\n",
       "    </tr>\n",
       "    <tr>\n",
       "      <th>3</th>\n",
       "      <td>0</td>\n",
       "      <td>64900000.0</td>\n",
       "      <td>159.0</td>\n",
       "      <td>2015-07-24T00:00:00</td>\n",
       "      <td>3</td>\n",
       "      <td>NaN</td>\n",
       "      <td>14.0</td>\n",
       "      <td>NaN</td>\n",
       "      <td>9</td>\n",
       "      <td>NaN</td>\n",
       "      <td>...</td>\n",
       "      <td>NaN</td>\n",
       "      <td>0.0</td>\n",
       "      <td>Санкт-Петербург</td>\n",
       "      <td>28098.0</td>\n",
       "      <td>6800.0</td>\n",
       "      <td>2.0</td>\n",
       "      <td>84.0</td>\n",
       "      <td>3.0</td>\n",
       "      <td>234.0</td>\n",
       "      <td>424.0</td>\n",
       "    </tr>\n",
       "    <tr>\n",
       "      <th>4</th>\n",
       "      <td>2</td>\n",
       "      <td>10000000.0</td>\n",
       "      <td>100.0</td>\n",
       "      <td>2018-06-19T00:00:00</td>\n",
       "      <td>2</td>\n",
       "      <td>3.03</td>\n",
       "      <td>14.0</td>\n",
       "      <td>32.0</td>\n",
       "      <td>13</td>\n",
       "      <td>NaN</td>\n",
       "      <td>...</td>\n",
       "      <td>41.0</td>\n",
       "      <td>NaN</td>\n",
       "      <td>Санкт-Петербург</td>\n",
       "      <td>31856.0</td>\n",
       "      <td>8098.0</td>\n",
       "      <td>2.0</td>\n",
       "      <td>112.0</td>\n",
       "      <td>1.0</td>\n",
       "      <td>48.0</td>\n",
       "      <td>121.0</td>\n",
       "    </tr>\n",
       "  </tbody>\n",
       "</table>\n",
       "<p>5 rows × 22 columns</p>\n",
       "</div>"
      ],
      "text/plain": [
       "   total_images  last_price  total_area first_day_exposition  rooms  \\\n",
       "0            20  13000000.0       108.0  2019-03-07T00:00:00      3   \n",
       "1             7   3350000.0        40.4  2018-12-04T00:00:00      1   \n",
       "2            10   5196000.0        56.0  2015-08-20T00:00:00      2   \n",
       "3             0  64900000.0       159.0  2015-07-24T00:00:00      3   \n",
       "4             2  10000000.0       100.0  2018-06-19T00:00:00      2   \n",
       "\n",
       "   ceiling_height  floors_total  living_area  floor is_apartment  ...  \\\n",
       "0            2.70          16.0         51.0      8          NaN  ...   \n",
       "1             NaN          11.0         18.6      1          NaN  ...   \n",
       "2             NaN           5.0         34.3      4          NaN  ...   \n",
       "3             NaN          14.0          NaN      9          NaN  ...   \n",
       "4            3.03          14.0         32.0     13          NaN  ...   \n",
       "\n",
       "   kitchen_area  balcony    locality_name  airports_nearest  \\\n",
       "0          25.0      NaN  Санкт-Петербург           18863.0   \n",
       "1          11.0      2.0   посёлок Шушары           12817.0   \n",
       "2           8.3      0.0  Санкт-Петербург           21741.0   \n",
       "3           NaN      0.0  Санкт-Петербург           28098.0   \n",
       "4          41.0      NaN  Санкт-Петербург           31856.0   \n",
       "\n",
       "  cityCenters_nearest  parks_around3000  parks_nearest  ponds_around3000  \\\n",
       "0             16028.0               1.0          482.0               2.0   \n",
       "1             18603.0               0.0            NaN               0.0   \n",
       "2             13933.0               1.0           90.0               2.0   \n",
       "3              6800.0               2.0           84.0               3.0   \n",
       "4              8098.0               2.0          112.0               1.0   \n",
       "\n",
       "   ponds_nearest  days_exposition  \n",
       "0          755.0              NaN  \n",
       "1            NaN             81.0  \n",
       "2          574.0            558.0  \n",
       "3          234.0            424.0  \n",
       "4           48.0            121.0  \n",
       "\n",
       "[5 rows x 22 columns]"
      ]
     },
     "execution_count": 60,
     "metadata": {},
     "output_type": "execute_result"
    }
   ],
   "source": [
    "df=pd.read_csv('/datasets/real_estate_data.csv',sep='\\t')\n",
    "df.head()"
   ]
  },
  {
   "cell_type": "code",
   "execution_count": 61,
   "metadata": {
    "scrolled": true
   },
   "outputs": [
    {
     "name": "stdout",
     "output_type": "stream",
     "text": [
      "<class 'pandas.core.frame.DataFrame'>\n",
      "RangeIndex: 23699 entries, 0 to 23698\n",
      "Data columns (total 22 columns):\n",
      " #   Column                Non-Null Count  Dtype  \n",
      "---  ------                --------------  -----  \n",
      " 0   total_images          23699 non-null  int64  \n",
      " 1   last_price            23699 non-null  float64\n",
      " 2   total_area            23699 non-null  float64\n",
      " 3   first_day_exposition  23699 non-null  object \n",
      " 4   rooms                 23699 non-null  int64  \n",
      " 5   ceiling_height        14504 non-null  float64\n",
      " 6   floors_total          23613 non-null  float64\n",
      " 7   living_area           21796 non-null  float64\n",
      " 8   floor                 23699 non-null  int64  \n",
      " 9   is_apartment          2775 non-null   object \n",
      " 10  studio                23699 non-null  bool   \n",
      " 11  open_plan             23699 non-null  bool   \n",
      " 12  kitchen_area          21421 non-null  float64\n",
      " 13  balcony               12180 non-null  float64\n",
      " 14  locality_name         23650 non-null  object \n",
      " 15  airports_nearest      18157 non-null  float64\n",
      " 16  cityCenters_nearest   18180 non-null  float64\n",
      " 17  parks_around3000      18181 non-null  float64\n",
      " 18  parks_nearest         8079 non-null   float64\n",
      " 19  ponds_around3000      18181 non-null  float64\n",
      " 20  ponds_nearest         9110 non-null   float64\n",
      " 21  days_exposition       20518 non-null  float64\n",
      "dtypes: bool(2), float64(14), int64(3), object(3)\n",
      "memory usage: 3.7+ MB\n"
     ]
    }
   ],
   "source": [
    "df.info()"
   ]
  },
  {
   "cell_type": "markdown",
   "metadata": {},
   "source": [
    "В данных есть столбцы с большим количеством NaN значений. Также есть столбцы с неверно определённым типом данных."
   ]
  },
  {
   "cell_type": "markdown",
   "metadata": {},
   "source": [
    "## Предобработка данных"
   ]
  },
  {
   "cell_type": "markdown",
   "metadata": {},
   "source": [
    "Заполнение NaN значений нулём в столбце balcony"
   ]
  },
  {
   "cell_type": "code",
   "execution_count": 62,
   "metadata": {
    "scrolled": true
   },
   "outputs": [],
   "source": [
    "df['balcony'] = df['balcony'].fillna(0).astype(int)"
   ]
  },
  {
   "cell_type": "markdown",
   "metadata": {},
   "source": [
    "Замена типа данных столбца first_day_exposition на тип datetime"
   ]
  },
  {
   "cell_type": "code",
   "execution_count": 63,
   "metadata": {},
   "outputs": [],
   "source": [
    "df['first_day_exposition'] = pd.to_datetime(df['first_day_exposition'], format='%Y-%m-%d')"
   ]
  },
  {
   "cell_type": "markdown",
   "metadata": {},
   "source": [
    "Заполнение в столбцах days_exposition parks_around3000 и  ponds_around3000 NaN-ов нулями и смена типа на int. Так же заполнение в столбце 'is_apartment' NaN значений значениями False"
   ]
  },
  {
   "cell_type": "code",
   "execution_count": 64,
   "metadata": {},
   "outputs": [],
   "source": [
    "df['days_exposition'] = df['days_exposition'].fillna(0).astype(int)\n",
    "df['is_apartment'] = df['is_apartment'].fillna(False)\n",
    "df['parks_around3000'] = df['parks_around3000'].fillna(0).astype(int)\n",
    "df['ponds_around3000'] = df['ponds_around3000'].fillna(0).astype(int)"
   ]
  },
  {
   "cell_type": "markdown",
   "metadata": {},
   "source": [
    "### Работа с NaN и типами данных\n",
    "Пока непонятно чем заменять NaN в таких столбцах как 'ponds_nearest' , 'park_nearest', 'ceiling_height', 'airoport_nearest'  и им подобных так как заменить на 0  это неуместно, ведь мы не знаем какая высота потолка в квартире (нулевой она быть не может), сколько до ближайшего парка и т.д. Однако, мы можем заполнить такие столбцы как 'ponds_around3000' и 'parks_around3000' нулём, ведь скорее всего, если в этих столбцах стоит NaN, значит в радиусе трёх километров нет парков, прудов и мы вряд ли ошибёмся указав 0. Далее переведём 'first_day_exposition' в формате datetime чтобы с ним было проще работать. Самое последние и самое спорное,пока что, решение это замена всех NaN в столбце 'is_apartment' на False. Во-первых, потому что таких значений много и высока вероятность ошибиться. Во-вторых, мы заменяем на False потому что наши данные всё-таки данные о продаже квартир,а не апартаментов, поэтому,наверное, логичнее заменить всё это на \"квартиры\".Так же в столбцах ,в которых не может быть вещественных значений заменим тип всего столбца на int потому что нет никакого смысла в вещественных числах, они будут только путать и создавать лишние числа"
   ]
  },
  {
   "cell_type": "markdown",
   "metadata": {},
   "source": [
    "1) К пропускам в данных могли привести ошибки человека,который их переносил.\n",
    "\n",
    "2) Ошибки программы, которая на каком-то этапе взаимодействовала с этими данными"
   ]
  },
  {
   "cell_type": "markdown",
   "metadata": {},
   "source": [
    "## Features Engeneering"
   ]
  },
  {
   "cell_type": "markdown",
   "metadata": {},
   "source": [
    "### Добавление цены квадратного метра"
   ]
  },
  {
   "cell_type": "code",
   "execution_count": 65,
   "metadata": {},
   "outputs": [],
   "source": [
    "df['price_per_square_meter'] = df['last_price']/df['total_area']"
   ]
  },
  {
   "cell_type": "markdown",
   "metadata": {},
   "source": [
    "### Добавление столбцов с днем недели, месяцем и годом публикации объявления"
   ]
  },
  {
   "cell_type": "code",
   "execution_count": 66,
   "metadata": {},
   "outputs": [],
   "source": [
    "df['day_exposition'] = df['first_day_exposition'].dt.weekday\n",
    "df['month_exposition'] = df['first_day_exposition'].dt.month\n",
    "df['year_exposition'] = df['first_day_exposition'].dt.year"
   ]
  },
  {
   "cell_type": "markdown",
   "metadata": {},
   "source": [
    "### Функция категоризации этажа квартиры"
   ]
  },
  {
   "cell_type": "code",
   "execution_count": 67,
   "metadata": {},
   "outputs": [],
   "source": [
    "def floor_category (row):\n",
    "    floors_total = row['floors_total']\n",
    "    floor = row['floor']\n",
    "    if floor == floors_total:\n",
    "        return  'Последний'\n",
    "    if floor == 1:\n",
    "        return  'Первый'\n",
    "    else:\n",
    "        return 'Другой'"
   ]
  },
  {
   "cell_type": "code",
   "execution_count": 68,
   "metadata": {},
   "outputs": [],
   "source": [
    "df['floor_characteristic'] = df.apply(floor_category, axis=1) "
   ]
  },
  {
   "cell_type": "markdown",
   "metadata": {},
   "source": [
    "### Добавление столбцов соотношения жилой и нежилой площади, а также соотношение площади кухни к общей площади"
   ]
  },
  {
   "cell_type": "code",
   "execution_count": 69,
   "metadata": {},
   "outputs": [],
   "source": [
    "df['area ratio'] = df['living_area'] / df['total_area']\n",
    "df['kitchen_ratio'] = df['kitchen_area'] / df['total_area']"
   ]
  },
  {
   "cell_type": "markdown",
   "metadata": {},
   "source": [
    "## Исследовательский анализ данных"
   ]
  },
  {
   "cell_type": "markdown",
   "metadata": {},
   "source": [
    "### Гистограммы распределения площади, цен, количества комнат"
   ]
  },
  {
   "cell_type": "markdown",
   "metadata": {},
   "source": [
    "Гистограмма площади квартиры"
   ]
  },
  {
   "cell_type": "code",
   "execution_count": 84,
   "metadata": {
    "scrolled": true
   },
   "outputs": [
    {
     "data": {
      "image/png": "[encoded data removed]",
      "text/plain": [
       "<Figure size 432x288 with 1 Axes>"
      ]
     },
     "metadata": {
      "needs_background": "light"
     },
     "output_type": "display_data"
    }
   ],
   "source": [
    "#df['total_area'].hist(range=(0,350),legend=True)\n",
    "\n",
    "ax = df[\"total_area\"].plot.hist(range=(0,350))\n",
    "ax.set_title(\"Гистограмма площади квартиры\")\n",
    "ax.set_xlabel(\"Площадь квартиры\")\n",
    "ax.set_ylabel(\"Частота\")\n",
    "ax.grid()"
   ]
  },
  {
   "cell_type": "markdown",
   "metadata": {},
   "source": [
    "Как мы видим, самая частая площадь квартиры это от 45 до 80 квадратных метров, что логично"
   ]
  },
  {
   "cell_type": "markdown",
   "metadata": {
    "scrolled": true
   },
   "source": [
    " Гистограмма цены"
   ]
  },
  {
   "cell_type": "code",
   "execution_count": 83,
   "metadata": {},
   "outputs": [
    {
     "data": {
      "image/png": "[encoded data removed]",
      "text/plain": [
       "<Figure size 432x288 with 1 Axes>"
      ]
     },
     "metadata": {
      "needs_background": "light"
     },
     "output_type": "display_data"
    }
   ],
   "source": [
    "ax = df[\"last_price\"].plot.hist(range=(400000,55_000_000))\n",
    "ax.set_title(\"Гистограмма цены\")\n",
    "ax.set_xlabel(\"Цена (*10млн)\")\n",
    "ax.set_ylabel(\"Частота\")\n",
    "ax.grid()"
   ]
  },
  {
   "cell_type": "markdown",
   "metadata": {},
   "source": [
    "Здесь всё тоже логично. По оси X распределены первые цифры миллионов рублей. То есть отрезок от 0 до 1 это от 0 до 10 000 000 миллионов рублей. Как мы видим, большая часть квартир стоит в пределах 5-7 миллионов рублей"
   ]
  },
  {
   "cell_type": "markdown",
   "metadata": {},
   "source": [
    " Гистограмма Цены Укрупнённая"
   ]
  },
  {
   "cell_type": "code",
   "execution_count": 85,
   "metadata": {
    "scrolled": true
   },
   "outputs": [
    {
     "data": {
      "image/png": "[encoded data removed]",
      "text/plain": [
       "<Figure size 432x288 with 1 Axes>"
      ]
     },
     "metadata": {
      "needs_background": "light"
     },
     "output_type": "display_data"
    }
   ],
   "source": [
    "ax = df[\"last_price\"].plot.hist(range=(400000,10_000_000))\n",
    "ax.set_title(\"Гистограмма цены Укрупнённая\")\n",
    "ax.set_xlabel(\"Цена (*10млн)\")\n",
    "ax.set_ylabel(\"Частота\")\n",
    "ax.grid()"
   ]
  },
  {
   "cell_type": "markdown",
   "metadata": {},
   "source": [
    "Здесь мы просто укрупнили гистограмму , чтобы понять как именно распределяются цены в пределах 10 000 000 рублей"
   ]
  },
  {
   "cell_type": "markdown",
   "metadata": {},
   "source": [
    "Гистограмма распределения количества комнат"
   ]
  },
  {
   "cell_type": "code",
   "execution_count": 81,
   "metadata": {},
   "outputs": [
    {
     "data": {
      "image/png": "[encoded data removed]",
      "text/plain": [
       "<Figure size 432x288 with 1 Axes>"
      ]
     },
     "metadata": {
      "needs_background": "light"
     },
     "output_type": "display_data"
    }
   ],
   "source": [
    "ax = df[\"rooms\"].plot.hist(range=(1,5))\n",
    "ax.set_title(\"Гистограмма распределения количества комнат\")\n",
    "ax.set_xlabel(\"Количество комнат\")\n",
    "ax.set_ylabel(\"Частота\")\n",
    "ax.grid()"
   ]
  },
  {
   "cell_type": "markdown",
   "metadata": {},
   "source": [
    "Ну,тут тоже всё Ясно. Самые частые к покупке квартиры это однушки и двушки, трёшки покупают немного реже, четерёхкомнатные совсем редко, ну и пятикомнатные это единицы"
   ]
  },
  {
   "cell_type": "code",
   "execution_count": 80,
   "metadata": {
    "scrolled": true
   },
   "outputs": [
    {
     "data": {
      "image/png": "[encoded data removed]",
      "text/plain": [
       "<Figure size 432x288 with 1 Axes>"
      ]
     },
     "metadata": {
      "needs_background": "light"
     },
     "output_type": "display_data"
    }
   ],
   "source": [
    "ax = df[\"ceiling_height\"].plot.hist(range=(1,5))\n",
    "ax.set_title(\"Гистограмма распределения высоты потолков\")\n",
    "ax.set_xlabel(\"Высота потолков\")\n",
    "ax.set_ylabel(\"Частота\")\n",
    "ax.grid()"
   ]
  },
  {
   "cell_type": "markdown",
   "metadata": {},
   "source": [
    "Высота потолков тоже стандартная. Самая частая это от 2.5 до 3 метров. Кватиры с потолками выше трёх метров уже достаточно редки"
   ]
  },
  {
   "cell_type": "markdown",
   "metadata": {},
   "source": [
    "### Распределение времени продаж"
   ]
  },
  {
   "cell_type": "markdown",
   "metadata": {},
   "source": [
    "Гистограмма распределения продаж по дням"
   ]
  },
  {
   "cell_type": "code",
   "execution_count": 96,
   "metadata": {
    "scrolled": false
   },
   "outputs": [
    {
     "data": {
      "image/png": "[encoded data removed]",
      "text/plain": [
       "<Figure size 432x288 with 1 Axes>"
      ]
     },
     "metadata": {
      "needs_background": "light"
     },
     "output_type": "display_data"
    }
   ],
   "source": [
    "ax = df[\"days_exposition\"].plot.hist(range=(0,1500))\n",
    "ax.set_title(\"Гистограмма распределения продаж по дням\")\n",
    "ax.set_xlabel(\"Количество дней\")\n",
    "ax.set_ylabel(\"Частота\")\n",
    "ax.grid()"
   ]
  },
  {
   "cell_type": "markdown",
   "metadata": {},
   "source": [
    "Гистограмма распределения продаж по дням укрупнённая"
   ]
  },
  {
   "cell_type": "code",
   "execution_count": 99,
   "metadata": {},
   "outputs": [
    {
     "data": {
      "image/png": "[encoded data removed]",
      "text/plain": [
       "<Figure size 432x288 with 1 Axes>"
      ]
     },
     "metadata": {
      "needs_background": "light"
     },
     "output_type": "display_data"
    }
   ],
   "source": [
    "ax = df[\"days_exposition\"].plot.hist(range=(0,200))\n",
    "ax.set_title(\"Гистограмма распределения продаж по дням Укрупнённая\")\n",
    "ax.set_xlabel(\"Количество дней\")\n",
    "ax.set_ylabel(\"Частота\")\n",
    "ax.grid()"
   ]
  },
  {
   "cell_type": "markdown",
   "metadata": {},
   "source": [
    "### Вычисление медианы и среднего"
   ]
  },
  {
   "cell_type": "markdown",
   "metadata": {},
   "source": [
    "Теперь необходимо проанализировать за сколько дней квартиры продаются. Как мы видим, большая часть квартир продаётся достаточно быстро. Больше 5000 квартир продалось в срок до 25 дней, уже меньше от 25 до 50,примерно 2200, и  далее меньше и меньше."
   ]
  },
  {
   "cell_type": "code",
   "execution_count": 100,
   "metadata": {},
   "outputs": [
    {
     "name": "stdout",
     "output_type": "stream",
     "text": [
      "74.0 156.60884425503187\n"
     ]
    }
   ],
   "source": [
    "median_of_day_exposition = df['days_exposition'].sort_values(ascending=True).median()\n",
    "mean_of_day_exposition = df['days_exposition'].mean()\n",
    "print(median_of_day_exposition,mean_of_day_exposition )"
   ]
  },
  {
   "cell_type": "markdown",
   "metadata": {},
   "source": [
    "Вычислив медиану и среднее, рассмотрим всё же медиану, так как она более устойчива к выбросам и ошибочным данным. Сравнивая гистограмму и значение медианы можно понять, что среднее количество дней, за которое продаётся квартира это 74 дня."
   ]
  },
  {
   "cell_type": "markdown",
   "metadata": {},
   "source": [
    "То есть квартира проданная в срок до 25 дней считается что квартира продалась очень быстро, а вот квартиры которые продавались 500 дней и более уже продавались очень долго и таких квартир очень мало"
   ]
  },
  {
   "cell_type": "markdown",
   "metadata": {},
   "source": [
    " ### Удаление выбивающихся значений"
   ]
  },
  {
   "cell_type": "markdown",
   "metadata": {},
   "source": [
    "Далее для понимания какие факторы больше всего влияют на цену квартиры построим диаграмму рассеяния и вычислим коэффициент корреляции. Так же стоит убрать редкие и выбивающиеся значения, но прежде необходимо проверить что это за значения"
   ]
  },
  {
   "cell_type": "code",
   "execution_count": 101,
   "metadata": {
    "scrolled": true
   },
   "outputs": [
    {
     "data": {
      "text/plain": [
       "rooms\n",
       "0      197\n",
       "1     8047\n",
       "2     7940\n",
       "3     5814\n",
       "4     1180\n",
       "5      326\n",
       "6      105\n",
       "7       59\n",
       "8       12\n",
       "9        8\n",
       "10       3\n",
       "11       2\n",
       "12       1\n",
       "14       2\n",
       "15       1\n",
       "16       1\n",
       "19       1\n",
       "Name: total_images, dtype: int64"
      ]
     },
     "execution_count": 101,
     "metadata": {},
     "output_type": "execute_result"
    }
   ],
   "source": [
    "df.groupby('rooms').agg('count')['total_images']"
   ]
  },
  {
   "cell_type": "markdown",
   "metadata": {},
   "source": [
    "Как видно, квартиры больше 6 комнат являются выбивающимися значениями, их можно убрать. Как и квартиры,которые стояли на продаже более 700 дней."
   ]
  },
  {
   "cell_type": "code",
   "execution_count": 219,
   "metadata": {
    "scrolled": false
   },
   "outputs": [],
   "source": [
    "good_data = df.query('days_exposition < 700')\n",
    "good_data = good_data.query('rooms < 7')\n",
    "good_data = good_data.query('rooms > 0')\n",
    "good_data = good_data.query('total_area > 30')\n",
    "good_data = good_data.query('total_area < 175')\n",
    "good_data = good_data.query('last_price < 25_000_000')"
   ]
  },
  {
   "cell_type": "markdown",
   "metadata": {},
   "source": [
    "Были убраны квартиры которые стоят на продаже более 700 дней и квартиры с количеством комнат больше 7 так как и тех и других крайне мало однако во многих квартирах подходящих под эти параметры были выбивающиеся значения которые могли бы сказаться на анализе "
   ]
  },
  {
   "cell_type": "markdown",
   "metadata": {},
   "source": [
    "UPD: Так же были убраны квартиры с комнатами = 0, квартиры площадью меньше 30 и больше 175 кв.м. и квартиры дороже 25 млн"
   ]
  },
  {
   "cell_type": "code",
   "execution_count": 220,
   "metadata": {},
   "outputs": [
    {
     "name": "stdout",
     "output_type": "stream",
     "text": [
      "21343\n",
      "23699\n"
     ]
    },
    {
     "data": {
      "text/html": [
       "<div>\n",
       "<style scoped>\n",
       "    .dataframe tbody tr th:only-of-type {\n",
       "        vertical-align: middle;\n",
       "    }\n",
       "\n",
       "    .dataframe tbody tr th {\n",
       "        vertical-align: top;\n",
       "    }\n",
       "\n",
       "    .dataframe thead th {\n",
       "        text-align: right;\n",
       "    }\n",
       "</style>\n",
       "<table border=\"1\" class=\"dataframe\">\n",
       "  <thead>\n",
       "    <tr style=\"text-align: right;\">\n",
       "      <th></th>\n",
       "      <th>last_price</th>\n",
       "      <th>total_area</th>\n",
       "    </tr>\n",
       "  </thead>\n",
       "  <tbody>\n",
       "    <tr>\n",
       "      <th>min</th>\n",
       "      <td>12190.0</td>\n",
       "      <td>30.1</td>\n",
       "    </tr>\n",
       "    <tr>\n",
       "      <th>max</th>\n",
       "      <td>24900000.0</td>\n",
       "      <td>174.5</td>\n",
       "    </tr>\n",
       "  </tbody>\n",
       "</table>\n",
       "</div>"
      ],
      "text/plain": [
       "     last_price  total_area\n",
       "min     12190.0        30.1\n",
       "max  24900000.0       174.5"
      ]
     },
     "execution_count": 220,
     "metadata": {},
     "output_type": "execute_result"
    }
   ],
   "source": [
    "print(len(good_data))\n",
    "print(len(df))\n",
    "\n",
    "good_data[['last_price', 'total_area']].describe().loc[['min', 'max']]"
   ]
  },
  {
   "cell_type": "markdown",
   "metadata": {},
   "source": [
    "### Как стоимость квартиры зависит от площади, числа комнат, удалённости от центра"
   ]
  },
  {
   "cell_type": "markdown",
   "metadata": {},
   "source": [
    "#### Цена квартир в зависимости от площади"
   ]
  },
  {
   "cell_type": "code",
   "execution_count": 272,
   "metadata": {
    "scrolled": true
   },
   "outputs": [
    {
     "data": {
      "text/plain": [
       "0.7709695519186045"
      ]
     },
     "execution_count": 272,
     "metadata": {},
     "output_type": "execute_result"
    },
    {
     "data": {
      "image/png": "[encoded data removed]",
      "text/plain": [
       "<Figure size 432x288 with 1 Axes>"
      ]
     },
     "metadata": {
      "needs_background": "light"
     },
     "output_type": "display_data"
    }
   ],
   "source": [
    "ax = good_data.plot(x = 'total_area',y = 'last_price',kind = 'scatter',alpha = 0.3)\n",
    "ax.set_title(\" Цена квартир в зависимости от площади\")\n",
    "ax.set_xlabel(\"Площадь квартиры\")\n",
    "ax.set_ylabel(\"Цена квартиры\")\n",
    "ax.grid()\n",
    "good_data['last_price'].corr(good_data['total_area'])"
   ]
  },
  {
   "cell_type": "markdown",
   "metadata": {},
   "source": [
    "Корреляция в 0.77 достаточно значительная чтобы говорить о наличии зависимости, поэтому да, зависимость цены от площади квартиры есть."
   ]
  },
  {
   "cell_type": "markdown",
   "metadata": {},
   "source": [
    "#### Цена квартир в зависимости от количества комнат"
   ]
  },
  {
   "cell_type": "code",
   "execution_count": 274,
   "metadata": {
    "scrolled": false
   },
   "outputs": [
    {
     "data": {
      "image/png": "[encoded data removed]",
      "text/plain": [
       "<Figure size 432x288 with 1 Axes>"
      ]
     },
     "metadata": {
      "needs_background": "light"
     },
     "output_type": "display_data"
    }
   ],
   "source": [
    "ax = good_data.pivot_table(index = 'rooms',values = 'last_price',aggfunc = 'median').plot(kind = 'bar')\n",
    "ax.set_title(\" Цена квартир в зависимости от количества комнат\", pad = 20)\n",
    "ax.set_xlabel(\"Количество комнат\")\n",
    "ax.set_ylabel(\"Цена квартиры\")\n",
    "ax.grid()"
   ]
  },
  {
   "cell_type": "markdown",
   "metadata": {},
   "source": [
    "Как мы видим, цена очевидно зависит от комнат. Чем больше комнат, тем больше цена"
   ]
  },
  {
   "cell_type": "markdown",
   "metadata": {},
   "source": [
    "#### Цена квартир в зависимости от расстояния до центра"
   ]
  },
  {
   "cell_type": "code",
   "execution_count": 276,
   "metadata": {
    "scrolled": false
   },
   "outputs": [
    {
     "data": {
      "text/plain": [
       "-0.35476150994053174"
      ]
     },
     "execution_count": 276,
     "metadata": {},
     "output_type": "execute_result"
    },
    {
     "data": {
      "image/png": "[encoded data removed]",
      "text/plain": [
       "<Figure size 432x288 with 1 Axes>"
      ]
     },
     "metadata": {
      "needs_background": "light"
     },
     "output_type": "display_data"
    }
   ],
   "source": [
    "ax = good_data.plot(x = 'cityCenters_nearest',y = 'last_price',kind = 'scatter',alpha = 0.3)\n",
    "ax.set_title(\" Цена квартир в зависимости от расстояния до центра\", pad = 20)\n",
    "ax.set_xlabel(\"Расстояние до центра\")\n",
    "ax.set_ylabel(\"Цена квартиры\")\n",
    "ax.grid()\n",
    "good_data['last_price'].corr(good_data['cityCenters_nearest'])"
   ]
  },
  {
   "cell_type": "markdown",
   "metadata": {},
   "source": [
    "Здесь корреляции нет практически совсем или она нелинейна, что более вероятно."
   ]
  },
  {
   "cell_type": "code",
   "execution_count": 224,
   "metadata": {
    "scrolled": false
   },
   "outputs": [
    {
     "data": {
      "text/html": [
       "<div>\n",
       "<style scoped>\n",
       "    .dataframe tbody tr th:only-of-type {\n",
       "        vertical-align: middle;\n",
       "    }\n",
       "\n",
       "    .dataframe tbody tr th {\n",
       "        vertical-align: top;\n",
       "    }\n",
       "\n",
       "    .dataframe thead th {\n",
       "        text-align: right;\n",
       "    }\n",
       "</style>\n",
       "<table border=\"1\" class=\"dataframe\">\n",
       "  <thead>\n",
       "    <tr style=\"text-align: right;\">\n",
       "      <th></th>\n",
       "      <th>last_price</th>\n",
       "    </tr>\n",
       "    <tr>\n",
       "      <th>floor_characteristic</th>\n",
       "      <th></th>\n",
       "    </tr>\n",
       "  </thead>\n",
       "  <tbody>\n",
       "    <tr>\n",
       "      <th>Другой</th>\n",
       "      <td>5829217</td>\n",
       "    </tr>\n",
       "    <tr>\n",
       "      <th>Первый</th>\n",
       "      <td>4520344</td>\n",
       "    </tr>\n",
       "    <tr>\n",
       "      <th>Последний</th>\n",
       "      <td>5215442</td>\n",
       "    </tr>\n",
       "  </tbody>\n",
       "</table>\n",
       "</div>"
      ],
      "text/plain": [
       "                      last_price\n",
       "floor_characteristic            \n",
       "Другой                   5829217\n",
       "Первый                   4520344\n",
       "Последний                5215442"
      ]
     },
     "execution_count": 224,
     "metadata": {},
     "output_type": "execute_result"
    }
   ],
   "source": [
    "good_data.pivot_table(index='floor_characteristic',values='last_price').astype(int)"
   ]
  },
  {
   "cell_type": "markdown",
   "metadata": {},
   "source": [
    "Тут корреляция есть, но не линейная. Людям хочется жить на любом этаже кроме первого,поэтому цены квартир на любых этажах кроме первого примерно одинаковые, а вот на первом сильно ниже"
   ]
  },
  {
   "cell_type": "markdown",
   "metadata": {},
   "source": [
    "#### Цена квартир в зависимости от дня недели,месяца,года"
   ]
  },
  {
   "cell_type": "code",
   "execution_count": 225,
   "metadata": {},
   "outputs": [
    {
     "data": {
      "image/png": "[encoded data removed]",
      "text/plain": [
       "<Figure size 432x288 with 1 Axes>"
      ]
     },
     "metadata": {
      "needs_background": "light"
     },
     "output_type": "display_data"
    }
   ],
   "source": [
    "ax = good_data.groupby('day_exposition').agg('mean')['last_price'].astype(int).plot()\n",
    "ax.set_title(\" Цена квартир в зависимости от дня недели\")\n",
    "ax.set_xlabel(\"День недели\")\n",
    "ax.set_ylabel(\"Средняя цена\")\n",
    "ax.grid()"
   ]
  },
  {
   "cell_type": "markdown",
   "metadata": {},
   "source": [
    "График показывает, что зависимость есть, начиная с четверга и по субботу средняя цена квартир снижается,однако разница в цене между высшей точкой и низшей всего лишь 200 000, поэтому можно сделать вывод что зависимости цены от дня недели нет"
   ]
  },
  {
   "cell_type": "code",
   "execution_count": 226,
   "metadata": {
    "scrolled": true
   },
   "outputs": [
    {
     "data": {
      "image/png": "[encoded data removed]",
      "text/plain": [
       "<Figure size 432x288 with 1 Axes>"
      ]
     },
     "metadata": {
      "needs_background": "light"
     },
     "output_type": "display_data"
    }
   ],
   "source": [
    "ax = good_data.groupby('month_exposition').agg('mean')['last_price'].astype(int).plot()\n",
    "ax.set_title(\" Цена квартир в зависимости от месяца \")\n",
    "ax.set_xlabel(\"Номер месяца\")\n",
    "ax.set_ylabel(\"Средняя цена\")\n",
    "ax.grid()"
   ]
  },
  {
   "cell_type": "markdown",
   "metadata": {},
   "source": [
    "График показывает, что цена в зависимости от месяца прыгает, однако разница в 300 000 не существенная. Даже используя статистику \"среднее\", которая не устойчива к выбросам, разница в ценах небольшая, значит ни в какой из месяцев даже не было сильных выбросов, которые бы резко повлияли на среднюю цену квартиры, значит зависимости нет"
   ]
  },
  {
   "cell_type": "code",
   "execution_count": 227,
   "metadata": {},
   "outputs": [
    {
     "data": {
      "image/png": "[encoded data removed]",
      "text/plain": [
       "<Figure size 432x288 with 1 Axes>"
      ]
     },
     "metadata": {
      "needs_background": "light"
     },
     "output_type": "display_data"
    }
   ],
   "source": [
    "ax = good_data.groupby('year_exposition').agg('mean')['last_price'].astype(int).plot()\n",
    "ax.set_title(\" Цена квартир в зависимости от года \")\n",
    "ax.set_xlabel(\"Год\")\n",
    "ax.set_ylabel(\"Средняя цена\")\n",
    "ax.grid()"
   ]
  },
  {
   "cell_type": "markdown",
   "metadata": {},
   "source": [
    "А вот от года зависимость есть. После кризиза 14 года пошло резкое падение цены и проблемы в экономике страны и только к 18 году ситуация более-менее стабилизировалась и цены на квартиры снова начали расти."
   ]
  },
  {
   "cell_type": "markdown",
   "metadata": {},
   "source": [
    "### 10 населенных пунктов с самой высокой стоимостью кв. метра"
   ]
  },
  {
   "cell_type": "markdown",
   "metadata": {},
   "source": [
    "Далее необходимо вывести первые 10 населённых пунктов с наибольшим числом объявлений о продаже квартир:"
   ]
  },
  {
   "cell_type": "code",
   "execution_count": 228,
   "metadata": {
    "scrolled": true
   },
   "outputs": [
    {
     "data": {
      "text/plain": [
       "locality_name\n",
       "Санкт-Петербург      14067\n",
       "посёлок Мурино         437\n",
       "посёлок Шушары         408\n",
       "Всеволожск             373\n",
       "Пушкин                 333\n",
       "Колпино                319\n",
       "посёлок Парголово      308\n",
       "Гатчина                282\n",
       "деревня Кудрово        247\n",
       "Выборг                 210\n",
       "Name: total_images, dtype: int64"
      ]
     },
     "execution_count": 228,
     "metadata": {},
     "output_type": "execute_result"
    }
   ],
   "source": [
    "group_data = good_data.groupby('locality_name')\\\n",
    "    .agg('count')['total_images']\\\n",
    "    .sort_values(ascending=False)\\\n",
    "    .head(10)\n",
    "group_data"
   ]
  },
  {
   "cell_type": "markdown",
   "metadata": {},
   "source": [
    "Теперь выведем среднюю цену квадратного метра в этом списке по убыванию"
   ]
  },
  {
   "cell_type": "code",
   "execution_count": 229,
   "metadata": {
    "scrolled": false
   },
   "outputs": [
    {
     "data": {
      "text/plain": [
       "locality_name\n",
       "Санкт-Петербург      109257.590258\n",
       "Пушкин               101796.592052\n",
       "деревня Кудрово       91965.896263\n",
       "посёлок Парголово     90072.059747\n",
       "посёлок Мурино        84468.856806\n",
       "посёлок Шушары        77559.418627\n",
       "Колпино               74790.414849\n",
       "Гатчина               68803.308923\n",
       "Всеволожск            68764.061675\n",
       "Выборг                57797.018474\n",
       "Name: price_per_square_meter, dtype: float64"
      ]
     },
     "execution_count": 229,
     "metadata": {},
     "output_type": "execute_result"
    }
   ],
   "source": [
    "mas = group_data.index\n",
    "\n",
    "gd=good_data.query('locality_name in @mas')\n",
    "\n",
    "gd.pivot_table(index='locality_name',values='price_per_square_meter')['price_per_square_meter']\\\n",
    "    .sort_values(ascending=False)"
   ]
  },
  {
   "cell_type": "markdown",
   "metadata": {},
   "source": [
    "Выше приведены населённые пункты с наибольшим числом объявлений и отсортированные по убыванию по цене среднего квадратного метра. То есть самый дорогой квадратный метр в Санкт-Петербурге, а самый дешёвый в Выборге из десятки самых густонаселённых городов"
   ]
  },
  {
   "cell_type": "markdown",
   "metadata": {},
   "source": [
    " ### Стоимость квартир в центре"
   ]
  },
  {
   "cell_type": "code",
   "execution_count": 267,
   "metadata": {},
   "outputs": [
    {
     "data": {
      "image/png": "[encoded data removed]",
      "text/plain": [
       "<Figure size 432x288 with 1 Axes>"
      ]
     },
     "metadata": {
      "needs_background": "light"
     },
     "output_type": "display_data"
    }
   ],
   "source": [
    "center = good_data.copy()\n",
    "center = center.loc[good_data['locality_name'] == 'Санкт-Петербург'] \n",
    "center['distance_to_center'] = np.round(center['cityCenters_nearest']/1000,0)\n",
    "ax = center.pivot_table(index='distance_to_center',\n",
    "                   values='last_price').plot()\n",
    "ax.set_title(\" Цена квартир в зависимости от расстояния до центра \",pad=20)\n",
    "ax.set_xlabel(\"Расстояние до центра\")\n",
    "ax.set_ylabel(\"Цена\")\n",
    "ax.grid()"
   ]
  },
  {
   "cell_type": "markdown",
   "metadata": {},
   "source": [
    "Здесь эти выбросы обусловлены одним районом Санкт-Петербурга с названием \"Каменный Остров\". Там очень дорогие квартиры, поэтому это исключение из правил и их нельзя считать за обоснованное влияние на размер центра города"
   ]
  },
  {
   "cell_type": "markdown",
   "metadata": {},
   "source": [
    " ### Выясним какие факторы влияют на стоимость квартиры в центре (число комнат, этаж, удалённость от центра, дата размещения объявления) и сравним с выводом по всем квартирам"
   ]
  },
  {
   "cell_type": "code",
   "execution_count": 257,
   "metadata": {
    "scrolled": true
   },
   "outputs": [
    {
     "data": {
      "image/png": "[encoded data removed]",
      "text/plain": [
       "<Figure size 432x288 with 1 Axes>"
      ]
     },
     "metadata": {
      "needs_background": "light"
     },
     "output_type": "display_data"
    }
   ],
   "source": [
    "apartments_in_the_center=center.query('distance_to_center < 7')\n",
    "ax = apartments_in_the_center['total_area'].plot.hist()\n",
    "ax.set_title(\"Гистограмма распределения площади квартир\")\n",
    "ax.set_xlabel(\"Площадь квартир\")\n",
    "ax.set_ylabel(\"Частота\")\n",
    "ax.grid()"
   ]
  },
  {
   "cell_type": "markdown",
   "metadata": {},
   "source": [
    "Здесь выборка немного сместилась, теперь самые частые площади квартир от 50 до 120 кв.м."
   ]
  },
  {
   "cell_type": "code",
   "execution_count": 258,
   "metadata": {
    "scrolled": true
   },
   "outputs": [
    {
     "data": {
      "image/png": "[encoded data removed]",
      "text/plain": [
       "<Figure size 432x288 with 1 Axes>"
      ]
     },
     "metadata": {
      "needs_background": "light"
     },
     "output_type": "display_data"
    }
   ],
   "source": [
    "ax = apartments_in_the_center['last_price'].plot.hist(range=(0,25_000_000))\n",
    "ax.set_title(\"Гистограмма распределения цены квартир\")\n",
    "ax.set_xlabel(\"Цена квартиры\")\n",
    "ax.set_ylabel(\"Частота\")\n",
    "ax.grid()"
   ]
  },
  {
   "cell_type": "markdown",
   "metadata": {},
   "source": [
    "Цена так же немного сместилась, ведь квартиры в центре большого города всегда дороже чем на окраинах, и уж тем более дороже чем в маленьких городах. Поэтому теперь большинство квартир стоит от 5 до 12 миллионов"
   ]
  },
  {
   "cell_type": "code",
   "execution_count": 260,
   "metadata": {
    "scrolled": true
   },
   "outputs": [
    {
     "data": {
      "image/png": "[encoded data removed]",
      "text/plain": [
       "<Figure size 432x288 with 1 Axes>"
      ]
     },
     "metadata": {
      "needs_background": "light"
     },
     "output_type": "display_data"
    }
   ],
   "source": [
    "ax = apartments_in_the_center['rooms'].plot.hist()\n",
    "ax.set_title(\"Гистограмма распределения количества комнад\")\n",
    "ax.set_xlabel(\"Количество комнат\")\n",
    "ax.set_ylabel(\"Частота\")\n",
    "ax.grid()"
   ]
  },
  {
   "cell_type": "markdown",
   "metadata": {},
   "source": [
    "Распределение по количеству комнат так же немного сместилось, теперь самые частые это не однушки и двушки, как это было во всей выборке, а двушки и трёшки. "
   ]
  },
  {
   "cell_type": "code",
   "execution_count": 261,
   "metadata": {
    "scrolled": true
   },
   "outputs": [
    {
     "data": {
      "image/png": "[encoded data removed]",
      "text/plain": [
       "<Figure size 432x288 with 1 Axes>"
      ]
     },
     "metadata": {
      "needs_background": "light"
     },
     "output_type": "display_data"
    }
   ],
   "source": [
    "ax = apartments_in_the_center['ceiling_height'].plot.hist(range=(1,6))\n",
    "ax.set_title(\"Гистограмма распределения высоты потолков\")\n",
    "ax.set_xlabel(\"Высота потолков\")\n",
    "ax.set_ylabel(\"Частота\")\n",
    "ax.grid()"
   ]
  },
  {
   "cell_type": "markdown",
   "metadata": {},
   "source": [
    "Высота потолков тоже изменилась. Теперь большинство квартир с потолками больше трёх метров, а ведь в начале большинство было меньше трёх метров. "
   ]
  },
  {
   "cell_type": "code",
   "execution_count": 266,
   "metadata": {},
   "outputs": [
    {
     "data": {
      "text/plain": [
       "0.6990842859944016"
      ]
     },
     "execution_count": 266,
     "metadata": {},
     "output_type": "execute_result"
    },
    {
     "data": {
      "image/png": "[encoded data removed]",
      "text/plain": [
       "<Figure size 432x288 with 1 Axes>"
      ]
     },
     "metadata": {
      "needs_background": "light"
     },
     "output_type": "display_data"
    }
   ],
   "source": [
    "ax = apartments_in_the_center.plot(x='total_area',y='last_price',kind='scatter',alpha=0.3)\n",
    "ax.set_title(\"График зависимости цены от площади квартиры\", pad=20)\n",
    "ax.set_xlabel(\"Площадь квартиры\")\n",
    "ax.set_ylabel(\"Цена квартиры\")\n",
    "ax.grid()\n",
    "apartments_in_the_center['total_area'].corr(apartments_in_the_center['last_price'])"
   ]
  },
  {
   "cell_type": "markdown",
   "metadata": {},
   "source": [
    "Зависимость цены от площади так же есть и достаточно значительная. Разница с общей выборкой небольшая"
   ]
  },
  {
   "cell_type": "code",
   "execution_count": 265,
   "metadata": {},
   "outputs": [
    {
     "data": {
      "image/png": "[encoded data removed]",
      "text/plain": [
       "<Figure size 432x288 with 1 Axes>"
      ]
     },
     "metadata": {
      "needs_background": "light"
     },
     "output_type": "display_data"
    }
   ],
   "source": [
    "ax = apartments_in_the_center.pivot_table(index='rooms',values='last_price',aggfunc='median').plot(kind='bar')\n",
    "ax.set_title(\"График зависимости цены от количества комнат\",pad=20)\n",
    "ax.set_xlabel(\"Количество комнат\")\n",
    "ax.set_ylabel(\"Цена квартиры\")\n",
    "ax.grid()"
   ]
  },
  {
   "cell_type": "markdown",
   "metadata": {},
   "source": [
    "Зависимость от числа комнат сохранилась. Больше комнат-больше цена"
   ]
  },
  {
   "cell_type": "code",
   "execution_count": 251,
   "metadata": {},
   "outputs": [
    {
     "data": {
      "text/html": [
       "<div>\n",
       "<style scoped>\n",
       "    .dataframe tbody tr th:only-of-type {\n",
       "        vertical-align: middle;\n",
       "    }\n",
       "\n",
       "    .dataframe tbody tr th {\n",
       "        vertical-align: top;\n",
       "    }\n",
       "\n",
       "    .dataframe thead th {\n",
       "        text-align: right;\n",
       "    }\n",
       "</style>\n",
       "<table border=\"1\" class=\"dataframe\">\n",
       "  <thead>\n",
       "    <tr style=\"text-align: right;\">\n",
       "      <th></th>\n",
       "      <th>last_price</th>\n",
       "    </tr>\n",
       "    <tr>\n",
       "      <th>floor_characteristic</th>\n",
       "      <th></th>\n",
       "    </tr>\n",
       "  </thead>\n",
       "  <tbody>\n",
       "    <tr>\n",
       "      <th>Другой</th>\n",
       "      <td>10072921</td>\n",
       "    </tr>\n",
       "    <tr>\n",
       "      <th>Первый</th>\n",
       "      <td>7590592</td>\n",
       "    </tr>\n",
       "    <tr>\n",
       "      <th>Последний</th>\n",
       "      <td>9746791</td>\n",
       "    </tr>\n",
       "  </tbody>\n",
       "</table>\n",
       "</div>"
      ],
      "text/plain": [
       "                      last_price\n",
       "floor_characteristic            \n",
       "Другой                  10072921\n",
       "Первый                   7590592\n",
       "Последний                9746791"
      ]
     },
     "execution_count": 251,
     "metadata": {},
     "output_type": "execute_result"
    }
   ],
   "source": [
    "apartments_in_the_center.pivot_table(index='floor_characteristic',values='last_price').astype(int)"
   ]
  },
  {
   "cell_type": "markdown",
   "metadata": {},
   "source": [
    "Зависимость от этажа тоже сохранилась. Люди всё так же не хотят жить на первом этаже,поэтому квартиры на первом этаже дешевле чем квартиры на любом другом."
   ]
  },
  {
   "cell_type": "code",
   "execution_count": 277,
   "metadata": {
    "scrolled": true
   },
   "outputs": [
    {
     "data": {
      "text/plain": [
       "-0.08578058628234596"
      ]
     },
     "execution_count": 277,
     "metadata": {},
     "output_type": "execute_result"
    },
    {
     "data": {
      "image/png": "[encoded data removed]",
      "text/plain": [
       "<Figure size 432x288 with 1 Axes>"
      ]
     },
     "metadata": {
      "needs_background": "light"
     },
     "output_type": "display_data"
    }
   ],
   "source": [
    "ax = apartments_in_the_center.plot(x = 'cityCenters_nearest',y = 'last_price',kind = 'scatter',alpha = 0.3)\n",
    "ax.set_title(\"График зависимости расстояния от центра и цены\",pad =20)\n",
    "ax.set_xlabel(\"Расстояние от центра\")\n",
    "ax.set_ylabel(\"Цена квартиры\")\n",
    "ax.grid()\n",
    "apartments_in_the_center['cityCenters_nearest'].corr(apartments_in_the_center['last_price'])"
   ]
  },
  {
   "cell_type": "markdown",
   "metadata": {},
   "source": [
    "Так как мы ограничили радиус рассмотрения центром Санкт-Петербурга,а именно семью километрами, значит все квартиры находящиеся на этом графике находятся в центре, а людям уже всё равно где именно в центре находится квартира, им важно что она просто уже в центре. Поэтому в пределах центра зависимости цены квартиры от расстояния нет."
   ]
  },
  {
   "cell_type": "code",
   "execution_count": 286,
   "metadata": {},
   "outputs": [
    {
     "data": {
      "image/png": "[encoded data removed]",
      "text/plain": [
       "<Figure size 432x288 with 1 Axes>"
      ]
     },
     "metadata": {
      "needs_background": "light"
     },
     "output_type": "display_data"
    }
   ],
   "source": [
    "ax = apartments_in_the_center.groupby('day_exposition').agg('mean')['last_price'].astype(int).plot()\n",
    "ax.set_title(\" Цена квартир в зависимости от дня недели\")\n",
    "ax.set_xlabel(\"День недели\")\n",
    "ax.set_ylabel(\"Средняя цена\")\n",
    "ax.grid()"
   ]
  },
  {
   "cell_type": "markdown",
   "metadata": {},
   "source": [
    "Так как разница в крайних точках всего 70 тысяч, значит цена не зависит от дня недели"
   ]
  },
  {
   "cell_type": "code",
   "execution_count": 284,
   "metadata": {
    "scrolled": false
   },
   "outputs": [
    {
     "data": {
      "image/png": "[encoded data removed]",
      "text/plain": [
       "<Figure size 432x288 with 1 Axes>"
      ]
     },
     "metadata": {
      "needs_background": "light"
     },
     "output_type": "display_data"
    }
   ],
   "source": [
    "ax = apartments_in_the_center.groupby('month_exposition').agg('mean')['last_price'].astype(int).plot()\n",
    "ax.set_title(\" Цена квартир в зависимости от месяца\")\n",
    "ax.set_xlabel(\"Номер месяца\")\n",
    "ax.set_ylabel(\"Средняя цена\")\n",
    "ax.grid()"
   ]
  },
  {
   "cell_type": "markdown",
   "metadata": {},
   "source": [
    "Так как разница в крайних точках всего около 100 тысяч, значит цена не зависит от месяца"
   ]
  },
  {
   "cell_type": "code",
   "execution_count": 285,
   "metadata": {},
   "outputs": [
    {
     "data": {
      "image/png": "[encoded data removed]",
      "text/plain": [
       "<Figure size 432x288 with 1 Axes>"
      ]
     },
     "metadata": {
      "needs_background": "light"
     },
     "output_type": "display_data"
    }
   ],
   "source": [
    "ax = apartments_in_the_center.groupby('year_exposition').agg('mean')['last_price'].astype(int).plot()\n",
    "ax.set_title(\" Цена квартир в зависимости от года\")\n",
    "ax.set_xlabel(\"Год\")\n",
    "ax.set_ylabel(\"Средняя цена\")\n",
    "ax.grid()"
   ]
  },
  {
   "cell_type": "markdown",
   "metadata": {},
   "source": [
    "Здесь уже разница между максимальным и минимальным значением 300 тысяч, однако на фоне средней цены в 10 миллионов рублей, эти 300 тысяч теряются и их нельзя считать как статистически значимыми"
   ]
  },
  {
   "cell_type": "markdown",
   "metadata": {},
   "source": [
    "Даже учитывая, что во всех данных мы видим обьяснимую закономерность. Например, цена снижается после четверга и до субботы. Так же цена снижается с конца весны и до начала осени. Помимо этого цена снижается 14 года и до 16 года, далее начинает снова расти. Всё это логично и обьяснимо, с четверга до субботы, потому что выходные, с весны до осени потому что лето и людям не до квартир, и с 14 года до 16 потому что в стране был кризис. НО. Разница в ценах настолько не существенная( от 70 до 300 тысяч) что это нельзя считать за зависимость цены от дней недели, месяца или года."
   ]
  },
  {
   "cell_type": "markdown",
   "metadata": {},
   "source": [
    "Подытоживая,расхождения со всей выборкой в данных есть. Просто некоторые данные немного сместились вправо. Цены,высота потолков,количество комнат,общая площадь. Однако резкого изменения зависимостей данных друг от друга в общей выборке и выборке квартир в пределах центра Санкт-Петербурга не наблюдается."
   ]
  },
  {
   "cell_type": "markdown",
   "metadata": {},
   "source": [
    "## Общий вывод"
   ]
  },
  {
   "cell_type": "markdown",
   "metadata": {},
   "source": [
    "Стандартные представления о квартирах и ценообразовании на них в большинстве своём сходятся с фактическими. Самые дорогие квартиры в центре, с самым большим количеством комнат и самой большой площадью. Тогда как самые дешёвые на окраине, с самым малым числом комнат и малой площадью. На цену квартиры влияет сочетание этих факторов и их комбинация в определённых условиях. Больше всего на цену квартиры влияет площадь. Так же на квартиру влияет количество комнат, расстояние от центра города."
   ]
  },
  {
   "cell_type": "code",
   "execution_count": 289,
   "metadata": {
    "code_folding": [],
    "scrolled": true
   },
   "outputs": [
    {
     "name": "stdout",
     "output_type": "stream",
     "text": [
      "Средняя цена квартиры в центре:  8550000.0\n",
      "Средняя цена квартиры во всех районах Санкт-Петербурга:  4650000.0\n"
     ]
    }
   ],
   "source": [
    "print('Средняя цена квартиры в центре: ',apartments_in_the_center['last_price']\\\n",
    "      .sort_values().median())\n",
    "print('Средняя цена квартиры во всех районах Санкт-Петербурга: ',good_data['last_price']\\\n",
    "      .sort_values().median())\n"
   ]
  },
  {
   "cell_type": "code",
   "execution_count": 290,
   "metadata": {
    "scrolled": true
   },
   "outputs": [
    {
     "name": "stdout",
     "output_type": "stream",
     "text": [
      "Средняя площадь квартиры в центре:  74.32\n",
      "Средняя площадь квартиры во всех районах Санкт-Петербурга:  52.0\n"
     ]
    }
   ],
   "source": [
    "print('Средняя площадь квартиры в центре: ',apartments_in_the_center['total_area']\\\n",
    "      .sort_values().median())\n",
    "print('Средняя площадь квартиры во всех районах Санкт-Петербурга: ',good_data['total_area']\\\n",
    "      .sort_values().median())"
   ]
  },
  {
   "cell_type": "markdown",
   "metadata": {},
   "source": [
    "Как видно, средняя цена квартиры отличается практически в 2 раза из-за местонахождения квартиры. Так же площадь в среднем отличается почти на треть. Делаем вывод, что квартиры в центре в среднем в 2 раза дороже и на треть больше чем квартиры за пределами центра."
   ]
  }
 ],
 "metadata": {
  "ExecuteTimeLog": [
   {
    "duration": 371,
    "start_time": "2022-04-25T12:19:36.761Z"
   },
   {
    "duration": 134,
    "start_time": "2022-04-25T12:21:28.233Z"
   },
   {
    "duration": 91,
    "start_time": "2022-04-25T12:21:36.459Z"
   },
   {
    "duration": 121,
    "start_time": "2022-04-25T12:21:44.344Z"
   },
   {
    "duration": 119,
    "start_time": "2022-04-25T12:22:03.099Z"
   },
   {
    "duration": 17,
    "start_time": "2022-04-25T12:22:15.568Z"
   },
   {
    "duration": 6,
    "start_time": "2022-04-25T12:25:14.990Z"
   },
   {
    "duration": 6,
    "start_time": "2022-04-25T12:25:44.265Z"
   },
   {
    "duration": 12,
    "start_time": "2022-04-25T12:25:58.233Z"
   },
   {
    "duration": 7,
    "start_time": "2022-04-25T12:26:07.287Z"
   },
   {
    "duration": 6,
    "start_time": "2022-04-25T12:26:18.029Z"
   },
   {
    "duration": 7,
    "start_time": "2022-04-25T12:26:36.032Z"
   },
   {
    "duration": 5,
    "start_time": "2022-04-25T12:26:51.682Z"
   },
   {
    "duration": 9,
    "start_time": "2022-04-25T12:27:11.508Z"
   },
   {
    "duration": 6,
    "start_time": "2022-04-25T12:27:33.402Z"
   },
   {
    "duration": 5,
    "start_time": "2022-04-25T12:27:40.399Z"
   },
   {
    "duration": 8,
    "start_time": "2022-04-25T12:28:28.139Z"
   },
   {
    "duration": 5,
    "start_time": "2022-04-25T12:28:49.867Z"
   },
   {
    "duration": 6,
    "start_time": "2022-04-25T12:29:04.233Z"
   },
   {
    "duration": 15,
    "start_time": "2022-04-25T12:29:20.976Z"
   },
   {
    "duration": 7,
    "start_time": "2022-04-25T12:29:46.308Z"
   },
   {
    "duration": 7,
    "start_time": "2022-04-25T12:31:25.381Z"
   },
   {
    "duration": 5,
    "start_time": "2022-04-25T12:31:54.646Z"
   },
   {
    "duration": 9,
    "start_time": "2022-04-25T12:32:00.466Z"
   },
   {
    "duration": 6,
    "start_time": "2022-04-25T12:33:51.412Z"
   },
   {
    "duration": 5,
    "start_time": "2022-04-25T12:34:18.656Z"
   },
   {
    "duration": 202,
    "start_time": "2022-04-25T12:34:25.370Z"
   },
   {
    "duration": 5,
    "start_time": "2022-04-25T12:34:28.150Z"
   },
   {
    "duration": 7,
    "start_time": "2022-04-25T12:35:38.171Z"
   },
   {
    "duration": 8,
    "start_time": "2022-04-25T12:35:47.895Z"
   },
   {
    "duration": 16,
    "start_time": "2022-04-25T12:38:20.334Z"
   },
   {
    "duration": 23,
    "start_time": "2022-04-25T12:38:37.736Z"
   },
   {
    "duration": 24,
    "start_time": "2022-04-25T12:39:21.618Z"
   },
   {
    "duration": 22,
    "start_time": "2022-04-25T12:39:28.869Z"
   },
   {
    "duration": 16,
    "start_time": "2022-04-25T12:39:37.981Z"
   },
   {
    "duration": 15,
    "start_time": "2022-04-25T12:39:43.362Z"
   },
   {
    "duration": 34,
    "start_time": "2022-04-25T12:40:01.765Z"
   },
   {
    "duration": 22,
    "start_time": "2022-04-25T12:40:12.181Z"
   },
   {
    "duration": 20,
    "start_time": "2022-04-25T12:40:44.450Z"
   },
   {
    "duration": 16,
    "start_time": "2022-04-25T12:41:08.866Z"
   },
   {
    "duration": 26,
    "start_time": "2022-04-25T12:41:19.825Z"
   },
   {
    "duration": 23,
    "start_time": "2022-04-25T12:41:26.735Z"
   },
   {
    "duration": 29,
    "start_time": "2022-04-25T12:41:42.588Z"
   },
   {
    "duration": 16,
    "start_time": "2022-04-25T12:42:53.211Z"
   },
   {
    "duration": 9,
    "start_time": "2022-04-25T12:43:00.231Z"
   },
   {
    "duration": 5,
    "start_time": "2022-04-25T12:43:26.958Z"
   },
   {
    "duration": 31,
    "start_time": "2022-04-25T12:43:35.922Z"
   },
   {
    "duration": 6,
    "start_time": "2022-04-25T12:44:50.622Z"
   },
   {
    "duration": 7,
    "start_time": "2022-04-25T12:44:59.899Z"
   },
   {
    "duration": 6,
    "start_time": "2022-04-25T12:49:34.034Z"
   },
   {
    "duration": 6,
    "start_time": "2022-04-25T12:49:40.017Z"
   },
   {
    "duration": 18,
    "start_time": "2022-04-25T12:49:43.044Z"
   },
   {
    "duration": 80,
    "start_time": "2022-04-25T12:51:26.017Z"
   },
   {
    "duration": 11,
    "start_time": "2022-04-25T12:53:10.533Z"
   },
   {
    "duration": 21,
    "start_time": "2022-04-25T12:53:15.835Z"
   },
   {
    "duration": 10,
    "start_time": "2022-04-25T13:00:51.420Z"
   },
   {
    "duration": 24,
    "start_time": "2022-04-25T13:01:00.953Z"
   },
   {
    "duration": 2,
    "start_time": "2022-04-25T13:01:07.660Z"
   },
   {
    "duration": 146,
    "start_time": "2022-04-25T13:01:07.822Z"
   },
   {
    "duration": 15,
    "start_time": "2022-04-25T13:01:07.971Z"
   },
   {
    "duration": 22,
    "start_time": "2022-04-25T13:01:08.557Z"
   },
   {
    "duration": 25,
    "start_time": "2022-04-25T13:02:01.809Z"
   },
   {
    "duration": 26,
    "start_time": "2022-04-25T13:11:16.738Z"
   },
   {
    "duration": 37,
    "start_time": "2022-04-25T13:35:36.804Z"
   },
   {
    "duration": 28,
    "start_time": "2022-04-25T13:38:37.828Z"
   },
   {
    "duration": 35,
    "start_time": "2022-04-25T13:38:56.779Z"
   },
   {
    "duration": 44,
    "start_time": "2022-04-25T13:39:10.774Z"
   },
   {
    "duration": 26,
    "start_time": "2022-04-25T13:39:23.215Z"
   },
   {
    "duration": 28,
    "start_time": "2022-04-25T13:39:45.324Z"
   },
   {
    "duration": 29,
    "start_time": "2022-04-25T13:40:04.626Z"
   },
   {
    "duration": 86,
    "start_time": "2022-04-25T14:00:47.172Z"
   },
   {
    "duration": 39,
    "start_time": "2022-04-25T14:15:38.108Z"
   },
   {
    "duration": 9,
    "start_time": "2022-04-25T14:17:17.094Z"
   },
   {
    "duration": 40,
    "start_time": "2022-04-25T14:17:45.856Z"
   },
   {
    "duration": 10,
    "start_time": "2022-04-25T14:24:51.962Z"
   },
   {
    "duration": 15,
    "start_time": "2022-04-25T14:25:09.386Z"
   },
   {
    "duration": 19,
    "start_time": "2022-04-25T14:25:21.770Z"
   },
   {
    "duration": 26,
    "start_time": "2022-04-25T14:30:48.972Z"
   },
   {
    "duration": 175,
    "start_time": "2022-04-25T14:33:31.320Z"
   },
   {
    "duration": 174,
    "start_time": "2022-04-25T14:33:39.083Z"
   },
   {
    "duration": 150,
    "start_time": "2022-04-25T14:33:46.074Z"
   },
   {
    "duration": 4,
    "start_time": "2022-04-25T14:33:50.035Z"
   },
   {
    "duration": 3,
    "start_time": "2022-04-25T14:33:55.904Z"
   },
   {
    "duration": 199,
    "start_time": "2022-04-25T14:39:11.326Z"
   },
   {
    "duration": 10,
    "start_time": "2022-04-25T14:39:24.837Z"
   },
   {
    "duration": 15,
    "start_time": "2022-04-25T14:39:31.735Z"
   },
   {
    "duration": 9,
    "start_time": "2022-04-25T14:47:25.763Z"
   },
   {
    "duration": 4,
    "start_time": "2022-04-25T14:54:18.065Z"
   },
   {
    "duration": 191,
    "start_time": "2022-04-25T14:55:17.435Z"
   },
   {
    "duration": 4,
    "start_time": "2022-04-25T14:55:27.194Z"
   },
   {
    "duration": 111,
    "start_time": "2022-04-25T15:28:41.279Z"
   },
   {
    "duration": 13,
    "start_time": "2022-04-25T15:32:08.036Z"
   },
   {
    "duration": 21,
    "start_time": "2022-04-25T15:33:06.046Z"
   },
   {
    "duration": 4710,
    "start_time": "2022-04-25T15:34:37.972Z"
   },
   {
    "duration": 139,
    "start_time": "2022-04-25T15:34:49.158Z"
   },
   {
    "duration": 7,
    "start_time": "2022-04-25T15:40:56.293Z"
   },
   {
    "duration": 4,
    "start_time": "2022-04-25T15:41:03.750Z"
   },
   {
    "duration": 298,
    "start_time": "2022-04-25T15:41:04.219Z"
   },
   {
    "duration": 5,
    "start_time": "2022-04-25T15:53:03.090Z"
   },
   {
    "duration": 4,
    "start_time": "2022-04-25T15:58:40.631Z"
   },
   {
    "duration": 12,
    "start_time": "2022-04-25T15:58:41.406Z"
   },
   {
    "duration": 5,
    "start_time": "2022-04-25T15:58:42.040Z"
   },
   {
    "duration": 372,
    "start_time": "2022-04-25T15:58:42.347Z"
   },
   {
    "duration": 15,
    "start_time": "2022-04-25T15:58:42.722Z"
   },
   {
    "duration": 16,
    "start_time": "2022-04-25T16:03:08.082Z"
   },
   {
    "duration": 16,
    "start_time": "2022-04-25T16:04:19.520Z"
   },
   {
    "duration": 5,
    "start_time": "2022-04-25T16:06:44.590Z"
   },
   {
    "duration": 4,
    "start_time": "2022-04-25T16:06:47.462Z"
   },
   {
    "duration": 15,
    "start_time": "2022-04-25T16:06:47.824Z"
   },
   {
    "duration": 4,
    "start_time": "2022-04-25T16:06:48.128Z"
   },
   {
    "duration": 471,
    "start_time": "2022-04-25T16:06:48.308Z"
   },
   {
    "duration": 12,
    "start_time": "2022-04-25T16:06:49.044Z"
   },
   {
    "duration": 656,
    "start_time": "2022-04-25T16:07:56.852Z"
   },
   {
    "duration": 163,
    "start_time": "2022-04-25T16:08:11.294Z"
   },
   {
    "duration": 160,
    "start_time": "2022-04-25T16:08:15.182Z"
   },
   {
    "duration": 161,
    "start_time": "2022-04-25T16:08:31.153Z"
   },
   {
    "duration": 166,
    "start_time": "2022-04-25T16:08:51.862Z"
   },
   {
    "duration": 186,
    "start_time": "2022-04-25T16:09:01.036Z"
   },
   {
    "duration": 190,
    "start_time": "2022-04-25T16:09:16.972Z"
   },
   {
    "duration": 2191,
    "start_time": "2022-04-25T16:09:27.624Z"
   },
   {
    "duration": 226,
    "start_time": "2022-04-25T16:09:30.733Z"
   },
   {
    "duration": 202,
    "start_time": "2022-04-25T16:09:40.169Z"
   },
   {
    "duration": 187,
    "start_time": "2022-04-25T16:14:29.812Z"
   },
   {
    "duration": 153,
    "start_time": "2022-04-25T16:14:37.958Z"
   },
   {
    "duration": 188,
    "start_time": "2022-04-25T16:14:42.944Z"
   },
   {
    "duration": 3,
    "start_time": "2022-04-25T16:15:43.962Z"
   },
   {
    "duration": 2625,
    "start_time": "2022-04-25T16:15:46.428Z"
   },
   {
    "duration": 199,
    "start_time": "2022-04-25T16:16:03.099Z"
   },
   {
    "duration": 134,
    "start_time": "2022-04-25T16:16:08.186Z"
   },
   {
    "duration": 168,
    "start_time": "2022-04-25T16:16:13.426Z"
   },
   {
    "duration": 370,
    "start_time": "2022-04-25T16:16:17.020Z"
   },
   {
    "duration": 152,
    "start_time": "2022-04-25T16:16:25.713Z"
   },
   {
    "duration": 194,
    "start_time": "2022-04-25T16:16:29.355Z"
   },
   {
    "duration": 199,
    "start_time": "2022-04-25T16:16:38.564Z"
   },
   {
    "duration": 172,
    "start_time": "2022-04-25T16:16:48.361Z"
   },
   {
    "duration": 193,
    "start_time": "2022-04-25T16:16:53.897Z"
   },
   {
    "duration": 185,
    "start_time": "2022-04-25T16:17:08.883Z"
   },
   {
    "duration": 119,
    "start_time": "2022-04-25T16:17:14.922Z"
   },
   {
    "duration": 128,
    "start_time": "2022-04-25T16:17:18.769Z"
   },
   {
    "duration": 198,
    "start_time": "2022-04-25T16:17:22.770Z"
   },
   {
    "duration": 26,
    "start_time": "2022-04-25T16:17:43.225Z"
   },
   {
    "duration": 251,
    "start_time": "2022-04-25T16:18:25.306Z"
   },
   {
    "duration": 27,
    "start_time": "2022-04-25T16:19:17.483Z"
   },
   {
    "duration": 31,
    "start_time": "2022-04-25T16:19:48.536Z"
   },
   {
    "duration": 5,
    "start_time": "2022-04-25T16:20:05.476Z"
   },
   {
    "duration": 408,
    "start_time": "2022-04-25T16:20:08.320Z"
   },
   {
    "duration": 25,
    "start_time": "2022-04-25T16:20:18.870Z"
   },
   {
    "duration": 385,
    "start_time": "2022-04-25T16:20:25.427Z"
   },
   {
    "duration": 213,
    "start_time": "2022-04-25T16:20:34.387Z"
   },
   {
    "duration": 5,
    "start_time": "2022-04-25T16:21:00.264Z"
   },
   {
    "duration": 252,
    "start_time": "2022-04-25T16:21:32.316Z"
   },
   {
    "duration": 10,
    "start_time": "2022-04-25T16:22:07.347Z"
   },
   {
    "duration": 6,
    "start_time": "2022-04-25T16:22:17.607Z"
   },
   {
    "duration": 6,
    "start_time": "2022-04-25T16:22:30.436Z"
   },
   {
    "duration": 5,
    "start_time": "2022-04-25T16:22:40.697Z"
   },
   {
    "duration": 6,
    "start_time": "2022-04-25T16:22:46.664Z"
   },
   {
    "duration": 5,
    "start_time": "2022-04-25T16:22:59.671Z"
   },
   {
    "duration": 126,
    "start_time": "2022-04-25T17:29:15.335Z"
   },
   {
    "duration": 143,
    "start_time": "2022-04-25T17:30:03.918Z"
   },
   {
    "duration": 140,
    "start_time": "2022-04-25T17:30:15.591Z"
   },
   {
    "duration": 118,
    "start_time": "2022-04-25T17:30:21.506Z"
   },
   {
    "duration": 120,
    "start_time": "2022-04-25T17:30:26.811Z"
   },
   {
    "duration": 146,
    "start_time": "2022-04-25T17:30:40.915Z"
   },
   {
    "duration": 137,
    "start_time": "2022-04-25T17:31:02.045Z"
   },
   {
    "duration": 137,
    "start_time": "2022-04-25T17:31:12.069Z"
   },
   {
    "duration": 172,
    "start_time": "2022-04-25T17:31:17.738Z"
   },
   {
    "duration": 143,
    "start_time": "2022-04-25T17:31:20.146Z"
   },
   {
    "duration": 132,
    "start_time": "2022-04-25T17:31:47.672Z"
   },
   {
    "duration": 205,
    "start_time": "2022-04-25T17:32:02.585Z"
   },
   {
    "duration": 133,
    "start_time": "2022-04-25T17:32:07.051Z"
   },
   {
    "duration": 330,
    "start_time": "2022-04-25T17:32:10.164Z"
   },
   {
    "duration": 124,
    "start_time": "2022-04-25T17:32:13.875Z"
   },
   {
    "duration": 188,
    "start_time": "2022-04-25T17:32:26.079Z"
   },
   {
    "duration": 129,
    "start_time": "2022-04-25T17:32:32.129Z"
   },
   {
    "duration": 142,
    "start_time": "2022-04-25T17:32:39.491Z"
   },
   {
    "duration": 165,
    "start_time": "2022-04-25T17:32:45.395Z"
   },
   {
    "duration": 162,
    "start_time": "2022-04-25T17:32:49.370Z"
   },
   {
    "duration": 657,
    "start_time": "2022-04-25T17:33:18.615Z"
   },
   {
    "duration": 146,
    "start_time": "2022-04-25T17:33:49.320Z"
   },
   {
    "duration": 117,
    "start_time": "2022-04-25T17:33:52.516Z"
   },
   {
    "duration": 134,
    "start_time": "2022-04-25T17:34:00.556Z"
   },
   {
    "duration": 130,
    "start_time": "2022-04-25T17:34:13.472Z"
   },
   {
    "duration": 119,
    "start_time": "2022-04-25T17:34:28.463Z"
   },
   {
    "duration": 150,
    "start_time": "2022-04-25T17:34:33.150Z"
   },
   {
    "duration": 114,
    "start_time": "2022-04-25T17:34:37.245Z"
   },
   {
    "duration": 132,
    "start_time": "2022-04-25T17:34:42.442Z"
   },
   {
    "duration": 139,
    "start_time": "2022-04-25T17:34:52.220Z"
   },
   {
    "duration": 178,
    "start_time": "2022-04-25T17:47:01.357Z"
   },
   {
    "duration": 130,
    "start_time": "2022-04-25T17:47:03.967Z"
   },
   {
    "duration": 137,
    "start_time": "2022-04-25T17:47:09.403Z"
   },
   {
    "duration": 136,
    "start_time": "2022-04-25T17:47:14.136Z"
   },
   {
    "duration": 135,
    "start_time": "2022-04-25T17:47:19.016Z"
   },
   {
    "duration": 142,
    "start_time": "2022-04-25T17:47:22.777Z"
   },
   {
    "duration": 122,
    "start_time": "2022-04-25T17:49:08.202Z"
   },
   {
    "duration": 135,
    "start_time": "2022-04-25T17:49:24.110Z"
   },
   {
    "duration": 207,
    "start_time": "2022-04-25T17:49:38.260Z"
   },
   {
    "duration": 331,
    "start_time": "2022-04-25T18:02:48.198Z"
   },
   {
    "duration": 147,
    "start_time": "2022-04-25T18:02:53.893Z"
   },
   {
    "duration": 154,
    "start_time": "2022-04-25T18:03:02.854Z"
   },
   {
    "duration": 409,
    "start_time": "2022-04-26T06:14:44.258Z"
   },
   {
    "duration": 107,
    "start_time": "2022-04-26T06:14:44.669Z"
   },
   {
    "duration": 15,
    "start_time": "2022-04-26T06:14:44.778Z"
   },
   {
    "duration": 5,
    "start_time": "2022-04-26T06:14:44.795Z"
   },
   {
    "duration": 34,
    "start_time": "2022-04-26T06:14:44.802Z"
   },
   {
    "duration": 12,
    "start_time": "2022-04-26T06:14:44.838Z"
   },
   {
    "duration": 5,
    "start_time": "2022-04-26T06:14:44.852Z"
   },
   {
    "duration": 14,
    "start_time": "2022-04-26T06:14:44.858Z"
   },
   {
    "duration": 4,
    "start_time": "2022-04-26T06:14:44.874Z"
   },
   {
    "duration": 497,
    "start_time": "2022-04-26T06:14:44.880Z"
   },
   {
    "duration": 6,
    "start_time": "2022-04-26T06:14:45.379Z"
   },
   {
    "duration": 557,
    "start_time": "2022-04-26T06:14:45.387Z"
   },
   {
    "duration": 24,
    "start_time": "2022-04-26T06:14:45.946Z"
   },
   {
    "duration": 183,
    "start_time": "2022-04-26T06:14:45.973Z"
   },
   {
    "duration": 134,
    "start_time": "2022-04-26T06:14:46.158Z"
   },
   {
    "duration": 155,
    "start_time": "2022-04-26T06:14:46.294Z"
   },
   {
    "duration": 194,
    "start_time": "2022-04-26T06:14:46.450Z"
   },
   {
    "duration": 143,
    "start_time": "2022-04-26T06:16:12.964Z"
   },
   {
    "duration": 4,
    "start_time": "2022-04-26T06:17:17.470Z"
   },
   {
    "duration": 5,
    "start_time": "2022-04-26T06:17:38.249Z"
   },
   {
    "duration": 4,
    "start_time": "2022-04-26T06:18:09.552Z"
   },
   {
    "duration": 7,
    "start_time": "2022-04-26T06:18:31.437Z"
   },
   {
    "duration": 5,
    "start_time": "2022-04-26T06:18:43.148Z"
   },
   {
    "duration": 6,
    "start_time": "2022-04-26T06:18:45.198Z"
   },
   {
    "duration": 8,
    "start_time": "2022-04-26T06:18:58.744Z"
   },
   {
    "duration": 7,
    "start_time": "2022-04-26T06:19:03.477Z"
   },
   {
    "duration": 8,
    "start_time": "2022-04-26T06:19:21.062Z"
   },
   {
    "duration": 7,
    "start_time": "2022-04-26T06:20:42.738Z"
   },
   {
    "duration": 7,
    "start_time": "2022-04-26T06:20:47.876Z"
   },
   {
    "duration": 6,
    "start_time": "2022-04-26T06:20:55.199Z"
   },
   {
    "duration": 6,
    "start_time": "2022-04-26T06:20:58.903Z"
   },
   {
    "duration": 8,
    "start_time": "2022-04-26T06:21:15.231Z"
   },
   {
    "duration": 131,
    "start_time": "2022-04-26T06:21:52.381Z"
   },
   {
    "duration": 123,
    "start_time": "2022-04-26T06:22:07.638Z"
   },
   {
    "duration": 141,
    "start_time": "2022-04-26T06:22:15.742Z"
   },
   {
    "duration": 136,
    "start_time": "2022-04-26T06:32:19.421Z"
   },
   {
    "duration": 330,
    "start_time": "2022-04-26T06:32:27.320Z"
   },
   {
    "duration": 141,
    "start_time": "2022-04-26T06:32:30.958Z"
   },
   {
    "duration": 206,
    "start_time": "2022-04-26T06:32:43.531Z"
   },
   {
    "duration": 155,
    "start_time": "2022-04-26T07:24:00.157Z"
   },
   {
    "duration": 157,
    "start_time": "2022-04-26T07:41:13.929Z"
   },
   {
    "duration": 146,
    "start_time": "2022-04-26T07:42:55.644Z"
   },
   {
    "duration": 54,
    "start_time": "2022-04-26T15:50:33.184Z"
   },
   {
    "duration": 412,
    "start_time": "2022-04-26T15:50:39.374Z"
   },
   {
    "duration": 124,
    "start_time": "2022-04-26T15:50:39.788Z"
   },
   {
    "duration": 23,
    "start_time": "2022-04-26T15:50:39.913Z"
   },
   {
    "duration": 5,
    "start_time": "2022-04-26T15:50:39.938Z"
   },
   {
    "duration": 11,
    "start_time": "2022-04-26T15:50:39.945Z"
   },
   {
    "duration": 16,
    "start_time": "2022-04-26T15:50:39.958Z"
   },
   {
    "duration": 10,
    "start_time": "2022-04-26T15:50:39.976Z"
   },
   {
    "duration": 21,
    "start_time": "2022-04-26T15:50:39.988Z"
   },
   {
    "duration": 25,
    "start_time": "2022-04-26T15:50:40.011Z"
   },
   {
    "duration": 356,
    "start_time": "2022-04-26T15:50:40.039Z"
   },
   {
    "duration": 5,
    "start_time": "2022-04-26T15:50:40.397Z"
   },
   {
    "duration": 600,
    "start_time": "2022-04-26T15:50:40.404Z"
   },
   {
    "duration": 218,
    "start_time": "2022-04-26T15:50:41.005Z"
   },
   {
    "duration": 157,
    "start_time": "2022-04-26T15:50:41.224Z"
   },
   {
    "duration": 188,
    "start_time": "2022-04-26T15:50:41.383Z"
   },
   {
    "duration": 174,
    "start_time": "2022-04-26T15:50:41.573Z"
   },
   {
    "duration": 176,
    "start_time": "2022-04-26T15:50:41.749Z"
   },
   {
    "duration": 166,
    "start_time": "2022-04-26T15:50:41.927Z"
   },
   {
    "duration": 7,
    "start_time": "2022-04-26T15:50:42.095Z"
   },
   {
    "duration": 265,
    "start_time": "2022-04-26T15:50:42.104Z"
   },
   {
    "duration": 231,
    "start_time": "2022-04-26T15:51:30.522Z"
   },
   {
    "duration": 198,
    "start_time": "2022-04-26T15:52:17.508Z"
   },
   {
    "duration": 212,
    "start_time": "2022-04-26T15:53:42.132Z"
   },
   {
    "duration": 32817,
    "start_time": "2022-04-26T15:54:21.097Z"
   },
   {
    "duration": 144,
    "start_time": "2022-04-26T15:58:59.055Z"
   },
   {
    "duration": 201,
    "start_time": "2022-04-26T15:59:11.523Z"
   },
   {
    "duration": 216,
    "start_time": "2022-04-26T16:01:54.559Z"
   },
   {
    "duration": 12,
    "start_time": "2022-04-26T16:03:06.272Z"
   },
   {
    "duration": 177,
    "start_time": "2022-04-26T16:03:13.924Z"
   },
   {
    "duration": 183,
    "start_time": "2022-04-26T16:03:31.469Z"
   },
   {
    "duration": 178,
    "start_time": "2022-04-26T16:03:41.038Z"
   },
   {
    "duration": 19,
    "start_time": "2022-04-26T16:03:56.404Z"
   },
   {
    "duration": 176,
    "start_time": "2022-04-26T16:04:10.925Z"
   },
   {
    "duration": 155,
    "start_time": "2022-04-26T16:04:34.146Z"
   },
   {
    "duration": 1143,
    "start_time": "2022-04-26T16:07:59.479Z"
   },
   {
    "duration": 16,
    "start_time": "2022-04-26T16:08:02.992Z"
   },
   {
    "duration": 15,
    "start_time": "2022-04-26T16:08:34.343Z"
   },
   {
    "duration": 14,
    "start_time": "2022-04-26T16:08:55.936Z"
   },
   {
    "duration": 15,
    "start_time": "2022-04-26T16:09:29.983Z"
   },
   {
    "duration": 15,
    "start_time": "2022-04-26T16:09:48.345Z"
   },
   {
    "duration": 6,
    "start_time": "2022-04-26T16:10:21.183Z"
   },
   {
    "duration": 202,
    "start_time": "2022-04-26T16:30:13.774Z"
   },
   {
    "duration": 195,
    "start_time": "2022-04-26T16:51:20.558Z"
   },
   {
    "duration": 6,
    "start_time": "2022-04-26T16:51:28.811Z"
   },
   {
    "duration": 31,
    "start_time": "2022-04-26T16:56:03.439Z"
   },
   {
    "duration": 565,
    "start_time": "2022-04-26T16:56:22.380Z"
   },
   {
    "duration": 31,
    "start_time": "2022-04-26T16:58:56.561Z"
   },
   {
    "duration": 17,
    "start_time": "2022-04-26T16:59:00.884Z"
   },
   {
    "duration": 14,
    "start_time": "2022-04-26T16:59:16.105Z"
   },
   {
    "duration": 215,
    "start_time": "2022-04-26T17:11:56.946Z"
   },
   {
    "duration": 212,
    "start_time": "2022-04-26T17:12:11.275Z"
   },
   {
    "duration": 2383,
    "start_time": "2022-04-26T17:16:40.081Z"
   },
   {
    "duration": 411,
    "start_time": "2022-04-26T17:17:56.602Z"
   },
   {
    "duration": 131,
    "start_time": "2022-04-26T17:17:57.015Z"
   },
   {
    "duration": 17,
    "start_time": "2022-04-26T17:17:57.149Z"
   },
   {
    "duration": 5,
    "start_time": "2022-04-26T17:17:57.168Z"
   },
   {
    "duration": 12,
    "start_time": "2022-04-26T17:17:57.175Z"
   },
   {
    "duration": 19,
    "start_time": "2022-04-26T17:17:57.189Z"
   },
   {
    "duration": 23,
    "start_time": "2022-04-26T17:17:57.209Z"
   },
   {
    "duration": 28,
    "start_time": "2022-04-26T17:17:57.234Z"
   },
   {
    "duration": 4,
    "start_time": "2022-04-26T17:17:57.264Z"
   },
   {
    "duration": 363,
    "start_time": "2022-04-26T17:17:57.272Z"
   },
   {
    "duration": 6,
    "start_time": "2022-04-26T17:17:57.637Z"
   },
   {
    "duration": 426,
    "start_time": "2022-04-26T17:17:57.645Z"
   },
   {
    "duration": 168,
    "start_time": "2022-04-26T17:17:58.073Z"
   },
   {
    "duration": 217,
    "start_time": "2022-04-26T17:17:58.245Z"
   },
   {
    "duration": 188,
    "start_time": "2022-04-26T17:17:58.464Z"
   },
   {
    "duration": 178,
    "start_time": "2022-04-26T17:17:58.653Z"
   },
   {
    "duration": 175,
    "start_time": "2022-04-26T17:17:58.833Z"
   },
   {
    "duration": 165,
    "start_time": "2022-04-26T17:17:59.010Z"
   },
   {
    "duration": 8,
    "start_time": "2022-04-26T17:17:59.176Z"
   },
   {
    "duration": 107,
    "start_time": "2022-04-26T17:17:59.186Z"
   },
   {
    "duration": 0,
    "start_time": "2022-04-26T17:17:59.294Z"
   },
   {
    "duration": 0,
    "start_time": "2022-04-26T17:17:59.296Z"
   },
   {
    "duration": 0,
    "start_time": "2022-04-26T17:17:59.297Z"
   },
   {
    "duration": 232,
    "start_time": "2022-04-26T17:18:19.930Z"
   },
   {
    "duration": 142,
    "start_time": "2022-04-26T17:21:21.609Z"
   },
   {
    "duration": 216,
    "start_time": "2022-04-26T17:21:32.596Z"
   },
   {
    "duration": 208,
    "start_time": "2022-04-26T17:22:04.977Z"
   },
   {
    "duration": 222,
    "start_time": "2022-04-26T17:22:30.668Z"
   },
   {
    "duration": 213,
    "start_time": "2022-04-26T17:22:41.770Z"
   },
   {
    "duration": 5,
    "start_time": "2022-04-26T17:23:06.253Z"
   },
   {
    "duration": 5,
    "start_time": "2022-04-26T17:23:11.152Z"
   },
   {
    "duration": 12,
    "start_time": "2022-04-26T17:24:32.635Z"
   },
   {
    "duration": 38,
    "start_time": "2022-04-26T17:24:40.208Z"
   },
   {
    "duration": 26,
    "start_time": "2022-04-26T17:29:06.067Z"
   },
   {
    "duration": 13,
    "start_time": "2022-04-26T17:29:29.614Z"
   },
   {
    "duration": 295,
    "start_time": "2022-04-26T17:31:18.024Z"
   },
   {
    "duration": 21,
    "start_time": "2022-04-26T17:46:01.270Z"
   },
   {
    "duration": 282,
    "start_time": "2022-04-26T17:47:01.782Z"
   },
   {
    "duration": 24,
    "start_time": "2022-04-26T17:48:13.942Z"
   },
   {
    "duration": 204,
    "start_time": "2022-04-26T17:48:36.968Z"
   },
   {
    "duration": 232,
    "start_time": "2022-04-26T17:49:33.316Z"
   },
   {
    "duration": 247,
    "start_time": "2022-04-26T17:49:39.733Z"
   },
   {
    "duration": 230,
    "start_time": "2022-04-26T17:49:40.208Z"
   },
   {
    "duration": 10,
    "start_time": "2022-04-26T17:49:41.773Z"
   },
   {
    "duration": 6,
    "start_time": "2022-04-26T17:50:05.993Z"
   },
   {
    "duration": 251,
    "start_time": "2022-04-26T17:50:28.655Z"
   },
   {
    "duration": 267,
    "start_time": "2022-04-26T17:50:30.763Z"
   },
   {
    "duration": 425,
    "start_time": "2022-04-26T17:51:28.879Z"
   },
   {
    "duration": 601,
    "start_time": "2022-04-26T17:51:29.307Z"
   },
   {
    "duration": 24,
    "start_time": "2022-04-26T17:51:29.911Z"
   },
   {
    "duration": 9,
    "start_time": "2022-04-26T17:51:29.940Z"
   },
   {
    "duration": 28,
    "start_time": "2022-04-26T17:51:29.951Z"
   },
   {
    "duration": 24,
    "start_time": "2022-04-26T17:51:29.981Z"
   },
   {
    "duration": 8,
    "start_time": "2022-04-26T17:51:30.007Z"
   },
   {
    "duration": 26,
    "start_time": "2022-04-26T17:51:30.018Z"
   },
   {
    "duration": 5,
    "start_time": "2022-04-26T17:51:30.046Z"
   },
   {
    "duration": 439,
    "start_time": "2022-04-26T17:51:30.057Z"
   },
   {
    "duration": 7,
    "start_time": "2022-04-26T17:51:30.498Z"
   },
   {
    "duration": 454,
    "start_time": "2022-04-26T17:51:30.507Z"
   },
   {
    "duration": 194,
    "start_time": "2022-04-26T17:51:30.963Z"
   },
   {
    "duration": 230,
    "start_time": "2022-04-26T17:51:31.159Z"
   },
   {
    "duration": 228,
    "start_time": "2022-04-26T17:51:31.391Z"
   },
   {
    "duration": 198,
    "start_time": "2022-04-26T17:51:31.621Z"
   },
   {
    "duration": 208,
    "start_time": "2022-04-26T17:51:31.822Z"
   },
   {
    "duration": 177,
    "start_time": "2022-04-26T17:51:32.032Z"
   },
   {
    "duration": 9,
    "start_time": "2022-04-26T17:51:32.211Z"
   },
   {
    "duration": 28,
    "start_time": "2022-04-26T17:51:32.237Z"
   },
   {
    "duration": 23,
    "start_time": "2022-04-26T17:51:32.267Z"
   },
   {
    "duration": 655,
    "start_time": "2022-04-26T17:51:32.292Z"
   },
   {
    "duration": 521,
    "start_time": "2022-04-26T17:51:32.950Z"
   },
   {
    "duration": 285,
    "start_time": "2022-04-26T17:51:33.473Z"
   },
   {
    "duration": 0,
    "start_time": "2022-04-26T17:51:33.761Z"
   },
   {
    "duration": 0,
    "start_time": "2022-04-26T17:58:15.424Z"
   },
   {
    "duration": 203,
    "start_time": "2022-04-26T17:58:37.308Z"
   },
   {
    "duration": 18,
    "start_time": "2022-04-26T18:00:33.381Z"
   },
   {
    "duration": 29,
    "start_time": "2022-04-26T18:00:47.458Z"
   },
   {
    "duration": 31,
    "start_time": "2022-04-26T18:01:28.976Z"
   },
   {
    "duration": 35,
    "start_time": "2022-04-26T18:01:38.865Z"
   },
   {
    "duration": 41,
    "start_time": "2022-04-26T18:01:53.552Z"
   },
   {
    "duration": 201,
    "start_time": "2022-04-26T18:02:45.968Z"
   },
   {
    "duration": 6,
    "start_time": "2022-04-26T18:03:25.370Z"
   },
   {
    "duration": 9,
    "start_time": "2022-04-26T18:03:35.394Z"
   },
   {
    "duration": 8,
    "start_time": "2022-04-26T18:03:38.781Z"
   },
   {
    "duration": 183,
    "start_time": "2022-04-26T18:03:55.676Z"
   },
   {
    "duration": 15,
    "start_time": "2022-04-26T18:04:43.787Z"
   },
   {
    "duration": 277,
    "start_time": "2022-04-26T18:05:06.576Z"
   },
   {
    "duration": 178,
    "start_time": "2022-04-26T18:05:07.147Z"
   },
   {
    "duration": 15,
    "start_time": "2022-04-26T18:05:07.808Z"
   },
   {
    "duration": 200,
    "start_time": "2022-04-26T18:05:11.920Z"
   },
   {
    "duration": 171,
    "start_time": "2022-04-26T18:05:13.249Z"
   },
   {
    "duration": 15,
    "start_time": "2022-04-26T18:05:14.053Z"
   },
   {
    "duration": 203,
    "start_time": "2022-04-26T18:05:18.733Z"
   },
   {
    "duration": 172,
    "start_time": "2022-04-26T18:05:19.118Z"
   },
   {
    "duration": 16,
    "start_time": "2022-04-26T18:05:19.846Z"
   },
   {
    "duration": 199,
    "start_time": "2022-04-26T18:05:23.761Z"
   },
   {
    "duration": 180,
    "start_time": "2022-04-26T18:05:24.579Z"
   },
   {
    "duration": 18,
    "start_time": "2022-04-26T18:05:25.022Z"
   },
   {
    "duration": 211,
    "start_time": "2022-04-26T18:05:29.823Z"
   },
   {
    "duration": 165,
    "start_time": "2022-04-26T18:05:30.161Z"
   },
   {
    "duration": 15,
    "start_time": "2022-04-26T18:05:30.754Z"
   },
   {
    "duration": 198,
    "start_time": "2022-04-26T18:05:35.574Z"
   },
   {
    "duration": 254,
    "start_time": "2022-04-26T18:05:36.275Z"
   },
   {
    "duration": 21,
    "start_time": "2022-04-26T18:05:36.531Z"
   },
   {
    "duration": 13,
    "start_time": "2022-04-26T18:05:56.777Z"
   },
   {
    "duration": 15,
    "start_time": "2022-04-26T18:06:06.110Z"
   },
   {
    "duration": 211,
    "start_time": "2022-04-26T18:06:57.289Z"
   },
   {
    "duration": 173,
    "start_time": "2022-04-26T18:06:59.772Z"
   },
   {
    "duration": 16,
    "start_time": "2022-04-26T18:07:00.256Z"
   },
   {
    "duration": 14,
    "start_time": "2022-04-26T18:07:05.734Z"
   },
   {
    "duration": 195,
    "start_time": "2022-04-26T18:07:27.979Z"
   },
   {
    "duration": 172,
    "start_time": "2022-04-26T18:07:38.121Z"
   },
   {
    "duration": 14,
    "start_time": "2022-04-26T18:07:38.503Z"
   },
   {
    "duration": 182,
    "start_time": "2022-04-26T18:07:49.109Z"
   },
   {
    "duration": 435,
    "start_time": "2022-04-26T18:09:26.605Z"
   },
   {
    "duration": 133,
    "start_time": "2022-04-26T18:09:27.042Z"
   },
   {
    "duration": 16,
    "start_time": "2022-04-26T18:09:27.177Z"
   },
   {
    "duration": 6,
    "start_time": "2022-04-26T18:09:27.195Z"
   },
   {
    "duration": 12,
    "start_time": "2022-04-26T18:09:27.202Z"
   },
   {
    "duration": 28,
    "start_time": "2022-04-26T18:09:27.216Z"
   },
   {
    "duration": 9,
    "start_time": "2022-04-26T18:09:27.246Z"
   },
   {
    "duration": 15,
    "start_time": "2022-04-26T18:09:27.257Z"
   },
   {
    "duration": 4,
    "start_time": "2022-04-26T18:09:27.274Z"
   },
   {
    "duration": 378,
    "start_time": "2022-04-26T18:09:27.282Z"
   },
   {
    "duration": 6,
    "start_time": "2022-04-26T18:09:27.662Z"
   },
   {
    "duration": 454,
    "start_time": "2022-04-26T18:09:27.670Z"
   },
   {
    "duration": 180,
    "start_time": "2022-04-26T18:09:28.125Z"
   },
   {
    "duration": 219,
    "start_time": "2022-04-26T18:09:28.308Z"
   },
   {
    "duration": 183,
    "start_time": "2022-04-26T18:09:28.529Z"
   },
   {
    "duration": 193,
    "start_time": "2022-04-26T18:09:28.714Z"
   },
   {
    "duration": 238,
    "start_time": "2022-04-26T18:09:28.909Z"
   },
   {
    "duration": 187,
    "start_time": "2022-04-26T18:09:29.150Z"
   },
   {
    "duration": 7,
    "start_time": "2022-04-26T18:09:29.339Z"
   },
   {
    "duration": 26,
    "start_time": "2022-04-26T18:09:29.348Z"
   },
   {
    "duration": 13,
    "start_time": "2022-04-26T18:09:29.376Z"
   },
   {
    "duration": 250,
    "start_time": "2022-04-26T18:09:29.391Z"
   },
   {
    "duration": 193,
    "start_time": "2022-04-26T18:09:29.647Z"
   },
   {
    "duration": 445,
    "start_time": "2022-04-26T18:10:15.844Z"
   },
   {
    "duration": 142,
    "start_time": "2022-04-26T18:10:16.291Z"
   },
   {
    "duration": 29,
    "start_time": "2022-04-26T18:10:16.436Z"
   },
   {
    "duration": 15,
    "start_time": "2022-04-26T18:10:16.472Z"
   },
   {
    "duration": 9,
    "start_time": "2022-04-26T18:10:16.491Z"
   },
   {
    "duration": 37,
    "start_time": "2022-04-26T18:10:16.502Z"
   },
   {
    "duration": 11,
    "start_time": "2022-04-26T18:10:16.542Z"
   },
   {
    "duration": 16,
    "start_time": "2022-04-26T18:10:16.555Z"
   },
   {
    "duration": 6,
    "start_time": "2022-04-26T18:10:16.572Z"
   },
   {
    "duration": 377,
    "start_time": "2022-04-26T18:10:16.579Z"
   },
   {
    "duration": 5,
    "start_time": "2022-04-26T18:10:16.958Z"
   },
   {
    "duration": 436,
    "start_time": "2022-04-26T18:10:16.965Z"
   },
   {
    "duration": 182,
    "start_time": "2022-04-26T18:10:17.402Z"
   },
   {
    "duration": 215,
    "start_time": "2022-04-26T18:10:17.587Z"
   },
   {
    "duration": 220,
    "start_time": "2022-04-26T18:10:17.804Z"
   },
   {
    "duration": 319,
    "start_time": "2022-04-26T18:10:18.025Z"
   },
   {
    "duration": 390,
    "start_time": "2022-04-26T18:10:18.346Z"
   },
   {
    "duration": 326,
    "start_time": "2022-04-26T18:10:18.746Z"
   },
   {
    "duration": 62,
    "start_time": "2022-04-26T18:10:19.074Z"
   },
   {
    "duration": 26,
    "start_time": "2022-04-26T18:10:19.137Z"
   },
   {
    "duration": 71,
    "start_time": "2022-04-26T18:10:19.165Z"
   },
   {
    "duration": 499,
    "start_time": "2022-04-26T18:10:19.241Z"
   },
   {
    "duration": 333,
    "start_time": "2022-04-26T18:10:19.744Z"
   },
   {
    "duration": 0,
    "start_time": "2022-04-26T18:10:49.877Z"
   },
   {
    "duration": 0,
    "start_time": "2022-04-26T18:10:49.879Z"
   },
   {
    "duration": 16,
    "start_time": "2022-04-26T18:10:52.199Z"
   },
   {
    "duration": 1131,
    "start_time": "2022-04-26T18:11:40.194Z"
   },
   {
    "duration": 186,
    "start_time": "2022-04-26T18:12:48.007Z"
   },
   {
    "duration": 229,
    "start_time": "2022-04-26T18:16:37.221Z"
   },
   {
    "duration": 17,
    "start_time": "2022-04-26T18:16:49.753Z"
   },
   {
    "duration": 195,
    "start_time": "2022-04-26T18:17:02.727Z"
   },
   {
    "duration": 200,
    "start_time": "2022-04-26T18:17:06.649Z"
   },
   {
    "duration": 15,
    "start_time": "2022-04-26T18:17:09.350Z"
   },
   {
    "duration": 40,
    "start_time": "2022-04-26T18:18:13.769Z"
   },
   {
    "duration": 27,
    "start_time": "2022-04-26T18:18:17.289Z"
   },
   {
    "duration": 210,
    "start_time": "2022-04-26T18:18:33.778Z"
   },
   {
    "duration": 690,
    "start_time": "2022-04-26T18:18:51.147Z"
   },
   {
    "duration": 780,
    "start_time": "2022-04-26T18:19:03.350Z"
   },
   {
    "duration": 27,
    "start_time": "2022-04-26T18:20:19.073Z"
   },
   {
    "duration": 535,
    "start_time": "2022-04-26T18:21:11.599Z"
   },
   {
    "duration": 133,
    "start_time": "2022-04-26T18:21:32.457Z"
   },
   {
    "duration": 146,
    "start_time": "2022-04-26T18:26:40.103Z"
   },
   {
    "duration": 456,
    "start_time": "2022-04-26T18:27:24.622Z"
   },
   {
    "duration": 123,
    "start_time": "2022-04-26T18:27:25.080Z"
   },
   {
    "duration": 16,
    "start_time": "2022-04-26T18:27:25.205Z"
   },
   {
    "duration": 6,
    "start_time": "2022-04-26T18:27:25.232Z"
   },
   {
    "duration": 10,
    "start_time": "2022-04-26T18:27:25.240Z"
   },
   {
    "duration": 19,
    "start_time": "2022-04-26T18:27:25.252Z"
   },
   {
    "duration": 5,
    "start_time": "2022-04-26T18:27:25.273Z"
   },
   {
    "duration": 16,
    "start_time": "2022-04-26T18:27:25.280Z"
   },
   {
    "duration": 6,
    "start_time": "2022-04-26T18:27:25.298Z"
   },
   {
    "duration": 349,
    "start_time": "2022-04-26T18:27:25.333Z"
   },
   {
    "duration": 6,
    "start_time": "2022-04-26T18:27:25.683Z"
   },
   {
    "duration": 413,
    "start_time": "2022-04-26T18:27:25.691Z"
   },
   {
    "duration": 167,
    "start_time": "2022-04-26T18:27:26.106Z"
   },
   {
    "duration": 208,
    "start_time": "2022-04-26T18:27:26.274Z"
   },
   {
    "duration": 182,
    "start_time": "2022-04-26T18:27:26.485Z"
   },
   {
    "duration": 169,
    "start_time": "2022-04-26T18:27:26.669Z"
   },
   {
    "duration": 170,
    "start_time": "2022-04-26T18:27:26.840Z"
   },
   {
    "duration": 161,
    "start_time": "2022-04-26T18:27:27.011Z"
   },
   {
    "duration": 7,
    "start_time": "2022-04-26T18:27:27.173Z"
   },
   {
    "duration": 20,
    "start_time": "2022-04-26T18:27:27.182Z"
   },
   {
    "duration": 249,
    "start_time": "2022-04-26T18:27:27.204Z"
   },
   {
    "duration": 180,
    "start_time": "2022-04-26T18:27:27.455Z"
   },
   {
    "duration": 222,
    "start_time": "2022-04-26T18:27:27.637Z"
   },
   {
    "duration": 17,
    "start_time": "2022-04-26T18:27:27.861Z"
   },
   {
    "duration": 26,
    "start_time": "2022-04-26T18:27:27.880Z"
   },
   {
    "duration": 162,
    "start_time": "2022-04-26T18:27:27.908Z"
   },
   {
    "duration": 97,
    "start_time": "2022-04-26T18:27:28.072Z"
   },
   {
    "duration": 141,
    "start_time": "2022-04-26T18:27:38.709Z"
   },
   {
    "duration": 142,
    "start_time": "2022-04-26T18:33:30.181Z"
   },
   {
    "duration": 11,
    "start_time": "2022-04-26T18:58:34.974Z"
   },
   {
    "duration": 35,
    "start_time": "2022-04-26T18:58:40.238Z"
   },
   {
    "duration": 140,
    "start_time": "2022-04-26T18:58:45.408Z"
   },
   {
    "duration": 36,
    "start_time": "2022-04-26T18:58:49.928Z"
   },
   {
    "duration": 5,
    "start_time": "2022-04-26T18:59:27.192Z"
   },
   {
    "duration": 25,
    "start_time": "2022-04-26T18:59:56.560Z"
   },
   {
    "duration": 15,
    "start_time": "2022-04-26T19:00:52.814Z"
   },
   {
    "duration": 10,
    "start_time": "2022-04-26T19:03:29.523Z"
   },
   {
    "duration": 9,
    "start_time": "2022-04-26T19:03:37.684Z"
   },
   {
    "duration": 115,
    "start_time": "2022-04-26T19:03:42.312Z"
   },
   {
    "duration": 27,
    "start_time": "2022-04-26T19:04:56.101Z"
   },
   {
    "duration": 21,
    "start_time": "2022-04-26T19:05:26.072Z"
   },
   {
    "duration": 15,
    "start_time": "2022-04-26T19:05:56.021Z"
   },
   {
    "duration": 384,
    "start_time": "2022-04-27T12:54:23.672Z"
   },
   {
    "duration": 116,
    "start_time": "2022-04-27T12:54:24.058Z"
   },
   {
    "duration": 14,
    "start_time": "2022-04-27T12:54:24.176Z"
   },
   {
    "duration": 4,
    "start_time": "2022-04-27T12:54:24.193Z"
   },
   {
    "duration": 8,
    "start_time": "2022-04-27T12:54:24.198Z"
   },
   {
    "duration": 31,
    "start_time": "2022-04-27T12:54:24.207Z"
   },
   {
    "duration": 8,
    "start_time": "2022-04-27T12:54:24.240Z"
   },
   {
    "duration": 34,
    "start_time": "2022-04-27T12:54:24.250Z"
   },
   {
    "duration": 3,
    "start_time": "2022-04-27T12:54:24.286Z"
   },
   {
    "duration": 322,
    "start_time": "2022-04-27T12:54:24.294Z"
   },
   {
    "duration": 8,
    "start_time": "2022-04-27T12:54:24.618Z"
   },
   {
    "duration": 559,
    "start_time": "2022-04-27T12:54:24.629Z"
   },
   {
    "duration": 197,
    "start_time": "2022-04-27T12:54:25.190Z"
   },
   {
    "duration": 119,
    "start_time": "2022-04-27T12:54:25.389Z"
   },
   {
    "duration": 171,
    "start_time": "2022-04-27T12:54:25.510Z"
   },
   {
    "duration": 139,
    "start_time": "2022-04-27T12:54:25.683Z"
   },
   {
    "duration": 148,
    "start_time": "2022-04-27T12:54:25.824Z"
   },
   {
    "duration": 140,
    "start_time": "2022-04-27T12:54:25.974Z"
   },
   {
    "duration": 12,
    "start_time": "2022-04-27T12:54:26.116Z"
   },
   {
    "duration": 33,
    "start_time": "2022-04-27T12:54:26.133Z"
   },
   {
    "duration": 219,
    "start_time": "2022-04-27T12:54:26.168Z"
   },
   {
    "duration": 236,
    "start_time": "2022-04-27T12:54:26.406Z"
   },
   {
    "duration": 267,
    "start_time": "2022-04-27T12:54:26.644Z"
   },
   {
    "duration": 27,
    "start_time": "2022-04-27T12:54:26.914Z"
   },
   {
    "duration": 36,
    "start_time": "2022-04-27T12:54:26.943Z"
   },
   {
    "duration": 134,
    "start_time": "2022-04-27T12:54:26.980Z"
   },
   {
    "duration": 150,
    "start_time": "2022-04-27T12:54:27.116Z"
   },
   {
    "duration": 184,
    "start_time": "2022-04-27T12:54:27.270Z"
   },
   {
    "duration": 13,
    "start_time": "2022-04-27T12:54:27.456Z"
   },
   {
    "duration": 23,
    "start_time": "2022-04-27T13:01:52.992Z"
   },
   {
    "duration": 409,
    "start_time": "2022-04-27T13:03:21.192Z"
   },
   {
    "duration": 112,
    "start_time": "2022-04-27T13:03:21.603Z"
   },
   {
    "duration": 26,
    "start_time": "2022-04-27T13:03:21.716Z"
   },
   {
    "duration": 5,
    "start_time": "2022-04-27T13:03:21.744Z"
   },
   {
    "duration": 11,
    "start_time": "2022-04-27T13:03:21.752Z"
   },
   {
    "duration": 16,
    "start_time": "2022-04-27T13:03:21.764Z"
   },
   {
    "duration": 6,
    "start_time": "2022-04-27T13:03:21.782Z"
   },
   {
    "duration": 44,
    "start_time": "2022-04-27T13:03:21.789Z"
   },
   {
    "duration": 5,
    "start_time": "2022-04-27T13:03:21.839Z"
   },
   {
    "duration": 345,
    "start_time": "2022-04-27T13:03:21.846Z"
   },
   {
    "duration": 6,
    "start_time": "2022-04-27T13:03:22.192Z"
   },
   {
    "duration": 400,
    "start_time": "2022-04-27T13:03:22.200Z"
   },
   {
    "duration": 149,
    "start_time": "2022-04-27T13:03:22.602Z"
   },
   {
    "duration": 187,
    "start_time": "2022-04-27T13:03:22.754Z"
   },
   {
    "duration": 158,
    "start_time": "2022-04-27T13:03:22.943Z"
   },
   {
    "duration": 154,
    "start_time": "2022-04-27T13:03:23.103Z"
   },
   {
    "duration": 156,
    "start_time": "2022-04-27T13:03:23.259Z"
   },
   {
    "duration": 156,
    "start_time": "2022-04-27T13:03:23.417Z"
   },
   {
    "duration": 8,
    "start_time": "2022-04-27T13:03:23.575Z"
   },
   {
    "duration": 31,
    "start_time": "2022-04-27T13:03:23.585Z"
   },
   {
    "duration": 210,
    "start_time": "2022-04-27T13:03:23.631Z"
   },
   {
    "duration": 160,
    "start_time": "2022-04-27T13:03:23.844Z"
   },
   {
    "duration": 191,
    "start_time": "2022-04-27T13:03:24.006Z"
   },
   {
    "duration": 32,
    "start_time": "2022-04-27T13:03:24.199Z"
   },
   {
    "duration": 25,
    "start_time": "2022-04-27T13:03:24.233Z"
   },
   {
    "duration": 113,
    "start_time": "2022-04-27T13:03:24.260Z"
   },
   {
    "duration": 138,
    "start_time": "2022-04-27T13:03:24.375Z"
   },
   {
    "duration": 124,
    "start_time": "2022-04-27T13:03:24.515Z"
   },
   {
    "duration": 13,
    "start_time": "2022-04-27T13:03:24.641Z"
   },
   {
    "duration": 21,
    "start_time": "2022-04-27T13:03:24.656Z"
   },
   {
    "duration": 95,
    "start_time": "2022-04-27T13:03:24.678Z"
   },
   {
    "duration": 16,
    "start_time": "2022-04-27T13:07:24.270Z"
   },
   {
    "duration": 11,
    "start_time": "2022-04-27T13:07:55.075Z"
   },
   {
    "duration": 17,
    "start_time": "2022-04-27T13:08:08.202Z"
   },
   {
    "duration": 16,
    "start_time": "2022-04-27T13:08:26.161Z"
   },
   {
    "duration": 7,
    "start_time": "2022-04-27T13:10:08.196Z"
   },
   {
    "duration": 18,
    "start_time": "2022-04-27T13:10:11.793Z"
   },
   {
    "duration": 201,
    "start_time": "2022-04-27T13:10:31.065Z"
   },
   {
    "duration": 19,
    "start_time": "2022-04-27T13:13:24.420Z"
   },
   {
    "duration": 13,
    "start_time": "2022-04-27T13:13:27.544Z"
   },
   {
    "duration": 11,
    "start_time": "2022-04-27T13:15:39.298Z"
   },
   {
    "duration": 13,
    "start_time": "2022-04-27T13:18:30.336Z"
   },
   {
    "duration": 43,
    "start_time": "2022-04-27T13:20:39.481Z"
   },
   {
    "duration": 9,
    "start_time": "2022-04-27T13:20:59.703Z"
   },
   {
    "duration": 17,
    "start_time": "2022-04-27T13:21:13.621Z"
   },
   {
    "duration": 22,
    "start_time": "2022-04-27T13:22:29.990Z"
   },
   {
    "duration": 19,
    "start_time": "2022-04-27T13:22:39.805Z"
   },
   {
    "duration": 33,
    "start_time": "2022-04-27T13:23:11.022Z"
   },
   {
    "duration": 2741,
    "start_time": "2022-04-27T13:23:34.718Z"
   },
   {
    "duration": 21,
    "start_time": "2022-04-27T13:23:43.355Z"
   },
   {
    "duration": 20,
    "start_time": "2022-04-27T13:23:58.681Z"
   },
   {
    "duration": 6,
    "start_time": "2022-04-27T13:41:29.456Z"
   },
   {
    "duration": 16,
    "start_time": "2022-04-27T13:41:36.900Z"
   },
   {
    "duration": 31,
    "start_time": "2022-04-27T13:41:43.968Z"
   },
   {
    "duration": 18,
    "start_time": "2022-04-27T13:41:59.149Z"
   },
   {
    "duration": 17,
    "start_time": "2022-04-27T13:42:16.911Z"
   },
   {
    "duration": 33,
    "start_time": "2022-04-27T13:42:55.995Z"
   },
   {
    "duration": 15,
    "start_time": "2022-04-27T13:43:15.565Z"
   },
   {
    "duration": 9,
    "start_time": "2022-04-27T13:43:20.246Z"
   },
   {
    "duration": 22,
    "start_time": "2022-04-27T13:44:15.542Z"
   },
   {
    "duration": 16,
    "start_time": "2022-04-27T13:45:36.077Z"
   },
   {
    "duration": 10,
    "start_time": "2022-04-27T13:45:49.147Z"
   },
   {
    "duration": 42,
    "start_time": "2022-04-27T13:46:08.941Z"
   },
   {
    "duration": 173,
    "start_time": "2022-04-27T13:47:57.627Z"
   },
   {
    "duration": 14,
    "start_time": "2022-04-27T13:48:01.037Z"
   },
   {
    "duration": 3,
    "start_time": "2022-04-27T13:48:11.295Z"
   },
   {
    "duration": 48,
    "start_time": "2022-04-27T13:48:15.041Z"
   },
   {
    "duration": 41,
    "start_time": "2022-04-27T13:48:37.740Z"
   },
   {
    "duration": 53,
    "start_time": "2022-04-27T13:49:02.184Z"
   },
   {
    "duration": 67,
    "start_time": "2022-04-27T13:51:42.058Z"
   },
   {
    "duration": 42,
    "start_time": "2022-04-27T13:51:45.014Z"
   },
   {
    "duration": 40,
    "start_time": "2022-04-27T13:51:47.843Z"
   },
   {
    "duration": 46,
    "start_time": "2022-04-27T13:51:53.503Z"
   },
   {
    "duration": 169,
    "start_time": "2022-04-27T13:53:04.655Z"
   },
   {
    "duration": 49,
    "start_time": "2022-04-27T13:53:17.655Z"
   },
   {
    "duration": 39,
    "start_time": "2022-04-27T13:53:27.638Z"
   },
   {
    "duration": 12,
    "start_time": "2022-04-27T13:54:51.708Z"
   },
   {
    "duration": 41,
    "start_time": "2022-04-27T13:56:09.083Z"
   },
   {
    "duration": 21,
    "start_time": "2022-04-27T13:56:30.704Z"
   },
   {
    "duration": 40,
    "start_time": "2022-04-27T13:56:44.991Z"
   },
   {
    "duration": 280,
    "start_time": "2022-04-27T13:57:51.652Z"
   },
   {
    "duration": 320,
    "start_time": "2022-04-27T13:58:22.771Z"
   },
   {
    "duration": 255,
    "start_time": "2022-04-27T14:01:19.153Z"
   },
   {
    "duration": 0,
    "start_time": "2022-04-27T14:01:32.783Z"
   },
   {
    "duration": 288,
    "start_time": "2022-04-27T14:01:33.825Z"
   },
   {
    "duration": 294,
    "start_time": "2022-04-27T14:04:09.038Z"
   },
   {
    "duration": 18,
    "start_time": "2022-04-27T14:10:51.066Z"
   },
   {
    "duration": 289,
    "start_time": "2022-04-27T14:11:18.803Z"
   },
   {
    "duration": 281,
    "start_time": "2022-04-27T14:12:02.140Z"
   },
   {
    "duration": 180,
    "start_time": "2022-04-27T14:21:49.782Z"
   },
   {
    "duration": 167,
    "start_time": "2022-04-27T14:22:43.361Z"
   },
   {
    "duration": 144,
    "start_time": "2022-04-27T14:23:04.825Z"
   },
   {
    "duration": 28,
    "start_time": "2022-04-27T14:23:16.229Z"
   },
   {
    "duration": 141,
    "start_time": "2022-04-27T14:23:21.771Z"
   },
   {
    "duration": 206,
    "start_time": "2022-04-27T14:24:33.836Z"
   },
   {
    "duration": 8,
    "start_time": "2022-04-27T15:49:12.478Z"
   },
   {
    "duration": 215,
    "start_time": "2022-04-27T15:50:42.636Z"
   },
   {
    "duration": 263,
    "start_time": "2022-04-27T15:52:06.527Z"
   },
   {
    "duration": 193,
    "start_time": "2022-04-27T15:52:32.871Z"
   },
   {
    "duration": 183,
    "start_time": "2022-04-27T15:53:23.179Z"
   },
   {
    "duration": 145,
    "start_time": "2022-04-27T15:53:29.630Z"
   },
   {
    "duration": 137,
    "start_time": "2022-04-27T15:54:48.333Z"
   },
   {
    "duration": 144,
    "start_time": "2022-04-27T15:55:02.559Z"
   },
   {
    "duration": 140,
    "start_time": "2022-04-27T15:55:13.567Z"
   },
   {
    "duration": 167,
    "start_time": "2022-04-27T15:55:16.851Z"
   },
   {
    "duration": 133,
    "start_time": "2022-04-27T15:56:44.579Z"
   },
   {
    "duration": 166,
    "start_time": "2022-04-27T15:57:37.924Z"
   },
   {
    "duration": 166,
    "start_time": "2022-04-27T15:58:24.142Z"
   },
   {
    "duration": 155,
    "start_time": "2022-04-27T16:01:14.492Z"
   },
   {
    "duration": 18,
    "start_time": "2022-04-27T16:01:38.137Z"
   },
   {
    "duration": 153,
    "start_time": "2022-04-27T16:29:17.133Z"
   },
   {
    "duration": 237,
    "start_time": "2022-04-27T16:29:29.073Z"
   },
   {
    "duration": 1468,
    "start_time": "2022-04-27T16:29:47.257Z"
   },
   {
    "duration": 21,
    "start_time": "2022-04-27T16:30:04.805Z"
   },
   {
    "duration": 15,
    "start_time": "2022-04-27T16:30:31.453Z"
   },
   {
    "duration": 134,
    "start_time": "2022-04-27T16:31:05.965Z"
   },
   {
    "duration": 113,
    "start_time": "2022-04-27T16:31:17.173Z"
   },
   {
    "duration": 126,
    "start_time": "2022-04-27T16:31:22.454Z"
   },
   {
    "duration": 134,
    "start_time": "2022-04-27T16:32:17.884Z"
   },
   {
    "duration": 113,
    "start_time": "2022-04-27T16:32:25.097Z"
   },
   {
    "duration": 119,
    "start_time": "2022-04-27T16:32:28.732Z"
   },
   {
    "duration": 129,
    "start_time": "2022-04-27T16:32:30.958Z"
   },
   {
    "duration": 129,
    "start_time": "2022-04-27T16:35:12.393Z"
   },
   {
    "duration": 138,
    "start_time": "2022-04-27T16:36:04.161Z"
   },
   {
    "duration": 145,
    "start_time": "2022-04-27T16:36:10.057Z"
   },
   {
    "duration": 252,
    "start_time": "2022-04-27T16:36:44.856Z"
   },
   {
    "duration": 135,
    "start_time": "2022-04-27T16:37:00.435Z"
   },
   {
    "duration": 139,
    "start_time": "2022-04-27T16:37:27.595Z"
   },
   {
    "duration": 36,
    "start_time": "2022-04-27T16:39:36.828Z"
   },
   {
    "duration": 13,
    "start_time": "2022-04-27T16:51:29.808Z"
   },
   {
    "duration": 233,
    "start_time": "2022-04-27T16:53:39.365Z"
   },
   {
    "duration": 24,
    "start_time": "2022-04-27T17:02:15.407Z"
   },
   {
    "duration": 243,
    "start_time": "2022-04-27T17:02:25.029Z"
   },
   {
    "duration": 107,
    "start_time": "2022-04-27T17:04:03.792Z"
   },
   {
    "duration": 13153,
    "start_time": "2022-04-27T17:04:10.128Z"
   },
   {
    "duration": 6598,
    "start_time": "2022-04-27T17:04:35.806Z"
   },
   {
    "duration": 363,
    "start_time": "2022-04-28T05:12:51.372Z"
   },
   {
    "duration": 104,
    "start_time": "2022-04-28T05:12:51.737Z"
   },
   {
    "duration": 14,
    "start_time": "2022-04-28T05:12:51.843Z"
   },
   {
    "duration": 9,
    "start_time": "2022-04-28T05:12:51.859Z"
   },
   {
    "duration": 15,
    "start_time": "2022-04-28T05:12:51.870Z"
   },
   {
    "duration": 14,
    "start_time": "2022-04-28T05:12:51.887Z"
   },
   {
    "duration": 6,
    "start_time": "2022-04-28T05:12:51.903Z"
   },
   {
    "duration": 20,
    "start_time": "2022-04-28T05:12:51.911Z"
   },
   {
    "duration": 4,
    "start_time": "2022-04-28T05:12:51.932Z"
   },
   {
    "duration": 324,
    "start_time": "2022-04-28T05:12:51.940Z"
   },
   {
    "duration": 4,
    "start_time": "2022-04-28T05:12:52.266Z"
   },
   {
    "duration": 497,
    "start_time": "2022-04-28T05:12:52.272Z"
   },
   {
    "duration": 190,
    "start_time": "2022-04-28T05:12:52.771Z"
   },
   {
    "duration": 125,
    "start_time": "2022-04-28T05:12:52.963Z"
   },
   {
    "duration": 151,
    "start_time": "2022-04-28T05:12:53.090Z"
   },
   {
    "duration": 143,
    "start_time": "2022-04-28T05:12:53.242Z"
   },
   {
    "duration": 128,
    "start_time": "2022-04-28T05:12:53.386Z"
   },
   {
    "duration": 130,
    "start_time": "2022-04-28T05:12:53.516Z"
   },
   {
    "duration": 7,
    "start_time": "2022-04-28T05:12:53.648Z"
   },
   {
    "duration": 19,
    "start_time": "2022-04-28T05:12:53.656Z"
   },
   {
    "duration": 16,
    "start_time": "2022-04-28T05:12:53.676Z"
   },
   {
    "duration": 196,
    "start_time": "2022-04-28T05:12:53.693Z"
   },
   {
    "duration": 141,
    "start_time": "2022-04-28T05:12:53.891Z"
   },
   {
    "duration": 171,
    "start_time": "2022-04-28T05:12:54.033Z"
   },
   {
    "duration": 21,
    "start_time": "2022-04-28T05:12:54.206Z"
   },
   {
    "duration": 123,
    "start_time": "2022-04-28T05:12:54.228Z"
   },
   {
    "duration": 125,
    "start_time": "2022-04-28T05:12:54.353Z"
   },
   {
    "duration": 172,
    "start_time": "2022-04-28T05:12:54.482Z"
   },
   {
    "duration": 12,
    "start_time": "2022-04-28T05:12:54.656Z"
   },
   {
    "duration": 17,
    "start_time": "2022-04-28T05:12:54.669Z"
   },
   {
    "duration": 144,
    "start_time": "2022-04-28T05:12:54.688Z"
   },
   {
    "duration": 154,
    "start_time": "2022-04-28T05:12:54.833Z"
   },
   {
    "duration": 133,
    "start_time": "2022-04-28T05:12:54.990Z"
   },
   {
    "duration": 126,
    "start_time": "2022-04-28T05:12:55.125Z"
   },
   {
    "duration": 117,
    "start_time": "2022-04-28T05:12:55.252Z"
   },
   {
    "duration": 142,
    "start_time": "2022-04-28T05:12:55.371Z"
   },
   {
    "duration": 139,
    "start_time": "2022-04-28T05:12:55.515Z"
   },
   {
    "duration": 11,
    "start_time": "2022-04-28T05:12:55.656Z"
   },
   {
    "duration": 135,
    "start_time": "2022-04-28T05:12:55.668Z"
   },
   {
    "duration": 31,
    "start_time": "2022-04-28T05:12:55.804Z"
   },
   {
    "duration": 34412,
    "start_time": "2022-04-28T05:12:55.836Z"
   },
   {
    "duration": 234,
    "start_time": "2022-04-28T05:14:57.541Z"
   },
   {
    "duration": 207,
    "start_time": "2022-04-28T05:16:46.969Z"
   },
   {
    "duration": 134,
    "start_time": "2022-04-28T05:20:08.382Z"
   },
   {
    "duration": 205,
    "start_time": "2022-04-28T05:20:17.733Z"
   },
   {
    "duration": 364,
    "start_time": "2022-05-03T07:16:10.253Z"
   },
   {
    "duration": 92,
    "start_time": "2022-05-03T07:16:10.619Z"
   },
   {
    "duration": 18,
    "start_time": "2022-05-03T07:16:10.712Z"
   },
   {
    "duration": 5,
    "start_time": "2022-05-03T07:16:10.731Z"
   },
   {
    "duration": 19,
    "start_time": "2022-05-03T07:16:10.737Z"
   },
   {
    "duration": 14,
    "start_time": "2022-05-03T07:16:10.757Z"
   },
   {
    "duration": 12,
    "start_time": "2022-05-03T07:16:10.773Z"
   },
   {
    "duration": 18,
    "start_time": "2022-05-03T07:16:10.787Z"
   },
   {
    "duration": 9,
    "start_time": "2022-05-03T07:16:10.806Z"
   },
   {
    "duration": 303,
    "start_time": "2022-05-03T07:16:10.816Z"
   },
   {
    "duration": 5,
    "start_time": "2022-05-03T07:16:11.121Z"
   },
   {
    "duration": 490,
    "start_time": "2022-05-03T07:16:11.127Z"
   },
   {
    "duration": 247,
    "start_time": "2022-05-03T07:16:11.623Z"
   },
   {
    "duration": 213,
    "start_time": "2022-05-03T07:16:11.923Z"
   },
   {
    "duration": 227,
    "start_time": "2022-05-03T07:16:12.138Z"
   },
   {
    "duration": 230,
    "start_time": "2022-05-03T07:16:12.423Z"
   },
   {
    "duration": 283,
    "start_time": "2022-05-03T07:16:12.655Z"
   },
   {
    "duration": 221,
    "start_time": "2022-05-03T07:16:12.939Z"
   },
   {
    "duration": 6,
    "start_time": "2022-05-03T07:16:13.162Z"
   },
   {
    "duration": 66,
    "start_time": "2022-05-03T07:16:13.170Z"
   },
   {
    "duration": 16,
    "start_time": "2022-05-03T07:16:13.238Z"
   },
   {
    "duration": 240,
    "start_time": "2022-05-03T07:16:13.255Z"
   },
   {
    "duration": 140,
    "start_time": "2022-05-03T07:16:13.497Z"
   },
   {
    "duration": 172,
    "start_time": "2022-05-03T07:16:13.638Z"
   },
   {
    "duration": 18,
    "start_time": "2022-05-03T07:16:13.812Z"
   },
   {
    "duration": 119,
    "start_time": "2022-05-03T07:16:13.831Z"
   },
   {
    "duration": 117,
    "start_time": "2022-05-03T07:16:13.952Z"
   },
   {
    "duration": 165,
    "start_time": "2022-05-03T07:16:14.071Z"
   },
   {
    "duration": 12,
    "start_time": "2022-05-03T07:16:14.238Z"
   },
   {
    "duration": 18,
    "start_time": "2022-05-03T07:16:14.252Z"
   },
   {
    "duration": 154,
    "start_time": "2022-05-03T07:16:14.271Z"
   },
   {
    "duration": 142,
    "start_time": "2022-05-03T07:16:14.427Z"
   },
   {
    "duration": 127,
    "start_time": "2022-05-03T07:16:14.571Z"
   },
   {
    "duration": 126,
    "start_time": "2022-05-03T07:16:14.699Z"
   },
   {
    "duration": 123,
    "start_time": "2022-05-03T07:16:14.827Z"
   },
   {
    "duration": 148,
    "start_time": "2022-05-03T07:16:14.952Z"
   },
   {
    "duration": 146,
    "start_time": "2022-05-03T07:16:15.102Z"
   },
   {
    "duration": 12,
    "start_time": "2022-05-03T07:16:15.250Z"
   },
   {
    "duration": 144,
    "start_time": "2022-05-03T07:16:15.264Z"
   },
   {
    "duration": 278,
    "start_time": "2022-05-03T07:16:15.410Z"
   },
   {
    "duration": 17,
    "start_time": "2022-05-03T07:23:08.697Z"
   },
   {
    "duration": 887,
    "start_time": "2022-05-04T12:54:57.111Z"
   },
   {
    "duration": 177,
    "start_time": "2022-05-04T12:55:00.726Z"
   },
   {
    "duration": 24,
    "start_time": "2022-05-04T12:55:01.229Z"
   },
   {
    "duration": 5,
    "start_time": "2022-05-04T12:55:01.397Z"
   },
   {
    "duration": 9,
    "start_time": "2022-05-04T12:55:01.439Z"
   },
   {
    "duration": 13,
    "start_time": "2022-05-04T12:55:02.334Z"
   },
   {
    "duration": 7,
    "start_time": "2022-05-04T12:55:03.445Z"
   },
   {
    "duration": 12,
    "start_time": "2022-05-04T12:55:03.874Z"
   },
   {
    "duration": 3,
    "start_time": "2022-05-04T12:55:04.330Z"
   },
   {
    "duration": 292,
    "start_time": "2022-05-04T12:55:04.697Z"
   },
   {
    "duration": 5,
    "start_time": "2022-05-04T12:55:05.056Z"
   },
   {
    "duration": 144,
    "start_time": "2022-05-04T12:55:06.455Z"
   },
   {
    "duration": 174,
    "start_time": "2022-05-04T12:55:18.390Z"
   },
   {
    "duration": 138,
    "start_time": "2022-05-04T12:57:46.977Z"
   },
   {
    "duration": 137,
    "start_time": "2022-05-04T12:57:54.924Z"
   },
   {
    "duration": 144,
    "start_time": "2022-05-04T13:01:03.980Z"
   },
   {
    "duration": 148,
    "start_time": "2022-05-04T13:01:10.387Z"
   },
   {
    "duration": 126,
    "start_time": "2022-05-04T13:05:23.834Z"
   },
   {
    "duration": 133,
    "start_time": "2022-05-04T13:06:36.033Z"
   },
   {
    "duration": 143,
    "start_time": "2022-05-04T13:06:42.367Z"
   },
   {
    "duration": 134,
    "start_time": "2022-05-04T13:06:51.896Z"
   },
   {
    "duration": 138,
    "start_time": "2022-05-04T13:06:58.479Z"
   },
   {
    "duration": 133,
    "start_time": "2022-05-04T13:13:00.013Z"
   },
   {
    "duration": 75,
    "start_time": "2022-05-04T13:14:54.894Z"
   },
   {
    "duration": 198,
    "start_time": "2022-05-04T13:15:13.369Z"
   },
   {
    "duration": 135,
    "start_time": "2022-05-04T13:15:24.816Z"
   },
   {
    "duration": 138,
    "start_time": "2022-05-04T13:16:15.447Z"
   },
   {
    "duration": 260,
    "start_time": "2022-05-04T13:17:06.687Z"
   },
   {
    "duration": 169,
    "start_time": "2022-05-04T13:17:16.219Z"
   },
   {
    "duration": 160,
    "start_time": "2022-05-04T13:17:20.014Z"
   },
   {
    "duration": 167,
    "start_time": "2022-05-04T13:17:23.447Z"
   },
   {
    "duration": 215,
    "start_time": "2022-05-04T13:19:42.721Z"
   },
   {
    "duration": 194,
    "start_time": "2022-05-04T13:19:58.441Z"
   },
   {
    "duration": 207,
    "start_time": "2022-05-04T13:20:41.250Z"
   },
   {
    "duration": 142,
    "start_time": "2022-05-04T13:21:37.383Z"
   },
   {
    "duration": 253,
    "start_time": "2022-05-04T13:23:22.987Z"
   },
   {
    "duration": 129,
    "start_time": "2022-05-04T13:23:46.632Z"
   },
   {
    "duration": 126,
    "start_time": "2022-05-04T13:23:55.508Z"
   },
   {
    "duration": 136,
    "start_time": "2022-05-04T13:24:21.671Z"
   },
   {
    "duration": 144,
    "start_time": "2022-05-04T13:29:14.959Z"
   },
   {
    "duration": 133,
    "start_time": "2022-05-04T13:30:04.147Z"
   },
   {
    "duration": 9,
    "start_time": "2022-05-04T13:35:41.415Z"
   },
   {
    "duration": 145,
    "start_time": "2022-05-04T13:35:47.593Z"
   },
   {
    "duration": 194,
    "start_time": "2022-05-04T13:37:00.696Z"
   },
   {
    "duration": 215,
    "start_time": "2022-05-04T13:37:21.123Z"
   },
   {
    "duration": 209,
    "start_time": "2022-05-04T13:37:28.715Z"
   },
   {
    "duration": 159,
    "start_time": "2022-05-04T13:37:53.878Z"
   },
   {
    "duration": 226,
    "start_time": "2022-05-04T13:38:14.434Z"
   },
   {
    "duration": 140,
    "start_time": "2022-05-04T13:39:06.039Z"
   },
   {
    "duration": 159,
    "start_time": "2022-05-04T13:39:28.586Z"
   },
   {
    "duration": 150,
    "start_time": "2022-05-04T13:40:12.928Z"
   },
   {
    "duration": 211,
    "start_time": "2022-05-04T13:41:27.938Z"
   },
   {
    "duration": 0,
    "start_time": "2022-05-04T13:41:59.861Z"
   },
   {
    "duration": 195,
    "start_time": "2022-05-04T13:42:02.249Z"
   },
   {
    "duration": 201,
    "start_time": "2022-05-04T13:42:28.266Z"
   },
   {
    "duration": 156,
    "start_time": "2022-05-04T13:42:32.384Z"
   },
   {
    "duration": 205,
    "start_time": "2022-05-04T13:42:33.582Z"
   },
   {
    "duration": 544,
    "start_time": "2022-05-04T13:42:53.552Z"
   },
   {
    "duration": 2,
    "start_time": "2022-05-04T13:43:03.991Z"
   },
   {
    "duration": 229,
    "start_time": "2022-05-04T13:43:04.341Z"
   },
   {
    "duration": 16,
    "start_time": "2022-05-04T13:43:04.840Z"
   },
   {
    "duration": 8,
    "start_time": "2022-05-04T13:43:05.017Z"
   },
   {
    "duration": 8,
    "start_time": "2022-05-04T13:43:05.060Z"
   },
   {
    "duration": 10,
    "start_time": "2022-05-04T13:43:05.151Z"
   },
   {
    "duration": 4,
    "start_time": "2022-05-04T13:43:05.351Z"
   },
   {
    "duration": 18,
    "start_time": "2022-05-04T13:43:05.393Z"
   },
   {
    "duration": 3,
    "start_time": "2022-05-04T13:43:05.452Z"
   },
   {
    "duration": 327,
    "start_time": "2022-05-04T13:43:05.516Z"
   },
   {
    "duration": 5,
    "start_time": "2022-05-04T13:43:05.845Z"
   },
   {
    "duration": 179,
    "start_time": "2022-05-04T13:43:05.852Z"
   },
   {
    "duration": 166,
    "start_time": "2022-05-04T13:43:06.034Z"
   },
   {
    "duration": 160,
    "start_time": "2022-05-04T13:43:06.202Z"
   },
   {
    "duration": 200,
    "start_time": "2022-05-04T13:43:06.363Z"
   },
   {
    "duration": 208,
    "start_time": "2022-05-04T13:43:06.565Z"
   },
   {
    "duration": 171,
    "start_time": "2022-05-04T13:43:06.775Z"
   },
   {
    "duration": 156,
    "start_time": "2022-05-04T13:43:14.174Z"
   },
   {
    "duration": 179,
    "start_time": "2022-05-04T13:43:54.595Z"
   },
   {
    "duration": 180,
    "start_time": "2022-05-04T13:44:00.070Z"
   },
   {
    "duration": 165,
    "start_time": "2022-05-04T13:44:34.559Z"
   },
   {
    "duration": 169,
    "start_time": "2022-05-04T13:44:52.398Z"
   },
   {
    "duration": 161,
    "start_time": "2022-05-04T13:44:59.505Z"
   },
   {
    "duration": 149,
    "start_time": "2022-05-04T13:45:03.015Z"
   },
   {
    "duration": 140,
    "start_time": "2022-05-04T13:45:08.037Z"
   },
   {
    "duration": 151,
    "start_time": "2022-05-04T13:45:12.120Z"
   },
   {
    "duration": 156,
    "start_time": "2022-05-04T13:45:25.890Z"
   },
   {
    "duration": 173,
    "start_time": "2022-05-04T13:46:55.503Z"
   },
   {
    "duration": 158,
    "start_time": "2022-05-04T13:47:05.258Z"
   },
   {
    "duration": 236,
    "start_time": "2022-05-04T13:48:45.807Z"
   },
   {
    "duration": 250,
    "start_time": "2022-05-04T13:48:56.852Z"
   },
   {
    "duration": 285,
    "start_time": "2022-05-04T13:49:20.274Z"
   },
   {
    "duration": 334,
    "start_time": "2022-05-04T13:51:25.870Z"
   },
   {
    "duration": 280,
    "start_time": "2022-05-04T13:51:42.340Z"
   },
   {
    "duration": 124,
    "start_time": "2022-05-04T13:52:13.029Z"
   },
   {
    "duration": 293,
    "start_time": "2022-05-04T13:52:17.678Z"
   },
   {
    "duration": 292,
    "start_time": "2022-05-04T13:52:31.208Z"
   },
   {
    "duration": 167,
    "start_time": "2022-05-04T13:53:33.528Z"
   },
   {
    "duration": 171,
    "start_time": "2022-05-04T13:53:47.969Z"
   },
   {
    "duration": 162,
    "start_time": "2022-05-04T13:53:51.505Z"
   },
   {
    "duration": 150,
    "start_time": "2022-05-04T13:53:56.145Z"
   },
   {
    "duration": 8,
    "start_time": "2022-05-04T13:54:01.386Z"
   },
   {
    "duration": 18,
    "start_time": "2022-05-04T13:54:03.225Z"
   },
   {
    "duration": 15,
    "start_time": "2022-05-04T13:58:10.378Z"
   },
   {
    "duration": 17,
    "start_time": "2022-05-04T13:59:25.367Z"
   },
   {
    "duration": 19,
    "start_time": "2022-05-04T13:59:57.541Z"
   },
   {
    "duration": 19,
    "start_time": "2022-05-04T13:59:59.825Z"
   },
   {
    "duration": 21,
    "start_time": "2022-05-04T14:00:20.623Z"
   },
   {
    "duration": 18,
    "start_time": "2022-05-04T14:00:21.621Z"
   },
   {
    "duration": 19,
    "start_time": "2022-05-04T14:00:27.054Z"
   },
   {
    "duration": 18,
    "start_time": "2022-05-04T14:00:27.604Z"
   },
   {
    "duration": 19,
    "start_time": "2022-05-04T14:00:33.884Z"
   },
   {
    "duration": 17,
    "start_time": "2022-05-04T14:00:34.670Z"
   },
   {
    "duration": 18,
    "start_time": "2022-05-04T14:00:38.152Z"
   },
   {
    "duration": 20,
    "start_time": "2022-05-04T14:00:43.699Z"
   },
   {
    "duration": 19,
    "start_time": "2022-05-04T14:00:44.300Z"
   },
   {
    "duration": 19,
    "start_time": "2022-05-04T14:00:50.477Z"
   },
   {
    "duration": 18,
    "start_time": "2022-05-04T14:00:51.181Z"
   },
   {
    "duration": 19,
    "start_time": "2022-05-04T14:01:03.674Z"
   },
   {
    "duration": 18,
    "start_time": "2022-05-04T14:01:04.282Z"
   },
   {
    "duration": 19,
    "start_time": "2022-05-04T14:01:10.058Z"
   },
   {
    "duration": 19,
    "start_time": "2022-05-04T14:01:10.672Z"
   },
   {
    "duration": 18,
    "start_time": "2022-05-04T14:01:19.319Z"
   },
   {
    "duration": 18,
    "start_time": "2022-05-04T14:01:19.720Z"
   },
   {
    "duration": 25,
    "start_time": "2022-05-04T14:02:03.443Z"
   },
   {
    "duration": 18,
    "start_time": "2022-05-04T14:02:04.095Z"
   },
   {
    "duration": 21,
    "start_time": "2022-05-04T14:02:16.891Z"
   },
   {
    "duration": 29,
    "start_time": "2022-05-04T14:04:27.699Z"
   },
   {
    "duration": 18,
    "start_time": "2022-05-04T14:04:28.766Z"
   },
   {
    "duration": 30,
    "start_time": "2022-05-04T14:05:23.355Z"
   },
   {
    "duration": 20,
    "start_time": "2022-05-04T14:05:24.186Z"
   },
   {
    "duration": 29,
    "start_time": "2022-05-04T14:06:11.032Z"
   },
   {
    "duration": 18,
    "start_time": "2022-05-04T14:06:11.535Z"
   },
   {
    "duration": 32,
    "start_time": "2022-05-04T14:07:33.547Z"
   },
   {
    "duration": 17,
    "start_time": "2022-05-04T14:07:33.951Z"
   },
   {
    "duration": 286,
    "start_time": "2022-05-04T14:07:34.767Z"
   },
   {
    "duration": 135,
    "start_time": "2022-05-04T14:07:55.459Z"
   },
   {
    "duration": 175,
    "start_time": "2022-05-04T14:07:57.732Z"
   },
   {
    "duration": 14,
    "start_time": "2022-05-04T14:08:08.798Z"
   },
   {
    "duration": 107,
    "start_time": "2022-05-04T14:08:10.257Z"
   },
   {
    "duration": 136,
    "start_time": "2022-05-04T14:08:15.168Z"
   },
   {
    "duration": 123,
    "start_time": "2022-05-04T14:08:40.098Z"
   },
   {
    "duration": 10,
    "start_time": "2022-05-04T14:09:26.948Z"
   },
   {
    "duration": 12,
    "start_time": "2022-05-04T14:09:34.107Z"
   },
   {
    "duration": 9,
    "start_time": "2022-05-04T14:09:35.716Z"
   },
   {
    "duration": 19,
    "start_time": "2022-05-04T14:09:42.645Z"
   },
   {
    "duration": 17,
    "start_time": "2022-05-04T14:10:09.109Z"
   },
   {
    "duration": 15,
    "start_time": "2022-05-04T14:10:15.486Z"
   },
   {
    "duration": 121,
    "start_time": "2022-05-04T14:10:22.755Z"
   },
   {
    "duration": 138,
    "start_time": "2022-05-04T14:10:40.863Z"
   },
   {
    "duration": 3,
    "start_time": "2022-05-04T14:10:53.185Z"
   },
   {
    "duration": 201,
    "start_time": "2022-05-04T14:11:01.022Z"
   },
   {
    "duration": 17,
    "start_time": "2022-05-04T14:11:11.430Z"
   },
   {
    "duration": 114,
    "start_time": "2022-05-04T14:11:34.381Z"
   },
   {
    "duration": 131,
    "start_time": "2022-05-04T14:11:51.915Z"
   },
   {
    "duration": 16,
    "start_time": "2022-05-04T14:12:11.927Z"
   },
   {
    "duration": 19,
    "start_time": "2022-05-04T14:12:17.027Z"
   },
   {
    "duration": 16,
    "start_time": "2022-05-04T14:12:38.982Z"
   },
   {
    "duration": 18,
    "start_time": "2022-05-04T14:12:42.356Z"
   },
   {
    "duration": 15,
    "start_time": "2022-05-04T14:13:47.726Z"
   },
   {
    "duration": 14,
    "start_time": "2022-05-04T14:14:01.518Z"
   },
   {
    "duration": 21,
    "start_time": "2022-05-04T14:14:11.288Z"
   },
   {
    "duration": 12,
    "start_time": "2022-05-04T14:17:41.393Z"
   },
   {
    "duration": 12,
    "start_time": "2022-05-04T14:17:55.406Z"
   },
   {
    "duration": 148,
    "start_time": "2022-05-04T14:18:31.814Z"
   },
   {
    "duration": 134,
    "start_time": "2022-05-04T14:18:34.109Z"
   },
   {
    "duration": 121,
    "start_time": "2022-05-04T14:20:03.641Z"
   },
   {
    "duration": 12,
    "start_time": "2022-05-04T14:20:10.342Z"
   },
   {
    "duration": 22,
    "start_time": "2022-05-04T14:20:20.710Z"
   },
   {
    "duration": 115,
    "start_time": "2022-05-04T14:21:12.717Z"
   },
   {
    "duration": 174,
    "start_time": "2022-05-04T14:23:35.918Z"
   },
   {
    "duration": 156,
    "start_time": "2022-05-04T14:23:42.725Z"
   },
   {
    "duration": 152,
    "start_time": "2022-05-04T14:25:03.415Z"
   },
   {
    "duration": 153,
    "start_time": "2022-05-04T14:25:10.508Z"
   },
   {
    "duration": 141,
    "start_time": "2022-05-04T14:25:20.265Z"
   },
   {
    "duration": 127,
    "start_time": "2022-05-04T14:26:27.739Z"
   },
   {
    "duration": 129,
    "start_time": "2022-05-04T14:27:07.984Z"
   },
   {
    "duration": 122,
    "start_time": "2022-05-04T14:27:14.523Z"
   },
   {
    "duration": 114,
    "start_time": "2022-05-04T14:27:23.621Z"
   },
   {
    "duration": 125,
    "start_time": "2022-05-04T14:27:31.562Z"
   },
   {
    "duration": 127,
    "start_time": "2022-05-04T14:27:39.327Z"
   },
   {
    "duration": 145,
    "start_time": "2022-05-04T14:27:44.873Z"
   },
   {
    "duration": 130,
    "start_time": "2022-05-04T14:28:47.669Z"
   },
   {
    "duration": 137,
    "start_time": "2022-05-04T14:29:30.691Z"
   },
   {
    "duration": 143,
    "start_time": "2022-05-04T14:29:59.374Z"
   },
   {
    "duration": 141,
    "start_time": "2022-05-04T14:30:12.486Z"
   },
   {
    "duration": 146,
    "start_time": "2022-05-04T14:30:18.456Z"
   },
   {
    "duration": 146,
    "start_time": "2022-05-04T14:30:34.490Z"
   },
   {
    "duration": 133,
    "start_time": "2022-05-04T14:31:37.648Z"
   },
   {
    "duration": 217,
    "start_time": "2022-05-04T14:32:57.995Z"
   },
   {
    "duration": 148,
    "start_time": "2022-05-04T14:41:36.865Z"
   },
   {
    "duration": 140,
    "start_time": "2022-05-04T14:43:45.341Z"
   },
   {
    "duration": 139,
    "start_time": "2022-05-04T14:45:40.010Z"
   },
   {
    "duration": 142,
    "start_time": "2022-05-04T14:48:38.336Z"
   },
   {
    "duration": 30,
    "start_time": "2022-05-04T14:52:20.542Z"
   },
   {
    "duration": 19,
    "start_time": "2022-05-04T14:52:21.036Z"
   },
   {
    "duration": 185,
    "start_time": "2022-05-04T14:52:21.308Z"
   },
   {
    "duration": 145,
    "start_time": "2022-05-04T14:52:21.764Z"
   },
   {
    "duration": 992,
    "start_time": "2022-05-04T14:52:22.091Z"
   },
   {
    "duration": 14,
    "start_time": "2022-05-04T14:52:23.100Z"
   },
   {
    "duration": 136,
    "start_time": "2022-05-04T14:52:23.116Z"
   },
   {
    "duration": 150,
    "start_time": "2022-05-04T14:52:23.649Z"
   },
   {
    "duration": 144,
    "start_time": "2022-05-04T14:52:24.059Z"
   },
   {
    "duration": 15,
    "start_time": "2022-05-04T14:52:25.330Z"
   },
   {
    "duration": 163,
    "start_time": "2022-05-04T14:52:39.185Z"
   },
   {
    "duration": 147,
    "start_time": "2022-05-04T14:52:52.168Z"
   },
   {
    "duration": 146,
    "start_time": "2022-05-04T14:53:35.470Z"
   },
   {
    "duration": 15,
    "start_time": "2022-05-04T14:53:36.608Z"
   },
   {
    "duration": 19,
    "start_time": "2022-05-04T14:53:37.062Z"
   },
   {
    "duration": 151,
    "start_time": "2022-05-04T14:53:38.020Z"
   },
   {
    "duration": 128,
    "start_time": "2022-05-04T14:53:39.950Z"
   },
   {
    "duration": 132,
    "start_time": "2022-05-04T14:53:48.401Z"
   },
   {
    "duration": 143,
    "start_time": "2022-05-04T14:53:49.388Z"
   },
   {
    "duration": 219,
    "start_time": "2022-05-04T14:53:50.686Z"
   },
   {
    "duration": 147,
    "start_time": "2022-05-04T14:53:52.787Z"
   },
   {
    "duration": 147,
    "start_time": "2022-05-04T14:53:57.471Z"
   },
   {
    "duration": 13,
    "start_time": "2022-05-04T14:54:10.834Z"
   },
   {
    "duration": 132,
    "start_time": "2022-05-04T14:54:13.440Z"
   },
   {
    "duration": 359,
    "start_time": "2022-05-04T14:54:15.075Z"
   },
   {
    "duration": 40,
    "start_time": "2022-05-04T14:56:39.996Z"
   },
   {
    "duration": 29,
    "start_time": "2022-05-04T14:56:40.895Z"
   },
   {
    "duration": 196,
    "start_time": "2022-05-04T14:56:44.812Z"
   },
   {
    "duration": 155,
    "start_time": "2022-05-04T14:56:46.809Z"
   },
   {
    "duration": 185,
    "start_time": "2022-05-04T14:56:49.141Z"
   },
   {
    "duration": 16,
    "start_time": "2022-05-04T14:56:51.706Z"
   },
   {
    "duration": 146,
    "start_time": "2022-05-04T14:56:55.720Z"
   },
   {
    "duration": 144,
    "start_time": "2022-05-04T14:56:57.006Z"
   },
   {
    "duration": 149,
    "start_time": "2022-05-04T14:56:58.113Z"
   },
   {
    "duration": 19,
    "start_time": "2022-05-04T14:57:00.890Z"
   },
   {
    "duration": 19,
    "start_time": "2022-05-04T14:57:01.715Z"
   },
   {
    "duration": 156,
    "start_time": "2022-05-04T14:57:03.270Z"
   },
   {
    "duration": 153,
    "start_time": "2022-05-04T14:57:05.095Z"
   },
   {
    "duration": 138,
    "start_time": "2022-05-04T14:57:06.995Z"
   },
   {
    "duration": 138,
    "start_time": "2022-05-04T14:57:08.230Z"
   },
   {
    "duration": 121,
    "start_time": "2022-05-04T14:57:16.723Z"
   },
   {
    "duration": 152,
    "start_time": "2022-05-04T14:57:19.266Z"
   },
   {
    "duration": 147,
    "start_time": "2022-05-04T14:57:21.969Z"
   },
   {
    "duration": 14,
    "start_time": "2022-05-04T14:57:24.860Z"
   },
   {
    "duration": 139,
    "start_time": "2022-05-04T14:57:26.328Z"
   },
   {
    "duration": 264,
    "start_time": "2022-05-04T14:57:29.715Z"
   },
   {
    "duration": 136,
    "start_time": "2022-05-04T14:58:23.128Z"
   },
   {
    "duration": 139,
    "start_time": "2022-05-04T14:58:24.310Z"
   },
   {
    "duration": 203,
    "start_time": "2022-05-04T14:58:25.305Z"
   },
   {
    "duration": 135,
    "start_time": "2022-05-04T14:58:26.345Z"
   },
   {
    "duration": 151,
    "start_time": "2022-05-04T14:58:27.614Z"
   },
   {
    "duration": 154,
    "start_time": "2022-05-04T14:58:29.254Z"
   },
   {
    "duration": 15,
    "start_time": "2022-05-04T14:58:30.693Z"
   },
   {
    "duration": 164,
    "start_time": "2022-05-04T14:58:31.523Z"
   },
   {
    "duration": 250,
    "start_time": "2022-05-04T14:58:33.387Z"
   },
   {
    "duration": 260,
    "start_time": "2022-05-04T14:58:38.791Z"
   },
   {
    "duration": 147,
    "start_time": "2022-05-04T15:00:23.007Z"
   },
   {
    "duration": 16,
    "start_time": "2022-05-04T15:00:23.839Z"
   },
   {
    "duration": 152,
    "start_time": "2022-05-04T15:00:28.823Z"
   },
   {
    "duration": 174,
    "start_time": "2022-05-04T15:06:02.658Z"
   },
   {
    "duration": 171,
    "start_time": "2022-05-04T15:06:58.894Z"
   },
   {
    "duration": 174,
    "start_time": "2022-05-04T15:07:13.156Z"
   },
   {
    "duration": 168,
    "start_time": "2022-05-04T15:07:17.578Z"
   },
   {
    "duration": 235,
    "start_time": "2022-05-04T15:08:57.289Z"
   },
   {
    "duration": 179,
    "start_time": "2022-05-04T15:10:02.054Z"
   },
   {
    "duration": 162,
    "start_time": "2022-05-04T15:10:44.337Z"
   },
   {
    "duration": 154,
    "start_time": "2022-05-04T15:10:48.352Z"
   },
   {
    "duration": 146,
    "start_time": "2022-05-04T15:11:25.414Z"
   },
   {
    "duration": 167,
    "start_time": "2022-05-04T15:12:31.398Z"
   },
   {
    "duration": 159,
    "start_time": "2022-05-04T15:13:44.216Z"
   },
   {
    "duration": 152,
    "start_time": "2022-05-04T15:15:22.398Z"
   },
   {
    "duration": 168,
    "start_time": "2022-05-04T15:15:26.356Z"
   },
   {
    "duration": 209,
    "start_time": "2022-05-04T15:15:37.001Z"
   },
   {
    "duration": 175,
    "start_time": "2022-05-04T15:15:52.191Z"
   },
   {
    "duration": 162,
    "start_time": "2022-05-04T15:17:45.550Z"
   },
   {
    "duration": 157,
    "start_time": "2022-05-04T15:17:59.066Z"
   },
   {
    "duration": 165,
    "start_time": "2022-05-04T15:18:15.705Z"
   },
   {
    "duration": 201,
    "start_time": "2022-05-04T15:19:43.494Z"
   },
   {
    "duration": 193,
    "start_time": "2022-05-04T15:19:54.778Z"
   },
   {
    "duration": 140,
    "start_time": "2022-05-04T15:20:53.349Z"
   },
   {
    "duration": 139,
    "start_time": "2022-05-04T15:21:03.821Z"
   },
   {
    "duration": 198,
    "start_time": "2022-05-04T15:21:50.591Z"
   },
   {
    "duration": 180,
    "start_time": "2022-05-04T15:22:14.107Z"
   },
   {
    "duration": 189,
    "start_time": "2022-05-04T17:00:42.391Z"
   },
   {
    "duration": 156,
    "start_time": "2022-05-04T17:03:25.208Z"
   },
   {
    "duration": 229,
    "start_time": "2022-05-04T17:05:45.473Z"
   },
   {
    "duration": 156,
    "start_time": "2022-05-04T18:15:50.417Z"
   },
   {
    "duration": 134,
    "start_time": "2022-05-04T18:17:46.149Z"
   },
   {
    "duration": 146,
    "start_time": "2022-05-04T18:18:22.068Z"
   },
   {
    "duration": 147,
    "start_time": "2022-05-04T18:18:33.496Z"
   },
   {
    "duration": 205,
    "start_time": "2022-05-04T18:20:19.519Z"
   },
   {
    "duration": 134,
    "start_time": "2022-05-04T18:21:50.818Z"
   },
   {
    "duration": 141,
    "start_time": "2022-05-04T18:24:12.385Z"
   },
   {
    "duration": 7,
    "start_time": "2022-05-04T18:56:40.197Z"
   },
   {
    "duration": 5,
    "start_time": "2022-05-04T18:57:45.282Z"
   },
   {
    "duration": 8,
    "start_time": "2022-05-04T18:58:20.408Z"
   },
   {
    "duration": 8,
    "start_time": "2022-05-04T19:01:19.880Z"
   }
  ],
  "kernelspec": {
   "display_name": "Python 3 (ipykernel)",
   "language": "python",
   "name": "python3"
  },
  "language_info": {
   "codemirror_mode": {
    "name": "ipython",
    "version": 3
   },
   "file_extension": ".py",
   "mimetype": "text/x-python",
   "name": "python",
   "nbconvert_exporter": "python",
   "pygments_lexer": "ipython3",
   "version": "3.9.7"
  },
  "toc": {
   "base_numbering": 1,
   "nav_menu": {},
   "number_sections": true,
   "sideBar": true,
   "skip_h1_title": true,
   "title_cell": "Содержание",
   "title_sidebar": "Contents",
   "toc_cell": true,
   "toc_position": {
    "height": "calc(100% - 180px)",
    "left": "10px",
    "top": "150px",
    "width": "422px"
   },
   "toc_section_display": true,
   "toc_window_display": true
  }
 },
 "nbformat": 4,
 "nbformat_minor": 4
}
