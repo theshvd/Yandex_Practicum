{
 "cells": [
  {
   "cell_type": "markdown",
   "metadata": {
    "toc": true
   },
   "source": [
    "<h1>Содержание<span class=\"tocSkip\"></span></h1>\n",
    "<div class=\"toc\"><ul class=\"toc-item\"><li><span><a href=\"#Изучение-данных\" data-toc-modified-id=\"Изучение-данных-1\"><span class=\"toc-item-num\">1&nbsp;&nbsp;</span>Изучение данных</a></span></li><li><span><a href=\"#Подготовка-данных\" data-toc-modified-id=\"Подготовка-данных-2\"><span class=\"toc-item-num\">2&nbsp;&nbsp;</span>Подготовка данных</a></span></li><li><span><a href=\"#Исследование-моделей\" data-toc-modified-id=\"Исследование-моделей-3\"><span class=\"toc-item-num\">3&nbsp;&nbsp;</span>Исследование моделей</a></span><ul class=\"toc-item\"><li><span><a href=\"#Промежуточный-вывод\" data-toc-modified-id=\"Промежуточный-вывод-3.1\"><span class=\"toc-item-num\">3.1&nbsp;&nbsp;</span>Промежуточный вывод</a></span></li></ul></li><li><span><a href=\"#Подготовка-к-расчёту-прибыли\" data-toc-modified-id=\"Подготовка-к-расчёту-прибыли-4\"><span class=\"toc-item-num\">4&nbsp;&nbsp;</span>Подготовка к расчёту прибыли</a></span></li><li><span><a href=\"#Расчёт-прибыли-и-рисков\" data-toc-modified-id=\"Расчёт-прибыли-и-рисков-5\"><span class=\"toc-item-num\">5&nbsp;&nbsp;</span>Расчёт прибыли и рисков</a></span></li><li><span><a href=\"#Общий-вывод\" data-toc-modified-id=\"Общий-вывод-6\"><span class=\"toc-item-num\">6&nbsp;&nbsp;</span>Общий вывод</a></span></li></ul></div>"
   ]
  },
  {
   "cell_type": "markdown",
   "metadata": {},
   "source": [
    "# Выбор локации для скважины"
   ]
  },
  {
   "cell_type": "markdown",
   "metadata": {},
   "source": [
    "Допустим, вы работаете в добывающей компании «ГлавРосГосНефть». Нужно решить, где бурить новую скважину.\n",
    "\n",
    "Вам предоставлены пробы нефти в трёх регионах: в каждом 10 000 месторождений, где измерили качество нефти и объём её запасов. Постройте модель машинного обучения, которая поможет определить регион, где добыча принесёт наибольшую прибыль. Проанализируйте возможную прибыль и риски техникой *Bootstrap.*\n",
    "\n",
    "Шаги для выбора локации:\n",
    "\n",
    "- В избранном регионе ищут месторождения, для каждого определяют значения признаков;\n",
    "- Строят модель и оценивают объём запасов;\n",
    "- Выбирают месторождения с самым высокими оценками значений. Количество месторождений зависит от бюджета компании и стоимости разработки одной скважины;\n",
    "- Прибыль равна суммарной прибыли отобранных месторождений."
   ]
  },
  {
   "cell_type": "markdown",
   "metadata": {},
   "source": [
    "## Изучение данных"
   ]
  },
  {
   "cell_type": "markdown",
   "metadata": {},
   "source": [
    "Подключим необходимые библиотеки"
   ]
  },
  {
   "cell_type": "code",
   "execution_count": 1,
   "metadata": {},
   "outputs": [],
   "source": [
    "import pandas as pd\n",
    "import numpy as np\n",
    "import matplotlib.pyplot as plt\n",
    "import uuid\n",
    "\n",
    "from sklearn.model_selection import train_test_split,cross_val_score\n",
    "from sklearn.preprocessing import StandardScaler\n",
    "from sklearn.linear_model import LinearRegression\n",
    "from sklearn.model_selection import GridSearchCV\n",
    "from sklearn.metrics import mean_squared_error\n",
    "from numpy.random import RandomState\n",
    "from scipy import stats as st"
   ]
  },
  {
   "cell_type": "markdown",
   "metadata": {},
   "source": [
    "Создадим переменную state для того чтобы результаты были везде интерпретируемы"
   ]
  },
  {
   "cell_type": "code",
   "execution_count": 2,
   "metadata": {},
   "outputs": [],
   "source": [
    "state = RandomState(12345)"
   ]
  },
  {
   "cell_type": "markdown",
   "metadata": {},
   "source": [
    "Прочитаем все файлы"
   ]
  },
  {
   "cell_type": "code",
   "execution_count": 3,
   "metadata": {},
   "outputs": [],
   "source": [
    "data_0 = pd.read_csv('/datasets/geo_data_0.csv')\n",
    "data_1 = pd.read_csv('/datasets/geo_data_1.csv')\n",
    "data_2 = pd.read_csv('/datasets/geo_data_2.csv')"
   ]
  },
  {
   "cell_type": "markdown",
   "metadata": {},
   "source": [
    "Посмотрим на данные."
   ]
  },
  {
   "cell_type": "code",
   "execution_count": 4,
   "metadata": {
    "scrolled": true
   },
   "outputs": [
    {
     "data": {
      "text/html": [
       "<div>\n",
       "<style scoped>\n",
       "    .dataframe tbody tr th:only-of-type {\n",
       "        vertical-align: middle;\n",
       "    }\n",
       "\n",
       "    .dataframe tbody tr th {\n",
       "        vertical-align: top;\n",
       "    }\n",
       "\n",
       "    .dataframe thead th {\n",
       "        text-align: right;\n",
       "    }\n",
       "</style>\n",
       "<table border=\"1\" class=\"dataframe\">\n",
       "  <thead>\n",
       "    <tr style=\"text-align: right;\">\n",
       "      <th></th>\n",
       "      <th>id</th>\n",
       "      <th>f0</th>\n",
       "      <th>f1</th>\n",
       "      <th>f2</th>\n",
       "      <th>product</th>\n",
       "    </tr>\n",
       "  </thead>\n",
       "  <tbody>\n",
       "    <tr>\n",
       "      <th>0</th>\n",
       "      <td>txEyH</td>\n",
       "      <td>0.705745</td>\n",
       "      <td>-0.497823</td>\n",
       "      <td>1.221170</td>\n",
       "      <td>105.280062</td>\n",
       "    </tr>\n",
       "    <tr>\n",
       "      <th>1</th>\n",
       "      <td>2acmU</td>\n",
       "      <td>1.334711</td>\n",
       "      <td>-0.340164</td>\n",
       "      <td>4.365080</td>\n",
       "      <td>73.037750</td>\n",
       "    </tr>\n",
       "    <tr>\n",
       "      <th>2</th>\n",
       "      <td>409Wp</td>\n",
       "      <td>1.022732</td>\n",
       "      <td>0.151990</td>\n",
       "      <td>1.419926</td>\n",
       "      <td>85.265647</td>\n",
       "    </tr>\n",
       "    <tr>\n",
       "      <th>3</th>\n",
       "      <td>iJLyR</td>\n",
       "      <td>-0.032172</td>\n",
       "      <td>0.139033</td>\n",
       "      <td>2.978566</td>\n",
       "      <td>168.620776</td>\n",
       "    </tr>\n",
       "    <tr>\n",
       "      <th>4</th>\n",
       "      <td>Xdl7t</td>\n",
       "      <td>1.988431</td>\n",
       "      <td>0.155413</td>\n",
       "      <td>4.751769</td>\n",
       "      <td>154.036647</td>\n",
       "    </tr>\n",
       "    <tr>\n",
       "      <th>...</th>\n",
       "      <td>...</td>\n",
       "      <td>...</td>\n",
       "      <td>...</td>\n",
       "      <td>...</td>\n",
       "      <td>...</td>\n",
       "    </tr>\n",
       "    <tr>\n",
       "      <th>99995</th>\n",
       "      <td>DLsed</td>\n",
       "      <td>0.971957</td>\n",
       "      <td>0.370953</td>\n",
       "      <td>6.075346</td>\n",
       "      <td>110.744026</td>\n",
       "    </tr>\n",
       "    <tr>\n",
       "      <th>99996</th>\n",
       "      <td>QKivN</td>\n",
       "      <td>1.392429</td>\n",
       "      <td>-0.382606</td>\n",
       "      <td>1.273912</td>\n",
       "      <td>122.346843</td>\n",
       "    </tr>\n",
       "    <tr>\n",
       "      <th>99997</th>\n",
       "      <td>3rnvd</td>\n",
       "      <td>1.029585</td>\n",
       "      <td>0.018787</td>\n",
       "      <td>-1.348308</td>\n",
       "      <td>64.375443</td>\n",
       "    </tr>\n",
       "    <tr>\n",
       "      <th>99998</th>\n",
       "      <td>7kl59</td>\n",
       "      <td>0.998163</td>\n",
       "      <td>-0.528582</td>\n",
       "      <td>1.583869</td>\n",
       "      <td>74.040764</td>\n",
       "    </tr>\n",
       "    <tr>\n",
       "      <th>99999</th>\n",
       "      <td>1CWhH</td>\n",
       "      <td>1.764754</td>\n",
       "      <td>-0.266417</td>\n",
       "      <td>5.722849</td>\n",
       "      <td>149.633246</td>\n",
       "    </tr>\n",
       "  </tbody>\n",
       "</table>\n",
       "<p>100000 rows × 5 columns</p>\n",
       "</div>"
      ],
      "text/plain": [
       "          id        f0        f1        f2     product\n",
       "0      txEyH  0.705745 -0.497823  1.221170  105.280062\n",
       "1      2acmU  1.334711 -0.340164  4.365080   73.037750\n",
       "2      409Wp  1.022732  0.151990  1.419926   85.265647\n",
       "3      iJLyR -0.032172  0.139033  2.978566  168.620776\n",
       "4      Xdl7t  1.988431  0.155413  4.751769  154.036647\n",
       "...      ...       ...       ...       ...         ...\n",
       "99995  DLsed  0.971957  0.370953  6.075346  110.744026\n",
       "99996  QKivN  1.392429 -0.382606  1.273912  122.346843\n",
       "99997  3rnvd  1.029585  0.018787 -1.348308   64.375443\n",
       "99998  7kl59  0.998163 -0.528582  1.583869   74.040764\n",
       "99999  1CWhH  1.764754 -0.266417  5.722849  149.633246\n",
       "\n",
       "[100000 rows x 5 columns]"
      ]
     },
     "execution_count": 4,
     "metadata": {},
     "output_type": "execute_result"
    }
   ],
   "source": [
    "data_0"
   ]
  },
  {
   "cell_type": "markdown",
   "metadata": {},
   "source": [
    "Сразу можно заметить несколько вещей: \n",
    "\n",
    "1) Столбец id категориальный признак, его нужно каким-то образом превратить в числовой иначе наша модель не обучится\n",
    "\n",
    "2) Признаки не масштабированны"
   ]
  },
  {
   "cell_type": "markdown",
   "metadata": {},
   "source": [
    "Проверим на пропущенные значения."
   ]
  },
  {
   "cell_type": "code",
   "execution_count": 5,
   "metadata": {
    "scrolled": false
   },
   "outputs": [
    {
     "name": "stdout",
     "output_type": "stream",
     "text": [
      "id         100000\n",
      "f0         100000\n",
      "f1         100000\n",
      "f2         100000\n",
      "product    100000\n",
      "dtype: int64\n",
      "id         100000\n",
      "f0         100000\n",
      "f1         100000\n",
      "f2         100000\n",
      "product    100000\n",
      "dtype: int64\n",
      "id         100000\n",
      "f0         100000\n",
      "f1         100000\n",
      "f2         100000\n",
      "product    100000\n",
      "dtype: int64\n"
     ]
    }
   ],
   "source": [
    "print(data_0.isna().count())\n",
    "print(data_1.isna().count())\n",
    "print(data_2.isna().count())"
   ]
  },
  {
   "cell_type": "markdown",
   "metadata": {},
   "source": [
    "Пропущенных значений нет. "
   ]
  },
  {
   "cell_type": "markdown",
   "metadata": {},
   "source": [
    "## Подготовка данных"
   ]
  },
  {
   "cell_type": "markdown",
   "metadata": {},
   "source": [
    "Закодируем первый столбец числами"
   ]
  },
  {
   "cell_type": "code",
   "execution_count": 6,
   "metadata": {},
   "outputs": [],
   "source": [
    "original_ids = data_0['id'].unique()\n",
    "new_ids = {cid: uuid.uuid4().int for cid in original_ids}\n",
    "data_0['id'] = data_0['id'].map(new_ids)\n",
    "\n",
    "original_ids = data_1['id'].unique()\n",
    "new_ids = {cid: uuid.uuid4().int for cid in original_ids}\n",
    "data_1['id'] = data_1['id'].map(new_ids)\n",
    "\n",
    "original_ids = data_2['id'].unique()\n",
    "new_ids = {cid: uuid.uuid4().int for cid in original_ids}\n",
    "data_2['id'] = data_2['id'].map(new_ids)"
   ]
  },
  {
   "cell_type": "markdown",
   "metadata": {},
   "source": [
    "Проверим как это выглядит."
   ]
  },
  {
   "cell_type": "code",
   "execution_count": 7,
   "metadata": {
    "scrolled": true
   },
   "outputs": [
    {
     "data": {
      "text/html": [
       "<div>\n",
       "<style scoped>\n",
       "    .dataframe tbody tr th:only-of-type {\n",
       "        vertical-align: middle;\n",
       "    }\n",
       "\n",
       "    .dataframe tbody tr th {\n",
       "        vertical-align: top;\n",
       "    }\n",
       "\n",
       "    .dataframe thead th {\n",
       "        text-align: right;\n",
       "    }\n",
       "</style>\n",
       "<table border=\"1\" class=\"dataframe\">\n",
       "  <thead>\n",
       "    <tr style=\"text-align: right;\">\n",
       "      <th></th>\n",
       "      <th>id</th>\n",
       "      <th>f0</th>\n",
       "      <th>f1</th>\n",
       "      <th>f2</th>\n",
       "      <th>product</th>\n",
       "    </tr>\n",
       "  </thead>\n",
       "  <tbody>\n",
       "    <tr>\n",
       "      <th>0</th>\n",
       "      <td>285733147758128245174639659121929154911</td>\n",
       "      <td>0.705745</td>\n",
       "      <td>-0.497823</td>\n",
       "      <td>1.221170</td>\n",
       "      <td>105.280062</td>\n",
       "    </tr>\n",
       "    <tr>\n",
       "      <th>1</th>\n",
       "      <td>291437057158451021262409398500965574636</td>\n",
       "      <td>1.334711</td>\n",
       "      <td>-0.340164</td>\n",
       "      <td>4.365080</td>\n",
       "      <td>73.037750</td>\n",
       "    </tr>\n",
       "    <tr>\n",
       "      <th>2</th>\n",
       "      <td>1996419335217927801204263377164625680</td>\n",
       "      <td>1.022732</td>\n",
       "      <td>0.151990</td>\n",
       "      <td>1.419926</td>\n",
       "      <td>85.265647</td>\n",
       "    </tr>\n",
       "    <tr>\n",
       "      <th>3</th>\n",
       "      <td>108808472674288430102840343973935872911</td>\n",
       "      <td>-0.032172</td>\n",
       "      <td>0.139033</td>\n",
       "      <td>2.978566</td>\n",
       "      <td>168.620776</td>\n",
       "    </tr>\n",
       "    <tr>\n",
       "      <th>4</th>\n",
       "      <td>226118646396275046050774616482906218062</td>\n",
       "      <td>1.988431</td>\n",
       "      <td>0.155413</td>\n",
       "      <td>4.751769</td>\n",
       "      <td>154.036647</td>\n",
       "    </tr>\n",
       "    <tr>\n",
       "      <th>...</th>\n",
       "      <td>...</td>\n",
       "      <td>...</td>\n",
       "      <td>...</td>\n",
       "      <td>...</td>\n",
       "      <td>...</td>\n",
       "    </tr>\n",
       "    <tr>\n",
       "      <th>99995</th>\n",
       "      <td>124707955564475099066633969033621228892</td>\n",
       "      <td>0.971957</td>\n",
       "      <td>0.370953</td>\n",
       "      <td>6.075346</td>\n",
       "      <td>110.744026</td>\n",
       "    </tr>\n",
       "    <tr>\n",
       "      <th>99996</th>\n",
       "      <td>284861992397546301689285032932341404931</td>\n",
       "      <td>1.392429</td>\n",
       "      <td>-0.382606</td>\n",
       "      <td>1.273912</td>\n",
       "      <td>122.346843</td>\n",
       "    </tr>\n",
       "    <tr>\n",
       "      <th>99997</th>\n",
       "      <td>20547835362198663713495218422505149865</td>\n",
       "      <td>1.029585</td>\n",
       "      <td>0.018787</td>\n",
       "      <td>-1.348308</td>\n",
       "      <td>64.375443</td>\n",
       "    </tr>\n",
       "    <tr>\n",
       "      <th>99998</th>\n",
       "      <td>122504906687315650134843975116883399622</td>\n",
       "      <td>0.998163</td>\n",
       "      <td>-0.528582</td>\n",
       "      <td>1.583869</td>\n",
       "      <td>74.040764</td>\n",
       "    </tr>\n",
       "    <tr>\n",
       "      <th>99999</th>\n",
       "      <td>239771019826852827076821571567810931484</td>\n",
       "      <td>1.764754</td>\n",
       "      <td>-0.266417</td>\n",
       "      <td>5.722849</td>\n",
       "      <td>149.633246</td>\n",
       "    </tr>\n",
       "  </tbody>\n",
       "</table>\n",
       "<p>100000 rows × 5 columns</p>\n",
       "</div>"
      ],
      "text/plain": [
       "                                            id        f0        f1        f2  \\\n",
       "0      285733147758128245174639659121929154911  0.705745 -0.497823  1.221170   \n",
       "1      291437057158451021262409398500965574636  1.334711 -0.340164  4.365080   \n",
       "2        1996419335217927801204263377164625680  1.022732  0.151990  1.419926   \n",
       "3      108808472674288430102840343973935872911 -0.032172  0.139033  2.978566   \n",
       "4      226118646396275046050774616482906218062  1.988431  0.155413  4.751769   \n",
       "...                                        ...       ...       ...       ...   \n",
       "99995  124707955564475099066633969033621228892  0.971957  0.370953  6.075346   \n",
       "99996  284861992397546301689285032932341404931  1.392429 -0.382606  1.273912   \n",
       "99997   20547835362198663713495218422505149865  1.029585  0.018787 -1.348308   \n",
       "99998  122504906687315650134843975116883399622  0.998163 -0.528582  1.583869   \n",
       "99999  239771019826852827076821571567810931484  1.764754 -0.266417  5.722849   \n",
       "\n",
       "          product  \n",
       "0      105.280062  \n",
       "1       73.037750  \n",
       "2       85.265647  \n",
       "3      168.620776  \n",
       "4      154.036647  \n",
       "...           ...  \n",
       "99995  110.744026  \n",
       "99996  122.346843  \n",
       "99997   64.375443  \n",
       "99998   74.040764  \n",
       "99999  149.633246  \n",
       "\n",
       "[100000 rows x 5 columns]"
      ]
     },
     "execution_count": 7,
     "metadata": {},
     "output_type": "execute_result"
    }
   ],
   "source": [
    "data_0"
   ]
  },
  {
   "cell_type": "markdown",
   "metadata": {},
   "source": [
    "Отлично, нам подходит."
   ]
  },
  {
   "cell_type": "markdown",
   "metadata": {},
   "source": [
    "(Возможно, стоило просто удалить столбец ID из данных, однако тогда мы потерям уникальный идентификатор конкретной скважины, а это может сыграть против нас)"
   ]
  },
  {
   "cell_type": "markdown",
   "metadata": {},
   "source": [
    "Разделяем данные на X и Y"
   ]
  },
  {
   "cell_type": "code",
   "execution_count": 8,
   "metadata": {},
   "outputs": [],
   "source": [
    "X0 = data_0.drop(['product'],axis = 1 )\n",
    "X1 = data_1.drop(['product'],axis = 1 )\n",
    "X2 = data_2.drop(['product'],axis = 1 )"
   ]
  },
  {
   "cell_type": "code",
   "execution_count": 9,
   "metadata": {},
   "outputs": [],
   "source": [
    "y0 = data_0['product']\n",
    "y1 = data_1['product']\n",
    "y2 = data_2['product']"
   ]
  },
  {
   "cell_type": "markdown",
   "metadata": {},
   "source": [
    "Делим на тренировочную и валидационную выборки"
   ]
  },
  {
   "cell_type": "code",
   "execution_count": 10,
   "metadata": {},
   "outputs": [],
   "source": [
    "X_train0, X_valid0, y_train0, y_valid0 = train_test_split(X0,y0 , test_size=0.25, random_state=42)\n",
    "X_train1, X_valid1, y_train1, y_valid1 = train_test_split(X1,y1 , test_size=0.25, random_state=42)\n",
    "X_train2, X_valid2, y_train2, y_valid2 = train_test_split(X2,y2 , test_size=0.25, random_state=42)"
   ]
  },
  {
   "cell_type": "code",
   "execution_count": 11,
   "metadata": {},
   "outputs": [],
   "source": [
    "y_train0 = y_train0.reset_index(drop=True)\n",
    "y_valid0 = y_valid0.reset_index(drop=True)\n",
    "y_train1 = y_train1.reset_index(drop=True)\n",
    "y_valid1 = y_valid1.reset_index(drop=True)\n",
    "y_train2 = y_train2.reset_index(drop=True)\n",
    "y_valid2 = y_valid2.reset_index(drop=True)"
   ]
  },
  {
   "cell_type": "markdown",
   "metadata": {},
   "source": [
    "Стандартизируем X"
   ]
  },
  {
   "cell_type": "code",
   "execution_count": 12,
   "metadata": {},
   "outputs": [
    {
     "data": {
      "text/plain": [
       "StandardScaler()"
      ]
     },
     "execution_count": 12,
     "metadata": {},
     "output_type": "execute_result"
    }
   ],
   "source": [
    "pd.options.mode.chained_assignment = None\n",
    "scaler0 = StandardScaler()\n",
    "scaler0.fit(X_train0)\n",
    "scaler1 = StandardScaler()\n",
    "scaler1.fit(X_train1)\n",
    "scaler2 = StandardScaler()\n",
    "scaler2.fit(X_train2)"
   ]
  },
  {
   "cell_type": "code",
   "execution_count": 13,
   "metadata": {},
   "outputs": [],
   "source": [
    "X_train0 = scaler0.transform(X_train0)\n",
    "X_valid0 = scaler0.transform(X_valid0)\n",
    "X_train1 = scaler1.transform(X_train1)\n",
    "X_valid1 = scaler1.transform(X_valid1)\n",
    "X_train2 = scaler2.transform(X_train2)\n",
    "X_valid2 = scaler2.transform(X_valid2)"
   ]
  },
  {
   "cell_type": "markdown",
   "metadata": {},
   "source": [
    "## Исследование моделей"
   ]
  },
  {
   "cell_type": "markdown",
   "metadata": {},
   "source": [
    "Обучаем модели на кросс валидации с подбором параметров и находим для каждой значение RMSE"
   ]
  },
  {
   "cell_type": "code",
   "execution_count": 14,
   "metadata": {},
   "outputs": [],
   "source": [
    "def GridSearch (est,params,X_train,y_train):\n",
    "    grid_search_cv_est = GridSearchCV(est,params,cv = 5)\n",
    "    grid_search_cv_est.fit(X_train,y_train)\n",
    "    best_param = grid_search_cv_est.best_params_\n",
    "    best_est_est = grid_search_cv_est.best_estimator_\n",
    "    return best_est_est,best_param"
   ]
  },
  {
   "cell_type": "code",
   "execution_count": 15,
   "metadata": {},
   "outputs": [],
   "source": [
    "clf = LinearRegression()\n",
    "params = {'fit_intercept':['False','True'],\n",
    "         'normalize':['False','True'],\n",
    "         'positive':['False','True']}"
   ]
  },
  {
   "cell_type": "code",
   "execution_count": 16,
   "metadata": {},
   "outputs": [
    {
     "name": "stdout",
     "output_type": "stream",
     "text": [
      "{'fit_intercept': 'False', 'normalize': 'False', 'positive': 'False'}\n"
     ]
    }
   ],
   "source": [
    "best_clf0,best_param = GridSearch(clf,params,X_train0,y_train0)\n",
    "print(best_param)"
   ]
  },
  {
   "cell_type": "code",
   "execution_count": 17,
   "metadata": {},
   "outputs": [],
   "source": [
    "prediction_values0 = best_clf0.predict(X_valid0)\n",
    "#prediction_values0 = pd.Series(prediction_values0)\n",
    "#prediction_values0 =prediction_values0.reset_index(drop=True)\n",
    "\n",
    "RMSE0 = mean_squared_error(y_valid0, prediction_values0, squared=False)"
   ]
  },
  {
   "cell_type": "code",
   "execution_count": 18,
   "metadata": {},
   "outputs": [
    {
     "name": "stdout",
     "output_type": "stream",
     "text": [
      "{'fit_intercept': 'False', 'normalize': 'False', 'positive': 'False'}\n"
     ]
    }
   ],
   "source": [
    "best_clf1,best_param = GridSearch(clf,params,X_train1,y_train1)\n",
    "print(best_param)"
   ]
  },
  {
   "cell_type": "code",
   "execution_count": 19,
   "metadata": {},
   "outputs": [],
   "source": [
    "prediction_values1 = best_clf1.predict(X_valid1)\n",
    "#prediction_values1= pd.Series(prediction_values1)\n",
    "#prediction_values1 =prediction_values1.reset_index(drop=True)\n",
    "\n",
    "\n",
    "RMSE1 = mean_squared_error(y_valid1, prediction_values1, squared=False)"
   ]
  },
  {
   "cell_type": "code",
   "execution_count": 20,
   "metadata": {},
   "outputs": [
    {
     "name": "stdout",
     "output_type": "stream",
     "text": [
      "{'fit_intercept': 'False', 'normalize': 'False', 'positive': 'False'}\n"
     ]
    }
   ],
   "source": [
    "best_clf2,best_param = GridSearch(clf,params,X_train2,y_train2)\n",
    "print(best_param)"
   ]
  },
  {
   "cell_type": "code",
   "execution_count": 21,
   "metadata": {},
   "outputs": [],
   "source": [
    "prediction_values2 = best_clf2.predict(X_valid2)\n",
    "#prediction_values2 = pd.Series(prediction_values2)\n",
    "#prediction_values2 =prediction_values2.reset_index(drop=True)\n",
    "\n",
    "RMSE2 = mean_squared_error(y_valid2, prediction_values2, squared=False)"
   ]
  },
  {
   "cell_type": "code",
   "execution_count": 22,
   "metadata": {
    "scrolled": true
   },
   "outputs": [
    {
     "name": "stdout",
     "output_type": "stream",
     "text": [
      "Средний запас предсказанного сырья для первого региона: 92.36152527770898 тыс.бар, RMSE = 38.25440212760018\n",
      "Средний запас предсказанного сырья для второго региона: 68.72121729260876 тыс.бар, RMSE = 1.5951752353767459\n",
      "Средний запас предсказанного сырья для третьего региона: 94.77114786990678 тыс.бар, RMSE = 40.147122635445314\n"
     ]
    }
   ],
   "source": [
    "print(f'Средний запас предсказанного сырья для первого региона: {prediction_values0.mean()} тыс.бар, RMSE = {RMSE0}')\n",
    "print(f'Средний запас предсказанного сырья для второго региона: {prediction_values1.mean()} тыс.бар, RMSE = {RMSE1}')\n",
    "print(f'Средний запас предсказанного сырья для третьего региона: {prediction_values2.mean()} тыс.бар, RMSE = {RMSE2}')"
   ]
  },
  {
   "cell_type": "markdown",
   "metadata": {},
   "source": [
    "### Промежуточный вывод"
   ]
  },
  {
   "cell_type": "markdown",
   "metadata": {},
   "source": [
    "Как мы видим, лучший запас предсказанного сырья в первом регионе, 92 тысячи баррелей, однако в этом же регионе достаточно большое значение RMSE. Во втором регионе 68 тысяч баррелей, но малое значение RMSЕ. Третий регион отличается средним количеством запаса нефти, но достаточно большой ошибкой.\n",
    "\n",
    "Вывод: Первый регион хоть и с большим средним запасом нефти, но очень большой ошибкой, размер ошибки такой, что в случае разницы между предсказанным и фактическим объёмом нефти в скважине хотя бы на среднее( а вероятнее всего на большее чем среднее, так как среднее не показывает максимального значения ошибки, очевидно) объём  фактической нефти в скважине получится примерно такой же как во втором регионе, а во втором регионе ошибка крайне маленькая и соответственно он хоть и ниже, но точнее показывает результаты предсказаний. Так и зачем нам рисковать, если есть второй регион в котором мы практически точно знаем какой будет результат. Третий регион совсем не подходит так как там и небольшое значение запаса сырья, и высокая ошибка. \n",
    "\n",
    "Лучше всего второй регион"
   ]
  },
  {
   "cell_type": "markdown",
   "metadata": {},
   "source": [
    "## Подготовка к расчёту прибыли"
   ]
  },
  {
   "cell_type": "markdown",
   "metadata": {},
   "source": [
    "Рассчитаем достаточный объём сырья для безубыточной разработки новой скважины:"
   ]
  },
  {
   "cell_type": "code",
   "execution_count": 23,
   "metadata": {
    "scrolled": true
   },
   "outputs": [
    {
     "name": "stdout",
     "output_type": "stream",
     "text": [
      "Точка безубыточности: 22222 тыс. баррелей\n"
     ]
    }
   ],
   "source": [
    "BUDGET = 10**10 \n",
    "iNCOME_PER_BARREL = 450 * 10**3\n",
    "N = BUDGET / iNCOME_PER_BARREL\n",
    "print(\"Точка безубыточности: {0:.0f} тыс. баррелей\".format(N))"
   ]
  },
  {
   "cell_type": "markdown",
   "metadata": {},
   "source": [
    "Если один баррель стоит 450 рублей, то региону необходимо добыть более 22 миллионов баррелей чтобы окупить бюджет разработки новой скважины"
   ]
  },
  {
   "cell_type": "code",
   "execution_count": 24,
   "metadata": {
    "scrolled": true
   },
   "outputs": [
    {
     "name": "stdout",
     "output_type": "stream",
     "text": [
      "Средний объем нефти в скважине для безубыточного функционирования: 112.0\n"
     ]
    }
   ],
   "source": [
    "print(\"Средний объем нефти в скважине для безубыточного функционирования:\", np.ceil(N/200))"
   ]
  },
  {
   "cell_type": "markdown",
   "metadata": {},
   "source": [
    "Из этого можно сделать вывод, что запас сырья в скважинах меньше, чем точка безубыточности."
   ]
  },
  {
   "cell_type": "markdown",
   "metadata": {},
   "source": [
    "## Расчёт прибыли и рисков "
   ]
  },
  {
   "cell_type": "code",
   "execution_count": 25,
   "metadata": {},
   "outputs": [],
   "source": [
    "def profit_1(predictions, target):\n",
    "    top_preds = predictions.sort_values(ascending=False)\n",
    "    top_target = target[top_preds.index][:200]\n",
    "    revenue = top_target.sum() * iNCOME_PER_BARREL\n",
    "    return revenue - BUDGET"
   ]
  },
  {
   "cell_type": "code",
   "execution_count": 26,
   "metadata": {},
   "outputs": [],
   "source": [
    "state = np.random.RandomState(42)"
   ]
  },
  {
   "cell_type": "code",
   "execution_count": 27,
   "metadata": {},
   "outputs": [],
   "source": [
    "def func (prediction_values,target):\n",
    "    prediction_values = pd.Series(prediction_values)\n",
    "    revenue = []\n",
    "    for _ in range(1000):\n",
    "        target_sample = target.sample(500, replace=True, random_state=state)\n",
    "        predictions_sample = prediction_values[target_sample.index]\n",
    "        revenue.append(profit_1(predictions_sample, target_sample))   # ПОДСТАВИЛ НОВУЮ ФУНКЦИЮ profit_1\n",
    "    lower = int(np.percentile(revenue, 2.5))\n",
    "    higher = int(np.percentile(revenue, 97.5))\n",
    "    mean_revenue = int(sum(revenue) / len(revenue))\n",
    "    risk = st.percentileofscore(revenue, 0)\n",
    "    revenue = pd.Series(revenue)\n",
    "    print(f'Средняя прибыль: {mean_revenue}')\n",
    "    print(f'Риск убытков: {risk}')\n",
    "    print(f'95% доверительный интервал равен = {int(lower)} - {int(higher)}')\n",
    "    plt.title('Распределение прибыли')\n",
    "    plt.xlabel('Средняя прибыль')\n",
    "    plt.ylabel('Частота')\n",
    "    revenue.plot(kind = 'hist')"
   ]
  },
  {
   "cell_type": "code",
   "execution_count": 28,
   "metadata": {
    "scrolled": false
   },
   "outputs": [
    {
     "name": "stdout",
     "output_type": "stream",
     "text": [
      "Средняя прибыль: 342770989\n",
      "Риск убытков: 10.6\n",
      "95% доверительный интервал равен = -216572727 - 864202897\n"
     ]
    },
    {
     "data": {
      "image/png": "[encoded data removed]",
      "text/plain": [
       "<Figure size 432x288 with 1 Axes>"
      ]
     },
     "metadata": {
      "needs_background": "light"
     },
     "output_type": "display_data"
    }
   ],
   "source": [
    "func(prediction_values0,y_valid0)"
   ]
  },
  {
   "cell_type": "code",
   "execution_count": 29,
   "metadata": {},
   "outputs": [
    {
     "name": "stdout",
     "output_type": "stream",
     "text": [
      "Средняя прибыль: 491589138\n",
      "Риск убытков: 0.8\n",
      "95% доверительный интервал равен = 63791499 - 914338452\n"
     ]
    },
    {
     "data": {
      "image/png": "[encoded data removed]",
      "text/plain": [
       "<Figure size 432x288 with 1 Axes>"
      ]
     },
     "metadata": {
      "needs_background": "light"
     },
     "output_type": "display_data"
    }
   ],
   "source": [
    "func(prediction_values1,y_valid1)"
   ]
  },
  {
   "cell_type": "code",
   "execution_count": 30,
   "metadata": {
    "scrolled": false
   },
   "outputs": [
    {
     "name": "stdout",
     "output_type": "stream",
     "text": [
      "Средняя прибыль: 407630036\n",
      "Риск убытков: 7.3\n",
      "95% доверительный интервал равен = -121880326 - 961779732\n"
     ]
    },
    {
     "data": {
      "image/png": "[encoded data removed]",
      "text/plain": [
       "<Figure size 432x288 with 1 Axes>"
      ]
     },
     "metadata": {
      "needs_background": "light"
     },
     "output_type": "display_data"
    }
   ],
   "source": [
    "func(prediction_values2,y_valid2 )"
   ]
  },
  {
   "cell_type": "markdown",
   "metadata": {},
   "source": [
    "## Общий вывод"
   ]
  },
  {
   "cell_type": "markdown",
   "metadata": {},
   "source": [
    "Как мы видим, самый подходящий регион для разработки новой скважины эт орегион под номером 2, поскольку риски убытков наименьшие, а средняя прибыль наибольшая."
   ]
  }
 ],
 "metadata": {
  "ExecuteTimeLog": [
   {
    "duration": 1405,
    "start_time": "2022-06-29T07:18:15.988Z"
   },
   {
    "duration": 712,
    "start_time": "2022-06-29T07:19:14.726Z"
   },
   {
    "duration": 15,
    "start_time": "2022-06-29T07:19:21.925Z"
   },
   {
    "duration": 12,
    "start_time": "2022-06-29T07:19:43.283Z"
   },
   {
    "duration": 12,
    "start_time": "2022-06-29T07:19:45.010Z"
   },
   {
    "duration": 3,
    "start_time": "2022-06-29T07:19:47.330Z"
   },
   {
    "duration": 11,
    "start_time": "2022-06-29T07:19:49.682Z"
   },
   {
    "duration": 17,
    "start_time": "2022-06-29T07:53:29.313Z"
   },
   {
    "duration": 7,
    "start_time": "2022-06-29T07:53:56.557Z"
   },
   {
    "duration": 115,
    "start_time": "2022-06-29T07:55:42.101Z"
   },
   {
    "duration": 18,
    "start_time": "2022-06-29T07:55:46.562Z"
   },
   {
    "duration": 3,
    "start_time": "2022-06-29T07:55:46.867Z"
   },
   {
    "duration": 39,
    "start_time": "2022-06-29T07:55:47.242Z"
   },
   {
    "duration": 35,
    "start_time": "2022-06-29T07:56:50.233Z"
   },
   {
    "duration": 5,
    "start_time": "2022-06-29T07:58:14.742Z"
   },
   {
    "duration": 4,
    "start_time": "2022-06-29T07:58:22.846Z"
   },
   {
    "duration": 39,
    "start_time": "2022-06-29T07:58:31.125Z"
   },
   {
    "duration": 24,
    "start_time": "2022-06-29T07:59:05.177Z"
   },
   {
    "duration": 30,
    "start_time": "2022-06-29T07:59:20.739Z"
   },
   {
    "duration": 4,
    "start_time": "2022-06-29T07:59:24.682Z"
   },
   {
    "duration": 385,
    "start_time": "2022-06-29T07:59:24.966Z"
   },
   {
    "duration": 16,
    "start_time": "2022-06-29T07:59:25.375Z"
   },
   {
    "duration": 15,
    "start_time": "2022-06-29T07:59:26.036Z"
   },
   {
    "duration": 3,
    "start_time": "2022-06-29T07:59:26.421Z"
   },
   {
    "duration": 38,
    "start_time": "2022-06-29T07:59:27.257Z"
   },
   {
    "duration": 5,
    "start_time": "2022-06-29T08:00:45.731Z"
   },
   {
    "duration": 5,
    "start_time": "2022-06-29T08:00:48.982Z"
   },
   {
    "duration": 6,
    "start_time": "2022-06-29T08:00:56.078Z"
   },
   {
    "duration": 94,
    "start_time": "2022-06-29T08:01:17.031Z"
   },
   {
    "duration": 51,
    "start_time": "2022-06-29T08:01:26.911Z"
   },
   {
    "duration": 41,
    "start_time": "2022-06-29T08:02:40.250Z"
   },
   {
    "duration": 23,
    "start_time": "2022-06-29T08:06:15.742Z"
   },
   {
    "duration": 5,
    "start_time": "2022-06-29T08:06:19.547Z"
   },
   {
    "duration": 10,
    "start_time": "2022-06-29T08:06:19.860Z"
   },
   {
    "duration": 304,
    "start_time": "2022-06-29T08:06:20.451Z"
   },
   {
    "duration": 4,
    "start_time": "2022-06-29T08:06:25.394Z"
   },
   {
    "duration": 313,
    "start_time": "2022-06-29T08:06:25.684Z"
   },
   {
    "duration": 12,
    "start_time": "2022-06-29T08:06:26.082Z"
   },
   {
    "duration": 372,
    "start_time": "2022-06-29T08:06:26.773Z"
   },
   {
    "duration": 29,
    "start_time": "2022-06-29T08:06:30.761Z"
   },
   {
    "duration": 3,
    "start_time": "2022-06-29T08:06:40.811Z"
   },
   {
    "duration": 11,
    "start_time": "2022-06-29T08:06:43.511Z"
   },
   {
    "duration": 8,
    "start_time": "2022-06-29T08:06:49.358Z"
   },
   {
    "duration": 29,
    "start_time": "2022-06-29T08:06:52.012Z"
   },
   {
    "duration": 51,
    "start_time": "2022-06-29T08:07:10.388Z"
   },
   {
    "duration": 12,
    "start_time": "2022-06-29T08:07:11.829Z"
   },
   {
    "duration": 3,
    "start_time": "2022-06-29T08:07:12.406Z"
   },
   {
    "duration": 50,
    "start_time": "2022-06-29T08:07:13.892Z"
   },
   {
    "duration": 11,
    "start_time": "2022-06-29T08:07:22.685Z"
   },
   {
    "duration": 4,
    "start_time": "2022-06-29T08:11:45.119Z"
   },
   {
    "duration": 329,
    "start_time": "2022-06-29T08:11:45.825Z"
   },
   {
    "duration": 13,
    "start_time": "2022-06-29T08:11:46.363Z"
   },
   {
    "duration": 390,
    "start_time": "2022-06-29T08:11:47.087Z"
   },
   {
    "duration": 12,
    "start_time": "2022-06-29T08:11:48.032Z"
   },
   {
    "duration": 3,
    "start_time": "2022-06-29T08:11:48.583Z"
   },
   {
    "duration": 49,
    "start_time": "2022-06-29T08:11:49.117Z"
   },
   {
    "duration": 31,
    "start_time": "2022-06-29T08:11:49.678Z"
   },
   {
    "duration": 76,
    "start_time": "2022-06-29T08:11:50.598Z"
   },
   {
    "duration": 1185,
    "start_time": "2022-06-29T08:12:23.347Z"
   },
   {
    "duration": 13,
    "start_time": "2022-06-29T08:12:25.069Z"
   },
   {
    "duration": 3,
    "start_time": "2022-06-29T08:12:25.650Z"
   },
   {
    "duration": 44,
    "start_time": "2022-06-29T08:12:26.019Z"
   },
   {
    "duration": 45,
    "start_time": "2022-06-29T08:12:26.406Z"
   },
   {
    "duration": 115,
    "start_time": "2022-06-29T08:12:26.936Z"
   },
   {
    "duration": 4,
    "start_time": "2022-06-29T08:14:01.105Z"
   },
   {
    "duration": 5,
    "start_time": "2022-06-29T08:14:21.764Z"
   },
   {
    "duration": 3,
    "start_time": "2022-06-29T08:17:04.824Z"
   },
   {
    "duration": 317,
    "start_time": "2022-06-29T08:17:04.978Z"
   },
   {
    "duration": 10,
    "start_time": "2022-06-29T08:17:05.297Z"
   },
   {
    "duration": 1109,
    "start_time": "2022-06-29T08:17:05.309Z"
   },
   {
    "duration": 11,
    "start_time": "2022-06-29T08:17:06.420Z"
   },
   {
    "duration": 4,
    "start_time": "2022-06-29T08:17:06.432Z"
   },
   {
    "duration": 50,
    "start_time": "2022-06-29T08:17:06.438Z"
   },
   {
    "duration": 31,
    "start_time": "2022-06-29T08:17:06.489Z"
   },
   {
    "duration": 103,
    "start_time": "2022-06-29T08:17:06.522Z"
   },
   {
    "duration": 3,
    "start_time": "2022-06-29T08:17:06.627Z"
   },
   {
    "duration": 12,
    "start_time": "2022-06-29T08:17:56.359Z"
   },
   {
    "duration": 5,
    "start_time": "2022-06-29T08:18:10.124Z"
   },
   {
    "duration": 312,
    "start_time": "2022-06-29T08:18:10.288Z"
   },
   {
    "duration": 13,
    "start_time": "2022-06-29T08:18:10.602Z"
   },
   {
    "duration": 16,
    "start_time": "2022-06-29T08:18:14.672Z"
   },
   {
    "duration": 13,
    "start_time": "2022-06-29T08:18:20.457Z"
   },
   {
    "duration": 12,
    "start_time": "2022-06-29T08:18:26.117Z"
   },
   {
    "duration": 14,
    "start_time": "2022-06-29T08:18:30.688Z"
   },
   {
    "duration": 10,
    "start_time": "2022-06-29T08:18:34.902Z"
   },
   {
    "duration": 8,
    "start_time": "2022-06-29T08:20:10.515Z"
   },
   {
    "duration": 4,
    "start_time": "2022-06-29T08:20:15.098Z"
   },
   {
    "duration": 293,
    "start_time": "2022-06-29T08:20:15.500Z"
   },
   {
    "duration": 10,
    "start_time": "2022-06-29T08:20:15.795Z"
   },
   {
    "duration": 1109,
    "start_time": "2022-06-29T08:20:15.807Z"
   },
   {
    "duration": 11,
    "start_time": "2022-06-29T08:20:16.918Z"
   },
   {
    "duration": 8,
    "start_time": "2022-06-29T08:20:16.931Z"
   },
   {
    "duration": 47,
    "start_time": "2022-06-29T08:20:16.940Z"
   },
   {
    "duration": 28,
    "start_time": "2022-06-29T08:20:16.988Z"
   },
   {
    "duration": 92,
    "start_time": "2022-06-29T08:20:17.018Z"
   },
   {
    "duration": 8,
    "start_time": "2022-06-29T08:20:17.111Z"
   },
   {
    "duration": 3,
    "start_time": "2022-06-29T08:20:30.655Z"
   },
   {
    "duration": 4,
    "start_time": "2022-06-29T08:24:43.840Z"
   },
   {
    "duration": 329,
    "start_time": "2022-06-29T08:24:44.308Z"
   },
   {
    "duration": 12,
    "start_time": "2022-06-29T08:24:44.639Z"
   },
   {
    "duration": 1093,
    "start_time": "2022-06-29T08:24:44.652Z"
   },
   {
    "duration": 13,
    "start_time": "2022-06-29T08:24:45.747Z"
   },
   {
    "duration": 6,
    "start_time": "2022-06-29T08:24:45.762Z"
   },
   {
    "duration": 44,
    "start_time": "2022-06-29T08:24:45.769Z"
   },
   {
    "duration": 50,
    "start_time": "2022-06-29T08:24:45.815Z"
   },
   {
    "duration": 97,
    "start_time": "2022-06-29T08:24:45.867Z"
   },
   {
    "duration": 8,
    "start_time": "2022-06-29T08:24:45.966Z"
   },
   {
    "duration": 393,
    "start_time": "2022-06-29T08:27:15.868Z"
   },
   {
    "duration": 280,
    "start_time": "2022-06-29T08:32:00.400Z"
   },
   {
    "duration": 76,
    "start_time": "2022-06-29T08:32:08.640Z"
   },
   {
    "duration": 758,
    "start_time": "2022-06-29T08:32:13.434Z"
   },
   {
    "duration": 10,
    "start_time": "2022-06-29T08:33:39.475Z"
   },
   {
    "duration": 278,
    "start_time": "2022-06-29T08:33:51.686Z"
   },
   {
    "duration": 162,
    "start_time": "2022-06-29T08:34:55.209Z"
   },
   {
    "duration": 334,
    "start_time": "2022-06-29T08:35:22.519Z"
   },
   {
    "duration": 193,
    "start_time": "2022-06-29T08:35:26.082Z"
   },
   {
    "duration": 180,
    "start_time": "2022-06-29T08:35:45.197Z"
   },
   {
    "duration": 754,
    "start_time": "2022-06-29T08:35:58.642Z"
   },
   {
    "duration": 67,
    "start_time": "2022-06-29T08:36:50.900Z"
   },
   {
    "duration": 93,
    "start_time": "2022-06-29T08:36:51.481Z"
   },
   {
    "duration": 485,
    "start_time": "2022-06-29T08:36:52.072Z"
   },
   {
    "duration": 10,
    "start_time": "2022-06-29T08:44:51.490Z"
   },
   {
    "duration": 3,
    "start_time": "2022-06-29T08:47:36.616Z"
   },
   {
    "duration": 12,
    "start_time": "2022-06-29T08:47:54.034Z"
   },
   {
    "duration": 659,
    "start_time": "2022-06-29T08:48:05.503Z"
   },
   {
    "duration": 3424,
    "start_time": "2022-06-29T08:49:13.841Z"
   },
   {
    "duration": 3187,
    "start_time": "2022-06-29T08:49:34.592Z"
   },
   {
    "duration": 5,
    "start_time": "2022-06-29T08:49:46.201Z"
   },
   {
    "duration": 7,
    "start_time": "2022-06-29T08:52:03.749Z"
   },
   {
    "duration": 8,
    "start_time": "2022-06-29T08:52:04.235Z"
   },
   {
    "duration": 3,
    "start_time": "2022-06-29T08:52:25.520Z"
   },
   {
    "duration": 3833,
    "start_time": "2022-06-29T08:52:26.429Z"
   },
   {
    "duration": 7,
    "start_time": "2022-06-29T08:52:30.991Z"
   },
   {
    "duration": 3152,
    "start_time": "2022-06-29T08:52:31.600Z"
   },
   {
    "duration": 16,
    "start_time": "2022-06-29T08:52:34.755Z"
   },
   {
    "duration": 120,
    "start_time": "2022-06-29T08:52:34.775Z"
   },
   {
    "duration": 0,
    "start_time": "2022-06-29T08:52:34.958Z"
   },
   {
    "duration": 6888,
    "start_time": "2022-06-29T08:52:42.687Z"
   },
   {
    "duration": 83,
    "start_time": "2022-06-29T08:52:49.577Z"
   },
   {
    "duration": 5,
    "start_time": "2022-06-29T08:55:50.567Z"
   },
   {
    "duration": 3,
    "start_time": "2022-06-29T08:57:47.784Z"
   },
   {
    "duration": 404,
    "start_time": "2022-06-29T08:57:47.919Z"
   },
   {
    "duration": 14,
    "start_time": "2022-06-29T08:57:48.326Z"
   },
   {
    "duration": 1276,
    "start_time": "2022-06-29T08:57:48.354Z"
   },
   {
    "duration": 23,
    "start_time": "2022-06-29T08:57:49.633Z"
   },
   {
    "duration": 5,
    "start_time": "2022-06-29T08:57:49.657Z"
   },
   {
    "duration": 43,
    "start_time": "2022-06-29T08:57:49.667Z"
   },
   {
    "duration": 47,
    "start_time": "2022-06-29T08:57:49.712Z"
   },
   {
    "duration": 97,
    "start_time": "2022-06-29T08:57:49.769Z"
   },
   {
    "duration": 4,
    "start_time": "2022-06-29T08:57:49.871Z"
   },
   {
    "duration": 10,
    "start_time": "2022-06-29T08:57:49.878Z"
   },
   {
    "duration": 3282,
    "start_time": "2022-06-29T08:57:49.890Z"
   },
   {
    "duration": 79,
    "start_time": "2022-06-29T08:57:53.174Z"
   },
   {
    "duration": 3697,
    "start_time": "2022-06-29T08:57:53.255Z"
   },
   {
    "duration": 14,
    "start_time": "2022-06-29T08:57:56.957Z"
   },
   {
    "duration": 8206,
    "start_time": "2022-06-29T08:57:56.973Z"
   },
   {
    "duration": 10,
    "start_time": "2022-06-29T08:58:05.181Z"
   },
   {
    "duration": 178,
    "start_time": "2022-06-29T08:58:05.192Z"
   },
   {
    "duration": 4,
    "start_time": "2022-06-29T09:00:42.891Z"
   },
   {
    "duration": 4,
    "start_time": "2022-06-29T09:00:52.323Z"
   },
   {
    "duration": 3,
    "start_time": "2022-06-29T09:20:54.606Z"
   },
   {
    "duration": 3,
    "start_time": "2022-06-29T09:21:49.447Z"
   },
   {
    "duration": 2,
    "start_time": "2022-06-29T09:21:55.509Z"
   },
   {
    "duration": 4,
    "start_time": "2022-06-29T09:21:58.884Z"
   },
   {
    "duration": 3,
    "start_time": "2022-06-29T09:22:04.732Z"
   },
   {
    "duration": 4,
    "start_time": "2022-06-29T09:23:07.666Z"
   },
   {
    "duration": 12,
    "start_time": "2022-06-29T09:23:59.091Z"
   },
   {
    "duration": 9,
    "start_time": "2022-06-29T09:25:23.155Z"
   },
   {
    "duration": 3,
    "start_time": "2022-06-29T09:25:25.602Z"
   },
   {
    "duration": 4,
    "start_time": "2022-06-29T09:28:48.989Z"
   },
   {
    "duration": 4,
    "start_time": "2022-06-29T09:28:53.019Z"
   },
   {
    "duration": 4,
    "start_time": "2022-06-29T09:30:45.403Z"
   },
   {
    "duration": 4,
    "start_time": "2022-06-29T09:31:59.420Z"
   },
   {
    "duration": 3,
    "start_time": "2022-06-29T09:32:38.308Z"
   },
   {
    "duration": 3,
    "start_time": "2022-06-29T09:32:41.322Z"
   },
   {
    "duration": 4,
    "start_time": "2022-06-29T10:12:31.937Z"
   },
   {
    "duration": 4,
    "start_time": "2022-06-29T10:16:31.895Z"
   },
   {
    "duration": 4,
    "start_time": "2022-06-29T10:16:59.505Z"
   },
   {
    "duration": 4,
    "start_time": "2022-06-29T10:17:13.090Z"
   },
   {
    "duration": 4,
    "start_time": "2022-06-29T10:17:16.665Z"
   },
   {
    "duration": 51,
    "start_time": "2022-06-29T10:18:14.209Z"
   },
   {
    "duration": 3,
    "start_time": "2022-06-29T10:18:16.248Z"
   },
   {
    "duration": 4,
    "start_time": "2022-06-29T10:18:23.871Z"
   },
   {
    "duration": 3,
    "start_time": "2022-06-29T10:18:40.752Z"
   },
   {
    "duration": 4,
    "start_time": "2022-06-29T10:18:55.544Z"
   },
   {
    "duration": 4,
    "start_time": "2022-06-29T10:19:03.443Z"
   },
   {
    "duration": 53,
    "start_time": "2022-06-29T10:19:12.834Z"
   },
   {
    "duration": 66,
    "start_time": "2022-06-29T10:19:14.683Z"
   },
   {
    "duration": 101,
    "start_time": "2022-06-29T10:19:16.866Z"
   },
   {
    "duration": 4,
    "start_time": "2022-06-29T10:19:18.789Z"
   },
   {
    "duration": 4,
    "start_time": "2022-06-29T10:19:22.772Z"
   },
   {
    "duration": 4,
    "start_time": "2022-06-29T10:19:29.516Z"
   },
   {
    "duration": 4,
    "start_time": "2022-06-29T10:24:01.288Z"
   },
   {
    "duration": 4,
    "start_time": "2022-06-29T10:25:06.344Z"
   },
   {
    "duration": 4,
    "start_time": "2022-06-29T10:44:02.554Z"
   },
   {
    "duration": 4,
    "start_time": "2022-06-29T10:44:07.760Z"
   },
   {
    "duration": 4,
    "start_time": "2022-06-29T10:44:09.934Z"
   },
   {
    "duration": 3,
    "start_time": "2022-06-29T10:44:16.248Z"
   },
   {
    "duration": 8,
    "start_time": "2022-06-29T11:08:04.273Z"
   },
   {
    "duration": 9,
    "start_time": "2022-06-29T11:08:17.799Z"
   },
   {
    "duration": 9,
    "start_time": "2022-06-29T11:08:35.088Z"
   },
   {
    "duration": 5,
    "start_time": "2022-06-29T11:19:01.842Z"
   },
   {
    "duration": 4,
    "start_time": "2022-06-29T11:19:42.124Z"
   },
   {
    "duration": 5,
    "start_time": "2022-06-29T11:19:44.085Z"
   },
   {
    "duration": 5,
    "start_time": "2022-06-29T11:19:47.026Z"
   },
   {
    "duration": 5,
    "start_time": "2022-06-29T11:20:00.785Z"
   },
   {
    "duration": 5,
    "start_time": "2022-06-29T11:20:01.140Z"
   },
   {
    "duration": 5,
    "start_time": "2022-06-29T11:20:01.528Z"
   },
   {
    "duration": 39,
    "start_time": "2022-06-29T11:24:46.146Z"
   },
   {
    "duration": 4,
    "start_time": "2022-06-29T11:40:30.566Z"
   },
   {
    "duration": 5,
    "start_time": "2022-06-29T11:40:37.769Z"
   },
   {
    "duration": 5,
    "start_time": "2022-06-29T11:40:49.683Z"
   },
   {
    "duration": 5,
    "start_time": "2022-06-29T11:56:49.507Z"
   },
   {
    "duration": 4,
    "start_time": "2022-06-29T11:56:49.783Z"
   },
   {
    "duration": 5,
    "start_time": "2022-06-29T11:56:50.279Z"
   },
   {
    "duration": 6,
    "start_time": "2022-06-29T11:58:38.677Z"
   },
   {
    "duration": 5,
    "start_time": "2022-06-29T11:58:53.145Z"
   },
   {
    "duration": 5,
    "start_time": "2022-06-29T11:59:12.953Z"
   },
   {
    "duration": 4,
    "start_time": "2022-06-29T11:59:13.738Z"
   },
   {
    "duration": 1705,
    "start_time": "2022-06-29T18:05:00.861Z"
   },
   {
    "duration": 738,
    "start_time": "2022-06-29T18:05:02.569Z"
   },
   {
    "duration": 18,
    "start_time": "2022-06-29T18:05:03.308Z"
   },
   {
    "duration": 10,
    "start_time": "2022-06-29T18:05:03.328Z"
   },
   {
    "duration": 1467,
    "start_time": "2022-06-29T18:05:03.340Z"
   },
   {
    "duration": 11,
    "start_time": "2022-06-29T18:05:04.809Z"
   },
   {
    "duration": 21,
    "start_time": "2022-06-29T18:05:04.822Z"
   },
   {
    "duration": 58,
    "start_time": "2022-06-29T18:05:04.845Z"
   },
   {
    "duration": 43,
    "start_time": "2022-06-29T18:05:04.905Z"
   },
   {
    "duration": 146,
    "start_time": "2022-06-29T18:05:04.951Z"
   },
   {
    "duration": 4,
    "start_time": "2022-06-29T18:05:05.099Z"
   },
   {
    "duration": 7,
    "start_time": "2022-06-29T18:05:05.105Z"
   },
   {
    "duration": 3367,
    "start_time": "2022-06-29T18:05:05.114Z"
   },
   {
    "duration": 276,
    "start_time": "2022-06-29T18:05:08.483Z"
   },
   {
    "duration": 0,
    "start_time": "2022-06-29T18:05:08.761Z"
   },
   {
    "duration": 0,
    "start_time": "2022-06-29T18:05:08.762Z"
   },
   {
    "duration": 0,
    "start_time": "2022-06-29T18:05:08.772Z"
   },
   {
    "duration": 1,
    "start_time": "2022-06-29T18:05:08.777Z"
   },
   {
    "duration": 0,
    "start_time": "2022-06-29T18:05:08.779Z"
   },
   {
    "duration": 0,
    "start_time": "2022-06-29T18:05:08.780Z"
   },
   {
    "duration": 0,
    "start_time": "2022-06-29T18:05:08.780Z"
   },
   {
    "duration": 0,
    "start_time": "2022-06-29T18:05:08.781Z"
   },
   {
    "duration": 1,
    "start_time": "2022-06-29T18:05:08.781Z"
   },
   {
    "duration": 0,
    "start_time": "2022-06-29T18:05:08.784Z"
   },
   {
    "duration": 0,
    "start_time": "2022-06-29T18:05:08.785Z"
   },
   {
    "duration": 0,
    "start_time": "2022-06-29T18:05:08.787Z"
   },
   {
    "duration": 1,
    "start_time": "2022-06-29T18:05:08.787Z"
   },
   {
    "duration": 0,
    "start_time": "2022-06-29T18:05:08.789Z"
   },
   {
    "duration": 6,
    "start_time": "2022-06-29T18:05:44.164Z"
   },
   {
    "duration": 3838,
    "start_time": "2022-06-29T18:05:44.739Z"
   },
   {
    "duration": 12,
    "start_time": "2022-06-29T18:05:48.669Z"
   },
   {
    "duration": 0,
    "start_time": "2022-06-29T18:05:48.767Z"
   },
   {
    "duration": 0,
    "start_time": "2022-06-29T18:05:48.769Z"
   },
   {
    "duration": 0,
    "start_time": "2022-06-29T18:05:48.770Z"
   },
   {
    "duration": 5,
    "start_time": "2022-06-29T18:06:05.801Z"
   },
   {
    "duration": 8030,
    "start_time": "2022-06-29T18:06:06.249Z"
   },
   {
    "duration": 5,
    "start_time": "2022-06-29T18:06:14.281Z"
   },
   {
    "duration": 83,
    "start_time": "2022-06-29T18:06:14.287Z"
   },
   {
    "duration": 97,
    "start_time": "2022-06-29T18:06:14.372Z"
   },
   {
    "duration": 21,
    "start_time": "2022-06-29T18:06:14.471Z"
   },
   {
    "duration": 17,
    "start_time": "2022-06-29T18:06:14.494Z"
   },
   {
    "duration": 32,
    "start_time": "2022-06-29T18:06:14.513Z"
   },
   {
    "duration": 25,
    "start_time": "2022-06-29T18:06:14.546Z"
   },
   {
    "duration": 17,
    "start_time": "2022-06-29T18:06:14.572Z"
   },
   {
    "duration": 33,
    "start_time": "2022-06-29T18:06:14.591Z"
   },
   {
    "duration": 25,
    "start_time": "2022-06-29T18:06:14.626Z"
   },
   {
    "duration": 18,
    "start_time": "2022-06-29T18:06:14.653Z"
   },
   {
    "duration": 3,
    "start_time": "2022-06-29T18:11:40.325Z"
   },
   {
    "duration": 3,
    "start_time": "2022-06-29T18:11:45.710Z"
   },
   {
    "duration": 9,
    "start_time": "2022-06-29T18:13:19.984Z"
   },
   {
    "duration": 1630,
    "start_time": "2022-06-29T18:13:47.620Z"
   },
   {
    "duration": 15434,
    "start_time": "2022-06-29T18:13:57.417Z"
   },
   {
    "duration": 608,
    "start_time": "2022-06-29T18:20:32.703Z"
   },
   {
    "duration": 121,
    "start_time": "2022-06-29T18:20:43.701Z"
   },
   {
    "duration": 165,
    "start_time": "2022-06-29T18:22:01.440Z"
   },
   {
    "duration": 120,
    "start_time": "2022-06-29T18:22:02.135Z"
   },
   {
    "duration": 4,
    "start_time": "2022-06-29T18:22:38.485Z"
   },
   {
    "duration": 10,
    "start_time": "2022-06-29T18:22:55.242Z"
   },
   {
    "duration": 8,
    "start_time": "2022-06-29T18:22:55.508Z"
   },
   {
    "duration": 168,
    "start_time": "2022-06-29T18:22:59.532Z"
   },
   {
    "duration": 113,
    "start_time": "2022-06-29T18:23:00.301Z"
   },
   {
    "duration": 167,
    "start_time": "2022-06-29T18:23:05.975Z"
   },
   {
    "duration": 121,
    "start_time": "2022-06-29T18:23:06.491Z"
   },
   {
    "duration": 188,
    "start_time": "2022-06-29T18:23:13.782Z"
   },
   {
    "duration": 129,
    "start_time": "2022-06-29T18:23:14.114Z"
   },
   {
    "duration": 124,
    "start_time": "2022-06-29T18:25:54.011Z"
   },
   {
    "duration": 202,
    "start_time": "2022-06-29T18:26:15.545Z"
   },
   {
    "duration": 127,
    "start_time": "2022-06-29T18:26:17.506Z"
   },
   {
    "duration": 165,
    "start_time": "2022-06-29T18:26:29.509Z"
   },
   {
    "duration": 531,
    "start_time": "2022-06-29T18:26:29.781Z"
   },
   {
    "duration": 159,
    "start_time": "2022-06-29T18:27:56.610Z"
   },
   {
    "duration": 124,
    "start_time": "2022-06-29T18:27:56.838Z"
   },
   {
    "duration": 4,
    "start_time": "2022-06-29T18:33:54.227Z"
   },
   {
    "duration": 4,
    "start_time": "2022-06-29T18:34:00.126Z"
   },
   {
    "duration": 4,
    "start_time": "2022-06-29T18:34:02.418Z"
   },
   {
    "duration": 3,
    "start_time": "2022-06-29T18:34:12.183Z"
   },
   {
    "duration": 3,
    "start_time": "2022-06-29T18:34:14.124Z"
   },
   {
    "duration": 171,
    "start_time": "2022-06-29T18:34:17.921Z"
   },
   {
    "duration": 1434,
    "start_time": "2022-07-01T19:51:50.879Z"
   },
   {
    "duration": 4,
    "start_time": "2022-07-01T19:51:52.315Z"
   },
   {
    "duration": 741,
    "start_time": "2022-07-01T19:51:52.320Z"
   },
   {
    "duration": 28,
    "start_time": "2022-07-01T19:51:53.062Z"
   },
   {
    "duration": 10,
    "start_time": "2022-07-01T19:51:53.092Z"
   },
   {
    "duration": 1246,
    "start_time": "2022-07-01T19:51:53.103Z"
   },
   {
    "duration": 9,
    "start_time": "2022-07-01T19:51:54.351Z"
   },
   {
    "duration": 13,
    "start_time": "2022-07-01T19:51:54.367Z"
   },
   {
    "duration": 45,
    "start_time": "2022-07-01T19:51:54.382Z"
   },
   {
    "duration": 49,
    "start_time": "2022-07-01T19:51:54.428Z"
   },
   {
    "duration": 111,
    "start_time": "2022-07-01T19:51:54.479Z"
   },
   {
    "duration": 4,
    "start_time": "2022-07-01T19:51:54.591Z"
   },
   {
    "duration": 7,
    "start_time": "2022-07-01T19:51:54.596Z"
   },
   {
    "duration": 3170,
    "start_time": "2022-07-01T19:51:54.606Z"
   },
   {
    "duration": 5,
    "start_time": "2022-07-01T19:51:57.778Z"
   },
   {
    "duration": 3495,
    "start_time": "2022-07-01T19:51:57.785Z"
   },
   {
    "duration": 8,
    "start_time": "2022-07-01T19:52:01.282Z"
   },
   {
    "duration": 8085,
    "start_time": "2022-07-01T19:52:01.291Z"
   },
   {
    "duration": 7,
    "start_time": "2022-07-01T19:52:09.378Z"
   },
   {
    "duration": 89,
    "start_time": "2022-07-01T19:52:09.387Z"
   },
   {
    "duration": 7,
    "start_time": "2022-07-01T19:52:09.481Z"
   },
   {
    "duration": 27,
    "start_time": "2022-07-01T19:52:09.570Z"
   },
   {
    "duration": 25,
    "start_time": "2022-07-01T19:52:09.598Z"
   },
   {
    "duration": 6,
    "start_time": "2022-07-01T19:52:09.624Z"
   },
   {
    "duration": 21,
    "start_time": "2022-07-01T19:52:09.632Z"
   },
   {
    "duration": 9,
    "start_time": "2022-07-01T19:52:09.654Z"
   },
   {
    "duration": 22,
    "start_time": "2022-07-01T19:52:09.664Z"
   },
   {
    "duration": 9,
    "start_time": "2022-07-01T19:52:09.688Z"
   },
   {
    "duration": 184,
    "start_time": "2022-07-01T19:52:09.698Z"
   },
   {
    "duration": 132,
    "start_time": "2022-07-01T19:52:09.884Z"
   },
   {
    "duration": 175,
    "start_time": "2022-07-01T19:52:10.018Z"
   },
   {
    "duration": 125,
    "start_time": "2022-07-01T19:52:10.194Z"
   },
   {
    "duration": 8,
    "start_time": "2022-07-01T19:55:52.434Z"
   },
   {
    "duration": 7,
    "start_time": "2022-07-01T19:57:27.419Z"
   },
   {
    "duration": 8,
    "start_time": "2022-07-01T19:58:06.778Z"
   },
   {
    "duration": 7,
    "start_time": "2022-07-01T19:58:19.327Z"
   },
   {
    "duration": 7,
    "start_time": "2022-07-01T19:58:25.196Z"
   },
   {
    "duration": 53,
    "start_time": "2022-07-01T20:02:16.182Z"
   },
   {
    "duration": 89,
    "start_time": "2022-07-01T20:06:41.418Z"
   },
   {
    "duration": 6,
    "start_time": "2022-07-01T20:07:03.998Z"
   },
   {
    "duration": 9,
    "start_time": "2022-07-01T20:10:54.820Z"
   },
   {
    "duration": 5,
    "start_time": "2022-07-01T20:11:06.329Z"
   },
   {
    "duration": 4,
    "start_time": "2022-07-01T20:13:53.646Z"
   },
   {
    "duration": 5,
    "start_time": "2022-07-01T20:14:08.612Z"
   },
   {
    "duration": 108,
    "start_time": "2022-07-01T20:14:29.773Z"
   },
   {
    "duration": 171,
    "start_time": "2022-07-01T20:56:57.303Z"
   },
   {
    "duration": 3,
    "start_time": "2022-07-01T20:57:07.897Z"
   },
   {
    "duration": 355,
    "start_time": "2022-07-01T20:58:20.545Z"
   },
   {
    "duration": 6,
    "start_time": "2022-07-01T20:58:44.248Z"
   },
   {
    "duration": 17,
    "start_time": "2022-07-01T20:59:23.743Z"
   },
   {
    "duration": 384,
    "start_time": "2022-07-01T20:59:48.489Z"
   },
   {
    "duration": 4,
    "start_time": "2022-07-01T21:00:08.250Z"
   },
   {
    "duration": 299,
    "start_time": "2022-07-01T21:01:17.345Z"
   },
   {
    "duration": 9,
    "start_time": "2022-07-01T21:07:56.517Z"
   },
   {
    "duration": 17,
    "start_time": "2022-07-01T21:08:02.691Z"
   },
   {
    "duration": 19,
    "start_time": "2022-07-01T21:08:07.657Z"
   },
   {
    "duration": 12,
    "start_time": "2022-07-01T21:08:11.375Z"
   },
   {
    "duration": 4,
    "start_time": "2022-07-01T21:08:46.789Z"
   },
   {
    "duration": 11,
    "start_time": "2022-07-01T21:08:47.442Z"
   },
   {
    "duration": 16,
    "start_time": "2022-07-01T21:08:51.425Z"
   },
   {
    "duration": 4,
    "start_time": "2022-07-01T21:10:09.000Z"
   },
   {
    "duration": 18,
    "start_time": "2022-07-01T21:10:09.442Z"
   },
   {
    "duration": 48,
    "start_time": "2022-07-01T21:10:25.442Z"
   },
   {
    "duration": 51,
    "start_time": "2022-07-01T21:10:40.068Z"
   },
   {
    "duration": 103,
    "start_time": "2022-07-01T21:12:24.564Z"
   },
   {
    "duration": 18,
    "start_time": "2022-07-01T21:12:29.365Z"
   },
   {
    "duration": 16,
    "start_time": "2022-07-01T21:13:28.106Z"
   },
   {
    "duration": 19,
    "start_time": "2022-07-01T21:13:46.026Z"
   },
   {
    "duration": 22,
    "start_time": "2022-07-01T21:15:49.315Z"
   },
   {
    "duration": 19,
    "start_time": "2022-07-01T21:15:58.648Z"
   },
   {
    "duration": 404,
    "start_time": "2022-07-01T21:17:57.364Z"
   },
   {
    "duration": 417,
    "start_time": "2022-07-01T21:18:18.223Z"
   },
   {
    "duration": 377,
    "start_time": "2022-07-01T21:18:30.023Z"
   },
   {
    "duration": 51,
    "start_time": "2022-07-01T21:18:40.248Z"
   },
   {
    "duration": 18,
    "start_time": "2022-07-01T21:18:46.506Z"
   },
   {
    "duration": 19,
    "start_time": "2022-07-01T21:18:56.575Z"
   },
   {
    "duration": 16,
    "start_time": "2022-07-01T21:19:13.043Z"
   },
   {
    "duration": 16,
    "start_time": "2022-07-01T21:20:16.544Z"
   },
   {
    "duration": 16,
    "start_time": "2022-07-01T21:20:25.647Z"
   },
   {
    "duration": 15,
    "start_time": "2022-07-01T21:20:33.065Z"
   },
   {
    "duration": 14,
    "start_time": "2022-07-01T21:20:46.178Z"
   },
   {
    "duration": 49,
    "start_time": "2022-07-01T21:21:37.442Z"
   },
   {
    "duration": 16,
    "start_time": "2022-07-01T21:21:43.610Z"
   },
   {
    "duration": 16,
    "start_time": "2022-07-01T21:21:58.582Z"
   },
   {
    "duration": 13,
    "start_time": "2022-07-01T21:22:11.802Z"
   },
   {
    "duration": 122,
    "start_time": "2022-07-01T21:22:12.052Z"
   },
   {
    "duration": 5,
    "start_time": "2022-07-01T21:22:38.590Z"
   },
   {
    "duration": 414,
    "start_time": "2022-07-01T21:23:04.802Z"
   },
   {
    "duration": 6,
    "start_time": "2022-07-01T21:23:48.867Z"
   },
   {
    "duration": 508,
    "start_time": "2022-07-01T21:23:53.210Z"
   },
   {
    "duration": 541,
    "start_time": "2022-07-01T21:24:10.179Z"
   },
   {
    "duration": 4,
    "start_time": "2022-07-01T21:24:43.125Z"
   },
   {
    "duration": 648,
    "start_time": "2022-07-01T21:24:44.371Z"
   },
   {
    "duration": 636,
    "start_time": "2022-07-01T21:25:01.703Z"
   },
   {
    "duration": 522,
    "start_time": "2022-07-01T21:25:04.645Z"
   },
   {
    "duration": 511,
    "start_time": "2022-07-01T21:25:20.220Z"
   },
   {
    "duration": 547,
    "start_time": "2022-07-01T21:25:27.311Z"
   },
   {
    "duration": 5,
    "start_time": "2022-07-01T21:28:16.260Z"
   },
   {
    "duration": 528,
    "start_time": "2022-07-01T21:28:17.585Z"
   },
   {
    "duration": 4,
    "start_time": "2022-07-01T21:28:22.351Z"
   },
   {
    "duration": 497,
    "start_time": "2022-07-01T21:28:23.199Z"
   },
   {
    "duration": 5,
    "start_time": "2022-07-01T21:29:17.518Z"
   },
   {
    "duration": 3,
    "start_time": "2022-07-01T21:29:22.333Z"
   },
   {
    "duration": 4,
    "start_time": "2022-07-01T21:29:25.415Z"
   },
   {
    "duration": 4,
    "start_time": "2022-07-01T21:29:41.004Z"
   },
   {
    "duration": 527,
    "start_time": "2022-07-01T21:29:41.547Z"
   },
   {
    "duration": 5,
    "start_time": "2022-07-01T21:30:32.911Z"
   },
   {
    "duration": 472,
    "start_time": "2022-07-01T21:30:33.143Z"
   },
   {
    "duration": 467,
    "start_time": "2022-07-01T21:40:20.047Z"
   },
   {
    "duration": 484,
    "start_time": "2022-07-01T21:40:20.516Z"
   },
   {
    "duration": 1410,
    "start_time": "2022-07-02T19:47:05.368Z"
   },
   {
    "duration": 3,
    "start_time": "2022-07-02T19:47:06.779Z"
   },
   {
    "duration": 780,
    "start_time": "2022-07-02T19:47:06.783Z"
   },
   {
    "duration": 17,
    "start_time": "2022-07-02T19:47:07.564Z"
   },
   {
    "duration": 9,
    "start_time": "2022-07-02T19:47:07.583Z"
   },
   {
    "duration": 1194,
    "start_time": "2022-07-02T19:47:07.594Z"
   },
   {
    "duration": 11,
    "start_time": "2022-07-02T19:47:08.790Z"
   },
   {
    "duration": 5,
    "start_time": "2022-07-02T19:47:08.803Z"
   },
   {
    "duration": 68,
    "start_time": "2022-07-02T19:47:08.809Z"
   },
   {
    "duration": 39,
    "start_time": "2022-07-02T19:47:08.878Z"
   },
   {
    "duration": 148,
    "start_time": "2022-07-02T19:47:08.919Z"
   },
   {
    "duration": 3,
    "start_time": "2022-07-02T19:47:09.070Z"
   },
   {
    "duration": 9,
    "start_time": "2022-07-02T19:47:09.074Z"
   },
   {
    "duration": 3169,
    "start_time": "2022-07-02T19:47:09.086Z"
   },
   {
    "duration": 8,
    "start_time": "2022-07-02T19:47:12.257Z"
   },
   {
    "duration": 3087,
    "start_time": "2022-07-02T19:47:12.268Z"
   },
   {
    "duration": 8,
    "start_time": "2022-07-02T19:47:15.357Z"
   },
   {
    "duration": 7989,
    "start_time": "2022-07-02T19:47:15.366Z"
   },
   {
    "duration": 9,
    "start_time": "2022-07-02T19:47:23.357Z"
   },
   {
    "duration": 86,
    "start_time": "2022-07-02T19:47:23.367Z"
   },
   {
    "duration": 3,
    "start_time": "2022-07-02T19:47:23.454Z"
   },
   {
    "duration": 3,
    "start_time": "2022-07-02T19:47:23.459Z"
   },
   {
    "duration": 104,
    "start_time": "2022-07-02T19:47:23.464Z"
   },
   {
    "duration": 11,
    "start_time": "2022-07-02T19:47:23.570Z"
   },
   {
    "duration": 5,
    "start_time": "2022-07-02T19:47:23.583Z"
   },
   {
    "duration": 5,
    "start_time": "2022-07-02T19:47:23.589Z"
   },
   {
    "duration": 105,
    "start_time": "2022-07-02T19:47:23.595Z"
   },
   {
    "duration": 0,
    "start_time": "2022-07-02T19:47:23.701Z"
   },
   {
    "duration": 0,
    "start_time": "2022-07-02T19:47:23.703Z"
   },
   {
    "duration": 5,
    "start_time": "2022-07-02T19:50:04.286Z"
   },
   {
    "duration": 12,
    "start_time": "2022-07-02T19:50:04.909Z"
   },
   {
    "duration": 11,
    "start_time": "2022-07-02T19:50:05.737Z"
   },
   {
    "duration": 11,
    "start_time": "2022-07-02T19:50:05.878Z"
   },
   {
    "duration": 5,
    "start_time": "2022-07-02T19:50:17.523Z"
   },
   {
    "duration": 10,
    "start_time": "2022-07-02T19:50:17.934Z"
   },
   {
    "duration": 12,
    "start_time": "2022-07-02T19:50:18.316Z"
   },
   {
    "duration": 11,
    "start_time": "2022-07-02T19:50:18.791Z"
   },
   {
    "duration": 4,
    "start_time": "2022-07-02T19:50:35.699Z"
   },
   {
    "duration": 506,
    "start_time": "2022-07-02T19:50:36.066Z"
   },
   {
    "duration": 489,
    "start_time": "2022-07-02T19:50:36.673Z"
   },
   {
    "duration": 527,
    "start_time": "2022-07-02T19:50:37.340Z"
   },
   {
    "duration": 6,
    "start_time": "2022-07-02T19:51:01.113Z"
   },
   {
    "duration": 505,
    "start_time": "2022-07-02T19:51:01.406Z"
   },
   {
    "duration": 528,
    "start_time": "2022-07-02T19:51:02.886Z"
   },
   {
    "duration": 492,
    "start_time": "2022-07-02T19:51:03.416Z"
   },
   {
    "duration": 4,
    "start_time": "2022-07-02T19:56:41.108Z"
   },
   {
    "duration": 17,
    "start_time": "2022-07-02T19:56:41.476Z"
   },
   {
    "duration": 4,
    "start_time": "2022-07-02T19:56:57.281Z"
   },
   {
    "duration": 15,
    "start_time": "2022-07-02T19:56:57.693Z"
   },
   {
    "duration": 4,
    "start_time": "2022-07-02T19:57:07.720Z"
   },
   {
    "duration": 15,
    "start_time": "2022-07-02T19:57:08.233Z"
   },
   {
    "duration": 4,
    "start_time": "2022-07-02T19:59:11.167Z"
   },
   {
    "duration": 65,
    "start_time": "2022-07-02T19:59:11.926Z"
   },
   {
    "duration": 474,
    "start_time": "2022-07-02T19:59:12.707Z"
   },
   {
    "duration": 5,
    "start_time": "2022-07-02T19:59:25.036Z"
   },
   {
    "duration": 51,
    "start_time": "2022-07-02T19:59:25.371Z"
   },
   {
    "duration": 418,
    "start_time": "2022-07-02T19:59:25.723Z"
   },
   {
    "duration": 55,
    "start_time": "2022-07-02T19:59:47.248Z"
   },
   {
    "duration": 6,
    "start_time": "2022-07-02T19:59:54.623Z"
   },
   {
    "duration": 60,
    "start_time": "2022-07-02T19:59:55.505Z"
   },
   {
    "duration": 545,
    "start_time": "2022-07-02T19:59:55.769Z"
   },
   {
    "duration": 4,
    "start_time": "2022-07-02T20:09:55.965Z"
   },
   {
    "duration": 4,
    "start_time": "2022-07-02T20:10:00.906Z"
   },
   {
    "duration": 99,
    "start_time": "2022-07-02T20:10:01.281Z"
   },
   {
    "duration": 518,
    "start_time": "2022-07-02T20:10:01.771Z"
   },
   {
    "duration": 4,
    "start_time": "2022-07-02T20:10:52.522Z"
   },
   {
    "duration": 62,
    "start_time": "2022-07-02T20:10:52.810Z"
   },
   {
    "duration": 523,
    "start_time": "2022-07-02T20:10:53.163Z"
   },
   {
    "duration": 501,
    "start_time": "2022-07-02T20:11:38.542Z"
   },
   {
    "duration": 492,
    "start_time": "2022-07-02T20:11:39.056Z"
   },
   {
    "duration": 545,
    "start_time": "2022-07-02T20:11:39.789Z"
   },
   {
    "duration": 6,
    "start_time": "2022-07-02T20:13:55.338Z"
   },
   {
    "duration": 5,
    "start_time": "2022-07-02T20:14:02.084Z"
   },
   {
    "duration": 598,
    "start_time": "2022-07-02T20:14:02.816Z"
   },
   {
    "duration": 5,
    "start_time": "2022-07-02T20:15:19.438Z"
   },
   {
    "duration": 829,
    "start_time": "2022-07-02T20:15:20.527Z"
   },
   {
    "duration": 5,
    "start_time": "2022-07-02T20:15:33.977Z"
   },
   {
    "duration": 587,
    "start_time": "2022-07-02T20:15:34.547Z"
   },
   {
    "duration": 5,
    "start_time": "2022-07-02T20:21:56.634Z"
   },
   {
    "duration": 525,
    "start_time": "2022-07-02T20:21:57.576Z"
   },
   {
    "duration": 86,
    "start_time": "2022-07-02T20:22:12.263Z"
   },
   {
    "duration": 560,
    "start_time": "2022-07-02T20:22:12.906Z"
   },
   {
    "duration": 5,
    "start_time": "2022-07-02T20:23:17.935Z"
   },
   {
    "duration": 544,
    "start_time": "2022-07-02T20:23:18.185Z"
   },
   {
    "duration": 536,
    "start_time": "2022-07-02T20:23:18.731Z"
   },
   {
    "duration": 525,
    "start_time": "2022-07-02T20:23:19.268Z"
   },
   {
    "duration": 6,
    "start_time": "2022-07-02T20:25:02.336Z"
   },
   {
    "duration": 413,
    "start_time": "2022-07-02T20:25:03.267Z"
   },
   {
    "duration": 412,
    "start_time": "2022-07-02T20:25:03.899Z"
   },
   {
    "duration": 0,
    "start_time": "2022-07-02T20:25:04.313Z"
   },
   {
    "duration": 7,
    "start_time": "2022-07-02T20:25:38.426Z"
   },
   {
    "duration": 527,
    "start_time": "2022-07-02T20:25:38.935Z"
   },
   {
    "duration": 530,
    "start_time": "2022-07-02T20:25:39.466Z"
   },
   {
    "duration": 577,
    "start_time": "2022-07-02T20:25:39.998Z"
   },
   {
    "duration": 6,
    "start_time": "2022-07-02T20:31:11.492Z"
   },
   {
    "duration": 542,
    "start_time": "2022-07-02T20:31:14.937Z"
   },
   {
    "duration": 6,
    "start_time": "2022-07-02T20:33:03.806Z"
   },
   {
    "duration": 344,
    "start_time": "2022-07-02T20:33:04.965Z"
   },
   {
    "duration": 4,
    "start_time": "2022-07-02T20:33:12.838Z"
   },
   {
    "duration": 402,
    "start_time": "2022-07-02T20:33:13.470Z"
   },
   {
    "duration": 7,
    "start_time": "2022-07-02T20:34:57.809Z"
   },
   {
    "duration": 4,
    "start_time": "2022-07-02T20:35:02.598Z"
   },
   {
    "duration": 522,
    "start_time": "2022-07-02T20:35:03.081Z"
   },
   {
    "duration": 6,
    "start_time": "2022-07-02T20:35:28.379Z"
   },
   {
    "duration": 548,
    "start_time": "2022-07-02T20:35:29.026Z"
   },
   {
    "duration": 6,
    "start_time": "2022-07-02T20:36:55.433Z"
   },
   {
    "duration": 519,
    "start_time": "2022-07-02T20:36:55.998Z"
   },
   {
    "duration": 8,
    "start_time": "2022-07-02T20:37:01.446Z"
   },
   {
    "duration": 540,
    "start_time": "2022-07-02T20:37:02.025Z"
   },
   {
    "duration": 5,
    "start_time": "2022-07-02T20:52:04.094Z"
   },
   {
    "duration": 529,
    "start_time": "2022-07-02T20:52:05.084Z"
   },
   {
    "duration": 100,
    "start_time": "2022-07-02T20:53:31.216Z"
   },
   {
    "duration": 397,
    "start_time": "2022-07-02T20:53:31.851Z"
   },
   {
    "duration": 5,
    "start_time": "2022-07-02T20:53:52.136Z"
   },
   {
    "duration": 544,
    "start_time": "2022-07-02T20:53:52.767Z"
   },
   {
    "duration": 5,
    "start_time": "2022-07-02T20:57:19.422Z"
   },
   {
    "duration": 559,
    "start_time": "2022-07-02T20:57:20.467Z"
   },
   {
    "duration": 6,
    "start_time": "2022-07-02T20:57:31.305Z"
   },
   {
    "duration": 547,
    "start_time": "2022-07-02T20:57:31.896Z"
   },
   {
    "duration": 6,
    "start_time": "2022-07-02T20:57:52.103Z"
   },
   {
    "duration": 545,
    "start_time": "2022-07-02T20:57:52.927Z"
   },
   {
    "duration": 566,
    "start_time": "2022-07-02T20:57:59.506Z"
   },
   {
    "duration": 546,
    "start_time": "2022-07-02T20:58:02.372Z"
   },
   {
    "duration": 6,
    "start_time": "2022-07-02T20:59:22.501Z"
   },
   {
    "duration": 555,
    "start_time": "2022-07-02T20:59:23.115Z"
   },
   {
    "duration": 122,
    "start_time": "2022-07-02T21:00:23.017Z"
   },
   {
    "duration": 6,
    "start_time": "2022-07-02T21:00:29.798Z"
   },
   {
    "duration": 554,
    "start_time": "2022-07-02T21:00:31.280Z"
   },
   {
    "duration": 533,
    "start_time": "2022-07-02T21:00:41.549Z"
   },
   {
    "duration": 544,
    "start_time": "2022-07-02T21:00:43.623Z"
   },
   {
    "duration": 6,
    "start_time": "2022-07-02T21:02:56.995Z"
   },
   {
    "duration": 525,
    "start_time": "2022-07-02T21:02:57.878Z"
   },
   {
    "duration": 529,
    "start_time": "2022-07-02T21:03:02.978Z"
   },
   {
    "duration": 559,
    "start_time": "2022-07-02T21:03:03.917Z"
   },
   {
    "duration": 1588,
    "start_time": "2022-07-03T08:30:16.717Z"
   },
   {
    "duration": 3,
    "start_time": "2022-07-03T08:30:18.307Z"
   },
   {
    "duration": 695,
    "start_time": "2022-07-03T08:30:18.312Z"
   },
   {
    "duration": 18,
    "start_time": "2022-07-03T08:30:19.009Z"
   },
   {
    "duration": 12,
    "start_time": "2022-07-03T08:30:19.029Z"
   },
   {
    "duration": 1363,
    "start_time": "2022-07-03T08:30:19.043Z"
   },
   {
    "duration": 21,
    "start_time": "2022-07-03T08:30:20.408Z"
   },
   {
    "duration": 3,
    "start_time": "2022-07-03T08:30:20.430Z"
   },
   {
    "duration": 55,
    "start_time": "2022-07-03T08:30:20.435Z"
   },
   {
    "duration": 51,
    "start_time": "2022-07-03T08:30:20.492Z"
   },
   {
    "duration": 123,
    "start_time": "2022-07-03T08:30:20.545Z"
   },
   {
    "duration": 3,
    "start_time": "2022-07-03T08:30:20.670Z"
   },
   {
    "duration": 19,
    "start_time": "2022-07-03T08:30:20.675Z"
   },
   {
    "duration": 5232,
    "start_time": "2022-07-03T08:30:20.695Z"
   },
   {
    "duration": 5,
    "start_time": "2022-07-03T08:30:25.929Z"
   },
   {
    "duration": 5490,
    "start_time": "2022-07-03T08:30:25.936Z"
   },
   {
    "duration": 5,
    "start_time": "2022-07-03T08:30:31.428Z"
   },
   {
    "duration": 8219,
    "start_time": "2022-07-03T08:30:31.435Z"
   },
   {
    "duration": 5,
    "start_time": "2022-07-03T08:30:39.656Z"
   },
   {
    "duration": 75,
    "start_time": "2022-07-03T08:30:39.662Z"
   },
   {
    "duration": 4,
    "start_time": "2022-07-03T08:30:39.827Z"
   },
   {
    "duration": 19,
    "start_time": "2022-07-03T08:30:39.833Z"
   },
   {
    "duration": 10,
    "start_time": "2022-07-03T08:30:39.853Z"
   },
   {
    "duration": 7,
    "start_time": "2022-07-03T08:30:39.865Z"
   },
   {
    "duration": 6,
    "start_time": "2022-07-03T08:30:39.873Z"
   },
   {
    "duration": 5,
    "start_time": "2022-07-03T08:30:39.881Z"
   },
   {
    "duration": 647,
    "start_time": "2022-07-03T08:30:39.887Z"
   },
   {
    "duration": 582,
    "start_time": "2022-07-03T08:30:40.537Z"
   },
   {
    "duration": 611,
    "start_time": "2022-07-03T08:30:41.126Z"
   },
   {
    "duration": 6,
    "start_time": "2022-07-03T09:29:01.905Z"
   },
   {
    "duration": 668,
    "start_time": "2022-07-03T09:29:02.501Z"
   },
   {
    "duration": 659,
    "start_time": "2022-07-03T09:29:15.296Z"
   },
   {
    "duration": 739,
    "start_time": "2022-07-03T09:29:16.630Z"
   },
   {
    "duration": 5,
    "start_time": "2022-07-03T09:29:27.278Z"
   },
   {
    "duration": 651,
    "start_time": "2022-07-03T09:29:27.564Z"
   },
   {
    "duration": 642,
    "start_time": "2022-07-03T09:29:28.413Z"
   },
   {
    "duration": 670,
    "start_time": "2022-07-03T09:29:29.058Z"
   },
   {
    "duration": 6,
    "start_time": "2022-07-03T09:33:18.603Z"
   },
   {
    "duration": 721,
    "start_time": "2022-07-03T09:33:18.791Z"
   },
   {
    "duration": 659,
    "start_time": "2022-07-03T09:33:19.607Z"
   },
   {
    "duration": 677,
    "start_time": "2022-07-03T09:33:20.408Z"
   },
   {
    "duration": 25,
    "start_time": "2022-07-03T09:37:05.759Z"
   },
   {
    "duration": 26,
    "start_time": "2022-07-03T09:37:21.812Z"
   },
   {
    "duration": 12,
    "start_time": "2022-07-03T09:37:55.370Z"
   },
   {
    "duration": 1387,
    "start_time": "2022-07-03T09:41:40.476Z"
   },
   {
    "duration": 4,
    "start_time": "2022-07-03T09:41:41.865Z"
   },
   {
    "duration": 427,
    "start_time": "2022-07-03T09:41:41.871Z"
   },
   {
    "duration": 19,
    "start_time": "2022-07-03T09:41:42.301Z"
   },
   {
    "duration": 31,
    "start_time": "2022-07-03T09:41:42.328Z"
   },
   {
    "duration": 1534,
    "start_time": "2022-07-03T09:41:42.361Z"
   },
   {
    "duration": 14,
    "start_time": "2022-07-03T09:41:43.897Z"
   },
   {
    "duration": 19,
    "start_time": "2022-07-03T09:41:43.926Z"
   },
   {
    "duration": 5,
    "start_time": "2022-07-03T09:41:43.948Z"
   },
   {
    "duration": 58,
    "start_time": "2022-07-03T09:41:43.957Z"
   },
   {
    "duration": 52,
    "start_time": "2022-07-03T09:41:44.025Z"
   },
   {
    "duration": 190,
    "start_time": "2022-07-03T09:41:44.078Z"
   },
   {
    "duration": 19,
    "start_time": "2022-07-03T09:41:44.270Z"
   },
   {
    "duration": 14,
    "start_time": "2022-07-03T09:41:44.291Z"
   },
   {
    "duration": 5324,
    "start_time": "2022-07-03T09:41:44.307Z"
   },
   {
    "duration": 9,
    "start_time": "2022-07-03T09:41:49.637Z"
   },
   {
    "duration": 3399,
    "start_time": "2022-07-03T09:41:49.649Z"
   },
   {
    "duration": 12,
    "start_time": "2022-07-03T09:41:53.132Z"
   },
   {
    "duration": 8213,
    "start_time": "2022-07-03T09:41:53.146Z"
   },
   {
    "duration": 69,
    "start_time": "2022-07-03T09:42:01.361Z"
   },
   {
    "duration": 97,
    "start_time": "2022-07-03T09:42:01.434Z"
   },
   {
    "duration": 82,
    "start_time": "2022-07-03T09:42:01.537Z"
   },
   {
    "duration": 64,
    "start_time": "2022-07-03T09:42:01.621Z"
   },
   {
    "duration": 62,
    "start_time": "2022-07-03T09:42:01.687Z"
   },
   {
    "duration": 48,
    "start_time": "2022-07-03T09:42:01.751Z"
   },
   {
    "duration": 62,
    "start_time": "2022-07-03T09:42:01.802Z"
   },
   {
    "duration": 106,
    "start_time": "2022-07-03T09:42:01.865Z"
   },
   {
    "duration": 766,
    "start_time": "2022-07-03T09:42:01.974Z"
   },
   {
    "duration": 680,
    "start_time": "2022-07-03T09:42:02.742Z"
   },
   {
    "duration": 696,
    "start_time": "2022-07-03T09:42:03.426Z"
   },
   {
    "duration": 3,
    "start_time": "2022-07-03T09:47:46.617Z"
   },
   {
    "duration": 4,
    "start_time": "2022-07-03T09:48:29.670Z"
   },
   {
    "duration": 57,
    "start_time": "2022-07-03T09:49:47.848Z"
   },
   {
    "duration": 118,
    "start_time": "2022-07-03T09:50:15.047Z"
   },
   {
    "duration": 6,
    "start_time": "2022-07-03T09:50:31.389Z"
   },
   {
    "duration": 5,
    "start_time": "2022-07-03T09:50:35.892Z"
   },
   {
    "duration": 4,
    "start_time": "2022-07-03T09:50:48.418Z"
   },
   {
    "duration": 5,
    "start_time": "2022-07-03T09:51:01.583Z"
   },
   {
    "duration": 6,
    "start_time": "2022-07-03T09:59:56.508Z"
   },
   {
    "duration": 607,
    "start_time": "2022-07-03T09:59:56.972Z"
   },
   {
    "duration": 657,
    "start_time": "2022-07-03T09:59:57.673Z"
   },
   {
    "duration": 669,
    "start_time": "2022-07-03T09:59:58.332Z"
   },
   {
    "duration": 85,
    "start_time": "2022-07-03T10:28:05.611Z"
   },
   {
    "duration": 645,
    "start_time": "2022-07-03T10:28:06.066Z"
   },
   {
    "duration": 692,
    "start_time": "2022-07-03T10:28:06.714Z"
   },
   {
    "duration": 682,
    "start_time": "2022-07-03T10:28:07.408Z"
   },
   {
    "duration": 1329,
    "start_time": "2022-07-03T10:44:46.937Z"
   },
   {
    "duration": 4,
    "start_time": "2022-07-03T10:44:48.268Z"
   },
   {
    "duration": 371,
    "start_time": "2022-07-03T10:44:48.274Z"
   },
   {
    "duration": 16,
    "start_time": "2022-07-03T10:44:48.647Z"
   },
   {
    "duration": 24,
    "start_time": "2022-07-03T10:44:48.664Z"
   },
   {
    "duration": 1387,
    "start_time": "2022-07-03T10:44:48.689Z"
   },
   {
    "duration": 13,
    "start_time": "2022-07-03T10:44:50.077Z"
   },
   {
    "duration": 21,
    "start_time": "2022-07-03T10:44:50.091Z"
   },
   {
    "duration": 12,
    "start_time": "2022-07-03T10:44:50.114Z"
   },
   {
    "duration": 54,
    "start_time": "2022-07-03T10:44:50.129Z"
   },
   {
    "duration": 48,
    "start_time": "2022-07-03T10:44:50.185Z"
   },
   {
    "duration": 141,
    "start_time": "2022-07-03T10:44:50.234Z"
   },
   {
    "duration": 3,
    "start_time": "2022-07-03T10:44:50.377Z"
   },
   {
    "duration": 10,
    "start_time": "2022-07-03T10:44:50.382Z"
   },
   {
    "duration": 4233,
    "start_time": "2022-07-03T10:44:50.394Z"
   },
   {
    "duration": 6,
    "start_time": "2022-07-03T10:44:54.629Z"
   },
   {
    "duration": 4996,
    "start_time": "2022-07-03T10:44:54.638Z"
   },
   {
    "duration": 92,
    "start_time": "2022-07-03T10:44:59.637Z"
   },
   {
    "duration": 8221,
    "start_time": "2022-07-03T10:44:59.731Z"
   },
   {
    "duration": 5,
    "start_time": "2022-07-03T10:45:07.954Z"
   },
   {
    "duration": 66,
    "start_time": "2022-07-03T10:45:07.961Z"
   },
   {
    "duration": 5,
    "start_time": "2022-07-03T10:45:08.030Z"
   },
   {
    "duration": 88,
    "start_time": "2022-07-03T10:45:08.039Z"
   },
   {
    "duration": 5,
    "start_time": "2022-07-03T10:45:08.129Z"
   },
   {
    "duration": 7,
    "start_time": "2022-07-03T10:45:08.135Z"
   },
   {
    "duration": 17,
    "start_time": "2022-07-03T10:45:08.144Z"
   },
   {
    "duration": 17,
    "start_time": "2022-07-03T10:45:08.163Z"
   },
   {
    "duration": 730,
    "start_time": "2022-07-03T10:45:08.184Z"
   },
   {
    "duration": 664,
    "start_time": "2022-07-03T10:45:08.916Z"
   },
   {
    "duration": 655,
    "start_time": "2022-07-03T10:45:09.582Z"
   },
   {
    "duration": 5,
    "start_time": "2022-07-03T11:49:22.276Z"
   },
   {
    "duration": 654,
    "start_time": "2022-07-03T11:49:27.232Z"
   },
   {
    "duration": 658,
    "start_time": "2022-07-03T11:49:38.303Z"
   },
   {
    "duration": 688,
    "start_time": "2022-07-03T11:49:38.963Z"
   },
   {
    "duration": 87,
    "start_time": "2022-07-03T11:51:52.999Z"
   },
   {
    "duration": 104,
    "start_time": "2022-07-03T11:51:53.428Z"
   },
   {
    "duration": 6,
    "start_time": "2022-07-03T11:53:03.965Z"
   },
   {
    "duration": 739,
    "start_time": "2022-07-03T11:53:07.191Z"
   },
   {
    "duration": 670,
    "start_time": "2022-07-03T11:53:09.884Z"
   },
   {
    "duration": 689,
    "start_time": "2022-07-03T11:53:11.177Z"
   },
   {
    "duration": 5,
    "start_time": "2022-07-03T11:53:29.893Z"
   },
   {
    "duration": 648,
    "start_time": "2022-07-03T11:53:30.512Z"
   },
   {
    "duration": 639,
    "start_time": "2022-07-03T11:53:31.768Z"
   },
   {
    "duration": 645,
    "start_time": "2022-07-03T11:53:32.416Z"
   },
   {
    "duration": 6,
    "start_time": "2022-07-03T12:03:38.698Z"
   },
   {
    "duration": 743,
    "start_time": "2022-07-03T12:03:39.359Z"
   },
   {
    "duration": 677,
    "start_time": "2022-07-03T12:03:41.742Z"
   },
   {
    "duration": 681,
    "start_time": "2022-07-03T12:03:42.994Z"
   },
   {
    "duration": 6,
    "start_time": "2022-07-03T12:03:53.389Z"
   },
   {
    "duration": 672,
    "start_time": "2022-07-03T12:03:53.685Z"
   },
   {
    "duration": 768,
    "start_time": "2022-07-03T12:03:54.358Z"
   },
   {
    "duration": 757,
    "start_time": "2022-07-03T12:03:55.128Z"
   },
   {
    "duration": 18,
    "start_time": "2022-07-03T15:25:59.061Z"
   },
   {
    "duration": 56,
    "start_time": "2022-07-03T15:25:59.437Z"
   },
   {
    "duration": 1718,
    "start_time": "2022-07-03T15:26:05.486Z"
   },
   {
    "duration": 4,
    "start_time": "2022-07-03T15:26:07.206Z"
   },
   {
    "duration": 889,
    "start_time": "2022-07-03T15:26:07.212Z"
   },
   {
    "duration": 17,
    "start_time": "2022-07-03T15:26:08.103Z"
   },
   {
    "duration": 22,
    "start_time": "2022-07-03T15:26:08.123Z"
   },
   {
    "duration": 1630,
    "start_time": "2022-07-03T15:26:08.147Z"
   },
   {
    "duration": 16,
    "start_time": "2022-07-03T15:26:09.778Z"
   },
   {
    "duration": 16,
    "start_time": "2022-07-03T15:26:09.796Z"
   },
   {
    "duration": 3,
    "start_time": "2022-07-03T15:26:09.814Z"
   },
   {
    "duration": 83,
    "start_time": "2022-07-03T15:26:09.819Z"
   },
   {
    "duration": 54,
    "start_time": "2022-07-03T15:26:09.904Z"
   },
   {
    "duration": 162,
    "start_time": "2022-07-03T15:26:09.967Z"
   },
   {
    "duration": 4,
    "start_time": "2022-07-03T15:26:10.130Z"
   },
   {
    "duration": 4,
    "start_time": "2022-07-03T15:26:10.138Z"
   },
   {
    "duration": 3924,
    "start_time": "2022-07-03T15:26:10.143Z"
   },
   {
    "duration": 86,
    "start_time": "2022-07-03T15:26:14.083Z"
   },
   {
    "duration": 3594,
    "start_time": "2022-07-03T15:26:14.179Z"
   },
   {
    "duration": 14,
    "start_time": "2022-07-03T15:26:17.775Z"
   },
   {
    "duration": 8206,
    "start_time": "2022-07-03T15:26:17.792Z"
   },
   {
    "duration": 6,
    "start_time": "2022-07-03T15:26:25.999Z"
   },
   {
    "duration": 63,
    "start_time": "2022-07-03T15:26:26.007Z"
   },
   {
    "duration": 10,
    "start_time": "2022-07-03T15:26:26.072Z"
   },
   {
    "duration": 113,
    "start_time": "2022-07-03T15:26:26.085Z"
   },
   {
    "duration": 6,
    "start_time": "2022-07-03T15:26:26.200Z"
   },
   {
    "duration": 9,
    "start_time": "2022-07-03T15:26:26.208Z"
   },
   {
    "duration": 6,
    "start_time": "2022-07-03T15:26:26.218Z"
   },
   {
    "duration": 20,
    "start_time": "2022-07-03T15:26:26.226Z"
   },
   {
    "duration": 8,
    "start_time": "2022-07-03T15:26:26.248Z"
   },
   {
    "duration": 830,
    "start_time": "2022-07-03T15:26:26.258Z"
   },
   {
    "duration": 795,
    "start_time": "2022-07-03T15:26:27.090Z"
   },
   {
    "duration": 776,
    "start_time": "2022-07-03T15:26:27.887Z"
   },
   {
    "duration": 12,
    "start_time": "2022-07-03T15:40:06.865Z"
   },
   {
    "duration": 1482,
    "start_time": "2022-07-03T15:40:10.815Z"
   },
   {
    "duration": 4,
    "start_time": "2022-07-03T15:40:12.300Z"
   },
   {
    "duration": 409,
    "start_time": "2022-07-03T15:40:12.309Z"
   },
   {
    "duration": 19,
    "start_time": "2022-07-03T15:40:12.720Z"
   },
   {
    "duration": 48,
    "start_time": "2022-07-03T15:40:12.741Z"
   },
   {
    "duration": 1653,
    "start_time": "2022-07-03T15:40:12.791Z"
   },
   {
    "duration": 20,
    "start_time": "2022-07-03T15:40:14.446Z"
   },
   {
    "duration": 29,
    "start_time": "2022-07-03T15:40:14.481Z"
   },
   {
    "duration": 8,
    "start_time": "2022-07-03T15:40:14.513Z"
   },
   {
    "duration": 74,
    "start_time": "2022-07-03T15:40:14.523Z"
   },
   {
    "duration": 49,
    "start_time": "2022-07-03T15:40:14.599Z"
   },
   {
    "duration": 185,
    "start_time": "2022-07-03T15:40:14.650Z"
   },
   {
    "duration": 5,
    "start_time": "2022-07-03T15:40:14.837Z"
   },
   {
    "duration": 5,
    "start_time": "2022-07-03T15:40:14.844Z"
   },
   {
    "duration": 3732,
    "start_time": "2022-07-03T15:40:14.851Z"
   },
   {
    "duration": 85,
    "start_time": "2022-07-03T15:40:18.586Z"
   },
   {
    "duration": 3902,
    "start_time": "2022-07-03T15:40:18.672Z"
   },
   {
    "duration": 10,
    "start_time": "2022-07-03T15:40:22.585Z"
   },
   {
    "duration": 8237,
    "start_time": "2022-07-03T15:40:22.672Z"
   },
   {
    "duration": 9,
    "start_time": "2022-07-03T15:40:30.912Z"
   },
   {
    "duration": 135,
    "start_time": "2022-07-03T15:40:30.973Z"
   },
   {
    "duration": 20,
    "start_time": "2022-07-03T15:40:31.110Z"
   },
   {
    "duration": 20,
    "start_time": "2022-07-03T15:40:31.132Z"
   },
   {
    "duration": 54,
    "start_time": "2022-07-03T15:40:31.154Z"
   },
   {
    "duration": 22,
    "start_time": "2022-07-03T15:40:31.210Z"
   },
   {
    "duration": 19,
    "start_time": "2022-07-03T15:40:31.234Z"
   },
   {
    "duration": 11,
    "start_time": "2022-07-03T15:40:31.257Z"
   },
   {
    "duration": 44,
    "start_time": "2022-07-03T15:40:31.271Z"
   },
   {
    "duration": 963,
    "start_time": "2022-07-03T15:40:31.318Z"
   },
   {
    "duration": 824,
    "start_time": "2022-07-03T15:40:32.284Z"
   },
   {
    "duration": 752,
    "start_time": "2022-07-03T15:40:33.110Z"
   },
   {
    "duration": 7,
    "start_time": "2022-07-03T15:40:52.793Z"
   },
   {
    "duration": 775,
    "start_time": "2022-07-03T15:40:53.156Z"
   },
   {
    "duration": 781,
    "start_time": "2022-07-03T15:40:53.933Z"
   },
   {
    "duration": 772,
    "start_time": "2022-07-03T15:40:54.717Z"
   },
   {
    "duration": 6,
    "start_time": "2022-07-03T16:05:05.581Z"
   },
   {
    "duration": 807,
    "start_time": "2022-07-03T16:05:05.945Z"
   },
   {
    "duration": 679,
    "start_time": "2022-07-03T16:05:07.583Z"
   },
   {
    "duration": 722,
    "start_time": "2022-07-03T16:05:08.267Z"
   },
   {
    "duration": 8,
    "start_time": "2022-07-03T16:07:37.756Z"
   },
   {
    "duration": 814,
    "start_time": "2022-07-03T16:07:38.265Z"
   },
   {
    "duration": 756,
    "start_time": "2022-07-03T16:07:40.903Z"
   },
   {
    "duration": 759,
    "start_time": "2022-07-03T16:07:42.187Z"
   },
   {
    "duration": 5,
    "start_time": "2022-07-03T16:22:44.754Z"
   },
   {
    "duration": 102,
    "start_time": "2022-07-03T16:22:45.401Z"
   },
   {
    "duration": 18,
    "start_time": "2022-07-03T16:23:01.260Z"
   },
   {
    "duration": 5,
    "start_time": "2022-07-03T16:23:39.260Z"
   },
   {
    "duration": 18,
    "start_time": "2022-07-03T16:23:39.789Z"
   },
   {
    "duration": 6,
    "start_time": "2022-07-03T16:26:05.303Z"
   },
   {
    "duration": 14,
    "start_time": "2022-07-03T16:26:05.743Z"
   },
   {
    "duration": 5,
    "start_time": "2022-07-03T16:29:12.673Z"
   },
   {
    "duration": 5,
    "start_time": "2022-07-03T16:29:16.509Z"
   },
   {
    "duration": 11,
    "start_time": "2022-07-03T16:29:17.121Z"
   },
   {
    "duration": 5,
    "start_time": "2022-07-03T16:29:28.111Z"
   },
   {
    "duration": 18,
    "start_time": "2022-07-03T16:29:28.625Z"
   },
   {
    "duration": 16,
    "start_time": "2022-07-03T16:29:34.450Z"
   },
   {
    "duration": 8,
    "start_time": "2022-07-03T16:31:25.189Z"
   },
   {
    "duration": 18,
    "start_time": "2022-07-03T16:31:25.662Z"
   },
   {
    "duration": 1503,
    "start_time": "2022-07-03T16:33:09.154Z"
   },
   {
    "duration": 3,
    "start_time": "2022-07-03T16:33:10.659Z"
   },
   {
    "duration": 348,
    "start_time": "2022-07-03T16:33:10.663Z"
   },
   {
    "duration": 16,
    "start_time": "2022-07-03T16:33:11.013Z"
   },
   {
    "duration": 47,
    "start_time": "2022-07-03T16:33:11.031Z"
   },
   {
    "duration": 1261,
    "start_time": "2022-07-03T16:33:11.085Z"
   },
   {
    "duration": 24,
    "start_time": "2022-07-03T16:33:12.348Z"
   },
   {
    "duration": 21,
    "start_time": "2022-07-03T16:33:12.373Z"
   },
   {
    "duration": 3,
    "start_time": "2022-07-03T16:33:12.396Z"
   },
   {
    "duration": 48,
    "start_time": "2022-07-03T16:33:12.402Z"
   },
   {
    "duration": 61,
    "start_time": "2022-07-03T16:33:12.452Z"
   },
   {
    "duration": 124,
    "start_time": "2022-07-03T16:33:12.514Z"
   },
   {
    "duration": 3,
    "start_time": "2022-07-03T16:33:12.640Z"
   },
   {
    "duration": 5,
    "start_time": "2022-07-03T16:33:12.645Z"
   },
   {
    "duration": 3121,
    "start_time": "2022-07-03T16:33:12.652Z"
   },
   {
    "duration": 272,
    "start_time": "2022-07-03T16:33:15.774Z"
   },
   {
    "duration": 0,
    "start_time": "2022-07-03T16:33:16.048Z"
   },
   {
    "duration": 0,
    "start_time": "2022-07-03T16:33:16.049Z"
   },
   {
    "duration": 0,
    "start_time": "2022-07-03T16:33:16.050Z"
   },
   {
    "duration": 0,
    "start_time": "2022-07-03T16:33:16.051Z"
   },
   {
    "duration": 0,
    "start_time": "2022-07-03T16:33:16.067Z"
   },
   {
    "duration": 0,
    "start_time": "2022-07-03T16:33:16.072Z"
   },
   {
    "duration": 0,
    "start_time": "2022-07-03T16:33:16.073Z"
   },
   {
    "duration": 0,
    "start_time": "2022-07-03T16:33:16.073Z"
   },
   {
    "duration": 0,
    "start_time": "2022-07-03T16:33:16.075Z"
   },
   {
    "duration": 0,
    "start_time": "2022-07-03T16:33:16.078Z"
   },
   {
    "duration": 0,
    "start_time": "2022-07-03T16:33:16.079Z"
   },
   {
    "duration": 0,
    "start_time": "2022-07-03T16:33:16.081Z"
   },
   {
    "duration": 0,
    "start_time": "2022-07-03T16:33:16.082Z"
   },
   {
    "duration": 0,
    "start_time": "2022-07-03T16:33:16.083Z"
   },
   {
    "duration": 0,
    "start_time": "2022-07-03T16:33:16.084Z"
   },
   {
    "duration": 0,
    "start_time": "2022-07-03T16:33:16.086Z"
   },
   {
    "duration": 8,
    "start_time": "2022-07-03T16:33:55.238Z"
   },
   {
    "duration": 5,
    "start_time": "2022-07-03T16:34:11.121Z"
   },
   {
    "duration": 3405,
    "start_time": "2022-07-03T16:34:11.478Z"
   },
   {
    "duration": 90,
    "start_time": "2022-07-03T16:34:14.885Z"
   },
   {
    "duration": 0,
    "start_time": "2022-07-03T16:34:14.977Z"
   },
   {
    "duration": 0,
    "start_time": "2022-07-03T16:34:14.978Z"
   },
   {
    "duration": 8,
    "start_time": "2022-07-03T16:34:22.880Z"
   },
   {
    "duration": 7952,
    "start_time": "2022-07-03T16:34:24.431Z"
   },
   {
    "duration": 6,
    "start_time": "2022-07-03T16:34:33.082Z"
   },
   {
    "duration": 5,
    "start_time": "2022-07-03T16:34:33.660Z"
   },
   {
    "duration": 3,
    "start_time": "2022-07-03T16:34:35.138Z"
   },
   {
    "duration": 3,
    "start_time": "2022-07-03T16:34:35.782Z"
   },
   {
    "duration": 5,
    "start_time": "2022-07-03T16:34:36.216Z"
   },
   {
    "duration": 4,
    "start_time": "2022-07-03T16:34:36.521Z"
   },
   {
    "duration": 4,
    "start_time": "2022-07-03T16:34:37.085Z"
   },
   {
    "duration": 6,
    "start_time": "2022-07-03T16:34:37.895Z"
   },
   {
    "duration": 5,
    "start_time": "2022-07-03T16:34:39.279Z"
   },
   {
    "duration": 7,
    "start_time": "2022-07-03T16:34:39.462Z"
   },
   {
    "duration": 22,
    "start_time": "2022-07-03T16:34:40.333Z"
   },
   {
    "duration": 8,
    "start_time": "2022-07-03T16:34:48.810Z"
   },
   {
    "duration": 5,
    "start_time": "2022-07-03T16:34:50.212Z"
   },
   {
    "duration": 27,
    "start_time": "2022-07-03T16:34:50.451Z"
   },
   {
    "duration": 1498,
    "start_time": "2022-07-03T16:40:16.659Z"
   },
   {
    "duration": 3,
    "start_time": "2022-07-03T16:40:18.159Z"
   },
   {
    "duration": 417,
    "start_time": "2022-07-03T16:40:18.164Z"
   },
   {
    "duration": 19,
    "start_time": "2022-07-03T16:40:18.583Z"
   },
   {
    "duration": 31,
    "start_time": "2022-07-03T16:40:18.604Z"
   },
   {
    "duration": 1573,
    "start_time": "2022-07-03T16:40:18.636Z"
   },
   {
    "duration": 14,
    "start_time": "2022-07-03T16:40:20.211Z"
   },
   {
    "duration": 18,
    "start_time": "2022-07-03T16:40:20.227Z"
   },
   {
    "duration": 6,
    "start_time": "2022-07-03T16:40:20.247Z"
   },
   {
    "duration": 88,
    "start_time": "2022-07-03T16:40:20.256Z"
   },
   {
    "duration": 6,
    "start_time": "2022-07-03T16:40:20.346Z"
   },
   {
    "duration": 72,
    "start_time": "2022-07-03T16:40:20.354Z"
   },
   {
    "duration": 153,
    "start_time": "2022-07-03T16:40:20.428Z"
   },
   {
    "duration": 3,
    "start_time": "2022-07-03T16:40:20.583Z"
   },
   {
    "duration": 26,
    "start_time": "2022-07-03T16:40:20.588Z"
   },
   {
    "duration": 3974,
    "start_time": "2022-07-03T16:40:20.616Z"
   },
   {
    "duration": 18,
    "start_time": "2022-07-03T16:40:24.673Z"
   },
   {
    "duration": 3596,
    "start_time": "2022-07-03T16:40:24.693Z"
   },
   {
    "duration": 12,
    "start_time": "2022-07-03T16:40:28.372Z"
   },
   {
    "duration": 8193,
    "start_time": "2022-07-03T16:40:28.391Z"
   },
   {
    "duration": 8,
    "start_time": "2022-07-03T16:40:36.587Z"
   },
   {
    "duration": 84,
    "start_time": "2022-07-03T16:40:36.600Z"
   },
   {
    "duration": 107,
    "start_time": "2022-07-03T16:40:36.685Z"
   },
   {
    "duration": 20,
    "start_time": "2022-07-03T16:40:36.794Z"
   },
   {
    "duration": 7,
    "start_time": "2022-07-03T16:40:36.816Z"
   },
   {
    "duration": 6,
    "start_time": "2022-07-03T16:40:36.826Z"
   },
   {
    "duration": 8,
    "start_time": "2022-07-03T16:40:36.833Z"
   },
   {
    "duration": 7,
    "start_time": "2022-07-03T16:40:36.844Z"
   },
   {
    "duration": 23,
    "start_time": "2022-07-03T16:40:36.854Z"
   },
   {
    "duration": 7,
    "start_time": "2022-07-03T16:40:36.880Z"
   },
   {
    "duration": 144,
    "start_time": "2022-07-03T16:40:36.890Z"
   },
   {
    "duration": 0,
    "start_time": "2022-07-03T16:40:37.035Z"
   },
   {
    "duration": 0,
    "start_time": "2022-07-03T16:40:37.037Z"
   },
   {
    "duration": 17,
    "start_time": "2022-07-03T16:41:07.362Z"
   },
   {
    "duration": 1956,
    "start_time": "2022-07-03T16:41:07.877Z"
   },
   {
    "duration": 1554,
    "start_time": "2022-07-05T10:59:41.353Z"
   },
   {
    "duration": 4,
    "start_time": "2022-07-05T10:59:42.910Z"
   },
   {
    "duration": 817,
    "start_time": "2022-07-05T10:59:42.916Z"
   },
   {
    "duration": 16,
    "start_time": "2022-07-05T10:59:43.735Z"
   },
   {
    "duration": 39,
    "start_time": "2022-07-05T10:59:43.753Z"
   },
   {
    "duration": 1487,
    "start_time": "2022-07-05T10:59:43.793Z"
   },
   {
    "duration": 16,
    "start_time": "2022-07-05T10:59:45.287Z"
   },
   {
    "duration": 14,
    "start_time": "2022-07-05T10:59:45.304Z"
   },
   {
    "duration": 5,
    "start_time": "2022-07-05T10:59:45.320Z"
   },
   {
    "duration": 65,
    "start_time": "2022-07-05T10:59:45.327Z"
   },
   {
    "duration": 8,
    "start_time": "2022-07-05T10:59:45.394Z"
   },
   {
    "duration": 52,
    "start_time": "2022-07-05T10:59:45.403Z"
   },
   {
    "duration": 134,
    "start_time": "2022-07-05T10:59:45.457Z"
   },
   {
    "duration": 3,
    "start_time": "2022-07-05T10:59:45.593Z"
   },
   {
    "duration": 7,
    "start_time": "2022-07-05T10:59:45.598Z"
   },
   {
    "duration": 3569,
    "start_time": "2022-07-05T10:59:45.606Z"
   },
   {
    "duration": 85,
    "start_time": "2022-07-05T10:59:49.181Z"
   },
   {
    "duration": 4100,
    "start_time": "2022-07-05T10:59:49.274Z"
   },
   {
    "duration": 90,
    "start_time": "2022-07-05T10:59:53.376Z"
   },
   {
    "duration": 8123,
    "start_time": "2022-07-05T10:59:53.477Z"
   },
   {
    "duration": 68,
    "start_time": "2022-07-05T11:00:01.601Z"
   },
   {
    "duration": 126,
    "start_time": "2022-07-05T11:00:01.674Z"
   },
   {
    "duration": 47,
    "start_time": "2022-07-05T11:00:01.802Z"
   },
   {
    "duration": 90,
    "start_time": "2022-07-05T11:00:01.851Z"
   },
   {
    "duration": 9,
    "start_time": "2022-07-05T11:00:01.943Z"
   },
   {
    "duration": 8,
    "start_time": "2022-07-05T11:00:01.954Z"
   },
   {
    "duration": 40,
    "start_time": "2022-07-05T11:00:01.967Z"
   },
   {
    "duration": 16,
    "start_time": "2022-07-05T11:00:02.010Z"
   },
   {
    "duration": 9,
    "start_time": "2022-07-05T11:00:02.027Z"
   },
   {
    "duration": 16,
    "start_time": "2022-07-05T11:00:02.038Z"
   },
   {
    "duration": 1754,
    "start_time": "2022-07-05T11:00:02.055Z"
   },
   {
    "duration": 122,
    "start_time": "2022-07-05T11:00:03.811Z"
   },
   {
    "duration": 0,
    "start_time": "2022-07-05T11:00:03.935Z"
   },
   {
    "duration": 3,
    "start_time": "2022-07-05T11:29:01.425Z"
   },
   {
    "duration": 8,
    "start_time": "2022-07-05T11:29:26.615Z"
   },
   {
    "duration": 7,
    "start_time": "2022-07-05T11:33:15.741Z"
   },
   {
    "duration": 12,
    "start_time": "2022-07-05T11:33:25.230Z"
   },
   {
    "duration": 11,
    "start_time": "2022-07-05T11:33:44.599Z"
   },
   {
    "duration": 14,
    "start_time": "2022-07-05T11:33:47.096Z"
   },
   {
    "duration": 13,
    "start_time": "2022-07-05T11:33:47.389Z"
   },
   {
    "duration": 10,
    "start_time": "2022-07-05T11:33:47.688Z"
   },
   {
    "duration": 5,
    "start_time": "2022-07-05T11:34:04.395Z"
   },
   {
    "duration": 5,
    "start_time": "2022-07-05T11:34:04.824Z"
   },
   {
    "duration": 5,
    "start_time": "2022-07-05T11:34:06.029Z"
   },
   {
    "duration": 7,
    "start_time": "2022-07-05T11:34:06.294Z"
   },
   {
    "duration": 14,
    "start_time": "2022-07-05T11:34:06.497Z"
   },
   {
    "duration": 14,
    "start_time": "2022-07-05T11:34:07.255Z"
   },
   {
    "duration": 3,
    "start_time": "2022-07-05T11:34:34.400Z"
   },
   {
    "duration": 6,
    "start_time": "2022-07-05T11:34:34.651Z"
   },
   {
    "duration": 7,
    "start_time": "2022-07-05T11:34:34.906Z"
   },
   {
    "duration": 10,
    "start_time": "2022-07-05T11:34:35.092Z"
   },
   {
    "duration": 21,
    "start_time": "2022-07-05T11:34:35.216Z"
   },
   {
    "duration": 15,
    "start_time": "2022-07-05T11:34:35.386Z"
   },
   {
    "duration": 6,
    "start_time": "2022-07-05T11:34:54.420Z"
   },
   {
    "duration": 6,
    "start_time": "2022-07-05T11:34:54.838Z"
   },
   {
    "duration": 6,
    "start_time": "2022-07-05T11:34:55.120Z"
   },
   {
    "duration": 1491,
    "start_time": "2022-07-05T11:34:55.422Z"
   },
   {
    "duration": 10,
    "start_time": "2022-07-05T11:35:23.094Z"
   },
   {
    "duration": 1529,
    "start_time": "2022-07-05T11:35:27.657Z"
   },
   {
    "duration": 0,
    "start_time": "2022-07-05T11:35:29.192Z"
   },
   {
    "duration": 7,
    "start_time": "2022-07-05T11:35:35.063Z"
   },
   {
    "duration": 6,
    "start_time": "2022-07-05T11:35:35.193Z"
   },
   {
    "duration": 7,
    "start_time": "2022-07-05T11:35:35.316Z"
   },
   {
    "duration": 6,
    "start_time": "2022-07-05T11:35:35.434Z"
   },
   {
    "duration": 1548,
    "start_time": "2022-07-05T11:35:35.593Z"
   },
   {
    "duration": 0,
    "start_time": "2022-07-05T11:35:37.143Z"
   },
   {
    "duration": 1,
    "start_time": "2022-07-05T11:35:37.144Z"
   },
   {
    "duration": 4,
    "start_time": "2022-07-05T11:35:44.533Z"
   },
   {
    "duration": 5,
    "start_time": "2022-07-05T11:35:48.929Z"
   },
   {
    "duration": 8,
    "start_time": "2022-07-05T11:35:49.095Z"
   },
   {
    "duration": 7,
    "start_time": "2022-07-05T11:35:49.206Z"
   },
   {
    "duration": 7,
    "start_time": "2022-07-05T11:35:49.337Z"
   },
   {
    "duration": 1668,
    "start_time": "2022-07-05T11:35:49.494Z"
   },
   {
    "duration": 0,
    "start_time": "2022-07-05T11:35:51.168Z"
   },
   {
    "duration": 0,
    "start_time": "2022-07-05T11:35:51.169Z"
   },
   {
    "duration": 7,
    "start_time": "2022-07-05T11:36:07.741Z"
   },
   {
    "duration": 8,
    "start_time": "2022-07-05T11:36:07.920Z"
   },
   {
    "duration": 6,
    "start_time": "2022-07-05T11:36:08.093Z"
   },
   {
    "duration": 1675,
    "start_time": "2022-07-05T11:36:08.208Z"
   },
   {
    "duration": 0,
    "start_time": "2022-07-05T11:36:09.887Z"
   },
   {
    "duration": 0,
    "start_time": "2022-07-05T11:36:09.888Z"
   },
   {
    "duration": 11,
    "start_time": "2022-07-05T11:36:29.394Z"
   },
   {
    "duration": 7,
    "start_time": "2022-07-05T11:36:29.551Z"
   },
   {
    "duration": 6,
    "start_time": "2022-07-05T11:36:29.707Z"
   },
   {
    "duration": 1676,
    "start_time": "2022-07-05T11:36:29.847Z"
   },
   {
    "duration": 0,
    "start_time": "2022-07-05T11:36:31.525Z"
   },
   {
    "duration": 0,
    "start_time": "2022-07-05T11:36:31.526Z"
   },
   {
    "duration": 11,
    "start_time": "2022-07-05T11:37:02.693Z"
   },
   {
    "duration": 6,
    "start_time": "2022-07-05T11:37:03.398Z"
   },
   {
    "duration": 11,
    "start_time": "2022-07-05T11:37:03.579Z"
   },
   {
    "duration": 1576,
    "start_time": "2022-07-05T11:37:03.735Z"
   },
   {
    "duration": 1564,
    "start_time": "2022-07-05T11:37:05.313Z"
   },
   {
    "duration": 766,
    "start_time": "2022-07-05T11:37:06.878Z"
   },
   {
    "duration": 14,
    "start_time": "2022-07-05T11:37:16.285Z"
   },
   {
    "duration": 1604,
    "start_time": "2022-07-05T11:37:24.493Z"
   },
   {
    "duration": 1464,
    "start_time": "2022-07-05T11:38:36.114Z"
   },
   {
    "duration": 9,
    "start_time": "2022-07-05T11:38:37.584Z"
   },
   {
    "duration": 789,
    "start_time": "2022-07-05T11:38:37.597Z"
   },
   {
    "duration": 20,
    "start_time": "2022-07-05T11:38:38.393Z"
   },
   {
    "duration": 23,
    "start_time": "2022-07-05T11:38:38.415Z"
   },
   {
    "duration": 1508,
    "start_time": "2022-07-05T11:38:38.440Z"
   },
   {
    "duration": 15,
    "start_time": "2022-07-05T11:38:39.949Z"
   },
   {
    "duration": 40,
    "start_time": "2022-07-05T11:38:39.966Z"
   },
   {
    "duration": 3,
    "start_time": "2022-07-05T11:38:40.008Z"
   },
   {
    "duration": 60,
    "start_time": "2022-07-05T11:38:40.015Z"
   },
   {
    "duration": 8,
    "start_time": "2022-07-05T11:38:40.083Z"
   },
   {
    "duration": 54,
    "start_time": "2022-07-05T11:38:40.092Z"
   },
   {
    "duration": 150,
    "start_time": "2022-07-05T11:38:40.148Z"
   },
   {
    "duration": 3,
    "start_time": "2022-07-05T11:38:40.300Z"
   },
   {
    "duration": 12,
    "start_time": "2022-07-05T11:38:40.305Z"
   },
   {
    "duration": 4082,
    "start_time": "2022-07-05T11:38:40.318Z"
   },
   {
    "duration": 13,
    "start_time": "2022-07-05T11:38:44.466Z"
   },
   {
    "duration": 3381,
    "start_time": "2022-07-05T11:38:44.484Z"
   },
   {
    "duration": 11,
    "start_time": "2022-07-05T11:38:47.869Z"
   },
   {
    "duration": 8051,
    "start_time": "2022-07-05T11:38:47.963Z"
   },
   {
    "duration": 50,
    "start_time": "2022-07-05T11:38:56.016Z"
   },
   {
    "duration": 124,
    "start_time": "2022-07-05T11:38:56.076Z"
   },
   {
    "duration": 7,
    "start_time": "2022-07-05T11:38:56.202Z"
   },
   {
    "duration": 6,
    "start_time": "2022-07-05T11:38:56.210Z"
   },
   {
    "duration": 6,
    "start_time": "2022-07-05T11:38:56.218Z"
   },
   {
    "duration": 7,
    "start_time": "2022-07-05T11:38:56.226Z"
   },
   {
    "duration": 1616,
    "start_time": "2022-07-05T11:38:56.235Z"
   },
   {
    "duration": 1581,
    "start_time": "2022-07-05T11:38:57.854Z"
   },
   {
    "duration": 1704,
    "start_time": "2022-07-05T11:38:59.437Z"
   },
   {
    "duration": 4,
    "start_time": "2022-07-05T11:39:01.143Z"
   },
   {
    "duration": 2756,
    "start_time": "2022-07-05T17:39:15.801Z"
   },
   {
    "duration": 4,
    "start_time": "2022-07-05T17:39:18.563Z"
   },
   {
    "duration": 553,
    "start_time": "2022-07-05T17:39:18.570Z"
   },
   {
    "duration": 26,
    "start_time": "2022-07-05T17:39:19.126Z"
   },
   {
    "duration": 60,
    "start_time": "2022-07-05T17:39:19.155Z"
   },
   {
    "duration": 1995,
    "start_time": "2022-07-05T17:39:19.228Z"
   },
   {
    "duration": 14,
    "start_time": "2022-07-05T17:39:21.227Z"
   },
   {
    "duration": 15,
    "start_time": "2022-07-05T17:39:21.243Z"
   },
   {
    "duration": 16,
    "start_time": "2022-07-05T17:39:27.702Z"
   },
   {
    "duration": 4,
    "start_time": "2022-07-05T17:39:28.897Z"
   },
   {
    "duration": 46,
    "start_time": "2022-07-05T17:39:29.268Z"
   },
   {
    "duration": 8,
    "start_time": "2022-07-05T17:39:29.769Z"
   },
   {
    "duration": 16,
    "start_time": "2022-07-05T17:39:29.928Z"
   },
   {
    "duration": 22,
    "start_time": "2022-07-05T17:39:30.023Z"
   },
   {
    "duration": 11,
    "start_time": "2022-07-05T17:39:30.186Z"
   },
   {
    "duration": 12,
    "start_time": "2022-07-05T17:39:30.260Z"
   },
   {
    "duration": 3477,
    "start_time": "2022-07-05T17:39:30.345Z"
   },
   {
    "duration": 95,
    "start_time": "2022-07-05T17:39:33.825Z"
   },
   {
    "duration": 3230,
    "start_time": "2022-07-05T17:39:33.923Z"
   },
   {
    "duration": 62,
    "start_time": "2022-07-05T17:39:37.160Z"
   },
   {
    "duration": 2931,
    "start_time": "2022-07-05T17:39:37.233Z"
   },
   {
    "duration": 33,
    "start_time": "2022-07-05T17:39:40.211Z"
   },
   {
    "duration": 45,
    "start_time": "2022-07-05T17:39:40.308Z"
   },
   {
    "duration": 81,
    "start_time": "2022-07-05T17:39:40.355Z"
   },
   {
    "duration": 19,
    "start_time": "2022-07-05T17:39:40.439Z"
   },
   {
    "duration": 11,
    "start_time": "2022-07-05T17:39:40.462Z"
   },
   {
    "duration": 9,
    "start_time": "2022-07-05T17:39:40.475Z"
   },
   {
    "duration": 44,
    "start_time": "2022-07-05T17:39:40.489Z"
   },
   {
    "duration": 2142,
    "start_time": "2022-07-05T17:39:40.535Z"
   },
   {
    "duration": 2164,
    "start_time": "2022-07-05T17:39:42.679Z"
   },
   {
    "duration": 2341,
    "start_time": "2022-07-05T17:39:44.849Z"
   },
   {
    "duration": 16,
    "start_time": "2022-07-05T17:42:10.564Z"
   },
   {
    "duration": 15,
    "start_time": "2022-07-05T17:42:16.485Z"
   },
   {
    "duration": 6,
    "start_time": "2022-07-05T17:42:20.662Z"
   },
   {
    "duration": 123,
    "start_time": "2022-07-05T17:42:40.735Z"
   },
   {
    "duration": 7,
    "start_time": "2022-07-05T17:42:41.653Z"
   },
   {
    "duration": 18,
    "start_time": "2022-07-05T17:42:56.771Z"
   },
   {
    "duration": 10,
    "start_time": "2022-07-05T17:42:58.121Z"
   },
   {
    "duration": 4,
    "start_time": "2022-07-05T17:42:58.281Z"
   },
   {
    "duration": 2678,
    "start_time": "2022-07-05T17:42:58.466Z"
   },
   {
    "duration": 63,
    "start_time": "2022-07-05T17:43:01.151Z"
   },
   {
    "duration": 3806,
    "start_time": "2022-07-05T17:43:01.219Z"
   },
   {
    "duration": 76,
    "start_time": "2022-07-05T17:43:05.035Z"
   },
   {
    "duration": 2897,
    "start_time": "2022-07-05T17:43:05.115Z"
   },
   {
    "duration": 95,
    "start_time": "2022-07-05T17:43:08.040Z"
   },
   {
    "duration": 107,
    "start_time": "2022-07-05T17:43:08.144Z"
   },
   {
    "duration": 3338,
    "start_time": "2022-07-05T17:43:33.268Z"
   },
   {
    "duration": 48,
    "start_time": "2022-07-05T17:43:36.617Z"
   },
   {
    "duration": 6,
    "start_time": "2022-07-05T17:43:37.337Z"
   },
   {
    "duration": 6,
    "start_time": "2022-07-05T17:43:53.782Z"
   },
   {
    "duration": 16,
    "start_time": "2022-07-05T17:44:05.460Z"
   },
   {
    "duration": 3223,
    "start_time": "2022-07-05T17:44:12.933Z"
   },
   {
    "duration": 37,
    "start_time": "2022-07-05T17:44:16.174Z"
   },
   {
    "duration": 6,
    "start_time": "2022-07-05T17:44:18.957Z"
   },
   {
    "duration": 15,
    "start_time": "2022-07-05T17:44:25.097Z"
   },
   {
    "duration": 27,
    "start_time": "2022-07-05T17:44:29.851Z"
   },
   {
    "duration": 4009,
    "start_time": "2022-07-05T17:44:33.498Z"
   },
   {
    "duration": 37,
    "start_time": "2022-07-05T17:44:37.509Z"
   },
   {
    "duration": 124,
    "start_time": "2022-07-05T17:44:37.610Z"
   },
   {
    "duration": 5,
    "start_time": "2022-07-05T17:44:45.499Z"
   },
   {
    "duration": 6,
    "start_time": "2022-07-05T17:44:49.649Z"
   },
   {
    "duration": 12,
    "start_time": "2022-07-05T17:45:24.334Z"
   },
   {
    "duration": 13,
    "start_time": "2022-07-05T17:45:24.609Z"
   },
   {
    "duration": 5,
    "start_time": "2022-07-05T17:45:27.052Z"
   },
   {
    "duration": 4,
    "start_time": "2022-07-05T17:45:27.466Z"
   },
   {
    "duration": 3626,
    "start_time": "2022-07-05T17:45:28.777Z"
   },
   {
    "duration": 34,
    "start_time": "2022-07-05T17:45:32.410Z"
   },
   {
    "duration": 3351,
    "start_time": "2022-07-05T17:45:32.452Z"
   },
   {
    "duration": 20,
    "start_time": "2022-07-05T17:45:35.806Z"
   },
   {
    "duration": 3477,
    "start_time": "2022-07-05T17:45:35.832Z"
   },
   {
    "duration": 5,
    "start_time": "2022-07-05T17:45:39.336Z"
   },
   {
    "duration": 69,
    "start_time": "2022-07-05T17:45:39.343Z"
   },
   {
    "duration": 18,
    "start_time": "2022-07-05T17:45:39.418Z"
   },
   {
    "duration": 13,
    "start_time": "2022-07-05T17:45:46.336Z"
   },
   {
    "duration": 7,
    "start_time": "2022-07-05T17:45:46.506Z"
   },
   {
    "duration": 8,
    "start_time": "2022-07-05T17:45:57.235Z"
   },
   {
    "duration": 32,
    "start_time": "2022-07-05T17:46:00.427Z"
   },
   {
    "duration": 3651,
    "start_time": "2022-07-05T17:46:08.753Z"
   },
   {
    "duration": 10,
    "start_time": "2022-07-05T17:46:12.407Z"
   },
   {
    "duration": 6,
    "start_time": "2022-07-05T17:46:14.119Z"
   },
   {
    "duration": 10,
    "start_time": "2022-07-05T17:46:18.418Z"
   },
   {
    "duration": 7,
    "start_time": "2022-07-05T17:46:19.796Z"
   },
   {
    "duration": 13,
    "start_time": "2022-07-05T17:46:22.990Z"
   },
   {
    "duration": 5,
    "start_time": "2022-07-05T17:46:24.238Z"
   },
   {
    "duration": 6,
    "start_time": "2022-07-05T17:46:26.664Z"
   },
   {
    "duration": 7,
    "start_time": "2022-07-05T17:46:27.003Z"
   },
   {
    "duration": 578,
    "start_time": "2022-07-05T17:46:27.335Z"
   },
   {
    "duration": 19,
    "start_time": "2022-07-05T17:46:27.916Z"
   },
   {
    "duration": 52,
    "start_time": "2022-07-05T17:46:28.242Z"
   },
   {
    "duration": 2329,
    "start_time": "2022-07-05T17:46:29.060Z"
   },
   {
    "duration": 22,
    "start_time": "2022-07-05T17:46:31.392Z"
   },
   {
    "duration": 42,
    "start_time": "2022-07-05T17:46:31.416Z"
   },
   {
    "duration": 34,
    "start_time": "2022-07-05T17:46:31.461Z"
   },
   {
    "duration": 40,
    "start_time": "2022-07-05T17:46:39.348Z"
   },
   {
    "duration": 9,
    "start_time": "2022-07-05T17:46:42.876Z"
   },
   {
    "duration": 5119,
    "start_time": "2022-07-05T17:46:50.504Z"
   },
   {
    "duration": 80,
    "start_time": "2022-07-05T17:46:55.628Z"
   },
   {
    "duration": 202,
    "start_time": "2022-07-05T17:46:55.710Z"
   },
   {
    "duration": 40,
    "start_time": "2022-07-05T17:47:05.034Z"
   },
   {
    "duration": 3671,
    "start_time": "2022-07-05T17:47:11.844Z"
   },
   {
    "duration": 11,
    "start_time": "2022-07-05T17:47:15.604Z"
   },
   {
    "duration": 8,
    "start_time": "2022-07-05T17:47:20.768Z"
   },
   {
    "duration": 15,
    "start_time": "2022-07-05T17:47:40.772Z"
   },
   {
    "duration": 7,
    "start_time": "2022-07-05T17:47:42.623Z"
   },
   {
    "duration": 14,
    "start_time": "2022-07-05T17:47:56.091Z"
   },
   {
    "duration": 3418,
    "start_time": "2022-07-05T17:48:17.002Z"
   },
   {
    "duration": 8,
    "start_time": "2022-07-05T17:48:20.507Z"
   },
   {
    "duration": 5,
    "start_time": "2022-07-05T17:48:21.833Z"
   },
   {
    "duration": 40,
    "start_time": "2022-07-05T17:50:14.706Z"
   },
   {
    "duration": 7,
    "start_time": "2022-07-05T17:50:19.445Z"
   },
   {
    "duration": 22,
    "start_time": "2022-07-05T17:50:39.521Z"
   },
   {
    "duration": 6,
    "start_time": "2022-07-05T17:50:41.336Z"
   },
   {
    "duration": 3306,
    "start_time": "2022-07-05T17:51:43.322Z"
   },
   {
    "duration": 14,
    "start_time": "2022-07-05T17:51:59.424Z"
   },
   {
    "duration": 8,
    "start_time": "2022-07-05T17:52:00.830Z"
   },
   {
    "duration": 7,
    "start_time": "2022-07-05T17:52:02.834Z"
   },
   {
    "duration": 1379,
    "start_time": "2022-07-05T17:52:17.758Z"
   },
   {
    "duration": 13,
    "start_time": "2022-07-05T17:52:19.139Z"
   },
   {
    "duration": 10,
    "start_time": "2022-07-05T17:52:19.869Z"
   },
   {
    "duration": 3,
    "start_time": "2022-07-05T17:52:20.244Z"
   },
   {
    "duration": 50,
    "start_time": "2022-07-05T17:52:20.767Z"
   },
   {
    "duration": 7,
    "start_time": "2022-07-05T17:52:20.980Z"
   },
   {
    "duration": 43,
    "start_time": "2022-07-05T17:52:21.550Z"
   },
   {
    "duration": 143,
    "start_time": "2022-07-05T17:52:21.778Z"
   },
   {
    "duration": 10,
    "start_time": "2022-07-05T17:52:27.626Z"
   },
   {
    "duration": 4,
    "start_time": "2022-07-05T17:52:28.088Z"
   },
   {
    "duration": 4,
    "start_time": "2022-07-05T17:52:28.264Z"
   },
   {
    "duration": 3477,
    "start_time": "2022-07-05T17:52:28.446Z"
   },
   {
    "duration": 78,
    "start_time": "2022-07-05T17:52:31.929Z"
   },
   {
    "duration": 3807,
    "start_time": "2022-07-05T17:52:32.016Z"
   },
   {
    "duration": 203,
    "start_time": "2022-07-05T17:52:35.839Z"
   },
   {
    "duration": 7972,
    "start_time": "2022-07-05T17:52:36.048Z"
   },
   {
    "duration": 82,
    "start_time": "2022-07-05T17:52:44.025Z"
   },
   {
    "duration": 121,
    "start_time": "2022-07-05T17:52:44.109Z"
   },
   {
    "duration": 4,
    "start_time": "2022-07-05T17:52:47.762Z"
   },
   {
    "duration": 9,
    "start_time": "2022-07-05T17:52:48.104Z"
   },
   {
    "duration": 3,
    "start_time": "2022-07-05T17:52:48.635Z"
   },
   {
    "duration": 3,
    "start_time": "2022-07-05T17:52:48.794Z"
   },
   {
    "duration": 6,
    "start_time": "2022-07-05T17:52:48.957Z"
   },
   {
    "duration": 1815,
    "start_time": "2022-07-05T17:52:49.130Z"
   },
   {
    "duration": 1883,
    "start_time": "2022-07-05T17:52:50.949Z"
   },
   {
    "duration": 1733,
    "start_time": "2022-07-05T17:52:52.834Z"
   },
   {
    "duration": 21,
    "start_time": "2022-07-05T17:53:00.540Z"
   },
   {
    "duration": 1938,
    "start_time": "2022-07-05T17:53:03.014Z"
   },
   {
    "duration": 7,
    "start_time": "2022-07-05T17:53:10.530Z"
   },
   {
    "duration": 1705,
    "start_time": "2022-07-05T17:53:16.246Z"
   },
   {
    "duration": 3,
    "start_time": "2022-07-05T17:53:17.953Z"
   },
   {
    "duration": 414,
    "start_time": "2022-07-05T17:53:17.958Z"
   },
   {
    "duration": 16,
    "start_time": "2022-07-05T17:53:18.374Z"
   },
   {
    "duration": 33,
    "start_time": "2022-07-05T17:53:18.392Z"
   },
   {
    "duration": 1379,
    "start_time": "2022-07-05T17:53:18.427Z"
   },
   {
    "duration": 16,
    "start_time": "2022-07-05T17:53:19.808Z"
   },
   {
    "duration": 15,
    "start_time": "2022-07-05T17:53:19.825Z"
   },
   {
    "duration": 3,
    "start_time": "2022-07-05T17:53:19.842Z"
   },
   {
    "duration": 72,
    "start_time": "2022-07-05T17:53:19.849Z"
   },
   {
    "duration": 5,
    "start_time": "2022-07-05T17:53:19.923Z"
   },
   {
    "duration": 44,
    "start_time": "2022-07-05T17:53:19.930Z"
   },
   {
    "duration": 156,
    "start_time": "2022-07-05T17:53:19.976Z"
   },
   {
    "duration": 4,
    "start_time": "2022-07-05T17:53:20.135Z"
   },
   {
    "duration": 14,
    "start_time": "2022-07-05T17:53:20.141Z"
   },
   {
    "duration": 3360,
    "start_time": "2022-07-05T17:53:20.157Z"
   },
   {
    "duration": 87,
    "start_time": "2022-07-05T17:53:23.522Z"
   },
   {
    "duration": 3587,
    "start_time": "2022-07-05T17:53:23.618Z"
   },
   {
    "duration": 11,
    "start_time": "2022-07-05T17:53:27.206Z"
   },
   {
    "duration": 8204,
    "start_time": "2022-07-05T17:53:27.219Z"
   },
   {
    "duration": 11,
    "start_time": "2022-07-05T17:53:35.426Z"
   },
   {
    "duration": 167,
    "start_time": "2022-07-05T17:53:35.443Z"
   },
   {
    "duration": 53,
    "start_time": "2022-07-05T17:53:35.615Z"
   },
   {
    "duration": 19,
    "start_time": "2022-07-05T17:53:35.670Z"
   },
   {
    "duration": 40,
    "start_time": "2022-07-05T17:53:35.692Z"
   },
   {
    "duration": 19,
    "start_time": "2022-07-05T17:53:35.734Z"
   },
   {
    "duration": 17,
    "start_time": "2022-07-05T17:53:35.755Z"
   },
   {
    "duration": 1745,
    "start_time": "2022-07-05T17:53:35.777Z"
   },
   {
    "duration": 1634,
    "start_time": "2022-07-05T17:53:37.524Z"
   },
   {
    "duration": 1617,
    "start_time": "2022-07-05T17:53:39.160Z"
   },
   {
    "duration": 58,
    "start_time": "2022-07-05T20:28:14.461Z"
   },
   {
    "duration": 8,
    "start_time": "2022-07-05T20:28:15.826Z"
   },
   {
    "duration": 1629,
    "start_time": "2022-07-06T10:16:47.310Z"
   },
   {
    "duration": 4,
    "start_time": "2022-07-06T10:16:48.941Z"
   },
   {
    "duration": 1648,
    "start_time": "2022-07-06T10:16:48.946Z"
   },
   {
    "duration": 24,
    "start_time": "2022-07-06T10:16:50.596Z"
   },
   {
    "duration": 30,
    "start_time": "2022-07-06T10:16:50.622Z"
   },
   {
    "duration": 1321,
    "start_time": "2022-07-06T10:16:50.655Z"
   },
   {
    "duration": 13,
    "start_time": "2022-07-06T10:16:51.978Z"
   },
   {
    "duration": 11,
    "start_time": "2022-07-06T10:16:52.004Z"
   },
   {
    "duration": 7,
    "start_time": "2022-07-06T10:16:52.017Z"
   },
   {
    "duration": 52,
    "start_time": "2022-07-06T10:16:52.026Z"
   },
   {
    "duration": 25,
    "start_time": "2022-07-06T10:16:52.080Z"
   },
   {
    "duration": 120,
    "start_time": "2022-07-06T10:16:52.107Z"
   },
   {
    "duration": 104,
    "start_time": "2022-07-06T10:16:52.229Z"
   },
   {
    "duration": 0,
    "start_time": "2022-07-06T10:16:52.335Z"
   },
   {
    "duration": 0,
    "start_time": "2022-07-06T10:16:52.336Z"
   },
   {
    "duration": 0,
    "start_time": "2022-07-06T10:16:52.337Z"
   },
   {
    "duration": 0,
    "start_time": "2022-07-06T10:16:52.338Z"
   },
   {
    "duration": 0,
    "start_time": "2022-07-06T10:16:52.339Z"
   },
   {
    "duration": 0,
    "start_time": "2022-07-06T10:16:52.340Z"
   },
   {
    "duration": 0,
    "start_time": "2022-07-06T10:16:52.340Z"
   },
   {
    "duration": 0,
    "start_time": "2022-07-06T10:16:52.341Z"
   },
   {
    "duration": 0,
    "start_time": "2022-07-06T10:16:52.343Z"
   },
   {
    "duration": 0,
    "start_time": "2022-07-06T10:16:52.344Z"
   },
   {
    "duration": 0,
    "start_time": "2022-07-06T10:16:52.344Z"
   },
   {
    "duration": 0,
    "start_time": "2022-07-06T10:16:52.345Z"
   },
   {
    "duration": 0,
    "start_time": "2022-07-06T10:16:52.346Z"
   },
   {
    "duration": 0,
    "start_time": "2022-07-06T10:16:52.347Z"
   },
   {
    "duration": 0,
    "start_time": "2022-07-06T10:16:52.348Z"
   },
   {
    "duration": 0,
    "start_time": "2022-07-06T10:16:52.349Z"
   },
   {
    "duration": 1,
    "start_time": "2022-07-06T10:16:52.350Z"
   },
   {
    "duration": 219,
    "start_time": "2022-07-06T10:17:40.576Z"
   },
   {
    "duration": 4,
    "start_time": "2022-07-06T10:17:43.089Z"
   },
   {
    "duration": 4,
    "start_time": "2022-07-06T10:17:43.221Z"
   },
   {
    "duration": 3937,
    "start_time": "2022-07-06T10:17:43.378Z"
   },
   {
    "duration": 88,
    "start_time": "2022-07-06T10:17:47.318Z"
   },
   {
    "duration": 3008,
    "start_time": "2022-07-06T10:17:47.408Z"
   },
   {
    "duration": 85,
    "start_time": "2022-07-06T10:17:50.420Z"
   },
   {
    "duration": 3403,
    "start_time": "2022-07-06T10:17:50.511Z"
   },
   {
    "duration": 89,
    "start_time": "2022-07-06T10:17:53.917Z"
   },
   {
    "duration": 104,
    "start_time": "2022-07-06T10:17:54.011Z"
   },
   {
    "duration": 94,
    "start_time": "2022-07-06T10:17:54.117Z"
   },
   {
    "duration": 0,
    "start_time": "2022-07-06T10:17:54.213Z"
   },
   {
    "duration": 0,
    "start_time": "2022-07-06T10:17:54.214Z"
   },
   {
    "duration": 0,
    "start_time": "2022-07-06T10:17:54.215Z"
   },
   {
    "duration": 1,
    "start_time": "2022-07-06T10:17:54.216Z"
   },
   {
    "duration": 0,
    "start_time": "2022-07-06T10:17:54.218Z"
   },
   {
    "duration": 0,
    "start_time": "2022-07-06T10:17:54.219Z"
   },
   {
    "duration": 0,
    "start_time": "2022-07-06T10:17:54.220Z"
   },
   {
    "duration": 3,
    "start_time": "2022-07-06T10:18:17.155Z"
   },
   {
    "duration": 4,
    "start_time": "2022-07-06T10:18:18.399Z"
   },
   {
    "duration": 3,
    "start_time": "2022-07-06T10:18:20.853Z"
   },
   {
    "duration": 3,
    "start_time": "2022-07-06T10:18:21.228Z"
   },
   {
    "duration": 5,
    "start_time": "2022-07-06T10:18:21.428Z"
   },
   {
    "duration": 29,
    "start_time": "2022-07-06T10:18:22.264Z"
   },
   {
    "duration": 28,
    "start_time": "2022-07-06T10:18:22.719Z"
   },
   {
    "duration": 4,
    "start_time": "2022-07-06T10:18:57.158Z"
   },
   {
    "duration": 3,
    "start_time": "2022-07-06T10:18:57.843Z"
   },
   {
    "duration": 8,
    "start_time": "2022-07-06T10:18:58.212Z"
   },
   {
    "duration": 1541,
    "start_time": "2022-07-06T10:18:58.926Z"
   },
   {
    "duration": 1562,
    "start_time": "2022-07-06T10:19:00.621Z"
   },
   {
    "duration": 1622,
    "start_time": "2022-07-06T10:19:02.185Z"
   },
   {
    "duration": 3178,
    "start_time": "2022-07-06T14:09:33.161Z"
   },
   {
    "duration": 5,
    "start_time": "2022-07-06T14:09:36.341Z"
   },
   {
    "duration": 1727,
    "start_time": "2022-07-06T14:09:36.348Z"
   },
   {
    "duration": 17,
    "start_time": "2022-07-06T14:09:38.077Z"
   },
   {
    "duration": 28,
    "start_time": "2022-07-06T14:09:38.095Z"
   },
   {
    "duration": 1325,
    "start_time": "2022-07-06T14:09:38.125Z"
   },
   {
    "duration": 11,
    "start_time": "2022-07-06T14:09:39.452Z"
   },
   {
    "duration": 13,
    "start_time": "2022-07-06T14:09:39.465Z"
   },
   {
    "duration": 2,
    "start_time": "2022-07-06T14:09:39.480Z"
   },
   {
    "duration": 68,
    "start_time": "2022-07-06T14:09:39.485Z"
   },
   {
    "duration": 6,
    "start_time": "2022-07-06T14:09:39.555Z"
   },
   {
    "duration": 117,
    "start_time": "2022-07-06T14:09:39.563Z"
   },
   {
    "duration": 173,
    "start_time": "2022-07-06T14:09:39.681Z"
   },
   {
    "duration": 3,
    "start_time": "2022-07-06T14:09:39.856Z"
   },
   {
    "duration": 8,
    "start_time": "2022-07-06T14:09:39.860Z"
   },
   {
    "duration": 3154,
    "start_time": "2022-07-06T14:09:39.870Z"
   },
   {
    "duration": 6,
    "start_time": "2022-07-06T14:09:43.026Z"
   },
   {
    "duration": 3516,
    "start_time": "2022-07-06T14:09:43.103Z"
   },
   {
    "duration": 88,
    "start_time": "2022-07-06T14:09:46.624Z"
   },
   {
    "duration": 3888,
    "start_time": "2022-07-06T14:09:46.718Z"
   },
   {
    "duration": 13,
    "start_time": "2022-07-06T14:09:50.609Z"
   },
   {
    "duration": 82,
    "start_time": "2022-07-06T14:09:50.628Z"
   },
   {
    "duration": 90,
    "start_time": "2022-07-06T14:09:50.718Z"
   },
   {
    "duration": 21,
    "start_time": "2022-07-06T14:09:50.811Z"
   },
   {
    "duration": 21,
    "start_time": "2022-07-06T14:09:50.833Z"
   },
   {
    "duration": 15,
    "start_time": "2022-07-06T14:09:50.855Z"
   },
   {
    "duration": 22,
    "start_time": "2022-07-06T14:09:50.871Z"
   },
   {
    "duration": 1543,
    "start_time": "2022-07-06T14:09:50.896Z"
   },
   {
    "duration": 1469,
    "start_time": "2022-07-06T14:09:52.441Z"
   },
   {
    "duration": 1505,
    "start_time": "2022-07-06T14:09:53.913Z"
   },
   {
    "duration": 8,
    "start_time": "2022-07-06T14:09:55.419Z"
   },
   {
    "duration": 145,
    "start_time": "2022-07-06T14:09:55.429Z"
   },
   {
    "duration": 147,
    "start_time": "2022-07-06T14:11:07.813Z"
   },
   {
    "duration": 97,
    "start_time": "2022-07-06T14:11:16.654Z"
   },
   {
    "duration": 616,
    "start_time": "2022-07-06T14:11:59.220Z"
   },
   {
    "duration": 4,
    "start_time": "2022-07-06T14:57:23.780Z"
   },
   {
    "duration": 7,
    "start_time": "2022-07-06T14:57:27.379Z"
   }
  ],
  "kernelspec": {
   "display_name": "Python 3 (ipykernel)",
   "language": "python",
   "name": "python3"
  },
  "language_info": {
   "codemirror_mode": {
    "name": "ipython",
    "version": 3
   },
   "file_extension": ".py",
   "mimetype": "text/x-python",
   "name": "python",
   "nbconvert_exporter": "python",
   "pygments_lexer": "ipython3",
   "version": "3.9.7"
  },
  "toc": {
   "base_numbering": 1,
   "nav_menu": {},
   "number_sections": true,
   "sideBar": true,
   "skip_h1_title": true,
   "title_cell": "Содержание",
   "title_sidebar": "Оглавление",
   "toc_cell": true,
   "toc_position": {},
   "toc_section_display": true,
   "toc_window_display": true
  }
 },
 "nbformat": 4,
 "nbformat_minor": 2
}
