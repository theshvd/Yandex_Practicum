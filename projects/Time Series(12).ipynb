{
 "cells": [
  {
   "cell_type": "markdown",
   "metadata": {
    "toc": true
   },
   "source": [
    "<h1>Содержание<span class=\"tocSkip\"></span></h1>\n",
    "<div class=\"toc\"><ul class=\"toc-item\"><li><span><a href=\"#Подготовка\" data-toc-modified-id=\"Подготовка-1\"><span class=\"toc-item-num\">1&nbsp;&nbsp;</span>Подготовка</a></span></li><li><span><a href=\"#Анализ\" data-toc-modified-id=\"Анализ-2\"><span class=\"toc-item-num\">2&nbsp;&nbsp;</span>Анализ</a></span></li><li><span><a href=\"#Обучение\" data-toc-modified-id=\"Обучение-3\"><span class=\"toc-item-num\">3&nbsp;&nbsp;</span>Обучение</a></span></li><li><span><a href=\"#Тестирование\" data-toc-modified-id=\"Тестирование-4\"><span class=\"toc-item-num\">4&nbsp;&nbsp;</span>Тестирование</a></span></li><li><span><a href=\"#Вывод\" data-toc-modified-id=\"Вывод-5\"><span class=\"toc-item-num\">5&nbsp;&nbsp;</span>Вывод</a></span></li><li><span><a href=\"#Чек-лист-проверки\" data-toc-modified-id=\"Чек-лист-проверки-6\"><span class=\"toc-item-num\">6&nbsp;&nbsp;</span>Чек-лист проверки</a></span></li></ul></div>"
   ]
  },
  {
   "cell_type": "markdown",
   "metadata": {},
   "source": [
    "#  Прогнозирование заказов такси"
   ]
  },
  {
   "cell_type": "markdown",
   "metadata": {},
   "source": [
    "Компания «Чётенькое такси» собрала исторические данные о заказах такси в аэропортах. Чтобы привлекать больше водителей в период пиковой нагрузки, нужно спрогнозировать количество заказов такси на следующий час. Постройте модель для такого предсказания.\n",
    "\n",
    "Значение метрики *RMSE* на тестовой выборке должно быть не больше 48.\n",
    "\n",
    "Вам нужно:\n",
    "\n",
    "1. Загрузить данные и выполнить их ресемплирование по одному часу.\n",
    "2. Проанализировать данные.\n",
    "3. Обучить разные модели с различными гиперпараметрами. Сделать тестовую выборку размером 10% от исходных данных.\n",
    "4. Проверить данные на тестовой выборке и сделать выводы.\n",
    "\n",
    "\n",
    "Данные лежат в файле `taxi.csv`. Количество заказов находится в столбце `num_orders` (от англ. *number of orders*, «число заказов»)."
   ]
  },
  {
   "cell_type": "markdown",
   "metadata": {},
   "source": [
    "## Подготовка"
   ]
  },
  {
   "cell_type": "markdown",
   "metadata": {},
   "source": [
    "Загрузим данные и посмотрим на них"
   ]
  },
  {
   "cell_type": "code",
   "execution_count": 1,
   "metadata": {},
   "outputs": [],
   "source": [
    "import pandas as pd\n",
    "import numpy as np\n",
    "import matplotlib.pyplot as plt\n",
    "from scipy import stats as scs\n",
    "import statsmodels.api as sm\n",
    "from statsmodels.iolib.table import SimpleTable\n",
    "from statsmodels.tsa.seasonal import seasonal_decompose\n",
    "from sklearn.model_selection import train_test_split,TimeSeriesSplit, GridSearchCV\n",
    "from sklearn.linear_model import LinearRegression\n",
    "from statsmodels.tsa.stattools import adfuller\n",
    "from sklearn.metrics import mean_absolute_error,mean_squared_error\n",
    "from catboost import CatBoostRegressor\n",
    "\n",
    "import warnings\n",
    "warnings.filterwarnings(\"ignore\")"
   ]
  },
  {
   "cell_type": "code",
   "execution_count": 2,
   "metadata": {},
   "outputs": [],
   "source": [
    "df = pd.read_csv('/datasets/taxi.csv',parse_dates = ['datetime'],index_col =[0])"
   ]
  },
  {
   "cell_type": "code",
   "execution_count": 3,
   "metadata": {
    "scrolled": true
   },
   "outputs": [
    {
     "name": "stdout",
     "output_type": "stream",
     "text": [
      "<class 'pandas.core.frame.DataFrame'>\n",
      "DatetimeIndex: 26496 entries, 2018-03-01 00:00:00 to 2018-08-31 23:50:00\n",
      "Data columns (total 1 columns):\n",
      " #   Column      Non-Null Count  Dtype\n",
      "---  ------      --------------  -----\n",
      " 0   num_orders  26496 non-null  int64\n",
      "dtypes: int64(1)\n",
      "memory usage: 414.0 KB\n"
     ]
    }
   ],
   "source": [
    "df.info()"
   ]
  },
  {
   "cell_type": "code",
   "execution_count": 4,
   "metadata": {
    "scrolled": true
   },
   "outputs": [
    {
     "data": {
      "text/html": [
       "<div>\n",
       "<style scoped>\n",
       "    .dataframe tbody tr th:only-of-type {\n",
       "        vertical-align: middle;\n",
       "    }\n",
       "\n",
       "    .dataframe tbody tr th {\n",
       "        vertical-align: top;\n",
       "    }\n",
       "\n",
       "    .dataframe thead th {\n",
       "        text-align: right;\n",
       "    }\n",
       "</style>\n",
       "<table border=\"1\" class=\"dataframe\">\n",
       "  <thead>\n",
       "    <tr style=\"text-align: right;\">\n",
       "      <th></th>\n",
       "      <th>num_orders</th>\n",
       "    </tr>\n",
       "    <tr>\n",
       "      <th>datetime</th>\n",
       "      <th></th>\n",
       "    </tr>\n",
       "  </thead>\n",
       "  <tbody>\n",
       "    <tr>\n",
       "      <th>2018-03-01 00:00:00</th>\n",
       "      <td>9</td>\n",
       "    </tr>\n",
       "    <tr>\n",
       "      <th>2018-03-01 00:10:00</th>\n",
       "      <td>14</td>\n",
       "    </tr>\n",
       "    <tr>\n",
       "      <th>2018-03-01 00:20:00</th>\n",
       "      <td>28</td>\n",
       "    </tr>\n",
       "    <tr>\n",
       "      <th>2018-03-01 00:30:00</th>\n",
       "      <td>20</td>\n",
       "    </tr>\n",
       "    <tr>\n",
       "      <th>2018-03-01 00:40:00</th>\n",
       "      <td>32</td>\n",
       "    </tr>\n",
       "  </tbody>\n",
       "</table>\n",
       "</div>"
      ],
      "text/plain": [
       "                     num_orders\n",
       "datetime                       \n",
       "2018-03-01 00:00:00           9\n",
       "2018-03-01 00:10:00          14\n",
       "2018-03-01 00:20:00          28\n",
       "2018-03-01 00:30:00          20\n",
       "2018-03-01 00:40:00          32"
      ]
     },
     "execution_count": 4,
     "metadata": {},
     "output_type": "execute_result"
    }
   ],
   "source": [
    "df.head()"
   ]
  },
  {
   "cell_type": "markdown",
   "metadata": {},
   "source": [
    "Проверим на пропущенные значения"
   ]
  },
  {
   "cell_type": "code",
   "execution_count": 5,
   "metadata": {
    "scrolled": true
   },
   "outputs": [
    {
     "name": "stdout",
     "output_type": "stream",
     "text": [
      "Пропущенных значений в столбце num_orders: 0.0%\n"
     ]
    }
   ],
   "source": [
    "for col in df.columns:\n",
    "    print(f'Пропущенных значений в столбце {col}: {(len(df) - df[col].count())/len(df):.1%}')  "
   ]
  },
  {
   "cell_type": "markdown",
   "metadata": {},
   "source": [
    "Сделаем ресемпл ряда по 1 часу и посмотрим на график"
   ]
  },
  {
   "cell_type": "code",
   "execution_count": 6,
   "metadata": {
    "scrolled": false
   },
   "outputs": [
    {
     "data": {
      "image/png": "[encoded data removed]",
      "text/plain": [
       "<Figure size 432x288 with 1 Axes>"
      ]
     },
     "metadata": {
      "needs_background": "light"
     },
     "output_type": "display_data"
    }
   ],
   "source": [
    "df.sort_index(inplace=True)\n",
    "df = df.resample('1H').sum()\n",
    "df.plot()\n",
    "df1 = df.copy()"
   ]
  },
  {
   "cell_type": "markdown",
   "metadata": {},
   "source": [
    "## Анализ"
   ]
  },
  {
   "cell_type": "markdown",
   "metadata": {},
   "source": [
    "С помощью критерия Дики-Фуллера проверим временной ряд на стационарность."
   ]
  },
  {
   "cell_type": "code",
   "execution_count": 7,
   "metadata": {
    "scrolled": true
   },
   "outputs": [
    {
     "name": "stdout",
     "output_type": "stream",
     "text": [
      "Критерий ADF: -3.068924\n",
      "P-значение: 0.028940\n",
      "Критические значения:\n",
      "\t1%: -3.432\n",
      "Нулевая гипотеза отвергнута – Временной ряд стационарен\n",
      "\t5%: -2.862\n",
      "Нулевая гипотеза отвергнута – Временной ряд стационарен\n",
      "\t10%: -2.567\n",
      "Нулевая гипотеза отвергнута – Временной ряд стационарен\n"
     ]
    }
   ],
   "source": [
    "result = adfuller(df['num_orders'], autolag='AIC')\n",
    "\n",
    "print('Критерий ADF: %f' % result[0])\n",
    "\n",
    "print('P-значение: %f' % result[1])\n",
    "\n",
    "print('Критические значения:')\n",
    "\n",
    "for key, value in result[4].items():\n",
    "    print('\\t%s: %.3f' % (key, value))\n",
    "    if result[0] < result[4][\"5%\"]:\n",
    "        print (\"Нулевая гипотеза отвергнута – Временной ряд стационарен\")\n",
    "    else:\n",
    "        print (\"Нулевая гипотеза не отвергнута – Временной ряд не стационарен\")"
   ]
  },
  {
   "cell_type": "markdown",
   "metadata": {},
   "source": [
    "Ряд стационарен, посмотрим на его тренд, сезонность и остатки"
   ]
  },
  {
   "cell_type": "code",
   "execution_count": 8,
   "metadata": {
    "scrolled": true
   },
   "outputs": [
    {
     "data": {
      "image/png": "[encoded data removed]",
      "text/plain": [
       "<Figure size 1152x720 with 3 Axes>"
      ]
     },
     "metadata": {
      "needs_background": "light"
     },
     "output_type": "display_data"
    }
   ],
   "source": [
    "decomposed = seasonal_decompose(df1)\n",
    "\n",
    "fig, axs = plt.subplots(3, figsize=(16,10), sharex=False)\n",
    "axs[0].plot(decomposed.trend)\n",
    "axs[0].set_title(\"Trend\")\n",
    "\n",
    "axs[1].plot(decomposed.seasonal)\n",
    "axs[1].set_title(\"Seasonal, hours\")\n",
    "axs[1].set_xlim(left = pd.to_datetime('2018-03-01 00:00:00'),right=pd.to_datetime('2018-03-02 23:00:00'))\n",
    "\n",
    "axs[2].plot(decomposed.resid)\n",
    "axs[2].set_title(\"Residual\")\n",
    "\n",
    "plt.show()"
   ]
  },
  {
   "cell_type": "markdown",
   "metadata": {},
   "source": [
    "Как видно внутри дня есть некая сезонность, днём количество заказов повышается и достигает пика в 12 ночи, далее снижается до 6 утра."
   ]
  },
  {
   "cell_type": "markdown",
   "metadata": {},
   "source": [
    "Теперь, хоть и критерий Дики-Фуллера говорит что ряд стационарен, мы заметили на графике что некоторая сезонность присутствует. Уберём её сначала с помощью разности временного ряда"
   ]
  },
  {
   "cell_type": "code",
   "execution_count": 9,
   "metadata": {},
   "outputs": [],
   "source": [
    "df1 = df - df.shift(fill_value=0)"
   ]
  },
  {
   "cell_type": "markdown",
   "metadata": {},
   "source": [
    "Далее для того чтобы принять решение что делать с рядом попробуем 2 варианта: \n",
    "\n",
    "1) Скользящее среднее\n",
    "\n",
    "2) Логарифмирование"
   ]
  },
  {
   "cell_type": "markdown",
   "metadata": {},
   "source": [
    "Прологарифмируем ряд для того чтобы он не уходил \"в разнос\"  "
   ]
  },
  {
   "cell_type": "code",
   "execution_count": 10,
   "metadata": {
    "scrolled": false
   },
   "outputs": [],
   "source": [
    "df1['y'] = np.log10(df1['num_orders'])"
   ]
  },
  {
   "cell_type": "markdown",
   "metadata": {},
   "source": [
    "Как видно, логарифм хорошо стандартизирует ряд"
   ]
  },
  {
   "cell_type": "code",
   "execution_count": 13,
   "metadata": {
    "scrolled": true
   },
   "outputs": [
    {
     "data": {
      "text/plain": [
       "<AxesSubplot:xlabel='datetime'>"
      ]
     },
     "execution_count": 13,
     "metadata": {},
     "output_type": "execute_result"
    },
    {
     "data": {
      "image/png": "[encoded data removed]",
      "text/plain": [
       "<Figure size 432x288 with 1 Axes>"
      ]
     },
     "metadata": {
      "needs_background": "light"
     },
     "output_type": "display_data"
    }
   ],
   "source": [
    "df1.plot()"
   ]
  },
  {
   "cell_type": "markdown",
   "metadata": {},
   "source": [
    "Теперь используем скользящее среднее"
   ]
  },
  {
   "cell_type": "code",
   "execution_count": 14,
   "metadata": {},
   "outputs": [],
   "source": [
    "df1['rolling_mean'] = df1['num_orders'].rolling(6).mean()"
   ]
  },
  {
   "cell_type": "markdown",
   "metadata": {},
   "source": [
    "Судя по графику, скользящее среднее делает это несколько хуже, чем логарифмирование"
   ]
  },
  {
   "cell_type": "code",
   "execution_count": 15,
   "metadata": {
    "scrolled": false
   },
   "outputs": [
    {
     "data": {
      "text/plain": [
       "<AxesSubplot:xlabel='datetime'>"
      ]
     },
     "execution_count": 15,
     "metadata": {},
     "output_type": "execute_result"
    },
    {
     "data": {
      "image/png": "[encoded data removed]",
      "text/plain": [
       "<Figure size 432x288 with 1 Axes>"
      ]
     },
     "metadata": {
      "needs_background": "light"
     },
     "output_type": "display_data"
    }
   ],
   "source": [
    "df1.plot()"
   ]
  },
  {
   "cell_type": "markdown",
   "metadata": {},
   "source": [
    "Проверим на пропущенные значения"
   ]
  },
  {
   "cell_type": "code",
   "execution_count": 16,
   "metadata": {},
   "outputs": [
    {
     "name": "stdout",
     "output_type": "stream",
     "text": [
      "Пропущенных значений в столбце num_orders: 0.0%\n",
      "Пропущенных значений в столбце y: 48.0%\n",
      "Пропущенных значений в столбце rolling_mean: 0.1%\n"
     ]
    }
   ],
   "source": [
    "for col in df1.columns:\n",
    "    print(f'Пропущенных значений в столбце {col}: {(len(df1) - df1[col].count())/len(df1):.1%}')  "
   ]
  },
  {
   "cell_type": "markdown",
   "metadata": {},
   "source": [
    "Напишем функцию для стандартизации временного ряда и создания признаков для обучения модели"
   ]
  },
  {
   "cell_type": "code",
   "execution_count": 20,
   "metadata": {},
   "outputs": [],
   "source": [
    "def make_features(data, max_lag, rolling_mean_size):\n",
    "    data['year'] = data.index.year\n",
    "    data['month'] = data.index.month\n",
    "    data['day'] = data.index.day\n",
    "    data['dayofweek'] = data.index.dayofweek\n",
    "    \n",
    "    for lag in range(1, max_lag + 1):\n",
    "        data['lag_{}'.format(lag)] = data['num_orders'].shift(lag)\n",
    "\n",
    "    data['rolling_mean'] = data['num_orders'].shift().rolling(rolling_mean_size).mean()\n",
    "    return data"
   ]
  },
  {
   "cell_type": "code",
   "execution_count": 21,
   "metadata": {},
   "outputs": [],
   "source": [
    "df_new = make_features(df, 24, 70)"
   ]
  },
  {
   "cell_type": "markdown",
   "metadata": {},
   "source": [
    "Разделим наши данные на тренировочную и тестовую выборку"
   ]
  },
  {
   "cell_type": "code",
   "execution_count": 22,
   "metadata": {},
   "outputs": [],
   "source": [
    "train, test = train_test_split(df_new, shuffle=False, test_size=0.1)\n",
    "train = train.dropna()\n",
    "\n",
    "X_train = train.drop(['num_orders'],axis = 1)\n",
    "X_test = test.drop(['num_orders'],axis = 1)\n",
    "y_train= train['num_orders']\n",
    "y_test= test['num_orders']\n",
    "\n",
    "tscv = TimeSeriesSplit(n_splits=5)"
   ]
  },
  {
   "cell_type": "code",
   "execution_count": 30,
   "metadata": {},
   "outputs": [],
   "source": [
    "def GridSearch(est,params,X_train,y_train):\n",
    "    grid_search_cv_est = GridSearchCV(est,params,scoring='neg_root_mean_squared_error',cv = tscv)\n",
    "    grid_search_cv_est.fit(X_train,y_train)\n",
    "    best_param = grid_search_cv_est.best_params_\n",
    "    best_est_est = grid_search_cv_est.best_estimator_\n",
    "    return best_est_est,best_param"
   ]
  },
  {
   "cell_type": "markdown",
   "metadata": {},
   "source": [
    "## Обучение"
   ]
  },
  {
   "cell_type": "markdown",
   "metadata": {},
   "source": [
    "Обучим линейную регрессию"
   ]
  },
  {
   "cell_type": "code",
   "execution_count": 35,
   "metadata": {},
   "outputs": [
    {
     "name": "stdout",
     "output_type": "stream",
     "text": [
      "{'fit_intercept': 'True', 'normalize': 'True', 'positive': 'True'}\n",
      "RMSE обучающей выборки: 26.416301583158717\n"
     ]
    }
   ],
   "source": [
    "model = LinearRegression()\n",
    "\n",
    "params = {'fit_intercept':['True','False'],\n",
    "         'normalize':['True','False'],\n",
    "         'positive':['True','False']}\n",
    "\n",
    "\n",
    "best_clf1,best_param = GridSearch(model,params,X_train,y_train)\n",
    "print(best_param)\n",
    "\n",
    "pred = best_clf1.predict(X_train)\n",
    "\n",
    "print(\"RMSE обучающей выборки:\", mean_squared_error(y_train, pred, squared=False))"
   ]
  },
  {
   "cell_type": "markdown",
   "metadata": {},
   "source": [
    "Обучим градиентный бустинг"
   ]
  },
  {
   "cell_type": "code",
   "execution_count": 37,
   "metadata": {
    "scrolled": true
   },
   "outputs": [
    {
     "name": "stdout",
     "output_type": "stream",
     "text": [
      "{'depth': 8, 'iterations': 150}\n",
      "RMSE обучающей выборки: 17.156480856706587\n",
      "RMSE тестовой выборки:  40.709421475016185\n"
     ]
    }
   ],
   "source": [
    "model = CatBoostRegressor(verbose = False,loss_function = 'RMSE',learning_rate = 0.08)\n",
    "\n",
    "params = {\"iterations\": [100,150],\n",
    "          \"depth\": [5,8]}\n",
    "\n",
    "\n",
    "best_clf1,best_param = GridSearch(model,params,X_train,y_train)\n",
    "print(best_param)\n",
    "\n",
    "pred = best_clf1.predict(X_train)\n",
    "\n",
    "print(\"RMSE обучающей выборки:\", mean_squared_error(y_train, pred, squared=False))"
   ]
  },
  {
   "cell_type": "markdown",
   "metadata": {},
   "source": [
    "Вывод: Градиентый бустинг оказался сильно лучше линейной регрессии хоть и немного переобучился. "
   ]
  },
  {
   "cell_type": "markdown",
   "metadata": {},
   "source": [
    "## Тестирование"
   ]
  },
  {
   "cell_type": "code",
   "execution_count": 25,
   "metadata": {},
   "outputs": [
    {
     "name": "stdout",
     "output_type": "stream",
     "text": [
      "RMSE тестовой выборки:  40.709421475016185\n"
     ]
    }
   ],
   "source": [
    "pred_test = model.predict(X_test)\n",
    "print(\"RMSE тестовой выборки: \", mean_squared_error(y_test,pred_test, squared = False))"
   ]
  },
  {
   "cell_type": "markdown",
   "metadata": {},
   "source": [
    "Посмотрим на график исходного и предсказанного трейна. "
   ]
  },
  {
   "cell_type": "code",
   "execution_count": 26,
   "metadata": {
    "scrolled": true
   },
   "outputs": [
    {
     "data": {
      "image/png": "[encoded data removed]",
      "text/plain": [
       "<Figure size 432x288 with 1 Axes>"
      ]
     },
     "metadata": {
      "needs_background": "light"
     },
     "output_type": "display_data"
    }
   ],
   "source": [
    "plt.plot(X_train.index, y_train, label='Actual values')\n",
    "plt.plot(X_train.index, pred, label='Predictions')\n",
    "plt.legend()\n",
    "plt.show()"
   ]
  },
  {
   "cell_type": "markdown",
   "metadata": {},
   "source": [
    "Как видно они практически идентичны. Теперь тест"
   ]
  },
  {
   "cell_type": "code",
   "execution_count": 27,
   "metadata": {},
   "outputs": [
    {
     "data": {
      "image/png": "[encoded data removed]",
      "text/plain": [
       "<Figure size 432x288 with 1 Axes>"
      ]
     },
     "metadata": {
      "needs_background": "light"
     },
     "output_type": "display_data"
    }
   ],
   "source": [
    "plt.plot(X_test.index, y_test, label='Actual values')\n",
    "plt.plot(X_test.index, pred_test, label = 'Predictions')\n",
    "plt.legend()\n",
    "plt.show()"
   ]
  },
  {
   "cell_type": "markdown",
   "metadata": {},
   "source": [
    "Здесь модель тоже справилась достаточно хорошо и точно предсказала временной ряд"
   ]
  },
  {
   "cell_type": "markdown",
   "metadata": {},
   "source": [
    "## Вывод"
   ]
  },
  {
   "cell_type": "markdown",
   "metadata": {},
   "source": [
    "Градиентный бустинг хорошо показывает себя при предсказании временных рядов"
   ]
  }
 ],
 "metadata": {
  "ExecuteTimeLog": [
   {
    "duration": 431,
    "start_time": "2022-10-03T17:20:58.592Z"
   },
   {
    "duration": 121,
    "start_time": "2022-10-03T17:21:15.681Z"
   },
   {
    "duration": 14,
    "start_time": "2022-10-03T17:21:18.301Z"
   },
   {
    "duration": 44,
    "start_time": "2022-10-03T17:21:35.663Z"
   },
   {
    "duration": 8,
    "start_time": "2022-10-03T17:21:36.572Z"
   },
   {
    "duration": 96,
    "start_time": "2022-10-04T06:25:09.412Z"
   },
   {
    "duration": 463,
    "start_time": "2022-10-04T06:25:12.546Z"
   },
   {
    "duration": 143,
    "start_time": "2022-10-04T06:25:13.011Z"
   },
   {
    "duration": 21,
    "start_time": "2022-10-04T06:25:13.157Z"
   },
   {
    "duration": 53,
    "start_time": "2022-10-04T06:25:18.689Z"
   },
   {
    "duration": 13,
    "start_time": "2022-10-04T06:25:23.855Z"
   },
   {
    "duration": 8,
    "start_time": "2022-10-04T06:25:28.117Z"
   },
   {
    "duration": 6,
    "start_time": "2022-10-04T06:31:32.138Z"
   },
   {
    "duration": 5,
    "start_time": "2022-10-04T06:34:51.840Z"
   },
   {
    "duration": 28,
    "start_time": "2022-10-04T06:37:03.078Z"
   },
   {
    "duration": 46,
    "start_time": "2022-10-04T06:38:22.325Z"
   },
   {
    "duration": 13,
    "start_time": "2022-10-04T06:38:23.141Z"
   },
   {
    "duration": 4,
    "start_time": "2022-10-04T06:38:24.236Z"
   },
   {
    "duration": 5,
    "start_time": "2022-10-04T06:38:25.334Z"
   },
   {
    "duration": 14,
    "start_time": "2022-10-04T06:38:29.806Z"
   },
   {
    "duration": 4,
    "start_time": "2022-10-04T06:38:54.965Z"
   },
   {
    "duration": 3,
    "start_time": "2022-10-04T06:38:57.509Z"
   },
   {
    "duration": 70094,
    "start_time": "2022-10-04T06:40:42.715Z"
   },
   {
    "duration": 2,
    "start_time": "2022-10-04T06:41:59.480Z"
   },
   {
    "duration": 54,
    "start_time": "2022-10-04T06:41:59.659Z"
   },
   {
    "duration": 10,
    "start_time": "2022-10-04T06:41:59.776Z"
   },
   {
    "duration": 4,
    "start_time": "2022-10-04T06:42:00.146Z"
   },
   {
    "duration": 3,
    "start_time": "2022-10-04T06:42:01.423Z"
   },
   {
    "duration": 47033,
    "start_time": "2022-10-04T06:42:01.606Z"
   },
   {
    "duration": 2,
    "start_time": "2022-10-04T06:42:50.678Z"
   },
   {
    "duration": 50,
    "start_time": "2022-10-04T06:42:50.847Z"
   },
   {
    "duration": 12,
    "start_time": "2022-10-04T06:42:51.046Z"
   },
   {
    "duration": 5,
    "start_time": "2022-10-04T06:42:51.214Z"
   },
   {
    "duration": 8,
    "start_time": "2022-10-04T06:42:51.569Z"
   },
   {
    "duration": 288,
    "start_time": "2022-10-04T06:42:52.065Z"
   },
   {
    "duration": 10,
    "start_time": "2022-10-04T06:43:00.590Z"
   },
   {
    "duration": 274,
    "start_time": "2022-10-04T06:43:00.946Z"
   },
   {
    "duration": 2,
    "start_time": "2022-10-04T06:43:07.829Z"
   },
   {
    "duration": 48,
    "start_time": "2022-10-04T06:43:08.026Z"
   },
   {
    "duration": 11,
    "start_time": "2022-10-04T06:43:08.157Z"
   },
   {
    "duration": 3,
    "start_time": "2022-10-04T06:43:08.679Z"
   },
   {
    "duration": 7,
    "start_time": "2022-10-04T06:43:08.854Z"
   },
   {
    "duration": 277,
    "start_time": "2022-10-04T06:43:09.134Z"
   },
   {
    "duration": 8,
    "start_time": "2022-10-04T06:43:55.792Z"
   },
   {
    "duration": 400,
    "start_time": "2022-10-04T06:43:56.150Z"
   },
   {
    "duration": 6,
    "start_time": "2022-10-04T06:44:33.836Z"
   },
   {
    "duration": 290,
    "start_time": "2022-10-04T06:44:39.881Z"
   },
   {
    "duration": 6,
    "start_time": "2022-10-04T06:46:37.585Z"
   },
   {
    "duration": 286,
    "start_time": "2022-10-04T06:46:37.830Z"
   },
   {
    "duration": 6,
    "start_time": "2022-10-04T06:46:55.063Z"
   },
   {
    "duration": 309,
    "start_time": "2022-10-04T06:46:55.411Z"
   },
   {
    "duration": 527,
    "start_time": "2022-10-04T06:47:43.355Z"
   },
   {
    "duration": 48,
    "start_time": "2022-10-04T06:48:09.169Z"
   },
   {
    "duration": 12,
    "start_time": "2022-10-04T06:48:12.867Z"
   },
   {
    "duration": 18,
    "start_time": "2022-10-04T06:48:22.031Z"
   },
   {
    "duration": 3,
    "start_time": "2022-10-04T06:48:45.980Z"
   },
   {
    "duration": 51,
    "start_time": "2022-10-04T06:48:46.130Z"
   },
   {
    "duration": 19,
    "start_time": "2022-10-04T06:48:46.279Z"
   },
   {
    "duration": 5,
    "start_time": "2022-10-04T06:48:47.557Z"
   },
   {
    "duration": 32,
    "start_time": "2022-10-04T06:48:51.367Z"
   },
   {
    "duration": 9,
    "start_time": "2022-10-04T06:49:02.233Z"
   },
   {
    "duration": 295,
    "start_time": "2022-10-04T06:49:02.580Z"
   },
   {
    "duration": 18,
    "start_time": "2022-10-04T06:49:02.877Z"
   },
   {
    "duration": 307,
    "start_time": "2022-10-04T06:49:02.945Z"
   },
   {
    "duration": 11,
    "start_time": "2022-10-04T06:49:03.254Z"
   },
   {
    "duration": 5,
    "start_time": "2022-10-04T06:49:19.014Z"
   },
   {
    "duration": 3,
    "start_time": "2022-10-04T07:16:59.908Z"
   },
   {
    "duration": 64,
    "start_time": "2022-10-04T07:16:59.913Z"
   },
   {
    "duration": 15,
    "start_time": "2022-10-04T07:16:59.979Z"
   },
   {
    "duration": 14,
    "start_time": "2022-10-04T07:16:59.999Z"
   },
   {
    "duration": 8,
    "start_time": "2022-10-04T07:17:00.019Z"
   },
   {
    "duration": 537,
    "start_time": "2022-10-04T07:17:00.195Z"
   },
   {
    "duration": 8,
    "start_time": "2022-10-04T07:17:00.735Z"
   },
   {
    "duration": 351,
    "start_time": "2022-10-04T07:17:00.746Z"
   },
   {
    "duration": 7,
    "start_time": "2022-10-04T07:17:01.102Z"
   },
   {
    "duration": 31,
    "start_time": "2022-10-04T07:17:01.111Z"
   },
   {
    "duration": 5,
    "start_time": "2022-10-04T07:17:15.211Z"
   },
   {
    "duration": 311,
    "start_time": "2022-10-04T07:17:15.485Z"
   },
   {
    "duration": 8,
    "start_time": "2022-10-04T07:17:15.798Z"
   },
   {
    "duration": 11,
    "start_time": "2022-10-04T07:17:16.666Z"
   },
   {
    "duration": 3,
    "start_time": "2022-10-04T07:17:21.660Z"
   },
   {
    "duration": 60,
    "start_time": "2022-10-04T07:17:22.195Z"
   },
   {
    "duration": 13,
    "start_time": "2022-10-04T07:17:22.257Z"
   },
   {
    "duration": 8,
    "start_time": "2022-10-04T07:17:22.272Z"
   },
   {
    "duration": 36,
    "start_time": "2022-10-04T07:17:22.283Z"
   },
   {
    "duration": 292,
    "start_time": "2022-10-04T07:17:22.322Z"
   },
   {
    "duration": 6,
    "start_time": "2022-10-04T07:17:22.617Z"
   },
   {
    "duration": 336,
    "start_time": "2022-10-04T07:17:22.625Z"
   },
   {
    "duration": 4,
    "start_time": "2022-10-04T07:17:22.963Z"
   },
   {
    "duration": 25,
    "start_time": "2022-10-04T07:17:22.974Z"
   },
   {
    "duration": 11,
    "start_time": "2022-10-04T07:17:30.630Z"
   },
   {
    "duration": 348,
    "start_time": "2022-10-04T07:17:30.833Z"
   },
   {
    "duration": 22,
    "start_time": "2022-10-04T07:17:31.183Z"
   },
   {
    "duration": 13,
    "start_time": "2022-10-04T07:17:31.932Z"
   },
   {
    "duration": 3,
    "start_time": "2022-10-04T07:17:48.453Z"
   },
   {
    "duration": 64,
    "start_time": "2022-10-04T07:17:48.664Z"
   },
   {
    "duration": 21,
    "start_time": "2022-10-04T07:17:48.899Z"
   },
   {
    "duration": 5,
    "start_time": "2022-10-04T07:17:49.163Z"
   },
   {
    "duration": 11,
    "start_time": "2022-10-04T07:17:49.411Z"
   },
   {
    "duration": 271,
    "start_time": "2022-10-04T07:17:49.670Z"
   },
   {
    "duration": 8,
    "start_time": "2022-10-04T07:17:50.106Z"
   },
   {
    "duration": 547,
    "start_time": "2022-10-04T07:17:50.573Z"
   },
   {
    "duration": 8,
    "start_time": "2022-10-04T07:17:52.253Z"
   },
   {
    "duration": 4,
    "start_time": "2022-10-04T07:18:02.322Z"
   },
   {
    "duration": 54,
    "start_time": "2022-10-04T07:18:02.583Z"
   },
   {
    "duration": 12,
    "start_time": "2022-10-04T07:18:02.920Z"
   },
   {
    "duration": 4,
    "start_time": "2022-10-04T07:18:03.148Z"
   },
   {
    "duration": 11,
    "start_time": "2022-10-04T07:18:03.369Z"
   },
   {
    "duration": 291,
    "start_time": "2022-10-04T07:18:03.516Z"
   },
   {
    "duration": 7,
    "start_time": "2022-10-04T07:18:03.809Z"
   },
   {
    "duration": 315,
    "start_time": "2022-10-04T07:18:03.933Z"
   },
   {
    "duration": 5,
    "start_time": "2022-10-04T07:18:04.250Z"
   },
   {
    "duration": 13,
    "start_time": "2022-10-04T07:18:04.330Z"
   },
   {
    "duration": 14,
    "start_time": "2022-10-04T07:18:11.289Z"
   },
   {
    "duration": 375,
    "start_time": "2022-10-04T07:18:11.534Z"
   },
   {
    "duration": 9,
    "start_time": "2022-10-04T07:18:11.917Z"
   },
   {
    "duration": 12,
    "start_time": "2022-10-04T07:18:11.974Z"
   },
   {
    "duration": 4,
    "start_time": "2022-10-04T07:18:44.022Z"
   },
   {
    "duration": 59,
    "start_time": "2022-10-04T07:18:44.255Z"
   },
   {
    "duration": 13,
    "start_time": "2022-10-04T07:18:44.450Z"
   },
   {
    "duration": 5,
    "start_time": "2022-10-04T07:18:44.659Z"
   },
   {
    "duration": 8,
    "start_time": "2022-10-04T07:18:44.848Z"
   },
   {
    "duration": 340,
    "start_time": "2022-10-04T07:18:45.070Z"
   },
   {
    "duration": 9,
    "start_time": "2022-10-04T07:18:45.632Z"
   },
   {
    "duration": 234,
    "start_time": "2022-10-04T07:19:14.902Z"
   },
   {
    "duration": 292,
    "start_time": "2022-10-04T07:19:33.302Z"
   },
   {
    "duration": 10,
    "start_time": "2022-10-04T07:36:15.010Z"
   },
   {
    "duration": 4,
    "start_time": "2022-10-04T07:36:31.194Z"
   },
   {
    "duration": 54,
    "start_time": "2022-10-04T07:36:31.668Z"
   },
   {
    "duration": 15,
    "start_time": "2022-10-04T07:36:31.853Z"
   },
   {
    "duration": 6,
    "start_time": "2022-10-04T07:36:32.035Z"
   },
   {
    "duration": 8,
    "start_time": "2022-10-04T07:36:32.200Z"
   },
   {
    "duration": 253,
    "start_time": "2022-10-04T07:36:32.379Z"
   },
   {
    "duration": 9,
    "start_time": "2022-10-04T07:36:32.697Z"
   },
   {
    "duration": 318,
    "start_time": "2022-10-04T07:36:33.036Z"
   },
   {
    "duration": 6,
    "start_time": "2022-10-04T07:36:33.357Z"
   },
   {
    "duration": 14,
    "start_time": "2022-10-04T07:37:48.510Z"
   },
   {
    "duration": 224,
    "start_time": "2022-10-04T07:39:22.303Z"
   },
   {
    "duration": 4,
    "start_time": "2022-10-04T07:42:34.625Z"
   },
   {
    "duration": 298,
    "start_time": "2022-10-04T07:42:38.992Z"
   },
   {
    "duration": 4,
    "start_time": "2022-10-04T07:43:03.632Z"
   },
   {
    "duration": 49,
    "start_time": "2022-10-04T07:43:03.807Z"
   },
   {
    "duration": 11,
    "start_time": "2022-10-04T07:43:04.112Z"
   },
   {
    "duration": 5,
    "start_time": "2022-10-04T07:43:04.411Z"
   },
   {
    "duration": 7,
    "start_time": "2022-10-04T07:43:04.746Z"
   },
   {
    "duration": 248,
    "start_time": "2022-10-04T07:43:04.929Z"
   },
   {
    "duration": 13,
    "start_time": "2022-10-04T07:43:05.179Z"
   },
   {
    "duration": 224,
    "start_time": "2022-10-04T07:43:05.288Z"
   },
   {
    "duration": 4,
    "start_time": "2022-10-04T07:43:05.845Z"
   },
   {
    "duration": 239,
    "start_time": "2022-10-04T07:43:06.420Z"
   },
   {
    "duration": 6,
    "start_time": "2022-10-04T07:43:11.984Z"
   },
   {
    "duration": 277,
    "start_time": "2022-10-04T07:43:12.280Z"
   },
   {
    "duration": 292,
    "start_time": "2022-10-04T07:43:21.721Z"
   },
   {
    "duration": 4,
    "start_time": "2022-10-04T07:43:41.874Z"
   },
   {
    "duration": 51,
    "start_time": "2022-10-04T07:43:42.075Z"
   },
   {
    "duration": 10,
    "start_time": "2022-10-04T07:43:42.272Z"
   },
   {
    "duration": 4,
    "start_time": "2022-10-04T07:43:42.425Z"
   },
   {
    "duration": 8,
    "start_time": "2022-10-04T07:43:42.756Z"
   },
   {
    "duration": 234,
    "start_time": "2022-10-04T07:43:43.067Z"
   },
   {
    "duration": 10,
    "start_time": "2022-10-04T07:43:43.491Z"
   },
   {
    "duration": 202,
    "start_time": "2022-10-04T07:43:44.066Z"
   },
   {
    "duration": 3,
    "start_time": "2022-10-04T07:43:44.972Z"
   },
   {
    "duration": 238,
    "start_time": "2022-10-04T07:43:45.605Z"
   },
   {
    "duration": 346,
    "start_time": "2022-10-04T07:43:46.312Z"
   },
   {
    "duration": 5,
    "start_time": "2022-10-04T07:45:19.877Z"
   },
   {
    "duration": 285,
    "start_time": "2022-10-04T07:45:28.875Z"
   },
   {
    "duration": 12,
    "start_time": "2022-10-04T07:46:18.957Z"
   },
   {
    "duration": 1354,
    "start_time": "2022-10-04T07:46:41.076Z"
   },
   {
    "duration": 5,
    "start_time": "2022-10-04T07:49:43.134Z"
   },
   {
    "duration": 326,
    "start_time": "2022-10-04T07:49:52.447Z"
   },
   {
    "duration": 5,
    "start_time": "2022-10-04T07:50:31.041Z"
   },
   {
    "duration": 374,
    "start_time": "2022-10-04T07:50:37.802Z"
   },
   {
    "duration": 207,
    "start_time": "2022-10-04T07:50:51.456Z"
   },
   {
    "duration": 354,
    "start_time": "2022-10-04T07:51:00.895Z"
   },
   {
    "duration": 3,
    "start_time": "2022-10-04T07:51:05.996Z"
   },
   {
    "duration": 4,
    "start_time": "2022-10-04T07:51:06.247Z"
   },
   {
    "duration": 335,
    "start_time": "2022-10-04T07:51:06.622Z"
   },
   {
    "duration": 3,
    "start_time": "2022-10-04T07:51:14.935Z"
   },
   {
    "duration": 62,
    "start_time": "2022-10-04T07:51:15.129Z"
   },
   {
    "duration": 14,
    "start_time": "2022-10-04T07:51:15.416Z"
   },
   {
    "duration": 5,
    "start_time": "2022-10-04T07:51:15.560Z"
   },
   {
    "duration": 10,
    "start_time": "2022-10-04T07:51:15.692Z"
   },
   {
    "duration": 279,
    "start_time": "2022-10-04T07:51:15.909Z"
   },
   {
    "duration": 7,
    "start_time": "2022-10-04T07:51:16.191Z"
   },
   {
    "duration": 226,
    "start_time": "2022-10-04T07:51:16.200Z"
   },
   {
    "duration": 5,
    "start_time": "2022-10-04T07:51:16.428Z"
   },
   {
    "duration": 291,
    "start_time": "2022-10-04T07:51:16.812Z"
   },
   {
    "duration": 387,
    "start_time": "2022-10-04T07:51:17.223Z"
   },
   {
    "duration": 3,
    "start_time": "2022-10-04T07:51:17.893Z"
   },
   {
    "duration": 5,
    "start_time": "2022-10-04T07:51:18.820Z"
   },
   {
    "duration": 278,
    "start_time": "2022-10-04T07:51:19.570Z"
   },
   {
    "duration": 5,
    "start_time": "2022-10-04T07:52:05.047Z"
   },
   {
    "duration": 338,
    "start_time": "2022-10-04T07:52:05.500Z"
   },
   {
    "duration": 5,
    "start_time": "2022-10-04T07:54:14.295Z"
   },
   {
    "duration": 3,
    "start_time": "2022-10-04T08:20:35.730Z"
   },
   {
    "duration": 48,
    "start_time": "2022-10-04T08:20:35.872Z"
   },
   {
    "duration": 10,
    "start_time": "2022-10-04T08:20:36.021Z"
   },
   {
    "duration": 4,
    "start_time": "2022-10-04T08:20:36.218Z"
   },
   {
    "duration": 629,
    "start_time": "2022-10-04T08:20:36.728Z"
   },
   {
    "duration": 7,
    "start_time": "2022-10-04T08:20:44.766Z"
   },
   {
    "duration": 250,
    "start_time": "2022-10-04T08:20:44.987Z"
   },
   {
    "duration": 218,
    "start_time": "2022-10-04T08:20:45.271Z"
   },
   {
    "duration": 244,
    "start_time": "2022-10-04T08:20:46.869Z"
   },
   {
    "duration": 200,
    "start_time": "2022-10-04T08:20:47.812Z"
   },
   {
    "duration": 3,
    "start_time": "2022-10-04T08:20:48.165Z"
   },
   {
    "duration": 5,
    "start_time": "2022-10-04T08:20:48.954Z"
   },
   {
    "duration": 267,
    "start_time": "2022-10-04T08:20:49.374Z"
   },
   {
    "duration": 5,
    "start_time": "2022-10-04T08:20:49.930Z"
   },
   {
    "duration": 325,
    "start_time": "2022-10-04T08:20:50.464Z"
   },
   {
    "duration": 13,
    "start_time": "2022-10-04T08:23:19.884Z"
   },
   {
    "duration": 16,
    "start_time": "2022-10-04T08:23:40.958Z"
   },
   {
    "duration": 2,
    "start_time": "2022-10-04T08:23:58.487Z"
   },
   {
    "duration": 48,
    "start_time": "2022-10-04T08:23:59.029Z"
   },
   {
    "duration": 11,
    "start_time": "2022-10-04T08:23:59.172Z"
   },
   {
    "duration": 4,
    "start_time": "2022-10-04T08:23:59.332Z"
   },
   {
    "duration": 660,
    "start_time": "2022-10-04T08:23:59.472Z"
   },
   {
    "duration": 8,
    "start_time": "2022-10-04T08:24:00.134Z"
   },
   {
    "duration": 473,
    "start_time": "2022-10-04T08:24:00.144Z"
   },
   {
    "duration": 235,
    "start_time": "2022-10-04T08:24:00.620Z"
   },
   {
    "duration": 273,
    "start_time": "2022-10-04T08:24:00.857Z"
   },
   {
    "duration": 229,
    "start_time": "2022-10-04T08:24:01.132Z"
   },
   {
    "duration": 2,
    "start_time": "2022-10-04T08:24:01.363Z"
   },
   {
    "duration": 29,
    "start_time": "2022-10-04T08:24:01.367Z"
   },
   {
    "duration": 279,
    "start_time": "2022-10-04T08:24:01.399Z"
   },
   {
    "duration": 11,
    "start_time": "2022-10-04T08:24:01.680Z"
   },
   {
    "duration": 440,
    "start_time": "2022-10-04T08:24:01.693Z"
   },
   {
    "duration": 5,
    "start_time": "2022-10-04T08:24:02.135Z"
   },
   {
    "duration": 453,
    "start_time": "2022-10-04T08:24:02.142Z"
   },
   {
    "duration": 259,
    "start_time": "2022-10-04T08:25:42.669Z"
   },
   {
    "duration": 3,
    "start_time": "2022-10-04T08:25:46.123Z"
   },
   {
    "duration": 445,
    "start_time": "2022-10-04T08:25:52.145Z"
   },
   {
    "duration": 3,
    "start_time": "2022-10-04T08:26:50.915Z"
   },
   {
    "duration": 47,
    "start_time": "2022-10-04T08:26:51.134Z"
   },
   {
    "duration": 11,
    "start_time": "2022-10-04T08:26:51.259Z"
   },
   {
    "duration": 3,
    "start_time": "2022-10-04T08:26:51.430Z"
   },
   {
    "duration": 682,
    "start_time": "2022-10-04T08:26:51.550Z"
   },
   {
    "duration": 7,
    "start_time": "2022-10-04T08:26:52.234Z"
   },
   {
    "duration": 263,
    "start_time": "2022-10-04T08:26:52.242Z"
   },
   {
    "duration": 213,
    "start_time": "2022-10-04T08:26:52.507Z"
   },
   {
    "duration": 307,
    "start_time": "2022-10-04T08:26:52.722Z"
   },
   {
    "duration": 271,
    "start_time": "2022-10-04T08:26:53.032Z"
   },
   {
    "duration": 2,
    "start_time": "2022-10-04T08:26:53.305Z"
   },
   {
    "duration": 27,
    "start_time": "2022-10-04T08:26:53.309Z"
   },
   {
    "duration": 292,
    "start_time": "2022-10-04T08:26:53.338Z"
   },
   {
    "duration": 5,
    "start_time": "2022-10-04T08:26:53.632Z"
   },
   {
    "duration": 590,
    "start_time": "2022-10-04T08:26:53.638Z"
   },
   {
    "duration": 6,
    "start_time": "2022-10-04T08:26:54.230Z"
   },
   {
    "duration": 436,
    "start_time": "2022-10-04T08:26:54.239Z"
   },
   {
    "duration": 10,
    "start_time": "2022-10-04T08:27:53.446Z"
   },
   {
    "duration": 3,
    "start_time": "2022-10-04T08:28:03.081Z"
   },
   {
    "duration": 48,
    "start_time": "2022-10-04T08:28:04.114Z"
   },
   {
    "duration": 10,
    "start_time": "2022-10-04T08:28:04.588Z"
   },
   {
    "duration": 4,
    "start_time": "2022-10-04T08:28:04.618Z"
   },
   {
    "duration": 674,
    "start_time": "2022-10-04T08:28:04.648Z"
   },
   {
    "duration": 7,
    "start_time": "2022-10-04T08:28:05.324Z"
   },
   {
    "duration": 286,
    "start_time": "2022-10-04T08:28:05.333Z"
   },
   {
    "duration": 223,
    "start_time": "2022-10-04T08:28:05.622Z"
   },
   {
    "duration": 257,
    "start_time": "2022-10-04T08:28:05.847Z"
   },
   {
    "duration": 222,
    "start_time": "2022-10-04T08:28:06.105Z"
   },
   {
    "duration": 3,
    "start_time": "2022-10-04T08:28:06.329Z"
   },
   {
    "duration": 9,
    "start_time": "2022-10-04T08:28:06.333Z"
   },
   {
    "duration": 298,
    "start_time": "2022-10-04T08:28:06.344Z"
   },
   {
    "duration": 5,
    "start_time": "2022-10-04T08:28:06.645Z"
   },
   {
    "duration": 334,
    "start_time": "2022-10-04T08:28:06.651Z"
   },
   {
    "duration": 4,
    "start_time": "2022-10-04T08:28:06.990Z"
   },
   {
    "duration": 468,
    "start_time": "2022-10-04T08:28:06.996Z"
   },
   {
    "duration": 3430,
    "start_time": "2022-10-04T08:28:51.701Z"
   },
   {
    "duration": 3154,
    "start_time": "2022-10-04T08:30:05.874Z"
   },
   {
    "duration": 17,
    "start_time": "2022-10-04T08:31:09.344Z"
   },
   {
    "duration": 11,
    "start_time": "2022-10-04T08:31:24.108Z"
   },
   {
    "duration": 4,
    "start_time": "2022-10-04T08:32:43.278Z"
   },
   {
    "duration": 54,
    "start_time": "2022-10-04T08:32:43.616Z"
   },
   {
    "duration": 12,
    "start_time": "2022-10-04T08:32:43.756Z"
   },
   {
    "duration": 5,
    "start_time": "2022-10-04T08:32:43.955Z"
   },
   {
    "duration": 661,
    "start_time": "2022-10-04T08:32:44.061Z"
   },
   {
    "duration": 7,
    "start_time": "2022-10-04T08:32:44.723Z"
   },
   {
    "duration": 266,
    "start_time": "2022-10-04T08:32:44.731Z"
   },
   {
    "duration": 225,
    "start_time": "2022-10-04T08:32:45.000Z"
   },
   {
    "duration": 301,
    "start_time": "2022-10-04T08:32:45.227Z"
   },
   {
    "duration": 247,
    "start_time": "2022-10-04T08:32:45.531Z"
   },
   {
    "duration": 9,
    "start_time": "2022-10-04T08:32:45.781Z"
   },
   {
    "duration": 8,
    "start_time": "2022-10-04T08:32:45.792Z"
   },
   {
    "duration": 603,
    "start_time": "2022-10-04T08:32:45.802Z"
   },
   {
    "duration": 6,
    "start_time": "2022-10-04T08:32:46.408Z"
   },
   {
    "duration": 337,
    "start_time": "2022-10-04T08:32:46.416Z"
   },
   {
    "duration": 5,
    "start_time": "2022-10-04T08:32:46.756Z"
   },
   {
    "duration": 2970,
    "start_time": "2022-10-04T08:32:46.764Z"
   },
   {
    "duration": 13,
    "start_time": "2022-10-04T08:32:49.737Z"
   },
   {
    "duration": 13,
    "start_time": "2022-10-04T08:33:01.253Z"
   },
   {
    "duration": 13,
    "start_time": "2022-10-04T08:33:07.386Z"
   },
   {
    "duration": 4,
    "start_time": "2022-10-04T08:35:12.116Z"
   },
   {
    "duration": 3,
    "start_time": "2022-10-04T08:38:21.117Z"
   },
   {
    "duration": 48,
    "start_time": "2022-10-04T08:38:21.357Z"
   },
   {
    "duration": 11,
    "start_time": "2022-10-04T08:38:21.725Z"
   },
   {
    "duration": 6,
    "start_time": "2022-10-04T08:38:21.952Z"
   },
   {
    "duration": 621,
    "start_time": "2022-10-04T08:38:22.344Z"
   },
   {
    "duration": 7,
    "start_time": "2022-10-04T08:38:22.968Z"
   },
   {
    "duration": 236,
    "start_time": "2022-10-04T08:38:23.502Z"
   },
   {
    "duration": 198,
    "start_time": "2022-10-04T08:38:23.993Z"
   },
   {
    "duration": 245,
    "start_time": "2022-10-04T08:38:24.266Z"
   },
   {
    "duration": 210,
    "start_time": "2022-10-04T08:38:24.519Z"
   },
   {
    "duration": 3,
    "start_time": "2022-10-04T08:38:24.767Z"
   },
   {
    "duration": 7,
    "start_time": "2022-10-04T08:38:25.109Z"
   },
   {
    "duration": 278,
    "start_time": "2022-10-04T08:38:25.642Z"
   },
   {
    "duration": 5,
    "start_time": "2022-10-04T08:38:26.095Z"
   },
   {
    "duration": 340,
    "start_time": "2022-10-04T08:38:26.719Z"
   },
   {
    "duration": 8,
    "start_time": "2022-10-04T08:38:27.243Z"
   },
   {
    "duration": 12,
    "start_time": "2022-10-04T08:38:29.288Z"
   },
   {
    "duration": 647,
    "start_time": "2022-10-04T08:38:58.622Z"
   },
   {
    "duration": 23,
    "start_time": "2022-10-04T08:39:49.314Z"
   },
   {
    "duration": 8,
    "start_time": "2022-10-04T08:40:00.842Z"
   },
   {
    "duration": 28,
    "start_time": "2022-10-04T08:40:01.351Z"
   },
   {
    "duration": 4,
    "start_time": "2022-10-04T08:40:19.348Z"
   },
   {
    "duration": 50,
    "start_time": "2022-10-04T08:40:19.539Z"
   },
   {
    "duration": 12,
    "start_time": "2022-10-04T08:40:19.731Z"
   },
   {
    "duration": 4,
    "start_time": "2022-10-04T08:40:20.032Z"
   },
   {
    "duration": 677,
    "start_time": "2022-10-04T08:40:20.198Z"
   },
   {
    "duration": 15,
    "start_time": "2022-10-04T08:40:20.878Z"
   },
   {
    "duration": 273,
    "start_time": "2022-10-04T08:40:20.895Z"
   },
   {
    "duration": 236,
    "start_time": "2022-10-04T08:40:21.170Z"
   },
   {
    "duration": 268,
    "start_time": "2022-10-04T08:40:21.408Z"
   },
   {
    "duration": 278,
    "start_time": "2022-10-04T08:40:21.678Z"
   },
   {
    "duration": 3,
    "start_time": "2022-10-04T08:40:21.958Z"
   },
   {
    "duration": 29,
    "start_time": "2022-10-04T08:40:21.964Z"
   },
   {
    "duration": 334,
    "start_time": "2022-10-04T08:40:21.995Z"
   },
   {
    "duration": 6,
    "start_time": "2022-10-04T08:40:22.331Z"
   },
   {
    "duration": 679,
    "start_time": "2022-10-04T08:40:22.340Z"
   },
   {
    "duration": 6,
    "start_time": "2022-10-04T08:40:23.022Z"
   },
   {
    "duration": 16,
    "start_time": "2022-10-04T08:40:23.030Z"
   },
   {
    "duration": 22,
    "start_time": "2022-10-04T08:40:23.664Z"
   },
   {
    "duration": 3,
    "start_time": "2022-10-04T08:40:42.129Z"
   },
   {
    "duration": 51,
    "start_time": "2022-10-04T08:40:42.309Z"
   },
   {
    "duration": 13,
    "start_time": "2022-10-04T08:40:42.619Z"
   },
   {
    "duration": 4,
    "start_time": "2022-10-04T08:40:42.811Z"
   },
   {
    "duration": 642,
    "start_time": "2022-10-04T08:40:42.972Z"
   },
   {
    "duration": 6,
    "start_time": "2022-10-04T08:40:43.616Z"
   },
   {
    "duration": 265,
    "start_time": "2022-10-04T08:40:43.624Z"
   },
   {
    "duration": 229,
    "start_time": "2022-10-04T08:40:43.891Z"
   },
   {
    "duration": 259,
    "start_time": "2022-10-04T08:40:44.122Z"
   },
   {
    "duration": 226,
    "start_time": "2022-10-04T08:40:44.382Z"
   },
   {
    "duration": 3,
    "start_time": "2022-10-04T08:40:44.612Z"
   },
   {
    "duration": 10,
    "start_time": "2022-10-04T08:40:44.616Z"
   },
   {
    "duration": 296,
    "start_time": "2022-10-04T08:40:44.628Z"
   },
   {
    "duration": 5,
    "start_time": "2022-10-04T08:40:44.926Z"
   },
   {
    "duration": 338,
    "start_time": "2022-10-04T08:40:45.016Z"
   },
   {
    "duration": 5,
    "start_time": "2022-10-04T08:40:45.392Z"
   },
   {
    "duration": 12,
    "start_time": "2022-10-04T08:40:45.841Z"
   },
   {
    "duration": 21,
    "start_time": "2022-10-04T08:40:46.408Z"
   },
   {
    "duration": 13,
    "start_time": "2022-10-04T08:43:16.615Z"
   },
   {
    "duration": 122,
    "start_time": "2022-10-04T08:43:33.078Z"
   },
   {
    "duration": 12,
    "start_time": "2022-10-04T08:43:41.546Z"
   },
   {
    "duration": 13,
    "start_time": "2022-10-04T08:43:58.539Z"
   },
   {
    "duration": 253,
    "start_time": "2022-10-04T08:44:48.557Z"
   },
   {
    "duration": 50,
    "start_time": "2022-10-04T08:44:49.209Z"
   },
   {
    "duration": 11,
    "start_time": "2022-10-04T08:44:49.374Z"
   },
   {
    "duration": 4,
    "start_time": "2022-10-04T08:44:49.549Z"
   },
   {
    "duration": 633,
    "start_time": "2022-10-04T08:44:49.676Z"
   },
   {
    "duration": 7,
    "start_time": "2022-10-04T08:44:50.311Z"
   },
   {
    "duration": 246,
    "start_time": "2022-10-04T08:44:50.320Z"
   },
   {
    "duration": 202,
    "start_time": "2022-10-04T08:44:50.568Z"
   },
   {
    "duration": 260,
    "start_time": "2022-10-04T08:44:50.772Z"
   },
   {
    "duration": 255,
    "start_time": "2022-10-04T08:44:51.034Z"
   },
   {
    "duration": 3,
    "start_time": "2022-10-04T08:44:51.291Z"
   },
   {
    "duration": 14,
    "start_time": "2022-10-04T08:44:51.296Z"
   },
   {
    "duration": 289,
    "start_time": "2022-10-04T08:44:51.312Z"
   },
   {
    "duration": 5,
    "start_time": "2022-10-04T08:44:51.603Z"
   },
   {
    "duration": 359,
    "start_time": "2022-10-04T08:44:51.640Z"
   },
   {
    "duration": 5,
    "start_time": "2022-10-04T08:44:52.002Z"
   },
   {
    "duration": 14,
    "start_time": "2022-10-04T08:44:52.146Z"
   },
   {
    "duration": 8,
    "start_time": "2022-10-04T08:44:52.662Z"
   },
   {
    "duration": 3,
    "start_time": "2022-10-04T08:50:53.659Z"
   },
   {
    "duration": 52,
    "start_time": "2022-10-04T08:50:54.847Z"
   },
   {
    "duration": 10,
    "start_time": "2022-10-04T08:50:55.110Z"
   },
   {
    "duration": 4,
    "start_time": "2022-10-04T08:50:55.310Z"
   },
   {
    "duration": 604,
    "start_time": "2022-10-04T08:50:55.649Z"
   },
   {
    "duration": 121,
    "start_time": "2022-10-04T08:51:34.876Z"
   },
   {
    "duration": 97,
    "start_time": "2022-10-04T08:51:43.159Z"
   },
   {
    "duration": 25153,
    "start_time": "2022-10-04T08:51:48.044Z"
   },
   {
    "duration": 6,
    "start_time": "2022-10-04T08:54:33.638Z"
   },
   {
    "duration": 57,
    "start_time": "2022-10-04T08:54:33.761Z"
   },
   {
    "duration": 10,
    "start_time": "2022-10-04T08:54:33.904Z"
   },
   {
    "duration": 3,
    "start_time": "2022-10-04T08:54:34.161Z"
   },
   {
    "duration": 654,
    "start_time": "2022-10-04T08:54:34.853Z"
   },
   {
    "duration": 8,
    "start_time": "2022-10-04T08:54:37.772Z"
   },
   {
    "duration": 246,
    "start_time": "2022-10-04T08:54:37.911Z"
   },
   {
    "duration": 245,
    "start_time": "2022-10-04T08:54:38.160Z"
   },
   {
    "duration": 262,
    "start_time": "2022-10-04T08:54:38.407Z"
   },
   {
    "duration": 230,
    "start_time": "2022-10-04T08:54:38.671Z"
   },
   {
    "duration": 2088,
    "start_time": "2022-10-04T08:54:38.903Z"
   },
   {
    "duration": 95,
    "start_time": "2022-10-04T08:54:40.994Z"
   },
   {
    "duration": 1983,
    "start_time": "2022-10-04T08:55:54.310Z"
   },
   {
    "duration": 3,
    "start_time": "2022-10-04T08:56:03.143Z"
   },
   {
    "duration": 48,
    "start_time": "2022-10-04T08:56:03.287Z"
   },
   {
    "duration": 11,
    "start_time": "2022-10-04T08:56:03.416Z"
   },
   {
    "duration": 3,
    "start_time": "2022-10-04T08:56:03.566Z"
   },
   {
    "duration": 649,
    "start_time": "2022-10-04T08:56:03.699Z"
   },
   {
    "duration": 21141,
    "start_time": "2022-10-04T08:56:04.350Z"
   },
   {
    "duration": 96,
    "start_time": "2022-10-04T08:56:25.494Z"
   },
   {
    "duration": 285,
    "start_time": "2022-10-04T08:56:25.592Z"
   },
   {
    "duration": 2313,
    "start_time": "2022-10-04T08:56:25.879Z"
   },
   {
    "duration": 290,
    "start_time": "2022-10-04T08:56:28.194Z"
   },
   {
    "duration": 270,
    "start_time": "2022-10-04T08:56:28.489Z"
   },
   {
    "duration": 5,
    "start_time": "2022-10-04T08:59:05.524Z"
   },
   {
    "duration": 54,
    "start_time": "2022-10-04T08:59:05.655Z"
   },
   {
    "duration": 11,
    "start_time": "2022-10-04T08:59:05.808Z"
   },
   {
    "duration": 4,
    "start_time": "2022-10-04T08:59:05.986Z"
   },
   {
    "duration": 8,
    "start_time": "2022-10-04T08:59:06.156Z"
   },
   {
    "duration": 1795,
    "start_time": "2022-10-04T08:59:06.503Z"
   },
   {
    "duration": 259,
    "start_time": "2022-10-04T08:59:15.790Z"
   },
   {
    "duration": 3434,
    "start_time": "2022-10-04T08:59:16.164Z"
   },
   {
    "duration": 239,
    "start_time": "2022-10-04T08:59:27.917Z"
   },
   {
    "duration": 1794,
    "start_time": "2022-10-04T08:59:28.496Z"
   },
   {
    "duration": 340,
    "start_time": "2022-10-04T08:59:30.293Z"
   },
   {
    "duration": 1527,
    "start_time": "2022-10-04T08:59:30.666Z"
   },
   {
    "duration": 212,
    "start_time": "2022-10-04T08:59:35.300Z"
   },
   {
    "duration": 263,
    "start_time": "2022-10-04T08:59:35.585Z"
   },
   {
    "duration": 210,
    "start_time": "2022-10-04T08:59:36.054Z"
   },
   {
    "duration": 3,
    "start_time": "2022-10-04T08:59:37.702Z"
   },
   {
    "duration": 5,
    "start_time": "2022-10-04T08:59:38.031Z"
   },
   {
    "duration": 287,
    "start_time": "2022-10-04T08:59:38.392Z"
   },
   {
    "duration": 5,
    "start_time": "2022-10-04T08:59:38.749Z"
   },
   {
    "duration": 329,
    "start_time": "2022-10-04T08:59:39.234Z"
   },
   {
    "duration": 8,
    "start_time": "2022-10-04T09:02:09.176Z"
   },
   {
    "duration": 10,
    "start_time": "2022-10-04T09:02:21.819Z"
   },
   {
    "duration": 147,
    "start_time": "2022-10-04T09:02:40.091Z"
   },
   {
    "duration": 12,
    "start_time": "2022-10-04T09:02:58.601Z"
   },
   {
    "duration": 4,
    "start_time": "2022-10-04T09:03:12.611Z"
   },
   {
    "duration": 47,
    "start_time": "2022-10-04T09:03:13.137Z"
   },
   {
    "duration": 10,
    "start_time": "2022-10-04T09:03:13.186Z"
   },
   {
    "duration": 15,
    "start_time": "2022-10-04T09:03:13.198Z"
   },
   {
    "duration": 288,
    "start_time": "2022-10-04T09:03:13.215Z"
   },
   {
    "duration": 1894,
    "start_time": "2022-10-04T09:03:13.506Z"
   },
   {
    "duration": 288,
    "start_time": "2022-10-04T09:03:15.490Z"
   },
   {
    "duration": 219,
    "start_time": "2022-10-04T09:03:15.780Z"
   },
   {
    "duration": 258,
    "start_time": "2022-10-04T09:03:16.000Z"
   },
   {
    "duration": 222,
    "start_time": "2022-10-04T09:03:16.260Z"
   },
   {
    "duration": 3,
    "start_time": "2022-10-04T09:03:16.488Z"
   },
   {
    "duration": 7,
    "start_time": "2022-10-04T09:03:16.492Z"
   },
   {
    "duration": 291,
    "start_time": "2022-10-04T09:03:16.501Z"
   },
   {
    "duration": 5,
    "start_time": "2022-10-04T09:03:16.795Z"
   },
   {
    "duration": 345,
    "start_time": "2022-10-04T09:03:16.802Z"
   },
   {
    "duration": 5,
    "start_time": "2022-10-04T09:03:17.149Z"
   },
   {
    "duration": 30,
    "start_time": "2022-10-04T09:03:17.155Z"
   },
   {
    "duration": 6,
    "start_time": "2022-10-04T09:03:17.187Z"
   },
   {
    "duration": 22,
    "start_time": "2022-10-04T09:03:17.195Z"
   },
   {
    "duration": 20,
    "start_time": "2022-10-04T09:03:21.014Z"
   },
   {
    "duration": 4,
    "start_time": "2022-10-04T09:04:14.974Z"
   },
   {
    "duration": 48,
    "start_time": "2022-10-04T09:04:15.128Z"
   },
   {
    "duration": 10,
    "start_time": "2022-10-04T09:04:15.279Z"
   },
   {
    "duration": 5,
    "start_time": "2022-10-04T09:04:15.436Z"
   },
   {
    "duration": 244,
    "start_time": "2022-10-04T09:04:15.572Z"
   },
   {
    "duration": 2079,
    "start_time": "2022-10-04T09:04:15.818Z"
   },
   {
    "duration": 351,
    "start_time": "2022-10-04T09:04:17.991Z"
   },
   {
    "duration": 222,
    "start_time": "2022-10-04T09:04:18.344Z"
   },
   {
    "duration": 258,
    "start_time": "2022-10-04T09:04:18.568Z"
   },
   {
    "duration": 217,
    "start_time": "2022-10-04T09:04:18.828Z"
   },
   {
    "duration": 3,
    "start_time": "2022-10-04T09:04:19.047Z"
   },
   {
    "duration": 16,
    "start_time": "2022-10-04T09:04:19.051Z"
   },
   {
    "duration": 297,
    "start_time": "2022-10-04T09:04:19.069Z"
   },
   {
    "duration": 5,
    "start_time": "2022-10-04T09:04:19.368Z"
   },
   {
    "duration": 341,
    "start_time": "2022-10-04T09:04:19.391Z"
   },
   {
    "duration": 4,
    "start_time": "2022-10-04T09:04:19.734Z"
   },
   {
    "duration": 33,
    "start_time": "2022-10-04T09:04:19.739Z"
   },
   {
    "duration": 21,
    "start_time": "2022-10-04T09:04:19.773Z"
   },
   {
    "duration": 19,
    "start_time": "2022-10-04T09:04:19.796Z"
   },
   {
    "duration": 22,
    "start_time": "2022-10-04T09:04:24.809Z"
   },
   {
    "duration": 26,
    "start_time": "2022-10-04T09:04:27.064Z"
   },
   {
    "duration": 4,
    "start_time": "2022-10-04T09:05:34.766Z"
   },
   {
    "duration": 4,
    "start_time": "2022-10-04T09:05:42.563Z"
   },
   {
    "duration": 53,
    "start_time": "2022-10-04T09:05:43.213Z"
   },
   {
    "duration": 13,
    "start_time": "2022-10-04T09:05:43.917Z"
   },
   {
    "duration": 4,
    "start_time": "2022-10-04T09:05:43.932Z"
   },
   {
    "duration": 252,
    "start_time": "2022-10-04T09:05:43.986Z"
   },
   {
    "duration": 2157,
    "start_time": "2022-10-04T09:05:44.240Z"
   },
   {
    "duration": 341,
    "start_time": "2022-10-04T09:05:46.400Z"
   },
   {
    "duration": 226,
    "start_time": "2022-10-04T09:05:46.743Z"
   },
   {
    "duration": 261,
    "start_time": "2022-10-04T09:05:46.972Z"
   },
   {
    "duration": 240,
    "start_time": "2022-10-04T09:05:47.235Z"
   },
   {
    "duration": 3,
    "start_time": "2022-10-04T09:05:47.477Z"
   },
   {
    "duration": 5,
    "start_time": "2022-10-04T09:05:47.489Z"
   },
   {
    "duration": 277,
    "start_time": "2022-10-04T09:05:47.497Z"
   },
   {
    "duration": 14,
    "start_time": "2022-10-04T09:05:47.775Z"
   },
   {
    "duration": 335,
    "start_time": "2022-10-04T09:05:47.792Z"
   },
   {
    "duration": 4,
    "start_time": "2022-10-04T09:05:48.129Z"
   },
   {
    "duration": 16,
    "start_time": "2022-10-04T09:05:48.135Z"
   },
   {
    "duration": 9,
    "start_time": "2022-10-04T09:05:48.153Z"
   },
   {
    "duration": 43,
    "start_time": "2022-10-04T09:05:48.164Z"
   },
   {
    "duration": 84,
    "start_time": "2022-10-04T09:05:48.209Z"
   },
   {
    "duration": 7,
    "start_time": "2022-10-04T09:06:38.255Z"
   },
   {
    "duration": 14,
    "start_time": "2022-10-04T09:06:50.040Z"
   },
   {
    "duration": 6,
    "start_time": "2022-10-04T09:07:04.955Z"
   },
   {
    "duration": 8,
    "start_time": "2022-10-04T09:07:50.489Z"
   },
   {
    "duration": 4,
    "start_time": "2022-10-04T09:07:54.269Z"
   },
   {
    "duration": 49,
    "start_time": "2022-10-04T09:07:54.407Z"
   },
   {
    "duration": 12,
    "start_time": "2022-10-04T09:07:54.546Z"
   },
   {
    "duration": 4,
    "start_time": "2022-10-04T09:07:54.693Z"
   },
   {
    "duration": 247,
    "start_time": "2022-10-04T09:07:54.888Z"
   },
   {
    "duration": 2052,
    "start_time": "2022-10-04T09:07:55.137Z"
   },
   {
    "duration": 340,
    "start_time": "2022-10-04T09:07:57.192Z"
   },
   {
    "duration": 212,
    "start_time": "2022-10-04T09:07:57.534Z"
   },
   {
    "duration": 264,
    "start_time": "2022-10-04T09:07:57.749Z"
   },
   {
    "duration": 230,
    "start_time": "2022-10-04T09:07:58.015Z"
   },
   {
    "duration": 3,
    "start_time": "2022-10-04T09:07:58.247Z"
   },
   {
    "duration": 8,
    "start_time": "2022-10-04T09:07:58.252Z"
   },
   {
    "duration": 301,
    "start_time": "2022-10-04T09:07:58.262Z"
   },
   {
    "duration": 5,
    "start_time": "2022-10-04T09:07:58.565Z"
   },
   {
    "duration": 345,
    "start_time": "2022-10-04T09:07:58.572Z"
   },
   {
    "duration": 5,
    "start_time": "2022-10-04T09:08:03.477Z"
   },
   {
    "duration": 12,
    "start_time": "2022-10-04T09:08:03.892Z"
   },
   {
    "duration": 1186,
    "start_time": "2022-10-04T09:08:09.651Z"
   },
   {
    "duration": 4,
    "start_time": "2022-10-04T09:08:37.012Z"
   },
   {
    "duration": 45,
    "start_time": "2022-10-04T09:08:37.184Z"
   },
   {
    "duration": 10,
    "start_time": "2022-10-04T09:08:37.317Z"
   },
   {
    "duration": 4,
    "start_time": "2022-10-04T09:08:37.479Z"
   },
   {
    "duration": 235,
    "start_time": "2022-10-04T09:08:37.619Z"
   },
   {
    "duration": 1942,
    "start_time": "2022-10-04T09:08:37.856Z"
   },
   {
    "duration": 251,
    "start_time": "2022-10-04T09:08:39.890Z"
   },
   {
    "duration": 701,
    "start_time": "2022-10-04T09:08:40.143Z"
   },
   {
    "duration": 258,
    "start_time": "2022-10-04T09:08:40.846Z"
   },
   {
    "duration": 246,
    "start_time": "2022-10-04T09:08:41.106Z"
   },
   {
    "duration": 6,
    "start_time": "2022-10-04T09:08:41.354Z"
   },
   {
    "duration": 314,
    "start_time": "2022-10-04T09:08:41.363Z"
   },
   {
    "duration": 12,
    "start_time": "2022-10-04T09:08:41.679Z"
   },
   {
    "duration": 424,
    "start_time": "2022-10-04T09:08:41.692Z"
   },
   {
    "duration": 1179,
    "start_time": "2022-10-04T09:08:42.633Z"
   },
   {
    "duration": 5,
    "start_time": "2022-10-04T09:09:26.295Z"
   },
   {
    "duration": 56,
    "start_time": "2022-10-04T09:11:17.403Z"
   },
   {
    "duration": 48,
    "start_time": "2022-10-04T09:11:17.554Z"
   },
   {
    "duration": 12,
    "start_time": "2022-10-04T09:11:17.804Z"
   },
   {
    "duration": 4,
    "start_time": "2022-10-04T09:11:18.008Z"
   },
   {
    "duration": 252,
    "start_time": "2022-10-04T09:11:18.174Z"
   },
   {
    "duration": 2069,
    "start_time": "2022-10-04T09:11:18.427Z"
   },
   {
    "duration": 346,
    "start_time": "2022-10-04T09:11:20.501Z"
   },
   {
    "duration": 211,
    "start_time": "2022-10-04T09:11:20.848Z"
   },
   {
    "duration": 261,
    "start_time": "2022-10-04T09:11:21.061Z"
   },
   {
    "duration": 243,
    "start_time": "2022-10-04T09:11:21.324Z"
   },
   {
    "duration": 5,
    "start_time": "2022-10-04T09:11:21.569Z"
   },
   {
    "duration": 271,
    "start_time": "2022-10-04T09:11:21.589Z"
   },
   {
    "duration": 6,
    "start_time": "2022-10-04T09:11:21.863Z"
   },
   {
    "duration": 389,
    "start_time": "2022-10-04T09:11:21.871Z"
   },
   {
    "duration": 6,
    "start_time": "2022-10-04T09:11:22.263Z"
   },
   {
    "duration": 20,
    "start_time": "2022-10-04T09:11:22.271Z"
   },
   {
    "duration": 15,
    "start_time": "2022-10-04T09:11:22.293Z"
   },
   {
    "duration": 10,
    "start_time": "2022-10-04T09:11:22.310Z"
   },
   {
    "duration": 18,
    "start_time": "2022-10-04T09:11:22.322Z"
   },
   {
    "duration": 55,
    "start_time": "2022-10-04T09:11:22.342Z"
   },
   {
    "duration": 96,
    "start_time": "2022-10-04T09:11:22.399Z"
   },
   {
    "duration": 3587,
    "start_time": "2022-10-04T09:11:22.497Z"
   },
   {
    "duration": 3068,
    "start_time": "2022-10-04T09:11:48.566Z"
   },
   {
    "duration": 2994,
    "start_time": "2022-10-04T09:12:04.622Z"
   },
   {
    "duration": 16,
    "start_time": "2022-10-04T09:12:43.220Z"
   },
   {
    "duration": 3478,
    "start_time": "2022-10-04T09:12:49.228Z"
   },
   {
    "duration": 3140,
    "start_time": "2022-10-04T09:13:48.443Z"
   },
   {
    "duration": 3051,
    "start_time": "2022-10-04T09:13:54.924Z"
   },
   {
    "duration": 3170,
    "start_time": "2022-10-04T09:14:02.657Z"
   },
   {
    "duration": 3112,
    "start_time": "2022-10-04T09:14:14.586Z"
   },
   {
    "duration": 3116,
    "start_time": "2022-10-04T09:14:23.032Z"
   },
   {
    "duration": 3053,
    "start_time": "2022-10-04T09:14:27.976Z"
   },
   {
    "duration": 10,
    "start_time": "2022-10-04T09:15:38.758Z"
   },
   {
    "duration": 19,
    "start_time": "2022-10-04T09:15:39.999Z"
   },
   {
    "duration": 19,
    "start_time": "2022-10-04T09:15:40.303Z"
   },
   {
    "duration": 3629,
    "start_time": "2022-10-04T09:15:40.835Z"
   },
   {
    "duration": 3543,
    "start_time": "2022-10-04T09:15:55.367Z"
   },
   {
    "duration": 3366,
    "start_time": "2022-10-04T09:16:07.071Z"
   },
   {
    "duration": 3305,
    "start_time": "2022-10-04T09:16:16.324Z"
   },
   {
    "duration": 3382,
    "start_time": "2022-10-04T09:16:23.436Z"
   },
   {
    "duration": 3306,
    "start_time": "2022-10-04T09:16:31.716Z"
   },
   {
    "duration": 243,
    "start_time": "2022-10-04T09:23:34.131Z"
   },
   {
    "duration": 234,
    "start_time": "2022-10-04T09:24:03.557Z"
   },
   {
    "duration": 4,
    "start_time": "2022-10-04T09:35:26.740Z"
   },
   {
    "duration": 4,
    "start_time": "2022-10-04T09:35:50.235Z"
   },
   {
    "duration": 47,
    "start_time": "2022-10-04T09:35:50.543Z"
   },
   {
    "duration": 12,
    "start_time": "2022-10-04T09:35:50.685Z"
   },
   {
    "duration": 4,
    "start_time": "2022-10-04T09:35:50.873Z"
   },
   {
    "duration": 240,
    "start_time": "2022-10-04T09:35:51.030Z"
   },
   {
    "duration": 2018,
    "start_time": "2022-10-04T09:35:51.272Z"
   },
   {
    "duration": 329,
    "start_time": "2022-10-04T09:35:53.293Z"
   },
   {
    "duration": 217,
    "start_time": "2022-10-04T09:35:53.624Z"
   },
   {
    "duration": 4,
    "start_time": "2022-10-04T09:35:53.843Z"
   },
   {
    "duration": 223,
    "start_time": "2022-10-04T09:35:53.849Z"
   },
   {
    "duration": 6,
    "start_time": "2022-10-04T09:35:54.074Z"
   },
   {
    "duration": 273,
    "start_time": "2022-10-04T09:35:54.089Z"
   },
   {
    "duration": 5,
    "start_time": "2022-10-04T09:35:54.364Z"
   },
   {
    "duration": 333,
    "start_time": "2022-10-04T09:35:54.370Z"
   },
   {
    "duration": 5,
    "start_time": "2022-10-04T09:35:54.706Z"
   },
   {
    "duration": 10,
    "start_time": "2022-10-04T09:35:54.713Z"
   },
   {
    "duration": 17,
    "start_time": "2022-10-04T09:35:54.725Z"
   },
   {
    "duration": 9,
    "start_time": "2022-10-04T09:35:54.744Z"
   },
   {
    "duration": 20,
    "start_time": "2022-10-04T09:35:54.976Z"
   },
   {
    "duration": 3882,
    "start_time": "2022-10-04T09:35:56.707Z"
   },
   {
    "duration": 111,
    "start_time": "2022-10-04T09:44:12.779Z"
   },
   {
    "duration": 3313,
    "start_time": "2022-10-04T09:44:20.641Z"
   },
   {
    "duration": 4,
    "start_time": "2022-10-04T09:49:36.658Z"
   },
   {
    "duration": 44,
    "start_time": "2022-10-04T09:49:36.802Z"
   },
   {
    "duration": 10,
    "start_time": "2022-10-04T09:49:36.947Z"
   },
   {
    "duration": 4,
    "start_time": "2022-10-04T09:49:37.086Z"
   },
   {
    "duration": 248,
    "start_time": "2022-10-04T09:49:37.223Z"
   },
   {
    "duration": 1817,
    "start_time": "2022-10-04T09:49:37.474Z"
   },
   {
    "duration": 607,
    "start_time": "2022-10-04T09:49:39.294Z"
   },
   {
    "duration": 0,
    "start_time": "2022-10-04T09:49:39.902Z"
   },
   {
    "duration": 5,
    "start_time": "2022-10-04T09:50:47.477Z"
   },
   {
    "duration": 503,
    "start_time": "2022-10-04T09:50:51.529Z"
   },
   {
    "duration": 4,
    "start_time": "2022-10-04T09:51:29.700Z"
   },
   {
    "duration": 46,
    "start_time": "2022-10-04T09:51:29.842Z"
   },
   {
    "duration": 10,
    "start_time": "2022-10-04T09:51:30.045Z"
   },
   {
    "duration": 5,
    "start_time": "2022-10-04T09:51:30.204Z"
   },
   {
    "duration": 245,
    "start_time": "2022-10-04T09:51:30.376Z"
   },
   {
    "duration": 1569,
    "start_time": "2022-10-04T09:51:30.623Z"
   },
   {
    "duration": 97,
    "start_time": "2022-10-04T09:51:32.195Z"
   },
   {
    "duration": 490,
    "start_time": "2022-10-04T09:51:32.293Z"
   },
   {
    "duration": 0,
    "start_time": "2022-10-04T09:51:32.789Z"
   },
   {
    "duration": 5,
    "start_time": "2022-10-04T09:52:33.956Z"
   },
   {
    "duration": 46,
    "start_time": "2022-10-04T09:52:34.097Z"
   },
   {
    "duration": 12,
    "start_time": "2022-10-04T09:52:34.246Z"
   },
   {
    "duration": 4,
    "start_time": "2022-10-04T09:52:34.396Z"
   },
   {
    "duration": 235,
    "start_time": "2022-10-04T09:52:34.777Z"
   },
   {
    "duration": 2011,
    "start_time": "2022-10-04T09:52:35.384Z"
   },
   {
    "duration": 5,
    "start_time": "2022-10-04T09:52:37.489Z"
   },
   {
    "duration": 474,
    "start_time": "2022-10-04T09:52:37.496Z"
   },
   {
    "duration": 215,
    "start_time": "2022-10-04T09:56:34.251Z"
   },
   {
    "duration": 4,
    "start_time": "2022-10-04T10:00:01.818Z"
   },
   {
    "duration": 55,
    "start_time": "2022-10-04T10:00:01.963Z"
   },
   {
    "duration": 11,
    "start_time": "2022-10-04T10:00:02.175Z"
   },
   {
    "duration": 4,
    "start_time": "2022-10-04T10:00:02.348Z"
   },
   {
    "duration": 235,
    "start_time": "2022-10-04T10:00:02.520Z"
   },
   {
    "duration": 2133,
    "start_time": "2022-10-04T10:00:02.758Z"
   },
   {
    "duration": 317,
    "start_time": "2022-10-04T10:00:04.893Z"
   },
   {
    "duration": 5,
    "start_time": "2022-10-04T10:00:05.212Z"
   },
   {
    "duration": 14,
    "start_time": "2022-10-04T10:00:05.219Z"
   },
   {
    "duration": 287,
    "start_time": "2022-10-04T10:00:05.235Z"
   },
   {
    "duration": 5,
    "start_time": "2022-10-04T10:00:05.524Z"
   },
   {
    "duration": 323,
    "start_time": "2022-10-04T10:00:05.530Z"
   },
   {
    "duration": 6,
    "start_time": "2022-10-04T10:00:05.855Z"
   },
   {
    "duration": 6,
    "start_time": "2022-10-04T10:00:05.863Z"
   },
   {
    "duration": 13,
    "start_time": "2022-10-04T10:00:05.889Z"
   },
   {
    "duration": 10,
    "start_time": "2022-10-04T10:00:05.904Z"
   },
   {
    "duration": 76,
    "start_time": "2022-10-04T10:00:05.916Z"
   },
   {
    "duration": 3397,
    "start_time": "2022-10-04T10:00:06.090Z"
   },
   {
    "duration": 17,
    "start_time": "2022-10-04T10:02:48.189Z"
   },
   {
    "duration": 5,
    "start_time": "2022-10-04T10:02:55.583Z"
   },
   {
    "duration": 44,
    "start_time": "2022-10-04T10:02:55.717Z"
   },
   {
    "duration": 11,
    "start_time": "2022-10-04T10:02:55.839Z"
   },
   {
    "duration": 4,
    "start_time": "2022-10-04T10:02:55.987Z"
   },
   {
    "duration": 231,
    "start_time": "2022-10-04T10:02:56.116Z"
   },
   {
    "duration": 1927,
    "start_time": "2022-10-04T10:02:56.566Z"
   },
   {
    "duration": 546,
    "start_time": "2022-10-04T10:02:58.499Z"
   },
   {
    "duration": 76,
    "start_time": "2022-10-04T10:04:04.808Z"
   },
   {
    "duration": 5,
    "start_time": "2022-10-04T10:04:19.683Z"
   },
   {
    "duration": 86,
    "start_time": "2022-10-04T10:04:30.538Z"
   },
   {
    "duration": 455,
    "start_time": "2022-10-04T10:04:35.723Z"
   },
   {
    "duration": 11,
    "start_time": "2022-10-04T10:05:26.557Z"
   },
   {
    "duration": 6,
    "start_time": "2022-10-04T10:05:36.303Z"
   },
   {
    "duration": 436,
    "start_time": "2022-10-04T10:05:38.609Z"
   },
   {
    "duration": 447,
    "start_time": "2022-10-04T10:06:57.365Z"
   },
   {
    "duration": 5,
    "start_time": "2022-10-04T10:12:11.593Z"
   },
   {
    "duration": 46,
    "start_time": "2022-10-04T10:12:11.731Z"
   },
   {
    "duration": 14,
    "start_time": "2022-10-04T10:12:11.861Z"
   },
   {
    "duration": 13,
    "start_time": "2022-10-04T10:12:12.036Z"
   },
   {
    "duration": 4,
    "start_time": "2022-10-04T10:12:12.146Z"
   },
   {
    "duration": 226,
    "start_time": "2022-10-04T10:12:12.329Z"
   },
   {
    "duration": 2142,
    "start_time": "2022-10-04T10:12:12.557Z"
   },
   {
    "duration": 549,
    "start_time": "2022-10-04T10:12:14.791Z"
   },
   {
    "duration": 0,
    "start_time": "2022-10-04T10:12:15.341Z"
   },
   {
    "duration": 0,
    "start_time": "2022-10-04T10:12:15.343Z"
   },
   {
    "duration": 0,
    "start_time": "2022-10-04T10:12:15.344Z"
   },
   {
    "duration": 0,
    "start_time": "2022-10-04T10:12:15.346Z"
   },
   {
    "duration": 0,
    "start_time": "2022-10-04T10:12:15.348Z"
   },
   {
    "duration": 5,
    "start_time": "2022-10-04T10:12:15.632Z"
   },
   {
    "duration": 5,
    "start_time": "2022-10-04T10:12:16.012Z"
   },
   {
    "duration": 25,
    "start_time": "2022-10-04T10:12:16.377Z"
   },
   {
    "duration": 12,
    "start_time": "2022-10-04T10:12:16.729Z"
   },
   {
    "duration": 198,
    "start_time": "2022-10-04T10:12:17.124Z"
   },
   {
    "duration": 7489,
    "start_time": "2022-10-04T10:12:17.994Z"
   },
   {
    "duration": 469,
    "start_time": "2022-10-04T11:02:18.899Z"
   },
   {
    "duration": 4,
    "start_time": "2022-10-04T11:02:49.390Z"
   },
   {
    "duration": 47,
    "start_time": "2022-10-04T11:02:49.580Z"
   },
   {
    "duration": 11,
    "start_time": "2022-10-04T11:02:49.831Z"
   },
   {
    "duration": 10,
    "start_time": "2022-10-04T11:02:49.976Z"
   },
   {
    "duration": 3,
    "start_time": "2022-10-04T11:02:50.137Z"
   },
   {
    "duration": 244,
    "start_time": "2022-10-04T11:02:50.254Z"
   },
   {
    "duration": 2192,
    "start_time": "2022-10-04T11:02:50.501Z"
   },
   {
    "duration": 584,
    "start_time": "2022-10-04T11:02:52.696Z"
   },
   {
    "duration": 9,
    "start_time": "2022-10-04T11:02:53.282Z"
   },
   {
    "duration": 12,
    "start_time": "2022-10-04T11:02:53.294Z"
   },
   {
    "duration": 14,
    "start_time": "2022-10-04T11:03:09.730Z"
   },
   {
    "duration": 16,
    "start_time": "2022-10-04T11:03:17.744Z"
   },
   {
    "duration": 5,
    "start_time": "2022-10-04T11:03:25.519Z"
   },
   {
    "duration": 48,
    "start_time": "2022-10-04T11:03:25.847Z"
   },
   {
    "duration": 12,
    "start_time": "2022-10-04T11:03:26.116Z"
   },
   {
    "duration": 10,
    "start_time": "2022-10-04T11:03:27.004Z"
   },
   {
    "duration": 5,
    "start_time": "2022-10-04T11:03:27.352Z"
   },
   {
    "duration": 232,
    "start_time": "2022-10-04T11:03:30.148Z"
   },
   {
    "duration": 2061,
    "start_time": "2022-10-04T11:03:31.132Z"
   },
   {
    "duration": 636,
    "start_time": "2022-10-04T11:03:33.196Z"
   },
   {
    "duration": 467,
    "start_time": "2022-10-04T11:03:45.240Z"
   },
   {
    "duration": 482,
    "start_time": "2022-10-04T11:04:00.016Z"
   },
   {
    "duration": 4,
    "start_time": "2022-10-04T11:05:55.407Z"
   },
   {
    "duration": 44,
    "start_time": "2022-10-04T11:05:55.541Z"
   },
   {
    "duration": 11,
    "start_time": "2022-10-04T11:05:55.723Z"
   },
   {
    "duration": 10,
    "start_time": "2022-10-04T11:05:55.826Z"
   },
   {
    "duration": 4,
    "start_time": "2022-10-04T11:05:55.987Z"
   },
   {
    "duration": 228,
    "start_time": "2022-10-04T11:05:56.064Z"
   },
   {
    "duration": 2105,
    "start_time": "2022-10-04T11:05:56.294Z"
   },
   {
    "duration": 567,
    "start_time": "2022-10-04T11:05:58.491Z"
   },
   {
    "duration": 4,
    "start_time": "2022-10-04T11:05:59.060Z"
   },
   {
    "duration": 8,
    "start_time": "2022-10-04T11:05:59.066Z"
   },
   {
    "duration": 272,
    "start_time": "2022-10-04T11:05:59.090Z"
   },
   {
    "duration": 6,
    "start_time": "2022-10-04T11:05:59.364Z"
   },
   {
    "duration": 335,
    "start_time": "2022-10-04T11:05:59.372Z"
   },
   {
    "duration": 6,
    "start_time": "2022-10-04T11:05:59.709Z"
   },
   {
    "duration": 33,
    "start_time": "2022-10-04T11:05:59.716Z"
   },
   {
    "duration": 53,
    "start_time": "2022-10-04T11:05:59.752Z"
   },
   {
    "duration": 13,
    "start_time": "2022-10-04T11:05:59.807Z"
   },
   {
    "duration": 168,
    "start_time": "2022-10-04T11:05:59.823Z"
   },
   {
    "duration": 7792,
    "start_time": "2022-10-04T11:05:59.995Z"
   },
   {
    "duration": 180,
    "start_time": "2022-10-04T11:07:16.793Z"
   },
   {
    "duration": 12,
    "start_time": "2022-10-04T11:07:52.414Z"
   },
   {
    "duration": 195,
    "start_time": "2022-10-04T11:07:56.220Z"
   },
   {
    "duration": 4,
    "start_time": "2022-10-04T11:20:18.431Z"
   },
   {
    "duration": 47,
    "start_time": "2022-10-04T11:20:18.666Z"
   },
   {
    "duration": 11,
    "start_time": "2022-10-04T11:20:18.982Z"
   },
   {
    "duration": 10,
    "start_time": "2022-10-04T11:20:20.423Z"
   },
   {
    "duration": 927,
    "start_time": "2022-10-04T11:20:41.077Z"
   },
   {
    "duration": 235,
    "start_time": "2022-10-04T11:22:07.909Z"
   },
   {
    "duration": 1870,
    "start_time": "2022-10-04T11:22:08.724Z"
   },
   {
    "duration": 6,
    "start_time": "2022-10-04T11:26:54.533Z"
   },
   {
    "duration": 252,
    "start_time": "2022-10-04T11:26:55.758Z"
   },
   {
    "duration": 4,
    "start_time": "2022-10-04T11:27:04.464Z"
   },
   {
    "duration": 5,
    "start_time": "2022-10-04T11:27:05.414Z"
   },
   {
    "duration": 244,
    "start_time": "2022-10-04T11:27:06.121Z"
   },
   {
    "duration": 260,
    "start_time": "2022-10-04T11:27:43.180Z"
   },
   {
    "duration": 5,
    "start_time": "2022-10-04T11:27:52.507Z"
   },
   {
    "duration": 306,
    "start_time": "2022-10-04T11:27:53.137Z"
   },
   {
    "duration": 7759,
    "start_time": "2022-10-04T11:30:55.836Z"
   },
   {
    "duration": 7623,
    "start_time": "2022-10-04T11:31:09.442Z"
   },
   {
    "duration": 7433,
    "start_time": "2022-10-04T11:31:22.068Z"
   },
   {
    "duration": 71,
    "start_time": "2022-10-04T11:31:34.214Z"
   },
   {
    "duration": 73,
    "start_time": "2022-10-04T11:31:36.644Z"
   },
   {
    "duration": 7521,
    "start_time": "2022-10-04T11:31:38.218Z"
   },
   {
    "duration": 6,
    "start_time": "2022-10-04T11:33:06.560Z"
   },
   {
    "duration": 5,
    "start_time": "2022-10-04T11:33:47.682Z"
   },
   {
    "duration": 45,
    "start_time": "2022-10-04T11:33:47.817Z"
   },
   {
    "duration": 12,
    "start_time": "2022-10-04T11:33:47.957Z"
   },
   {
    "duration": 9,
    "start_time": "2022-10-04T11:33:48.089Z"
   },
   {
    "duration": 4,
    "start_time": "2022-10-04T11:33:48.348Z"
   },
   {
    "duration": 233,
    "start_time": "2022-10-04T11:33:48.630Z"
   },
   {
    "duration": 1724,
    "start_time": "2022-10-04T11:33:49.065Z"
   },
   {
    "duration": 458,
    "start_time": "2022-10-04T11:33:50.888Z"
   },
   {
    "duration": 4,
    "start_time": "2022-10-04T11:33:51.348Z"
   },
   {
    "duration": 18,
    "start_time": "2022-10-04T11:33:51.355Z"
   },
   {
    "duration": 280,
    "start_time": "2022-10-04T11:33:51.375Z"
   },
   {
    "duration": 5,
    "start_time": "2022-10-04T11:33:51.656Z"
   },
   {
    "duration": 389,
    "start_time": "2022-10-04T11:33:51.663Z"
   },
   {
    "duration": 7,
    "start_time": "2022-10-04T11:33:52.055Z"
   },
   {
    "duration": 12,
    "start_time": "2022-10-04T11:33:52.064Z"
   },
   {
    "duration": 26,
    "start_time": "2022-10-04T11:33:52.228Z"
   },
   {
    "duration": 15,
    "start_time": "2022-10-04T11:33:52.575Z"
   },
   {
    "duration": 114,
    "start_time": "2022-10-04T11:33:53.180Z"
   },
   {
    "duration": 8938,
    "start_time": "2022-10-04T11:33:53.514Z"
   },
   {
    "duration": 6,
    "start_time": "2022-10-04T11:34:02.454Z"
   },
   {
    "duration": 4,
    "start_time": "2022-10-04T11:34:23.401Z"
   },
   {
    "duration": 46,
    "start_time": "2022-10-04T11:34:23.910Z"
   },
   {
    "duration": 12,
    "start_time": "2022-10-04T11:34:23.957Z"
   },
   {
    "duration": 9,
    "start_time": "2022-10-04T11:34:23.973Z"
   },
   {
    "duration": 5,
    "start_time": "2022-10-04T11:34:24.036Z"
   },
   {
    "duration": 233,
    "start_time": "2022-10-04T11:34:24.094Z"
   },
   {
    "duration": 2061,
    "start_time": "2022-10-04T11:34:24.330Z"
   },
   {
    "duration": 551,
    "start_time": "2022-10-04T11:34:26.393Z"
   },
   {
    "duration": 4,
    "start_time": "2022-10-04T11:34:26.947Z"
   },
   {
    "duration": 16,
    "start_time": "2022-10-04T11:34:26.952Z"
   },
   {
    "duration": 278,
    "start_time": "2022-10-04T11:34:26.970Z"
   },
   {
    "duration": 5,
    "start_time": "2022-10-04T11:34:27.250Z"
   },
   {
    "duration": 335,
    "start_time": "2022-10-04T11:34:27.257Z"
   },
   {
    "duration": 5,
    "start_time": "2022-10-04T11:34:27.595Z"
   },
   {
    "duration": 12,
    "start_time": "2022-10-04T11:34:27.602Z"
   },
   {
    "duration": 29,
    "start_time": "2022-10-04T11:34:27.616Z"
   },
   {
    "duration": 12,
    "start_time": "2022-10-04T11:34:27.647Z"
   },
   {
    "duration": 233,
    "start_time": "2022-10-04T11:34:27.661Z"
   },
   {
    "duration": 7205,
    "start_time": "2022-10-04T11:34:27.896Z"
   },
   {
    "duration": 6,
    "start_time": "2022-10-04T11:34:35.103Z"
   },
   {
    "duration": 207,
    "start_time": "2022-10-04T11:34:35.111Z"
   },
   {
    "duration": 231,
    "start_time": "2022-10-04T11:34:35.320Z"
   },
   {
    "duration": 16,
    "start_time": "2022-10-04T11:34:49.265Z"
   },
   {
    "duration": 12,
    "start_time": "2022-10-04T11:34:49.532Z"
   },
   {
    "duration": 186,
    "start_time": "2022-10-04T11:34:49.905Z"
   },
   {
    "duration": 8483,
    "start_time": "2022-10-04T11:34:50.190Z"
   },
   {
    "duration": 6,
    "start_time": "2022-10-04T11:34:58.675Z"
   },
   {
    "duration": 186,
    "start_time": "2022-10-04T11:34:58.683Z"
   },
   {
    "duration": 16,
    "start_time": "2022-10-04T11:35:11.309Z"
   },
   {
    "duration": 16,
    "start_time": "2022-10-04T11:35:11.606Z"
   },
   {
    "duration": 182,
    "start_time": "2022-10-04T11:35:12.011Z"
   },
   {
    "duration": 12093,
    "start_time": "2022-10-04T11:35:12.289Z"
   },
   {
    "duration": 6,
    "start_time": "2022-10-04T11:35:24.385Z"
   },
   {
    "duration": 192,
    "start_time": "2022-10-04T11:35:24.393Z"
   },
   {
    "duration": 205,
    "start_time": "2022-10-04T11:35:24.587Z"
   },
   {
    "duration": 13,
    "start_time": "2022-10-04T11:35:34.555Z"
   },
   {
    "duration": 12,
    "start_time": "2022-10-04T11:35:34.825Z"
   },
   {
    "duration": 197,
    "start_time": "2022-10-04T11:35:35.194Z"
   },
   {
    "duration": 9180,
    "start_time": "2022-10-04T11:35:35.490Z"
   },
   {
    "duration": 6,
    "start_time": "2022-10-04T11:35:44.673Z"
   },
   {
    "duration": 193,
    "start_time": "2022-10-04T11:35:44.680Z"
   },
   {
    "duration": 204,
    "start_time": "2022-10-04T11:35:44.876Z"
   },
   {
    "duration": 13,
    "start_time": "2022-10-04T11:36:19.885Z"
   },
   {
    "duration": 12,
    "start_time": "2022-10-04T11:36:20.208Z"
   },
   {
    "duration": 166,
    "start_time": "2022-10-04T11:36:20.625Z"
   },
   {
    "duration": 8795,
    "start_time": "2022-10-04T11:36:20.910Z"
   },
   {
    "duration": 6,
    "start_time": "2022-10-04T11:36:29.707Z"
   },
   {
    "duration": 195,
    "start_time": "2022-10-04T11:36:29.714Z"
   },
   {
    "duration": 211,
    "start_time": "2022-10-04T11:36:29.911Z"
   },
   {
    "duration": 37,
    "start_time": "2022-10-04T11:39:02.264Z"
   },
   {
    "duration": 7,
    "start_time": "2022-10-04T11:39:17.313Z"
   },
   {
    "duration": 140,
    "start_time": "2022-10-04T11:39:36.562Z"
   },
   {
    "duration": 106,
    "start_time": "2022-10-04T11:39:42.413Z"
   },
   {
    "duration": 4,
    "start_time": "2022-10-04T11:39:54.871Z"
   },
   {
    "duration": 46,
    "start_time": "2022-10-04T11:39:55.379Z"
   },
   {
    "duration": 11,
    "start_time": "2022-10-04T11:39:55.427Z"
   },
   {
    "duration": 13,
    "start_time": "2022-10-04T11:39:55.440Z"
   },
   {
    "duration": 4,
    "start_time": "2022-10-04T11:39:55.500Z"
   },
   {
    "duration": 233,
    "start_time": "2022-10-04T11:39:55.558Z"
   },
   {
    "duration": 1598,
    "start_time": "2022-10-04T11:39:55.793Z"
   },
   {
    "duration": 543,
    "start_time": "2022-10-04T11:39:57.399Z"
   },
   {
    "duration": 3,
    "start_time": "2022-10-04T11:39:57.944Z"
   },
   {
    "duration": 9,
    "start_time": "2022-10-04T11:39:57.949Z"
   },
   {
    "duration": 280,
    "start_time": "2022-10-04T11:39:57.960Z"
   },
   {
    "duration": 5,
    "start_time": "2022-10-04T11:39:58.242Z"
   },
   {
    "duration": 337,
    "start_time": "2022-10-04T11:39:58.249Z"
   },
   {
    "duration": 6,
    "start_time": "2022-10-04T11:39:58.590Z"
   },
   {
    "duration": 5,
    "start_time": "2022-10-04T11:39:58.599Z"
   },
   {
    "duration": 24,
    "start_time": "2022-10-04T11:39:58.606Z"
   },
   {
    "duration": 12,
    "start_time": "2022-10-04T11:39:58.632Z"
   },
   {
    "duration": 241,
    "start_time": "2022-10-04T11:39:58.647Z"
   },
   {
    "duration": 8403,
    "start_time": "2022-10-04T11:39:58.891Z"
   },
   {
    "duration": 6,
    "start_time": "2022-10-04T11:40:07.296Z"
   },
   {
    "duration": 207,
    "start_time": "2022-10-04T11:40:07.304Z"
   },
   {
    "duration": 6,
    "start_time": "2022-10-04T11:40:07.513Z"
   },
   {
    "duration": 329,
    "start_time": "2022-10-04T11:40:07.521Z"
   },
   {
    "duration": 846,
    "start_time": "2022-10-04T11:40:19.995Z"
   },
   {
    "duration": 142,
    "start_time": "2022-10-04T11:40:45.691Z"
   },
   {
    "duration": 148,
    "start_time": "2022-10-04T11:41:01.017Z"
   },
   {
    "duration": 79,
    "start_time": "2022-10-04T11:41:19.067Z"
   },
   {
    "duration": 69,
    "start_time": "2022-10-04T11:41:31.553Z"
   },
   {
    "duration": 76,
    "start_time": "2022-10-04T11:41:37.758Z"
   },
   {
    "duration": 201,
    "start_time": "2022-10-04T11:41:48.885Z"
   },
   {
    "duration": 5,
    "start_time": "2022-10-04T11:42:03.895Z"
   },
   {
    "duration": 6,
    "start_time": "2022-10-04T11:42:12.735Z"
   },
   {
    "duration": 21,
    "start_time": "2022-10-04T11:43:35.793Z"
   },
   {
    "duration": 8,
    "start_time": "2022-10-04T11:43:41.826Z"
   },
   {
    "duration": 57,
    "start_time": "2022-10-04T11:43:41.969Z"
   },
   {
    "duration": 11,
    "start_time": "2022-10-04T11:43:42.093Z"
   },
   {
    "duration": 8,
    "start_time": "2022-10-04T11:43:42.448Z"
   },
   {
    "duration": 3,
    "start_time": "2022-10-04T11:43:44.264Z"
   },
   {
    "duration": 212,
    "start_time": "2022-10-04T11:43:44.561Z"
   },
   {
    "duration": 1885,
    "start_time": "2022-10-04T11:43:45.106Z"
   },
   {
    "duration": 551,
    "start_time": "2022-10-04T11:43:46.994Z"
   },
   {
    "duration": 4,
    "start_time": "2022-10-04T11:43:47.547Z"
   },
   {
    "duration": 6,
    "start_time": "2022-10-04T11:43:47.673Z"
   },
   {
    "duration": 269,
    "start_time": "2022-10-04T11:43:48.026Z"
   },
   {
    "duration": 4,
    "start_time": "2022-10-04T11:43:48.406Z"
   },
   {
    "duration": 309,
    "start_time": "2022-10-04T11:43:48.773Z"
   },
   {
    "duration": 5,
    "start_time": "2022-10-04T11:43:49.117Z"
   },
   {
    "duration": 4,
    "start_time": "2022-10-04T11:43:49.606Z"
   },
   {
    "duration": 24,
    "start_time": "2022-10-04T11:43:49.762Z"
   },
   {
    "duration": 11,
    "start_time": "2022-10-04T11:43:50.142Z"
   },
   {
    "duration": 213,
    "start_time": "2022-10-04T11:43:50.680Z"
   },
   {
    "duration": 7578,
    "start_time": "2022-10-04T11:43:51.181Z"
   },
   {
    "duration": 6,
    "start_time": "2022-10-04T11:43:58.762Z"
   },
   {
    "duration": 177,
    "start_time": "2022-10-04T11:43:58.770Z"
   },
   {
    "duration": 211,
    "start_time": "2022-10-04T11:43:58.950Z"
   },
   {
    "duration": 4,
    "start_time": "2022-10-04T11:44:20.691Z"
   },
   {
    "duration": 4,
    "start_time": "2022-10-04T11:44:47.445Z"
   },
   {
    "duration": 46,
    "start_time": "2022-10-04T11:44:47.549Z"
   },
   {
    "duration": 11,
    "start_time": "2022-10-04T11:44:48.057Z"
   },
   {
    "duration": 8,
    "start_time": "2022-10-04T11:44:48.088Z"
   },
   {
    "duration": 4,
    "start_time": "2022-10-04T11:44:48.150Z"
   },
   {
    "duration": 237,
    "start_time": "2022-10-04T11:44:48.215Z"
   },
   {
    "duration": 2144,
    "start_time": "2022-10-04T11:44:48.454Z"
   },
   {
    "duration": 531,
    "start_time": "2022-10-04T11:44:50.690Z"
   },
   {
    "duration": 4,
    "start_time": "2022-10-04T11:44:51.223Z"
   },
   {
    "duration": 8,
    "start_time": "2022-10-04T11:44:51.228Z"
   },
   {
    "duration": 266,
    "start_time": "2022-10-04T11:44:51.238Z"
   },
   {
    "duration": 6,
    "start_time": "2022-10-04T11:44:51.506Z"
   },
   {
    "duration": 349,
    "start_time": "2022-10-04T11:44:51.513Z"
   },
   {
    "duration": 7,
    "start_time": "2022-10-04T11:44:51.865Z"
   },
   {
    "duration": 19,
    "start_time": "2022-10-04T11:44:51.874Z"
   },
   {
    "duration": 34,
    "start_time": "2022-10-04T11:44:51.895Z"
   },
   {
    "duration": 14,
    "start_time": "2022-10-04T11:44:51.931Z"
   },
   {
    "duration": 243,
    "start_time": "2022-10-04T11:44:51.948Z"
   },
   {
    "duration": 7633,
    "start_time": "2022-10-04T11:44:52.194Z"
   },
   {
    "duration": 6,
    "start_time": "2022-10-04T11:44:59.829Z"
   },
   {
    "duration": 186,
    "start_time": "2022-10-04T11:44:59.837Z"
   },
   {
    "duration": 209,
    "start_time": "2022-10-04T11:45:00.025Z"
   },
   {
    "duration": 1653,
    "start_time": "2022-10-06T07:43:04.643Z"
   },
   {
    "duration": 123,
    "start_time": "2022-10-06T07:44:04.765Z"
   },
   {
    "duration": 4,
    "start_time": "2022-10-06T07:44:13.017Z"
   },
   {
    "duration": 133,
    "start_time": "2022-10-06T07:44:13.313Z"
   },
   {
    "duration": 11,
    "start_time": "2022-10-06T07:44:13.458Z"
   },
   {
    "duration": 10,
    "start_time": "2022-10-06T07:44:13.590Z"
   },
   {
    "duration": 3,
    "start_time": "2022-10-06T07:44:13.883Z"
   },
   {
    "duration": 267,
    "start_time": "2022-10-06T07:44:14.187Z"
   },
   {
    "duration": 1438,
    "start_time": "2022-10-06T07:44:14.791Z"
   },
   {
    "duration": 653,
    "start_time": "2022-10-06T07:44:16.231Z"
   },
   {
    "duration": 4,
    "start_time": "2022-10-06T07:44:16.885Z"
   },
   {
    "duration": 9,
    "start_time": "2022-10-06T07:44:16.890Z"
   },
   {
    "duration": 232,
    "start_time": "2022-10-06T07:44:16.900Z"
   },
   {
    "duration": 4,
    "start_time": "2022-10-06T07:44:17.134Z"
   },
   {
    "duration": 261,
    "start_time": "2022-10-06T07:44:17.241Z"
   },
   {
    "duration": 4,
    "start_time": "2022-10-06T07:44:17.619Z"
   },
   {
    "duration": 3,
    "start_time": "2022-10-06T07:44:18.775Z"
   },
   {
    "duration": 20,
    "start_time": "2022-10-06T07:44:19.088Z"
   },
   {
    "duration": 12,
    "start_time": "2022-10-06T07:44:20.504Z"
   },
   {
    "duration": 3,
    "start_time": "2022-10-06T07:45:16.396Z"
   },
   {
    "duration": 11,
    "start_time": "2022-10-06T07:45:16.718Z"
   },
   {
    "duration": 10,
    "start_time": "2022-10-06T07:45:25.029Z"
   },
   {
    "duration": 78,
    "start_time": "2022-10-06T07:45:26.050Z"
   },
   {
    "duration": 6322,
    "start_time": "2022-10-06T07:45:26.348Z"
   },
   {
    "duration": 5,
    "start_time": "2022-10-06T07:45:32.672Z"
   },
   {
    "duration": 159,
    "start_time": "2022-10-06T07:45:32.679Z"
   },
   {
    "duration": 249,
    "start_time": "2022-10-06T07:45:32.840Z"
   },
   {
    "duration": 4,
    "start_time": "2022-10-06T07:47:54.256Z"
   },
   {
    "duration": 4,
    "start_time": "2022-10-06T07:48:13.928Z"
   },
   {
    "duration": 4,
    "start_time": "2022-10-06T07:52:13.130Z"
   },
   {
    "duration": 13,
    "start_time": "2022-10-06T07:52:14.159Z"
   },
   {
    "duration": 228,
    "start_time": "2022-10-06T07:52:20.400Z"
   },
   {
    "duration": 1034,
    "start_time": "2022-10-06T07:52:53.796Z"
   },
   {
    "duration": 3211,
    "start_time": "2022-10-06T07:53:51.213Z"
   },
   {
    "duration": 2791,
    "start_time": "2022-10-06T07:54:04.033Z"
   },
   {
    "duration": 6170,
    "start_time": "2022-10-06T07:54:45.383Z"
   },
   {
    "duration": 35137,
    "start_time": "2022-10-06T07:55:07.313Z"
   },
   {
    "duration": 6050,
    "start_time": "2022-10-07T06:51:10.464Z"
   },
   {
    "duration": 115,
    "start_time": "2022-10-07T06:51:16.516Z"
   },
   {
    "duration": 10,
    "start_time": "2022-10-07T06:51:16.633Z"
   },
   {
    "duration": 8,
    "start_time": "2022-10-07T06:51:16.645Z"
   },
   {
    "duration": 3,
    "start_time": "2022-10-07T06:51:16.655Z"
   },
   {
    "duration": 308,
    "start_time": "2022-10-07T06:51:16.659Z"
   },
   {
    "duration": 2067,
    "start_time": "2022-10-07T06:51:16.968Z"
   },
   {
    "duration": 557,
    "start_time": "2022-10-07T06:51:19.037Z"
   },
   {
    "duration": 4,
    "start_time": "2022-10-07T06:51:19.596Z"
   },
   {
    "duration": 16,
    "start_time": "2022-10-07T06:51:19.601Z"
   }
  ],
  "kernelspec": {
   "display_name": "Python 3 (ipykernel)",
   "language": "python",
   "name": "python3"
  },
  "language_info": {
   "codemirror_mode": {
    "name": "ipython",
    "version": 3
   },
   "file_extension": ".py",
   "mimetype": "text/x-python",
   "name": "python",
   "nbconvert_exporter": "python",
   "pygments_lexer": "ipython3",
   "version": "3.9.7"
  },
  "toc": {
   "base_numbering": 1,
   "nav_menu": {},
   "number_sections": true,
   "sideBar": true,
   "skip_h1_title": true,
   "title_cell": "Содержание",
   "title_sidebar": "Contents",
   "toc_cell": true,
   "toc_position": {
    "height": "calc(100% - 180px)",
    "left": "10px",
    "top": "150px",
    "width": "278.927px"
   },
   "toc_section_display": true,
   "toc_window_display": true
  }
 },
 "nbformat": 4,
 "nbformat_minor": 2
}
