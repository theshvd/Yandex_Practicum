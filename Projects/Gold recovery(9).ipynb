{
 "cells": [
  {
   "cell_type": "markdown",
   "metadata": {
    "toc": true
   },
   "source": [
    "<h1>Содержание<span class=\"tocSkip\"></span></h1>\n",
    "<div class=\"toc\"><ul class=\"toc-item\"><li><span><a href=\"#Загрузка-данных\" data-toc-modified-id=\"Загрузка-данных-1\"><span class=\"toc-item-num\">1&nbsp;&nbsp;</span>Загрузка данных</a></span></li><li><span><a href=\"#Подготовка-данных\" data-toc-modified-id=\"Подготовка-данных-2\"><span class=\"toc-item-num\">2&nbsp;&nbsp;</span>Подготовка данных</a></span><ul class=\"toc-item\"><li><span><a href=\"#Работа-с-пропусками\" data-toc-modified-id=\"Работа-с-пропусками-2.1\"><span class=\"toc-item-num\">2.1&nbsp;&nbsp;</span>Работа с пропусками</a></span></li><li><span><a href=\"#Создание-тренировочной-и-тестовой-выборки\" data-toc-modified-id=\"Создание-тренировочной-и-тестовой-выборки-2.2\"><span class=\"toc-item-num\">2.2&nbsp;&nbsp;</span>Создание тренировочной и тестовой выборки</a></span></li></ul></li><li><span><a href=\"#Исследовательский-анализ-данных\" data-toc-modified-id=\"Исследовательский-анализ-данных-3\"><span class=\"toc-item-num\">3&nbsp;&nbsp;</span>Исследовательский анализ данных</a></span><ul class=\"toc-item\"><li><span><a href=\"#Концентрация-каждого-металла-на-всех-этапах\" data-toc-modified-id=\"Концентрация-каждого-металла-на-всех-этапах-3.1\"><span class=\"toc-item-num\">3.1&nbsp;&nbsp;</span>Концентрация каждого металла на всех этапах</a></span></li><li><span><a href=\"#Распределние-гранул-сырья\" data-toc-modified-id=\"Распределние-гранул-сырья-3.2\"><span class=\"toc-item-num\">3.2&nbsp;&nbsp;</span>Распределние гранул сырья</a></span></li><li><span><a href=\"#Исследование-концентрации-всех-веществ\" data-toc-modified-id=\"Исследование-концентрации-всех-веществ-3.3\"><span class=\"toc-item-num\">3.3&nbsp;&nbsp;</span>Исследование концентрации всех веществ</a></span></li></ul></li><li><span><a href=\"#Обучение-модели\" data-toc-modified-id=\"Обучение-модели-4\"><span class=\"toc-item-num\">4&nbsp;&nbsp;</span>Обучение модели</a></span><ul class=\"toc-item\"><li><span><a href=\"#LinearRegression\" data-toc-modified-id=\"LinearRegression-4.1\"><span class=\"toc-item-num\">4.1&nbsp;&nbsp;</span>LinearRegression</a></span></li><li><span><a href=\"#RandomForestRegressor\" data-toc-modified-id=\"RandomForestRegressor-4.2\"><span class=\"toc-item-num\">4.2&nbsp;&nbsp;</span>RandomForestRegressor</a></span></li><li><span><a href=\"#DecisionTreeRegressor\" data-toc-modified-id=\"DecisionTreeRegressor-4.3\"><span class=\"toc-item-num\">4.3&nbsp;&nbsp;</span>DecisionTreeRegressor</a></span></li><li><span><a href=\"#GradientBoosting\" data-toc-modified-id=\"GradientBoosting-4.4\"><span class=\"toc-item-num\">4.4&nbsp;&nbsp;</span>GradientBoosting</a></span></li></ul></li><li><span><a href=\"#Тестирование-модели\" data-toc-modified-id=\"Тестирование-модели-5\"><span class=\"toc-item-num\">5&nbsp;&nbsp;</span>Тестирование модели</a></span><ul class=\"toc-item\"><li><span><a href=\"#Проверка-на-адекватность\" data-toc-modified-id=\"Проверка-на-адекватность-5.1\"><span class=\"toc-item-num\">5.1&nbsp;&nbsp;</span>Проверка на адекватность</a></span></li></ul></li><li><span><a href=\"#Общий-вывод\" data-toc-modified-id=\"Общий-вывод-6\"><span class=\"toc-item-num\">6&nbsp;&nbsp;</span>Общий вывод</a></span></li></ul></div>"
   ]
  },
  {
   "cell_type": "markdown",
   "metadata": {},
   "source": [
    "# Восстановление золота из руды"
   ]
  },
  {
   "cell_type": "markdown",
   "metadata": {},
   "source": [
    "Подготовьте прототип модели машинного обучения для «Цифры». Компания разрабатывает решения для эффективной работы промышленных предприятий.\n",
    "\n",
    "Модель должна предсказать коэффициент восстановления золота из золотосодержащей руды. Используйте данные с параметрами добычи и очистки. \n",
    "\n",
    "Модель поможет оптимизировать производство, чтобы не запускать предприятие с убыточными характеристиками.\n",
    "\n",
    "Вам нужно:\n",
    "\n",
    "1. Подготовить данные;\n",
    "2. Провести исследовательский анализ данных;\n",
    "3. Построить и обучить модель.\n",
    "\n",
    "Чтобы выполнить проект, обращайтесь к библиотекам *pandas*, *matplotlib* и *sklearn.* Вам поможет их документация."
   ]
  },
  {
   "cell_type": "markdown",
   "metadata": {},
   "source": [
    "## Загрузка данных"
   ]
  },
  {
   "cell_type": "markdown",
   "metadata": {},
   "source": [
    "Подключим необходимые нам библиотеки"
   ]
  },
  {
   "cell_type": "code",
   "execution_count": 1,
   "metadata": {},
   "outputs": [],
   "source": [
    "import pandas as pd\n",
    "import numpy as np\n",
    "import matplotlib.pyplot as plt\n",
    "import seaborn as sns\n",
    "import warnings\n",
    "warnings.filterwarnings(\"ignore\")\n",
    "\n",
    "from sklearn.model_selection import train_test_split,cross_val_score,GridSearchCV,RandomizedSearchCV\n",
    "from sklearn.preprocessing import StandardScaler\n",
    "from sklearn.linear_model import LinearRegression\n",
    "from numpy.random import RandomState\n",
    "from datetime import date\n",
    "from datetime import datetime\n",
    "from sklearn.ensemble import RandomForestRegressor\n",
    "from sklearn.tree import DecisionTreeRegressor\n",
    "from sklearn.metrics import mean_absolute_error,make_scorer\n",
    "from sklearn.dummy import DummyRegressor\n",
    "from catboost import CatBoostRegressor"
   ]
  },
  {
   "cell_type": "markdown",
   "metadata": {},
   "source": [
    "Прочитаем тренировочный датасет в переменную tr, тестовый в ts и исходный в fl. Укажем, что столбец \"date\" нужно перевести в тип datetime и сделать его индексами."
   ]
  },
  {
   "cell_type": "code",
   "execution_count": 2,
   "metadata": {},
   "outputs": [],
   "source": [
    "tr = pd.read_csv('D://Yandex Project\\prefabricated project2/gold_recovery_train_new.csv', parse_dates=['date'], dayfirst=True,index_col='date')\n",
    "ts = pd.read_csv('D://Yandex Project\\prefabricated project2/gold_recovery_test_new.csv', parse_dates=['date'], dayfirst=True,index_col='date')\n",
    "fl = pd.read_csv('D://Yandex Project\\prefabricated project2/gold_recovery_full_new.csv', parse_dates=['date'], dayfirst=True,index_col='date')"
   ]
  },
  {
   "cell_type": "markdown",
   "metadata": {},
   "source": [
    "Напишем функцию для вычисления эффективности обогащения"
   ]
  },
  {
   "cell_type": "markdown",
   "metadata": {},
   "source": [
    "## Подготовка данных"
   ]
  },
  {
   "cell_type": "code",
   "execution_count": 3,
   "metadata": {},
   "outputs": [],
   "source": [
    "def recovery(C, F, T):\n",
    "    \n",
    "    numerator = (C*(F-T))\n",
    "    divider =(F*(C-T))\n",
    "    \n",
    "    rec = (numerator / divider) * 100\n",
    "    \n",
    "    # так как мы не застрахованы от очень больших и очень маленьких значений, то заполним их\n",
    "    rec[rec<0] = np.nan\n",
    "    rec[rec>100] = np.nan\n",
    "    return rec"
   ]
  },
  {
   "cell_type": "markdown",
   "metadata": {},
   "source": [
    "### Работа с пропусками"
   ]
  },
  {
   "cell_type": "code",
   "execution_count": 4,
   "metadata": {
    "scrolled": true
   },
   "outputs": [
    {
     "name": "stdout",
     "output_type": "stream",
     "text": [
      "Совпадающих значений: 14149\n",
      "Среднее: 82.70450164550269\n",
      "MAE: 9.73512347450521e-15\n",
      "--------------------------\n",
      "Пропуски в расчете: 0\n",
      "Пропуски в full DataFrame: 0\n"
     ]
    }
   ],
   "source": [
    "t,f,c =tr['rougher.output.tail_au'], tr['rougher.input.feed_au'], tr['rougher.output.concentrate_au']\n",
    "rec = recovery(c, f, t)\n",
    "print(\"Совпадающих значений:\", sum(abs(tr['rougher.output.recovery'] - rec) < 10**(-4)))\n",
    "print(\"Среднее:\", rec.mean())\n",
    "print(\"MAE:\", mean_absolute_error(tr['rougher.output.recovery'].dropna(),\n",
    "                                                                  rec.dropna()))\n",
    "print(\"--------------------------\")\n",
    "print(\"Пропуски в расчете:\", rec.isna().sum())\n",
    "print(\"Пропуски в full DataFrame:\", tr['rougher.output.recovery'].isna().sum())"
   ]
  },
  {
   "cell_type": "markdown",
   "metadata": {},
   "source": [
    "Совпадающих значений столько же сколько и всего значений в датасете, значит recovery исходное рассчитано верно. МАЕ очень близко к нулю."
   ]
  },
  {
   "cell_type": "markdown",
   "metadata": {},
   "source": [
    "Посчитаем процент пропущенных значений в разных столбцах"
   ]
  },
  {
   "cell_type": "code",
   "execution_count": 5,
   "metadata": {
    "scrolled": true
   },
   "outputs": [
    {
     "name": "stdout",
     "output_type": "stream",
     "text": [
      "Максимальный процент пропусков: 9.880730314849357 %\n"
     ]
    }
   ],
   "source": [
    "mas = []\n",
    "for i in fl.columns:\n",
    "    mas.append(((fl[i].isna().sum())/(fl[i].count())))\n",
    "print(f'Максимальный процент пропусков: {max(mas)*100} %')"
   ]
  },
  {
   "cell_type": "markdown",
   "metadata": {},
   "source": [
    "Менее 10 процентов, значит их можно удалить, но мы заполним предыдущими значениями."
   ]
  },
  {
   "cell_type": "code",
   "execution_count": 6,
   "metadata": {
    "scrolled": false
   },
   "outputs": [],
   "source": [
    "tr = tr.fillna(method = 'ffill')\n",
    "ts = ts.fillna(method = 'ffill')\n",
    "fl = fl.fillna(method = 'ffill')"
   ]
  },
  {
   "cell_type": "markdown",
   "metadata": {},
   "source": [
    "Далее посмотрим на тестовый датасет"
   ]
  },
  {
   "cell_type": "code",
   "execution_count": 7,
   "metadata": {
    "scrolled": false
   },
   "outputs": [
    {
     "name": "stdout",
     "output_type": "stream",
     "text": [
      "<class 'pandas.core.frame.DataFrame'>\n",
      "DatetimeIndex: 5290 entries, 2016-09-01 00:59:59 to 2017-12-31 23:59:59\n",
      "Data columns (total 52 columns):\n",
      " #   Column                                      Non-Null Count  Dtype  \n",
      "---  ------                                      --------------  -----  \n",
      " 0   primary_cleaner.input.sulfate               5290 non-null   float64\n",
      " 1   primary_cleaner.input.depressant            5290 non-null   float64\n",
      " 2   primary_cleaner.input.feed_size             5290 non-null   float64\n",
      " 3   primary_cleaner.input.xanthate              5290 non-null   float64\n",
      " 4   primary_cleaner.state.floatbank8_a_air      5290 non-null   float64\n",
      " 5   primary_cleaner.state.floatbank8_a_level    5290 non-null   float64\n",
      " 6   primary_cleaner.state.floatbank8_b_air      5290 non-null   float64\n",
      " 7   primary_cleaner.state.floatbank8_b_level    5290 non-null   float64\n",
      " 8   primary_cleaner.state.floatbank8_c_air      5290 non-null   float64\n",
      " 9   primary_cleaner.state.floatbank8_c_level    5290 non-null   float64\n",
      " 10  primary_cleaner.state.floatbank8_d_air      5290 non-null   float64\n",
      " 11  primary_cleaner.state.floatbank8_d_level    5290 non-null   float64\n",
      " 12  rougher.input.feed_ag                       5290 non-null   float64\n",
      " 13  rougher.input.feed_pb                       5290 non-null   float64\n",
      " 14  rougher.input.feed_rate                     5290 non-null   float64\n",
      " 15  rougher.input.feed_size                     5290 non-null   float64\n",
      " 16  rougher.input.feed_sol                      5290 non-null   float64\n",
      " 17  rougher.input.feed_au                       5290 non-null   float64\n",
      " 18  rougher.input.floatbank10_sulfate           5290 non-null   float64\n",
      " 19  rougher.input.floatbank10_xanthate          5290 non-null   float64\n",
      " 20  rougher.input.floatbank11_sulfate           5290 non-null   float64\n",
      " 21  rougher.input.floatbank11_xanthate          5290 non-null   float64\n",
      " 22  rougher.state.floatbank10_a_air             5290 non-null   float64\n",
      " 23  rougher.state.floatbank10_a_level           5290 non-null   float64\n",
      " 24  rougher.state.floatbank10_b_air             5290 non-null   float64\n",
      " 25  rougher.state.floatbank10_b_level           5290 non-null   float64\n",
      " 26  rougher.state.floatbank10_c_air             5290 non-null   float64\n",
      " 27  rougher.state.floatbank10_c_level           5290 non-null   float64\n",
      " 28  rougher.state.floatbank10_d_air             5290 non-null   float64\n",
      " 29  rougher.state.floatbank10_d_level           5290 non-null   float64\n",
      " 30  rougher.state.floatbank10_e_air             5290 non-null   float64\n",
      " 31  rougher.state.floatbank10_e_level           5290 non-null   float64\n",
      " 32  rougher.state.floatbank10_f_air             5290 non-null   float64\n",
      " 33  rougher.state.floatbank10_f_level           5290 non-null   float64\n",
      " 34  secondary_cleaner.state.floatbank2_a_air    5290 non-null   float64\n",
      " 35  secondary_cleaner.state.floatbank2_a_level  5290 non-null   float64\n",
      " 36  secondary_cleaner.state.floatbank2_b_air    5290 non-null   float64\n",
      " 37  secondary_cleaner.state.floatbank2_b_level  5290 non-null   float64\n",
      " 38  secondary_cleaner.state.floatbank3_a_air    5290 non-null   float64\n",
      " 39  secondary_cleaner.state.floatbank3_a_level  5290 non-null   float64\n",
      " 40  secondary_cleaner.state.floatbank3_b_air    5290 non-null   float64\n",
      " 41  secondary_cleaner.state.floatbank3_b_level  5290 non-null   float64\n",
      " 42  secondary_cleaner.state.floatbank4_a_air    5290 non-null   float64\n",
      " 43  secondary_cleaner.state.floatbank4_a_level  5290 non-null   float64\n",
      " 44  secondary_cleaner.state.floatbank4_b_air    5290 non-null   float64\n",
      " 45  secondary_cleaner.state.floatbank4_b_level  5290 non-null   float64\n",
      " 46  secondary_cleaner.state.floatbank5_a_air    5290 non-null   float64\n",
      " 47  secondary_cleaner.state.floatbank5_a_level  5290 non-null   float64\n",
      " 48  secondary_cleaner.state.floatbank5_b_air    5290 non-null   float64\n",
      " 49  secondary_cleaner.state.floatbank5_b_level  5290 non-null   float64\n",
      " 50  secondary_cleaner.state.floatbank6_a_air    5290 non-null   float64\n",
      " 51  secondary_cleaner.state.floatbank6_a_level  5290 non-null   float64\n",
      "dtypes: float64(52)\n",
      "memory usage: 2.1 MB\n"
     ]
    }
   ],
   "source": [
    "ts.info()"
   ]
  },
  {
   "cell_type": "markdown",
   "metadata": {},
   "source": [
    "Как видно, в тесте как раз нет  признаков  с пометкой \"output\" которые необходимо предсказывать."
   ]
  },
  {
   "cell_type": "markdown",
   "metadata": {},
   "source": [
    "Для того чтобы верно предсказывать все значения на тесте, необходимо чтобы количество предикторов в тренировочной выборке и тестовой совпадало, иначе информация будет неполная и на тесте модель ошибётся."
   ]
  },
  {
   "cell_type": "markdown",
   "metadata": {},
   "source": [
    "### Создание тренировочной и тестовой выборки "
   ]
  },
  {
   "cell_type": "markdown",
   "metadata": {},
   "source": [
    "Создадим переменную X, в которую заппишем только те столбцы, которые совпадают со столбцами в тесте, далее создадим Y, в  который запишем 'rougher.output.recovery' и 'final.output.recovery'. Далее разделим X и Y на тестовые и тренировочные датасеты."
   ]
  },
  {
   "cell_type": "code",
   "execution_count": 8,
   "metadata": {
    "scrolled": false
   },
   "outputs": [],
   "source": [
    "mas1 = []\n",
    "mas2 = []\n",
    "for i in range(len(fl.columns)):\n",
    "    mas1.append(fl.columns[i])\n",
    "    if \"final\" in mas1[i] or \"output\" in mas1[i] or \"calculation\" in mas1[i]:\n",
    "        mas2.append(mas1[i])\n",
    "        #print(mas2[i])\n",
    "X = fl.drop(mas2,axis = 1)\n",
    "Y = fl[['rougher.output.recovery','final.output.recovery']]\n",
    "X_train,X_test,y_train,y_test = train_test_split(X,Y,test_size=0.3, random_state=42,shuffle = True)\n",
    "y_train_rougher = y_train['rougher.output.recovery']\n",
    "y_test_rougher = y_test['rougher.output.recovery']\n",
    "y_train_final = y_train['final.output.recovery']\n",
    "y_test_final = y_test['final.output.recovery']"
   ]
  },
  {
   "cell_type": "markdown",
   "metadata": {},
   "source": [
    "## Исследовательский анализ данных"
   ]
  },
  {
   "cell_type": "markdown",
   "metadata": {},
   "source": [
    "### Концентрация каждого металла на всех этапах"
   ]
  },
  {
   "cell_type": "markdown",
   "metadata": {},
   "source": [
    "Теперь найдём концентрацию каждого металла на всех этапах. Для этого найдём среднее значение концентрации каждого из металлов на всех этапах и построим график"
   ]
  },
  {
   "cell_type": "code",
   "execution_count": 9,
   "metadata": {},
   "outputs": [],
   "source": [
    "mas = ['input','rougher','primary','finally']\n",
    "au = [fl['rougher.input.feed_au'].mean(), fl['rougher.output.concentrate_au'].mean(),\n",
    "     fl['primary_cleaner.output.concentrate_au'].mean(), fl['final.output.concentrate_au'].mean()]\n",
    "ag = [fl['rougher.input.feed_ag'].mean(), fl['rougher.output.concentrate_ag'].mean(),\n",
    "     fl['primary_cleaner.output.concentrate_ag'].mean(), fl['final.output.concentrate_ag'].mean()]\n",
    "pb = [fl['rougher.input.feed_pb'].mean(), fl['rougher.output.concentrate_pb'].mean(),\n",
    "     fl['primary_cleaner.output.concentrate_pb'].mean(), fl['final.output.concentrate_pb'].mean()]"
   ]
  },
  {
   "cell_type": "markdown",
   "metadata": {},
   "source": [
    "Прямой отмечена концентрация золота, прерывистой линией отмечена концентрация серебра, точками отмечена концентрация свинца"
   ]
  },
  {
   "cell_type": "code",
   "execution_count": 10,
   "metadata": {
    "scrolled": true
   },
   "outputs": [
    {
     "data": {
      "text/plain": [
       "Text(0, 0.5, 'Концентрация металла')"
      ]
     },
     "execution_count": 10,
     "metadata": {},
     "output_type": "execute_result"
    },
    {
     "data": {
      "image/png": "[encoded data removed]",
      "text/plain": [
       "<Figure size 432x288 with 1 Axes>"
      ]
     },
     "metadata": {
      "needs_background": "light"
     },
     "output_type": "display_data"
    }
   ],
   "source": [
    "plt.plot(mas,au,'-',mas,ag,'--',mas,pb,':')\n",
    "plt.title('Изменение концентрации металлов на разных стадиях')\n",
    "plt.xlabel('Стадия')\n",
    "plt.ylabel('Концентрация металла')"
   ]
  },
  {
   "cell_type": "markdown",
   "metadata": {},
   "source": [
    "Как видно, происходит то что нам и нужно. Концентрация золота с каждым этапом очистки стабильно увеличивается, концентрация серебра уменьшается, а концентрация свинца незначительно увеличивается."
   ]
  },
  {
   "cell_type": "markdown",
   "metadata": {},
   "source": [
    "Теперь посмотрим на распределение гранул сырья на обучающей и тестовой выборке. Если распределения сильно отличаются друг от друга, оценка модели будет неправильной."
   ]
  },
  {
   "cell_type": "markdown",
   "metadata": {},
   "source": [
    "### Распределние гранул сырья"
   ]
  },
  {
   "cell_type": "markdown",
   "metadata": {},
   "source": [
    "Обучающая:"
   ]
  },
  {
   "cell_type": "code",
   "execution_count": 11,
   "metadata": {
    "scrolled": true
   },
   "outputs": [
    {
     "data": {
      "text/plain": [
       "Text(0, 0.5, 'Частота')"
      ]
     },
     "execution_count": 11,
     "metadata": {},
     "output_type": "execute_result"
    },
    {
     "data": {
      "image/png": "[encoded data removed]",
      "text/plain": [
       "<Figure size 432x288 with 1 Axes>"
      ]
     },
     "metadata": {
      "needs_background": "light"
     },
     "output_type": "display_data"
    }
   ],
   "source": [
    "plt.hist(tr['rougher.input.feed_size'],range = (0,370),density=True, bins = 50)\n",
    "plt.title('Распределение размеров гранул сырья на обучающей выборке')\n",
    "plt.xlabel('Размер')\n",
    "plt.ylabel('Частота')"
   ]
  },
  {
   "cell_type": "markdown",
   "metadata": {},
   "source": [
    "Тестовая:"
   ]
  },
  {
   "cell_type": "code",
   "execution_count": 12,
   "metadata": {
    "scrolled": true
   },
   "outputs": [
    {
     "data": {
      "text/plain": [
       "Text(0, 0.5, 'Частота')"
      ]
     },
     "execution_count": 12,
     "metadata": {},
     "output_type": "execute_result"
    },
    {
     "data": {
      "image/png": "[encoded data removed]",
      "text/plain": [
       "<Figure size 432x288 with 1 Axes>"
      ]
     },
     "metadata": {
      "needs_background": "light"
     },
     "output_type": "display_data"
    }
   ],
   "source": [
    "plt.hist(ts['rougher.input.feed_size'],range = (0,200),density=True,bins = 50)\n",
    "plt.title('Распределение размеров гранул сырья на тестовой выборке')\n",
    "plt.xlabel('Размер')\n",
    "plt.ylabel('Частота')"
   ]
  },
  {
   "cell_type": "markdown",
   "metadata": {},
   "source": [
    "Обучающая и тестовая на одном графике:"
   ]
  },
  {
   "cell_type": "code",
   "execution_count": 13,
   "metadata": {
    "scrolled": false
   },
   "outputs": [
    {
     "data": {
      "text/plain": [
       "Text(0.5, 1.0, 'Распределение размеров гранул сырья на тестовой и обучающей выборках на одном графике ')"
      ]
     },
     "execution_count": 13,
     "metadata": {},
     "output_type": "execute_result"
    },
    {
     "data": {
      "image/png": "[encoded data removed]",
      "text/plain": [
       "<Figure size 432x288 with 1 Axes>"
      ]
     },
     "metadata": {
      "needs_background": "light"
     },
     "output_type": "display_data"
    }
   ],
   "source": [
    "plt.hist(tr['rougher.input.feed_size'],range = (0,370),density=True, bins = 50)\n",
    "plt.hist(ts['rougher.input.feed_size'],range = (0,200),density=True, bins = 50)\n",
    "plt.title('Распределение размеров гранул сырья на тестовой и обучающей выборках на одном графике ')"
   ]
  },
  {
   "cell_type": "markdown",
   "metadata": {},
   "source": [
    "Как мы видим, распределения похожи, поэтому можно обучать модель."
   ]
  },
  {
   "cell_type": "markdown",
   "metadata": {},
   "source": [
    "### Исследование концентрации всех веществ"
   ]
  },
  {
   "cell_type": "markdown",
   "metadata": {},
   "source": [
    "Теперь исследуем суммарную концентрацию всех веществ на каждом этапе. "
   ]
  },
  {
   "cell_type": "code",
   "execution_count": 14,
   "metadata": {},
   "outputs": [
    {
     "data": {
      "image/png": "[encoded data removed]",
      "text/plain": [
       "<Figure size 720x360 with 1 Axes>"
      ]
     },
     "metadata": {
      "needs_background": "light"
     },
     "output_type": "display_data"
    }
   ],
   "source": [
    "fl['final_output_metals'] = (fl['final.output.concentrate_ag']\n",
    "                            + fl['final.output.concentrate_au']\n",
    "                            + fl['final.output.concentrate_pb'])\n",
    "                             \n",
    "fl['rougher_input_metals'] = (fl['rougher.input.feed_au']\n",
    "                            + fl['rougher.input.feed_pb']\n",
    "                            + fl['rougher.input.feed_ag'])\n",
    "                              \n",
    "fl['rougher_output_metals'] = (fl['rougher.output.concentrate_ag']\n",
    "                            + fl['rougher.output.concentrate_pb']\n",
    "                            + fl['rougher.output.concentrate_au'])\n",
    "\n",
    "\n",
    "plt.figure(figsize=(10,5))\n",
    "plot1 = fl['rougher_input_metals'].plot(kind='hist', bins=80, label='в сырье')\n",
    "plot2 = fl['rougher_output_metals'].plot(kind='hist', bins=80, label='в черновом концентрате')\n",
    "plot3 = fl['final_output_metals'].plot(kind='hist', bins=80, label='в финальном концентрате')\n",
    "plt.title('Распределение суммарной концентрации металлов на разных этапах'+'\\n')\n",
    "plt.xlabel('\\n' + 'Концентрация'+'\\n')\n",
    "plt.ylabel('Частота значений'+'\\n')\n",
    "plt.legend(loc='upper right')\n",
    "plt.show()"
   ]
  },
  {
   "cell_type": "markdown",
   "metadata": {},
   "source": [
    "Как мы видим,есть выбросы. Их необходимо удалить"
   ]
  },
  {
   "cell_type": "code",
   "execution_count": 15,
   "metadata": {},
   "outputs": [],
   "source": [
    "fl = fl.query('rougher_input_metals>10')\n",
    "fl = fl.query('final_output_metals>50')\n",
    "fl = fl.query('rougher_output_metals >30')"
   ]
  },
  {
   "cell_type": "code",
   "execution_count": 16,
   "metadata": {
    "scrolled": true
   },
   "outputs": [
    {
     "data": {
      "image/png": "[encoded data removed]",
      "text/plain": [
       "<Figure size 720x360 with 1 Axes>"
      ]
     },
     "metadata": {
      "needs_background": "light"
     },
     "output_type": "display_data"
    }
   ],
   "source": [
    "plt.figure(figsize=(10,5))\n",
    "plot1 = fl['rougher_input_metals'].plot(kind='hist', bins=80, label='в сырье')\n",
    "plot2 = fl['rougher_output_metals'].plot(kind='hist', bins=80, label='в черновом концентрате')\n",
    "plot3 = fl['final_output_metals'].plot(kind='hist', bins=80, label='в финальном концентрате')\n",
    "plt.title('Распределение суммарной концентрации металлов на разных этапах после работы над выбросами'+'\\n')\n",
    "plt.xlabel('\\n' + 'Концентрация'+'\\n')\n",
    "plt.ylabel('Частота значений'+'\\n')\n",
    "plt.legend(loc='upper right')\n",
    "plt.show()"
   ]
  },
  {
   "cell_type": "markdown",
   "metadata": {},
   "source": [
    "## Обучение модели"
   ]
  },
  {
   "cell_type": "markdown",
   "metadata": {},
   "source": [
    "Создадим функцию для расчёта sMAPE"
   ]
  },
  {
   "cell_type": "code",
   "execution_count": 17,
   "metadata": {},
   "outputs": [],
   "source": [
    "def smape(target, predictions):\n",
    "    numerator = abs(predictions - target)\n",
    "    divider = (abs(target) + abs(predictions)) / 2\n",
    "    summa = (numerator / divider).sum()\n",
    "\n",
    "    smape = (1 / len(target)) * summa * 100\n",
    "    return smape\n",
    "smape_scorer = make_scorer(smape, greater_is_better=False)"
   ]
  },
  {
   "cell_type": "markdown",
   "metadata": {},
   "source": [
    "И функцию для итогового расчёта финальной sMAPE"
   ]
  },
  {
   "cell_type": "code",
   "execution_count": 18,
   "metadata": {},
   "outputs": [],
   "source": [
    "def smapefinal(rougher, final):\n",
    "    smape_final_1 = 0.25 * rougher + 0.75 * final\n",
    "    return smape_final_1"
   ]
  },
  {
   "cell_type": "markdown",
   "metadata": {},
   "source": [
    "Стандартизируем X"
   ]
  },
  {
   "cell_type": "code",
   "execution_count": 19,
   "metadata": {},
   "outputs": [
    {
     "data": {
      "text/plain": [
       "StandardScaler()"
      ]
     },
     "execution_count": 19,
     "metadata": {},
     "output_type": "execute_result"
    }
   ],
   "source": [
    "pd.options.mode.chained_assignment = None\n",
    "scaler = StandardScaler()\n",
    "scaler.fit(X_train)"
   ]
  },
  {
   "cell_type": "code",
   "execution_count": 20,
   "metadata": {},
   "outputs": [],
   "source": [
    "X_train = scaler.transform(X_train)\n",
    "X_test = scaler.transform(X_test)"
   ]
  },
  {
   "cell_type": "markdown",
   "metadata": {},
   "source": [
    "Напишем функцию для оценки лучших гиперпараметров модели на кросс-валидации."
   ]
  },
  {
   "cell_type": "code",
   "execution_count": 21,
   "metadata": {},
   "outputs": [],
   "source": [
    "def GridSearch (est,params,X_train,y_train):\n",
    "    grid_search_cv_est = GridSearchCV(est,params,cv = 5,scoring=smape_scorer)\n",
    "    grid_search_cv_est.fit(X_train,y_train)\n",
    "    best_param = grid_search_cv_est.best_params_\n",
    "    best_est_est = grid_search_cv_est.best_estimator_\n",
    "    return best_est_est,best_param"
   ]
  },
  {
   "cell_type": "code",
   "execution_count": 22,
   "metadata": {},
   "outputs": [],
   "source": [
    "def RandomizedSearch (est,params,X_train,y_train):\n",
    "    randomized_search_cv_est = RandomizedSearchCV(est,params,cv = 5,scoring=smape_scorer)\n",
    "    randomized_search_cv_est.fit(X_train,y_train)\n",
    "    best_param = randomized_search_cv_est.best_params_\n",
    "    best_est_est = randomized_search_cv_est.best_estimator_\n",
    "    return best_est_est,best_param"
   ]
  },
  {
   "cell_type": "markdown",
   "metadata": {},
   "source": [
    "### LinearRegression"
   ]
  },
  {
   "cell_type": "markdown",
   "metadata": {},
   "source": [
    "Создадим модель линейной регрессии"
   ]
  },
  {
   "cell_type": "code",
   "execution_count": 23,
   "metadata": {},
   "outputs": [],
   "source": [
    "clf = LinearRegression()\n",
    "params = {'fit_intercept':['False','True'],\n",
    "         'normalize':['False','True'],\n",
    "         'positive':['False','True']}"
   ]
  },
  {
   "cell_type": "markdown",
   "metadata": {},
   "source": [
    "Обучим её на кросс-валидации на X_train и y_train_rougher"
   ]
  },
  {
   "cell_type": "code",
   "execution_count": 24,
   "metadata": {},
   "outputs": [
    {
     "name": "stdout",
     "output_type": "stream",
     "text": [
      "{'positive': 'False', 'normalize': 'False', 'fit_intercept': 'False'}\n"
     ]
    }
   ],
   "source": [
    "best_clf1,best_param = RandomizedSearch(clf,params,X_train,y_train_rougher)\n",
    "print(best_param)"
   ]
  },
  {
   "cell_type": "markdown",
   "metadata": {},
   "source": [
    "Предскажем значения для этапа rougher"
   ]
  },
  {
   "cell_type": "code",
   "execution_count": 25,
   "metadata": {},
   "outputs": [],
   "source": [
    "prediction_values_rougher = best_clf1.predict(X_train)"
   ]
  },
  {
   "cell_type": "markdown",
   "metadata": {},
   "source": [
    "Сделаем тоже самое для y_train_final"
   ]
  },
  {
   "cell_type": "code",
   "execution_count": 26,
   "metadata": {},
   "outputs": [
    {
     "name": "stdout",
     "output_type": "stream",
     "text": [
      "{'fit_intercept': 'False', 'normalize': 'False', 'positive': 'False'}\n"
     ]
    }
   ],
   "source": [
    "best_clf2,best_param = GridSearch(clf,params,X_train,y_train_final)\n",
    "print(best_param)"
   ]
  },
  {
   "cell_type": "code",
   "execution_count": 27,
   "metadata": {},
   "outputs": [],
   "source": [
    "prediction_values_final = best_clf2.predict(X_train)"
   ]
  },
  {
   "cell_type": "markdown",
   "metadata": {},
   "source": [
    "Найдём sMAPE для final и rougher"
   ]
  },
  {
   "cell_type": "code",
   "execution_count": 28,
   "metadata": {},
   "outputs": [],
   "source": [
    "lin_rougher = smape(y_train_rougher,prediction_values_rougher)"
   ]
  },
  {
   "cell_type": "code",
   "execution_count": 29,
   "metadata": {},
   "outputs": [],
   "source": [
    "lin_final = smape(y_train_final,prediction_values_final)"
   ]
  },
  {
   "cell_type": "markdown",
   "metadata": {},
   "source": [
    "Найдём итоговое sMAPE для линейной регрессии"
   ]
  },
  {
   "cell_type": "code",
   "execution_count": 30,
   "metadata": {},
   "outputs": [
    {
     "name": "stdout",
     "output_type": "stream",
     "text": [
      "9.355550593303427\n"
     ]
    }
   ],
   "source": [
    "print(smapefinal(lin_rougher,lin_final))"
   ]
  },
  {
   "cell_type": "markdown",
   "metadata": {},
   "source": [
    "### RandomForestRegressor"
   ]
  },
  {
   "cell_type": "markdown",
   "metadata": {},
   "source": [
    "Проведём те-же действия и для RandomForestRegressor"
   ]
  },
  {
   "cell_type": "code",
   "execution_count": 31,
   "metadata": {},
   "outputs": [],
   "source": [
    "clf = RandomForestRegressor(random_state = 42)\n",
    "params = {'n_estimators':range(1,5),\n",
    "         'max_depth':range(1,10),\n",
    "         'min_samples_leaf':range(1,3)}"
   ]
  },
  {
   "cell_type": "code",
   "execution_count": 32,
   "metadata": {
    "scrolled": false
   },
   "outputs": [
    {
     "name": "stdout",
     "output_type": "stream",
     "text": [
      "{'n_estimators': 3, 'min_samples_leaf': 2, 'max_depth': 9}\n"
     ]
    }
   ],
   "source": [
    "best_clf1,best_param = RandomizedSearch(clf,params,X_train,y_train_rougher)\n",
    "print(best_param)"
   ]
  },
  {
   "cell_type": "code",
   "execution_count": 33,
   "metadata": {},
   "outputs": [],
   "source": [
    "prediction_values_rougher = best_clf1.predict(X_train)"
   ]
  },
  {
   "cell_type": "code",
   "execution_count": 34,
   "metadata": {},
   "outputs": [
    {
     "name": "stdout",
     "output_type": "stream",
     "text": [
      "{'n_estimators': 4, 'min_samples_leaf': 2, 'max_depth': 9}\n"
     ]
    }
   ],
   "source": [
    "best_clf2,best_param = RandomizedSearch(clf,params,X_train,y_train_final)\n",
    "print(best_param)"
   ]
  },
  {
   "cell_type": "code",
   "execution_count": 35,
   "metadata": {},
   "outputs": [],
   "source": [
    "prediction_values_final = best_clf2.predict(X_train)"
   ]
  },
  {
   "cell_type": "code",
   "execution_count": 36,
   "metadata": {},
   "outputs": [],
   "source": [
    "rgr_rougher = smape(y_train_rougher,prediction_values_rougher)"
   ]
  },
  {
   "cell_type": "code",
   "execution_count": 37,
   "metadata": {},
   "outputs": [],
   "source": [
    "rfr_final = smape(y_train_final,prediction_values_final)"
   ]
  },
  {
   "cell_type": "code",
   "execution_count": 38,
   "metadata": {},
   "outputs": [
    {
     "name": "stdout",
     "output_type": "stream",
     "text": [
      "7.215623604821639\n"
     ]
    }
   ],
   "source": [
    "print(smapefinal(rgr_rougher,rfr_final))"
   ]
  },
  {
   "cell_type": "markdown",
   "metadata": {},
   "source": [
    "### DecisionTreeRegressor"
   ]
  },
  {
   "cell_type": "code",
   "execution_count": 39,
   "metadata": {},
   "outputs": [],
   "source": [
    "clf = DecisionTreeRegressor(random_state = 42)\n",
    "params = {'max_depth':range(1,15),\n",
    "         'min_samples_leaf':range(1,2)}"
   ]
  },
  {
   "cell_type": "code",
   "execution_count": 40,
   "metadata": {},
   "outputs": [
    {
     "name": "stdout",
     "output_type": "stream",
     "text": [
      "{'min_samples_leaf': 1, 'max_depth': 13}\n"
     ]
    }
   ],
   "source": [
    "best_clf1,best_param = RandomizedSearch(clf,params,X_train,y_train_rougher)\n",
    "print(best_param)"
   ]
  },
  {
   "cell_type": "code",
   "execution_count": 41,
   "metadata": {},
   "outputs": [],
   "source": [
    "prediction_values_rougher = best_clf1.predict(X_train)"
   ]
  },
  {
   "cell_type": "code",
   "execution_count": 42,
   "metadata": {},
   "outputs": [
    {
     "name": "stdout",
     "output_type": "stream",
     "text": [
      "{'min_samples_leaf': 1, 'max_depth': 7}\n"
     ]
    }
   ],
   "source": [
    "best_clf2,best_param = RandomizedSearch(clf,params,X_train,y_train_final)\n",
    "print(best_param)"
   ]
  },
  {
   "cell_type": "code",
   "execution_count": 43,
   "metadata": {},
   "outputs": [],
   "source": [
    "prediction_values_final = best_clf2.predict(X_train)"
   ]
  },
  {
   "cell_type": "code",
   "execution_count": 44,
   "metadata": {},
   "outputs": [],
   "source": [
    "dtr_rougher = smape(y_train_rougher,prediction_values_rougher)"
   ]
  },
  {
   "cell_type": "code",
   "execution_count": 45,
   "metadata": {},
   "outputs": [],
   "source": [
    "dtr_final = smape(y_train_final,prediction_values_final)"
   ]
  },
  {
   "cell_type": "code",
   "execution_count": 46,
   "metadata": {},
   "outputs": [
    {
     "name": "stdout",
     "output_type": "stream",
     "text": [
      "6.578133298499866\n"
     ]
    }
   ],
   "source": [
    "print(smapefinal(dtr_rougher,dtr_final))"
   ]
  },
  {
   "cell_type": "markdown",
   "metadata": {},
   "source": [
    "### GradientBoosting"
   ]
  },
  {
   "cell_type": "code",
   "execution_count": 47,
   "metadata": {},
   "outputs": [],
   "source": [
    "cat = CatBoostRegressor(random_state = 42,loss_function = \"RMSE\",depth = 4,learning_rate = 0.1,verbose = False)\n",
    "params = {}"
   ]
  },
  {
   "cell_type": "code",
   "execution_count": 48,
   "metadata": {},
   "outputs": [],
   "source": [
    "best_clf1,best_param = RandomizedSearch(cat,params,X_train,y_train_rougher);"
   ]
  },
  {
   "cell_type": "code",
   "execution_count": 49,
   "metadata": {},
   "outputs": [],
   "source": [
    "prediction_values_rougher = best_clf1.predict(X_train)"
   ]
  },
  {
   "cell_type": "code",
   "execution_count": 50,
   "metadata": {},
   "outputs": [],
   "source": [
    "best_clf2,best_param = RandomizedSearch(cat,params,X_train,y_train_final,);"
   ]
  },
  {
   "cell_type": "code",
   "execution_count": 51,
   "metadata": {},
   "outputs": [],
   "source": [
    "prediction_values_final = best_clf2.predict(X_train)"
   ]
  },
  {
   "cell_type": "code",
   "execution_count": 52,
   "metadata": {},
   "outputs": [],
   "source": [
    "cat_rougher = smape(y_train_rougher,prediction_values_rougher)"
   ]
  },
  {
   "cell_type": "code",
   "execution_count": 53,
   "metadata": {},
   "outputs": [],
   "source": [
    "cat_final = smape(y_train_final,prediction_values_final)"
   ]
  },
  {
   "cell_type": "code",
   "execution_count": 54,
   "metadata": {
    "scrolled": true
   },
   "outputs": [
    {
     "name": "stdout",
     "output_type": "stream",
     "text": [
      "6.1115173996664\n"
     ]
    }
   ],
   "source": [
    "print(smapefinal(cat_rougher,cat_final))"
   ]
  },
  {
   "cell_type": "markdown",
   "metadata": {},
   "source": [
    "Как видно, самая лучшая модель это CatBoost"
   ]
  },
  {
   "cell_type": "markdown",
   "metadata": {},
   "source": [
    "## Тестирование модели"
   ]
  },
  {
   "cell_type": "markdown",
   "metadata": {},
   "source": [
    "Предскажем значения y_test и посмотрим на получившиеся метрики"
   ]
  },
  {
   "cell_type": "code",
   "execution_count": 55,
   "metadata": {
    "scrolled": true
   },
   "outputs": [
    {
     "name": "stdout",
     "output_type": "stream",
     "text": [
      "7.486632469905149\n"
     ]
    }
   ],
   "source": [
    "prediction_values_rougher = best_clf1.predict(X_test)\n",
    "prediction_values_final = best_clf2.predict(X_test)\n",
    "cat_rougher = smape(y_test_rougher,prediction_values_rougher)\n",
    "cat_final = smape(y_test_final,prediction_values_final)\n",
    "print(smapefinal(cat_rougher,cat_final))"
   ]
  },
  {
   "cell_type": "markdown",
   "metadata": {},
   "source": [
    "Как и ожидалось, CatBoost оказалась самой лучшей моделью"
   ]
  },
  {
   "cell_type": "markdown",
   "metadata": {},
   "source": [
    "### Проверка на адекватность"
   ]
  },
  {
   "cell_type": "markdown",
   "metadata": {},
   "source": [
    "Сравним с дефолтной моделью"
   ]
  },
  {
   "cell_type": "code",
   "execution_count": 56,
   "metadata": {},
   "outputs": [
    {
     "name": "stdout",
     "output_type": "stream",
     "text": [
      "10.784680731461112\n"
     ]
    }
   ],
   "source": [
    "dummy_regr = DummyRegressor(strategy=\"mean\")\n",
    "dummy_regr.fit(X_train, y_train_rougher)\n",
    "prediction_values_rougher = dummy_regr.predict(X_train)\n",
    "dummy_regr.fit(X_train, y_train_final)\n",
    "prediction_values_final = dummy_regr.predict(X_train)\n",
    "dum_rougher = smape(y_train_rougher,prediction_values_rougher)\n",
    "dum_final = smape(y_train_final,prediction_values_final)\n",
    "print(smapefinal(dum_rougher,dum_final))"
   ]
  },
  {
   "cell_type": "markdown",
   "metadata": {},
   "source": [
    "Получившаяся наша метрика близка, но ниже дефолтной модели, значит наша модель адекватна и имеет смысл"
   ]
  },
  {
   "cell_type": "markdown",
   "metadata": {},
   "source": [
    "Вывод: Как видно, лучшие результаты показывает решающий лес так как там самый минимальный процент ошибок. "
   ]
  },
  {
   "cell_type": "markdown",
   "metadata": {},
   "source": [
    "## Общий вывод"
   ]
  },
  {
   "cell_type": "markdown",
   "metadata": {},
   "source": [
    "Общий вывод:\n",
    "\n",
    "1) Произвели исследовательский анализ данных, проверили наличие пропусков, дубликатов. В тестовой выборке не оказалось признаков, которые обозначают характеристики смеси на разных этапах обработки.\n",
    "\n",
    "2) Обнаружили, что концентрация золота и меди увеличивается с каждым этапом, а концентрация серебра снижается после флотации.\n",
    "\n",
    "3) Распределения размеров гранул в train и test выборках одинаковы.\n",
    "\n",
    "4) Суммарные распределения концентрации скошены влево, а также имеют множество нулевых значений. Избавились от выбросов.\n",
    "\n",
    "5) Построили различные модели, выявили что лучшей моделью является CatBoost, с помощью него получили лучшее значение sMAPE = 7.48"
   ]
  }
 ],
 "metadata": {
  "ExecuteTimeLog": [
   {
    "duration": 1518,
    "start_time": "2022-07-11T11:02:04.040Z"
   },
   {
    "duration": 133,
    "start_time": "2022-07-11T11:02:58.498Z"
   },
   {
    "duration": 43,
    "start_time": "2022-07-11T11:03:00.701Z"
   },
   {
    "duration": 4199,
    "start_time": "2022-07-11T11:03:22.648Z"
   },
   {
    "duration": 31,
    "start_time": "2022-07-11T11:03:35.334Z"
   },
   {
    "duration": 15,
    "start_time": "2022-07-11T11:07:00.986Z"
   },
   {
    "duration": 18,
    "start_time": "2022-07-11T11:07:07.177Z"
   },
   {
    "duration": 3,
    "start_time": "2022-07-11T11:08:30.811Z"
   },
   {
    "duration": 597,
    "start_time": "2022-07-11T11:08:31.087Z"
   },
   {
    "duration": 17,
    "start_time": "2022-07-11T11:08:31.686Z"
   },
   {
    "duration": 19,
    "start_time": "2022-07-11T11:13:32.023Z"
   },
   {
    "duration": 22,
    "start_time": "2022-07-11T11:14:20.032Z"
   },
   {
    "duration": 32,
    "start_time": "2022-07-11T11:15:15.528Z"
   },
   {
    "duration": 309,
    "start_time": "2022-07-11T11:15:23.782Z"
   },
   {
    "duration": 638,
    "start_time": "2022-07-11T11:15:36.376Z"
   },
   {
    "duration": 27,
    "start_time": "2022-07-11T11:15:39.846Z"
   },
   {
    "duration": 25,
    "start_time": "2022-07-11T11:15:47.238Z"
   },
   {
    "duration": 14,
    "start_time": "2022-07-11T11:17:04.098Z"
   },
   {
    "duration": 27,
    "start_time": "2022-07-11T11:17:33.566Z"
   },
   {
    "duration": 597,
    "start_time": "2022-07-11T11:17:56.742Z"
   },
   {
    "duration": 10,
    "start_time": "2022-07-11T11:18:39.704Z"
   },
   {
    "duration": 4,
    "start_time": "2022-07-11T11:19:03.103Z"
   },
   {
    "duration": 28,
    "start_time": "2022-07-11T11:20:04.848Z"
   },
   {
    "duration": 16,
    "start_time": "2022-07-11T11:20:13.859Z"
   },
   {
    "duration": 7,
    "start_time": "2022-07-11T11:51:07.574Z"
   },
   {
    "duration": 6,
    "start_time": "2022-07-11T11:51:18.973Z"
   },
   {
    "duration": 7,
    "start_time": "2022-07-11T12:05:39.114Z"
   },
   {
    "duration": 6,
    "start_time": "2022-07-11T12:06:49.971Z"
   },
   {
    "duration": 1523,
    "start_time": "2022-07-11T12:08:46.052Z"
   },
   {
    "duration": 15,
    "start_time": "2022-07-11T12:09:01.846Z"
   },
   {
    "duration": 1303,
    "start_time": "2022-07-11T12:18:29.257Z"
   },
   {
    "duration": 8,
    "start_time": "2022-07-11T12:18:39.739Z"
   },
   {
    "duration": 8,
    "start_time": "2022-07-11T12:22:06.633Z"
   },
   {
    "duration": 77,
    "start_time": "2022-07-11T12:22:23.772Z"
   },
   {
    "duration": 6,
    "start_time": "2022-07-11T12:22:26.340Z"
   },
   {
    "duration": 6,
    "start_time": "2022-07-11T12:22:34.747Z"
   },
   {
    "duration": 72,
    "start_time": "2022-07-11T12:26:26.646Z"
   },
   {
    "duration": 5,
    "start_time": "2022-07-11T12:26:43.322Z"
   },
   {
    "duration": 75,
    "start_time": "2022-07-11T12:26:47.829Z"
   },
   {
    "duration": 4,
    "start_time": "2022-07-11T12:27:11.020Z"
   },
   {
    "duration": 5,
    "start_time": "2022-07-11T12:27:22.251Z"
   },
   {
    "duration": 73,
    "start_time": "2022-07-11T12:28:15.588Z"
   },
   {
    "duration": 5,
    "start_time": "2022-07-11T12:28:22.386Z"
   },
   {
    "duration": 3,
    "start_time": "2022-07-11T12:29:15.102Z"
   },
   {
    "duration": 583,
    "start_time": "2022-07-11T12:29:15.274Z"
   },
   {
    "duration": 14,
    "start_time": "2022-07-11T12:29:15.858Z"
   },
   {
    "duration": 10,
    "start_time": "2022-07-11T12:29:15.874Z"
   },
   {
    "duration": 11,
    "start_time": "2022-07-11T12:29:15.885Z"
   },
   {
    "duration": 1457,
    "start_time": "2022-07-11T12:29:19.012Z"
   },
   {
    "duration": 13,
    "start_time": "2022-07-11T12:29:25.148Z"
   },
   {
    "duration": 33,
    "start_time": "2022-07-11T12:29:59.084Z"
   },
   {
    "duration": 10,
    "start_time": "2022-07-11T12:30:01.141Z"
   },
   {
    "duration": 6,
    "start_time": "2022-07-11T12:30:01.345Z"
   },
   {
    "duration": 14,
    "start_time": "2022-07-11T12:30:01.587Z"
   },
   {
    "duration": 14,
    "start_time": "2022-07-11T12:30:06.350Z"
   },
   {
    "duration": 79,
    "start_time": "2022-07-11T12:30:14.241Z"
   },
   {
    "duration": 32,
    "start_time": "2022-07-11T12:30:22.498Z"
   },
   {
    "duration": 15,
    "start_time": "2022-07-11T12:30:32.210Z"
   },
   {
    "duration": 7,
    "start_time": "2022-07-11T12:30:50.164Z"
   },
   {
    "duration": 14,
    "start_time": "2022-07-11T12:30:50.585Z"
   },
   {
    "duration": 8,
    "start_time": "2022-07-11T12:30:52.047Z"
   },
   {
    "duration": 6,
    "start_time": "2022-07-11T12:30:52.260Z"
   },
   {
    "duration": 13,
    "start_time": "2022-07-11T12:30:52.808Z"
   },
   {
    "duration": 3,
    "start_time": "2022-07-11T12:30:59.390Z"
   },
   {
    "duration": 628,
    "start_time": "2022-07-11T12:30:59.690Z"
   },
   {
    "duration": 15,
    "start_time": "2022-07-11T12:31:00.320Z"
   },
   {
    "duration": 8,
    "start_time": "2022-07-11T12:31:00.376Z"
   },
   {
    "duration": 17,
    "start_time": "2022-07-11T12:31:01.012Z"
   },
   {
    "duration": 11,
    "start_time": "2022-07-11T12:31:02.703Z"
   },
   {
    "duration": 6,
    "start_time": "2022-07-11T12:31:03.784Z"
   },
   {
    "duration": 14,
    "start_time": "2022-07-11T12:31:04.143Z"
   },
   {
    "duration": 11,
    "start_time": "2022-07-11T12:31:27.049Z"
   },
   {
    "duration": 10,
    "start_time": "2022-07-11T12:31:28.317Z"
   },
   {
    "duration": 5,
    "start_time": "2022-07-11T12:31:29.117Z"
   },
   {
    "duration": 15,
    "start_time": "2022-07-11T12:31:29.766Z"
   },
   {
    "duration": 6,
    "start_time": "2022-07-11T12:31:56.116Z"
   },
   {
    "duration": 4,
    "start_time": "2022-07-11T12:32:20.902Z"
   },
   {
    "duration": 3,
    "start_time": "2022-07-11T12:32:51.496Z"
   },
   {
    "duration": 603,
    "start_time": "2022-07-11T12:32:51.843Z"
   },
   {
    "duration": 16,
    "start_time": "2022-07-11T12:32:52.447Z"
   },
   {
    "duration": 7,
    "start_time": "2022-07-11T12:32:53.184Z"
   },
   {
    "duration": 10,
    "start_time": "2022-07-11T12:32:54.752Z"
   },
   {
    "duration": 5,
    "start_time": "2022-07-11T12:32:55.684Z"
   },
   {
    "duration": 1357,
    "start_time": "2022-07-11T12:32:56.166Z"
   },
   {
    "duration": 0,
    "start_time": "2022-07-11T12:32:57.524Z"
   },
   {
    "duration": 6,
    "start_time": "2022-07-11T12:33:08.845Z"
   },
   {
    "duration": 15,
    "start_time": "2022-07-11T12:33:09.342Z"
   },
   {
    "duration": 16,
    "start_time": "2022-07-11T12:34:55.787Z"
   },
   {
    "duration": 5,
    "start_time": "2022-07-11T12:35:29.980Z"
   },
   {
    "duration": 5,
    "start_time": "2022-07-11T12:35:40.392Z"
   },
   {
    "duration": 5,
    "start_time": "2022-07-11T12:35:54.638Z"
   },
   {
    "duration": 6,
    "start_time": "2022-07-11T12:40:19.660Z"
   },
   {
    "duration": 6,
    "start_time": "2022-07-11T12:40:20.055Z"
   },
   {
    "duration": 14,
    "start_time": "2022-07-11T12:40:20.473Z"
   },
   {
    "duration": 4,
    "start_time": "2022-07-11T12:40:36.686Z"
   },
   {
    "duration": 5,
    "start_time": "2022-07-11T12:40:39.507Z"
   },
   {
    "duration": 5,
    "start_time": "2022-07-11T12:40:47.696Z"
   },
   {
    "duration": 9,
    "start_time": "2022-07-11T12:40:52.420Z"
   },
   {
    "duration": 5,
    "start_time": "2022-07-11T12:41:00.699Z"
   },
   {
    "duration": 4,
    "start_time": "2022-07-11T12:41:08.173Z"
   },
   {
    "duration": 7,
    "start_time": "2022-07-11T12:46:38.600Z"
   },
   {
    "duration": 15,
    "start_time": "2022-07-11T13:09:14.345Z"
   },
   {
    "duration": 4,
    "start_time": "2022-07-11T13:10:21.408Z"
   },
   {
    "duration": 10,
    "start_time": "2022-07-11T13:10:21.654Z"
   },
   {
    "duration": 18,
    "start_time": "2022-07-11T13:10:35.650Z"
   },
   {
    "duration": 15,
    "start_time": "2022-07-11T13:11:41.796Z"
   },
   {
    "duration": 14,
    "start_time": "2022-07-11T13:11:56.411Z"
   },
   {
    "duration": 16,
    "start_time": "2022-07-11T13:12:14.453Z"
   },
   {
    "duration": 4,
    "start_time": "2022-07-11T13:12:32.828Z"
   },
   {
    "duration": 16,
    "start_time": "2022-07-11T13:12:37.832Z"
   },
   {
    "duration": 7,
    "start_time": "2022-07-11T13:12:52.726Z"
   },
   {
    "duration": 4,
    "start_time": "2022-07-11T13:13:02.336Z"
   },
   {
    "duration": 3,
    "start_time": "2022-07-11T13:14:55.345Z"
   },
   {
    "duration": 15,
    "start_time": "2022-07-11T13:14:55.615Z"
   },
   {
    "duration": 11,
    "start_time": "2022-07-11T13:15:12.752Z"
   },
   {
    "duration": 15,
    "start_time": "2022-07-11T13:18:55.854Z"
   },
   {
    "duration": 9,
    "start_time": "2022-07-11T13:20:07.159Z"
   },
   {
    "duration": 9,
    "start_time": "2022-07-11T13:20:12.041Z"
   },
   {
    "duration": 5,
    "start_time": "2022-07-11T13:20:14.860Z"
   },
   {
    "duration": 8,
    "start_time": "2022-07-11T13:20:28.305Z"
   },
   {
    "duration": 11,
    "start_time": "2022-07-11T13:20:30.803Z"
   },
   {
    "duration": 44,
    "start_time": "2022-07-11T13:21:16.498Z"
   },
   {
    "duration": 31,
    "start_time": "2022-07-11T13:21:19.320Z"
   },
   {
    "duration": 43,
    "start_time": "2022-07-11T13:22:10.008Z"
   },
   {
    "duration": 44,
    "start_time": "2022-07-11T13:22:25.639Z"
   },
   {
    "duration": 5,
    "start_time": "2022-07-11T13:22:38.980Z"
   },
   {
    "duration": 100,
    "start_time": "2022-07-11T13:22:43.732Z"
   },
   {
    "duration": 8,
    "start_time": "2022-07-11T13:22:46.453Z"
   },
   {
    "duration": 10,
    "start_time": "2022-07-11T13:23:03.419Z"
   },
   {
    "duration": 3,
    "start_time": "2022-07-11T13:23:35.974Z"
   },
   {
    "duration": 9,
    "start_time": "2022-07-11T13:23:37.878Z"
   },
   {
    "duration": 44,
    "start_time": "2022-07-11T13:23:42.267Z"
   },
   {
    "duration": 50,
    "start_time": "2022-07-11T13:23:58.511Z"
   },
   {
    "duration": 3,
    "start_time": "2022-07-11T13:24:39.718Z"
   },
   {
    "duration": 5,
    "start_time": "2022-07-11T13:24:41.844Z"
   },
   {
    "duration": 73,
    "start_time": "2022-07-11T13:24:58.797Z"
   },
   {
    "duration": 4,
    "start_time": "2022-07-11T13:25:00.970Z"
   },
   {
    "duration": 9,
    "start_time": "2022-07-11T13:25:34.533Z"
   },
   {
    "duration": 10,
    "start_time": "2022-07-11T13:25:55.920Z"
   },
   {
    "duration": 52,
    "start_time": "2022-07-11T13:26:22.322Z"
   },
   {
    "duration": 78,
    "start_time": "2022-07-11T13:27:26.188Z"
   },
   {
    "duration": 70,
    "start_time": "2022-07-11T13:27:34.730Z"
   },
   {
    "duration": 72,
    "start_time": "2022-07-11T13:27:39.803Z"
   },
   {
    "duration": 10,
    "start_time": "2022-07-11T13:28:55.583Z"
   },
   {
    "duration": 52,
    "start_time": "2022-07-11T13:29:17.048Z"
   },
   {
    "duration": 55,
    "start_time": "2022-07-11T18:16:42.065Z"
   },
   {
    "duration": 53,
    "start_time": "2022-07-11T18:16:48.270Z"
   },
   {
    "duration": 38,
    "start_time": "2022-07-11T18:17:06.993Z"
   },
   {
    "duration": 1441,
    "start_time": "2022-07-11T18:17:12.236Z"
   },
   {
    "duration": 1606,
    "start_time": "2022-07-11T18:17:13.679Z"
   },
   {
    "duration": 16,
    "start_time": "2022-07-11T18:17:15.286Z"
   },
   {
    "duration": 3,
    "start_time": "2022-07-11T18:17:15.304Z"
   },
   {
    "duration": 18,
    "start_time": "2022-07-11T18:17:15.308Z"
   },
   {
    "duration": 18,
    "start_time": "2022-07-11T18:17:15.327Z"
   },
   {
    "duration": 68,
    "start_time": "2022-07-11T18:17:15.347Z"
   },
   {
    "duration": 0,
    "start_time": "2022-07-11T18:17:15.416Z"
   },
   {
    "duration": 55,
    "start_time": "2022-07-11T18:17:39.767Z"
   },
   {
    "duration": 95,
    "start_time": "2022-07-11T18:17:47.999Z"
   },
   {
    "duration": 27,
    "start_time": "2022-07-11T18:18:09.663Z"
   },
   {
    "duration": 363,
    "start_time": "2022-07-11T18:18:34.277Z"
   },
   {
    "duration": 103,
    "start_time": "2022-07-11T18:18:37.499Z"
   },
   {
    "duration": 52,
    "start_time": "2022-07-11T18:18:43.723Z"
   },
   {
    "duration": 32,
    "start_time": "2022-07-11T18:18:45.793Z"
   },
   {
    "duration": 31,
    "start_time": "2022-07-11T18:19:26.991Z"
   },
   {
    "duration": 26,
    "start_time": "2022-07-11T18:19:42.345Z"
   },
   {
    "duration": 8,
    "start_time": "2022-07-11T18:20:15.663Z"
   },
   {
    "duration": 9,
    "start_time": "2022-07-11T18:20:20.491Z"
   },
   {
    "duration": 28,
    "start_time": "2022-07-11T18:20:22.625Z"
   },
   {
    "duration": 14,
    "start_time": "2022-07-11T18:20:27.958Z"
   },
   {
    "duration": 11,
    "start_time": "2022-07-11T18:20:42.418Z"
   },
   {
    "duration": 4,
    "start_time": "2022-07-11T18:23:52.402Z"
   },
   {
    "duration": 643,
    "start_time": "2022-07-11T18:23:52.637Z"
   },
   {
    "duration": 17,
    "start_time": "2022-07-11T18:23:53.281Z"
   },
   {
    "duration": 4,
    "start_time": "2022-07-11T18:23:53.869Z"
   },
   {
    "duration": 14,
    "start_time": "2022-07-11T18:23:54.254Z"
   },
   {
    "duration": 22,
    "start_time": "2022-07-11T18:48:09.687Z"
   },
   {
    "duration": 266,
    "start_time": "2022-07-11T18:57:57.441Z"
   },
   {
    "duration": 3,
    "start_time": "2022-07-11T19:03:26.498Z"
   },
   {
    "duration": 5,
    "start_time": "2022-07-11T19:03:51.357Z"
   },
   {
    "duration": 5,
    "start_time": "2022-07-11T19:04:18.473Z"
   },
   {
    "duration": 3,
    "start_time": "2022-07-11T19:05:51.169Z"
   },
   {
    "duration": 2,
    "start_time": "2022-07-11T19:05:53.972Z"
   },
   {
    "duration": 3,
    "start_time": "2022-07-11T19:05:59.135Z"
   },
   {
    "duration": 5,
    "start_time": "2022-07-11T19:06:09.066Z"
   },
   {
    "duration": 3,
    "start_time": "2022-07-11T19:06:21.597Z"
   },
   {
    "duration": 111,
    "start_time": "2022-07-11T19:06:29.227Z"
   },
   {
    "duration": 4,
    "start_time": "2022-07-11T19:06:31.539Z"
   },
   {
    "duration": 44,
    "start_time": "2022-07-11T19:09:07.950Z"
   },
   {
    "duration": 977,
    "start_time": "2022-07-11T19:21:54.011Z"
   },
   {
    "duration": 6,
    "start_time": "2022-07-11T19:22:02.420Z"
   },
   {
    "duration": 7,
    "start_time": "2022-07-11T19:23:23.686Z"
   },
   {
    "duration": 99,
    "start_time": "2022-07-11T19:25:06.554Z"
   },
   {
    "duration": 131,
    "start_time": "2022-07-11T19:34:25.145Z"
   },
   {
    "duration": 131,
    "start_time": "2022-07-11T19:34:38.504Z"
   },
   {
    "duration": 1655,
    "start_time": "2022-07-12T10:53:19.105Z"
   },
   {
    "duration": 1680,
    "start_time": "2022-07-12T10:53:20.763Z"
   },
   {
    "duration": 29,
    "start_time": "2022-07-12T10:53:22.445Z"
   },
   {
    "duration": 4,
    "start_time": "2022-07-12T10:53:22.477Z"
   },
   {
    "duration": 27,
    "start_time": "2022-07-12T10:53:22.483Z"
   },
   {
    "duration": 52,
    "start_time": "2022-07-12T10:53:22.512Z"
   },
   {
    "duration": 24,
    "start_time": "2022-07-12T10:53:22.566Z"
   },
   {
    "duration": 7,
    "start_time": "2022-07-12T10:53:22.592Z"
   },
   {
    "duration": 165,
    "start_time": "2022-07-12T10:53:22.601Z"
   },
   {
    "duration": 23,
    "start_time": "2022-07-12T10:54:14.036Z"
   },
   {
    "duration": 5,
    "start_time": "2022-07-12T11:00:18.395Z"
   },
   {
    "duration": 49,
    "start_time": "2022-07-12T11:01:10.984Z"
   },
   {
    "duration": 3,
    "start_time": "2022-07-12T11:01:14.075Z"
   },
   {
    "duration": 4,
    "start_time": "2022-07-12T11:01:18.780Z"
   },
   {
    "duration": 5,
    "start_time": "2022-07-12T11:01:37.657Z"
   },
   {
    "duration": 6,
    "start_time": "2022-07-12T11:01:47.763Z"
   },
   {
    "duration": 7,
    "start_time": "2022-07-12T11:02:06.041Z"
   },
   {
    "duration": 6,
    "start_time": "2022-07-12T11:02:30.178Z"
   },
   {
    "duration": 6,
    "start_time": "2022-07-12T11:07:19.463Z"
   },
   {
    "duration": 8,
    "start_time": "2022-07-12T11:07:31.490Z"
   },
   {
    "duration": 8,
    "start_time": "2022-07-12T11:07:33.001Z"
   },
   {
    "duration": 6,
    "start_time": "2022-07-12T11:07:37.335Z"
   },
   {
    "duration": 4,
    "start_time": "2022-07-12T11:13:01.865Z"
   },
   {
    "duration": 10,
    "start_time": "2022-07-12T11:13:10.019Z"
   },
   {
    "duration": 1188,
    "start_time": "2022-07-12T11:13:22.427Z"
   },
   {
    "duration": 1094,
    "start_time": "2022-07-12T11:13:42.485Z"
   },
   {
    "duration": 1172,
    "start_time": "2022-07-12T11:14:04.759Z"
   },
   {
    "duration": 1311,
    "start_time": "2022-07-12T11:14:15.511Z"
   },
   {
    "duration": 1449,
    "start_time": "2022-07-12T11:14:25.854Z"
   },
   {
    "duration": 1306,
    "start_time": "2022-07-12T11:14:45.165Z"
   },
   {
    "duration": 7,
    "start_time": "2022-07-12T11:15:17.127Z"
   },
   {
    "duration": 1613,
    "start_time": "2022-07-12T11:15:49.779Z"
   },
   {
    "duration": 69,
    "start_time": "2022-07-12T11:18:02.001Z"
   },
   {
    "duration": 89,
    "start_time": "2022-07-12T11:18:05.445Z"
   },
   {
    "duration": 5,
    "start_time": "2022-07-12T11:18:12.508Z"
   },
   {
    "duration": 6,
    "start_time": "2022-07-12T11:18:16.541Z"
   },
   {
    "duration": 23,
    "start_time": "2022-07-12T11:18:40.148Z"
   },
   {
    "duration": 12,
    "start_time": "2022-07-12T11:20:24.194Z"
   },
   {
    "duration": 47,
    "start_time": "2022-07-12T11:20:32.065Z"
   },
   {
    "duration": 23,
    "start_time": "2022-07-12T11:20:35.969Z"
   },
   {
    "duration": 142,
    "start_time": "2022-07-12T11:21:27.982Z"
   },
   {
    "duration": 72,
    "start_time": "2022-07-12T11:21:30.368Z"
   },
   {
    "duration": 28,
    "start_time": "2022-07-12T11:21:34.476Z"
   },
   {
    "duration": 16,
    "start_time": "2022-07-12T11:21:40.787Z"
   },
   {
    "duration": 9,
    "start_time": "2022-07-12T11:21:54.468Z"
   },
   {
    "duration": 22,
    "start_time": "2022-07-12T11:22:06.197Z"
   },
   {
    "duration": 4,
    "start_time": "2022-07-12T11:22:14.931Z"
   },
   {
    "duration": 1002,
    "start_time": "2022-07-12T11:22:15.269Z"
   },
   {
    "duration": 23,
    "start_time": "2022-07-12T11:22:19.511Z"
   },
   {
    "duration": 10,
    "start_time": "2022-07-12T11:22:19.889Z"
   },
   {
    "duration": 23,
    "start_time": "2022-07-12T11:22:20.006Z"
   },
   {
    "duration": 55,
    "start_time": "2022-07-12T11:22:20.143Z"
   },
   {
    "duration": 24,
    "start_time": "2022-07-12T11:22:20.284Z"
   },
   {
    "duration": 19,
    "start_time": "2022-07-12T11:22:20.468Z"
   },
   {
    "duration": 11,
    "start_time": "2022-07-12T11:22:21.261Z"
   },
   {
    "duration": 165,
    "start_time": "2022-07-12T11:22:21.423Z"
   },
   {
    "duration": 105,
    "start_time": "2022-07-12T11:22:21.735Z"
   },
   {
    "duration": 189,
    "start_time": "2022-07-12T11:22:21.888Z"
   },
   {
    "duration": 257,
    "start_time": "2022-07-12T11:22:22.095Z"
   },
   {
    "duration": 7,
    "start_time": "2022-07-12T11:22:23.382Z"
   },
   {
    "duration": 11,
    "start_time": "2022-07-12T11:22:23.726Z"
   },
   {
    "duration": 5,
    "start_time": "2022-07-12T11:22:33.785Z"
   },
   {
    "duration": 919,
    "start_time": "2022-07-12T11:22:33.910Z"
   },
   {
    "duration": 49,
    "start_time": "2022-07-12T11:22:34.831Z"
   },
   {
    "duration": 4,
    "start_time": "2022-07-12T11:22:34.885Z"
   },
   {
    "duration": 28,
    "start_time": "2022-07-12T11:22:34.891Z"
   },
   {
    "duration": 49,
    "start_time": "2022-07-12T11:22:34.921Z"
   },
   {
    "duration": 23,
    "start_time": "2022-07-12T11:22:34.972Z"
   },
   {
    "duration": 17,
    "start_time": "2022-07-12T11:22:35.015Z"
   },
   {
    "duration": 14,
    "start_time": "2022-07-12T11:22:35.576Z"
   },
   {
    "duration": 126,
    "start_time": "2022-07-12T11:22:35.709Z"
   },
   {
    "duration": 75,
    "start_time": "2022-07-12T11:22:36.256Z"
   },
   {
    "duration": 178,
    "start_time": "2022-07-12T11:22:36.576Z"
   },
   {
    "duration": 258,
    "start_time": "2022-07-12T11:22:37.176Z"
   },
   {
    "duration": 6,
    "start_time": "2022-07-12T11:22:38.101Z"
   },
   {
    "duration": 11,
    "start_time": "2022-07-12T11:22:38.434Z"
   },
   {
    "duration": 5,
    "start_time": "2022-07-12T11:23:29.719Z"
   },
   {
    "duration": 808,
    "start_time": "2022-07-12T11:23:29.870Z"
   },
   {
    "duration": 20,
    "start_time": "2022-07-12T11:23:30.682Z"
   },
   {
    "duration": 6,
    "start_time": "2022-07-12T11:23:30.705Z"
   },
   {
    "duration": 50,
    "start_time": "2022-07-12T11:23:30.715Z"
   },
   {
    "duration": 52,
    "start_time": "2022-07-12T11:23:30.769Z"
   },
   {
    "duration": 27,
    "start_time": "2022-07-12T11:23:30.925Z"
   },
   {
    "duration": 16,
    "start_time": "2022-07-12T11:23:31.109Z"
   },
   {
    "duration": 15,
    "start_time": "2022-07-12T11:23:32.244Z"
   },
   {
    "duration": 131,
    "start_time": "2022-07-12T11:23:32.580Z"
   },
   {
    "duration": 121,
    "start_time": "2022-07-12T11:23:33.478Z"
   },
   {
    "duration": 168,
    "start_time": "2022-07-12T11:23:33.817Z"
   },
   {
    "duration": 171,
    "start_time": "2022-07-12T11:23:34.238Z"
   },
   {
    "duration": 9,
    "start_time": "2022-07-12T11:23:35.242Z"
   },
   {
    "duration": 21,
    "start_time": "2022-07-12T11:23:35.647Z"
   },
   {
    "duration": 24,
    "start_time": "2022-07-12T11:23:36.360Z"
   },
   {
    "duration": 7,
    "start_time": "2022-07-12T11:23:59.363Z"
   },
   {
    "duration": 896,
    "start_time": "2022-07-12T11:23:59.874Z"
   },
   {
    "duration": 26,
    "start_time": "2022-07-12T11:24:00.774Z"
   },
   {
    "duration": 26,
    "start_time": "2022-07-12T11:24:00.803Z"
   },
   {
    "duration": 42,
    "start_time": "2022-07-12T11:24:00.832Z"
   },
   {
    "duration": 53,
    "start_time": "2022-07-12T11:24:00.877Z"
   },
   {
    "duration": 35,
    "start_time": "2022-07-12T11:24:00.932Z"
   },
   {
    "duration": 31,
    "start_time": "2022-07-12T11:24:00.973Z"
   },
   {
    "duration": 26,
    "start_time": "2022-07-12T11:24:01.006Z"
   },
   {
    "duration": 165,
    "start_time": "2022-07-12T11:24:01.034Z"
   },
   {
    "duration": 134,
    "start_time": "2022-07-12T11:24:01.202Z"
   },
   {
    "duration": 0,
    "start_time": "2022-07-12T11:24:01.338Z"
   },
   {
    "duration": 0,
    "start_time": "2022-07-12T11:24:01.339Z"
   },
   {
    "duration": 0,
    "start_time": "2022-07-12T11:24:01.340Z"
   },
   {
    "duration": 0,
    "start_time": "2022-07-12T11:24:01.341Z"
   },
   {
    "duration": 0,
    "start_time": "2022-07-12T11:24:01.342Z"
   },
   {
    "duration": 0,
    "start_time": "2022-07-12T11:24:01.343Z"
   },
   {
    "duration": 150,
    "start_time": "2022-07-12T11:24:08.619Z"
   },
   {
    "duration": 185,
    "start_time": "2022-07-12T11:24:08.949Z"
   },
   {
    "duration": 7,
    "start_time": "2022-07-12T11:24:09.892Z"
   },
   {
    "duration": 19,
    "start_time": "2022-07-12T11:24:10.268Z"
   },
   {
    "duration": 25,
    "start_time": "2022-07-12T11:24:10.783Z"
   },
   {
    "duration": 5,
    "start_time": "2022-07-12T11:25:35.468Z"
   },
   {
    "duration": 818,
    "start_time": "2022-07-12T11:25:35.627Z"
   },
   {
    "duration": 33,
    "start_time": "2022-07-12T11:25:36.449Z"
   },
   {
    "duration": 5,
    "start_time": "2022-07-12T11:25:36.484Z"
   },
   {
    "duration": 24,
    "start_time": "2022-07-12T11:25:36.491Z"
   },
   {
    "duration": 63,
    "start_time": "2022-07-12T11:25:36.517Z"
   },
   {
    "duration": 18,
    "start_time": "2022-07-12T11:25:36.582Z"
   },
   {
    "duration": 14,
    "start_time": "2022-07-12T11:25:36.728Z"
   },
   {
    "duration": 8,
    "start_time": "2022-07-12T11:25:37.330Z"
   },
   {
    "duration": 159,
    "start_time": "2022-07-12T11:25:37.480Z"
   },
   {
    "duration": 461,
    "start_time": "2022-07-12T11:25:37.812Z"
   },
   {
    "duration": 0,
    "start_time": "2022-07-12T11:25:38.275Z"
   },
   {
    "duration": 168,
    "start_time": "2022-07-12T11:25:38.325Z"
   },
   {
    "duration": 8,
    "start_time": "2022-07-12T11:25:38.801Z"
   },
   {
    "duration": 28,
    "start_time": "2022-07-12T11:25:39.170Z"
   },
   {
    "duration": 34,
    "start_time": "2022-07-12T11:25:39.573Z"
   },
   {
    "duration": 9,
    "start_time": "2022-07-12T11:25:56.707Z"
   },
   {
    "duration": 5,
    "start_time": "2022-07-12T11:26:09.381Z"
   },
   {
    "duration": 904,
    "start_time": "2022-07-12T11:26:09.876Z"
   },
   {
    "duration": 25,
    "start_time": "2022-07-12T11:26:10.784Z"
   },
   {
    "duration": 11,
    "start_time": "2022-07-12T11:26:10.812Z"
   },
   {
    "duration": 47,
    "start_time": "2022-07-12T11:26:10.825Z"
   },
   {
    "duration": 50,
    "start_time": "2022-07-12T11:26:10.874Z"
   },
   {
    "duration": 18,
    "start_time": "2022-07-12T11:26:10.926Z"
   },
   {
    "duration": 20,
    "start_time": "2022-07-12T11:26:10.953Z"
   },
   {
    "duration": 18,
    "start_time": "2022-07-12T11:26:10.975Z"
   },
   {
    "duration": 157,
    "start_time": "2022-07-12T11:26:10.995Z"
   },
   {
    "duration": 129,
    "start_time": "2022-07-12T11:26:11.156Z"
   },
   {
    "duration": 0,
    "start_time": "2022-07-12T11:26:11.287Z"
   },
   {
    "duration": 0,
    "start_time": "2022-07-12T11:26:11.289Z"
   },
   {
    "duration": 5,
    "start_time": "2022-07-12T11:26:11.888Z"
   },
   {
    "duration": 18,
    "start_time": "2022-07-12T11:26:12.112Z"
   },
   {
    "duration": 13,
    "start_time": "2022-07-12T11:26:12.978Z"
   },
   {
    "duration": 5,
    "start_time": "2022-07-12T11:26:41.338Z"
   },
   {
    "duration": 823,
    "start_time": "2022-07-12T11:26:41.489Z"
   },
   {
    "duration": 19,
    "start_time": "2022-07-12T11:26:42.314Z"
   },
   {
    "duration": 14,
    "start_time": "2022-07-12T11:26:42.334Z"
   },
   {
    "duration": 32,
    "start_time": "2022-07-12T11:26:42.351Z"
   },
   {
    "duration": 28,
    "start_time": "2022-07-12T11:26:42.385Z"
   },
   {
    "duration": 22,
    "start_time": "2022-07-12T11:26:42.488Z"
   },
   {
    "duration": 26,
    "start_time": "2022-07-12T11:26:42.642Z"
   },
   {
    "duration": 9,
    "start_time": "2022-07-12T11:26:43.264Z"
   },
   {
    "duration": 155,
    "start_time": "2022-07-12T11:26:43.438Z"
   },
   {
    "duration": 67,
    "start_time": "2022-07-12T11:26:43.789Z"
   },
   {
    "duration": 283,
    "start_time": "2022-07-12T11:26:43.966Z"
   },
   {
    "duration": 157,
    "start_time": "2022-07-12T11:26:44.252Z"
   },
   {
    "duration": 6,
    "start_time": "2022-07-12T11:26:44.732Z"
   },
   {
    "duration": 18,
    "start_time": "2022-07-12T11:26:44.953Z"
   },
   {
    "duration": 10,
    "start_time": "2022-07-12T11:26:45.188Z"
   },
   {
    "duration": 13,
    "start_time": "2022-07-12T11:26:56.696Z"
   },
   {
    "duration": 4,
    "start_time": "2022-07-12T11:27:53.440Z"
   },
   {
    "duration": 792,
    "start_time": "2022-07-12T11:27:53.582Z"
   },
   {
    "duration": 19,
    "start_time": "2022-07-12T11:27:54.376Z"
   },
   {
    "duration": 4,
    "start_time": "2022-07-12T11:27:54.396Z"
   },
   {
    "duration": 25,
    "start_time": "2022-07-12T11:27:54.402Z"
   },
   {
    "duration": 58,
    "start_time": "2022-07-12T11:27:54.428Z"
   },
   {
    "duration": 36,
    "start_time": "2022-07-12T11:27:54.529Z"
   },
   {
    "duration": 18,
    "start_time": "2022-07-12T11:27:54.668Z"
   },
   {
    "duration": 9,
    "start_time": "2022-07-12T11:27:55.253Z"
   },
   {
    "duration": 141,
    "start_time": "2022-07-12T11:27:55.429Z"
   },
   {
    "duration": 163,
    "start_time": "2022-07-12T11:27:55.738Z"
   },
   {
    "duration": 0,
    "start_time": "2022-07-12T11:27:55.903Z"
   },
   {
    "duration": 141,
    "start_time": "2022-07-12T11:27:56.062Z"
   },
   {
    "duration": 6,
    "start_time": "2022-07-12T11:27:56.465Z"
   },
   {
    "duration": 18,
    "start_time": "2022-07-12T11:27:56.736Z"
   },
   {
    "duration": 14,
    "start_time": "2022-07-12T11:27:57.171Z"
   },
   {
    "duration": 12,
    "start_time": "2022-07-12T11:27:57.525Z"
   },
   {
    "duration": 4,
    "start_time": "2022-07-12T11:32:40.187Z"
   },
   {
    "duration": 771,
    "start_time": "2022-07-12T11:32:40.695Z"
   },
   {
    "duration": 21,
    "start_time": "2022-07-12T11:32:41.468Z"
   },
   {
    "duration": 4,
    "start_time": "2022-07-12T11:32:41.492Z"
   },
   {
    "duration": 22,
    "start_time": "2022-07-12T11:32:41.499Z"
   },
   {
    "duration": 53,
    "start_time": "2022-07-12T11:32:41.523Z"
   },
   {
    "duration": 17,
    "start_time": "2022-07-12T11:32:41.578Z"
   },
   {
    "duration": 12,
    "start_time": "2022-07-12T11:32:41.597Z"
   },
   {
    "duration": 8,
    "start_time": "2022-07-12T11:32:41.610Z"
   },
   {
    "duration": 154,
    "start_time": "2022-07-12T11:32:41.619Z"
   },
   {
    "duration": 94,
    "start_time": "2022-07-12T11:32:41.776Z"
   },
   {
    "duration": 0,
    "start_time": "2022-07-12T11:32:41.871Z"
   },
   {
    "duration": 0,
    "start_time": "2022-07-12T11:32:41.872Z"
   },
   {
    "duration": 0,
    "start_time": "2022-07-12T11:32:41.873Z"
   },
   {
    "duration": 0,
    "start_time": "2022-07-12T11:32:41.874Z"
   },
   {
    "duration": 0,
    "start_time": "2022-07-12T11:32:41.875Z"
   },
   {
    "duration": 0,
    "start_time": "2022-07-12T11:32:41.877Z"
   },
   {
    "duration": 75,
    "start_time": "2022-07-12T11:32:46.802Z"
   },
   {
    "duration": 137,
    "start_time": "2022-07-12T11:32:47.083Z"
   },
   {
    "duration": 142,
    "start_time": "2022-07-12T11:32:47.388Z"
   },
   {
    "duration": 14,
    "start_time": "2022-07-12T11:32:48.143Z"
   },
   {
    "duration": 16,
    "start_time": "2022-07-12T11:32:48.503Z"
   },
   {
    "duration": 12,
    "start_time": "2022-07-12T11:32:48.873Z"
   },
   {
    "duration": 24,
    "start_time": "2022-07-12T11:32:49.262Z"
   },
   {
    "duration": 4,
    "start_time": "2022-07-12T11:33:14.575Z"
   },
   {
    "duration": 706,
    "start_time": "2022-07-12T11:33:14.721Z"
   },
   {
    "duration": 32,
    "start_time": "2022-07-12T11:33:15.429Z"
   },
   {
    "duration": 4,
    "start_time": "2022-07-12T11:33:15.462Z"
   },
   {
    "duration": 18,
    "start_time": "2022-07-12T11:33:15.468Z"
   },
   {
    "duration": 36,
    "start_time": "2022-07-12T11:33:15.544Z"
   },
   {
    "duration": 27,
    "start_time": "2022-07-12T11:33:15.689Z"
   },
   {
    "duration": 13,
    "start_time": "2022-07-12T11:33:15.831Z"
   },
   {
    "duration": 7,
    "start_time": "2022-07-12T11:33:16.376Z"
   },
   {
    "duration": 124,
    "start_time": "2022-07-12T11:33:16.523Z"
   },
   {
    "duration": 272,
    "start_time": "2022-07-12T11:33:16.836Z"
   },
   {
    "duration": 0,
    "start_time": "2022-07-12T11:33:17.109Z"
   },
   {
    "duration": 142,
    "start_time": "2022-07-12T11:33:17.174Z"
   },
   {
    "duration": 7,
    "start_time": "2022-07-12T11:33:17.563Z"
   },
   {
    "duration": 18,
    "start_time": "2022-07-12T11:33:17.896Z"
   },
   {
    "duration": 13,
    "start_time": "2022-07-12T11:33:18.325Z"
   },
   {
    "duration": 26,
    "start_time": "2022-07-12T11:33:18.687Z"
   },
   {
    "duration": 3,
    "start_time": "2022-07-12T11:35:07.276Z"
   },
   {
    "duration": 7,
    "start_time": "2022-07-12T11:35:13.498Z"
   },
   {
    "duration": 5,
    "start_time": "2022-07-12T11:35:19.189Z"
   },
   {
    "duration": 7,
    "start_time": "2022-07-12T11:36:06.766Z"
   },
   {
    "duration": 63,
    "start_time": "2022-07-12T11:38:07.522Z"
   },
   {
    "duration": 5,
    "start_time": "2022-07-12T11:38:16.538Z"
   },
   {
    "duration": 8,
    "start_time": "2022-07-12T11:38:51.991Z"
   },
   {
    "duration": 9,
    "start_time": "2022-07-12T11:39:48.868Z"
   },
   {
    "duration": 8,
    "start_time": "2022-07-12T11:40:09.330Z"
   },
   {
    "duration": 7,
    "start_time": "2022-07-12T11:40:41.784Z"
   },
   {
    "duration": 5,
    "start_time": "2022-07-12T11:42:52.455Z"
   },
   {
    "duration": 717,
    "start_time": "2022-07-12T11:42:52.806Z"
   },
   {
    "duration": 30,
    "start_time": "2022-07-12T11:42:53.525Z"
   },
   {
    "duration": 4,
    "start_time": "2022-07-12T11:42:53.557Z"
   },
   {
    "duration": 21,
    "start_time": "2022-07-12T11:42:53.564Z"
   },
   {
    "duration": 42,
    "start_time": "2022-07-12T11:42:53.670Z"
   },
   {
    "duration": 18,
    "start_time": "2022-07-12T11:42:53.825Z"
   },
   {
    "duration": 16,
    "start_time": "2022-07-12T11:42:53.964Z"
   },
   {
    "duration": 9,
    "start_time": "2022-07-12T11:42:54.684Z"
   },
   {
    "duration": 141,
    "start_time": "2022-07-12T11:42:54.870Z"
   },
   {
    "duration": 52,
    "start_time": "2022-07-12T11:42:55.247Z"
   },
   {
    "duration": 155,
    "start_time": "2022-07-12T11:42:55.440Z"
   },
   {
    "duration": 129,
    "start_time": "2022-07-12T11:42:55.668Z"
   },
   {
    "duration": 7,
    "start_time": "2022-07-12T11:42:56.212Z"
   },
   {
    "duration": 17,
    "start_time": "2022-07-12T11:42:56.726Z"
   },
   {
    "duration": 12,
    "start_time": "2022-07-12T11:42:57.073Z"
   },
   {
    "duration": 10,
    "start_time": "2022-07-12T11:42:57.481Z"
   },
   {
    "duration": 25,
    "start_time": "2022-07-12T11:42:59.500Z"
   },
   {
    "duration": 8,
    "start_time": "2022-07-12T11:43:10.826Z"
   },
   {
    "duration": 6,
    "start_time": "2022-07-12T11:43:32.030Z"
   },
   {
    "duration": 9,
    "start_time": "2022-07-12T11:43:52.593Z"
   },
   {
    "duration": 9,
    "start_time": "2022-07-12T11:45:08.846Z"
   },
   {
    "duration": 67,
    "start_time": "2022-07-12T11:45:15.176Z"
   },
   {
    "duration": 6,
    "start_time": "2022-07-12T11:45:17.807Z"
   },
   {
    "duration": 7,
    "start_time": "2022-07-12T11:45:22.870Z"
   },
   {
    "duration": 4,
    "start_time": "2022-07-12T11:45:56.806Z"
   },
   {
    "duration": 705,
    "start_time": "2022-07-12T11:45:56.955Z"
   },
   {
    "duration": 16,
    "start_time": "2022-07-12T11:45:57.662Z"
   },
   {
    "duration": 4,
    "start_time": "2022-07-12T11:45:57.680Z"
   },
   {
    "duration": 39,
    "start_time": "2022-07-12T11:45:57.686Z"
   },
   {
    "duration": 29,
    "start_time": "2022-07-12T11:45:57.739Z"
   },
   {
    "duration": 18,
    "start_time": "2022-07-12T11:45:57.877Z"
   },
   {
    "duration": 14,
    "start_time": "2022-07-12T11:45:58.020Z"
   },
   {
    "duration": 10,
    "start_time": "2022-07-12T11:45:58.580Z"
   },
   {
    "duration": 125,
    "start_time": "2022-07-12T11:45:58.734Z"
   },
   {
    "duration": 145,
    "start_time": "2022-07-12T11:45:59.145Z"
   },
   {
    "duration": 140,
    "start_time": "2022-07-12T11:45:59.308Z"
   },
   {
    "duration": 254,
    "start_time": "2022-07-12T11:45:59.651Z"
   },
   {
    "duration": 16,
    "start_time": "2022-07-12T11:46:02.486Z"
   },
   {
    "duration": 12,
    "start_time": "2022-07-12T11:46:04.939Z"
   },
   {
    "duration": 4,
    "start_time": "2022-07-12T11:46:12.844Z"
   },
   {
    "duration": 10,
    "start_time": "2022-07-12T11:46:15.611Z"
   },
   {
    "duration": 9,
    "start_time": "2022-07-12T11:46:26.561Z"
   },
   {
    "duration": 8,
    "start_time": "2022-07-12T11:46:46.756Z"
   },
   {
    "duration": 17,
    "start_time": "2022-07-12T11:46:49.703Z"
   },
   {
    "duration": 4,
    "start_time": "2022-07-12T11:46:55.874Z"
   },
   {
    "duration": 6,
    "start_time": "2022-07-12T11:47:35.012Z"
   },
   {
    "duration": 4,
    "start_time": "2022-07-12T11:48:43.864Z"
   },
   {
    "duration": 619,
    "start_time": "2022-07-12T11:48:43.981Z"
   },
   {
    "duration": 18,
    "start_time": "2022-07-12T11:48:44.602Z"
   },
   {
    "duration": 4,
    "start_time": "2022-07-12T11:48:44.622Z"
   },
   {
    "duration": 20,
    "start_time": "2022-07-12T11:48:44.673Z"
   },
   {
    "duration": 30,
    "start_time": "2022-07-12T11:48:44.809Z"
   },
   {
    "duration": 15,
    "start_time": "2022-07-12T11:48:44.960Z"
   },
   {
    "duration": 17,
    "start_time": "2022-07-12T11:48:45.113Z"
   },
   {
    "duration": 8,
    "start_time": "2022-07-12T11:48:45.742Z"
   },
   {
    "duration": 105,
    "start_time": "2022-07-12T11:48:45.894Z"
   },
   {
    "duration": 367,
    "start_time": "2022-07-12T11:48:46.224Z"
   },
   {
    "duration": 0,
    "start_time": "2022-07-12T11:48:46.593Z"
   },
   {
    "duration": 134,
    "start_time": "2022-07-12T11:48:46.627Z"
   },
   {
    "duration": 16,
    "start_time": "2022-07-12T11:48:47.694Z"
   },
   {
    "duration": 14,
    "start_time": "2022-07-12T11:48:47.963Z"
   },
   {
    "duration": 5,
    "start_time": "2022-07-12T11:48:48.275Z"
   },
   {
    "duration": 11,
    "start_time": "2022-07-12T11:48:48.673Z"
   },
   {
    "duration": 12,
    "start_time": "2022-07-12T11:49:09.561Z"
   },
   {
    "duration": 8,
    "start_time": "2022-07-12T11:50:12.409Z"
   },
   {
    "duration": 4,
    "start_time": "2022-07-12T11:50:17.567Z"
   },
   {
    "duration": 627,
    "start_time": "2022-07-12T11:50:17.748Z"
   },
   {
    "duration": 18,
    "start_time": "2022-07-12T11:50:18.378Z"
   },
   {
    "duration": 3,
    "start_time": "2022-07-12T11:50:18.398Z"
   },
   {
    "duration": 42,
    "start_time": "2022-07-12T11:50:18.404Z"
   },
   {
    "duration": 40,
    "start_time": "2022-07-12T11:50:18.539Z"
   },
   {
    "duration": 18,
    "start_time": "2022-07-12T11:50:18.690Z"
   },
   {
    "duration": 18,
    "start_time": "2022-07-12T11:50:18.930Z"
   },
   {
    "duration": 8,
    "start_time": "2022-07-12T11:50:19.765Z"
   },
   {
    "duration": 119,
    "start_time": "2022-07-12T11:50:19.911Z"
   },
   {
    "duration": 49,
    "start_time": "2022-07-12T11:50:20.209Z"
   },
   {
    "duration": 136,
    "start_time": "2022-07-12T11:50:20.376Z"
   },
   {
    "duration": 138,
    "start_time": "2022-07-12T11:50:20.569Z"
   },
   {
    "duration": 17,
    "start_time": "2022-07-12T11:50:21.365Z"
   },
   {
    "duration": 12,
    "start_time": "2022-07-12T11:50:21.681Z"
   },
   {
    "duration": 4,
    "start_time": "2022-07-12T11:50:21.975Z"
   },
   {
    "duration": 8,
    "start_time": "2022-07-12T11:50:22.324Z"
   },
   {
    "duration": 20,
    "start_time": "2022-07-12T11:50:24.954Z"
   },
   {
    "duration": 19,
    "start_time": "2022-07-12T11:51:31.380Z"
   },
   {
    "duration": 11,
    "start_time": "2022-07-12T11:52:00.626Z"
   },
   {
    "duration": 15,
    "start_time": "2022-07-12T11:52:13.872Z"
   },
   {
    "duration": 12,
    "start_time": "2022-07-12T11:54:31.753Z"
   },
   {
    "duration": 9,
    "start_time": "2022-07-12T11:54:36.663Z"
   },
   {
    "duration": 12,
    "start_time": "2022-07-12T11:54:44.351Z"
   },
   {
    "duration": 6,
    "start_time": "2022-07-12T11:56:15.503Z"
   },
   {
    "duration": 644,
    "start_time": "2022-07-12T11:56:15.644Z"
   },
   {
    "duration": 17,
    "start_time": "2022-07-12T11:56:16.290Z"
   },
   {
    "duration": 4,
    "start_time": "2022-07-12T11:56:16.309Z"
   },
   {
    "duration": 35,
    "start_time": "2022-07-12T11:56:16.315Z"
   },
   {
    "duration": 32,
    "start_time": "2022-07-12T11:56:16.452Z"
   },
   {
    "duration": 17,
    "start_time": "2022-07-12T11:56:16.587Z"
   },
   {
    "duration": 14,
    "start_time": "2022-07-12T11:56:16.734Z"
   },
   {
    "duration": 9,
    "start_time": "2022-07-12T11:56:17.329Z"
   },
   {
    "duration": 123,
    "start_time": "2022-07-12T11:56:17.464Z"
   },
   {
    "duration": 91,
    "start_time": "2022-07-12T11:56:17.747Z"
   },
   {
    "duration": 142,
    "start_time": "2022-07-12T11:56:17.898Z"
   },
   {
    "duration": 139,
    "start_time": "2022-07-12T11:56:18.045Z"
   },
   {
    "duration": 17,
    "start_time": "2022-07-12T11:56:18.569Z"
   },
   {
    "duration": 15,
    "start_time": "2022-07-12T11:56:18.995Z"
   },
   {
    "duration": 4,
    "start_time": "2022-07-12T11:56:19.295Z"
   },
   {
    "duration": 10,
    "start_time": "2022-07-12T11:56:19.636Z"
   },
   {
    "duration": 12,
    "start_time": "2022-07-12T11:56:20.428Z"
   },
   {
    "duration": 16,
    "start_time": "2022-07-12T11:56:20.971Z"
   },
   {
    "duration": 5,
    "start_time": "2022-07-12T13:03:17.299Z"
   },
   {
    "duration": 609,
    "start_time": "2022-07-12T13:03:17.438Z"
   },
   {
    "duration": 19,
    "start_time": "2022-07-12T13:03:18.049Z"
   },
   {
    "duration": 10,
    "start_time": "2022-07-12T13:03:18.070Z"
   },
   {
    "duration": 20,
    "start_time": "2022-07-12T13:03:18.128Z"
   },
   {
    "duration": 30,
    "start_time": "2022-07-12T13:03:18.259Z"
   },
   {
    "duration": 17,
    "start_time": "2022-07-12T13:03:18.401Z"
   },
   {
    "duration": 13,
    "start_time": "2022-07-12T13:03:18.552Z"
   },
   {
    "duration": 10,
    "start_time": "2022-07-12T13:03:19.056Z"
   },
   {
    "duration": 1059,
    "start_time": "2022-07-12T13:03:19.198Z"
   },
   {
    "duration": 0,
    "start_time": "2022-07-12T13:03:20.260Z"
   },
   {
    "duration": 7,
    "start_time": "2022-07-12T13:03:44.084Z"
   },
   {
    "duration": 4,
    "start_time": "2022-07-12T13:04:06.289Z"
   },
   {
    "duration": 642,
    "start_time": "2022-07-12T13:04:06.463Z"
   },
   {
    "duration": 16,
    "start_time": "2022-07-12T13:04:07.108Z"
   },
   {
    "duration": 3,
    "start_time": "2022-07-12T13:04:07.126Z"
   },
   {
    "duration": 18,
    "start_time": "2022-07-12T13:04:07.161Z"
   },
   {
    "duration": 37,
    "start_time": "2022-07-12T13:04:07.309Z"
   },
   {
    "duration": 16,
    "start_time": "2022-07-12T13:04:07.461Z"
   },
   {
    "duration": 13,
    "start_time": "2022-07-12T13:04:07.644Z"
   },
   {
    "duration": 8,
    "start_time": "2022-07-12T13:04:08.294Z"
   },
   {
    "duration": 10,
    "start_time": "2022-07-12T13:04:08.759Z"
   },
   {
    "duration": 113,
    "start_time": "2022-07-12T13:04:09.853Z"
   },
   {
    "duration": 134,
    "start_time": "2022-07-12T13:04:11.233Z"
   },
   {
    "duration": 175,
    "start_time": "2022-07-12T13:05:46.307Z"
   },
   {
    "duration": 168,
    "start_time": "2022-07-12T13:07:05.937Z"
   },
   {
    "duration": 134,
    "start_time": "2022-07-12T13:07:11.625Z"
   },
   {
    "duration": 153,
    "start_time": "2022-07-12T13:07:16.696Z"
   },
   {
    "duration": 297,
    "start_time": "2022-07-12T13:07:21.648Z"
   },
   {
    "duration": 145,
    "start_time": "2022-07-12T13:07:37.100Z"
   },
   {
    "duration": 162,
    "start_time": "2022-07-12T13:07:57.732Z"
   },
   {
    "duration": 188,
    "start_time": "2022-07-12T13:08:06.553Z"
   },
   {
    "duration": 179,
    "start_time": "2022-07-12T13:08:19.690Z"
   },
   {
    "duration": 188,
    "start_time": "2022-07-12T13:08:32.333Z"
   },
   {
    "duration": 208,
    "start_time": "2022-07-12T13:08:39.340Z"
   },
   {
    "duration": 159,
    "start_time": "2022-07-12T13:08:58.521Z"
   },
   {
    "duration": 175,
    "start_time": "2022-07-12T13:08:59.475Z"
   },
   {
    "duration": 150,
    "start_time": "2022-07-12T13:09:02.628Z"
   },
   {
    "duration": 147,
    "start_time": "2022-07-12T13:09:10.107Z"
   },
   {
    "duration": 161,
    "start_time": "2022-07-12T13:09:19.025Z"
   },
   {
    "duration": 179,
    "start_time": "2022-07-12T13:09:53.073Z"
   },
   {
    "duration": 160,
    "start_time": "2022-07-12T13:11:24.524Z"
   },
   {
    "duration": 167,
    "start_time": "2022-07-12T13:11:25.229Z"
   },
   {
    "duration": 164,
    "start_time": "2022-07-12T13:11:25.726Z"
   },
   {
    "duration": 11,
    "start_time": "2022-07-12T13:14:38.752Z"
   },
   {
    "duration": 16,
    "start_time": "2022-07-12T13:14:42.793Z"
   },
   {
    "duration": 18,
    "start_time": "2022-07-12T13:14:56.994Z"
   },
   {
    "duration": 9,
    "start_time": "2022-07-12T13:24:04.749Z"
   },
   {
    "duration": 48,
    "start_time": "2022-07-12T13:27:42.007Z"
   },
   {
    "duration": 4,
    "start_time": "2022-07-12T13:27:44.250Z"
   },
   {
    "duration": 4,
    "start_time": "2022-07-12T13:28:04.887Z"
   },
   {
    "duration": 5,
    "start_time": "2022-07-12T13:28:05.355Z"
   },
   {
    "duration": 4,
    "start_time": "2022-07-12T13:28:13.771Z"
   },
   {
    "duration": 5,
    "start_time": "2022-07-12T13:28:14.145Z"
   },
   {
    "duration": 4,
    "start_time": "2022-07-12T13:28:25.256Z"
   },
   {
    "duration": 3,
    "start_time": "2022-07-12T13:28:25.541Z"
   },
   {
    "duration": 4,
    "start_time": "2022-07-12T13:28:30.795Z"
   },
   {
    "duration": 18,
    "start_time": "2022-07-12T13:28:31.142Z"
   },
   {
    "duration": 3,
    "start_time": "2022-07-12T13:28:53.252Z"
   },
   {
    "duration": 5,
    "start_time": "2022-07-12T13:28:53.681Z"
   },
   {
    "duration": 4,
    "start_time": "2022-07-12T13:29:03.117Z"
   },
   {
    "duration": 5,
    "start_time": "2022-07-12T13:29:12.147Z"
   },
   {
    "duration": 30,
    "start_time": "2022-07-12T13:29:12.401Z"
   },
   {
    "duration": 4,
    "start_time": "2022-07-12T13:30:41.843Z"
   },
   {
    "duration": 15,
    "start_time": "2022-07-12T13:30:42.291Z"
   },
   {
    "duration": 4,
    "start_time": "2022-07-12T13:30:57.002Z"
   },
   {
    "duration": 31,
    "start_time": "2022-07-12T13:30:57.673Z"
   },
   {
    "duration": 14,
    "start_time": "2022-07-12T13:31:05.583Z"
   },
   {
    "duration": 28,
    "start_time": "2022-07-12T13:31:09.907Z"
   },
   {
    "duration": 4,
    "start_time": "2022-07-12T13:31:34.887Z"
   },
   {
    "duration": 20,
    "start_time": "2022-07-12T13:31:35.872Z"
   },
   {
    "duration": 13,
    "start_time": "2022-07-12T13:31:50.684Z"
   },
   {
    "duration": 3,
    "start_time": "2022-07-12T13:31:57.736Z"
   },
   {
    "duration": 13,
    "start_time": "2022-07-12T13:32:19.517Z"
   },
   {
    "duration": 4,
    "start_time": "2022-07-12T13:32:20.855Z"
   },
   {
    "duration": 3,
    "start_time": "2022-07-12T13:32:21.113Z"
   },
   {
    "duration": 3,
    "start_time": "2022-07-12T13:32:21.364Z"
   },
   {
    "duration": 10,
    "start_time": "2022-07-12T13:32:33.145Z"
   },
   {
    "duration": 6,
    "start_time": "2022-07-12T13:32:33.497Z"
   },
   {
    "duration": 4,
    "start_time": "2022-07-12T13:32:35.531Z"
   },
   {
    "duration": 12,
    "start_time": "2022-07-12T13:32:35.696Z"
   },
   {
    "duration": 5,
    "start_time": "2022-07-12T13:32:35.892Z"
   },
   {
    "duration": 4,
    "start_time": "2022-07-12T13:33:03.344Z"
   },
   {
    "duration": 9,
    "start_time": "2022-07-12T13:33:03.649Z"
   },
   {
    "duration": 3,
    "start_time": "2022-07-12T13:33:03.984Z"
   },
   {
    "duration": 4,
    "start_time": "2022-07-12T13:34:09.182Z"
   },
   {
    "duration": 12,
    "start_time": "2022-07-12T13:34:09.531Z"
   },
   {
    "duration": 4,
    "start_time": "2022-07-12T13:34:09.804Z"
   },
   {
    "duration": 4,
    "start_time": "2022-07-12T13:34:28.759Z"
   },
   {
    "duration": 6,
    "start_time": "2022-07-12T13:34:29.153Z"
   },
   {
    "duration": 3,
    "start_time": "2022-07-12T13:34:29.465Z"
   },
   {
    "duration": 4,
    "start_time": "2022-07-12T13:34:52.859Z"
   },
   {
    "duration": 13,
    "start_time": "2022-07-12T13:34:53.198Z"
   },
   {
    "duration": 3,
    "start_time": "2022-07-12T13:34:53.521Z"
   },
   {
    "duration": 4,
    "start_time": "2022-07-12T13:35:08.766Z"
   },
   {
    "duration": 8,
    "start_time": "2022-07-12T13:35:08.991Z"
   },
   {
    "duration": 4,
    "start_time": "2022-07-12T13:35:09.227Z"
   },
   {
    "duration": 9,
    "start_time": "2022-07-12T13:36:27.282Z"
   },
   {
    "duration": 8,
    "start_time": "2022-07-12T13:36:30.063Z"
   },
   {
    "duration": 7,
    "start_time": "2022-07-12T13:36:39.520Z"
   },
   {
    "duration": 7,
    "start_time": "2022-07-12T13:36:47.593Z"
   },
   {
    "duration": 7,
    "start_time": "2022-07-12T13:37:21.403Z"
   },
   {
    "duration": 6,
    "start_time": "2022-07-12T13:39:38.903Z"
   },
   {
    "duration": 9,
    "start_time": "2022-07-12T13:39:39.292Z"
   },
   {
    "duration": 4,
    "start_time": "2022-07-12T13:39:39.686Z"
   },
   {
    "duration": 5,
    "start_time": "2022-07-12T13:39:43.276Z"
   },
   {
    "duration": 5,
    "start_time": "2022-07-12T13:41:12.830Z"
   },
   {
    "duration": 358,
    "start_time": "2022-07-12T13:45:51.862Z"
   },
   {
    "duration": 528,
    "start_time": "2022-07-12T13:46:24.646Z"
   },
   {
    "duration": 7,
    "start_time": "2022-07-12T13:47:26.420Z"
   },
   {
    "duration": 371,
    "start_time": "2022-07-12T13:47:29.274Z"
   },
   {
    "duration": 363,
    "start_time": "2022-07-12T13:47:42.143Z"
   },
   {
    "duration": 86,
    "start_time": "2022-07-12T13:49:22.556Z"
   },
   {
    "duration": 338,
    "start_time": "2022-07-12T13:49:22.755Z"
   },
   {
    "duration": 45,
    "start_time": "2022-07-12T13:49:42.800Z"
   },
   {
    "duration": 0,
    "start_time": "2022-07-12T13:49:42.846Z"
   },
   {
    "duration": 109,
    "start_time": "2022-07-12T13:50:16.691Z"
   },
   {
    "duration": 8,
    "start_time": "2022-07-12T13:50:32.174Z"
   },
   {
    "duration": 357,
    "start_time": "2022-07-12T13:50:32.889Z"
   },
   {
    "duration": 369,
    "start_time": "2022-07-12T13:51:15.042Z"
   },
   {
    "duration": 5,
    "start_time": "2022-07-12T13:51:16.884Z"
   },
   {
    "duration": 31,
    "start_time": "2022-07-12T13:51:17.124Z"
   },
   {
    "duration": 5,
    "start_time": "2022-07-12T13:52:51.716Z"
   },
   {
    "duration": 27,
    "start_time": "2022-07-12T13:52:52.161Z"
   },
   {
    "duration": 21,
    "start_time": "2022-07-12T13:52:55.378Z"
   },
   {
    "duration": 6,
    "start_time": "2022-07-12T13:53:49.996Z"
   },
   {
    "duration": 21,
    "start_time": "2022-07-12T13:53:52.955Z"
   },
   {
    "duration": 6,
    "start_time": "2022-07-12T13:53:53.494Z"
   },
   {
    "duration": 9,
    "start_time": "2022-07-12T13:54:01.270Z"
   },
   {
    "duration": 6,
    "start_time": "2022-07-12T13:54:38.046Z"
   },
   {
    "duration": 31,
    "start_time": "2022-07-12T13:54:38.281Z"
   },
   {
    "duration": 23,
    "start_time": "2022-07-12T13:58:26.404Z"
   },
   {
    "duration": 355,
    "start_time": "2022-07-12T13:58:51.457Z"
   },
   {
    "duration": 29,
    "start_time": "2022-07-12T13:59:14.984Z"
   },
   {
    "duration": 24,
    "start_time": "2022-07-12T13:59:18.029Z"
   },
   {
    "duration": 23,
    "start_time": "2022-07-12T13:59:23.214Z"
   },
   {
    "duration": 23,
    "start_time": "2022-07-12T13:59:26.250Z"
   },
   {
    "duration": 23,
    "start_time": "2022-07-12T13:59:28.704Z"
   },
   {
    "duration": 22,
    "start_time": "2022-07-12T13:59:31.970Z"
   },
   {
    "duration": 28,
    "start_time": "2022-07-12T14:00:04.652Z"
   },
   {
    "duration": 33,
    "start_time": "2022-07-12T14:00:11.625Z"
   },
   {
    "duration": 23,
    "start_time": "2022-07-12T14:00:15.874Z"
   },
   {
    "duration": 24,
    "start_time": "2022-07-12T14:00:25.493Z"
   },
   {
    "duration": 17,
    "start_time": "2022-07-12T14:00:41.070Z"
   },
   {
    "duration": 74,
    "start_time": "2022-07-12T14:02:10.965Z"
   },
   {
    "duration": 31,
    "start_time": "2022-07-12T14:02:14.893Z"
   },
   {
    "duration": 39,
    "start_time": "2022-07-12T14:02:18.957Z"
   },
   {
    "duration": 25,
    "start_time": "2022-07-12T14:06:17.887Z"
   },
   {
    "duration": 25,
    "start_time": "2022-07-12T14:06:28.541Z"
   },
   {
    "duration": 289,
    "start_time": "2022-07-12T14:06:52.069Z"
   },
   {
    "duration": 52,
    "start_time": "2022-07-12T14:07:05.923Z"
   },
   {
    "duration": 51,
    "start_time": "2022-07-12T14:07:16.953Z"
   },
   {
    "duration": 26,
    "start_time": "2022-07-12T14:08:08.363Z"
   },
   {
    "duration": 28,
    "start_time": "2022-07-12T14:08:20.695Z"
   },
   {
    "duration": 363,
    "start_time": "2022-07-12T14:09:51.372Z"
   },
   {
    "duration": 382,
    "start_time": "2022-07-12T14:09:58.037Z"
   },
   {
    "duration": 666,
    "start_time": "2022-07-12T14:10:23.629Z"
   },
   {
    "duration": 466,
    "start_time": "2022-07-12T14:10:32.378Z"
   },
   {
    "duration": 364,
    "start_time": "2022-07-12T14:11:20.278Z"
   },
   {
    "duration": 394,
    "start_time": "2022-07-12T14:11:36.847Z"
   },
   {
    "duration": 359,
    "start_time": "2022-07-12T14:12:21.208Z"
   },
   {
    "duration": 354,
    "start_time": "2022-07-12T14:12:27.709Z"
   },
   {
    "duration": 153,
    "start_time": "2022-07-12T14:15:57.219Z"
   },
   {
    "duration": 159,
    "start_time": "2022-07-12T14:16:05.771Z"
   },
   {
    "duration": 171,
    "start_time": "2022-07-12T14:16:35.332Z"
   },
   {
    "duration": 35,
    "start_time": "2022-07-12T14:17:28.661Z"
   },
   {
    "duration": 158,
    "start_time": "2022-07-12T14:17:46.008Z"
   },
   {
    "duration": 152,
    "start_time": "2022-07-12T14:17:56.215Z"
   },
   {
    "duration": 162,
    "start_time": "2022-07-12T14:18:03.436Z"
   },
   {
    "duration": 33,
    "start_time": "2022-07-12T14:18:09.660Z"
   },
   {
    "duration": 163,
    "start_time": "2022-07-12T14:18:39.590Z"
   },
   {
    "duration": 33,
    "start_time": "2022-07-12T14:18:46.739Z"
   },
   {
    "duration": 41,
    "start_time": "2022-07-12T14:18:52.133Z"
   },
   {
    "duration": 121,
    "start_time": "2022-07-12T14:18:57.557Z"
   },
   {
    "duration": 34,
    "start_time": "2022-07-12T14:19:01.697Z"
   },
   {
    "duration": 120,
    "start_time": "2022-07-12T14:19:13.301Z"
   },
   {
    "duration": 33,
    "start_time": "2022-07-12T14:19:20.564Z"
   },
   {
    "duration": 119,
    "start_time": "2022-07-12T14:19:33.218Z"
   },
   {
    "duration": 154,
    "start_time": "2022-07-12T14:19:52.884Z"
   },
   {
    "duration": 126,
    "start_time": "2022-07-12T14:21:20.978Z"
   },
   {
    "duration": 127,
    "start_time": "2022-07-12T14:21:41.287Z"
   },
   {
    "duration": 222,
    "start_time": "2022-07-12T14:21:54.016Z"
   },
   {
    "duration": 68,
    "start_time": "2022-07-12T14:23:02.947Z"
   },
   {
    "duration": 38,
    "start_time": "2022-07-12T14:23:38.220Z"
   },
   {
    "duration": 56,
    "start_time": "2022-07-12T14:23:46.053Z"
   },
   {
    "duration": 42,
    "start_time": "2022-07-12T14:23:49.663Z"
   },
   {
    "duration": 35,
    "start_time": "2022-07-12T14:26:47.117Z"
   },
   {
    "duration": 630,
    "start_time": "2022-07-12T14:28:53.901Z"
   },
   {
    "duration": 585,
    "start_time": "2022-07-12T14:29:42.216Z"
   },
   {
    "duration": 399,
    "start_time": "2022-07-12T14:30:52.113Z"
   },
   {
    "duration": 72,
    "start_time": "2022-07-12T14:31:01.363Z"
   },
   {
    "duration": 457,
    "start_time": "2022-07-12T14:31:06.759Z"
   },
   {
    "duration": 448,
    "start_time": "2022-07-12T14:31:11.390Z"
   },
   {
    "duration": 385,
    "start_time": "2022-07-12T14:31:25.768Z"
   },
   {
    "duration": 380,
    "start_time": "2022-07-12T14:31:40.436Z"
   },
   {
    "duration": 389,
    "start_time": "2022-07-12T14:32:06.831Z"
   },
   {
    "duration": 417,
    "start_time": "2022-07-12T14:32:24.787Z"
   },
   {
    "duration": 460,
    "start_time": "2022-07-12T14:32:35.418Z"
   },
   {
    "duration": 84,
    "start_time": "2022-07-12T14:33:35.107Z"
   },
   {
    "duration": 418,
    "start_time": "2022-07-12T14:33:49.752Z"
   },
   {
    "duration": 761,
    "start_time": "2022-07-12T14:33:58.491Z"
   },
   {
    "duration": 401,
    "start_time": "2022-07-12T14:34:51.309Z"
   },
   {
    "duration": 416,
    "start_time": "2022-07-12T14:35:02.853Z"
   },
   {
    "duration": 424,
    "start_time": "2022-07-12T14:35:17.727Z"
   },
   {
    "duration": 423,
    "start_time": "2022-07-12T14:35:35.901Z"
   },
   {
    "duration": 1477,
    "start_time": "2022-07-13T07:31:27.367Z"
   },
   {
    "duration": 1395,
    "start_time": "2022-07-13T07:31:28.846Z"
   },
   {
    "duration": 18,
    "start_time": "2022-07-13T07:31:30.243Z"
   },
   {
    "duration": 3,
    "start_time": "2022-07-13T07:31:30.263Z"
   },
   {
    "duration": 32,
    "start_time": "2022-07-13T07:31:30.267Z"
   },
   {
    "duration": 27,
    "start_time": "2022-07-13T07:31:30.301Z"
   },
   {
    "duration": 26,
    "start_time": "2022-07-13T07:31:30.330Z"
   },
   {
    "duration": 12,
    "start_time": "2022-07-13T07:31:30.358Z"
   },
   {
    "duration": 17,
    "start_time": "2022-07-13T07:31:30.372Z"
   },
   {
    "duration": 23,
    "start_time": "2022-07-13T07:31:30.391Z"
   },
   {
    "duration": 138,
    "start_time": "2022-07-13T07:31:30.416Z"
   },
   {
    "duration": 154,
    "start_time": "2022-07-13T07:31:30.556Z"
   },
   {
    "duration": 167,
    "start_time": "2022-07-13T07:31:30.712Z"
   },
   {
    "duration": 164,
    "start_time": "2022-07-13T07:31:30.880Z"
   },
   {
    "duration": 5,
    "start_time": "2022-07-13T07:31:31.046Z"
   },
   {
    "duration": 459,
    "start_time": "2022-07-13T07:31:31.226Z"
   },
   {
    "duration": 167,
    "start_time": "2022-07-13T07:31:31.686Z"
   },
   {
    "duration": 3,
    "start_time": "2022-07-13T07:34:36.393Z"
   },
   {
    "duration": 29,
    "start_time": "2022-07-13T07:36:48.502Z"
   },
   {
    "duration": 58,
    "start_time": "2022-07-13T07:36:54.695Z"
   },
   {
    "duration": 15,
    "start_time": "2022-07-13T07:36:56.876Z"
   },
   {
    "duration": 1007,
    "start_time": "2022-07-13T07:58:46.562Z"
   },
   {
    "duration": 1037,
    "start_time": "2022-07-13T07:58:58.233Z"
   },
   {
    "duration": 6,
    "start_time": "2022-07-13T07:59:10.723Z"
   },
   {
    "duration": 4,
    "start_time": "2022-07-13T08:00:27.361Z"
   },
   {
    "duration": 612,
    "start_time": "2022-07-13T08:00:27.472Z"
   },
   {
    "duration": 16,
    "start_time": "2022-07-13T08:00:28.087Z"
   },
   {
    "duration": 4,
    "start_time": "2022-07-13T08:00:28.105Z"
   },
   {
    "duration": 16,
    "start_time": "2022-07-13T08:00:28.202Z"
   },
   {
    "duration": 31,
    "start_time": "2022-07-13T08:00:28.359Z"
   },
   {
    "duration": 21,
    "start_time": "2022-07-13T08:00:28.490Z"
   },
   {
    "duration": 15,
    "start_time": "2022-07-13T08:00:28.654Z"
   },
   {
    "duration": 8,
    "start_time": "2022-07-13T08:00:29.109Z"
   },
   {
    "duration": 9,
    "start_time": "2022-07-13T08:00:29.270Z"
   },
   {
    "duration": 115,
    "start_time": "2022-07-13T08:00:29.419Z"
   },
   {
    "duration": 136,
    "start_time": "2022-07-13T08:00:29.877Z"
   },
   {
    "duration": 156,
    "start_time": "2022-07-13T08:00:30.062Z"
   },
   {
    "duration": 175,
    "start_time": "2022-07-13T08:00:30.220Z"
   },
   {
    "duration": 6,
    "start_time": "2022-07-13T08:00:30.655Z"
   },
   {
    "duration": 400,
    "start_time": "2022-07-13T08:00:30.865Z"
   },
   {
    "duration": 3,
    "start_time": "2022-07-13T08:00:31.777Z"
   },
   {
    "duration": 15,
    "start_time": "2022-07-13T08:00:32.157Z"
   },
   {
    "duration": 9,
    "start_time": "2022-07-13T08:01:09.663Z"
   },
   {
    "duration": 6,
    "start_time": "2022-07-13T08:02:09.784Z"
   },
   {
    "duration": 11,
    "start_time": "2022-07-13T08:02:31.123Z"
   },
   {
    "duration": 4,
    "start_time": "2022-07-13T08:03:20.189Z"
   },
   {
    "duration": 4,
    "start_time": "2022-07-13T08:11:34.795Z"
   },
   {
    "duration": 3,
    "start_time": "2022-07-13T08:13:33.881Z"
   },
   {
    "duration": 7993,
    "start_time": "2022-07-13T08:13:34.175Z"
   },
   {
    "duration": 4,
    "start_time": "2022-07-13T08:13:53.923Z"
   },
   {
    "duration": 6,
    "start_time": "2022-07-13T08:15:08.194Z"
   },
   {
    "duration": 4,
    "start_time": "2022-07-13T08:16:07.008Z"
   },
   {
    "duration": 594,
    "start_time": "2022-07-13T08:16:07.169Z"
   },
   {
    "duration": 17,
    "start_time": "2022-07-13T08:16:07.765Z"
   },
   {
    "duration": 4,
    "start_time": "2022-07-13T08:16:07.783Z"
   },
   {
    "duration": 16,
    "start_time": "2022-07-13T08:16:07.869Z"
   },
   {
    "duration": 28,
    "start_time": "2022-07-13T08:16:07.987Z"
   },
   {
    "duration": 14,
    "start_time": "2022-07-13T08:16:08.127Z"
   },
   {
    "duration": 11,
    "start_time": "2022-07-13T08:16:08.280Z"
   },
   {
    "duration": 6,
    "start_time": "2022-07-13T08:16:08.717Z"
   },
   {
    "duration": 6,
    "start_time": "2022-07-13T08:16:08.884Z"
   },
   {
    "duration": 97,
    "start_time": "2022-07-13T08:16:09.015Z"
   },
   {
    "duration": 133,
    "start_time": "2022-07-13T08:16:09.481Z"
   },
   {
    "duration": 150,
    "start_time": "2022-07-13T08:16:09.620Z"
   },
   {
    "duration": 160,
    "start_time": "2022-07-13T08:16:09.782Z"
   },
   {
    "duration": 92,
    "start_time": "2022-07-13T08:16:10.121Z"
   },
   {
    "duration": 383,
    "start_time": "2022-07-13T08:16:10.293Z"
   },
   {
    "duration": 3,
    "start_time": "2022-07-13T08:16:10.866Z"
   },
   {
    "duration": 14,
    "start_time": "2022-07-13T08:16:11.073Z"
   },
   {
    "duration": 10,
    "start_time": "2022-07-13T08:16:11.285Z"
   },
   {
    "duration": 4,
    "start_time": "2022-07-13T08:16:11.514Z"
   },
   {
    "duration": 4,
    "start_time": "2022-07-13T08:16:11.757Z"
   },
   {
    "duration": 8036,
    "start_time": "2022-07-13T08:16:12.124Z"
   },
   {
    "duration": 3,
    "start_time": "2022-07-13T08:16:20.162Z"
   },
   {
    "duration": 8190,
    "start_time": "2022-07-13T08:16:20.167Z"
   },
   {
    "duration": 3,
    "start_time": "2022-07-13T08:16:28.359Z"
   },
   {
    "duration": 3,
    "start_time": "2022-07-13T08:16:55.565Z"
   },
   {
    "duration": 15,
    "start_time": "2022-07-13T08:22:16.307Z"
   },
   {
    "duration": 14,
    "start_time": "2022-07-13T08:22:55.118Z"
   },
   {
    "duration": 70,
    "start_time": "2022-07-13T08:23:24.668Z"
   },
   {
    "duration": 5,
    "start_time": "2022-07-13T08:23:34.518Z"
   },
   {
    "duration": 14,
    "start_time": "2022-07-13T08:31:12.577Z"
   },
   {
    "duration": 246,
    "start_time": "2022-07-13T08:31:27.318Z"
   },
   {
    "duration": 373,
    "start_time": "2022-07-13T08:31:49.821Z"
   },
   {
    "duration": 12,
    "start_time": "2022-07-13T08:32:16.809Z"
   },
   {
    "duration": 16,
    "start_time": "2022-07-13T08:32:28.995Z"
   },
   {
    "duration": 209,
    "start_time": "2022-07-13T08:33:09.693Z"
   },
   {
    "duration": 42389,
    "start_time": "2022-07-13T08:33:22.601Z"
   },
   {
    "duration": 28,
    "start_time": "2022-07-13T08:34:35.055Z"
   },
   {
    "duration": 19,
    "start_time": "2022-07-13T08:35:42.823Z"
   },
   {
    "duration": 4,
    "start_time": "2022-07-13T08:40:48.821Z"
   },
   {
    "duration": 15,
    "start_time": "2022-07-13T08:40:49.847Z"
   },
   {
    "duration": 4,
    "start_time": "2022-07-13T08:40:58.968Z"
   },
   {
    "duration": 7993,
    "start_time": "2022-07-13T08:40:59.269Z"
   },
   {
    "duration": 3,
    "start_time": "2022-07-13T08:41:07.264Z"
   },
   {
    "duration": 174,
    "start_time": "2022-07-13T08:41:07.269Z"
   },
   {
    "duration": 4,
    "start_time": "2022-07-13T08:55:18.663Z"
   },
   {
    "duration": 600,
    "start_time": "2022-07-13T08:55:18.826Z"
   },
   {
    "duration": 28,
    "start_time": "2022-07-13T08:55:19.428Z"
   },
   {
    "duration": 15,
    "start_time": "2022-07-13T08:55:28.523Z"
   },
   {
    "duration": 14,
    "start_time": "2022-07-13T08:55:31.473Z"
   },
   {
    "duration": 13,
    "start_time": "2022-07-13T08:55:43.391Z"
   },
   {
    "duration": 13,
    "start_time": "2022-07-13T08:55:49.359Z"
   },
   {
    "duration": 5,
    "start_time": "2022-07-13T09:03:27.819Z"
   },
   {
    "duration": 611,
    "start_time": "2022-07-13T09:03:27.967Z"
   },
   {
    "duration": 3,
    "start_time": "2022-07-13T09:03:28.580Z"
   },
   {
    "duration": 18,
    "start_time": "2022-07-13T09:03:28.584Z"
   },
   {
    "duration": 47,
    "start_time": "2022-07-13T09:03:28.604Z"
   },
   {
    "duration": 14,
    "start_time": "2022-07-13T09:03:28.653Z"
   },
   {
    "duration": 11,
    "start_time": "2022-07-13T09:03:28.669Z"
   },
   {
    "duration": 95,
    "start_time": "2022-07-13T09:03:29.269Z"
   },
   {
    "duration": 6,
    "start_time": "2022-07-13T09:03:29.708Z"
   },
   {
    "duration": 7,
    "start_time": "2022-07-13T09:03:33.833Z"
   },
   {
    "duration": 7,
    "start_time": "2022-07-13T09:03:34.623Z"
   },
   {
    "duration": 104,
    "start_time": "2022-07-13T09:03:35.285Z"
   },
   {
    "duration": 131,
    "start_time": "2022-07-13T09:03:49.075Z"
   },
   {
    "duration": 156,
    "start_time": "2022-07-13T09:03:49.431Z"
   },
   {
    "duration": 152,
    "start_time": "2022-07-13T09:03:50.421Z"
   },
   {
    "duration": 5,
    "start_time": "2022-07-13T09:03:52.428Z"
   },
   {
    "duration": 573,
    "start_time": "2022-07-13T09:03:53.501Z"
   },
   {
    "duration": 399,
    "start_time": "2022-07-13T09:05:14.678Z"
   },
   {
    "duration": 460,
    "start_time": "2022-07-13T09:05:29.273Z"
   },
   {
    "duration": 414,
    "start_time": "2022-07-13T09:05:51.600Z"
   },
   {
    "duration": 56,
    "start_time": "2022-07-13T09:08:05.470Z"
   },
   {
    "duration": 132,
    "start_time": "2022-07-13T09:08:25.023Z"
   },
   {
    "duration": 61,
    "start_time": "2022-07-13T09:08:35.452Z"
   },
   {
    "duration": 25,
    "start_time": "2022-07-13T09:08:44.860Z"
   },
   {
    "duration": 10,
    "start_time": "2022-07-13T09:09:25.265Z"
   },
   {
    "duration": 11,
    "start_time": "2022-07-13T09:10:09.509Z"
   },
   {
    "duration": 4,
    "start_time": "2022-07-13T09:10:21.371Z"
   },
   {
    "duration": 3,
    "start_time": "2022-07-13T09:10:26.736Z"
   },
   {
    "duration": 13,
    "start_time": "2022-07-13T09:10:28.498Z"
   },
   {
    "duration": 4,
    "start_time": "2022-07-13T09:10:39.405Z"
   },
   {
    "duration": 4,
    "start_time": "2022-07-13T09:10:48.699Z"
   },
   {
    "duration": 15,
    "start_time": "2022-07-13T09:10:56.828Z"
   },
   {
    "duration": 7,
    "start_time": "2022-07-13T09:11:07.494Z"
   },
   {
    "duration": 9,
    "start_time": "2022-07-13T09:11:21.561Z"
   },
   {
    "duration": 4,
    "start_time": "2022-07-13T09:11:22.130Z"
   },
   {
    "duration": 8,
    "start_time": "2022-07-13T09:11:22.520Z"
   },
   {
    "duration": 11,
    "start_time": "2022-07-13T09:11:35.113Z"
   },
   {
    "duration": 4,
    "start_time": "2022-07-13T09:11:35.477Z"
   },
   {
    "duration": 7,
    "start_time": "2022-07-13T09:11:35.800Z"
   },
   {
    "duration": 63,
    "start_time": "2022-07-13T09:21:58.662Z"
   },
   {
    "duration": 11,
    "start_time": "2022-07-13T09:23:07.813Z"
   },
   {
    "duration": 0,
    "start_time": "2022-07-13T09:24:09.571Z"
   },
   {
    "duration": 0,
    "start_time": "2022-07-13T09:24:09.573Z"
   },
   {
    "duration": 5,
    "start_time": "2022-07-13T09:24:10.787Z"
   },
   {
    "duration": 21533,
    "start_time": "2022-07-13T09:24:13.562Z"
   },
   {
    "duration": 15616,
    "start_time": "2022-07-13T09:24:35.891Z"
   },
   {
    "duration": 4,
    "start_time": "2022-07-13T09:24:52.679Z"
   },
   {
    "duration": 648,
    "start_time": "2022-07-13T09:24:53.103Z"
   },
   {
    "duration": 4,
    "start_time": "2022-07-13T09:24:54.223Z"
   },
   {
    "duration": 31,
    "start_time": "2022-07-13T09:24:54.360Z"
   },
   {
    "duration": 42,
    "start_time": "2022-07-13T09:24:54.495Z"
   },
   {
    "duration": 25,
    "start_time": "2022-07-13T09:24:54.632Z"
   },
   {
    "duration": 19,
    "start_time": "2022-07-13T09:24:55.143Z"
   },
   {
    "duration": 17,
    "start_time": "2022-07-13T09:24:55.234Z"
   },
   {
    "duration": 5,
    "start_time": "2022-07-13T09:24:55.294Z"
   },
   {
    "duration": 7,
    "start_time": "2022-07-13T09:24:55.421Z"
   },
   {
    "duration": 119,
    "start_time": "2022-07-13T09:24:55.450Z"
   },
   {
    "duration": 174,
    "start_time": "2022-07-13T09:24:55.571Z"
   },
   {
    "duration": 163,
    "start_time": "2022-07-13T09:24:55.747Z"
   },
   {
    "duration": 315,
    "start_time": "2022-07-13T09:24:55.912Z"
   },
   {
    "duration": 15,
    "start_time": "2022-07-13T09:24:56.230Z"
   },
   {
    "duration": 422,
    "start_time": "2022-07-13T09:24:56.248Z"
   },
   {
    "duration": 3,
    "start_time": "2022-07-13T09:24:56.672Z"
   },
   {
    "duration": 28,
    "start_time": "2022-07-13T09:24:56.676Z"
   },
   {
    "duration": 9,
    "start_time": "2022-07-13T09:24:56.705Z"
   },
   {
    "duration": 9,
    "start_time": "2022-07-13T09:24:56.716Z"
   },
   {
    "duration": 3,
    "start_time": "2022-07-13T09:24:56.748Z"
   },
   {
    "duration": 7206,
    "start_time": "2022-07-13T09:24:56.758Z"
   },
   {
    "duration": 7,
    "start_time": "2022-07-13T09:25:03.966Z"
   },
   {
    "duration": 7076,
    "start_time": "2022-07-13T09:25:03.975Z"
   },
   {
    "duration": 5,
    "start_time": "2022-07-13T09:25:11.060Z"
   },
   {
    "duration": 99,
    "start_time": "2022-07-13T09:25:11.067Z"
   },
   {
    "duration": 0,
    "start_time": "2022-07-13T09:25:11.169Z"
   },
   {
    "duration": 9,
    "start_time": "2022-07-13T09:25:38.422Z"
   },
   {
    "duration": 6,
    "start_time": "2022-07-13T09:25:40.037Z"
   },
   {
    "duration": 8,
    "start_time": "2022-07-13T09:25:40.169Z"
   },
   {
    "duration": 179,
    "start_time": "2022-07-13T09:25:40.192Z"
   },
   {
    "duration": 191,
    "start_time": "2022-07-13T09:25:40.374Z"
   },
   {
    "duration": 186,
    "start_time": "2022-07-13T09:25:40.567Z"
   },
   {
    "duration": 187,
    "start_time": "2022-07-13T09:25:40.755Z"
   },
   {
    "duration": 9,
    "start_time": "2022-07-13T09:25:40.947Z"
   },
   {
    "duration": 461,
    "start_time": "2022-07-13T09:25:40.963Z"
   },
   {
    "duration": 13,
    "start_time": "2022-07-13T09:25:41.428Z"
   },
   {
    "duration": 23,
    "start_time": "2022-07-13T09:25:41.443Z"
   },
   {
    "duration": 19,
    "start_time": "2022-07-13T09:25:41.470Z"
   },
   {
    "duration": 3,
    "start_time": "2022-07-13T09:25:41.491Z"
   },
   {
    "duration": 11,
    "start_time": "2022-07-13T09:25:41.496Z"
   },
   {
    "duration": 6531,
    "start_time": "2022-07-13T09:25:41.510Z"
   },
   {
    "duration": 12,
    "start_time": "2022-07-13T09:25:48.043Z"
   },
   {
    "duration": 7805,
    "start_time": "2022-07-13T09:25:48.056Z"
   },
   {
    "duration": 4,
    "start_time": "2022-07-13T09:25:55.863Z"
   },
   {
    "duration": 94,
    "start_time": "2022-07-13T09:25:55.870Z"
   },
   {
    "duration": 0,
    "start_time": "2022-07-13T09:25:56.046Z"
   },
   {
    "duration": 9,
    "start_time": "2022-07-13T09:26:01.152Z"
   },
   {
    "duration": 6,
    "start_time": "2022-07-13T09:26:18.372Z"
   },
   {
    "duration": 7912,
    "start_time": "2022-07-13T09:26:44.720Z"
   },
   {
    "duration": 57825,
    "start_time": "2022-07-13T09:26:55.457Z"
   },
   {
    "duration": 44996,
    "start_time": "2022-07-13T09:28:15.657Z"
   },
   {
    "duration": 409,
    "start_time": "2022-07-13T09:30:35.264Z"
   },
   {
    "duration": 305,
    "start_time": "2022-07-13T09:31:03.276Z"
   },
   {
    "duration": 7,
    "start_time": "2022-07-13T09:31:37.301Z"
   },
   {
    "duration": 258,
    "start_time": "2022-07-13T09:32:34.124Z"
   },
   {
    "duration": 189,
    "start_time": "2022-07-13T09:32:43.670Z"
   },
   {
    "duration": 105158,
    "start_time": "2022-07-13T09:33:19.295Z"
   },
   {
    "duration": 47092,
    "start_time": "2022-07-13T10:13:31.391Z"
   },
   {
    "duration": 391,
    "start_time": "2022-07-13T10:14:20.780Z"
   },
   {
    "duration": 213,
    "start_time": "2022-07-13T10:14:23.765Z"
   },
   {
    "duration": 6,
    "start_time": "2022-07-13T10:14:24.860Z"
   },
   {
    "duration": 18,
    "start_time": "2022-07-13T11:00:54.529Z"
   },
   {
    "duration": 43,
    "start_time": "2022-07-13T11:01:11.777Z"
   },
   {
    "duration": 3,
    "start_time": "2022-07-13T11:01:14.817Z"
   },
   {
    "duration": 3,
    "start_time": "2022-07-13T11:01:56.892Z"
   },
   {
    "duration": 12793,
    "start_time": "2022-07-13T11:01:58.613Z"
   },
   {
    "duration": 14,
    "start_time": "2022-07-13T11:02:36.232Z"
   },
   {
    "duration": 0,
    "start_time": "2022-07-13T11:03:46.162Z"
   },
   {
    "duration": 0,
    "start_time": "2022-07-13T11:03:46.164Z"
   },
   {
    "duration": 3,
    "start_time": "2022-07-13T11:03:48.186Z"
   },
   {
    "duration": 11324,
    "start_time": "2022-07-13T11:03:48.833Z"
   },
   {
    "duration": 3,
    "start_time": "2022-07-13T11:04:01.085Z"
   },
   {
    "duration": 0,
    "start_time": "2022-07-13T11:04:35.131Z"
   },
   {
    "duration": 0,
    "start_time": "2022-07-13T11:04:35.143Z"
   },
   {
    "duration": 4,
    "start_time": "2022-07-13T11:04:37.407Z"
   },
   {
    "duration": 61417,
    "start_time": "2022-07-13T11:04:37.867Z"
   },
   {
    "duration": 3,
    "start_time": "2022-07-13T11:05:45.107Z"
   },
   {
    "duration": 0,
    "start_time": "2022-07-13T11:05:56.570Z"
   },
   {
    "duration": 0,
    "start_time": "2022-07-13T11:05:56.571Z"
   },
   {
    "duration": 4,
    "start_time": "2022-07-13T11:06:00.778Z"
   },
   {
    "duration": 207452,
    "start_time": "2022-07-13T11:06:01.583Z"
   },
   {
    "duration": 3,
    "start_time": "2022-07-13T11:09:32.503Z"
   },
   {
    "duration": 713897,
    "start_time": "2022-07-13T11:09:32.927Z"
   },
   {
    "duration": 2,
    "start_time": "2022-07-13T11:21:31.337Z"
   },
   {
    "duration": 26335,
    "start_time": "2022-07-13T11:21:31.670Z"
   },
   {
    "duration": 13,
    "start_time": "2022-07-13T11:22:17.603Z"
   },
   {
    "duration": 4,
    "start_time": "2022-07-13T11:23:26.217Z"
   },
   {
    "duration": 4,
    "start_time": "2022-07-13T11:23:31.378Z"
   },
   {
    "duration": 64158,
    "start_time": "2022-07-13T11:23:39.602Z"
   },
   {
    "duration": 3,
    "start_time": "2022-07-13T11:24:47.095Z"
   },
   {
    "duration": 63824,
    "start_time": "2022-07-13T11:24:47.362Z"
   },
   {
    "duration": 3,
    "start_time": "2022-07-13T11:25:53.790Z"
   },
   {
    "duration": 380,
    "start_time": "2022-07-13T11:25:54.055Z"
   },
   {
    "duration": 3,
    "start_time": "2022-07-13T11:26:01.971Z"
   },
   {
    "duration": 24671,
    "start_time": "2022-07-13T11:26:02.109Z"
   },
   {
    "duration": 3,
    "start_time": "2022-07-13T11:27:05.954Z"
   },
   {
    "duration": 4,
    "start_time": "2022-07-13T11:27:19.609Z"
   },
   {
    "duration": 5,
    "start_time": "2022-07-13T11:27:20.774Z"
   },
   {
    "duration": 3,
    "start_time": "2022-07-13T11:27:35.407Z"
   },
   {
    "duration": 141108,
    "start_time": "2022-07-13T11:27:36.476Z"
   },
   {
    "duration": 5,
    "start_time": "2022-07-13T11:30:05.671Z"
   },
   {
    "duration": 5,
    "start_time": "2022-07-13T11:30:05.934Z"
   },
   {
    "duration": 14,
    "start_time": "2022-07-13T12:37:07.704Z"
   },
   {
    "duration": 23,
    "start_time": "2022-07-13T12:37:41.254Z"
   },
   {
    "duration": 5,
    "start_time": "2022-07-13T12:37:49.756Z"
   },
   {
    "duration": 6,
    "start_time": "2022-07-13T12:38:05.753Z"
   },
   {
    "duration": 17,
    "start_time": "2022-07-13T12:40:06.456Z"
   },
   {
    "duration": 3,
    "start_time": "2022-07-13T12:40:19.175Z"
   },
   {
    "duration": 26,
    "start_time": "2022-07-13T12:40:23.608Z"
   },
   {
    "duration": 5,
    "start_time": "2022-07-13T12:40:37.856Z"
   },
   {
    "duration": 3,
    "start_time": "2022-07-13T12:40:37.986Z"
   },
   {
    "duration": 649,
    "start_time": "2022-07-13T12:40:38.100Z"
   },
   {
    "duration": 6,
    "start_time": "2022-07-13T12:40:38.751Z"
   },
   {
    "duration": 31,
    "start_time": "2022-07-13T12:40:38.759Z"
   },
   {
    "duration": 60,
    "start_time": "2022-07-13T12:40:38.792Z"
   },
   {
    "duration": 23,
    "start_time": "2022-07-13T12:40:38.860Z"
   },
   {
    "duration": 15,
    "start_time": "2022-07-13T12:40:38.886Z"
   },
   {
    "duration": 8,
    "start_time": "2022-07-13T12:40:42.707Z"
   },
   {
    "duration": 3,
    "start_time": "2022-07-13T12:40:43.059Z"
   },
   {
    "duration": 39,
    "start_time": "2022-07-13T12:40:43.323Z"
   },
   {
    "duration": 14,
    "start_time": "2022-07-13T12:40:56.811Z"
   },
   {
    "duration": 168,
    "start_time": "2022-07-13T12:41:13.854Z"
   },
   {
    "duration": 19,
    "start_time": "2022-07-13T12:41:56.857Z"
   },
   {
    "duration": 3,
    "start_time": "2022-07-13T12:42:10.982Z"
   },
   {
    "duration": 18,
    "start_time": "2022-07-13T12:42:11.853Z"
   },
   {
    "duration": 17,
    "start_time": "2022-07-13T12:42:17.482Z"
   },
   {
    "duration": 3,
    "start_time": "2022-07-13T12:42:47.404Z"
   },
   {
    "duration": 4,
    "start_time": "2022-07-13T12:42:49.368Z"
   },
   {
    "duration": 18,
    "start_time": "2022-07-13T12:42:51.421Z"
   },
   {
    "duration": 5,
    "start_time": "2022-07-13T12:42:54.718Z"
   },
   {
    "duration": 47,
    "start_time": "2022-07-13T12:44:19.804Z"
   },
   {
    "duration": 22,
    "start_time": "2022-07-13T12:47:17.351Z"
   },
   {
    "duration": 102,
    "start_time": "2022-07-13T12:47:38.987Z"
   },
   {
    "duration": 62,
    "start_time": "2022-07-13T12:47:43.401Z"
   },
   {
    "duration": 2,
    "start_time": "2022-07-13T12:47:51.062Z"
   },
   {
    "duration": 46,
    "start_time": "2022-07-13T12:47:52.697Z"
   },
   {
    "duration": 7,
    "start_time": "2022-07-13T12:48:05.004Z"
   },
   {
    "duration": 18,
    "start_time": "2022-07-13T12:48:56.418Z"
   },
   {
    "duration": 3,
    "start_time": "2022-07-13T12:49:14.961Z"
   },
   {
    "duration": 7,
    "start_time": "2022-07-13T12:49:15.159Z"
   },
   {
    "duration": 4,
    "start_time": "2022-07-13T12:49:38.358Z"
   },
   {
    "duration": 5,
    "start_time": "2022-07-13T12:50:03.891Z"
   },
   {
    "duration": 7,
    "start_time": "2022-07-13T12:50:06.467Z"
   },
   {
    "duration": 7,
    "start_time": "2022-07-13T12:50:24.002Z"
   },
   {
    "duration": 160,
    "start_time": "2022-07-13T12:51:04.755Z"
   },
   {
    "duration": 24,
    "start_time": "2022-07-13T12:51:07.985Z"
   },
   {
    "duration": 18,
    "start_time": "2022-07-13T12:51:32.410Z"
   },
   {
    "duration": 20,
    "start_time": "2022-07-13T12:51:41.254Z"
   },
   {
    "duration": 6,
    "start_time": "2022-07-13T12:51:42.557Z"
   },
   {
    "duration": 21,
    "start_time": "2022-07-13T12:51:57.462Z"
   },
   {
    "duration": 21,
    "start_time": "2022-07-13T12:52:05.595Z"
   },
   {
    "duration": 1954,
    "start_time": "2022-07-15T12:28:15.224Z"
   },
   {
    "duration": 3968,
    "start_time": "2022-07-15T12:28:17.181Z"
   },
   {
    "duration": 0,
    "start_time": "2022-07-15T12:28:21.151Z"
   },
   {
    "duration": 4,
    "start_time": "2022-07-15T12:28:23.471Z"
   },
   {
    "duration": 3262,
    "start_time": "2022-07-15T12:28:24.108Z"
   },
   {
    "duration": 4,
    "start_time": "2022-07-15T12:28:28.098Z"
   },
   {
    "duration": 24,
    "start_time": "2022-07-15T12:28:28.601Z"
   },
   {
    "duration": 34,
    "start_time": "2022-07-15T12:28:29.431Z"
   },
   {
    "duration": 25,
    "start_time": "2022-07-15T12:28:29.774Z"
   },
   {
    "duration": 20,
    "start_time": "2022-07-15T12:28:30.195Z"
   },
   {
    "duration": 10,
    "start_time": "2022-07-15T12:28:31.452Z"
   },
   {
    "duration": 19,
    "start_time": "2022-07-15T12:29:11.863Z"
   },
   {
    "duration": 13,
    "start_time": "2022-07-15T12:29:19.707Z"
   },
   {
    "duration": 10,
    "start_time": "2022-07-15T12:29:41.202Z"
   },
   {
    "duration": 850,
    "start_time": "2022-07-15T12:30:18.870Z"
   },
   {
    "duration": 1329,
    "start_time": "2022-07-15T12:30:44.328Z"
   },
   {
    "duration": 7,
    "start_time": "2022-07-15T12:31:38.003Z"
   },
   {
    "duration": 13,
    "start_time": "2022-07-15T12:31:40.719Z"
   },
   {
    "duration": 10,
    "start_time": "2022-07-15T12:31:44.285Z"
   },
   {
    "duration": 15,
    "start_time": "2022-07-15T12:32:57.633Z"
   },
   {
    "duration": 956,
    "start_time": "2022-07-15T12:34:28.032Z"
   },
   {
    "duration": 26,
    "start_time": "2022-07-15T12:34:45.773Z"
   },
   {
    "duration": 27,
    "start_time": "2022-07-15T12:34:56.931Z"
   },
   {
    "duration": 16,
    "start_time": "2022-07-15T12:35:04.059Z"
   },
   {
    "duration": 12,
    "start_time": "2022-07-15T12:35:07.282Z"
   },
   {
    "duration": 25,
    "start_time": "2022-07-15T12:37:23.260Z"
   },
   {
    "duration": 9,
    "start_time": "2022-07-15T12:37:25.808Z"
   },
   {
    "duration": 17,
    "start_time": "2022-07-15T12:37:50.283Z"
   },
   {
    "duration": 9,
    "start_time": "2022-07-15T12:37:51.828Z"
   },
   {
    "duration": 10,
    "start_time": "2022-07-15T12:38:01.862Z"
   },
   {
    "duration": 14,
    "start_time": "2022-07-15T12:38:07.818Z"
   },
   {
    "duration": 13,
    "start_time": "2022-07-15T12:38:15.023Z"
   },
   {
    "duration": 5,
    "start_time": "2022-07-15T12:38:16.969Z"
   },
   {
    "duration": 5,
    "start_time": "2022-07-15T12:38:23.053Z"
   },
   {
    "duration": 1310,
    "start_time": "2022-07-15T12:39:28.767Z"
   },
   {
    "duration": 745,
    "start_time": "2022-07-15T12:39:30.079Z"
   },
   {
    "duration": 4,
    "start_time": "2022-07-15T12:39:30.826Z"
   },
   {
    "duration": 30,
    "start_time": "2022-07-15T12:39:30.831Z"
   },
   {
    "duration": 46,
    "start_time": "2022-07-15T12:39:30.863Z"
   },
   {
    "duration": 21,
    "start_time": "2022-07-15T12:39:30.911Z"
   },
   {
    "duration": 17,
    "start_time": "2022-07-15T12:39:30.933Z"
   },
   {
    "duration": 26,
    "start_time": "2022-07-15T12:39:30.951Z"
   },
   {
    "duration": 11,
    "start_time": "2022-07-15T12:39:30.979Z"
   },
   {
    "duration": 130,
    "start_time": "2022-07-15T12:39:30.991Z"
   },
   {
    "duration": 156,
    "start_time": "2022-07-15T12:39:31.123Z"
   },
   {
    "duration": 165,
    "start_time": "2022-07-15T12:39:31.281Z"
   },
   {
    "duration": 179,
    "start_time": "2022-07-15T12:39:31.448Z"
   },
   {
    "duration": 535,
    "start_time": "2022-07-15T12:39:31.632Z"
   },
   {
    "duration": 4,
    "start_time": "2022-07-15T12:39:32.169Z"
   },
   {
    "duration": 21,
    "start_time": "2022-07-15T12:39:32.175Z"
   },
   {
    "duration": 10,
    "start_time": "2022-07-15T12:39:32.198Z"
   },
   {
    "duration": 3,
    "start_time": "2022-07-15T12:39:32.210Z"
   },
   {
    "duration": 5,
    "start_time": "2022-07-15T12:39:32.215Z"
   },
   {
    "duration": 8070,
    "start_time": "2022-07-15T12:39:32.221Z"
   },
   {
    "duration": 4,
    "start_time": "2022-07-15T12:39:40.293Z"
   },
   {
    "duration": 8186,
    "start_time": "2022-07-15T12:39:40.300Z"
   },
   {
    "duration": 7,
    "start_time": "2022-07-15T12:39:48.488Z"
   },
   {
    "duration": 111,
    "start_time": "2022-07-15T12:39:48.562Z"
   },
   {
    "duration": 132,
    "start_time": "2022-07-15T12:39:48.675Z"
   },
   {
    "duration": 0,
    "start_time": "2022-07-15T12:39:48.808Z"
   },
   {
    "duration": 0,
    "start_time": "2022-07-15T12:39:48.810Z"
   },
   {
    "duration": 0,
    "start_time": "2022-07-15T12:39:48.811Z"
   },
   {
    "duration": 0,
    "start_time": "2022-07-15T12:39:48.812Z"
   },
   {
    "duration": 0,
    "start_time": "2022-07-15T12:39:48.813Z"
   },
   {
    "duration": 0,
    "start_time": "2022-07-15T12:39:48.814Z"
   },
   {
    "duration": 0,
    "start_time": "2022-07-15T12:39:48.815Z"
   },
   {
    "duration": 0,
    "start_time": "2022-07-15T12:39:48.816Z"
   },
   {
    "duration": 0,
    "start_time": "2022-07-15T12:39:48.817Z"
   },
   {
    "duration": 5,
    "start_time": "2022-07-15T12:40:45.607Z"
   },
   {
    "duration": 4,
    "start_time": "2022-07-15T12:40:51.977Z"
   },
   {
    "duration": 3,
    "start_time": "2022-07-15T12:41:08.508Z"
   },
   {
    "duration": 1331,
    "start_time": "2022-07-15T12:41:20.259Z"
   },
   {
    "duration": 733,
    "start_time": "2022-07-15T12:41:21.592Z"
   },
   {
    "duration": 4,
    "start_time": "2022-07-15T12:41:22.330Z"
   },
   {
    "duration": 30,
    "start_time": "2022-07-15T12:41:22.336Z"
   },
   {
    "duration": 31,
    "start_time": "2022-07-15T12:41:22.368Z"
   },
   {
    "duration": 21,
    "start_time": "2022-07-15T12:41:22.400Z"
   },
   {
    "duration": 12,
    "start_time": "2022-07-15T12:41:22.423Z"
   },
   {
    "duration": 21,
    "start_time": "2022-07-15T12:41:22.460Z"
   },
   {
    "duration": 5,
    "start_time": "2022-07-15T12:41:22.483Z"
   },
   {
    "duration": 9,
    "start_time": "2022-07-15T12:41:22.489Z"
   },
   {
    "duration": 129,
    "start_time": "2022-07-15T12:41:22.499Z"
   },
   {
    "duration": 159,
    "start_time": "2022-07-15T12:41:22.629Z"
   },
   {
    "duration": 157,
    "start_time": "2022-07-15T12:41:22.790Z"
   },
   {
    "duration": 162,
    "start_time": "2022-07-15T12:41:22.949Z"
   },
   {
    "duration": 513,
    "start_time": "2022-07-15T12:41:23.113Z"
   },
   {
    "duration": 3,
    "start_time": "2022-07-15T12:41:23.628Z"
   },
   {
    "duration": 20,
    "start_time": "2022-07-15T12:41:23.632Z"
   },
   {
    "duration": 9,
    "start_time": "2022-07-15T12:41:23.661Z"
   },
   {
    "duration": 3,
    "start_time": "2022-07-15T12:41:23.672Z"
   },
   {
    "duration": 5,
    "start_time": "2022-07-15T12:41:23.677Z"
   },
   {
    "duration": 8004,
    "start_time": "2022-07-15T12:41:23.684Z"
   },
   {
    "duration": 6,
    "start_time": "2022-07-15T12:41:31.690Z"
   },
   {
    "duration": 8191,
    "start_time": "2022-07-15T12:41:31.699Z"
   },
   {
    "duration": 6,
    "start_time": "2022-07-15T12:41:39.892Z"
   },
   {
    "duration": 162,
    "start_time": "2022-07-15T12:41:39.900Z"
   },
   {
    "duration": 7,
    "start_time": "2022-07-15T12:41:40.064Z"
   },
   {
    "duration": 5,
    "start_time": "2022-07-15T12:41:40.072Z"
   },
   {
    "duration": 143124,
    "start_time": "2022-07-15T12:41:40.078Z"
   },
   {
    "duration": 6,
    "start_time": "2022-07-15T12:44:03.203Z"
   },
   {
    "duration": 5,
    "start_time": "2022-07-15T12:44:03.211Z"
   },
   {
    "duration": 6,
    "start_time": "2022-07-15T12:44:03.218Z"
   },
   {
    "duration": 26103,
    "start_time": "2022-07-15T12:44:03.226Z"
   },
   {
    "duration": 3,
    "start_time": "2022-07-15T12:44:29.330Z"
   },
   {
    "duration": 18,
    "start_time": "2022-07-15T12:44:29.335Z"
   },
   {
    "duration": 116,
    "start_time": "2022-07-15T12:44:29.355Z"
   },
   {
    "duration": 1575,
    "start_time": "2022-07-16T07:57:34.675Z"
   },
   {
    "duration": 3456,
    "start_time": "2022-07-16T07:57:36.252Z"
   },
   {
    "duration": 6,
    "start_time": "2022-07-16T07:57:39.713Z"
   },
   {
    "duration": 24,
    "start_time": "2022-07-16T07:57:39.722Z"
   },
   {
    "duration": 31,
    "start_time": "2022-07-16T07:57:39.748Z"
   },
   {
    "duration": 46,
    "start_time": "2022-07-16T07:57:39.780Z"
   },
   {
    "duration": 12,
    "start_time": "2022-07-16T07:57:39.828Z"
   },
   {
    "duration": 19,
    "start_time": "2022-07-16T07:57:39.841Z"
   },
   {
    "duration": 5,
    "start_time": "2022-07-16T07:57:39.861Z"
   },
   {
    "duration": 15,
    "start_time": "2022-07-16T07:57:39.867Z"
   },
   {
    "duration": 136,
    "start_time": "2022-07-16T07:57:39.884Z"
   },
   {
    "duration": 160,
    "start_time": "2022-07-16T07:57:40.022Z"
   },
   {
    "duration": 177,
    "start_time": "2022-07-16T07:57:40.184Z"
   },
   {
    "duration": 180,
    "start_time": "2022-07-16T07:57:40.364Z"
   },
   {
    "duration": 524,
    "start_time": "2022-07-16T07:57:40.546Z"
   },
   {
    "duration": 3,
    "start_time": "2022-07-16T07:57:41.071Z"
   },
   {
    "duration": 38,
    "start_time": "2022-07-16T07:57:41.076Z"
   },
   {
    "duration": 12,
    "start_time": "2022-07-16T07:57:41.121Z"
   },
   {
    "duration": 5,
    "start_time": "2022-07-16T07:57:41.135Z"
   },
   {
    "duration": 6,
    "start_time": "2022-07-16T07:57:41.141Z"
   },
   {
    "duration": 7378,
    "start_time": "2022-07-16T07:57:41.148Z"
   },
   {
    "duration": 4,
    "start_time": "2022-07-16T07:57:48.528Z"
   },
   {
    "duration": 7791,
    "start_time": "2022-07-16T07:57:48.536Z"
   },
   {
    "duration": 7,
    "start_time": "2022-07-16T07:57:56.329Z"
   },
   {
    "duration": 170,
    "start_time": "2022-07-16T07:57:56.338Z"
   },
   {
    "duration": 19,
    "start_time": "2022-07-16T07:57:56.510Z"
   },
   {
    "duration": 8,
    "start_time": "2022-07-16T07:57:56.532Z"
   },
   {
    "duration": 155345,
    "start_time": "2022-07-16T07:57:56.541Z"
   },
   {
    "duration": 5,
    "start_time": "2022-07-16T08:00:31.888Z"
   },
   {
    "duration": 21,
    "start_time": "2022-07-16T08:00:31.894Z"
   },
   {
    "duration": 27,
    "start_time": "2022-07-16T08:00:31.916Z"
   },
   {
    "duration": 27422,
    "start_time": "2022-07-16T08:00:31.945Z"
   },
   {
    "duration": 4,
    "start_time": "2022-07-16T08:00:59.369Z"
   },
   {
    "duration": 8,
    "start_time": "2022-07-16T08:00:59.374Z"
   },
   {
    "duration": 152,
    "start_time": "2022-07-16T08:00:59.383Z"
   },
   {
    "duration": 3,
    "start_time": "2022-07-16T08:04:52.796Z"
   },
   {
    "duration": 4,
    "start_time": "2022-07-16T08:04:53.025Z"
   },
   {
    "duration": 5,
    "start_time": "2022-07-16T08:05:18.463Z"
   },
   {
    "duration": 4,
    "start_time": "2022-07-16T08:09:58.455Z"
   },
   {
    "duration": 4,
    "start_time": "2022-07-16T08:11:04.933Z"
   },
   {
    "duration": 4,
    "start_time": "2022-07-16T08:11:05.352Z"
   },
   {
    "duration": 5,
    "start_time": "2022-07-16T08:11:07.684Z"
   },
   {
    "duration": 3,
    "start_time": "2022-07-16T08:11:08.130Z"
   },
   {
    "duration": 1444,
    "start_time": "2022-07-16T08:13:21.128Z"
   },
   {
    "duration": 788,
    "start_time": "2022-07-16T08:13:22.574Z"
   },
   {
    "duration": 4,
    "start_time": "2022-07-16T08:13:23.365Z"
   },
   {
    "duration": 23,
    "start_time": "2022-07-16T08:13:23.371Z"
   },
   {
    "duration": 40,
    "start_time": "2022-07-16T08:13:23.417Z"
   },
   {
    "duration": 22,
    "start_time": "2022-07-16T08:13:23.458Z"
   },
   {
    "duration": 16,
    "start_time": "2022-07-16T08:13:23.481Z"
   },
   {
    "duration": 30,
    "start_time": "2022-07-16T08:13:23.511Z"
   },
   {
    "duration": 17,
    "start_time": "2022-07-16T08:13:23.544Z"
   },
   {
    "duration": 12,
    "start_time": "2022-07-16T08:13:23.563Z"
   },
   {
    "duration": 171,
    "start_time": "2022-07-16T08:13:23.576Z"
   },
   {
    "duration": 178,
    "start_time": "2022-07-16T08:13:23.749Z"
   },
   {
    "duration": 210,
    "start_time": "2022-07-16T08:13:23.928Z"
   },
   {
    "duration": 189,
    "start_time": "2022-07-16T08:13:24.141Z"
   },
   {
    "duration": 581,
    "start_time": "2022-07-16T08:13:24.337Z"
   },
   {
    "duration": 6,
    "start_time": "2022-07-16T08:13:24.920Z"
   },
   {
    "duration": 17,
    "start_time": "2022-07-16T08:13:24.931Z"
   },
   {
    "duration": 18,
    "start_time": "2022-07-16T08:13:24.949Z"
   },
   {
    "duration": 9,
    "start_time": "2022-07-16T08:13:24.968Z"
   },
   {
    "duration": 5,
    "start_time": "2022-07-16T08:13:24.978Z"
   },
   {
    "duration": 6,
    "start_time": "2022-07-16T08:13:24.985Z"
   },
   {
    "duration": 7340,
    "start_time": "2022-07-16T08:13:24.992Z"
   },
   {
    "duration": 6,
    "start_time": "2022-07-16T08:13:32.334Z"
   },
   {
    "duration": 8096,
    "start_time": "2022-07-16T08:13:32.342Z"
   },
   {
    "duration": 6,
    "start_time": "2022-07-16T08:13:40.440Z"
   },
   {
    "duration": 57,
    "start_time": "2022-07-16T08:13:40.449Z"
   },
   {
    "duration": 11,
    "start_time": "2022-07-16T08:13:40.508Z"
   },
   {
    "duration": 120,
    "start_time": "2022-07-16T08:13:40.521Z"
   },
   {
    "duration": 17,
    "start_time": "2022-07-16T08:13:40.642Z"
   },
   {
    "duration": 164181,
    "start_time": "2022-07-16T08:13:40.660Z"
   },
   {
    "duration": 6,
    "start_time": "2022-07-16T08:16:24.843Z"
   },
   {
    "duration": 161349,
    "start_time": "2022-07-16T08:16:24.850Z"
   },
   {
    "duration": 10,
    "start_time": "2022-07-16T08:19:06.205Z"
   },
   {
    "duration": 26,
    "start_time": "2022-07-16T08:19:06.218Z"
   },
   {
    "duration": 7,
    "start_time": "2022-07-16T08:19:06.246Z"
   },
   {
    "duration": 7,
    "start_time": "2022-07-16T08:19:06.254Z"
   },
   {
    "duration": 12,
    "start_time": "2022-07-16T08:19:06.263Z"
   },
   {
    "duration": 28200,
    "start_time": "2022-07-16T08:19:06.277Z"
   },
   {
    "duration": 4,
    "start_time": "2022-07-16T08:19:34.479Z"
   },
   {
    "duration": 28258,
    "start_time": "2022-07-16T08:19:34.485Z"
   },
   {
    "duration": 4,
    "start_time": "2022-07-16T08:20:02.746Z"
   },
   {
    "duration": 14,
    "start_time": "2022-07-16T08:20:02.752Z"
   },
   {
    "duration": 20,
    "start_time": "2022-07-16T08:20:02.768Z"
   },
   {
    "duration": 42,
    "start_time": "2022-07-16T08:20:02.789Z"
   },
   {
    "duration": 140,
    "start_time": "2022-07-16T08:20:02.832Z"
   },
   {
    "duration": 5,
    "start_time": "2022-07-16T08:23:41.169Z"
   },
   {
    "duration": 8,
    "start_time": "2022-07-16T08:33:32.345Z"
   },
   {
    "duration": 148,
    "start_time": "2022-07-16T08:33:33.444Z"
   },
   {
    "duration": 133,
    "start_time": "2022-07-16T08:35:40.045Z"
   },
   {
    "duration": 3,
    "start_time": "2022-07-16T09:15:10.539Z"
   },
   {
    "duration": 3,
    "start_time": "2022-07-16T09:15:14.079Z"
   },
   {
    "duration": 1557,
    "start_time": "2022-07-16T09:18:07.092Z"
   },
   {
    "duration": 767,
    "start_time": "2022-07-16T09:18:08.651Z"
   },
   {
    "duration": 6,
    "start_time": "2022-07-16T09:18:09.425Z"
   },
   {
    "duration": 162,
    "start_time": "2022-07-16T09:18:09.433Z"
   },
   {
    "duration": 0,
    "start_time": "2022-07-16T09:18:09.601Z"
   },
   {
    "duration": 0,
    "start_time": "2022-07-16T09:18:09.602Z"
   },
   {
    "duration": 0,
    "start_time": "2022-07-16T09:18:09.603Z"
   },
   {
    "duration": 0,
    "start_time": "2022-07-16T09:18:09.604Z"
   },
   {
    "duration": 0,
    "start_time": "2022-07-16T09:18:09.605Z"
   },
   {
    "duration": 0,
    "start_time": "2022-07-16T09:18:09.606Z"
   },
   {
    "duration": 0,
    "start_time": "2022-07-16T09:18:09.607Z"
   },
   {
    "duration": 0,
    "start_time": "2022-07-16T09:18:09.608Z"
   },
   {
    "duration": 0,
    "start_time": "2022-07-16T09:18:09.609Z"
   },
   {
    "duration": 1,
    "start_time": "2022-07-16T09:18:09.609Z"
   },
   {
    "duration": 0,
    "start_time": "2022-07-16T09:18:09.611Z"
   },
   {
    "duration": 0,
    "start_time": "2022-07-16T09:18:09.612Z"
   },
   {
    "duration": 0,
    "start_time": "2022-07-16T09:18:09.613Z"
   },
   {
    "duration": 0,
    "start_time": "2022-07-16T09:18:09.614Z"
   },
   {
    "duration": 0,
    "start_time": "2022-07-16T09:18:09.615Z"
   },
   {
    "duration": 0,
    "start_time": "2022-07-16T09:18:09.616Z"
   },
   {
    "duration": 0,
    "start_time": "2022-07-16T09:18:09.617Z"
   },
   {
    "duration": 0,
    "start_time": "2022-07-16T09:18:09.618Z"
   },
   {
    "duration": 0,
    "start_time": "2022-07-16T09:18:09.620Z"
   },
   {
    "duration": 0,
    "start_time": "2022-07-16T09:18:09.621Z"
   },
   {
    "duration": 0,
    "start_time": "2022-07-16T09:18:09.622Z"
   },
   {
    "duration": 0,
    "start_time": "2022-07-16T09:18:09.624Z"
   },
   {
    "duration": 0,
    "start_time": "2022-07-16T09:18:09.625Z"
   },
   {
    "duration": 0,
    "start_time": "2022-07-16T09:18:09.626Z"
   },
   {
    "duration": 0,
    "start_time": "2022-07-16T09:18:09.627Z"
   },
   {
    "duration": 0,
    "start_time": "2022-07-16T09:18:09.629Z"
   },
   {
    "duration": 0,
    "start_time": "2022-07-16T09:18:09.630Z"
   },
   {
    "duration": 0,
    "start_time": "2022-07-16T09:18:09.631Z"
   },
   {
    "duration": 0,
    "start_time": "2022-07-16T09:18:09.632Z"
   },
   {
    "duration": 0,
    "start_time": "2022-07-16T09:18:09.633Z"
   },
   {
    "duration": 0,
    "start_time": "2022-07-16T09:18:09.635Z"
   },
   {
    "duration": 0,
    "start_time": "2022-07-16T09:18:09.636Z"
   },
   {
    "duration": 0,
    "start_time": "2022-07-16T09:18:09.637Z"
   },
   {
    "duration": 0,
    "start_time": "2022-07-16T09:18:09.638Z"
   },
   {
    "duration": 0,
    "start_time": "2022-07-16T09:18:09.640Z"
   },
   {
    "duration": 0,
    "start_time": "2022-07-16T09:18:09.641Z"
   },
   {
    "duration": 0,
    "start_time": "2022-07-16T09:18:09.642Z"
   },
   {
    "duration": 0,
    "start_time": "2022-07-16T09:18:09.645Z"
   },
   {
    "duration": 0,
    "start_time": "2022-07-16T09:18:09.646Z"
   },
   {
    "duration": 4,
    "start_time": "2022-07-16T09:19:09.033Z"
   },
   {
    "duration": 1397,
    "start_time": "2022-07-16T09:19:17.445Z"
   },
   {
    "duration": 900,
    "start_time": "2022-07-16T09:19:18.844Z"
   },
   {
    "duration": 61,
    "start_time": "2022-07-16T09:19:19.745Z"
   },
   {
    "duration": 41,
    "start_time": "2022-07-16T09:19:19.808Z"
   },
   {
    "duration": 92,
    "start_time": "2022-07-16T09:19:19.851Z"
   },
   {
    "duration": 69,
    "start_time": "2022-07-16T09:19:19.944Z"
   },
   {
    "duration": 17,
    "start_time": "2022-07-16T09:19:20.014Z"
   },
   {
    "duration": 83,
    "start_time": "2022-07-16T09:19:20.034Z"
   },
   {
    "duration": 10,
    "start_time": "2022-07-16T09:19:20.120Z"
   },
   {
    "duration": 382,
    "start_time": "2022-07-16T09:19:20.135Z"
   },
   {
    "duration": 325,
    "start_time": "2022-07-16T09:19:20.519Z"
   },
   {
    "duration": 391,
    "start_time": "2022-07-16T09:19:20.845Z"
   },
   {
    "duration": 289,
    "start_time": "2022-07-16T09:19:21.237Z"
   },
   {
    "duration": 515,
    "start_time": "2022-07-16T09:19:21.530Z"
   },
   {
    "duration": 3,
    "start_time": "2022-07-16T09:19:22.047Z"
   },
   {
    "duration": 65,
    "start_time": "2022-07-16T09:19:22.052Z"
   },
   {
    "duration": 16,
    "start_time": "2022-07-16T09:19:22.119Z"
   },
   {
    "duration": 30,
    "start_time": "2022-07-16T09:19:22.137Z"
   },
   {
    "duration": 58,
    "start_time": "2022-07-16T09:19:22.168Z"
   },
   {
    "duration": 38,
    "start_time": "2022-07-16T09:19:22.227Z"
   },
   {
    "duration": 7152,
    "start_time": "2022-07-16T09:19:22.266Z"
   },
   {
    "duration": 5,
    "start_time": "2022-07-16T09:19:29.426Z"
   },
   {
    "duration": 6702,
    "start_time": "2022-07-16T09:19:29.433Z"
   },
   {
    "duration": 4,
    "start_time": "2022-07-16T09:19:36.136Z"
   },
   {
    "duration": 66,
    "start_time": "2022-07-16T09:19:36.141Z"
   },
   {
    "duration": 129,
    "start_time": "2022-07-16T09:19:36.208Z"
   },
   {
    "duration": 5,
    "start_time": "2022-07-16T09:19:36.339Z"
   },
   {
    "duration": 3,
    "start_time": "2022-07-16T09:19:36.347Z"
   },
   {
    "duration": 148299,
    "start_time": "2022-07-16T09:19:36.352Z"
   },
   {
    "duration": 5,
    "start_time": "2022-07-16T09:22:04.653Z"
   },
   {
    "duration": 147907,
    "start_time": "2022-07-16T09:22:04.660Z"
   },
   {
    "duration": 6,
    "start_time": "2022-07-16T09:24:32.569Z"
   },
   {
    "duration": 12,
    "start_time": "2022-07-16T09:24:32.577Z"
   },
   {
    "duration": 49,
    "start_time": "2022-07-16T09:24:32.591Z"
   },
   {
    "duration": 12,
    "start_time": "2022-07-16T09:24:32.642Z"
   },
   {
    "duration": 30,
    "start_time": "2022-07-16T09:24:32.655Z"
   },
   {
    "duration": 26273,
    "start_time": "2022-07-16T09:24:32.687Z"
   },
   {
    "duration": 4,
    "start_time": "2022-07-16T09:24:58.961Z"
   },
   {
    "duration": 27811,
    "start_time": "2022-07-16T09:24:58.967Z"
   },
   {
    "duration": 3,
    "start_time": "2022-07-16T09:25:26.780Z"
   },
   {
    "duration": 7,
    "start_time": "2022-07-16T09:25:26.785Z"
   },
   {
    "duration": 11,
    "start_time": "2022-07-16T09:25:26.802Z"
   },
   {
    "duration": 23,
    "start_time": "2022-07-16T09:25:26.814Z"
   },
   {
    "duration": 1538,
    "start_time": "2022-07-16T10:52:29.520Z"
   },
   {
    "duration": 3110,
    "start_time": "2022-07-16T10:52:31.060Z"
   },
   {
    "duration": 3,
    "start_time": "2022-07-16T10:52:34.172Z"
   },
   {
    "duration": 22,
    "start_time": "2022-07-16T10:52:34.177Z"
   },
   {
    "duration": 30,
    "start_time": "2022-07-16T10:52:34.200Z"
   },
   {
    "duration": 25,
    "start_time": "2022-07-16T10:52:35.431Z"
   },
   {
    "duration": 15,
    "start_time": "2022-07-16T10:52:36.324Z"
   },
   {
    "duration": 22,
    "start_time": "2022-07-16T10:52:37.899Z"
   },
   {
    "duration": 8,
    "start_time": "2022-07-16T10:52:38.801Z"
   },
   {
    "duration": 124,
    "start_time": "2022-07-16T10:52:39.533Z"
   },
   {
    "duration": 50,
    "start_time": "2022-07-16T10:52:41.455Z"
   },
   {
    "duration": 189,
    "start_time": "2022-07-16T10:52:45.507Z"
   },
   {
    "duration": 184,
    "start_time": "2022-07-16T10:52:49.401Z"
   },
   {
    "duration": 54,
    "start_time": "2022-07-16T10:52:50.728Z"
   },
   {
    "duration": 321,
    "start_time": "2022-07-16T10:52:53.295Z"
   },
   {
    "duration": 368,
    "start_time": "2022-07-16T10:53:03.339Z"
   },
   {
    "duration": 274,
    "start_time": "2022-07-16T10:53:09.870Z"
   },
   {
    "duration": 152,
    "start_time": "2022-07-16T10:53:34.961Z"
   },
   {
    "duration": 135,
    "start_time": "2022-07-16T10:53:40.039Z"
   },
   {
    "duration": 5,
    "start_time": "2022-07-16T10:55:37.281Z"
   },
   {
    "duration": 725,
    "start_time": "2022-07-16T10:55:37.824Z"
   },
   {
    "duration": 4,
    "start_time": "2022-07-16T10:55:38.551Z"
   },
   {
    "duration": 20,
    "start_time": "2022-07-16T10:55:38.557Z"
   },
   {
    "duration": 31,
    "start_time": "2022-07-16T10:55:38.579Z"
   },
   {
    "duration": 17,
    "start_time": "2022-07-16T10:55:38.612Z"
   },
   {
    "duration": 42,
    "start_time": "2022-07-16T10:55:38.630Z"
   },
   {
    "duration": 27,
    "start_time": "2022-07-16T10:55:38.674Z"
   },
   {
    "duration": 10,
    "start_time": "2022-07-16T10:55:38.704Z"
   },
   {
    "duration": 157,
    "start_time": "2022-07-16T10:55:38.716Z"
   },
   {
    "duration": 167,
    "start_time": "2022-07-16T10:55:38.875Z"
   },
   {
    "duration": 268,
    "start_time": "2022-07-16T10:55:39.043Z"
   },
   {
    "duration": 272,
    "start_time": "2022-07-16T10:55:39.312Z"
   },
   {
    "duration": 438,
    "start_time": "2022-07-16T10:55:40.182Z"
   },
   {
    "duration": 5,
    "start_time": "2022-07-16T10:55:45.385Z"
   },
   {
    "duration": 4,
    "start_time": "2022-07-16T10:55:49.635Z"
   },
   {
    "duration": 18,
    "start_time": "2022-07-16T11:15:38.000Z"
   },
   {
    "duration": 50,
    "start_time": "2022-07-16T11:20:27.278Z"
   },
   {
    "duration": 477,
    "start_time": "2022-07-16T11:20:46.608Z"
   },
   {
    "duration": 216,
    "start_time": "2022-07-16T11:23:44.900Z"
   },
   {
    "duration": 392,
    "start_time": "2022-07-16T11:24:02.478Z"
   },
   {
    "duration": 5,
    "start_time": "2022-07-16T11:31:26.674Z"
   },
   {
    "duration": 166,
    "start_time": "2022-07-16T11:31:32.791Z"
   },
   {
    "duration": 477,
    "start_time": "2022-07-16T11:31:45.169Z"
   },
   {
    "duration": 251,
    "start_time": "2022-07-16T11:31:45.648Z"
   },
   {
    "duration": 198,
    "start_time": "2022-07-16T11:31:46.411Z"
   },
   {
    "duration": 1569,
    "start_time": "2022-07-17T06:41:46.063Z"
   },
   {
    "duration": 1805,
    "start_time": "2022-07-17T06:41:47.634Z"
   },
   {
    "duration": 3,
    "start_time": "2022-07-17T06:41:49.441Z"
   },
   {
    "duration": 28,
    "start_time": "2022-07-17T06:41:49.447Z"
   },
   {
    "duration": 38,
    "start_time": "2022-07-17T06:41:49.477Z"
   },
   {
    "duration": 24,
    "start_time": "2022-07-17T06:41:49.517Z"
   },
   {
    "duration": 16,
    "start_time": "2022-07-17T06:41:49.542Z"
   },
   {
    "duration": 49,
    "start_time": "2022-07-17T06:41:49.560Z"
   },
   {
    "duration": 9,
    "start_time": "2022-07-17T06:41:49.611Z"
   },
   {
    "duration": 174,
    "start_time": "2022-07-17T06:41:49.623Z"
   },
   {
    "duration": 186,
    "start_time": "2022-07-17T06:41:49.799Z"
   },
   {
    "duration": 199,
    "start_time": "2022-07-17T06:41:49.987Z"
   },
   {
    "duration": 337,
    "start_time": "2022-07-17T06:41:50.187Z"
   },
   {
    "duration": 473,
    "start_time": "2022-07-17T06:41:50.526Z"
   },
   {
    "duration": 25,
    "start_time": "2022-07-17T06:41:51.004Z"
   },
   {
    "duration": 491,
    "start_time": "2022-07-17T06:41:51.032Z"
   },
   {
    "duration": 218,
    "start_time": "2022-07-17T06:41:51.524Z"
   },
   {
    "duration": 302,
    "start_time": "2022-07-17T06:41:51.743Z"
   },
   {
    "duration": 230,
    "start_time": "2022-07-17T06:41:52.047Z"
   },
   {
    "duration": 115,
    "start_time": "2022-07-17T06:43:59.189Z"
   },
   {
    "duration": 11,
    "start_time": "2022-07-17T06:44:10.789Z"
   },
   {
    "duration": 75,
    "start_time": "2022-07-17T06:45:14.510Z"
   },
   {
    "duration": 31,
    "start_time": "2022-07-17T06:46:49.489Z"
   },
   {
    "duration": 213,
    "start_time": "2022-07-17T06:46:57.788Z"
   },
   {
    "duration": 12,
    "start_time": "2022-07-17T06:47:04.906Z"
   },
   {
    "duration": 212,
    "start_time": "2022-07-17T06:47:05.224Z"
   },
   {
    "duration": 4,
    "start_time": "2022-07-17T06:47:11.556Z"
   },
   {
    "duration": 707,
    "start_time": "2022-07-17T06:47:12.089Z"
   },
   {
    "duration": 4,
    "start_time": "2022-07-17T06:47:12.803Z"
   },
   {
    "duration": 21,
    "start_time": "2022-07-17T06:47:12.809Z"
   },
   {
    "duration": 35,
    "start_time": "2022-07-17T06:47:12.833Z"
   },
   {
    "duration": 41,
    "start_time": "2022-07-17T06:47:12.870Z"
   },
   {
    "duration": 14,
    "start_time": "2022-07-17T06:47:12.913Z"
   },
   {
    "duration": 21,
    "start_time": "2022-07-17T06:47:12.930Z"
   },
   {
    "duration": 9,
    "start_time": "2022-07-17T06:47:12.953Z"
   },
   {
    "duration": 187,
    "start_time": "2022-07-17T06:47:12.964Z"
   },
   {
    "duration": 168,
    "start_time": "2022-07-17T06:47:13.154Z"
   },
   {
    "duration": 285,
    "start_time": "2022-07-17T06:47:13.324Z"
   },
   {
    "duration": 267,
    "start_time": "2022-07-17T06:47:13.611Z"
   },
   {
    "duration": 426,
    "start_time": "2022-07-17T06:47:13.880Z"
   },
   {
    "duration": 16,
    "start_time": "2022-07-17T06:47:14.308Z"
   },
   {
    "duration": 474,
    "start_time": "2022-07-17T06:47:14.325Z"
   },
   {
    "duration": 222,
    "start_time": "2022-07-17T06:47:14.800Z"
   },
   {
    "duration": 337,
    "start_time": "2022-07-17T06:47:15.024Z"
   },
   {
    "duration": 213,
    "start_time": "2022-07-17T06:47:15.363Z"
   },
   {
    "duration": 10,
    "start_time": "2022-07-17T06:47:15.577Z"
   },
   {
    "duration": 34,
    "start_time": "2022-07-17T06:47:15.588Z"
   },
   {
    "duration": 228,
    "start_time": "2022-07-17T06:47:15.625Z"
   },
   {
    "duration": 12,
    "start_time": "2022-07-17T06:47:15.855Z"
   },
   {
    "duration": 0,
    "start_time": "2022-07-17T06:47:15.869Z"
   },
   {
    "duration": 0,
    "start_time": "2022-07-17T06:47:15.870Z"
   },
   {
    "duration": 0,
    "start_time": "2022-07-17T06:47:15.871Z"
   },
   {
    "duration": 0,
    "start_time": "2022-07-17T06:47:15.872Z"
   },
   {
    "duration": 0,
    "start_time": "2022-07-17T06:47:15.873Z"
   },
   {
    "duration": 0,
    "start_time": "2022-07-17T06:47:15.874Z"
   },
   {
    "duration": 0,
    "start_time": "2022-07-17T06:47:15.874Z"
   },
   {
    "duration": 0,
    "start_time": "2022-07-17T06:47:15.875Z"
   },
   {
    "duration": 0,
    "start_time": "2022-07-17T06:47:15.877Z"
   },
   {
    "duration": 0,
    "start_time": "2022-07-17T06:47:15.878Z"
   },
   {
    "duration": 0,
    "start_time": "2022-07-17T06:47:15.879Z"
   },
   {
    "duration": 0,
    "start_time": "2022-07-17T06:47:15.880Z"
   },
   {
    "duration": 0,
    "start_time": "2022-07-17T06:47:15.881Z"
   },
   {
    "duration": 38,
    "start_time": "2022-07-17T06:49:14.196Z"
   },
   {
    "duration": 39,
    "start_time": "2022-07-17T06:49:44.729Z"
   },
   {
    "duration": 207,
    "start_time": "2022-07-17T06:49:47.672Z"
   },
   {
    "duration": 214,
    "start_time": "2022-07-17T06:49:48.364Z"
   },
   {
    "duration": 206,
    "start_time": "2022-07-17T06:49:49.079Z"
   },
   {
    "duration": 726,
    "start_time": "2022-07-17T06:49:51.478Z"
   },
   {
    "duration": 42,
    "start_time": "2022-07-17T06:51:20.760Z"
   },
   {
    "duration": 499,
    "start_time": "2022-07-17T06:51:22.719Z"
   },
   {
    "duration": 214,
    "start_time": "2022-07-17T06:51:30.469Z"
   },
   {
    "duration": 394,
    "start_time": "2022-07-17T06:51:30.774Z"
   },
   {
    "duration": 208,
    "start_time": "2022-07-17T06:51:31.760Z"
   },
   {
    "duration": 5,
    "start_time": "2022-07-17T07:24:13.040Z"
   },
   {
    "duration": 4,
    "start_time": "2022-07-17T07:26:16.959Z"
   },
   {
    "duration": 3,
    "start_time": "2022-07-17T07:26:18.218Z"
   },
   {
    "duration": 3,
    "start_time": "2022-07-17T07:27:19.844Z"
   },
   {
    "duration": 3,
    "start_time": "2022-07-17T07:27:50.613Z"
   },
   {
    "duration": 4,
    "start_time": "2022-07-17T07:29:49.490Z"
   },
   {
    "duration": 8,
    "start_time": "2022-07-17T07:31:06.490Z"
   },
   {
    "duration": 2534,
    "start_time": "2022-07-17T07:37:57.850Z"
   },
   {
    "duration": 2640,
    "start_time": "2022-07-17T07:38:15.000Z"
   },
   {
    "duration": 31,
    "start_time": "2022-07-17T07:38:52.387Z"
   },
   {
    "duration": 7,
    "start_time": "2022-07-17T07:39:00.253Z"
   },
   {
    "duration": 4,
    "start_time": "2022-07-17T07:46:08.817Z"
   },
   {
    "duration": 3,
    "start_time": "2022-07-17T07:49:42.464Z"
   },
   {
    "duration": 4,
    "start_time": "2022-07-17T07:49:45.869Z"
   },
   {
    "duration": 3,
    "start_time": "2022-07-17T07:49:56.220Z"
   },
   {
    "duration": 3,
    "start_time": "2022-07-17T07:50:43.209Z"
   },
   {
    "duration": 23,
    "start_time": "2022-07-17T07:50:59.058Z"
   },
   {
    "duration": 3,
    "start_time": "2022-07-17T07:51:10.665Z"
   },
   {
    "duration": 18,
    "start_time": "2022-07-17T07:51:11.175Z"
   },
   {
    "duration": 24,
    "start_time": "2022-07-17T07:51:29.358Z"
   },
   {
    "duration": 3,
    "start_time": "2022-07-17T07:51:41.452Z"
   },
   {
    "duration": 25,
    "start_time": "2022-07-17T07:51:41.617Z"
   },
   {
    "duration": 3,
    "start_time": "2022-07-17T07:52:04.192Z"
   },
   {
    "duration": 5567,
    "start_time": "2022-07-17T07:52:05.618Z"
   },
   {
    "duration": 3,
    "start_time": "2022-07-17T07:52:24.365Z"
   },
   {
    "duration": 4416,
    "start_time": "2022-07-17T07:52:24.678Z"
   },
   {
    "duration": 1386,
    "start_time": "2022-07-17T07:55:08.667Z"
   },
   {
    "duration": 1450,
    "start_time": "2022-07-17T08:30:57.875Z"
   },
   {
    "duration": 677,
    "start_time": "2022-07-17T08:30:59.327Z"
   },
   {
    "duration": 4,
    "start_time": "2022-07-17T08:31:00.006Z"
   },
   {
    "duration": 30,
    "start_time": "2022-07-17T08:31:00.012Z"
   },
   {
    "duration": 47,
    "start_time": "2022-07-17T08:31:00.044Z"
   },
   {
    "duration": 22,
    "start_time": "2022-07-17T08:31:00.105Z"
   },
   {
    "duration": 16,
    "start_time": "2022-07-17T08:31:00.129Z"
   },
   {
    "duration": 39,
    "start_time": "2022-07-17T08:31:00.147Z"
   },
   {
    "duration": 22,
    "start_time": "2022-07-17T08:31:00.188Z"
   },
   {
    "duration": 153,
    "start_time": "2022-07-17T08:31:00.213Z"
   },
   {
    "duration": 218,
    "start_time": "2022-07-17T08:31:00.368Z"
   },
   {
    "duration": 291,
    "start_time": "2022-07-17T08:31:00.588Z"
   },
   {
    "duration": 290,
    "start_time": "2022-07-17T08:31:00.881Z"
   },
   {
    "duration": 523,
    "start_time": "2022-07-17T08:31:01.173Z"
   },
   {
    "duration": 70,
    "start_time": "2022-07-17T08:31:01.699Z"
   },
   {
    "duration": 533,
    "start_time": "2022-07-17T08:31:01.771Z"
   },
   {
    "duration": 4,
    "start_time": "2022-07-17T08:31:02.305Z"
   },
   {
    "duration": 7,
    "start_time": "2022-07-17T08:31:02.310Z"
   },
   {
    "duration": 24,
    "start_time": "2022-07-17T08:31:02.319Z"
   },
   {
    "duration": 10,
    "start_time": "2022-07-17T08:31:02.345Z"
   },
   {
    "duration": 4,
    "start_time": "2022-07-17T08:31:02.357Z"
   },
   {
    "duration": 6,
    "start_time": "2022-07-17T08:31:02.363Z"
   },
   {
    "duration": 5,
    "start_time": "2022-07-17T08:31:02.371Z"
   },
   {
    "duration": 8652,
    "start_time": "2022-07-17T08:31:02.378Z"
   },
   {
    "duration": 5,
    "start_time": "2022-07-17T08:31:11.032Z"
   },
   {
    "duration": 8185,
    "start_time": "2022-07-17T08:31:11.039Z"
   },
   {
    "duration": 4,
    "start_time": "2022-07-17T08:31:19.225Z"
   },
   {
    "duration": 72,
    "start_time": "2022-07-17T08:31:19.234Z"
   },
   {
    "duration": 6,
    "start_time": "2022-07-17T08:31:19.309Z"
   },
   {
    "duration": 92,
    "start_time": "2022-07-17T08:31:19.318Z"
   },
   {
    "duration": 5,
    "start_time": "2022-07-17T08:31:19.412Z"
   },
   {
    "duration": 148513,
    "start_time": "2022-07-17T08:31:19.419Z"
   },
   {
    "duration": 7,
    "start_time": "2022-07-17T08:33:47.934Z"
   },
   {
    "duration": 149954,
    "start_time": "2022-07-17T08:33:47.944Z"
   },
   {
    "duration": 6,
    "start_time": "2022-07-17T08:36:17.901Z"
   },
   {
    "duration": 10,
    "start_time": "2022-07-17T08:36:17.909Z"
   },
   {
    "duration": 11,
    "start_time": "2022-07-17T08:36:17.921Z"
   },
   {
    "duration": 8,
    "start_time": "2022-07-17T08:36:17.933Z"
   },
   {
    "duration": 11,
    "start_time": "2022-07-17T08:36:17.943Z"
   },
   {
    "duration": 28244,
    "start_time": "2022-07-17T08:36:17.957Z"
   },
   {
    "duration": 4,
    "start_time": "2022-07-17T08:36:46.203Z"
   },
   {
    "duration": 27733,
    "start_time": "2022-07-17T08:36:46.210Z"
   },
   {
    "duration": 4,
    "start_time": "2022-07-17T08:37:13.945Z"
   },
   {
    "duration": 18,
    "start_time": "2022-07-17T08:37:13.951Z"
   },
   {
    "duration": 11,
    "start_time": "2022-07-17T08:37:13.971Z"
   },
   {
    "duration": 13,
    "start_time": "2022-07-17T08:37:13.985Z"
   },
   {
    "duration": 1140,
    "start_time": "2022-07-17T08:37:14.003Z"
   },
   {
    "duration": 0,
    "start_time": "2022-07-17T08:37:15.145Z"
   },
   {
    "duration": 122,
    "start_time": "2022-07-17T08:41:42.509Z"
   },
   {
    "duration": 4,
    "start_time": "2022-07-17T08:41:48.560Z"
   },
   {
    "duration": 3,
    "start_time": "2022-07-17T08:42:56.936Z"
   },
   {
    "duration": 47724,
    "start_time": "2022-07-17T08:42:57.274Z"
   },
   {
    "duration": 11,
    "start_time": "2022-07-17T08:43:45.001Z"
   },
   {
    "duration": 46,
    "start_time": "2022-07-17T08:43:45.015Z"
   },
   {
    "duration": 0,
    "start_time": "2022-07-17T08:43:45.063Z"
   },
   {
    "duration": 0,
    "start_time": "2022-07-17T08:43:45.064Z"
   },
   {
    "duration": 0,
    "start_time": "2022-07-17T08:43:45.066Z"
   },
   {
    "duration": 0,
    "start_time": "2022-07-17T08:43:45.067Z"
   },
   {
    "duration": 52378,
    "start_time": "2022-07-17T08:44:04.858Z"
   },
   {
    "duration": 11,
    "start_time": "2022-07-17T08:44:57.238Z"
   },
   {
    "duration": 5,
    "start_time": "2022-07-17T08:44:57.250Z"
   },
   {
    "duration": 9,
    "start_time": "2022-07-17T08:44:57.257Z"
   },
   {
    "duration": 6,
    "start_time": "2022-07-17T08:44:57.268Z"
   },
   {
    "duration": 4,
    "start_time": "2022-07-17T08:45:30.776Z"
   },
   {
    "duration": 49818,
    "start_time": "2022-07-17T08:45:30.951Z"
   },
   {
    "duration": 8,
    "start_time": "2022-07-17T08:46:20.771Z"
   },
   {
    "duration": 50853,
    "start_time": "2022-07-17T08:46:20.781Z"
   },
   {
    "duration": 8,
    "start_time": "2022-07-17T08:47:11.636Z"
   },
   {
    "duration": 5,
    "start_time": "2022-07-17T08:47:11.646Z"
   },
   {
    "duration": 17,
    "start_time": "2022-07-17T08:47:11.653Z"
   },
   {
    "duration": 10,
    "start_time": "2022-07-17T08:47:11.672Z"
   },
   {
    "duration": 10,
    "start_time": "2022-07-17T08:47:11.683Z"
   },
   {
    "duration": 3,
    "start_time": "2022-07-17T08:48:09.850Z"
   },
   {
    "duration": 33232,
    "start_time": "2022-07-17T08:48:10.326Z"
   },
   {
    "duration": 9,
    "start_time": "2022-07-17T08:48:43.561Z"
   },
   {
    "duration": 32900,
    "start_time": "2022-07-17T08:48:43.572Z"
   },
   {
    "duration": 13,
    "start_time": "2022-07-17T08:49:16.475Z"
   },
   {
    "duration": 33,
    "start_time": "2022-07-17T08:49:16.490Z"
   },
   {
    "duration": 21,
    "start_time": "2022-07-17T08:49:16.526Z"
   },
   {
    "duration": 16,
    "start_time": "2022-07-17T08:49:16.552Z"
   },
   {
    "duration": 5,
    "start_time": "2022-07-17T08:49:37.812Z"
   },
   {
    "duration": 91947,
    "start_time": "2022-07-17T08:49:37.971Z"
   },
   {
    "duration": 10,
    "start_time": "2022-07-17T08:51:09.920Z"
   },
   {
    "duration": 87601,
    "start_time": "2022-07-17T08:51:09.932Z"
   },
   {
    "duration": 11,
    "start_time": "2022-07-17T08:52:37.536Z"
   },
   {
    "duration": 5,
    "start_time": "2022-07-17T08:52:37.550Z"
   },
   {
    "duration": 10,
    "start_time": "2022-07-17T08:52:37.558Z"
   },
   {
    "duration": 6,
    "start_time": "2022-07-17T08:52:37.570Z"
   },
   {
    "duration": 14,
    "start_time": "2022-07-17T08:52:37.578Z"
   },
   {
    "duration": 5,
    "start_time": "2022-07-17T08:55:06.786Z"
   },
   {
    "duration": 233034,
    "start_time": "2022-07-17T08:55:07.525Z"
   },
   {
    "duration": 0,
    "start_time": "2022-07-17T08:59:00.562Z"
   },
   {
    "duration": 0,
    "start_time": "2022-07-17T08:59:00.564Z"
   },
   {
    "duration": 0,
    "start_time": "2022-07-17T08:59:00.565Z"
   },
   {
    "duration": 0,
    "start_time": "2022-07-17T08:59:00.567Z"
   },
   {
    "duration": 0,
    "start_time": "2022-07-17T08:59:00.568Z"
   },
   {
    "duration": 0,
    "start_time": "2022-07-17T08:59:00.569Z"
   },
   {
    "duration": 4,
    "start_time": "2022-07-17T08:59:26.086Z"
   },
   {
    "duration": 0,
    "start_time": "2022-07-17T09:09:12.181Z"
   },
   {
    "duration": 0,
    "start_time": "2022-07-17T09:09:12.183Z"
   },
   {
    "duration": 0,
    "start_time": "2022-07-17T09:09:12.184Z"
   },
   {
    "duration": 0,
    "start_time": "2022-07-17T09:09:12.186Z"
   },
   {
    "duration": 0,
    "start_time": "2022-07-17T09:09:12.187Z"
   },
   {
    "duration": 0,
    "start_time": "2022-07-17T09:09:12.188Z"
   },
   {
    "duration": 0,
    "start_time": "2022-07-17T09:09:12.189Z"
   },
   {
    "duration": 0,
    "start_time": "2022-07-17T09:09:12.190Z"
   },
   {
    "duration": 3,
    "start_time": "2022-07-17T09:09:14.584Z"
   },
   {
    "duration": 76272,
    "start_time": "2022-07-17T09:09:15.196Z"
   },
   {
    "duration": 16,
    "start_time": "2022-07-17T09:10:31.471Z"
   },
   {
    "duration": 76838,
    "start_time": "2022-07-17T09:10:31.489Z"
   },
   {
    "duration": 11,
    "start_time": "2022-07-17T09:11:48.329Z"
   },
   {
    "duration": 5,
    "start_time": "2022-07-17T09:11:48.341Z"
   },
   {
    "duration": 8,
    "start_time": "2022-07-17T09:11:48.348Z"
   },
   {
    "duration": 4,
    "start_time": "2022-07-17T09:11:48.358Z"
   },
   {
    "duration": 9,
    "start_time": "2022-07-17T09:11:48.364Z"
   },
   {
    "duration": 3,
    "start_time": "2022-07-17T09:13:51.187Z"
   },
   {
    "duration": 56487,
    "start_time": "2022-07-17T09:13:51.319Z"
   },
   {
    "duration": 11,
    "start_time": "2022-07-17T09:14:47.808Z"
   },
   {
    "duration": 57005,
    "start_time": "2022-07-17T09:14:47.821Z"
   },
   {
    "duration": 16,
    "start_time": "2022-07-17T09:15:44.829Z"
   },
   {
    "duration": 6,
    "start_time": "2022-07-17T09:15:44.848Z"
   },
   {
    "duration": 7,
    "start_time": "2022-07-17T09:15:44.856Z"
   },
   {
    "duration": 8,
    "start_time": "2022-07-17T09:15:44.865Z"
   },
   {
    "duration": 4,
    "start_time": "2022-07-17T09:16:25.387Z"
   },
   {
    "duration": 57015,
    "start_time": "2022-07-17T09:16:25.557Z"
   },
   {
    "duration": 9,
    "start_time": "2022-07-17T09:17:22.575Z"
   },
   {
    "duration": 54197,
    "start_time": "2022-07-17T09:17:22.586Z"
   },
   {
    "duration": 9,
    "start_time": "2022-07-17T09:18:16.785Z"
   },
   {
    "duration": 4,
    "start_time": "2022-07-17T09:18:16.796Z"
   },
   {
    "duration": 7,
    "start_time": "2022-07-17T09:18:16.802Z"
   },
   {
    "duration": 5,
    "start_time": "2022-07-17T09:18:16.812Z"
   },
   {
    "duration": 3,
    "start_time": "2022-07-17T09:18:25.968Z"
   },
   {
    "duration": 444,
    "start_time": "2022-07-17T09:18:26.092Z"
   },
   {
    "duration": 0,
    "start_time": "2022-07-17T09:18:26.539Z"
   },
   {
    "duration": 0,
    "start_time": "2022-07-17T09:18:26.541Z"
   },
   {
    "duration": 0,
    "start_time": "2022-07-17T09:18:26.543Z"
   },
   {
    "duration": 6,
    "start_time": "2022-07-17T09:18:26.668Z"
   },
   {
    "duration": 5,
    "start_time": "2022-07-17T09:18:27.247Z"
   },
   {
    "duration": 3,
    "start_time": "2022-07-17T09:18:27.415Z"
   },
   {
    "duration": 3,
    "start_time": "2022-07-17T09:18:33.598Z"
   },
   {
    "duration": 54285,
    "start_time": "2022-07-17T09:18:33.800Z"
   },
   {
    "duration": 11,
    "start_time": "2022-07-17T09:19:28.088Z"
   },
   {
    "duration": 55306,
    "start_time": "2022-07-17T09:19:28.102Z"
   },
   {
    "duration": 11,
    "start_time": "2022-07-17T09:20:23.410Z"
   },
   {
    "duration": 4,
    "start_time": "2022-07-17T09:20:23.423Z"
   },
   {
    "duration": 15,
    "start_time": "2022-07-17T09:20:23.429Z"
   },
   {
    "duration": 12,
    "start_time": "2022-07-17T09:20:23.446Z"
   },
   {
    "duration": 3,
    "start_time": "2022-07-17T09:22:11.669Z"
   },
   {
    "duration": 7955,
    "start_time": "2022-07-17T09:22:11.972Z"
   },
   {
    "duration": 3,
    "start_time": "2022-07-17T09:22:19.930Z"
   },
   {
    "duration": 8196,
    "start_time": "2022-07-17T09:22:19.935Z"
   },
   {
    "duration": 6,
    "start_time": "2022-07-17T09:22:28.134Z"
   },
   {
    "duration": 76,
    "start_time": "2022-07-17T09:22:28.143Z"
   },
   {
    "duration": 5,
    "start_time": "2022-07-17T09:22:28.304Z"
   },
   {
    "duration": 7,
    "start_time": "2022-07-17T09:22:28.311Z"
   },
   {
    "duration": 1559,
    "start_time": "2022-07-17T09:24:20.011Z"
   },
   {
    "duration": 795,
    "start_time": "2022-07-17T09:24:21.573Z"
   },
   {
    "duration": 3,
    "start_time": "2022-07-17T09:24:22.370Z"
   },
   {
    "duration": 32,
    "start_time": "2022-07-17T09:24:22.376Z"
   },
   {
    "duration": 38,
    "start_time": "2022-07-17T09:24:22.410Z"
   },
   {
    "duration": 22,
    "start_time": "2022-07-17T09:24:22.450Z"
   },
   {
    "duration": 38,
    "start_time": "2022-07-17T09:24:22.474Z"
   },
   {
    "duration": 24,
    "start_time": "2022-07-17T09:24:22.514Z"
   },
   {
    "duration": 8,
    "start_time": "2022-07-17T09:24:22.540Z"
   },
   {
    "duration": 166,
    "start_time": "2022-07-17T09:24:22.551Z"
   },
   {
    "duration": 247,
    "start_time": "2022-07-17T09:24:22.719Z"
   },
   {
    "duration": 319,
    "start_time": "2022-07-17T09:24:22.968Z"
   },
   {
    "duration": 299,
    "start_time": "2022-07-17T09:24:23.288Z"
   },
   {
    "duration": 617,
    "start_time": "2022-07-17T09:24:23.589Z"
   },
   {
    "duration": 81,
    "start_time": "2022-07-17T09:24:24.208Z"
   },
   {
    "duration": 583,
    "start_time": "2022-07-17T09:24:24.291Z"
   },
   {
    "duration": 4,
    "start_time": "2022-07-17T09:24:24.875Z"
   },
   {
    "duration": 17,
    "start_time": "2022-07-17T09:24:24.881Z"
   },
   {
    "duration": 30,
    "start_time": "2022-07-17T09:24:24.900Z"
   },
   {
    "duration": 10,
    "start_time": "2022-07-17T09:24:24.932Z"
   },
   {
    "duration": 6,
    "start_time": "2022-07-17T09:24:24.944Z"
   },
   {
    "duration": 16,
    "start_time": "2022-07-17T09:24:24.952Z"
   },
   {
    "duration": 12,
    "start_time": "2022-07-17T09:24:24.970Z"
   },
   {
    "duration": 8153,
    "start_time": "2022-07-17T09:24:24.983Z"
   },
   {
    "duration": 7,
    "start_time": "2022-07-17T09:24:33.137Z"
   },
   {
    "duration": 8185,
    "start_time": "2022-07-17T09:24:33.145Z"
   },
   {
    "duration": 6,
    "start_time": "2022-07-17T09:24:41.332Z"
   },
   {
    "duration": 165,
    "start_time": "2022-07-17T09:24:41.342Z"
   },
   {
    "duration": 12,
    "start_time": "2022-07-17T09:24:41.509Z"
   },
   {
    "duration": 6,
    "start_time": "2022-07-17T09:24:41.523Z"
   },
   {
    "duration": 7,
    "start_time": "2022-07-17T09:24:41.531Z"
   },
   {
    "duration": 151829,
    "start_time": "2022-07-17T09:24:41.539Z"
   },
   {
    "duration": 8,
    "start_time": "2022-07-17T09:27:13.370Z"
   },
   {
    "duration": 150098,
    "start_time": "2022-07-17T09:27:13.379Z"
   },
   {
    "duration": 9,
    "start_time": "2022-07-17T09:29:43.479Z"
   },
   {
    "duration": 16,
    "start_time": "2022-07-17T09:29:43.490Z"
   },
   {
    "duration": 4,
    "start_time": "2022-07-17T09:29:43.508Z"
   },
   {
    "duration": 27,
    "start_time": "2022-07-17T09:29:43.514Z"
   },
   {
    "duration": 7,
    "start_time": "2022-07-17T09:29:43.543Z"
   },
   {
    "duration": 27516,
    "start_time": "2022-07-17T09:29:43.552Z"
   },
   {
    "duration": 6,
    "start_time": "2022-07-17T09:30:11.070Z"
   },
   {
    "duration": 28019,
    "start_time": "2022-07-17T09:30:11.078Z"
   },
   {
    "duration": 5,
    "start_time": "2022-07-17T09:30:39.099Z"
   },
   {
    "duration": 9,
    "start_time": "2022-07-17T09:30:39.106Z"
   },
   {
    "duration": 9,
    "start_time": "2022-07-17T09:30:39.117Z"
   },
   {
    "duration": 6,
    "start_time": "2022-07-17T09:30:39.128Z"
   },
   {
    "duration": 8,
    "start_time": "2022-07-17T09:30:39.136Z"
   },
   {
    "duration": 54551,
    "start_time": "2022-07-17T09:30:39.146Z"
   },
   {
    "duration": 27,
    "start_time": "2022-07-17T09:31:33.698Z"
   },
   {
    "duration": 55306,
    "start_time": "2022-07-17T09:31:33.727Z"
   },
   {
    "duration": 28,
    "start_time": "2022-07-17T09:32:29.035Z"
   },
   {
    "duration": 4,
    "start_time": "2022-07-17T09:32:29.066Z"
   },
   {
    "duration": 6,
    "start_time": "2022-07-17T09:32:29.072Z"
   },
   {
    "duration": 7,
    "start_time": "2022-07-17T09:32:29.079Z"
   },
   {
    "duration": 10,
    "start_time": "2022-07-17T09:32:29.087Z"
   },
   {
    "duration": 4,
    "start_time": "2022-07-17T09:45:11.161Z"
   },
   {
    "duration": 7801,
    "start_time": "2022-07-17T09:45:11.906Z"
   },
   {
    "duration": 7,
    "start_time": "2022-07-17T09:45:19.718Z"
   },
   {
    "duration": 7893,
    "start_time": "2022-07-17T09:45:19.727Z"
   },
   {
    "duration": 8,
    "start_time": "2022-07-17T09:45:27.623Z"
   },
   {
    "duration": 196,
    "start_time": "2022-07-17T09:45:27.632Z"
   },
   {
    "duration": 7,
    "start_time": "2022-07-17T09:45:27.830Z"
   },
   {
    "duration": 10,
    "start_time": "2022-07-17T09:45:27.839Z"
   },
   {
    "duration": 4,
    "start_time": "2022-07-17T09:46:00.127Z"
   },
   {
    "duration": 7757,
    "start_time": "2022-07-17T09:46:00.668Z"
   },
   {
    "duration": 5,
    "start_time": "2022-07-17T09:46:08.428Z"
   },
   {
    "duration": 7883,
    "start_time": "2022-07-17T09:46:08.435Z"
   },
   {
    "duration": 4,
    "start_time": "2022-07-17T09:46:16.322Z"
   },
   {
    "duration": 76,
    "start_time": "2022-07-17T09:46:16.329Z"
   },
   {
    "duration": 125,
    "start_time": "2022-07-17T09:46:16.409Z"
   },
   {
    "duration": 18,
    "start_time": "2022-07-17T09:46:16.536Z"
   },
   {
    "duration": 13,
    "start_time": "2022-07-17T09:46:16.557Z"
   },
   {
    "duration": 25657,
    "start_time": "2022-07-17T09:46:16.572Z"
   },
   {
    "duration": 9,
    "start_time": "2022-07-17T09:46:42.232Z"
   },
   {
    "duration": 22535,
    "start_time": "2022-07-17T09:46:42.243Z"
   },
   {
    "duration": 8,
    "start_time": "2022-07-17T09:47:04.780Z"
   },
   {
    "duration": 42,
    "start_time": "2022-07-17T09:47:04.790Z"
   },
   {
    "duration": 28,
    "start_time": "2022-07-17T09:47:04.834Z"
   },
   {
    "duration": 10,
    "start_time": "2022-07-17T09:47:04.864Z"
   },
   {
    "duration": 16,
    "start_time": "2022-07-17T09:47:04.876Z"
   },
   {
    "duration": 20364,
    "start_time": "2022-07-17T09:47:04.894Z"
   },
   {
    "duration": 8,
    "start_time": "2022-07-17T09:47:25.260Z"
   },
   {
    "duration": 22268,
    "start_time": "2022-07-17T09:47:25.270Z"
   },
   {
    "duration": 6,
    "start_time": "2022-07-17T09:47:47.541Z"
   },
   {
    "duration": 7,
    "start_time": "2022-07-17T09:47:47.548Z"
   },
   {
    "duration": 6,
    "start_time": "2022-07-17T09:47:47.557Z"
   },
   {
    "duration": 6,
    "start_time": "2022-07-17T09:47:47.564Z"
   },
   {
    "duration": 7,
    "start_time": "2022-07-17T09:47:47.572Z"
   },
   {
    "duration": 60154,
    "start_time": "2022-07-17T09:47:47.605Z"
   },
   {
    "duration": 29,
    "start_time": "2022-07-17T09:48:47.761Z"
   },
   {
    "duration": 59207,
    "start_time": "2022-07-17T09:48:47.792Z"
   },
   {
    "duration": 24,
    "start_time": "2022-07-17T09:49:47.002Z"
   },
   {
    "duration": 5,
    "start_time": "2022-07-17T09:49:47.028Z"
   },
   {
    "duration": 6,
    "start_time": "2022-07-17T09:49:47.035Z"
   },
   {
    "duration": 5,
    "start_time": "2022-07-17T09:49:47.043Z"
   },
   {
    "duration": 14,
    "start_time": "2022-07-17T09:49:47.049Z"
   },
   {
    "duration": 4,
    "start_time": "2022-07-17T09:50:50.021Z"
   },
   {
    "duration": 7712,
    "start_time": "2022-07-17T09:50:50.921Z"
   },
   {
    "duration": 5,
    "start_time": "2022-07-17T09:50:58.635Z"
   },
   {
    "duration": 7768,
    "start_time": "2022-07-17T09:50:58.643Z"
   },
   {
    "duration": 8,
    "start_time": "2022-07-17T09:51:06.414Z"
   },
   {
    "duration": 187,
    "start_time": "2022-07-17T09:51:06.424Z"
   },
   {
    "duration": 44,
    "start_time": "2022-07-17T09:51:06.613Z"
   },
   {
    "duration": 14,
    "start_time": "2022-07-17T09:51:06.660Z"
   },
   {
    "duration": 13,
    "start_time": "2022-07-17T09:51:06.678Z"
   },
   {
    "duration": 22590,
    "start_time": "2022-07-17T09:51:06.693Z"
   },
   {
    "duration": 30,
    "start_time": "2022-07-17T09:51:29.286Z"
   },
   {
    "duration": 32113,
    "start_time": "2022-07-17T09:51:29.319Z"
   },
   {
    "duration": 10,
    "start_time": "2022-07-17T09:52:01.434Z"
   },
   {
    "duration": 8,
    "start_time": "2022-07-17T09:52:01.446Z"
   },
   {
    "duration": 19,
    "start_time": "2022-07-17T09:52:01.456Z"
   },
   {
    "duration": 8,
    "start_time": "2022-07-17T09:52:01.477Z"
   },
   {
    "duration": 5,
    "start_time": "2022-07-17T09:52:01.486Z"
   },
   {
    "duration": 17886,
    "start_time": "2022-07-17T09:52:01.493Z"
   },
   {
    "duration": 6,
    "start_time": "2022-07-17T09:52:19.381Z"
   },
   {
    "duration": 21770,
    "start_time": "2022-07-17T09:52:19.389Z"
   },
   {
    "duration": 4,
    "start_time": "2022-07-17T09:52:41.161Z"
   },
   {
    "duration": 5,
    "start_time": "2022-07-17T09:52:41.167Z"
   },
   {
    "duration": 5,
    "start_time": "2022-07-17T09:52:41.174Z"
   },
   {
    "duration": 5,
    "start_time": "2022-07-17T09:52:41.180Z"
   },
   {
    "duration": 34,
    "start_time": "2022-07-17T09:52:41.186Z"
   },
   {
    "duration": 60251,
    "start_time": "2022-07-17T09:52:41.221Z"
   },
   {
    "duration": 22,
    "start_time": "2022-07-17T09:53:41.474Z"
   },
   {
    "duration": 59665,
    "start_time": "2022-07-17T09:53:41.497Z"
   },
   {
    "duration": 21,
    "start_time": "2022-07-17T09:54:41.165Z"
   },
   {
    "duration": 33,
    "start_time": "2022-07-17T09:54:41.188Z"
   },
   {
    "duration": 11,
    "start_time": "2022-07-17T09:54:41.223Z"
   },
   {
    "duration": 19,
    "start_time": "2022-07-17T09:54:41.237Z"
   },
   {
    "duration": 28,
    "start_time": "2022-07-17T09:54:41.258Z"
   },
   {
    "duration": 550,
    "start_time": "2022-07-17T09:59:51.573Z"
   },
   {
    "duration": 107,
    "start_time": "2022-07-17T10:02:10.526Z"
   },
   {
    "duration": 9,
    "start_time": "2022-07-17T10:02:14.651Z"
   },
   {
    "duration": 1385,
    "start_time": "2022-07-17T10:02:31.676Z"
   },
   {
    "duration": 671,
    "start_time": "2022-07-17T10:02:33.062Z"
   },
   {
    "duration": 3,
    "start_time": "2022-07-17T10:02:33.735Z"
   },
   {
    "duration": 26,
    "start_time": "2022-07-17T10:02:33.740Z"
   },
   {
    "duration": 43,
    "start_time": "2022-07-17T10:02:33.767Z"
   },
   {
    "duration": 21,
    "start_time": "2022-07-17T10:02:33.811Z"
   },
   {
    "duration": 13,
    "start_time": "2022-07-17T10:02:33.833Z"
   },
   {
    "duration": 22,
    "start_time": "2022-07-17T10:02:33.847Z"
   },
   {
    "duration": 34,
    "start_time": "2022-07-17T10:02:33.870Z"
   },
   {
    "duration": 142,
    "start_time": "2022-07-17T10:02:33.907Z"
   },
   {
    "duration": 225,
    "start_time": "2022-07-17T10:02:34.051Z"
   },
   {
    "duration": 297,
    "start_time": "2022-07-17T10:02:34.278Z"
   },
   {
    "duration": 270,
    "start_time": "2022-07-17T10:02:34.577Z"
   },
   {
    "duration": 506,
    "start_time": "2022-07-17T10:02:34.849Z"
   },
   {
    "duration": 74,
    "start_time": "2022-07-17T10:02:35.357Z"
   },
   {
    "duration": 531,
    "start_time": "2022-07-17T10:02:35.433Z"
   },
   {
    "duration": 4,
    "start_time": "2022-07-17T10:02:35.965Z"
   },
   {
    "duration": 16,
    "start_time": "2022-07-17T10:02:35.970Z"
   },
   {
    "duration": 23,
    "start_time": "2022-07-17T10:02:35.988Z"
   },
   {
    "duration": 11,
    "start_time": "2022-07-17T10:02:36.013Z"
   },
   {
    "duration": 3,
    "start_time": "2022-07-17T10:02:36.026Z"
   },
   {
    "duration": 8,
    "start_time": "2022-07-17T10:02:36.031Z"
   },
   {
    "duration": 138,
    "start_time": "2022-07-17T10:02:36.041Z"
   },
   {
    "duration": 0,
    "start_time": "2022-07-17T10:02:36.285Z"
   },
   {
    "duration": 0,
    "start_time": "2022-07-17T10:02:36.286Z"
   },
   {
    "duration": 0,
    "start_time": "2022-07-17T10:02:36.287Z"
   },
   {
    "duration": 0,
    "start_time": "2022-07-17T10:02:36.288Z"
   },
   {
    "duration": 0,
    "start_time": "2022-07-17T10:02:36.289Z"
   },
   {
    "duration": 0,
    "start_time": "2022-07-17T10:02:36.290Z"
   },
   {
    "duration": 0,
    "start_time": "2022-07-17T10:02:36.291Z"
   },
   {
    "duration": 0,
    "start_time": "2022-07-17T10:02:36.304Z"
   },
   {
    "duration": 0,
    "start_time": "2022-07-17T10:02:36.305Z"
   },
   {
    "duration": 0,
    "start_time": "2022-07-17T10:02:36.306Z"
   },
   {
    "duration": 0,
    "start_time": "2022-07-17T10:02:36.306Z"
   },
   {
    "duration": 0,
    "start_time": "2022-07-17T10:02:36.308Z"
   },
   {
    "duration": 0,
    "start_time": "2022-07-17T10:02:36.308Z"
   },
   {
    "duration": 0,
    "start_time": "2022-07-17T10:02:36.310Z"
   },
   {
    "duration": 0,
    "start_time": "2022-07-17T10:02:36.310Z"
   },
   {
    "duration": 0,
    "start_time": "2022-07-17T10:02:36.311Z"
   },
   {
    "duration": 0,
    "start_time": "2022-07-17T10:02:36.312Z"
   },
   {
    "duration": 0,
    "start_time": "2022-07-17T10:02:36.314Z"
   },
   {
    "duration": 0,
    "start_time": "2022-07-17T10:02:36.314Z"
   },
   {
    "duration": 0,
    "start_time": "2022-07-17T10:02:36.316Z"
   },
   {
    "duration": 0,
    "start_time": "2022-07-17T10:02:36.317Z"
   },
   {
    "duration": 0,
    "start_time": "2022-07-17T10:02:36.318Z"
   },
   {
    "duration": 0,
    "start_time": "2022-07-17T10:02:36.319Z"
   },
   {
    "duration": 0,
    "start_time": "2022-07-17T10:02:36.320Z"
   },
   {
    "duration": 0,
    "start_time": "2022-07-17T10:02:36.321Z"
   },
   {
    "duration": 0,
    "start_time": "2022-07-17T10:02:36.321Z"
   },
   {
    "duration": 0,
    "start_time": "2022-07-17T10:02:36.323Z"
   },
   {
    "duration": 0,
    "start_time": "2022-07-17T10:02:36.324Z"
   },
   {
    "duration": 0,
    "start_time": "2022-07-17T10:02:36.325Z"
   },
   {
    "duration": 0,
    "start_time": "2022-07-17T10:02:36.326Z"
   },
   {
    "duration": 0,
    "start_time": "2022-07-17T10:02:36.327Z"
   },
   {
    "duration": 0,
    "start_time": "2022-07-17T10:02:36.328Z"
   },
   {
    "duration": 4,
    "start_time": "2022-07-17T11:32:06.347Z"
   },
   {
    "duration": 7848,
    "start_time": "2022-07-17T11:32:07.170Z"
   },
   {
    "duration": 11,
    "start_time": "2022-07-17T11:32:15.025Z"
   },
   {
    "duration": 7521,
    "start_time": "2022-07-17T11:32:15.045Z"
   },
   {
    "duration": 57,
    "start_time": "2022-07-17T11:32:22.569Z"
   },
   {
    "duration": 207,
    "start_time": "2022-07-17T11:32:22.637Z"
   },
   {
    "duration": 21,
    "start_time": "2022-07-17T11:32:22.849Z"
   },
   {
    "duration": 18,
    "start_time": "2022-07-17T11:32:22.872Z"
   },
   {
    "duration": 87,
    "start_time": "2022-07-17T11:32:22.892Z"
   },
   {
    "duration": 22333,
    "start_time": "2022-07-17T11:32:22.982Z"
   },
   {
    "duration": 14,
    "start_time": "2022-07-17T11:32:45.319Z"
   },
   {
    "duration": 29617,
    "start_time": "2022-07-17T11:32:45.335Z"
   },
   {
    "duration": 11,
    "start_time": "2022-07-17T11:33:14.954Z"
   },
   {
    "duration": 11,
    "start_time": "2022-07-17T11:33:14.967Z"
   },
   {
    "duration": 28,
    "start_time": "2022-07-17T11:33:14.980Z"
   },
   {
    "duration": 12,
    "start_time": "2022-07-17T11:33:15.017Z"
   },
   {
    "duration": 13,
    "start_time": "2022-07-17T11:33:15.032Z"
   },
   {
    "duration": 24785,
    "start_time": "2022-07-17T11:33:15.047Z"
   },
   {
    "duration": 8,
    "start_time": "2022-07-17T11:33:39.835Z"
   },
   {
    "duration": 24986,
    "start_time": "2022-07-17T11:33:39.845Z"
   },
   {
    "duration": 6,
    "start_time": "2022-07-17T11:34:04.833Z"
   },
   {
    "duration": 5,
    "start_time": "2022-07-17T11:34:04.841Z"
   },
   {
    "duration": 7,
    "start_time": "2022-07-17T11:34:04.848Z"
   },
   {
    "duration": 7,
    "start_time": "2022-07-17T11:34:04.857Z"
   },
   {
    "duration": 9,
    "start_time": "2022-07-17T11:34:04.865Z"
   },
   {
    "duration": 74908,
    "start_time": "2022-07-17T11:34:04.876Z"
   },
   {
    "duration": 37,
    "start_time": "2022-07-17T11:35:19.786Z"
   },
   {
    "duration": 78036,
    "start_time": "2022-07-17T11:35:19.826Z"
   },
   {
    "duration": 22,
    "start_time": "2022-07-17T11:36:37.866Z"
   },
   {
    "duration": 8,
    "start_time": "2022-07-17T11:36:37.890Z"
   },
   {
    "duration": 47,
    "start_time": "2022-07-17T11:36:37.901Z"
   },
   {
    "duration": 29,
    "start_time": "2022-07-17T11:36:37.950Z"
   },
   {
    "duration": 43,
    "start_time": "2022-07-17T11:36:37.981Z"
   },
   {
    "duration": 24,
    "start_time": "2022-07-17T16:17:35.657Z"
   },
   {
    "duration": 1588,
    "start_time": "2022-07-17T16:21:18.555Z"
   },
   {
    "duration": 770,
    "start_time": "2022-07-17T16:21:20.146Z"
   },
   {
    "duration": 4,
    "start_time": "2022-07-17T16:21:20.917Z"
   },
   {
    "duration": 22,
    "start_time": "2022-07-17T16:21:20.923Z"
   },
   {
    "duration": 56,
    "start_time": "2022-07-17T16:21:20.948Z"
   },
   {
    "duration": 25,
    "start_time": "2022-07-17T16:21:21.006Z"
   },
   {
    "duration": 14,
    "start_time": "2022-07-17T16:21:21.033Z"
   },
   {
    "duration": 24,
    "start_time": "2022-07-17T16:21:21.049Z"
   },
   {
    "duration": 34,
    "start_time": "2022-07-17T16:21:21.074Z"
   },
   {
    "duration": 163,
    "start_time": "2022-07-17T16:21:21.110Z"
   },
   {
    "duration": 238,
    "start_time": "2022-07-17T16:21:21.275Z"
   },
   {
    "duration": 305,
    "start_time": "2022-07-17T16:21:21.515Z"
   },
   {
    "duration": 296,
    "start_time": "2022-07-17T16:21:21.822Z"
   },
   {
    "duration": 562,
    "start_time": "2022-07-17T16:21:22.122Z"
   },
   {
    "duration": 74,
    "start_time": "2022-07-17T16:21:22.686Z"
   },
   {
    "duration": 537,
    "start_time": "2022-07-17T16:21:22.762Z"
   },
   {
    "duration": 4,
    "start_time": "2022-07-17T16:21:23.303Z"
   },
   {
    "duration": 7,
    "start_time": "2022-07-17T16:21:23.309Z"
   },
   {
    "duration": 21,
    "start_time": "2022-07-17T16:21:23.318Z"
   },
   {
    "duration": 10,
    "start_time": "2022-07-17T16:21:23.341Z"
   },
   {
    "duration": 4,
    "start_time": "2022-07-17T16:21:23.353Z"
   },
   {
    "duration": 7,
    "start_time": "2022-07-17T16:21:23.358Z"
   },
   {
    "duration": 6,
    "start_time": "2022-07-17T16:21:23.366Z"
   },
   {
    "duration": 8154,
    "start_time": "2022-07-17T16:21:23.374Z"
   },
   {
    "duration": 4,
    "start_time": "2022-07-17T16:21:31.530Z"
   },
   {
    "duration": 8122,
    "start_time": "2022-07-17T16:21:31.604Z"
   },
   {
    "duration": 4,
    "start_time": "2022-07-17T16:21:39.727Z"
   },
   {
    "duration": 174,
    "start_time": "2022-07-17T16:21:39.733Z"
   },
   {
    "duration": 20,
    "start_time": "2022-07-17T16:21:39.909Z"
   },
   {
    "duration": 11,
    "start_time": "2022-07-17T16:21:39.931Z"
   },
   {
    "duration": 11,
    "start_time": "2022-07-17T16:21:39.944Z"
   },
   {
    "duration": 24537,
    "start_time": "2022-07-17T16:21:39.957Z"
   },
   {
    "duration": 15,
    "start_time": "2022-07-17T16:22:04.496Z"
   },
   {
    "duration": 14100,
    "start_time": "2022-07-17T16:22:04.513Z"
   },
   {
    "duration": 7,
    "start_time": "2022-07-17T16:22:18.615Z"
   },
   {
    "duration": 22,
    "start_time": "2022-07-17T16:22:18.624Z"
   },
   {
    "duration": 25,
    "start_time": "2022-07-17T16:22:18.648Z"
   },
   {
    "duration": 12,
    "start_time": "2022-07-17T16:22:18.674Z"
   },
   {
    "duration": 10,
    "start_time": "2022-07-17T16:22:18.687Z"
   },
   {
    "duration": 19706,
    "start_time": "2022-07-17T16:22:18.699Z"
   },
   {
    "duration": 6,
    "start_time": "2022-07-17T16:22:38.410Z"
   },
   {
    "duration": 20500,
    "start_time": "2022-07-17T16:22:38.417Z"
   },
   {
    "duration": 5,
    "start_time": "2022-07-17T16:22:58.919Z"
   },
   {
    "duration": 6,
    "start_time": "2022-07-17T16:22:58.925Z"
   },
   {
    "duration": 6,
    "start_time": "2022-07-17T16:22:58.933Z"
   },
   {
    "duration": 7,
    "start_time": "2022-07-17T16:22:58.941Z"
   },
   {
    "duration": 8,
    "start_time": "2022-07-17T16:22:58.949Z"
   },
   {
    "duration": 64008,
    "start_time": "2022-07-17T16:22:58.959Z"
   },
   {
    "duration": 35,
    "start_time": "2022-07-17T16:24:02.970Z"
   },
   {
    "duration": 63876,
    "start_time": "2022-07-17T16:24:03.008Z"
   },
   {
    "duration": 23,
    "start_time": "2022-07-17T16:25:06.886Z"
   },
   {
    "duration": 5,
    "start_time": "2022-07-17T16:25:06.911Z"
   },
   {
    "duration": 41,
    "start_time": "2022-07-17T16:25:06.918Z"
   },
   {
    "duration": 57,
    "start_time": "2022-07-17T16:25:06.963Z"
   },
   {
    "duration": 40,
    "start_time": "2022-07-17T16:25:07.022Z"
   },
   {
    "duration": 34,
    "start_time": "2022-07-17T16:26:00.651Z"
   }
  ],
  "kernelspec": {
   "display_name": "Python 3 (ipykernel)",
   "language": "python",
   "name": "python3"
  },
  "language_info": {
   "codemirror_mode": {
    "name": "ipython",
    "version": 3
   },
   "file_extension": ".py",
   "mimetype": "text/x-python",
   "name": "python",
   "nbconvert_exporter": "python",
   "pygments_lexer": "ipython3",
   "version": "3.9.7"
  },
  "toc": {
   "base_numbering": 1,
   "nav_menu": {},
   "number_sections": true,
   "sideBar": true,
   "skip_h1_title": true,
   "title_cell": "Содержание",
   "title_sidebar": "Оглавление",
   "toc_cell": true,
   "toc_position": {
    "height": "calc(100% - 180px)",
    "left": "10px",
    "top": "150px",
    "width": "286.225px"
   },
   "toc_section_display": true,
   "toc_window_display": true
  }
 },
 "nbformat": 4,
 "nbformat_minor": 2
}
