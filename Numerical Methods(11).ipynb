{
 "cells": [
  {
   "cell_type": "markdown",
   "metadata": {
    "toc": true
   },
   "source": [
    "<h1>Оглавление<span class=\"tocSkip\"></span></h1>\n",
    "<div class=\"toc\"><ul class=\"toc-item\"><li><span><a href=\"#Подготовка-данных\" data-toc-modified-id=\"Подготовка-данных-1\"><span class=\"toc-item-num\">1&nbsp;&nbsp;</span>Подготовка данных</a></span></li><li><span><a href=\"#Просмотр-аномалий\" data-toc-modified-id=\"Просмотр-аномалий-2\"><span class=\"toc-item-num\">2&nbsp;&nbsp;</span>Просмотр аномалий</a></span></li><li><span><a href=\"#Подготовка-к-обучению-моделей\" data-toc-modified-id=\"Подготовка-к-обучению-моделей-3\"><span class=\"toc-item-num\">3&nbsp;&nbsp;</span>Подготовка к обучению моделей</a></span></li><li><span><a href=\"#Обучение-моделей\" data-toc-modified-id=\"Обучение-моделей-4\"><span class=\"toc-item-num\">4&nbsp;&nbsp;</span>Обучение моделей</a></span><ul class=\"toc-item\"><li><span><a href=\"#Baseline\" data-toc-modified-id=\"Baseline-4.1\"><span class=\"toc-item-num\">4.1&nbsp;&nbsp;</span>Baseline</a></span></li><li><span><a href=\"#CatBoost\" data-toc-modified-id=\"CatBoost-4.2\"><span class=\"toc-item-num\">4.2&nbsp;&nbsp;</span>CatBoost</a></span></li><li><span><a href=\"#LightGBM\" data-toc-modified-id=\"LightGBM-4.3\"><span class=\"toc-item-num\">4.3&nbsp;&nbsp;</span>LightGBM</a></span></li><li><span><a href=\"#XGBoost\" data-toc-modified-id=\"XGBoost-4.4\"><span class=\"toc-item-num\">4.4&nbsp;&nbsp;</span>XGBoost</a></span></li></ul></li><li><span><a href=\"#Анализ-моделей\" data-toc-modified-id=\"Анализ-моделей-5\"><span class=\"toc-item-num\">5&nbsp;&nbsp;</span>Анализ моделей</a></span></li><li><span><a href=\"#Замер-времени\" data-toc-modified-id=\"Замер-времени-6\"><span class=\"toc-item-num\">6&nbsp;&nbsp;</span>Замер времени</a></span></li><li><span><a href=\"#CatBoost\" data-toc-modified-id=\"CatBoost-7\"><span class=\"toc-item-num\">7&nbsp;&nbsp;</span>CatBoost</a></span></li><li><span><a href=\"#LightGBM\" data-toc-modified-id=\"LightGBM-8\"><span class=\"toc-item-num\">8&nbsp;&nbsp;</span>LightGBM</a></span></li><li><span><a href=\"#XGBoost\" data-toc-modified-id=\"XGBoost-9\"><span class=\"toc-item-num\">9&nbsp;&nbsp;</span>XGBoost</a></span></li><li><span><a href=\"#Тестирование-модели\" data-toc-modified-id=\"Тестирование-модели-10\"><span class=\"toc-item-num\">10&nbsp;&nbsp;</span>Тестирование модели</a></span></li><li><span><a href=\"#Общий-вывод\" data-toc-modified-id=\"Общий-вывод-11\"><span class=\"toc-item-num\">11&nbsp;&nbsp;</span>Общий вывод</a></span></li><li><span><a href=\"#Чек-лист-проверки\" data-toc-modified-id=\"Чек-лист-проверки-12\"><span class=\"toc-item-num\">12&nbsp;&nbsp;</span>Чек-лист проверки</a></span></li></ul></div>"
   ]
  },
  {
   "cell_type": "markdown",
   "metadata": {},
   "source": [
    "# Определение стоимости автомобилей"
   ]
  },
  {
   "cell_type": "markdown",
   "metadata": {},
   "source": [
    "Сервис по продаже автомобилей с пробегом «Не бит, не крашен» разрабатывает приложение для привлечения новых клиентов. В нём можно быстро узнать рыночную стоимость своего автомобиля. В вашем распоряжении исторические данные: технические характеристики, комплектации и цены автомобилей. Вам нужно построить модель для определения стоимости. \n",
    "\n",
    "Заказчику важны:\n",
    "\n",
    "- качество предсказания;\n",
    "- скорость предсказания;\n",
    "- время обучения."
   ]
  },
  {
   "cell_type": "markdown",
   "metadata": {},
   "source": [
    "## Подготовка данных"
   ]
  },
  {
   "cell_type": "markdown",
   "metadata": {},
   "source": [
    "Подключим необходимые библиотеки"
   ]
  },
  {
   "cell_type": "code",
   "execution_count": 39,
   "metadata": {
    "scrolled": false
   },
   "outputs": [],
   "source": [
    "import pandas as pd\n",
    "import numpy as np\n",
    "import matplotlib.pyplot as plt\n",
    "import seaborn as sns\n",
    "import time\n",
    "import lightgbm as ltb\n",
    "import xgboost as xg\n",
    "import time\n",
    "\n",
    "\n",
    "from sklearn.model_selection import train_test_split,cross_val_score,GridSearchCV\n",
    "from sklearn.preprocessing import StandardScaler\n",
    "from sklearn.linear_model import LinearRegression\n",
    "from datetime import date\n",
    "from datetime import datetime\n",
    "from sklearn.ensemble import RandomForestRegressor\n",
    "from sklearn.tree import DecisionTreeRegressor\n",
    "from sklearn.metrics import mean_absolute_error,make_scorer\n",
    "from sklearn.dummy import DummyRegressor\n",
    "from catboost import CatBoostRegressor, Pool\n",
    "from sklearn.preprocessing import OrdinalEncoder,OneHotEncoder\n",
    "from sklearn.metrics import mean_squared_error\n",
    "from sklearn.pipeline import Pipeline\n",
    "from sklearn.preprocessing import FunctionTransformer\n",
    "from sklearn.pipeline import FeatureUnion\n",
    "\n",
    "import warnings\n",
    "\n",
    "warnings.filterwarnings('ignore')"
   ]
  },
  {
   "cell_type": "markdown",
   "metadata": {},
   "source": [
    "Прочитаем файл в переменную df"
   ]
  },
  {
   "cell_type": "code",
   "execution_count": 40,
   "metadata": {},
   "outputs": [],
   "source": [
    "df = pd.read_csv('/datasets/autos.csv',parse_dates=['DateCrawled','DateCreated'],dayfirst=True)"
   ]
  },
  {
   "cell_type": "markdown",
   "metadata": {},
   "source": [
    "Посмотрим на данные"
   ]
  },
  {
   "cell_type": "code",
   "execution_count": 42,
   "metadata": {
    "scrolled": true
   },
   "outputs": [
    {
     "name": "stdout",
     "output_type": "stream",
     "text": [
      "<class 'pandas.core.frame.DataFrame'>\n",
      "RangeIndex: 354369 entries, 0 to 354368\n",
      "Data columns (total 16 columns):\n",
      " #   Column             Non-Null Count   Dtype         \n",
      "---  ------             --------------   -----         \n",
      " 0   DateCrawled        354369 non-null  datetime64[ns]\n",
      " 1   Price              354369 non-null  int64         \n",
      " 2   VehicleType        316879 non-null  object        \n",
      " 3   RegistrationYear   354369 non-null  int64         \n",
      " 4   Gearbox            334536 non-null  object        \n",
      " 5   Power              354369 non-null  int64         \n",
      " 6   Model              334664 non-null  object        \n",
      " 7   Kilometer          354369 non-null  int64         \n",
      " 8   RegistrationMonth  354369 non-null  int64         \n",
      " 9   FuelType           321474 non-null  object        \n",
      " 10  Brand              354369 non-null  object        \n",
      " 11  NotRepaired        283215 non-null  object        \n",
      " 12  DateCreated        354369 non-null  datetime64[ns]\n",
      " 13  NumberOfPictures   354369 non-null  int64         \n",
      " 14  PostalCode         354369 non-null  int64         \n",
      " 15  LastSeen           354369 non-null  object        \n",
      "dtypes: datetime64[ns](2), int64(7), object(7)\n",
      "memory usage: 43.3+ MB\n"
     ]
    }
   ],
   "source": [
    "df.info()"
   ]
  },
  {
   "cell_type": "markdown",
   "metadata": {},
   "source": [
    "Сразу можно заметить несколько вещей:\n",
    "\n",
    "1) Названия столбцов не соответствуют \"змеиному\" стилю\n",
    "\n",
    "2) Есть пропущенные значения\n",
    "\n",
    "3) Есть столбцы которые не дают информации"
   ]
  },
  {
   "cell_type": "markdown",
   "metadata": {},
   "source": [
    "Для начала приведём столбцы к змеиному стилю"
   ]
  },
  {
   "cell_type": "code",
   "execution_count": 43,
   "metadata": {},
   "outputs": [],
   "source": [
    "df.columns = [x.lower() for x in df.columns]"
   ]
  },
  {
   "cell_type": "code",
   "execution_count": 44,
   "metadata": {},
   "outputs": [],
   "source": [
    "df['postalcode'] = df['postalcode'].astype('str')"
   ]
  },
  {
   "cell_type": "code",
   "execution_count": 45,
   "metadata": {
    "scrolled": false
   },
   "outputs": [],
   "source": [
    "df['postalcode'] = df['postalcode'].apply(lambda x : x[:3])"
   ]
  },
  {
   "cell_type": "markdown",
   "metadata": {},
   "source": [
    "Теперь удалим точно не нужные столбцы"
   ]
  },
  {
   "cell_type": "code",
   "execution_count": 46,
   "metadata": {},
   "outputs": [],
   "source": [
    "del df['datecrawled']\n",
    "del df['lastseen']\n",
    "del df['numberofpictures']\n",
    "del df['datecreated']"
   ]
  },
  {
   "cell_type": "markdown",
   "metadata": {},
   "source": [
    "Посмотрим на получившийся датасет"
   ]
  },
  {
   "cell_type": "code",
   "execution_count": 47,
   "metadata": {
    "scrolled": true
   },
   "outputs": [
    {
     "data": {
      "text/html": [
       "<div>\n",
       "<style scoped>\n",
       "    .dataframe tbody tr th:only-of-type {\n",
       "        vertical-align: middle;\n",
       "    }\n",
       "\n",
       "    .dataframe tbody tr th {\n",
       "        vertical-align: top;\n",
       "    }\n",
       "\n",
       "    .dataframe thead th {\n",
       "        text-align: right;\n",
       "    }\n",
       "</style>\n",
       "<table border=\"1\" class=\"dataframe\">\n",
       "  <thead>\n",
       "    <tr style=\"text-align: right;\">\n",
       "      <th></th>\n",
       "      <th>price</th>\n",
       "      <th>vehicletype</th>\n",
       "      <th>registrationyear</th>\n",
       "      <th>gearbox</th>\n",
       "      <th>power</th>\n",
       "      <th>model</th>\n",
       "      <th>kilometer</th>\n",
       "      <th>registrationmonth</th>\n",
       "      <th>fueltype</th>\n",
       "      <th>brand</th>\n",
       "      <th>notrepaired</th>\n",
       "      <th>postalcode</th>\n",
       "    </tr>\n",
       "  </thead>\n",
       "  <tbody>\n",
       "    <tr>\n",
       "      <th>0</th>\n",
       "      <td>480</td>\n",
       "      <td>NaN</td>\n",
       "      <td>1993</td>\n",
       "      <td>manual</td>\n",
       "      <td>0</td>\n",
       "      <td>golf</td>\n",
       "      <td>150000</td>\n",
       "      <td>0</td>\n",
       "      <td>petrol</td>\n",
       "      <td>volkswagen</td>\n",
       "      <td>NaN</td>\n",
       "      <td>704</td>\n",
       "    </tr>\n",
       "    <tr>\n",
       "      <th>1</th>\n",
       "      <td>18300</td>\n",
       "      <td>coupe</td>\n",
       "      <td>2011</td>\n",
       "      <td>manual</td>\n",
       "      <td>190</td>\n",
       "      <td>NaN</td>\n",
       "      <td>125000</td>\n",
       "      <td>5</td>\n",
       "      <td>gasoline</td>\n",
       "      <td>audi</td>\n",
       "      <td>yes</td>\n",
       "      <td>669</td>\n",
       "    </tr>\n",
       "    <tr>\n",
       "      <th>2</th>\n",
       "      <td>9800</td>\n",
       "      <td>suv</td>\n",
       "      <td>2004</td>\n",
       "      <td>auto</td>\n",
       "      <td>163</td>\n",
       "      <td>grand</td>\n",
       "      <td>125000</td>\n",
       "      <td>8</td>\n",
       "      <td>gasoline</td>\n",
       "      <td>jeep</td>\n",
       "      <td>NaN</td>\n",
       "      <td>904</td>\n",
       "    </tr>\n",
       "    <tr>\n",
       "      <th>3</th>\n",
       "      <td>1500</td>\n",
       "      <td>small</td>\n",
       "      <td>2001</td>\n",
       "      <td>manual</td>\n",
       "      <td>75</td>\n",
       "      <td>golf</td>\n",
       "      <td>150000</td>\n",
       "      <td>6</td>\n",
       "      <td>petrol</td>\n",
       "      <td>volkswagen</td>\n",
       "      <td>no</td>\n",
       "      <td>910</td>\n",
       "    </tr>\n",
       "    <tr>\n",
       "      <th>4</th>\n",
       "      <td>3600</td>\n",
       "      <td>small</td>\n",
       "      <td>2008</td>\n",
       "      <td>manual</td>\n",
       "      <td>69</td>\n",
       "      <td>fabia</td>\n",
       "      <td>90000</td>\n",
       "      <td>7</td>\n",
       "      <td>gasoline</td>\n",
       "      <td>skoda</td>\n",
       "      <td>no</td>\n",
       "      <td>604</td>\n",
       "    </tr>\n",
       "  </tbody>\n",
       "</table>\n",
       "</div>"
      ],
      "text/plain": [
       "   price vehicletype  registrationyear gearbox  power  model  kilometer  \\\n",
       "0    480         NaN              1993  manual      0   golf     150000   \n",
       "1  18300       coupe              2011  manual    190    NaN     125000   \n",
       "2   9800         suv              2004    auto    163  grand     125000   \n",
       "3   1500       small              2001  manual     75   golf     150000   \n",
       "4   3600       small              2008  manual     69  fabia      90000   \n",
       "\n",
       "   registrationmonth  fueltype       brand notrepaired postalcode  \n",
       "0                  0    petrol  volkswagen         NaN        704  \n",
       "1                  5  gasoline        audi         yes        669  \n",
       "2                  8  gasoline        jeep         NaN        904  \n",
       "3                  6    petrol  volkswagen          no        910  \n",
       "4                  7  gasoline       skoda          no        604  "
      ]
     },
     "execution_count": 47,
     "metadata": {},
     "output_type": "execute_result"
    }
   ],
   "source": [
    "df.head()"
   ]
  },
  {
   "cell_type": "markdown",
   "metadata": {},
   "source": [
    "Посмотрим на количество пропущенных значений во всех столбцах"
   ]
  },
  {
   "cell_type": "code",
   "execution_count": 48,
   "metadata": {
    "scrolled": false
   },
   "outputs": [
    {
     "name": "stdout",
     "output_type": "stream",
     "text": [
      "Пропущенных значений в столбце price: 0.0%\n",
      "Пропущенных значений в столбце vehicletype: 10.6%\n",
      "Пропущенных значений в столбце registrationyear: 0.0%\n",
      "Пропущенных значений в столбце gearbox: 5.6%\n",
      "Пропущенных значений в столбце power: 0.0%\n",
      "Пропущенных значений в столбце model: 5.6%\n",
      "Пропущенных значений в столбце kilometer: 0.0%\n",
      "Пропущенных значений в столбце registrationmonth: 0.0%\n",
      "Пропущенных значений в столбце fueltype: 9.3%\n",
      "Пропущенных значений в столбце brand: 0.0%\n",
      "Пропущенных значений в столбце notrepaired: 20.1%\n",
      "Пропущенных значений в столбце postalcode: 0.0%\n"
     ]
    }
   ],
   "source": [
    "for col in df.columns:\n",
    "    print(f'Пропущенных значений в столбце {col}: {(len(df) - df[col].count())/len(df):.1%}')  "
   ]
  },
  {
   "cell_type": "markdown",
   "metadata": {},
   "source": [
    "Заполним пропущенные значения предыдущими значениями в столбцах"
   ]
  },
  {
   "cell_type": "code",
   "execution_count": 49,
   "metadata": {},
   "outputs": [],
   "source": [
    "df = df.fillna('unknown')"
   ]
  },
  {
   "cell_type": "markdown",
   "metadata": {},
   "source": [
    "## Просмотр аномалий"
   ]
  },
  {
   "cell_type": "markdown",
   "metadata": {},
   "source": [
    "Предварительно изучив аномалии из столбца power,удалим из него эти аномалии"
   ]
  },
  {
   "cell_type": "code",
   "execution_count": 50,
   "metadata": {
    "scrolled": false
   },
   "outputs": [
    {
     "data": {
      "image/png": "[encoded data removed]",
      "text/plain": [
       "<Figure size 432x288 with 1 Axes>"
      ]
     },
     "metadata": {
      "needs_background": "light"
     },
     "output_type": "display_data"
    }
   ],
   "source": [
    "df[df['power']<450]['power'].hist()\n",
    "df = df.query('450 > power > 50 ')"
   ]
  },
  {
   "cell_type": "markdown",
   "metadata": {},
   "source": [
    "По гистограмме видно, что дальше 400 л.с. автомобилей или нет или практически нет, это можно принять за аномалии и удалить, как и автомобили в которых двигатели слабее 50 л.с. ( по очевидным причинам)"
   ]
  },
  {
   "cell_type": "markdown",
   "metadata": {},
   "source": [
    "Посмотрим на аномалии в годах регистрации автомобилей"
   ]
  },
  {
   "cell_type": "code",
   "execution_count": 51,
   "metadata": {
    "scrolled": true
   },
   "outputs": [
    {
     "data": {
      "image/png": "[encoded data removed]",
      "text/plain": [
       "<Figure size 432x288 with 1 Axes>"
      ]
     },
     "metadata": {
      "needs_background": "light"
     },
     "output_type": "display_data"
    }
   ],
   "source": [
    "df[(df['registrationyear']<=2016) & (df['registrationyear']>1980) ]['registrationyear'].hist()\n",
    "df= df.query('2016 > registrationyear > 1980 ')"
   ]
  },
  {
   "cell_type": "markdown",
   "metadata": {},
   "source": [
    "Как видно, автомобилей старше 1980 года очень мало и этим можно пренебречь. Данные у нас только до 2020, поэтому ограничим 2020 годом."
   ]
  },
  {
   "cell_type": "markdown",
   "metadata": {},
   "source": [
    "Посмотрим на выбросы цен"
   ]
  },
  {
   "cell_type": "code",
   "execution_count": 52,
   "metadata": {},
   "outputs": [
    {
     "data": {
      "text/plain": [
       "<AxesSubplot:xlabel='price'>"
      ]
     },
     "execution_count": 52,
     "metadata": {},
     "output_type": "execute_result"
    },
    {
     "data": {
      "image/png": "[encoded data removed]",
      "text/plain": [
       "<Figure size 432x288 with 1 Axes>"
      ]
     },
     "metadata": {
      "needs_background": "light"
     },
     "output_type": "display_data"
    }
   ],
   "source": [
    "sns.boxplot(x=df[\"price\"])"
   ]
  },
  {
   "cell_type": "markdown",
   "metadata": {},
   "source": [
    "Как мы видим, цены больше 14к евро уже являются выбросами, их стоит удалить"
   ]
  },
  {
   "cell_type": "code",
   "execution_count": 53,
   "metadata": {},
   "outputs": [],
   "source": [
    "df= df.query('14000 > price > 1500')"
   ]
  },
  {
   "cell_type": "markdown",
   "metadata": {},
   "source": [
    "Проверим сколько уникальных значений в столбце регистрации по месяцам."
   ]
  },
  {
   "cell_type": "code",
   "execution_count": 54,
   "metadata": {},
   "outputs": [
    {
     "data": {
      "text/plain": [
       "13"
      ]
     },
     "execution_count": 54,
     "metadata": {},
     "output_type": "execute_result"
    }
   ],
   "source": [
    "df['registrationmonth'].nunique()"
   ]
  },
  {
   "cell_type": "markdown",
   "metadata": {},
   "source": [
    "Их 13, а месяцев 12, где-то ошибка."
   ]
  },
  {
   "cell_type": "code",
   "execution_count": 55,
   "metadata": {
    "scrolled": true
   },
   "outputs": [
    {
     "data": {
      "text/plain": [
       "3     18933\n",
       "6     17646\n",
       "5     16389\n",
       "4     16192\n",
       "7     15051\n",
       "10    15029\n",
       "11    13793\n",
       "12    13705\n",
       "9     13618\n",
       "8     12737\n",
       "1     12513\n",
       "2     11891\n",
       "0      6707\n",
       "Name: registrationmonth, dtype: int64"
      ]
     },
     "execution_count": 55,
     "metadata": {},
     "output_type": "execute_result"
    }
   ],
   "source": [
    "df['registrationmonth'].value_counts()"
   ]
  },
  {
   "cell_type": "markdown",
   "metadata": {},
   "source": [
    "Как мы видим таких нулей больше чем всех остальных цифр. Я предположу, что эти люди имели ввиду первый месяц, то есть январь, то есть этот ноль стоит заменить на единицу."
   ]
  },
  {
   "cell_type": "code",
   "execution_count": 56,
   "metadata": {},
   "outputs": [],
   "source": [
    "df[df['registrationmonth'] == 0] = 1"
   ]
  },
  {
   "cell_type": "markdown",
   "metadata": {},
   "source": [
    "## Подготовка к обучению моделей"
   ]
  },
  {
   "cell_type": "markdown",
   "metadata": {},
   "source": [
    "Разделим датасет на X и y тестовые и тренировочные."
   ]
  },
  {
   "cell_type": "code",
   "execution_count": 19,
   "metadata": {},
   "outputs": [],
   "source": [
    "X = df.drop(['price'],axis = 1)\n",
    "y = df['price']\n",
    "X_train,X_test, y_train, y_test = train_test_split(X, y, test_size=0.33, random_state=42,)"
   ]
  },
  {
   "cell_type": "markdown",
   "metadata": {},
   "source": [
    "Для стандартизации запишем все числовые столбцы в список"
   ]
  },
  {
   "cell_type": "code",
   "execution_count": 20,
   "metadata": {},
   "outputs": [],
   "source": [
    "numeric = ['power','kilometer','registrationmonth','registrationyear','postalcode']\n",
    "to_dummies = [\"vehicletype\", \"gearbox\",'model','fueltype','brand','notrepaired']"
   ]
  },
  {
   "cell_type": "markdown",
   "metadata": {},
   "source": [
    "Предварительно создадим пустой датафрейм и будем загружать в него получившиеся метрики на каждой модели для того чтобы потом их было удобнее сравнивать"
   ]
  },
  {
   "cell_type": "code",
   "execution_count": 21,
   "metadata": {},
   "outputs": [],
   "source": [
    "models = pd.DataFrame({'model':[],'RMSE':[],'SMAPE':[]})\n",
    "times = pd.DataFrame({'model':[],'learn_time':[],'predict_time':[]})"
   ]
  },
  {
   "cell_type": "markdown",
   "metadata": {},
   "source": [
    "Напишем функцию использования GridSearchCV"
   ]
  },
  {
   "cell_type": "code",
   "execution_count": 22,
   "metadata": {},
   "outputs": [],
   "source": [
    "def GridSearch(est,params,X_train,y_train):\n",
    "    grid_search_cv_est = GridSearchCV(est,params,scoring='neg_root_mean_squared_error',cv = 5)\n",
    "    grid_search_cv_est.fit(X_train,y_train)\n",
    "    best_param = grid_search_cv_est.best_params_\n",
    "    best_est_est = grid_search_cv_est.best_estimator_\n",
    "    return best_est_est,best_param"
   ]
  },
  {
   "cell_type": "markdown",
   "metadata": {},
   "source": [
    "Напишем функцию для вычисления SMAPE. Для лучшей интерпретации результата используем формулу SMAPE без коэффициента 0.5 в знаменателе, тогда SMAPE у нас будет находится в интервале от 0 % до 100 % а не от 0 % до 220%. Это удобнее интерпретировать."
   ]
  },
  {
   "cell_type": "code",
   "execution_count": 23,
   "metadata": {},
   "outputs": [],
   "source": [
    "def smape(target, predictions):\n",
    "    numerator = abs(predictions - target)\n",
    "    divider = (abs(target) + abs(predictions)) \n",
    "    summa = (numerator / divider).sum()\n",
    "\n",
    "    smape = (1 / len(target)) * summa * 100\n",
    "    return smape\n",
    "smape_scorer = make_scorer(smape, greater_is_better=False)"
   ]
  },
  {
   "cell_type": "markdown",
   "metadata": {},
   "source": [
    "## Обучение моделей"
   ]
  },
  {
   "cell_type": "markdown",
   "metadata": {},
   "source": [
    "### Baseline"
   ]
  },
  {
   "cell_type": "markdown",
   "metadata": {},
   "source": [
    "Возьмём за базовую модель LinearRegression и будем сравнивать все бустинги с ней."
   ]
  },
  {
   "cell_type": "code",
   "execution_count": 24,
   "metadata": {
    "scrolled": true
   },
   "outputs": [
    {
     "name": "stdout",
     "output_type": "stream",
     "text": [
      "RMSE = 1884.9268772876692\n",
      "SMAPE = 18.1508%\n"
     ]
    }
   ],
   "source": [
    "for i in to_dummies:\n",
    "    X_train[i] = X_train[i].astype('str')\n",
    "    X_test[i] = X_test[i].astype('str')\n",
    "\n",
    "# Объявляем scaler и OneHotEncoder() для числовых и категориальных переменных соответственно\n",
    "scaler = StandardScaler() \n",
    "ohe = OneHotEncoder(sparse=False, handle_unknown='ignore')\n",
    "lin_reg = LinearRegression()\n",
    "\n",
    "# Делаем pipeline для числовых переменных датасета\n",
    "numerical_selector = FunctionTransformer(lambda df: df[numeric], validate=False)\n",
    "numerical_preprocessor = Pipeline([(\"numerical_selector\", numerical_selector), (\"scaling\", scaler)])\n",
    "\n",
    "# Делаем pipeline для категориальных переменных датасета\n",
    "dummy_selector = FunctionTransformer(lambda df: df[to_dummies], validate=False)\n",
    "dummy_preprocessor = Pipeline([(\"dummy_selector\", dummy_selector), (\"ohe\", ohe)])\n",
    "\n",
    "# Объединяем созданные выше pipeline в один с помощью функции FeatureUnion и затем записываем итоговый pipeline на примере логистической регрессии\n",
    "feature_union = FeatureUnion([(\"numerical_preprocessor\", numerical_preprocessor),\n",
    "(\"dummy_preprocessor\", dummy_preprocessor)])\n",
    "pipeline = Pipeline([(\"preprocessing\", feature_union), (\"modelling\", lin_reg)])\n",
    "\n",
    "# Теперь можно обучить модель\n",
    "pipeline.fit(X_train,y_train)\n",
    "pred = pipeline.predict(X_train)\n",
    "\n",
    "rms = mean_squared_error(y_train, pred, squared=False)\n",
    "print(f'RMSE = {rms}')\n",
    "\n",
    "lin_smape = smape(y_train,pred)\n",
    "print(f'SMAPE = {lin_smape:g}%')\n",
    "\n",
    "new_row = {'model': ' LinearRegression','RMSE': int(rms),'SMAPE':int(lin_smape)}\n",
    "models = models.append(new_row, ignore_index=True)"
   ]
  },
  {
   "cell_type": "code",
   "execution_count": 25,
   "metadata": {},
   "outputs": [],
   "source": [
    "start_time = time.time()\n",
    "pipeline.fit(X_train,y_train)\n",
    "learn_time =(time.time() - start_time)"
   ]
  },
  {
   "cell_type": "code",
   "execution_count": 26,
   "metadata": {},
   "outputs": [],
   "source": [
    "start_time = time.time()\n",
    "pred = pipeline.predict(X_train)\n",
    "pred_time =(time.time() - start_time)"
   ]
  },
  {
   "cell_type": "code",
   "execution_count": 27,
   "metadata": {},
   "outputs": [],
   "source": [
    "new_time = {'model': ' LinearRegression',\n",
    "            'learn_time': round(learn_time,2),'predict_time':round(pred_time,2)}\n",
    "times = times.append(new_time, ignore_index=True)"
   ]
  },
  {
   "cell_type": "code",
   "execution_count": 28,
   "metadata": {
    "scrolled": true
   },
   "outputs": [
    {
     "name": "stdout",
     "output_type": "stream",
     "text": [
      "[-6.98746577e+09 -4.77144042e+10 -1.90008925e+03 -3.59270785e+10\n",
      " -1.91128586e+03]\n",
      "RMSE:18125790463.606434\n"
     ]
    }
   ],
   "source": [
    "res = cross_val_score(pipeline, X_train, y_train, cv=5, scoring='neg_root_mean_squared_error' )\n",
    "print(res)\n",
    "res *= -1\n",
    "print(f'RMSE:{res.mean()}')"
   ]
  },
  {
   "cell_type": "markdown",
   "metadata": {},
   "source": [
    "Линейная регрессия подходит под задачи заказчика. Посмотрим на бустинги."
   ]
  },
  {
   "cell_type": "markdown",
   "metadata": {},
   "source": [
    "Теперь для кодировки категориальных столбцов используем OrdinalEncoder. One-Hot Encoding нам не подходит т.к. получается слишком много столбцов и модели очень долго обучаются."
   ]
  },
  {
   "cell_type": "code",
   "execution_count": 29,
   "metadata": {},
   "outputs": [],
   "source": [
    "ord_enc = OrdinalEncoder(handle_unknown='use_encoded_value', unknown_value=-1)\n",
    "\n",
    "for col in to_dummies:\n",
    "    X_train[f'{col}_n'] = ord_enc.fit_transform(X_train[col].values.reshape(-1,1))\n",
    "    X_test[f'{col}_n'] = ord_enc.transform(X_test[col].values.reshape(-1,1))\n",
    "    del X_train[col]\n",
    "    del X_test[col]"
   ]
  },
  {
   "cell_type": "markdown",
   "metadata": {},
   "source": [
    "Теперь перейдём к более серьёзным моделям, а в частности к градиентному бустингу"
   ]
  },
  {
   "cell_type": "markdown",
   "metadata": {},
   "source": [
    "# Gradient Boosting"
   ]
  },
  {
   "cell_type": "markdown",
   "metadata": {},
   "source": [
    "### CatBoost"
   ]
  },
  {
   "cell_type": "code",
   "execution_count": 30,
   "metadata": {
    "code_folding": []
   },
   "outputs": [],
   "source": [
    "clf = CatBoostRegressor(loss_function= \"RMSE\",verbose=False,\n",
    "                        learning_rate = 0.5,\n",
    "                        random_state = 42)\n",
    "\n",
    "params = {\"iterations\": [100,150],\n",
    "          \"depth\": [5,8]}"
   ]
  },
  {
   "cell_type": "code",
   "execution_count": 31,
   "metadata": {
    "scrolled": false
   },
   "outputs": [
    {
     "name": "stdout",
     "output_type": "stream",
     "text": [
      "{'depth': 8, 'iterations': 150}\n"
     ]
    }
   ],
   "source": [
    "best_clf1,best_param = GridSearch(clf,params,X_train,y_train)\n",
    "print(best_param)"
   ]
  },
  {
   "cell_type": "code",
   "execution_count": 32,
   "metadata": {
    "scrolled": true
   },
   "outputs": [],
   "source": [
    "prediction_values_ctb = best_clf1.predict(X_train)"
   ]
  },
  {
   "cell_type": "code",
   "execution_count": 33,
   "metadata": {},
   "outputs": [
    {
     "name": "stdout",
     "output_type": "stream",
     "text": [
      "RMSE = 1237.3638879467555\n"
     ]
    }
   ],
   "source": [
    "rms = mean_squared_error(y_train, prediction_values_ctb, squared=False)\n",
    "print(f'RMSE = {rms}')"
   ]
  },
  {
   "cell_type": "code",
   "execution_count": 34,
   "metadata": {
    "scrolled": true
   },
   "outputs": [
    {
     "name": "stdout",
     "output_type": "stream",
     "text": [
      "SMAPE = 9.8113%\n"
     ]
    }
   ],
   "source": [
    "ctb_smape = smape(y_train,prediction_values_ctb)\n",
    "print(f'SMAPE = {ctb_smape:g}%')"
   ]
  },
  {
   "cell_type": "code",
   "execution_count": 35,
   "metadata": {},
   "outputs": [],
   "source": [
    "new_row = {'model': ' CatBoost','RMSE': int(rms),'SMAPE':int(ctb_smape)}\n",
    "models = models.append(new_row, ignore_index=True)"
   ]
  },
  {
   "cell_type": "markdown",
   "metadata": {},
   "source": [
    "Вывод: Градиентный бустинг с помощью библиотеки CatBoost работает сильно лучше линейной регрессии, судя по метрике RMSE."
   ]
  },
  {
   "cell_type": "markdown",
   "metadata": {},
   "source": [
    "Теперь попробуем другие библиотеки градиентного бустинга"
   ]
  },
  {
   "cell_type": "markdown",
   "metadata": {},
   "source": [
    "### LightGBM"
   ]
  },
  {
   "cell_type": "code",
   "execution_count": 36,
   "metadata": {},
   "outputs": [],
   "source": [
    "X_train['postalcode'] = X_train['postalcode'].astype('int')\n",
    "X_test['postalcode'] = X_test['postalcode'].astype('int')\n",
    "\n",
    "clf = ltb.LGBMRegressor(metric = 'RMSE',learning_rate = 0.5,\n",
    "                        verbosity = -1,random_state = 42)\n",
    "\n",
    "params = {\"n_estimators\": [100,150],\n",
    "          \"max_depth\": [5,8]}"
   ]
  },
  {
   "cell_type": "code",
   "execution_count": 37,
   "metadata": {
    "scrolled": true
   },
   "outputs": [
    {
     "name": "stdout",
     "output_type": "stream",
     "text": [
      "{'max_depth': 8, 'n_estimators': 150}\n"
     ]
    }
   ],
   "source": [
    "best_clf_lgt,best_param = GridSearch(clf,params,X_train,y_train)\n",
    "print(best_param)"
   ]
  },
  {
   "cell_type": "code",
   "execution_count": 38,
   "metadata": {
    "scrolled": false
   },
   "outputs": [],
   "source": [
    "prediction_values_lgt= best_clf_lgt.predict(X_train)"
   ]
  },
  {
   "cell_type": "code",
   "execution_count": 39,
   "metadata": {},
   "outputs": [
    {
     "name": "stdout",
     "output_type": "stream",
     "text": [
      "RMSE = 1217.6760924888933\n"
     ]
    }
   ],
   "source": [
    "rms = mean_squared_error(y_train, prediction_values_lgt, squared=False)\n",
    "print(f'RMSE = {rms}')"
   ]
  },
  {
   "cell_type": "code",
   "execution_count": 40,
   "metadata": {
    "scrolled": true
   },
   "outputs": [
    {
     "name": "stdout",
     "output_type": "stream",
     "text": [
      "SMAPE = 12.4503%\n"
     ]
    }
   ],
   "source": [
    "lgt_smape = smape(y_train,prediction_values_lgt)\n",
    "print(f'SMAPE = {lgt_smape:g}%')"
   ]
  },
  {
   "cell_type": "code",
   "execution_count": 41,
   "metadata": {},
   "outputs": [],
   "source": [
    "new_row = {'model': ' LightGBM','RMSE': int(rms),'SMAPE':int(lgt_smape),}\n",
    "models = models.append(new_row, ignore_index=True)"
   ]
  },
  {
   "cell_type": "markdown",
   "metadata": {},
   "source": [
    "Вывод: библиотека LightGBM чуть лучше чем СatBoost по метрике RMSE, а вот SMAPE почему-то хуже, но она нас не так интересует."
   ]
  },
  {
   "cell_type": "markdown",
   "metadata": {},
   "source": [
    "### XGBoost"
   ]
  },
  {
   "cell_type": "code",
   "execution_count": 42,
   "metadata": {},
   "outputs": [],
   "source": [
    "clf = xg.XGBRegressor(objective ='reg:squarederror', seed = 42,\n",
    "                  eval_metric='rmse', learning_rate= 0.5)\n",
    "\n",
    "\n",
    "params = {\"n_estimators\": [100,150],\n",
    "          \"max_depth\": [5,8]}"
   ]
  },
  {
   "cell_type": "code",
   "execution_count": 43,
   "metadata": {},
   "outputs": [
    {
     "name": "stdout",
     "output_type": "stream",
     "text": [
      "{'max_depth': 5, 'n_estimators': 150}\n"
     ]
    }
   ],
   "source": [
    "best_clf1,best_param = GridSearch(clf,params,X_train,y_train)\n",
    "print(best_param)"
   ]
  },
  {
   "cell_type": "code",
   "execution_count": 44,
   "metadata": {
    "scrolled": true
   },
   "outputs": [],
   "source": [
    "prediction_values_xgb= best_clf1.predict(X_train)"
   ]
  },
  {
   "cell_type": "code",
   "execution_count": 45,
   "metadata": {},
   "outputs": [
    {
     "name": "stdout",
     "output_type": "stream",
     "text": [
      "RMSE = 1249.7040846221437\n"
     ]
    }
   ],
   "source": [
    "rms = mean_squared_error(y_train, prediction_values_xgb, squared=False)\n",
    "print(f'RMSE = {rms}')"
   ]
  },
  {
   "cell_type": "code",
   "execution_count": 46,
   "metadata": {},
   "outputs": [
    {
     "name": "stdout",
     "output_type": "stream",
     "text": [
      "SMAPE = 12.5996%\n"
     ]
    }
   ],
   "source": [
    "xgb_smape = smape(y_train,prediction_values_xgb)\n",
    "print(f'SMAPE = {xgb_smape:g}%')"
   ]
  },
  {
   "cell_type": "code",
   "execution_count": 47,
   "metadata": {},
   "outputs": [],
   "source": [
    "new_row = {'model': ' XGBoost','RMSE': int(rms),'SMAPE':int(xgb_smape)}\n",
    "models = models.append(new_row, ignore_index=True)"
   ]
  },
  {
   "cell_type": "markdown",
   "metadata": {},
   "source": [
    "Вывод: XGBoost хуже и LightGBM и CatBoost."
   ]
  },
  {
   "cell_type": "markdown",
   "metadata": {},
   "source": [
    "## Анализ моделей"
   ]
  },
  {
   "cell_type": "markdown",
   "metadata": {},
   "source": [
    "Проведём проверку на адекватность"
   ]
  },
  {
   "cell_type": "code",
   "execution_count": 48,
   "metadata": {},
   "outputs": [],
   "source": [
    "dummy_regr = DummyRegressor(strategy=\"mean\")"
   ]
  },
  {
   "cell_type": "code",
   "execution_count": 49,
   "metadata": {
    "scrolled": true
   },
   "outputs": [
    {
     "data": {
      "text/plain": [
       "DummyRegressor()"
      ]
     },
     "execution_count": 49,
     "metadata": {},
     "output_type": "execute_result"
    }
   ],
   "source": [
    "dummy_regr.fit(X_train, y_train)"
   ]
  },
  {
   "cell_type": "code",
   "execution_count": 50,
   "metadata": {
    "scrolled": true
   },
   "outputs": [],
   "source": [
    "prediction_values_dum = dummy_regr.predict(X_train)"
   ]
  },
  {
   "cell_type": "code",
   "execution_count": 51,
   "metadata": {},
   "outputs": [
    {
     "name": "stdout",
     "output_type": "stream",
     "text": [
      "3393.8846003295325\n"
     ]
    }
   ],
   "source": [
    "rms = mean_squared_error(y_train, prediction_values_dum, squared=False)\n",
    "print(rms)"
   ]
  },
  {
   "cell_type": "code",
   "execution_count": 52,
   "metadata": {},
   "outputs": [
    {
     "name": "stdout",
     "output_type": "stream",
     "text": [
      "SMAPE = 28.0663%\n"
     ]
    }
   ],
   "source": [
    "dum_smape = smape(y_train,prediction_values_dum)\n",
    "print(f'SMAPE = {dum_smape:g}%')"
   ]
  },
  {
   "cell_type": "code",
   "execution_count": 53,
   "metadata": {},
   "outputs": [],
   "source": [
    "new_row = {'model': ' DummyRegressor','RMSE': int(rms),'SMAPE':int(dum_smape)}\n",
    "models = models.append(new_row, ignore_index=True)"
   ]
  },
  {
   "cell_type": "markdown",
   "metadata": {},
   "source": [
    "Вывод: Как мы видим, DummyRegressor предсказал сильно худшие значения, значит наши модели адекватны."
   ]
  },
  {
   "cell_type": "markdown",
   "metadata": {},
   "source": [
    "Отсортируем список со знчениями моделей по возрастанию"
   ]
  },
  {
   "cell_type": "code",
   "execution_count": 54,
   "metadata": {},
   "outputs": [],
   "source": [
    "models = models.sort_values(ascending = True, by = 'RMSE')"
   ]
  },
  {
   "cell_type": "code",
   "execution_count": 55,
   "metadata": {
    "scrolled": false
   },
   "outputs": [
    {
     "data": {
      "text/html": [
       "<div>\n",
       "<style scoped>\n",
       "    .dataframe tbody tr th:only-of-type {\n",
       "        vertical-align: middle;\n",
       "    }\n",
       "\n",
       "    .dataframe tbody tr th {\n",
       "        vertical-align: top;\n",
       "    }\n",
       "\n",
       "    .dataframe thead th {\n",
       "        text-align: right;\n",
       "    }\n",
       "</style>\n",
       "<table border=\"1\" class=\"dataframe\">\n",
       "  <thead>\n",
       "    <tr style=\"text-align: right;\">\n",
       "      <th></th>\n",
       "      <th>model</th>\n",
       "      <th>RMSE</th>\n",
       "      <th>SMAPE</th>\n",
       "    </tr>\n",
       "  </thead>\n",
       "  <tbody>\n",
       "    <tr>\n",
       "      <th>2</th>\n",
       "      <td>LightGBM</td>\n",
       "      <td>1217.0</td>\n",
       "      <td>12.0</td>\n",
       "    </tr>\n",
       "    <tr>\n",
       "      <th>1</th>\n",
       "      <td>CatBoost</td>\n",
       "      <td>1237.0</td>\n",
       "      <td>9.0</td>\n",
       "    </tr>\n",
       "    <tr>\n",
       "      <th>3</th>\n",
       "      <td>XGBoost</td>\n",
       "      <td>1249.0</td>\n",
       "      <td>12.0</td>\n",
       "    </tr>\n",
       "    <tr>\n",
       "      <th>0</th>\n",
       "      <td>LinearRegression</td>\n",
       "      <td>1884.0</td>\n",
       "      <td>18.0</td>\n",
       "    </tr>\n",
       "    <tr>\n",
       "      <th>4</th>\n",
       "      <td>DummyRegressor</td>\n",
       "      <td>3393.0</td>\n",
       "      <td>28.0</td>\n",
       "    </tr>\n",
       "  </tbody>\n",
       "</table>\n",
       "</div>"
      ],
      "text/plain": [
       "               model    RMSE  SMAPE\n",
       "2           LightGBM  1217.0   12.0\n",
       "1           CatBoost  1237.0    9.0\n",
       "3            XGBoost  1249.0   12.0\n",
       "0   LinearRegression  1884.0   18.0\n",
       "4     DummyRegressor  3393.0   28.0"
      ]
     },
     "execution_count": 55,
     "metadata": {},
     "output_type": "execute_result"
    }
   ],
   "source": [
    "models"
   ]
  },
  {
   "cell_type": "markdown",
   "metadata": {},
   "source": [
    "## Замер времени"
   ]
  },
  {
   "cell_type": "markdown",
   "metadata": {},
   "source": [
    "## CatBoost"
   ]
  },
  {
   "cell_type": "code",
   "execution_count": 56,
   "metadata": {},
   "outputs": [],
   "source": [
    "clf = CatBoostRegressor(loss_function= \"RMSE\",verbose=False,\n",
    "                        learning_rate = 0.5,\n",
    "                        depth = 8,\n",
    "                        iterations = 150,\n",
    "                        random_state = 42)"
   ]
  },
  {
   "cell_type": "code",
   "execution_count": 57,
   "metadata": {},
   "outputs": [],
   "source": [
    "start_time = time.time()\n",
    "clf.fit(X_train,y_train)\n",
    "learn_time =(time.time() - start_time)"
   ]
  },
  {
   "cell_type": "code",
   "execution_count": 58,
   "metadata": {},
   "outputs": [],
   "source": [
    "start_time = time.time()\n",
    "pred = clf.predict(X_train)\n",
    "pred_time =(time.time() - start_time)"
   ]
  },
  {
   "cell_type": "code",
   "execution_count": 59,
   "metadata": {},
   "outputs": [],
   "source": [
    "new_time = {'model': ' CatBoost',\n",
    "            'learn_time': round(learn_time,2),'predict_time':round(pred_time,2)}\n",
    "times = times.append(new_time, ignore_index=True)"
   ]
  },
  {
   "cell_type": "markdown",
   "metadata": {},
   "source": [
    "## LightGBM"
   ]
  },
  {
   "cell_type": "code",
   "execution_count": 60,
   "metadata": {},
   "outputs": [],
   "source": [
    "clf = ltb.LGBMRegressor(metric = 'RMSE',\n",
    "                        n_estimators = 150,\n",
    "                        max_depth = 8,\n",
    "                        learning_rate = 0.5,\n",
    "                        verbosity = -1,\n",
    "                        random_state = 42)"
   ]
  },
  {
   "cell_type": "code",
   "execution_count": 61,
   "metadata": {},
   "outputs": [],
   "source": [
    "start_time = time.time()\n",
    "clf.fit(X_train,y_train)\n",
    "learn_time =(time.time() - start_time)"
   ]
  },
  {
   "cell_type": "code",
   "execution_count": 62,
   "metadata": {},
   "outputs": [],
   "source": [
    "start_time = time.time()\n",
    "pred = clf.predict(X_train)\n",
    "pred_time =(time.time() - start_time)"
   ]
  },
  {
   "cell_type": "code",
   "execution_count": 63,
   "metadata": {},
   "outputs": [],
   "source": [
    "new_time = {'model': ' LightGBM',\n",
    "            'learn_time': round(learn_time,2),'predict_time':round(pred_time,2)}\n",
    "times = times.append(new_time, ignore_index=True)"
   ]
  },
  {
   "cell_type": "markdown",
   "metadata": {},
   "source": [
    "## XGBoost"
   ]
  },
  {
   "cell_type": "code",
   "execution_count": 64,
   "metadata": {},
   "outputs": [],
   "source": [
    "clf = xg.XGBRegressor(objective ='reg:squarederror',\n",
    "                      n_estimators = 150,\n",
    "                      max_depth = 8,\n",
    "                      seed = 42,\n",
    "                      eval_metric='rmse',\n",
    "                      learning_rate= 0.5)"
   ]
  },
  {
   "cell_type": "code",
   "execution_count": 65,
   "metadata": {},
   "outputs": [],
   "source": [
    "start_time = time.time()\n",
    "clf.fit(X_train,y_train)\n",
    "learn_time =(time.time() - start_time)"
   ]
  },
  {
   "cell_type": "code",
   "execution_count": 66,
   "metadata": {},
   "outputs": [],
   "source": [
    "start_time = time.time()\n",
    "pred = clf.predict(X_train)\n",
    "pred_time =(time.time() - start_time)"
   ]
  },
  {
   "cell_type": "code",
   "execution_count": 67,
   "metadata": {},
   "outputs": [],
   "source": [
    "new_time = {'model': ' XGBoost',\n",
    "            'learn_time': round(learn_time,2),'predict_time':round(pred_time,2)}\n",
    "times = times.append(new_time, ignore_index=True)"
   ]
  },
  {
   "cell_type": "code",
   "execution_count": 68,
   "metadata": {
    "scrolled": false
   },
   "outputs": [
    {
     "data": {
      "text/html": [
       "<div>\n",
       "<style scoped>\n",
       "    .dataframe tbody tr th:only-of-type {\n",
       "        vertical-align: middle;\n",
       "    }\n",
       "\n",
       "    .dataframe tbody tr th {\n",
       "        vertical-align: top;\n",
       "    }\n",
       "\n",
       "    .dataframe thead th {\n",
       "        text-align: right;\n",
       "    }\n",
       "</style>\n",
       "<table border=\"1\" class=\"dataframe\">\n",
       "  <thead>\n",
       "    <tr style=\"text-align: right;\">\n",
       "      <th></th>\n",
       "      <th>model</th>\n",
       "      <th>learn_time</th>\n",
       "      <th>predict_time</th>\n",
       "    </tr>\n",
       "  </thead>\n",
       "  <tbody>\n",
       "    <tr>\n",
       "      <th>0</th>\n",
       "      <td>LinearRegression</td>\n",
       "      <td>3.84</td>\n",
       "      <td>0.64</td>\n",
       "    </tr>\n",
       "    <tr>\n",
       "      <th>1</th>\n",
       "      <td>CatBoost</td>\n",
       "      <td>2.13</td>\n",
       "      <td>0.02</td>\n",
       "    </tr>\n",
       "    <tr>\n",
       "      <th>2</th>\n",
       "      <td>LightGBM</td>\n",
       "      <td>0.52</td>\n",
       "      <td>0.21</td>\n",
       "    </tr>\n",
       "    <tr>\n",
       "      <th>3</th>\n",
       "      <td>XGBoost</td>\n",
       "      <td>5.45</td>\n",
       "      <td>0.14</td>\n",
       "    </tr>\n",
       "  </tbody>\n",
       "</table>\n",
       "</div>"
      ],
      "text/plain": [
       "               model  learn_time  predict_time\n",
       "0   LinearRegression        3.84          0.64\n",
       "1           CatBoost        2.13          0.02\n",
       "2           LightGBM        0.52          0.21\n",
       "3            XGBoost        5.45          0.14"
      ]
     },
     "execution_count": 68,
     "metadata": {},
     "output_type": "execute_result"
    }
   ],
   "source": [
    "times"
   ]
  },
  {
   "cell_type": "code",
   "execution_count": 69,
   "metadata": {},
   "outputs": [
    {
     "data": {
      "text/html": [
       "<div>\n",
       "<style scoped>\n",
       "    .dataframe tbody tr th:only-of-type {\n",
       "        vertical-align: middle;\n",
       "    }\n",
       "\n",
       "    .dataframe tbody tr th {\n",
       "        vertical-align: top;\n",
       "    }\n",
       "\n",
       "    .dataframe thead th {\n",
       "        text-align: right;\n",
       "    }\n",
       "</style>\n",
       "<table border=\"1\" class=\"dataframe\">\n",
       "  <thead>\n",
       "    <tr style=\"text-align: right;\">\n",
       "      <th></th>\n",
       "      <th>model</th>\n",
       "      <th>RMSE</th>\n",
       "      <th>SMAPE</th>\n",
       "    </tr>\n",
       "  </thead>\n",
       "  <tbody>\n",
       "    <tr>\n",
       "      <th>2</th>\n",
       "      <td>LightGBM</td>\n",
       "      <td>1217.0</td>\n",
       "      <td>12.0</td>\n",
       "    </tr>\n",
       "    <tr>\n",
       "      <th>1</th>\n",
       "      <td>CatBoost</td>\n",
       "      <td>1237.0</td>\n",
       "      <td>9.0</td>\n",
       "    </tr>\n",
       "    <tr>\n",
       "      <th>3</th>\n",
       "      <td>XGBoost</td>\n",
       "      <td>1249.0</td>\n",
       "      <td>12.0</td>\n",
       "    </tr>\n",
       "    <tr>\n",
       "      <th>0</th>\n",
       "      <td>LinearRegression</td>\n",
       "      <td>1884.0</td>\n",
       "      <td>18.0</td>\n",
       "    </tr>\n",
       "    <tr>\n",
       "      <th>4</th>\n",
       "      <td>DummyRegressor</td>\n",
       "      <td>3393.0</td>\n",
       "      <td>28.0</td>\n",
       "    </tr>\n",
       "  </tbody>\n",
       "</table>\n",
       "</div>"
      ],
      "text/plain": [
       "               model    RMSE  SMAPE\n",
       "2           LightGBM  1217.0   12.0\n",
       "1           CatBoost  1237.0    9.0\n",
       "3            XGBoost  1249.0   12.0\n",
       "0   LinearRegression  1884.0   18.0\n",
       "4     DummyRegressor  3393.0   28.0"
      ]
     },
     "execution_count": 69,
     "metadata": {},
     "output_type": "execute_result"
    }
   ],
   "source": [
    "models"
   ]
  },
  {
   "cell_type": "code",
   "execution_count": 70,
   "metadata": {},
   "outputs": [
    {
     "data": {
      "text/html": [
       "<div>\n",
       "<style scoped>\n",
       "    .dataframe tbody tr th:only-of-type {\n",
       "        vertical-align: middle;\n",
       "    }\n",
       "\n",
       "    .dataframe tbody tr th {\n",
       "        vertical-align: top;\n",
       "    }\n",
       "\n",
       "    .dataframe thead th {\n",
       "        text-align: right;\n",
       "    }\n",
       "</style>\n",
       "<table border=\"1\" class=\"dataframe\">\n",
       "  <thead>\n",
       "    <tr style=\"text-align: right;\">\n",
       "      <th></th>\n",
       "      <th>model</th>\n",
       "      <th>RMSE</th>\n",
       "      <th>SMAPE</th>\n",
       "      <th>learn_time</th>\n",
       "      <th>predict_time</th>\n",
       "    </tr>\n",
       "  </thead>\n",
       "  <tbody>\n",
       "    <tr>\n",
       "      <th>0</th>\n",
       "      <td>LightGBM</td>\n",
       "      <td>1217.0</td>\n",
       "      <td>12.0</td>\n",
       "      <td>0.52</td>\n",
       "      <td>0.21</td>\n",
       "    </tr>\n",
       "    <tr>\n",
       "      <th>1</th>\n",
       "      <td>CatBoost</td>\n",
       "      <td>1237.0</td>\n",
       "      <td>9.0</td>\n",
       "      <td>2.13</td>\n",
       "      <td>0.02</td>\n",
       "    </tr>\n",
       "    <tr>\n",
       "      <th>2</th>\n",
       "      <td>XGBoost</td>\n",
       "      <td>1249.0</td>\n",
       "      <td>12.0</td>\n",
       "      <td>5.45</td>\n",
       "      <td>0.14</td>\n",
       "    </tr>\n",
       "    <tr>\n",
       "      <th>3</th>\n",
       "      <td>LinearRegression</td>\n",
       "      <td>1884.0</td>\n",
       "      <td>18.0</td>\n",
       "      <td>3.84</td>\n",
       "      <td>0.64</td>\n",
       "    </tr>\n",
       "  </tbody>\n",
       "</table>\n",
       "</div>"
      ],
      "text/plain": [
       "               model    RMSE  SMAPE  learn_time  predict_time\n",
       "0           LightGBM  1217.0   12.0        0.52          0.21\n",
       "1           CatBoost  1237.0    9.0        2.13          0.02\n",
       "2            XGBoost  1249.0   12.0        5.45          0.14\n",
       "3   LinearRegression  1884.0   18.0        3.84          0.64"
      ]
     },
     "execution_count": 70,
     "metadata": {},
     "output_type": "execute_result"
    }
   ],
   "source": [
    "models.merge(times,on='model',how='inner')"
   ]
  },
  {
   "cell_type": "markdown",
   "metadata": {},
   "source": [
    "## Тестирование модели"
   ]
  },
  {
   "cell_type": "code",
   "execution_count": 71,
   "metadata": {},
   "outputs": [],
   "source": [
    "prediction_values_lgt_test = best_clf_lgt.predict(X_test)"
   ]
  },
  {
   "cell_type": "code",
   "execution_count": 72,
   "metadata": {},
   "outputs": [
    {
     "name": "stdout",
     "output_type": "stream",
     "text": [
      "RMSE = 1366.1916809520408\n"
     ]
    }
   ],
   "source": [
    "rms = mean_squared_error(y_test, prediction_values_lgt_test, squared=False)\n",
    "print(f'RMSE = {rms}')"
   ]
  },
  {
   "cell_type": "markdown",
   "metadata": {},
   "source": [
    "## Общий вывод"
   ]
  },
  {
   "cell_type": "markdown",
   "metadata": {},
   "source": [
    "Подводя итоги, можно сказать что в данном случае LightGBM выиграл у всех моделей. Он самый быстрообучаемый и самый точный, однако скорость предсказания у него ниже чем у CatBoost'a. XGBoost очень долго обучается, но предсказывает точнее всех и по скорости на втором месте после CatBoost'a. Про линейную регрессию говорить нечего, она тут сильно проиграла. В общем, можно сказать что все 3 библиотеки реализации градиентного бустинга хороши в своём. Если нужен максимально точный прогноз и неважно затраченое на это время, то стоит выбрать XGBoost, если необходима большая скорость обучения и не важна скорость предсказания, то это LightGBM, если же необходимо средняя скорость обучения, но очень высокая скорость предсказания это CatBoost. В зависимости от задачи каждая из этих библиотек сможет помочь."
   ]
  }
 ],
 "metadata": {
  "ExecuteTimeLog": [
   {
    "duration": 766,
    "start_time": "2022-09-22T07:26:33.207Z"
   },
   {
    "duration": 1256,
    "start_time": "2022-09-22T07:26:54.869Z"
   },
   {
    "duration": 18,
    "start_time": "2022-09-22T07:27:04.447Z"
   },
   {
    "duration": 13,
    "start_time": "2022-09-22T07:27:08.157Z"
   },
   {
    "duration": 132,
    "start_time": "2022-09-22T07:27:21.627Z"
   },
   {
    "duration": 7,
    "start_time": "2022-09-22T07:28:42.515Z"
   },
   {
    "duration": 98,
    "start_time": "2022-09-22T07:28:44.517Z"
   },
   {
    "duration": 8,
    "start_time": "2022-09-22T07:28:46.166Z"
   },
   {
    "duration": 123,
    "start_time": "2022-09-22T07:28:50.223Z"
   },
   {
    "duration": 4,
    "start_time": "2022-09-22T07:28:51.869Z"
   },
   {
    "duration": 4,
    "start_time": "2022-09-22T07:30:16.427Z"
   },
   {
    "duration": 111,
    "start_time": "2022-09-22T07:30:24.729Z"
   },
   {
    "duration": 827,
    "start_time": "2022-09-22T07:31:19.009Z"
   },
   {
    "duration": 99,
    "start_time": "2022-09-22T07:31:19.838Z"
   },
   {
    "duration": 957,
    "start_time": "2022-09-22T07:31:43.934Z"
   },
   {
    "duration": 107,
    "start_time": "2022-09-22T07:31:45.187Z"
   },
   {
    "duration": 4,
    "start_time": "2022-09-22T07:31:59.161Z"
   },
   {
    "duration": 5,
    "start_time": "2022-09-22T07:32:46.671Z"
   },
   {
    "duration": 1079,
    "start_time": "2022-09-22T07:33:16.447Z"
   },
   {
    "duration": 1047,
    "start_time": "2022-09-22T07:33:21.764Z"
   },
   {
    "duration": 7,
    "start_time": "2022-09-22T07:33:28.446Z"
   },
   {
    "duration": 10,
    "start_time": "2022-09-22T07:33:34.171Z"
   },
   {
    "duration": 14,
    "start_time": "2022-09-22T07:33:35.793Z"
   },
   {
    "duration": 5,
    "start_time": "2022-09-22T07:33:41.348Z"
   },
   {
    "duration": 5,
    "start_time": "2022-09-22T07:33:47.473Z"
   },
   {
    "duration": 14,
    "start_time": "2022-09-22T07:34:03.374Z"
   },
   {
    "duration": 19,
    "start_time": "2022-09-22T07:34:16.537Z"
   },
   {
    "duration": 14,
    "start_time": "2022-09-22T07:34:18.139Z"
   },
   {
    "duration": 14,
    "start_time": "2022-09-22T07:34:23.554Z"
   },
   {
    "duration": 22,
    "start_time": "2022-09-22T07:34:36.522Z"
   },
   {
    "duration": 25,
    "start_time": "2022-09-22T07:34:39.924Z"
   },
   {
    "duration": 9,
    "start_time": "2022-09-22T07:35:14.062Z"
   },
   {
    "duration": 8,
    "start_time": "2022-09-22T07:35:16.189Z"
   },
   {
    "duration": 13,
    "start_time": "2022-09-22T07:36:12.264Z"
   },
   {
    "duration": 106,
    "start_time": "2022-09-22T07:36:54.507Z"
   },
   {
    "duration": 15,
    "start_time": "2022-09-22T07:37:01.773Z"
   },
   {
    "duration": 899,
    "start_time": "2022-09-22T07:38:18.791Z"
   },
   {
    "duration": 1038,
    "start_time": "2022-09-22T07:38:57.252Z"
   },
   {
    "duration": 1164,
    "start_time": "2022-09-22T07:39:09.937Z"
   },
   {
    "duration": 1115,
    "start_time": "2022-09-22T07:39:24.342Z"
   },
   {
    "duration": 5,
    "start_time": "2022-09-22T07:39:32.915Z"
   },
   {
    "duration": 21,
    "start_time": "2022-09-22T07:39:40.410Z"
   },
   {
    "duration": 42,
    "start_time": "2022-09-22T07:39:53.626Z"
   },
   {
    "duration": 92,
    "start_time": "2022-09-22T07:39:55.926Z"
   },
   {
    "duration": 112,
    "start_time": "2022-09-22T07:40:04.163Z"
   },
   {
    "duration": 66,
    "start_time": "2022-09-22T07:42:41.755Z"
   },
   {
    "duration": 51,
    "start_time": "2022-09-22T07:42:51.017Z"
   },
   {
    "duration": 72,
    "start_time": "2022-09-22T07:43:05.212Z"
   },
   {
    "duration": 116,
    "start_time": "2022-09-22T07:43:14.415Z"
   },
   {
    "duration": 92,
    "start_time": "2022-09-22T07:43:18.825Z"
   },
   {
    "duration": 51,
    "start_time": "2022-09-22T07:43:53.643Z"
   },
   {
    "duration": 93,
    "start_time": "2022-09-22T07:44:14.896Z"
   },
   {
    "duration": 3,
    "start_time": "2022-09-22T07:44:51.169Z"
   },
   {
    "duration": 3,
    "start_time": "2022-09-22T07:45:07.489Z"
   },
   {
    "duration": 8,
    "start_time": "2022-09-22T07:45:14.725Z"
   },
   {
    "duration": 102,
    "start_time": "2022-09-22T07:45:19.367Z"
   },
   {
    "duration": 114,
    "start_time": "2022-09-22T07:45:25.100Z"
   },
   {
    "duration": 92,
    "start_time": "2022-09-22T07:45:53.092Z"
   },
   {
    "duration": 90,
    "start_time": "2022-09-22T07:45:57.563Z"
   },
   {
    "duration": 101,
    "start_time": "2022-09-22T07:46:02.315Z"
   },
   {
    "duration": 12,
    "start_time": "2022-09-22T07:46:51.063Z"
   },
   {
    "duration": 882,
    "start_time": "2022-09-22T07:47:12.590Z"
   },
   {
    "duration": 93,
    "start_time": "2022-09-22T07:47:13.840Z"
   },
   {
    "duration": 13,
    "start_time": "2022-09-22T07:47:15.829Z"
   },
   {
    "duration": 88,
    "start_time": "2022-09-22T07:47:16.263Z"
   },
   {
    "duration": 18,
    "start_time": "2022-09-22T07:52:29.312Z"
   },
   {
    "duration": 17,
    "start_time": "2022-09-22T07:52:45.066Z"
   },
   {
    "duration": 245,
    "start_time": "2022-09-22T07:55:56.587Z"
   },
   {
    "duration": 20,
    "start_time": "2022-09-22T07:56:08.994Z"
   },
   {
    "duration": 6,
    "start_time": "2022-09-22T07:56:42.903Z"
   },
   {
    "duration": 204,
    "start_time": "2022-09-22T07:56:44.390Z"
   },
   {
    "duration": 2,
    "start_time": "2022-09-22T07:58:13.686Z"
   },
   {
    "duration": 860,
    "start_time": "2022-09-22T07:58:13.816Z"
   },
   {
    "duration": 97,
    "start_time": "2022-09-22T07:58:14.679Z"
   },
   {
    "duration": 2,
    "start_time": "2022-09-22T07:58:14.778Z"
   },
   {
    "duration": 96,
    "start_time": "2022-09-22T07:58:14.782Z"
   },
   {
    "duration": 1023,
    "start_time": "2022-09-22T07:58:14.879Z"
   },
   {
    "duration": 14,
    "start_time": "2022-09-22T07:59:05.221Z"
   },
   {
    "duration": 70,
    "start_time": "2022-09-22T08:00:01.071Z"
   },
   {
    "duration": 98,
    "start_time": "2022-09-22T08:00:39.145Z"
   },
   {
    "duration": 3,
    "start_time": "2022-09-22T08:00:46.862Z"
   },
   {
    "duration": 77,
    "start_time": "2022-09-22T08:01:23.721Z"
   },
   {
    "duration": 91,
    "start_time": "2022-09-22T08:01:31.132Z"
   },
   {
    "duration": 99,
    "start_time": "2022-09-22T08:01:51.918Z"
   },
   {
    "duration": 88,
    "start_time": "2022-09-22T08:01:52.236Z"
   },
   {
    "duration": 29,
    "start_time": "2022-09-22T08:06:16.724Z"
   },
   {
    "duration": 25,
    "start_time": "2022-09-22T08:06:36.349Z"
   },
   {
    "duration": 36,
    "start_time": "2022-09-22T08:07:14.113Z"
   },
   {
    "duration": 924,
    "start_time": "2022-09-22T08:07:38.769Z"
   },
   {
    "duration": 149,
    "start_time": "2022-09-22T08:07:43.087Z"
   },
   {
    "duration": 84,
    "start_time": "2022-09-22T08:08:37.987Z"
   },
   {
    "duration": 46,
    "start_time": "2022-09-22T08:08:57.785Z"
   },
   {
    "duration": 5105,
    "start_time": "2022-09-22T08:10:06.119Z"
   },
   {
    "duration": 59,
    "start_time": "2022-09-22T08:11:07.366Z"
   },
   {
    "duration": 164,
    "start_time": "2022-09-22T08:27:11.353Z"
   },
   {
    "duration": 3,
    "start_time": "2022-09-22T08:27:35.093Z"
   },
   {
    "duration": 816,
    "start_time": "2022-09-22T08:27:35.812Z"
   },
   {
    "duration": 97,
    "start_time": "2022-09-22T08:27:36.629Z"
   },
   {
    "duration": 2,
    "start_time": "2022-09-22T08:27:36.728Z"
   },
   {
    "duration": 13,
    "start_time": "2022-09-22T08:27:36.822Z"
   },
   {
    "duration": 96,
    "start_time": "2022-09-22T08:27:37.350Z"
   },
   {
    "duration": 106,
    "start_time": "2022-09-22T08:27:38.254Z"
   },
   {
    "duration": 1993,
    "start_time": "2022-09-22T08:27:38.720Z"
   },
   {
    "duration": 4,
    "start_time": "2022-09-22T08:31:55.618Z"
   },
   {
    "duration": 879,
    "start_time": "2022-09-22T08:31:55.746Z"
   },
   {
    "duration": 90,
    "start_time": "2022-09-22T08:31:56.627Z"
   },
   {
    "duration": 3,
    "start_time": "2022-09-22T08:31:56.719Z"
   },
   {
    "duration": 14,
    "start_time": "2022-09-22T08:31:56.723Z"
   },
   {
    "duration": 95,
    "start_time": "2022-09-22T08:31:56.739Z"
   },
   {
    "duration": 107,
    "start_time": "2022-09-22T08:31:56.835Z"
   },
   {
    "duration": 210,
    "start_time": "2022-09-22T08:32:34.515Z"
   },
   {
    "duration": 10,
    "start_time": "2022-09-22T08:33:11.942Z"
   },
   {
    "duration": 11,
    "start_time": "2022-09-22T08:33:24.115Z"
   },
   {
    "duration": 5,
    "start_time": "2022-09-22T08:33:40.132Z"
   },
   {
    "duration": 28,
    "start_time": "2022-09-22T08:33:51.314Z"
   },
   {
    "duration": 28,
    "start_time": "2022-09-22T08:34:01.769Z"
   },
   {
    "duration": 27,
    "start_time": "2022-09-22T08:34:16.235Z"
   },
   {
    "duration": 5,
    "start_time": "2022-09-22T08:34:21.811Z"
   },
   {
    "duration": 10,
    "start_time": "2022-09-22T08:34:24.531Z"
   },
   {
    "duration": 8,
    "start_time": "2022-09-22T08:34:26.867Z"
   },
   {
    "duration": 142,
    "start_time": "2022-09-22T08:34:29.937Z"
   },
   {
    "duration": 232,
    "start_time": "2022-09-22T08:35:01.527Z"
   },
   {
    "duration": 25,
    "start_time": "2022-09-22T08:35:51.927Z"
   },
   {
    "duration": 203,
    "start_time": "2022-09-22T08:35:54.706Z"
   },
   {
    "duration": 9,
    "start_time": "2022-09-22T08:37:58.056Z"
   },
   {
    "duration": 39,
    "start_time": "2022-09-22T08:38:13.537Z"
   },
   {
    "duration": 28,
    "start_time": "2022-09-22T08:38:29.268Z"
   },
   {
    "duration": 30,
    "start_time": "2022-09-22T08:38:36.505Z"
   },
   {
    "duration": 32,
    "start_time": "2022-09-22T08:38:40.816Z"
   },
   {
    "duration": 29,
    "start_time": "2022-09-22T08:38:49.053Z"
   },
   {
    "duration": 30,
    "start_time": "2022-09-22T08:39:05.880Z"
   },
   {
    "duration": 30,
    "start_time": "2022-09-22T08:39:31.011Z"
   },
   {
    "duration": 28,
    "start_time": "2022-09-22T08:39:36.347Z"
   },
   {
    "duration": 5,
    "start_time": "2022-09-22T08:39:51.469Z"
   },
   {
    "duration": 32,
    "start_time": "2022-09-22T08:40:07.184Z"
   },
   {
    "duration": 7,
    "start_time": "2022-09-22T08:40:11.012Z"
   },
   {
    "duration": 149,
    "start_time": "2022-09-22T08:40:23.366Z"
   },
   {
    "duration": 10,
    "start_time": "2022-09-22T08:40:29.973Z"
   },
   {
    "duration": 8,
    "start_time": "2022-09-22T08:41:01.353Z"
   },
   {
    "duration": 11,
    "start_time": "2022-09-22T08:41:12.003Z"
   },
   {
    "duration": 13,
    "start_time": "2022-09-22T08:41:17.167Z"
   },
   {
    "duration": 9,
    "start_time": "2022-09-22T08:41:21.254Z"
   },
   {
    "duration": 13,
    "start_time": "2022-09-22T08:41:24.697Z"
   },
   {
    "duration": 814,
    "start_time": "2022-09-22T08:43:45.899Z"
   },
   {
    "duration": 149,
    "start_time": "2022-09-22T08:43:59.378Z"
   },
   {
    "duration": 135,
    "start_time": "2022-09-22T08:49:46.331Z"
   },
   {
    "duration": 132,
    "start_time": "2022-09-22T08:49:51.738Z"
   },
   {
    "duration": 7,
    "start_time": "2022-09-22T08:53:26.934Z"
   },
   {
    "duration": 13,
    "start_time": "2022-09-22T08:53:39.815Z"
   },
   {
    "duration": 14,
    "start_time": "2022-09-22T08:53:44.559Z"
   },
   {
    "duration": 168,
    "start_time": "2022-09-22T08:53:48.198Z"
   },
   {
    "duration": 156,
    "start_time": "2022-09-22T08:54:00.319Z"
   },
   {
    "duration": 157,
    "start_time": "2022-09-22T08:54:10.715Z"
   },
   {
    "duration": 252,
    "start_time": "2022-09-22T08:54:15.800Z"
   },
   {
    "duration": 154,
    "start_time": "2022-09-22T08:54:22.168Z"
   },
   {
    "duration": 153,
    "start_time": "2022-09-22T08:54:26.275Z"
   },
   {
    "duration": 2757,
    "start_time": "2022-09-22T08:55:46.966Z"
   },
   {
    "duration": 7,
    "start_time": "2022-09-22T08:55:56.128Z"
   },
   {
    "duration": 246,
    "start_time": "2022-09-22T08:56:07.978Z"
   },
   {
    "duration": 5,
    "start_time": "2022-09-22T08:56:14.652Z"
   },
   {
    "duration": 826,
    "start_time": "2022-09-22T08:56:14.816Z"
   },
   {
    "duration": 97,
    "start_time": "2022-09-22T08:56:15.644Z"
   },
   {
    "duration": 3,
    "start_time": "2022-09-22T08:56:15.743Z"
   },
   {
    "duration": 14,
    "start_time": "2022-09-22T08:56:15.748Z"
   },
   {
    "duration": 132,
    "start_time": "2022-09-22T08:56:15.763Z"
   },
   {
    "duration": 135,
    "start_time": "2022-09-22T08:56:15.897Z"
   },
   {
    "duration": 34,
    "start_time": "2022-09-22T08:56:16.035Z"
   },
   {
    "duration": 49,
    "start_time": "2022-09-22T08:56:16.071Z"
   },
   {
    "duration": 211,
    "start_time": "2022-09-22T08:56:16.442Z"
   },
   {
    "duration": 7,
    "start_time": "2022-09-22T08:56:20.940Z"
   },
   {
    "duration": 2739,
    "start_time": "2022-09-22T08:56:43.602Z"
   },
   {
    "duration": 9,
    "start_time": "2022-09-22T08:56:50.403Z"
   },
   {
    "duration": 242,
    "start_time": "2022-09-22T08:57:13.186Z"
   },
   {
    "duration": 4,
    "start_time": "2022-09-22T08:57:16.660Z"
   },
   {
    "duration": 814,
    "start_time": "2022-09-22T08:57:16.803Z"
   },
   {
    "duration": 103,
    "start_time": "2022-09-22T08:57:17.619Z"
   },
   {
    "duration": 3,
    "start_time": "2022-09-22T08:57:17.724Z"
   },
   {
    "duration": 21,
    "start_time": "2022-09-22T08:57:17.729Z"
   },
   {
    "duration": 90,
    "start_time": "2022-09-22T08:57:17.752Z"
   },
   {
    "duration": 111,
    "start_time": "2022-09-22T08:57:17.844Z"
   },
   {
    "duration": 49,
    "start_time": "2022-09-22T08:57:17.957Z"
   },
   {
    "duration": 30,
    "start_time": "2022-09-22T08:57:18.128Z"
   },
   {
    "duration": 180,
    "start_time": "2022-09-22T08:57:18.476Z"
   },
   {
    "duration": 8,
    "start_time": "2022-09-22T08:57:19.102Z"
   },
   {
    "duration": 2272,
    "start_time": "2022-09-22T08:57:46.042Z"
   },
   {
    "duration": 4,
    "start_time": "2022-09-22T08:57:49.527Z"
   },
   {
    "duration": 809,
    "start_time": "2022-09-22T08:57:49.677Z"
   },
   {
    "duration": 96,
    "start_time": "2022-09-22T08:57:50.488Z"
   },
   {
    "duration": 4,
    "start_time": "2022-09-22T08:57:50.586Z"
   },
   {
    "duration": 19,
    "start_time": "2022-09-22T08:57:50.602Z"
   },
   {
    "duration": 117,
    "start_time": "2022-09-22T08:57:50.623Z"
   },
   {
    "duration": 117,
    "start_time": "2022-09-22T08:57:50.741Z"
   },
   {
    "duration": 53,
    "start_time": "2022-09-22T08:57:50.860Z"
   },
   {
    "duration": 30,
    "start_time": "2022-09-22T08:57:50.915Z"
   },
   {
    "duration": 2204,
    "start_time": "2022-09-22T08:57:51.334Z"
   },
   {
    "duration": 6,
    "start_time": "2022-09-22T08:57:53.539Z"
   },
   {
    "duration": 6,
    "start_time": "2022-09-22T08:58:05.208Z"
   },
   {
    "duration": 798,
    "start_time": "2022-09-22T08:58:05.325Z"
   },
   {
    "duration": 93,
    "start_time": "2022-09-22T08:58:06.128Z"
   },
   {
    "duration": 6,
    "start_time": "2022-09-22T08:58:06.222Z"
   },
   {
    "duration": 17,
    "start_time": "2022-09-22T08:58:06.230Z"
   },
   {
    "duration": 96,
    "start_time": "2022-09-22T08:58:06.248Z"
   },
   {
    "duration": 125,
    "start_time": "2022-09-22T08:58:06.346Z"
   },
   {
    "duration": 49,
    "start_time": "2022-09-22T08:58:06.473Z"
   },
   {
    "duration": 35,
    "start_time": "2022-09-22T08:58:06.524Z"
   },
   {
    "duration": 245,
    "start_time": "2022-09-22T08:58:06.566Z"
   },
   {
    "duration": 6,
    "start_time": "2022-09-22T08:58:06.815Z"
   },
   {
    "duration": 95,
    "start_time": "2022-09-22T08:58:22.565Z"
   },
   {
    "duration": 75,
    "start_time": "2022-09-22T08:58:46.054Z"
   },
   {
    "duration": 204,
    "start_time": "2022-09-22T08:58:57.639Z"
   },
   {
    "duration": 6,
    "start_time": "2022-09-22T08:59:04.227Z"
   },
   {
    "duration": 892,
    "start_time": "2022-09-22T08:59:04.372Z"
   },
   {
    "duration": 98,
    "start_time": "2022-09-22T08:59:05.266Z"
   },
   {
    "duration": 3,
    "start_time": "2022-09-22T08:59:05.365Z"
   },
   {
    "duration": 26,
    "start_time": "2022-09-22T08:59:05.370Z"
   },
   {
    "duration": 158,
    "start_time": "2022-09-22T08:59:05.397Z"
   },
   {
    "duration": 109,
    "start_time": "2022-09-22T08:59:05.557Z"
   },
   {
    "duration": 52,
    "start_time": "2022-09-22T08:59:05.667Z"
   },
   {
    "duration": 34,
    "start_time": "2022-09-22T08:59:05.721Z"
   },
   {
    "duration": 197,
    "start_time": "2022-09-22T08:59:05.756Z"
   },
   {
    "duration": 104,
    "start_time": "2022-09-22T08:59:05.955Z"
   },
   {
    "duration": 11,
    "start_time": "2022-09-22T08:59:24.721Z"
   },
   {
    "duration": 125,
    "start_time": "2022-09-22T08:59:33.661Z"
   },
   {
    "duration": 199,
    "start_time": "2022-09-22T08:59:42.275Z"
   },
   {
    "duration": 223,
    "start_time": "2022-09-22T08:59:52.272Z"
   },
   {
    "duration": 4,
    "start_time": "2022-09-22T09:00:06.280Z"
   },
   {
    "duration": 842,
    "start_time": "2022-09-22T09:00:06.481Z"
   },
   {
    "duration": 83,
    "start_time": "2022-09-22T09:00:07.330Z"
   },
   {
    "duration": 3,
    "start_time": "2022-09-22T09:00:10.779Z"
   },
   {
    "duration": 18,
    "start_time": "2022-09-22T09:00:11.021Z"
   },
   {
    "duration": 92,
    "start_time": "2022-09-22T09:00:11.157Z"
   },
   {
    "duration": 108,
    "start_time": "2022-09-22T09:00:11.474Z"
   },
   {
    "duration": 36,
    "start_time": "2022-09-22T09:00:11.634Z"
   },
   {
    "duration": 43,
    "start_time": "2022-09-22T09:00:11.811Z"
   },
   {
    "duration": 213,
    "start_time": "2022-09-22T09:00:11.970Z"
   },
   {
    "duration": 6,
    "start_time": "2022-09-22T09:00:12.248Z"
   },
   {
    "duration": 215,
    "start_time": "2022-09-22T09:00:20.221Z"
   },
   {
    "duration": 7,
    "start_time": "2022-09-22T09:00:24.038Z"
   },
   {
    "duration": 49,
    "start_time": "2022-09-22T09:00:46.527Z"
   },
   {
    "duration": 38,
    "start_time": "2022-09-22T09:00:54.641Z"
   },
   {
    "duration": 3,
    "start_time": "2022-09-22T09:01:45.860Z"
   },
   {
    "duration": 806,
    "start_time": "2022-09-22T09:01:46.007Z"
   },
   {
    "duration": 91,
    "start_time": "2022-09-22T09:01:46.815Z"
   },
   {
    "duration": 11,
    "start_time": "2022-09-22T09:01:46.910Z"
   },
   {
    "duration": 18,
    "start_time": "2022-09-22T09:01:46.923Z"
   },
   {
    "duration": 90,
    "start_time": "2022-09-22T09:01:46.942Z"
   },
   {
    "duration": 104,
    "start_time": "2022-09-22T09:01:47.033Z"
   },
   {
    "duration": 35,
    "start_time": "2022-09-22T09:01:47.139Z"
   },
   {
    "duration": 33,
    "start_time": "2022-09-22T09:01:47.488Z"
   },
   {
    "duration": 212,
    "start_time": "2022-09-22T09:01:47.828Z"
   },
   {
    "duration": 85,
    "start_time": "2022-09-22T09:01:56.214Z"
   },
   {
    "duration": 3,
    "start_time": "2022-09-22T09:02:10.054Z"
   },
   {
    "duration": 765,
    "start_time": "2022-09-22T09:02:10.215Z"
   },
   {
    "duration": 102,
    "start_time": "2022-09-22T09:02:10.983Z"
   },
   {
    "duration": 3,
    "start_time": "2022-09-22T09:02:11.086Z"
   },
   {
    "duration": 23,
    "start_time": "2022-09-22T09:02:11.091Z"
   },
   {
    "duration": 93,
    "start_time": "2022-09-22T09:02:11.116Z"
   },
   {
    "duration": 112,
    "start_time": "2022-09-22T09:02:11.210Z"
   },
   {
    "duration": 37,
    "start_time": "2022-09-22T09:02:11.324Z"
   },
   {
    "duration": 35,
    "start_time": "2022-09-22T09:02:11.374Z"
   },
   {
    "duration": 199,
    "start_time": "2022-09-22T09:02:11.622Z"
   },
   {
    "duration": 89,
    "start_time": "2022-09-22T09:02:11.949Z"
   },
   {
    "duration": 6,
    "start_time": "2022-09-22T09:02:30.817Z"
   },
   {
    "duration": 80,
    "start_time": "2022-09-22T09:03:59.675Z"
   },
   {
    "duration": 50,
    "start_time": "2022-09-22T09:21:06.844Z"
   },
   {
    "duration": 3,
    "start_time": "2022-09-22T09:21:10.462Z"
   },
   {
    "duration": 148,
    "start_time": "2022-09-22T09:21:11.926Z"
   },
   {
    "duration": 154,
    "start_time": "2022-09-22T09:24:30.035Z"
   },
   {
    "duration": 179,
    "start_time": "2022-09-22T09:25:40.550Z"
   },
   {
    "duration": 181,
    "start_time": "2022-09-22T09:25:43.567Z"
   },
   {
    "duration": 162,
    "start_time": "2022-09-22T09:25:52.084Z"
   },
   {
    "duration": 134,
    "start_time": "2022-09-22T09:28:55.920Z"
   },
   {
    "duration": 187,
    "start_time": "2022-09-22T09:29:31.338Z"
   },
   {
    "duration": 10,
    "start_time": "2022-09-22T09:29:55.046Z"
   },
   {
    "duration": 173,
    "start_time": "2022-09-22T09:30:01.496Z"
   },
   {
    "duration": 1615,
    "start_time": "2022-09-22T09:33:24.021Z"
   },
   {
    "duration": 155,
    "start_time": "2022-09-22T09:33:32.837Z"
   },
   {
    "duration": 25,
    "start_time": "2022-09-22T09:37:17.625Z"
   },
   {
    "duration": 26,
    "start_time": "2022-09-22T09:37:22.926Z"
   },
   {
    "duration": 28,
    "start_time": "2022-09-22T09:37:36.447Z"
   },
   {
    "duration": 23,
    "start_time": "2022-09-22T09:37:39.053Z"
   },
   {
    "duration": 30,
    "start_time": "2022-09-22T09:38:02.508Z"
   },
   {
    "duration": 26,
    "start_time": "2022-09-22T09:38:11.828Z"
   },
   {
    "duration": 978,
    "start_time": "2022-09-22T09:40:32.057Z"
   },
   {
    "duration": 3,
    "start_time": "2022-09-22T09:40:45.170Z"
   },
   {
    "duration": 801,
    "start_time": "2022-09-22T09:40:45.467Z"
   },
   {
    "duration": 99,
    "start_time": "2022-09-22T09:40:46.270Z"
   },
   {
    "duration": 2,
    "start_time": "2022-09-22T09:40:46.371Z"
   },
   {
    "duration": 21,
    "start_time": "2022-09-22T09:40:46.375Z"
   },
   {
    "duration": 122,
    "start_time": "2022-09-22T09:40:46.401Z"
   },
   {
    "duration": 10,
    "start_time": "2022-09-22T09:40:46.526Z"
   },
   {
    "duration": 118,
    "start_time": "2022-09-22T09:40:46.690Z"
   },
   {
    "duration": 39,
    "start_time": "2022-09-22T09:40:49.223Z"
   },
   {
    "duration": 30,
    "start_time": "2022-09-22T09:40:49.524Z"
   },
   {
    "duration": 633,
    "start_time": "2022-09-22T09:40:50.064Z"
   },
   {
    "duration": 27,
    "start_time": "2022-09-22T09:40:50.704Z"
   },
   {
    "duration": 40,
    "start_time": "2022-09-22T09:41:39.234Z"
   },
   {
    "duration": 83,
    "start_time": "2022-09-22T09:41:46.631Z"
   },
   {
    "duration": 206,
    "start_time": "2022-09-22T09:41:50.546Z"
   },
   {
    "duration": 191,
    "start_time": "2022-09-22T09:42:00.049Z"
   },
   {
    "duration": 207,
    "start_time": "2022-09-22T09:42:04.681Z"
   },
   {
    "duration": 205,
    "start_time": "2022-09-22T09:45:05.655Z"
   },
   {
    "duration": 210,
    "start_time": "2022-09-22T09:45:11.265Z"
   },
   {
    "duration": 233,
    "start_time": "2022-09-22T09:45:14.541Z"
   },
   {
    "duration": 190,
    "start_time": "2022-09-22T09:46:06.739Z"
   },
   {
    "duration": 3,
    "start_time": "2022-09-22T09:46:35.841Z"
   },
   {
    "duration": 813,
    "start_time": "2022-09-22T09:46:35.990Z"
   },
   {
    "duration": 122,
    "start_time": "2022-09-22T09:46:36.805Z"
   },
   {
    "duration": 7,
    "start_time": "2022-09-22T09:46:36.929Z"
   },
   {
    "duration": 14,
    "start_time": "2022-09-22T09:46:36.937Z"
   },
   {
    "duration": 100,
    "start_time": "2022-09-22T09:46:36.952Z"
   },
   {
    "duration": 10,
    "start_time": "2022-09-22T09:46:37.054Z"
   },
   {
    "duration": 131,
    "start_time": "2022-09-22T09:46:37.065Z"
   },
   {
    "duration": 42,
    "start_time": "2022-09-22T09:46:37.198Z"
   },
   {
    "duration": 29,
    "start_time": "2022-09-22T09:46:37.451Z"
   },
   {
    "duration": 175,
    "start_time": "2022-09-22T09:46:37.725Z"
   },
   {
    "duration": 235,
    "start_time": "2022-09-22T09:46:38.126Z"
   },
   {
    "duration": 198,
    "start_time": "2022-09-22T09:56:10.169Z"
   },
   {
    "duration": 170,
    "start_time": "2022-09-22T10:03:31.557Z"
   },
   {
    "duration": 1637,
    "start_time": "2022-09-22T10:04:56.349Z"
   },
   {
    "duration": 2275,
    "start_time": "2022-09-22T10:05:22.545Z"
   },
   {
    "duration": 39,
    "start_time": "2022-09-22T10:05:34.215Z"
   },
   {
    "duration": 20,
    "start_time": "2022-09-22T10:05:40.880Z"
   },
   {
    "duration": 31,
    "start_time": "2022-09-22T10:05:52.463Z"
   },
   {
    "duration": 7,
    "start_time": "2022-09-22T10:05:57.618Z"
   },
   {
    "duration": 839,
    "start_time": "2022-09-22T10:05:57.830Z"
   },
   {
    "duration": 106,
    "start_time": "2022-09-22T10:05:58.672Z"
   },
   {
    "duration": 4,
    "start_time": "2022-09-22T10:05:58.779Z"
   },
   {
    "duration": 13,
    "start_time": "2022-09-22T10:06:01.742Z"
   },
   {
    "duration": 100,
    "start_time": "2022-09-22T10:06:03.162Z"
   },
   {
    "duration": 10,
    "start_time": "2022-09-22T10:06:03.630Z"
   },
   {
    "duration": 142,
    "start_time": "2022-09-22T10:06:04.157Z"
   },
   {
    "duration": 35,
    "start_time": "2022-09-22T10:06:06.556Z"
   },
   {
    "duration": 28,
    "start_time": "2022-09-22T10:06:07.129Z"
   },
   {
    "duration": 199,
    "start_time": "2022-09-22T10:06:07.585Z"
   },
   {
    "duration": 234,
    "start_time": "2022-09-22T10:06:08.162Z"
   },
   {
    "duration": 39,
    "start_time": "2022-09-22T10:06:09.054Z"
   },
   {
    "duration": 59,
    "start_time": "2022-09-22T10:06:12.886Z"
   },
   {
    "duration": 17,
    "start_time": "2022-09-22T10:06:22.180Z"
   },
   {
    "duration": 4,
    "start_time": "2022-09-22T10:06:41.425Z"
   },
   {
    "duration": 841,
    "start_time": "2022-09-22T10:06:41.862Z"
   },
   {
    "duration": 94,
    "start_time": "2022-09-22T10:06:42.708Z"
   },
   {
    "duration": 7,
    "start_time": "2022-09-22T10:06:42.806Z"
   },
   {
    "duration": 13,
    "start_time": "2022-09-22T10:06:43.238Z"
   },
   {
    "duration": 8,
    "start_time": "2022-09-22T10:06:44.167Z"
   },
   {
    "duration": 21,
    "start_time": "2022-09-22T10:06:57.892Z"
   },
   {
    "duration": 3,
    "start_time": "2022-09-22T10:15:01.863Z"
   },
   {
    "duration": 1242,
    "start_time": "2022-09-22T10:15:14.494Z"
   },
   {
    "duration": 892,
    "start_time": "2022-09-22T10:16:35.033Z"
   },
   {
    "duration": 3,
    "start_time": "2022-09-22T10:16:39.147Z"
   },
   {
    "duration": 805,
    "start_time": "2022-09-22T10:16:39.807Z"
   },
   {
    "duration": 89,
    "start_time": "2022-09-22T10:16:42.260Z"
   },
   {
    "duration": 4,
    "start_time": "2022-09-22T10:17:02.625Z"
   },
   {
    "duration": 787,
    "start_time": "2022-09-22T10:17:02.917Z"
   },
   {
    "duration": 98,
    "start_time": "2022-09-22T10:17:03.707Z"
   },
   {
    "duration": 2,
    "start_time": "2022-09-22T10:17:03.807Z"
   },
   {
    "duration": 32,
    "start_time": "2022-09-22T10:17:03.817Z"
   },
   {
    "duration": 11,
    "start_time": "2022-09-22T10:17:04.240Z"
   },
   {
    "duration": 75,
    "start_time": "2022-09-22T10:17:21.467Z"
   },
   {
    "duration": 675,
    "start_time": "2022-09-22T10:18:24.765Z"
   },
   {
    "duration": 232,
    "start_time": "2022-09-22T10:18:33.739Z"
   },
   {
    "duration": 206,
    "start_time": "2022-09-22T10:18:48.118Z"
   },
   {
    "duration": 230,
    "start_time": "2022-09-22T10:18:55.457Z"
   },
   {
    "duration": 3,
    "start_time": "2022-09-22T10:20:33.381Z"
   },
   {
    "duration": 820,
    "start_time": "2022-09-22T10:20:33.652Z"
   },
   {
    "duration": 122,
    "start_time": "2022-09-22T10:20:34.474Z"
   },
   {
    "duration": 10,
    "start_time": "2022-09-22T10:20:34.599Z"
   },
   {
    "duration": 51,
    "start_time": "2022-09-22T10:20:34.612Z"
   },
   {
    "duration": 16,
    "start_time": "2022-09-22T10:20:34.757Z"
   },
   {
    "duration": 109,
    "start_time": "2022-09-22T10:20:35.116Z"
   },
   {
    "duration": 108,
    "start_time": "2022-09-22T10:20:35.841Z"
   },
   {
    "duration": 185,
    "start_time": "2022-09-22T10:20:36.228Z"
   },
   {
    "duration": 215,
    "start_time": "2022-09-22T10:20:36.706Z"
   },
   {
    "duration": 70,
    "start_time": "2022-09-22T10:20:39.826Z"
   },
   {
    "duration": 33,
    "start_time": "2022-09-22T10:27:15.224Z"
   },
   {
    "duration": 33,
    "start_time": "2022-09-22T10:27:23.188Z"
   },
   {
    "duration": 41,
    "start_time": "2022-09-22T10:27:27.396Z"
   },
   {
    "duration": 3,
    "start_time": "2022-09-22T10:30:13.152Z"
   },
   {
    "duration": 7,
    "start_time": "2022-09-22T10:31:37.610Z"
   },
   {
    "duration": 5,
    "start_time": "2022-09-22T10:31:40.173Z"
   },
   {
    "duration": 6,
    "start_time": "2022-09-22T10:31:57.359Z"
   },
   {
    "duration": 5,
    "start_time": "2022-09-22T10:32:25.758Z"
   },
   {
    "duration": 3,
    "start_time": "2022-09-22T10:34:11.071Z"
   },
   {
    "duration": 848,
    "start_time": "2022-09-22T10:34:11.235Z"
   },
   {
    "duration": 93,
    "start_time": "2022-09-22T10:34:12.084Z"
   },
   {
    "duration": 3,
    "start_time": "2022-09-22T10:34:12.179Z"
   },
   {
    "duration": 42,
    "start_time": "2022-09-22T10:34:12.183Z"
   },
   {
    "duration": 11,
    "start_time": "2022-09-22T10:34:12.227Z"
   },
   {
    "duration": 85,
    "start_time": "2022-09-22T10:34:12.240Z"
   },
   {
    "duration": 112,
    "start_time": "2022-09-22T10:34:12.327Z"
   },
   {
    "duration": 195,
    "start_time": "2022-09-22T10:34:12.441Z"
   },
   {
    "duration": 207,
    "start_time": "2022-09-22T10:34:12.668Z"
   },
   {
    "duration": 69,
    "start_time": "2022-09-22T10:34:13.014Z"
   },
   {
    "duration": 31,
    "start_time": "2022-09-22T10:34:13.329Z"
   },
   {
    "duration": 5,
    "start_time": "2022-09-22T10:34:13.661Z"
   },
   {
    "duration": 883,
    "start_time": "2022-09-22T10:34:14.134Z"
   },
   {
    "duration": 74,
    "start_time": "2022-09-22T10:34:21.796Z"
   },
   {
    "duration": 4,
    "start_time": "2022-09-22T10:35:01.949Z"
   },
   {
    "duration": 763,
    "start_time": "2022-09-22T10:35:02.326Z"
   },
   {
    "duration": 94,
    "start_time": "2022-09-22T10:35:03.090Z"
   },
   {
    "duration": 3,
    "start_time": "2022-09-22T10:35:03.645Z"
   },
   {
    "duration": 24,
    "start_time": "2022-09-22T10:35:04.222Z"
   },
   {
    "duration": 14,
    "start_time": "2022-09-22T10:35:04.568Z"
   },
   {
    "duration": 75,
    "start_time": "2022-09-22T10:35:05.386Z"
   },
   {
    "duration": 100,
    "start_time": "2022-09-22T10:35:12.073Z"
   },
   {
    "duration": 169,
    "start_time": "2022-09-22T10:35:13.591Z"
   },
   {
    "duration": 228,
    "start_time": "2022-09-22T10:35:13.943Z"
   },
   {
    "duration": 77,
    "start_time": "2022-09-22T10:35:14.261Z"
   },
   {
    "duration": 36,
    "start_time": "2022-09-22T10:35:14.599Z"
   },
   {
    "duration": 5,
    "start_time": "2022-09-22T10:35:14.938Z"
   },
   {
    "duration": 71,
    "start_time": "2022-09-22T10:35:15.357Z"
   },
   {
    "duration": 58,
    "start_time": "2022-09-22T10:35:18.442Z"
   },
   {
    "duration": 68,
    "start_time": "2022-09-22T10:35:25.206Z"
   },
   {
    "duration": 3,
    "start_time": "2022-09-22T10:37:07.425Z"
   },
   {
    "duration": 825,
    "start_time": "2022-09-22T10:37:07.561Z"
   },
   {
    "duration": 125,
    "start_time": "2022-09-22T10:37:08.388Z"
   },
   {
    "duration": 4,
    "start_time": "2022-09-22T10:37:08.515Z"
   },
   {
    "duration": 28,
    "start_time": "2022-09-22T10:37:08.520Z"
   },
   {
    "duration": 14,
    "start_time": "2022-09-22T10:37:08.549Z"
   },
   {
    "duration": 91,
    "start_time": "2022-09-22T10:37:08.564Z"
   },
   {
    "duration": 106,
    "start_time": "2022-09-22T10:37:08.656Z"
   },
   {
    "duration": 187,
    "start_time": "2022-09-22T10:37:08.764Z"
   },
   {
    "duration": 215,
    "start_time": "2022-09-22T10:37:08.953Z"
   },
   {
    "duration": 83,
    "start_time": "2022-09-22T10:37:09.170Z"
   },
   {
    "duration": 32,
    "start_time": "2022-09-22T10:37:09.255Z"
   },
   {
    "duration": 5,
    "start_time": "2022-09-22T10:37:09.660Z"
   },
   {
    "duration": 71,
    "start_time": "2022-09-22T10:37:10.119Z"
   },
   {
    "duration": 59,
    "start_time": "2022-09-22T10:37:10.402Z"
   },
   {
    "duration": 4,
    "start_time": "2022-09-22T10:37:14.577Z"
   },
   {
    "duration": 85,
    "start_time": "2022-09-22T10:37:22.953Z"
   },
   {
    "duration": 59,
    "start_time": "2022-09-22T10:37:31.889Z"
   },
   {
    "duration": 96,
    "start_time": "2022-09-22T10:37:32.276Z"
   },
   {
    "duration": 84,
    "start_time": "2022-09-22T10:37:58.491Z"
   },
   {
    "duration": 91,
    "start_time": "2022-09-22T10:37:59.065Z"
   },
   {
    "duration": 5,
    "start_time": "2022-09-22T10:38:12.240Z"
   },
   {
    "duration": 6,
    "start_time": "2022-09-22T10:38:18.911Z"
   },
   {
    "duration": 9,
    "start_time": "2022-09-22T12:05:46.694Z"
   },
   {
    "duration": 132,
    "start_time": "2022-09-22T12:07:25.484Z"
   },
   {
    "duration": 87,
    "start_time": "2022-09-22T12:07:31.632Z"
   },
   {
    "duration": 3,
    "start_time": "2022-09-22T12:07:54.281Z"
   },
   {
    "duration": 833,
    "start_time": "2022-09-22T12:07:55.431Z"
   },
   {
    "duration": 104,
    "start_time": "2022-09-22T12:07:56.266Z"
   },
   {
    "duration": 3,
    "start_time": "2022-09-22T12:07:56.372Z"
   },
   {
    "duration": 47,
    "start_time": "2022-09-22T12:07:56.376Z"
   },
   {
    "duration": 13,
    "start_time": "2022-09-22T12:07:56.425Z"
   },
   {
    "duration": 71,
    "start_time": "2022-09-22T12:07:56.439Z"
   },
   {
    "duration": 112,
    "start_time": "2022-09-22T12:07:56.512Z"
   },
   {
    "duration": 182,
    "start_time": "2022-09-22T12:07:56.625Z"
   },
   {
    "duration": 225,
    "start_time": "2022-09-22T12:07:56.809Z"
   },
   {
    "duration": 83,
    "start_time": "2022-09-22T12:07:57.035Z"
   },
   {
    "duration": 34,
    "start_time": "2022-09-22T12:07:57.120Z"
   },
   {
    "duration": 4,
    "start_time": "2022-09-22T12:07:57.156Z"
   },
   {
    "duration": 162,
    "start_time": "2022-09-22T12:07:57.162Z"
   },
   {
    "duration": 77,
    "start_time": "2022-09-22T12:07:57.330Z"
   },
   {
    "duration": 3,
    "start_time": "2022-09-22T12:16:51.735Z"
   },
   {
    "duration": 839,
    "start_time": "2022-09-22T12:16:52.077Z"
   },
   {
    "duration": 92,
    "start_time": "2022-09-22T12:16:52.921Z"
   },
   {
    "duration": 3,
    "start_time": "2022-09-22T12:16:53.014Z"
   },
   {
    "duration": 46,
    "start_time": "2022-09-22T12:16:53.019Z"
   },
   {
    "duration": 11,
    "start_time": "2022-09-22T12:16:53.067Z"
   },
   {
    "duration": 86,
    "start_time": "2022-09-22T12:16:53.079Z"
   },
   {
    "duration": 107,
    "start_time": "2022-09-22T12:16:53.167Z"
   },
   {
    "duration": 186,
    "start_time": "2022-09-22T12:16:53.275Z"
   },
   {
    "duration": 801,
    "start_time": "2022-09-22T12:16:53.463Z"
   },
   {
    "duration": 0,
    "start_time": "2022-09-22T12:16:54.265Z"
   },
   {
    "duration": 0,
    "start_time": "2022-09-22T12:16:54.266Z"
   },
   {
    "duration": 0,
    "start_time": "2022-09-22T12:16:54.267Z"
   },
   {
    "duration": 0,
    "start_time": "2022-09-22T12:16:54.268Z"
   },
   {
    "duration": 9,
    "start_time": "2022-09-22T12:16:54.324Z"
   },
   {
    "duration": 1029,
    "start_time": "2022-09-22T12:17:08.314Z"
   },
   {
    "duration": 4,
    "start_time": "2022-09-22T12:17:12.619Z"
   },
   {
    "duration": 819,
    "start_time": "2022-09-22T12:17:12.991Z"
   },
   {
    "duration": 84,
    "start_time": "2022-09-22T12:17:13.814Z"
   },
   {
    "duration": 3,
    "start_time": "2022-09-22T12:17:13.899Z"
   },
   {
    "duration": 30,
    "start_time": "2022-09-22T12:17:13.904Z"
   },
   {
    "duration": 13,
    "start_time": "2022-09-22T12:17:13.935Z"
   },
   {
    "duration": 96,
    "start_time": "2022-09-22T12:17:13.949Z"
   },
   {
    "duration": 111,
    "start_time": "2022-09-22T12:17:15.213Z"
   },
   {
    "duration": 3,
    "start_time": "2022-09-22T12:18:40.950Z"
   },
   {
    "duration": 879,
    "start_time": "2022-09-22T12:18:41.284Z"
   },
   {
    "duration": 102,
    "start_time": "2022-09-22T12:18:42.164Z"
   },
   {
    "duration": 3,
    "start_time": "2022-09-22T12:18:42.994Z"
   },
   {
    "duration": 26,
    "start_time": "2022-09-22T12:18:43.526Z"
   },
   {
    "duration": 13,
    "start_time": "2022-09-22T12:18:43.889Z"
   },
   {
    "duration": 93,
    "start_time": "2022-09-22T12:18:44.389Z"
   },
   {
    "duration": 41,
    "start_time": "2022-09-22T12:18:46.592Z"
   },
   {
    "duration": 15,
    "start_time": "2022-09-22T12:19:15.714Z"
   },
   {
    "duration": 14,
    "start_time": "2022-09-22T12:19:58.928Z"
   },
   {
    "duration": 8,
    "start_time": "2022-09-22T12:20:11.314Z"
   },
   {
    "duration": 888,
    "start_time": "2022-09-22T12:20:11.670Z"
   },
   {
    "duration": 106,
    "start_time": "2022-09-22T12:20:12.560Z"
   },
   {
    "duration": 7,
    "start_time": "2022-09-22T12:20:13.099Z"
   },
   {
    "duration": 26,
    "start_time": "2022-09-22T12:20:13.764Z"
   },
   {
    "duration": 15,
    "start_time": "2022-09-22T12:20:14.223Z"
   },
   {
    "duration": 77,
    "start_time": "2022-09-22T12:20:14.745Z"
   },
   {
    "duration": 67,
    "start_time": "2022-09-22T12:20:16.779Z"
   },
   {
    "duration": 42,
    "start_time": "2022-09-22T12:20:19.619Z"
   },
   {
    "duration": 162,
    "start_time": "2022-09-22T12:21:18.337Z"
   },
   {
    "duration": 197,
    "start_time": "2022-09-22T12:21:19.578Z"
   },
   {
    "duration": 10,
    "start_time": "2022-09-22T12:21:20.158Z"
   },
   {
    "duration": 5,
    "start_time": "2022-09-22T12:21:29.451Z"
   },
   {
    "duration": 4,
    "start_time": "2022-09-22T12:22:58.996Z"
   },
   {
    "duration": 869,
    "start_time": "2022-09-22T12:22:59.274Z"
   },
   {
    "duration": 107,
    "start_time": "2022-09-22T12:23:00.144Z"
   },
   {
    "duration": 3,
    "start_time": "2022-09-22T12:23:00.252Z"
   },
   {
    "duration": 40,
    "start_time": "2022-09-22T12:23:00.257Z"
   },
   {
    "duration": 13,
    "start_time": "2022-09-22T12:23:00.388Z"
   },
   {
    "duration": 78,
    "start_time": "2022-09-22T12:23:01.548Z"
   },
   {
    "duration": 4,
    "start_time": "2022-09-22T12:30:02.926Z"
   },
   {
    "duration": 48,
    "start_time": "2022-09-22T12:31:17.327Z"
   },
   {
    "duration": 133,
    "start_time": "2022-09-22T12:42:39.518Z"
   },
   {
    "duration": 233,
    "start_time": "2022-09-22T12:42:42.552Z"
   },
   {
    "duration": 214,
    "start_time": "2022-09-22T12:42:43.342Z"
   },
   {
    "duration": 13,
    "start_time": "2022-09-22T12:42:43.814Z"
   },
   {
    "duration": 4,
    "start_time": "2022-09-22T12:42:53.746Z"
   },
   {
    "duration": 962,
    "start_time": "2022-09-22T12:42:54.345Z"
   },
   {
    "duration": 128,
    "start_time": "2022-09-22T12:42:55.309Z"
   },
   {
    "duration": 4,
    "start_time": "2022-09-22T12:42:55.927Z"
   },
   {
    "duration": 30,
    "start_time": "2022-09-22T12:42:56.230Z"
   },
   {
    "duration": 12,
    "start_time": "2022-09-22T12:42:56.543Z"
   },
   {
    "duration": 88,
    "start_time": "2022-09-22T12:42:56.880Z"
   },
   {
    "duration": 111,
    "start_time": "2022-09-22T12:42:57.270Z"
   },
   {
    "duration": 240,
    "start_time": "2022-09-22T12:42:57.779Z"
   },
   {
    "duration": 214,
    "start_time": "2022-09-22T12:42:58.129Z"
   },
   {
    "duration": 9,
    "start_time": "2022-09-22T12:42:58.582Z"
   },
   {
    "duration": 6,
    "start_time": "2022-09-22T12:46:44.267Z"
   },
   {
    "duration": 4,
    "start_time": "2022-09-22T12:47:07.643Z"
   },
   {
    "duration": 894,
    "start_time": "2022-09-22T12:47:07.781Z"
   },
   {
    "duration": 116,
    "start_time": "2022-09-22T12:47:08.677Z"
   },
   {
    "duration": 10,
    "start_time": "2022-09-22T12:47:08.800Z"
   },
   {
    "duration": 50,
    "start_time": "2022-09-22T12:47:08.823Z"
   },
   {
    "duration": 12,
    "start_time": "2022-09-22T12:47:08.874Z"
   },
   {
    "duration": 93,
    "start_time": "2022-09-22T12:47:08.887Z"
   },
   {
    "duration": 107,
    "start_time": "2022-09-22T12:47:08.982Z"
   },
   {
    "duration": 248,
    "start_time": "2022-09-22T12:47:09.091Z"
   },
   {
    "duration": 237,
    "start_time": "2022-09-22T12:47:09.341Z"
   },
   {
    "duration": 97,
    "start_time": "2022-09-22T12:47:09.579Z"
   },
   {
    "duration": 43,
    "start_time": "2022-09-22T12:47:09.933Z"
   },
   {
    "duration": 5,
    "start_time": "2022-09-22T12:47:10.344Z"
   },
   {
    "duration": 140,
    "start_time": "2022-09-22T12:47:10.642Z"
   },
   {
    "duration": 99,
    "start_time": "2022-09-22T12:47:10.890Z"
   },
   {
    "duration": 3,
    "start_time": "2022-09-22T12:55:55.488Z"
   },
   {
    "duration": 878,
    "start_time": "2022-09-22T12:55:55.770Z"
   },
   {
    "duration": 102,
    "start_time": "2022-09-22T12:55:56.649Z"
   },
   {
    "duration": 3,
    "start_time": "2022-09-22T12:55:56.752Z"
   },
   {
    "duration": 31,
    "start_time": "2022-09-22T12:55:56.756Z"
   },
   {
    "duration": 14,
    "start_time": "2022-09-22T12:55:56.929Z"
   },
   {
    "duration": 67,
    "start_time": "2022-09-22T12:55:57.233Z"
   },
   {
    "duration": 113,
    "start_time": "2022-09-22T12:55:57.520Z"
   },
   {
    "duration": 235,
    "start_time": "2022-09-22T12:55:57.821Z"
   },
   {
    "duration": 184,
    "start_time": "2022-09-22T12:55:58.830Z"
   },
   {
    "duration": 72,
    "start_time": "2022-09-22T12:55:59.854Z"
   },
   {
    "duration": 32,
    "start_time": "2022-09-22T12:56:00.797Z"
   },
   {
    "duration": 12,
    "start_time": "2022-09-22T12:56:01.305Z"
   },
   {
    "duration": 62,
    "start_time": "2022-09-22T12:56:01.637Z"
   },
   {
    "duration": 64,
    "start_time": "2022-09-22T12:56:02.029Z"
   },
   {
    "duration": 4,
    "start_time": "2022-09-22T13:01:25.302Z"
   },
   {
    "duration": 33,
    "start_time": "2022-09-22T13:11:18.636Z"
   },
   {
    "duration": 26,
    "start_time": "2022-09-22T13:11:47.154Z"
   },
   {
    "duration": 14,
    "start_time": "2022-09-22T13:12:43.441Z"
   },
   {
    "duration": 67,
    "start_time": "2022-09-22T13:13:26.236Z"
   },
   {
    "duration": 5,
    "start_time": "2022-09-22T13:15:37.627Z"
   },
   {
    "duration": 12,
    "start_time": "2022-09-22T13:16:34.619Z"
   },
   {
    "duration": 928,
    "start_time": "2022-09-22T13:16:37.088Z"
   },
   {
    "duration": 105,
    "start_time": "2022-09-22T13:16:38.021Z"
   },
   {
    "duration": 3,
    "start_time": "2022-09-22T13:16:38.128Z"
   },
   {
    "duration": 48,
    "start_time": "2022-09-22T13:16:38.134Z"
   },
   {
    "duration": 12,
    "start_time": "2022-09-22T13:16:38.184Z"
   },
   {
    "duration": 113,
    "start_time": "2022-09-22T13:16:38.197Z"
   },
   {
    "duration": 130,
    "start_time": "2022-09-22T13:16:38.312Z"
   },
   {
    "duration": 238,
    "start_time": "2022-09-22T13:16:38.444Z"
   },
   {
    "duration": 197,
    "start_time": "2022-09-22T13:16:38.684Z"
   },
   {
    "duration": 77,
    "start_time": "2022-09-22T13:16:38.883Z"
   },
   {
    "duration": 24,
    "start_time": "2022-09-22T13:16:38.962Z"
   },
   {
    "duration": 19,
    "start_time": "2022-09-22T13:16:38.987Z"
   },
   {
    "duration": 92,
    "start_time": "2022-09-22T13:16:39.011Z"
   },
   {
    "duration": 75,
    "start_time": "2022-09-22T13:16:39.153Z"
   },
   {
    "duration": 17,
    "start_time": "2022-09-22T13:16:39.279Z"
   },
   {
    "duration": 87,
    "start_time": "2022-09-22T13:16:39.449Z"
   },
   {
    "duration": 21,
    "start_time": "2022-09-22T13:18:48.837Z"
   },
   {
    "duration": 13,
    "start_time": "2022-09-22T13:20:47.968Z"
   },
   {
    "duration": 9,
    "start_time": "2022-09-22T13:22:03.318Z"
   },
   {
    "duration": 10,
    "start_time": "2022-09-22T13:22:28.572Z"
   },
   {
    "duration": 21,
    "start_time": "2022-09-22T13:22:38.727Z"
   },
   {
    "duration": 13,
    "start_time": "2022-09-22T13:32:52.730Z"
   },
   {
    "duration": 8,
    "start_time": "2022-09-22T13:32:54.295Z"
   },
   {
    "duration": 19,
    "start_time": "2022-09-22T13:33:22.078Z"
   },
   {
    "duration": 85,
    "start_time": "2022-09-22T13:33:22.780Z"
   },
   {
    "duration": 3,
    "start_time": "2022-09-22T13:33:27.486Z"
   },
   {
    "duration": 890,
    "start_time": "2022-09-22T13:33:27.617Z"
   },
   {
    "duration": 98,
    "start_time": "2022-09-22T13:33:28.512Z"
   },
   {
    "duration": 20,
    "start_time": "2022-09-22T13:33:28.612Z"
   },
   {
    "duration": 45,
    "start_time": "2022-09-22T13:33:28.634Z"
   },
   {
    "duration": 11,
    "start_time": "2022-09-22T13:33:28.681Z"
   },
   {
    "duration": 102,
    "start_time": "2022-09-22T13:33:28.694Z"
   },
   {
    "duration": 87,
    "start_time": "2022-09-22T13:33:28.798Z"
   },
   {
    "duration": 238,
    "start_time": "2022-09-22T13:33:28.887Z"
   },
   {
    "duration": 194,
    "start_time": "2022-09-22T13:33:29.136Z"
   },
   {
    "duration": 59,
    "start_time": "2022-09-22T13:33:29.332Z"
   },
   {
    "duration": 42,
    "start_time": "2022-09-22T13:33:29.393Z"
   },
   {
    "duration": 4,
    "start_time": "2022-09-22T13:33:29.463Z"
   },
   {
    "duration": 78,
    "start_time": "2022-09-22T13:33:29.830Z"
   },
   {
    "duration": 82,
    "start_time": "2022-09-22T13:33:30.085Z"
   },
   {
    "duration": 18,
    "start_time": "2022-09-22T13:33:30.254Z"
   },
   {
    "duration": 82,
    "start_time": "2022-09-22T13:33:30.592Z"
   },
   {
    "duration": 524,
    "start_time": "2022-09-22T13:33:31.423Z"
   },
   {
    "duration": 772,
    "start_time": "2022-09-22T13:35:40.778Z"
   },
   {
    "duration": 88,
    "start_time": "2022-09-22T13:35:41.552Z"
   },
   {
    "duration": 773,
    "start_time": "2022-09-22T13:36:01.772Z"
   },
   {
    "duration": 18,
    "start_time": "2022-09-22T13:36:04.290Z"
   },
   {
    "duration": 1502,
    "start_time": "2022-09-22T13:36:20.180Z"
   },
   {
    "duration": 1549,
    "start_time": "2022-09-22T13:36:21.684Z"
   },
   {
    "duration": 117,
    "start_time": "2022-09-22T13:36:23.236Z"
   },
   {
    "duration": 4,
    "start_time": "2022-09-22T13:36:23.354Z"
   },
   {
    "duration": 65,
    "start_time": "2022-09-22T13:36:23.361Z"
   },
   {
    "duration": 21,
    "start_time": "2022-09-22T13:36:23.428Z"
   },
   {
    "duration": 106,
    "start_time": "2022-09-22T13:36:23.450Z"
   },
   {
    "duration": 121,
    "start_time": "2022-09-22T13:36:23.557Z"
   },
   {
    "duration": 237,
    "start_time": "2022-09-22T13:36:23.680Z"
   },
   {
    "duration": 201,
    "start_time": "2022-09-22T13:36:23.919Z"
   },
   {
    "duration": 74,
    "start_time": "2022-09-22T13:36:24.122Z"
   },
   {
    "duration": 30,
    "start_time": "2022-09-22T13:36:24.198Z"
   },
   {
    "duration": 19,
    "start_time": "2022-09-22T13:36:24.232Z"
   },
   {
    "duration": 78,
    "start_time": "2022-09-22T13:36:24.254Z"
   },
   {
    "duration": 86,
    "start_time": "2022-09-22T13:36:24.334Z"
   },
   {
    "duration": 27,
    "start_time": "2022-09-22T13:36:24.425Z"
   },
   {
    "duration": 744,
    "start_time": "2022-09-22T13:36:24.454Z"
   },
   {
    "duration": 83,
    "start_time": "2022-09-22T13:36:25.200Z"
   },
   {
    "duration": 975,
    "start_time": "2022-09-22T13:36:25.284Z"
   },
   {
    "duration": 1392,
    "start_time": "2022-09-22T13:36:55.653Z"
   },
   {
    "duration": 915,
    "start_time": "2022-09-22T13:36:57.047Z"
   },
   {
    "duration": 109,
    "start_time": "2022-09-22T13:36:57.963Z"
   },
   {
    "duration": 3,
    "start_time": "2022-09-22T13:36:58.074Z"
   },
   {
    "duration": 77,
    "start_time": "2022-09-22T13:36:58.078Z"
   },
   {
    "duration": 13,
    "start_time": "2022-09-22T13:36:58.156Z"
   },
   {
    "duration": 106,
    "start_time": "2022-09-22T13:36:58.171Z"
   },
   {
    "duration": 158,
    "start_time": "2022-09-22T13:36:58.279Z"
   },
   {
    "duration": 252,
    "start_time": "2022-09-22T13:36:58.438Z"
   },
   {
    "duration": 232,
    "start_time": "2022-09-22T13:36:58.699Z"
   },
   {
    "duration": 62,
    "start_time": "2022-09-22T13:36:58.933Z"
   },
   {
    "duration": 32,
    "start_time": "2022-09-22T13:36:59.001Z"
   },
   {
    "duration": 25,
    "start_time": "2022-09-22T13:36:59.035Z"
   },
   {
    "duration": 104,
    "start_time": "2022-09-22T13:36:59.062Z"
   },
   {
    "duration": 87,
    "start_time": "2022-09-22T13:36:59.168Z"
   },
   {
    "duration": 606,
    "start_time": "2022-09-22T13:36:59.257Z"
   },
   {
    "duration": 16,
    "start_time": "2022-09-22T13:36:59.864Z"
   },
   {
    "duration": 107,
    "start_time": "2022-09-22T13:36:59.881Z"
   },
   {
    "duration": 987,
    "start_time": "2022-09-22T13:36:59.990Z"
   },
   {
    "duration": 589,
    "start_time": "2022-09-22T13:37:12.771Z"
   },
   {
    "duration": 16,
    "start_time": "2022-09-22T13:37:13.799Z"
   },
   {
    "duration": 6,
    "start_time": "2022-09-22T13:37:14.267Z"
   },
   {
    "duration": 109,
    "start_time": "2022-09-22T13:37:15.038Z"
   },
   {
    "duration": 1499,
    "start_time": "2022-09-22T13:37:24.183Z"
   },
   {
    "duration": 928,
    "start_time": "2022-09-22T13:37:25.685Z"
   },
   {
    "duration": 99,
    "start_time": "2022-09-22T13:37:26.622Z"
   },
   {
    "duration": 5,
    "start_time": "2022-09-22T13:37:26.724Z"
   },
   {
    "duration": 55,
    "start_time": "2022-09-22T13:37:26.731Z"
   },
   {
    "duration": 21,
    "start_time": "2022-09-22T13:37:26.788Z"
   },
   {
    "duration": 95,
    "start_time": "2022-09-22T13:37:26.812Z"
   },
   {
    "duration": 110,
    "start_time": "2022-09-22T13:37:26.913Z"
   },
   {
    "duration": 229,
    "start_time": "2022-09-22T13:37:27.029Z"
   },
   {
    "duration": 191,
    "start_time": "2022-09-22T13:37:27.260Z"
   },
   {
    "duration": 78,
    "start_time": "2022-09-22T13:37:27.453Z"
   },
   {
    "duration": 25,
    "start_time": "2022-09-22T13:37:27.533Z"
   },
   {
    "duration": 4,
    "start_time": "2022-09-22T13:37:27.559Z"
   },
   {
    "duration": 84,
    "start_time": "2022-09-22T13:37:27.565Z"
   },
   {
    "duration": 77,
    "start_time": "2022-09-22T13:37:27.651Z"
   },
   {
    "duration": 585,
    "start_time": "2022-09-22T13:37:27.730Z"
   },
   {
    "duration": 13,
    "start_time": "2022-09-22T13:37:28.324Z"
   },
   {
    "duration": 5,
    "start_time": "2022-09-22T13:37:28.339Z"
   },
   {
    "duration": 210,
    "start_time": "2022-09-22T13:37:28.345Z"
   },
   {
    "duration": 1455,
    "start_time": "2022-09-22T13:37:55.579Z"
   },
   {
    "duration": 898,
    "start_time": "2022-09-22T13:37:57.036Z"
   },
   {
    "duration": 98,
    "start_time": "2022-09-22T13:37:57.936Z"
   },
   {
    "duration": 9,
    "start_time": "2022-09-22T13:37:58.036Z"
   },
   {
    "duration": 39,
    "start_time": "2022-09-22T13:37:58.047Z"
   },
   {
    "duration": 20,
    "start_time": "2022-09-22T13:37:58.087Z"
   },
   {
    "duration": 102,
    "start_time": "2022-09-22T13:37:58.108Z"
   },
   {
    "duration": 109,
    "start_time": "2022-09-22T13:37:58.213Z"
   },
   {
    "duration": 226,
    "start_time": "2022-09-22T13:37:58.329Z"
   },
   {
    "duration": 186,
    "start_time": "2022-09-22T13:37:58.556Z"
   },
   {
    "duration": 82,
    "start_time": "2022-09-22T13:37:58.743Z"
   },
   {
    "duration": 26,
    "start_time": "2022-09-22T13:37:58.831Z"
   },
   {
    "duration": 4,
    "start_time": "2022-09-22T13:37:58.859Z"
   },
   {
    "duration": 80,
    "start_time": "2022-09-22T13:37:58.865Z"
   },
   {
    "duration": 84,
    "start_time": "2022-09-22T13:37:58.947Z"
   },
   {
    "duration": 589,
    "start_time": "2022-09-22T13:37:59.033Z"
   },
   {
    "duration": 17,
    "start_time": "2022-09-22T13:37:59.627Z"
   },
   {
    "duration": 89,
    "start_time": "2022-09-22T13:37:59.645Z"
   },
   {
    "duration": 931,
    "start_time": "2022-09-22T13:37:59.736Z"
   },
   {
    "duration": 3,
    "start_time": "2022-09-22T13:40:55.162Z"
   },
   {
    "duration": 19,
    "start_time": "2022-09-22T13:41:04.296Z"
   },
   {
    "duration": 87,
    "start_time": "2022-09-22T13:41:04.737Z"
   },
   {
    "duration": 24,
    "start_time": "2022-09-22T13:41:05.340Z"
   },
   {
    "duration": 206,
    "start_time": "2022-09-22T13:41:20.162Z"
   },
   {
    "duration": 3,
    "start_time": "2022-09-22T13:41:39.093Z"
   },
   {
    "duration": 3,
    "start_time": "2022-09-22T13:44:10.445Z"
   },
   {
    "duration": 9,
    "start_time": "2022-09-22T13:44:10.739Z"
   },
   {
    "duration": 9,
    "start_time": "2022-09-22T13:44:11.480Z"
   },
   {
    "duration": 25721,
    "start_time": "2022-09-22T13:44:20.640Z"
   },
   {
    "duration": 0,
    "start_time": "2022-09-22T13:44:46.364Z"
   },
   {
    "duration": 587,
    "start_time": "2022-09-22T13:45:32.128Z"
   },
   {
    "duration": 1421,
    "start_time": "2022-09-22T13:45:37.934Z"
   },
   {
    "duration": 975,
    "start_time": "2022-09-22T13:45:39.357Z"
   },
   {
    "duration": 126,
    "start_time": "2022-09-22T13:45:40.337Z"
   },
   {
    "duration": 3,
    "start_time": "2022-09-22T13:45:40.465Z"
   },
   {
    "duration": 66,
    "start_time": "2022-09-22T13:45:40.470Z"
   },
   {
    "duration": 16,
    "start_time": "2022-09-22T13:45:40.541Z"
   },
   {
    "duration": 124,
    "start_time": "2022-09-22T13:45:40.559Z"
   },
   {
    "duration": 115,
    "start_time": "2022-09-22T13:45:40.684Z"
   },
   {
    "duration": 250,
    "start_time": "2022-09-22T13:45:40.800Z"
   },
   {
    "duration": 206,
    "start_time": "2022-09-22T13:45:41.052Z"
   },
   {
    "duration": 85,
    "start_time": "2022-09-22T13:45:41.260Z"
   },
   {
    "duration": 25,
    "start_time": "2022-09-22T13:45:41.347Z"
   },
   {
    "duration": 4,
    "start_time": "2022-09-22T13:45:41.373Z"
   },
   {
    "duration": 97,
    "start_time": "2022-09-22T13:45:41.380Z"
   },
   {
    "duration": 88,
    "start_time": "2022-09-22T13:45:41.478Z"
   },
   {
    "duration": 3,
    "start_time": "2022-09-22T13:45:41.568Z"
   },
   {
    "duration": 655,
    "start_time": "2022-09-22T13:45:41.573Z"
   },
   {
    "duration": 15,
    "start_time": "2022-09-22T13:45:42.235Z"
   },
   {
    "duration": 89,
    "start_time": "2022-09-22T13:45:42.251Z"
   },
   {
    "duration": 25,
    "start_time": "2022-09-22T13:45:42.342Z"
   },
   {
    "duration": 210,
    "start_time": "2022-09-22T13:45:42.368Z"
   },
   {
    "duration": 3,
    "start_time": "2022-09-22T13:45:42.579Z"
   },
   {
    "duration": 54,
    "start_time": "2022-09-22T13:45:42.584Z"
   },
   {
    "duration": 14118,
    "start_time": "2022-09-22T13:45:42.639Z"
   },
   {
    "duration": 0,
    "start_time": "2022-09-22T13:45:56.760Z"
   },
   {
    "duration": 32,
    "start_time": "2022-09-22T13:46:16.239Z"
   },
   {
    "duration": 637,
    "start_time": "2022-09-22T13:47:18.335Z"
   },
   {
    "duration": 6,
    "start_time": "2022-09-22T13:47:24.764Z"
   },
   {
    "duration": 917,
    "start_time": "2022-09-22T13:47:24.925Z"
   },
   {
    "duration": 114,
    "start_time": "2022-09-22T13:47:25.844Z"
   },
   {
    "duration": 3,
    "start_time": "2022-09-22T13:47:25.960Z"
   },
   {
    "duration": 46,
    "start_time": "2022-09-22T13:47:25.965Z"
   },
   {
    "duration": 15,
    "start_time": "2022-09-22T13:47:26.021Z"
   },
   {
    "duration": 88,
    "start_time": "2022-09-22T13:47:26.037Z"
   },
   {
    "duration": 135,
    "start_time": "2022-09-22T13:47:26.128Z"
   },
   {
    "duration": 262,
    "start_time": "2022-09-22T13:47:26.264Z"
   },
   {
    "duration": 212,
    "start_time": "2022-09-22T13:47:26.532Z"
   },
   {
    "duration": 91,
    "start_time": "2022-09-22T13:47:26.746Z"
   },
   {
    "duration": 29,
    "start_time": "2022-09-22T13:47:26.838Z"
   },
   {
    "duration": 4,
    "start_time": "2022-09-22T13:47:26.869Z"
   },
   {
    "duration": 108,
    "start_time": "2022-09-22T13:47:26.875Z"
   },
   {
    "duration": 91,
    "start_time": "2022-09-22T13:47:26.985Z"
   },
   {
    "duration": 9,
    "start_time": "2022-09-22T13:47:27.200Z"
   },
   {
    "duration": 660,
    "start_time": "2022-09-22T13:47:27.382Z"
   },
   {
    "duration": 17,
    "start_time": "2022-09-22T13:47:28.044Z"
   },
   {
    "duration": 91,
    "start_time": "2022-09-22T13:47:28.063Z"
   },
   {
    "duration": 25,
    "start_time": "2022-09-22T13:47:34.735Z"
   },
   {
    "duration": 673,
    "start_time": "2022-09-22T13:48:41.763Z"
   },
   {
    "duration": 18,
    "start_time": "2022-09-22T13:48:44.754Z"
   },
   {
    "duration": 79,
    "start_time": "2022-09-22T13:48:45.068Z"
   },
   {
    "duration": 21,
    "start_time": "2022-09-22T13:48:45.490Z"
   },
   {
    "duration": 2158,
    "start_time": "2022-09-22T13:54:11.030Z"
   },
   {
    "duration": 952,
    "start_time": "2022-09-22T13:54:13.189Z"
   },
   {
    "duration": 108,
    "start_time": "2022-09-22T13:54:14.142Z"
   },
   {
    "duration": 6,
    "start_time": "2022-09-22T13:54:14.254Z"
   },
   {
    "duration": 61,
    "start_time": "2022-09-22T13:54:14.263Z"
   },
   {
    "duration": 18,
    "start_time": "2022-09-22T13:54:14.326Z"
   },
   {
    "duration": 108,
    "start_time": "2022-09-22T13:54:14.346Z"
   },
   {
    "duration": 126,
    "start_time": "2022-09-22T13:54:14.455Z"
   },
   {
    "duration": 288,
    "start_time": "2022-09-22T13:54:14.583Z"
   },
   {
    "duration": 271,
    "start_time": "2022-09-22T13:54:14.874Z"
   },
   {
    "duration": 66,
    "start_time": "2022-09-22T13:54:15.147Z"
   },
   {
    "duration": 32,
    "start_time": "2022-09-22T13:54:15.216Z"
   },
   {
    "duration": 5,
    "start_time": "2022-09-22T13:54:15.250Z"
   },
   {
    "duration": 94,
    "start_time": "2022-09-22T13:54:15.257Z"
   },
   {
    "duration": 93,
    "start_time": "2022-09-22T13:54:15.352Z"
   },
   {
    "duration": 3,
    "start_time": "2022-09-22T13:54:15.447Z"
   },
   {
    "duration": 597,
    "start_time": "2022-09-22T13:54:15.452Z"
   },
   {
    "duration": 21,
    "start_time": "2022-09-22T13:54:16.051Z"
   },
   {
    "duration": 92,
    "start_time": "2022-09-22T13:54:16.074Z"
   },
   {
    "duration": 18,
    "start_time": "2022-09-22T13:54:16.167Z"
   },
   {
    "duration": 51,
    "start_time": "2022-09-22T13:54:16.187Z"
   },
   {
    "duration": 209,
    "start_time": "2022-09-22T13:54:16.240Z"
   },
   {
    "duration": 3,
    "start_time": "2022-09-22T13:54:16.450Z"
   },
   {
    "duration": 8,
    "start_time": "2022-09-22T13:54:16.454Z"
   },
   {
    "duration": 25893,
    "start_time": "2022-09-22T13:54:16.463Z"
   },
   {
    "duration": 0,
    "start_time": "2022-09-22T13:54:42.358Z"
   },
   {
    "duration": 1382,
    "start_time": "2022-09-22T13:55:04.461Z"
   },
   {
    "duration": 931,
    "start_time": "2022-09-22T13:55:05.845Z"
   },
   {
    "duration": 108,
    "start_time": "2022-09-22T13:55:06.778Z"
   },
   {
    "duration": 3,
    "start_time": "2022-09-22T13:55:06.888Z"
   },
   {
    "duration": 58,
    "start_time": "2022-09-22T13:55:06.892Z"
   },
   {
    "duration": 15,
    "start_time": "2022-09-22T13:55:06.951Z"
   },
   {
    "duration": 113,
    "start_time": "2022-09-22T13:55:06.968Z"
   },
   {
    "duration": 114,
    "start_time": "2022-09-22T13:55:07.083Z"
   },
   {
    "duration": 237,
    "start_time": "2022-09-22T13:55:07.199Z"
   },
   {
    "duration": 193,
    "start_time": "2022-09-22T13:55:07.440Z"
   },
   {
    "duration": 67,
    "start_time": "2022-09-22T13:55:07.637Z"
   },
   {
    "duration": 28,
    "start_time": "2022-09-22T13:55:07.706Z"
   },
   {
    "duration": 13,
    "start_time": "2022-09-22T13:55:07.735Z"
   },
   {
    "duration": 135,
    "start_time": "2022-09-22T13:55:07.750Z"
   },
   {
    "duration": 76,
    "start_time": "2022-09-22T13:55:07.887Z"
   },
   {
    "duration": 2,
    "start_time": "2022-09-22T13:55:07.965Z"
   },
   {
    "duration": 603,
    "start_time": "2022-09-22T13:55:07.969Z"
   },
   {
    "duration": 192,
    "start_time": "2022-09-22T13:55:08.574Z"
   },
   {
    "duration": 326,
    "start_time": "2022-09-22T13:55:08.768Z"
   },
   {
    "duration": 53,
    "start_time": "2022-09-22T13:55:09.096Z"
   },
   {
    "duration": 30,
    "start_time": "2022-09-22T13:55:09.151Z"
   },
   {
    "duration": 314,
    "start_time": "2022-09-22T13:55:09.183Z"
   },
   {
    "duration": 5,
    "start_time": "2022-09-22T13:55:09.499Z"
   },
   {
    "duration": 49,
    "start_time": "2022-09-22T13:55:09.506Z"
   },
   {
    "duration": 5590,
    "start_time": "2022-09-22T13:55:09.557Z"
   },
   {
    "duration": 0,
    "start_time": "2022-09-22T13:55:15.149Z"
   },
   {
    "duration": 24,
    "start_time": "2022-09-22T13:57:16.442Z"
   },
   {
    "duration": 1547,
    "start_time": "2022-09-22T13:58:41.441Z"
   },
   {
    "duration": 958,
    "start_time": "2022-09-22T13:58:42.990Z"
   },
   {
    "duration": 106,
    "start_time": "2022-09-22T13:58:43.950Z"
   },
   {
    "duration": 4,
    "start_time": "2022-09-22T13:58:44.058Z"
   },
   {
    "duration": 88,
    "start_time": "2022-09-22T13:58:44.064Z"
   },
   {
    "duration": 24,
    "start_time": "2022-09-22T13:58:44.155Z"
   },
   {
    "duration": 139,
    "start_time": "2022-09-22T13:58:44.182Z"
   },
   {
    "duration": 171,
    "start_time": "2022-09-22T13:58:44.324Z"
   },
   {
    "duration": 294,
    "start_time": "2022-09-22T13:58:44.497Z"
   },
   {
    "duration": 249,
    "start_time": "2022-09-22T13:58:44.793Z"
   },
   {
    "duration": 100,
    "start_time": "2022-09-22T13:58:45.045Z"
   },
   {
    "duration": 28,
    "start_time": "2022-09-22T13:58:45.147Z"
   },
   {
    "duration": 5,
    "start_time": "2022-09-22T13:58:45.176Z"
   },
   {
    "duration": 90,
    "start_time": "2022-09-22T13:58:45.184Z"
   },
   {
    "duration": 82,
    "start_time": "2022-09-22T13:58:45.276Z"
   },
   {
    "duration": 19,
    "start_time": "2022-09-22T13:58:45.359Z"
   },
   {
    "duration": 3,
    "start_time": "2022-09-22T13:58:45.380Z"
   },
   {
    "duration": 764,
    "start_time": "2022-09-22T13:58:45.403Z"
   },
   {
    "duration": 238,
    "start_time": "2022-09-22T13:58:46.168Z"
   },
   {
    "duration": 419,
    "start_time": "2022-09-22T13:58:46.414Z"
   },
   {
    "duration": 32,
    "start_time": "2022-09-22T13:58:46.835Z"
   },
   {
    "duration": 40,
    "start_time": "2022-09-22T13:58:46.869Z"
   },
   {
    "duration": 245,
    "start_time": "2022-09-22T13:58:46.911Z"
   },
   {
    "duration": 4,
    "start_time": "2022-09-22T13:58:47.158Z"
   },
   {
    "duration": 6,
    "start_time": "2022-09-22T13:58:47.164Z"
   },
   {
    "duration": 930490,
    "start_time": "2022-09-22T13:58:47.172Z"
   },
   {
    "duration": 0,
    "start_time": "2022-09-22T14:14:17.664Z"
   },
   {
    "duration": 8,
    "start_time": "2022-09-22T14:15:06.730Z"
   },
   {
    "duration": 886,
    "start_time": "2022-09-22T14:15:06.864Z"
   },
   {
    "duration": 115,
    "start_time": "2022-09-22T14:15:07.752Z"
   },
   {
    "duration": 3,
    "start_time": "2022-09-22T14:15:07.869Z"
   },
   {
    "duration": 36,
    "start_time": "2022-09-22T14:15:07.875Z"
   },
   {
    "duration": 15,
    "start_time": "2022-09-22T14:15:07.919Z"
   },
   {
    "duration": 120,
    "start_time": "2022-09-22T14:15:07.937Z"
   },
   {
    "duration": 122,
    "start_time": "2022-09-22T14:15:08.059Z"
   },
   {
    "duration": 229,
    "start_time": "2022-09-22T14:15:08.183Z"
   },
   {
    "duration": 274,
    "start_time": "2022-09-22T14:15:08.414Z"
   },
   {
    "duration": 78,
    "start_time": "2022-09-22T14:15:08.690Z"
   },
   {
    "duration": 44,
    "start_time": "2022-09-22T14:15:08.770Z"
   },
   {
    "duration": 6,
    "start_time": "2022-09-22T14:15:08.815Z"
   },
   {
    "duration": 83,
    "start_time": "2022-09-22T14:15:09.084Z"
   },
   {
    "duration": 73,
    "start_time": "2022-09-22T14:15:09.486Z"
   },
   {
    "duration": 18,
    "start_time": "2022-09-22T14:15:09.673Z"
   },
   {
    "duration": 12,
    "start_time": "2022-09-22T14:15:10.021Z"
   },
   {
    "duration": 705,
    "start_time": "2022-09-22T14:15:10.551Z"
   },
   {
    "duration": 250,
    "start_time": "2022-09-22T14:15:11.258Z"
   },
   {
    "duration": 394,
    "start_time": "2022-09-22T14:15:11.509Z"
   },
   {
    "duration": 35,
    "start_time": "2022-09-22T14:15:11.905Z"
   },
   {
    "duration": 19,
    "start_time": "2022-09-22T14:15:13.239Z"
   },
   {
    "duration": 220,
    "start_time": "2022-09-22T14:15:13.485Z"
   },
   {
    "duration": 4,
    "start_time": "2022-09-22T14:15:16.640Z"
   },
   {
    "duration": 3,
    "start_time": "2022-09-22T14:15:53.286Z"
   },
   {
    "duration": 3,
    "start_time": "2022-09-22T14:15:53.967Z"
   },
   {
    "duration": 4,
    "start_time": "2022-09-22T14:16:47.338Z"
   },
   {
    "duration": 933,
    "start_time": "2022-09-22T14:16:47.493Z"
   },
   {
    "duration": 109,
    "start_time": "2022-09-22T14:16:48.432Z"
   },
   {
    "duration": 2,
    "start_time": "2022-09-22T14:16:48.543Z"
   },
   {
    "duration": 33,
    "start_time": "2022-09-22T14:16:48.547Z"
   },
   {
    "duration": 11,
    "start_time": "2022-09-22T14:16:48.581Z"
   },
   {
    "duration": 101,
    "start_time": "2022-09-22T14:16:48.594Z"
   },
   {
    "duration": 100,
    "start_time": "2022-09-22T14:16:48.697Z"
   },
   {
    "duration": 228,
    "start_time": "2022-09-22T14:16:48.800Z"
   },
   {
    "duration": 217,
    "start_time": "2022-09-22T14:16:49.030Z"
   },
   {
    "duration": 73,
    "start_time": "2022-09-22T14:16:49.249Z"
   },
   {
    "duration": 31,
    "start_time": "2022-09-22T14:16:49.327Z"
   },
   {
    "duration": 4,
    "start_time": "2022-09-22T14:16:49.572Z"
   },
   {
    "duration": 67,
    "start_time": "2022-09-22T14:16:49.923Z"
   },
   {
    "duration": 73,
    "start_time": "2022-09-22T14:16:50.281Z"
   },
   {
    "duration": 17,
    "start_time": "2022-09-22T14:16:51.362Z"
   },
   {
    "duration": 3,
    "start_time": "2022-09-22T14:16:51.696Z"
   },
   {
    "duration": 728,
    "start_time": "2022-09-22T14:16:52.338Z"
   },
   {
    "duration": 246,
    "start_time": "2022-09-22T14:16:53.068Z"
   },
   {
    "duration": 378,
    "start_time": "2022-09-22T14:16:53.315Z"
   },
   {
    "duration": 50,
    "start_time": "2022-09-22T14:16:53.695Z"
   },
   {
    "duration": 1546,
    "start_time": "2022-09-23T08:05:53.285Z"
   },
   {
    "duration": 1134,
    "start_time": "2022-09-23T08:05:54.833Z"
   },
   {
    "duration": 100,
    "start_time": "2022-09-23T08:05:55.968Z"
   },
   {
    "duration": 3,
    "start_time": "2022-09-23T08:05:56.069Z"
   },
   {
    "duration": 52,
    "start_time": "2022-09-23T08:05:56.074Z"
   },
   {
    "duration": 16,
    "start_time": "2022-09-23T08:05:56.128Z"
   },
   {
    "duration": 122,
    "start_time": "2022-09-23T08:05:56.146Z"
   },
   {
    "duration": 142,
    "start_time": "2022-09-23T08:05:56.270Z"
   },
   {
    "duration": 234,
    "start_time": "2022-09-23T08:05:56.414Z"
   },
   {
    "duration": 196,
    "start_time": "2022-09-23T08:05:56.651Z"
   },
   {
    "duration": 72,
    "start_time": "2022-09-23T08:05:56.849Z"
   },
   {
    "duration": 25,
    "start_time": "2022-09-23T08:05:56.934Z"
   },
   {
    "duration": 21,
    "start_time": "2022-09-23T08:05:56.961Z"
   },
   {
    "duration": 110,
    "start_time": "2022-09-23T08:05:56.983Z"
   },
   {
    "duration": 82,
    "start_time": "2022-09-23T08:05:57.095Z"
   },
   {
    "duration": 28,
    "start_time": "2022-09-23T08:05:57.179Z"
   },
   {
    "duration": 25,
    "start_time": "2022-09-23T08:05:57.209Z"
   },
   {
    "duration": 757,
    "start_time": "2022-09-23T08:05:57.236Z"
   },
   {
    "duration": 241,
    "start_time": "2022-09-23T08:05:57.995Z"
   },
   {
    "duration": 385,
    "start_time": "2022-09-23T08:05:58.238Z"
   },
   {
    "duration": 27,
    "start_time": "2022-09-23T08:05:58.626Z"
   },
   {
    "duration": 32,
    "start_time": "2022-09-23T08:05:58.655Z"
   },
   {
    "duration": 223,
    "start_time": "2022-09-23T08:05:58.688Z"
   },
   {
    "duration": 3,
    "start_time": "2022-09-23T08:05:58.913Z"
   },
   {
    "duration": 16,
    "start_time": "2022-09-23T08:05:58.917Z"
   },
   {
    "duration": 2038491,
    "start_time": "2022-09-23T08:05:58.935Z"
   },
   {
    "duration": 409,
    "start_time": "2022-09-23T08:39:57.428Z"
   },
   {
    "duration": 4,
    "start_time": "2022-09-23T09:58:23.269Z"
   },
   {
    "duration": 811,
    "start_time": "2022-09-23T09:58:25.315Z"
   },
   {
    "duration": 142,
    "start_time": "2022-09-23T09:58:26.128Z"
   },
   {
    "duration": 3,
    "start_time": "2022-09-23T09:58:26.272Z"
   },
   {
    "duration": 47,
    "start_time": "2022-09-23T09:58:26.278Z"
   },
   {
    "duration": 33,
    "start_time": "2022-09-23T09:58:26.328Z"
   },
   {
    "duration": 115,
    "start_time": "2022-09-23T09:58:26.363Z"
   },
   {
    "duration": 123,
    "start_time": "2022-09-23T09:58:26.480Z"
   },
   {
    "duration": 233,
    "start_time": "2022-09-23T09:58:26.605Z"
   },
   {
    "duration": 245,
    "start_time": "2022-09-23T09:58:26.839Z"
   },
   {
    "duration": 84,
    "start_time": "2022-09-23T09:58:27.086Z"
   },
   {
    "duration": 26,
    "start_time": "2022-09-23T09:58:27.171Z"
   },
   {
    "duration": 4,
    "start_time": "2022-09-23T09:58:27.247Z"
   },
   {
    "duration": 75,
    "start_time": "2022-09-23T09:58:27.555Z"
   },
   {
    "duration": 72,
    "start_time": "2022-09-23T09:58:27.746Z"
   },
   {
    "duration": 20,
    "start_time": "2022-09-23T09:58:27.940Z"
   },
   {
    "duration": 2,
    "start_time": "2022-09-23T09:58:28.312Z"
   },
   {
    "duration": 107,
    "start_time": "2022-09-23T09:58:29.519Z"
   },
   {
    "duration": 1395,
    "start_time": "2022-09-23T09:58:38.031Z"
   },
   {
    "duration": 467,
    "start_time": "2022-09-23T09:58:55.611Z"
   },
   {
    "duration": 4,
    "start_time": "2022-09-23T09:59:00.135Z"
   },
   {
    "duration": 7,
    "start_time": "2022-09-23T09:59:44.422Z"
   },
   {
    "duration": 823,
    "start_time": "2022-09-23T09:59:44.578Z"
   },
   {
    "duration": 113,
    "start_time": "2022-09-23T09:59:45.402Z"
   },
   {
    "duration": 3,
    "start_time": "2022-09-23T09:59:45.517Z"
   },
   {
    "duration": 38,
    "start_time": "2022-09-23T09:59:45.522Z"
   },
   {
    "duration": 12,
    "start_time": "2022-09-23T09:59:45.561Z"
   },
   {
    "duration": 99,
    "start_time": "2022-09-23T09:59:45.575Z"
   },
   {
    "duration": 114,
    "start_time": "2022-09-23T09:59:45.676Z"
   },
   {
    "duration": 225,
    "start_time": "2022-09-23T09:59:45.792Z"
   },
   {
    "duration": 205,
    "start_time": "2022-09-23T09:59:46.019Z"
   },
   {
    "duration": 119,
    "start_time": "2022-09-23T09:59:46.237Z"
   },
   {
    "duration": 32,
    "start_time": "2022-09-23T09:59:46.358Z"
   },
   {
    "duration": 20,
    "start_time": "2022-09-23T09:59:46.392Z"
   },
   {
    "duration": 87,
    "start_time": "2022-09-23T09:59:46.475Z"
   },
   {
    "duration": 88,
    "start_time": "2022-09-23T09:59:46.636Z"
   },
   {
    "duration": 20,
    "start_time": "2022-09-23T09:59:46.799Z"
   },
   {
    "duration": 2,
    "start_time": "2022-09-23T09:59:47.107Z"
   },
   {
    "duration": 1355,
    "start_time": "2022-09-23T09:59:47.424Z"
   },
   {
    "duration": 1647,
    "start_time": "2022-09-23T10:01:04.677Z"
   },
   {
    "duration": 12,
    "start_time": "2022-09-23T10:03:37.584Z"
   },
   {
    "duration": 483,
    "start_time": "2022-09-23T10:03:52.033Z"
   },
   {
    "duration": 4,
    "start_time": "2022-09-23T10:03:57.552Z"
   },
   {
    "duration": 855,
    "start_time": "2022-09-23T10:03:57.712Z"
   },
   {
    "duration": 109,
    "start_time": "2022-09-23T10:03:58.569Z"
   },
   {
    "duration": 4,
    "start_time": "2022-09-23T10:03:58.679Z"
   },
   {
    "duration": 40,
    "start_time": "2022-09-23T10:03:58.684Z"
   },
   {
    "duration": 19,
    "start_time": "2022-09-23T10:03:58.725Z"
   },
   {
    "duration": 104,
    "start_time": "2022-09-23T10:03:58.746Z"
   },
   {
    "duration": 118,
    "start_time": "2022-09-23T10:03:58.852Z"
   },
   {
    "duration": 219,
    "start_time": "2022-09-23T10:03:58.972Z"
   },
   {
    "duration": 183,
    "start_time": "2022-09-23T10:03:59.193Z"
   },
   {
    "duration": 83,
    "start_time": "2022-09-23T10:03:59.379Z"
   },
   {
    "duration": 26,
    "start_time": "2022-09-23T10:03:59.464Z"
   },
   {
    "duration": 4,
    "start_time": "2022-09-23T10:03:59.492Z"
   },
   {
    "duration": 76,
    "start_time": "2022-09-23T10:03:59.527Z"
   },
   {
    "duration": 85,
    "start_time": "2022-09-23T10:03:59.675Z"
   },
   {
    "duration": 20,
    "start_time": "2022-09-23T10:03:59.832Z"
   },
   {
    "duration": 2,
    "start_time": "2022-09-23T10:03:59.977Z"
   },
   {
    "duration": 464,
    "start_time": "2022-09-23T10:04:00.189Z"
   },
   {
    "duration": 27,
    "start_time": "2022-09-23T10:04:02.745Z"
   },
   {
    "duration": 91,
    "start_time": "2022-09-23T10:04:30.494Z"
   },
   {
    "duration": 9,
    "start_time": "2022-09-23T10:07:43.893Z"
   },
   {
    "duration": 9,
    "start_time": "2022-09-23T10:08:04.124Z"
   },
   {
    "duration": 9,
    "start_time": "2022-09-23T10:08:06.977Z"
   },
   {
    "duration": 5,
    "start_time": "2022-09-23T10:08:16.340Z"
   },
   {
    "duration": 797,
    "start_time": "2022-09-23T10:08:16.477Z"
   },
   {
    "duration": 106,
    "start_time": "2022-09-23T10:08:17.276Z"
   },
   {
    "duration": 3,
    "start_time": "2022-09-23T10:08:17.383Z"
   },
   {
    "duration": 27,
    "start_time": "2022-09-23T10:08:17.388Z"
   },
   {
    "duration": 18,
    "start_time": "2022-09-23T10:08:17.417Z"
   },
   {
    "duration": 111,
    "start_time": "2022-09-23T10:08:17.436Z"
   },
   {
    "duration": 116,
    "start_time": "2022-09-23T10:08:17.549Z"
   },
   {
    "duration": 227,
    "start_time": "2022-09-23T10:08:17.668Z"
   },
   {
    "duration": 203,
    "start_time": "2022-09-23T10:08:17.896Z"
   },
   {
    "duration": 99,
    "start_time": "2022-09-23T10:08:18.101Z"
   },
   {
    "duration": 37,
    "start_time": "2022-09-23T10:08:18.201Z"
   },
   {
    "duration": 5,
    "start_time": "2022-09-23T10:08:18.240Z"
   },
   {
    "duration": 77,
    "start_time": "2022-09-23T10:08:18.362Z"
   },
   {
    "duration": 74,
    "start_time": "2022-09-23T10:08:18.560Z"
   },
   {
    "duration": 21,
    "start_time": "2022-09-23T10:08:19.569Z"
   },
   {
    "duration": 3,
    "start_time": "2022-09-23T10:08:19.999Z"
   },
   {
    "duration": 1107,
    "start_time": "2022-09-23T10:08:20.507Z"
   },
   {
    "duration": 4,
    "start_time": "2022-09-23T10:08:31.747Z"
   },
   {
    "duration": 792,
    "start_time": "2022-09-23T10:08:32.034Z"
   },
   {
    "duration": 107,
    "start_time": "2022-09-23T10:08:32.828Z"
   },
   {
    "duration": 3,
    "start_time": "2022-09-23T10:08:32.937Z"
   },
   {
    "duration": 33,
    "start_time": "2022-09-23T10:08:32.942Z"
   },
   {
    "duration": 11,
    "start_time": "2022-09-23T10:08:32.977Z"
   },
   {
    "duration": 103,
    "start_time": "2022-09-23T10:08:32.990Z"
   },
   {
    "duration": 120,
    "start_time": "2022-09-23T10:08:33.095Z"
   },
   {
    "duration": 216,
    "start_time": "2022-09-23T10:08:33.217Z"
   },
   {
    "duration": 178,
    "start_time": "2022-09-23T10:08:33.435Z"
   },
   {
    "duration": 69,
    "start_time": "2022-09-23T10:08:33.722Z"
   },
   {
    "duration": 31,
    "start_time": "2022-09-23T10:08:33.963Z"
   },
   {
    "duration": 4,
    "start_time": "2022-09-23T10:08:34.281Z"
   },
   {
    "duration": 74,
    "start_time": "2022-09-23T10:08:34.613Z"
   },
   {
    "duration": 70,
    "start_time": "2022-09-23T10:08:34.802Z"
   },
   {
    "duration": 26,
    "start_time": "2022-09-23T10:08:34.963Z"
   },
   {
    "duration": 3,
    "start_time": "2022-09-23T10:08:35.129Z"
   },
   {
    "duration": 486,
    "start_time": "2022-09-23T10:08:35.543Z"
   },
   {
    "duration": 18,
    "start_time": "2022-09-23T10:08:38.434Z"
   },
   {
    "duration": 15,
    "start_time": "2022-09-23T10:09:04.914Z"
   },
   {
    "duration": 5,
    "start_time": "2022-09-23T10:09:10.155Z"
   },
   {
    "duration": 777,
    "start_time": "2022-09-23T10:09:10.297Z"
   },
   {
    "duration": 116,
    "start_time": "2022-09-23T10:09:11.076Z"
   },
   {
    "duration": 3,
    "start_time": "2022-09-23T10:09:11.193Z"
   },
   {
    "duration": 39,
    "start_time": "2022-09-23T10:09:11.198Z"
   },
   {
    "duration": 12,
    "start_time": "2022-09-23T10:09:11.239Z"
   },
   {
    "duration": 93,
    "start_time": "2022-09-23T10:09:11.252Z"
   },
   {
    "duration": 120,
    "start_time": "2022-09-23T10:09:11.347Z"
   },
   {
    "duration": 231,
    "start_time": "2022-09-23T10:09:11.469Z"
   },
   {
    "duration": 190,
    "start_time": "2022-09-23T10:09:11.701Z"
   },
   {
    "duration": 77,
    "start_time": "2022-09-23T10:09:11.893Z"
   },
   {
    "duration": 25,
    "start_time": "2022-09-23T10:09:11.972Z"
   },
   {
    "duration": 4,
    "start_time": "2022-09-23T10:09:12.073Z"
   },
   {
    "duration": 76,
    "start_time": "2022-09-23T10:09:12.229Z"
   },
   {
    "duration": 70,
    "start_time": "2022-09-23T10:09:12.371Z"
   },
   {
    "duration": 20,
    "start_time": "2022-09-23T10:09:12.524Z"
   },
   {
    "duration": 2,
    "start_time": "2022-09-23T10:09:12.680Z"
   },
   {
    "duration": 496,
    "start_time": "2022-09-23T10:09:12.852Z"
   },
   {
    "duration": 18,
    "start_time": "2022-09-23T10:09:13.350Z"
   },
   {
    "duration": 12,
    "start_time": "2022-09-23T10:09:13.370Z"
   },
   {
    "duration": 138,
    "start_time": "2022-09-23T10:09:13.476Z"
   },
   {
    "duration": 354,
    "start_time": "2022-09-23T10:09:13.655Z"
   },
   {
    "duration": 33,
    "start_time": "2022-09-23T10:09:14.011Z"
   },
   {
    "duration": 21,
    "start_time": "2022-09-23T10:09:14.296Z"
   },
   {
    "duration": 180,
    "start_time": "2022-09-23T10:09:14.666Z"
   },
   {
    "duration": 3,
    "start_time": "2022-09-23T10:09:15.630Z"
   },
   {
    "duration": 3,
    "start_time": "2022-09-23T10:09:16.301Z"
   },
   {
    "duration": 1383,
    "start_time": "2022-09-23T11:09:13.346Z"
   },
   {
    "duration": 913,
    "start_time": "2022-09-23T11:09:14.731Z"
   },
   {
    "duration": 118,
    "start_time": "2022-09-23T11:09:15.646Z"
   },
   {
    "duration": 3,
    "start_time": "2022-09-23T11:09:15.765Z"
   },
   {
    "duration": 68,
    "start_time": "2022-09-23T11:09:15.770Z"
   },
   {
    "duration": 16,
    "start_time": "2022-09-23T11:09:15.840Z"
   },
   {
    "duration": 96,
    "start_time": "2022-09-23T11:09:15.858Z"
   },
   {
    "duration": 124,
    "start_time": "2022-09-23T11:09:15.955Z"
   },
   {
    "duration": 252,
    "start_time": "2022-09-23T11:09:16.080Z"
   },
   {
    "duration": 262,
    "start_time": "2022-09-23T11:09:16.334Z"
   },
   {
    "duration": 98,
    "start_time": "2022-09-23T11:09:16.598Z"
   },
   {
    "duration": 45,
    "start_time": "2022-09-23T11:09:16.698Z"
   },
   {
    "duration": 4,
    "start_time": "2022-09-23T11:09:16.749Z"
   },
   {
    "duration": 94,
    "start_time": "2022-09-23T11:09:16.756Z"
   },
   {
    "duration": 93,
    "start_time": "2022-09-23T11:09:16.853Z"
   },
   {
    "duration": 25,
    "start_time": "2022-09-23T11:09:16.948Z"
   },
   {
    "duration": 12,
    "start_time": "2022-09-23T11:09:16.975Z"
   },
   {
    "duration": 558,
    "start_time": "2022-09-23T11:09:16.989Z"
   },
   {
    "duration": 18,
    "start_time": "2022-09-23T11:09:17.549Z"
   },
   {
    "duration": 10,
    "start_time": "2022-09-23T11:09:17.568Z"
   },
   {
    "duration": 22,
    "start_time": "2022-09-23T11:09:17.580Z"
   },
   {
    "duration": 59,
    "start_time": "2022-09-23T11:09:17.604Z"
   },
   {
    "duration": 36,
    "start_time": "2022-09-23T11:09:17.665Z"
   },
   {
    "duration": 46,
    "start_time": "2022-09-23T11:09:17.704Z"
   },
   {
    "duration": 205,
    "start_time": "2022-09-23T11:09:17.752Z"
   },
   {
    "duration": 4,
    "start_time": "2022-09-23T11:09:17.958Z"
   },
   {
    "duration": 9,
    "start_time": "2022-09-23T11:09:17.963Z"
   },
   {
    "duration": 8110,
    "start_time": "2022-09-23T11:09:17.974Z"
   },
   {
    "duration": 7,
    "start_time": "2022-09-23T11:09:26.085Z"
   },
   {
    "duration": 1730,
    "start_time": "2022-09-23T15:30:58.203Z"
   },
   {
    "duration": 3213,
    "start_time": "2022-09-23T15:30:59.936Z"
   },
   {
    "duration": 97,
    "start_time": "2022-09-23T15:31:03.150Z"
   },
   {
    "duration": 3,
    "start_time": "2022-09-23T15:31:03.249Z"
   },
   {
    "duration": 67,
    "start_time": "2022-09-23T15:31:03.253Z"
   },
   {
    "duration": 16,
    "start_time": "2022-09-23T15:31:03.322Z"
   },
   {
    "duration": 95,
    "start_time": "2022-09-23T15:31:03.340Z"
   },
   {
    "duration": 114,
    "start_time": "2022-09-23T15:31:03.436Z"
   },
   {
    "duration": 255,
    "start_time": "2022-09-23T15:31:03.551Z"
   },
   {
    "duration": 212,
    "start_time": "2022-09-23T15:31:03.808Z"
   },
   {
    "duration": 73,
    "start_time": "2022-09-23T15:31:04.022Z"
   },
   {
    "duration": 31,
    "start_time": "2022-09-23T15:31:04.097Z"
   },
   {
    "duration": 5,
    "start_time": "2022-09-23T15:31:04.129Z"
   },
   {
    "duration": 88,
    "start_time": "2022-09-23T15:31:04.136Z"
   },
   {
    "duration": 73,
    "start_time": "2022-09-23T15:31:04.226Z"
   },
   {
    "duration": 20,
    "start_time": "2022-09-23T15:31:04.301Z"
   },
   {
    "duration": 6,
    "start_time": "2022-09-23T15:31:04.323Z"
   },
   {
    "duration": 515,
    "start_time": "2022-09-23T15:31:04.331Z"
   },
   {
    "duration": 21,
    "start_time": "2022-09-23T15:31:04.848Z"
   },
   {
    "duration": 3,
    "start_time": "2022-09-23T15:31:04.871Z"
   },
   {
    "duration": 38,
    "start_time": "2022-09-23T15:31:04.875Z"
   },
   {
    "duration": 55,
    "start_time": "2022-09-23T15:31:04.915Z"
   },
   {
    "duration": 28,
    "start_time": "2022-09-23T15:31:04.972Z"
   },
   {
    "duration": 31,
    "start_time": "2022-09-23T15:31:05.002Z"
   },
   {
    "duration": 235,
    "start_time": "2022-09-23T15:31:05.035Z"
   },
   {
    "duration": 4,
    "start_time": "2022-09-23T15:31:05.271Z"
   },
   {
    "duration": 17,
    "start_time": "2022-09-23T15:31:05.278Z"
   },
   {
    "duration": 8166,
    "start_time": "2022-09-23T15:31:05.297Z"
   },
   {
    "duration": 32,
    "start_time": "2022-09-23T15:31:13.464Z"
   },
   {
    "duration": 5,
    "start_time": "2022-09-23T15:36:01.971Z"
   },
   {
    "duration": 857,
    "start_time": "2022-09-23T15:36:59.132Z"
   },
   {
    "duration": 4,
    "start_time": "2022-09-23T15:57:37.419Z"
   },
   {
    "duration": 1434,
    "start_time": "2022-09-23T16:01:18.350Z"
   },
   {
    "duration": 953,
    "start_time": "2022-09-23T16:01:19.786Z"
   },
   {
    "duration": 106,
    "start_time": "2022-09-23T16:01:20.741Z"
   },
   {
    "duration": 4,
    "start_time": "2022-09-23T16:01:20.849Z"
   },
   {
    "duration": 67,
    "start_time": "2022-09-23T16:01:20.855Z"
   },
   {
    "duration": 18,
    "start_time": "2022-09-23T16:01:20.924Z"
   },
   {
    "duration": 100,
    "start_time": "2022-09-23T16:01:20.944Z"
   },
   {
    "duration": 124,
    "start_time": "2022-09-23T16:01:21.046Z"
   },
   {
    "duration": 251,
    "start_time": "2022-09-23T16:01:21.172Z"
   },
   {
    "duration": 204,
    "start_time": "2022-09-23T16:01:21.425Z"
   },
   {
    "duration": 74,
    "start_time": "2022-09-23T16:01:21.631Z"
   },
   {
    "duration": 29,
    "start_time": "2022-09-23T16:01:21.707Z"
   },
   {
    "duration": 5,
    "start_time": "2022-09-23T16:01:21.737Z"
   },
   {
    "duration": 89,
    "start_time": "2022-09-23T16:01:21.745Z"
   },
   {
    "duration": 74,
    "start_time": "2022-09-23T16:01:21.836Z"
   },
   {
    "duration": 22,
    "start_time": "2022-09-23T16:01:21.911Z"
   },
   {
    "duration": 8,
    "start_time": "2022-09-23T16:01:21.934Z"
   },
   {
    "duration": 520,
    "start_time": "2022-09-23T16:01:21.944Z"
   },
   {
    "duration": 29,
    "start_time": "2022-09-23T16:01:22.466Z"
   },
   {
    "duration": 2,
    "start_time": "2022-09-23T16:01:22.497Z"
   },
   {
    "duration": 22,
    "start_time": "2022-09-23T16:01:22.501Z"
   },
   {
    "duration": 51,
    "start_time": "2022-09-23T16:01:22.525Z"
   },
   {
    "duration": 22,
    "start_time": "2022-09-23T16:01:22.594Z"
   },
   {
    "duration": 31,
    "start_time": "2022-09-23T16:01:22.617Z"
   },
   {
    "duration": 239,
    "start_time": "2022-09-23T16:01:22.650Z"
   },
   {
    "duration": 6,
    "start_time": "2022-09-23T16:01:22.890Z"
   },
   {
    "duration": 7,
    "start_time": "2022-09-23T16:01:22.898Z"
   },
   {
    "duration": 10,
    "start_time": "2022-09-23T16:01:22.907Z"
   },
   {
    "duration": 8148,
    "start_time": "2022-09-23T16:01:22.918Z"
   },
   {
    "duration": 31,
    "start_time": "2022-09-23T16:01:31.068Z"
   },
   {
    "duration": 104,
    "start_time": "2022-09-23T16:01:31.103Z"
   },
   {
    "duration": 4,
    "start_time": "2022-09-23T16:01:46.269Z"
   },
   {
    "duration": 80,
    "start_time": "2022-09-23T16:03:41.308Z"
   },
   {
    "duration": 3,
    "start_time": "2022-09-23T16:03:44.200Z"
   },
   {
    "duration": 453,
    "start_time": "2022-09-23T16:03:55.716Z"
   },
   {
    "duration": 4,
    "start_time": "2022-09-23T16:04:41.193Z"
   },
   {
    "duration": 90,
    "start_time": "2022-09-23T16:04:41.732Z"
   },
   {
    "duration": 3,
    "start_time": "2022-09-23T16:05:06.420Z"
   },
   {
    "duration": 373,
    "start_time": "2022-09-23T16:05:06.713Z"
   },
   {
    "duration": 3,
    "start_time": "2022-09-23T16:05:33.061Z"
   },
   {
    "duration": 138,
    "start_time": "2022-09-23T16:05:33.561Z"
   },
   {
    "duration": 12,
    "start_time": "2022-09-23T16:05:57.099Z"
   },
   {
    "duration": 4,
    "start_time": "2022-09-23T16:06:04.828Z"
   },
   {
    "duration": 213075,
    "start_time": "2022-09-23T16:06:06.988Z"
   },
   {
    "duration": 3,
    "start_time": "2022-09-23T16:09:48.107Z"
   },
   {
    "duration": 43694,
    "start_time": "2022-09-23T16:09:48.739Z"
   },
   {
    "duration": 36,
    "start_time": "2022-09-23T16:10:58.282Z"
   },
   {
    "duration": 9,
    "start_time": "2022-09-23T16:11:06.854Z"
   },
   {
    "duration": 4,
    "start_time": "2022-09-23T16:11:11.943Z"
   },
   {
    "duration": 13,
    "start_time": "2022-09-23T16:11:35.083Z"
   },
   {
    "duration": 38,
    "start_time": "2022-09-23T16:11:37.297Z"
   },
   {
    "duration": 7,
    "start_time": "2022-09-23T16:11:38.284Z"
   },
   {
    "duration": 3,
    "start_time": "2022-09-23T16:11:38.984Z"
   },
   {
    "duration": 5,
    "start_time": "2022-09-23T16:14:01.188Z"
   },
   {
    "duration": 9,
    "start_time": "2022-09-23T16:15:19.804Z"
   },
   {
    "duration": 4,
    "start_time": "2022-09-23T16:15:26.506Z"
   },
   {
    "duration": 3,
    "start_time": "2022-09-23T16:15:35.227Z"
   },
   {
    "duration": 5,
    "start_time": "2022-09-23T16:15:47.590Z"
   },
   {
    "duration": 9,
    "start_time": "2022-09-23T16:15:59.083Z"
   },
   {
    "duration": 5,
    "start_time": "2022-09-23T16:16:02.126Z"
   },
   {
    "duration": 5,
    "start_time": "2022-09-23T16:16:36.807Z"
   },
   {
    "duration": 3,
    "start_time": "2022-09-23T16:16:37.337Z"
   },
   {
    "duration": 112,
    "start_time": "2022-09-23T16:18:14.281Z"
   },
   {
    "duration": 4,
    "start_time": "2022-09-23T16:18:18.222Z"
   },
   {
    "duration": 130308,
    "start_time": "2022-09-23T16:18:19.313Z"
   },
   {
    "duration": 38,
    "start_time": "2022-09-23T16:20:37.877Z"
   },
   {
    "duration": 8,
    "start_time": "2022-09-23T16:20:38.597Z"
   },
   {
    "duration": 4,
    "start_time": "2022-09-23T16:20:39.086Z"
   },
   {
    "duration": 4,
    "start_time": "2022-09-23T16:20:39.664Z"
   },
   {
    "duration": 4,
    "start_time": "2022-09-23T16:20:40.094Z"
   },
   {
    "duration": 3,
    "start_time": "2022-09-23T16:22:07.951Z"
   },
   {
    "duration": 176139,
    "start_time": "2022-09-23T16:22:08.612Z"
   },
   {
    "duration": 44,
    "start_time": "2022-09-23T16:25:12.512Z"
   },
   {
    "duration": 7,
    "start_time": "2022-09-23T16:25:13.072Z"
   },
   {
    "duration": 3,
    "start_time": "2022-09-23T16:25:13.484Z"
   },
   {
    "duration": 4,
    "start_time": "2022-09-23T16:25:14.276Z"
   },
   {
    "duration": 3,
    "start_time": "2022-09-23T16:25:14.475Z"
   },
   {
    "duration": 4,
    "start_time": "2022-09-23T16:28:28.562Z"
   },
   {
    "duration": 123682,
    "start_time": "2022-09-23T16:28:29.665Z"
   },
   {
    "duration": 50,
    "start_time": "2022-09-23T16:30:33.349Z"
   },
   {
    "duration": 7,
    "start_time": "2022-09-23T16:30:33.400Z"
   },
   {
    "duration": 4,
    "start_time": "2022-09-23T16:30:33.409Z"
   },
   {
    "duration": 6,
    "start_time": "2022-09-23T16:30:33.415Z"
   },
   {
    "duration": 5,
    "start_time": "2022-09-23T16:30:33.422Z"
   },
   {
    "duration": 4,
    "start_time": "2022-09-23T16:31:16.044Z"
   },
   {
    "duration": 67345,
    "start_time": "2022-09-23T16:31:16.585Z"
   },
   {
    "duration": 49,
    "start_time": "2022-09-23T16:32:23.932Z"
   },
   {
    "duration": 7,
    "start_time": "2022-09-23T16:32:23.983Z"
   },
   {
    "duration": 4,
    "start_time": "2022-09-23T16:32:23.992Z"
   },
   {
    "duration": 11,
    "start_time": "2022-09-23T16:32:23.997Z"
   },
   {
    "duration": 4,
    "start_time": "2022-09-23T16:32:24.010Z"
   },
   {
    "duration": 3,
    "start_time": "2022-09-23T16:32:39.632Z"
   },
   {
    "duration": 123388,
    "start_time": "2022-09-23T16:32:39.794Z"
   },
   {
    "duration": 69,
    "start_time": "2022-09-23T16:34:43.184Z"
   },
   {
    "duration": 7,
    "start_time": "2022-09-23T16:34:43.255Z"
   },
   {
    "duration": 3,
    "start_time": "2022-09-23T16:34:43.264Z"
   },
   {
    "duration": 7,
    "start_time": "2022-09-23T16:34:43.269Z"
   },
   {
    "duration": 3,
    "start_time": "2022-09-23T16:34:43.295Z"
   },
   {
    "duration": 3,
    "start_time": "2022-09-23T16:35:04.945Z"
   },
   {
    "duration": 150549,
    "start_time": "2022-09-23T16:35:05.084Z"
   },
   {
    "duration": 73,
    "start_time": "2022-09-23T16:37:35.635Z"
   },
   {
    "duration": 8,
    "start_time": "2022-09-23T16:37:35.710Z"
   },
   {
    "duration": 4,
    "start_time": "2022-09-23T16:37:35.720Z"
   },
   {
    "duration": 6,
    "start_time": "2022-09-23T16:37:35.726Z"
   },
   {
    "duration": 3,
    "start_time": "2022-09-23T16:37:35.734Z"
   },
   {
    "duration": 3,
    "start_time": "2022-09-23T16:38:09.573Z"
   },
   {
    "duration": 77428,
    "start_time": "2022-09-23T16:38:09.777Z"
   },
   {
    "duration": 56,
    "start_time": "2022-09-23T16:39:27.207Z"
   },
   {
    "duration": 6,
    "start_time": "2022-09-23T16:39:27.265Z"
   },
   {
    "duration": 7,
    "start_time": "2022-09-23T16:39:27.273Z"
   },
   {
    "duration": 14,
    "start_time": "2022-09-23T16:39:27.281Z"
   },
   {
    "duration": 4,
    "start_time": "2022-09-23T16:39:27.296Z"
   },
   {
    "duration": 3,
    "start_time": "2022-09-23T16:39:52.488Z"
   },
   {
    "duration": 91693,
    "start_time": "2022-09-23T16:39:52.688Z"
   },
   {
    "duration": 61,
    "start_time": "2022-09-23T16:41:24.383Z"
   },
   {
    "duration": 7,
    "start_time": "2022-09-23T16:41:24.445Z"
   },
   {
    "duration": 4,
    "start_time": "2022-09-23T16:41:24.454Z"
   },
   {
    "duration": 7,
    "start_time": "2022-09-23T16:41:24.459Z"
   },
   {
    "duration": 4,
    "start_time": "2022-09-23T16:41:24.468Z"
   },
   {
    "duration": 4,
    "start_time": "2022-09-23T16:41:41.073Z"
   },
   {
    "duration": 75447,
    "start_time": "2022-09-23T16:41:41.206Z"
   },
   {
    "duration": 55,
    "start_time": "2022-09-23T16:42:56.657Z"
   },
   {
    "duration": 9,
    "start_time": "2022-09-23T16:42:56.714Z"
   },
   {
    "duration": 10,
    "start_time": "2022-09-23T16:42:56.726Z"
   },
   {
    "duration": 12,
    "start_time": "2022-09-23T16:42:56.738Z"
   },
   {
    "duration": 12,
    "start_time": "2022-09-23T16:42:56.753Z"
   },
   {
    "duration": 3,
    "start_time": "2022-09-23T16:43:34.192Z"
   },
   {
    "duration": 26885,
    "start_time": "2022-09-23T16:43:34.671Z"
   },
   {
    "duration": 49,
    "start_time": "2022-09-23T16:44:01.558Z"
   },
   {
    "duration": 7,
    "start_time": "2022-09-23T16:44:01.608Z"
   },
   {
    "duration": 4,
    "start_time": "2022-09-23T16:44:01.616Z"
   },
   {
    "duration": 14,
    "start_time": "2022-09-23T16:44:01.621Z"
   },
   {
    "duration": 11,
    "start_time": "2022-09-23T16:44:01.636Z"
   },
   {
    "duration": 3,
    "start_time": "2022-09-23T16:44:16.467Z"
   },
   {
    "duration": 41919,
    "start_time": "2022-09-23T16:44:16.585Z"
   },
   {
    "duration": 74,
    "start_time": "2022-09-23T16:44:58.506Z"
   },
   {
    "duration": 13,
    "start_time": "2022-09-23T16:44:58.582Z"
   },
   {
    "duration": 3,
    "start_time": "2022-09-23T16:44:58.598Z"
   },
   {
    "duration": 8,
    "start_time": "2022-09-23T16:44:58.602Z"
   },
   {
    "duration": 4,
    "start_time": "2022-09-23T16:44:58.611Z"
   },
   {
    "duration": 4,
    "start_time": "2022-09-23T16:45:16.131Z"
   },
   {
    "duration": 32322,
    "start_time": "2022-09-23T16:45:16.147Z"
   },
   {
    "duration": 67,
    "start_time": "2022-09-23T16:45:48.471Z"
   },
   {
    "duration": 8,
    "start_time": "2022-09-23T16:45:48.540Z"
   },
   {
    "duration": 5,
    "start_time": "2022-09-23T16:45:48.550Z"
   },
   {
    "duration": 7,
    "start_time": "2022-09-23T16:45:48.556Z"
   },
   {
    "duration": 8,
    "start_time": "2022-09-23T16:45:48.564Z"
   },
   {
    "duration": 3,
    "start_time": "2022-09-23T16:45:58.153Z"
   },
   {
    "duration": 40413,
    "start_time": "2022-09-23T16:45:58.193Z"
   },
   {
    "duration": 70,
    "start_time": "2022-09-23T16:46:38.608Z"
   },
   {
    "duration": 16,
    "start_time": "2022-09-23T16:46:38.680Z"
   },
   {
    "duration": 4,
    "start_time": "2022-09-23T16:46:38.698Z"
   },
   {
    "duration": 6,
    "start_time": "2022-09-23T16:46:38.704Z"
   },
   {
    "duration": 4,
    "start_time": "2022-09-23T16:46:38.711Z"
   },
   {
    "duration": 4,
    "start_time": "2022-09-23T16:46:55.805Z"
   },
   {
    "duration": 25748,
    "start_time": "2022-09-23T16:46:55.845Z"
   },
   {
    "duration": 90,
    "start_time": "2022-09-23T16:47:21.595Z"
   },
   {
    "duration": 13,
    "start_time": "2022-09-23T16:47:21.687Z"
   },
   {
    "duration": 5,
    "start_time": "2022-09-23T16:47:21.703Z"
   },
   {
    "duration": 8,
    "start_time": "2022-09-23T16:47:21.710Z"
   },
   {
    "duration": 5,
    "start_time": "2022-09-23T16:47:21.720Z"
   },
   {
    "duration": 4,
    "start_time": "2022-09-23T16:47:30.871Z"
   },
   {
    "duration": 37117,
    "start_time": "2022-09-23T16:47:31.006Z"
   },
   {
    "duration": 118,
    "start_time": "2022-09-23T16:48:08.125Z"
   },
   {
    "duration": 7,
    "start_time": "2022-09-23T16:48:08.245Z"
   },
   {
    "duration": 4,
    "start_time": "2022-09-23T16:48:08.254Z"
   },
   {
    "duration": 9,
    "start_time": "2022-09-23T16:48:08.260Z"
   },
   {
    "duration": 5,
    "start_time": "2022-09-23T16:48:08.270Z"
   },
   {
    "duration": 3,
    "start_time": "2022-09-23T16:48:28.016Z"
   },
   {
    "duration": 36633,
    "start_time": "2022-09-23T16:48:28.126Z"
   },
   {
    "duration": 97,
    "start_time": "2022-09-23T16:49:04.761Z"
   },
   {
    "duration": 8,
    "start_time": "2022-09-23T16:49:04.860Z"
   },
   {
    "duration": 10,
    "start_time": "2022-09-23T16:49:04.871Z"
   },
   {
    "duration": 8,
    "start_time": "2022-09-23T16:49:04.894Z"
   },
   {
    "duration": 6,
    "start_time": "2022-09-23T16:49:04.904Z"
   },
   {
    "duration": 3,
    "start_time": "2022-09-23T16:49:16.030Z"
   },
   {
    "duration": 22336,
    "start_time": "2022-09-23T16:49:16.044Z"
   },
   {
    "duration": 42,
    "start_time": "2022-09-23T16:49:38.382Z"
   },
   {
    "duration": 7,
    "start_time": "2022-09-23T16:49:38.425Z"
   },
   {
    "duration": 3,
    "start_time": "2022-09-23T16:49:38.434Z"
   },
   {
    "duration": 8,
    "start_time": "2022-09-23T16:49:38.438Z"
   },
   {
    "duration": 4,
    "start_time": "2022-09-23T16:49:38.447Z"
   },
   {
    "duration": 6,
    "start_time": "2022-09-23T16:49:49.634Z"
   },
   {
    "duration": 22182,
    "start_time": "2022-09-23T16:49:49.797Z"
   },
   {
    "duration": 47,
    "start_time": "2022-09-23T16:50:11.981Z"
   },
   {
    "duration": 6,
    "start_time": "2022-09-23T16:50:12.031Z"
   },
   {
    "duration": 3,
    "start_time": "2022-09-23T16:50:12.040Z"
   },
   {
    "duration": 6,
    "start_time": "2022-09-23T16:50:12.045Z"
   },
   {
    "duration": 4,
    "start_time": "2022-09-23T16:50:12.052Z"
   },
   {
    "duration": 27,
    "start_time": "2022-09-23T16:50:54.150Z"
   },
   {
    "duration": 356,
    "start_time": "2022-09-23T16:51:09.153Z"
   },
   {
    "duration": 6,
    "start_time": "2022-09-23T16:51:16.442Z"
   },
   {
    "duration": 4,
    "start_time": "2022-09-23T16:51:37.321Z"
   },
   {
    "duration": 5,
    "start_time": "2022-09-23T16:51:43.625Z"
   },
   {
    "duration": 3,
    "start_time": "2022-09-23T16:52:07.609Z"
   },
   {
    "duration": 401704,
    "start_time": "2022-09-23T16:52:07.615Z"
   },
   {
    "duration": 42,
    "start_time": "2022-09-23T16:58:49.321Z"
   },
   {
    "duration": 7,
    "start_time": "2022-09-23T16:58:49.365Z"
   },
   {
    "duration": 3,
    "start_time": "2022-09-23T16:58:49.374Z"
   },
   {
    "duration": 8,
    "start_time": "2022-09-23T16:58:49.378Z"
   },
   {
    "duration": 4,
    "start_time": "2022-09-23T16:58:49.387Z"
   },
   {
    "duration": 24,
    "start_time": "2022-09-23T16:58:49.393Z"
   },
   {
    "duration": 6,
    "start_time": "2022-09-23T16:58:49.418Z"
   },
   {
    "duration": 4,
    "start_time": "2022-09-23T16:58:49.426Z"
   },
   {
    "duration": 3,
    "start_time": "2022-09-23T16:59:08.619Z"
   },
   {
    "duration": 21927,
    "start_time": "2022-09-23T16:59:08.880Z"
   },
   {
    "duration": 46,
    "start_time": "2022-09-23T16:59:30.809Z"
   },
   {
    "duration": 7,
    "start_time": "2022-09-23T16:59:30.856Z"
   },
   {
    "duration": 7,
    "start_time": "2022-09-23T16:59:30.866Z"
   },
   {
    "duration": 20,
    "start_time": "2022-09-23T16:59:30.874Z"
   },
   {
    "duration": 11,
    "start_time": "2022-09-23T16:59:30.896Z"
   },
   {
    "duration": 32,
    "start_time": "2022-09-23T16:59:30.908Z"
   },
   {
    "duration": 5,
    "start_time": "2022-09-23T16:59:30.942Z"
   },
   {
    "duration": 7,
    "start_time": "2022-09-23T16:59:30.949Z"
   },
   {
    "duration": 4,
    "start_time": "2022-09-23T16:59:57.254Z"
   },
   {
    "duration": 23276,
    "start_time": "2022-09-23T16:59:57.262Z"
   },
   {
    "duration": 46,
    "start_time": "2022-09-23T17:00:20.540Z"
   },
   {
    "duration": 7,
    "start_time": "2022-09-23T17:00:20.588Z"
   },
   {
    "duration": 4,
    "start_time": "2022-09-23T17:00:20.597Z"
   },
   {
    "duration": 7,
    "start_time": "2022-09-23T17:00:20.602Z"
   },
   {
    "duration": 3,
    "start_time": "2022-09-23T17:00:20.611Z"
   },
   {
    "duration": 28,
    "start_time": "2022-09-23T17:00:20.616Z"
   },
   {
    "duration": 7,
    "start_time": "2022-09-23T17:00:20.646Z"
   },
   {
    "duration": 4,
    "start_time": "2022-09-23T17:00:20.655Z"
   },
   {
    "duration": 3,
    "start_time": "2022-09-23T17:00:32.116Z"
   },
   {
    "duration": 98898,
    "start_time": "2022-09-23T17:00:32.236Z"
   },
   {
    "duration": 45,
    "start_time": "2022-09-23T17:02:11.136Z"
   },
   {
    "duration": 7,
    "start_time": "2022-09-23T17:02:11.183Z"
   },
   {
    "duration": 3,
    "start_time": "2022-09-23T17:02:11.192Z"
   },
   {
    "duration": 6,
    "start_time": "2022-09-23T17:02:11.196Z"
   },
   {
    "duration": 3,
    "start_time": "2022-09-23T17:02:11.204Z"
   },
   {
    "duration": 26,
    "start_time": "2022-09-23T17:02:11.208Z"
   },
   {
    "duration": 6,
    "start_time": "2022-09-23T17:02:11.236Z"
   },
   {
    "duration": 5,
    "start_time": "2022-09-23T17:02:11.243Z"
   },
   {
    "duration": 4,
    "start_time": "2022-09-23T17:02:19.166Z"
   },
   {
    "duration": 22842,
    "start_time": "2022-09-23T17:02:19.225Z"
   },
   {
    "duration": 41,
    "start_time": "2022-09-23T17:02:42.069Z"
   },
   {
    "duration": 8,
    "start_time": "2022-09-23T17:02:42.112Z"
   },
   {
    "duration": 3,
    "start_time": "2022-09-23T17:02:42.122Z"
   },
   {
    "duration": 6,
    "start_time": "2022-09-23T17:02:42.127Z"
   },
   {
    "duration": 4,
    "start_time": "2022-09-23T17:02:42.134Z"
   },
   {
    "duration": 56,
    "start_time": "2022-09-23T17:02:42.139Z"
   },
   {
    "duration": 6,
    "start_time": "2022-09-23T17:02:42.197Z"
   },
   {
    "duration": 4,
    "start_time": "2022-09-23T17:02:42.205Z"
   },
   {
    "duration": 10,
    "start_time": "2022-09-23T17:11:31.113Z"
   },
   {
    "duration": 26,
    "start_time": "2022-09-23T17:11:51.129Z"
   },
   {
    "duration": 3,
    "start_time": "2022-09-23T17:11:56.279Z"
   },
   {
    "duration": 3,
    "start_time": "2022-09-23T17:12:29.534Z"
   },
   {
    "duration": 3,
    "start_time": "2022-09-23T17:13:23.755Z"
   },
   {
    "duration": 4,
    "start_time": "2022-09-23T17:14:10.899Z"
   },
   {
    "duration": 7105,
    "start_time": "2022-09-23T17:14:11.207Z"
   },
   {
    "duration": 3,
    "start_time": "2022-09-23T17:15:30.575Z"
   },
   {
    "duration": 3617,
    "start_time": "2022-09-23T17:15:31.080Z"
   },
   {
    "duration": 3,
    "start_time": "2022-09-23T17:15:51.167Z"
   },
   {
    "duration": 3,
    "start_time": "2022-09-23T17:15:54.778Z"
   },
   {
    "duration": 6644,
    "start_time": "2022-09-23T17:15:55.172Z"
   },
   {
    "duration": 3,
    "start_time": "2022-09-23T17:16:21.010Z"
   },
   {
    "duration": 24582,
    "start_time": "2022-09-23T17:16:21.922Z"
   },
   {
    "duration": 184,
    "start_time": "2022-09-24T09:00:08.329Z"
   },
   {
    "duration": 1579,
    "start_time": "2022-09-24T09:01:09.928Z"
   },
   {
    "duration": 1153,
    "start_time": "2022-09-24T09:01:11.510Z"
   },
   {
    "duration": 99,
    "start_time": "2022-09-24T09:01:12.665Z"
   },
   {
    "duration": 3,
    "start_time": "2022-09-24T09:01:12.766Z"
   },
   {
    "duration": 29,
    "start_time": "2022-09-24T09:01:12.771Z"
   },
   {
    "duration": 15,
    "start_time": "2022-09-24T09:01:12.802Z"
   },
   {
    "duration": 89,
    "start_time": "2022-09-24T09:01:12.819Z"
   },
   {
    "duration": 137,
    "start_time": "2022-09-24T09:01:12.910Z"
   },
   {
    "duration": 238,
    "start_time": "2022-09-24T09:01:13.049Z"
   },
   {
    "duration": 179,
    "start_time": "2022-09-24T09:01:13.289Z"
   },
   {
    "duration": 79,
    "start_time": "2022-09-24T09:01:13.469Z"
   },
   {
    "duration": 25,
    "start_time": "2022-09-24T09:01:13.550Z"
   },
   {
    "duration": 4,
    "start_time": "2022-09-24T09:01:13.576Z"
   },
   {
    "duration": 90,
    "start_time": "2022-09-24T09:01:13.581Z"
   },
   {
    "duration": 139,
    "start_time": "2022-09-24T09:01:13.673Z"
   },
   {
    "duration": 27,
    "start_time": "2022-09-24T09:01:13.813Z"
   },
   {
    "duration": 2,
    "start_time": "2022-09-24T09:01:13.842Z"
   },
   {
    "duration": 472,
    "start_time": "2022-09-24T09:01:13.846Z"
   },
   {
    "duration": 18,
    "start_time": "2022-09-24T09:01:14.320Z"
   },
   {
    "duration": 4,
    "start_time": "2022-09-24T09:01:14.340Z"
   },
   {
    "duration": 18,
    "start_time": "2022-09-24T09:01:14.346Z"
   },
   {
    "duration": 46,
    "start_time": "2022-09-24T09:01:14.365Z"
   },
   {
    "duration": 34,
    "start_time": "2022-09-24T09:01:14.413Z"
   },
   {
    "duration": 32,
    "start_time": "2022-09-24T09:01:14.449Z"
   },
   {
    "duration": 208,
    "start_time": "2022-09-24T09:01:14.483Z"
   },
   {
    "duration": 3,
    "start_time": "2022-09-24T09:01:14.692Z"
   },
   {
    "duration": 7,
    "start_time": "2022-09-24T09:01:14.697Z"
   },
   {
    "duration": 9,
    "start_time": "2022-09-24T09:01:14.707Z"
   },
   {
    "duration": 8182,
    "start_time": "2022-09-24T09:01:14.717Z"
   },
   {
    "duration": 35,
    "start_time": "2022-09-24T09:01:22.901Z"
   },
   {
    "duration": 97,
    "start_time": "2022-09-24T09:01:22.940Z"
   },
   {
    "duration": 8,
    "start_time": "2022-09-24T09:01:23.038Z"
   },
   {
    "duration": 2,
    "start_time": "2022-09-24T09:01:23.048Z"
   },
   {
    "duration": 6,
    "start_time": "2022-09-24T09:01:23.052Z"
   },
   {
    "duration": 6,
    "start_time": "2022-09-24T09:01:23.059Z"
   },
   {
    "duration": 6,
    "start_time": "2022-09-24T09:01:23.067Z"
   },
   {
    "duration": 20178,
    "start_time": "2022-09-24T09:01:23.074Z"
   },
   {
    "duration": 44,
    "start_time": "2022-09-24T09:01:43.254Z"
   },
   {
    "duration": 6,
    "start_time": "2022-09-24T09:01:43.300Z"
   },
   {
    "duration": 5,
    "start_time": "2022-09-24T09:01:43.308Z"
   },
   {
    "duration": 6,
    "start_time": "2022-09-24T09:01:43.314Z"
   },
   {
    "duration": 5,
    "start_time": "2022-09-24T09:01:43.322Z"
   },
   {
    "duration": 25,
    "start_time": "2022-09-24T09:01:43.334Z"
   },
   {
    "duration": 6,
    "start_time": "2022-09-24T09:01:43.361Z"
   },
   {
    "duration": 5,
    "start_time": "2022-09-24T09:01:43.369Z"
   },
   {
    "duration": 4,
    "start_time": "2022-09-24T09:01:43.375Z"
   },
   {
    "duration": 26261,
    "start_time": "2022-09-24T09:01:43.380Z"
   },
   {
    "duration": 1099,
    "start_time": "2022-09-24T09:02:09.643Z"
   },
   {
    "duration": 4,
    "start_time": "2022-09-24T09:02:10.743Z"
   },
   {
    "duration": 13,
    "start_time": "2022-09-24T09:02:10.749Z"
   },
   {
    "duration": 486,
    "start_time": "2022-09-24T09:02:10.763Z"
   },
   {
    "duration": 0,
    "start_time": "2022-09-24T09:02:11.251Z"
   },
   {
    "duration": 7,
    "start_time": "2022-09-24T09:03:11.150Z"
   },
   {
    "duration": 3,
    "start_time": "2022-09-24T09:03:11.809Z"
   },
   {
    "duration": 68,
    "start_time": "2022-09-24T09:05:18.351Z"
   },
   {
    "duration": 3,
    "start_time": "2022-09-24T09:07:27.723Z"
   },
   {
    "duration": 3,
    "start_time": "2022-09-24T09:07:40.817Z"
   },
   {
    "duration": 4,
    "start_time": "2022-09-24T09:08:36.372Z"
   },
   {
    "duration": 1391,
    "start_time": "2022-09-24T09:09:49.182Z"
   },
   {
    "duration": 829,
    "start_time": "2022-09-24T09:09:50.575Z"
   },
   {
    "duration": 102,
    "start_time": "2022-09-24T09:09:51.406Z"
   },
   {
    "duration": 2,
    "start_time": "2022-09-24T09:09:51.511Z"
   },
   {
    "duration": 57,
    "start_time": "2022-09-24T09:09:51.515Z"
   },
   {
    "duration": 13,
    "start_time": "2022-09-24T09:09:51.573Z"
   },
   {
    "duration": 91,
    "start_time": "2022-09-24T09:09:51.587Z"
   },
   {
    "duration": 120,
    "start_time": "2022-09-24T09:09:51.680Z"
   },
   {
    "duration": 224,
    "start_time": "2022-09-24T09:09:51.802Z"
   },
   {
    "duration": 190,
    "start_time": "2022-09-24T09:09:52.028Z"
   },
   {
    "duration": 69,
    "start_time": "2022-09-24T09:09:52.220Z"
   },
   {
    "duration": 27,
    "start_time": "2022-09-24T09:09:52.291Z"
   },
   {
    "duration": 4,
    "start_time": "2022-09-24T09:09:52.334Z"
   },
   {
    "duration": 74,
    "start_time": "2022-09-24T09:09:52.340Z"
   },
   {
    "duration": 152,
    "start_time": "2022-09-24T09:09:52.415Z"
   },
   {
    "duration": 19,
    "start_time": "2022-09-24T09:09:52.569Z"
   },
   {
    "duration": 11,
    "start_time": "2022-09-24T09:09:52.589Z"
   },
   {
    "duration": 507,
    "start_time": "2022-09-24T09:09:52.601Z"
   },
   {
    "duration": 25,
    "start_time": "2022-09-24T09:09:53.110Z"
   },
   {
    "duration": 4,
    "start_time": "2022-09-24T09:09:53.136Z"
   },
   {
    "duration": 18,
    "start_time": "2022-09-24T09:09:53.141Z"
   },
   {
    "duration": 48,
    "start_time": "2022-09-24T09:09:53.161Z"
   },
   {
    "duration": 39,
    "start_time": "2022-09-24T09:09:53.211Z"
   },
   {
    "duration": 28,
    "start_time": "2022-09-24T09:09:53.251Z"
   },
   {
    "duration": 213,
    "start_time": "2022-09-24T09:09:53.281Z"
   },
   {
    "duration": 4,
    "start_time": "2022-09-24T09:09:53.496Z"
   },
   {
    "duration": 8,
    "start_time": "2022-09-24T09:09:53.501Z"
   },
   {
    "duration": 4,
    "start_time": "2022-09-24T09:09:53.513Z"
   },
   {
    "duration": 8175,
    "start_time": "2022-09-24T09:09:53.518Z"
   },
   {
    "duration": 40,
    "start_time": "2022-09-24T09:10:01.695Z"
   },
   {
    "duration": 103,
    "start_time": "2022-09-24T09:10:01.738Z"
   },
   {
    "duration": 33,
    "start_time": "2022-09-24T09:10:01.842Z"
   },
   {
    "duration": 18,
    "start_time": "2022-09-24T09:10:01.876Z"
   },
   {
    "duration": 32,
    "start_time": "2022-09-24T09:10:01.896Z"
   },
   {
    "duration": 20,
    "start_time": "2022-09-24T09:10:01.930Z"
   },
   {
    "duration": 16,
    "start_time": "2022-09-24T09:10:01.951Z"
   },
   {
    "duration": 20748,
    "start_time": "2022-09-24T09:10:01.969Z"
   },
   {
    "duration": 41,
    "start_time": "2022-09-24T09:10:22.718Z"
   },
   {
    "duration": 6,
    "start_time": "2022-09-24T09:10:22.761Z"
   },
   {
    "duration": 4,
    "start_time": "2022-09-24T09:10:22.768Z"
   },
   {
    "duration": 6,
    "start_time": "2022-09-24T09:10:22.774Z"
   },
   {
    "duration": 7,
    "start_time": "2022-09-24T09:10:22.781Z"
   },
   {
    "duration": 32,
    "start_time": "2022-09-24T09:10:22.790Z"
   },
   {
    "duration": 13,
    "start_time": "2022-09-24T09:10:22.824Z"
   },
   {
    "duration": 4,
    "start_time": "2022-09-24T09:10:22.839Z"
   },
   {
    "duration": 8,
    "start_time": "2022-09-24T09:10:22.844Z"
   },
   {
    "duration": 22780,
    "start_time": "2022-09-24T09:10:22.853Z"
   },
   {
    "duration": 1014,
    "start_time": "2022-09-24T09:10:45.635Z"
   },
   {
    "duration": 5,
    "start_time": "2022-09-24T09:10:46.651Z"
   },
   {
    "duration": 10,
    "start_time": "2022-09-24T09:10:46.733Z"
   },
   {
    "duration": 10,
    "start_time": "2022-09-24T09:10:46.745Z"
   },
   {
    "duration": 4,
    "start_time": "2022-09-24T09:10:46.757Z"
   },
   {
    "duration": 8,
    "start_time": "2022-09-24T09:10:46.763Z"
   },
   {
    "duration": 32780,
    "start_time": "2022-09-24T09:10:46.773Z"
   },
   {
    "duration": 1079,
    "start_time": "2022-09-24T09:11:19.555Z"
   },
   {
    "duration": 6,
    "start_time": "2022-09-24T09:11:20.636Z"
   },
   {
    "duration": 8,
    "start_time": "2022-09-24T09:11:20.644Z"
   },
   {
    "duration": 3,
    "start_time": "2022-09-24T09:11:22.421Z"
   },
   {
    "duration": 19712,
    "start_time": "2022-09-24T09:11:22.840Z"
   },
   {
    "duration": 3,
    "start_time": "2022-09-24T09:11:43.652Z"
   },
   {
    "duration": 356065,
    "start_time": "2022-09-24T09:11:44.040Z"
   },
   {
    "duration": 846,
    "start_time": "2022-09-24T09:17:40.107Z"
   },
   {
    "duration": 6,
    "start_time": "2022-09-24T09:17:40.955Z"
   },
   {
    "duration": 71,
    "start_time": "2022-09-24T09:17:40.963Z"
   },
   {
    "duration": 3,
    "start_time": "2022-09-24T09:35:22.934Z"
   },
   {
    "duration": 13,
    "start_time": "2022-09-24T09:35:36.419Z"
   },
   {
    "duration": 2,
    "start_time": "2022-09-24T09:35:42.403Z"
   },
   {
    "duration": 4,
    "start_time": "2022-09-24T09:35:42.568Z"
   },
   {
    "duration": 4,
    "start_time": "2022-09-24T09:35:52.584Z"
   },
   {
    "duration": 3,
    "start_time": "2022-09-24T09:36:07.117Z"
   },
   {
    "duration": 4,
    "start_time": "2022-09-24T09:36:13.221Z"
   },
   {
    "duration": 4,
    "start_time": "2022-09-24T09:37:26.597Z"
   },
   {
    "duration": 4,
    "start_time": "2022-09-24T09:44:09.926Z"
   },
   {
    "duration": 750,
    "start_time": "2022-09-24T09:44:10.253Z"
   },
   {
    "duration": 108,
    "start_time": "2022-09-24T09:44:11.005Z"
   },
   {
    "duration": 3,
    "start_time": "2022-09-24T09:44:11.115Z"
   },
   {
    "duration": 24,
    "start_time": "2022-09-24T09:44:11.449Z"
   },
   {
    "duration": 15,
    "start_time": "2022-09-24T09:44:11.789Z"
   },
   {
    "duration": 91,
    "start_time": "2022-09-24T09:44:12.115Z"
   },
   {
    "duration": 88,
    "start_time": "2022-09-24T09:44:12.452Z"
   },
   {
    "duration": 171,
    "start_time": "2022-09-24T09:44:12.974Z"
   },
   {
    "duration": 172,
    "start_time": "2022-09-24T09:44:13.913Z"
   },
   {
    "duration": 69,
    "start_time": "2022-09-24T09:44:16.017Z"
   },
   {
    "duration": 19,
    "start_time": "2022-09-24T09:45:04.042Z"
   },
   {
    "duration": 25,
    "start_time": "2022-09-24T09:46:07.221Z"
   },
   {
    "duration": 497,
    "start_time": "2022-09-24T09:50:15.039Z"
   },
   {
    "duration": 4,
    "start_time": "2022-09-24T09:54:34.403Z"
   },
   {
    "duration": 804,
    "start_time": "2022-09-24T09:54:34.704Z"
   },
   {
    "duration": 104,
    "start_time": "2022-09-24T09:54:35.510Z"
   },
   {
    "duration": 3,
    "start_time": "2022-09-24T09:54:35.616Z"
   },
   {
    "duration": 29,
    "start_time": "2022-09-24T09:54:35.715Z"
   },
   {
    "duration": 12,
    "start_time": "2022-09-24T09:54:36.044Z"
   },
   {
    "duration": 121,
    "start_time": "2022-09-24T09:54:36.271Z"
   },
   {
    "duration": 113,
    "start_time": "2022-09-24T09:54:36.559Z"
   },
   {
    "duration": 272,
    "start_time": "2022-09-24T09:54:37.001Z"
   },
   {
    "duration": 218,
    "start_time": "2022-09-24T09:54:37.446Z"
   },
   {
    "duration": 3,
    "start_time": "2022-09-24T09:54:38.058Z"
   },
   {
    "duration": 552,
    "start_time": "2022-09-24T09:54:38.381Z"
   },
   {
    "duration": 20,
    "start_time": "2022-09-24T09:54:38.935Z"
   },
   {
    "duration": 25,
    "start_time": "2022-09-24T09:54:39.028Z"
   },
   {
    "duration": 54,
    "start_time": "2022-09-24T09:54:39.366Z"
   },
   {
    "duration": 26,
    "start_time": "2022-09-24T09:54:39.692Z"
   },
   {
    "duration": 219,
    "start_time": "2022-09-24T09:54:39.864Z"
   },
   {
    "duration": 4,
    "start_time": "2022-09-24T09:54:40.371Z"
   },
   {
    "duration": 4,
    "start_time": "2022-09-24T09:54:40.713Z"
   },
   {
    "duration": 3,
    "start_time": "2022-09-24T09:54:41.052Z"
   },
   {
    "duration": 8269,
    "start_time": "2022-09-24T09:54:41.225Z"
   },
   {
    "duration": 41,
    "start_time": "2022-09-24T09:54:49.496Z"
   },
   {
    "duration": 95,
    "start_time": "2022-09-24T09:54:49.539Z"
   },
   {
    "duration": 9,
    "start_time": "2022-09-24T09:54:49.636Z"
   },
   {
    "duration": 3,
    "start_time": "2022-09-24T09:54:49.647Z"
   },
   {
    "duration": 6,
    "start_time": "2022-09-24T09:54:49.651Z"
   },
   {
    "duration": 11,
    "start_time": "2022-09-24T09:54:49.658Z"
   },
   {
    "duration": 2,
    "start_time": "2022-09-24T09:58:51.737Z"
   },
   {
    "duration": 646,
    "start_time": "2022-09-24T09:59:39.604Z"
   },
   {
    "duration": 5,
    "start_time": "2022-09-24T09:59:42.915Z"
   },
   {
    "duration": 3,
    "start_time": "2022-09-24T10:00:16.581Z"
   },
   {
    "duration": 13,
    "start_time": "2022-09-24T10:00:37.070Z"
   },
   {
    "duration": 7,
    "start_time": "2022-09-24T10:01:14.809Z"
   },
   {
    "duration": 7,
    "start_time": "2022-09-24T10:01:21.760Z"
   },
   {
    "duration": 7,
    "start_time": "2022-09-24T10:01:24.160Z"
   },
   {
    "duration": 7,
    "start_time": "2022-09-24T10:01:26.168Z"
   },
   {
    "duration": 10,
    "start_time": "2022-09-24T10:01:32.137Z"
   },
   {
    "duration": 8,
    "start_time": "2022-09-24T10:01:39.513Z"
   },
   {
    "duration": 12,
    "start_time": "2022-09-24T10:03:25.826Z"
   },
   {
    "duration": 6,
    "start_time": "2022-09-24T10:04:10.973Z"
   },
   {
    "duration": 12,
    "start_time": "2022-09-24T10:04:29.795Z"
   },
   {
    "duration": 11,
    "start_time": "2022-09-24T10:04:32.346Z"
   },
   {
    "duration": 7,
    "start_time": "2022-09-24T10:04:35.327Z"
   },
   {
    "duration": 21,
    "start_time": "2022-09-24T10:05:20.840Z"
   },
   {
    "duration": 25,
    "start_time": "2022-09-24T10:05:24.290Z"
   },
   {
    "duration": 22,
    "start_time": "2022-09-24T10:05:58.240Z"
   },
   {
    "duration": 29,
    "start_time": "2022-09-24T10:06:04.433Z"
   },
   {
    "duration": 4,
    "start_time": "2022-09-24T10:12:50.315Z"
   },
   {
    "duration": 799,
    "start_time": "2022-09-24T10:12:50.578Z"
   },
   {
    "duration": 103,
    "start_time": "2022-09-24T10:12:51.379Z"
   },
   {
    "duration": 3,
    "start_time": "2022-09-24T10:12:51.484Z"
   },
   {
    "duration": 24,
    "start_time": "2022-09-24T10:12:51.512Z"
   },
   {
    "duration": 11,
    "start_time": "2022-09-24T10:12:51.793Z"
   },
   {
    "duration": 94,
    "start_time": "2022-09-24T10:12:52.085Z"
   },
   {
    "duration": 104,
    "start_time": "2022-09-24T10:12:52.379Z"
   },
   {
    "duration": 232,
    "start_time": "2022-09-24T10:12:52.807Z"
   },
   {
    "duration": 190,
    "start_time": "2022-09-24T10:12:53.254Z"
   },
   {
    "duration": 3,
    "start_time": "2022-09-24T10:12:53.848Z"
   },
   {
    "duration": 539,
    "start_time": "2022-09-24T10:12:54.158Z"
   },
   {
    "duration": 19,
    "start_time": "2022-09-24T10:12:54.699Z"
   },
   {
    "duration": 16,
    "start_time": "2022-09-24T10:12:54.756Z"
   },
   {
    "duration": 46,
    "start_time": "2022-09-24T10:12:55.078Z"
   },
   {
    "duration": 20,
    "start_time": "2022-09-24T10:12:55.405Z"
   },
   {
    "duration": 193,
    "start_time": "2022-09-24T10:12:55.532Z"
   },
   {
    "duration": 3,
    "start_time": "2022-09-24T10:12:56.000Z"
   },
   {
    "duration": 5,
    "start_time": "2022-09-24T10:12:56.345Z"
   },
   {
    "duration": 3,
    "start_time": "2022-09-24T10:12:56.969Z"
   },
   {
    "duration": 1217,
    "start_time": "2022-09-24T10:12:57.135Z"
   },
   {
    "duration": 12,
    "start_time": "2022-09-24T10:12:58.355Z"
   },
   {
    "duration": 165,
    "start_time": "2022-09-24T10:12:58.369Z"
   },
   {
    "duration": 30,
    "start_time": "2022-09-24T10:12:58.537Z"
   },
   {
    "duration": 9,
    "start_time": "2022-09-24T10:12:58.569Z"
   },
   {
    "duration": 5,
    "start_time": "2022-09-24T10:12:58.684Z"
   },
   {
    "duration": 21347,
    "start_time": "2022-09-24T10:12:58.840Z"
   },
   {
    "duration": 46,
    "start_time": "2022-09-24T10:13:20.189Z"
   },
   {
    "duration": 5,
    "start_time": "2022-09-24T10:13:20.245Z"
   },
   {
    "duration": 18,
    "start_time": "2022-09-24T10:13:20.252Z"
   },
   {
    "duration": 7,
    "start_time": "2022-09-24T10:13:28.447Z"
   },
   {
    "duration": 3,
    "start_time": "2022-09-24T10:14:51.561Z"
   },
   {
    "duration": 369505,
    "start_time": "2022-09-24T10:14:51.706Z"
   },
   {
    "duration": 57,
    "start_time": "2022-09-24T10:21:01.213Z"
   },
   {
    "duration": 5,
    "start_time": "2022-09-24T10:21:01.272Z"
   },
   {
    "duration": 17,
    "start_time": "2022-09-24T10:21:01.279Z"
   },
   {
    "duration": 11,
    "start_time": "2022-09-24T10:21:01.297Z"
   },
   {
    "duration": 5,
    "start_time": "2022-09-24T10:22:41.462Z"
   },
   {
    "duration": 781,
    "start_time": "2022-09-24T10:22:41.721Z"
   },
   {
    "duration": 104,
    "start_time": "2022-09-24T10:22:42.504Z"
   },
   {
    "duration": 2,
    "start_time": "2022-09-24T10:22:42.610Z"
   },
   {
    "duration": 27,
    "start_time": "2022-09-24T10:22:42.695Z"
   },
   {
    "duration": 11,
    "start_time": "2022-09-24T10:22:42.986Z"
   },
   {
    "duration": 87,
    "start_time": "2022-09-24T10:22:43.257Z"
   },
   {
    "duration": 103,
    "start_time": "2022-09-24T10:22:43.539Z"
   },
   {
    "duration": 221,
    "start_time": "2022-09-24T10:22:43.985Z"
   },
   {
    "duration": 184,
    "start_time": "2022-09-24T10:22:44.406Z"
   },
   {
    "duration": 4,
    "start_time": "2022-09-24T10:22:45.015Z"
   },
   {
    "duration": 500,
    "start_time": "2022-09-24T10:22:45.319Z"
   },
   {
    "duration": 25,
    "start_time": "2022-09-24T10:22:45.821Z"
   },
   {
    "duration": 17,
    "start_time": "2022-09-24T10:22:45.914Z"
   },
   {
    "duration": 60,
    "start_time": "2022-09-24T10:22:46.219Z"
   },
   {
    "duration": 20,
    "start_time": "2022-09-24T10:22:46.531Z"
   },
   {
    "duration": 185,
    "start_time": "2022-09-24T10:22:46.685Z"
   },
   {
    "duration": 3,
    "start_time": "2022-09-24T10:22:47.095Z"
   },
   {
    "duration": 4,
    "start_time": "2022-09-24T10:22:47.389Z"
   },
   {
    "duration": 3,
    "start_time": "2022-09-24T10:22:48.288Z"
   },
   {
    "duration": 3,
    "start_time": "2022-09-24T10:22:49.884Z"
   },
   {
    "duration": 1085,
    "start_time": "2022-09-24T10:22:50.013Z"
   },
   {
    "duration": 37,
    "start_time": "2022-09-24T10:22:51.099Z"
   },
   {
    "duration": 101,
    "start_time": "2022-09-24T10:22:51.138Z"
   },
   {
    "duration": 24,
    "start_time": "2022-09-24T10:22:51.241Z"
   },
   {
    "duration": 6,
    "start_time": "2022-09-24T10:22:51.267Z"
   },
   {
    "duration": 3,
    "start_time": "2022-09-24T10:24:37.160Z"
   },
   {
    "duration": 6,
    "start_time": "2022-09-24T10:24:51.515Z"
   },
   {
    "duration": 7,
    "start_time": "2022-09-24T10:24:54.885Z"
   },
   {
    "duration": 49,
    "start_time": "2022-09-24T10:25:20.651Z"
   },
   {
    "duration": 3,
    "start_time": "2022-09-24T10:25:35.979Z"
   },
   {
    "duration": 3,
    "start_time": "2022-09-24T10:25:46.478Z"
   },
   {
    "duration": 5,
    "start_time": "2022-09-24T10:25:46.843Z"
   },
   {
    "duration": 8,
    "start_time": "2022-09-24T10:25:52.178Z"
   },
   {
    "duration": 3,
    "start_time": "2022-09-24T10:26:35.315Z"
   },
   {
    "duration": 7,
    "start_time": "2022-09-24T10:26:35.495Z"
   },
   {
    "duration": 8,
    "start_time": "2022-09-24T10:26:35.632Z"
   },
   {
    "duration": 3,
    "start_time": "2022-09-24T10:27:12.322Z"
   },
   {
    "duration": 6,
    "start_time": "2022-09-24T10:27:12.721Z"
   },
   {
    "duration": 7,
    "start_time": "2022-09-24T10:27:12.867Z"
   },
   {
    "duration": 4,
    "start_time": "2022-09-24T10:27:33.173Z"
   },
   {
    "duration": 827,
    "start_time": "2022-09-24T10:27:33.406Z"
   },
   {
    "duration": 107,
    "start_time": "2022-09-24T10:27:34.235Z"
   },
   {
    "duration": 3,
    "start_time": "2022-09-24T10:27:34.344Z"
   },
   {
    "duration": 27,
    "start_time": "2022-09-24T10:27:34.348Z"
   },
   {
    "duration": 11,
    "start_time": "2022-09-24T10:27:34.607Z"
   },
   {
    "duration": 82,
    "start_time": "2022-09-24T10:27:34.883Z"
   },
   {
    "duration": 107,
    "start_time": "2022-09-24T10:27:35.160Z"
   },
   {
    "duration": 211,
    "start_time": "2022-09-24T10:27:35.596Z"
   },
   {
    "duration": 180,
    "start_time": "2022-09-24T10:27:36.022Z"
   },
   {
    "duration": 2,
    "start_time": "2022-09-24T10:27:36.744Z"
   },
   {
    "duration": 480,
    "start_time": "2022-09-24T10:27:37.032Z"
   },
   {
    "duration": 27,
    "start_time": "2022-09-24T10:27:37.514Z"
   },
   {
    "duration": 18,
    "start_time": "2022-09-24T10:27:37.633Z"
   },
   {
    "duration": 62,
    "start_time": "2022-09-24T10:27:37.935Z"
   },
   {
    "duration": 18,
    "start_time": "2022-09-24T10:27:38.232Z"
   },
   {
    "duration": 195,
    "start_time": "2022-09-24T10:27:38.398Z"
   },
   {
    "duration": 4,
    "start_time": "2022-09-24T10:27:38.879Z"
   },
   {
    "duration": 5,
    "start_time": "2022-09-24T10:27:39.202Z"
   },
   {
    "duration": 4,
    "start_time": "2022-09-24T10:27:39.726Z"
   },
   {
    "duration": 4,
    "start_time": "2022-09-24T10:27:40.276Z"
   },
   {
    "duration": 1140,
    "start_time": "2022-09-24T10:27:40.458Z"
   },
   {
    "duration": 35,
    "start_time": "2022-09-24T10:27:41.600Z"
   },
   {
    "duration": 101,
    "start_time": "2022-09-24T10:27:41.637Z"
   },
   {
    "duration": 28,
    "start_time": "2022-09-24T10:27:41.740Z"
   },
   {
    "duration": 9,
    "start_time": "2022-09-24T10:27:41.770Z"
   },
   {
    "duration": 16,
    "start_time": "2022-09-24T10:27:41.781Z"
   },
   {
    "duration": 8,
    "start_time": "2022-09-24T10:27:41.799Z"
   },
   {
    "duration": 7,
    "start_time": "2022-09-24T10:27:42.140Z"
   },
   {
    "duration": 6,
    "start_time": "2022-09-24T10:28:22.101Z"
   },
   {
    "duration": 3,
    "start_time": "2022-09-24T10:28:29.705Z"
   },
   {
    "duration": 443205,
    "start_time": "2022-09-24T10:28:30.120Z"
   },
   {
    "duration": 15,
    "start_time": "2022-09-24T10:35:53.327Z"
   },
   {
    "duration": 90,
    "start_time": "2022-09-24T10:35:53.344Z"
   },
   {
    "duration": 11,
    "start_time": "2022-09-24T10:35:53.437Z"
   },
   {
    "duration": 3,
    "start_time": "2022-09-24T10:35:56.837Z"
   },
   {
    "duration": 5,
    "start_time": "2022-09-24T11:29:02.726Z"
   },
   {
    "duration": 848,
    "start_time": "2022-09-24T11:29:05.789Z"
   },
   {
    "duration": 1468,
    "start_time": "2022-09-24T11:29:11.602Z"
   },
   {
    "duration": 823,
    "start_time": "2022-09-24T11:29:13.072Z"
   },
   {
    "duration": 105,
    "start_time": "2022-09-24T11:29:13.897Z"
   },
   {
    "duration": 3,
    "start_time": "2022-09-24T11:29:14.003Z"
   },
   {
    "duration": 57,
    "start_time": "2022-09-24T11:29:14.009Z"
   },
   {
    "duration": 14,
    "start_time": "2022-09-24T11:29:14.068Z"
   },
   {
    "duration": 97,
    "start_time": "2022-09-24T11:29:14.084Z"
   },
   {
    "duration": 120,
    "start_time": "2022-09-24T11:29:14.183Z"
   },
   {
    "duration": 218,
    "start_time": "2022-09-24T11:29:14.305Z"
   },
   {
    "duration": 177,
    "start_time": "2022-09-24T11:29:14.525Z"
   },
   {
    "duration": 3,
    "start_time": "2022-09-24T11:29:14.704Z"
   },
   {
    "duration": 491,
    "start_time": "2022-09-24T11:29:14.708Z"
   },
   {
    "duration": 19,
    "start_time": "2022-09-24T11:29:15.201Z"
   },
   {
    "duration": 16,
    "start_time": "2022-09-24T11:29:15.301Z"
   },
   {
    "duration": 62,
    "start_time": "2022-09-24T11:29:15.318Z"
   },
   {
    "duration": 27,
    "start_time": "2022-09-24T11:29:15.381Z"
   },
   {
    "duration": 213,
    "start_time": "2022-09-24T11:29:15.409Z"
   },
   {
    "duration": 10,
    "start_time": "2022-09-24T11:29:15.624Z"
   },
   {
    "duration": 9,
    "start_time": "2022-09-24T11:29:15.636Z"
   },
   {
    "duration": 8,
    "start_time": "2022-09-24T11:29:15.646Z"
   },
   {
    "duration": 21,
    "start_time": "2022-09-24T11:29:15.656Z"
   },
   {
    "duration": 1116,
    "start_time": "2022-09-24T11:29:15.679Z"
   },
   {
    "duration": 38,
    "start_time": "2022-09-24T11:29:16.797Z"
   },
   {
    "duration": 104,
    "start_time": "2022-09-24T11:29:16.837Z"
   },
   {
    "duration": 23,
    "start_time": "2022-09-24T11:29:16.942Z"
   },
   {
    "duration": 6,
    "start_time": "2022-09-24T11:29:16.966Z"
   },
   {
    "duration": 7,
    "start_time": "2022-09-24T11:29:16.974Z"
   },
   {
    "duration": 8,
    "start_time": "2022-09-24T11:29:16.982Z"
   },
   {
    "duration": 20409,
    "start_time": "2022-09-24T11:29:16.991Z"
   },
   {
    "duration": 42,
    "start_time": "2022-09-24T11:29:37.402Z"
   },
   {
    "duration": 6,
    "start_time": "2022-09-24T11:29:37.446Z"
   },
   {
    "duration": 8,
    "start_time": "2022-09-24T11:29:37.454Z"
   },
   {
    "duration": 8,
    "start_time": "2022-09-24T11:29:37.463Z"
   },
   {
    "duration": 7,
    "start_time": "2022-09-24T11:29:37.473Z"
   },
   {
    "duration": 2078,
    "start_time": "2022-09-24T16:59:23.616Z"
   },
   {
    "duration": 140,
    "start_time": "2022-09-24T16:59:25.695Z"
   },
   {
    "duration": 0,
    "start_time": "2022-09-24T16:59:25.838Z"
   },
   {
    "duration": 0,
    "start_time": "2022-09-24T16:59:25.839Z"
   },
   {
    "duration": 0,
    "start_time": "2022-09-24T16:59:25.840Z"
   },
   {
    "duration": 0,
    "start_time": "2022-09-24T16:59:25.842Z"
   },
   {
    "duration": 0,
    "start_time": "2022-09-24T16:59:25.843Z"
   },
   {
    "duration": 0,
    "start_time": "2022-09-24T16:59:25.854Z"
   },
   {
    "duration": 0,
    "start_time": "2022-09-24T16:59:25.855Z"
   },
   {
    "duration": 0,
    "start_time": "2022-09-24T16:59:25.856Z"
   },
   {
    "duration": 0,
    "start_time": "2022-09-24T16:59:25.858Z"
   },
   {
    "duration": 0,
    "start_time": "2022-09-24T16:59:25.859Z"
   },
   {
    "duration": 0,
    "start_time": "2022-09-24T16:59:25.860Z"
   },
   {
    "duration": 0,
    "start_time": "2022-09-24T16:59:25.862Z"
   },
   {
    "duration": 0,
    "start_time": "2022-09-24T16:59:25.863Z"
   },
   {
    "duration": 0,
    "start_time": "2022-09-24T16:59:25.865Z"
   },
   {
    "duration": 0,
    "start_time": "2022-09-24T16:59:25.866Z"
   },
   {
    "duration": 0,
    "start_time": "2022-09-24T16:59:25.867Z"
   },
   {
    "duration": 0,
    "start_time": "2022-09-24T16:59:25.869Z"
   },
   {
    "duration": 0,
    "start_time": "2022-09-24T16:59:25.870Z"
   },
   {
    "duration": 0,
    "start_time": "2022-09-24T16:59:25.872Z"
   },
   {
    "duration": 0,
    "start_time": "2022-09-24T16:59:25.873Z"
   },
   {
    "duration": 0,
    "start_time": "2022-09-24T16:59:25.874Z"
   },
   {
    "duration": 0,
    "start_time": "2022-09-24T16:59:25.875Z"
   },
   {
    "duration": 0,
    "start_time": "2022-09-24T16:59:25.876Z"
   },
   {
    "duration": 0,
    "start_time": "2022-09-24T16:59:25.877Z"
   },
   {
    "duration": 0,
    "start_time": "2022-09-24T16:59:25.878Z"
   },
   {
    "duration": 0,
    "start_time": "2022-09-24T16:59:25.879Z"
   },
   {
    "duration": 0,
    "start_time": "2022-09-24T16:59:25.880Z"
   },
   {
    "duration": 0,
    "start_time": "2022-09-24T16:59:25.882Z"
   },
   {
    "duration": 0,
    "start_time": "2022-09-24T16:59:25.883Z"
   },
   {
    "duration": 0,
    "start_time": "2022-09-24T16:59:25.884Z"
   },
   {
    "duration": 0,
    "start_time": "2022-09-24T16:59:25.886Z"
   },
   {
    "duration": 0,
    "start_time": "2022-09-24T16:59:25.887Z"
   },
   {
    "duration": 0,
    "start_time": "2022-09-24T16:59:25.889Z"
   },
   {
    "duration": 0,
    "start_time": "2022-09-24T16:59:25.890Z"
   },
   {
    "duration": 0,
    "start_time": "2022-09-24T16:59:25.892Z"
   },
   {
    "duration": 0,
    "start_time": "2022-09-24T16:59:25.954Z"
   },
   {
    "duration": 0,
    "start_time": "2022-09-24T16:59:25.956Z"
   },
   {
    "duration": 0,
    "start_time": "2022-09-24T16:59:25.957Z"
   },
   {
    "duration": 0,
    "start_time": "2022-09-24T16:59:25.958Z"
   },
   {
    "duration": 0,
    "start_time": "2022-09-24T16:59:25.959Z"
   },
   {
    "duration": 0,
    "start_time": "2022-09-24T16:59:25.960Z"
   },
   {
    "duration": 0,
    "start_time": "2022-09-24T16:59:25.961Z"
   },
   {
    "duration": 0,
    "start_time": "2022-09-24T16:59:25.962Z"
   },
   {
    "duration": 1,
    "start_time": "2022-09-24T16:59:25.962Z"
   },
   {
    "duration": 0,
    "start_time": "2022-09-24T16:59:25.963Z"
   },
   {
    "duration": 0,
    "start_time": "2022-09-24T16:59:25.964Z"
   },
   {
    "duration": 0,
    "start_time": "2022-09-24T16:59:25.965Z"
   },
   {
    "duration": 0,
    "start_time": "2022-09-24T16:59:25.967Z"
   },
   {
    "duration": 0,
    "start_time": "2022-09-24T16:59:25.968Z"
   },
   {
    "duration": 0,
    "start_time": "2022-09-24T16:59:25.969Z"
   },
   {
    "duration": 0,
    "start_time": "2022-09-24T16:59:25.969Z"
   },
   {
    "duration": 0,
    "start_time": "2022-09-24T16:59:25.970Z"
   },
   {
    "duration": 0,
    "start_time": "2022-09-24T16:59:25.971Z"
   },
   {
    "duration": 0,
    "start_time": "2022-09-24T16:59:25.972Z"
   },
   {
    "duration": 1675,
    "start_time": "2022-09-25T07:01:47.543Z"
   },
   {
    "duration": 2771,
    "start_time": "2022-09-25T07:01:49.446Z"
   },
   {
    "duration": 1485,
    "start_time": "2022-09-25T07:02:33.288Z"
   },
   {
    "duration": 831,
    "start_time": "2022-09-25T07:02:34.775Z"
   },
   {
    "duration": 85,
    "start_time": "2022-09-25T07:02:35.608Z"
   },
   {
    "duration": 2,
    "start_time": "2022-09-25T07:02:35.695Z"
   },
   {
    "duration": 54,
    "start_time": "2022-09-25T07:02:35.699Z"
   },
   {
    "duration": 13,
    "start_time": "2022-09-25T07:02:35.755Z"
   },
   {
    "duration": 77,
    "start_time": "2022-09-25T07:02:35.770Z"
   },
   {
    "duration": 103,
    "start_time": "2022-09-25T07:02:35.848Z"
   },
   {
    "duration": 245,
    "start_time": "2022-09-25T07:02:35.952Z"
   },
   {
    "duration": 173,
    "start_time": "2022-09-25T07:02:36.200Z"
   },
   {
    "duration": 2,
    "start_time": "2022-09-25T07:02:36.374Z"
   },
   {
    "duration": 427,
    "start_time": "2022-09-25T07:02:36.378Z"
   },
   {
    "duration": 23,
    "start_time": "2022-09-25T07:02:36.807Z"
   },
   {
    "duration": 15,
    "start_time": "2022-09-25T07:02:36.831Z"
   },
   {
    "duration": 125,
    "start_time": "2022-09-25T07:02:36.848Z"
   },
   {
    "duration": 24,
    "start_time": "2022-09-25T07:02:36.975Z"
   },
   {
    "duration": 184,
    "start_time": "2022-09-25T07:02:37.000Z"
   },
   {
    "duration": 3,
    "start_time": "2022-09-25T07:02:37.186Z"
   },
   {
    "duration": 20,
    "start_time": "2022-09-25T07:02:37.191Z"
   },
   {
    "duration": 20,
    "start_time": "2022-09-25T07:02:37.213Z"
   },
   {
    "duration": 21,
    "start_time": "2022-09-25T07:02:37.234Z"
   },
   {
    "duration": 1109,
    "start_time": "2022-09-25T07:02:37.257Z"
   },
   {
    "duration": 8,
    "start_time": "2022-09-25T07:02:38.368Z"
   },
   {
    "duration": 147,
    "start_time": "2022-09-25T07:02:38.377Z"
   },
   {
    "duration": 20,
    "start_time": "2022-09-25T07:02:38.526Z"
   },
   {
    "duration": 7,
    "start_time": "2022-09-25T07:02:38.548Z"
   },
   {
    "duration": 17,
    "start_time": "2022-09-25T07:02:38.556Z"
   },
   {
    "duration": 11,
    "start_time": "2022-09-25T07:02:38.576Z"
   },
   {
    "duration": 19489,
    "start_time": "2022-09-25T07:02:38.588Z"
   },
   {
    "duration": 41,
    "start_time": "2022-09-25T07:02:58.079Z"
   },
   {
    "duration": 4,
    "start_time": "2022-09-25T07:02:58.122Z"
   },
   {
    "duration": 11,
    "start_time": "2022-09-25T07:02:58.128Z"
   },
   {
    "duration": 6,
    "start_time": "2022-09-25T07:02:58.140Z"
   },
   {
    "duration": 13,
    "start_time": "2022-09-25T07:02:58.148Z"
   },
   {
    "duration": 23670,
    "start_time": "2022-09-25T07:02:58.162Z"
   },
   {
    "duration": 1100,
    "start_time": "2022-09-25T07:03:21.834Z"
   },
   {
    "duration": 6,
    "start_time": "2022-09-25T07:03:22.935Z"
   },
   {
    "duration": 8,
    "start_time": "2022-09-25T07:03:22.942Z"
   },
   {
    "duration": 5,
    "start_time": "2022-09-25T07:03:22.952Z"
   },
   {
    "duration": 65,
    "start_time": "2022-09-25T07:03:22.958Z"
   },
   {
    "duration": 1787,
    "start_time": "2022-09-26T13:32:47.962Z"
   },
   {
    "duration": 1329,
    "start_time": "2022-09-26T13:32:51.710Z"
   },
   {
    "duration": 98,
    "start_time": "2022-09-26T13:32:54.310Z"
   },
   {
    "duration": 3,
    "start_time": "2022-09-26T13:32:56.248Z"
   },
   {
    "duration": 60,
    "start_time": "2022-09-26T13:32:56.778Z"
   },
   {
    "duration": 123,
    "start_time": "2022-09-26T13:42:44.997Z"
   },
   {
    "duration": 169,
    "start_time": "2022-09-26T13:44:55.917Z"
   },
   {
    "duration": 78,
    "start_time": "2022-09-26T13:50:32.474Z"
   },
   {
    "duration": 7,
    "start_time": "2022-09-26T13:52:05.858Z"
   },
   {
    "duration": 9,
    "start_time": "2022-09-26T13:52:45.915Z"
   },
   {
    "duration": 8,
    "start_time": "2022-09-26T13:53:37.434Z"
   },
   {
    "duration": 9,
    "start_time": "2022-09-26T13:53:39.993Z"
   },
   {
    "duration": 32,
    "start_time": "2022-09-26T14:04:27.911Z"
   },
   {
    "duration": 51,
    "start_time": "2022-09-26T14:04:35.325Z"
   },
   {
    "duration": 1224,
    "start_time": "2022-09-26T14:04:59.475Z"
   },
   {
    "duration": 80,
    "start_time": "2022-09-26T14:05:10.710Z"
   },
   {
    "duration": 13,
    "start_time": "2022-09-26T14:09:26.634Z"
   },
   {
    "duration": 4,
    "start_time": "2022-09-26T14:12:20.861Z"
   },
   {
    "duration": 1044,
    "start_time": "2022-09-26T14:12:21.212Z"
   },
   {
    "duration": 100,
    "start_time": "2022-09-26T14:12:22.259Z"
   },
   {
    "duration": 3,
    "start_time": "2022-09-26T14:12:22.361Z"
   },
   {
    "duration": 951,
    "start_time": "2022-09-26T14:12:22.549Z"
   },
   {
    "duration": 0,
    "start_time": "2022-09-26T14:12:23.502Z"
   },
   {
    "duration": 87,
    "start_time": "2022-09-26T14:12:23.530Z"
   },
   {
    "duration": 86,
    "start_time": "2022-09-26T14:12:23.853Z"
   },
   {
    "duration": 262,
    "start_time": "2022-09-26T14:12:24.658Z"
   },
   {
    "duration": 209,
    "start_time": "2022-09-26T14:12:25.488Z"
   },
   {
    "duration": 136,
    "start_time": "2022-09-26T14:12:27.160Z"
   },
   {
    "duration": 27,
    "start_time": "2022-09-26T14:12:28.110Z"
   },
   {
    "duration": 8,
    "start_time": "2022-09-26T14:12:28.834Z"
   },
   {
    "duration": 8,
    "start_time": "2022-09-26T14:12:29.447Z"
   },
   {
    "duration": 969,
    "start_time": "2022-09-26T14:12:30.180Z"
   },
   {
    "duration": 64,
    "start_time": "2022-09-26T14:12:31.277Z"
   },
   {
    "duration": 98,
    "start_time": "2022-09-26T14:12:31.883Z"
   },
   {
    "duration": 3,
    "start_time": "2022-09-26T14:12:36.089Z"
   },
   {
    "duration": 37,
    "start_time": "2022-09-26T14:12:36.699Z"
   },
   {
    "duration": 20,
    "start_time": "2022-09-26T14:13:16.445Z"
   },
   {
    "duration": 787,
    "start_time": "2022-09-26T14:13:54.184Z"
   },
   {
    "duration": 4,
    "start_time": "2022-09-26T14:14:03.687Z"
   },
   {
    "duration": 1006,
    "start_time": "2022-09-26T14:14:03.962Z"
   },
   {
    "duration": 102,
    "start_time": "2022-09-26T14:14:04.969Z"
   },
   {
    "duration": 4,
    "start_time": "2022-09-26T14:14:05.072Z"
   },
   {
    "duration": 46,
    "start_time": "2022-09-26T14:14:05.213Z"
   },
   {
    "duration": 11,
    "start_time": "2022-09-26T14:14:06.294Z"
   },
   {
    "duration": 77,
    "start_time": "2022-09-26T14:14:06.622Z"
   },
   {
    "duration": 99,
    "start_time": "2022-09-26T14:14:06.949Z"
   },
   {
    "duration": 219,
    "start_time": "2022-09-26T14:14:07.681Z"
   },
   {
    "duration": 194,
    "start_time": "2022-09-26T14:14:08.439Z"
   },
   {
    "duration": 134,
    "start_time": "2022-09-26T14:14:09.329Z"
   },
   {
    "duration": 26,
    "start_time": "2022-09-26T14:14:09.600Z"
   },
   {
    "duration": 9,
    "start_time": "2022-09-26T14:14:09.934Z"
   },
   {
    "duration": 8,
    "start_time": "2022-09-26T14:14:10.259Z"
   },
   {
    "duration": 28,
    "start_time": "2022-09-26T14:14:10.901Z"
   },
   {
    "duration": 23,
    "start_time": "2022-09-26T14:14:11.799Z"
   },
   {
    "duration": 65,
    "start_time": "2022-09-26T14:14:12.153Z"
   },
   {
    "duration": 2,
    "start_time": "2022-09-26T14:14:12.692Z"
   },
   {
    "duration": 17,
    "start_time": "2022-09-26T14:14:13.080Z"
   },
   {
    "duration": 39,
    "start_time": "2022-09-26T14:14:13.652Z"
   },
   {
    "duration": 45,
    "start_time": "2022-09-26T14:15:03.104Z"
   },
   {
    "duration": 44,
    "start_time": "2022-09-26T14:15:25.279Z"
   },
   {
    "duration": 4,
    "start_time": "2022-09-26T14:17:14.765Z"
   },
   {
    "duration": 931,
    "start_time": "2022-09-26T14:17:15.094Z"
   },
   {
    "duration": 102,
    "start_time": "2022-09-26T14:17:16.027Z"
   },
   {
    "duration": 3,
    "start_time": "2022-09-26T14:17:16.132Z"
   },
   {
    "duration": 44,
    "start_time": "2022-09-26T14:17:16.576Z"
   },
   {
    "duration": 16,
    "start_time": "2022-09-26T14:17:17.290Z"
   },
   {
    "duration": 87,
    "start_time": "2022-09-26T14:17:17.335Z"
   },
   {
    "duration": 118,
    "start_time": "2022-09-26T14:17:17.425Z"
   },
   {
    "duration": 240,
    "start_time": "2022-09-26T14:17:17.552Z"
   },
   {
    "duration": 201,
    "start_time": "2022-09-26T14:17:17.794Z"
   },
   {
    "duration": 144,
    "start_time": "2022-09-26T14:17:17.997Z"
   },
   {
    "duration": 34,
    "start_time": "2022-09-26T14:17:18.142Z"
   },
   {
    "duration": 8,
    "start_time": "2022-09-26T14:17:18.321Z"
   },
   {
    "duration": 7,
    "start_time": "2022-09-26T14:17:18.659Z"
   },
   {
    "duration": 29,
    "start_time": "2022-09-26T14:17:19.180Z"
   },
   {
    "duration": 17,
    "start_time": "2022-09-26T14:17:20.034Z"
   },
   {
    "duration": 61,
    "start_time": "2022-09-26T14:17:20.380Z"
   },
   {
    "duration": 3,
    "start_time": "2022-09-26T14:17:20.918Z"
   },
   {
    "duration": 21,
    "start_time": "2022-09-26T14:17:21.277Z"
   },
   {
    "duration": 57,
    "start_time": "2022-09-26T14:17:21.463Z"
   },
   {
    "duration": 43,
    "start_time": "2022-09-26T14:17:21.839Z"
   },
   {
    "duration": 171,
    "start_time": "2022-09-26T14:20:02.799Z"
   },
   {
    "duration": 5,
    "start_time": "2022-09-26T14:20:08.219Z"
   },
   {
    "duration": 883,
    "start_time": "2022-09-26T14:20:08.481Z"
   },
   {
    "duration": 98,
    "start_time": "2022-09-26T14:20:09.367Z"
   },
   {
    "duration": 3,
    "start_time": "2022-09-26T14:20:09.467Z"
   },
   {
    "duration": 40,
    "start_time": "2022-09-26T14:20:09.985Z"
   },
   {
    "duration": 12,
    "start_time": "2022-09-26T14:20:10.105Z"
   },
   {
    "duration": 71,
    "start_time": "2022-09-26T14:20:10.168Z"
   },
   {
    "duration": 259,
    "start_time": "2022-09-26T14:20:10.241Z"
   },
   {
    "duration": 185,
    "start_time": "2022-09-26T14:20:11.000Z"
   },
   {
    "duration": 201,
    "start_time": "2022-09-26T14:20:11.780Z"
   },
   {
    "duration": 150,
    "start_time": "2022-09-26T14:20:11.984Z"
   },
   {
    "duration": 32,
    "start_time": "2022-09-26T14:20:12.136Z"
   },
   {
    "duration": 9,
    "start_time": "2022-09-26T14:20:12.433Z"
   },
   {
    "duration": 9,
    "start_time": "2022-09-26T14:20:12.766Z"
   },
   {
    "duration": 34,
    "start_time": "2022-09-26T14:20:13.250Z"
   },
   {
    "duration": 16,
    "start_time": "2022-09-26T14:20:14.281Z"
   },
   {
    "duration": 60,
    "start_time": "2022-09-26T14:20:14.665Z"
   },
   {
    "duration": 3,
    "start_time": "2022-09-26T14:20:15.203Z"
   },
   {
    "duration": 19,
    "start_time": "2022-09-26T14:20:15.672Z"
   },
   {
    "duration": 50,
    "start_time": "2022-09-26T14:20:16.037Z"
   },
   {
    "duration": 39,
    "start_time": "2022-09-26T14:20:16.400Z"
   },
   {
    "duration": 59,
    "start_time": "2022-09-26T14:20:29.868Z"
   },
   {
    "duration": 5,
    "start_time": "2022-09-26T14:20:33.049Z"
   },
   {
    "duration": 970,
    "start_time": "2022-09-26T14:20:33.584Z"
   },
   {
    "duration": 99,
    "start_time": "2022-09-26T14:20:34.556Z"
   },
   {
    "duration": 3,
    "start_time": "2022-09-26T14:20:34.657Z"
   },
   {
    "duration": 48,
    "start_time": "2022-09-26T14:20:34.663Z"
   },
   {
    "duration": 11,
    "start_time": "2022-09-26T14:20:34.713Z"
   },
   {
    "duration": 94,
    "start_time": "2022-09-26T14:20:34.726Z"
   },
   {
    "duration": 107,
    "start_time": "2022-09-26T14:20:34.822Z"
   },
   {
    "duration": 245,
    "start_time": "2022-09-26T14:20:34.931Z"
   },
   {
    "duration": 189,
    "start_time": "2022-09-26T14:20:35.980Z"
   },
   {
    "duration": 133,
    "start_time": "2022-09-26T14:20:37.572Z"
   },
   {
    "duration": 30,
    "start_time": "2022-09-26T14:20:37.915Z"
   },
   {
    "duration": 10,
    "start_time": "2022-09-26T14:20:38.251Z"
   },
   {
    "duration": 8,
    "start_time": "2022-09-26T14:20:38.585Z"
   },
   {
    "duration": 26,
    "start_time": "2022-09-26T14:20:39.124Z"
   },
   {
    "duration": 22,
    "start_time": "2022-09-26T14:20:40.012Z"
   },
   {
    "duration": 63,
    "start_time": "2022-09-26T14:20:40.373Z"
   },
   {
    "duration": 3,
    "start_time": "2022-09-26T14:20:41.009Z"
   },
   {
    "duration": 21,
    "start_time": "2022-09-26T14:20:41.662Z"
   },
   {
    "duration": 42,
    "start_time": "2022-09-26T14:20:41.989Z"
   },
   {
    "duration": 38,
    "start_time": "2022-09-26T14:20:42.514Z"
   },
   {
    "duration": 57,
    "start_time": "2022-09-26T14:22:09.134Z"
   },
   {
    "duration": 41,
    "start_time": "2022-09-26T14:22:27.893Z"
   },
   {
    "duration": 417,
    "start_time": "2022-09-26T14:22:38.648Z"
   },
   {
    "duration": 19,
    "start_time": "2022-09-26T14:23:04.256Z"
   },
   {
    "duration": 15,
    "start_time": "2022-09-26T14:23:10.228Z"
   },
   {
    "duration": 1167,
    "start_time": "2022-09-26T14:25:09.217Z"
   },
   {
    "duration": 5,
    "start_time": "2022-09-26T14:25:31.879Z"
   },
   {
    "duration": 5,
    "start_time": "2022-09-26T14:26:05.141Z"
   },
   {
    "duration": 896,
    "start_time": "2022-09-26T14:26:06.650Z"
   },
   {
    "duration": 107,
    "start_time": "2022-09-26T14:26:07.548Z"
   },
   {
    "duration": 3,
    "start_time": "2022-09-26T14:26:07.657Z"
   },
   {
    "duration": 44,
    "start_time": "2022-09-26T14:26:08.177Z"
   },
   {
    "duration": 13,
    "start_time": "2022-09-26T14:26:08.298Z"
   },
   {
    "duration": 78,
    "start_time": "2022-09-26T14:26:08.362Z"
   },
   {
    "duration": 108,
    "start_time": "2022-09-26T14:26:08.442Z"
   },
   {
    "duration": 240,
    "start_time": "2022-09-26T14:26:08.577Z"
   },
   {
    "duration": 205,
    "start_time": "2022-09-26T14:26:08.819Z"
   },
   {
    "duration": 153,
    "start_time": "2022-09-26T14:26:09.027Z"
   },
   {
    "duration": 29,
    "start_time": "2022-09-26T14:26:09.181Z"
   },
   {
    "duration": 9,
    "start_time": "2022-09-26T14:26:09.212Z"
   },
   {
    "duration": 33,
    "start_time": "2022-09-26T14:26:09.222Z"
   },
   {
    "duration": 27,
    "start_time": "2022-09-26T14:26:09.257Z"
   },
   {
    "duration": 17,
    "start_time": "2022-09-26T14:26:09.337Z"
   },
   {
    "duration": 61,
    "start_time": "2022-09-26T14:26:09.669Z"
   },
   {
    "duration": 3,
    "start_time": "2022-09-26T14:26:10.128Z"
   },
   {
    "duration": 17,
    "start_time": "2022-09-26T14:26:10.434Z"
   },
   {
    "duration": 43,
    "start_time": "2022-09-26T14:26:10.593Z"
   },
   {
    "duration": 51,
    "start_time": "2022-09-26T14:26:10.748Z"
   },
   {
    "duration": 337,
    "start_time": "2022-09-26T14:26:10.910Z"
   },
   {
    "duration": 15,
    "start_time": "2022-09-26T14:26:20.946Z"
   },
   {
    "duration": 93,
    "start_time": "2022-09-26T14:27:27.474Z"
   },
   {
    "duration": 5,
    "start_time": "2022-09-26T14:27:38.294Z"
   },
   {
    "duration": 927,
    "start_time": "2022-09-26T14:27:38.641Z"
   },
   {
    "duration": 101,
    "start_time": "2022-09-26T14:27:39.570Z"
   },
   {
    "duration": 4,
    "start_time": "2022-09-26T14:27:39.732Z"
   },
   {
    "duration": 41,
    "start_time": "2022-09-26T14:27:40.320Z"
   },
   {
    "duration": 12,
    "start_time": "2022-09-26T14:27:40.980Z"
   },
   {
    "duration": 74,
    "start_time": "2022-09-26T14:27:41.290Z"
   },
   {
    "duration": 119,
    "start_time": "2022-09-26T14:27:41.610Z"
   },
   {
    "duration": 233,
    "start_time": "2022-09-26T14:27:42.388Z"
   },
   {
    "duration": 192,
    "start_time": "2022-09-26T14:27:43.422Z"
   },
   {
    "duration": 135,
    "start_time": "2022-09-26T14:27:44.379Z"
   },
   {
    "duration": 26,
    "start_time": "2022-09-26T14:27:44.709Z"
   },
   {
    "duration": 8,
    "start_time": "2022-09-26T14:27:45.032Z"
   },
   {
    "duration": 8,
    "start_time": "2022-09-26T14:27:45.482Z"
   },
   {
    "duration": 30,
    "start_time": "2022-09-26T14:27:58.850Z"
   },
   {
    "duration": 17,
    "start_time": "2022-09-26T14:28:00.009Z"
   },
   {
    "duration": 64,
    "start_time": "2022-09-26T14:28:00.484Z"
   },
   {
    "duration": 3,
    "start_time": "2022-09-26T14:28:01.336Z"
   },
   {
    "duration": 19,
    "start_time": "2022-09-26T14:28:02.023Z"
   },
   {
    "duration": 41,
    "start_time": "2022-09-26T14:28:02.852Z"
   },
   {
    "duration": 43,
    "start_time": "2022-09-26T14:28:03.462Z"
   },
   {
    "duration": 333,
    "start_time": "2022-09-26T14:28:04.013Z"
   },
   {
    "duration": 19,
    "start_time": "2022-09-26T14:28:08.263Z"
   },
   {
    "duration": 24,
    "start_time": "2022-09-26T14:28:12.139Z"
   },
   {
    "duration": 140,
    "start_time": "2022-09-26T14:28:12.684Z"
   },
   {
    "duration": 4,
    "start_time": "2022-09-26T14:28:15.213Z"
   },
   {
    "duration": 4,
    "start_time": "2022-09-26T14:29:03.483Z"
   },
   {
    "duration": 4,
    "start_time": "2022-09-26T14:29:07.467Z"
   },
   {
    "duration": 4,
    "start_time": "2022-09-26T14:29:34.585Z"
   },
   {
    "duration": 5,
    "start_time": "2022-09-26T14:29:35.382Z"
   },
   {
    "duration": 3,
    "start_time": "2022-09-26T14:29:37.729Z"
   },
   {
    "duration": 4,
    "start_time": "2022-09-26T14:32:41.085Z"
   },
   {
    "duration": 1078,
    "start_time": "2022-09-26T14:32:41.612Z"
   },
   {
    "duration": 8,
    "start_time": "2022-09-26T14:32:42.692Z"
   },
   {
    "duration": 151,
    "start_time": "2022-09-26T14:32:42.702Z"
   },
   {
    "duration": 22,
    "start_time": "2022-09-26T14:32:42.856Z"
   },
   {
    "duration": 6,
    "start_time": "2022-09-26T14:32:42.880Z"
   },
   {
    "duration": 7,
    "start_time": "2022-09-26T14:32:43.675Z"
   },
   {
    "duration": 4,
    "start_time": "2022-09-26T14:35:47.353Z"
   },
   {
    "duration": 284,
    "start_time": "2022-09-26T14:37:11.991Z"
   },
   {
    "duration": 1044,
    "start_time": "2022-09-26T14:37:39.111Z"
   },
   {
    "duration": 17,
    "start_time": "2022-09-26T14:39:17.618Z"
   },
   {
    "duration": 888,
    "start_time": "2022-09-26T14:39:34.084Z"
   },
   {
    "duration": 272,
    "start_time": "2022-09-26T14:44:48.477Z"
   },
   {
    "duration": 4,
    "start_time": "2022-09-26T14:44:53.130Z"
   },
   {
    "duration": 316,
    "start_time": "2022-09-26T14:44:57.449Z"
   },
   {
    "duration": 3,
    "start_time": "2022-09-26T14:45:33.459Z"
   },
   {
    "duration": 312,
    "start_time": "2022-09-26T14:45:34.164Z"
   },
   {
    "duration": 15,
    "start_time": "2022-09-26T14:45:34.637Z"
   },
   {
    "duration": 3,
    "start_time": "2022-09-26T14:45:45.274Z"
   },
   {
    "duration": 370,
    "start_time": "2022-09-26T14:45:45.727Z"
   },
   {
    "duration": 9,
    "start_time": "2022-09-26T14:45:46.119Z"
   },
   {
    "duration": 11,
    "start_time": "2022-09-26T14:45:50.488Z"
   },
   {
    "duration": 316,
    "start_time": "2022-09-26T14:45:50.922Z"
   },
   {
    "duration": 3,
    "start_time": "2022-09-26T14:46:45.517Z"
   },
   {
    "duration": 304,
    "start_time": "2022-09-26T14:46:46.909Z"
   },
   {
    "duration": 13,
    "start_time": "2022-09-26T14:46:47.273Z"
   },
   {
    "duration": 3,
    "start_time": "2022-09-26T14:47:19.846Z"
   },
   {
    "duration": 332,
    "start_time": "2022-09-26T14:47:20.249Z"
   },
   {
    "duration": 9,
    "start_time": "2022-09-26T14:47:20.584Z"
   },
   {
    "duration": 4,
    "start_time": "2022-09-26T14:47:34.611Z"
   },
   {
    "duration": 4420,
    "start_time": "2022-09-26T14:47:35.241Z"
   },
   {
    "duration": 19,
    "start_time": "2022-09-26T14:47:39.663Z"
   },
   {
    "duration": 19,
    "start_time": "2022-09-26T14:47:39.684Z"
   },
   {
    "duration": 43,
    "start_time": "2022-09-26T14:47:39.706Z"
   },
   {
    "duration": 7,
    "start_time": "2022-09-26T14:47:39.751Z"
   },
   {
    "duration": 6,
    "start_time": "2022-09-26T14:47:39.759Z"
   },
   {
    "duration": 3,
    "start_time": "2022-09-26T15:13:40.111Z"
   },
   {
    "duration": 4295,
    "start_time": "2022-09-26T15:13:40.525Z"
   },
   {
    "duration": 19,
    "start_time": "2022-09-26T15:13:44.822Z"
   },
   {
    "duration": 14,
    "start_time": "2022-09-26T15:13:44.843Z"
   },
   {
    "duration": 26,
    "start_time": "2022-09-26T15:13:44.859Z"
   },
   {
    "duration": 7,
    "start_time": "2022-09-26T15:13:44.966Z"
   },
   {
    "duration": 7,
    "start_time": "2022-09-26T15:13:45.566Z"
   },
   {
    "duration": 4,
    "start_time": "2022-09-26T18:32:22.289Z"
   },
   {
    "duration": 72333,
    "start_time": "2022-09-26T18:32:23.395Z"
   },
   {
    "duration": 48,
    "start_time": "2022-09-26T18:33:35.730Z"
   },
   {
    "duration": 5,
    "start_time": "2022-09-26T18:33:35.780Z"
   },
   {
    "duration": 24,
    "start_time": "2022-09-26T18:33:35.787Z"
   },
   {
    "duration": 17,
    "start_time": "2022-09-26T18:33:35.813Z"
   },
   {
    "duration": 3,
    "start_time": "2022-09-26T18:34:16.937Z"
   },
   {
    "duration": 27670,
    "start_time": "2022-09-26T18:34:17.583Z"
   },
   {
    "duration": 46,
    "start_time": "2022-09-26T18:34:45.256Z"
   },
   {
    "duration": 6,
    "start_time": "2022-09-26T18:34:45.304Z"
   },
   {
    "duration": 9,
    "start_time": "2022-09-26T18:34:45.311Z"
   },
   {
    "duration": 7,
    "start_time": "2022-09-26T18:34:45.321Z"
   },
   {
    "duration": 4,
    "start_time": "2022-09-26T18:34:46.815Z"
   },
   {
    "duration": 147967,
    "start_time": "2022-09-26T18:34:46.992Z"
   },
   {
    "duration": 1409,
    "start_time": "2022-09-26T18:37:14.961Z"
   },
   {
    "duration": 5,
    "start_time": "2022-09-26T18:37:16.372Z"
   },
   {
    "duration": 77,
    "start_time": "2022-09-26T18:37:16.379Z"
   },
   {
    "duration": 8,
    "start_time": "2022-09-26T18:37:16.458Z"
   },
   {
    "duration": 4,
    "start_time": "2022-09-26T18:37:51.708Z"
   },
   {
    "duration": 714000,
    "start_time": "2022-09-26T18:37:52.831Z"
   },
   {
    "duration": 1428,
    "start_time": "2022-09-26T18:49:46.833Z"
   },
   {
    "duration": 5,
    "start_time": "2022-09-26T18:49:48.263Z"
   },
   {
    "duration": 11,
    "start_time": "2022-09-26T18:49:48.270Z"
   },
   {
    "duration": 7,
    "start_time": "2022-09-26T18:49:48.282Z"
   },
   {
    "duration": 8,
    "start_time": "2022-09-26T18:49:48.290Z"
   },
   {
    "duration": 7,
    "start_time": "2022-09-26T18:52:27.383Z"
   },
   {
    "duration": 11,
    "start_time": "2022-09-26T18:53:35.582Z"
   },
   {
    "duration": 8,
    "start_time": "2022-09-26T18:54:20.506Z"
   },
   {
    "duration": 4,
    "start_time": "2022-09-26T18:54:22.717Z"
   },
   {
    "duration": 433015,
    "start_time": "2022-09-26T18:54:22.886Z"
   },
   {
    "duration": 1496,
    "start_time": "2022-09-26T19:01:35.904Z"
   },
   {
    "duration": 7,
    "start_time": "2022-09-26T19:01:37.402Z"
   },
   {
    "duration": 61,
    "start_time": "2022-09-26T19:01:37.411Z"
   },
   {
    "duration": 12,
    "start_time": "2022-09-26T19:01:37.476Z"
   },
   {
    "duration": 7,
    "start_time": "2022-09-26T19:01:37.494Z"
   },
   {
    "duration": 245,
    "start_time": "2022-09-30T07:31:38.964Z"
   },
   {
    "duration": 39,
    "start_time": "2022-09-30T07:33:00.582Z"
   },
   {
    "duration": 1698,
    "start_time": "2022-09-30T07:48:21.519Z"
   },
   {
    "duration": 3,
    "start_time": "2022-09-30T07:48:23.219Z"
   },
   {
    "duration": 81,
    "start_time": "2022-09-30T07:48:23.223Z"
   },
   {
    "duration": 5,
    "start_time": "2022-09-30T07:48:32.051Z"
   },
   {
    "duration": 2814,
    "start_time": "2022-09-30T07:48:32.374Z"
   },
   {
    "duration": 3,
    "start_time": "2022-09-30T07:48:35.189Z"
   },
   {
    "duration": 119,
    "start_time": "2022-09-30T07:48:36.020Z"
   },
   {
    "duration": 3,
    "start_time": "2022-09-30T07:48:37.225Z"
   },
   {
    "duration": 7,
    "start_time": "2022-09-30T07:48:43.124Z"
   },
   {
    "duration": 4,
    "start_time": "2022-09-30T07:49:39.372Z"
   },
   {
    "duration": 9,
    "start_time": "2022-09-30T07:49:42.041Z"
   },
   {
    "duration": 5,
    "start_time": "2022-09-30T07:49:44.497Z"
   },
   {
    "duration": 4,
    "start_time": "2022-09-30T07:50:01.712Z"
   },
   {
    "duration": 4,
    "start_time": "2022-09-30T07:50:05.530Z"
   },
   {
    "duration": 4,
    "start_time": "2022-09-30T07:50:08.023Z"
   },
   {
    "duration": 183,
    "start_time": "2022-09-30T07:53:08.024Z"
   },
   {
    "duration": 185,
    "start_time": "2022-09-30T07:53:22.212Z"
   },
   {
    "duration": 184,
    "start_time": "2022-09-30T07:53:30.267Z"
   },
   {
    "duration": 194,
    "start_time": "2022-09-30T07:53:35.231Z"
   },
   {
    "duration": 203,
    "start_time": "2022-09-30T07:53:55.518Z"
   },
   {
    "duration": 183,
    "start_time": "2022-09-30T07:53:58.518Z"
   },
   {
    "duration": 14,
    "start_time": "2022-09-30T07:54:21.844Z"
   },
   {
    "duration": 4,
    "start_time": "2022-09-30T07:54:31.453Z"
   },
   {
    "duration": 773,
    "start_time": "2022-09-30T07:54:31.752Z"
   },
   {
    "duration": 2,
    "start_time": "2022-09-30T07:54:32.527Z"
   },
   {
    "duration": 85,
    "start_time": "2022-09-30T07:54:32.624Z"
   },
   {
    "duration": 3,
    "start_time": "2022-09-30T07:54:33.266Z"
   },
   {
    "duration": 15,
    "start_time": "2022-09-30T07:54:33.662Z"
   },
   {
    "duration": 9,
    "start_time": "2022-09-30T07:54:50.258Z"
   },
   {
    "duration": 9,
    "start_time": "2022-09-30T07:54:56.969Z"
   },
   {
    "duration": 10,
    "start_time": "2022-09-30T07:55:01.260Z"
   },
   {
    "duration": 5,
    "start_time": "2022-09-30T07:55:28.678Z"
   },
   {
    "duration": 800,
    "start_time": "2022-09-30T07:55:29.027Z"
   },
   {
    "duration": 3,
    "start_time": "2022-09-30T07:55:29.829Z"
   },
   {
    "duration": 83,
    "start_time": "2022-09-30T07:55:30.020Z"
   },
   {
    "duration": 3,
    "start_time": "2022-09-30T07:55:30.827Z"
   },
   {
    "duration": 188,
    "start_time": "2022-09-30T07:55:31.180Z"
   },
   {
    "duration": 22,
    "start_time": "2022-09-30T07:55:34.059Z"
   },
   {
    "duration": 5,
    "start_time": "2022-09-30T07:55:47.560Z"
   },
   {
    "duration": 5,
    "start_time": "2022-09-30T07:57:33.460Z"
   },
   {
    "duration": 726,
    "start_time": "2022-09-30T07:57:33.777Z"
   },
   {
    "duration": 2,
    "start_time": "2022-09-30T07:57:34.505Z"
   },
   {
    "duration": 81,
    "start_time": "2022-09-30T07:57:34.624Z"
   },
   {
    "duration": 3,
    "start_time": "2022-09-30T07:57:35.212Z"
   },
   {
    "duration": 3,
    "start_time": "2022-09-30T07:57:35.368Z"
   },
   {
    "duration": 185,
    "start_time": "2022-09-30T07:57:35.552Z"
   },
   {
    "duration": 224,
    "start_time": "2022-09-30T07:57:43.735Z"
   },
   {
    "duration": 22,
    "start_time": "2022-09-30T07:58:00.109Z"
   },
   {
    "duration": 7550,
    "start_time": "2022-09-30T07:58:33.516Z"
   },
   {
    "duration": 24,
    "start_time": "2022-09-30T07:58:46.534Z"
   },
   {
    "duration": 1166,
    "start_time": "2022-09-30T07:59:20.123Z"
   },
   {
    "duration": 75,
    "start_time": "2022-09-30T07:59:57.549Z"
   },
   {
    "duration": 21,
    "start_time": "2022-09-30T08:00:03.252Z"
   },
   {
    "duration": 1768,
    "start_time": "2022-09-30T12:40:22.836Z"
   },
   {
    "duration": 1319,
    "start_time": "2022-09-30T12:40:25.425Z"
   },
   {
    "duration": 2,
    "start_time": "2022-09-30T12:40:26.746Z"
   },
   {
    "duration": 110,
    "start_time": "2022-09-30T12:40:26.750Z"
   },
   {
    "duration": 4,
    "start_time": "2022-09-30T12:40:27.038Z"
   },
   {
    "duration": 215,
    "start_time": "2022-09-30T12:40:27.219Z"
   },
   {
    "duration": 90,
    "start_time": "2022-09-30T12:40:27.436Z"
   },
   {
    "duration": 40,
    "start_time": "2022-09-30T12:40:27.853Z"
   },
   {
    "duration": 14,
    "start_time": "2022-09-30T12:40:28.919Z"
   },
   {
    "duration": 71,
    "start_time": "2022-09-30T12:40:29.360Z"
   },
   {
    "duration": 101,
    "start_time": "2022-09-30T12:40:29.864Z"
   },
   {
    "duration": 221,
    "start_time": "2022-09-30T12:40:31.529Z"
   },
   {
    "duration": 180,
    "start_time": "2022-09-30T12:40:33.105Z"
   },
   {
    "duration": 203,
    "start_time": "2022-09-30T12:40:36.236Z"
   },
   {
    "duration": 21,
    "start_time": "2022-09-30T12:40:37.210Z"
   },
   {
    "duration": 7,
    "start_time": "2022-09-30T12:40:38.415Z"
   },
   {
    "duration": 8,
    "start_time": "2022-09-30T12:40:39.071Z"
   },
   {
    "duration": 18,
    "start_time": "2022-09-30T12:40:40.367Z"
   },
   {
    "duration": 45,
    "start_time": "2022-09-30T12:40:42.419Z"
   },
   {
    "duration": 2,
    "start_time": "2022-09-30T12:40:44.280Z"
   },
   {
    "duration": 2,
    "start_time": "2022-09-30T12:40:53.353Z"
   },
   {
    "duration": 2,
    "start_time": "2022-09-30T12:40:53.917Z"
   },
   {
    "duration": 182,
    "start_time": "2022-09-30T12:40:54.249Z"
   },
   {
    "duration": 62,
    "start_time": "2022-09-30T12:41:23.214Z"
   },
   {
    "duration": 5,
    "start_time": "2022-09-30T12:41:40.050Z"
   },
   {
    "duration": 943,
    "start_time": "2022-09-30T12:41:40.319Z"
   },
   {
    "duration": 2,
    "start_time": "2022-09-30T12:41:41.264Z"
   },
   {
    "duration": 89,
    "start_time": "2022-09-30T12:41:41.957Z"
   },
   {
    "duration": 3,
    "start_time": "2022-09-30T12:41:42.610Z"
   },
   {
    "duration": 211,
    "start_time": "2022-09-30T12:41:42.745Z"
   },
   {
    "duration": 94,
    "start_time": "2022-09-30T12:41:42.959Z"
   },
   {
    "duration": 35,
    "start_time": "2022-09-30T12:41:43.418Z"
   },
   {
    "duration": 10,
    "start_time": "2022-09-30T12:41:44.310Z"
   },
   {
    "duration": 72,
    "start_time": "2022-09-30T12:41:44.653Z"
   },
   {
    "duration": 82,
    "start_time": "2022-09-30T12:41:45.013Z"
   },
   {
    "duration": 190,
    "start_time": "2022-09-30T12:41:46.236Z"
   },
   {
    "duration": 183,
    "start_time": "2022-09-30T12:41:47.350Z"
   },
   {
    "duration": 175,
    "start_time": "2022-09-30T12:41:48.876Z"
   },
   {
    "duration": 20,
    "start_time": "2022-09-30T12:41:49.242Z"
   },
   {
    "duration": 6,
    "start_time": "2022-09-30T12:41:49.642Z"
   },
   {
    "duration": 6,
    "start_time": "2022-09-30T12:41:50.017Z"
   },
   {
    "duration": 20,
    "start_time": "2022-09-30T12:41:50.665Z"
   },
   {
    "duration": 48,
    "start_time": "2022-09-30T12:41:51.739Z"
   },
   {
    "duration": 3,
    "start_time": "2022-09-30T12:41:52.449Z"
   },
   {
    "duration": 2,
    "start_time": "2022-09-30T12:41:52.965Z"
   },
   {
    "duration": 196,
    "start_time": "2022-09-30T12:41:53.267Z"
   },
   {
    "duration": 17,
    "start_time": "2022-09-30T12:44:38.754Z"
   },
   {
    "duration": 1651,
    "start_time": "2022-09-30T12:48:20.522Z"
   },
   {
    "duration": 5,
    "start_time": "2022-09-30T12:48:30.432Z"
   },
   {
    "duration": 866,
    "start_time": "2022-09-30T12:48:30.926Z"
   },
   {
    "duration": 2,
    "start_time": "2022-09-30T12:48:32.322Z"
   },
   {
    "duration": 93,
    "start_time": "2022-09-30T12:48:32.871Z"
   },
   {
    "duration": 3,
    "start_time": "2022-09-30T12:48:33.437Z"
   },
   {
    "duration": 220,
    "start_time": "2022-09-30T12:48:33.577Z"
   },
   {
    "duration": 116,
    "start_time": "2022-09-30T12:48:33.799Z"
   },
   {
    "duration": 32,
    "start_time": "2022-09-30T12:48:34.320Z"
   },
   {
    "duration": 12,
    "start_time": "2022-09-30T12:48:34.730Z"
   },
   {
    "duration": 73,
    "start_time": "2022-09-30T12:48:35.034Z"
   },
   {
    "duration": 81,
    "start_time": "2022-09-30T12:48:35.317Z"
   },
   {
    "duration": 192,
    "start_time": "2022-09-30T12:48:36.353Z"
   },
   {
    "duration": 204,
    "start_time": "2022-09-30T12:48:36.547Z"
   },
   {
    "duration": 137,
    "start_time": "2022-09-30T12:48:36.827Z"
   },
   {
    "duration": 19,
    "start_time": "2022-09-30T12:48:37.043Z"
   },
   {
    "duration": 7,
    "start_time": "2022-09-30T12:48:37.526Z"
   },
   {
    "duration": 6,
    "start_time": "2022-09-30T12:48:38.038Z"
   },
   {
    "duration": 22,
    "start_time": "2022-09-30T12:48:38.830Z"
   },
   {
    "duration": 44,
    "start_time": "2022-09-30T12:48:39.720Z"
   },
   {
    "duration": 3,
    "start_time": "2022-09-30T12:48:40.156Z"
   },
   {
    "duration": 3,
    "start_time": "2022-09-30T12:48:40.534Z"
   },
   {
    "duration": 86,
    "start_time": "2022-09-30T12:48:40.930Z"
   },
   {
    "duration": 21,
    "start_time": "2022-09-30T12:50:02.181Z"
   },
   {
    "duration": 45,
    "start_time": "2022-09-30T12:52:29.810Z"
   },
   {
    "duration": 478,
    "start_time": "2022-09-30T12:52:50.110Z"
   },
   {
    "duration": 12,
    "start_time": "2022-09-30T12:52:53.271Z"
   },
   {
    "duration": 12,
    "start_time": "2022-09-30T12:54:34.519Z"
   },
   {
    "duration": 5,
    "start_time": "2022-09-30T12:55:04.960Z"
   },
   {
    "duration": 882,
    "start_time": "2022-09-30T12:55:05.912Z"
   },
   {
    "duration": 3,
    "start_time": "2022-09-30T12:55:06.796Z"
   },
   {
    "duration": 92,
    "start_time": "2022-09-30T12:55:07.264Z"
   },
   {
    "duration": 3,
    "start_time": "2022-09-30T12:55:08.248Z"
   },
   {
    "duration": 224,
    "start_time": "2022-09-30T12:55:08.414Z"
   },
   {
    "duration": 103,
    "start_time": "2022-09-30T12:55:08.640Z"
   },
   {
    "duration": 35,
    "start_time": "2022-09-30T12:55:09.077Z"
   },
   {
    "duration": 12,
    "start_time": "2022-09-30T12:55:09.878Z"
   },
   {
    "duration": 85,
    "start_time": "2022-09-30T12:55:10.186Z"
   },
   {
    "duration": 177,
    "start_time": "2022-09-30T12:55:10.515Z"
   },
   {
    "duration": 248,
    "start_time": "2022-09-30T12:55:11.644Z"
   },
   {
    "duration": 211,
    "start_time": "2022-09-30T12:55:12.662Z"
   },
   {
    "duration": 132,
    "start_time": "2022-09-30T12:55:14.229Z"
   },
   {
    "duration": 30,
    "start_time": "2022-09-30T12:55:14.560Z"
   },
   {
    "duration": 7,
    "start_time": "2022-09-30T12:55:14.909Z"
   },
   {
    "duration": 6,
    "start_time": "2022-09-30T12:55:15.222Z"
   },
   {
    "duration": 30,
    "start_time": "2022-09-30T12:55:15.812Z"
   },
   {
    "duration": 62,
    "start_time": "2022-09-30T12:55:17.027Z"
   },
   {
    "duration": 3,
    "start_time": "2022-09-30T12:55:17.559Z"
   },
   {
    "duration": 2,
    "start_time": "2022-09-30T12:55:17.855Z"
   },
   {
    "duration": 524,
    "start_time": "2022-09-30T12:55:18.010Z"
   },
   {
    "duration": 20,
    "start_time": "2022-09-30T12:55:18.536Z"
   },
   {
    "duration": 87,
    "start_time": "2022-09-30T12:55:25.873Z"
   },
   {
    "duration": 278,
    "start_time": "2022-09-30T12:55:26.628Z"
   },
   {
    "duration": 3,
    "start_time": "2022-09-30T13:07:36.475Z"
   },
   {
    "duration": 9,
    "start_time": "2022-09-30T13:07:41.758Z"
   },
   {
    "duration": 6,
    "start_time": "2022-09-30T13:16:04.106Z"
   },
   {
    "duration": 880,
    "start_time": "2022-09-30T13:16:05.170Z"
   },
   {
    "duration": 3,
    "start_time": "2022-09-30T13:16:06.052Z"
   },
   {
    "duration": 91,
    "start_time": "2022-09-30T13:16:06.115Z"
   },
   {
    "duration": 4,
    "start_time": "2022-09-30T13:16:06.903Z"
   },
   {
    "duration": 215,
    "start_time": "2022-09-30T13:16:07.072Z"
   },
   {
    "duration": 94,
    "start_time": "2022-09-30T13:16:07.289Z"
   },
   {
    "duration": 31,
    "start_time": "2022-09-30T13:16:07.728Z"
   },
   {
    "duration": 11,
    "start_time": "2022-09-30T13:16:08.550Z"
   },
   {
    "duration": 124,
    "start_time": "2022-09-30T13:16:09.045Z"
   },
   {
    "duration": 164,
    "start_time": "2022-09-30T13:16:09.367Z"
   },
   {
    "duration": 225,
    "start_time": "2022-09-30T13:16:10.643Z"
   },
   {
    "duration": 218,
    "start_time": "2022-09-30T13:16:11.616Z"
   },
   {
    "duration": 241,
    "start_time": "2022-09-30T13:16:13.267Z"
   },
   {
    "duration": 29,
    "start_time": "2022-09-30T13:16:13.635Z"
   },
   {
    "duration": 6,
    "start_time": "2022-09-30T13:16:14.003Z"
   },
   {
    "duration": 6,
    "start_time": "2022-09-30T13:16:14.341Z"
   },
   {
    "duration": 30,
    "start_time": "2022-09-30T13:16:14.908Z"
   },
   {
    "duration": 110,
    "start_time": "2022-09-30T13:16:15.911Z"
   },
   {
    "duration": 2,
    "start_time": "2022-09-30T13:16:16.514Z"
   },
   {
    "duration": 3,
    "start_time": "2022-09-30T13:16:16.907Z"
   },
   {
    "duration": 710,
    "start_time": "2022-09-30T13:16:17.118Z"
   },
   {
    "duration": 13,
    "start_time": "2022-09-30T13:16:17.830Z"
   },
   {
    "duration": 75,
    "start_time": "2022-09-30T13:18:10.426Z"
   },
   {
    "duration": 809,
    "start_time": "2022-09-30T13:18:17.818Z"
   },
   {
    "duration": 239,
    "start_time": "2022-09-30T13:19:21.863Z"
   },
   {
    "duration": 564,
    "start_time": "2022-09-30T13:19:22.852Z"
   },
   {
    "duration": 3,
    "start_time": "2022-09-30T13:19:27.514Z"
   },
   {
    "duration": 3,
    "start_time": "2022-09-30T13:19:28.751Z"
   },
   {
    "duration": 4,
    "start_time": "2022-09-30T13:19:29.871Z"
   },
   {
    "duration": 10,
    "start_time": "2022-09-30T13:23:54.044Z"
   },
   {
    "duration": 4,
    "start_time": "2022-09-30T13:23:54.870Z"
   },
   {
    "duration": 3933,
    "start_time": "2022-09-30T13:23:56.222Z"
   },
   {
    "duration": 6,
    "start_time": "2022-09-30T13:24:13.218Z"
   },
   {
    "duration": 3661,
    "start_time": "2022-09-30T13:28:43.254Z"
   },
   {
    "duration": 3,
    "start_time": "2022-09-30T13:28:52.617Z"
   },
   {
    "duration": 3918,
    "start_time": "2022-09-30T13:31:45.532Z"
   },
   {
    "duration": 3769,
    "start_time": "2022-09-30T13:34:39.293Z"
   },
   {
    "duration": 3790,
    "start_time": "2022-09-30T13:36:00.517Z"
   },
   {
    "duration": 15,
    "start_time": "2022-09-30T13:36:11.619Z"
   },
   {
    "duration": 10,
    "start_time": "2022-09-30T13:36:15.004Z"
   },
   {
    "duration": 5,
    "start_time": "2022-09-30T13:36:23.862Z"
   },
   {
    "duration": 16,
    "start_time": "2022-09-30T13:36:32.238Z"
   },
   {
    "duration": 5,
    "start_time": "2022-09-30T13:36:56.224Z"
   },
   {
    "duration": 13,
    "start_time": "2022-09-30T13:36:59.815Z"
   },
   {
    "duration": 11,
    "start_time": "2022-09-30T13:37:21.908Z"
   },
   {
    "duration": 16,
    "start_time": "2022-09-30T13:37:24.054Z"
   },
   {
    "duration": 7,
    "start_time": "2022-09-30T13:38:12.530Z"
   },
   {
    "duration": 20,
    "start_time": "2022-09-30T13:38:16.925Z"
   },
   {
    "duration": 3,
    "start_time": "2022-09-30T13:38:49.914Z"
   },
   {
    "duration": 7,
    "start_time": "2022-09-30T13:38:53.608Z"
   },
   {
    "duration": 6,
    "start_time": "2022-09-30T13:40:43.638Z"
   },
   {
    "duration": 2,
    "start_time": "2022-09-30T13:40:44.368Z"
   },
   {
    "duration": 3640,
    "start_time": "2022-09-30T13:40:45.625Z"
   },
   {
    "duration": 16,
    "start_time": "2022-09-30T13:40:49.269Z"
   },
   {
    "duration": 5,
    "start_time": "2022-09-30T13:40:49.916Z"
   },
   {
    "duration": 15,
    "start_time": "2022-09-30T13:40:50.061Z"
   },
   {
    "duration": 10,
    "start_time": "2022-09-30T13:40:50.228Z"
   },
   {
    "duration": 10,
    "start_time": "2022-09-30T13:40:50.543Z"
   },
   {
    "duration": 8,
    "start_time": "2022-09-30T13:40:54.642Z"
   },
   {
    "duration": 10,
    "start_time": "2022-09-30T13:40:58.632Z"
   },
   {
    "duration": 7,
    "start_time": "2022-09-30T13:41:05.152Z"
   },
   {
    "duration": 4,
    "start_time": "2022-09-30T13:44:53.609Z"
   },
   {
    "duration": 10566,
    "start_time": "2022-09-30T13:44:54.540Z"
   },
   {
    "duration": 0,
    "start_time": "2022-09-30T13:45:05.108Z"
   },
   {
    "duration": 0,
    "start_time": "2022-09-30T13:45:05.109Z"
   },
   {
    "duration": 0,
    "start_time": "2022-09-30T13:45:05.110Z"
   },
   {
    "duration": 0,
    "start_time": "2022-09-30T13:45:05.112Z"
   },
   {
    "duration": 3,
    "start_time": "2022-09-30T13:46:53.816Z"
   },
   {
    "duration": 44,
    "start_time": "2022-09-30T13:46:57.296Z"
   },
   {
    "duration": 48,
    "start_time": "2022-09-30T13:47:14.431Z"
   },
   {
    "duration": 82,
    "start_time": "2022-09-30T13:47:28.296Z"
   },
   {
    "duration": 75,
    "start_time": "2022-09-30T13:47:42.429Z"
   },
   {
    "duration": 8,
    "start_time": "2022-09-30T13:48:50.134Z"
   },
   {
    "duration": 936,
    "start_time": "2022-09-30T13:48:51.208Z"
   },
   {
    "duration": 2,
    "start_time": "2022-09-30T13:48:52.212Z"
   },
   {
    "duration": 101,
    "start_time": "2022-09-30T13:48:53.156Z"
   },
   {
    "duration": 3,
    "start_time": "2022-09-30T13:48:53.931Z"
   },
   {
    "duration": 223,
    "start_time": "2022-09-30T13:48:54.140Z"
   },
   {
    "duration": 94,
    "start_time": "2022-09-30T13:48:54.365Z"
   },
   {
    "duration": 26,
    "start_time": "2022-09-30T13:48:54.959Z"
   },
   {
    "duration": 13,
    "start_time": "2022-09-30T13:48:55.947Z"
   },
   {
    "duration": 102,
    "start_time": "2022-09-30T13:48:56.456Z"
   },
   {
    "duration": 180,
    "start_time": "2022-09-30T13:48:57.108Z"
   },
   {
    "duration": 272,
    "start_time": "2022-09-30T13:48:59.008Z"
   },
   {
    "duration": 220,
    "start_time": "2022-09-30T13:49:01.757Z"
   },
   {
    "duration": 157,
    "start_time": "2022-09-30T13:49:04.216Z"
   },
   {
    "duration": 27,
    "start_time": "2022-09-30T13:49:04.776Z"
   },
   {
    "duration": 8,
    "start_time": "2022-09-30T13:49:05.340Z"
   },
   {
    "duration": 7,
    "start_time": "2022-09-30T13:49:05.916Z"
   },
   {
    "duration": 34,
    "start_time": "2022-09-30T13:49:06.933Z"
   },
   {
    "duration": 113,
    "start_time": "2022-09-30T13:49:08.613Z"
   },
   {
    "duration": 3,
    "start_time": "2022-09-30T13:49:09.704Z"
   },
   {
    "duration": 2,
    "start_time": "2022-09-30T13:49:10.404Z"
   },
   {
    "duration": 61,
    "start_time": "2022-09-30T13:49:10.833Z"
   },
   {
    "duration": 3,
    "start_time": "2022-09-30T13:50:15.661Z"
   },
   {
    "duration": 2,
    "start_time": "2022-09-30T13:50:16.175Z"
   },
   {
    "duration": 43,
    "start_time": "2022-09-30T13:50:16.609Z"
   },
   {
    "duration": 154,
    "start_time": "2022-09-30T13:54:04.723Z"
   },
   {
    "duration": 31,
    "start_time": "2022-09-30T14:00:00.143Z"
   },
   {
    "duration": 41,
    "start_time": "2022-09-30T14:00:11.810Z"
   },
   {
    "duration": 35,
    "start_time": "2022-09-30T14:00:19.310Z"
   },
   {
    "duration": 84,
    "start_time": "2022-09-30T14:00:30.658Z"
   },
   {
    "duration": 80,
    "start_time": "2022-09-30T14:00:44.399Z"
   },
   {
    "duration": 6,
    "start_time": "2022-09-30T14:01:03.943Z"
   },
   {
    "duration": 904,
    "start_time": "2022-09-30T14:01:04.413Z"
   },
   {
    "duration": 3,
    "start_time": "2022-09-30T14:01:05.320Z"
   },
   {
    "duration": 96,
    "start_time": "2022-09-30T14:01:06.226Z"
   },
   {
    "duration": 4,
    "start_time": "2022-09-30T14:01:06.840Z"
   },
   {
    "duration": 217,
    "start_time": "2022-09-30T14:01:06.996Z"
   },
   {
    "duration": 79,
    "start_time": "2022-09-30T14:01:07.221Z"
   },
   {
    "duration": 30,
    "start_time": "2022-09-30T14:01:07.595Z"
   },
   {
    "duration": 11,
    "start_time": "2022-09-30T14:01:08.308Z"
   },
   {
    "duration": 105,
    "start_time": "2022-09-30T14:01:08.811Z"
   },
   {
    "duration": 176,
    "start_time": "2022-09-30T14:01:09.053Z"
   },
   {
    "duration": 233,
    "start_time": "2022-09-30T14:01:10.138Z"
   },
   {
    "duration": 200,
    "start_time": "2022-09-30T14:01:11.091Z"
   },
   {
    "duration": 142,
    "start_time": "2022-09-30T14:01:12.470Z"
   },
   {
    "duration": 27,
    "start_time": "2022-09-30T14:01:12.808Z"
   },
   {
    "duration": 7,
    "start_time": "2022-09-30T14:01:13.101Z"
   },
   {
    "duration": 7,
    "start_time": "2022-09-30T14:01:13.426Z"
   },
   {
    "duration": 29,
    "start_time": "2022-09-30T14:01:13.870Z"
   },
   {
    "duration": 118,
    "start_time": "2022-09-30T14:01:14.648Z"
   },
   {
    "duration": 3,
    "start_time": "2022-09-30T14:01:15.339Z"
   },
   {
    "duration": 2,
    "start_time": "2022-09-30T14:01:15.870Z"
   },
   {
    "duration": 51,
    "start_time": "2022-09-30T14:01:16.228Z"
   },
   {
    "duration": 87,
    "start_time": "2022-09-30T14:01:17.514Z"
   },
   {
    "duration": 2122,
    "start_time": "2022-09-30T18:54:51.608Z"
   },
   {
    "duration": 3123,
    "start_time": "2022-09-30T18:54:53.732Z"
   },
   {
    "duration": 3,
    "start_time": "2022-09-30T18:54:56.856Z"
   },
   {
    "duration": 100,
    "start_time": "2022-09-30T18:54:56.861Z"
   },
   {
    "duration": 3,
    "start_time": "2022-09-30T18:54:56.963Z"
   },
   {
    "duration": 202,
    "start_time": "2022-09-30T18:54:56.968Z"
   },
   {
    "duration": 84,
    "start_time": "2022-09-30T18:54:57.172Z"
   },
   {
    "duration": 47,
    "start_time": "2022-09-30T18:54:57.257Z"
   },
   {
    "duration": 15,
    "start_time": "2022-09-30T18:54:57.305Z"
   },
   {
    "duration": 96,
    "start_time": "2022-09-30T18:54:57.322Z"
   },
   {
    "duration": 195,
    "start_time": "2022-09-30T18:54:57.420Z"
   },
   {
    "duration": 255,
    "start_time": "2022-09-30T18:54:57.617Z"
   },
   {
    "duration": 211,
    "start_time": "2022-09-30T18:54:57.874Z"
   },
   {
    "duration": 231,
    "start_time": "2022-09-30T18:54:58.087Z"
   },
   {
    "duration": 32,
    "start_time": "2022-09-30T18:54:58.320Z"
   },
   {
    "duration": 8,
    "start_time": "2022-09-30T18:54:58.355Z"
   },
   {
    "duration": 7,
    "start_time": "2022-09-30T18:54:58.365Z"
   },
   {
    "duration": 30,
    "start_time": "2022-09-30T18:54:58.520Z"
   },
   {
    "duration": 126,
    "start_time": "2022-09-30T18:54:59.460Z"
   },
   {
    "duration": 2,
    "start_time": "2022-09-30T18:55:00.096Z"
   },
   {
    "duration": 2,
    "start_time": "2022-09-30T18:55:00.922Z"
   },
   {
    "duration": 59,
    "start_time": "2022-09-30T18:55:01.128Z"
   },
   {
    "duration": 108,
    "start_time": "2022-09-30T18:55:01.354Z"
   },
   {
    "duration": 220,
    "start_time": "2022-09-30T18:55:01.618Z"
   },
   {
    "duration": 290,
    "start_time": "2022-09-30T18:55:34.836Z"
   },
   {
    "duration": 73,
    "start_time": "2022-09-30T18:55:42.473Z"
   },
   {
    "duration": 94,
    "start_time": "2022-09-30T18:55:59.064Z"
   },
   {
    "duration": 101,
    "start_time": "2022-09-30T18:56:08.369Z"
   },
   {
    "duration": 73,
    "start_time": "2022-09-30T18:57:37.653Z"
   },
   {
    "duration": 14,
    "start_time": "2022-09-30T18:57:54.044Z"
   },
   {
    "duration": 352,
    "start_time": "2022-09-30T18:58:01.328Z"
   },
   {
    "duration": 16,
    "start_time": "2022-09-30T18:58:11.286Z"
   },
   {
    "duration": 13,
    "start_time": "2022-09-30T18:58:31.396Z"
   },
   {
    "duration": 46,
    "start_time": "2022-09-30T18:59:13.785Z"
   },
   {
    "duration": 13,
    "start_time": "2022-09-30T18:59:31.841Z"
   },
   {
    "duration": 85,
    "start_time": "2022-09-30T19:00:13.925Z"
   },
   {
    "duration": 18,
    "start_time": "2022-09-30T19:02:03.824Z"
   },
   {
    "duration": 9,
    "start_time": "2022-09-30T19:02:14.892Z"
   },
   {
    "duration": 22,
    "start_time": "2022-09-30T19:02:18.440Z"
   },
   {
    "duration": 236,
    "start_time": "2022-09-30T19:02:44.336Z"
   },
   {
    "duration": 16,
    "start_time": "2022-09-30T19:02:52.260Z"
   },
   {
    "duration": 4,
    "start_time": "2022-09-30T19:03:03.759Z"
   },
   {
    "duration": 895,
    "start_time": "2022-09-30T19:03:04.418Z"
   },
   {
    "duration": 3,
    "start_time": "2022-09-30T19:03:06.049Z"
   },
   {
    "duration": 101,
    "start_time": "2022-09-30T19:03:06.998Z"
   },
   {
    "duration": 4,
    "start_time": "2022-09-30T19:03:08.176Z"
   },
   {
    "duration": 200,
    "start_time": "2022-09-30T19:03:08.476Z"
   },
   {
    "duration": 78,
    "start_time": "2022-09-30T19:03:08.922Z"
   },
   {
    "duration": 26,
    "start_time": "2022-09-30T19:03:13.894Z"
   },
   {
    "duration": 6,
    "start_time": "2022-09-30T19:03:21.462Z"
   },
   {
    "duration": 116,
    "start_time": "2022-09-30T19:03:32.115Z"
   },
   {
    "duration": 6,
    "start_time": "2022-09-30T19:03:32.796Z"
   },
   {
    "duration": 32,
    "start_time": "2022-09-30T19:03:40.416Z"
   },
   {
    "duration": 14,
    "start_time": "2022-09-30T19:03:41.523Z"
   },
   {
    "duration": 101,
    "start_time": "2022-09-30T19:03:42.070Z"
   },
   {
    "duration": 170,
    "start_time": "2022-09-30T19:03:42.629Z"
   },
   {
    "duration": 257,
    "start_time": "2022-09-30T19:03:43.816Z"
   },
   {
    "duration": 190,
    "start_time": "2022-09-30T19:03:44.722Z"
   },
   {
    "duration": 135,
    "start_time": "2022-09-30T19:03:46.364Z"
   },
   {
    "duration": 29,
    "start_time": "2022-09-30T19:03:46.780Z"
   },
   {
    "duration": 9,
    "start_time": "2022-09-30T19:03:47.129Z"
   },
   {
    "duration": 7,
    "start_time": "2022-09-30T19:03:47.492Z"
   },
   {
    "duration": 30,
    "start_time": "2022-09-30T19:03:48.037Z"
   },
   {
    "duration": 116,
    "start_time": "2022-09-30T19:03:49.610Z"
   },
   {
    "duration": 2,
    "start_time": "2022-09-30T19:03:52.323Z"
   },
   {
    "duration": 2,
    "start_time": "2022-09-30T19:03:52.704Z"
   },
   {
    "duration": 61,
    "start_time": "2022-09-30T19:03:52.896Z"
   },
   {
    "duration": 294,
    "start_time": "2022-09-30T19:03:53.318Z"
   },
   {
    "duration": 261,
    "start_time": "2022-09-30T19:03:55.277Z"
   },
   {
    "duration": 18,
    "start_time": "2022-09-30T19:03:56.697Z"
   },
   {
    "duration": 62,
    "start_time": "2022-09-30T19:07:15.936Z"
   },
   {
    "duration": 72,
    "start_time": "2022-09-30T19:07:30.980Z"
   },
   {
    "duration": 15,
    "start_time": "2022-09-30T19:07:39.217Z"
   },
   {
    "duration": 417,
    "start_time": "2022-09-30T19:10:00.881Z"
   },
   {
    "duration": 74,
    "start_time": "2022-09-30T19:10:11.773Z"
   },
   {
    "duration": 15,
    "start_time": "2022-09-30T19:10:15.978Z"
   },
   {
    "duration": 396,
    "start_time": "2022-09-30T19:10:21.331Z"
   },
   {
    "duration": 4,
    "start_time": "2022-09-30T19:10:23.117Z"
   },
   {
    "duration": 5,
    "start_time": "2022-09-30T19:10:28.813Z"
   },
   {
    "duration": 13,
    "start_time": "2022-09-30T19:10:37.361Z"
   },
   {
    "duration": 19,
    "start_time": "2022-09-30T19:10:42.897Z"
   },
   {
    "duration": 5,
    "start_time": "2022-09-30T19:14:44.496Z"
   },
   {
    "duration": 909,
    "start_time": "2022-09-30T19:14:45.096Z"
   },
   {
    "duration": 3,
    "start_time": "2022-09-30T19:14:46.006Z"
   },
   {
    "duration": 103,
    "start_time": "2022-09-30T19:14:46.092Z"
   },
   {
    "duration": 4,
    "start_time": "2022-09-30T19:14:46.795Z"
   },
   {
    "duration": 190,
    "start_time": "2022-09-30T19:14:46.920Z"
   },
   {
    "duration": 107,
    "start_time": "2022-09-30T19:14:47.112Z"
   },
   {
    "duration": 38,
    "start_time": "2022-09-30T19:14:47.441Z"
   },
   {
    "duration": 14,
    "start_time": "2022-09-30T19:14:48.326Z"
   },
   {
    "duration": 87,
    "start_time": "2022-09-30T19:14:48.864Z"
   },
   {
    "duration": 172,
    "start_time": "2022-09-30T19:14:48.953Z"
   },
   {
    "duration": 240,
    "start_time": "2022-09-30T19:14:49.160Z"
   },
   {
    "duration": 235,
    "start_time": "2022-09-30T19:14:49.402Z"
   },
   {
    "duration": 140,
    "start_time": "2022-09-30T19:14:49.655Z"
   },
   {
    "duration": 31,
    "start_time": "2022-09-30T19:14:49.797Z"
   },
   {
    "duration": 6,
    "start_time": "2022-09-30T19:14:49.830Z"
   },
   {
    "duration": 6,
    "start_time": "2022-09-30T19:14:49.851Z"
   },
   {
    "duration": 30,
    "start_time": "2022-09-30T19:14:49.958Z"
   },
   {
    "duration": 123,
    "start_time": "2022-09-30T19:14:50.107Z"
   },
   {
    "duration": 3,
    "start_time": "2022-09-30T19:14:50.232Z"
   },
   {
    "duration": 2,
    "start_time": "2022-09-30T19:14:50.291Z"
   },
   {
    "duration": 52,
    "start_time": "2022-09-30T19:14:50.325Z"
   },
   {
    "duration": 143,
    "start_time": "2022-09-30T19:14:50.437Z"
   },
   {
    "duration": 0,
    "start_time": "2022-09-30T19:14:50.582Z"
   },
   {
    "duration": 0,
    "start_time": "2022-09-30T19:14:50.584Z"
   },
   {
    "duration": 0,
    "start_time": "2022-09-30T19:14:50.585Z"
   },
   {
    "duration": 14,
    "start_time": "2022-09-30T19:14:50.599Z"
   },
   {
    "duration": 58,
    "start_time": "2022-09-30T19:14:50.708Z"
   },
   {
    "duration": 22,
    "start_time": "2022-09-30T19:14:50.847Z"
   },
   {
    "duration": 219,
    "start_time": "2022-09-30T19:15:05.648Z"
   },
   {
    "duration": 53,
    "start_time": "2022-09-30T19:15:20.662Z"
   },
   {
    "duration": 18,
    "start_time": "2022-09-30T19:15:24.280Z"
   },
   {
    "duration": 5,
    "start_time": "2022-09-30T19:15:52.578Z"
   },
   {
    "duration": 954,
    "start_time": "2022-09-30T19:15:52.881Z"
   },
   {
    "duration": 3,
    "start_time": "2022-09-30T19:15:53.837Z"
   },
   {
    "duration": 101,
    "start_time": "2022-09-30T19:15:53.841Z"
   },
   {
    "duration": 4,
    "start_time": "2022-09-30T19:15:53.944Z"
   },
   {
    "duration": 201,
    "start_time": "2022-09-30T19:15:53.949Z"
   },
   {
    "duration": 104,
    "start_time": "2022-09-30T19:15:54.152Z"
   },
   {
    "duration": 38,
    "start_time": "2022-09-30T19:15:54.258Z"
   },
   {
    "duration": 13,
    "start_time": "2022-09-30T19:15:54.299Z"
   },
   {
    "duration": 126,
    "start_time": "2022-09-30T19:15:54.314Z"
   },
   {
    "duration": 184,
    "start_time": "2022-09-30T19:15:54.442Z"
   },
   {
    "duration": 246,
    "start_time": "2022-09-30T19:15:54.628Z"
   },
   {
    "duration": 221,
    "start_time": "2022-09-30T19:15:54.876Z"
   },
   {
    "duration": 135,
    "start_time": "2022-09-30T19:15:55.973Z"
   },
   {
    "duration": 27,
    "start_time": "2022-09-30T19:15:56.296Z"
   },
   {
    "duration": 8,
    "start_time": "2022-09-30T19:15:56.645Z"
   },
   {
    "duration": 7,
    "start_time": "2022-09-30T19:15:57.002Z"
   },
   {
    "duration": 29,
    "start_time": "2022-09-30T19:15:57.547Z"
   },
   {
    "duration": 114,
    "start_time": "2022-09-30T19:15:58.564Z"
   },
   {
    "duration": 3,
    "start_time": "2022-09-30T19:15:59.252Z"
   },
   {
    "duration": 2,
    "start_time": "2022-09-30T19:15:59.796Z"
   },
   {
    "duration": 51,
    "start_time": "2022-09-30T19:16:00.428Z"
   },
   {
    "duration": 71,
    "start_time": "2022-09-30T19:16:02.495Z"
   },
   {
    "duration": 16,
    "start_time": "2022-09-30T19:16:03.959Z"
   },
   {
    "duration": 230,
    "start_time": "2022-09-30T19:17:43.728Z"
   },
   {
    "duration": 224,
    "start_time": "2022-09-30T19:18:40.778Z"
   },
   {
    "duration": 226,
    "start_time": "2022-09-30T19:18:50.408Z"
   },
   {
    "duration": 229,
    "start_time": "2022-09-30T19:19:30.008Z"
   },
   {
    "duration": 213,
    "start_time": "2022-09-30T19:19:36.112Z"
   },
   {
    "duration": 45,
    "start_time": "2022-09-30T19:25:35.829Z"
   },
   {
    "duration": 46,
    "start_time": "2022-10-01T09:46:52.802Z"
   },
   {
    "duration": 10,
    "start_time": "2022-10-01T09:47:15.660Z"
   },
   {
    "duration": 1678,
    "start_time": "2022-10-01T09:47:29.468Z"
   },
   {
    "duration": 1135,
    "start_time": "2022-10-01T09:47:31.796Z"
   },
   {
    "duration": 2,
    "start_time": "2022-10-01T09:47:32.933Z"
   },
   {
    "duration": 101,
    "start_time": "2022-10-01T09:47:32.936Z"
   },
   {
    "duration": 3,
    "start_time": "2022-10-01T09:47:33.432Z"
   },
   {
    "duration": 192,
    "start_time": "2022-10-01T09:47:33.601Z"
   },
   {
    "duration": 79,
    "start_time": "2022-10-01T09:47:33.799Z"
   },
   {
    "duration": 27,
    "start_time": "2022-10-01T09:47:34.035Z"
   },
   {
    "duration": 15,
    "start_time": "2022-10-01T09:47:34.797Z"
   },
   {
    "duration": 74,
    "start_time": "2022-10-01T09:47:35.065Z"
   },
   {
    "duration": 183,
    "start_time": "2022-10-01T09:47:35.404Z"
   },
   {
    "duration": 214,
    "start_time": "2022-10-01T09:47:37.619Z"
   },
   {
    "duration": 252,
    "start_time": "2022-10-01T09:47:39.077Z"
   },
   {
    "duration": 131,
    "start_time": "2022-10-01T09:47:40.901Z"
   },
   {
    "duration": 27,
    "start_time": "2022-10-01T09:47:41.399Z"
   },
   {
    "duration": 6,
    "start_time": "2022-10-01T09:47:41.805Z"
   },
   {
    "duration": 6,
    "start_time": "2022-10-01T09:47:42.163Z"
   },
   {
    "duration": 26,
    "start_time": "2022-10-01T09:47:42.956Z"
   },
   {
    "duration": 120,
    "start_time": "2022-10-01T09:47:44.231Z"
   },
   {
    "duration": 2,
    "start_time": "2022-10-01T09:47:45.129Z"
   },
   {
    "duration": 2,
    "start_time": "2022-10-01T09:47:45.897Z"
   },
   {
    "duration": 56,
    "start_time": "2022-10-01T09:47:46.546Z"
   },
   {
    "duration": 104,
    "start_time": "2022-10-01T09:47:47.492Z"
   },
   {
    "duration": 583,
    "start_time": "2022-10-01T09:48:12.899Z"
   },
   {
    "duration": 560,
    "start_time": "2022-10-01T09:48:31.836Z"
   },
   {
    "duration": 4,
    "start_time": "2022-10-01T09:48:34.570Z"
   },
   {
    "duration": 5,
    "start_time": "2022-10-01T09:49:27.207Z"
   },
   {
    "duration": 765,
    "start_time": "2022-10-01T09:49:27.657Z"
   },
   {
    "duration": 2,
    "start_time": "2022-10-01T09:49:28.849Z"
   },
   {
    "duration": 86,
    "start_time": "2022-10-01T09:49:29.467Z"
   },
   {
    "duration": 3,
    "start_time": "2022-10-01T09:49:29.996Z"
   },
   {
    "duration": 181,
    "start_time": "2022-10-01T09:49:30.149Z"
   },
   {
    "duration": 84,
    "start_time": "2022-10-01T09:49:30.332Z"
   },
   {
    "duration": 24,
    "start_time": "2022-10-01T09:49:30.605Z"
   },
   {
    "duration": 12,
    "start_time": "2022-10-01T09:49:31.363Z"
   },
   {
    "duration": 73,
    "start_time": "2022-10-01T09:49:31.652Z"
   },
   {
    "duration": 118,
    "start_time": "2022-10-01T09:49:31.980Z"
   },
   {
    "duration": 230,
    "start_time": "2022-10-01T09:49:33.073Z"
   },
   {
    "duration": 200,
    "start_time": "2022-10-01T09:49:33.981Z"
   },
   {
    "duration": 133,
    "start_time": "2022-10-01T09:49:35.305Z"
   },
   {
    "duration": 25,
    "start_time": "2022-10-01T09:49:35.525Z"
   },
   {
    "duration": 7,
    "start_time": "2022-10-01T09:49:35.840Z"
   },
   {
    "duration": 7,
    "start_time": "2022-10-01T09:49:36.173Z"
   },
   {
    "duration": 28,
    "start_time": "2022-10-01T09:49:36.673Z"
   },
   {
    "duration": 112,
    "start_time": "2022-10-01T09:49:37.542Z"
   },
   {
    "duration": 3,
    "start_time": "2022-10-01T09:49:38.082Z"
   },
   {
    "duration": 2,
    "start_time": "2022-10-01T09:49:38.425Z"
   },
   {
    "duration": 47,
    "start_time": "2022-10-01T09:49:38.621Z"
   },
   {
    "duration": 305,
    "start_time": "2022-10-01T09:49:39.217Z"
   },
   {
    "duration": 10,
    "start_time": "2022-10-01T09:49:39.524Z"
   },
   {
    "duration": 3,
    "start_time": "2022-10-01T09:49:44.330Z"
   },
   {
    "duration": 5,
    "start_time": "2022-10-01T09:53:09.260Z"
   },
   {
    "duration": 803,
    "start_time": "2022-10-01T09:53:09.560Z"
   },
   {
    "duration": 3,
    "start_time": "2022-10-01T09:53:10.364Z"
   },
   {
    "duration": 101,
    "start_time": "2022-10-01T09:53:10.395Z"
   },
   {
    "duration": 3,
    "start_time": "2022-10-01T09:53:10.949Z"
   },
   {
    "duration": 211,
    "start_time": "2022-10-01T09:53:11.097Z"
   },
   {
    "duration": 90,
    "start_time": "2022-10-01T09:53:11.310Z"
   },
   {
    "duration": 31,
    "start_time": "2022-10-01T09:53:11.521Z"
   },
   {
    "duration": 12,
    "start_time": "2022-10-01T09:53:12.271Z"
   },
   {
    "duration": 77,
    "start_time": "2022-10-01T09:53:12.533Z"
   },
   {
    "duration": 154,
    "start_time": "2022-10-01T09:53:12.792Z"
   },
   {
    "duration": 212,
    "start_time": "2022-10-01T09:53:13.810Z"
   },
   {
    "duration": 188,
    "start_time": "2022-10-01T09:53:14.653Z"
   },
   {
    "duration": 127,
    "start_time": "2022-10-01T09:53:15.950Z"
   },
   {
    "duration": 29,
    "start_time": "2022-10-01T09:53:16.232Z"
   },
   {
    "duration": 8,
    "start_time": "2022-10-01T09:53:16.508Z"
   },
   {
    "duration": 5,
    "start_time": "2022-10-01T09:53:16.793Z"
   },
   {
    "duration": 25,
    "start_time": "2022-10-01T09:53:17.201Z"
   },
   {
    "duration": 116,
    "start_time": "2022-10-01T09:53:18.311Z"
   },
   {
    "duration": 3,
    "start_time": "2022-10-01T09:53:18.830Z"
   },
   {
    "duration": 3,
    "start_time": "2022-10-01T09:53:19.209Z"
   },
   {
    "duration": 59,
    "start_time": "2022-10-01T09:53:19.561Z"
   },
   {
    "duration": 38,
    "start_time": "2022-10-01T09:53:20.408Z"
   },
   {
    "duration": 3,
    "start_time": "2022-10-01T09:53:20.595Z"
   },
   {
    "duration": 45,
    "start_time": "2022-10-01T09:54:36.494Z"
   },
   {
    "duration": 19,
    "start_time": "2022-10-01T09:54:53.154Z"
   },
   {
    "duration": 4,
    "start_time": "2022-10-01T09:58:07.504Z"
   },
   {
    "duration": 3,
    "start_time": "2022-10-01T09:58:20.200Z"
   },
   {
    "duration": 15,
    "start_time": "2022-10-01T09:58:33.804Z"
   },
   {
    "duration": 33,
    "start_time": "2022-10-01T10:00:17.909Z"
   },
   {
    "duration": 16,
    "start_time": "2022-10-01T10:00:23.515Z"
   },
   {
    "duration": 9,
    "start_time": "2022-10-01T10:00:30.376Z"
   },
   {
    "duration": 16,
    "start_time": "2022-10-01T10:00:40.787Z"
   },
   {
    "duration": 15,
    "start_time": "2022-10-01T10:00:48.707Z"
   },
   {
    "duration": 43,
    "start_time": "2022-10-01T10:01:01.132Z"
   },
   {
    "duration": 19,
    "start_time": "2022-10-01T10:01:03.452Z"
   },
   {
    "duration": 17,
    "start_time": "2022-10-01T10:12:26.750Z"
   },
   {
    "duration": 5,
    "start_time": "2022-10-01T10:13:25.372Z"
   },
   {
    "duration": 13,
    "start_time": "2022-10-01T10:13:26.062Z"
   },
   {
    "duration": 4,
    "start_time": "2022-10-01T10:13:36.970Z"
   },
   {
    "duration": 78,
    "start_time": "2022-10-01T10:13:37.333Z"
   },
   {
    "duration": 5,
    "start_time": "2022-10-01T10:13:45.320Z"
   },
   {
    "duration": 14,
    "start_time": "2022-10-01T10:13:45.818Z"
   },
   {
    "duration": 32,
    "start_time": "2022-10-01T10:14:08.132Z"
   },
   {
    "duration": 4,
    "start_time": "2022-10-01T10:14:08.472Z"
   },
   {
    "duration": 15,
    "start_time": "2022-10-01T10:14:09.015Z"
   },
   {
    "duration": 14,
    "start_time": "2022-10-01T10:15:15.014Z"
   },
   {
    "duration": 30,
    "start_time": "2022-10-01T10:15:15.461Z"
   },
   {
    "duration": 272,
    "start_time": "2022-10-01T10:18:40.477Z"
   },
   {
    "duration": 15,
    "start_time": "2022-10-01T10:18:55.110Z"
   },
   {
    "duration": 14,
    "start_time": "2022-10-01T10:20:02.992Z"
   },
   {
    "duration": 5,
    "start_time": "2022-10-01T10:27:00.556Z"
   },
   {
    "duration": 799,
    "start_time": "2022-10-01T10:27:02.068Z"
   },
   {
    "duration": 4,
    "start_time": "2022-10-01T10:27:02.868Z"
   },
   {
    "duration": 84,
    "start_time": "2022-10-01T10:27:03.026Z"
   },
   {
    "duration": 3,
    "start_time": "2022-10-01T10:27:03.151Z"
   },
   {
    "duration": 224,
    "start_time": "2022-10-01T10:27:03.183Z"
   },
   {
    "duration": 94,
    "start_time": "2022-10-01T10:27:03.409Z"
   },
   {
    "duration": 28,
    "start_time": "2022-10-01T10:27:03.505Z"
   },
   {
    "duration": 11,
    "start_time": "2022-10-01T10:27:03.536Z"
   },
   {
    "duration": 108,
    "start_time": "2022-10-01T10:27:03.549Z"
   },
   {
    "duration": 165,
    "start_time": "2022-10-01T10:27:03.659Z"
   },
   {
    "duration": 229,
    "start_time": "2022-10-01T10:27:03.826Z"
   },
   {
    "duration": 220,
    "start_time": "2022-10-01T10:27:04.057Z"
   },
   {
    "duration": 168,
    "start_time": "2022-10-01T10:27:05.295Z"
   },
   {
    "duration": 27,
    "start_time": "2022-10-01T10:27:05.568Z"
   },
   {
    "duration": 6,
    "start_time": "2022-10-01T10:27:05.835Z"
   },
   {
    "duration": 6,
    "start_time": "2022-10-01T10:27:06.089Z"
   },
   {
    "duration": 26,
    "start_time": "2022-10-01T10:27:06.514Z"
   },
   {
    "duration": 114,
    "start_time": "2022-10-01T10:27:07.198Z"
   },
   {
    "duration": 3,
    "start_time": "2022-10-01T10:27:07.782Z"
   },
   {
    "duration": 3,
    "start_time": "2022-10-01T10:27:09.945Z"
   },
   {
    "duration": 58,
    "start_time": "2022-10-01T10:27:10.273Z"
   },
   {
    "duration": 11,
    "start_time": "2022-10-01T10:28:20.582Z"
   },
   {
    "duration": 34,
    "start_time": "2022-10-01T10:29:12.004Z"
   },
   {
    "duration": 4,
    "start_time": "2022-10-01T10:29:17.144Z"
   },
   {
    "duration": 31,
    "start_time": "2022-10-01T10:29:45.627Z"
   },
   {
    "duration": 32,
    "start_time": "2022-10-01T10:30:02.391Z"
   },
   {
    "duration": 3,
    "start_time": "2022-10-01T10:30:18.996Z"
   },
   {
    "duration": 9,
    "start_time": "2022-10-01T10:30:26.203Z"
   },
   {
    "duration": 5,
    "start_time": "2022-10-01T10:31:32.397Z"
   },
   {
    "duration": 3,
    "start_time": "2022-10-01T10:31:46.802Z"
   },
   {
    "duration": 41,
    "start_time": "2022-10-01T10:31:49.580Z"
   },
   {
    "duration": 9,
    "start_time": "2022-10-01T10:33:08.795Z"
   },
   {
    "duration": 40,
    "start_time": "2022-10-01T10:33:12.632Z"
   },
   {
    "duration": 6,
    "start_time": "2022-10-01T10:33:23.584Z"
   },
   {
    "duration": 4,
    "start_time": "2022-10-01T10:39:45.323Z"
   },
   {
    "duration": 3,
    "start_time": "2022-10-01T10:39:47.944Z"
   },
   {
    "duration": 4,
    "start_time": "2022-10-01T10:39:48.267Z"
   },
   {
    "duration": 15,
    "start_time": "2022-10-01T10:39:48.766Z"
   },
   {
    "duration": 14,
    "start_time": "2022-10-01T10:40:03.943Z"
   },
   {
    "duration": 14,
    "start_time": "2022-10-01T10:40:05.379Z"
   },
   {
    "duration": 7,
    "start_time": "2022-10-01T10:43:51.709Z"
   },
   {
    "duration": 7,
    "start_time": "2022-10-01T10:43:56.727Z"
   },
   {
    "duration": 24,
    "start_time": "2022-10-01T10:44:37.387Z"
   },
   {
    "duration": 3,
    "start_time": "2022-10-01T10:45:18.757Z"
   },
   {
    "duration": 2,
    "start_time": "2022-10-01T10:46:32.278Z"
   },
   {
    "duration": 196,
    "start_time": "2022-10-01T10:47:50.930Z"
   },
   {
    "duration": 193,
    "start_time": "2022-10-01T10:47:54.794Z"
   },
   {
    "duration": 71,
    "start_time": "2022-10-01T10:48:20.059Z"
   },
   {
    "duration": 65,
    "start_time": "2022-10-01T10:48:39.954Z"
   },
   {
    "duration": 37,
    "start_time": "2022-10-01T10:48:42.053Z"
   },
   {
    "duration": 3,
    "start_time": "2022-10-01T10:48:42.210Z"
   },
   {
    "duration": 3,
    "start_time": "2022-10-01T10:48:42.327Z"
   },
   {
    "duration": 423,
    "start_time": "2022-10-01T10:48:42.619Z"
   },
   {
    "duration": 11,
    "start_time": "2022-10-01T10:49:24.436Z"
   },
   {
    "duration": 11,
    "start_time": "2022-10-01T10:49:28.850Z"
   },
   {
    "duration": 8,
    "start_time": "2022-10-01T10:50:25.368Z"
   },
   {
    "duration": 21,
    "start_time": "2022-10-01T10:50:37.870Z"
   },
   {
    "duration": 13,
    "start_time": "2022-10-01T11:01:04.469Z"
   },
   {
    "duration": 6,
    "start_time": "2022-10-01T11:01:34.459Z"
   },
   {
    "duration": 5,
    "start_time": "2022-10-01T11:01:54.619Z"
   },
   {
    "duration": 11,
    "start_time": "2022-10-01T11:03:22.046Z"
   },
   {
    "duration": 11,
    "start_time": "2022-10-01T11:04:15.263Z"
   },
   {
    "duration": 186,
    "start_time": "2022-10-01T11:04:18.960Z"
   },
   {
    "duration": 3,
    "start_time": "2022-10-01T11:04:45.689Z"
   },
   {
    "duration": 11758,
    "start_time": "2022-10-01T11:04:48.147Z"
   },
   {
    "duration": 4,
    "start_time": "2022-10-01T11:05:04.273Z"
   },
   {
    "duration": 12,
    "start_time": "2022-10-01T11:05:40.715Z"
   },
   {
    "duration": 4,
    "start_time": "2022-10-01T11:05:50.794Z"
   },
   {
    "duration": 12806,
    "start_time": "2022-10-01T11:07:10.301Z"
   },
   {
    "duration": 5,
    "start_time": "2022-10-01T11:07:26.981Z"
   },
   {
    "duration": 4,
    "start_time": "2022-10-01T11:09:24.459Z"
   },
   {
    "duration": 26620,
    "start_time": "2022-10-01T11:13:32.087Z"
   },
   {
    "duration": 22600,
    "start_time": "2022-10-01T11:17:33.403Z"
   },
   {
    "duration": 13,
    "start_time": "2022-10-01T11:19:37.556Z"
   },
   {
    "duration": 13,
    "start_time": "2022-10-01T11:19:40.519Z"
   },
   {
    "duration": 16,
    "start_time": "2022-10-01T11:19:47.413Z"
   },
   {
    "duration": 26985,
    "start_time": "2022-10-01T11:20:38.219Z"
   },
   {
    "duration": 6,
    "start_time": "2022-10-01T11:23:00.832Z"
   },
   {
    "duration": 47786,
    "start_time": "2022-10-01T11:23:39.117Z"
   },
   {
    "duration": 6,
    "start_time": "2022-10-01T11:26:55.508Z"
   },
   {
    "duration": 817,
    "start_time": "2022-10-01T11:26:56.564Z"
   },
   {
    "duration": 5,
    "start_time": "2022-10-01T11:26:58.000Z"
   },
   {
    "duration": 89,
    "start_time": "2022-10-01T11:26:58.576Z"
   },
   {
    "duration": 3,
    "start_time": "2022-10-01T11:26:59.160Z"
   },
   {
    "duration": 223,
    "start_time": "2022-10-01T11:26:59.292Z"
   },
   {
    "duration": 93,
    "start_time": "2022-10-01T11:26:59.516Z"
   },
   {
    "duration": 24,
    "start_time": "2022-10-01T11:26:59.742Z"
   },
   {
    "duration": 11,
    "start_time": "2022-10-01T11:27:00.451Z"
   },
   {
    "duration": 80,
    "start_time": "2022-10-01T11:27:00.755Z"
   },
   {
    "duration": 116,
    "start_time": "2022-10-01T11:27:01.041Z"
   },
   {
    "duration": 298,
    "start_time": "2022-10-01T11:27:02.076Z"
   },
   {
    "duration": 176,
    "start_time": "2022-10-01T11:27:02.989Z"
   },
   {
    "duration": 150,
    "start_time": "2022-10-01T11:27:04.415Z"
   },
   {
    "duration": 22,
    "start_time": "2022-10-01T11:27:04.729Z"
   },
   {
    "duration": 6,
    "start_time": "2022-10-01T11:27:05.061Z"
   },
   {
    "duration": 6,
    "start_time": "2022-10-01T11:27:05.387Z"
   },
   {
    "duration": 27,
    "start_time": "2022-10-01T11:27:05.844Z"
   },
   {
    "duration": 109,
    "start_time": "2022-10-01T11:27:06.636Z"
   },
   {
    "duration": 3,
    "start_time": "2022-10-01T11:27:07.312Z"
   },
   {
    "duration": 2,
    "start_time": "2022-10-01T11:27:07.863Z"
   },
   {
    "duration": 45,
    "start_time": "2022-10-01T11:27:08.124Z"
   },
   {
    "duration": 191,
    "start_time": "2022-10-01T11:27:08.812Z"
   },
   {
    "duration": 19710,
    "start_time": "2022-10-01T11:27:29.812Z"
   },
   {
    "duration": 79384,
    "start_time": "2022-10-01T11:27:49.524Z"
   },
   {
    "duration": 23531,
    "start_time": "2022-10-01T11:30:18.872Z"
   },
   {
    "duration": 77,
    "start_time": "2022-10-01T11:47:00.451Z"
   },
   {
    "duration": 3,
    "start_time": "2022-10-01T11:47:02.683Z"
   },
   {
    "duration": 9,
    "start_time": "2022-10-01T11:47:03.382Z"
   },
   {
    "duration": 8,
    "start_time": "2022-10-01T11:48:25.732Z"
   },
   {
    "duration": 8,
    "start_time": "2022-10-01T11:48:57.286Z"
   },
   {
    "duration": 9,
    "start_time": "2022-10-01T11:49:04.773Z"
   },
   {
    "duration": 16,
    "start_time": "2022-10-01T11:49:14.669Z"
   },
   {
    "duration": 41,
    "start_time": "2022-10-01T11:49:23.359Z"
   },
   {
    "duration": 43,
    "start_time": "2022-10-01T11:49:28.257Z"
   },
   {
    "duration": 88,
    "start_time": "2022-10-01T11:54:00.329Z"
   },
   {
    "duration": 48,
    "start_time": "2022-10-01T11:55:35.488Z"
   },
   {
    "duration": 212,
    "start_time": "2022-10-01T11:55:50.079Z"
   },
   {
    "duration": 12572,
    "start_time": "2022-10-01T11:56:19.933Z"
   },
   {
    "duration": 12316,
    "start_time": "2022-10-01T11:56:38.487Z"
   },
   {
    "duration": 5,
    "start_time": "2022-10-01T12:02:12.609Z"
   },
   {
    "duration": 720,
    "start_time": "2022-10-01T12:02:12.992Z"
   },
   {
    "duration": 3,
    "start_time": "2022-10-01T12:02:13.714Z"
   },
   {
    "duration": 106,
    "start_time": "2022-10-01T12:02:14.152Z"
   },
   {
    "duration": 3,
    "start_time": "2022-10-01T12:02:14.273Z"
   },
   {
    "duration": 211,
    "start_time": "2022-10-01T12:02:14.301Z"
   },
   {
    "duration": 113,
    "start_time": "2022-10-01T12:02:14.516Z"
   },
   {
    "duration": 30,
    "start_time": "2022-10-01T12:02:14.631Z"
   },
   {
    "duration": 11,
    "start_time": "2022-10-01T12:02:15.377Z"
   },
   {
    "duration": 78,
    "start_time": "2022-10-01T12:02:15.665Z"
   },
   {
    "duration": 166,
    "start_time": "2022-10-01T12:02:15.962Z"
   },
   {
    "duration": 217,
    "start_time": "2022-10-01T12:02:17.001Z"
   },
   {
    "duration": 175,
    "start_time": "2022-10-01T12:02:17.893Z"
   },
   {
    "duration": 111,
    "start_time": "2022-10-01T12:02:19.276Z"
   },
   {
    "duration": 26,
    "start_time": "2022-10-01T12:02:19.589Z"
   },
   {
    "duration": 7,
    "start_time": "2022-10-01T12:02:19.912Z"
   },
   {
    "duration": 6,
    "start_time": "2022-10-01T12:02:20.228Z"
   },
   {
    "duration": 26,
    "start_time": "2022-10-01T12:02:20.673Z"
   },
   {
    "duration": 15,
    "start_time": "2022-10-01T12:02:21.523Z"
   },
   {
    "duration": 3,
    "start_time": "2022-10-01T12:02:21.949Z"
   },
   {
    "duration": 2,
    "start_time": "2022-10-01T12:02:22.257Z"
   },
   {
    "duration": 49,
    "start_time": "2022-10-01T12:02:22.422Z"
   },
   {
    "duration": 12693,
    "start_time": "2022-10-01T12:02:22.908Z"
   },
   {
    "duration": 3,
    "start_time": "2022-10-01T12:02:35.603Z"
   },
   {
    "duration": 112,
    "start_time": "2022-10-01T12:02:35.609Z"
   },
   {
    "duration": 29,
    "start_time": "2022-10-01T12:02:35.723Z"
   },
   {
    "duration": 3,
    "start_time": "2022-10-01T12:02:40.370Z"
   },
   {
    "duration": 6441,
    "start_time": "2022-10-01T12:02:42.293Z"
   },
   {
    "duration": 132,
    "start_time": "2022-10-01T12:05:01.983Z"
   },
   {
    "duration": 57,
    "start_time": "2022-10-01T12:05:11.752Z"
   },
   {
    "duration": 92,
    "start_time": "2022-10-01T12:06:14.490Z"
   },
   {
    "duration": 95,
    "start_time": "2022-10-01T12:06:17.741Z"
   },
   {
    "duration": 76,
    "start_time": "2022-10-01T12:06:21.286Z"
   },
   {
    "duration": 902,
    "start_time": "2022-10-01T12:07:23.586Z"
   },
   {
    "duration": 11,
    "start_time": "2022-10-01T12:07:30.862Z"
   },
   {
    "duration": 9,
    "start_time": "2022-10-01T12:07:44.641Z"
   },
   {
    "duration": 581,
    "start_time": "2022-10-01T12:07:58.334Z"
   },
   {
    "duration": 658,
    "start_time": "2022-10-01T12:08:03.289Z"
   },
   {
    "duration": 1361,
    "start_time": "2022-10-01T12:11:20.603Z"
   },
   {
    "duration": 63,
    "start_time": "2022-10-01T12:11:48.190Z"
   },
   {
    "duration": 85,
    "start_time": "2022-10-01T12:11:52.602Z"
   },
   {
    "duration": 1385,
    "start_time": "2022-10-01T12:11:58.958Z"
   },
   {
    "duration": 1996,
    "start_time": "2022-10-01T12:12:22.293Z"
   },
   {
    "duration": 61,
    "start_time": "2022-10-01T12:12:29.993Z"
   },
   {
    "duration": 118,
    "start_time": "2022-10-01T12:14:15.218Z"
   },
   {
    "duration": 54,
    "start_time": "2022-10-01T12:16:58.833Z"
   },
   {
    "duration": 66,
    "start_time": "2022-10-01T12:17:04.614Z"
   },
   {
    "duration": 68,
    "start_time": "2022-10-01T12:17:11.522Z"
   },
   {
    "duration": 60,
    "start_time": "2022-10-01T12:17:25.888Z"
   },
   {
    "duration": 3,
    "start_time": "2022-10-01T12:17:27.796Z"
   },
   {
    "duration": 2,
    "start_time": "2022-10-01T12:17:28.193Z"
   },
   {
    "duration": 45,
    "start_time": "2022-10-01T12:17:28.343Z"
   },
   {
    "duration": 12566,
    "start_time": "2022-10-01T12:17:29.241Z"
   },
   {
    "duration": 3,
    "start_time": "2022-10-01T12:17:46.102Z"
   },
   {
    "duration": 4,
    "start_time": "2022-10-01T12:17:46.909Z"
   },
   {
    "duration": 4,
    "start_time": "2022-10-01T12:17:47.384Z"
   },
   {
    "duration": 4,
    "start_time": "2022-10-01T12:17:49.707Z"
   },
   {
    "duration": 6878,
    "start_time": "2022-10-01T12:17:52.240Z"
   },
   {
    "duration": 5,
    "start_time": "2022-10-01T12:21:07.886Z"
   },
   {
    "duration": 741,
    "start_time": "2022-10-01T12:21:09.537Z"
   },
   {
    "duration": 3,
    "start_time": "2022-10-01T12:21:10.280Z"
   },
   {
    "duration": 80,
    "start_time": "2022-10-01T12:21:10.344Z"
   },
   {
    "duration": 3,
    "start_time": "2022-10-01T12:21:10.961Z"
   },
   {
    "duration": 182,
    "start_time": "2022-10-01T12:21:10.988Z"
   },
   {
    "duration": 83,
    "start_time": "2022-10-01T12:21:11.172Z"
   },
   {
    "duration": 27,
    "start_time": "2022-10-01T12:21:11.257Z"
   },
   {
    "duration": 15,
    "start_time": "2022-10-01T12:21:11.287Z"
   },
   {
    "duration": 76,
    "start_time": "2022-10-01T12:21:11.304Z"
   },
   {
    "duration": 168,
    "start_time": "2022-10-01T12:21:11.382Z"
   },
   {
    "duration": 218,
    "start_time": "2022-10-01T12:21:11.559Z"
   },
   {
    "duration": 184,
    "start_time": "2022-10-01T12:21:11.779Z"
   },
   {
    "duration": 114,
    "start_time": "2022-10-01T12:21:12.020Z"
   },
   {
    "duration": 23,
    "start_time": "2022-10-01T12:21:12.251Z"
   },
   {
    "duration": 6,
    "start_time": "2022-10-01T12:21:12.818Z"
   },
   {
    "duration": 6,
    "start_time": "2022-10-01T12:21:13.092Z"
   },
   {
    "duration": 25,
    "start_time": "2022-10-01T12:21:13.710Z"
   },
   {
    "duration": 60,
    "start_time": "2022-10-01T12:21:15.414Z"
   },
   {
    "duration": 3,
    "start_time": "2022-10-01T12:21:15.955Z"
   },
   {
    "duration": 2,
    "start_time": "2022-10-01T12:21:16.791Z"
   },
   {
    "duration": 47,
    "start_time": "2022-10-01T12:21:17.428Z"
   },
   {
    "duration": 12582,
    "start_time": "2022-10-01T12:21:18.624Z"
   },
   {
    "duration": 3,
    "start_time": "2022-10-01T12:21:32.500Z"
   },
   {
    "duration": 4,
    "start_time": "2022-10-01T12:21:33.988Z"
   },
   {
    "duration": 4,
    "start_time": "2022-10-01T12:21:34.704Z"
   },
   {
    "duration": 3,
    "start_time": "2022-10-01T12:21:37.791Z"
   },
   {
    "duration": 249,
    "start_time": "2022-10-01T12:21:39.124Z"
   },
   {
    "duration": 222,
    "start_time": "2022-10-01T12:21:41.935Z"
   },
   {
    "duration": 3,
    "start_time": "2022-10-01T12:23:34.988Z"
   },
   {
    "duration": 3,
    "start_time": "2022-10-01T12:23:35.888Z"
   },
   {
    "duration": 4,
    "start_time": "2022-10-01T12:23:36.299Z"
   },
   {
    "duration": 3,
    "start_time": "2022-10-01T12:23:38.672Z"
   },
   {
    "duration": 215,
    "start_time": "2022-10-01T12:23:40.392Z"
   },
   {
    "duration": 226,
    "start_time": "2022-10-01T12:23:43.547Z"
   },
   {
    "duration": 4,
    "start_time": "2022-10-01T12:23:59.032Z"
   },
   {
    "duration": 4,
    "start_time": "2022-10-01T12:24:28.320Z"
   },
   {
    "duration": 252,
    "start_time": "2022-10-01T12:24:29.359Z"
   },
   {
    "duration": 0,
    "start_time": "2022-10-01T12:24:29.613Z"
   },
   {
    "duration": 224,
    "start_time": "2022-10-01T12:24:33.709Z"
   },
   {
    "duration": 223,
    "start_time": "2022-10-01T12:24:46.402Z"
   },
   {
    "duration": 218,
    "start_time": "2022-10-01T12:26:24.683Z"
   },
   {
    "duration": 233,
    "start_time": "2022-10-01T12:27:02.231Z"
   },
   {
    "duration": 3,
    "start_time": "2022-10-01T12:27:04.671Z"
   },
   {
    "duration": 19,
    "start_time": "2022-10-01T12:44:56.951Z"
   },
   {
    "duration": 10,
    "start_time": "2022-10-01T12:45:04.190Z"
   },
   {
    "duration": 271,
    "start_time": "2022-10-01T12:47:04.113Z"
   },
   {
    "duration": 3,
    "start_time": "2022-10-01T12:47:39.530Z"
   },
   {
    "duration": 3,
    "start_time": "2022-10-01T12:47:40.503Z"
   },
   {
    "duration": 7,
    "start_time": "2022-10-01T12:47:40.896Z"
   },
   {
    "duration": 3,
    "start_time": "2022-10-01T12:47:42.627Z"
   },
   {
    "duration": 274,
    "start_time": "2022-10-01T12:47:43.888Z"
   },
   {
    "duration": 262,
    "start_time": "2022-10-01T12:48:39.334Z"
   },
   {
    "duration": 3,
    "start_time": "2022-10-01T12:48:52.350Z"
   },
   {
    "duration": 4,
    "start_time": "2022-10-01T12:48:55.885Z"
   },
   {
    "duration": 3,
    "start_time": "2022-10-01T12:48:56.253Z"
   },
   {
    "duration": 3,
    "start_time": "2022-10-01T12:48:58.166Z"
   },
   {
    "duration": 262,
    "start_time": "2022-10-01T12:48:59.485Z"
   },
   {
    "duration": 3,
    "start_time": "2022-10-01T12:49:40.419Z"
   },
   {
    "duration": 3,
    "start_time": "2022-10-01T12:49:41.622Z"
   },
   {
    "duration": 3,
    "start_time": "2022-10-01T12:49:42.050Z"
   },
   {
    "duration": 2,
    "start_time": "2022-10-01T12:49:43.590Z"
   },
   {
    "duration": 209,
    "start_time": "2022-10-01T12:49:44.835Z"
   },
   {
    "duration": 5,
    "start_time": "2022-10-01T13:13:11.471Z"
   },
   {
    "duration": 5,
    "start_time": "2022-10-01T13:13:30.582Z"
   },
   {
    "duration": 4,
    "start_time": "2022-10-01T13:13:35.656Z"
   },
   {
    "duration": 306,
    "start_time": "2022-10-01T13:13:46.188Z"
   },
   {
    "duration": 327,
    "start_time": "2022-10-01T13:14:01.368Z"
   },
   {
    "duration": 334,
    "start_time": "2022-10-01T13:16:07.159Z"
   },
   {
    "duration": 308,
    "start_time": "2022-10-01T13:17:23.228Z"
   },
   {
    "duration": 381,
    "start_time": "2022-10-01T13:17:30.335Z"
   },
   {
    "duration": 149,
    "start_time": "2022-10-01T13:19:34.197Z"
   },
   {
    "duration": 452,
    "start_time": "2022-10-01T13:19:52.893Z"
   },
   {
    "duration": 18,
    "start_time": "2022-10-01T13:19:56.755Z"
   },
   {
    "duration": 10,
    "start_time": "2022-10-01T13:26:12.757Z"
   },
   {
    "duration": 150,
    "start_time": "2022-10-01T13:26:23.718Z"
   },
   {
    "duration": 31,
    "start_time": "2022-10-01T13:27:29.024Z"
   },
   {
    "duration": 169,
    "start_time": "2022-10-01T13:30:09.795Z"
   },
   {
    "duration": 529,
    "start_time": "2022-10-01T13:30:30.938Z"
   },
   {
    "duration": 93,
    "start_time": "2022-10-01T13:31:16.310Z"
   },
   {
    "duration": 5,
    "start_time": "2022-10-01T13:32:14.998Z"
   },
   {
    "duration": 761,
    "start_time": "2022-10-01T13:32:15.266Z"
   },
   {
    "duration": 2,
    "start_time": "2022-10-01T13:32:16.029Z"
   },
   {
    "duration": 83,
    "start_time": "2022-10-01T13:32:16.399Z"
   },
   {
    "duration": 3,
    "start_time": "2022-10-01T13:32:16.951Z"
   },
   {
    "duration": 183,
    "start_time": "2022-10-01T13:32:17.148Z"
   },
   {
    "duration": 93,
    "start_time": "2022-10-01T13:32:17.333Z"
   },
   {
    "duration": 25,
    "start_time": "2022-10-01T13:32:17.602Z"
   },
   {
    "duration": 10,
    "start_time": "2022-10-01T13:32:18.446Z"
   },
   {
    "duration": 72,
    "start_time": "2022-10-01T13:32:18.777Z"
   },
   {
    "duration": 123,
    "start_time": "2022-10-01T13:32:19.146Z"
   },
   {
    "duration": 215,
    "start_time": "2022-10-01T13:32:20.344Z"
   },
   {
    "duration": 191,
    "start_time": "2022-10-01T13:32:21.255Z"
   },
   {
    "duration": 115,
    "start_time": "2022-10-01T13:32:22.895Z"
   },
   {
    "duration": 29,
    "start_time": "2022-10-01T13:32:23.220Z"
   },
   {
    "duration": 8,
    "start_time": "2022-10-01T13:32:23.563Z"
   },
   {
    "duration": 7,
    "start_time": "2022-10-01T13:32:24.017Z"
   },
   {
    "duration": 27,
    "start_time": "2022-10-01T13:32:25.595Z"
   },
   {
    "duration": 63,
    "start_time": "2022-10-01T13:32:28.471Z"
   },
   {
    "duration": 3,
    "start_time": "2022-10-01T13:32:31.350Z"
   },
   {
    "duration": 47,
    "start_time": "2022-10-01T13:32:37.749Z"
   },
   {
    "duration": 223,
    "start_time": "2022-10-01T13:33:03.019Z"
   },
   {
    "duration": 45,
    "start_time": "2022-10-01T13:33:44.948Z"
   },
   {
    "duration": 94,
    "start_time": "2022-10-01T13:33:46.716Z"
   },
   {
    "duration": 501,
    "start_time": "2022-10-01T13:34:11.014Z"
   },
   {
    "duration": 108,
    "start_time": "2022-10-01T13:45:47.557Z"
   },
   {
    "duration": 385,
    "start_time": "2022-10-01T13:46:02.493Z"
   },
   {
    "duration": 191,
    "start_time": "2022-10-01T13:46:09.746Z"
   },
   {
    "duration": 12,
    "start_time": "2022-10-01T13:46:48.652Z"
   },
   {
    "duration": 6,
    "start_time": "2022-10-01T13:47:01.471Z"
   },
   {
    "duration": 755,
    "start_time": "2022-10-01T13:47:02.065Z"
   },
   {
    "duration": 3,
    "start_time": "2022-10-01T13:47:03.029Z"
   },
   {
    "duration": 80,
    "start_time": "2022-10-01T13:47:03.625Z"
   },
   {
    "duration": 4,
    "start_time": "2022-10-01T13:47:04.199Z"
   },
   {
    "duration": 220,
    "start_time": "2022-10-01T13:47:04.348Z"
   },
   {
    "duration": 98,
    "start_time": "2022-10-01T13:47:04.571Z"
   },
   {
    "duration": 32,
    "start_time": "2022-10-01T13:47:05.029Z"
   },
   {
    "duration": 11,
    "start_time": "2022-10-01T13:47:05.197Z"
   },
   {
    "duration": 76,
    "start_time": "2022-10-01T13:47:05.247Z"
   },
   {
    "duration": 171,
    "start_time": "2022-10-01T13:47:05.325Z"
   },
   {
    "duration": 219,
    "start_time": "2022-10-01T13:47:05.517Z"
   },
   {
    "duration": 197,
    "start_time": "2022-10-01T13:47:05.737Z"
   },
   {
    "duration": 229,
    "start_time": "2022-10-01T13:47:05.973Z"
   },
   {
    "duration": 29,
    "start_time": "2022-10-01T13:47:06.205Z"
   },
   {
    "duration": 6,
    "start_time": "2022-10-01T13:47:06.236Z"
   },
   {
    "duration": 7,
    "start_time": "2022-10-01T13:47:06.244Z"
   },
   {
    "duration": 32,
    "start_time": "2022-10-01T13:47:06.397Z"
   },
   {
    "duration": 87,
    "start_time": "2022-10-01T13:47:07.210Z"
   },
   {
    "duration": 3,
    "start_time": "2022-10-01T13:47:07.714Z"
   },
   {
    "duration": 12,
    "start_time": "2022-10-01T13:47:09.628Z"
   },
   {
    "duration": 187,
    "start_time": "2022-10-01T13:47:09.869Z"
   },
   {
    "duration": 198,
    "start_time": "2022-10-01T13:47:10.202Z"
   },
   {
    "duration": 3,
    "start_time": "2022-10-01T13:47:11.671Z"
   },
   {
    "duration": 3,
    "start_time": "2022-10-01T13:47:12.761Z"
   },
   {
    "duration": 3,
    "start_time": "2022-10-01T13:47:13.406Z"
   },
   {
    "duration": 3,
    "start_time": "2022-10-01T13:47:15.863Z"
   },
   {
    "duration": 102,
    "start_time": "2022-10-01T13:47:17.908Z"
   },
   {
    "duration": 572,
    "start_time": "2022-10-01T13:47:32.286Z"
   },
   {
    "duration": 43,
    "start_time": "2022-10-01T13:47:58.176Z"
   },
   {
    "duration": 48,
    "start_time": "2022-10-01T13:48:01.959Z"
   },
   {
    "duration": 213,
    "start_time": "2022-10-01T13:48:09.035Z"
   },
   {
    "duration": 60,
    "start_time": "2022-10-01T13:49:41.380Z"
   },
   {
    "duration": 67,
    "start_time": "2022-10-01T13:49:41.535Z"
   },
   {
    "duration": 64,
    "start_time": "2022-10-01T13:49:41.672Z"
   },
   {
    "duration": 65,
    "start_time": "2022-10-01T13:49:42.754Z"
   },
   {
    "duration": 2,
    "start_time": "2022-10-01T13:49:43.538Z"
   },
   {
    "duration": 222,
    "start_time": "2022-10-01T13:49:53.069Z"
   },
   {
    "duration": 23,
    "start_time": "2022-10-01T13:51:28.186Z"
   },
   {
    "duration": 723,
    "start_time": "2022-10-01T13:51:28.448Z"
   },
   {
    "duration": 3,
    "start_time": "2022-10-01T13:51:29.172Z"
   },
   {
    "duration": 84,
    "start_time": "2022-10-01T13:51:29.545Z"
   },
   {
    "duration": 3,
    "start_time": "2022-10-01T13:51:29.653Z"
   },
   {
    "duration": 174,
    "start_time": "2022-10-01T13:51:29.690Z"
   },
   {
    "duration": 89,
    "start_time": "2022-10-01T13:51:29.865Z"
   },
   {
    "duration": 24,
    "start_time": "2022-10-01T13:51:29.956Z"
   },
   {
    "duration": 23,
    "start_time": "2022-10-01T13:51:29.982Z"
   },
   {
    "duration": 75,
    "start_time": "2022-10-01T13:51:30.007Z"
   },
   {
    "duration": 145,
    "start_time": "2022-10-01T13:51:30.084Z"
   },
   {
    "duration": 213,
    "start_time": "2022-10-01T13:51:30.264Z"
   },
   {
    "duration": 198,
    "start_time": "2022-10-01T13:51:30.479Z"
   },
   {
    "duration": 124,
    "start_time": "2022-10-01T13:51:30.732Z"
   },
   {
    "duration": 31,
    "start_time": "2022-10-01T13:51:30.858Z"
   },
   {
    "duration": 8,
    "start_time": "2022-10-01T13:51:30.899Z"
   },
   {
    "duration": 27,
    "start_time": "2022-10-01T13:51:30.913Z"
   },
   {
    "duration": 30,
    "start_time": "2022-10-01T13:51:31.004Z"
   },
   {
    "duration": 57,
    "start_time": "2022-10-01T13:51:31.158Z"
   },
   {
    "duration": 3,
    "start_time": "2022-10-01T13:51:31.244Z"
   },
   {
    "duration": 12,
    "start_time": "2022-10-01T13:51:31.450Z"
   },
   {
    "duration": 155,
    "start_time": "2022-10-01T13:51:31.491Z"
   },
   {
    "duration": 0,
    "start_time": "2022-10-01T13:51:31.648Z"
   },
   {
    "duration": 3,
    "start_time": "2022-10-01T13:51:31.710Z"
   },
   {
    "duration": 3,
    "start_time": "2022-10-01T13:51:31.851Z"
   },
   {
    "duration": 4,
    "start_time": "2022-10-01T13:51:31.946Z"
   },
   {
    "duration": 3,
    "start_time": "2022-10-01T13:51:32.293Z"
   },
   {
    "duration": 222,
    "start_time": "2022-10-01T13:51:32.746Z"
   },
   {
    "duration": 5,
    "start_time": "2022-10-01T13:51:54.736Z"
   },
   {
    "duration": 753,
    "start_time": "2022-10-01T13:51:55.013Z"
   },
   {
    "duration": 2,
    "start_time": "2022-10-01T13:51:55.768Z"
   },
   {
    "duration": 84,
    "start_time": "2022-10-01T13:51:56.639Z"
   },
   {
    "duration": 3,
    "start_time": "2022-10-01T13:51:56.757Z"
   },
   {
    "duration": 187,
    "start_time": "2022-10-01T13:51:56.789Z"
   },
   {
    "duration": 87,
    "start_time": "2022-10-01T13:51:56.977Z"
   },
   {
    "duration": 37,
    "start_time": "2022-10-01T13:51:57.065Z"
   },
   {
    "duration": 10,
    "start_time": "2022-10-01T13:51:57.104Z"
   },
   {
    "duration": 85,
    "start_time": "2022-10-01T13:51:57.116Z"
   },
   {
    "duration": 160,
    "start_time": "2022-10-01T13:51:57.203Z"
   },
   {
    "duration": 229,
    "start_time": "2022-10-01T13:51:57.365Z"
   },
   {
    "duration": 187,
    "start_time": "2022-10-01T13:51:57.600Z"
   },
   {
    "duration": 115,
    "start_time": "2022-10-01T13:51:57.826Z"
   },
   {
    "duration": 29,
    "start_time": "2022-10-01T13:51:57.942Z"
   },
   {
    "duration": 6,
    "start_time": "2022-10-01T13:51:57.973Z"
   },
   {
    "duration": 6,
    "start_time": "2022-10-01T13:51:58.010Z"
   },
   {
    "duration": 26,
    "start_time": "2022-10-01T13:51:58.102Z"
   },
   {
    "duration": 69,
    "start_time": "2022-10-01T13:51:58.257Z"
   },
   {
    "duration": 2,
    "start_time": "2022-10-01T13:51:58.344Z"
   },
   {
    "duration": 11,
    "start_time": "2022-10-01T13:51:59.750Z"
   },
   {
    "duration": 177,
    "start_time": "2022-10-01T13:51:59.913Z"
   },
   {
    "duration": 0,
    "start_time": "2022-10-01T13:52:00.092Z"
   },
   {
    "duration": 3,
    "start_time": "2022-10-01T13:52:01.462Z"
   },
   {
    "duration": 3,
    "start_time": "2022-10-01T13:52:02.338Z"
   },
   {
    "duration": 3,
    "start_time": "2022-10-01T13:52:02.964Z"
   },
   {
    "duration": 3,
    "start_time": "2022-10-01T13:52:04.915Z"
   },
   {
    "duration": 233,
    "start_time": "2022-10-01T13:52:06.472Z"
   },
   {
    "duration": 209,
    "start_time": "2022-10-01T13:53:50.703Z"
   },
   {
    "duration": 113,
    "start_time": "2022-10-01T13:54:12.957Z"
   },
   {
    "duration": 513,
    "start_time": "2022-10-01T13:54:43.097Z"
   },
   {
    "duration": 151,
    "start_time": "2022-10-01T13:54:56.757Z"
   },
   {
    "duration": 168,
    "start_time": "2022-10-01T13:55:00.005Z"
   },
   {
    "duration": 167,
    "start_time": "2022-10-01T13:55:10.878Z"
   },
   {
    "duration": 3,
    "start_time": "2022-10-01T13:55:13.136Z"
   },
   {
    "duration": 538,
    "start_time": "2022-10-01T13:55:14.727Z"
   },
   {
    "duration": 7,
    "start_time": "2022-10-01T13:55:28.993Z"
   },
   {
    "duration": 794,
    "start_time": "2022-10-01T13:55:29.751Z"
   },
   {
    "duration": 3,
    "start_time": "2022-10-01T13:55:31.009Z"
   },
   {
    "duration": 105,
    "start_time": "2022-10-01T13:55:31.616Z"
   },
   {
    "duration": 5,
    "start_time": "2022-10-01T13:55:32.199Z"
   },
   {
    "duration": 200,
    "start_time": "2022-10-01T13:55:32.355Z"
   },
   {
    "duration": 86,
    "start_time": "2022-10-01T13:55:32.557Z"
   },
   {
    "duration": 25,
    "start_time": "2022-10-01T13:55:32.825Z"
   },
   {
    "duration": 11,
    "start_time": "2022-10-01T13:55:33.623Z"
   },
   {
    "duration": 79,
    "start_time": "2022-10-01T13:55:33.937Z"
   },
   {
    "duration": 116,
    "start_time": "2022-10-01T13:55:34.270Z"
   },
   {
    "duration": 227,
    "start_time": "2022-10-01T13:55:35.494Z"
   },
   {
    "duration": 194,
    "start_time": "2022-10-01T13:55:37.397Z"
   },
   {
    "duration": 114,
    "start_time": "2022-10-01T13:55:39.490Z"
   },
   {
    "duration": 27,
    "start_time": "2022-10-01T13:55:39.874Z"
   },
   {
    "duration": 6,
    "start_time": "2022-10-01T13:55:40.300Z"
   },
   {
    "duration": 6,
    "start_time": "2022-10-01T13:55:40.812Z"
   },
   {
    "duration": 28,
    "start_time": "2022-10-01T13:55:41.363Z"
   },
   {
    "duration": 61,
    "start_time": "2022-10-01T13:55:42.296Z"
   },
   {
    "duration": 3,
    "start_time": "2022-10-01T13:55:42.926Z"
   },
   {
    "duration": 11,
    "start_time": "2022-10-01T13:55:45.100Z"
   },
   {
    "duration": 163,
    "start_time": "2022-10-01T13:55:45.572Z"
   },
   {
    "duration": 3,
    "start_time": "2022-10-01T13:55:47.167Z"
   },
   {
    "duration": 3,
    "start_time": "2022-10-01T13:55:48.237Z"
   },
   {
    "duration": 4,
    "start_time": "2022-10-01T13:55:48.846Z"
   },
   {
    "duration": 3,
    "start_time": "2022-10-01T13:55:51.576Z"
   },
   {
    "duration": 193,
    "start_time": "2022-10-01T13:55:53.120Z"
   },
   {
    "duration": 545,
    "start_time": "2022-10-01T13:58:40.050Z"
   },
   {
    "duration": 119,
    "start_time": "2022-10-01T13:59:01.396Z"
   },
   {
    "duration": 508,
    "start_time": "2022-10-01T14:02:16.308Z"
   },
   {
    "duration": 99,
    "start_time": "2022-10-01T14:02:50.409Z"
   },
   {
    "duration": 10,
    "start_time": "2022-10-01T14:05:45.067Z"
   },
   {
    "duration": 10,
    "start_time": "2022-10-01T14:06:06.839Z"
   },
   {
    "duration": 70,
    "start_time": "2022-10-01T14:08:04.854Z"
   },
   {
    "duration": 93,
    "start_time": "2022-10-01T14:08:13.907Z"
   },
   {
    "duration": 5,
    "start_time": "2022-10-01T14:26:44.222Z"
   },
   {
    "duration": 810,
    "start_time": "2022-10-01T14:26:44.549Z"
   },
   {
    "duration": 2,
    "start_time": "2022-10-01T14:26:45.361Z"
   },
   {
    "duration": 83,
    "start_time": "2022-10-01T14:26:45.431Z"
   },
   {
    "duration": 3,
    "start_time": "2022-10-01T14:26:45.539Z"
   },
   {
    "duration": 193,
    "start_time": "2022-10-01T14:26:45.568Z"
   },
   {
    "duration": 100,
    "start_time": "2022-10-01T14:26:45.762Z"
   },
   {
    "duration": 40,
    "start_time": "2022-10-01T14:26:45.863Z"
   },
   {
    "duration": 11,
    "start_time": "2022-10-01T14:26:45.905Z"
   },
   {
    "duration": 85,
    "start_time": "2022-10-01T14:26:45.917Z"
   },
   {
    "duration": 155,
    "start_time": "2022-10-01T14:26:46.003Z"
   },
   {
    "duration": 215,
    "start_time": "2022-10-01T14:26:46.160Z"
   },
   {
    "duration": 176,
    "start_time": "2022-10-01T14:26:46.377Z"
   },
   {
    "duration": 114,
    "start_time": "2022-10-01T14:26:46.619Z"
   },
   {
    "duration": 28,
    "start_time": "2022-10-01T14:26:46.735Z"
   },
   {
    "duration": 5,
    "start_time": "2022-10-01T14:26:46.765Z"
   },
   {
    "duration": 6,
    "start_time": "2022-10-01T14:26:46.794Z"
   },
   {
    "duration": 27,
    "start_time": "2022-10-01T14:26:46.899Z"
   },
   {
    "duration": 63,
    "start_time": "2022-10-01T14:26:47.039Z"
   },
   {
    "duration": 3,
    "start_time": "2022-10-01T14:26:48.210Z"
   },
   {
    "duration": 20,
    "start_time": "2022-10-01T14:27:10.307Z"
   },
   {
    "duration": 15,
    "start_time": "2022-10-01T14:32:51.357Z"
   },
   {
    "duration": 18,
    "start_time": "2022-10-01T14:32:55.835Z"
   },
   {
    "duration": 5,
    "start_time": "2022-10-01T14:36:15.419Z"
   },
   {
    "duration": 753,
    "start_time": "2022-10-01T14:36:15.698Z"
   },
   {
    "duration": 3,
    "start_time": "2022-10-01T14:36:16.453Z"
   },
   {
    "duration": 81,
    "start_time": "2022-10-01T14:36:16.536Z"
   },
   {
    "duration": 3,
    "start_time": "2022-10-01T14:36:17.131Z"
   },
   {
    "duration": 173,
    "start_time": "2022-10-01T14:36:17.274Z"
   },
   {
    "duration": 100,
    "start_time": "2022-10-01T14:36:17.449Z"
   },
   {
    "duration": 25,
    "start_time": "2022-10-01T14:36:17.715Z"
   },
   {
    "duration": 10,
    "start_time": "2022-10-01T14:36:18.437Z"
   },
   {
    "duration": 71,
    "start_time": "2022-10-01T14:36:18.732Z"
   },
   {
    "duration": 125,
    "start_time": "2022-10-01T14:36:19.034Z"
   },
   {
    "duration": 214,
    "start_time": "2022-10-01T14:36:20.038Z"
   },
   {
    "duration": 286,
    "start_time": "2022-10-01T14:36:20.909Z"
   },
   {
    "duration": 112,
    "start_time": "2022-10-01T14:36:22.310Z"
   },
   {
    "duration": 24,
    "start_time": "2022-10-01T14:36:22.619Z"
   },
   {
    "duration": 6,
    "start_time": "2022-10-01T14:36:22.961Z"
   },
   {
    "duration": 6,
    "start_time": "2022-10-01T14:36:23.275Z"
   },
   {
    "duration": 27,
    "start_time": "2022-10-01T14:36:24.372Z"
   },
   {
    "duration": 63,
    "start_time": "2022-10-01T14:36:25.542Z"
   },
   {
    "duration": 3,
    "start_time": "2022-10-01T14:36:26.483Z"
   },
   {
    "duration": 23,
    "start_time": "2022-10-01T14:36:34.110Z"
   },
   {
    "duration": 21,
    "start_time": "2022-10-01T14:36:49.797Z"
   },
   {
    "duration": 23,
    "start_time": "2022-10-01T14:36:57.590Z"
   },
   {
    "duration": 19,
    "start_time": "2022-10-01T14:36:59.407Z"
   },
   {
    "duration": 16,
    "start_time": "2022-10-01T14:37:08.976Z"
   },
   {
    "duration": 17,
    "start_time": "2022-10-01T14:37:14.234Z"
   },
   {
    "duration": 19,
    "start_time": "2022-10-01T14:37:36.302Z"
   },
   {
    "duration": 16,
    "start_time": "2022-10-01T14:39:46.666Z"
   },
   {
    "duration": 17,
    "start_time": "2022-10-01T14:39:48.867Z"
   },
   {
    "duration": 43,
    "start_time": "2022-10-01T14:41:54.973Z"
   },
   {
    "duration": 251,
    "start_time": "2022-10-01T14:42:46.049Z"
   },
   {
    "duration": 24,
    "start_time": "2022-10-01T14:42:49.215Z"
   },
   {
    "duration": 57,
    "start_time": "2022-10-01T18:44:27.782Z"
   },
   {
    "duration": 1950,
    "start_time": "2022-10-01T18:44:38.884Z"
   },
   {
    "duration": 1174,
    "start_time": "2022-10-01T18:44:40.837Z"
   },
   {
    "duration": 3,
    "start_time": "2022-10-01T18:44:42.013Z"
   },
   {
    "duration": 100,
    "start_time": "2022-10-01T18:44:42.017Z"
   },
   {
    "duration": 3,
    "start_time": "2022-10-01T18:44:42.119Z"
   },
   {
    "duration": 224,
    "start_time": "2022-10-01T18:44:42.123Z"
   },
   {
    "duration": 95,
    "start_time": "2022-10-01T18:44:42.348Z"
   },
   {
    "duration": 31,
    "start_time": "2022-10-01T18:44:42.445Z"
   },
   {
    "duration": 14,
    "start_time": "2022-10-01T18:44:42.479Z"
   },
   {
    "duration": 132,
    "start_time": "2022-10-01T18:44:42.494Z"
   },
   {
    "duration": 233,
    "start_time": "2022-10-01T18:44:42.628Z"
   },
   {
    "duration": 233,
    "start_time": "2022-10-01T18:44:42.863Z"
   },
   {
    "duration": 189,
    "start_time": "2022-10-01T18:44:43.098Z"
   },
   {
    "duration": 195,
    "start_time": "2022-10-01T18:44:43.289Z"
   },
   {
    "duration": 41,
    "start_time": "2022-10-01T18:44:43.486Z"
   },
   {
    "duration": 6,
    "start_time": "2022-10-01T18:44:43.529Z"
   },
   {
    "duration": 6,
    "start_time": "2022-10-01T18:44:43.537Z"
   },
   {
    "duration": 27,
    "start_time": "2022-10-01T18:44:43.545Z"
   },
   {
    "duration": 74,
    "start_time": "2022-10-01T18:44:43.574Z"
   },
   {
    "duration": 3,
    "start_time": "2022-10-01T18:44:43.650Z"
   },
   {
    "duration": 11458,
    "start_time": "2022-10-01T18:44:43.757Z"
   },
   {
    "duration": 96,
    "start_time": "2022-10-01T18:44:55.217Z"
   },
   {
    "duration": 15,
    "start_time": "2022-10-01T18:44:55.315Z"
   },
   {
    "duration": 77,
    "start_time": "2022-10-01T18:44:55.332Z"
   },
   {
    "duration": 4,
    "start_time": "2022-10-01T18:44:55.411Z"
   },
   {
    "duration": 329,
    "start_time": "2022-10-01T18:45:29.497Z"
   },
   {
    "duration": 87,
    "start_time": "2022-10-01T18:45:32.351Z"
   },
   {
    "duration": 3,
    "start_time": "2022-10-01T18:45:40.140Z"
   },
   {
    "duration": 3,
    "start_time": "2022-10-01T18:45:42.406Z"
   },
   {
    "duration": 885,
    "start_time": "2022-10-01T18:45:43.267Z"
   },
   {
    "duration": 0,
    "start_time": "2022-10-01T18:45:44.153Z"
   },
   {
    "duration": 5,
    "start_time": "2022-10-01T18:45:55.194Z"
   },
   {
    "duration": 864,
    "start_time": "2022-10-01T18:45:55.989Z"
   },
   {
    "duration": 2,
    "start_time": "2022-10-01T18:45:56.855Z"
   },
   {
    "duration": 98,
    "start_time": "2022-10-01T18:45:56.859Z"
   },
   {
    "duration": 3,
    "start_time": "2022-10-01T18:45:56.959Z"
   },
   {
    "duration": 232,
    "start_time": "2022-10-01T18:45:56.963Z"
   },
   {
    "duration": 95,
    "start_time": "2022-10-01T18:45:57.197Z"
   },
   {
    "duration": 30,
    "start_time": "2022-10-01T18:45:57.293Z"
   },
   {
    "duration": 11,
    "start_time": "2022-10-01T18:45:57.324Z"
   },
   {
    "duration": 99,
    "start_time": "2022-10-01T18:45:57.336Z"
   },
   {
    "duration": 130,
    "start_time": "2022-10-01T18:45:57.438Z"
   },
   {
    "duration": 205,
    "start_time": "2022-10-01T18:45:57.570Z"
   },
   {
    "duration": 192,
    "start_time": "2022-10-01T18:45:57.777Z"
   },
   {
    "duration": 130,
    "start_time": "2022-10-01T18:45:57.971Z"
   },
   {
    "duration": 26,
    "start_time": "2022-10-01T18:45:58.109Z"
   },
   {
    "duration": 7,
    "start_time": "2022-10-01T18:45:58.137Z"
   },
   {
    "duration": 9,
    "start_time": "2022-10-01T18:45:58.146Z"
   },
   {
    "duration": 28,
    "start_time": "2022-10-01T18:45:58.157Z"
   },
   {
    "duration": 48,
    "start_time": "2022-10-01T18:45:58.209Z"
   },
   {
    "duration": 3,
    "start_time": "2022-10-01T18:45:58.259Z"
   },
   {
    "duration": 11452,
    "start_time": "2022-10-01T18:45:58.263Z"
   },
   {
    "duration": 5,
    "start_time": "2022-10-01T18:46:09.808Z"
   },
   {
    "duration": 13,
    "start_time": "2022-10-01T18:46:09.815Z"
   },
   {
    "duration": 95,
    "start_time": "2022-10-01T18:46:09.830Z"
   },
   {
    "duration": 7,
    "start_time": "2022-10-01T18:46:09.927Z"
   },
   {
    "duration": 352,
    "start_time": "2022-10-01T18:46:09.936Z"
   },
   {
    "duration": 57247,
    "start_time": "2022-10-01T18:46:10.290Z"
   },
   {
    "duration": 8,
    "start_time": "2022-10-01T18:47:31.409Z"
   },
   {
    "duration": 80,
    "start_time": "2022-10-01T18:47:38.296Z"
   },
   {
    "duration": 4,
    "start_time": "2022-10-01T18:47:38.894Z"
   },
   {
    "duration": 6,
    "start_time": "2022-10-01T18:47:39.656Z"
   },
   {
    "duration": 6,
    "start_time": "2022-10-01T18:47:40.082Z"
   },
   {
    "duration": 5,
    "start_time": "2022-10-01T18:48:27.313Z"
   },
   {
    "duration": 365,
    "start_time": "2022-10-01T18:48:27.615Z"
   },
   {
    "duration": 70,
    "start_time": "2022-10-01T18:48:27.984Z"
   },
   {
    "duration": 5,
    "start_time": "2022-10-01T18:48:28.187Z"
   },
   {
    "duration": 5,
    "start_time": "2022-10-01T18:48:28.357Z"
   },
   {
    "duration": 10,
    "start_time": "2022-10-01T18:48:28.518Z"
   },
   {
    "duration": 323,
    "start_time": "2022-10-01T18:53:47.083Z"
   },
   {
    "duration": 28,
    "start_time": "2022-10-01T18:57:27.445Z"
   },
   {
    "duration": 5,
    "start_time": "2022-10-01T18:58:16.759Z"
   },
   {
    "duration": 879,
    "start_time": "2022-10-01T18:58:17.050Z"
   },
   {
    "duration": 3,
    "start_time": "2022-10-01T18:58:17.931Z"
   },
   {
    "duration": 98,
    "start_time": "2022-10-01T18:58:19.550Z"
   },
   {
    "duration": 3,
    "start_time": "2022-10-01T18:58:27.601Z"
   },
   {
    "duration": 250,
    "start_time": "2022-10-01T18:58:27.727Z"
   },
   {
    "duration": 88,
    "start_time": "2022-10-01T18:58:27.978Z"
   },
   {
    "duration": 28,
    "start_time": "2022-10-01T18:58:28.235Z"
   },
   {
    "duration": 12,
    "start_time": "2022-10-01T18:58:29.025Z"
   },
   {
    "duration": 98,
    "start_time": "2022-10-01T18:58:29.531Z"
   },
   {
    "duration": 176,
    "start_time": "2022-10-01T18:58:29.980Z"
   },
   {
    "duration": 221,
    "start_time": "2022-10-01T18:58:31.118Z"
   },
   {
    "duration": 177,
    "start_time": "2022-10-01T18:58:32.077Z"
   },
   {
    "duration": 125,
    "start_time": "2022-10-01T18:58:33.476Z"
   },
   {
    "duration": 34,
    "start_time": "2022-10-01T18:58:33.791Z"
   },
   {
    "duration": 8,
    "start_time": "2022-10-01T18:58:34.129Z"
   },
   {
    "duration": 6,
    "start_time": "2022-10-01T18:58:34.444Z"
   },
   {
    "duration": 33,
    "start_time": "2022-10-01T18:58:34.950Z"
   },
   {
    "duration": 50,
    "start_time": "2022-10-01T18:58:35.741Z"
   },
   {
    "duration": 3,
    "start_time": "2022-10-01T18:58:36.278Z"
   },
   {
    "duration": 13841,
    "start_time": "2022-10-01T18:58:40.876Z"
   },
   {
    "duration": 4,
    "start_time": "2022-10-01T18:58:54.809Z"
   },
   {
    "duration": 43,
    "start_time": "2022-10-01T18:58:54.814Z"
   },
   {
    "duration": 25,
    "start_time": "2022-10-01T18:58:54.859Z"
   },
   {
    "duration": 28,
    "start_time": "2022-10-01T18:58:54.885Z"
   },
   {
    "duration": 365,
    "start_time": "2022-10-01T18:58:54.915Z"
   },
   {
    "duration": 58012,
    "start_time": "2022-10-01T18:58:55.282Z"
   },
   {
    "duration": 27,
    "start_time": "2022-10-01T18:59:54.916Z"
   },
   {
    "duration": 21,
    "start_time": "2022-10-01T19:00:04.405Z"
   },
   {
    "duration": 1789,
    "start_time": "2022-10-02T07:25:23.521Z"
   },
   {
    "duration": 1188,
    "start_time": "2022-10-02T07:25:25.312Z"
   },
   {
    "duration": 3,
    "start_time": "2022-10-02T07:25:26.502Z"
   },
   {
    "duration": 122,
    "start_time": "2022-10-02T07:25:26.507Z"
   },
   {
    "duration": 5,
    "start_time": "2022-10-02T07:25:26.630Z"
   },
   {
    "duration": 232,
    "start_time": "2022-10-02T07:25:26.637Z"
   },
   {
    "duration": 112,
    "start_time": "2022-10-02T07:25:26.870Z"
   },
   {
    "duration": 48,
    "start_time": "2022-10-02T07:25:26.984Z"
   },
   {
    "duration": 16,
    "start_time": "2022-10-02T07:25:27.034Z"
   },
   {
    "duration": 107,
    "start_time": "2022-10-02T07:25:27.052Z"
   },
   {
    "duration": 174,
    "start_time": "2022-10-02T07:25:27.160Z"
   },
   {
    "duration": 249,
    "start_time": "2022-10-02T07:25:27.336Z"
   },
   {
    "duration": 207,
    "start_time": "2022-10-02T07:25:27.587Z"
   },
   {
    "duration": 239,
    "start_time": "2022-10-02T07:25:27.796Z"
   },
   {
    "duration": 29,
    "start_time": "2022-10-02T07:25:28.037Z"
   },
   {
    "duration": 7,
    "start_time": "2022-10-02T07:25:28.068Z"
   },
   {
    "duration": 10,
    "start_time": "2022-10-02T07:25:28.076Z"
   },
   {
    "duration": 57,
    "start_time": "2022-10-02T07:25:28.088Z"
   },
   {
    "duration": 80,
    "start_time": "2022-10-02T07:25:28.147Z"
   },
   {
    "duration": 3,
    "start_time": "2022-10-02T07:25:28.229Z"
   },
   {
    "duration": 13188,
    "start_time": "2022-10-02T07:25:28.233Z"
   },
   {
    "duration": 4,
    "start_time": "2022-10-02T07:25:41.423Z"
   },
   {
    "duration": 101,
    "start_time": "2022-10-02T07:25:41.429Z"
   },
   {
    "duration": 9,
    "start_time": "2022-10-02T07:25:41.532Z"
   },
   {
    "duration": 6,
    "start_time": "2022-10-02T07:25:41.545Z"
   },
   {
    "duration": 394,
    "start_time": "2022-10-02T07:25:41.553Z"
   },
   {
    "duration": 58762,
    "start_time": "2022-10-02T07:25:41.949Z"
   },
   {
    "duration": 30,
    "start_time": "2022-10-02T07:26:40.713Z"
   },
   {
    "duration": 22,
    "start_time": "2022-10-02T07:26:40.745Z"
   },
   {
    "duration": 83,
    "start_time": "2022-10-02T07:26:40.769Z"
   },
   {
    "duration": 5,
    "start_time": "2022-10-02T07:26:40.854Z"
   },
   {
    "duration": 13,
    "start_time": "2022-10-02T07:26:40.861Z"
   },
   {
    "duration": 7,
    "start_time": "2022-10-02T07:26:40.876Z"
   },
   {
    "duration": 8,
    "start_time": "2022-10-02T07:26:40.884Z"
   },
   {
    "duration": 53,
    "start_time": "2022-10-02T07:26:40.893Z"
   },
   {
    "duration": 567,
    "start_time": "2022-10-02T07:26:40.948Z"
   },
   {
    "duration": 0,
    "start_time": "2022-10-02T07:26:41.517Z"
   },
   {
    "duration": 0,
    "start_time": "2022-10-02T07:26:41.520Z"
   },
   {
    "duration": 0,
    "start_time": "2022-10-02T07:26:41.521Z"
   },
   {
    "duration": 0,
    "start_time": "2022-10-02T07:26:41.522Z"
   },
   {
    "duration": 0,
    "start_time": "2022-10-02T07:26:41.524Z"
   },
   {
    "duration": 0,
    "start_time": "2022-10-02T07:26:41.525Z"
   },
   {
    "duration": 0,
    "start_time": "2022-10-02T07:26:41.526Z"
   },
   {
    "duration": 0,
    "start_time": "2022-10-02T07:26:41.528Z"
   },
   {
    "duration": 0,
    "start_time": "2022-10-02T07:26:41.529Z"
   },
   {
    "duration": 0,
    "start_time": "2022-10-02T07:26:41.530Z"
   },
   {
    "duration": 0,
    "start_time": "2022-10-02T07:26:41.530Z"
   },
   {
    "duration": 0,
    "start_time": "2022-10-02T07:26:41.532Z"
   },
   {
    "duration": 0,
    "start_time": "2022-10-02T07:26:41.533Z"
   },
   {
    "duration": 0,
    "start_time": "2022-10-02T07:26:41.534Z"
   },
   {
    "duration": 0,
    "start_time": "2022-10-02T07:26:41.535Z"
   },
   {
    "duration": 0,
    "start_time": "2022-10-02T07:26:41.536Z"
   },
   {
    "duration": 34,
    "start_time": "2022-10-02T07:27:53.178Z"
   },
   {
    "duration": 13,
    "start_time": "2022-10-02T07:27:54.116Z"
   },
   {
    "duration": 92604,
    "start_time": "2022-10-02T07:27:54.525Z"
   },
   {
    "duration": 1021,
    "start_time": "2022-10-02T07:29:51.057Z"
   },
   {
    "duration": 5,
    "start_time": "2022-10-02T07:29:52.122Z"
   },
   {
    "duration": 40,
    "start_time": "2022-10-02T07:29:52.128Z"
   },
   {
    "duration": 10,
    "start_time": "2022-10-02T07:29:52.170Z"
   },
   {
    "duration": 20,
    "start_time": "2022-10-02T07:29:52.182Z"
   },
   {
    "duration": 864336,
    "start_time": "2022-10-02T07:29:52.204Z"
   },
   {
    "duration": 490,
    "start_time": "2022-10-02T07:44:16.543Z"
   },
   {
    "duration": 6,
    "start_time": "2022-10-02T07:44:17.035Z"
   },
   {
    "duration": 7,
    "start_time": "2022-10-02T07:44:17.043Z"
   },
   {
    "duration": 74,
    "start_time": "2022-10-02T07:44:17.052Z"
   },
   {
    "duration": 19,
    "start_time": "2022-10-02T07:44:17.127Z"
   },
   {
    "duration": 10,
    "start_time": "2022-10-02T07:44:17.148Z"
   },
   {
    "duration": 3,
    "start_time": "2022-10-02T07:44:17.159Z"
   },
   {
    "duration": 7,
    "start_time": "2022-10-02T07:44:17.164Z"
   },
   {
    "duration": 7,
    "start_time": "2022-10-02T07:44:17.173Z"
   },
   {
    "duration": 13,
    "start_time": "2022-10-02T07:44:17.181Z"
   },
   {
    "duration": 12,
    "start_time": "2022-10-02T07:44:17.197Z"
   },
   {
    "duration": 21,
    "start_time": "2022-10-02T07:44:17.211Z"
   },
   {
    "duration": 70,
    "start_time": "2022-10-02T07:44:17.234Z"
   },
   {
    "duration": 10,
    "start_time": "2022-10-02T07:44:17.306Z"
   },
   {
    "duration": 0,
    "start_time": "2022-10-02T07:44:17.318Z"
   },
   {
    "duration": 6,
    "start_time": "2022-10-02T07:59:40.713Z"
   },
   {
    "duration": 952,
    "start_time": "2022-10-02T07:59:41.234Z"
   },
   {
    "duration": 3,
    "start_time": "2022-10-02T07:59:42.189Z"
   },
   {
    "duration": 101,
    "start_time": "2022-10-02T07:59:42.429Z"
   },
   {
    "duration": 4,
    "start_time": "2022-10-02T07:59:43.016Z"
   },
   {
    "duration": 232,
    "start_time": "2022-10-02T07:59:43.162Z"
   },
   {
    "duration": 105,
    "start_time": "2022-10-02T07:59:43.396Z"
   },
   {
    "duration": 26,
    "start_time": "2022-10-02T07:59:43.574Z"
   },
   {
    "duration": 11,
    "start_time": "2022-10-02T07:59:44.211Z"
   },
   {
    "duration": 92,
    "start_time": "2022-10-02T07:59:44.271Z"
   },
   {
    "duration": 192,
    "start_time": "2022-10-02T07:59:44.365Z"
   },
   {
    "duration": 263,
    "start_time": "2022-10-02T07:59:44.559Z"
   },
   {
    "duration": 238,
    "start_time": "2022-10-02T07:59:44.824Z"
   },
   {
    "duration": 159,
    "start_time": "2022-10-02T07:59:45.064Z"
   },
   {
    "duration": 29,
    "start_time": "2022-10-02T07:59:45.225Z"
   },
   {
    "duration": 7,
    "start_time": "2022-10-02T07:59:45.256Z"
   },
   {
    "duration": 24,
    "start_time": "2022-10-02T07:59:45.266Z"
   },
   {
    "duration": 51,
    "start_time": "2022-10-02T07:59:45.291Z"
   },
   {
    "duration": 67,
    "start_time": "2022-10-02T07:59:45.467Z"
   },
   {
    "duration": 2,
    "start_time": "2022-10-02T07:59:45.537Z"
   },
   {
    "duration": 405,
    "start_time": "2022-10-02T07:59:45.622Z"
   },
   {
    "duration": 4,
    "start_time": "2022-10-02T07:59:46.030Z"
   },
   {
    "duration": 896,
    "start_time": "2022-10-02T07:59:46.375Z"
   },
   {
    "duration": 0,
    "start_time": "2022-10-02T07:59:47.273Z"
   },
   {
    "duration": 7,
    "start_time": "2022-10-02T08:11:32.685Z"
   },
   {
    "duration": 924,
    "start_time": "2022-10-02T08:11:33.157Z"
   },
   {
    "duration": 3,
    "start_time": "2022-10-02T08:11:34.083Z"
   },
   {
    "duration": 105,
    "start_time": "2022-10-02T08:11:34.088Z"
   },
   {
    "duration": 4,
    "start_time": "2022-10-02T08:11:34.575Z"
   },
   {
    "duration": 227,
    "start_time": "2022-10-02T08:11:34.723Z"
   },
   {
    "duration": 106,
    "start_time": "2022-10-02T08:11:34.952Z"
   },
   {
    "duration": 27,
    "start_time": "2022-10-02T08:11:35.156Z"
   },
   {
    "duration": 12,
    "start_time": "2022-10-02T08:11:35.918Z"
   },
   {
    "duration": 88,
    "start_time": "2022-10-02T08:11:35.980Z"
   },
   {
    "duration": 174,
    "start_time": "2022-10-02T08:11:36.070Z"
   },
   {
    "duration": 245,
    "start_time": "2022-10-02T08:11:36.253Z"
   },
   {
    "duration": 220,
    "start_time": "2022-10-02T08:11:36.500Z"
   },
   {
    "duration": 147,
    "start_time": "2022-10-02T08:11:36.725Z"
   },
   {
    "duration": 45,
    "start_time": "2022-10-02T08:11:36.875Z"
   },
   {
    "duration": 7,
    "start_time": "2022-10-02T08:11:36.922Z"
   },
   {
    "duration": 7,
    "start_time": "2022-10-02T08:11:36.931Z"
   },
   {
    "duration": 30,
    "start_time": "2022-10-02T08:11:36.989Z"
   },
   {
    "duration": 66,
    "start_time": "2022-10-02T08:11:37.173Z"
   },
   {
    "duration": 4,
    "start_time": "2022-10-02T08:11:37.241Z"
   },
   {
    "duration": 3,
    "start_time": "2022-10-02T08:11:37.300Z"
   },
   {
    "duration": 12747,
    "start_time": "2022-10-02T08:11:37.976Z"
   },
   {
    "duration": 8,
    "start_time": "2022-10-02T08:12:10.307Z"
   },
   {
    "duration": 51867,
    "start_time": "2022-10-02T08:13:30.869Z"
   },
   {
    "duration": 80,
    "start_time": "2022-10-02T08:17:56.325Z"
   },
   {
    "duration": 5,
    "start_time": "2022-10-02T08:18:04.659Z"
   },
   {
    "duration": 5,
    "start_time": "2022-10-02T08:19:41.466Z"
   },
   {
    "duration": 876,
    "start_time": "2022-10-02T08:19:41.782Z"
   },
   {
    "duration": 3,
    "start_time": "2022-10-02T08:19:42.660Z"
   },
   {
    "duration": 108,
    "start_time": "2022-10-02T08:19:42.665Z"
   },
   {
    "duration": 3,
    "start_time": "2022-10-02T08:19:43.234Z"
   },
   {
    "duration": 218,
    "start_time": "2022-10-02T08:19:43.262Z"
   },
   {
    "duration": 119,
    "start_time": "2022-10-02T08:19:43.482Z"
   },
   {
    "duration": 31,
    "start_time": "2022-10-02T08:19:43.603Z"
   },
   {
    "duration": 12,
    "start_time": "2022-10-02T08:19:43.636Z"
   },
   {
    "duration": 101,
    "start_time": "2022-10-02T08:19:43.650Z"
   },
   {
    "duration": 144,
    "start_time": "2022-10-02T08:19:43.753Z"
   },
   {
    "duration": 245,
    "start_time": "2022-10-02T08:19:43.899Z"
   },
   {
    "duration": 222,
    "start_time": "2022-10-02T08:19:44.146Z"
   },
   {
    "duration": 153,
    "start_time": "2022-10-02T08:19:44.369Z"
   },
   {
    "duration": 32,
    "start_time": "2022-10-02T08:19:44.523Z"
   },
   {
    "duration": 7,
    "start_time": "2022-10-02T08:19:44.557Z"
   },
   {
    "duration": 6,
    "start_time": "2022-10-02T08:19:44.566Z"
   },
   {
    "duration": 48,
    "start_time": "2022-10-02T08:19:44.580Z"
   },
   {
    "duration": 69,
    "start_time": "2022-10-02T08:19:44.766Z"
   },
   {
    "duration": 4,
    "start_time": "2022-10-02T08:19:44.837Z"
   },
   {
    "duration": 5,
    "start_time": "2022-10-02T08:19:45.039Z"
   },
   {
    "duration": 12954,
    "start_time": "2022-10-02T08:19:46.870Z"
   },
   {
    "duration": 11600,
    "start_time": "2022-10-02T08:19:59.827Z"
   },
   {
    "duration": 992,
    "start_time": "2022-10-02T08:20:11.429Z"
   },
   {
    "duration": 99,
    "start_time": "2022-10-02T08:20:12.424Z"
   },
   {
    "duration": 0,
    "start_time": "2022-10-02T08:20:12.525Z"
   },
   {
    "duration": 6,
    "start_time": "2022-10-02T08:20:32.886Z"
   },
   {
    "duration": 8,
    "start_time": "2022-10-02T08:20:40.197Z"
   },
   {
    "duration": 53800,
    "start_time": "2022-10-02T08:20:45.729Z"
   },
   {
    "duration": 3,
    "start_time": "2022-10-02T08:21:52.879Z"
   },
   {
    "duration": 47656,
    "start_time": "2022-10-02T08:23:19.472Z"
   },
   {
    "duration": 348,
    "start_time": "2022-10-02T08:24:17.593Z"
   },
   {
    "duration": 3,
    "start_time": "2022-10-02T08:24:18.668Z"
   },
   {
    "duration": 4,
    "start_time": "2022-10-02T08:24:19.541Z"
   },
   {
    "duration": 3,
    "start_time": "2022-10-02T08:24:21.719Z"
   },
   {
    "duration": 59391,
    "start_time": "2022-10-02T08:24:23.266Z"
   },
   {
    "duration": 34,
    "start_time": "2022-10-02T08:26:07.742Z"
   },
   {
    "duration": 74685,
    "start_time": "2022-10-02T08:26:11.554Z"
   },
   {
    "duration": 1093,
    "start_time": "2022-10-02T08:27:26.241Z"
   },
   {
    "duration": 5,
    "start_time": "2022-10-02T08:27:27.336Z"
   },
   {
    "duration": 8,
    "start_time": "2022-10-02T08:27:27.343Z"
   },
   {
    "duration": 71,
    "start_time": "2022-10-02T08:27:27.353Z"
   },
   {
    "duration": 3,
    "start_time": "2022-10-02T08:28:27.803Z"
   },
   {
    "duration": 71,
    "start_time": "2022-10-03T10:44:23.466Z"
   },
   {
    "duration": 9,
    "start_time": "2022-10-03T10:44:50.177Z"
   },
   {
    "duration": 1044,
    "start_time": "2022-10-03T10:44:50.188Z"
   },
   {
    "duration": 3,
    "start_time": "2022-10-03T10:44:51.234Z"
   },
   {
    "duration": 124,
    "start_time": "2022-10-03T10:44:51.239Z"
   },
   {
    "duration": 4,
    "start_time": "2022-10-03T10:44:51.366Z"
   },
   {
    "duration": 337,
    "start_time": "2022-10-03T10:44:51.372Z"
   },
   {
    "duration": 153,
    "start_time": "2022-10-03T10:44:51.712Z"
   },
   {
    "duration": 38,
    "start_time": "2022-10-03T10:44:51.867Z"
   },
   {
    "duration": 13,
    "start_time": "2022-10-03T10:44:51.907Z"
   },
   {
    "duration": 141,
    "start_time": "2022-10-03T10:44:51.922Z"
   },
   {
    "duration": 197,
    "start_time": "2022-10-03T10:44:52.065Z"
   },
   {
    "duration": 257,
    "start_time": "2022-10-03T10:44:52.264Z"
   },
   {
    "duration": 246,
    "start_time": "2022-10-03T10:44:52.525Z"
   },
   {
    "duration": 159,
    "start_time": "2022-10-03T10:44:52.773Z"
   },
   {
    "duration": 43,
    "start_time": "2022-10-03T10:44:52.935Z"
   },
   {
    "duration": 10,
    "start_time": "2022-10-03T10:44:52.981Z"
   },
   {
    "duration": 15,
    "start_time": "2022-10-03T10:44:52.993Z"
   },
   {
    "duration": 76,
    "start_time": "2022-10-03T10:44:53.010Z"
   },
   {
    "duration": 85,
    "start_time": "2022-10-03T10:44:53.089Z"
   }
  ],
  "kernelspec": {
   "display_name": "Python 3 (ipykernel)",
   "language": "python",
   "name": "python3"
  },
  "language_info": {
   "codemirror_mode": {
    "name": "ipython",
    "version": 3
   },
   "file_extension": ".py",
   "mimetype": "text/x-python",
   "name": "python",
   "nbconvert_exporter": "python",
   "pygments_lexer": "ipython3",
   "version": "3.9.7"
  },
  "toc": {
   "base_numbering": 1,
   "nav_menu": {},
   "number_sections": true,
   "sideBar": true,
   "skip_h1_title": true,
   "title_cell": "Оглавление",
   "title_sidebar": "Содержание",
   "toc_cell": true,
   "toc_position": {
    "height": "calc(100% - 180px)",
    "left": "10px",
    "top": "150px",
    "width": "286.075px"
   },
   "toc_section_display": true,
   "toc_window_display": true
  }
 },
 "nbformat": 4,
 "nbformat_minor": 2
}
