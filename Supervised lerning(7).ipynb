{
 "cells": [
  {
   "cell_type": "markdown",
   "metadata": {
    "toc": true
   },
   "source": [
    "<h1>Содержание<span class=\"tocSkip\"></span></h1>\n",
    "<div class=\"toc\"><ul class=\"toc-item\"><li><span><a href=\"#Подготовка-данных\" data-toc-modified-id=\"Подготовка-данных-1\"><span class=\"toc-item-num\">1&nbsp;&nbsp;</span>Подготовка данных</a></span></li><li><span><a href=\"#Исследование-задачи\" data-toc-modified-id=\"Исследование-задачи-2\"><span class=\"toc-item-num\">2&nbsp;&nbsp;</span>Исследование задачи</a></span><ul class=\"toc-item\"><li><span><a href=\"#DecisionTreeClassifier-no-class_weight\" data-toc-modified-id=\"DecisionTreeClassifier-no-class_weight-2.1\"><span class=\"toc-item-num\">2.1&nbsp;&nbsp;</span>DecisionTreeClassifier no class_weight</a></span></li><li><span><a href=\"#RandomForestClassifier-no-class_weight\" data-toc-modified-id=\"RandomForestClassifier-no-class_weight-2.2\"><span class=\"toc-item-num\">2.2&nbsp;&nbsp;</span>RandomForestClassifier no class_weight</a></span></li><li><span><a href=\"#LogisticRegression-no-class-weight\" data-toc-modified-id=\"LogisticRegression-no-class-weight-2.3\"><span class=\"toc-item-num\">2.3&nbsp;&nbsp;</span>LogisticRegression no class weight</a></span></li><li><span><a href=\"#Подводя-итог\" data-toc-modified-id=\"Подводя-итог-2.4\"><span class=\"toc-item-num\">2.4&nbsp;&nbsp;</span>Подводя итог</a></span></li></ul></li><li><span><a href=\"#Борьба-с-дисбалансом\" data-toc-modified-id=\"Борьба-с-дисбалансом-3\"><span class=\"toc-item-num\">3&nbsp;&nbsp;</span>Борьба с дисбалансом</a></span><ul class=\"toc-item\"><li><span><a href=\"#DecisionTreeClassifier-downsalpled\" data-toc-modified-id=\"DecisionTreeClassifier-downsalpled-3.1\"><span class=\"toc-item-num\">3.1&nbsp;&nbsp;</span>DecisionTreeClassifier downsalpled</a></span></li><li><span><a href=\"#DecisionTreeClassifier-upsmapled\" data-toc-modified-id=\"DecisionTreeClassifier-upsmapled-3.2\"><span class=\"toc-item-num\">3.2&nbsp;&nbsp;</span>DecisionTreeClassifier upsmapled</a></span></li><li><span><a href=\"#DecisionTreeClassifier-with-class_weight-balanced\" data-toc-modified-id=\"DecisionTreeClassifier-with-class_weight-balanced-3.3\"><span class=\"toc-item-num\">3.3&nbsp;&nbsp;</span>DecisionTreeClassifier with class_weight balanced</a></span></li><li><span><a href=\"#LogisticRegression-with-class-balanced\" data-toc-modified-id=\"LogisticRegression-with-class-balanced-3.4\"><span class=\"toc-item-num\">3.4&nbsp;&nbsp;</span>LogisticRegression with class balanced</a></span></li><li><span><a href=\"#RandomForestClassifier-upsampled\" data-toc-modified-id=\"RandomForestClassifier-upsampled-3.5\"><span class=\"toc-item-num\">3.5&nbsp;&nbsp;</span>RandomForestClassifier upsampled</a></span></li><li><span><a href=\"#RandomForestClassifier-downsampled\" data-toc-modified-id=\"RandomForestClassifier-downsampled-3.6\"><span class=\"toc-item-num\">3.6&nbsp;&nbsp;</span>RandomForestClassifier downsampled</a></span></li><li><span><a href=\"#RandomForestClassifier-class-balanced\" data-toc-modified-id=\"RandomForestClassifier-class-balanced-3.7\"><span class=\"toc-item-num\">3.7&nbsp;&nbsp;</span>RandomForestClassifier class balanced</a></span></li><li><span><a href=\"#Один-график\" data-toc-modified-id=\"Один-график-3.8\"><span class=\"toc-item-num\">3.8&nbsp;&nbsp;</span>Один график</a></span></li></ul></li><li><span><a href=\"#Тестирование-модели\" data-toc-modified-id=\"Тестирование-модели-4\"><span class=\"toc-item-num\">4&nbsp;&nbsp;</span>Тестирование модели</a></span></li><li><span><a href=\"#Вывод\" data-toc-modified-id=\"Вывод-5\"><span class=\"toc-item-num\">5&nbsp;&nbsp;</span>Вывод</a></span></li></ul></div>"
   ]
  },
  {
   "cell_type": "markdown",
   "metadata": {},
   "source": [
    "# Отток клиентов"
   ]
  },
  {
   "cell_type": "markdown",
   "metadata": {},
   "source": [
    "Из «Бета-Банка» стали уходить клиенты. Каждый месяц. Немного, но заметно. Банковские маркетологи посчитали: сохранять текущих клиентов дешевле, чем привлекать новых.\n",
    "\n",
    "Нужно спрогнозировать, уйдёт клиент из банка в ближайшее время или нет. Вам предоставлены исторические данные о поведении клиентов и расторжении договоров с банком. \n",
    "\n",
    "Постройте модель с предельно большим значением *F1*-меры.Нужно довести метрику до 0.59. Проверьте *F1*-меру на тестовой выборке самостоятельно.\n",
    "\n",
    "Дополнительно измеряйте *AUC-ROC*, сравнивайте её значение с *F1*-мерой.\n",
    "\n",
    "Источник данных: [https://www.kaggle.com/barelydedicated/bank-customer-churn-modeling](https://www.kaggle.com/barelydedicated/bank-customer-churn-modeling)"
   ]
  },
  {
   "cell_type": "markdown",
   "metadata": {},
   "source": [
    "## Подготовка данных"
   ]
  },
  {
   "cell_type": "markdown",
   "metadata": {},
   "source": [
    "Подключим необходимые библиотеки"
   ]
  },
  {
   "cell_type": "code",
   "execution_count": 2,
   "metadata": {},
   "outputs": [],
   "source": [
    "import pandas as pd\n",
    "import numpy as np\n",
    "import matplotlib.pyplot as plt\n",
    "\n",
    "from sklearn.model_selection import train_test_split\n",
    "from sklearn.preprocessing import StandardScaler\n",
    "from sklearn.tree import DecisionTreeClassifier\n",
    "from sklearn.ensemble import RandomForestClassifier\n",
    "from sklearn.linear_model import LogisticRegression\n",
    "from sklearn.model_selection import GridSearchCV\n",
    "from sklearn.metrics import f1_score,roc_auc_score, roc_curve\n",
    "from sklearn.utils import shuffle"
   ]
  },
  {
   "cell_type": "markdown",
   "metadata": {},
   "source": [
    "Прочитаем датасет"
   ]
  },
  {
   "cell_type": "code",
   "execution_count": 13,
   "metadata": {},
   "outputs": [],
   "source": [
    "df = pd.read_csv('/datasets/Churn.csv')"
   ]
  },
  {
   "cell_type": "markdown",
   "metadata": {},
   "source": [
    "Использование столбцов с комбинацией заглавных и строчных букв это неудобно, поэтому переименуем столбцы на строчные буквы"
   ]
  },
  {
   "cell_type": "code",
   "execution_count": 14,
   "metadata": {},
   "outputs": [],
   "source": [
    "df = df.rename(columns = {'CreditScore':'creditscore',\n",
    "                          'Age':'age',\n",
    "                          'Tenure':'tenure',\n",
    "                          'Balance':'balance',\n",
    "                          'NumOfProducts':'numofprod',\n",
    "                         'HasCrCard':'hascard',\n",
    "                          'IsActiveMember':'actmemb',\n",
    "                         'EstimatedSalary':'salary',\n",
    "                          'Exited':'exited'})"
   ]
  },
  {
   "cell_type": "markdown",
   "metadata": {},
   "source": [
    "Далее удалим ненужные столбцы, которые никак не повлияют на обучение модели и очень сильно коррелируют между собой"
   ]
  },
  {
   "cell_type": "code",
   "execution_count": 15,
   "metadata": {},
   "outputs": [],
   "source": [
    "df = df.drop(['RowNumber','Surname','CustomerId'], axis = 1 )"
   ]
  },
  {
   "cell_type": "markdown",
   "metadata": {},
   "source": [
    "Проверим сколько у нас вариантов значений столбца Geography"
   ]
  },
  {
   "cell_type": "code",
   "execution_count": 16,
   "metadata": {
    "scrolled": true
   },
   "outputs": [
    {
     "data": {
      "text/plain": [
       "3"
      ]
     },
     "execution_count": 16,
     "metadata": {},
     "output_type": "execute_result"
    }
   ],
   "source": [
    "df['Geography'].nunique()"
   ]
  },
  {
   "cell_type": "markdown",
   "metadata": {},
   "source": [
    "Далее используем One Heat Encoding и закодируем строковые столбцы в численные с помощью функции get_dummies"
   ]
  },
  {
   "cell_type": "code",
   "execution_count": 17,
   "metadata": {
    "scrolled": false
   },
   "outputs": [],
   "source": [
    "df_ohe = pd.get_dummies(df,drop_first = True)"
   ]
  },
  {
   "cell_type": "markdown",
   "metadata": {},
   "source": [
    "Переименовываем получившиеся столбцы"
   ]
  },
  {
   "cell_type": "code",
   "execution_count": 18,
   "metadata": {
    "scrolled": true
   },
   "outputs": [],
   "source": [
    "df_ohe = df_ohe.rename(columns = {'Geography_Germany':'isgermany',\n",
    "                                  'Geography_Spain':'isspain',\n",
    "                                 'Gender_Male':'ismale'})"
   ]
  },
  {
   "cell_type": "markdown",
   "metadata": {},
   "source": [
    "Далее заполним NaN значения в столбце tenure медианой"
   ]
  },
  {
   "cell_type": "code",
   "execution_count": 19,
   "metadata": {},
   "outputs": [
    {
     "data": {
      "text/plain": [
       "<AxesSubplot:>"
      ]
     },
     "execution_count": 19,
     "metadata": {},
     "output_type": "execute_result"
    },
    {
     "data": {
      "image/png": "[encoded data removed]",
      "text/plain": [
       "<Figure size 432x288 with 1 Axes>"
      ]
     },
     "metadata": {
      "needs_background": "light"
     },
     "output_type": "display_data"
    }
   ],
   "source": [
    "df_ohe['tenure'].hist(bins=range(12))"
   ]
  },
  {
   "cell_type": "code",
   "execution_count": 20,
   "metadata": {
    "scrolled": true
   },
   "outputs": [],
   "source": [
    "df_ohe['tenure'] = df_ohe['tenure'].fillna(df_ohe['tenure'].median()).astype(int)"
   ]
  },
  {
   "cell_type": "code",
   "execution_count": 21,
   "metadata": {},
   "outputs": [
    {
     "data": {
      "text/plain": [
       "<AxesSubplot:>"
      ]
     },
     "execution_count": 21,
     "metadata": {},
     "output_type": "execute_result"
    },
    {
     "data": {
      "image/png": "[encoded data removed]",
      "text/plain": [
       "<Figure size 432x288 with 1 Axes>"
      ]
     },
     "metadata": {
      "needs_background": "light"
     },
     "output_type": "display_data"
    }
   ],
   "source": [
    "df_ohe['tenure'].hist(bins=range(12))"
   ]
  },
  {
   "cell_type": "markdown",
   "metadata": {},
   "source": [
    "Далее выделим целевой признак в переменную Y, а все остальные столбцы в переменную X"
   ]
  },
  {
   "cell_type": "code",
   "execution_count": 23,
   "metadata": {},
   "outputs": [],
   "source": [
    "X = df_ohe.drop(['exited'],axis = 1 )\n",
    "y = df_ohe['exited']"
   ]
  },
  {
   "cell_type": "markdown",
   "metadata": {},
   "source": [
    "Разделим выбору на тренировочную,валидационную и тестовую"
   ]
  },
  {
   "cell_type": "code",
   "execution_count": 24,
   "metadata": {},
   "outputs": [],
   "source": [
    "X_train, X_test, y_train, y_test = train_test_split(X, y, test_size=0.4, random_state=42,stratify = y)"
   ]
  },
  {
   "cell_type": "code",
   "execution_count": 25,
   "metadata": {},
   "outputs": [],
   "source": [
    "X_valid, X_test, y_valid, y_test= train_test_split(X_test, y_test, test_size=0.5, random_state=42,stratify = y_test)"
   ]
  },
  {
   "cell_type": "code",
   "execution_count": 26,
   "metadata": {
    "scrolled": true
   },
   "outputs": [
    {
     "name": "stdout",
     "output_type": "stream",
     "text": [
      "Количество строк до и после оверсемплинга: 6000\n",
      "Баланс классов train:\n",
      "0    4778\n",
      "1    1222\n",
      "Name: exited, dtype: int64\n",
      "Баланс классов test:\n",
      "0    1593\n",
      "1     407\n",
      "Name: exited, dtype: int64\n",
      "Баланс классов valid:\n",
      "0    1592\n",
      "1     408\n",
      "Name: exited, dtype: int64\n"
     ]
    }
   ],
   "source": [
    "print('Количество строк до и после оверсемплинга:',X_train.shape[0],)\n",
    "print('Баланс классов train:')\n",
    "print(y_train.value_counts())\n",
    "print('Баланс классов test:')\n",
    "print(y_test.value_counts())\n",
    "print('Баланс классов valid:')\n",
    "print(y_valid.value_counts())"
   ]
  },
  {
   "cell_type": "markdown",
   "metadata": {},
   "source": [
    "Уже сейчас мы видим дисбаланс классов. Нулей примерно в 4 раза больше чем единиц"
   ]
  },
  {
   "cell_type": "markdown",
   "metadata": {},
   "source": [
    "Проверим размеры полученных выборок"
   ]
  },
  {
   "cell_type": "code",
   "execution_count": 27,
   "metadata": {
    "scrolled": false
   },
   "outputs": [
    {
     "name": "stdout",
     "output_type": "stream",
     "text": [
      "(10000, 12)\n",
      "(6000, 11)\n",
      "(2000, 11)\n",
      "(2000, 11)\n"
     ]
    }
   ],
   "source": [
    "print(df_ohe.shape)\n",
    "print(X_train.shape)\n",
    "print(X_valid.shape)\n",
    "print(X_test.shape)"
   ]
  },
  {
   "cell_type": "markdown",
   "metadata": {
    "scrolled": true
   },
   "source": [
    "Всё верно, далее можно работать с полученными стообцами в тренировочной выборке"
   ]
  },
  {
   "cell_type": "markdown",
   "metadata": {},
   "source": [
    "Запишем названия числовых столбцов в отдельный массив"
   ]
  },
  {
   "cell_type": "code",
   "execution_count": 28,
   "metadata": {},
   "outputs": [],
   "source": [
    "numeric = ['creditscore','age','tenure','balance','numofprod','salary']"
   ]
  },
  {
   "cell_type": "markdown",
   "metadata": {},
   "source": [
    "Воспользуемся функцией StandartScaller для стандартизации всех предикторов"
   ]
  },
  {
   "cell_type": "code",
   "execution_count": 29,
   "metadata": {},
   "outputs": [
    {
     "data": {
      "text/plain": [
       "StandardScaler()"
      ]
     },
     "execution_count": 29,
     "metadata": {},
     "output_type": "execute_result"
    }
   ],
   "source": [
    "pd.options.mode.chained_assignment = None\n",
    "scaler = StandardScaler()\n",
    "scaler.fit(X_train[numeric])"
   ]
  },
  {
   "cell_type": "code",
   "execution_count": 30,
   "metadata": {},
   "outputs": [],
   "source": [
    "X_train[numeric] = scaler.transform(X_train[numeric])\n",
    "X_valid[numeric] = scaler.transform(X_valid[numeric])\n",
    "X_test[numeric] = scaler.transform(X_test[numeric])"
   ]
  },
  {
   "cell_type": "markdown",
   "metadata": {},
   "source": [
    "## Исследование задачи"
   ]
  },
  {
   "cell_type": "markdown",
   "metadata": {},
   "source": [
    "Создадим функцию для выявления наилучших параметров всех моделей на кросс-валидации."
   ]
  },
  {
   "cell_type": "code",
   "execution_count": 31,
   "metadata": {},
   "outputs": [],
   "source": [
    "def GridSearch (est,params,X_train,y_train):\n",
    "    grid_search_cv_est = GridSearchCV(est,params,cv = 5)\n",
    "    grid_search_cv_est.fit(X_train,y_train)\n",
    "    best_param = grid_search_cv_est.best_params_\n",
    "    best_est_est = grid_search_cv_est.best_estimator_\n",
    "    return best_est_est,best_param"
   ]
  },
  {
   "cell_type": "markdown",
   "metadata": {},
   "source": [
    "Так же создадим функцию для вычисления F1 меры на разных порогах активационной функции. Так же эта функция будет выводить AUC-ROC кривую."
   ]
  },
  {
   "cell_type": "code",
   "execution_count": 32,
   "metadata": {},
   "outputs": [],
   "source": [
    "def F1Roc(best_clf,X_valid,y_valid):\n",
    "    bestF1 = 0\n",
    "    bestthreshold = 0\n",
    "    probabilities_valid = best_clf.predict_proba(X_valid)\n",
    "    probabilities_one_valid = probabilities_valid[:, 1]\n",
    "    for threshold in np.arange(0, 0.55, 0.04):\n",
    "        predicted_valid = probabilities_one_valid > threshold\n",
    "        print(f'На значении: {threshold} F1-мера равна: {f1_score(y_valid,predicted_valid)}')\n",
    "        if f1_score(y_valid,predicted_valid) > bestF1:\n",
    "            bestF1 = round(f1_score(y_valid,predicted_valid),4)\n",
    "            bestthreshold = threshold\n",
    "    print('---')\n",
    "    auc_roc = round(roc_auc_score(y_valid, probabilities_one_valid),3)\n",
    "    print(f'Максимальная F1-мера равна: {bestF1} На пороге равном: {bestthreshold}, ROC-score: {auc_roc}')\n",
    "    fpr, tpr, thresholds = roc_curve(y_valid, probabilities_one_valid)\n",
    "    plt.figure()\n",
    "\n",
    "    plt.plot(fpr, tpr)\n",
    "\n",
    "    # ROC-кривая случайной модели (выглядит как прямая)\n",
    "    plt.plot([0, 1], [0, 1], linestyle='--')\n",
    "\n",
    "    plt.xlim([0.0,1.0])\n",
    "    plt.ylim([0.0,1.0])\n",
    "\n",
    "    plt.xlabel('False Positive Rate')\n",
    "    plt.ylabel('True Positive Rate') \n",
    "    plt.title(\"ROC-кривая\")\n",
    "    \n",
    "    return auc_roc, bestF1, probabilities_one_valid"
   ]
  },
  {
   "cell_type": "markdown",
   "metadata": {},
   "source": [
    "Для классификации используем 3 варианта моделей:\n",
    "\n",
    "1) DecisionTreeClassifier\n",
    "\n",
    "2) LogisticRegression\n",
    "\n",
    "3) RandomForestClassifier\n",
    "\n",
    "Далее посмотрим на метрики каждой из моделей обучив её в трёх случаях:\n",
    "\n",
    "1) Без параметра class_weight\n",
    "\n",
    "2) С параметром class_weight = 'balanced'\n",
    "\n",
    "3) Используя приём upsampled\n",
    "\n",
    "4) Используя приём downsampled\n",
    "\n",
    "Найдём F1-меру в каждом из случаев, построим ROC-AUC кривую и найдём площадь под ней и выберем лучшую модель."
   ]
  },
  {
   "cell_type": "markdown",
   "metadata": {},
   "source": [
    "Обучим решающее дерево без баланса классов"
   ]
  },
  {
   "cell_type": "markdown",
   "metadata": {},
   "source": [
    "### DecisionTreeClassifier no class_weight"
   ]
  },
  {
   "cell_type": "markdown",
   "metadata": {},
   "source": [
    "Здесь и ниже создаём нужную нам модель, создаём словарь с параметрами которые необходимо перебрать с помощью GridSearchCV. Обучаем модель и на кросс-валидации находим оптимальные параметры."
   ]
  },
  {
   "cell_type": "code",
   "execution_count": 33,
   "metadata": {},
   "outputs": [],
   "source": [
    "dtc = DecisionTreeClassifier(criterion = 'gini',random_state = 42)\n",
    "params = {'max_depth': range(1,20)}\n",
    "best_clf_DTC_ncw,best_param = GridSearch(dtc,params,X_train,y_train)"
   ]
  },
  {
   "cell_type": "markdown",
   "metadata": {},
   "source": [
    "Вычисляем значение F1-меры."
   ]
  },
  {
   "cell_type": "code",
   "execution_count": 34,
   "metadata": {},
   "outputs": [
    {
     "name": "stdout",
     "output_type": "stream",
     "text": [
      "F1-мера равна: 0.5528455284552846\n"
     ]
    }
   ],
   "source": [
    "prediction_values = best_clf_DTC_ncw.predict(X_valid)\n",
    "print(f'F1-мера равна: {f1_score(y_valid,prediction_values)}')"
   ]
  },
  {
   "cell_type": "markdown",
   "metadata": {},
   "source": [
    "Варьируя значения порога найдём оптимальное значение на котором F1 максимальна. Построим ROC-кривую и вычислим площадь под ней."
   ]
  },
  {
   "cell_type": "code",
   "execution_count": 35,
   "metadata": {},
   "outputs": [
    {
     "name": "stdout",
     "output_type": "stream",
     "text": [
      "На значении: 0.0 F1-мера равна: 0.33666666666666667\n",
      "На значении: 0.04 F1-мера равна: 0.3730715287517532\n",
      "На значении: 0.08 F1-мера равна: 0.43291995490417134\n",
      "На значении: 0.12 F1-мера равна: 0.5417348608837971\n",
      "На значении: 0.16 F1-мера равна: 0.5919701213818861\n",
      "На значении: 0.2 F1-мера равна: 0.5919701213818861\n",
      "На значении: 0.24 F1-мера равна: 0.5838041431261771\n",
      "На значении: 0.28 F1-мера равна: 0.5828571428571429\n",
      "На значении: 0.32 F1-мера равна: 0.5856481481481481\n",
      "На значении: 0.36 F1-мера равна: 0.5741758241758241\n",
      "На значении: 0.4 F1-мера равна: 0.5843023255813953\n",
      "На значении: 0.44 F1-мера равна: 0.5843023255813953\n",
      "На значении: 0.48 F1-мера равна: 0.5843023255813953\n",
      "На значении: 0.52 F1-мера равна: 0.5306799336650083\n",
      "---\n",
      "Максимальная F1-мера равна: 0.592 На пороге равном: 0.16, ROC-score: 0.844\n"
     ]
    },
    {
     "data": {
      "image/png": "[encoded data removed]",
      "text/plain": [
       "<Figure size 432x288 with 1 Axes>"
      ]
     },
     "metadata": {
      "needs_background": "light"
     },
     "output_type": "display_data"
    }
   ],
   "source": [
    "auc_roc1,medida1,probabilities_one_valid1 = F1Roc(best_clf_DTC_ncw,X_valid,y_valid)"
   ]
  },
  {
   "cell_type": "markdown",
   "metadata": {},
   "source": [
    "Модель уже даёт хорошие метрики, больше тех,чем необходимы нам в задании, но нет предела совершенству, попробуем ещё."
   ]
  },
  {
   "cell_type": "markdown",
   "metadata": {},
   "source": [
    "Обучим RandomForest без баланса классов."
   ]
  },
  {
   "cell_type": "markdown",
   "metadata": {},
   "source": [
    "### RandomForestClassifier no class_weight"
   ]
  },
  {
   "cell_type": "code",
   "execution_count": 36,
   "metadata": {},
   "outputs": [],
   "source": [
    "rfc = RandomForestClassifier(random_state = 42)\n",
    "params = {'criterion':['gini','entropy'],\n",
    "          'max_depth': range(5,15),\n",
    "          'n_estimators': range(5,15)}\n",
    "best_clf_RFC_ncw,best_param = GridSearch(rfc,params,X_train,y_train)"
   ]
  },
  {
   "cell_type": "code",
   "execution_count": 37,
   "metadata": {},
   "outputs": [
    {
     "name": "stdout",
     "output_type": "stream",
     "text": [
      "F1-мера равна: 0.5683563748079877\n"
     ]
    }
   ],
   "source": [
    "prediction_values = best_clf_RFC_ncw.predict(X_valid)\n",
    "print(f'F1-мера равна: {f1_score(y_valid,prediction_values)}')"
   ]
  },
  {
   "cell_type": "code",
   "execution_count": 38,
   "metadata": {
    "scrolled": true
   },
   "outputs": [
    {
     "name": "stdout",
     "output_type": "stream",
     "text": [
      "На значении: 0.0 F1-мера равна: 0.3394342762063228\n",
      "На значении: 0.04 F1-мера равна: 0.3992035838725734\n",
      "На значении: 0.08 F1-мера равна: 0.4539589442815249\n",
      "На значении: 0.12 F1-мера равна: 0.507482993197279\n",
      "На значении: 0.16 F1-мера равна: 0.5505011565150347\n",
      "На значении: 0.2 F1-мера равна: 0.5828274067649609\n",
      "На значении: 0.24 F1-мера равна: 0.6035502958579881\n",
      "На значении: 0.28 F1-мера равна: 0.6221248630887185\n",
      "На значении: 0.32 F1-мера равна: 0.6269368295589989\n",
      "На значении: 0.36 F1-мера равна: 0.6214833759590793\n",
      "На значении: 0.4 F1-мера равна: 0.6147540983606558\n",
      "На значении: 0.44 F1-мера равна: 0.6103151862464185\n",
      "На значении: 0.48 F1-мера равна: 0.580060422960725\n",
      "На значении: 0.52 F1-мера равна: 0.5593750000000001\n",
      "---\n",
      "Максимальная F1-мера равна: 0.6269 На пороге равном: 0.32, ROC-score: 0.865\n"
     ]
    },
    {
     "data": {
      "image/png": "[encoded data removed]",
      "text/plain": [
       "<Figure size 432x288 with 1 Axes>"
      ]
     },
     "metadata": {
      "needs_background": "light"
     },
     "output_type": "display_data"
    }
   ],
   "source": [
    "auc_roc2,medida2,probabilities_one_valid2 = F1Roc(best_clf_RFC_ncw,X_valid,y_valid)"
   ]
  },
  {
   "cell_type": "markdown",
   "metadata": {},
   "source": [
    "Отличные метрики! Может можно ещё лучше? Продолжаем."
   ]
  },
  {
   "cell_type": "markdown",
   "metadata": {},
   "source": [
    "Обучим LogisticRegression без баланса классов."
   ]
  },
  {
   "cell_type": "markdown",
   "metadata": {},
   "source": [
    "### LogisticRegression no class weight"
   ]
  },
  {
   "cell_type": "code",
   "execution_count": 39,
   "metadata": {
    "scrolled": true
   },
   "outputs": [],
   "source": [
    "lrc = LogisticRegression(random_state=42, solver='liblinear')\n",
    "params = {'max_iter': [10,50,100,500,100]}\n",
    "best_clf_lr_ncw,best_param = GridSearch(lrc,params,X_train,y_train)"
   ]
  },
  {
   "cell_type": "code",
   "execution_count": 40,
   "metadata": {
    "scrolled": true
   },
   "outputs": [
    {
     "name": "stdout",
     "output_type": "stream",
     "text": [
      "F1-мера равна: 0.32792792792792796\n"
     ]
    }
   ],
   "source": [
    "prediction_values = best_clf_lr_ncw.predict(X_valid)\n",
    "print(f'F1-мера равна: {f1_score(y_valid,prediction_values)}')"
   ]
  },
  {
   "cell_type": "code",
   "execution_count": 41,
   "metadata": {
    "scrolled": true
   },
   "outputs": [
    {
     "name": "stdout",
     "output_type": "stream",
     "text": [
      "На значении: 0.0 F1-мера равна: 0.3388704318936877\n",
      "На значении: 0.04 F1-мера равна: 0.3535528596187175\n",
      "На значении: 0.08 F1-мера равна: 0.39298245614035093\n",
      "На значении: 0.12 F1-мера равна: 0.43812907045589106\n",
      "На значении: 0.16 F1-мера равна: 0.47612359550561806\n",
      "На значении: 0.2 F1-мера равна: 0.5107084019769358\n",
      "На значении: 0.24 F1-мера равна: 0.516003879728419\n",
      "На значении: 0.28 F1-мера равна: 0.5259668508287293\n",
      "На значении: 0.32 F1-мера равна: 0.5178791615289766\n",
      "На значении: 0.36 F1-мера равна: 0.4925170068027211\n",
      "На значении: 0.4 F1-мера равна: 0.45199409158050224\n",
      "На значении: 0.44 F1-мера равна: 0.39542483660130723\n",
      "На значении: 0.48 F1-мера равна: 0.34494773519163763\n",
      "На значении: 0.52 F1-мера равна: 0.29811320754716986\n",
      "---\n",
      "Максимальная F1-мера равна: 0.526 На пороге равном: 0.28, ROC-score: 0.791\n"
     ]
    },
    {
     "data": {
      "image/png": "[encoded data removed]",
      "text/plain": [
       "<Figure size 432x288 with 1 Axes>"
      ]
     },
     "metadata": {
      "needs_background": "light"
     },
     "output_type": "display_data"
    }
   ],
   "source": [
    "auc_roc3,medida3,probabilities_one_valid3 = F1Roc(best_clf_lr_ncw,X_valid,y_valid)"
   ]
  },
  {
   "cell_type": "markdown",
   "metadata": {},
   "source": [
    "### Подводя итог\n",
    "можно сказать , что самой лучшей моделью без балансировки классов является RandomForest с F1-метрикой равной 0.533 на пороге 0.36 где ROC-метрика равна 0.83"
   ]
  },
  {
   "cell_type": "markdown",
   "metadata": {},
   "source": [
    "Далее необходимо написать 2 функции. Функция с названием upsample будет добавлять элементы в выборку, а функция downsample удалять элементы из выборки"
   ]
  },
  {
   "cell_type": "markdown",
   "metadata": {},
   "source": [
    "Метрики AUC-ROC и F1 ведут себя согласованно. Уменьшается AUC-ROC -> уменьшается F1. Однако, AUC-ROC уменьшается сильно медленнее чем F1"
   ]
  },
  {
   "cell_type": "markdown",
   "metadata": {},
   "source": [
    "## Борьба с дисбалансом"
   ]
  },
  {
   "cell_type": "code",
   "execution_count": 42,
   "metadata": {},
   "outputs": [],
   "source": [
    "def upsample(features, target, repeat):\n",
    "    features_zeros = features[target == 0]\n",
    "    features_ones = features[target == 1]\n",
    "    target_zeros = target[target == 0]\n",
    "    target_ones = target[target == 1]\n",
    "\n",
    "    features_upsampled = pd.concat([features_zeros] + [features_ones] * repeat)\n",
    "    target_upsampled = pd.concat([target_zeros] + [target_ones] * repeat)\n",
    "    \n",
    "    features_upsampled, target_upsampled = shuffle(\n",
    "        features_upsampled, target_upsampled, random_state=12345)\n",
    "    \n",
    "    return features_upsampled, target_upsampled\n",
    "\n",
    "features_upsampled, target_upsampled = upsample(X_train, y_train, 4)"
   ]
  },
  {
   "cell_type": "code",
   "execution_count": 43,
   "metadata": {
    "scrolled": false
   },
   "outputs": [],
   "source": [
    "print('Количество строк до и после оверсемплинга:',X_train.shape[0],\",\", features_upsampled.shape[0])\n",
    "print('Баланс классов до оверсемплинга:')\n",
    "print(target_upsampled.value_counts())\n",
    "print('Баланс классов после оверсемплинга:')\n",
    "print(y_train.value_counts())"
   ]
  },
  {
   "cell_type": "code",
   "execution_count": 45,
   "metadata": {},
   "outputs": [],
   "source": [
    "def downsample(features, target, fraction):\n",
    "    features_zeros = features[target == 0]\n",
    "    features_ones = features[target == 1]\n",
    "    target_zeros = target[target == 0]\n",
    "    target_ones = target[target == 1]\n",
    "\n",
    "    features_downsampled = pd.concat(\n",
    "        [features_zeros.sample(frac=fraction, random_state=12345)] + [features_ones])\n",
    "    target_downsampled = pd.concat(\n",
    "        [target_zeros.sample(frac=fraction, random_state=12345)] + [target_ones])\n",
    "    \n",
    "    features_downsampled, target_downsampled = shuffle(\n",
    "        features_downsampled, target_downsampled, random_state=12345)\n",
    "    \n",
    "    return features_downsampled, target_downsampled\n",
    "\n",
    "features_downsampled, target_downsampled = downsample(X_train, y_train, 0.25)"
   ]
  },
  {
   "cell_type": "code",
   "execution_count": 46,
   "metadata": {
    "scrolled": true
   },
   "outputs": [
    {
     "name": "stdout",
     "output_type": "stream",
     "text": [
      "Количество строк до и после оверсемплинга: 6000 , 9666\n",
      "Баланс классов до андерсемплинга:\n",
      "0    4778\n",
      "1    1222\n",
      "Name: exited, dtype: int64\n",
      "Баланс классов после андерсемплинга:\n",
      "1    1222\n",
      "0    1194\n",
      "Name: exited, dtype: int64\n"
     ]
    }
   ],
   "source": [
    "print('Количество строк до и после оверсемплинга:',X_train.shape[0],\",\", features_upsampled.shape[0])\n",
    "print('Баланс классов до андерсемплинга:')\n",
    "print(y_train.value_counts())\n",
    "print('Баланс классов после андерсемплинга:')\n",
    "print(target_downsampled.value_counts())"
   ]
  },
  {
   "cell_type": "markdown",
   "metadata": {},
   "source": [
    " Дисбаланс практически ушёл."
   ]
  },
  {
   "cell_type": "markdown",
   "metadata": {},
   "source": [
    "С помощью андерсемплинга мы почти убрали дисбаланс классов"
   ]
  },
  {
   "cell_type": "markdown",
   "metadata": {},
   "source": [
    "Теперь обучим DecisionTreeClassifier используя приём downsample"
   ]
  },
  {
   "cell_type": "markdown",
   "metadata": {},
   "source": [
    "### DecisionTreeClassifier downsalpled"
   ]
  },
  {
   "cell_type": "code",
   "execution_count": 47,
   "metadata": {},
   "outputs": [],
   "source": [
    "dtc = DecisionTreeClassifier(random_state = 42)\n",
    "params = {'criterion':['gini','entropy'],\n",
    "          'max_depth': range(1,20)}\n",
    "best_clf_DTC_ds,best_param = GridSearch(dtc,params,features_downsampled,target_downsampled)"
   ]
  },
  {
   "cell_type": "code",
   "execution_count": 48,
   "metadata": {
    "scrolled": true
   },
   "outputs": [
    {
     "name": "stdout",
     "output_type": "stream",
     "text": [
      "F1-мера равна: 0.5770676691729324\n"
     ]
    }
   ],
   "source": [
    "prediction_values = best_clf_DTC_ds.predict(X_valid)\n",
    "print(f'F1-мера равна: {f1_score(y_valid,prediction_values)}')"
   ]
  },
  {
   "cell_type": "code",
   "execution_count": 49,
   "metadata": {
    "scrolled": false
   },
   "outputs": [
    {
     "name": "stdout",
     "output_type": "stream",
     "text": [
      "На значении: 0.0 F1-мера равна: 0.3383333333333333\n",
      "На значении: 0.04 F1-мера равна: 0.3703703703703704\n",
      "На значении: 0.08 F1-мера равна: 0.379746835443038\n",
      "На значении: 0.12 F1-мера равна: 0.3836538461538462\n",
      "На значении: 0.16 F1-мера равна: 0.3836538461538462\n",
      "На значении: 0.2 F1-мера равна: 0.38287638287638287\n",
      "На значении: 0.24 F1-мера равна: 0.5260770975056689\n",
      "На значении: 0.28 F1-мера равна: 0.5260770975056689\n",
      "На значении: 0.32 F1-мера равна: 0.5278637770897833\n",
      "На значении: 0.36 F1-мера равна: 0.5271317829457365\n",
      "На значении: 0.4 F1-мера равна: 0.5222830336200156\n",
      "На значении: 0.44 F1-мера равна: 0.5222830336200156\n",
      "На значении: 0.48 F1-мера равна: 0.528152260111023\n",
      "На значении: 0.52 F1-мера равна: 0.5770676691729324\n",
      "---\n",
      "Максимальная F1-мера равна: 0.5771 На пороге равном: 0.52, ROC-score: 0.832\n"
     ]
    },
    {
     "data": {
      "image/png": "[encoded data removed]",
      "text/plain": [
       "<Figure size 432x288 with 1 Axes>"
      ]
     },
     "metadata": {
      "needs_background": "light"
     },
     "output_type": "display_data"
    }
   ],
   "source": [
    "auc_roc4,medida4,probabilities_one_valid4 = F1Roc(best_clf_DTC_ds,X_valid,y_valid)"
   ]
  },
  {
   "cell_type": "markdown",
   "metadata": {},
   "source": [
    "Модель даёт плохие показатели на F1-мере, но не самые плохие на ROC-score"
   ]
  },
  {
   "cell_type": "markdown",
   "metadata": {},
   "source": [
    "Далее обучим DecisionTreeClassifier используя upsampled"
   ]
  },
  {
   "cell_type": "markdown",
   "metadata": {},
   "source": [
    "### DecisionTreeClassifier upsmapled"
   ]
  },
  {
   "cell_type": "code",
   "execution_count": 50,
   "metadata": {},
   "outputs": [],
   "source": [
    "dtc = DecisionTreeClassifier(random_state = 42)\n",
    "params = {'criterion':['gini','entropy'],\n",
    "          'max_depth': range(1,20)}\n",
    "best_clf_DTC_us,best_param = GridSearch(dtc,params,features_upsampled,target_upsampled)"
   ]
  },
  {
   "cell_type": "code",
   "execution_count": 51,
   "metadata": {},
   "outputs": [
    {
     "name": "stdout",
     "output_type": "stream",
     "text": [
      "F1-мера равна: 0.510948905109489\n"
     ]
    }
   ],
   "source": [
    "prediction_values = best_clf_DTC_us.predict(X_valid)\n",
    "print(f'F1-мера равна: {f1_score(y_valid,prediction_values)}')"
   ]
  },
  {
   "cell_type": "code",
   "execution_count": 52,
   "metadata": {
    "scrolled": true
   },
   "outputs": [
    {
     "name": "stdout",
     "output_type": "stream",
     "text": [
      "На значении: 0.0 F1-мера равна: 0.510948905109489\n",
      "На значении: 0.04 F1-мера равна: 0.510948905109489\n",
      "На значении: 0.08 F1-мера равна: 0.510948905109489\n",
      "На значении: 0.12 F1-мера равна: 0.510948905109489\n",
      "На значении: 0.16 F1-мера равна: 0.510948905109489\n",
      "На значении: 0.2 F1-мера равна: 0.510948905109489\n",
      "На значении: 0.24 F1-мера равна: 0.510948905109489\n",
      "На значении: 0.28 F1-мера равна: 0.510948905109489\n",
      "На значении: 0.32 F1-мера равна: 0.510948905109489\n",
      "На значении: 0.36 F1-мера равна: 0.510948905109489\n",
      "На значении: 0.4 F1-мера равна: 0.510948905109489\n",
      "На значении: 0.44 F1-мера равна: 0.510948905109489\n",
      "На значении: 0.48 F1-мера равна: 0.510948905109489\n",
      "На значении: 0.52 F1-мера равна: 0.510948905109489\n",
      "---\n",
      "Максимальная F1-мера равна: 0.5109 На пороге равном: 0.52, ROC-score: 0.694\n"
     ]
    },
    {
     "data": {
      "image/png": "[encoded data removed]",
      "text/plain": [
       "<Figure size 432x288 with 1 Axes>"
      ]
     },
     "metadata": {
      "needs_background": "light"
     },
     "output_type": "display_data"
    }
   ],
   "source": [
    "auc_roc5,medida5,probabilities_one_valid5 = F1Roc(best_clf_DTC_us,X_valid,y_valid)"
   ]
  },
  {
   "cell_type": "markdown",
   "metadata": {},
   "source": [
    "Ддаа. DecisionTree upsampled нам тут вряд ли поможет "
   ]
  },
  {
   "cell_type": "markdown",
   "metadata": {},
   "source": [
    "Теперь обучим DecisionTreeClassifier используя параметр class_weight = 'balanced'"
   ]
  },
  {
   "cell_type": "markdown",
   "metadata": {},
   "source": [
    "### DecisionTreeClassifier with class_weight balanced"
   ]
  },
  {
   "cell_type": "code",
   "execution_count": 53,
   "metadata": {},
   "outputs": [],
   "source": [
    "dtc = DecisionTreeClassifier(random_state = 42,class_weight = 'balanced')\n",
    "params = {'criterion':['gini','entropy'],\n",
    "          'max_depth': range(1,20)}\n",
    "best_clf_DTC_cwb,best_param = GridSearch(dtc,params,X_train,y_train)"
   ]
  },
  {
   "cell_type": "code",
   "execution_count": 54,
   "metadata": {},
   "outputs": [
    {
     "name": "stdout",
     "output_type": "stream",
     "text": [
      "F1-мера равна: 0.49879518072289153\n"
     ]
    }
   ],
   "source": [
    "prediction_values = best_clf_DTC_cwb.predict(X_valid)\n",
    "print(f'F1-мера равна: {f1_score(y_valid,prediction_values)}')"
   ]
  },
  {
   "cell_type": "code",
   "execution_count": 55,
   "metadata": {
    "scrolled": true
   },
   "outputs": [
    {
     "name": "stdout",
     "output_type": "stream",
     "text": [
      "На значении: 0.0 F1-мера равна: 0.49879518072289153\n",
      "На значении: 0.04 F1-мера равна: 0.49879518072289153\n",
      "На значении: 0.08 F1-мера равна: 0.49879518072289153\n",
      "На значении: 0.12 F1-мера равна: 0.49879518072289153\n",
      "На значении: 0.16 F1-мера равна: 0.49879518072289153\n",
      "На значении: 0.2 F1-мера равна: 0.49879518072289153\n",
      "На значении: 0.24 F1-мера равна: 0.49879518072289153\n",
      "На значении: 0.28 F1-мера равна: 0.49879518072289153\n",
      "На значении: 0.32 F1-мера равна: 0.49879518072289153\n",
      "На значении: 0.36 F1-мера равна: 0.49879518072289153\n",
      "На значении: 0.4 F1-мера равна: 0.49879518072289153\n",
      "На значении: 0.44 F1-мера равна: 0.49879518072289153\n",
      "На значении: 0.48 F1-мера равна: 0.49879518072289153\n",
      "На значении: 0.52 F1-мера равна: 0.49879518072289153\n",
      "---\n",
      "Максимальная F1-мера равна: 0.4988 На пороге равном: 0.0, ROC-score: 0.686\n"
     ]
    },
    {
     "data": {
      "image/png": "[encoded data removed]",
      "text/plain": [
       "<Figure size 432x288 with 1 Axes>"
      ]
     },
     "metadata": {
      "needs_background": "light"
     },
     "output_type": "display_data"
    }
   ],
   "source": [
    "auc_roc6,medida6,probabilities_one_valid6 = F1Roc(best_clf_DTC_cwb,X_valid,y_valid)"
   ]
  },
  {
   "cell_type": "markdown",
   "metadata": {},
   "source": [
    "Плоховата модель. Идём дальше"
   ]
  },
  {
   "cell_type": "markdown",
   "metadata": {},
   "source": [
    "Далее обучим LogisticRegression с балансировкой классов"
   ]
  },
  {
   "cell_type": "markdown",
   "metadata": {},
   "source": [
    "### LogisticRegression with class balanced"
   ]
  },
  {
   "cell_type": "code",
   "execution_count": 56,
   "metadata": {},
   "outputs": [],
   "source": [
    "lrc = LogisticRegression(random_state=42, solver='liblinear', class_weight = 'balanced')\n",
    "params = {'max_iter': [10,50,100,500,100]}\n",
    "best_clf_lr_cwb,best_param = GridSearch(lrc,params,X_train,y_train)"
   ]
  },
  {
   "cell_type": "code",
   "execution_count": 57,
   "metadata": {},
   "outputs": [
    {
     "name": "stdout",
     "output_type": "stream",
     "text": [
      "F1-мера равна: 0.5196581196581197\n"
     ]
    }
   ],
   "source": [
    "prediction_values = best_clf_lr_cwb.predict(X_valid)\n",
    "print(f'F1-мера равна: {f1_score(y_valid,prediction_values)}')"
   ]
  },
  {
   "cell_type": "code",
   "execution_count": 58,
   "metadata": {
    "scrolled": true
   },
   "outputs": [
    {
     "name": "stdout",
     "output_type": "stream",
     "text": [
      "На значении: 0.0 F1-мера равна: 0.3388704318936877\n",
      "На значении: 0.04 F1-мера равна: 0.3388704318936877\n",
      "На значении: 0.08 F1-мера равна: 0.3407098121085595\n",
      "На значении: 0.12 F1-мера равна: 0.34856898761213156\n",
      "На значении: 0.16 F1-мера равна: 0.3617021276595745\n",
      "На значении: 0.2 F1-мера равна: 0.3745318352059925\n",
      "На значении: 0.24 F1-мера равна: 0.387192118226601\n",
      "На значении: 0.28 F1-мера равна: 0.4012671594508976\n",
      "На значении: 0.32 F1-мера равна: 0.428246013667426\n",
      "На значении: 0.36 F1-мера равна: 0.44581280788177335\n",
      "На значении: 0.4 F1-мера равна: 0.4713804713804714\n",
      "На значении: 0.44 F1-мера равна: 0.4955882352941176\n",
      "На значении: 0.48 F1-мера равна: 0.5150284321689683\n",
      "На значении: 0.52 F1-мера равна: 0.520888888888889\n",
      "---\n",
      "Максимальная F1-мера равна: 0.5209 На пороге равном: 0.52, ROC-score: 0.794\n"
     ]
    },
    {
     "data": {
      "image/png": "[encoded data removed]",
      "text/plain": [
       "<Figure size 432x288 with 1 Axes>"
      ]
     },
     "metadata": {
      "needs_background": "light"
     },
     "output_type": "display_data"
    }
   ],
   "source": [
    "auc_roc7,medida7,probabilities_one_valid7 = F1Roc(best_clf_lr_cwb,X_valid,y_valid)"
   ]
  },
  {
   "cell_type": "markdown",
   "metadata": {},
   "source": [
    "Как мы видим, LogisticRegression и с балансировкой классов и без неё даёт результаты сильно хуже чем все остальные модели,поэтому дальше рассматривать LogisticRegression не имеет смысла."
   ]
  },
  {
   "cell_type": "markdown",
   "metadata": {},
   "source": [
    "Теперь обучим 3 вида RandomForest. Первый upsampled"
   ]
  },
  {
   "cell_type": "markdown",
   "metadata": {},
   "source": [
    "### RandomForestClassifier upsampled"
   ]
  },
  {
   "cell_type": "code",
   "execution_count": 59,
   "metadata": {},
   "outputs": [],
   "source": [
    "rfc = RandomForestClassifier(random_state = 42,criterion = 'entropy')\n",
    "params = {'max_depth': range(5,15),\n",
    "          'n_estimators': range(5,15)}\n",
    "best_clf_RFC_us,best_param = GridSearch(rfc,params,features_upsampled,target_upsampled)"
   ]
  },
  {
   "cell_type": "code",
   "execution_count": 60,
   "metadata": {
    "scrolled": true
   },
   "outputs": [
    {
     "name": "stdout",
     "output_type": "stream",
     "text": [
      "F1-мера равна: 0.6129807692307692\n"
     ]
    }
   ],
   "source": [
    "prediction_values = best_clf_RFC_us.predict(X_valid)\n",
    "print(f'F1-мера равна: {f1_score(y_valid,prediction_values)}')"
   ]
  },
  {
   "cell_type": "code",
   "execution_count": 61,
   "metadata": {},
   "outputs": [
    {
     "name": "stdout",
     "output_type": "stream",
     "text": [
      "На значении: 0.0 F1-мера равна: 0.347008547008547\n",
      "На значении: 0.04 F1-мера равна: 0.37794533459000945\n",
      "На значении: 0.08 F1-мера равна: 0.41343126967471144\n",
      "На значении: 0.12 F1-мера равна: 0.44405997693194926\n",
      "На значении: 0.16 F1-мера равна: 0.4716981132075471\n",
      "На значении: 0.2 F1-мера равна: 0.5048143053645117\n",
      "На значении: 0.24 F1-мера равна: 0.5353159851301115\n",
      "На значении: 0.28 F1-мера равна: 0.556003223207091\n",
      "На значении: 0.32 F1-мера равна: 0.5639686684073107\n",
      "На значении: 0.36 F1-мера равна: 0.586337760910816\n",
      "На значении: 0.4 F1-мера равна: 0.6006066734074823\n",
      "На значении: 0.44 F1-мера равна: 0.6065217391304347\n",
      "На значении: 0.48 F1-мера равна: 0.6187717265353418\n",
      "На значении: 0.52 F1-мера равна: 0.6091245376078915\n",
      "---\n",
      "Максимальная F1-мера равна: 0.6188 На пороге равном: 0.48, ROC-score: 0.855\n"
     ]
    },
    {
     "data": {
      "image/png": "[encoded data removed]",
      "text/plain": [
       "<Figure size 432x288 with 1 Axes>"
      ]
     },
     "metadata": {
      "needs_background": "light"
     },
     "output_type": "display_data"
    }
   ],
   "source": [
    "auc_roc8,medida8,probabilities_one_valid8 = F1Roc(best_clf_RFC_us,X_valid,y_valid)"
   ]
  },
  {
   "cell_type": "markdown",
   "metadata": {},
   "source": [
    "Метрики довольно неплохие,посмотрим что будет дальше"
   ]
  },
  {
   "cell_type": "markdown",
   "metadata": {},
   "source": [
    "Теперь downsampled"
   ]
  },
  {
   "cell_type": "markdown",
   "metadata": {},
   "source": [
    "### RandomForestClassifier downsampled"
   ]
  },
  {
   "cell_type": "code",
   "execution_count": 62,
   "metadata": {},
   "outputs": [],
   "source": [
    "rfc = RandomForestClassifier(random_state = 42,criterion = 'entropy')\n",
    "params = {'max_depth': range(5,15),\n",
    "          'n_estimators': range(5,15)}\n",
    "best_clf_RFC_ds,best_param = GridSearch(rfc,params,features_downsampled,target_downsampled)"
   ]
  },
  {
   "cell_type": "code",
   "execution_count": 63,
   "metadata": {},
   "outputs": [
    {
     "name": "stdout",
     "output_type": "stream",
     "text": [
      "F1-мера равна: 0.5913682277318641\n"
     ]
    }
   ],
   "source": [
    "prediction_values = best_clf_RFC_ds.predict(X_valid)\n",
    "print(f'F1-мера равна: {f1_score(y_valid,prediction_values)}')"
   ]
  },
  {
   "cell_type": "code",
   "execution_count": 64,
   "metadata": {},
   "outputs": [
    {
     "name": "stdout",
     "output_type": "stream",
     "text": [
      "На значении: 0.0 F1-мера равна: 0.3388704318936877\n",
      "На значении: 0.04 F1-мера равна: 0.3388704318936877\n",
      "На значении: 0.08 F1-мера равна: 0.3388704318936877\n",
      "На значении: 0.12 F1-мера равна: 0.3425692695214106\n",
      "На значении: 0.16 F1-мера равна: 0.356020942408377\n",
      "На значении: 0.2 F1-мера равна: 0.370336669699727\n",
      "На значении: 0.24 F1-мера равна: 0.3953033268101761\n",
      "На значении: 0.28 F1-мера равна: 0.41850683491062035\n",
      "На значении: 0.32 F1-мера равна: 0.4495412844036697\n",
      "На значении: 0.36 F1-мера равна: 0.47953964194373394\n",
      "На значении: 0.4 F1-мера равна: 0.5161290322580644\n",
      "На значении: 0.44 F1-мера равна: 0.5537974683544304\n",
      "На значении: 0.48 F1-мера равна: 0.5741878841088675\n",
      "На значении: 0.52 F1-мера равна: 0.6009756097560977\n",
      "---\n",
      "Максимальная F1-мера равна: 0.601 На пороге равном: 0.52, ROC-score: 0.863\n"
     ]
    },
    {
     "data": {
      "image/png": "[encoded data removed]",
      "text/plain": [
       "<Figure size 432x288 with 1 Axes>"
      ]
     },
     "metadata": {
      "needs_background": "light"
     },
     "output_type": "display_data"
    }
   ],
   "source": [
    "auc_roc9,medida9,probabilities_one_valid9 = F1Roc(best_clf_RFC_ds,X_valid,y_valid)"
   ]
  },
  {
   "cell_type": "markdown",
   "metadata": {},
   "source": [
    "Метрики получились так себе. Слишком низкое значение F1. Продолжим"
   ]
  },
  {
   "cell_type": "markdown",
   "metadata": {},
   "source": [
    "Осталось последнее RandomForest with class_weight = 'balanced'"
   ]
  },
  {
   "cell_type": "markdown",
   "metadata": {},
   "source": [
    "### RandomForestClassifier class balanced"
   ]
  },
  {
   "cell_type": "code",
   "execution_count": 65,
   "metadata": {},
   "outputs": [],
   "source": [
    "rfc = RandomForestClassifier(random_state = 42,criterion = 'gini',class_weight = 'balanced')\n",
    "params = {'max_depth': range(5,15),\n",
    "          'n_estimators': range(5,15)}\n",
    "best_clf_RFC_wcb,best_param = GridSearch(rfc,params,X_train,y_train)"
   ]
  },
  {
   "cell_type": "code",
   "execution_count": 66,
   "metadata": {},
   "outputs": [
    {
     "name": "stdout",
     "output_type": "stream",
     "text": [
      "F1-мера равна: 0.5962059620596205\n"
     ]
    }
   ],
   "source": [
    "prediction_values = best_clf_RFC_wcb.predict(X_valid)\n",
    "print(f'F1-мера равна: {f1_score(y_valid,prediction_values)}')"
   ]
  },
  {
   "cell_type": "code",
   "execution_count": 67,
   "metadata": {
    "scrolled": false
   },
   "outputs": [
    {
     "name": "stdout",
     "output_type": "stream",
     "text": [
      "На значении: 0.0 F1-мера равна: 0.3676804357694054\n",
      "На значении: 0.04 F1-мера равна: 0.39760239760239763\n",
      "На значении: 0.08 F1-мера равна: 0.43896848137535815\n",
      "На значении: 0.12 F1-мера равна: 0.4748567791215786\n",
      "На значении: 0.16 F1-мера равна: 0.5133381398702235\n",
      "На значении: 0.2 F1-мера равна: 0.5341712490180676\n",
      "На значении: 0.24 F1-мера равна: 0.5577758470894875\n",
      "На значении: 0.28 F1-мера равна: 0.5827814569536424\n",
      "На значении: 0.32 F1-мера равна: 0.5959183673469388\n",
      "На значении: 0.36 F1-мера равна: 0.6039823008849557\n",
      "На значении: 0.4 F1-мера равна: 0.6060606060606061\n",
      "На значении: 0.44 F1-мера равна: 0.6039603960396039\n",
      "На значении: 0.48 F1-мера равна: 0.5966277561608301\n",
      "На значении: 0.52 F1-мера равна: 0.5986206896551723\n",
      "---\n",
      "Максимальная F1-мера равна: 0.6061 На пороге равном: 0.4, ROC-score: 0.849\n"
     ]
    },
    {
     "data": {
      "image/png": "[encoded data removed]",
      "text/plain": [
       "<Figure size 432x288 with 1 Axes>"
      ]
     },
     "metadata": {
      "needs_background": "light"
     },
     "output_type": "display_data"
    }
   ],
   "source": [
    "auc_roc10,medida10,probabilities_one_valid10 = F1Roc(best_clf_RFC_wcb,X_valid,y_valid)"
   ]
  },
  {
   "cell_type": "markdown",
   "metadata": {},
   "source": [
    "### Один график"
   ]
  },
  {
   "cell_type": "markdown",
   "metadata": {},
   "source": [
    "Вот тут метрики уже могут побороться за звание лучших. Надо вывести все модели на одном графике и посмотреть как это выглядит"
   ]
  },
  {
   "cell_type": "code",
   "execution_count": 68,
   "metadata": {},
   "outputs": [],
   "source": [
    "all_models = [probabilities_one_valid1,probabilities_one_valid2,\n",
    "              probabilities_one_valid4,probabilities_one_valid6,\n",
    "              probabilities_one_valid8,probabilities_one_valid9, probabilities_one_valid10]\n",
    "\n",
    "all_names = [f'DecisionTree no class_weight  F1:{medida1}  ROC:{auc_roc1}'\n",
    "         ,f'RandomForest no class_weight  F1:{medida2}  ROC:{auc_roc2}',\n",
    "         f'DecisionTree downsalpled  F1:{medida4}  ROC:{auc_roc4}',\n",
    "         f'DecisionTree class weight balanced  F1:{medida6}  ROC:{auc_roc6}',\n",
    "         f'RandomForest upsampled  F1:{medida8}  ROC:{auc_roc8}',\n",
    "         f'RandomForest downsampled  F1:{medida9}  ROC:{auc_roc9}',\n",
    "         f'RandomForest class balanced  F1:{medida10}  ROC:{auc_roc10}']  \n",
    "\n",
    "def ItogF1Roc(mas,names,y_valid): \n",
    "    plt.figure(figsize=(15, 10))\n",
    "    for X_valid, name in zip(mas, names):\n",
    "            fpr, tpr, thresholds = roc_curve(y_valid,X_valid)\n",
    "            plt.plot(fpr, tpr,label = name )\n",
    "            plt.legend(loc = 'lower right')\n",
    "            plt.plot([0, 1], [0, 1], linestyle='--')\n",
    "            plt.xlim([0.0,1.0])\n",
    "            plt.ylim([0.0,1.0])\n",
    "            plt.xlabel('False Positive Rate')\n",
    "            plt.ylabel('True Positive Rate') \n",
    "            plt.title(\"ROC-кривая\")"
   ]
  },
  {
   "cell_type": "code",
   "execution_count": 69,
   "metadata": {
    "scrolled": false
   },
   "outputs": [
    {
     "data": {
      "image/png": "[encoded data removed]",
      "text/plain": [
       "<Figure size 1080x720 with 1 Axes>"
      ]
     },
     "metadata": {
      "needs_background": "light"
     },
     "output_type": "display_data"
    }
   ],
   "source": [
    "ItogF1Roc(all_models,all_names,y_valid)"
   ]
  },
  {
   "cell_type": "markdown",
   "metadata": {},
   "source": [
    "Ожидалось, что разница будет чуть нагляднее, но ладно, вцелом и так можно выбрать 3 лучших модели исходя из 2ух параметров F1,AUC-ROC. Исходя из комбинации лучших метрик в тройке лидеров остаются:\n",
    "\n",
    "1) RandomForest with class_wegith\n",
    "\n",
    "2) RandomForest without class weight\n",
    "\n",
    "3) RandomForest with upsampled"
   ]
  },
  {
   "cell_type": "markdown",
   "metadata": {},
   "source": [
    "Теперь посмотрим на ROC-AUC трёх лучших моделей."
   ]
  },
  {
   "cell_type": "code",
   "execution_count": 70,
   "metadata": {
    "scrolled": true
   },
   "outputs": [
    {
     "data": {
      "image/png": "[encoded data removed]",
      "text/plain": [
       "<Figure size 1080x720 with 1 Axes>"
      ]
     },
     "metadata": {
      "needs_background": "light"
     },
     "output_type": "display_data"
    }
   ],
   "source": [
    "last_models = [probabilities_one_valid2,probabilities_one_valid8,probabilities_one_valid10]\n",
    "\n",
    "last_names = [f'RandomForest no class_weight  F1:{medida2}  ROC:{auc_roc2}',\n",
    "              f'RandomForest upsampled  F1:{medida8}  ROC:{auc_roc8}',\n",
    "              f'RandomForest class balanced  F1:{medida10}  ROC:{auc_roc10}']\n",
    "\n",
    "\n",
    "ItogF1Roc(last_models,last_names,y_valid)"
   ]
  },
  {
   "cell_type": "markdown",
   "metadata": {},
   "source": [
    "ROC-AUC даже трёх лучших моделей получился малоинформативен так как они очень близки по качеству, хотя например DecisionTree очевидно проигрывает.\n",
    "Удивительно, но получается, что RandomForest без балансировки классов оказалась лучшей моделью. Для полной уверенности протестируем эти 3 модели на тестовых данных."
   ]
  },
  {
   "cell_type": "markdown",
   "metadata": {},
   "source": [
    "## Тестирование модели"
   ]
  },
  {
   "cell_type": "markdown",
   "metadata": {},
   "source": [
    "Проверим на тестовой выборке RandomForestClassifier без балансировки классов с лучшим порогом."
   ]
  },
  {
   "cell_type": "code",
   "execution_count": 71,
   "metadata": {},
   "outputs": [
    {
     "name": "stdout",
     "output_type": "stream",
     "text": [
      "F1-мера равна: 0.6041923551171393\n"
     ]
    }
   ],
   "source": [
    "threshold = 0.32\n",
    "\n",
    "predicted_proba = best_clf_RFC_ncw.predict_proba(X_test)\n",
    "prediction_values = (predicted_proba [:,1] >= threshold).astype('int')\n",
    "print(f'F1-мера равна: {f1_score(y_test,prediction_values)}')"
   ]
  },
  {
   "cell_type": "markdown",
   "metadata": {},
   "source": [
    "Проверим на тестовой выборке RandomForestClassifier с балансировкой классов с помощью class_weight = balanced классов с лучшим порогом."
   ]
  },
  {
   "cell_type": "code",
   "execution_count": 72,
   "metadata": {
    "scrolled": false
   },
   "outputs": [
    {
     "name": "stdout",
     "output_type": "stream",
     "text": [
      "F1-мера равна: 0.5851318944844124\n"
     ]
    }
   ],
   "source": [
    "threshold = 0.4\n",
    "\n",
    "predicted_proba = best_clf_RFC_wcb.predict_proba(X_test)\n",
    "prediction_values = (predicted_proba [:,1] >= threshold).astype('int')\n",
    "print(f'F1-мера равна: {f1_score(y_test,prediction_values)}')"
   ]
  },
  {
   "cell_type": "markdown",
   "metadata": {},
   "source": [
    "Проверим на тестовой выборке DecisionTreeClassifier без балансировки классов с помощью  с лучшим порогом."
   ]
  },
  {
   "cell_type": "code",
   "execution_count": 73,
   "metadata": {
    "scrolled": true
   },
   "outputs": [
    {
     "name": "stdout",
     "output_type": "stream",
     "text": [
      "F1-мера равна: 0.5844004656577416\n"
     ]
    }
   ],
   "source": [
    "threshold = 0.48\n",
    "\n",
    "predicted_proba = best_clf_RFC_us.predict_proba(X_test)\n",
    "prediction_values = (predicted_proba [:,1] >= threshold).astype('int')\n",
    "print(f'F1-мера равна: {f1_score(y_test,prediction_values)}')"
   ]
  },
  {
   "cell_type": "markdown",
   "metadata": {},
   "source": [
    "## Вывод"
   ]
  },
  {
   "cell_type": "markdown",
   "metadata": {},
   "source": [
    "Как следствие, можно сделать вывод, что RandomForestClassifier без балансировки классов в данном случае является лучшей моделью. Удивительно, почему так произошло, но тем не менее модель выдаёт такие данные."
   ]
  }
 ],
 "metadata": {
  "ExecuteTimeLog": [
   {
    "duration": 1040,
    "start_time": "2022-06-14T10:38:07.494Z"
   },
   {
    "duration": 85,
    "start_time": "2022-06-14T10:38:54.546Z"
   },
   {
    "duration": 100,
    "start_time": "2022-06-14T10:38:57.800Z"
   },
   {
    "duration": 30,
    "start_time": "2022-06-14T10:38:59.689Z"
   },
   {
    "duration": 18,
    "start_time": "2022-06-14T10:41:40.396Z"
   },
   {
    "duration": 6,
    "start_time": "2022-06-14T10:41:51.406Z"
   },
   {
    "duration": 30,
    "start_time": "2022-06-14T10:41:54.656Z"
   },
   {
    "duration": 11,
    "start_time": "2022-06-14T10:42:25.984Z"
   },
   {
    "duration": 13,
    "start_time": "2022-06-14T10:42:32.998Z"
   },
   {
    "duration": 13,
    "start_time": "2022-06-14T10:42:37.239Z"
   },
   {
    "duration": 14,
    "start_time": "2022-06-14T10:42:39.275Z"
   },
   {
    "duration": 41,
    "start_time": "2022-06-14T10:42:45.354Z"
   },
   {
    "duration": 4,
    "start_time": "2022-06-14T10:42:45.574Z"
   },
   {
    "duration": 20,
    "start_time": "2022-06-14T10:42:46.243Z"
   },
   {
    "duration": 11,
    "start_time": "2022-06-14T10:45:57.112Z"
   },
   {
    "duration": 3,
    "start_time": "2022-06-14T10:46:06.837Z"
   },
   {
    "duration": 41,
    "start_time": "2022-06-14T10:46:07.128Z"
   },
   {
    "duration": 5,
    "start_time": "2022-06-14T10:46:07.284Z"
   },
   {
    "duration": 11,
    "start_time": "2022-06-14T10:46:07.423Z"
   },
   {
    "duration": 9,
    "start_time": "2022-06-14T10:46:14.742Z"
   },
   {
    "duration": 7,
    "start_time": "2022-06-14T10:46:23.243Z"
   },
   {
    "duration": 28,
    "start_time": "2022-06-14T10:46:26.443Z"
   },
   {
    "duration": 6,
    "start_time": "2022-06-14T10:47:51.482Z"
   },
   {
    "duration": 22,
    "start_time": "2022-06-14T10:47:54.571Z"
   },
   {
    "duration": 24,
    "start_time": "2022-06-14T10:49:16.872Z"
   },
   {
    "duration": 3,
    "start_time": "2022-06-14T10:50:16.777Z"
   },
   {
    "duration": 39,
    "start_time": "2022-06-14T10:50:16.943Z"
   },
   {
    "duration": 5,
    "start_time": "2022-06-14T10:50:17.100Z"
   },
   {
    "duration": 6,
    "start_time": "2022-06-14T10:50:17.338Z"
   },
   {
    "duration": 24,
    "start_time": "2022-06-14T10:50:17.680Z"
   },
   {
    "duration": 11,
    "start_time": "2022-06-14T10:54:25.527Z"
   },
   {
    "duration": 353,
    "start_time": "2022-06-14T10:54:35.318Z"
   },
   {
    "duration": 5,
    "start_time": "2022-06-14T10:54:42.948Z"
   },
   {
    "duration": 6,
    "start_time": "2022-06-14T10:55:16.126Z"
   },
   {
    "duration": 6,
    "start_time": "2022-06-14T10:55:41.871Z"
   },
   {
    "duration": 6,
    "start_time": "2022-06-14T10:55:42.234Z"
   },
   {
    "duration": 7,
    "start_time": "2022-06-14T10:56:07.098Z"
   },
   {
    "duration": 7,
    "start_time": "2022-06-14T10:56:07.392Z"
   },
   {
    "duration": 3,
    "start_time": "2022-06-14T10:56:35.219Z"
   },
   {
    "duration": 4,
    "start_time": "2022-06-14T10:56:43.046Z"
   },
   {
    "duration": 7,
    "start_time": "2022-06-14T10:58:20.945Z"
   },
   {
    "duration": 5,
    "start_time": "2022-06-14T10:58:21.301Z"
   },
   {
    "duration": 3,
    "start_time": "2022-06-14T10:58:21.713Z"
   },
   {
    "duration": 3,
    "start_time": "2022-06-14T10:58:36.644Z"
   },
   {
    "duration": 11,
    "start_time": "2022-06-14T10:58:53.056Z"
   },
   {
    "duration": 19,
    "start_time": "2022-06-14T10:59:01.195Z"
   },
   {
    "duration": 18,
    "start_time": "2022-06-14T10:59:13.370Z"
   },
   {
    "duration": 10,
    "start_time": "2022-06-14T10:59:28.395Z"
   },
   {
    "duration": 3,
    "start_time": "2022-06-14T10:59:43.050Z"
   },
   {
    "duration": 39,
    "start_time": "2022-06-14T10:59:43.176Z"
   },
   {
    "duration": 5,
    "start_time": "2022-06-14T10:59:43.299Z"
   },
   {
    "duration": 6,
    "start_time": "2022-06-14T10:59:43.426Z"
   },
   {
    "duration": 9,
    "start_time": "2022-06-14T10:59:43.574Z"
   },
   {
    "duration": 5,
    "start_time": "2022-06-14T10:59:43.708Z"
   },
   {
    "duration": 7,
    "start_time": "2022-06-14T10:59:43.984Z"
   },
   {
    "duration": 6,
    "start_time": "2022-06-14T10:59:44.279Z"
   },
   {
    "duration": 4,
    "start_time": "2022-06-14T10:59:44.584Z"
   },
   {
    "duration": 8,
    "start_time": "2022-06-14T10:59:45.585Z"
   },
   {
    "duration": 9,
    "start_time": "2022-06-14T11:00:29.272Z"
   },
   {
    "duration": 16,
    "start_time": "2022-06-14T11:00:36.372Z"
   },
   {
    "duration": 5,
    "start_time": "2022-06-14T11:00:47.439Z"
   },
   {
    "duration": 4,
    "start_time": "2022-06-14T11:00:58.882Z"
   },
   {
    "duration": 3,
    "start_time": "2022-06-14T11:01:31.814Z"
   },
   {
    "duration": 8,
    "start_time": "2022-06-14T11:01:32.078Z"
   },
   {
    "duration": 10,
    "start_time": "2022-06-14T11:01:32.306Z"
   },
   {
    "duration": 16,
    "start_time": "2022-06-14T11:02:28.017Z"
   },
   {
    "duration": 11,
    "start_time": "2022-06-14T11:03:33.155Z"
   },
   {
    "duration": 4,
    "start_time": "2022-06-14T11:10:03.488Z"
   },
   {
    "duration": 53,
    "start_time": "2022-06-14T11:10:03.781Z"
   },
   {
    "duration": 5,
    "start_time": "2022-06-14T11:10:03.901Z"
   },
   {
    "duration": 7,
    "start_time": "2022-06-14T11:10:04.091Z"
   },
   {
    "duration": 11,
    "start_time": "2022-06-14T11:10:04.257Z"
   },
   {
    "duration": 6,
    "start_time": "2022-06-14T11:10:04.429Z"
   },
   {
    "duration": 6,
    "start_time": "2022-06-14T11:10:04.586Z"
   },
   {
    "duration": 6,
    "start_time": "2022-06-14T11:10:04.747Z"
   },
   {
    "duration": 3,
    "start_time": "2022-06-14T11:10:04.909Z"
   },
   {
    "duration": 3,
    "start_time": "2022-06-14T11:10:05.088Z"
   },
   {
    "duration": 17,
    "start_time": "2022-06-14T11:10:05.286Z"
   },
   {
    "duration": 6,
    "start_time": "2022-06-14T11:13:26.549Z"
   },
   {
    "duration": 12,
    "start_time": "2022-06-14T11:13:30.284Z"
   },
   {
    "duration": 9,
    "start_time": "2022-06-14T11:13:34.343Z"
   },
   {
    "duration": 5,
    "start_time": "2022-06-14T11:13:37.973Z"
   },
   {
    "duration": 5,
    "start_time": "2022-06-14T11:13:44.421Z"
   },
   {
    "duration": 6,
    "start_time": "2022-06-14T11:13:51.147Z"
   },
   {
    "duration": 18,
    "start_time": "2022-06-14T11:13:56.765Z"
   },
   {
    "duration": 4,
    "start_time": "2022-06-14T11:16:52.249Z"
   },
   {
    "duration": 3,
    "start_time": "2022-06-14T11:17:05.898Z"
   },
   {
    "duration": 40,
    "start_time": "2022-06-14T11:17:06.069Z"
   },
   {
    "duration": 5,
    "start_time": "2022-06-14T11:17:06.349Z"
   },
   {
    "duration": 21,
    "start_time": "2022-06-14T11:17:13.108Z"
   },
   {
    "duration": 5,
    "start_time": "2022-06-14T11:17:28.529Z"
   },
   {
    "duration": 7,
    "start_time": "2022-06-14T11:17:33.078Z"
   },
   {
    "duration": 11,
    "start_time": "2022-06-14T11:17:36.352Z"
   },
   {
    "duration": 12,
    "start_time": "2022-06-14T11:17:41.211Z"
   },
   {
    "duration": 4,
    "start_time": "2022-06-14T11:18:14.146Z"
   },
   {
    "duration": 49,
    "start_time": "2022-06-14T11:18:14.274Z"
   },
   {
    "duration": 7,
    "start_time": "2022-06-14T11:18:14.419Z"
   },
   {
    "duration": 5,
    "start_time": "2022-06-14T11:18:14.826Z"
   },
   {
    "duration": 6,
    "start_time": "2022-06-14T11:18:15.095Z"
   },
   {
    "duration": 10,
    "start_time": "2022-06-14T11:18:15.353Z"
   },
   {
    "duration": 6,
    "start_time": "2022-06-14T11:18:16.169Z"
   },
   {
    "duration": 16,
    "start_time": "2022-06-14T11:18:26.287Z"
   },
   {
    "duration": 8,
    "start_time": "2022-06-14T11:18:43.321Z"
   },
   {
    "duration": 4,
    "start_time": "2022-06-14T11:18:52.435Z"
   },
   {
    "duration": 8,
    "start_time": "2022-06-14T11:18:59.250Z"
   },
   {
    "duration": 17,
    "start_time": "2022-06-14T11:19:22.850Z"
   },
   {
    "duration": 12,
    "start_time": "2022-06-14T11:19:27.250Z"
   },
   {
    "duration": 443,
    "start_time": "2022-06-14T11:19:45.093Z"
   },
   {
    "duration": 4,
    "start_time": "2022-06-14T11:19:53.598Z"
   },
   {
    "duration": 40,
    "start_time": "2022-06-14T11:19:53.734Z"
   },
   {
    "duration": 5,
    "start_time": "2022-06-14T11:19:53.995Z"
   },
   {
    "duration": 5,
    "start_time": "2022-06-14T11:19:54.618Z"
   },
   {
    "duration": 5,
    "start_time": "2022-06-14T11:19:54.914Z"
   },
   {
    "duration": 11,
    "start_time": "2022-06-14T11:19:55.179Z"
   },
   {
    "duration": 13,
    "start_time": "2022-06-14T11:19:55.570Z"
   },
   {
    "duration": 6,
    "start_time": "2022-06-14T11:19:56.035Z"
   },
   {
    "duration": 11,
    "start_time": "2022-06-14T11:19:56.408Z"
   },
   {
    "duration": 6,
    "start_time": "2022-06-14T11:19:56.687Z"
   },
   {
    "duration": 4,
    "start_time": "2022-06-14T11:19:57.035Z"
   },
   {
    "duration": 6,
    "start_time": "2022-06-14T11:20:05.347Z"
   },
   {
    "duration": 4,
    "start_time": "2022-06-14T11:20:15.252Z"
   },
   {
    "duration": 4,
    "start_time": "2022-06-14T11:20:21.506Z"
   },
   {
    "duration": 12,
    "start_time": "2022-06-14T11:20:28.355Z"
   },
   {
    "duration": 7,
    "start_time": "2022-06-14T11:21:33.722Z"
   },
   {
    "duration": 7,
    "start_time": "2022-06-14T11:22:09.089Z"
   },
   {
    "duration": 10,
    "start_time": "2022-06-14T11:23:31.170Z"
   },
   {
    "duration": 7,
    "start_time": "2022-06-14T11:23:44.205Z"
   },
   {
    "duration": 6,
    "start_time": "2022-06-14T11:23:58.531Z"
   },
   {
    "duration": 7,
    "start_time": "2022-06-14T11:25:42.329Z"
   },
   {
    "duration": 4,
    "start_time": "2022-06-14T11:25:58.159Z"
   },
   {
    "duration": 39,
    "start_time": "2022-06-14T11:25:58.305Z"
   },
   {
    "duration": 4,
    "start_time": "2022-06-14T11:25:58.426Z"
   },
   {
    "duration": 5,
    "start_time": "2022-06-14T11:25:58.571Z"
   },
   {
    "duration": 8,
    "start_time": "2022-06-14T11:25:58.703Z"
   },
   {
    "duration": 12,
    "start_time": "2022-06-14T11:25:58.859Z"
   },
   {
    "duration": 15,
    "start_time": "2022-06-14T11:25:59.046Z"
   },
   {
    "duration": 7,
    "start_time": "2022-06-14T11:25:59.279Z"
   },
   {
    "duration": 6,
    "start_time": "2022-06-14T11:25:59.610Z"
   },
   {
    "duration": 6,
    "start_time": "2022-06-14T11:25:59.887Z"
   },
   {
    "duration": 6,
    "start_time": "2022-06-14T11:26:00.217Z"
   },
   {
    "duration": 5,
    "start_time": "2022-06-14T11:26:00.514Z"
   },
   {
    "duration": 12,
    "start_time": "2022-06-14T11:26:01.303Z"
   },
   {
    "duration": 4,
    "start_time": "2022-06-14T11:26:44.982Z"
   },
   {
    "duration": 3,
    "start_time": "2022-06-14T11:26:48.922Z"
   },
   {
    "duration": 42,
    "start_time": "2022-06-14T11:26:49.075Z"
   },
   {
    "duration": 5,
    "start_time": "2022-06-14T11:26:49.211Z"
   },
   {
    "duration": 4,
    "start_time": "2022-06-14T11:26:49.371Z"
   },
   {
    "duration": 6,
    "start_time": "2022-06-14T11:26:49.509Z"
   },
   {
    "duration": 11,
    "start_time": "2022-06-14T11:26:49.658Z"
   },
   {
    "duration": 11,
    "start_time": "2022-06-14T11:26:49.804Z"
   },
   {
    "duration": 7,
    "start_time": "2022-06-14T11:26:49.967Z"
   },
   {
    "duration": 6,
    "start_time": "2022-06-14T11:26:50.124Z"
   },
   {
    "duration": 6,
    "start_time": "2022-06-14T11:26:50.320Z"
   },
   {
    "duration": 6,
    "start_time": "2022-06-14T11:26:50.531Z"
   },
   {
    "duration": 4,
    "start_time": "2022-06-14T11:26:50.863Z"
   },
   {
    "duration": 12,
    "start_time": "2022-06-14T11:26:51.981Z"
   },
   {
    "duration": 4,
    "start_time": "2022-06-14T11:26:52.371Z"
   },
   {
    "duration": 12,
    "start_time": "2022-06-14T11:27:10.214Z"
   },
   {
    "duration": 4,
    "start_time": "2022-06-14T11:27:52.277Z"
   },
   {
    "duration": 38,
    "start_time": "2022-06-14T11:27:52.462Z"
   },
   {
    "duration": 5,
    "start_time": "2022-06-14T11:27:52.583Z"
   },
   {
    "duration": 5,
    "start_time": "2022-06-14T11:27:52.724Z"
   },
   {
    "duration": 5,
    "start_time": "2022-06-14T11:27:52.877Z"
   },
   {
    "duration": 10,
    "start_time": "2022-06-14T11:27:53.275Z"
   },
   {
    "duration": 10,
    "start_time": "2022-06-14T11:27:54.087Z"
   },
   {
    "duration": 8,
    "start_time": "2022-06-14T11:27:57.355Z"
   },
   {
    "duration": 11,
    "start_time": "2022-06-14T11:28:06.090Z"
   },
   {
    "duration": 4,
    "start_time": "2022-06-14T11:28:27.576Z"
   },
   {
    "duration": 376,
    "start_time": "2022-06-14T11:28:28.112Z"
   },
   {
    "duration": 3,
    "start_time": "2022-06-14T11:28:37.590Z"
   },
   {
    "duration": 40,
    "start_time": "2022-06-14T11:28:37.761Z"
   },
   {
    "duration": 4,
    "start_time": "2022-06-14T11:28:37.893Z"
   },
   {
    "duration": 5,
    "start_time": "2022-06-14T11:28:38.064Z"
   },
   {
    "duration": 6,
    "start_time": "2022-06-14T11:28:38.207Z"
   },
   {
    "duration": 10,
    "start_time": "2022-06-14T11:28:38.365Z"
   },
   {
    "duration": 12,
    "start_time": "2022-06-14T11:28:38.520Z"
   },
   {
    "duration": 5,
    "start_time": "2022-06-14T11:28:38.703Z"
   },
   {
    "duration": 8,
    "start_time": "2022-06-14T11:28:39.153Z"
   },
   {
    "duration": 7,
    "start_time": "2022-06-14T11:28:40.073Z"
   },
   {
    "duration": 5,
    "start_time": "2022-06-14T11:28:40.424Z"
   },
   {
    "duration": 5,
    "start_time": "2022-06-14T11:28:40.673Z"
   },
   {
    "duration": 4,
    "start_time": "2022-06-14T11:28:40.859Z"
   },
   {
    "duration": 12,
    "start_time": "2022-06-14T11:28:41.297Z"
   },
   {
    "duration": 5,
    "start_time": "2022-06-14T11:28:46.006Z"
   },
   {
    "duration": 11,
    "start_time": "2022-06-14T11:29:05.418Z"
   },
   {
    "duration": 4,
    "start_time": "2022-06-14T11:29:11.152Z"
   },
   {
    "duration": 7,
    "start_time": "2022-06-14T11:29:11.304Z"
   },
   {
    "duration": 5,
    "start_time": "2022-06-14T11:29:11.474Z"
   },
   {
    "duration": 3,
    "start_time": "2022-06-14T11:29:11.610Z"
   },
   {
    "duration": 13,
    "start_time": "2022-06-14T11:29:11.810Z"
   },
   {
    "duration": 4,
    "start_time": "2022-06-14T11:29:12.172Z"
   },
   {
    "duration": 3,
    "start_time": "2022-06-14T11:29:13.826Z"
   },
   {
    "duration": 18,
    "start_time": "2022-06-14T11:29:14.230Z"
   },
   {
    "duration": 5,
    "start_time": "2022-06-14T11:32:13.246Z"
   },
   {
    "duration": 4,
    "start_time": "2022-06-14T11:32:15.598Z"
   },
   {
    "duration": 5,
    "start_time": "2022-06-14T11:32:21.032Z"
   },
   {
    "duration": 6,
    "start_time": "2022-06-14T11:32:21.226Z"
   },
   {
    "duration": 5,
    "start_time": "2022-06-14T11:32:21.402Z"
   },
   {
    "duration": 4,
    "start_time": "2022-06-14T11:32:21.607Z"
   },
   {
    "duration": 5,
    "start_time": "2022-06-14T11:32:23.345Z"
   },
   {
    "duration": 3,
    "start_time": "2022-06-14T11:32:24.204Z"
   },
   {
    "duration": 16,
    "start_time": "2022-06-14T11:32:24.736Z"
   },
   {
    "duration": 3,
    "start_time": "2022-06-14T11:32:38.124Z"
   },
   {
    "duration": 16,
    "start_time": "2022-06-14T11:33:26.795Z"
   },
   {
    "duration": 2,
    "start_time": "2022-06-14T11:34:35.776Z"
   },
   {
    "duration": 8,
    "start_time": "2022-06-14T11:34:35.972Z"
   },
   {
    "duration": 12,
    "start_time": "2022-06-14T11:34:37.900Z"
   },
   {
    "duration": 2,
    "start_time": "2022-06-14T11:34:45.422Z"
   },
   {
    "duration": 2,
    "start_time": "2022-06-14T11:34:45.578Z"
   },
   {
    "duration": 8,
    "start_time": "2022-06-14T11:34:45.837Z"
   },
   {
    "duration": 14,
    "start_time": "2022-06-14T11:34:46.251Z"
   },
   {
    "duration": 3,
    "start_time": "2022-06-14T11:34:59.527Z"
   },
   {
    "duration": 3,
    "start_time": "2022-06-14T11:34:59.658Z"
   },
   {
    "duration": 8,
    "start_time": "2022-06-14T11:34:59.794Z"
   },
   {
    "duration": 14,
    "start_time": "2022-06-14T11:35:00.076Z"
   },
   {
    "duration": 9,
    "start_time": "2022-06-14T11:35:08.658Z"
   },
   {
    "duration": 13,
    "start_time": "2022-06-14T11:35:11.096Z"
   },
   {
    "duration": 24,
    "start_time": "2022-06-14T11:37:26.495Z"
   },
   {
    "duration": 11,
    "start_time": "2022-06-14T11:37:32.461Z"
   },
   {
    "duration": 11,
    "start_time": "2022-06-14T11:37:35.672Z"
   },
   {
    "duration": 10,
    "start_time": "2022-06-14T11:37:55.563Z"
   },
   {
    "duration": 14,
    "start_time": "2022-06-14T11:37:58.109Z"
   },
   {
    "duration": 14,
    "start_time": "2022-06-14T11:38:02.957Z"
   },
   {
    "duration": 9,
    "start_time": "2022-06-14T11:38:05.162Z"
   },
   {
    "duration": 10,
    "start_time": "2022-06-14T11:38:05.535Z"
   },
   {
    "duration": 13,
    "start_time": "2022-06-14T11:38:06.402Z"
   },
   {
    "duration": 13,
    "start_time": "2022-06-14T11:38:11.950Z"
   },
   {
    "duration": 8,
    "start_time": "2022-06-14T11:38:53.498Z"
   },
   {
    "duration": 23,
    "start_time": "2022-06-14T11:39:34.876Z"
   },
   {
    "duration": 16,
    "start_time": "2022-06-14T11:39:42.026Z"
   },
   {
    "duration": 9,
    "start_time": "2022-06-14T12:15:15.090Z"
   },
   {
    "duration": 3,
    "start_time": "2022-06-14T12:15:30.001Z"
   },
   {
    "duration": 3,
    "start_time": "2022-06-14T12:15:34.395Z"
   },
   {
    "duration": 4,
    "start_time": "2022-06-14T12:16:35.747Z"
   },
   {
    "duration": 25,
    "start_time": "2022-06-14T12:17:20.137Z"
   },
   {
    "duration": 3927,
    "start_time": "2022-06-14T12:17:32.985Z"
   },
   {
    "duration": 4050,
    "start_time": "2022-06-14T12:17:43.741Z"
   },
   {
    "duration": 4164,
    "start_time": "2022-06-14T12:17:59.689Z"
   },
   {
    "duration": 4083,
    "start_time": "2022-06-14T12:18:28.595Z"
   },
   {
    "duration": 3880,
    "start_time": "2022-06-14T12:18:38.647Z"
   },
   {
    "duration": 4,
    "start_time": "2022-06-14T12:20:05.358Z"
   },
   {
    "duration": 3890,
    "start_time": "2022-06-14T12:20:44.479Z"
   },
   {
    "duration": 5,
    "start_time": "2022-06-14T12:20:56.142Z"
   },
   {
    "duration": 8,
    "start_time": "2022-06-14T12:21:17.668Z"
   },
   {
    "duration": 6726,
    "start_time": "2022-06-14T12:21:48.628Z"
   },
   {
    "duration": 7,
    "start_time": "2022-06-14T12:21:56.315Z"
   },
   {
    "duration": 4005,
    "start_time": "2022-06-14T12:22:00.167Z"
   },
   {
    "duration": 8,
    "start_time": "2022-06-14T12:22:04.601Z"
   },
   {
    "duration": 9,
    "start_time": "2022-06-14T12:22:32.207Z"
   },
   {
    "duration": 11,
    "start_time": "2022-06-14T12:22:39.348Z"
   },
   {
    "duration": 4,
    "start_time": "2022-06-14T12:23:01.013Z"
   },
   {
    "duration": 107491,
    "start_time": "2022-06-14T12:24:20.713Z"
   },
   {
    "duration": 13,
    "start_time": "2022-06-14T12:26:10.690Z"
   },
   {
    "duration": 9,
    "start_time": "2022-06-14T12:30:47.726Z"
   },
   {
    "duration": 3,
    "start_time": "2022-06-14T12:30:50.401Z"
   },
   {
    "duration": 9,
    "start_time": "2022-06-14T12:30:52.794Z"
   },
   {
    "duration": 3805,
    "start_time": "2022-06-14T12:31:07.874Z"
   },
   {
    "duration": 4,
    "start_time": "2022-06-14T12:31:33.551Z"
   },
   {
    "duration": 3860,
    "start_time": "2022-06-14T12:31:35.870Z"
   },
   {
    "duration": 6,
    "start_time": "2022-06-14T12:31:41.894Z"
   },
   {
    "duration": 26,
    "start_time": "2022-06-14T12:32:09.276Z"
   },
   {
    "duration": 3,
    "start_time": "2022-06-14T12:32:19.442Z"
   },
   {
    "duration": 26,
    "start_time": "2022-06-14T12:32:21.858Z"
   },
   {
    "duration": 109096,
    "start_time": "2022-06-14T12:32:26.353Z"
   },
   {
    "duration": 6,
    "start_time": "2022-06-14T12:34:17.989Z"
   },
   {
    "duration": 4,
    "start_time": "2022-06-14T12:34:45.439Z"
   },
   {
    "duration": 4046,
    "start_time": "2022-06-14T12:34:47.634Z"
   },
   {
    "duration": 6,
    "start_time": "2022-06-14T12:34:54.123Z"
   },
   {
    "duration": 112494,
    "start_time": "2022-06-14T12:35:56.481Z"
   },
   {
    "duration": 6,
    "start_time": "2022-06-14T12:37:52.861Z"
   },
   {
    "duration": 4,
    "start_time": "2022-06-14T12:38:34.328Z"
   },
   {
    "duration": 49,
    "start_time": "2022-06-14T12:40:05.680Z"
   },
   {
    "duration": 15,
    "start_time": "2022-06-14T12:40:16.544Z"
   },
   {
    "duration": 8829,
    "start_time": "2022-06-14T12:40:45.374Z"
   },
   {
    "duration": 4331,
    "start_time": "2022-06-14T12:42:25.979Z"
   },
   {
    "duration": 3187,
    "start_time": "2022-06-14T12:42:35.780Z"
   },
   {
    "duration": 4476,
    "start_time": "2022-06-14T12:46:51.692Z"
   },
   {
    "duration": 2798,
    "start_time": "2022-06-14T12:47:36.528Z"
   },
   {
    "duration": 1383,
    "start_time": "2022-06-14T12:48:28.108Z"
   },
   {
    "duration": 6983,
    "start_time": "2022-06-14T12:48:48.585Z"
   },
   {
    "duration": 5,
    "start_time": "2022-06-14T12:49:09.113Z"
   },
   {
    "duration": 4,
    "start_time": "2022-06-14T12:52:06.650Z"
   },
   {
    "duration": 3,
    "start_time": "2022-06-14T12:55:50.102Z"
   },
   {
    "duration": 3831,
    "start_time": "2022-06-14T12:55:50.985Z"
   },
   {
    "duration": 9,
    "start_time": "2022-06-14T12:57:00.502Z"
   },
   {
    "duration": 8,
    "start_time": "2022-06-14T12:57:03.405Z"
   },
   {
    "duration": 37,
    "start_time": "2022-06-14T12:58:27.978Z"
   },
   {
    "duration": 4,
    "start_time": "2022-06-14T12:58:51.552Z"
   },
   {
    "duration": 108854,
    "start_time": "2022-06-14T12:59:13.754Z"
   },
   {
    "duration": 12,
    "start_time": "2022-06-14T13:01:16.343Z"
   },
   {
    "duration": 6590,
    "start_time": "2022-06-14T13:01:19.727Z"
   },
   {
    "duration": 8,
    "start_time": "2022-06-14T13:01:47.713Z"
   },
   {
    "duration": 3304,
    "start_time": "2022-06-14T13:03:28.177Z"
   },
   {
    "duration": 15,
    "start_time": "2022-06-14T13:03:52.237Z"
   },
   {
    "duration": 3213,
    "start_time": "2022-06-14T13:04:13.352Z"
   },
   {
    "duration": 5,
    "start_time": "2022-06-14T13:04:19.214Z"
   },
   {
    "duration": 28,
    "start_time": "2022-06-14T13:04:53.992Z"
   },
   {
    "duration": 44,
    "start_time": "2022-06-14T13:05:05.444Z"
   },
   {
    "duration": 26,
    "start_time": "2022-06-14T13:05:14.686Z"
   },
   {
    "duration": 851,
    "start_time": "2022-06-14T13:08:09.624Z"
   },
   {
    "duration": 4682,
    "start_time": "2022-06-14T13:09:40.081Z"
   },
   {
    "duration": 4049,
    "start_time": "2022-06-14T13:10:08.931Z"
   },
   {
    "duration": 8,
    "start_time": "2022-06-14T13:10:15.709Z"
   },
   {
    "duration": 4032,
    "start_time": "2022-06-14T13:10:22.003Z"
   },
   {
    "duration": 7,
    "start_time": "2022-06-14T13:10:26.479Z"
   },
   {
    "duration": 11,
    "start_time": "2022-06-14T13:14:30.697Z"
   },
   {
    "duration": 20,
    "start_time": "2022-06-14T13:14:38.284Z"
   },
   {
    "duration": 354006,
    "start_time": "2022-06-14T13:15:10.830Z"
   },
   {
    "duration": 4,
    "start_time": "2022-06-14T13:21:14.966Z"
   },
   {
    "duration": 14,
    "start_time": "2022-06-14T13:22:19.078Z"
   },
   {
    "duration": 1878,
    "start_time": "2022-06-14T13:22:41.726Z"
   },
   {
    "duration": 7,
    "start_time": "2022-06-14T13:22:44.829Z"
   },
   {
    "duration": 11886,
    "start_time": "2022-06-14T13:23:26.178Z"
   },
   {
    "duration": 9,
    "start_time": "2022-06-14T13:23:39.042Z"
   },
   {
    "duration": 4159,
    "start_time": "2022-06-14T13:24:09.624Z"
   },
   {
    "duration": 8,
    "start_time": "2022-06-14T13:24:16.159Z"
   },
   {
    "duration": 5121,
    "start_time": "2022-06-14T13:24:54.154Z"
   },
   {
    "duration": 5,
    "start_time": "2022-06-14T13:25:02.973Z"
   },
   {
    "duration": 35,
    "start_time": "2022-06-14T13:25:09.552Z"
   },
   {
    "duration": 191,
    "start_time": "2022-06-14T13:25:21.369Z"
   },
   {
    "duration": 6,
    "start_time": "2022-06-14T13:25:22.027Z"
   },
   {
    "duration": 25,
    "start_time": "2022-06-14T13:25:22.429Z"
   },
   {
    "duration": 51,
    "start_time": "2022-06-14T13:25:28.887Z"
   },
   {
    "duration": 24,
    "start_time": "2022-06-14T13:25:36.135Z"
   },
   {
    "duration": 3311,
    "start_time": "2022-06-14T13:26:08.659Z"
   },
   {
    "duration": 6,
    "start_time": "2022-06-14T13:26:12.488Z"
   },
   {
    "duration": 26,
    "start_time": "2022-06-14T13:26:12.964Z"
   },
   {
    "duration": 108762,
    "start_time": "2022-06-14T13:27:02.151Z"
   },
   {
    "duration": 5,
    "start_time": "2022-06-14T13:29:05.016Z"
   },
   {
    "duration": 14,
    "start_time": "2022-06-14T13:29:07.924Z"
   },
   {
    "duration": 14,
    "start_time": "2022-06-14T13:30:10.831Z"
   },
   {
    "duration": 15,
    "start_time": "2022-06-14T13:30:20.803Z"
   },
   {
    "duration": 15,
    "start_time": "2022-06-14T13:30:45.384Z"
   },
   {
    "duration": 10606,
    "start_time": "2022-06-14T13:32:38.795Z"
   },
   {
    "duration": 3,
    "start_time": "2022-06-14T13:32:57.674Z"
   },
   {
    "duration": 12,
    "start_time": "2022-06-14T13:33:00.693Z"
   },
   {
    "duration": 41335,
    "start_time": "2022-06-14T13:33:59.212Z"
   },
   {
    "duration": 4,
    "start_time": "2022-06-14T13:34:44.529Z"
   },
   {
    "duration": 12,
    "start_time": "2022-06-14T13:34:45.379Z"
   },
   {
    "duration": 10,
    "start_time": "2022-06-14T13:35:24.088Z"
   },
   {
    "duration": 7482,
    "start_time": "2022-06-14T13:35:29.461Z"
   },
   {
    "duration": 4,
    "start_time": "2022-06-14T13:35:38.636Z"
   },
   {
    "duration": 11,
    "start_time": "2022-06-14T13:35:39.500Z"
   },
   {
    "duration": 12540,
    "start_time": "2022-06-14T13:36:20.383Z"
   },
   {
    "duration": 4,
    "start_time": "2022-06-14T13:36:35.182Z"
   },
   {
    "duration": 12,
    "start_time": "2022-06-14T13:36:35.906Z"
   },
   {
    "duration": 38450,
    "start_time": "2022-06-14T13:37:20.879Z"
   },
   {
    "duration": 4,
    "start_time": "2022-06-14T13:38:07.194Z"
   },
   {
    "duration": 13,
    "start_time": "2022-06-14T13:38:08.058Z"
   },
   {
    "duration": 48659,
    "start_time": "2022-06-14T13:38:29.096Z"
   },
   {
    "duration": 4,
    "start_time": "2022-06-14T13:39:20.503Z"
   },
   {
    "duration": 19,
    "start_time": "2022-06-14T13:39:21.256Z"
   },
   {
    "duration": 27084,
    "start_time": "2022-06-14T13:39:32.149Z"
   },
   {
    "duration": 3,
    "start_time": "2022-06-14T13:40:00.954Z"
   },
   {
    "duration": 13,
    "start_time": "2022-06-14T13:40:01.589Z"
   },
   {
    "duration": 24370,
    "start_time": "2022-06-14T13:40:05.076Z"
   },
   {
    "duration": 4,
    "start_time": "2022-06-14T13:40:34.373Z"
   },
   {
    "duration": 13,
    "start_time": "2022-06-14T13:40:34.968Z"
   },
   {
    "duration": 1782,
    "start_time": "2022-06-14T13:40:41.520Z"
   },
   {
    "duration": 29934,
    "start_time": "2022-06-14T13:40:51.002Z"
   },
   {
    "duration": 4,
    "start_time": "2022-06-14T13:41:21.884Z"
   },
   {
    "duration": 14,
    "start_time": "2022-06-14T13:41:22.636Z"
   },
   {
    "duration": 17085,
    "start_time": "2022-06-14T13:41:56.483Z"
   },
   {
    "duration": 3,
    "start_time": "2022-06-14T13:42:15.996Z"
   },
   {
    "duration": 11,
    "start_time": "2022-06-14T13:42:16.729Z"
   },
   {
    "duration": 14,
    "start_time": "2022-06-14T13:42:35.524Z"
   },
   {
    "duration": 59943,
    "start_time": "2022-06-14T13:42:40.049Z"
   },
   {
    "duration": 4,
    "start_time": "2022-06-14T13:43:51.414Z"
   },
   {
    "duration": 15,
    "start_time": "2022-06-14T13:43:52.319Z"
   },
   {
    "duration": 99965,
    "start_time": "2022-06-14T13:45:19.071Z"
   },
   {
    "duration": 3,
    "start_time": "2022-06-14T13:47:01.671Z"
   },
   {
    "duration": 15,
    "start_time": "2022-06-14T13:47:02.861Z"
   },
   {
    "duration": 29173,
    "start_time": "2022-06-14T13:47:19.345Z"
   },
   {
    "duration": 0,
    "start_time": "2022-06-14T13:47:48.520Z"
   },
   {
    "duration": 0,
    "start_time": "2022-06-14T13:47:48.522Z"
   },
   {
    "duration": 8,
    "start_time": "2022-06-14T13:48:08.609Z"
   },
   {
    "duration": 4,
    "start_time": "2022-06-14T13:48:21.355Z"
   },
   {
    "duration": 31548,
    "start_time": "2022-06-14T13:48:25.998Z"
   },
   {
    "duration": 5,
    "start_time": "2022-06-14T13:48:59.324Z"
   },
   {
    "duration": 16,
    "start_time": "2022-06-14T13:49:00.333Z"
   },
   {
    "duration": 3,
    "start_time": "2022-06-14T13:49:28.804Z"
   },
   {
    "duration": 5,
    "start_time": "2022-06-14T13:49:57.333Z"
   },
   {
    "duration": 8,
    "start_time": "2022-06-14T14:00:51.682Z"
   },
   {
    "duration": 3,
    "start_time": "2022-06-14T14:00:57.881Z"
   },
   {
    "duration": 941,
    "start_time": "2022-06-14T14:01:26.565Z"
   },
   {
    "duration": 10,
    "start_time": "2022-06-14T14:01:28.829Z"
   },
   {
    "duration": 10,
    "start_time": "2022-06-14T14:04:10.913Z"
   },
   {
    "duration": 3880,
    "start_time": "2022-06-14T14:04:15.873Z"
   },
   {
    "duration": 9,
    "start_time": "2022-06-14T14:04:22.022Z"
   },
   {
    "duration": 5,
    "start_time": "2022-06-14T14:04:22.665Z"
   },
   {
    "duration": 26,
    "start_time": "2022-06-14T14:04:23.494Z"
   },
   {
    "duration": 9,
    "start_time": "2022-06-14T14:07:18.679Z"
   },
   {
    "duration": 4,
    "start_time": "2022-06-14T14:07:23.074Z"
   },
   {
    "duration": 9,
    "start_time": "2022-06-14T14:07:26.044Z"
   },
   {
    "duration": 4,
    "start_time": "2022-06-14T14:07:44.171Z"
   },
   {
    "duration": 6,
    "start_time": "2022-06-14T14:07:48.471Z"
   },
   {
    "duration": 4,
    "start_time": "2022-06-14T14:08:01.861Z"
   },
   {
    "duration": 10,
    "start_time": "2022-06-14T14:08:35.435Z"
   },
   {
    "duration": 4,
    "start_time": "2022-06-14T14:08:49.946Z"
   },
   {
    "duration": 413,
    "start_time": "2022-06-14T14:09:46.778Z"
   },
   {
    "duration": 129,
    "start_time": "2022-06-14T14:09:50.209Z"
   },
   {
    "duration": 19,
    "start_time": "2022-06-14T14:16:13.834Z"
   },
   {
    "duration": 105274,
    "start_time": "2022-06-14T14:16:17.852Z"
   },
   {
    "duration": 4,
    "start_time": "2022-06-14T14:18:14.780Z"
   },
   {
    "duration": 15,
    "start_time": "2022-06-14T14:18:16.122Z"
   },
   {
    "duration": 10,
    "start_time": "2022-06-14T14:18:16.931Z"
   },
   {
    "duration": 24,
    "start_time": "2022-06-14T14:18:17.689Z"
   },
   {
    "duration": 6,
    "start_time": "2022-06-14T14:18:20.511Z"
   },
   {
    "duration": 123,
    "start_time": "2022-06-14T14:18:20.945Z"
   },
   {
    "duration": 10,
    "start_time": "2022-06-14T14:36:20.982Z"
   },
   {
    "duration": 3544,
    "start_time": "2022-06-14T14:36:25.223Z"
   },
   {
    "duration": 16,
    "start_time": "2022-06-14T14:36:30.077Z"
   },
   {
    "duration": 6,
    "start_time": "2022-06-14T14:36:32.322Z"
   },
   {
    "duration": 4,
    "start_time": "2022-06-14T14:36:50.548Z"
   },
   {
    "duration": 139,
    "start_time": "2022-06-14T14:36:53.335Z"
   },
   {
    "duration": 1640,
    "start_time": "2022-06-14T14:41:26.517Z"
   },
   {
    "duration": 17,
    "start_time": "2022-06-14T14:41:35.262Z"
   },
   {
    "duration": 9,
    "start_time": "2022-06-14T14:41:48.844Z"
   },
   {
    "duration": 10,
    "start_time": "2022-06-14T14:48:49.139Z"
   },
   {
    "duration": 1912,
    "start_time": "2022-06-14T14:48:53.123Z"
   },
   {
    "duration": 7,
    "start_time": "2022-06-14T14:50:30.789Z"
   },
   {
    "duration": 7,
    "start_time": "2022-06-14T14:51:01.591Z"
   },
   {
    "duration": 6,
    "start_time": "2022-06-14T14:51:02.099Z"
   },
   {
    "duration": 26,
    "start_time": "2022-06-14T14:51:02.712Z"
   },
   {
    "duration": 4,
    "start_time": "2022-06-14T14:51:04.826Z"
   },
   {
    "duration": 119,
    "start_time": "2022-06-14T14:51:05.193Z"
   },
   {
    "duration": 11,
    "start_time": "2022-06-14T14:57:27.501Z"
   },
   {
    "duration": 6748,
    "start_time": "2022-06-14T14:57:30.742Z"
   },
   {
    "duration": 7,
    "start_time": "2022-06-14T14:59:40.285Z"
   },
   {
    "duration": 10,
    "start_time": "2022-06-14T14:59:47.363Z"
   },
   {
    "duration": 24,
    "start_time": "2022-06-14T14:59:53.819Z"
   },
   {
    "duration": 6820,
    "start_time": "2022-06-14T15:00:14.378Z"
   },
   {
    "duration": 8,
    "start_time": "2022-06-14T15:01:03.545Z"
   },
   {
    "duration": 5,
    "start_time": "2022-06-14T15:01:04.004Z"
   },
   {
    "duration": 24,
    "start_time": "2022-06-14T15:01:04.418Z"
   },
   {
    "duration": 4,
    "start_time": "2022-06-14T15:01:06.228Z"
   },
   {
    "duration": 111,
    "start_time": "2022-06-14T15:01:06.738Z"
   },
   {
    "duration": 10,
    "start_time": "2022-06-14T15:01:44.989Z"
   },
   {
    "duration": 3953,
    "start_time": "2022-06-14T15:01:52.896Z"
   },
   {
    "duration": 9,
    "start_time": "2022-06-14T15:02:06.680Z"
   },
   {
    "duration": 5,
    "start_time": "2022-06-14T15:02:07.199Z"
   },
   {
    "duration": 24,
    "start_time": "2022-06-14T15:02:07.608Z"
   },
   {
    "duration": 5,
    "start_time": "2022-06-14T15:03:19.568Z"
   },
   {
    "duration": 49,
    "start_time": "2022-06-14T15:03:19.719Z"
   },
   {
    "duration": 4,
    "start_time": "2022-06-14T15:03:20.210Z"
   },
   {
    "duration": 5,
    "start_time": "2022-06-14T15:03:20.366Z"
   },
   {
    "duration": 5,
    "start_time": "2022-06-14T15:03:20.512Z"
   },
   {
    "duration": 11,
    "start_time": "2022-06-14T15:03:20.658Z"
   },
   {
    "duration": 4,
    "start_time": "2022-06-14T15:03:20.802Z"
   },
   {
    "duration": 6,
    "start_time": "2022-06-14T15:03:20.946Z"
   },
   {
    "duration": 5,
    "start_time": "2022-06-14T15:03:21.093Z"
   },
   {
    "duration": 5,
    "start_time": "2022-06-14T15:03:21.239Z"
   },
   {
    "duration": 5,
    "start_time": "2022-06-14T15:03:21.385Z"
   },
   {
    "duration": 4,
    "start_time": "2022-06-14T15:03:21.541Z"
   },
   {
    "duration": 5,
    "start_time": "2022-06-14T15:03:21.822Z"
   },
   {
    "duration": 3,
    "start_time": "2022-06-14T15:03:21.961Z"
   },
   {
    "duration": 3,
    "start_time": "2022-06-14T15:03:22.107Z"
   },
   {
    "duration": 10,
    "start_time": "2022-06-14T15:03:22.273Z"
   },
   {
    "duration": 24,
    "start_time": "2022-06-14T15:03:22.633Z"
   },
   {
    "duration": 3,
    "start_time": "2022-06-14T15:03:23.393Z"
   },
   {
    "duration": 3858,
    "start_time": "2022-06-14T15:03:24.322Z"
   },
   {
    "duration": 7,
    "start_time": "2022-06-14T15:03:28.182Z"
   },
   {
    "duration": 6,
    "start_time": "2022-06-14T15:03:28.191Z"
   },
   {
    "duration": 29,
    "start_time": "2022-06-14T15:03:28.199Z"
   },
   {
    "duration": 4,
    "start_time": "2022-06-14T15:03:28.230Z"
   },
   {
    "duration": 138,
    "start_time": "2022-06-14T15:03:28.235Z"
   },
   {
    "duration": 108620,
    "start_time": "2022-06-14T15:03:31.441Z"
   },
   {
    "duration": 4,
    "start_time": "2022-06-14T15:05:42.570Z"
   },
   {
    "duration": 13,
    "start_time": "2022-06-14T15:05:43.171Z"
   },
   {
    "duration": 11,
    "start_time": "2022-06-14T15:05:43.640Z"
   },
   {
    "duration": 24,
    "start_time": "2022-06-14T15:05:44.244Z"
   },
   {
    "duration": 4,
    "start_time": "2022-06-14T15:05:44.800Z"
   },
   {
    "duration": 122,
    "start_time": "2022-06-14T15:05:45.299Z"
   },
   {
    "duration": 3004,
    "start_time": "2022-06-14T15:05:47.061Z"
   },
   {
    "duration": 10,
    "start_time": "2022-06-14T15:05:50.068Z"
   },
   {
    "duration": 6,
    "start_time": "2022-06-14T15:06:07.941Z"
   },
   {
    "duration": 29,
    "start_time": "2022-06-14T15:06:08.138Z"
   },
   {
    "duration": 5,
    "start_time": "2022-06-14T15:06:08.495Z"
   },
   {
    "duration": 146,
    "start_time": "2022-06-14T15:06:08.896Z"
   },
   {
    "duration": 13,
    "start_time": "2022-06-14T15:06:10.730Z"
   },
   {
    "duration": 12,
    "start_time": "2022-06-14T15:06:11.257Z"
   },
   {
    "duration": 1741,
    "start_time": "2022-06-14T15:06:13.374Z"
   },
   {
    "duration": 7,
    "start_time": "2022-06-14T15:06:20.936Z"
   },
   {
    "duration": 5,
    "start_time": "2022-06-14T15:06:21.346Z"
   },
   {
    "duration": 24,
    "start_time": "2022-06-14T15:06:21.744Z"
   },
   {
    "duration": 5,
    "start_time": "2022-06-14T15:06:22.219Z"
   },
   {
    "duration": 112,
    "start_time": "2022-06-14T15:06:22.743Z"
   },
   {
    "duration": 6514,
    "start_time": "2022-06-14T15:06:25.699Z"
   },
   {
    "duration": 7,
    "start_time": "2022-06-14T15:06:42.386Z"
   },
   {
    "duration": 6,
    "start_time": "2022-06-14T15:06:42.765Z"
   },
   {
    "duration": 23,
    "start_time": "2022-06-14T15:06:43.072Z"
   },
   {
    "duration": 5,
    "start_time": "2022-06-14T15:06:43.474Z"
   },
   {
    "duration": 117,
    "start_time": "2022-06-14T15:06:44.011Z"
   },
   {
    "duration": 4133,
    "start_time": "2022-06-14T15:07:39.804Z"
   },
   {
    "duration": 9,
    "start_time": "2022-06-14T15:08:01.867Z"
   },
   {
    "duration": 6,
    "start_time": "2022-06-14T15:08:02.381Z"
   },
   {
    "duration": 25,
    "start_time": "2022-06-14T15:08:02.709Z"
   },
   {
    "duration": 122,
    "start_time": "2022-06-14T15:08:17.153Z"
   },
   {
    "duration": 5,
    "start_time": "2022-06-14T15:08:19.797Z"
   },
   {
    "duration": 112,
    "start_time": "2022-06-14T15:08:20.242Z"
   },
   {
    "duration": 10,
    "start_time": "2022-06-14T15:10:06.215Z"
   },
   {
    "duration": 3534,
    "start_time": "2022-06-14T15:10:11.441Z"
   },
   {
    "duration": 6,
    "start_time": "2022-06-14T15:10:24.487Z"
   },
   {
    "duration": 25,
    "start_time": "2022-06-14T15:10:25.214Z"
   },
   {
    "duration": 4,
    "start_time": "2022-06-14T15:10:26.843Z"
   },
   {
    "duration": 116,
    "start_time": "2022-06-14T15:10:27.479Z"
   },
   {
    "duration": 11,
    "start_time": "2022-06-14T15:10:42.520Z"
   },
   {
    "duration": 9,
    "start_time": "2022-06-14T15:11:08.649Z"
   },
   {
    "duration": 22448,
    "start_time": "2022-06-14T15:11:12.296Z"
   },
   {
    "duration": 4,
    "start_time": "2022-06-14T15:13:39.675Z"
   },
   {
    "duration": 13,
    "start_time": "2022-06-14T15:13:40.342Z"
   },
   {
    "duration": 14,
    "start_time": "2022-06-14T15:14:06.666Z"
   },
   {
    "duration": 12,
    "start_time": "2022-06-14T15:14:07.126Z"
   },
   {
    "duration": 26,
    "start_time": "2022-06-14T15:14:08.704Z"
   },
   {
    "duration": 5,
    "start_time": "2022-06-14T15:14:10.861Z"
   },
   {
    "duration": 125,
    "start_time": "2022-06-14T15:14:11.844Z"
   },
   {
    "duration": 10,
    "start_time": "2022-06-14T15:15:23.769Z"
   },
   {
    "duration": 7246,
    "start_time": "2022-06-14T15:15:27.438Z"
   },
   {
    "duration": 4,
    "start_time": "2022-06-14T15:15:35.793Z"
   },
   {
    "duration": 11,
    "start_time": "2022-06-14T15:15:36.493Z"
   },
   {
    "duration": 4,
    "start_time": "2022-06-14T15:16:03.117Z"
   },
   {
    "duration": 12,
    "start_time": "2022-06-14T15:16:03.344Z"
   },
   {
    "duration": 12,
    "start_time": "2022-06-14T15:16:03.585Z"
   },
   {
    "duration": 25,
    "start_time": "2022-06-14T15:16:03.941Z"
   },
   {
    "duration": 4,
    "start_time": "2022-06-14T15:16:04.404Z"
   },
   {
    "duration": 109,
    "start_time": "2022-06-14T15:16:05.710Z"
   },
   {
    "duration": 28919,
    "start_time": "2022-06-14T15:16:52.188Z"
   },
   {
    "duration": 4,
    "start_time": "2022-06-14T15:17:23.151Z"
   },
   {
    "duration": 12,
    "start_time": "2022-06-14T15:17:23.888Z"
   },
   {
    "duration": 14,
    "start_time": "2022-06-14T15:17:51.874Z"
   },
   {
    "duration": 11,
    "start_time": "2022-06-14T15:17:52.337Z"
   },
   {
    "duration": 27,
    "start_time": "2022-06-14T15:17:52.941Z"
   },
   {
    "duration": 5,
    "start_time": "2022-06-14T15:17:54.979Z"
   },
   {
    "duration": 121,
    "start_time": "2022-06-14T15:17:55.442Z"
   },
   {
    "duration": 10,
    "start_time": "2022-06-14T19:52:55.953Z"
   },
   {
    "duration": 8,
    "start_time": "2022-06-14T19:53:45.022Z"
   },
   {
    "duration": 44,
    "start_time": "2022-06-14T19:54:17.818Z"
   },
   {
    "duration": 1575,
    "start_time": "2022-06-14T19:54:24.771Z"
   },
   {
    "duration": 104,
    "start_time": "2022-06-14T19:54:27.146Z"
   },
   {
    "duration": 6,
    "start_time": "2022-06-14T19:54:27.319Z"
   },
   {
    "duration": 5,
    "start_time": "2022-06-14T19:54:27.480Z"
   },
   {
    "duration": 12,
    "start_time": "2022-06-14T19:54:27.810Z"
   },
   {
    "duration": 12,
    "start_time": "2022-06-14T19:54:27.962Z"
   },
   {
    "duration": 4,
    "start_time": "2022-06-14T19:54:28.119Z"
   },
   {
    "duration": 7,
    "start_time": "2022-06-14T19:54:28.259Z"
   },
   {
    "duration": 6,
    "start_time": "2022-06-14T19:54:28.419Z"
   },
   {
    "duration": 6,
    "start_time": "2022-06-14T19:54:28.553Z"
   },
   {
    "duration": 11,
    "start_time": "2022-06-14T19:54:28.711Z"
   },
   {
    "duration": 4,
    "start_time": "2022-06-14T19:54:28.837Z"
   },
   {
    "duration": 5,
    "start_time": "2022-06-14T19:54:29.154Z"
   },
   {
    "duration": 3,
    "start_time": "2022-06-14T19:54:29.569Z"
   },
   {
    "duration": 3,
    "start_time": "2022-06-14T19:54:29.744Z"
   },
   {
    "duration": 12,
    "start_time": "2022-06-14T19:54:29.913Z"
   },
   {
    "duration": 35,
    "start_time": "2022-06-14T19:54:30.598Z"
   },
   {
    "duration": 6,
    "start_time": "2022-06-14T19:54:32.089Z"
   },
   {
    "duration": 3444,
    "start_time": "2022-06-14T19:54:37.350Z"
   },
   {
    "duration": 291,
    "start_time": "2022-06-14T19:54:54.962Z"
   },
   {
    "duration": 26,
    "start_time": "2022-06-14T19:56:39.715Z"
   },
   {
    "duration": 25,
    "start_time": "2022-06-14T19:56:44.233Z"
   },
   {
    "duration": 7,
    "start_time": "2022-06-14T19:57:00.761Z"
   },
   {
    "duration": 2596,
    "start_time": "2022-06-14T19:57:03.121Z"
   },
   {
    "duration": 283,
    "start_time": "2022-06-14T19:57:09.562Z"
   },
   {
    "duration": 1649,
    "start_time": "2022-06-16T06:35:43.963Z"
   },
   {
    "duration": 115,
    "start_time": "2022-06-16T06:35:45.614Z"
   },
   {
    "duration": 6,
    "start_time": "2022-06-16T06:35:46.453Z"
   },
   {
    "duration": 4,
    "start_time": "2022-06-16T06:35:46.652Z"
   },
   {
    "duration": 11,
    "start_time": "2022-06-16T06:35:46.856Z"
   },
   {
    "duration": 11,
    "start_time": "2022-06-16T06:35:47.054Z"
   },
   {
    "duration": 5,
    "start_time": "2022-06-16T06:35:47.249Z"
   },
   {
    "duration": 7,
    "start_time": "2022-06-16T06:35:47.447Z"
   },
   {
    "duration": 11,
    "start_time": "2022-06-16T06:35:47.656Z"
   },
   {
    "duration": 9,
    "start_time": "2022-06-16T06:35:47.860Z"
   },
   {
    "duration": 6,
    "start_time": "2022-06-16T06:35:48.018Z"
   },
   {
    "duration": 5,
    "start_time": "2022-06-16T06:35:48.317Z"
   },
   {
    "duration": 7,
    "start_time": "2022-06-16T06:35:48.854Z"
   },
   {
    "duration": 3,
    "start_time": "2022-06-16T06:35:49.209Z"
   },
   {
    "duration": 9,
    "start_time": "2022-06-16T06:35:49.425Z"
   },
   {
    "duration": 10,
    "start_time": "2022-06-16T06:35:49.684Z"
   },
   {
    "duration": 38,
    "start_time": "2022-06-16T06:35:50.622Z"
   },
   {
    "duration": 6,
    "start_time": "2022-06-16T06:36:50.147Z"
   },
   {
    "duration": 48,
    "start_time": "2022-06-16T06:36:51.164Z"
   },
   {
    "duration": 9,
    "start_time": "2022-06-16T06:36:51.352Z"
   },
   {
    "duration": 9,
    "start_time": "2022-06-16T06:36:51.524Z"
   },
   {
    "duration": 7,
    "start_time": "2022-06-16T06:36:51.695Z"
   },
   {
    "duration": 14,
    "start_time": "2022-06-16T06:36:51.818Z"
   },
   {
    "duration": 5,
    "start_time": "2022-06-16T06:36:51.921Z"
   },
   {
    "duration": 7,
    "start_time": "2022-06-16T06:36:52.118Z"
   },
   {
    "duration": 10,
    "start_time": "2022-06-16T06:36:52.391Z"
   },
   {
    "duration": 11,
    "start_time": "2022-06-16T06:36:52.620Z"
   },
   {
    "duration": 7,
    "start_time": "2022-06-16T06:36:52.798Z"
   },
   {
    "duration": 5,
    "start_time": "2022-06-16T06:36:53.015Z"
   },
   {
    "duration": 23,
    "start_time": "2022-06-16T06:36:54.477Z"
   },
   {
    "duration": 3,
    "start_time": "2022-06-16T06:36:54.796Z"
   },
   {
    "duration": 5,
    "start_time": "2022-06-16T06:36:55.376Z"
   },
   {
    "duration": 15,
    "start_time": "2022-06-16T06:36:55.572Z"
   },
   {
    "duration": 36,
    "start_time": "2022-06-16T06:36:56.072Z"
   },
   {
    "duration": 55,
    "start_time": "2022-06-16T06:37:13.866Z"
   },
   {
    "duration": 6,
    "start_time": "2022-06-16T06:38:25.019Z"
   },
   {
    "duration": 5,
    "start_time": "2022-06-16T06:39:33.853Z"
   },
   {
    "duration": 8,
    "start_time": "2022-06-16T06:42:05.922Z"
   },
   {
    "duration": 19,
    "start_time": "2022-06-16T06:46:08.015Z"
   },
   {
    "duration": 8,
    "start_time": "2022-06-16T06:46:31.154Z"
   },
   {
    "duration": 1552,
    "start_time": "2022-06-16T09:09:57.360Z"
   },
   {
    "duration": 84,
    "start_time": "2022-06-16T09:09:58.915Z"
   },
   {
    "duration": 6,
    "start_time": "2022-06-16T09:09:59.002Z"
   },
   {
    "duration": 5,
    "start_time": "2022-06-16T09:09:59.183Z"
   },
   {
    "duration": 8,
    "start_time": "2022-06-16T09:09:59.647Z"
   },
   {
    "duration": 15,
    "start_time": "2022-06-16T09:10:00.117Z"
   },
   {
    "duration": 4,
    "start_time": "2022-06-16T09:10:00.787Z"
   },
   {
    "duration": 5,
    "start_time": "2022-06-16T09:10:33.815Z"
   },
   {
    "duration": 6,
    "start_time": "2022-06-16T09:11:06.787Z"
   },
   {
    "duration": 8,
    "start_time": "2022-06-16T09:11:22.639Z"
   },
   {
    "duration": 6,
    "start_time": "2022-06-16T09:11:23.010Z"
   },
   {
    "duration": 5,
    "start_time": "2022-06-16T09:11:36.825Z"
   },
   {
    "duration": 3,
    "start_time": "2022-06-16T09:13:00.321Z"
   },
   {
    "duration": 10,
    "start_time": "2022-06-16T09:13:23.004Z"
   },
   {
    "duration": 23,
    "start_time": "2022-06-16T09:13:36.556Z"
   },
   {
    "duration": 3,
    "start_time": "2022-06-16T09:30:23.112Z"
   },
   {
    "duration": 3,
    "start_time": "2022-06-16T09:31:38.847Z"
   },
   {
    "duration": 5,
    "start_time": "2022-06-16T09:35:41.229Z"
   },
   {
    "duration": 5,
    "start_time": "2022-06-16T09:35:46.749Z"
   },
   {
    "duration": 3748,
    "start_time": "2022-06-16T09:36:31.041Z"
   },
   {
    "duration": 7,
    "start_time": "2022-06-16T09:36:35.362Z"
   },
   {
    "duration": 160,
    "start_time": "2022-06-16T09:36:36.150Z"
   },
   {
    "duration": 105354,
    "start_time": "2022-06-16T09:36:55.219Z"
   },
   {
    "duration": 12,
    "start_time": "2022-06-16T09:42:29.124Z"
   },
   {
    "duration": 105195,
    "start_time": "2022-06-16T09:42:41.899Z"
   },
   {
    "duration": 13,
    "start_time": "2022-06-16T09:44:41.365Z"
   },
   {
    "duration": 174,
    "start_time": "2022-06-16T09:44:42.476Z"
   },
   {
    "duration": 7,
    "start_time": "2022-06-16T09:47:13.140Z"
   },
   {
    "duration": 3665,
    "start_time": "2022-06-16T09:47:15.428Z"
   },
   {
    "duration": 8,
    "start_time": "2022-06-16T09:47:19.627Z"
   },
   {
    "duration": 162,
    "start_time": "2022-06-16T09:47:20.611Z"
   },
   {
    "duration": 25,
    "start_time": "2022-06-16T09:47:43.697Z"
   },
   {
    "duration": 5,
    "start_time": "2022-06-16T09:48:41.333Z"
   },
   {
    "duration": 3797,
    "start_time": "2022-06-16T09:48:42.363Z"
   },
   {
    "duration": 7,
    "start_time": "2022-06-16T09:48:47.025Z"
   },
   {
    "duration": 152,
    "start_time": "2022-06-16T09:48:47.470Z"
   },
   {
    "duration": 107121,
    "start_time": "2022-06-16T09:49:42.106Z"
   },
   {
    "duration": 17,
    "start_time": "2022-06-16T09:52:10.331Z"
   },
   {
    "duration": 180,
    "start_time": "2022-06-16T09:52:11.854Z"
   },
   {
    "duration": 3852,
    "start_time": "2022-06-16T09:52:17.375Z"
   },
   {
    "duration": 10,
    "start_time": "2022-06-16T09:52:25.352Z"
   },
   {
    "duration": 317,
    "start_time": "2022-06-16T09:52:25.778Z"
   },
   {
    "duration": 142,
    "start_time": "2022-06-16T09:53:07.401Z"
   },
   {
    "duration": 4,
    "start_time": "2022-06-16T09:53:31.918Z"
   },
   {
    "duration": 18,
    "start_time": "2022-06-16T09:53:38.818Z"
   },
   {
    "duration": 11,
    "start_time": "2022-06-16T09:53:39.783Z"
   },
   {
    "duration": 1823,
    "start_time": "2022-06-16T09:54:07.941Z"
   },
   {
    "duration": 8,
    "start_time": "2022-06-16T09:54:10.493Z"
   },
   {
    "duration": 167,
    "start_time": "2022-06-16T09:54:11.102Z"
   },
   {
    "duration": 6867,
    "start_time": "2022-06-16T09:54:22.604Z"
   },
   {
    "duration": 6966,
    "start_time": "2022-06-16T09:55:13.810Z"
   },
   {
    "duration": 8,
    "start_time": "2022-06-16T09:55:21.824Z"
   },
   {
    "duration": 191,
    "start_time": "2022-06-16T09:55:22.450Z"
   },
   {
    "duration": 3872,
    "start_time": "2022-06-16T09:55:43.660Z"
   },
   {
    "duration": 8,
    "start_time": "2022-06-16T09:55:57.836Z"
   },
   {
    "duration": 150,
    "start_time": "2022-06-16T09:55:58.620Z"
   },
   {
    "duration": 3452,
    "start_time": "2022-06-16T09:56:16.071Z"
   },
   {
    "duration": 9,
    "start_time": "2022-06-16T09:56:32.771Z"
   },
   {
    "duration": 346,
    "start_time": "2022-06-16T09:56:38.128Z"
   },
   {
    "duration": 22054,
    "start_time": "2022-06-16T09:56:49.419Z"
   },
   {
    "duration": 13,
    "start_time": "2022-06-16T09:57:42.139Z"
   },
   {
    "duration": 170,
    "start_time": "2022-06-16T09:57:44.419Z"
   },
   {
    "duration": 7415,
    "start_time": "2022-06-16T09:57:48.766Z"
   },
   {
    "duration": 13,
    "start_time": "2022-06-16T09:58:17.659Z"
   },
   {
    "duration": 193,
    "start_time": "2022-06-16T09:58:19.495Z"
   },
   {
    "duration": 28967,
    "start_time": "2022-06-16T09:58:31.357Z"
   },
   {
    "duration": 13,
    "start_time": "2022-06-16T09:59:07.319Z"
   },
   {
    "duration": 182,
    "start_time": "2022-06-16T09:59:07.861Z"
   },
   {
    "duration": 3,
    "start_time": "2022-06-16T12:22:00.764Z"
   },
   {
    "duration": 43,
    "start_time": "2022-06-16T12:22:02.663Z"
   },
   {
    "duration": 6,
    "start_time": "2022-06-16T12:22:02.967Z"
   },
   {
    "duration": 5,
    "start_time": "2022-06-16T12:22:03.294Z"
   },
   {
    "duration": 8,
    "start_time": "2022-06-16T12:22:03.601Z"
   },
   {
    "duration": 11,
    "start_time": "2022-06-16T12:22:03.952Z"
   },
   {
    "duration": 4,
    "start_time": "2022-06-16T12:22:04.306Z"
   },
   {
    "duration": 5,
    "start_time": "2022-06-16T12:22:04.697Z"
   },
   {
    "duration": 6,
    "start_time": "2022-06-16T12:22:05.180Z"
   },
   {
    "duration": 8,
    "start_time": "2022-06-16T12:22:05.699Z"
   },
   {
    "duration": 7,
    "start_time": "2022-06-16T12:22:05.947Z"
   },
   {
    "duration": 4,
    "start_time": "2022-06-16T12:22:06.411Z"
   },
   {
    "duration": 3,
    "start_time": "2022-06-16T12:22:06.920Z"
   },
   {
    "duration": 3,
    "start_time": "2022-06-16T12:22:07.552Z"
   },
   {
    "duration": 11,
    "start_time": "2022-06-16T12:22:08.043Z"
   },
   {
    "duration": 25,
    "start_time": "2022-06-16T12:22:08.273Z"
   },
   {
    "duration": 3,
    "start_time": "2022-06-16T12:22:09.147Z"
   },
   {
    "duration": 5,
    "start_time": "2022-06-16T12:22:09.757Z"
   },
   {
    "duration": 3774,
    "start_time": "2022-06-16T12:22:10.568Z"
   },
   {
    "duration": 8,
    "start_time": "2022-06-16T12:22:15.101Z"
   },
   {
    "duration": 164,
    "start_time": "2022-06-16T12:22:16.616Z"
   },
   {
    "duration": 104663,
    "start_time": "2022-06-16T12:22:18.801Z"
   },
   {
    "duration": 13,
    "start_time": "2022-06-16T12:24:05.695Z"
   },
   {
    "duration": 174,
    "start_time": "2022-06-16T12:24:06.211Z"
   },
   {
    "duration": 3241,
    "start_time": "2022-06-16T12:24:07.886Z"
   },
   {
    "duration": 10,
    "start_time": "2022-06-16T12:24:12.264Z"
   },
   {
    "duration": 356,
    "start_time": "2022-06-16T12:24:12.548Z"
   },
   {
    "duration": 13,
    "start_time": "2022-06-16T12:24:14.023Z"
   },
   {
    "duration": 11,
    "start_time": "2022-06-16T12:24:14.387Z"
   },
   {
    "duration": 1747,
    "start_time": "2022-06-16T12:24:15.869Z"
   },
   {
    "duration": 9,
    "start_time": "2022-06-16T12:24:18.824Z"
   },
   {
    "duration": 166,
    "start_time": "2022-06-16T12:24:19.047Z"
   },
   {
    "duration": 6499,
    "start_time": "2022-06-16T12:24:19.974Z"
   },
   {
    "duration": 8,
    "start_time": "2022-06-16T12:24:27.057Z"
   },
   {
    "duration": 146,
    "start_time": "2022-06-16T12:24:27.370Z"
   },
   {
    "duration": 3969,
    "start_time": "2022-06-16T12:24:29.066Z"
   },
   {
    "duration": 8,
    "start_time": "2022-06-16T12:24:34.209Z"
   },
   {
    "duration": 151,
    "start_time": "2022-06-16T12:24:34.546Z"
   },
   {
    "duration": 3516,
    "start_time": "2022-06-16T12:24:36.015Z"
   },
   {
    "duration": 9,
    "start_time": "2022-06-16T12:24:40.295Z"
   },
   {
    "duration": 315,
    "start_time": "2022-06-16T12:24:40.471Z"
   },
   {
    "duration": 21739,
    "start_time": "2022-06-16T12:24:42.047Z"
   },
   {
    "duration": 12,
    "start_time": "2022-06-16T12:25:08.464Z"
   },
   {
    "duration": 175,
    "start_time": "2022-06-16T12:25:09.050Z"
   },
   {
    "duration": 7164,
    "start_time": "2022-06-16T12:25:10.950Z"
   },
   {
    "duration": 12,
    "start_time": "2022-06-16T12:25:19.138Z"
   },
   {
    "duration": 165,
    "start_time": "2022-06-16T12:25:19.444Z"
   },
   {
    "duration": 28645,
    "start_time": "2022-06-16T12:25:21.155Z"
   },
   {
    "duration": 13,
    "start_time": "2022-06-16T12:25:54.075Z"
   },
   {
    "duration": 244,
    "start_time": "2022-06-16T12:25:54.592Z"
   },
   {
    "duration": 6,
    "start_time": "2022-06-16T12:25:56.196Z"
   },
   {
    "duration": 1441,
    "start_time": "2022-06-16T12:25:57.492Z"
   },
   {
    "duration": 6,
    "start_time": "2022-06-16T12:35:37.120Z"
   },
   {
    "duration": 3733,
    "start_time": "2022-06-16T12:35:38.518Z"
   },
   {
    "duration": 7,
    "start_time": "2022-06-16T12:35:44.687Z"
   },
   {
    "duration": 164,
    "start_time": "2022-06-16T12:35:54.522Z"
   },
   {
    "duration": 4,
    "start_time": "2022-06-16T12:36:00.409Z"
   },
   {
    "duration": 105508,
    "start_time": "2022-06-16T12:36:47.185Z"
   },
   {
    "duration": 16,
    "start_time": "2022-06-16T12:38:32.695Z"
   },
   {
    "duration": 184,
    "start_time": "2022-06-16T12:38:32.713Z"
   },
   {
    "duration": 11,
    "start_time": "2022-06-16T12:41:29.355Z"
   },
   {
    "duration": 11,
    "start_time": "2022-06-16T12:41:58.193Z"
   },
   {
    "duration": 33,
    "start_time": "2022-06-16T12:42:02.731Z"
   },
   {
    "duration": 1296,
    "start_time": "2022-06-16T12:42:09.182Z"
   },
   {
    "duration": 43,
    "start_time": "2022-06-16T12:42:10.480Z"
   },
   {
    "duration": 4,
    "start_time": "2022-06-16T12:42:10.525Z"
   },
   {
    "duration": 30,
    "start_time": "2022-06-16T12:42:10.532Z"
   },
   {
    "duration": 11,
    "start_time": "2022-06-16T12:42:10.564Z"
   },
   {
    "duration": 16,
    "start_time": "2022-06-16T12:42:10.576Z"
   },
   {
    "duration": 4,
    "start_time": "2022-06-16T12:42:10.594Z"
   },
   {
    "duration": 9,
    "start_time": "2022-06-16T12:42:10.599Z"
   },
   {
    "duration": 6,
    "start_time": "2022-06-16T12:42:10.610Z"
   },
   {
    "duration": 11,
    "start_time": "2022-06-16T12:42:10.619Z"
   },
   {
    "duration": 8,
    "start_time": "2022-06-16T12:42:10.632Z"
   },
   {
    "duration": 7,
    "start_time": "2022-06-16T12:42:10.642Z"
   },
   {
    "duration": 15,
    "start_time": "2022-06-16T12:42:10.651Z"
   },
   {
    "duration": 29,
    "start_time": "2022-06-16T12:42:10.668Z"
   },
   {
    "duration": 18,
    "start_time": "2022-06-16T12:42:10.699Z"
   },
   {
    "duration": 28,
    "start_time": "2022-06-16T12:42:10.719Z"
   },
   {
    "duration": 4,
    "start_time": "2022-06-16T12:42:10.749Z"
   },
   {
    "duration": 11,
    "start_time": "2022-06-16T12:42:10.755Z"
   },
   {
    "duration": 3904,
    "start_time": "2022-06-16T12:42:10.768Z"
   },
   {
    "duration": 8,
    "start_time": "2022-06-16T12:42:14.673Z"
   },
   {
    "duration": 218,
    "start_time": "2022-06-16T12:42:14.682Z"
   },
   {
    "duration": 107735,
    "start_time": "2022-06-16T12:42:14.902Z"
   },
   {
    "duration": 17,
    "start_time": "2022-06-16T12:44:02.639Z"
   },
   {
    "duration": 214,
    "start_time": "2022-06-16T12:44:02.658Z"
   },
   {
    "duration": 3557,
    "start_time": "2022-06-16T12:44:02.874Z"
   },
   {
    "duration": 191,
    "start_time": "2022-06-16T12:44:06.433Z"
   },
   {
    "duration": 446,
    "start_time": "2022-06-16T12:44:06.629Z"
   },
   {
    "duration": 37,
    "start_time": "2022-06-16T12:44:07.080Z"
   },
   {
    "duration": 12,
    "start_time": "2022-06-16T12:44:07.119Z"
   },
   {
    "duration": 1819,
    "start_time": "2022-06-16T12:44:07.133Z"
   },
   {
    "duration": 7,
    "start_time": "2022-06-16T12:44:08.955Z"
   },
   {
    "duration": 180,
    "start_time": "2022-06-16T12:44:08.964Z"
   },
   {
    "duration": 6886,
    "start_time": "2022-06-16T12:44:09.145Z"
   },
   {
    "duration": 8,
    "start_time": "2022-06-16T12:44:16.033Z"
   },
   {
    "duration": 159,
    "start_time": "2022-06-16T12:44:16.043Z"
   },
   {
    "duration": 3879,
    "start_time": "2022-06-16T12:44:16.204Z"
   },
   {
    "duration": 7,
    "start_time": "2022-06-16T12:44:20.084Z"
   },
   {
    "duration": 183,
    "start_time": "2022-06-16T12:44:20.093Z"
   },
   {
    "duration": 3548,
    "start_time": "2022-06-16T12:44:20.278Z"
   },
   {
    "duration": 102,
    "start_time": "2022-06-16T12:44:23.828Z"
   },
   {
    "duration": 452,
    "start_time": "2022-06-16T12:44:23.932Z"
   },
   {
    "duration": 21182,
    "start_time": "2022-06-16T12:44:24.385Z"
   },
   {
    "duration": 12,
    "start_time": "2022-06-16T12:44:45.569Z"
   },
   {
    "duration": 171,
    "start_time": "2022-06-16T12:44:45.582Z"
   },
   {
    "duration": 7057,
    "start_time": "2022-06-16T12:44:45.755Z"
   },
   {
    "duration": 11,
    "start_time": "2022-06-16T12:44:52.814Z"
   },
   {
    "duration": 171,
    "start_time": "2022-06-16T12:44:52.826Z"
   },
   {
    "duration": 29486,
    "start_time": "2022-06-16T12:44:52.999Z"
   },
   {
    "duration": 12,
    "start_time": "2022-06-16T12:45:22.487Z"
   },
   {
    "duration": 312,
    "start_time": "2022-06-16T12:45:22.501Z"
   },
   {
    "duration": 9,
    "start_time": "2022-06-16T12:45:22.815Z"
   },
   {
    "duration": 28,
    "start_time": "2022-06-16T12:45:22.826Z"
   },
   {
    "duration": 167,
    "start_time": "2022-06-16T12:45:29.147Z"
   },
   {
    "duration": 5,
    "start_time": "2022-06-16T12:45:55.008Z"
   },
   {
    "duration": 205,
    "start_time": "2022-06-16T12:45:56.305Z"
   },
   {
    "duration": 5,
    "start_time": "2022-06-16T12:46:00.712Z"
   },
   {
    "duration": 212,
    "start_time": "2022-06-16T12:46:01.822Z"
   },
   {
    "duration": 5,
    "start_time": "2022-06-16T12:46:40.367Z"
   },
   {
    "duration": 193,
    "start_time": "2022-06-16T12:46:41.321Z"
   },
   {
    "duration": 5,
    "start_time": "2022-06-16T12:47:28.663Z"
   },
   {
    "duration": 172,
    "start_time": "2022-06-16T12:47:29.291Z"
   },
   {
    "duration": 5,
    "start_time": "2022-06-16T12:49:13.513Z"
   },
   {
    "duration": 147,
    "start_time": "2022-06-16T12:49:15.963Z"
   },
   {
    "duration": 5,
    "start_time": "2022-06-16T12:49:42.080Z"
   },
   {
    "duration": 15,
    "start_time": "2022-06-16T12:49:43.073Z"
   },
   {
    "duration": 5,
    "start_time": "2022-06-16T12:49:53.495Z"
   },
   {
    "duration": 162,
    "start_time": "2022-06-16T12:49:53.963Z"
   },
   {
    "duration": 6,
    "start_time": "2022-06-16T12:50:44.087Z"
   },
   {
    "duration": 161,
    "start_time": "2022-06-16T12:50:44.359Z"
   },
   {
    "duration": 4,
    "start_time": "2022-06-16T12:50:53.591Z"
   },
   {
    "duration": 1221,
    "start_time": "2022-06-16T12:50:53.882Z"
   },
   {
    "duration": 11,
    "start_time": "2022-06-16T12:51:09.795Z"
   },
   {
    "duration": 5,
    "start_time": "2022-06-16T12:51:15.320Z"
   },
   {
    "duration": 146,
    "start_time": "2022-06-16T12:51:16.363Z"
   },
   {
    "duration": 6,
    "start_time": "2022-06-16T12:52:12.887Z"
   },
   {
    "duration": 162,
    "start_time": "2022-06-16T12:52:13.264Z"
   },
   {
    "duration": 21615,
    "start_time": "2022-06-16T12:57:30.740Z"
   },
   {
    "duration": 5,
    "start_time": "2022-06-16T12:58:11.603Z"
   },
   {
    "duration": 18,
    "start_time": "2022-06-16T12:58:14.167Z"
   },
   {
    "duration": 5,
    "start_time": "2022-06-16T12:58:33.744Z"
   },
   {
    "duration": 16,
    "start_time": "2022-06-16T12:58:34.344Z"
   },
   {
    "duration": 6,
    "start_time": "2022-06-16T12:58:47.760Z"
   },
   {
    "duration": 15,
    "start_time": "2022-06-16T12:58:48.359Z"
   },
   {
    "duration": 40,
    "start_time": "2022-06-16T12:59:50.472Z"
   },
   {
    "duration": 6,
    "start_time": "2022-06-16T12:59:58.890Z"
   },
   {
    "duration": 20,
    "start_time": "2022-06-16T12:59:59.748Z"
   },
   {
    "duration": 5,
    "start_time": "2022-06-16T13:00:26.266Z"
   },
   {
    "duration": 15,
    "start_time": "2022-06-16T13:00:27.149Z"
   },
   {
    "duration": 6,
    "start_time": "2022-06-16T13:01:03.943Z"
   },
   {
    "duration": 4463,
    "start_time": "2022-06-16T13:01:04.248Z"
   },
   {
    "duration": 46,
    "start_time": "2022-06-16T13:05:03.564Z"
   },
   {
    "duration": 7,
    "start_time": "2022-06-16T13:05:15.798Z"
   },
   {
    "duration": 18,
    "start_time": "2022-06-16T13:05:18.706Z"
   },
   {
    "duration": 6,
    "start_time": "2022-06-16T13:05:58.511Z"
   },
   {
    "duration": 272,
    "start_time": "2022-06-16T13:05:59.648Z"
   },
   {
    "duration": 5,
    "start_time": "2022-06-16T13:06:11.440Z"
   },
   {
    "duration": 263,
    "start_time": "2022-06-16T13:06:12.744Z"
   },
   {
    "duration": 6,
    "start_time": "2022-06-16T13:06:33.146Z"
   },
   {
    "duration": 15,
    "start_time": "2022-06-16T13:06:33.707Z"
   },
   {
    "duration": 7,
    "start_time": "2022-06-16T13:06:59.989Z"
   },
   {
    "duration": 337,
    "start_time": "2022-06-16T13:07:00.548Z"
   },
   {
    "duration": 6,
    "start_time": "2022-06-16T13:07:10.851Z"
   },
   {
    "duration": 288,
    "start_time": "2022-06-16T13:07:11.132Z"
   },
   {
    "duration": 4078,
    "start_time": "2022-06-16T13:22:14.668Z"
   },
   {
    "duration": 12,
    "start_time": "2022-06-16T13:22:19.638Z"
   },
   {
    "duration": 171,
    "start_time": "2022-06-16T13:22:20.248Z"
   },
   {
    "duration": 7,
    "start_time": "2022-06-16T13:22:39.999Z"
   },
   {
    "duration": 4038,
    "start_time": "2022-06-16T13:22:40.848Z"
   },
   {
    "duration": 10,
    "start_time": "2022-06-16T13:22:45.424Z"
   },
   {
    "duration": 230,
    "start_time": "2022-06-16T13:22:45.719Z"
   },
   {
    "duration": 6,
    "start_time": "2022-06-16T13:23:03.260Z"
   },
   {
    "duration": 360,
    "start_time": "2022-06-16T13:23:05.000Z"
   },
   {
    "duration": 6,
    "start_time": "2022-06-16T13:23:39.224Z"
   },
   {
    "duration": 334,
    "start_time": "2022-06-16T13:23:39.620Z"
   },
   {
    "duration": 6,
    "start_time": "2022-06-16T13:24:49.119Z"
   },
   {
    "duration": 7,
    "start_time": "2022-06-16T13:26:17.424Z"
   },
   {
    "duration": 3798,
    "start_time": "2022-06-16T13:26:18.351Z"
   },
   {
    "duration": 7,
    "start_time": "2022-06-16T13:26:23.293Z"
   },
   {
    "duration": 156,
    "start_time": "2022-06-16T13:26:23.748Z"
   },
   {
    "duration": 8,
    "start_time": "2022-06-16T13:26:36.023Z"
   },
   {
    "duration": 3825,
    "start_time": "2022-06-16T13:26:37.509Z"
   },
   {
    "duration": 7,
    "start_time": "2022-06-16T13:26:41.748Z"
   },
   {
    "duration": 197,
    "start_time": "2022-06-16T13:26:42.426Z"
   },
   {
    "duration": 6,
    "start_time": "2022-06-16T13:26:47.981Z"
   },
   {
    "duration": 6,
    "start_time": "2022-06-16T13:26:50.596Z"
   },
   {
    "duration": 331,
    "start_time": "2022-06-16T13:26:51.192Z"
   },
   {
    "duration": 6,
    "start_time": "2022-06-16T13:27:01.355Z"
   },
   {
    "duration": 356,
    "start_time": "2022-06-16T13:27:01.852Z"
   },
   {
    "duration": 12,
    "start_time": "2022-06-16T13:29:53.014Z"
   },
   {
    "duration": 1215,
    "start_time": "2022-06-16T13:29:59.235Z"
   },
   {
    "duration": 41,
    "start_time": "2022-06-16T13:30:00.452Z"
   },
   {
    "duration": 5,
    "start_time": "2022-06-16T13:30:00.500Z"
   },
   {
    "duration": 18,
    "start_time": "2022-06-16T13:30:00.506Z"
   },
   {
    "duration": 17,
    "start_time": "2022-06-16T13:30:00.526Z"
   },
   {
    "duration": 16,
    "start_time": "2022-06-16T13:30:00.545Z"
   },
   {
    "duration": 6,
    "start_time": "2022-06-16T13:30:00.563Z"
   },
   {
    "duration": 14,
    "start_time": "2022-06-16T13:30:00.571Z"
   },
   {
    "duration": 19,
    "start_time": "2022-06-16T13:30:00.587Z"
   },
   {
    "duration": 11,
    "start_time": "2022-06-16T13:30:00.608Z"
   },
   {
    "duration": 14,
    "start_time": "2022-06-16T13:30:00.620Z"
   },
   {
    "duration": 12,
    "start_time": "2022-06-16T13:30:00.635Z"
   },
   {
    "duration": 23,
    "start_time": "2022-06-16T13:30:00.648Z"
   },
   {
    "duration": 19,
    "start_time": "2022-06-16T13:30:00.674Z"
   },
   {
    "duration": 18,
    "start_time": "2022-06-16T13:30:00.695Z"
   },
   {
    "duration": 23,
    "start_time": "2022-06-16T13:30:00.715Z"
   },
   {
    "duration": 4,
    "start_time": "2022-06-16T13:30:00.739Z"
   },
   {
    "duration": 20,
    "start_time": "2022-06-16T13:30:00.744Z"
   },
   {
    "duration": 3834,
    "start_time": "2022-06-16T13:30:00.766Z"
   },
   {
    "duration": 8,
    "start_time": "2022-06-16T13:30:04.602Z"
   },
   {
    "duration": 187,
    "start_time": "2022-06-16T13:30:04.612Z"
   },
   {
    "duration": 103430,
    "start_time": "2022-06-16T13:30:04.801Z"
   },
   {
    "duration": 14,
    "start_time": "2022-06-16T13:31:48.232Z"
   },
   {
    "duration": 176,
    "start_time": "2022-06-16T13:31:48.248Z"
   },
   {
    "duration": 3506,
    "start_time": "2022-06-16T13:31:48.427Z"
   },
   {
    "duration": 12,
    "start_time": "2022-06-16T13:31:52.022Z"
   },
   {
    "duration": 429,
    "start_time": "2022-06-16T13:31:52.036Z"
   },
   {
    "duration": 14,
    "start_time": "2022-06-16T13:31:52.466Z"
   },
   {
    "duration": 10,
    "start_time": "2022-06-16T13:31:52.481Z"
   },
   {
    "duration": 1848,
    "start_time": "2022-06-16T13:31:52.492Z"
   },
   {
    "duration": 6,
    "start_time": "2022-06-16T13:31:54.343Z"
   },
   {
    "duration": 173,
    "start_time": "2022-06-16T13:31:54.350Z"
   },
   {
    "duration": 6404,
    "start_time": "2022-06-16T13:31:54.525Z"
   },
   {
    "duration": 8,
    "start_time": "2022-06-16T13:32:00.931Z"
   },
   {
    "duration": 185,
    "start_time": "2022-06-16T13:32:00.941Z"
   },
   {
    "duration": 4278,
    "start_time": "2022-06-16T13:32:01.128Z"
   },
   {
    "duration": 17,
    "start_time": "2022-06-16T13:32:05.408Z"
   },
   {
    "duration": 160,
    "start_time": "2022-06-16T13:32:05.427Z"
   },
   {
    "duration": 3835,
    "start_time": "2022-06-16T13:32:05.589Z"
   },
   {
    "duration": 10,
    "start_time": "2022-06-16T13:32:09.426Z"
   },
   {
    "duration": 443,
    "start_time": "2022-06-16T13:32:09.441Z"
   },
   {
    "duration": 21080,
    "start_time": "2022-06-16T13:32:09.885Z"
   },
   {
    "duration": 13,
    "start_time": "2022-06-16T13:32:30.967Z"
   },
   {
    "duration": 176,
    "start_time": "2022-06-16T13:32:30.981Z"
   },
   {
    "duration": 7135,
    "start_time": "2022-06-16T13:32:31.159Z"
   },
   {
    "duration": 11,
    "start_time": "2022-06-16T13:32:38.295Z"
   },
   {
    "duration": 181,
    "start_time": "2022-06-16T13:32:38.308Z"
   },
   {
    "duration": 28403,
    "start_time": "2022-06-16T13:32:38.491Z"
   },
   {
    "duration": 13,
    "start_time": "2022-06-16T13:33:06.895Z"
   },
   {
    "duration": 259,
    "start_time": "2022-06-16T13:33:06.910Z"
   },
   {
    "duration": 5,
    "start_time": "2022-06-16T13:33:07.171Z"
   },
   {
    "duration": 322,
    "start_time": "2022-06-16T13:33:07.177Z"
   },
   {
    "duration": 6,
    "start_time": "2022-06-16T13:39:48.406Z"
   },
   {
    "duration": 336,
    "start_time": "2022-06-16T13:39:48.712Z"
   },
   {
    "duration": 6,
    "start_time": "2022-06-16T13:40:01.255Z"
   },
   {
    "duration": 326,
    "start_time": "2022-06-16T13:40:02.013Z"
   },
   {
    "duration": 5,
    "start_time": "2022-06-16T13:40:06.345Z"
   },
   {
    "duration": 313,
    "start_time": "2022-06-16T13:40:07.245Z"
   },
   {
    "duration": 5,
    "start_time": "2022-06-16T13:48:26.696Z"
   },
   {
    "duration": 6,
    "start_time": "2022-06-16T13:50:53.150Z"
   },
   {
    "duration": 3706,
    "start_time": "2022-06-16T13:50:55.985Z"
   },
   {
    "duration": 8,
    "start_time": "2022-06-16T13:51:00.384Z"
   },
   {
    "duration": 157,
    "start_time": "2022-06-16T13:51:00.779Z"
   },
   {
    "duration": 6,
    "start_time": "2022-06-16T13:51:37.460Z"
   },
   {
    "duration": 3693,
    "start_time": "2022-06-16T13:51:39.426Z"
   },
   {
    "duration": 7,
    "start_time": "2022-06-16T13:51:43.122Z"
   },
   {
    "duration": 167,
    "start_time": "2022-06-16T13:51:43.130Z"
   },
   {
    "duration": 1193,
    "start_time": "2022-06-16T13:54:33.458Z"
   },
   {
    "duration": 40,
    "start_time": "2022-06-16T13:54:34.653Z"
   },
   {
    "duration": 5,
    "start_time": "2022-06-16T13:54:34.694Z"
   },
   {
    "duration": 9,
    "start_time": "2022-06-16T13:54:34.700Z"
   },
   {
    "duration": 9,
    "start_time": "2022-06-16T13:54:34.711Z"
   },
   {
    "duration": 15,
    "start_time": "2022-06-16T13:54:34.721Z"
   },
   {
    "duration": 5,
    "start_time": "2022-06-16T13:54:34.737Z"
   },
   {
    "duration": 9,
    "start_time": "2022-06-16T13:54:34.743Z"
   },
   {
    "duration": 8,
    "start_time": "2022-06-16T13:54:34.754Z"
   },
   {
    "duration": 5,
    "start_time": "2022-06-16T13:54:34.764Z"
   },
   {
    "duration": 6,
    "start_time": "2022-06-16T13:54:34.771Z"
   },
   {
    "duration": 5,
    "start_time": "2022-06-16T13:54:34.778Z"
   },
   {
    "duration": 6,
    "start_time": "2022-06-16T13:54:34.784Z"
   },
   {
    "duration": 4,
    "start_time": "2022-06-16T13:54:34.793Z"
   },
   {
    "duration": 32,
    "start_time": "2022-06-16T13:54:34.798Z"
   },
   {
    "duration": 27,
    "start_time": "2022-06-16T13:54:34.831Z"
   },
   {
    "duration": 3,
    "start_time": "2022-06-16T13:54:34.859Z"
   },
   {
    "duration": 8,
    "start_time": "2022-06-16T13:54:34.864Z"
   },
   {
    "duration": 3685,
    "start_time": "2022-06-16T13:54:34.874Z"
   },
   {
    "duration": 7,
    "start_time": "2022-06-16T13:54:38.560Z"
   },
   {
    "duration": 175,
    "start_time": "2022-06-16T13:54:38.568Z"
   },
   {
    "duration": 103439,
    "start_time": "2022-06-16T13:54:38.745Z"
   },
   {
    "duration": 11,
    "start_time": "2022-06-16T13:56:22.186Z"
   },
   {
    "duration": 171,
    "start_time": "2022-06-16T13:56:22.199Z"
   },
   {
    "duration": 3556,
    "start_time": "2022-06-16T13:56:22.371Z"
   },
   {
    "duration": 100,
    "start_time": "2022-06-16T13:56:25.929Z"
   },
   {
    "duration": 442,
    "start_time": "2022-06-16T13:56:26.032Z"
   },
   {
    "duration": 16,
    "start_time": "2022-06-16T13:56:26.476Z"
   },
   {
    "duration": 10,
    "start_time": "2022-06-16T13:56:26.494Z"
   },
   {
    "duration": 1723,
    "start_time": "2022-06-16T13:56:26.506Z"
   },
   {
    "duration": 6,
    "start_time": "2022-06-16T13:56:28.231Z"
   },
   {
    "duration": 168,
    "start_time": "2022-06-16T13:56:28.239Z"
   },
   {
    "duration": 7120,
    "start_time": "2022-06-16T13:56:28.409Z"
   },
   {
    "duration": 7,
    "start_time": "2022-06-16T13:56:35.531Z"
   },
   {
    "duration": 316,
    "start_time": "2022-06-16T13:56:35.540Z"
   },
   {
    "duration": 4339,
    "start_time": "2022-06-16T13:56:35.858Z"
   },
   {
    "duration": 7,
    "start_time": "2022-06-16T13:56:40.198Z"
   },
   {
    "duration": 169,
    "start_time": "2022-06-16T13:56:40.207Z"
   },
   {
    "duration": 3647,
    "start_time": "2022-06-16T13:56:40.378Z"
   },
   {
    "duration": 11,
    "start_time": "2022-06-16T13:56:44.026Z"
   },
   {
    "duration": 460,
    "start_time": "2022-06-16T13:56:44.122Z"
   },
   {
    "duration": 21801,
    "start_time": "2022-06-16T13:56:44.583Z"
   },
   {
    "duration": 13,
    "start_time": "2022-06-16T13:57:06.386Z"
   },
   {
    "duration": 203,
    "start_time": "2022-06-16T13:57:06.400Z"
   },
   {
    "duration": 7247,
    "start_time": "2022-06-16T13:57:06.605Z"
   },
   {
    "duration": 10,
    "start_time": "2022-06-16T13:57:13.854Z"
   },
   {
    "duration": 183,
    "start_time": "2022-06-16T13:57:13.866Z"
   },
   {
    "duration": 28904,
    "start_time": "2022-06-16T13:57:14.051Z"
   },
   {
    "duration": 13,
    "start_time": "2022-06-16T13:57:42.957Z"
   },
   {
    "duration": 272,
    "start_time": "2022-06-16T13:57:42.971Z"
   },
   {
    "duration": 6,
    "start_time": "2022-06-16T13:57:43.245Z"
   },
   {
    "duration": 340,
    "start_time": "2022-06-16T13:57:43.255Z"
   },
   {
    "duration": 1695,
    "start_time": "2022-06-17T08:00:33.945Z"
   },
   {
    "duration": 159,
    "start_time": "2022-06-17T08:00:35.643Z"
   },
   {
    "duration": 5,
    "start_time": "2022-06-17T08:00:35.805Z"
   },
   {
    "duration": 27,
    "start_time": "2022-06-17T08:00:35.813Z"
   },
   {
    "duration": 42,
    "start_time": "2022-06-17T08:00:35.843Z"
   },
   {
    "duration": 30,
    "start_time": "2022-06-17T08:00:35.887Z"
   },
   {
    "duration": 11,
    "start_time": "2022-06-17T08:00:35.920Z"
   },
   {
    "duration": 13,
    "start_time": "2022-06-17T08:00:35.933Z"
   },
   {
    "duration": 16,
    "start_time": "2022-06-17T08:00:35.948Z"
   },
   {
    "duration": 39,
    "start_time": "2022-06-17T08:00:35.968Z"
   },
   {
    "duration": 30,
    "start_time": "2022-06-17T08:00:36.009Z"
   },
   {
    "duration": 75,
    "start_time": "2022-06-17T08:00:36.042Z"
   },
   {
    "duration": 22,
    "start_time": "2022-06-17T08:00:36.119Z"
   },
   {
    "duration": 21,
    "start_time": "2022-06-17T08:00:36.143Z"
   },
   {
    "duration": 21,
    "start_time": "2022-06-17T08:00:36.169Z"
   },
   {
    "duration": 85,
    "start_time": "2022-06-17T08:00:36.193Z"
   },
   {
    "duration": 9,
    "start_time": "2022-06-17T08:00:36.281Z"
   },
   {
    "duration": 25,
    "start_time": "2022-06-17T08:00:36.293Z"
   },
   {
    "duration": 4392,
    "start_time": "2022-06-17T08:00:36.320Z"
   },
   {
    "duration": 10,
    "start_time": "2022-06-17T08:00:40.714Z"
   },
   {
    "duration": 318,
    "start_time": "2022-06-17T08:00:40.727Z"
   },
   {
    "duration": 120123,
    "start_time": "2022-06-17T08:00:41.048Z"
   },
   {
    "duration": 14,
    "start_time": "2022-06-17T08:02:41.172Z"
   },
   {
    "duration": 198,
    "start_time": "2022-06-17T08:02:41.188Z"
   },
   {
    "duration": 2776,
    "start_time": "2022-06-17T08:02:41.387Z"
   },
   {
    "duration": 93,
    "start_time": "2022-06-17T08:02:44.166Z"
   },
   {
    "duration": 441,
    "start_time": "2022-06-17T08:02:44.261Z"
   },
   {
    "duration": 40,
    "start_time": "2022-06-17T08:02:44.705Z"
   },
   {
    "duration": 13,
    "start_time": "2022-06-17T08:02:44.747Z"
   },
   {
    "duration": 2009,
    "start_time": "2022-06-17T08:02:44.763Z"
   },
   {
    "duration": 7,
    "start_time": "2022-06-17T08:02:46.774Z"
   },
   {
    "duration": 191,
    "start_time": "2022-06-17T08:02:46.782Z"
   },
   {
    "duration": 7561,
    "start_time": "2022-06-17T08:02:46.974Z"
   },
   {
    "duration": 9,
    "start_time": "2022-06-17T08:02:54.537Z"
   },
   {
    "duration": 189,
    "start_time": "2022-06-17T08:02:54.548Z"
   },
   {
    "duration": 4477,
    "start_time": "2022-06-17T08:02:54.739Z"
   },
   {
    "duration": 7,
    "start_time": "2022-06-17T08:02:59.217Z"
   },
   {
    "duration": 178,
    "start_time": "2022-06-17T08:02:59.226Z"
   },
   {
    "duration": 2953,
    "start_time": "2022-06-17T08:02:59.407Z"
   },
   {
    "duration": 95,
    "start_time": "2022-06-17T08:03:02.364Z"
   },
   {
    "duration": 462,
    "start_time": "2022-06-17T08:03:02.466Z"
   },
   {
    "duration": 25612,
    "start_time": "2022-06-17T08:03:02.930Z"
   },
   {
    "duration": 19,
    "start_time": "2022-06-17T08:03:28.543Z"
   },
   {
    "duration": 251,
    "start_time": "2022-06-17T08:03:28.564Z"
   },
   {
    "duration": 8964,
    "start_time": "2022-06-17T08:03:28.817Z"
   },
   {
    "duration": 13,
    "start_time": "2022-06-17T08:03:37.783Z"
   },
   {
    "duration": 302,
    "start_time": "2022-06-17T08:03:37.798Z"
   },
   {
    "duration": 28967,
    "start_time": "2022-06-17T08:03:38.102Z"
   },
   {
    "duration": 15,
    "start_time": "2022-06-17T08:04:07.073Z"
   },
   {
    "duration": 421,
    "start_time": "2022-06-17T08:04:07.091Z"
   },
   {
    "duration": 20,
    "start_time": "2022-06-17T08:04:07.520Z"
   },
   {
    "duration": 229,
    "start_time": "2022-06-17T08:04:07.543Z"
   },
   {
    "duration": 0,
    "start_time": "2022-06-17T08:04:07.774Z"
   },
   {
    "duration": 22,
    "start_time": "2022-06-17T08:15:32.103Z"
   },
   {
    "duration": 10,
    "start_time": "2022-06-17T08:15:46.140Z"
   },
   {
    "duration": 66,
    "start_time": "2022-06-17T08:15:49.021Z"
   },
   {
    "duration": 10,
    "start_time": "2022-06-17T08:15:52.423Z"
   },
   {
    "duration": 22,
    "start_time": "2022-06-17T08:15:53.008Z"
   },
   {
    "duration": 7,
    "start_time": "2022-06-17T08:16:09.961Z"
   },
   {
    "duration": 376,
    "start_time": "2022-06-17T08:16:10.586Z"
   },
   {
    "duration": 10,
    "start_time": "2022-06-17T08:16:12.897Z"
   },
   {
    "duration": 255,
    "start_time": "2022-06-17T08:16:20.224Z"
   },
   {
    "duration": 14,
    "start_time": "2022-06-17T08:20:53.307Z"
   },
   {
    "duration": 14,
    "start_time": "2022-06-17T08:21:23.012Z"
   },
   {
    "duration": 8,
    "start_time": "2022-06-17T08:21:53.256Z"
   },
   {
    "duration": 1293,
    "start_time": "2022-06-17T09:02:45.416Z"
   },
   {
    "duration": 40,
    "start_time": "2022-06-17T09:02:46.712Z"
   },
   {
    "duration": 5,
    "start_time": "2022-06-17T09:02:46.753Z"
   },
   {
    "duration": 11,
    "start_time": "2022-06-17T09:02:46.760Z"
   },
   {
    "duration": 12,
    "start_time": "2022-06-17T09:02:46.773Z"
   },
   {
    "duration": 10,
    "start_time": "2022-06-17T09:02:46.787Z"
   },
   {
    "duration": 4,
    "start_time": "2022-06-17T09:02:46.799Z"
   },
   {
    "duration": 11,
    "start_time": "2022-06-17T09:02:46.804Z"
   },
   {
    "duration": 8,
    "start_time": "2022-06-17T09:02:46.817Z"
   },
   {
    "duration": 9,
    "start_time": "2022-06-17T09:02:46.836Z"
   },
   {
    "duration": 21,
    "start_time": "2022-06-17T09:02:46.847Z"
   },
   {
    "duration": 11,
    "start_time": "2022-06-17T09:02:46.869Z"
   },
   {
    "duration": 8,
    "start_time": "2022-06-17T09:02:46.882Z"
   },
   {
    "duration": 6,
    "start_time": "2022-06-17T09:02:46.892Z"
   },
   {
    "duration": 13,
    "start_time": "2022-06-17T09:02:46.899Z"
   },
   {
    "duration": 24,
    "start_time": "2022-06-17T09:02:46.914Z"
   },
   {
    "duration": 22,
    "start_time": "2022-06-17T09:02:46.939Z"
   },
   {
    "duration": 6,
    "start_time": "2022-06-17T09:02:46.963Z"
   },
   {
    "duration": 4089,
    "start_time": "2022-06-17T09:02:46.970Z"
   },
   {
    "duration": 9,
    "start_time": "2022-06-17T09:02:51.061Z"
   },
   {
    "duration": 198,
    "start_time": "2022-06-17T09:02:51.071Z"
   },
   {
    "duration": 56514,
    "start_time": "2022-06-17T09:02:51.271Z"
   },
   {
    "duration": 13,
    "start_time": "2022-06-17T09:03:47.787Z"
   },
   {
    "duration": 191,
    "start_time": "2022-06-17T09:03:47.802Z"
   },
   {
    "duration": 3369,
    "start_time": "2022-06-17T09:03:47.995Z"
   },
   {
    "duration": 97,
    "start_time": "2022-06-17T09:03:51.367Z"
   },
   {
    "duration": 491,
    "start_time": "2022-06-17T09:03:51.467Z"
   },
   {
    "duration": 35,
    "start_time": "2022-06-17T09:03:51.962Z"
   },
   {
    "duration": 16,
    "start_time": "2022-06-17T09:03:51.999Z"
   },
   {
    "duration": 2015,
    "start_time": "2022-06-17T09:03:52.017Z"
   },
   {
    "duration": 7,
    "start_time": "2022-06-17T09:03:54.033Z"
   },
   {
    "duration": 187,
    "start_time": "2022-06-17T09:03:54.042Z"
   },
   {
    "duration": 7298,
    "start_time": "2022-06-17T09:03:54.231Z"
   },
   {
    "duration": 7,
    "start_time": "2022-06-17T09:04:01.531Z"
   },
   {
    "duration": 186,
    "start_time": "2022-06-17T09:04:01.540Z"
   },
   {
    "duration": 4295,
    "start_time": "2022-06-17T09:04:01.728Z"
   },
   {
    "duration": 8,
    "start_time": "2022-06-17T09:04:06.024Z"
   },
   {
    "duration": 179,
    "start_time": "2022-06-17T09:04:06.033Z"
   },
   {
    "duration": 3654,
    "start_time": "2022-06-17T09:04:06.214Z"
   },
   {
    "duration": 94,
    "start_time": "2022-06-17T09:04:09.870Z"
   },
   {
    "duration": 485,
    "start_time": "2022-06-17T09:04:09.967Z"
   },
   {
    "duration": 52228,
    "start_time": "2022-06-17T09:04:10.458Z"
   },
   {
    "duration": 14,
    "start_time": "2022-06-17T09:05:02.688Z"
   },
   {
    "duration": 205,
    "start_time": "2022-06-17T09:05:02.704Z"
   },
   {
    "duration": 16547,
    "start_time": "2022-06-17T09:05:02.911Z"
   },
   {
    "duration": 12,
    "start_time": "2022-06-17T09:05:19.460Z"
   },
   {
    "duration": 207,
    "start_time": "2022-06-17T09:05:19.474Z"
   },
   {
    "duration": 26200,
    "start_time": "2022-06-17T09:05:19.683Z"
   },
   {
    "duration": 14,
    "start_time": "2022-06-17T09:05:45.884Z"
   },
   {
    "duration": 196,
    "start_time": "2022-06-17T09:05:45.899Z"
   },
   {
    "duration": 6,
    "start_time": "2022-06-17T09:05:46.097Z"
   },
   {
    "duration": 485,
    "start_time": "2022-06-17T09:05:46.105Z"
   },
   {
    "duration": 229,
    "start_time": "2022-06-17T09:05:46.592Z"
   },
   {
    "duration": 15,
    "start_time": "2022-06-17T09:05:46.824Z"
   },
   {
    "duration": 31,
    "start_time": "2022-06-17T09:05:46.841Z"
   },
   {
    "duration": 9,
    "start_time": "2022-06-17T09:05:46.874Z"
   },
   {
    "duration": 39,
    "start_time": "2022-06-17T11:02:24.402Z"
   },
   {
    "duration": 269,
    "start_time": "2022-06-17T11:05:27.060Z"
   },
   {
    "duration": 15,
    "start_time": "2022-06-17T14:22:08.498Z"
   },
   {
    "duration": 14,
    "start_time": "2022-06-17T14:22:09.719Z"
   },
   {
    "duration": 26,
    "start_time": "2022-06-17T14:22:24.178Z"
   },
   {
    "duration": 11,
    "start_time": "2022-06-17T14:22:34.690Z"
   },
   {
    "duration": 18,
    "start_time": "2022-06-17T14:23:51.560Z"
   },
   {
    "duration": 13,
    "start_time": "2022-06-17T14:25:00.374Z"
   },
   {
    "duration": 14,
    "start_time": "2022-06-17T14:25:02.789Z"
   },
   {
    "duration": 30,
    "start_time": "2022-06-17T14:25:03.194Z"
   },
   {
    "duration": 15,
    "start_time": "2022-06-17T14:25:03.466Z"
   },
   {
    "duration": 122,
    "start_time": "2022-06-17T14:40:42.620Z"
   },
   {
    "duration": 13,
    "start_time": "2022-06-17T14:41:34.559Z"
   },
   {
    "duration": 12,
    "start_time": "2022-06-17T14:42:43.014Z"
   },
   {
    "duration": 5,
    "start_time": "2022-06-17T14:43:56.690Z"
   },
   {
    "duration": 41,
    "start_time": "2022-06-17T14:43:57.452Z"
   },
   {
    "duration": 5,
    "start_time": "2022-06-17T14:43:57.839Z"
   },
   {
    "duration": 4,
    "start_time": "2022-06-17T14:43:58.236Z"
   },
   {
    "duration": 7,
    "start_time": "2022-06-17T14:43:58.591Z"
   },
   {
    "duration": 13,
    "start_time": "2022-06-17T14:43:58.959Z"
   },
   {
    "duration": 5,
    "start_time": "2022-06-17T14:43:59.378Z"
   },
   {
    "duration": 5,
    "start_time": "2022-06-17T14:43:59.896Z"
   },
   {
    "duration": 5,
    "start_time": "2022-06-17T14:44:00.488Z"
   },
   {
    "duration": 6,
    "start_time": "2022-06-17T14:44:01.185Z"
   },
   {
    "duration": 5,
    "start_time": "2022-06-17T14:44:01.653Z"
   },
   {
    "duration": 12,
    "start_time": "2022-06-17T14:44:14.772Z"
   },
   {
    "duration": 20,
    "start_time": "2022-06-17T14:44:15.855Z"
   },
   {
    "duration": 14,
    "start_time": "2022-06-17T14:44:16.988Z"
   },
   {
    "duration": 1389,
    "start_time": "2022-06-17T14:44:29.550Z"
   },
   {
    "duration": 49,
    "start_time": "2022-06-17T14:44:30.941Z"
   },
   {
    "duration": 6,
    "start_time": "2022-06-17T14:44:30.991Z"
   },
   {
    "duration": 107,
    "start_time": "2022-06-17T14:44:31.000Z"
   },
   {
    "duration": 232,
    "start_time": "2022-06-17T14:44:31.108Z"
   },
   {
    "duration": 52,
    "start_time": "2022-06-17T14:44:31.342Z"
   },
   {
    "duration": 60,
    "start_time": "2022-06-17T14:44:31.395Z"
   },
   {
    "duration": 39,
    "start_time": "2022-06-17T14:44:31.456Z"
   },
   {
    "duration": 29,
    "start_time": "2022-06-17T14:44:31.497Z"
   },
   {
    "duration": 13,
    "start_time": "2022-06-17T14:44:31.529Z"
   },
   {
    "duration": 25,
    "start_time": "2022-06-17T14:44:31.544Z"
   },
   {
    "duration": 26,
    "start_time": "2022-06-17T14:44:31.571Z"
   },
   {
    "duration": 15,
    "start_time": "2022-06-17T14:44:31.599Z"
   },
   {
    "duration": 23,
    "start_time": "2022-06-17T14:44:31.615Z"
   },
   {
    "duration": 32,
    "start_time": "2022-06-17T14:44:31.640Z"
   },
   {
    "duration": 46,
    "start_time": "2022-06-17T14:44:31.674Z"
   },
   {
    "duration": 21,
    "start_time": "2022-06-17T14:44:31.722Z"
   },
   {
    "duration": 18,
    "start_time": "2022-06-17T14:44:31.745Z"
   },
   {
    "duration": 4249,
    "start_time": "2022-06-17T14:44:31.765Z"
   },
   {
    "duration": 8,
    "start_time": "2022-06-17T14:44:36.016Z"
   },
   {
    "duration": 209,
    "start_time": "2022-06-17T14:44:36.026Z"
   },
   {
    "duration": 55968,
    "start_time": "2022-06-17T14:44:36.237Z"
   },
   {
    "duration": 12,
    "start_time": "2022-06-17T14:45:32.207Z"
   },
   {
    "duration": 202,
    "start_time": "2022-06-17T14:45:32.221Z"
   },
   {
    "duration": 3838,
    "start_time": "2022-06-17T14:45:32.425Z"
   },
   {
    "duration": 12,
    "start_time": "2022-06-17T14:45:36.265Z"
   },
   {
    "duration": 539,
    "start_time": "2022-06-17T14:45:36.279Z"
   },
   {
    "duration": 16,
    "start_time": "2022-06-17T14:45:36.822Z"
   },
   {
    "duration": 26,
    "start_time": "2022-06-17T14:45:36.840Z"
   },
   {
    "duration": 2052,
    "start_time": "2022-06-17T14:45:36.868Z"
   },
   {
    "duration": 7,
    "start_time": "2022-06-17T14:45:38.923Z"
   },
   {
    "duration": 193,
    "start_time": "2022-06-17T14:45:38.932Z"
   },
   {
    "duration": 7196,
    "start_time": "2022-06-17T14:45:39.127Z"
   },
   {
    "duration": 7,
    "start_time": "2022-06-17T14:45:46.325Z"
   },
   {
    "duration": 180,
    "start_time": "2022-06-17T14:45:46.334Z"
   },
   {
    "duration": 4244,
    "start_time": "2022-06-17T14:45:46.516Z"
   },
   {
    "duration": 8,
    "start_time": "2022-06-17T14:45:50.762Z"
   },
   {
    "duration": 235,
    "start_time": "2022-06-17T14:45:50.772Z"
   },
   {
    "duration": 2966,
    "start_time": "2022-06-17T14:45:51.009Z"
   },
   {
    "duration": 191,
    "start_time": "2022-06-17T14:45:53.977Z"
   },
   {
    "duration": 458,
    "start_time": "2022-06-17T14:45:54.173Z"
   },
   {
    "duration": 55600,
    "start_time": "2022-06-17T14:45:54.633Z"
   },
   {
    "duration": 15,
    "start_time": "2022-06-17T14:46:50.235Z"
   },
   {
    "duration": 267,
    "start_time": "2022-06-17T14:46:50.259Z"
   },
   {
    "duration": 17208,
    "start_time": "2022-06-17T14:46:50.529Z"
   },
   {
    "duration": 20,
    "start_time": "2022-06-17T14:47:07.739Z"
   },
   {
    "duration": 220,
    "start_time": "2022-06-17T14:47:07.762Z"
   },
   {
    "duration": 27353,
    "start_time": "2022-06-17T14:47:07.983Z"
   },
   {
    "duration": 20,
    "start_time": "2022-06-17T14:47:35.338Z"
   },
   {
    "duration": 191,
    "start_time": "2022-06-17T14:47:35.360Z"
   },
   {
    "duration": 6,
    "start_time": "2022-06-17T14:47:35.558Z"
   },
   {
    "duration": 468,
    "start_time": "2022-06-17T14:47:35.566Z"
   },
   {
    "duration": 241,
    "start_time": "2022-06-17T14:47:36.036Z"
   },
   {
    "duration": 17,
    "start_time": "2022-06-17T14:47:36.279Z"
   },
   {
    "duration": 34,
    "start_time": "2022-06-17T14:47:36.298Z"
   },
   {
    "duration": 34,
    "start_time": "2022-06-17T14:47:36.333Z"
   },
   {
    "duration": 14,
    "start_time": "2022-06-17T15:15:54.362Z"
   },
   {
    "duration": 14,
    "start_time": "2022-06-17T15:15:55.896Z"
   },
   {
    "duration": 10,
    "start_time": "2022-06-17T15:16:48.772Z"
   },
   {
    "duration": 14,
    "start_time": "2022-06-17T15:16:52.239Z"
   },
   {
    "duration": 15,
    "start_time": "2022-06-17T15:16:53.136Z"
   },
   {
    "duration": 9,
    "start_time": "2022-06-17T15:16:54.043Z"
   },
   {
    "duration": 1236,
    "start_time": "2022-06-17T19:40:58.821Z"
   },
   {
    "duration": 79,
    "start_time": "2022-06-17T19:41:00.060Z"
   },
   {
    "duration": 5,
    "start_time": "2022-06-17T19:41:00.141Z"
   },
   {
    "duration": 14,
    "start_time": "2022-06-17T19:41:00.148Z"
   },
   {
    "duration": 14,
    "start_time": "2022-06-17T19:41:00.164Z"
   },
   {
    "duration": 19,
    "start_time": "2022-06-17T19:41:00.180Z"
   },
   {
    "duration": 7,
    "start_time": "2022-06-17T19:41:00.201Z"
   },
   {
    "duration": 10,
    "start_time": "2022-06-17T19:41:00.209Z"
   },
   {
    "duration": 6,
    "start_time": "2022-06-17T19:41:00.220Z"
   },
   {
    "duration": 8,
    "start_time": "2022-06-17T19:41:00.228Z"
   },
   {
    "duration": 12,
    "start_time": "2022-06-17T19:41:00.237Z"
   },
   {
    "duration": 23,
    "start_time": "2022-06-17T19:41:00.250Z"
   },
   {
    "duration": 18,
    "start_time": "2022-06-17T19:41:00.275Z"
   },
   {
    "duration": 15,
    "start_time": "2022-06-17T19:41:00.295Z"
   },
   {
    "duration": 16,
    "start_time": "2022-06-17T19:41:00.312Z"
   },
   {
    "duration": 26,
    "start_time": "2022-06-17T19:41:00.330Z"
   },
   {
    "duration": 13,
    "start_time": "2022-06-17T19:41:00.357Z"
   },
   {
    "duration": 13,
    "start_time": "2022-06-17T19:41:00.371Z"
   },
   {
    "duration": 3770,
    "start_time": "2022-06-17T19:41:00.385Z"
   },
   {
    "duration": 7,
    "start_time": "2022-06-17T19:41:04.156Z"
   },
   {
    "duration": 180,
    "start_time": "2022-06-17T19:41:04.165Z"
   },
   {
    "duration": 49686,
    "start_time": "2022-06-17T19:41:04.347Z"
   },
   {
    "duration": 14,
    "start_time": "2022-06-17T19:41:54.034Z"
   },
   {
    "duration": 203,
    "start_time": "2022-06-17T19:41:54.049Z"
   },
   {
    "duration": 3181,
    "start_time": "2022-06-17T19:41:54.254Z"
   },
   {
    "duration": 96,
    "start_time": "2022-06-17T19:41:57.437Z"
   },
   {
    "duration": 414,
    "start_time": "2022-06-17T19:41:57.535Z"
   },
   {
    "duration": 14,
    "start_time": "2022-06-17T19:41:57.952Z"
   },
   {
    "duration": 9,
    "start_time": "2022-06-17T19:41:57.968Z"
   },
   {
    "duration": 1759,
    "start_time": "2022-06-17T19:41:57.979Z"
   },
   {
    "duration": 8,
    "start_time": "2022-06-17T19:41:59.739Z"
   },
   {
    "duration": 183,
    "start_time": "2022-06-17T19:41:59.749Z"
   },
   {
    "duration": 6971,
    "start_time": "2022-06-17T19:41:59.933Z"
   },
   {
    "duration": 8,
    "start_time": "2022-06-17T19:42:06.906Z"
   },
   {
    "duration": 159,
    "start_time": "2022-06-17T19:42:06.926Z"
   },
   {
    "duration": 3800,
    "start_time": "2022-06-17T19:42:07.087Z"
   },
   {
    "duration": 8,
    "start_time": "2022-06-17T19:42:10.889Z"
   },
   {
    "duration": 176,
    "start_time": "2022-06-17T19:42:10.899Z"
   },
   {
    "duration": 3558,
    "start_time": "2022-06-17T19:42:11.077Z"
   },
   {
    "duration": 11,
    "start_time": "2022-06-17T19:42:14.727Z"
   },
   {
    "duration": 548,
    "start_time": "2022-06-17T19:42:14.742Z"
   },
   {
    "duration": 47080,
    "start_time": "2022-06-17T19:42:15.292Z"
   },
   {
    "duration": 12,
    "start_time": "2022-06-17T19:43:02.374Z"
   },
   {
    "duration": 210,
    "start_time": "2022-06-17T19:43:02.388Z"
   },
   {
    "duration": 15089,
    "start_time": "2022-06-17T19:43:02.600Z"
   },
   {
    "duration": 11,
    "start_time": "2022-06-17T19:43:17.690Z"
   },
   {
    "duration": 179,
    "start_time": "2022-06-17T19:43:17.703Z"
   },
   {
    "duration": 23994,
    "start_time": "2022-06-17T19:43:17.884Z"
   },
   {
    "duration": 13,
    "start_time": "2022-06-17T19:43:41.879Z"
   },
   {
    "duration": 201,
    "start_time": "2022-06-17T19:43:41.894Z"
   },
   {
    "duration": 6,
    "start_time": "2022-06-17T19:43:42.097Z"
   },
   {
    "duration": 454,
    "start_time": "2022-06-17T19:43:42.105Z"
   },
   {
    "duration": 214,
    "start_time": "2022-06-17T19:43:42.561Z"
   },
   {
    "duration": 15,
    "start_time": "2022-06-17T19:43:42.777Z"
   },
   {
    "duration": 33,
    "start_time": "2022-06-17T19:43:42.793Z"
   },
   {
    "duration": 8,
    "start_time": "2022-06-17T19:43:42.827Z"
   },
   {
    "duration": 127,
    "start_time": "2022-06-17T19:53:43.311Z"
   },
   {
    "duration": 39,
    "start_time": "2022-06-17T19:53:49.065Z"
   },
   {
    "duration": 4,
    "start_time": "2022-06-17T19:53:49.821Z"
   },
   {
    "duration": 5,
    "start_time": "2022-06-17T19:53:52.503Z"
   },
   {
    "duration": 10,
    "start_time": "2022-06-17T19:53:56.261Z"
   },
   {
    "duration": 4,
    "start_time": "2022-06-17T19:53:59.559Z"
   },
   {
    "duration": 120,
    "start_time": "2022-06-17T19:54:02.483Z"
   },
   {
    "duration": 125,
    "start_time": "2022-06-17T19:54:52.148Z"
   },
   {
    "duration": 118,
    "start_time": "2022-06-17T19:55:00.508Z"
   },
   {
    "duration": 115,
    "start_time": "2022-06-17T19:55:03.898Z"
   },
   {
    "duration": 5,
    "start_time": "2022-06-17T19:55:08.475Z"
   },
   {
    "duration": 125,
    "start_time": "2022-06-17T19:55:18.939Z"
   },
   {
    "duration": 5,
    "start_time": "2022-06-17T20:14:10.106Z"
   },
   {
    "duration": 6,
    "start_time": "2022-06-17T20:14:18.328Z"
   },
   {
    "duration": 4,
    "start_time": "2022-06-17T20:15:02.992Z"
   },
   {
    "duration": 3,
    "start_time": "2022-06-17T20:15:10.588Z"
   },
   {
    "duration": 9,
    "start_time": "2022-06-17T20:15:31.741Z"
   },
   {
    "duration": 7,
    "start_time": "2022-06-17T20:16:27.080Z"
   },
   {
    "duration": 26,
    "start_time": "2022-06-17T20:17:25.593Z"
   },
   {
    "duration": 27,
    "start_time": "2022-06-17T20:18:36.864Z"
   },
   {
    "duration": 37,
    "start_time": "2022-06-17T20:38:09.870Z"
   },
   {
    "duration": 1570,
    "start_time": "2022-06-18T09:24:40.781Z"
   },
   {
    "duration": 78,
    "start_time": "2022-06-18T09:27:10.041Z"
   },
   {
    "duration": 6,
    "start_time": "2022-06-18T09:27:10.943Z"
   },
   {
    "duration": 10,
    "start_time": "2022-06-18T09:27:11.923Z"
   },
   {
    "duration": 8,
    "start_time": "2022-06-18T09:27:13.568Z"
   },
   {
    "duration": 12,
    "start_time": "2022-06-18T09:27:14.273Z"
   },
   {
    "duration": 6,
    "start_time": "2022-06-18T09:27:15.484Z"
   },
   {
    "duration": 169,
    "start_time": "2022-06-18T09:27:20.933Z"
   },
   {
    "duration": 7,
    "start_time": "2022-06-18T09:27:21.635Z"
   },
   {
    "duration": 37,
    "start_time": "2022-06-18T09:29:43.906Z"
   },
   {
    "duration": 131,
    "start_time": "2022-06-18T09:29:49.603Z"
   },
   {
    "duration": 5,
    "start_time": "2022-06-18T09:29:50.109Z"
   },
   {
    "duration": 6,
    "start_time": "2022-06-18T09:29:50.780Z"
   },
   {
    "duration": 23,
    "start_time": "2022-06-18T09:31:04.613Z"
   },
   {
    "duration": 122,
    "start_time": "2022-06-18T09:31:05.060Z"
   },
   {
    "duration": 7,
    "start_time": "2022-06-18T09:31:12.107Z"
   },
   {
    "duration": 27,
    "start_time": "2022-06-18T09:33:46.759Z"
   },
   {
    "duration": 8,
    "start_time": "2022-06-18T09:35:56.654Z"
   },
   {
    "duration": 13,
    "start_time": "2022-06-18T09:35:58.789Z"
   },
   {
    "duration": 10,
    "start_time": "2022-06-18T09:36:00.904Z"
   },
   {
    "duration": 3,
    "start_time": "2022-06-18T09:36:05.489Z"
   },
   {
    "duration": 9,
    "start_time": "2022-06-18T09:36:05.776Z"
   },
   {
    "duration": 23,
    "start_time": "2022-06-18T09:36:06.073Z"
   },
   {
    "duration": 4,
    "start_time": "2022-06-18T09:36:06.484Z"
   },
   {
    "duration": 5,
    "start_time": "2022-06-18T09:36:06.811Z"
   },
   {
    "duration": 1858,
    "start_time": "2022-06-18T09:36:07.699Z"
   },
   {
    "duration": 8,
    "start_time": "2022-06-18T09:36:09.559Z"
   },
   {
    "duration": 179,
    "start_time": "2022-06-18T09:36:10.364Z"
   },
   {
    "duration": 8,
    "start_time": "2022-06-18T09:37:53.193Z"
   },
   {
    "duration": 2058,
    "start_time": "2022-06-18T09:37:54.319Z"
   },
   {
    "duration": 9,
    "start_time": "2022-06-18T09:37:56.379Z"
   },
   {
    "duration": 181,
    "start_time": "2022-06-18T09:37:56.390Z"
   },
   {
    "duration": 38,
    "start_time": "2022-06-18T09:42:10.942Z"
   },
   {
    "duration": 55544,
    "start_time": "2022-06-18T09:42:31.241Z"
   },
   {
    "duration": 13,
    "start_time": "2022-06-18T09:43:26.786Z"
   },
   {
    "duration": 205,
    "start_time": "2022-06-18T09:43:26.800Z"
   },
   {
    "duration": 13,
    "start_time": "2022-06-18T09:45:51.501Z"
   },
   {
    "duration": 207,
    "start_time": "2022-06-18T09:45:52.003Z"
   },
   {
    "duration": 2781,
    "start_time": "2022-06-18T09:45:56.147Z"
   },
   {
    "duration": 15,
    "start_time": "2022-06-18T09:45:58.930Z"
   },
   {
    "duration": 345,
    "start_time": "2022-06-18T09:45:59.742Z"
   },
   {
    "duration": 42,
    "start_time": "2022-06-18T09:47:09.301Z"
   },
   {
    "duration": 35,
    "start_time": "2022-06-18T09:47:54.393Z"
   },
   {
    "duration": 8,
    "start_time": "2022-06-18T09:47:54.966Z"
   },
   {
    "duration": 18,
    "start_time": "2022-06-18T09:53:31.948Z"
   },
   {
    "duration": 6,
    "start_time": "2022-06-18T09:53:32.399Z"
   },
   {
    "duration": 8,
    "start_time": "2022-06-18T09:55:09.949Z"
   },
   {
    "duration": 8,
    "start_time": "2022-06-18T09:59:50.986Z"
   },
   {
    "duration": 17,
    "start_time": "2022-06-18T09:59:51.444Z"
   },
   {
    "duration": 9,
    "start_time": "2022-06-18T10:00:02.131Z"
   },
   {
    "duration": 9,
    "start_time": "2022-06-18T10:05:33.167Z"
   },
   {
    "duration": 12,
    "start_time": "2022-06-18T10:06:15.675Z"
   },
   {
    "duration": 9,
    "start_time": "2022-06-18T10:06:15.861Z"
   },
   {
    "duration": 9,
    "start_time": "2022-06-18T10:06:16.777Z"
   },
   {
    "duration": 12,
    "start_time": "2022-06-18T10:19:20.838Z"
   },
   {
    "duration": 14,
    "start_time": "2022-06-18T10:19:24.454Z"
   },
   {
    "duration": 7,
    "start_time": "2022-06-18T10:19:24.999Z"
   },
   {
    "duration": 7,
    "start_time": "2022-06-18T10:20:21.722Z"
   },
   {
    "duration": 9672,
    "start_time": "2022-06-18T10:24:02.626Z"
   },
   {
    "duration": 13056,
    "start_time": "2022-06-18T10:24:14.975Z"
   },
   {
    "duration": 4948,
    "start_time": "2022-06-18T10:24:56.585Z"
   },
   {
    "duration": 4914,
    "start_time": "2022-06-18T10:25:09.414Z"
   },
   {
    "duration": 4913,
    "start_time": "2022-06-18T10:26:28.531Z"
   },
   {
    "duration": 4939,
    "start_time": "2022-06-18T10:26:39.596Z"
   },
   {
    "duration": 11,
    "start_time": "2022-06-18T10:26:46.230Z"
   },
   {
    "duration": 4901,
    "start_time": "2022-06-18T10:27:25.732Z"
   },
   {
    "duration": 4,
    "start_time": "2022-06-18T10:27:58.706Z"
   },
   {
    "duration": 40,
    "start_time": "2022-06-18T10:27:59.647Z"
   },
   {
    "duration": 4,
    "start_time": "2022-06-18T10:27:59.938Z"
   },
   {
    "duration": 5,
    "start_time": "2022-06-18T10:28:00.234Z"
   },
   {
    "duration": 6,
    "start_time": "2022-06-18T10:28:00.516Z"
   },
   {
    "duration": 11,
    "start_time": "2022-06-18T10:28:00.800Z"
   },
   {
    "duration": 4,
    "start_time": "2022-06-18T10:28:01.227Z"
   },
   {
    "duration": 123,
    "start_time": "2022-06-18T10:28:01.682Z"
   },
   {
    "duration": 9,
    "start_time": "2022-06-18T10:28:01.837Z"
   },
   {
    "duration": 128,
    "start_time": "2022-06-18T10:28:02.291Z"
   },
   {
    "duration": 6,
    "start_time": "2022-06-18T10:28:02.616Z"
   },
   {
    "duration": 10,
    "start_time": "2022-06-18T10:28:03.067Z"
   },
   {
    "duration": 8,
    "start_time": "2022-06-18T10:28:03.259Z"
   },
   {
    "duration": 9,
    "start_time": "2022-06-18T10:28:03.849Z"
   },
   {
    "duration": 5,
    "start_time": "2022-06-18T10:28:04.384Z"
   },
   {
    "duration": 2,
    "start_time": "2022-06-18T10:28:05.153Z"
   },
   {
    "duration": 8,
    "start_time": "2022-06-18T10:28:05.460Z"
   },
   {
    "duration": 25,
    "start_time": "2022-06-18T10:28:05.768Z"
   },
   {
    "duration": 4,
    "start_time": "2022-06-18T10:28:06.248Z"
   },
   {
    "duration": 6,
    "start_time": "2022-06-18T10:28:06.590Z"
   },
   {
    "duration": 1806,
    "start_time": "2022-06-18T10:28:07.416Z"
   },
   {
    "duration": 9,
    "start_time": "2022-06-18T10:28:09.223Z"
   },
   {
    "duration": 184,
    "start_time": "2022-06-18T10:28:09.233Z"
   },
   {
    "duration": 51349,
    "start_time": "2022-06-18T10:28:09.440Z"
   },
   {
    "duration": 12,
    "start_time": "2022-06-18T10:29:00.791Z"
   },
   {
    "duration": 182,
    "start_time": "2022-06-18T10:29:00.804Z"
   },
   {
    "duration": 3544,
    "start_time": "2022-06-18T10:29:00.989Z"
   },
   {
    "duration": 11,
    "start_time": "2022-06-18T10:29:04.535Z"
   },
   {
    "duration": 543,
    "start_time": "2022-06-18T10:29:04.548Z"
   },
   {
    "duration": 15,
    "start_time": "2022-06-18T10:29:05.092Z"
   },
   {
    "duration": 21,
    "start_time": "2022-06-18T10:29:05.109Z"
   },
   {
    "duration": 7,
    "start_time": "2022-06-18T10:29:05.132Z"
   },
   {
    "duration": 13,
    "start_time": "2022-06-18T10:29:05.142Z"
   },
   {
    "duration": 15,
    "start_time": "2022-06-18T10:29:05.157Z"
   },
   {
    "duration": 1874,
    "start_time": "2022-06-18T10:29:05.174Z"
   },
   {
    "duration": 9,
    "start_time": "2022-06-18T10:29:07.052Z"
   },
   {
    "duration": 208,
    "start_time": "2022-06-18T10:29:07.064Z"
   },
   {
    "duration": 6694,
    "start_time": "2022-06-18T10:29:07.273Z"
   },
   {
    "duration": 8,
    "start_time": "2022-06-18T10:29:13.968Z"
   },
   {
    "duration": 192,
    "start_time": "2022-06-18T10:29:13.977Z"
   },
   {
    "duration": 4377,
    "start_time": "2022-06-18T10:29:14.171Z"
   },
   {
    "duration": 7,
    "start_time": "2022-06-18T10:29:18.550Z"
   },
   {
    "duration": 172,
    "start_time": "2022-06-18T10:29:18.559Z"
   },
   {
    "duration": 4001,
    "start_time": "2022-06-18T10:29:18.733Z"
   },
   {
    "duration": 13,
    "start_time": "2022-06-18T10:30:24.384Z"
   },
   {
    "duration": 337,
    "start_time": "2022-06-18T10:30:24.643Z"
   },
   {
    "duration": 48217,
    "start_time": "2022-06-18T10:30:28.309Z"
   },
   {
    "duration": 14,
    "start_time": "2022-06-18T10:31:16.529Z"
   },
   {
    "duration": 190,
    "start_time": "2022-06-18T10:31:16.544Z"
   },
   {
    "duration": 15060,
    "start_time": "2022-06-18T10:31:16.736Z"
   },
   {
    "duration": 11,
    "start_time": "2022-06-18T10:31:31.798Z"
   },
   {
    "duration": 194,
    "start_time": "2022-06-18T10:31:31.811Z"
   },
   {
    "duration": 25063,
    "start_time": "2022-06-18T10:31:32.007Z"
   },
   {
    "duration": 13,
    "start_time": "2022-06-18T10:31:57.072Z"
   },
   {
    "duration": 197,
    "start_time": "2022-06-18T10:31:57.087Z"
   },
   {
    "duration": 6,
    "start_time": "2022-06-18T10:31:57.286Z"
   },
   {
    "duration": 24,
    "start_time": "2022-06-18T10:34:40.429Z"
   },
   {
    "duration": 391,
    "start_time": "2022-06-18T10:34:41.130Z"
   },
   {
    "duration": 29,
    "start_time": "2022-06-18T10:34:57.240Z"
   },
   {
    "duration": 24,
    "start_time": "2022-06-18T10:35:06.049Z"
   },
   {
    "duration": 26,
    "start_time": "2022-06-18T10:35:08.545Z"
   },
   {
    "duration": 347,
    "start_time": "2022-06-18T10:35:09.100Z"
   },
   {
    "duration": 6,
    "start_time": "2022-06-18T10:35:14.280Z"
   },
   {
    "duration": 279,
    "start_time": "2022-06-18T10:35:14.788Z"
   },
   {
    "duration": 295,
    "start_time": "2022-06-18T10:37:15.645Z"
   },
   {
    "duration": 13,
    "start_time": "2022-06-18T10:37:31.462Z"
   },
   {
    "duration": 16,
    "start_time": "2022-06-18T10:37:33.020Z"
   },
   {
    "duration": 8,
    "start_time": "2022-06-18T10:37:35.031Z"
   },
   {
    "duration": 16,
    "start_time": "2022-06-18T10:38:32.893Z"
   },
   {
    "duration": 8,
    "start_time": "2022-06-18T10:38:33.821Z"
   },
   {
    "duration": 20,
    "start_time": "2022-06-18T10:38:42.814Z"
   },
   {
    "duration": 7,
    "start_time": "2022-06-18T10:38:43.219Z"
   },
   {
    "duration": 7,
    "start_time": "2022-06-18T10:38:47.527Z"
   },
   {
    "duration": 12,
    "start_time": "2022-06-18T10:39:13.562Z"
   },
   {
    "duration": 7,
    "start_time": "2022-06-18T10:39:13.833Z"
   },
   {
    "duration": 6,
    "start_time": "2022-06-18T10:39:19.118Z"
   },
   {
    "duration": 6,
    "start_time": "2022-06-18T10:39:48.692Z"
   },
   {
    "duration": 11,
    "start_time": "2022-06-18T10:39:54.244Z"
   },
   {
    "duration": 9,
    "start_time": "2022-06-18T10:39:54.492Z"
   },
   {
    "duration": 7,
    "start_time": "2022-06-18T10:39:55.178Z"
   },
   {
    "duration": 16,
    "start_time": "2022-06-18T10:40:00.065Z"
   },
   {
    "duration": 8,
    "start_time": "2022-06-18T10:40:00.386Z"
   },
   {
    "duration": 7,
    "start_time": "2022-06-18T10:40:00.790Z"
   },
   {
    "duration": 13,
    "start_time": "2022-06-18T10:40:25.421Z"
   },
   {
    "duration": 8,
    "start_time": "2022-06-18T10:40:25.895Z"
   },
   {
    "duration": 12,
    "start_time": "2022-06-18T10:40:30.989Z"
   },
   {
    "duration": 11,
    "start_time": "2022-06-18T10:40:31.265Z"
   },
   {
    "duration": 13,
    "start_time": "2022-06-18T10:40:37.699Z"
   },
   {
    "duration": 8,
    "start_time": "2022-06-18T10:40:37.923Z"
   },
   {
    "duration": 14,
    "start_time": "2022-06-18T10:40:41.442Z"
   },
   {
    "duration": 8,
    "start_time": "2022-06-18T10:40:41.781Z"
   },
   {
    "duration": 12,
    "start_time": "2022-06-18T10:40:46.415Z"
   },
   {
    "duration": 7,
    "start_time": "2022-06-18T10:40:47.242Z"
   },
   {
    "duration": 14,
    "start_time": "2022-06-18T10:40:51.130Z"
   },
   {
    "duration": 8,
    "start_time": "2022-06-18T10:40:51.412Z"
   },
   {
    "duration": 1386,
    "start_time": "2022-06-18T10:42:02.422Z"
   },
   {
    "duration": 43,
    "start_time": "2022-06-18T10:42:03.809Z"
   },
   {
    "duration": 5,
    "start_time": "2022-06-18T10:42:03.854Z"
   },
   {
    "duration": 13,
    "start_time": "2022-06-18T10:42:03.861Z"
   },
   {
    "duration": 14,
    "start_time": "2022-06-18T10:42:03.876Z"
   },
   {
    "duration": 21,
    "start_time": "2022-06-18T10:42:03.892Z"
   },
   {
    "duration": 16,
    "start_time": "2022-06-18T10:42:03.915Z"
   },
   {
    "duration": 170,
    "start_time": "2022-06-18T10:42:03.933Z"
   },
   {
    "duration": 6,
    "start_time": "2022-06-18T10:42:04.105Z"
   },
   {
    "duration": 202,
    "start_time": "2022-06-18T10:42:04.114Z"
   },
   {
    "duration": 12,
    "start_time": "2022-06-18T10:42:04.318Z"
   },
   {
    "duration": 37,
    "start_time": "2022-06-18T10:42:04.332Z"
   },
   {
    "duration": 7,
    "start_time": "2022-06-18T10:42:04.374Z"
   },
   {
    "duration": 21,
    "start_time": "2022-06-18T10:42:04.383Z"
   },
   {
    "duration": 17,
    "start_time": "2022-06-18T10:42:04.405Z"
   },
   {
    "duration": 16,
    "start_time": "2022-06-18T10:42:04.424Z"
   },
   {
    "duration": 22,
    "start_time": "2022-06-18T10:42:04.441Z"
   },
   {
    "duration": 30,
    "start_time": "2022-06-18T10:42:04.465Z"
   },
   {
    "duration": 18,
    "start_time": "2022-06-18T10:42:04.497Z"
   },
   {
    "duration": 13,
    "start_time": "2022-06-18T10:42:04.517Z"
   },
   {
    "duration": 1931,
    "start_time": "2022-06-18T10:42:04.531Z"
   },
   {
    "duration": 8,
    "start_time": "2022-06-18T10:42:06.464Z"
   },
   {
    "duration": 177,
    "start_time": "2022-06-18T10:42:06.473Z"
   },
   {
    "duration": 54586,
    "start_time": "2022-06-18T10:42:06.651Z"
   },
   {
    "duration": 11,
    "start_time": "2022-06-18T10:43:01.239Z"
   },
   {
    "duration": 205,
    "start_time": "2022-06-18T10:43:01.252Z"
   },
   {
    "duration": 3482,
    "start_time": "2022-06-18T10:43:01.458Z"
   },
   {
    "duration": 9,
    "start_time": "2022-06-18T10:43:05.029Z"
   },
   {
    "duration": 537,
    "start_time": "2022-06-18T10:43:05.041Z"
   },
   {
    "duration": 23,
    "start_time": "2022-06-18T10:43:05.580Z"
   },
   {
    "duration": 6,
    "start_time": "2022-06-18T10:43:05.604Z"
   },
   {
    "duration": 17,
    "start_time": "2022-06-18T10:43:05.612Z"
   },
   {
    "duration": 15,
    "start_time": "2022-06-18T10:43:05.631Z"
   },
   {
    "duration": 7,
    "start_time": "2022-06-18T10:43:05.647Z"
   },
   {
    "duration": 2029,
    "start_time": "2022-06-18T10:43:05.655Z"
   },
   {
    "duration": 7,
    "start_time": "2022-06-18T10:43:07.686Z"
   },
   {
    "duration": 188,
    "start_time": "2022-06-18T10:43:07.695Z"
   },
   {
    "duration": 4953,
    "start_time": "2022-06-18T10:43:07.885Z"
   },
   {
    "duration": 7,
    "start_time": "2022-06-18T10:43:12.840Z"
   },
   {
    "duration": 198,
    "start_time": "2022-06-18T10:43:12.849Z"
   },
   {
    "duration": 4126,
    "start_time": "2022-06-18T10:43:13.049Z"
   },
   {
    "duration": 7,
    "start_time": "2022-06-18T10:43:17.177Z"
   },
   {
    "duration": 169,
    "start_time": "2022-06-18T10:43:17.185Z"
   },
   {
    "duration": 3379,
    "start_time": "2022-06-18T10:43:17.356Z"
   },
   {
    "duration": 97,
    "start_time": "2022-06-18T10:43:20.737Z"
   },
   {
    "duration": 390,
    "start_time": "2022-06-18T10:43:20.925Z"
   },
   {
    "duration": 37980,
    "start_time": "2022-06-18T10:43:21.326Z"
   },
   {
    "duration": 21,
    "start_time": "2022-06-18T10:43:59.308Z"
   },
   {
    "duration": 191,
    "start_time": "2022-06-18T10:43:59.331Z"
   },
   {
    "duration": 16499,
    "start_time": "2022-06-18T10:43:59.525Z"
   },
   {
    "duration": 12,
    "start_time": "2022-06-18T10:44:16.027Z"
   },
   {
    "duration": 197,
    "start_time": "2022-06-18T10:44:16.041Z"
   },
   {
    "duration": 25725,
    "start_time": "2022-06-18T10:44:16.240Z"
   },
   {
    "duration": 15,
    "start_time": "2022-06-18T10:44:41.967Z"
   },
   {
    "duration": 200,
    "start_time": "2022-06-18T10:44:41.984Z"
   },
   {
    "duration": 5,
    "start_time": "2022-06-18T10:44:42.186Z"
   },
   {
    "duration": 353,
    "start_time": "2022-06-18T10:44:42.193Z"
   },
   {
    "duration": 310,
    "start_time": "2022-06-18T10:44:42.547Z"
   },
   {
    "duration": 14,
    "start_time": "2022-06-18T10:44:42.859Z"
   },
   {
    "duration": 19,
    "start_time": "2022-06-18T10:44:42.875Z"
   },
   {
    "duration": 8,
    "start_time": "2022-06-18T10:44:42.896Z"
   },
   {
    "duration": 6,
    "start_time": "2022-06-18T10:48:23.274Z"
   },
   {
    "duration": 278,
    "start_time": "2022-06-18T10:48:24.109Z"
   },
   {
    "duration": 210,
    "start_time": "2022-06-18T10:50:13.356Z"
   },
   {
    "duration": 13,
    "start_time": "2022-06-18T10:50:49.403Z"
   },
   {
    "duration": 14,
    "start_time": "2022-06-18T10:50:50.085Z"
   },
   {
    "duration": 16,
    "start_time": "2022-06-18T10:50:50.877Z"
   },
   {
    "duration": 13,
    "start_time": "2022-06-18T10:52:21.059Z"
   },
   {
    "duration": 15,
    "start_time": "2022-06-18T10:52:21.924Z"
   },
   {
    "duration": 16,
    "start_time": "2022-06-18T10:52:22.885Z"
   },
   {
    "duration": 1447,
    "start_time": "2022-06-19T13:42:43.762Z"
   },
   {
    "duration": 106,
    "start_time": "2022-06-19T13:42:52.283Z"
   },
   {
    "duration": 55,
    "start_time": "2022-06-19T13:43:05.887Z"
   },
   {
    "duration": 46,
    "start_time": "2022-06-19T13:43:10.611Z"
   },
   {
    "duration": 106,
    "start_time": "2022-06-19T13:43:49.478Z"
   },
   {
    "duration": 73,
    "start_time": "2022-06-19T13:46:30.219Z"
   },
   {
    "duration": 48,
    "start_time": "2022-06-19T13:47:30.075Z"
   },
   {
    "duration": 62,
    "start_time": "2022-06-19T13:47:54.267Z"
   },
   {
    "duration": 46,
    "start_time": "2022-06-19T13:48:26.567Z"
   },
   {
    "duration": 49,
    "start_time": "2022-06-19T13:48:30.255Z"
   },
   {
    "duration": 61,
    "start_time": "2022-06-19T13:48:54.275Z"
   },
   {
    "duration": 48,
    "start_time": "2022-06-19T13:49:07.339Z"
   },
   {
    "duration": 49,
    "start_time": "2022-06-19T13:49:10.275Z"
   },
   {
    "duration": 62,
    "start_time": "2022-06-19T13:49:37.419Z"
   },
   {
    "duration": 57,
    "start_time": "2022-06-19T13:53:07.907Z"
   },
   {
    "duration": 58,
    "start_time": "2022-06-19T13:53:13.911Z"
   },
   {
    "duration": 64,
    "start_time": "2022-06-19T13:53:19.129Z"
   },
   {
    "duration": 4,
    "start_time": "2022-06-19T14:10:41.217Z"
   },
   {
    "duration": 3,
    "start_time": "2022-06-19T14:10:44.876Z"
   },
   {
    "duration": 5,
    "start_time": "2022-06-19T14:10:51.907Z"
   },
   {
    "duration": 4,
    "start_time": "2022-06-19T14:11:13.322Z"
   },
   {
    "duration": 4,
    "start_time": "2022-06-19T14:11:36.908Z"
   },
   {
    "duration": 4,
    "start_time": "2022-06-19T14:11:41.217Z"
   },
   {
    "duration": 231,
    "start_time": "2022-06-19T14:13:13.129Z"
   },
   {
    "duration": 205,
    "start_time": "2022-06-19T14:13:24.713Z"
   },
   {
    "duration": 192,
    "start_time": "2022-06-19T14:13:32.801Z"
   },
   {
    "duration": 205,
    "start_time": "2022-06-19T14:13:56.563Z"
   },
   {
    "duration": 209,
    "start_time": "2022-06-19T14:17:54.216Z"
   },
   {
    "duration": 2,
    "start_time": "2022-06-19T14:34:11.333Z"
   },
   {
    "duration": 51,
    "start_time": "2022-06-19T18:33:59.864Z"
   },
   {
    "duration": 1453,
    "start_time": "2022-06-19T18:34:07.766Z"
   },
   {
    "duration": 149,
    "start_time": "2022-06-19T18:34:09.221Z"
   },
   {
    "duration": 4,
    "start_time": "2022-06-19T18:34:09.371Z"
   },
   {
    "duration": 7,
    "start_time": "2022-06-19T18:34:09.377Z"
   },
   {
    "duration": 10,
    "start_time": "2022-06-19T18:34:09.385Z"
   },
   {
    "duration": 12,
    "start_time": "2022-06-19T18:34:09.396Z"
   },
   {
    "duration": 4,
    "start_time": "2022-06-19T18:34:09.409Z"
   },
   {
    "duration": 135,
    "start_time": "2022-06-19T18:34:09.414Z"
   },
   {
    "duration": 5,
    "start_time": "2022-06-19T18:34:09.551Z"
   },
   {
    "duration": 154,
    "start_time": "2022-06-19T18:34:09.558Z"
   },
   {
    "duration": 143,
    "start_time": "2022-06-19T18:34:09.713Z"
   },
   {
    "duration": 0,
    "start_time": "2022-06-19T18:34:09.859Z"
   },
   {
    "duration": 0,
    "start_time": "2022-06-19T18:34:09.860Z"
   },
   {
    "duration": 0,
    "start_time": "2022-06-19T18:34:09.862Z"
   },
   {
    "duration": 0,
    "start_time": "2022-06-19T18:34:09.863Z"
   },
   {
    "duration": 0,
    "start_time": "2022-06-19T18:34:09.864Z"
   },
   {
    "duration": 0,
    "start_time": "2022-06-19T18:34:09.865Z"
   },
   {
    "duration": 0,
    "start_time": "2022-06-19T18:34:09.866Z"
   },
   {
    "duration": 0,
    "start_time": "2022-06-19T18:34:09.867Z"
   },
   {
    "duration": 0,
    "start_time": "2022-06-19T18:34:09.868Z"
   },
   {
    "duration": 0,
    "start_time": "2022-06-19T18:34:09.869Z"
   },
   {
    "duration": 0,
    "start_time": "2022-06-19T18:34:09.870Z"
   },
   {
    "duration": 0,
    "start_time": "2022-06-19T18:34:09.871Z"
   },
   {
    "duration": 0,
    "start_time": "2022-06-19T18:34:09.872Z"
   },
   {
    "duration": 0,
    "start_time": "2022-06-19T18:34:09.873Z"
   },
   {
    "duration": 0,
    "start_time": "2022-06-19T18:34:09.874Z"
   },
   {
    "duration": 0,
    "start_time": "2022-06-19T18:34:09.875Z"
   },
   {
    "duration": 0,
    "start_time": "2022-06-19T18:34:09.876Z"
   },
   {
    "duration": 0,
    "start_time": "2022-06-19T18:34:09.877Z"
   },
   {
    "duration": 0,
    "start_time": "2022-06-19T18:34:09.878Z"
   },
   {
    "duration": 0,
    "start_time": "2022-06-19T18:34:09.879Z"
   },
   {
    "duration": 0,
    "start_time": "2022-06-19T18:34:09.880Z"
   },
   {
    "duration": 0,
    "start_time": "2022-06-19T18:34:09.882Z"
   },
   {
    "duration": 0,
    "start_time": "2022-06-19T18:34:09.883Z"
   },
   {
    "duration": 1,
    "start_time": "2022-06-19T18:34:09.883Z"
   },
   {
    "duration": 0,
    "start_time": "2022-06-19T18:34:09.884Z"
   },
   {
    "duration": 0,
    "start_time": "2022-06-19T18:34:09.885Z"
   },
   {
    "duration": 0,
    "start_time": "2022-06-19T18:34:09.886Z"
   },
   {
    "duration": 0,
    "start_time": "2022-06-19T18:34:09.887Z"
   },
   {
    "duration": 0,
    "start_time": "2022-06-19T18:34:09.888Z"
   },
   {
    "duration": 0,
    "start_time": "2022-06-19T18:34:09.889Z"
   },
   {
    "duration": 0,
    "start_time": "2022-06-19T18:34:09.942Z"
   },
   {
    "duration": 0,
    "start_time": "2022-06-19T18:34:09.943Z"
   },
   {
    "duration": 0,
    "start_time": "2022-06-19T18:34:09.944Z"
   },
   {
    "duration": 0,
    "start_time": "2022-06-19T18:34:09.946Z"
   },
   {
    "duration": 0,
    "start_time": "2022-06-19T18:34:09.947Z"
   },
   {
    "duration": 0,
    "start_time": "2022-06-19T18:34:09.948Z"
   },
   {
    "duration": 0,
    "start_time": "2022-06-19T18:34:09.949Z"
   },
   {
    "duration": 0,
    "start_time": "2022-06-19T18:34:09.950Z"
   },
   {
    "duration": 0,
    "start_time": "2022-06-19T18:34:09.951Z"
   },
   {
    "duration": 0,
    "start_time": "2022-06-19T18:34:09.952Z"
   },
   {
    "duration": 0,
    "start_time": "2022-06-19T18:34:09.953Z"
   },
   {
    "duration": 0,
    "start_time": "2022-06-19T18:34:09.954Z"
   },
   {
    "duration": 0,
    "start_time": "2022-06-19T18:34:09.955Z"
   },
   {
    "duration": 0,
    "start_time": "2022-06-19T18:34:09.957Z"
   },
   {
    "duration": 0,
    "start_time": "2022-06-19T18:34:09.957Z"
   },
   {
    "duration": 0,
    "start_time": "2022-06-19T18:34:09.958Z"
   },
   {
    "duration": 0,
    "start_time": "2022-06-19T18:34:09.959Z"
   },
   {
    "duration": 0,
    "start_time": "2022-06-19T18:34:09.960Z"
   },
   {
    "duration": 0,
    "start_time": "2022-06-19T18:34:09.961Z"
   },
   {
    "duration": 0,
    "start_time": "2022-06-19T18:34:09.962Z"
   },
   {
    "duration": 0,
    "start_time": "2022-06-19T18:34:09.963Z"
   },
   {
    "duration": 10,
    "start_time": "2022-06-19T18:34:31.059Z"
   },
   {
    "duration": 1290,
    "start_time": "2022-06-19T18:35:12.993Z"
   },
   {
    "duration": 42,
    "start_time": "2022-06-19T18:35:14.286Z"
   },
   {
    "duration": 5,
    "start_time": "2022-06-19T18:35:14.332Z"
   },
   {
    "duration": 13,
    "start_time": "2022-06-19T18:35:14.338Z"
   },
   {
    "duration": 23,
    "start_time": "2022-06-19T18:35:14.352Z"
   },
   {
    "duration": 13,
    "start_time": "2022-06-19T18:35:14.377Z"
   },
   {
    "duration": 4,
    "start_time": "2022-06-19T18:35:14.391Z"
   },
   {
    "duration": 151,
    "start_time": "2022-06-19T18:35:14.397Z"
   },
   {
    "duration": 6,
    "start_time": "2022-06-19T18:35:14.551Z"
   },
   {
    "duration": 166,
    "start_time": "2022-06-19T18:35:14.558Z"
   },
   {
    "duration": 153,
    "start_time": "2022-06-19T18:35:14.726Z"
   },
   {
    "duration": 0,
    "start_time": "2022-06-19T18:35:14.883Z"
   },
   {
    "duration": 0,
    "start_time": "2022-06-19T18:35:14.884Z"
   },
   {
    "duration": 0,
    "start_time": "2022-06-19T18:35:14.885Z"
   },
   {
    "duration": 0,
    "start_time": "2022-06-19T18:35:14.886Z"
   },
   {
    "duration": 0,
    "start_time": "2022-06-19T18:35:14.887Z"
   },
   {
    "duration": 0,
    "start_time": "2022-06-19T18:35:14.888Z"
   },
   {
    "duration": 0,
    "start_time": "2022-06-19T18:35:14.888Z"
   },
   {
    "duration": 0,
    "start_time": "2022-06-19T18:35:14.889Z"
   },
   {
    "duration": 0,
    "start_time": "2022-06-19T18:35:14.890Z"
   },
   {
    "duration": 0,
    "start_time": "2022-06-19T18:35:14.891Z"
   },
   {
    "duration": 0,
    "start_time": "2022-06-19T18:35:14.892Z"
   },
   {
    "duration": 0,
    "start_time": "2022-06-19T18:35:14.893Z"
   },
   {
    "duration": 0,
    "start_time": "2022-06-19T18:35:14.894Z"
   },
   {
    "duration": 0,
    "start_time": "2022-06-19T18:35:14.895Z"
   },
   {
    "duration": 0,
    "start_time": "2022-06-19T18:35:14.897Z"
   },
   {
    "duration": 0,
    "start_time": "2022-06-19T18:35:14.898Z"
   },
   {
    "duration": 1,
    "start_time": "2022-06-19T18:35:14.899Z"
   },
   {
    "duration": 0,
    "start_time": "2022-06-19T18:35:14.901Z"
   },
   {
    "duration": 0,
    "start_time": "2022-06-19T18:35:14.902Z"
   },
   {
    "duration": 0,
    "start_time": "2022-06-19T18:35:14.903Z"
   },
   {
    "duration": 0,
    "start_time": "2022-06-19T18:35:14.904Z"
   },
   {
    "duration": 0,
    "start_time": "2022-06-19T18:35:14.904Z"
   },
   {
    "duration": 0,
    "start_time": "2022-06-19T18:35:14.905Z"
   },
   {
    "duration": 0,
    "start_time": "2022-06-19T18:35:14.906Z"
   },
   {
    "duration": 0,
    "start_time": "2022-06-19T18:35:14.907Z"
   },
   {
    "duration": 0,
    "start_time": "2022-06-19T18:35:14.942Z"
   },
   {
    "duration": 0,
    "start_time": "2022-06-19T18:35:14.943Z"
   },
   {
    "duration": 0,
    "start_time": "2022-06-19T18:35:14.945Z"
   },
   {
    "duration": 0,
    "start_time": "2022-06-19T18:35:14.946Z"
   },
   {
    "duration": 0,
    "start_time": "2022-06-19T18:35:14.946Z"
   },
   {
    "duration": 0,
    "start_time": "2022-06-19T18:35:14.948Z"
   },
   {
    "duration": 0,
    "start_time": "2022-06-19T18:35:14.949Z"
   },
   {
    "duration": 0,
    "start_time": "2022-06-19T18:35:14.950Z"
   },
   {
    "duration": 0,
    "start_time": "2022-06-19T18:35:14.951Z"
   },
   {
    "duration": 0,
    "start_time": "2022-06-19T18:35:14.952Z"
   },
   {
    "duration": 0,
    "start_time": "2022-06-19T18:35:14.953Z"
   },
   {
    "duration": 0,
    "start_time": "2022-06-19T18:35:14.955Z"
   },
   {
    "duration": 0,
    "start_time": "2022-06-19T18:35:14.955Z"
   },
   {
    "duration": 0,
    "start_time": "2022-06-19T18:35:14.957Z"
   },
   {
    "duration": 0,
    "start_time": "2022-06-19T18:35:14.958Z"
   },
   {
    "duration": 0,
    "start_time": "2022-06-19T18:35:14.959Z"
   },
   {
    "duration": 0,
    "start_time": "2022-06-19T18:35:14.960Z"
   },
   {
    "duration": 0,
    "start_time": "2022-06-19T18:35:14.961Z"
   },
   {
    "duration": 0,
    "start_time": "2022-06-19T18:35:14.962Z"
   },
   {
    "duration": 0,
    "start_time": "2022-06-19T18:35:14.963Z"
   },
   {
    "duration": 0,
    "start_time": "2022-06-19T18:35:14.964Z"
   },
   {
    "duration": 0,
    "start_time": "2022-06-19T18:35:14.965Z"
   },
   {
    "duration": 0,
    "start_time": "2022-06-19T18:35:14.966Z"
   },
   {
    "duration": 0,
    "start_time": "2022-06-19T18:35:14.968Z"
   },
   {
    "duration": 0,
    "start_time": "2022-06-19T18:35:14.969Z"
   },
   {
    "duration": 0,
    "start_time": "2022-06-19T18:35:14.970Z"
   },
   {
    "duration": 4,
    "start_time": "2022-06-19T18:35:33.010Z"
   },
   {
    "duration": 40,
    "start_time": "2022-06-19T18:35:34.351Z"
   },
   {
    "duration": 4,
    "start_time": "2022-06-19T18:35:34.945Z"
   },
   {
    "duration": 4,
    "start_time": "2022-06-19T18:35:35.250Z"
   },
   {
    "duration": 6,
    "start_time": "2022-06-19T18:35:35.562Z"
   },
   {
    "duration": 10,
    "start_time": "2022-06-19T18:35:38.249Z"
   },
   {
    "duration": 4,
    "start_time": "2022-06-19T18:35:38.680Z"
   },
   {
    "duration": 123,
    "start_time": "2022-06-19T18:35:39.145Z"
   },
   {
    "duration": 5,
    "start_time": "2022-06-19T18:35:39.304Z"
   },
   {
    "duration": 150,
    "start_time": "2022-06-19T18:35:39.754Z"
   },
   {
    "duration": 55,
    "start_time": "2022-06-19T18:35:40.049Z"
   },
   {
    "duration": 5,
    "start_time": "2022-06-19T18:35:40.355Z"
   },
   {
    "duration": 8,
    "start_time": "2022-06-19T18:35:40.675Z"
   },
   {
    "duration": 8,
    "start_time": "2022-06-19T18:35:43.899Z"
   },
   {
    "duration": 7,
    "start_time": "2022-06-19T18:35:44.288Z"
   },
   {
    "duration": 4,
    "start_time": "2022-06-19T18:35:44.821Z"
   },
   {
    "duration": 3,
    "start_time": "2022-06-19T18:35:45.545Z"
   },
   {
    "duration": 10,
    "start_time": "2022-06-19T18:35:45.850Z"
   },
   {
    "duration": 24,
    "start_time": "2022-06-19T18:35:46.155Z"
   },
   {
    "duration": 3,
    "start_time": "2022-06-19T18:35:46.633Z"
   },
   {
    "duration": 6,
    "start_time": "2022-06-19T18:35:46.920Z"
   },
   {
    "duration": 1811,
    "start_time": "2022-06-19T18:35:47.682Z"
   },
   {
    "duration": 7,
    "start_time": "2022-06-19T18:35:49.495Z"
   },
   {
    "duration": 193,
    "start_time": "2022-06-19T18:35:49.504Z"
   },
   {
    "duration": 54275,
    "start_time": "2022-06-19T18:35:49.700Z"
   },
   {
    "duration": 14,
    "start_time": "2022-06-19T18:36:43.977Z"
   },
   {
    "duration": 220,
    "start_time": "2022-06-19T18:36:43.993Z"
   },
   {
    "duration": 2733,
    "start_time": "2022-06-19T18:36:44.215Z"
   },
   {
    "duration": 9,
    "start_time": "2022-06-19T18:36:46.952Z"
   },
   {
    "duration": 559,
    "start_time": "2022-06-19T18:36:46.963Z"
   },
   {
    "duration": 68,
    "start_time": "2022-06-19T18:36:47.526Z"
   },
   {
    "duration": 3,
    "start_time": "2022-06-19T18:36:47.596Z"
   },
   {
    "duration": 9,
    "start_time": "2022-06-19T18:36:47.600Z"
   },
   {
    "duration": 18,
    "start_time": "2022-06-19T18:36:47.611Z"
   },
   {
    "duration": 10,
    "start_time": "2022-06-19T18:36:47.631Z"
   },
   {
    "duration": 2044,
    "start_time": "2022-06-19T18:36:47.643Z"
   },
   {
    "duration": 7,
    "start_time": "2022-06-19T18:36:49.689Z"
   },
   {
    "duration": 209,
    "start_time": "2022-06-19T18:36:49.697Z"
   },
   {
    "duration": 4911,
    "start_time": "2022-06-19T18:36:49.909Z"
   },
   {
    "duration": 6,
    "start_time": "2022-06-19T18:36:54.822Z"
   },
   {
    "duration": 177,
    "start_time": "2022-06-19T18:36:54.830Z"
   },
   {
    "duration": 4045,
    "start_time": "2022-06-19T18:36:55.009Z"
   },
   {
    "duration": 7,
    "start_time": "2022-06-19T18:36:59.056Z"
   },
   {
    "duration": 168,
    "start_time": "2022-06-19T18:36:59.065Z"
   },
   {
    "duration": 3108,
    "start_time": "2022-06-19T18:36:59.234Z"
   },
   {
    "duration": 8,
    "start_time": "2022-06-19T18:37:02.344Z"
   },
   {
    "duration": 545,
    "start_time": "2022-06-19T18:37:02.354Z"
   },
   {
    "duration": 36502,
    "start_time": "2022-06-19T18:37:02.903Z"
   },
   {
    "duration": 15,
    "start_time": "2022-06-19T18:37:39.407Z"
   },
   {
    "duration": 197,
    "start_time": "2022-06-19T18:37:39.424Z"
   },
   {
    "duration": 16356,
    "start_time": "2022-06-19T18:37:39.623Z"
   },
   {
    "duration": 11,
    "start_time": "2022-06-19T18:37:55.981Z"
   },
   {
    "duration": 193,
    "start_time": "2022-06-19T18:37:55.994Z"
   },
   {
    "duration": 25276,
    "start_time": "2022-06-19T18:37:56.190Z"
   },
   {
    "duration": 15,
    "start_time": "2022-06-19T18:38:21.468Z"
   },
   {
    "duration": 210,
    "start_time": "2022-06-19T18:38:21.485Z"
   },
   {
    "duration": 6,
    "start_time": "2022-06-19T18:38:21.697Z"
   },
   {
    "duration": 333,
    "start_time": "2022-06-19T18:38:21.705Z"
   },
   {
    "duration": 304,
    "start_time": "2022-06-19T18:38:22.040Z"
   },
   {
    "duration": 14,
    "start_time": "2022-06-19T18:38:22.345Z"
   },
   {
    "duration": 17,
    "start_time": "2022-06-19T18:38:22.361Z"
   },
   {
    "duration": 14,
    "start_time": "2022-06-19T18:38:22.379Z"
   },
   {
    "duration": 3,
    "start_time": "2022-06-19T18:38:39.436Z"
   },
   {
    "duration": 4,
    "start_time": "2022-06-19T18:38:45.905Z"
   },
   {
    "duration": 4,
    "start_time": "2022-06-19T18:39:03.415Z"
   },
   {
    "duration": 3,
    "start_time": "2022-06-19T18:42:36.550Z"
   },
   {
    "duration": 4,
    "start_time": "2022-06-19T18:42:43.092Z"
   },
   {
    "duration": 4,
    "start_time": "2022-06-19T18:44:32.184Z"
   },
   {
    "duration": 5,
    "start_time": "2022-06-19T18:44:44.955Z"
   },
   {
    "duration": 11,
    "start_time": "2022-06-19T18:44:46.988Z"
   },
   {
    "duration": 13,
    "start_time": "2022-06-19T18:45:22.284Z"
   },
   {
    "duration": 21,
    "start_time": "2022-06-19T18:45:36.011Z"
   },
   {
    "duration": 20,
    "start_time": "2022-06-19T18:45:40.756Z"
   },
   {
    "duration": 14,
    "start_time": "2022-06-19T18:45:50.708Z"
   },
   {
    "duration": 16,
    "start_time": "2022-06-19T19:04:25.050Z"
   },
   {
    "duration": 18,
    "start_time": "2022-06-19T19:04:36.928Z"
   }
  ],
  "kernelspec": {
   "display_name": "Python 3 (ipykernel)",
   "language": "python",
   "name": "python3"
  },
  "language_info": {
   "codemirror_mode": {
    "name": "ipython",
    "version": 3
   },
   "file_extension": ".py",
   "mimetype": "text/x-python",
   "name": "python",
   "nbconvert_exporter": "python",
   "pygments_lexer": "ipython3",
   "version": "3.9.7"
  },
  "toc": {
   "base_numbering": 1,
   "nav_menu": {},
   "number_sections": true,
   "sideBar": true,
   "skip_h1_title": true,
   "title_cell": "Содержание",
   "title_sidebar": "Contents",
   "toc_cell": true,
   "toc_position": {
    "height": "calc(100% - 180px)",
    "left": "10px",
    "top": "150px",
    "width": "307.6px"
   },
   "toc_section_display": true,
   "toc_window_display": true
  }
 },
 "nbformat": 4,
 "nbformat_minor": 2
}
