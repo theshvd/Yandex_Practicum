{
 "cells": [
  {
   "cell_type": "markdown",
   "metadata": {
    "toc": true
   },
   "source": [
    "<h1>Содержание<span class=\"tocSkip\"></span></h1>\n",
    "<div class=\"toc\"><ul class=\"toc-item\"><li><span><a href=\"#Загрузка-данных\" data-toc-modified-id=\"Загрузка-данных-1\"><span class=\"toc-item-num\">1&nbsp;&nbsp;</span>Загрузка данных</a></span></li><li><span><a href=\"#Работа-с-данными\" data-toc-modified-id=\"Работа-с-данными-2\"><span class=\"toc-item-num\">2&nbsp;&nbsp;</span>Работа с данными</a></span></li><li><span><a href=\"#Ответ-на-вопрос\" data-toc-modified-id=\"Ответ-на-вопрос-3\"><span class=\"toc-item-num\">3&nbsp;&nbsp;</span>Ответ на вопрос</a></span></li><li><span><a href=\"#Обучение-модели\" data-toc-modified-id=\"Обучение-модели-4\"><span class=\"toc-item-num\">4&nbsp;&nbsp;</span>Обучение модели</a></span></li><li><span><a href=\"#Доказательство\" data-toc-modified-id=\"Доказательство-5\"><span class=\"toc-item-num\">5&nbsp;&nbsp;</span>Доказательство</a></span></li><li><span><a href=\"#Алгоритм-преобразования\" data-toc-modified-id=\"Алгоритм-преобразования-6\"><span class=\"toc-item-num\">6&nbsp;&nbsp;</span>Алгоритм преобразования</a></span></li><li><span><a href=\"#Проверка-алгоритма\" data-toc-modified-id=\"Проверка-алгоритма-7\"><span class=\"toc-item-num\">7&nbsp;&nbsp;</span>Проверка алгоритма</a></span></li><li><span><a href=\"#Вывод\" data-toc-modified-id=\"Вывод-8\"><span class=\"toc-item-num\">8&nbsp;&nbsp;</span>Вывод</a></span></li></ul></div>"
   ]
  },
  {
   "cell_type": "markdown",
   "metadata": {},
   "source": [
    "# Защита персональных данных клиентов"
   ]
  },
  {
   "cell_type": "markdown",
   "metadata": {},
   "source": [
    "Вам нужно защитить данные клиентов страховой компании «Хоть потоп». Разработайте такой метод преобразования данных, чтобы по ним было сложно восстановить персональную информацию. Обоснуйте корректность его работы.\n",
    "\n",
    "Нужно защитить данные, чтобы при преобразовании качество моделей машинного обучения не ухудшилось. Подбирать наилучшую модель не требуется."
   ]
  },
  {
   "cell_type": "markdown",
   "metadata": {},
   "source": [
    "## Загрузка данных"
   ]
  },
  {
   "cell_type": "markdown",
   "metadata": {},
   "source": [
    "Подключаем необходимые библиотеки"
   ]
  },
  {
   "cell_type": "code",
   "execution_count": 2,
   "metadata": {},
   "outputs": [],
   "source": [
    "import pandas as pd\n",
    "import numpy as np\n",
    "from sklearn.linear_model import LinearRegression\n",
    "from sklearn.metrics import r2_score"
   ]
  },
  {
   "cell_type": "markdown",
   "metadata": {},
   "source": [
    "Прочитаем файл в переменную df"
   ]
  },
  {
   "cell_type": "code",
   "execution_count": 3,
   "metadata": {},
   "outputs": [],
   "source": [
    "df = pd.read_csv('/datasets/insurance.csv')"
   ]
  },
  {
   "cell_type": "markdown",
   "metadata": {},
   "source": [
    "Посмотрим на первые 5 строк исходного файла"
   ]
  },
  {
   "cell_type": "code",
   "execution_count": 4,
   "metadata": {
    "scrolled": true
   },
   "outputs": [
    {
     "data": {
      "text/html": [
       "<div>\n",
       "<style scoped>\n",
       "    .dataframe tbody tr th:only-of-type {\n",
       "        vertical-align: middle;\n",
       "    }\n",
       "\n",
       "    .dataframe tbody tr th {\n",
       "        vertical-align: top;\n",
       "    }\n",
       "\n",
       "    .dataframe thead th {\n",
       "        text-align: right;\n",
       "    }\n",
       "</style>\n",
       "<table border=\"1\" class=\"dataframe\">\n",
       "  <thead>\n",
       "    <tr style=\"text-align: right;\">\n",
       "      <th></th>\n",
       "      <th>Пол</th>\n",
       "      <th>Возраст</th>\n",
       "      <th>Зарплата</th>\n",
       "      <th>Члены семьи</th>\n",
       "      <th>Страховые выплаты</th>\n",
       "    </tr>\n",
       "  </thead>\n",
       "  <tbody>\n",
       "    <tr>\n",
       "      <th>0</th>\n",
       "      <td>1</td>\n",
       "      <td>41.0</td>\n",
       "      <td>49600.0</td>\n",
       "      <td>1</td>\n",
       "      <td>0</td>\n",
       "    </tr>\n",
       "    <tr>\n",
       "      <th>1</th>\n",
       "      <td>0</td>\n",
       "      <td>46.0</td>\n",
       "      <td>38000.0</td>\n",
       "      <td>1</td>\n",
       "      <td>1</td>\n",
       "    </tr>\n",
       "    <tr>\n",
       "      <th>2</th>\n",
       "      <td>0</td>\n",
       "      <td>29.0</td>\n",
       "      <td>21000.0</td>\n",
       "      <td>0</td>\n",
       "      <td>0</td>\n",
       "    </tr>\n",
       "    <tr>\n",
       "      <th>3</th>\n",
       "      <td>0</td>\n",
       "      <td>21.0</td>\n",
       "      <td>41700.0</td>\n",
       "      <td>2</td>\n",
       "      <td>0</td>\n",
       "    </tr>\n",
       "    <tr>\n",
       "      <th>4</th>\n",
       "      <td>1</td>\n",
       "      <td>28.0</td>\n",
       "      <td>26100.0</td>\n",
       "      <td>0</td>\n",
       "      <td>0</td>\n",
       "    </tr>\n",
       "  </tbody>\n",
       "</table>\n",
       "</div>"
      ],
      "text/plain": [
       "   Пол  Возраст  Зарплата  Члены семьи  Страховые выплаты\n",
       "0    1     41.0   49600.0            1                  0\n",
       "1    0     46.0   38000.0            1                  1\n",
       "2    0     29.0   21000.0            0                  0\n",
       "3    0     21.0   41700.0            2                  0\n",
       "4    1     28.0   26100.0            0                  0"
      ]
     },
     "execution_count": 4,
     "metadata": {},
     "output_type": "execute_result"
    }
   ],
   "source": [
    "df.head()"
   ]
  },
  {
   "cell_type": "markdown",
   "metadata": {},
   "source": [
    "Посмотрим на информацию о всей таблице"
   ]
  },
  {
   "cell_type": "code",
   "execution_count": 5,
   "metadata": {
    "scrolled": false
   },
   "outputs": [
    {
     "name": "stdout",
     "output_type": "stream",
     "text": [
      "<class 'pandas.core.frame.DataFrame'>\n",
      "RangeIndex: 5000 entries, 0 to 4999\n",
      "Data columns (total 5 columns):\n",
      " #   Column             Non-Null Count  Dtype  \n",
      "---  ------             --------------  -----  \n",
      " 0   Пол                5000 non-null   int64  \n",
      " 1   Возраст            5000 non-null   float64\n",
      " 2   Зарплата           5000 non-null   float64\n",
      " 3   Члены семьи        5000 non-null   int64  \n",
      " 4   Страховые выплаты  5000 non-null   int64  \n",
      "dtypes: float64(2), int64(3)\n",
      "memory usage: 195.4 KB\n"
     ]
    }
   ],
   "source": [
    "df.info()"
   ]
  },
  {
   "cell_type": "markdown",
   "metadata": {},
   "source": [
    "## Работа с данными"
   ]
  },
  {
   "cell_type": "markdown",
   "metadata": {},
   "source": [
    "Создадим случайную квадратную матрицу 4 на 4 (т.к. столбцов всего 4 и матрица должна быть квадратной)"
   ]
  },
  {
   "cell_type": "code",
   "execution_count": 7,
   "metadata": {},
   "outputs": [],
   "source": [
    "INV = np.random.randint(9999,size=(4,4))"
   ]
  },
  {
   "cell_type": "markdown",
   "metadata": {},
   "source": [
    "Проверим, является ли матрица обратимой"
   ]
  },
  {
   "cell_type": "code",
   "execution_count": 8,
   "metadata": {
    "scrolled": false
   },
   "outputs": [
    {
     "data": {
      "text/plain": [
       "array([[ 8.56125942e-06, -7.40467738e-05, -6.77074730e-05,\n",
       "         1.61716701e-04],\n",
       "       [-1.91445527e-04,  2.93450931e-04,  1.20960622e-04,\n",
       "        -1.03931305e-04],\n",
       "       [ 2.62061642e-04, -6.27118052e-04, -5.45760205e-05,\n",
       "         3.06079771e-04],\n",
       "       [-1.43851801e-04,  6.35645715e-04,  8.10902202e-05,\n",
       "        -3.88893703e-04]])"
      ]
     },
     "execution_count": 8,
     "metadata": {},
     "output_type": "execute_result"
    }
   ],
   "source": [
    "np.linalg.inv(INV)"
   ]
  },
  {
   "cell_type": "markdown",
   "metadata": {},
   "source": [
    "Матрица обратима,значит с ней можно работать"
   ]
  },
  {
   "cell_type": "markdown",
   "metadata": {},
   "source": [
    "# Вопрос"
   ]
  },
  {
   "cell_type": "markdown",
   "metadata": {},
   "source": [
    "Признаки умножают на обратимую матрицу. Изменится ли качество линейной регрессии? (Её можно обучить заново.)\n",
    "\n",
    "* a. Изменится. Приведите примеры матриц.\n",
    "\n",
    "\n",
    "* b. Не изменится. Укажите, как связаны параметры линейной регрессии в исходной задаче и в преобразованной."
   ]
  },
  {
   "cell_type": "markdown",
   "metadata": {},
   "source": [
    "## Ответ на вопрос"
   ]
  },
  {
   "cell_type": "markdown",
   "metadata": {},
   "source": [
    "Не изменится. Так как наша задача это преобразовать данные только для конфиденциальности качество линейной регрессии не должно поменяться, так как все зависимости и закономерности должны сохраниться и после преобразования. Если используемый алгоритм не может сохранить исходные взаимосвязи данных, этот алгоритм нам не подходит, он просто изменит структуру данных и выявленные закономерности и, как следствие, построенная модель не будут достоверной. "
   ]
  },
  {
   "cell_type": "markdown",
   "metadata": {},
   "source": [
    "## Обучение модели"
   ]
  },
  {
   "cell_type": "markdown",
   "metadata": {},
   "source": [
    "Выделим из датафрейма X и y"
   ]
  },
  {
   "cell_type": "code",
   "execution_count": 9,
   "metadata": {},
   "outputs": [],
   "source": [
    "X = df.drop(\"Страховые выплаты\", axis=1)\n",
    "y = df[\"Страховые выплаты\"]"
   ]
  },
  {
   "cell_type": "markdown",
   "metadata": {},
   "source": [
    "Создадим функцию для предсказания которая вернёт предсказанные значения"
   ]
  },
  {
   "cell_type": "code",
   "execution_count": 10,
   "metadata": {},
   "outputs": [],
   "source": [
    "def predict(x, y):\n",
    "    clf = LinearRegression()\n",
    "    clf.fit(x, y)\n",
    "    y_pred = clf.predict(x)\n",
    "    return y_pred"
   ]
  },
  {
   "cell_type": "markdown",
   "metadata": {},
   "source": [
    "Обучим модель на изначальных данных и изменённых данных"
   ]
  },
  {
   "cell_type": "code",
   "execution_count": 11,
   "metadata": {
    "scrolled": false
   },
   "outputs": [],
   "source": [
    "y_pred = predict(X, y)"
   ]
  },
  {
   "cell_type": "code",
   "execution_count": 16,
   "metadata": {},
   "outputs": [],
   "source": [
    "X_inv = X @ INV\n",
    "y_pred_inv = predict(X_inv, y)"
   ]
  },
  {
   "cell_type": "markdown",
   "metadata": {},
   "source": [
    "Посмотрим на метрику R2 на изначальных данных и изменённых данных"
   ]
  },
  {
   "cell_type": "code",
   "execution_count": 18,
   "metadata": {},
   "outputs": [
    {
     "data": {
      "text/plain": [
       "0.4249455028666801"
      ]
     },
     "execution_count": 18,
     "metadata": {},
     "output_type": "execute_result"
    }
   ],
   "source": [
    "r2_score(y, y_pred)"
   ]
  },
  {
   "cell_type": "code",
   "execution_count": 20,
   "metadata": {
    "scrolled": true
   },
   "outputs": [
    {
     "data": {
      "text/plain": [
       "0.42494550286666755"
      ]
     },
     "execution_count": 20,
     "metadata": {},
     "output_type": "execute_result"
    }
   ],
   "source": [
    "r2_score(y, y_pred_inv)"
   ]
  },
  {
   "cell_type": "markdown",
   "metadata": {},
   "source": [
    "Метрика никак не изменилась"
   ]
  },
  {
   "cell_type": "markdown",
   "metadata": {},
   "source": [
    "## Доказательство "
   ]
  },
  {
   "cell_type": "markdown",
   "metadata": {},
   "source": [
    "Обозначения:\n",
    "\n",
    "- $X$ — матрица признаков (нулевой столбец состоит из единиц)\n",
    "\n",
    "- $y$ — вектор целевого признака\n",
    "\n",
    "- $P$ — матрица, на которую умножаются признаки\n",
    "\n",
    "- $w$ — вектор весов линейной регрессии (нулевой элемент равен сдвигу)"
   ]
  },
  {
   "cell_type": "markdown",
   "metadata": {},
   "source": [
    "Предсказания:\n",
    "\n",
    "$$\n",
    "a = Xw\n",
    "$$\n",
    "\n",
    "Задача обучения:\n",
    "\n",
    "$$\n",
    "w = \\arg\\min_w MSE(Xw, y)\n",
    "$$\n",
    "\n",
    "Формула обучения:\n",
    "\n",
    "$$\n",
    "w = (X^T X)^{-1} X^T y\n",
    "$$"
   ]
  },
  {
   "cell_type": "markdown",
   "metadata": {},
   "source": [
    "**Ответ:** $R^2$ не поменяется"
   ]
  },
  {
   "cell_type": "markdown",
   "metadata": {},
   "source": [
    "Для начала выведем формулу для неизменённой матрицы:\n",
    "\n",
    "$a_1 = X_1w=X_1(X_1^TX_1)^{-1}X_1^{T}y$\n",
    "\n",
    "Теперь учтем, что $X_1 = XP$:\n",
    "\n",
    "$a_1 = XPw = XP((XP)^{T}(XP))^{-1}(XP)^{T}y$\n",
    "\n",
    "Рассмотрим по действиям. Для начала рассмотрим выражение в скобках.\n",
    "\n",
    "1) $((XP)^{T}(XP))^{-1}=(P^T X^TX P)^{-1}=P^{-1}(X^{T}X)^{-1} (P^T)^{-1}$ - раскрыв скобки благодаря свойству $(XP)^T = P^T X^T$\n",
    "\n",
    "2) Теперь получившееся выражение домножим на $(XP)^{T}$\n",
    "\n",
    "$a_1 = XP P^{-1}(X^{T}X)^{-1} (P^T)^{-1} P^T X^T y = X(X^{T}X)^{-1} X^T y = Xw = a$, значит $a_1 = a$ Наши предсказания не изменились:)\n"
   ]
  },
  {
   "cell_type": "markdown",
   "metadata": {},
   "source": [
    "## Алгоритм преобразования"
   ]
  },
  {
   "cell_type": "markdown",
   "metadata": {},
   "source": [
    "**Алгоритм**\n",
    "\n",
    "Умножим матрицу признаков на  123 523 5\n",
    "\n",
    "Прибавим к матрице 4364\n",
    "\n",
    "Умножим на 42\n",
    "\n",
    "Умножим на случайную обратимую матрицу A"
   ]
  },
  {
   "cell_type": "markdown",
   "metadata": {},
   "source": [
    "**Обоснование**\n",
    "\n",
    "Наши преобразования никак не изменили взаимосвязи в данных и их закономерности. Если столбец X1 для линейной регрессии был более значит чем столбец Xn, то при прибавлении к ним обоим любого числа и умножении на любое число эта закономерность сохраниться, поэтому качество линейной регрессии не ухудшилось."
   ]
  },
  {
   "cell_type": "markdown",
   "metadata": {},
   "source": [
    "## Проверка алгоритма"
   ]
  },
  {
   "cell_type": "markdown",
   "metadata": {},
   "source": [
    "Теперь поменяем наш исходный датафрейм умножив на случайное число и прибавив к получившемуся случайное число и так же обучим модель и посмотрим на R2"
   ]
  },
  {
   "cell_type": "code",
   "execution_count": 40,
   "metadata": {},
   "outputs": [],
   "source": [
    "x_test = ((X*1235235+4364)*42) @ INV"
   ]
  },
  {
   "cell_type": "code",
   "execution_count": 41,
   "metadata": {},
   "outputs": [],
   "source": [
    "y_test = predict(x_test,y)"
   ]
  },
  {
   "cell_type": "code",
   "execution_count": 42,
   "metadata": {},
   "outputs": [
    {
     "data": {
      "text/plain": [
       "0.4249455028666942"
      ]
     },
     "execution_count": 42,
     "metadata": {},
     "output_type": "execute_result"
    }
   ],
   "source": [
    "r2_score(y, y_test)"
   ]
  },
  {
   "cell_type": "markdown",
   "metadata": {},
   "source": [
    "## Вывод"
   ]
  },
  {
   "cell_type": "markdown",
   "metadata": {},
   "source": [
    "R2 снова не поменялась"
   ]
  }
 ],
 "metadata": {
  "ExecuteTimeLog": [
   {
    "duration": 431,
    "start_time": "2022-09-08T10:15:52.575Z"
   },
   {
    "duration": 86,
    "start_time": "2022-09-08T10:16:08.155Z"
   },
   {
    "duration": 15,
    "start_time": "2022-09-08T10:16:12.810Z"
   },
   {
    "duration": 6,
    "start_time": "2022-09-08T10:18:27.554Z"
   },
   {
    "duration": 9,
    "start_time": "2022-09-08T10:18:42.512Z"
   },
   {
    "duration": 10,
    "start_time": "2022-09-08T10:18:50.810Z"
   },
   {
    "duration": 4,
    "start_time": "2022-09-08T11:07:48.451Z"
   },
   {
    "duration": 4,
    "start_time": "2022-09-08T11:07:51.211Z"
   },
   {
    "duration": 701,
    "start_time": "2022-09-08T11:08:04.947Z"
   },
   {
    "duration": 3,
    "start_time": "2022-09-08T11:15:00.287Z"
   },
   {
    "duration": 4,
    "start_time": "2022-09-08T11:15:07.059Z"
   },
   {
    "duration": 3,
    "start_time": "2022-09-08T11:15:10.639Z"
   },
   {
    "duration": 4,
    "start_time": "2022-09-08T11:15:36.199Z"
   },
   {
    "duration": 63,
    "start_time": "2022-09-08T11:15:56.675Z"
   },
   {
    "duration": 3,
    "start_time": "2022-09-08T11:16:51.810Z"
   },
   {
    "duration": 45,
    "start_time": "2022-09-08T11:16:52.339Z"
   },
   {
    "duration": 5,
    "start_time": "2022-09-08T11:16:55.110Z"
   },
   {
    "duration": 3,
    "start_time": "2022-09-08T11:18:23.484Z"
   },
   {
    "duration": 4,
    "start_time": "2022-09-08T11:18:23.701Z"
   },
   {
    "duration": 2,
    "start_time": "2022-09-08T11:19:06.776Z"
   },
   {
    "duration": 4,
    "start_time": "2022-09-08T11:19:09.875Z"
   },
   {
    "duration": 4,
    "start_time": "2022-09-08T12:43:32.111Z"
   },
   {
    "duration": 3,
    "start_time": "2022-09-08T12:43:32.584Z"
   },
   {
    "duration": 8,
    "start_time": "2022-09-08T12:43:32.909Z"
   },
   {
    "duration": 122,
    "start_time": "2022-09-08T12:44:19.939Z"
   },
   {
    "duration": 754,
    "start_time": "2022-09-08T12:44:22.404Z"
   },
   {
    "duration": 27,
    "start_time": "2022-09-08T12:44:23.160Z"
   },
   {
    "duration": 7,
    "start_time": "2022-09-08T12:44:23.189Z"
   },
   {
    "duration": 11,
    "start_time": "2022-09-08T12:44:23.198Z"
   },
   {
    "duration": 3,
    "start_time": "2022-09-08T12:44:23.210Z"
   },
   {
    "duration": 3,
    "start_time": "2022-09-08T12:44:23.334Z"
   },
   {
    "duration": 5,
    "start_time": "2022-09-08T12:44:23.616Z"
   },
   {
    "duration": 4,
    "start_time": "2022-09-08T12:44:23.799Z"
   },
   {
    "duration": 2,
    "start_time": "2022-09-08T12:44:23.903Z"
   },
   {
    "duration": 17,
    "start_time": "2022-09-08T12:44:24.069Z"
   },
   {
    "duration": 40,
    "start_time": "2022-09-08T12:44:24.245Z"
   },
   {
    "duration": 9,
    "start_time": "2022-09-08T12:45:21.503Z"
   },
   {
    "duration": 2,
    "start_time": "2022-09-08T12:46:10.655Z"
   },
   {
    "duration": 3,
    "start_time": "2022-09-08T12:46:18.671Z"
   },
   {
    "duration": 3,
    "start_time": "2022-09-08T12:46:21.201Z"
   },
   {
    "duration": 9,
    "start_time": "2022-09-08T12:46:21.620Z"
   },
   {
    "duration": 9,
    "start_time": "2022-09-08T12:46:26.959Z"
   },
   {
    "duration": 3,
    "start_time": "2022-09-08T12:46:43.652Z"
   },
   {
    "duration": 10,
    "start_time": "2022-09-08T12:46:54.111Z"
   },
   {
    "duration": 4,
    "start_time": "2022-09-08T12:47:14.649Z"
   },
   {
    "duration": 3,
    "start_time": "2022-09-08T12:47:43.791Z"
   },
   {
    "duration": 3,
    "start_time": "2022-09-08T12:47:46.284Z"
   },
   {
    "duration": 28,
    "start_time": "2022-09-08T12:47:46.431Z"
   },
   {
    "duration": 8,
    "start_time": "2022-09-08T12:47:46.575Z"
   },
   {
    "duration": 10,
    "start_time": "2022-09-08T12:47:46.713Z"
   },
   {
    "duration": 4,
    "start_time": "2022-09-08T12:47:46.855Z"
   },
   {
    "duration": 3,
    "start_time": "2022-09-08T12:47:46.992Z"
   },
   {
    "duration": 60,
    "start_time": "2022-09-08T12:47:47.141Z"
   },
   {
    "duration": 3,
    "start_time": "2022-09-08T12:47:47.298Z"
   },
   {
    "duration": 3,
    "start_time": "2022-09-08T12:47:47.455Z"
   },
   {
    "duration": 15,
    "start_time": "2022-09-08T12:47:47.618Z"
   },
   {
    "duration": 4,
    "start_time": "2022-09-08T12:47:47.800Z"
   },
   {
    "duration": 4,
    "start_time": "2022-09-08T12:47:47.928Z"
   },
   {
    "duration": 7,
    "start_time": "2022-09-08T12:47:48.095Z"
   },
   {
    "duration": 12,
    "start_time": "2022-09-08T12:47:48.267Z"
   },
   {
    "duration": 3,
    "start_time": "2022-09-08T12:52:27.837Z"
   },
   {
    "duration": 5,
    "start_time": "2022-09-08T12:52:28.208Z"
   },
   {
    "duration": 3,
    "start_time": "2022-09-08T12:52:28.960Z"
   },
   {
    "duration": 3,
    "start_time": "2022-09-08T12:52:29.181Z"
   },
   {
    "duration": 9,
    "start_time": "2022-09-08T12:52:29.342Z"
   },
   {
    "duration": 3,
    "start_time": "2022-09-08T12:52:29.503Z"
   },
   {
    "duration": 3,
    "start_time": "2022-09-08T12:52:29.712Z"
   },
   {
    "duration": 7,
    "start_time": "2022-09-08T12:52:29.994Z"
   },
   {
    "duration": 12,
    "start_time": "2022-09-08T12:52:30.438Z"
   },
   {
    "duration": 2,
    "start_time": "2022-09-08T12:52:42.695Z"
   },
   {
    "duration": 4,
    "start_time": "2022-09-08T12:52:43.001Z"
   },
   {
    "duration": 4,
    "start_time": "2022-09-08T12:52:43.200Z"
   },
   {
    "duration": 3,
    "start_time": "2022-09-08T12:52:43.411Z"
   },
   {
    "duration": 9,
    "start_time": "2022-09-08T12:52:43.614Z"
   },
   {
    "duration": 4,
    "start_time": "2022-09-08T12:52:43.804Z"
   },
   {
    "duration": 4,
    "start_time": "2022-09-08T12:52:44.058Z"
   },
   {
    "duration": 3,
    "start_time": "2022-09-08T12:52:44.365Z"
   },
   {
    "duration": 9,
    "start_time": "2022-09-08T12:52:44.678Z"
   },
   {
    "duration": 51,
    "start_time": "2022-09-09T06:34:58.880Z"
   },
   {
    "duration": 1343,
    "start_time": "2022-09-09T06:35:01.985Z"
   },
   {
    "duration": 89,
    "start_time": "2022-09-09T06:35:03.330Z"
   },
   {
    "duration": 16,
    "start_time": "2022-09-09T06:35:03.421Z"
   },
   {
    "duration": 36,
    "start_time": "2022-09-09T06:35:03.439Z"
   },
   {
    "duration": 14,
    "start_time": "2022-09-09T06:35:03.477Z"
   },
   {
    "duration": 34,
    "start_time": "2022-09-09T06:35:03.493Z"
   },
   {
    "duration": 29,
    "start_time": "2022-09-09T06:35:03.529Z"
   },
   {
    "duration": 33,
    "start_time": "2022-09-09T06:35:03.561Z"
   },
   {
    "duration": 18,
    "start_time": "2022-09-09T06:35:03.597Z"
   },
   {
    "duration": 102,
    "start_time": "2022-09-09T06:35:04.090Z"
   },
   {
    "duration": 5,
    "start_time": "2022-09-09T06:35:04.382Z"
   },
   {
    "duration": 4,
    "start_time": "2022-09-09T06:35:04.623Z"
   },
   {
    "duration": 69,
    "start_time": "2022-09-09T06:35:04.810Z"
   },
   {
    "duration": 14,
    "start_time": "2022-09-09T06:35:04.981Z"
   },
   {
    "duration": 10,
    "start_time": "2022-09-09T06:35:17.259Z"
   },
   {
    "duration": 11,
    "start_time": "2022-09-09T06:35:17.568Z"
   },
   {
    "duration": 7,
    "start_time": "2022-09-09T06:35:22.872Z"
   },
   {
    "duration": 201,
    "start_time": "2022-09-09T06:35:29.073Z"
   },
   {
    "duration": 4,
    "start_time": "2022-09-09T06:35:31.515Z"
   },
   {
    "duration": 7,
    "start_time": "2022-09-09T06:36:24.163Z"
   },
   {
    "duration": 62,
    "start_time": "2022-09-09T06:36:46.630Z"
   },
   {
    "duration": 9,
    "start_time": "2022-09-09T06:37:00.859Z"
   },
   {
    "duration": 7,
    "start_time": "2022-09-09T06:37:04.870Z"
   },
   {
    "duration": 6,
    "start_time": "2022-09-09T06:38:37.275Z"
   },
   {
    "duration": 10,
    "start_time": "2022-09-09T06:38:37.720Z"
   },
   {
    "duration": 6,
    "start_time": "2022-09-09T06:38:38.068Z"
   },
   {
    "duration": 5,
    "start_time": "2022-09-09T06:38:44.183Z"
   },
   {
    "duration": 9,
    "start_time": "2022-09-09T06:38:44.374Z"
   },
   {
    "duration": 6,
    "start_time": "2022-09-09T06:38:44.642Z"
   },
   {
    "duration": 5,
    "start_time": "2022-09-09T06:38:56.134Z"
   },
   {
    "duration": 11,
    "start_time": "2022-09-09T06:38:56.420Z"
   },
   {
    "duration": 6,
    "start_time": "2022-09-09T06:38:56.593Z"
   },
   {
    "duration": 4,
    "start_time": "2022-09-09T06:39:08.501Z"
   },
   {
    "duration": 11,
    "start_time": "2022-09-09T06:39:08.749Z"
   },
   {
    "duration": 7,
    "start_time": "2022-09-09T06:39:09.019Z"
   },
   {
    "duration": 5,
    "start_time": "2022-09-09T06:39:20.196Z"
   },
   {
    "duration": 10,
    "start_time": "2022-09-09T06:39:20.318Z"
   },
   {
    "duration": 6,
    "start_time": "2022-09-09T06:39:20.493Z"
   },
   {
    "duration": 6,
    "start_time": "2022-09-09T06:53:26.371Z"
   },
   {
    "duration": 48,
    "start_time": "2022-09-09T06:53:26.545Z"
   },
   {
    "duration": 8,
    "start_time": "2022-09-09T06:53:26.698Z"
   }
  ],
  "kernelspec": {
   "display_name": "Python 3 (ipykernel)",
   "language": "python",
   "name": "python3"
  },
  "language_info": {
   "codemirror_mode": {
    "name": "ipython",
    "version": 3
   },
   "file_extension": ".py",
   "mimetype": "text/x-python",
   "name": "python",
   "nbconvert_exporter": "python",
   "pygments_lexer": "ipython3",
   "version": "3.9.7"
  },
  "toc": {
   "base_numbering": 1,
   "nav_menu": {},
   "number_sections": true,
   "sideBar": true,
   "skip_h1_title": true,
   "title_cell": "Содержание",
   "title_sidebar": "Оглавление",
   "toc_cell": true,
   "toc_position": {
    "height": "calc(100% - 180px)",
    "left": "10px",
    "top": "150px",
    "width": "286.075px"
   },
   "toc_section_display": true,
   "toc_window_display": true
  }
 },
 "nbformat": 4,
 "nbformat_minor": 2
}
