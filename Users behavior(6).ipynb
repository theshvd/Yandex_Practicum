{
 "cells": [
  {
   "cell_type": "markdown",
   "metadata": {
    "toc": true
   },
   "source": [
    "<h1>Оглавление<span class=\"tocSkip\"></span></h1>\n",
    "<div class=\"toc\"><ul class=\"toc-item\"><li><span><a href=\"#Изучение-данных\" data-toc-modified-id=\"Изучение-данных-1\"><span class=\"toc-item-num\">1&nbsp;&nbsp;</span>Изучение данных</a></span></li><li><span><a href=\"#Подготовка-данных\" data-toc-modified-id=\"Подготовка-данных-2\"><span class=\"toc-item-num\">2&nbsp;&nbsp;</span>Подготовка данных</a></span></li><li><span><a href=\"#Исследование-моделей\" data-toc-modified-id=\"Исследование-моделей-3\"><span class=\"toc-item-num\">3&nbsp;&nbsp;</span>Исследование моделей</a></span><ul class=\"toc-item\"><li><span><a href=\"#Decision-Tree\" data-toc-modified-id=\"Decision-Tree-3.1\"><span class=\"toc-item-num\">3.1&nbsp;&nbsp;</span>Decision Tree</a></span></li><li><span><a href=\"#Random-Forest\" data-toc-modified-id=\"Random-Forest-3.2\"><span class=\"toc-item-num\">3.2&nbsp;&nbsp;</span>Random Forest</a></span></li><li><span><a href=\"#Logistic-Regression\" data-toc-modified-id=\"Logistic-Regression-3.3\"><span class=\"toc-item-num\">3.3&nbsp;&nbsp;</span>Logistic Regression</a></span></li></ul></li><li><span><a href=\"#Проверка-лучшей-модели-на-тестовой-выборке\" data-toc-modified-id=\"Проверка-лучшей-модели-на-тестовой-выборке-4\"><span class=\"toc-item-num\">4&nbsp;&nbsp;</span>Проверка лучшей модели на тестовой выборке</a></span></li><li><span><a href=\"#Проверка-моделей-на-адекватность\" data-toc-modified-id=\"Проверка-моделей-на-адекватность-5\"><span class=\"toc-item-num\">5&nbsp;&nbsp;</span>Проверка моделей на адекватность</a></span></li></ul></div>"
   ]
  },
  {
   "cell_type": "markdown",
   "metadata": {},
   "source": [
    "# Рекомендация тарифов"
   ]
  },
  {
   "cell_type": "markdown",
   "metadata": {},
   "source": [
    "Оператор мобильной связи «Мегалайн» выяснил: многие клиенты пользуются архивными тарифами. Они хотят построить систему, способную проанализировать поведение клиентов и предложить пользователям новый тариф: «Смарт» или «Ультра».\n",
    "\n",
    "В вашем распоряжении данные о поведении клиентов, которые уже перешли на эти тарифы . Нужно построить модель для задачи классификации, которая выберет подходящий тариф. Предобработка данных не понадобится — вы её уже сделали.\n",
    "\n",
    "Постройте модель с максимально большим значением accuracy.Нужно довести долю правильных ответов по крайней мере до 0.75. Проверьте accuracy на тестовой выборке самостоятельно."
   ]
  },
  {
   "cell_type": "markdown",
   "metadata": {},
   "source": [
    "## Изучение данных"
   ]
  },
  {
   "cell_type": "markdown",
   "metadata": {},
   "source": [
    "Подключаем необходимые библиотеки"
   ]
  },
  {
   "cell_type": "code",
   "execution_count": 30,
   "metadata": {},
   "outputs": [],
   "source": [
    "import pandas as pd \n",
    "from sklearn.model_selection import train_test_split\n",
    "from sklearn.metrics import accuracy_score\n",
    "from sklearn.tree import DecisionTreeClassifier\n",
    "from sklearn.ensemble import RandomForestClassifier\n",
    "from sklearn.linear_model import LogisticRegression\n",
    "from sklearn.model_selection import GridSearchCV\n",
    "import numpy as np\n",
    "import seaborn as sns\n",
    "import matplotlib.pyplot as plt\n",
    "from sklearn.dummy import DummyClassifier"
   ]
  },
  {
   "cell_type": "markdown",
   "metadata": {},
   "source": [
    "Открываем файл"
   ]
  },
  {
   "cell_type": "code",
   "execution_count": 31,
   "metadata": {},
   "outputs": [],
   "source": [
    "df = pd.read_csv('/datasets/users_behavior.csv')"
   ]
  },
  {
   "cell_type": "markdown",
   "metadata": {},
   "source": [
    "Посмотрим на данные и решим какие столбцы являются фичами,а какие целевой переменной"
   ]
  },
  {
   "cell_type": "code",
   "execution_count": 32,
   "metadata": {
    "scrolled": true
   },
   "outputs": [
    {
     "data": {
      "text/html": [
       "<div>\n",
       "<style scoped>\n",
       "    .dataframe tbody tr th:only-of-type {\n",
       "        vertical-align: middle;\n",
       "    }\n",
       "\n",
       "    .dataframe tbody tr th {\n",
       "        vertical-align: top;\n",
       "    }\n",
       "\n",
       "    .dataframe thead th {\n",
       "        text-align: right;\n",
       "    }\n",
       "</style>\n",
       "<table border=\"1\" class=\"dataframe\">\n",
       "  <thead>\n",
       "    <tr style=\"text-align: right;\">\n",
       "      <th></th>\n",
       "      <th>calls</th>\n",
       "      <th>minutes</th>\n",
       "      <th>messages</th>\n",
       "      <th>mb_used</th>\n",
       "      <th>is_ultra</th>\n",
       "    </tr>\n",
       "  </thead>\n",
       "  <tbody>\n",
       "    <tr>\n",
       "      <th>0</th>\n",
       "      <td>40.0</td>\n",
       "      <td>311.90</td>\n",
       "      <td>83.0</td>\n",
       "      <td>19915.42</td>\n",
       "      <td>0</td>\n",
       "    </tr>\n",
       "    <tr>\n",
       "      <th>1</th>\n",
       "      <td>85.0</td>\n",
       "      <td>516.75</td>\n",
       "      <td>56.0</td>\n",
       "      <td>22696.96</td>\n",
       "      <td>0</td>\n",
       "    </tr>\n",
       "    <tr>\n",
       "      <th>2</th>\n",
       "      <td>77.0</td>\n",
       "      <td>467.66</td>\n",
       "      <td>86.0</td>\n",
       "      <td>21060.45</td>\n",
       "      <td>0</td>\n",
       "    </tr>\n",
       "    <tr>\n",
       "      <th>3</th>\n",
       "      <td>106.0</td>\n",
       "      <td>745.53</td>\n",
       "      <td>81.0</td>\n",
       "      <td>8437.39</td>\n",
       "      <td>1</td>\n",
       "    </tr>\n",
       "    <tr>\n",
       "      <th>4</th>\n",
       "      <td>66.0</td>\n",
       "      <td>418.74</td>\n",
       "      <td>1.0</td>\n",
       "      <td>14502.75</td>\n",
       "      <td>0</td>\n",
       "    </tr>\n",
       "    <tr>\n",
       "      <th>...</th>\n",
       "      <td>...</td>\n",
       "      <td>...</td>\n",
       "      <td>...</td>\n",
       "      <td>...</td>\n",
       "      <td>...</td>\n",
       "    </tr>\n",
       "    <tr>\n",
       "      <th>3209</th>\n",
       "      <td>122.0</td>\n",
       "      <td>910.98</td>\n",
       "      <td>20.0</td>\n",
       "      <td>35124.90</td>\n",
       "      <td>1</td>\n",
       "    </tr>\n",
       "    <tr>\n",
       "      <th>3210</th>\n",
       "      <td>25.0</td>\n",
       "      <td>190.36</td>\n",
       "      <td>0.0</td>\n",
       "      <td>3275.61</td>\n",
       "      <td>0</td>\n",
       "    </tr>\n",
       "    <tr>\n",
       "      <th>3211</th>\n",
       "      <td>97.0</td>\n",
       "      <td>634.44</td>\n",
       "      <td>70.0</td>\n",
       "      <td>13974.06</td>\n",
       "      <td>0</td>\n",
       "    </tr>\n",
       "    <tr>\n",
       "      <th>3212</th>\n",
       "      <td>64.0</td>\n",
       "      <td>462.32</td>\n",
       "      <td>90.0</td>\n",
       "      <td>31239.78</td>\n",
       "      <td>0</td>\n",
       "    </tr>\n",
       "    <tr>\n",
       "      <th>3213</th>\n",
       "      <td>80.0</td>\n",
       "      <td>566.09</td>\n",
       "      <td>6.0</td>\n",
       "      <td>29480.52</td>\n",
       "      <td>1</td>\n",
       "    </tr>\n",
       "  </tbody>\n",
       "</table>\n",
       "<p>3214 rows × 5 columns</p>\n",
       "</div>"
      ],
      "text/plain": [
       "      calls  minutes  messages   mb_used  is_ultra\n",
       "0      40.0   311.90      83.0  19915.42         0\n",
       "1      85.0   516.75      56.0  22696.96         0\n",
       "2      77.0   467.66      86.0  21060.45         0\n",
       "3     106.0   745.53      81.0   8437.39         1\n",
       "4      66.0   418.74       1.0  14502.75         0\n",
       "...     ...      ...       ...       ...       ...\n",
       "3209  122.0   910.98      20.0  35124.90         1\n",
       "3210   25.0   190.36       0.0   3275.61         0\n",
       "3211   97.0   634.44      70.0  13974.06         0\n",
       "3212   64.0   462.32      90.0  31239.78         0\n",
       "3213   80.0   566.09       6.0  29480.52         1\n",
       "\n",
       "[3214 rows x 5 columns]"
      ]
     },
     "execution_count": 32,
     "metadata": {},
     "output_type": "execute_result"
    }
   ],
   "source": [
    "df"
   ]
  },
  {
   "cell_type": "markdown",
   "metadata": {},
   "source": [
    "Очевидно, что фичами являются все столбцы, кроме \"is_ultra\", он как раз является целевой переменной."
   ]
  },
  {
   "cell_type": "code",
   "execution_count": 33,
   "metadata": {},
   "outputs": [
    {
     "name": "stdout",
     "output_type": "stream",
     "text": [
      "<class 'pandas.core.frame.DataFrame'>\n",
      "RangeIndex: 3214 entries, 0 to 3213\n",
      "Data columns (total 5 columns):\n",
      " #   Column    Non-Null Count  Dtype  \n",
      "---  ------    --------------  -----  \n",
      " 0   calls     3214 non-null   float64\n",
      " 1   minutes   3214 non-null   float64\n",
      " 2   messages  3214 non-null   float64\n",
      " 3   mb_used   3214 non-null   float64\n",
      " 4   is_ultra  3214 non-null   int64  \n",
      "dtypes: float64(4), int64(1)\n",
      "memory usage: 125.7 KB\n"
     ]
    }
   ],
   "source": [
    "df.info()"
   ]
  },
  {
   "cell_type": "markdown",
   "metadata": {},
   "source": [
    "## Подготовка данных"
   ]
  },
  {
   "cell_type": "markdown",
   "metadata": {},
   "source": [
    "Создадим переменную с фичами, в которую добавим всё кроме столбца \"is_ultra\". Так же создадим переменную target в которую положим только целевую переменную."
   ]
  },
  {
   "cell_type": "code",
   "execution_count": 34,
   "metadata": {},
   "outputs": [],
   "source": [
    "features = df.drop(['is_ultra'],axis = 1 )\n",
    "target = df['is_ultra']"
   ]
  },
  {
   "cell_type": "markdown",
   "metadata": {},
   "source": [
    "Далее разделим датасет сначала на тренировочный ( X и y с окончаниями train), который будет составляь 60 процетов от всего набора данных. Остальные 40 процентов датасета записываем в переменные X_test и y_test. Далее эти 40 процентов поделим пополам на валидационный  и итоговый тестовый набор данных,который необходимо будет предсказать."
   ]
  },
  {
   "cell_type": "code",
   "execution_count": 35,
   "metadata": {},
   "outputs": [],
   "source": [
    "X_train,X_test,y_train,y_test = train_test_split(features,target, test_size=0.4, random_state=42)\n",
    "X_test,X_valid,y_test,y_valid = train_test_split(X_test,y_test,test_size=0.5,random_state=42)"
   ]
  },
  {
   "cell_type": "markdown",
   "metadata": {},
   "source": [
    "Далее проверяем правильно ли мы разделили датасет на необходимые нам подвыборки"
   ]
  },
  {
   "cell_type": "code",
   "execution_count": 36,
   "metadata": {},
   "outputs": [
    {
     "name": "stdout",
     "output_type": "stream",
     "text": [
      "Размер всей выборки:  (3214, 4)\n",
      "Размер тренировочной выборки:  (1928, 4)\n",
      "Размер тестовой выборки:  (643, 4)\n",
      "Размер валидационной выборки:  (643, 4)\n"
     ]
    }
   ],
   "source": [
    "print('Размер всей выборки: ',features.shape)\n",
    "print('Размер тренировочной выборки: ' , X_train.shape)\n",
    "print('Размер тестовой выборки: ',X_test.shape)\n",
    "print('Размер валидационной выборки: ', X_valid.shape)"
   ]
  },
  {
   "cell_type": "markdown",
   "metadata": {},
   "source": [
    "Всё верно. Идём дальше."
   ]
  },
  {
   "cell_type": "markdown",
   "metadata": {},
   "source": [
    "## Исследование моделей"
   ]
  },
  {
   "cell_type": "markdown",
   "metadata": {},
   "source": [
    "### Decision Tree"
   ]
  },
  {
   "cell_type": "markdown",
   "metadata": {},
   "source": [
    "Первая модель которую мы будем проверять будет дерево решений. Создаём пустые переменные в которые будем записывать лучшую модель, глубину дерева и получившийся результат."
   ]
  },
  {
   "cell_type": "code",
   "execution_count": 37,
   "metadata": {
    "scrolled": false
   },
   "outputs": [
    {
     "name": "stdout",
     "output_type": "stream",
     "text": [
      "Лучшая точность полученная на дереве решений:  0.8118195956454122\n",
      "Лучшая глубина дерева:  4\n"
     ]
    },
    {
     "data": {
      "text/plain": [
       "<AxesSubplot:title={'center':'График зависимости точности от глубины дерева'}>"
      ]
     },
     "execution_count": 37,
     "metadata": {},
     "output_type": "execute_result"
    },
    {
     "data": {
      "image/png": "[encoded data removed]",
      "text/plain": [
       "<Figure size 432x288 with 1 Axes>"
      ]
     },
     "metadata": {
      "needs_background": "light"
     },
     "output_type": "display_data"
    }
   ],
   "source": [
    "best_model_dtm = None #переменная для лучшей модели\n",
    "best_result_dtm = 0 # переменная для лучшего результата\n",
    "best_depth_dtm = 0 # переменная для лучшей глубины дерева\n",
    "mas = []\n",
    "for depth1 in range(1,30):\n",
    "    dtm = DecisionTreeClassifier(max_depth=depth1,random_state = 12345)\n",
    "    dtm.fit(X_train,y_train)\n",
    "    DecisionTreeModelPredictionsValid = dtm.predict(X_valid)\n",
    "    result1 = accuracy_score(y_valid,DecisionTreeModelPredictionsValid)\n",
    "    mas.append(result1)\n",
    "    if result1 == max(mas):\n",
    "        best_model_dtm = dtm\n",
    "        best_result_dtm = result1\n",
    "        best_depth_dtm = depth1\n",
    "print('Лучшая точность полученная на дереве решений: ',best_result_dtm)\n",
    "print('Лучшая глубина дерева: ',best_depth_dtm)\n",
    "plt.title('График зависимости точности от глубины дерева')\n",
    "sns.lineplot(x = range(1,30),y = mas)"
   ]
  },
  {
   "cell_type": "markdown",
   "metadata": {},
   "source": [
    "Как мы видим точность на валидационной выборке достаточно неплохая, по крайней мере больше чем нам необходима, однако не стоит увлекаться, гонка за точностью, особенно в решающий деревьях может привести к переобучению и дерево начнёт отлично предсказывать нужные нам данные, а вот на новых данных может споткнуться."
   ]
  },
  {
   "cell_type": "markdown",
   "metadata": {},
   "source": [
    "### Random Forest"
   ]
  },
  {
   "cell_type": "markdown",
   "metadata": {},
   "source": [
    "Далее попробуем случайный лес."
   ]
  },
  {
   "cell_type": "code",
   "execution_count": 39,
   "metadata": {
    "scrolled": true
   },
   "outputs": [],
   "source": [
    "best_model_rfc = None #переменная для лучшей модели\n",
    "best_result_rfc = 0 # переменная для лучшего результата\n",
    "best_est_rfc = 0 # переменая для записи лучшего количества решающих деревьев\n",
    "best_depth_rfc = 0 # переменная для лучшей глубины случайного леса \n",
    "mas=[]\n",
    "for est in range(1,15):\n",
    "    for depth in range(1,15):\n",
    "        rfc = RandomForestClassifier(max_depth = depth,random_state=42,n_estimators=est)\n",
    "        rfc.fit(X_train,y_train)\n",
    "        RandomForestClassifierPredictionsValid = rfc.predict(X_valid)\n",
    "        result2 = accuracy_score(y_valid,RandomForestClassifierPredictionsValid)\n",
    "        mas.append(result2)\n",
    "        if result2 == max(mas):\n",
    "            best_model_rfc = rfc\n",
    "            best_result_rfc = result2\n",
    "            best_est_rfc = est\n",
    "            best_depth_rfc = depth"
   ]
  },
  {
   "cell_type": "code",
   "execution_count": 40,
   "metadata": {
    "scrolled": true
   },
   "outputs": [
    {
     "name": "stdout",
     "output_type": "stream",
     "text": [
      "Лучшая точность на валидационной выборке:  0.8304821150855366\n",
      "Лучшее количество деревьев:  12\n",
      "Лучшая глубина дерева:  6\n"
     ]
    }
   ],
   "source": [
    "print('Лучшая точность на валидационной выборке: ', best_result_rfc)\n",
    "print('Лучшее количество деревьев: ',best_est_rfc)\n",
    "print('Лучшая глубина дерева: ',best_depth_rfc)"
   ]
  },
  {
   "cell_type": "markdown",
   "metadata": {},
   "source": [
    "### Logistic Regression"
   ]
  },
  {
   "cell_type": "markdown",
   "metadata": {},
   "source": [
    "Отлично! Как мы видим, точность выше чем в DecisionTree. Пока что RandomForest это лучшее, что у нас есть. Теперь проверим логистическую регрессию "
   ]
  },
  {
   "cell_type": "code",
   "execution_count": 41,
   "metadata": {},
   "outputs": [
    {
     "name": "stdout",
     "output_type": "stream",
     "text": [
      "0.7682737169517885\n"
     ]
    }
   ],
   "source": [
    "lgr = LogisticRegression(random_state=12345, solver='lbfgs', max_iter=1000) \n",
    "lgr.fit(X_train,y_train)\n",
    "LogisticRegressionPredictionsValid = lgr.predict(X_valid)\n",
    "result3 = accuracy_score(y_valid,LogisticRegressionPredictionsValid)\n",
    "print(result3)"
   ]
  },
  {
   "cell_type": "markdown",
   "metadata": {},
   "source": [
    "Ну нет, логистическая регрессия нам не подходит. Точность при использовании логистической регрессии совсем низкая, по сравнению с решающим деревом и случайным лесом. Посмотрим что будет на тестовой выборке."
   ]
  },
  {
   "cell_type": "markdown",
   "metadata": {},
   "source": [
    "Судя по получившимся точностям лучше всех в данном случае работает случайный лес, немного хуже решающее дерево, и совсем не очень логистическая регрессия"
   ]
  },
  {
   "cell_type": "markdown",
   "metadata": {},
   "source": [
    "## Проверка лучшей модели на тестовой выборке"
   ]
  },
  {
   "cell_type": "code",
   "execution_count": 42,
   "metadata": {
    "scrolled": true
   },
   "outputs": [
    {
     "name": "stdout",
     "output_type": "stream",
     "text": [
      "Точность предсказанных данных на RandomForest:  0.7962674961119751\n"
     ]
    }
   ],
   "source": [
    "RandomForestClassifierPredictionsTest = best_model_rfc.predict(X_test)\n",
    "resultRandFor = accuracy_score(y_test,RandomForestClassifierPredictionsTest)\n",
    "print('Точность предсказанных данных на RandomForest: ',resultRandFor)"
   ]
  },
  {
   "cell_type": "markdown",
   "metadata": {},
   "source": [
    "Как и предполагалось, RandomForest оказалась самой лучшей моделью,однако совершенно непонятно переобучилась данная модель или нет. Для проверки используем кросс-валидацию."
   ]
  },
  {
   "cell_type": "markdown",
   "metadata": {},
   "source": [
    "##  Проверка моделей на адекватность"
   ]
  },
  {
   "cell_type": "markdown",
   "metadata": {},
   "source": [
    "Создадим ещё один RandomForest классификатор и теперь проверим качество модели на кросс-валидации. Перебирая параметры и разделив тренировочную выборку ещё на 5 подвыборок программа закидывает в дерево решений сначала последние 4 куска тренировочного датасета, а 1 кусок скрывает и предсказывает значения на нём. Далее закидывает все куски кроме второго, и предсказывает второй и так далее. Это и называется кросс-валидация. Это поможет оценить адекватность модели и подобранных нами гиперпараметров."
   ]
  },
  {
   "cell_type": "code",
   "execution_count": 43,
   "metadata": {},
   "outputs": [],
   "source": [
    "ranfor = RandomForestClassifier()"
   ]
  },
  {
   "cell_type": "markdown",
   "metadata": {},
   "source": [
    "Записываем в словарь все параметры которые хотим опробовать и все их возможные варианты. Функция GridSearchCV поможет нам их перебрать и выбрать лучший"
   ]
  },
  {
   "cell_type": "code",
   "execution_count": 44,
   "metadata": {},
   "outputs": [],
   "source": [
    "params = {'criterion':['gini','entropy'],'max_depth': range(1,15), 'n_estimators': range(1,15)}"
   ]
  },
  {
   "cell_type": "markdown",
   "metadata": {},
   "source": [
    "Записываем в переменную модель которую необходимо обучить, словарь с параметрами и количество подгрупп на которые нужно разделить тренировочную выборку."
   ]
  },
  {
   "cell_type": "code",
   "execution_count": 45,
   "metadata": {},
   "outputs": [],
   "source": [
    "grid_search_cv_clf = GridSearchCV(ranfor,params,cv = 5)"
   ]
  },
  {
   "cell_type": "markdown",
   "metadata": {},
   "source": [
    "Обучаем модель"
   ]
  },
  {
   "cell_type": "code",
   "execution_count": 46,
   "metadata": {
    "scrolled": false
   },
   "outputs": [
    {
     "data": {
      "text/plain": [
       "GridSearchCV(cv=5, estimator=RandomForestClassifier(),\n",
       "             param_grid={'criterion': ['gini', 'entropy'],\n",
       "                         'max_depth': range(1, 15),\n",
       "                         'n_estimators': range(1, 15)})"
      ]
     },
     "execution_count": 46,
     "metadata": {},
     "output_type": "execute_result"
    }
   ],
   "source": [
    "grid_search_cv_clf.fit(X_train,y_train)"
   ]
  },
  {
   "cell_type": "code",
   "execution_count": 47,
   "metadata": {
    "scrolled": true
   },
   "outputs": [
    {
     "data": {
      "text/plain": [
       "{'criterion': 'gini', 'max_depth': 9, 'n_estimators': 12}"
      ]
     },
     "execution_count": 47,
     "metadata": {},
     "output_type": "execute_result"
    }
   ],
   "source": [
    "grid_search_cv_clf.best_params_"
   ]
  },
  {
   "cell_type": "markdown",
   "metadata": {},
   "source": [
    "Вот, это лучшая комбинация гиперпараметров в тех пределах которые мы указали для RandomForestClassifier"
   ]
  },
  {
   "cell_type": "markdown",
   "metadata": {},
   "source": [
    "Записываем в переменную лучшую модель"
   ]
  },
  {
   "cell_type": "code",
   "execution_count": 48,
   "metadata": {},
   "outputs": [],
   "source": [
    "best_est = grid_search_cv_clf.best_estimator_"
   ]
  },
  {
   "cell_type": "markdown",
   "metadata": {},
   "source": [
    "Вычисляем точность лучшей модели"
   ]
  },
  {
   "cell_type": "code",
   "execution_count": 49,
   "metadata": {},
   "outputs": [
    {
     "data": {
      "text/plain": [
       "0.7931570762052877"
      ]
     },
     "execution_count": 49,
     "metadata": {},
     "output_type": "execute_result"
    }
   ],
   "source": [
    "best_est.score(X_test,y_test)"
   ]
  },
  {
   "cell_type": "code",
   "execution_count": 50,
   "metadata": {
    "scrolled": true
   },
   "outputs": [
    {
     "name": "stdout",
     "output_type": "stream",
     "text": [
      "Точность наивного алгоритма:  0.6936236391912908\n"
     ]
    }
   ],
   "source": [
    "dummy = DummyClassifier(strategy='most_frequent').fit(X_train, y_train)\n",
    "dummy_pred = dummy.predict(X_test)\n",
    "print('Точность наивного алгоритма: ', accuracy_score(y_test, dummy_pred))"
   ]
  },
  {
   "cell_type": "markdown",
   "metadata": {},
   "source": [
    "Точность самой простой модели ниже чем точность которой добились мы,поэтому можно сказать,что наш алгоритм адекватен."
   ]
  },
  {
   "cell_type": "markdown",
   "metadata": {},
   "source": [
    "Как мы видим, точность близка к нашей, значит наша первоначальная модель вполне адекватна, хотя и могла бы быть получше:) "
   ]
  },
  {
   "cell_type": "markdown",
   "metadata": {},
   "source": [
    "Модель можно обучать и далее, однако существует очень большой риск переобучиться и это требует серьёзных вычислительных мощностей, наша точность нас пока устраивает."
   ]
  }
 ],
 "metadata": {
  "ExecuteTimeLog": [
   {
    "duration": 999,
    "start_time": "2022-06-01T06:06:58.156Z"
   },
   {
    "duration": 100,
    "start_time": "2022-06-01T06:07:14.647Z"
   },
   {
    "duration": 18,
    "start_time": "2022-06-01T06:07:17.853Z"
   },
   {
    "duration": 14,
    "start_time": "2022-06-01T06:07:46.369Z"
   },
   {
    "duration": 5,
    "start_time": "2022-06-01T06:09:25.306Z"
   },
   {
    "duration": 1276,
    "start_time": "2022-06-01T12:37:18.299Z"
   },
   {
    "duration": 157,
    "start_time": "2022-06-01T12:37:19.577Z"
   },
   {
    "duration": 35,
    "start_time": "2022-06-01T12:37:20.204Z"
   },
   {
    "duration": 7,
    "start_time": "2022-06-01T12:37:21.690Z"
   },
   {
    "duration": 168,
    "start_time": "2022-06-01T12:37:23.521Z"
   },
   {
    "duration": 7,
    "start_time": "2022-06-01T12:55:43.249Z"
   },
   {
    "duration": 9,
    "start_time": "2022-06-01T12:57:06.704Z"
   },
   {
    "duration": 15,
    "start_time": "2022-06-01T12:57:52.768Z"
   },
   {
    "duration": 7,
    "start_time": "2022-06-01T12:57:55.308Z"
   },
   {
    "duration": 6,
    "start_time": "2022-06-01T12:58:05.154Z"
   },
   {
    "duration": 5,
    "start_time": "2022-06-01T12:58:28.475Z"
   },
   {
    "duration": 5,
    "start_time": "2022-06-01T12:58:54.194Z"
   },
   {
    "duration": 8,
    "start_time": "2022-06-01T13:21:10.653Z"
   },
   {
    "duration": 34,
    "start_time": "2022-06-01T13:21:10.872Z"
   },
   {
    "duration": 21,
    "start_time": "2022-06-01T13:21:11.024Z"
   },
   {
    "duration": 5,
    "start_time": "2022-06-01T13:21:11.482Z"
   },
   {
    "duration": 17,
    "start_time": "2022-06-01T13:21:11.847Z"
   },
   {
    "duration": 5,
    "start_time": "2022-06-01T13:21:12.129Z"
   },
   {
    "duration": 18,
    "start_time": "2022-06-01T13:23:28.458Z"
   },
   {
    "duration": 5,
    "start_time": "2022-06-01T13:23:50.644Z"
   },
   {
    "duration": 30,
    "start_time": "2022-06-01T13:23:50.994Z"
   },
   {
    "duration": 22,
    "start_time": "2022-06-01T13:23:51.126Z"
   },
   {
    "duration": 3,
    "start_time": "2022-06-01T13:23:51.391Z"
   },
   {
    "duration": 8,
    "start_time": "2022-06-01T13:23:51.494Z"
   },
   {
    "duration": 6,
    "start_time": "2022-06-01T13:23:51.622Z"
   },
   {
    "duration": 19,
    "start_time": "2022-06-01T13:23:52.051Z"
   },
   {
    "duration": 28,
    "start_time": "2022-06-01T13:23:59.265Z"
   },
   {
    "duration": 4,
    "start_time": "2022-06-01T13:25:57.002Z"
   },
   {
    "duration": 32,
    "start_time": "2022-06-01T13:26:27.392Z"
   },
   {
    "duration": 64,
    "start_time": "2022-06-01T13:26:37.804Z"
   },
   {
    "duration": 178,
    "start_time": "2022-06-01T13:26:47.677Z"
   },
   {
    "duration": 70,
    "start_time": "2022-06-01T13:26:53.312Z"
   },
   {
    "duration": 226,
    "start_time": "2022-06-01T13:28:27.367Z"
   },
   {
    "duration": 340,
    "start_time": "2022-06-01T13:28:33.500Z"
   },
   {
    "duration": 15,
    "start_time": "2022-06-01T13:30:21.659Z"
   },
   {
    "duration": 14,
    "start_time": "2022-06-01T13:30:39.163Z"
   },
   {
    "duration": 5,
    "start_time": "2022-06-01T13:31:08.677Z"
   },
   {
    "duration": 42,
    "start_time": "2022-06-01T13:31:09.208Z"
   },
   {
    "duration": 19,
    "start_time": "2022-06-01T13:31:09.377Z"
   },
   {
    "duration": 4,
    "start_time": "2022-06-01T13:31:09.673Z"
   },
   {
    "duration": 9,
    "start_time": "2022-06-01T13:31:09.805Z"
   },
   {
    "duration": 5,
    "start_time": "2022-06-01T13:31:10.018Z"
   },
   {
    "duration": 280,
    "start_time": "2022-06-01T13:31:10.811Z"
   },
   {
    "duration": 29,
    "start_time": "2022-06-01T13:31:11.572Z"
   },
   {
    "duration": 23,
    "start_time": "2022-06-01T13:31:43.116Z"
   },
   {
    "duration": 70,
    "start_time": "2022-06-01T13:32:03.324Z"
   },
   {
    "duration": 12,
    "start_time": "2022-06-01T13:32:06.548Z"
   },
   {
    "duration": 14,
    "start_time": "2022-06-01T13:33:17.793Z"
   },
   {
    "duration": 23,
    "start_time": "2022-06-01T13:35:35.846Z"
   },
   {
    "duration": 84,
    "start_time": "2022-06-01T13:35:36.725Z"
   },
   {
    "duration": 46,
    "start_time": "2022-06-01T13:35:37.255Z"
   },
   {
    "duration": 15,
    "start_time": "2022-06-01T13:35:37.871Z"
   },
   {
    "duration": 14,
    "start_time": "2022-06-01T13:35:38.129Z"
   },
   {
    "duration": 8,
    "start_time": "2022-06-01T13:35:38.402Z"
   },
   {
    "duration": 279,
    "start_time": "2022-06-01T13:35:39.066Z"
   },
   {
    "duration": 300,
    "start_time": "2022-06-01T13:35:39.370Z"
   },
   {
    "duration": 955,
    "start_time": "2022-06-01T19:32:08.275Z"
   },
   {
    "duration": 119,
    "start_time": "2022-06-01T19:32:09.232Z"
   },
   {
    "duration": 18,
    "start_time": "2022-06-01T19:32:09.353Z"
   },
   {
    "duration": 5,
    "start_time": "2022-06-01T19:32:09.671Z"
   },
   {
    "duration": 6,
    "start_time": "2022-06-01T19:32:09.890Z"
   },
   {
    "duration": 5,
    "start_time": "2022-06-01T19:32:10.076Z"
   },
   {
    "duration": 167,
    "start_time": "2022-06-01T19:32:10.677Z"
   },
   {
    "duration": 269,
    "start_time": "2022-06-01T19:32:11.035Z"
   },
   {
    "duration": 168,
    "start_time": "2022-06-01T19:33:01.184Z"
   },
   {
    "duration": 3,
    "start_time": "2022-06-01T19:33:39.483Z"
   },
   {
    "duration": 32,
    "start_time": "2022-06-01T19:33:48.918Z"
   },
   {
    "duration": 24,
    "start_time": "2022-06-01T19:33:58.816Z"
   },
   {
    "duration": 42,
    "start_time": "2022-06-01T19:34:09.933Z"
   },
   {
    "duration": 10,
    "start_time": "2022-06-01T19:34:50.371Z"
   },
   {
    "duration": 9,
    "start_time": "2022-06-01T19:34:58.128Z"
   },
   {
    "duration": 4,
    "start_time": "2022-06-01T19:35:04.192Z"
   },
   {
    "duration": 32,
    "start_time": "2022-06-01T19:35:04.509Z"
   },
   {
    "duration": 14,
    "start_time": "2022-06-01T19:35:04.681Z"
   },
   {
    "duration": 4,
    "start_time": "2022-06-01T19:35:04.957Z"
   },
   {
    "duration": 7,
    "start_time": "2022-06-01T19:35:05.095Z"
   },
   {
    "duration": 4,
    "start_time": "2022-06-01T19:35:05.246Z"
   },
   {
    "duration": 154,
    "start_time": "2022-06-01T19:35:05.517Z"
   },
   {
    "duration": 169,
    "start_time": "2022-06-01T19:35:05.673Z"
   },
   {
    "duration": 4,
    "start_time": "2022-06-01T19:35:21.388Z"
   },
   {
    "duration": 31,
    "start_time": "2022-06-01T19:35:21.539Z"
   },
   {
    "duration": 12,
    "start_time": "2022-06-01T19:35:21.680Z"
   },
   {
    "duration": 5,
    "start_time": "2022-06-01T19:35:21.925Z"
   },
   {
    "duration": 8,
    "start_time": "2022-06-01T19:35:22.084Z"
   },
   {
    "duration": 3,
    "start_time": "2022-06-01T19:35:22.234Z"
   },
   {
    "duration": 149,
    "start_time": "2022-06-01T19:35:22.533Z"
   },
   {
    "duration": 183,
    "start_time": "2022-06-01T19:35:22.684Z"
   },
   {
    "duration": 12,
    "start_time": "2022-06-01T19:36:40.049Z"
   },
   {
    "duration": 10,
    "start_time": "2022-06-01T19:40:26.467Z"
   },
   {
    "duration": 3,
    "start_time": "2022-06-02T08:23:17.102Z"
   },
   {
    "duration": 31,
    "start_time": "2022-06-02T08:23:17.491Z"
   },
   {
    "duration": 3,
    "start_time": "2022-06-02T08:23:54.798Z"
   },
   {
    "duration": 30,
    "start_time": "2022-06-02T08:23:54.937Z"
   },
   {
    "duration": 15,
    "start_time": "2022-06-02T08:23:55.058Z"
   },
   {
    "duration": 4,
    "start_time": "2022-06-02T08:23:55.320Z"
   },
   {
    "duration": 7,
    "start_time": "2022-06-02T08:23:55.447Z"
   },
   {
    "duration": 3,
    "start_time": "2022-06-02T08:23:55.580Z"
   },
   {
    "duration": 165,
    "start_time": "2022-06-02T08:23:55.851Z"
   },
   {
    "duration": 20,
    "start_time": "2022-06-02T08:23:56.073Z"
   },
   {
    "duration": 161,
    "start_time": "2022-06-02T08:24:36.013Z"
   },
   {
    "duration": 10,
    "start_time": "2022-06-02T08:24:36.282Z"
   },
   {
    "duration": 39,
    "start_time": "2022-06-02T08:24:45.001Z"
   },
   {
    "duration": 10,
    "start_time": "2022-06-02T08:26:55.807Z"
   },
   {
    "duration": 11,
    "start_time": "2022-06-02T08:27:17.035Z"
   },
   {
    "duration": 3,
    "start_time": "2022-06-02T08:27:20.139Z"
   },
   {
    "duration": 29,
    "start_time": "2022-06-02T08:27:20.281Z"
   },
   {
    "duration": 15,
    "start_time": "2022-06-02T08:27:20.415Z"
   },
   {
    "duration": 4,
    "start_time": "2022-06-02T08:27:20.680Z"
   },
   {
    "duration": 7,
    "start_time": "2022-06-02T08:27:20.820Z"
   },
   {
    "duration": 4,
    "start_time": "2022-06-02T08:27:20.956Z"
   },
   {
    "duration": 16,
    "start_time": "2022-06-02T08:27:21.254Z"
   },
   {
    "duration": 114,
    "start_time": "2022-06-02T08:27:21.538Z"
   },
   {
    "duration": 89,
    "start_time": "2022-06-02T08:27:28.950Z"
   },
   {
    "duration": 4,
    "start_time": "2022-06-02T08:27:34.224Z"
   },
   {
    "duration": 29,
    "start_time": "2022-06-02T08:27:34.365Z"
   },
   {
    "duration": 14,
    "start_time": "2022-06-02T08:27:34.492Z"
   },
   {
    "duration": 3,
    "start_time": "2022-06-02T08:27:34.784Z"
   },
   {
    "duration": 7,
    "start_time": "2022-06-02T08:27:34.901Z"
   },
   {
    "duration": 4,
    "start_time": "2022-06-02T08:27:35.031Z"
   },
   {
    "duration": 21,
    "start_time": "2022-06-02T08:27:35.349Z"
   },
   {
    "duration": 123,
    "start_time": "2022-06-02T08:27:35.703Z"
   },
   {
    "duration": 51,
    "start_time": "2022-06-02T08:27:42.487Z"
   },
   {
    "duration": 118,
    "start_time": "2022-06-02T08:27:43.060Z"
   },
   {
    "duration": 3,
    "start_time": "2022-06-02T08:28:34.335Z"
   },
   {
    "duration": 29,
    "start_time": "2022-06-02T08:28:34.475Z"
   },
   {
    "duration": 14,
    "start_time": "2022-06-02T08:28:34.611Z"
   },
   {
    "duration": 4,
    "start_time": "2022-06-02T08:28:34.901Z"
   },
   {
    "duration": 9,
    "start_time": "2022-06-02T08:28:35.062Z"
   },
   {
    "duration": 4,
    "start_time": "2022-06-02T08:28:35.244Z"
   },
   {
    "duration": 40,
    "start_time": "2022-06-02T08:28:35.915Z"
   },
   {
    "duration": 111,
    "start_time": "2022-06-02T08:28:36.545Z"
   },
   {
    "duration": 1058,
    "start_time": "2022-06-03T17:16:54.198Z"
   },
   {
    "duration": 68,
    "start_time": "2022-06-03T17:17:12.400Z"
   },
   {
    "duration": 20,
    "start_time": "2022-06-03T17:17:12.546Z"
   },
   {
    "duration": 5,
    "start_time": "2022-06-03T17:17:12.827Z"
   },
   {
    "duration": 6,
    "start_time": "2022-06-03T17:17:12.991Z"
   },
   {
    "duration": 4,
    "start_time": "2022-06-03T17:17:13.177Z"
   },
   {
    "duration": 119,
    "start_time": "2022-06-03T17:17:14.087Z"
   },
   {
    "duration": 113,
    "start_time": "2022-06-03T17:17:15.143Z"
   },
   {
    "duration": 42,
    "start_time": "2022-06-03T17:17:27.322Z"
   },
   {
    "duration": 109,
    "start_time": "2022-06-03T17:17:28.056Z"
   },
   {
    "duration": 9,
    "start_time": "2022-06-03T17:19:23.289Z"
   },
   {
    "duration": 142,
    "start_time": "2022-06-03T17:19:28.483Z"
   },
   {
    "duration": 2905,
    "start_time": "2022-06-03T17:19:37.541Z"
   },
   {
    "duration": 940,
    "start_time": "2022-06-03T17:20:11.953Z"
   },
   {
    "duration": 1465,
    "start_time": "2022-06-03T17:21:00.453Z"
   },
   {
    "duration": 851,
    "start_time": "2022-06-03T17:21:09.558Z"
   },
   {
    "duration": 810,
    "start_time": "2022-06-03T17:21:12.015Z"
   },
   {
    "duration": 946,
    "start_time": "2022-06-03T17:21:15.650Z"
   },
   {
    "duration": 1008,
    "start_time": "2022-06-03T17:21:18.431Z"
   },
   {
    "duration": 930,
    "start_time": "2022-06-03T17:21:20.822Z"
   },
   {
    "duration": 1015,
    "start_time": "2022-06-03T17:21:23.959Z"
   },
   {
    "duration": 975,
    "start_time": "2022-06-03T17:21:26.473Z"
   },
   {
    "duration": 24,
    "start_time": "2022-06-03T17:21:41.793Z"
   },
   {
    "duration": 12890,
    "start_time": "2022-06-03T17:23:02.824Z"
   },
   {
    "duration": 627,
    "start_time": "2022-06-03T17:24:59.138Z"
   },
   {
    "duration": 160,
    "start_time": "2022-06-03T17:25:11.927Z"
   },
   {
    "duration": 63,
    "start_time": "2022-06-03T17:25:16.877Z"
   },
   {
    "duration": 3,
    "start_time": "2022-06-03T17:27:16.709Z"
   },
   {
    "duration": 28,
    "start_time": "2022-06-03T17:27:17.251Z"
   },
   {
    "duration": 12,
    "start_time": "2022-06-03T17:27:17.387Z"
   },
   {
    "duration": 3,
    "start_time": "2022-06-03T17:27:17.678Z"
   },
   {
    "duration": 6,
    "start_time": "2022-06-03T17:27:17.854Z"
   },
   {
    "duration": 4,
    "start_time": "2022-06-03T17:27:18.043Z"
   },
   {
    "duration": 61,
    "start_time": "2022-06-03T17:27:18.485Z"
   },
   {
    "duration": 150,
    "start_time": "2022-06-03T17:27:18.848Z"
   },
   {
    "duration": 40,
    "start_time": "2022-06-03T17:27:19.343Z"
   },
   {
    "duration": 56,
    "start_time": "2022-06-03T17:27:24.413Z"
   },
   {
    "duration": 42,
    "start_time": "2022-06-03T17:27:27.051Z"
   },
   {
    "duration": 41,
    "start_time": "2022-06-03T17:27:29.491Z"
   },
   {
    "duration": 48,
    "start_time": "2022-06-03T17:27:32.511Z"
   },
   {
    "duration": 353,
    "start_time": "2022-06-03T17:35:43.135Z"
   },
   {
    "duration": 24,
    "start_time": "2022-06-03T17:35:49.943Z"
   },
   {
    "duration": 24,
    "start_time": "2022-06-03T17:35:55.677Z"
   },
   {
    "duration": 1306,
    "start_time": "2022-06-03T17:36:04.725Z"
   },
   {
    "duration": 1373,
    "start_time": "2022-06-03T17:36:19.907Z"
   },
   {
    "duration": 1333,
    "start_time": "2022-06-03T17:36:32.346Z"
   },
   {
    "duration": 1266,
    "start_time": "2022-06-03T17:36:51.553Z"
   },
   {
    "duration": 1369,
    "start_time": "2022-06-03T17:36:53.787Z"
   },
   {
    "duration": 1365,
    "start_time": "2022-06-03T17:36:59.367Z"
   },
   {
    "duration": 48482,
    "start_time": "2022-06-03T17:37:10.538Z"
   },
   {
    "duration": 13199,
    "start_time": "2022-06-03T17:38:26.748Z"
   },
   {
    "duration": 5028,
    "start_time": "2022-06-03T17:38:51.363Z"
   },
   {
    "duration": 163,
    "start_time": "2022-06-03T17:39:06.305Z"
   },
   {
    "duration": 1330,
    "start_time": "2022-06-03T17:39:12.847Z"
   },
   {
    "duration": 5069,
    "start_time": "2022-06-03T17:39:18.861Z"
   },
   {
    "duration": 5032,
    "start_time": "2022-06-03T17:39:52.925Z"
   },
   {
    "duration": 4,
    "start_time": "2022-06-03T17:40:12.396Z"
   },
   {
    "duration": 5085,
    "start_time": "2022-06-03T17:41:04.433Z"
   },
   {
    "duration": 4,
    "start_time": "2022-06-03T17:41:10.899Z"
   },
   {
    "duration": 341,
    "start_time": "2022-06-03T17:41:34.521Z"
   },
   {
    "duration": 328,
    "start_time": "2022-06-03T17:43:00.140Z"
   },
   {
    "duration": 304,
    "start_time": "2022-06-03T17:46:00.646Z"
   },
   {
    "duration": 3,
    "start_time": "2022-06-03T17:46:30.981Z"
   },
   {
    "duration": 36,
    "start_time": "2022-06-03T17:46:31.138Z"
   },
   {
    "duration": 18,
    "start_time": "2022-06-03T17:46:31.267Z"
   },
   {
    "duration": 8,
    "start_time": "2022-06-03T17:46:31.524Z"
   },
   {
    "duration": 6,
    "start_time": "2022-06-03T17:46:31.666Z"
   },
   {
    "duration": 4,
    "start_time": "2022-06-03T17:46:31.799Z"
   },
   {
    "duration": 272,
    "start_time": "2022-06-03T17:46:32.080Z"
   },
   {
    "duration": 4955,
    "start_time": "2022-06-03T17:46:32.354Z"
   },
   {
    "duration": 3,
    "start_time": "2022-06-03T17:46:37.311Z"
   },
   {
    "duration": 54,
    "start_time": "2022-06-03T17:46:37.315Z"
   },
   {
    "duration": 14,
    "start_time": "2022-06-03T17:46:47.943Z"
   },
   {
    "duration": 11,
    "start_time": "2022-06-03T17:46:54.593Z"
   },
   {
    "duration": 14,
    "start_time": "2022-06-03T17:48:24.186Z"
   },
   {
    "duration": 6,
    "start_time": "2022-06-03T18:17:39.798Z"
   },
   {
    "duration": 42,
    "start_time": "2022-06-03T18:23:17.847Z"
   },
   {
    "duration": 3,
    "start_time": "2022-06-03T18:23:36.007Z"
   },
   {
    "duration": 4,
    "start_time": "2022-06-03T18:24:14.069Z"
   },
   {
    "duration": 32,
    "start_time": "2022-06-03T18:24:52.458Z"
   },
   {
    "duration": 13,
    "start_time": "2022-06-03T18:25:11.808Z"
   },
   {
    "duration": 4,
    "start_time": "2022-06-03T18:25:27.726Z"
   },
   {
    "duration": 3,
    "start_time": "2022-06-03T18:25:28.157Z"
   },
   {
    "duration": 2,
    "start_time": "2022-06-03T18:25:28.846Z"
   },
   {
    "duration": 32,
    "start_time": "2022-06-03T18:25:52.115Z"
   },
   {
    "duration": 4,
    "start_time": "2022-06-03T18:26:46.411Z"
   },
   {
    "duration": 3,
    "start_time": "2022-06-03T18:26:46.685Z"
   },
   {
    "duration": 28,
    "start_time": "2022-06-03T18:26:47.046Z"
   },
   {
    "duration": 4,
    "start_time": "2022-06-03T18:27:34.877Z"
   },
   {
    "duration": 3,
    "start_time": "2022-06-03T18:27:35.140Z"
   },
   {
    "duration": 32,
    "start_time": "2022-06-03T18:27:35.414Z"
   },
   {
    "duration": 3,
    "start_time": "2022-06-03T18:27:44.914Z"
   },
   {
    "duration": 3,
    "start_time": "2022-06-03T18:27:45.074Z"
   },
   {
    "duration": 5,
    "start_time": "2022-06-03T18:27:45.236Z"
   },
   {
    "duration": 28,
    "start_time": "2022-06-03T18:27:45.483Z"
   },
   {
    "duration": 4,
    "start_time": "2022-06-03T18:27:54.548Z"
   },
   {
    "duration": 3,
    "start_time": "2022-06-03T18:27:54.855Z"
   },
   {
    "duration": 22,
    "start_time": "2022-06-03T18:27:55.134Z"
   },
   {
    "duration": 4,
    "start_time": "2022-06-03T18:28:32.669Z"
   },
   {
    "duration": 4,
    "start_time": "2022-06-03T18:28:32.844Z"
   },
   {
    "duration": 22,
    "start_time": "2022-06-03T18:28:33.036Z"
   },
   {
    "duration": 3,
    "start_time": "2022-06-03T18:29:09.050Z"
   },
   {
    "duration": 3,
    "start_time": "2022-06-03T18:29:09.464Z"
   },
   {
    "duration": 32,
    "start_time": "2022-06-03T18:29:09.715Z"
   },
   {
    "duration": 3,
    "start_time": "2022-06-03T18:29:13.680Z"
   },
   {
    "duration": 26,
    "start_time": "2022-06-03T18:29:14.519Z"
   },
   {
    "duration": 3,
    "start_time": "2022-06-03T18:30:14.101Z"
   },
   {
    "duration": 3,
    "start_time": "2022-06-03T18:30:14.304Z"
   },
   {
    "duration": 33,
    "start_time": "2022-06-03T18:30:14.618Z"
   },
   {
    "duration": 4,
    "start_time": "2022-06-03T18:30:41.771Z"
   },
   {
    "duration": 3,
    "start_time": "2022-06-03T18:31:13.680Z"
   },
   {
    "duration": 3,
    "start_time": "2022-06-03T18:31:14.004Z"
   },
   {
    "duration": 3,
    "start_time": "2022-06-03T18:31:14.403Z"
   },
   {
    "duration": 5,
    "start_time": "2022-06-03T18:31:14.745Z"
   },
   {
    "duration": 52032,
    "start_time": "2022-06-03T18:31:15.160Z"
   },
   {
    "duration": 6,
    "start_time": "2022-06-03T18:33:41.164Z"
   },
   {
    "duration": 10,
    "start_time": "2022-06-03T18:34:57.850Z"
   },
   {
    "duration": 4,
    "start_time": "2022-06-03T18:35:04.546Z"
   },
   {
    "duration": 6,
    "start_time": "2022-06-03T18:35:08.226Z"
   },
   {
    "duration": 3,
    "start_time": "2022-06-03T18:35:48.967Z"
   },
   {
    "duration": 4,
    "start_time": "2022-06-03T18:35:59.042Z"
   },
   {
    "duration": 8,
    "start_time": "2022-06-03T18:35:59.272Z"
   },
   {
    "duration": 7,
    "start_time": "2022-06-03T18:36:23.114Z"
   },
   {
    "duration": 9,
    "start_time": "2022-06-03T18:36:33.408Z"
   },
   {
    "duration": 3,
    "start_time": "2022-06-03T18:36:46.302Z"
   },
   {
    "duration": 12,
    "start_time": "2022-06-03T18:36:46.777Z"
   },
   {
    "duration": 3,
    "start_time": "2022-06-03T18:37:07.258Z"
   },
   {
    "duration": 10,
    "start_time": "2022-06-03T18:37:07.984Z"
   },
   {
    "duration": 3,
    "start_time": "2022-06-03T18:48:25.360Z"
   },
   {
    "duration": 29,
    "start_time": "2022-06-03T18:48:25.676Z"
   },
   {
    "duration": 13,
    "start_time": "2022-06-03T18:48:26.077Z"
   },
   {
    "duration": 3,
    "start_time": "2022-06-03T18:48:27.957Z"
   },
   {
    "duration": 8,
    "start_time": "2022-06-03T18:48:28.790Z"
   },
   {
    "duration": 5,
    "start_time": "2022-06-03T18:48:33.920Z"
   },
   {
    "duration": 301,
    "start_time": "2022-06-03T18:48:35.472Z"
   },
   {
    "duration": 5139,
    "start_time": "2022-06-03T18:48:36.386Z"
   },
   {
    "duration": 12,
    "start_time": "2022-06-03T18:48:41.528Z"
   },
   {
    "duration": 69,
    "start_time": "2022-06-03T18:48:41.545Z"
   },
   {
    "duration": 14,
    "start_time": "2022-06-03T18:48:45.982Z"
   },
   {
    "duration": 4,
    "start_time": "2022-06-03T18:50:10.389Z"
   },
   {
    "duration": 5,
    "start_time": "2022-06-03T18:50:10.921Z"
   },
   {
    "duration": 51754,
    "start_time": "2022-06-03T18:50:11.373Z"
   },
   {
    "duration": 3,
    "start_time": "2022-06-03T18:51:03.129Z"
   },
   {
    "duration": 28,
    "start_time": "2022-06-03T18:51:03.135Z"
   },
   {
    "duration": 3,
    "start_time": "2022-06-03T18:54:54.621Z"
   },
   {
    "duration": 30,
    "start_time": "2022-06-03T18:55:06.069Z"
   },
   {
    "duration": 15,
    "start_time": "2022-06-03T18:55:34.582Z"
   },
   {
    "duration": 4,
    "start_time": "2022-06-03T18:56:55.493Z"
   },
   {
    "duration": 6,
    "start_time": "2022-06-03T18:58:35.184Z"
   },
   {
    "duration": 5,
    "start_time": "2022-06-03T18:59:49.207Z"
   },
   {
    "duration": 297,
    "start_time": "2022-06-03T19:02:57.007Z"
   },
   {
    "duration": 5216,
    "start_time": "2022-06-03T19:08:16.800Z"
   },
   {
    "duration": 5,
    "start_time": "2022-06-03T19:08:28.946Z"
   },
   {
    "duration": 4,
    "start_time": "2022-06-03T19:09:16.228Z"
   },
   {
    "duration": 42,
    "start_time": "2022-06-03T19:10:31.753Z"
   },
   {
    "duration": 14,
    "start_time": "2022-06-03T19:14:17.195Z"
   },
   {
    "duration": 21,
    "start_time": "2022-06-03T19:14:22.424Z"
   },
   {
    "duration": 3,
    "start_time": "2022-06-03T19:20:00.484Z"
   },
   {
    "duration": 4,
    "start_time": "2022-06-03T19:20:42.762Z"
   },
   {
    "duration": 53272,
    "start_time": "2022-06-03T19:20:53.350Z"
   },
   {
    "duration": 7,
    "start_time": "2022-06-03T19:21:46.624Z"
   },
   {
    "duration": 33,
    "start_time": "2022-06-03T19:21:46.634Z"
   },
   {
    "duration": 4,
    "start_time": "2022-06-03T19:22:24.985Z"
   },
   {
    "duration": 3,
    "start_time": "2022-06-03T19:23:13.309Z"
   },
   {
    "duration": 12,
    "start_time": "2022-06-03T19:23:14.275Z"
   },
   {
    "duration": 1218,
    "start_time": "2022-06-03T19:26:12.255Z"
   },
   {
    "duration": 30,
    "start_time": "2022-06-03T19:26:13.476Z"
   },
   {
    "duration": 42,
    "start_time": "2022-06-03T19:26:13.508Z"
   },
   {
    "duration": 8,
    "start_time": "2022-06-03T19:26:13.554Z"
   },
   {
    "duration": 13,
    "start_time": "2022-06-03T19:26:13.564Z"
   },
   {
    "duration": 6,
    "start_time": "2022-06-03T19:26:13.579Z"
   },
   {
    "duration": 447,
    "start_time": "2022-06-03T19:26:13.588Z"
   },
   {
    "duration": 5997,
    "start_time": "2022-06-03T19:26:14.037Z"
   },
   {
    "duration": 18,
    "start_time": "2022-06-03T19:26:20.038Z"
   },
   {
    "duration": 104,
    "start_time": "2022-06-03T19:26:20.061Z"
   },
   {
    "duration": 23,
    "start_time": "2022-06-03T19:26:20.169Z"
   },
   {
    "duration": 35,
    "start_time": "2022-06-03T19:26:20.195Z"
   },
   {
    "duration": 27,
    "start_time": "2022-06-03T19:26:20.232Z"
   },
   {
    "duration": 11,
    "start_time": "2022-06-03T19:26:20.260Z"
   },
   {
    "duration": 54052,
    "start_time": "2022-06-03T19:26:20.273Z"
   },
   {
    "duration": 13,
    "start_time": "2022-06-03T19:27:14.334Z"
   },
   {
    "duration": 13,
    "start_time": "2022-06-03T19:27:14.351Z"
   },
   {
    "duration": 36,
    "start_time": "2022-06-03T19:27:14.367Z"
   },
   {
    "duration": 117,
    "start_time": "2022-06-04T18:57:38.883Z"
   },
   {
    "duration": 1206,
    "start_time": "2022-06-04T18:57:41.717Z"
   },
   {
    "duration": 73,
    "start_time": "2022-06-04T18:57:42.924Z"
   },
   {
    "duration": 31,
    "start_time": "2022-06-04T18:57:43.631Z"
   },
   {
    "duration": 22,
    "start_time": "2022-06-04T18:57:44.580Z"
   },
   {
    "duration": 5,
    "start_time": "2022-06-04T18:57:51.348Z"
   },
   {
    "duration": 9,
    "start_time": "2022-06-04T18:57:51.677Z"
   },
   {
    "duration": 11,
    "start_time": "2022-06-04T18:57:52.017Z"
   },
   {
    "duration": 354,
    "start_time": "2022-06-04T18:58:07.277Z"
   },
   {
    "duration": 780,
    "start_time": "2022-06-04T19:05:16.091Z"
   },
   {
    "duration": 32,
    "start_time": "2022-06-04T19:05:17.844Z"
   },
   {
    "duration": 21,
    "start_time": "2022-06-04T19:05:18.128Z"
   },
   {
    "duration": 37,
    "start_time": "2022-06-04T19:05:18.407Z"
   },
   {
    "duration": 8,
    "start_time": "2022-06-04T19:05:19.918Z"
   },
   {
    "duration": 18,
    "start_time": "2022-06-04T19:05:20.385Z"
   },
   {
    "duration": 9,
    "start_time": "2022-06-04T19:05:20.708Z"
   },
   {
    "duration": 375,
    "start_time": "2022-06-04T19:05:22.038Z"
   },
   {
    "duration": 617,
    "start_time": "2022-06-04T19:07:23.535Z"
   },
   {
    "duration": 528,
    "start_time": "2022-06-04T19:07:32.953Z"
   },
   {
    "duration": 622,
    "start_time": "2022-06-04T19:09:29.849Z"
   },
   {
    "duration": 587,
    "start_time": "2022-06-04T19:09:40.545Z"
   },
   {
    "duration": 581,
    "start_time": "2022-06-04T19:10:52.046Z"
   },
   {
    "duration": 65,
    "start_time": "2022-06-04T19:13:19.812Z"
   },
   {
    "duration": 629,
    "start_time": "2022-06-04T19:13:23.710Z"
   },
   {
    "duration": 614,
    "start_time": "2022-06-04T19:13:38.041Z"
   },
   {
    "duration": 6496,
    "start_time": "2022-06-04T19:15:31.643Z"
   },
   {
    "duration": 294,
    "start_time": "2022-06-04T19:16:15.378Z"
   },
   {
    "duration": 11,
    "start_time": "2022-06-04T19:16:27.019Z"
   },
   {
    "duration": 55,
    "start_time": "2022-06-04T19:16:30.325Z"
   },
   {
    "duration": 18,
    "start_time": "2022-06-04T19:19:38.649Z"
   },
   {
    "duration": 10,
    "start_time": "2022-06-04T19:20:19.450Z"
   },
   {
    "duration": 3,
    "start_time": "2022-06-04T19:21:47.957Z"
   },
   {
    "duration": 4,
    "start_time": "2022-06-04T19:21:48.508Z"
   },
   {
    "duration": 10,
    "start_time": "2022-06-04T19:21:48.911Z"
   },
   {
    "duration": 63713,
    "start_time": "2022-06-04T19:21:49.348Z"
   },
   {
    "duration": 5,
    "start_time": "2022-06-04T19:22:53.063Z"
   },
   {
    "duration": 6,
    "start_time": "2022-06-04T19:22:53.070Z"
   },
   {
    "duration": 35,
    "start_time": "2022-06-04T19:22:53.078Z"
   },
   {
    "duration": 1610,
    "start_time": "2022-06-05T07:40:52.595Z"
   },
   {
    "duration": 63,
    "start_time": "2022-06-05T07:40:54.207Z"
   },
   {
    "duration": 19,
    "start_time": "2022-06-05T07:40:54.271Z"
   },
   {
    "duration": 5,
    "start_time": "2022-06-05T07:43:13.793Z"
   },
   {
    "duration": 29,
    "start_time": "2022-06-05T07:43:15.720Z"
   },
   {
    "duration": 16,
    "start_time": "2022-06-05T07:43:16.021Z"
   },
   {
    "duration": 12,
    "start_time": "2022-06-05T07:43:16.277Z"
   },
   {
    "duration": 5,
    "start_time": "2022-06-05T07:43:16.956Z"
   },
   {
    "duration": 10,
    "start_time": "2022-06-05T07:43:17.252Z"
   },
   {
    "duration": 7,
    "start_time": "2022-06-05T07:43:18.378Z"
   },
   {
    "duration": 5,
    "start_time": "2022-06-05T07:43:44.493Z"
   },
   {
    "duration": 5,
    "start_time": "2022-06-05T07:44:01.407Z"
   },
   {
    "duration": 4,
    "start_time": "2022-06-05T07:45:54.478Z"
   },
   {
    "duration": 29,
    "start_time": "2022-06-05T07:45:55.284Z"
   },
   {
    "duration": 13,
    "start_time": "2022-06-05T07:45:55.749Z"
   },
   {
    "duration": 12,
    "start_time": "2022-06-05T07:45:56.750Z"
   },
   {
    "duration": 4,
    "start_time": "2022-06-05T07:46:03.852Z"
   },
   {
    "duration": 6,
    "start_time": "2022-06-05T07:46:04.378Z"
   },
   {
    "duration": 5,
    "start_time": "2022-06-05T07:46:04.879Z"
   },
   {
    "duration": 496,
    "start_time": "2022-06-05T07:46:05.888Z"
   },
   {
    "duration": 43,
    "start_time": "2022-06-05T07:46:25.911Z"
   },
   {
    "duration": 5634,
    "start_time": "2022-06-05T07:46:34.825Z"
   },
   {
    "duration": 8,
    "start_time": "2022-06-05T07:46:40.461Z"
   },
   {
    "duration": 58,
    "start_time": "2022-06-05T07:46:40.471Z"
   },
   {
    "duration": 10,
    "start_time": "2022-06-05T07:46:54.544Z"
   },
   {
    "duration": 3,
    "start_time": "2022-06-05T07:47:12.437Z"
   },
   {
    "duration": 3,
    "start_time": "2022-06-05T07:47:13.181Z"
   },
   {
    "duration": 3,
    "start_time": "2022-06-05T07:47:13.847Z"
   },
   {
    "duration": 55307,
    "start_time": "2022-06-05T07:47:14.931Z"
   },
   {
    "duration": 3,
    "start_time": "2022-06-05T07:48:10.240Z"
   },
   {
    "duration": 5,
    "start_time": "2022-06-05T07:48:10.245Z"
   },
   {
    "duration": 11,
    "start_time": "2022-06-05T07:48:10.252Z"
   },
   {
    "duration": 7,
    "start_time": "2022-06-05T07:48:18.212Z"
   }
  ],
  "kernelspec": {
   "display_name": "Python 3 (ipykernel)",
   "language": "python",
   "name": "python3"
  },
  "language_info": {
   "codemirror_mode": {
    "name": "ipython",
    "version": 3
   },
   "file_extension": ".py",
   "mimetype": "text/x-python",
   "name": "python",
   "nbconvert_exporter": "python",
   "pygments_lexer": "ipython3",
   "version": "3.9.7"
  },
  "toc": {
   "base_numbering": 1,
   "nav_menu": {},
   "number_sections": true,
   "sideBar": true,
   "skip_h1_title": true,
   "title_cell": "Оглавление",
   "title_sidebar": "Содержание",
   "toc_cell": true,
   "toc_position": {},
   "toc_section_display": true,
   "toc_window_display": true
  }
 },
 "nbformat": 4,
 "nbformat_minor": 2
}
