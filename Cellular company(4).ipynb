{
 "cells": [
  {
   "cell_type": "markdown",
   "metadata": {
    "toc": true
   },
   "source": [
    "<h1>Содержание<span class=\"tocSkip\"></span></h1>\n",
    "<div class=\"toc\"><ul class=\"toc-item\"><li><span><a href=\"#Тариф-«Смарт»\" data-toc-modified-id=\"Тариф-«Смарт»-1\"><span class=\"toc-item-num\">1&nbsp;&nbsp;</span>Тариф «Смарт»</a></span></li><li><span><a href=\"#Тариф-«Ультра»\" data-toc-modified-id=\"Тариф-«Ультра»-2\"><span class=\"toc-item-num\">2&nbsp;&nbsp;</span>Тариф «Ультра»</a></span></li><li><span><a href=\"#Шаг-1.-Знакомство-с-данными\" data-toc-modified-id=\"Шаг-1.-Знакомство-с-данными-3\"><span class=\"toc-item-num\">3&nbsp;&nbsp;</span>Шаг 1. Знакомство с данными</a></span></li><li><span><a href=\"#Шаг-2.-Подготовка-данных\" data-toc-modified-id=\"Шаг-2.-Подготовка-данных-4\"><span class=\"toc-item-num\">4&nbsp;&nbsp;</span>Шаг 2. Подготовка данных</a></span></li><li><span><a href=\"#Шаг-3.-Исследовательский-анализ-данных\" data-toc-modified-id=\"Шаг-3.-Исследовательский-анализ-данных-5\"><span class=\"toc-item-num\">5&nbsp;&nbsp;</span>Шаг 3. Исследовательский анализ данных</a></span><ul class=\"toc-item\"><li><span><a href=\"#Анализ-тарифа-&quot;Смарт&quot;\" data-toc-modified-id=\"Анализ-тарифа-&quot;Смарт&quot;-5.1\"><span class=\"toc-item-num\">5.1&nbsp;&nbsp;</span>Анализ тарифа \"Смарт\"</a></span></li><li><span><a href=\"#Анализ-тарифа--&quot;Ультра&quot;\" data-toc-modified-id=\"Анализ-тарифа--&quot;Ультра&quot;-5.2\"><span class=\"toc-item-num\">5.2&nbsp;&nbsp;</span>Анализ тарифа  \"Ультра\"</a></span></li></ul></li><li><span><a href=\"#Шаг-4.-Проверка-гипотез\" data-toc-modified-id=\"Шаг-4.-Проверка-гипотез-6\"><span class=\"toc-item-num\">6&nbsp;&nbsp;</span>Шаг 4. Проверка гипотез</a></span></li><li><span><a href=\"#Шаг-5.-Общий-вывод\" data-toc-modified-id=\"Шаг-5.-Общий-вывод-7\"><span class=\"toc-item-num\">7&nbsp;&nbsp;</span>Шаг 5. Общий вывод</a></span></li></ul></div>"
   ]
  },
  {
   "cell_type": "markdown",
   "metadata": {},
   "source": [
    "# Описание проекта\n",
    "Вы аналитик компании «Мегалайн» — федерального оператора сотовой связи. Клиентам предлагают два тарифных плана: «Смарт» и «Ультра». Чтобы скорректировать рекламный бюджет, коммерческий департамент хочет понять, какой тариф приносит больше денег.\n",
    "Вам предстоит сделать предварительный анализ тарифов на небольшой выборке клиентов. В вашем распоряжении данные 500 пользователей «Мегалайна»: кто они, откуда, каким тарифом пользуются, сколько звонков и сообщений каждый отправил за 2018 год. Нужно проанализировать поведение клиентов и сделать вывод — какой тариф лучше."
   ]
  },
  {
   "cell_type": "markdown",
   "metadata": {},
   "source": [
    "# Описание тарифов \n",
    "\n",
    "## Тариф «Смарт» \n",
    "Ежемесячная плата: 550 рублей\n",
    "\n",
    "Включено 500 минут разговора, 50 сообщений и 15 Гб интернет-трафика\n",
    "\n",
    "Стоимость услуг сверх тарифного пакета:\n",
    "\n",
    "  * минута разговора: 3 рубля\n",
    "\n",
    "  * сообщение: 3 рубля\n",
    "\n",
    "  * 1 Гб интернет-трафика: 200 рублей\n",
    "  \n",
    "  \n",
    "## Тариф «Ультра»\n",
    "Ежемесячная плата: 1950 рублей\n",
    "\n",
    "Включено 3000 минут разговора, 1000 сообщений и 30 Гб интернет-трафика\n",
    "\n",
    "Стоимость услуг сверх тарифного пакета:\n",
    "\n",
    "   * минута разговора: 1 рубль\n",
    "\n",
    "   * сообщение: 1 рубль\n",
    "\n",
    "   * 1 Гб интернет-трафика: 150 рублей"
   ]
  },
  {
   "cell_type": "markdown",
   "metadata": {},
   "source": [
    "## Шаг 1. Знакомство с данными"
   ]
  },
  {
   "cell_type": "markdown",
   "metadata": {},
   "source": [
    "Подключаем необходимые библиотеки"
   ]
  },
  {
   "cell_type": "code",
   "execution_count": 25,
   "metadata": {},
   "outputs": [],
   "source": [
    "import pandas as pd\n",
    "import numpy as np\n",
    "import matplotlib.pyplot as plt\n",
    "import math\n",
    "import seaborn as sns\n",
    "sns.set(color_codes=True)\n",
    "from functools import reduce\n",
    "idx = pd.IndexSlice\n",
    "from scipy import stats as st"
   ]
  },
  {
   "cell_type": "markdown",
   "metadata": {},
   "source": [
    "Читаем файлы в переменные с параметром parse_dates, который позволяет перевести сразу необходимые  столбцы в формат datetime"
   ]
  },
  {
   "cell_type": "code",
   "execution_count": 30,
   "metadata": {},
   "outputs": [],
   "source": [
    "calls = pd.read_csv('/datasets/calls.csv', parse_dates=['call_date'])\n",
    "internet= pd.read_csv('/datasets/internet.csv', parse_dates=['session_date'],index_col=0)\n",
    "messages = pd.read_csv('/datasets/messages.csv',parse_dates=['message_date'])\n",
    "tariffs = pd.read_csv('/datasets/tariffs.csv')\n",
    "users = pd.read_csv('/datasets/users.csv',parse_dates=['reg_date'])"
   ]
  },
  {
   "cell_type": "markdown",
   "metadata": {},
   "source": [
    "Посмотрим данные и оценим что с ними необходимо сделать"
   ]
  },
  {
   "cell_type": "code",
   "execution_count": 31,
   "metadata": {
    "scrolled": true
   },
   "outputs": [
    {
     "name": "stdout",
     "output_type": "stream",
     "text": [
      "<class 'pandas.core.frame.DataFrame'>\n",
      "RangeIndex: 202607 entries, 0 to 202606\n",
      "Data columns (total 4 columns):\n",
      " #   Column     Non-Null Count   Dtype         \n",
      "---  ------     --------------   -----         \n",
      " 0   id         202607 non-null  object        \n",
      " 1   call_date  202607 non-null  datetime64[ns]\n",
      " 2   duration   202607 non-null  float64       \n",
      " 3   user_id    202607 non-null  int64         \n",
      "dtypes: datetime64[ns](1), float64(1), int64(1), object(1)\n",
      "memory usage: 6.2+ MB\n",
      "None \n",
      "\n",
      "\n",
      "<class 'pandas.core.frame.DataFrame'>\n",
      "Int64Index: 149396 entries, 0 to 149395\n",
      "Data columns (total 4 columns):\n",
      " #   Column        Non-Null Count   Dtype         \n",
      "---  ------        --------------   -----         \n",
      " 0   id            149396 non-null  object        \n",
      " 1   mb_used       149396 non-null  float64       \n",
      " 2   session_date  149396 non-null  datetime64[ns]\n",
      " 3   user_id       149396 non-null  int64         \n",
      "dtypes: datetime64[ns](1), float64(1), int64(1), object(1)\n",
      "memory usage: 5.7+ MB\n",
      "None \n",
      "\n",
      "\n",
      "<class 'pandas.core.frame.DataFrame'>\n",
      "RangeIndex: 123036 entries, 0 to 123035\n",
      "Data columns (total 3 columns):\n",
      " #   Column        Non-Null Count   Dtype         \n",
      "---  ------        --------------   -----         \n",
      " 0   id            123036 non-null  object        \n",
      " 1   message_date  123036 non-null  datetime64[ns]\n",
      " 2   user_id       123036 non-null  int64         \n",
      "dtypes: datetime64[ns](1), int64(1), object(1)\n",
      "memory usage: 2.8+ MB\n",
      "None \n",
      "\n",
      "\n",
      "<class 'pandas.core.frame.DataFrame'>\n",
      "RangeIndex: 2 entries, 0 to 1\n",
      "Data columns (total 8 columns):\n",
      " #   Column                 Non-Null Count  Dtype \n",
      "---  ------                 --------------  ----- \n",
      " 0   messages_included      2 non-null      int64 \n",
      " 1   mb_per_month_included  2 non-null      int64 \n",
      " 2   minutes_included       2 non-null      int64 \n",
      " 3   rub_monthly_fee        2 non-null      int64 \n",
      " 4   rub_per_gb             2 non-null      int64 \n",
      " 5   rub_per_message        2 non-null      int64 \n",
      " 6   rub_per_minute         2 non-null      int64 \n",
      " 7   tariff_name            2 non-null      object\n",
      "dtypes: int64(7), object(1)\n",
      "memory usage: 256.0+ bytes\n",
      "None \n",
      "\n",
      "\n",
      "<class 'pandas.core.frame.DataFrame'>\n",
      "RangeIndex: 500 entries, 0 to 499\n",
      "Data columns (total 8 columns):\n",
      " #   Column      Non-Null Count  Dtype         \n",
      "---  ------      --------------  -----         \n",
      " 0   user_id     500 non-null    int64         \n",
      " 1   age         500 non-null    int64         \n",
      " 2   churn_date  38 non-null     object        \n",
      " 3   city        500 non-null    object        \n",
      " 4   first_name  500 non-null    object        \n",
      " 5   last_name   500 non-null    object        \n",
      " 6   reg_date    500 non-null    datetime64[ns]\n",
      " 7   tariff      500 non-null    object        \n",
      "dtypes: datetime64[ns](1), int64(2), object(5)\n",
      "memory usage: 31.4+ KB\n",
      "None \n",
      "\n",
      "\n"
     ]
    }
   ],
   "source": [
    "for i in [calls,internet, messages,tariffs,users]:\n",
    "    print(i.info(), '\\n\\n')"
   ]
  },
  {
   "cell_type": "markdown",
   "metadata": {},
   "source": [
    "## Шаг 2. Подготовка данных"
   ]
  },
  {
   "cell_type": "markdown",
   "metadata": {},
   "source": [
    "Далее для предовтращения появления неявных дубликатов, приведём к нижнему регистру все буквенные столбцы"
   ]
  },
  {
   "cell_type": "code",
   "execution_count": 34,
   "metadata": {},
   "outputs": [],
   "source": [
    "users['city'] = users['city'].str.lower()\n",
    "users['first_name'] = users['first_name'].str.lower()\n",
    "users['last_name'] = users['last_name'].str.lower()\n",
    "users['tariff'] = users['tariff'].str.lower()"
   ]
  },
  {
   "cell_type": "markdown",
   "metadata": {},
   "source": [
    "Добавим столбец с номером месяца"
   ]
  },
  {
   "cell_type": "code",
   "execution_count": 35,
   "metadata": {},
   "outputs": [],
   "source": [
    "calls['month'] = calls['call_date'].astype('datetime64[M]').dt.month\n",
    "messages['month'] = messages['message_date'].astype('datetime64[M]').dt.month\n",
    "internet['month'] = internet['session_date'].astype('datetime64[M]').dt.month"
   ]
  },
  {
   "cell_type": "markdown",
   "metadata": {},
   "source": [
    "Теперь проверим на наличие явных дубликатов"
   ]
  },
  {
   "cell_type": "code",
   "execution_count": 36,
   "metadata": {},
   "outputs": [
    {
     "name": "stdout",
     "output_type": "stream",
     "text": [
      "0\n",
      "0\n",
      "0\n",
      "0\n",
      "0\n"
     ]
    }
   ],
   "source": [
    "print(sum(calls.duplicated()))\n",
    "print(sum(internet.duplicated()))\n",
    "print(sum(messages.duplicated()))\n",
    "print(sum(tariffs.duplicated()))\n",
    "print(sum(users.duplicated()))"
   ]
  },
  {
   "cell_type": "markdown",
   "metadata": {},
   "source": [
    "Создадим функцию для округления количества использованного интернета. Если число делится на тысячу двадцать четыре  с остатком, то к целой части полученного числа прибавляется 1 и умножается на тысячу. Если же число делится на тысячу двадцать четыре без остатка, то возвращается целая полученного после деления числа, умноженная на тысячу"
   ]
  },
  {
   "cell_type": "code",
   "execution_count": 37,
   "metadata": {},
   "outputs": [],
   "source": [
    "def used_int (mb_used):\n",
    "    if mb_used % 1024 != 0:\n",
    "        return ((mb_used // 1024) + 1) *1000\n",
    "    else:\n",
    "        return ((mb_used // 1024)) *1000"
   ]
  },
  {
   "cell_type": "markdown",
   "metadata": {},
   "source": [
    "Чтобы не преобразовывать исходный датасет скопируем его в новую переменную с которой будем работать. Далее содаём новый столбец 'duration_for_operator' который показывает сколько минут разговаривал пользователь для оператору. Оператору всё равно на десятые и сотые времени звонка, он округляет эти значения до целых в большую сторону. Далее группируем получившуюся таблицу по месяцу и по id пользователя, применяя к каждому из столбцов необходимую функцию."
   ]
  },
  {
   "cell_type": "markdown",
   "metadata": {},
   "source": [
    "## Шаг 3. Исследовательский анализ данных"
   ]
  },
  {
   "cell_type": "code",
   "execution_count": 38,
   "metadata": {},
   "outputs": [],
   "source": [
    "call = calls.copy()\n",
    "call['duration_for_operator'] = np.ceil(calls['duration']).astype(int)\n",
    "grouped_calls = call.groupby(['user_id','month']).agg({'id': 'count', 'duration_for_operator' : 'sum'})\n",
    "grouped_calls = grouped_calls.rename(columns = {'id':'calls'})"
   ]
  },
  {
   "cell_type": "markdown",
   "metadata": {},
   "source": [
    "Проделываем с таблицей internet тоже самое, округляя количество использованного трафика за месяц"
   ]
  },
  {
   "cell_type": "code",
   "execution_count": 39,
   "metadata": {},
   "outputs": [],
   "source": [
    "inter = internet.copy()\n",
    "grouped_internet = inter.groupby(['user_id','month'],).agg({'mb_used':'sum'})\n",
    "grouped_internet['mb_used_for_operator'] = grouped_internet['mb_used'].apply(used_int)"
   ]
  },
  {
   "cell_type": "markdown",
   "metadata": {},
   "source": [
    "И с таблицей message тоже самое подсчитывая количество сообщений в каждом месяце"
   ]
  },
  {
   "cell_type": "code",
   "execution_count": 40,
   "metadata": {},
   "outputs": [],
   "source": [
    "message = messages.copy()\n",
    "grouped_message = message.groupby(['user_id','month']).agg({'id':'count'})\n",
    "grouped_message = grouped_message.rename(columns = {'id': 'messages'})"
   ]
  },
  {
   "cell_type": "markdown",
   "metadata": {},
   "source": [
    "Объединяем все три сводные таблицы в одну"
   ]
  },
  {
   "cell_type": "code",
   "execution_count": 41,
   "metadata": {},
   "outputs": [],
   "source": [
    "dfs = [grouped_calls, grouped_internet, grouped_message]\n",
    "grouped_data = reduce(lambda left,right: pd.merge(left,right,on=['user_id', 'month'], how='outer'), dfs)"
   ]
  },
  {
   "cell_type": "markdown",
   "metadata": {},
   "source": [
    "Удаляем NaN-ы во всех столбцах, а также в необходимых столбцам заменяем значения на тип int "
   ]
  },
  {
   "cell_type": "code",
   "execution_count": 42,
   "metadata": {},
   "outputs": [],
   "source": [
    "grouped_data['duration_for_operator'] = grouped_data['duration_for_operator'].fillna(0).astype(int)\n",
    "grouped_data['messages'] = grouped_data['messages'].fillna(0).astype(int)\n",
    "grouped_data['mb_used'] = grouped_data['mb_used'].fillna(0).astype(int)\n",
    "grouped_data['mb_used_for_operator'] = grouped_data['mb_used_for_operator'].fillna(0).astype(int)\n",
    "grouped_data['calls'] = grouped_data['calls'].fillna(0).astype(int)"
   ]
  },
  {
   "cell_type": "markdown",
   "metadata": {},
   "source": [
    "Добавим наименование используемого тарифа для каждого пользователя"
   ]
  },
  {
   "cell_type": "code",
   "execution_count": 43,
   "metadata": {},
   "outputs": [],
   "source": [
    "for user in grouped_data.index:\n",
    "    grouped_data.loc[user, 'tariff'] = users.loc[user[0]-1000, 'tariff']"
   ]
  },
  {
   "cell_type": "markdown",
   "metadata": {},
   "source": [
    "Создадим функцию, которая подсчитает количество выручки для каждого пользователя в месяц"
   ]
  },
  {
   "cell_type": "code",
   "execution_count": 44,
   "metadata": {},
   "outputs": [],
   "source": [
    "def det_revenue(row):\n",
    "    # вытаскиваем из датасета нужные столбцы и присваиваем их переменным с соответсвующими названиями\n",
    "    messages = row['messages']\n",
    "    mb_used_for_operator = row['mb_used_for_operator']\n",
    "    tariff = row['tariff']\n",
    "    duration_for_operator = row['duration_for_operator']\n",
    "    calls = row['calls']\n",
    "    \n",
    "       # работа со столбцами если тариф у пользователя smart\n",
    "    if tariff == 'smart':\n",
    "        extra_duration = duration_for_operator - tariffs.loc[0, 'minutes_included'] # вычисляем сколько пользователь \n",
    "        # проговорил сверх выделенных минут в тарифе\n",
    "        extra_mb = mb_used_for_operator - tariffs.loc[0, 'mb_per_month_included'] # вычисляем сколько пользователь использовал\n",
    "        # трафика сверх выделенного в тарифе\n",
    "        extra_messages = messages - tariffs.loc[0, 'messages_included'] # вычисляем сколько сообщений пользователь отправил\n",
    "        # сверх выделенных тарифом\n",
    "        \n",
    "        return (np.where(extra_duration > 0 ,extra_duration * tariffs.loc[0, 'rub_per_minute'], 0) +\n",
    "                np.where(extra_mb > 0 ,extra_mb * (tariffs.loc[0, 'rub_per_gb'] /1024), 0) + \n",
    "                np.where(extra_messages > 0 ,extra_messages * tariffs.loc[0, 'rub_per_message'], 0) +\n",
    "                tariffs.loc[0, 'rub_monthly_fee'])\n",
    "    \n",
    "    else:\n",
    "        extra_duration = duration_for_operator - tariffs.loc[1, 'minutes_included'] # вычисляем сколько пользователь \n",
    "        # проговорил сверх выделенных минут в тарифе\n",
    "        extra_mb = mb_used_for_operator - tariffs.loc[1, 'mb_per_month_included'] # вычисляем сколько пользователь использовал\n",
    "        # трафика сверх выделенного в тарифе\n",
    "        extra_messages = messages - tariffs.loc[1, 'messages_included'] # вычисляем сколько сообщений пользователь отправил\n",
    "        # сверх выделенных тарифом\n",
    "        \n",
    "        return (np.where(extra_duration > 0 ,extra_duration * tariffs.loc[1, 'rub_per_minute'], 0) +\n",
    "                np.where(extra_mb > 0 ,extra_mb * (tariffs.loc[1, 'rub_per_gb'] /1024), 0) + \n",
    "                np.where(extra_messages > 0 ,extra_messages * tariffs.loc[1, 'rub_per_message'], 0) +\n",
    "                tariffs.loc[1, 'rub_monthly_fee'])      "
   ]
  },
  {
   "cell_type": "code",
   "execution_count": 45,
   "metadata": {
    "scrolled": true
   },
   "outputs": [
    {
     "data": {
      "text/html": [
       "<div>\n",
       "<style scoped>\n",
       "    .dataframe tbody tr th:only-of-type {\n",
       "        vertical-align: middle;\n",
       "    }\n",
       "\n",
       "    .dataframe tbody tr th {\n",
       "        vertical-align: top;\n",
       "    }\n",
       "\n",
       "    .dataframe thead th {\n",
       "        text-align: right;\n",
       "    }\n",
       "</style>\n",
       "<table border=\"1\" class=\"dataframe\">\n",
       "  <thead>\n",
       "    <tr style=\"text-align: right;\">\n",
       "      <th></th>\n",
       "      <th></th>\n",
       "      <th>calls</th>\n",
       "      <th>duration_for_operator</th>\n",
       "      <th>mb_used</th>\n",
       "      <th>mb_used_for_operator</th>\n",
       "      <th>messages</th>\n",
       "      <th>tariff</th>\n",
       "      <th>revenue</th>\n",
       "    </tr>\n",
       "    <tr>\n",
       "      <th>user_id</th>\n",
       "      <th>month</th>\n",
       "      <th></th>\n",
       "      <th></th>\n",
       "      <th></th>\n",
       "      <th></th>\n",
       "      <th></th>\n",
       "      <th></th>\n",
       "      <th></th>\n",
       "    </tr>\n",
       "  </thead>\n",
       "  <tbody>\n",
       "    <tr>\n",
       "      <th rowspan=\"5\" valign=\"top\">1000</th>\n",
       "      <th>5</th>\n",
       "      <td>22</td>\n",
       "      <td>159</td>\n",
       "      <td>2253</td>\n",
       "      <td>3000</td>\n",
       "      <td>22</td>\n",
       "      <td>ultra</td>\n",
       "      <td>1950.0</td>\n",
       "    </tr>\n",
       "    <tr>\n",
       "      <th>6</th>\n",
       "      <td>43</td>\n",
       "      <td>172</td>\n",
       "      <td>23233</td>\n",
       "      <td>23000</td>\n",
       "      <td>60</td>\n",
       "      <td>ultra</td>\n",
       "      <td>1950.0</td>\n",
       "    </tr>\n",
       "    <tr>\n",
       "      <th>7</th>\n",
       "      <td>47</td>\n",
       "      <td>340</td>\n",
       "      <td>14003</td>\n",
       "      <td>14000</td>\n",
       "      <td>75</td>\n",
       "      <td>ultra</td>\n",
       "      <td>1950.0</td>\n",
       "    </tr>\n",
       "    <tr>\n",
       "      <th>8</th>\n",
       "      <td>52</td>\n",
       "      <td>408</td>\n",
       "      <td>14055</td>\n",
       "      <td>14000</td>\n",
       "      <td>81</td>\n",
       "      <td>ultra</td>\n",
       "      <td>1950.0</td>\n",
       "    </tr>\n",
       "    <tr>\n",
       "      <th>9</th>\n",
       "      <td>58</td>\n",
       "      <td>466</td>\n",
       "      <td>14568</td>\n",
       "      <td>15000</td>\n",
       "      <td>57</td>\n",
       "      <td>ultra</td>\n",
       "      <td>1950.0</td>\n",
       "    </tr>\n",
       "  </tbody>\n",
       "</table>\n",
       "</div>"
      ],
      "text/plain": [
       "               calls  duration_for_operator  mb_used  mb_used_for_operator  \\\n",
       "user_id month                                                                \n",
       "1000    5         22                    159     2253                  3000   \n",
       "        6         43                    172    23233                 23000   \n",
       "        7         47                    340    14003                 14000   \n",
       "        8         52                    408    14055                 14000   \n",
       "        9         58                    466    14568                 15000   \n",
       "\n",
       "               messages tariff  revenue  \n",
       "user_id month                            \n",
       "1000    5            22  ultra   1950.0  \n",
       "        6            60  ultra   1950.0  \n",
       "        7            75  ultra   1950.0  \n",
       "        8            81  ultra   1950.0  \n",
       "        9            57  ultra   1950.0  "
      ]
     },
     "execution_count": 45,
     "metadata": {},
     "output_type": "execute_result"
    }
   ],
   "source": [
    "grouped_data['revenue'] = grouped_data.apply(det_revenue, axis=1) # применяем функцию ко всему датасету\n",
    "grouped_data.head()"
   ]
  },
  {
   "cell_type": "markdown",
   "metadata": {},
   "source": [
    "### Анализ тарифа \"Смарт\""
   ]
  },
  {
   "cell_type": "markdown",
   "metadata": {},
   "source": [
    "Достаём из получившейся таблицы пользователей использующих тариф smart"
   ]
  },
  {
   "cell_type": "code",
   "execution_count": 46,
   "metadata": {
    "scrolled": true
   },
   "outputs": [],
   "source": [
    "smart_grouped_data = grouped_data[grouped_data['tariff'] == 'smart']"
   ]
  },
  {
   "cell_type": "markdown",
   "metadata": {},
   "source": [
    "Для сгруппированной таблицы пользователей тарифа \"Смарт\" вычисляем медиану, дисперсию и стандартное отклонение для каждого столбца и группируем по месяцам"
   ]
  },
  {
   "cell_type": "code",
   "execution_count": 47,
   "metadata": {
    "scrolled": true
   },
   "outputs": [
    {
     "data": {
      "text/html": [
       "<div>\n",
       "<style scoped>\n",
       "    .dataframe tbody tr th:only-of-type {\n",
       "        vertical-align: middle;\n",
       "    }\n",
       "\n",
       "    .dataframe tbody tr th {\n",
       "        vertical-align: top;\n",
       "    }\n",
       "\n",
       "    .dataframe thead tr th {\n",
       "        text-align: left;\n",
       "    }\n",
       "\n",
       "    .dataframe thead tr:last-of-type th {\n",
       "        text-align: right;\n",
       "    }\n",
       "</style>\n",
       "<table border=\"1\" class=\"dataframe\">\n",
       "  <thead>\n",
       "    <tr>\n",
       "      <th></th>\n",
       "      <th colspan=\"3\" halign=\"left\">duration_for_operator</th>\n",
       "      <th colspan=\"3\" halign=\"left\">mb_used_for_operator</th>\n",
       "      <th colspan=\"3\" halign=\"left\">messages</th>\n",
       "    </tr>\n",
       "    <tr>\n",
       "      <th></th>\n",
       "      <th>median</th>\n",
       "      <th>std</th>\n",
       "      <th>var</th>\n",
       "      <th>median</th>\n",
       "      <th>std</th>\n",
       "      <th>var</th>\n",
       "      <th>median</th>\n",
       "      <th>std</th>\n",
       "      <th>var</th>\n",
       "    </tr>\n",
       "    <tr>\n",
       "      <th>month</th>\n",
       "      <th></th>\n",
       "      <th></th>\n",
       "      <th></th>\n",
       "      <th></th>\n",
       "      <th></th>\n",
       "      <th></th>\n",
       "      <th></th>\n",
       "      <th></th>\n",
       "      <th></th>\n",
       "    </tr>\n",
       "  </thead>\n",
       "  <tbody>\n",
       "    <tr>\n",
       "      <th>1</th>\n",
       "      <td>162.5</td>\n",
       "      <td>154.231454</td>\n",
       "      <td>23787.341355</td>\n",
       "      <td>7000.0</td>\n",
       "      <td>6277.949982</td>\n",
       "      <td>3.941266e+07</td>\n",
       "      <td>15.0</td>\n",
       "      <td>16.197753</td>\n",
       "      <td>262.367201</td>\n",
       "    </tr>\n",
       "    <tr>\n",
       "      <th>2</th>\n",
       "      <td>258.0</td>\n",
       "      <td>190.820041</td>\n",
       "      <td>36412.287961</td>\n",
       "      <td>13000.0</td>\n",
       "      <td>6095.156904</td>\n",
       "      <td>3.715094e+07</td>\n",
       "      <td>20.0</td>\n",
       "      <td>21.750809</td>\n",
       "      <td>473.097701</td>\n",
       "    </tr>\n",
       "    <tr>\n",
       "      <th>3</th>\n",
       "      <td>409.0</td>\n",
       "      <td>191.893604</td>\n",
       "      <td>36823.155161</td>\n",
       "      <td>16000.0</td>\n",
       "      <td>5705.251745</td>\n",
       "      <td>3.254990e+07</td>\n",
       "      <td>23.0</td>\n",
       "      <td>26.804710</td>\n",
       "      <td>718.492481</td>\n",
       "    </tr>\n",
       "    <tr>\n",
       "      <th>4</th>\n",
       "      <td>368.5</td>\n",
       "      <td>186.489161</td>\n",
       "      <td>34778.207127</td>\n",
       "      <td>14000.0</td>\n",
       "      <td>5594.600035</td>\n",
       "      <td>3.129955e+07</td>\n",
       "      <td>28.0</td>\n",
       "      <td>24.538532</td>\n",
       "      <td>602.139559</td>\n",
       "    </tr>\n",
       "    <tr>\n",
       "      <th>5</th>\n",
       "      <td>433.0</td>\n",
       "      <td>186.601343</td>\n",
       "      <td>34820.061094</td>\n",
       "      <td>16000.0</td>\n",
       "      <td>5862.594147</td>\n",
       "      <td>3.437001e+07</td>\n",
       "      <td>30.0</td>\n",
       "      <td>27.036845</td>\n",
       "      <td>730.990983</td>\n",
       "    </tr>\n",
       "  </tbody>\n",
       "</table>\n",
       "</div>"
      ],
      "text/plain": [
       "      duration_for_operator                           mb_used_for_operator  \\\n",
       "                     median         std           var               median   \n",
       "month                                                                        \n",
       "1                     162.5  154.231454  23787.341355               7000.0   \n",
       "2                     258.0  190.820041  36412.287961              13000.0   \n",
       "3                     409.0  191.893604  36823.155161              16000.0   \n",
       "4                     368.5  186.489161  34778.207127              14000.0   \n",
       "5                     433.0  186.601343  34820.061094              16000.0   \n",
       "\n",
       "                                 messages                         \n",
       "               std           var   median        std         var  \n",
       "month                                                             \n",
       "1      6277.949982  3.941266e+07     15.0  16.197753  262.367201  \n",
       "2      6095.156904  3.715094e+07     20.0  21.750809  473.097701  \n",
       "3      5705.251745  3.254990e+07     23.0  26.804710  718.492481  \n",
       "4      5594.600035  3.129955e+07     28.0  24.538532  602.139559  \n",
       "5      5862.594147  3.437001e+07     30.0  27.036845  730.990983  "
      ]
     },
     "execution_count": 47,
     "metadata": {},
     "output_type": "execute_result"
    }
   ],
   "source": [
    "smr_med_std_var = smart_grouped_data.pivot_table(index = 'month',\n",
    "                                             \n",
    "                                            values = ['duration_for_operator','messages','mb_used_for_operator'],\n",
    "                                             \n",
    "                                             aggfunc = {'duration_for_operator' : [np.median , np.var ,np.std],\n",
    "                                                        'messages'              : [np.median , np.var ,np.std],\n",
    "                                                        'mb_used_for_operator'  : [np.median , np.var ,np.std]}\n",
    "                                                )\n",
    "smr_med_std_var.head()"
   ]
  },
  {
   "cell_type": "markdown",
   "metadata": {},
   "source": [
    "Выводим графики зависимостей продолжительности разговора, использованного интернета и количества отправленных сообщений от номера месяца"
   ]
  },
  {
   "cell_type": "code",
   "execution_count": 48,
   "metadata": {
    "scrolled": true
   },
   "outputs": [
    {
     "data": {
      "text/plain": [
       "Text(0.5, 0.98, 'Тариф Смарт')"
      ]
     },
     "execution_count": 48,
     "metadata": {},
     "output_type": "execute_result"
    },
    {
     "data": {
      "image/png": "[encoded data removed]",
      "text/plain": [
       "<Figure size 1800x432 with 3 Axes>"
      ]
     },
     "metadata": {},
     "output_type": "display_data"
    }
   ],
   "source": [
    "f, axs = plt.subplots (1,3,figsize=(25,6))\n",
    "\n",
    "axs[0].plot(smr_med_std_var['duration_for_operator','median'])\n",
    "axs[0].set_title(\"Средняя продолжительность разговора в зависимости от месяца\")\n",
    "axs[0].set_xlabel(\"Номер месяца\")\n",
    "axs[0].set_ylabel(\"Средняя продолжительность разговора\")\n",
    "\n",
    "\n",
    "axs[1].plot(smr_med_std_var['mb_used_for_operator','median'])\n",
    "axs[1].set_title(\"Среднее количество использованного интернета\")\n",
    "axs[1].set_xlabel(\"Номер месяца\")\n",
    "axs[1].set_ylabel(\"Средняя количество интернета\")\n",
    "\n",
    "\n",
    "axs[2].plot(smr_med_std_var['messages','median'])\n",
    "axs[2].set_title(\"Среднее количество отправленных сообщений\")\n",
    "axs[2].set_xlabel(\"Номер месяца\")\n",
    "axs[2].set_ylabel(\"Среднее количество сообщений\")\n",
    "\n",
    "plt.suptitle('Тариф Смарт')"
   ]
  },
  {
   "cell_type": "markdown",
   "metadata": {},
   "source": [
    "Как мы видим, средняя продолжительность разговора в месяц резко растёт с января по март, а далее держится примерно на одном уровне так как среднее колеблется от 400 до 450 минут в месяц. Тоже самое происходит и с интернет трафиком и отправленными сообщениями, объём которых резко растёт с января до марта, а далее средний израсходованный интернет трафик держится между 16 и 18 гб в месяц, а количество сообщений между 28 и 30 сообщениями в месяц"
   ]
  },
  {
   "cell_type": "markdown",
   "metadata": {},
   "source": [
    "Теперь построим гистограммы распределения необходимых нам величин"
   ]
  },
  {
   "cell_type": "code",
   "execution_count": 49,
   "metadata": {
    "scrolled": false
   },
   "outputs": [
    {
     "data": {
      "text/plain": [
       "Text(0.5, 0.98, 'Тариф Смарт')"
      ]
     },
     "execution_count": 49,
     "metadata": {},
     "output_type": "execute_result"
    },
    {
     "data": {
      "image/png": "[encoded data removed]",
      "text/plain": [
       "<Figure size 1800x432 with 3 Axes>"
      ]
     },
     "metadata": {},
     "output_type": "display_data"
    }
   ],
   "source": [
    "f, axs = plt.subplots (1,3,figsize=(25,6))\n",
    "\n",
    "axs[0].hist(smart_grouped_data['duration_for_operator'])\n",
    "axs[0].set_title(\"Гистограмма распределения использованных минут\")\n",
    "axs[0].set_xlabel(\"Количество минут\")\n",
    "axs[0].set_ylabel(\"Частота\")\n",
    "\n",
    "\n",
    "axs[1].hist(smart_grouped_data['mb_used_for_operator'])\n",
    "axs[1].set_title(\"Гистограмма распределения количества использованного интернета\")\n",
    "axs[1].set_xlabel(\"Количество интернета\")\n",
    "axs[1].set_ylabel(\"Частота\")\n",
    "\n",
    "\n",
    "axs[2].hist(smart_grouped_data['messages'])\n",
    "axs[2].set_title(\"Гистограмма распределения количества отправленных сообщений\")\n",
    "axs[2].set_xlabel(\"Количество сообщений\")\n",
    "axs[2].set_ylabel(\"Частота\")\n",
    "\n",
    "plt.suptitle('Тариф Смарт')\n"
   ]
  },
  {
   "cell_type": "markdown",
   "metadata": {},
   "source": [
    "###### Гистограмма распределения использованных минут\n",
    "\n",
    "Это нормальное, скошенное вправо распределение. Как мы видим, чаще всего люди разговаривают от 400 до 600 минут в месяц и сильно реже разговаривают 100 - 200 минут и совсем редко 700 - 900 минут\n",
    "\n",
    "###### Гистограмма распределения использованного интернета\n",
    "Это тоже нормальное распределение, только уже не скошенное. Люди, использующие тариф Смарт, чаще всего используют или почти весь, или весь трафик интернета и немного доплачивают за дополнительные 5 гб. То есть от 10 до 20 гб\n",
    "\n",
    "###### Гистограмма распределения отправленных сообщений\n",
    "Это распределение Пуассона. Как мы видим, чаще всего люди люди в месяц присылают до 20 сообщений, далее количество встречающихся значений с увеличением числа сообщений снижается"
   ]
  },
  {
   "cell_type": "markdown",
   "metadata": {},
   "source": [
    "### Анализ тарифа  \"Ультра\""
   ]
  },
  {
   "cell_type": "markdown",
   "metadata": {},
   "source": [
    "Выделяем из сгруппированных данных пользователей тарифа \"Ультра"
   ]
  },
  {
   "cell_type": "code",
   "execution_count": 50,
   "metadata": {
    "scrolled": true
   },
   "outputs": [
    {
     "data": {
      "text/html": [
       "<div>\n",
       "<style scoped>\n",
       "    .dataframe tbody tr th:only-of-type {\n",
       "        vertical-align: middle;\n",
       "    }\n",
       "\n",
       "    .dataframe tbody tr th {\n",
       "        vertical-align: top;\n",
       "    }\n",
       "\n",
       "    .dataframe thead th {\n",
       "        text-align: right;\n",
       "    }\n",
       "</style>\n",
       "<table border=\"1\" class=\"dataframe\">\n",
       "  <thead>\n",
       "    <tr style=\"text-align: right;\">\n",
       "      <th></th>\n",
       "      <th></th>\n",
       "      <th>calls</th>\n",
       "      <th>duration_for_operator</th>\n",
       "      <th>mb_used</th>\n",
       "      <th>mb_used_for_operator</th>\n",
       "      <th>messages</th>\n",
       "      <th>tariff</th>\n",
       "      <th>revenue</th>\n",
       "    </tr>\n",
       "    <tr>\n",
       "      <th>user_id</th>\n",
       "      <th>month</th>\n",
       "      <th></th>\n",
       "      <th></th>\n",
       "      <th></th>\n",
       "      <th></th>\n",
       "      <th></th>\n",
       "      <th></th>\n",
       "      <th></th>\n",
       "    </tr>\n",
       "  </thead>\n",
       "  <tbody>\n",
       "    <tr>\n",
       "      <th rowspan=\"5\" valign=\"top\">1000</th>\n",
       "      <th>5</th>\n",
       "      <td>22</td>\n",
       "      <td>159</td>\n",
       "      <td>2253</td>\n",
       "      <td>3000</td>\n",
       "      <td>22</td>\n",
       "      <td>ultra</td>\n",
       "      <td>1950.0</td>\n",
       "    </tr>\n",
       "    <tr>\n",
       "      <th>6</th>\n",
       "      <td>43</td>\n",
       "      <td>172</td>\n",
       "      <td>23233</td>\n",
       "      <td>23000</td>\n",
       "      <td>60</td>\n",
       "      <td>ultra</td>\n",
       "      <td>1950.0</td>\n",
       "    </tr>\n",
       "    <tr>\n",
       "      <th>7</th>\n",
       "      <td>47</td>\n",
       "      <td>340</td>\n",
       "      <td>14003</td>\n",
       "      <td>14000</td>\n",
       "      <td>75</td>\n",
       "      <td>ultra</td>\n",
       "      <td>1950.0</td>\n",
       "    </tr>\n",
       "    <tr>\n",
       "      <th>8</th>\n",
       "      <td>52</td>\n",
       "      <td>408</td>\n",
       "      <td>14055</td>\n",
       "      <td>14000</td>\n",
       "      <td>81</td>\n",
       "      <td>ultra</td>\n",
       "      <td>1950.0</td>\n",
       "    </tr>\n",
       "    <tr>\n",
       "      <th>9</th>\n",
       "      <td>58</td>\n",
       "      <td>466</td>\n",
       "      <td>14568</td>\n",
       "      <td>15000</td>\n",
       "      <td>57</td>\n",
       "      <td>ultra</td>\n",
       "      <td>1950.0</td>\n",
       "    </tr>\n",
       "  </tbody>\n",
       "</table>\n",
       "</div>"
      ],
      "text/plain": [
       "               calls  duration_for_operator  mb_used  mb_used_for_operator  \\\n",
       "user_id month                                                                \n",
       "1000    5         22                    159     2253                  3000   \n",
       "        6         43                    172    23233                 23000   \n",
       "        7         47                    340    14003                 14000   \n",
       "        8         52                    408    14055                 14000   \n",
       "        9         58                    466    14568                 15000   \n",
       "\n",
       "               messages tariff  revenue  \n",
       "user_id month                            \n",
       "1000    5            22  ultra   1950.0  \n",
       "        6            60  ultra   1950.0  \n",
       "        7            75  ultra   1950.0  \n",
       "        8            81  ultra   1950.0  \n",
       "        9            57  ultra   1950.0  "
      ]
     },
     "execution_count": 50,
     "metadata": {},
     "output_type": "execute_result"
    }
   ],
   "source": [
    "ultra_grouped_data = grouped_data[grouped_data['tariff'] == 'ultra']\n",
    "ultra_grouped_data.head()"
   ]
  },
  {
   "cell_type": "markdown",
   "metadata": {},
   "source": [
    "Находим медиану,дисперсию и стандартное отклонение для каждой из величин в таблице пользователей тарифа \"Ультра\""
   ]
  },
  {
   "cell_type": "code",
   "execution_count": 51,
   "metadata": {
    "scrolled": true
   },
   "outputs": [
    {
     "data": {
      "text/html": [
       "<div>\n",
       "<style scoped>\n",
       "    .dataframe tbody tr th:only-of-type {\n",
       "        vertical-align: middle;\n",
       "    }\n",
       "\n",
       "    .dataframe tbody tr th {\n",
       "        vertical-align: top;\n",
       "    }\n",
       "\n",
       "    .dataframe thead tr th {\n",
       "        text-align: left;\n",
       "    }\n",
       "\n",
       "    .dataframe thead tr:last-of-type th {\n",
       "        text-align: right;\n",
       "    }\n",
       "</style>\n",
       "<table border=\"1\" class=\"dataframe\">\n",
       "  <thead>\n",
       "    <tr>\n",
       "      <th></th>\n",
       "      <th colspan=\"3\" halign=\"left\">duration_for_operator</th>\n",
       "      <th colspan=\"3\" halign=\"left\">mb_used_for_operator</th>\n",
       "      <th colspan=\"3\" halign=\"left\">messages</th>\n",
       "    </tr>\n",
       "    <tr>\n",
       "      <th></th>\n",
       "      <th>median</th>\n",
       "      <th>std</th>\n",
       "      <th>var</th>\n",
       "      <th>median</th>\n",
       "      <th>std</th>\n",
       "      <th>var</th>\n",
       "      <th>median</th>\n",
       "      <th>std</th>\n",
       "      <th>var</th>\n",
       "    </tr>\n",
       "    <tr>\n",
       "      <th>month</th>\n",
       "      <th></th>\n",
       "      <th></th>\n",
       "      <th></th>\n",
       "      <th></th>\n",
       "      <th></th>\n",
       "      <th></th>\n",
       "      <th></th>\n",
       "      <th></th>\n",
       "      <th></th>\n",
       "    </tr>\n",
       "  </thead>\n",
       "  <tbody>\n",
       "    <tr>\n",
       "      <th>1</th>\n",
       "      <td>382.0</td>\n",
       "      <td>269.757968</td>\n",
       "      <td>72769.361111</td>\n",
       "      <td>15000.0</td>\n",
       "      <td>6666.666667</td>\n",
       "      <td>4.444444e+07</td>\n",
       "      <td>32.0</td>\n",
       "      <td>30.670742</td>\n",
       "      <td>940.694444</td>\n",
       "    </tr>\n",
       "    <tr>\n",
       "      <th>2</th>\n",
       "      <td>168.0</td>\n",
       "      <td>296.512528</td>\n",
       "      <td>87919.679348</td>\n",
       "      <td>7500.0</td>\n",
       "      <td>10446.551334</td>\n",
       "      <td>1.091304e+08</td>\n",
       "      <td>5.5</td>\n",
       "      <td>26.773574</td>\n",
       "      <td>716.824275</td>\n",
       "    </tr>\n",
       "    <tr>\n",
       "      <th>3</th>\n",
       "      <td>403.0</td>\n",
       "      <td>333.743765</td>\n",
       "      <td>111384.900901</td>\n",
       "      <td>18000.0</td>\n",
       "      <td>10693.238300</td>\n",
       "      <td>1.143453e+08</td>\n",
       "      <td>20.0</td>\n",
       "      <td>41.621886</td>\n",
       "      <td>1732.381381</td>\n",
       "    </tr>\n",
       "    <tr>\n",
       "      <th>4</th>\n",
       "      <td>453.0</td>\n",
       "      <td>267.682405</td>\n",
       "      <td>71653.870034</td>\n",
       "      <td>17000.0</td>\n",
       "      <td>9457.436103</td>\n",
       "      <td>8.944310e+07</td>\n",
       "      <td>17.0</td>\n",
       "      <td>37.513831</td>\n",
       "      <td>1407.287542</td>\n",
       "    </tr>\n",
       "    <tr>\n",
       "      <th>5</th>\n",
       "      <td>519.0</td>\n",
       "      <td>289.603511</td>\n",
       "      <td>83870.193578</td>\n",
       "      <td>19000.0</td>\n",
       "      <td>9779.130253</td>\n",
       "      <td>9.563139e+07</td>\n",
       "      <td>25.0</td>\n",
       "      <td>40.306874</td>\n",
       "      <td>1624.644052</td>\n",
       "    </tr>\n",
       "  </tbody>\n",
       "</table>\n",
       "</div>"
      ],
      "text/plain": [
       "      duration_for_operator                            mb_used_for_operator  \\\n",
       "                     median         std            var               median   \n",
       "month                                                                         \n",
       "1                     382.0  269.757968   72769.361111              15000.0   \n",
       "2                     168.0  296.512528   87919.679348               7500.0   \n",
       "3                     403.0  333.743765  111384.900901              18000.0   \n",
       "4                     453.0  267.682405   71653.870034              17000.0   \n",
       "5                     519.0  289.603511   83870.193578              19000.0   \n",
       "\n",
       "                                  messages                          \n",
       "                std           var   median        std          var  \n",
       "month                                                               \n",
       "1       6666.666667  4.444444e+07     32.0  30.670742   940.694444  \n",
       "2      10446.551334  1.091304e+08      5.5  26.773574   716.824275  \n",
       "3      10693.238300  1.143453e+08     20.0  41.621886  1732.381381  \n",
       "4       9457.436103  8.944310e+07     17.0  37.513831  1407.287542  \n",
       "5       9779.130253  9.563139e+07     25.0  40.306874  1624.644052  "
      ]
     },
     "execution_count": 51,
     "metadata": {},
     "output_type": "execute_result"
    }
   ],
   "source": [
    "ult_med_std_var = ultra_grouped_data.pivot_table(index = 'month',\n",
    "                                             \n",
    "                                            values = ['duration_for_operator','messages','mb_used_for_operator'],\n",
    "                                             \n",
    "                                             aggfunc = { 'duration_for_operator' : [np.median , np.var ,np.std],\n",
    "                                                        'messages' : [np.median , np.var ,np.std],\n",
    "                                                        'mb_used_for_operator' : [np.median , np.var ,np.std]\n",
    "                                                 \n",
    "                                             })\n",
    "ult_med_std_var.head()"
   ]
  },
  {
   "cell_type": "markdown",
   "metadata": {},
   "source": [
    "Строим графики зависимости необходимых величин он номера месяца"
   ]
  },
  {
   "cell_type": "code",
   "execution_count": 52,
   "metadata": {
    "scrolled": true
   },
   "outputs": [
    {
     "data": {
      "text/plain": [
       "Text(0.5, 0.98, 'Тариф Ультра')"
      ]
     },
     "execution_count": 52,
     "metadata": {},
     "output_type": "execute_result"
    },
    {
     "data": {
      "image/png": "[encoded data removed]",
      "text/plain": [
       "<Figure size 1800x432 with 3 Axes>"
      ]
     },
     "metadata": {},
     "output_type": "display_data"
    }
   ],
   "source": [
    "f, axs = plt.subplots (1,3,figsize=(25,6))\n",
    "\n",
    "axs[0].plot(ult_med_std_var['duration_for_operator','median'])\n",
    "axs[0].set_title(\"Средняя продолжительность разговора в зависимости от месяца\")\n",
    "axs[0].set_xlabel(\"Номер месяца\")\n",
    "axs[0].set_ylabel(\"Средняя продолжительность разговора\")\n",
    "\n",
    "\n",
    "axs[1].plot(ult_med_std_var['mb_used_for_operator','median'])\n",
    "axs[1].set_title(\"Среднее количество использованного интернета\")\n",
    "axs[1].set_xlabel(\"Номер месяца\")\n",
    "axs[1].set_ylabel(\"Средняя количество интернета\")\n",
    "\n",
    "\n",
    "axs[2].plot(ult_med_std_var['messages','median'])\n",
    "axs[2].set_title(\"Среднее количество отправленных сообщений\")\n",
    "axs[2].set_xlabel(\"Номер месяца\")\n",
    "axs[2].set_ylabel(\"Среднее количество сообщений\")\n",
    "\n",
    "plt.suptitle('Тариф Ультра')"
   ]
  },
  {
   "cell_type": "markdown",
   "metadata": {},
   "source": [
    "Как видно, люди с самого начала года достаточно много пользуются интернетом,связью и сообщениями, далее количество резко снижается, почти до нуля во втором месяце, и далее снова рост, до средних чисел. Продолжительность звонков это от 500 до 600 минут, количествно использованного трафика от 18 до 20 гб, количество сообщений от 20 до 50"
   ]
  },
  {
   "cell_type": "markdown",
   "metadata": {},
   "source": [
    "Строим гистограммы"
   ]
  },
  {
   "cell_type": "code",
   "execution_count": 53,
   "metadata": {
    "scrolled": false
   },
   "outputs": [
    {
     "data": {
      "text/plain": [
       "Text(0.5, 0.98, 'Тариф Ультра')"
      ]
     },
     "execution_count": 53,
     "metadata": {},
     "output_type": "execute_result"
    },
    {
     "data": {
      "image/png": "[encoded data removed]",
      "text/plain": [
       "<Figure size 1800x432 with 3 Axes>"
      ]
     },
     "metadata": {},
     "output_type": "display_data"
    }
   ],
   "source": [
    "f, axs = plt.subplots (1,3,figsize=(25,6))\n",
    "\n",
    "axs[0].hist(ultra_grouped_data['duration_for_operator'])\n",
    "axs[0].set_title(\"Гистограмма распределения использованных минут\")\n",
    "axs[0].set_xlabel(\"Количество минут\")\n",
    "axs[0].set_ylabel(\"Частота\")\n",
    "\n",
    "\n",
    "axs[1].hist(ultra_grouped_data['mb_used_for_operator'])\n",
    "axs[1].set_title(\"Гистограмма распределения количества использованного интернета\")\n",
    "axs[1].set_xlabel(\"Количество интернета\")\n",
    "axs[1].set_ylabel(\"Частота\")\n",
    "\n",
    "\n",
    "axs[2].hist(ultra_grouped_data['messages'])\n",
    "axs[2].set_title(\"Гистограмма распределения количества отправленных сообщений\")\n",
    "axs[2].set_xlabel(\"Количество сообщений\")\n",
    "axs[2].set_ylabel(\"Частота\")\n",
    "\n",
    "plt.suptitle('Тариф Ультра')"
   ]
  },
  {
   "cell_type": "markdown",
   "metadata": {},
   "source": [
    "###### Гистограмма распределения использованных минут\n",
    "\n",
    "Это нормальное, скошенное вправо распределение. Как мы видим, чаще всего люди разговаривают от 500 до 700 минут в месяц, но также и достаточно часто разговаривают от 250 до 500 минут. Однако, больше 800 минут люди разговаривают достаточно редко\n",
    "\n",
    "###### Гистограмма распределения использованного интернета\n",
    "\n",
    "Это тоже нормальное распределение, только уже не скошенное. Люди, использующие тариф Ультра, чаще всего, расходуют от 15 до 30 гигабайт интернета в месяц. Больше 35 гигабайт люди используют уже достаточно редко.\n",
    "\n",
    "###### Гистограмма распределения отправленных сообщений\n",
    "\n",
    "Это распределение Пуассона. Как мы видим, чаще всего люди люди в месяц присылают до 25 сообщений, далее количество встречающихся значений с увеличением числа сообщений снижается"
   ]
  },
  {
   "cell_type": "markdown",
   "metadata": {},
   "source": [
    "Формируем гипотезы которые необходимо будет проверить. Обычно для формирования нулевой гипотезы применяется понятие \"одно равно другому\" или \"параметр равен числу\" и альтернативная гипотеза подразумевает отличие различия двух параметров или отличие исследуемого параметра от конкретного числа"
   ]
  },
  {
   "cell_type": "code",
   "execution_count": 98,
   "metadata": {
    "scrolled": true
   },
   "outputs": [
    {
     "data": {
      "text/plain": [
       "Text(0.5, 0.98, 'Тариф Смарт')"
      ]
     },
     "execution_count": 98,
     "metadata": {},
     "output_type": "execute_result"
    },
    {
     "data": {
      "image/png": "[encoded data removed]",
      "text/plain": [
       "<Figure size 1152x360 with 2 Axes>"
      ]
     },
     "metadata": {},
     "output_type": "display_data"
    }
   ],
   "source": [
    "# Создадим одну строку с двумя колонками\n",
    "fig, axes = plt.subplots(1, 2, figsize=(16, 5))\n",
    "\n",
    "sns.histplot(smart_grouped_data['duration_for_operator'],ax = axes[0], kde = True)\n",
    "axes[0].set_title(\"Гистограмма распределения использованных минут\")\n",
    "axes[0].set_xlabel(\"Количество минут\")\n",
    "axes[0].set_ylabel(\"Частота\")\n",
    "\n",
    "\n",
    "sns.boxplot(x = smart_grouped_data['duration_for_operator'],ax = axes[1])\n",
    "axes[1].set_title(\"Диаграмма размаха\")\n",
    "axes[1].set_xlabel(\"Количество минут\")\n",
    "\n",
    "plt.suptitle('Тариф Смарт')"
   ]
  },
  {
   "cell_type": "code",
   "execution_count": 99,
   "metadata": {},
   "outputs": [
    {
     "data": {
      "text/plain": [
       "Text(0.5, 0.98, 'Тариф Ультра')"
      ]
     },
     "execution_count": 99,
     "metadata": {},
     "output_type": "execute_result"
    },
    {
     "data": {
      "image/png": "[encoded data removed]",
      "text/plain": [
       "<Figure size 1152x360 with 2 Axes>"
      ]
     },
     "metadata": {},
     "output_type": "display_data"
    }
   ],
   "source": [
    "# Создадим одну строку с двумя колонками\n",
    "fig, axes = plt.subplots(1, 2, figsize=(16, 5))\n",
    "\n",
    "sns.histplot(ultra_grouped_data['duration_for_operator'],ax = axes[0], kde = True)\n",
    "axes[0].set_title(\"Гистограмма распределения использованных минут\")\n",
    "axes[0].set_xlabel(\"Количество минут\")\n",
    "axes[0].set_ylabel(\"Частота\")\n",
    "\n",
    "\n",
    "sns.boxplot(x = ultra_grouped_data['duration_for_operator'],ax = axes[1])\n",
    "axes[1].set_title(\"Диаграмма размаха\")\n",
    "axes[1].set_xlabel(\"Количество минут\")\n",
    "\n",
    "plt.suptitle('Тариф Ультра')"
   ]
  },
  {
   "cell_type": "markdown",
   "metadata": {},
   "source": [
    "##  Шаг 4. Проверка гипотез"
   ]
  },
  {
   "cell_type": "markdown",
   "metadata": {},
   "source": [
    "H0 = Средняя выручка пользователей тарифа \"Ультра\" и  тарифа \"Смарт\" одинаковая \n",
    "\n",
    "H1 = Средняя выручка различается"
   ]
  },
  {
   "cell_type": "markdown",
   "metadata": {},
   "source": [
    "Посмотрим на среднюю выручку пользователей Тарифа \"Ультра\" и \"Смарт\""
   ]
  },
  {
   "cell_type": "code",
   "execution_count": 26,
   "metadata": {},
   "outputs": [
    {
     "data": {
      "text/plain": [
       "1950.0"
      ]
     },
     "execution_count": 26,
     "metadata": {},
     "output_type": "execute_result"
    }
   ],
   "source": [
    "ultra_grouped_data['revenue'].sort_values().median()"
   ]
  },
  {
   "cell_type": "code",
   "execution_count": 27,
   "metadata": {
    "scrolled": false
   },
   "outputs": [
    {
     "data": {
      "text/plain": [
       "973.0"
      ]
     },
     "execution_count": 27,
     "metadata": {},
     "output_type": "execute_result"
    }
   ],
   "source": [
    "smart_grouped_data['revenue'].sort_values().median()"
   ]
  },
  {
   "cell_type": "markdown",
   "metadata": {},
   "source": [
    "Далее с помощью теста Левена можно проверить гипотезу о равенстве дисперсий в двух генеральных совокупностях. "
   ]
  },
  {
   "cell_type": "code",
   "execution_count": 95,
   "metadata": {},
   "outputs": [
    {
     "name": "stdout",
     "output_type": "stream",
     "text": [
      "p-value: 2.289568715604391e-122\n",
      "Отвергаем нулевую гипотезу\n"
     ]
    }
   ],
   "source": [
    "alpha = .05\n",
    "\n",
    "dispersion = st.levene(\n",
    "    ultra_grouped_data['revenue'], \n",
    "    smart_grouped_data['revenue'],)\n",
    "\n",
    "\n",
    "print('p-value:', dispersion.pvalue)\n",
    "\n",
    "if (dispersion.pvalue < alpha):\n",
    "    print(\"Отвергаем нулевую гипотезу\")\n",
    "else:\n",
    "    print(\"Не получилось отвергнуть нулевую гипотезу\")\n"
   ]
  },
  {
   "cell_type": "markdown",
   "metadata": {},
   "source": [
    "И как мы видим, вероятно, различия в дисперсиях не случайны и они действительно не равны"
   ]
  },
  {
   "cell_type": "markdown",
   "metadata": {},
   "source": [
    "Далее для проверки гипотезы о равенстве двух средних в  выборках используем t-тест. Используем функцию \"st.ttest_ind\" так как мы  точно не знаем равны ли дисперсии у данных выборок и  мы точно знаем, что выборки не равны по объёму, поэтому используем параметр \"equal_var = False\". Далее задаём параметр alpha = 0.05. Пятипроцентная точность нас в данном случае устроит. И проверяем"
   ]
  },
  {
   "cell_type": "code",
   "execution_count": 28,
   "metadata": {},
   "outputs": [
    {
     "name": "stdout",
     "output_type": "stream",
     "text": [
      "p-value: 2.6817309596056453e-301\n",
      "Отвергаем нулевую гипотезу\n"
     ]
    }
   ],
   "source": [
    "alpha = .05\n",
    "\n",
    "\n",
    "results = st.ttest_ind(\n",
    "    ultra_grouped_data['revenue'], \n",
    "    smart_grouped_data['revenue'],\n",
    "    equal_var = False)\n",
    "\n",
    "print('p-value:', results.pvalue)\n",
    "\n",
    "if (results.pvalue < alpha):\n",
    "    print(\"Отвергаем нулевую гипотезу\")\n",
    "else:\n",
    "    print(\"Не получилось отвергнуть нулевую гипотезу\")\n"
   ]
  },
  {
   "cell_type": "markdown",
   "metadata": {},
   "source": [
    "Так как получается, что p-value меньше 0.05, мы отвергаем нулевую гипотезу. Это значит, что вероятность получить такие или ещё более значимые различия между средними выручек в тарифах \"Ультра\" и \"Смарт\" при условии что H0 верна, менее 5 процентов. Значит, гипотезу а равенстве этих средних, и о том что такие различия мы получили случайно, можно отвергнуть. Эти различия точно не случайны и гипотеза H0 должна быть отвергнута."
   ]
  },
  {
   "cell_type": "markdown",
   "metadata": {},
   "source": [
    "Далее проверим гипотезу о том, что средяня выручка пользователей из Москвы не отличается от выручки пользователей других регионов"
   ]
  },
  {
   "cell_type": "markdown",
   "metadata": {},
   "source": [
    "H0 - Средняя выручка пользователей из Москвы не отличается от пользователей других регионов\n",
    "\n",
    "H1 - Средняя выручка отличается от пользователей других регионов"
   ]
  },
  {
   "cell_type": "markdown",
   "metadata": {
    "scrolled": true
   },
   "source": [
    "Добавим столбец \"city\" к grouped_data"
   ]
  },
  {
   "cell_type": "code",
   "execution_count": 29,
   "metadata": {},
   "outputs": [],
   "source": [
    "for user in grouped_data.index:\n",
    "    grouped_data.loc[user, 'city'] = users.loc[user[0]-1000, 'city']"
   ]
  },
  {
   "cell_type": "markdown",
   "metadata": {},
   "source": [
    "Здесь мы так же для проверки гипотезы о равенстве двух средних в выборках используем t-тест. И так же используем функцию \"st.ttest_ind\" так как мы точно не знаем равны ли дисперсии у данных выборок и мы точно знаем, что выборки не равны по объёму, поэтому используем параметр \"equal_var = False\". Далее задаём параметр alpha = 0.05. Пятипроцентная точность нас в данном случае устроит. Проверяем."
   ]
  },
  {
   "cell_type": "code",
   "execution_count": 30,
   "metadata": {},
   "outputs": [
    {
     "name": "stdout",
     "output_type": "stream",
     "text": [
      "p-value: 0.4515239530362265\n",
      "Не получилось отвергнуть нулевую гипотезу\n"
     ]
    }
   ],
   "source": [
    "alpha = .05\n",
    "\n",
    "results = st.ttest_ind(\n",
    "    grouped_data.query('city == \"москва\"')['revenue'],\n",
    "    grouped_data.query('city != \"москва\"')['revenue'],\n",
    "    equal_var = False)\n",
    "\n",
    "print('p-value:', results.pvalue)\n",
    "\n",
    "if (results.pvalue < alpha):\n",
    "    print(\"Отвергаем нулевую гипотезу\")\n",
    "else:\n",
    "    print(\"Не получилось отвергнуть нулевую гипотезу\")"
   ]
  },
  {
   "cell_type": "markdown",
   "metadata": {},
   "source": [
    "А вот тут отвергнуть нулевую гипотезу не получилось так как p-value сильно больше 0,05, а это значит, что вероятность получить такие или ещё более значимые различия между выручкой московских пользователей и пользователей остальных регионов, при условии что нулевая гипотеза верна, 45 процентов. Значит,любая разница, полученная между средними выручек этих выборок может считаться случайностью и на самом деле они, вероятнее всего, равны."
   ]
  },
  {
   "cell_type": "markdown",
   "metadata": {},
   "source": [
    "## Шаг 5. Общий вывод "
   ]
  },
  {
   "cell_type": "markdown",
   "metadata": {},
   "source": [
    "В тарифе \"Смарт люди предусмотрено 500 минут разговора, 50 сообщений и 15 гб интернета. Люди же в среднем используют около 400-450 минут, около 20 сообщений и 16-17 гб интернета. То есть люди используют практически всё (кроме сообщений) что им выделяется в тарифе, а бывает даже доплачивают за дополнительные гигабайты или минуты и всё равно средняя выручка меньше, чем у тарифа \"Ультра\""
   ]
  },
  {
   "cell_type": "markdown",
   "metadata": {},
   "source": [
    "В тарифе \"Ультра\" же люди используют около 550-600 минут, когда им выделено 3000! Так же в тариф \"Ультра\" выходит 30 гб трафика, а люди используют от 15 до 25, то есть ещё остаётся, в среднем, около 5 гб. Про сообщения и говорить не стоит, люди практически не пишут сообщения, хотя они входят в стоимость тарифа. То есть компании \"Мегалайн\" выгодно, чтобы люди платили за тариф \"Ультра\" так как, они не расходуют все ресурсы, что им выданы, а платят за всё. Разница в расходуемых минутах, гигабайтах и количестве сообщений не существенная, а вот разница в цене очень даже."
   ]
  },
  {
   "cell_type": "markdown",
   "metadata": {},
   "source": [
    "Будучи сотрудником компании \"Мегалайн\" я заинтересован в том, чтобы создать для своей компании лучшие условия и заработать как можно больше прибыли,поэтому, просмотрев все данные, построив распределения и проверив гипотезы, можно сказать, что тариф \"Ультра\" лучше для компании \"Мегалайн\" так как она зарабатывает с него больше денег."
   ]
  }
 ],
 "metadata": {
  "ExecuteTimeLog": [
   {
    "duration": 1412,
    "start_time": "2022-05-08T12:11:21.855Z"
   },
   {
    "duration": 107,
    "start_time": "2022-05-08T12:12:35.020Z"
   },
   {
    "duration": 10,
    "start_time": "2022-05-08T12:12:42.603Z"
   },
   {
    "duration": 519,
    "start_time": "2022-05-08T12:17:57.566Z"
   },
   {
    "duration": 10,
    "start_time": "2022-05-08T12:17:59.687Z"
   },
   {
    "duration": 6,
    "start_time": "2022-05-08T12:19:28.079Z"
   },
   {
    "duration": 55,
    "start_time": "2022-05-08T12:19:35.020Z"
   },
   {
    "duration": 222,
    "start_time": "2022-05-08T12:19:40.518Z"
   },
   {
    "duration": 3,
    "start_time": "2022-05-08T12:19:48.331Z"
   },
   {
    "duration": 3,
    "start_time": "2022-05-08T12:19:53.447Z"
   },
   {
    "duration": 115,
    "start_time": "2022-05-08T12:19:59.068Z"
   },
   {
    "duration": 3,
    "start_time": "2022-05-08T12:20:15.061Z"
   },
   {
    "duration": 32,
    "start_time": "2022-05-08T12:20:34.084Z"
   },
   {
    "duration": 32,
    "start_time": "2022-05-08T12:20:42.265Z"
   },
   {
    "duration": 19,
    "start_time": "2022-05-08T12:20:49.339Z"
   },
   {
    "duration": 8,
    "start_time": "2022-05-08T12:20:54.545Z"
   },
   {
    "duration": 1476,
    "start_time": "2022-05-08T12:21:00.338Z"
   },
   {
    "duration": 379,
    "start_time": "2022-05-08T12:21:07.350Z"
   },
   {
    "duration": 20,
    "start_time": "2022-05-08T12:21:15.055Z"
   },
   {
    "duration": 48,
    "start_time": "2022-05-08T12:21:22.236Z"
   },
   {
    "duration": 386,
    "start_time": "2022-05-08T12:21:29.327Z"
   },
   {
    "duration": 1177,
    "start_time": "2022-05-08T12:24:47.260Z"
   },
   {
    "duration": 435,
    "start_time": "2022-05-08T12:24:48.439Z"
   },
   {
    "duration": 10,
    "start_time": "2022-05-08T12:24:48.875Z"
   },
   {
    "duration": 8,
    "start_time": "2022-05-08T12:24:48.886Z"
   },
   {
    "duration": 56,
    "start_time": "2022-05-08T12:24:48.897Z"
   },
   {
    "duration": 236,
    "start_time": "2022-05-08T12:24:48.955Z"
   },
   {
    "duration": 3,
    "start_time": "2022-05-08T12:24:49.192Z"
   },
   {
    "duration": 6,
    "start_time": "2022-05-08T12:24:49.197Z"
   },
   {
    "duration": 130,
    "start_time": "2022-05-08T12:24:49.205Z"
   },
   {
    "duration": 28,
    "start_time": "2022-05-08T12:24:49.337Z"
   },
   {
    "duration": 22,
    "start_time": "2022-05-08T12:24:49.366Z"
   },
   {
    "duration": 14,
    "start_time": "2022-05-08T12:24:49.390Z"
   },
   {
    "duration": 6,
    "start_time": "2022-05-08T12:24:49.405Z"
   },
   {
    "duration": 1020,
    "start_time": "2022-05-08T12:24:49.413Z"
   },
   {
    "duration": 263,
    "start_time": "2022-05-08T12:24:50.435Z"
   },
   {
    "duration": 19,
    "start_time": "2022-05-08T12:24:50.700Z"
   },
   {
    "duration": 61,
    "start_time": "2022-05-08T12:24:50.721Z"
   },
   {
    "duration": 400,
    "start_time": "2022-05-08T12:24:50.783Z"
   },
   {
    "duration": 6,
    "start_time": "2022-05-08T12:27:00.260Z"
   },
   {
    "duration": 155,
    "start_time": "2022-05-08T12:27:05.494Z"
   },
   {
    "duration": 185,
    "start_time": "2022-05-08T12:27:18.171Z"
   },
   {
    "duration": 1150,
    "start_time": "2022-05-08T12:27:22.796Z"
   },
   {
    "duration": 174,
    "start_time": "2022-05-08T12:27:28.258Z"
   },
   {
    "duration": 181,
    "start_time": "2022-05-08T12:27:32.095Z"
   },
   {
    "duration": 144,
    "start_time": "2022-05-08T12:27:36.088Z"
   },
   {
    "duration": 161,
    "start_time": "2022-05-08T12:27:39.450Z"
   },
   {
    "duration": 133,
    "start_time": "2022-05-08T12:27:44.113Z"
   },
   {
    "duration": 487,
    "start_time": "2022-05-08T12:28:18.428Z"
   },
   {
    "duration": 259,
    "start_time": "2022-05-08T12:28:30.397Z"
   },
   {
    "duration": 157,
    "start_time": "2022-05-08T12:28:33.502Z"
   },
   {
    "duration": 407,
    "start_time": "2022-05-08T12:42:05.402Z"
   },
   {
    "duration": 427,
    "start_time": "2022-05-08T12:42:21.044Z"
   },
   {
    "duration": 390,
    "start_time": "2022-05-08T12:42:24.518Z"
   },
   {
    "duration": 404,
    "start_time": "2022-05-08T12:42:26.729Z"
   },
   {
    "duration": 546,
    "start_time": "2022-05-08T12:44:12.936Z"
   },
   {
    "duration": 420,
    "start_time": "2022-05-08T12:44:47.640Z"
   },
   {
    "duration": 782,
    "start_time": "2022-05-08T12:49:19.906Z"
   },
   {
    "duration": 440,
    "start_time": "2022-05-08T12:49:28.726Z"
   },
   {
    "duration": 435,
    "start_time": "2022-05-08T12:49:49.983Z"
   },
   {
    "duration": 444,
    "start_time": "2022-05-08T12:49:55.199Z"
   },
   {
    "duration": 349,
    "start_time": "2022-05-08T12:55:53.248Z"
   },
   {
    "duration": 515,
    "start_time": "2022-05-08T12:56:21.504Z"
   },
   {
    "duration": 498,
    "start_time": "2022-05-08T12:56:28.140Z"
   },
   {
    "duration": 659,
    "start_time": "2022-05-08T12:58:13.780Z"
   },
   {
    "duration": 19,
    "start_time": "2022-05-08T13:04:47.677Z"
   },
   {
    "duration": 19,
    "start_time": "2022-05-08T13:05:33.316Z"
   },
   {
    "duration": 38,
    "start_time": "2022-05-08T13:05:33.600Z"
   },
   {
    "duration": 444,
    "start_time": "2022-05-08T13:05:34.091Z"
   },
   {
    "duration": 482,
    "start_time": "2022-05-08T13:05:34.899Z"
   },
   {
    "duration": 38,
    "start_time": "2022-05-08T13:05:43.934Z"
   },
   {
    "duration": 443,
    "start_time": "2022-05-08T13:06:18.748Z"
   },
   {
    "duration": 679,
    "start_time": "2022-05-08T13:12:30.151Z"
   },
   {
    "duration": 18,
    "start_time": "2022-05-08T13:56:17.795Z"
   },
   {
    "duration": 6,
    "start_time": "2022-05-08T13:56:33.774Z"
   },
   {
    "duration": 5,
    "start_time": "2022-05-08T13:56:44.374Z"
   },
   {
    "duration": 19,
    "start_time": "2022-05-08T14:00:29.243Z"
   },
   {
    "duration": 18,
    "start_time": "2022-05-08T14:00:32.868Z"
   },
   {
    "duration": 145,
    "start_time": "2022-05-08T14:01:44.697Z"
   },
   {
    "duration": 142,
    "start_time": "2022-05-08T14:02:30.008Z"
   },
   {
    "duration": 10,
    "start_time": "2022-05-08T14:03:08.286Z"
   },
   {
    "duration": 5,
    "start_time": "2022-05-08T14:03:14.014Z"
   },
   {
    "duration": 5,
    "start_time": "2022-05-08T14:03:48.386Z"
   },
   {
    "duration": 5,
    "start_time": "2022-05-08T14:03:52.305Z"
   },
   {
    "duration": 9,
    "start_time": "2022-05-08T14:04:36.129Z"
   },
   {
    "duration": 109,
    "start_time": "2022-05-08T14:04:42.536Z"
   },
   {
    "duration": 10,
    "start_time": "2022-05-08T14:04:45.912Z"
   },
   {
    "duration": 10,
    "start_time": "2022-05-08T14:04:58.310Z"
   },
   {
    "duration": 6,
    "start_time": "2022-05-08T14:05:05.767Z"
   },
   {
    "duration": 9,
    "start_time": "2022-05-08T14:06:13.018Z"
   },
   {
    "duration": 8,
    "start_time": "2022-05-08T14:06:31.501Z"
   },
   {
    "duration": 11,
    "start_time": "2022-05-08T14:06:35.461Z"
   },
   {
    "duration": 9,
    "start_time": "2022-05-08T14:07:13.026Z"
   },
   {
    "duration": 4,
    "start_time": "2022-05-08T14:07:17.049Z"
   },
   {
    "duration": 5,
    "start_time": "2022-05-08T14:07:19.045Z"
   },
   {
    "duration": 1271,
    "start_time": "2022-05-08T14:13:23.411Z"
   },
   {
    "duration": 470,
    "start_time": "2022-05-08T14:13:24.685Z"
   },
   {
    "duration": 11,
    "start_time": "2022-05-08T14:13:25.157Z"
   },
   {
    "duration": 7,
    "start_time": "2022-05-08T14:13:25.171Z"
   },
   {
    "duration": 56,
    "start_time": "2022-05-08T14:13:25.180Z"
   },
   {
    "duration": 264,
    "start_time": "2022-05-08T14:13:25.238Z"
   },
   {
    "duration": 3,
    "start_time": "2022-05-08T14:13:25.505Z"
   },
   {
    "duration": 15,
    "start_time": "2022-05-08T14:13:25.510Z"
   },
   {
    "duration": 145,
    "start_time": "2022-05-08T14:13:25.527Z"
   },
   {
    "duration": 26,
    "start_time": "2022-05-08T14:13:25.675Z"
   },
   {
    "duration": 24,
    "start_time": "2022-05-08T14:13:25.703Z"
   },
   {
    "duration": 34,
    "start_time": "2022-05-08T14:13:25.729Z"
   },
   {
    "duration": 6,
    "start_time": "2022-05-08T14:13:25.765Z"
   },
   {
    "duration": 1002,
    "start_time": "2022-05-08T14:13:25.773Z"
   },
   {
    "duration": 229,
    "start_time": "2022-05-08T14:13:26.777Z"
   },
   {
    "duration": 19,
    "start_time": "2022-05-08T14:13:27.008Z"
   },
   {
    "duration": 56,
    "start_time": "2022-05-08T14:13:27.029Z"
   },
   {
    "duration": 456,
    "start_time": "2022-05-08T14:13:27.087Z"
   },
   {
    "duration": 510,
    "start_time": "2022-05-08T14:13:27.545Z"
   },
   {
    "duration": 26,
    "start_time": "2022-05-08T14:13:28.057Z"
   },
   {
    "duration": 34,
    "start_time": "2022-05-08T14:13:28.085Z"
   },
   {
    "duration": 483,
    "start_time": "2022-05-08T14:13:28.121Z"
   },
   {
    "duration": 485,
    "start_time": "2022-05-08T14:13:28.606Z"
   },
   {
    "duration": 19,
    "start_time": "2022-05-08T14:13:29.094Z"
   },
   {
    "duration": 19,
    "start_time": "2022-05-08T14:13:29.114Z"
   },
   {
    "duration": 19,
    "start_time": "2022-05-08T14:13:29.136Z"
   },
   {
    "duration": 106,
    "start_time": "2022-05-08T14:13:29.157Z"
   },
   {
    "duration": 0,
    "start_time": "2022-05-08T14:13:29.265Z"
   },
   {
    "duration": 9,
    "start_time": "2022-05-08T14:18:47.538Z"
   },
   {
    "duration": 5,
    "start_time": "2022-05-08T14:19:36.644Z"
   },
   {
    "duration": 428,
    "start_time": "2022-05-08T14:19:37.154Z"
   },
   {
    "duration": 9,
    "start_time": "2022-05-08T14:19:37.584Z"
   },
   {
    "duration": 8,
    "start_time": "2022-05-08T14:19:37.595Z"
   },
   {
    "duration": 60,
    "start_time": "2022-05-08T14:19:37.605Z"
   },
   {
    "duration": 290,
    "start_time": "2022-05-08T14:19:37.667Z"
   },
   {
    "duration": 3,
    "start_time": "2022-05-08T14:19:37.959Z"
   },
   {
    "duration": 17,
    "start_time": "2022-05-08T14:19:37.964Z"
   },
   {
    "duration": 107,
    "start_time": "2022-05-08T14:19:37.982Z"
   },
   {
    "duration": 22,
    "start_time": "2022-05-08T14:19:38.091Z"
   },
   {
    "duration": 38,
    "start_time": "2022-05-08T14:19:38.116Z"
   },
   {
    "duration": 16,
    "start_time": "2022-05-08T14:19:38.156Z"
   },
   {
    "duration": 23,
    "start_time": "2022-05-08T14:19:38.174Z"
   },
   {
    "duration": 1047,
    "start_time": "2022-05-08T14:19:38.199Z"
   },
   {
    "duration": 236,
    "start_time": "2022-05-08T14:19:39.249Z"
   },
   {
    "duration": 18,
    "start_time": "2022-05-08T14:19:39.487Z"
   },
   {
    "duration": 33,
    "start_time": "2022-05-08T14:19:39.508Z"
   },
   {
    "duration": 57,
    "start_time": "2022-05-08T14:19:39.543Z"
   },
   {
    "duration": 452,
    "start_time": "2022-05-08T14:19:39.602Z"
   },
   {
    "duration": 500,
    "start_time": "2022-05-08T14:19:40.057Z"
   },
   {
    "duration": 21,
    "start_time": "2022-05-08T14:19:40.559Z"
   },
   {
    "duration": 53,
    "start_time": "2022-05-08T14:19:40.582Z"
   },
   {
    "duration": 444,
    "start_time": "2022-05-08T14:19:40.637Z"
   },
   {
    "duration": 479,
    "start_time": "2022-05-08T14:19:41.083Z"
   },
   {
    "duration": 18,
    "start_time": "2022-05-08T14:19:41.565Z"
   },
   {
    "duration": 32,
    "start_time": "2022-05-08T14:19:41.585Z"
   },
   {
    "duration": 20,
    "start_time": "2022-05-08T14:19:41.619Z"
   },
   {
    "duration": 13,
    "start_time": "2022-05-08T14:20:38.792Z"
   },
   {
    "duration": 6,
    "start_time": "2022-05-08T14:21:05.386Z"
   },
   {
    "duration": 144,
    "start_time": "2022-05-08T14:21:15.582Z"
   },
   {
    "duration": 10,
    "start_time": "2022-05-08T14:21:28.739Z"
   },
   {
    "duration": 21,
    "start_time": "2022-05-08T14:22:29.514Z"
   },
   {
    "duration": 4,
    "start_time": "2022-05-08T14:22:38.721Z"
   },
   {
    "duration": 461,
    "start_time": "2022-05-08T14:22:38.858Z"
   },
   {
    "duration": 8,
    "start_time": "2022-05-08T14:22:39.321Z"
   },
   {
    "duration": 8,
    "start_time": "2022-05-08T14:22:39.331Z"
   },
   {
    "duration": 53,
    "start_time": "2022-05-08T14:22:39.342Z"
   },
   {
    "duration": 224,
    "start_time": "2022-05-08T14:22:39.828Z"
   },
   {
    "duration": 4,
    "start_time": "2022-05-08T14:22:42.828Z"
   },
   {
    "duration": 10,
    "start_time": "2022-05-08T14:22:42.833Z"
   },
   {
    "duration": 103,
    "start_time": "2022-05-08T14:22:42.844Z"
   },
   {
    "duration": 19,
    "start_time": "2022-05-08T14:22:42.949Z"
   },
   {
    "duration": 21,
    "start_time": "2022-05-08T14:22:43.094Z"
   },
   {
    "duration": 15,
    "start_time": "2022-05-08T14:22:43.283Z"
   },
   {
    "duration": 7,
    "start_time": "2022-05-08T14:22:43.591Z"
   },
   {
    "duration": 1217,
    "start_time": "2022-05-08T14:22:45.243Z"
   },
   {
    "duration": 18,
    "start_time": "2022-05-08T14:22:46.462Z"
   },
   {
    "duration": 9,
    "start_time": "2022-05-08T14:24:04.310Z"
   },
   {
    "duration": 8,
    "start_time": "2022-05-08T14:24:09.419Z"
   },
   {
    "duration": 5,
    "start_time": "2022-05-08T14:26:09.009Z"
   },
   {
    "duration": 456,
    "start_time": "2022-05-08T14:26:09.515Z"
   },
   {
    "duration": 10,
    "start_time": "2022-05-08T14:26:09.974Z"
   },
   {
    "duration": 12,
    "start_time": "2022-05-08T14:26:09.986Z"
   },
   {
    "duration": 64,
    "start_time": "2022-05-08T14:26:10.000Z"
   },
   {
    "duration": 226,
    "start_time": "2022-05-08T14:26:10.066Z"
   },
   {
    "duration": 3,
    "start_time": "2022-05-08T14:26:10.293Z"
   },
   {
    "duration": 5,
    "start_time": "2022-05-08T14:26:10.298Z"
   },
   {
    "duration": 125,
    "start_time": "2022-05-08T14:26:10.304Z"
   },
   {
    "duration": 34,
    "start_time": "2022-05-08T14:26:10.431Z"
   },
   {
    "duration": 21,
    "start_time": "2022-05-08T14:26:10.468Z"
   },
   {
    "duration": 17,
    "start_time": "2022-05-08T14:26:10.490Z"
   },
   {
    "duration": 8,
    "start_time": "2022-05-08T14:26:10.509Z"
   },
   {
    "duration": 1043,
    "start_time": "2022-05-08T14:26:10.519Z"
   },
   {
    "duration": 18,
    "start_time": "2022-05-08T14:26:11.564Z"
   },
   {
    "duration": 250,
    "start_time": "2022-05-08T14:26:11.583Z"
   },
   {
    "duration": 7,
    "start_time": "2022-05-08T14:26:11.835Z"
   },
   {
    "duration": 5,
    "start_time": "2022-05-08T14:26:11.855Z"
   },
   {
    "duration": 13,
    "start_time": "2022-05-08T14:26:11.862Z"
   },
   {
    "duration": 43,
    "start_time": "2022-05-08T14:26:11.877Z"
   },
   {
    "duration": 557,
    "start_time": "2022-05-08T14:26:11.922Z"
   },
   {
    "duration": 506,
    "start_time": "2022-05-08T14:26:12.480Z"
   },
   {
    "duration": 20,
    "start_time": "2022-05-08T14:26:12.988Z"
   },
   {
    "duration": 52,
    "start_time": "2022-05-08T14:26:13.010Z"
   },
   {
    "duration": 440,
    "start_time": "2022-05-08T14:26:13.064Z"
   },
   {
    "duration": 478,
    "start_time": "2022-05-08T14:26:13.506Z"
   },
   {
    "duration": 19,
    "start_time": "2022-05-08T14:26:13.986Z"
   },
   {
    "duration": 7,
    "start_time": "2022-05-08T14:26:14.008Z"
   },
   {
    "duration": 6,
    "start_time": "2022-05-08T14:26:14.019Z"
   },
   {
    "duration": 10,
    "start_time": "2022-05-08T14:26:14.054Z"
   },
   {
    "duration": 0,
    "start_time": "2022-05-08T14:26:14.066Z"
   },
   {
    "duration": 12,
    "start_time": "2022-05-08T14:28:35.936Z"
   },
   {
    "duration": 5,
    "start_time": "2022-05-08T14:28:37.463Z"
   },
   {
    "duration": 9,
    "start_time": "2022-05-08T14:30:33.970Z"
   },
   {
    "duration": 19,
    "start_time": "2022-05-08T14:33:32.262Z"
   },
   {
    "duration": 15,
    "start_time": "2022-05-08T14:37:48.735Z"
   },
   {
    "duration": 13,
    "start_time": "2022-05-08T14:38:13.593Z"
   },
   {
    "duration": 15,
    "start_time": "2022-05-08T14:38:20.559Z"
   },
   {
    "duration": 15,
    "start_time": "2022-05-08T14:38:31.316Z"
   },
   {
    "duration": 15,
    "start_time": "2022-05-08T14:39:14.979Z"
   },
   {
    "duration": 18,
    "start_time": "2022-05-08T14:39:22.358Z"
   },
   {
    "duration": 4,
    "start_time": "2022-05-08T14:41:52.904Z"
   },
   {
    "duration": 456,
    "start_time": "2022-05-08T14:41:53.071Z"
   },
   {
    "duration": 10,
    "start_time": "2022-05-08T14:41:53.529Z"
   },
   {
    "duration": 11,
    "start_time": "2022-05-08T14:41:53.540Z"
   },
   {
    "duration": 58,
    "start_time": "2022-05-08T14:41:53.553Z"
   },
   {
    "duration": 218,
    "start_time": "2022-05-08T14:41:53.670Z"
   },
   {
    "duration": 112,
    "start_time": "2022-05-08T14:41:53.992Z"
   },
   {
    "duration": 3,
    "start_time": "2022-05-08T14:41:54.284Z"
   },
   {
    "duration": 3,
    "start_time": "2022-05-08T14:41:59.419Z"
   },
   {
    "duration": 4,
    "start_time": "2022-05-08T14:42:00.044Z"
   },
   {
    "duration": 124,
    "start_time": "2022-05-08T14:42:00.853Z"
   },
   {
    "duration": 26,
    "start_time": "2022-05-08T14:42:01.455Z"
   },
   {
    "duration": 16,
    "start_time": "2022-05-08T14:42:01.876Z"
   },
   {
    "duration": 21,
    "start_time": "2022-05-08T14:42:29.043Z"
   },
   {
    "duration": 15,
    "start_time": "2022-05-08T14:42:29.214Z"
   },
   {
    "duration": 6,
    "start_time": "2022-05-08T14:42:29.367Z"
   },
   {
    "duration": 1233,
    "start_time": "2022-05-08T14:42:29.594Z"
   },
   {
    "duration": 25,
    "start_time": "2022-05-08T14:42:30.829Z"
   },
   {
    "duration": 248,
    "start_time": "2022-05-08T14:42:30.856Z"
   },
   {
    "duration": 8,
    "start_time": "2022-05-08T14:42:31.107Z"
   },
   {
    "duration": 11,
    "start_time": "2022-05-08T14:42:31.117Z"
   },
   {
    "duration": 17,
    "start_time": "2022-05-08T14:42:31.130Z"
   },
   {
    "duration": 41,
    "start_time": "2022-05-08T14:42:31.149Z"
   },
   {
    "duration": 567,
    "start_time": "2022-05-08T14:42:31.191Z"
   },
   {
    "duration": 522,
    "start_time": "2022-05-08T14:42:31.760Z"
   },
   {
    "duration": 20,
    "start_time": "2022-05-08T14:42:32.285Z"
   },
   {
    "duration": 57,
    "start_time": "2022-05-08T14:42:32.307Z"
   },
   {
    "duration": 577,
    "start_time": "2022-05-08T14:42:32.366Z"
   },
   {
    "duration": 468,
    "start_time": "2022-05-08T14:42:32.945Z"
   },
   {
    "duration": 19,
    "start_time": "2022-05-08T14:42:33.415Z"
   },
   {
    "duration": 19,
    "start_time": "2022-05-08T14:42:33.436Z"
   },
   {
    "duration": 10,
    "start_time": "2022-05-08T14:42:33.457Z"
   },
   {
    "duration": 10,
    "start_time": "2022-05-08T14:42:33.469Z"
   },
   {
    "duration": 17,
    "start_time": "2022-05-08T14:42:33.481Z"
   },
   {
    "duration": 10,
    "start_time": "2022-05-08T14:44:18.221Z"
   },
   {
    "duration": 10,
    "start_time": "2022-05-08T14:44:24.554Z"
   },
   {
    "duration": 11,
    "start_time": "2022-05-08T14:44:39.773Z"
   },
   {
    "duration": 5,
    "start_time": "2022-05-08T14:44:42.744Z"
   },
   {
    "duration": 8,
    "start_time": "2022-05-08T14:44:47.706Z"
   },
   {
    "duration": 9,
    "start_time": "2022-05-08T14:44:50.422Z"
   },
   {
    "duration": 4,
    "start_time": "2022-05-08T14:44:50.744Z"
   },
   {
    "duration": 4,
    "start_time": "2022-05-08T14:44:51.136Z"
   },
   {
    "duration": 9,
    "start_time": "2022-05-08T14:46:01.154Z"
   },
   {
    "duration": 9,
    "start_time": "2022-05-08T14:46:05.142Z"
   },
   {
    "duration": 9,
    "start_time": "2022-05-08T14:46:09.536Z"
   },
   {
    "duration": 9,
    "start_time": "2022-05-08T14:46:13.659Z"
   },
   {
    "duration": 8,
    "start_time": "2022-05-08T14:46:37.684Z"
   },
   {
    "duration": 114,
    "start_time": "2022-05-08T14:46:43.837Z"
   },
   {
    "duration": 10,
    "start_time": "2022-05-08T14:46:47.229Z"
   },
   {
    "duration": 11,
    "start_time": "2022-05-08T14:46:49.027Z"
   },
   {
    "duration": 11,
    "start_time": "2022-05-08T14:47:29.769Z"
   },
   {
    "duration": 4,
    "start_time": "2022-05-08T14:47:43.270Z"
   },
   {
    "duration": 9,
    "start_time": "2022-05-08T14:48:14.478Z"
   },
   {
    "duration": 8,
    "start_time": "2022-05-08T14:48:33.814Z"
   },
   {
    "duration": 9,
    "start_time": "2022-05-08T14:48:38.213Z"
   },
   {
    "duration": 8,
    "start_time": "2022-05-08T14:49:12.499Z"
   },
   {
    "duration": 1144,
    "start_time": "2022-05-08T14:49:17.279Z"
   },
   {
    "duration": 466,
    "start_time": "2022-05-08T14:49:18.425Z"
   },
   {
    "duration": 10,
    "start_time": "2022-05-08T14:49:18.893Z"
   },
   {
    "duration": 26,
    "start_time": "2022-05-08T14:49:18.905Z"
   },
   {
    "duration": 58,
    "start_time": "2022-05-08T14:49:18.932Z"
   },
   {
    "duration": 239,
    "start_time": "2022-05-08T14:49:18.992Z"
   },
   {
    "duration": 3,
    "start_time": "2022-05-08T14:49:19.234Z"
   },
   {
    "duration": 24,
    "start_time": "2022-05-08T14:49:19.238Z"
   },
   {
    "duration": 133,
    "start_time": "2022-05-08T14:49:19.264Z"
   },
   {
    "duration": 24,
    "start_time": "2022-05-08T14:49:19.400Z"
   },
   {
    "duration": 36,
    "start_time": "2022-05-08T14:49:19.425Z"
   },
   {
    "duration": 14,
    "start_time": "2022-05-08T14:49:19.462Z"
   },
   {
    "duration": 7,
    "start_time": "2022-05-08T14:49:19.478Z"
   },
   {
    "duration": 998,
    "start_time": "2022-05-08T14:49:19.486Z"
   },
   {
    "duration": 17,
    "start_time": "2022-05-08T14:49:20.486Z"
   },
   {
    "duration": 231,
    "start_time": "2022-05-08T14:49:20.504Z"
   },
   {
    "duration": 7,
    "start_time": "2022-05-08T14:49:20.737Z"
   },
   {
    "duration": 19,
    "start_time": "2022-05-08T14:49:20.754Z"
   },
   {
    "duration": 25,
    "start_time": "2022-05-08T14:49:20.774Z"
   },
   {
    "duration": 64,
    "start_time": "2022-05-08T14:49:20.801Z"
   },
   {
    "duration": 456,
    "start_time": "2022-05-08T14:49:20.867Z"
   },
   {
    "duration": 470,
    "start_time": "2022-05-08T14:49:21.325Z"
   },
   {
    "duration": 15,
    "start_time": "2022-05-08T14:49:21.797Z"
   },
   {
    "duration": 49,
    "start_time": "2022-05-08T14:49:21.814Z"
   },
   {
    "duration": 426,
    "start_time": "2022-05-08T14:49:21.864Z"
   },
   {
    "duration": 447,
    "start_time": "2022-05-08T14:49:22.292Z"
   },
   {
    "duration": 23,
    "start_time": "2022-05-08T14:49:22.741Z"
   },
   {
    "duration": 4,
    "start_time": "2022-05-08T14:49:22.768Z"
   },
   {
    "duration": 6,
    "start_time": "2022-05-08T14:49:22.774Z"
   },
   {
    "duration": 120,
    "start_time": "2022-05-08T14:49:22.781Z"
   },
   {
    "duration": 0,
    "start_time": "2022-05-08T14:49:22.903Z"
   },
   {
    "duration": 0,
    "start_time": "2022-05-08T14:49:22.904Z"
   },
   {
    "duration": 0,
    "start_time": "2022-05-08T14:49:22.906Z"
   },
   {
    "duration": 0,
    "start_time": "2022-05-08T14:49:22.907Z"
   },
   {
    "duration": 9,
    "start_time": "2022-05-08T14:49:34.758Z"
   },
   {
    "duration": 4,
    "start_time": "2022-05-08T14:49:35.989Z"
   },
   {
    "duration": 5,
    "start_time": "2022-05-08T15:45:06.280Z"
   },
   {
    "duration": 5,
    "start_time": "2022-05-08T16:57:48.652Z"
   },
   {
    "duration": 5,
    "start_time": "2022-05-08T16:57:54.841Z"
   },
   {
    "duration": 5,
    "start_time": "2022-05-08T16:57:57.514Z"
   },
   {
    "duration": 1176,
    "start_time": "2022-05-08T17:51:03.781Z"
   },
   {
    "duration": 445,
    "start_time": "2022-05-08T17:51:04.959Z"
   },
   {
    "duration": 10,
    "start_time": "2022-05-08T17:51:05.406Z"
   },
   {
    "duration": 48,
    "start_time": "2022-05-08T17:51:05.418Z"
   },
   {
    "duration": 78,
    "start_time": "2022-05-08T17:51:05.467Z"
   },
   {
    "duration": 254,
    "start_time": "2022-05-08T17:51:05.546Z"
   },
   {
    "duration": 3,
    "start_time": "2022-05-08T17:51:05.801Z"
   },
   {
    "duration": 16,
    "start_time": "2022-05-08T17:51:05.806Z"
   },
   {
    "duration": 139,
    "start_time": "2022-05-08T17:51:05.823Z"
   },
   {
    "duration": 25,
    "start_time": "2022-05-08T17:51:05.965Z"
   },
   {
    "duration": 26,
    "start_time": "2022-05-08T17:51:05.992Z"
   },
   {
    "duration": 14,
    "start_time": "2022-05-08T17:51:06.019Z"
   },
   {
    "duration": 22,
    "start_time": "2022-05-08T17:51:06.034Z"
   },
   {
    "duration": 976,
    "start_time": "2022-05-08T17:51:06.057Z"
   },
   {
    "duration": 22,
    "start_time": "2022-05-08T17:51:07.035Z"
   },
   {
    "duration": 221,
    "start_time": "2022-05-08T17:51:07.059Z"
   },
   {
    "duration": 7,
    "start_time": "2022-05-08T17:51:07.281Z"
   },
   {
    "duration": 21,
    "start_time": "2022-05-08T17:51:07.290Z"
   },
   {
    "duration": 29,
    "start_time": "2022-05-08T17:51:07.313Z"
   },
   {
    "duration": 61,
    "start_time": "2022-05-08T17:51:07.343Z"
   },
   {
    "duration": 462,
    "start_time": "2022-05-08T17:51:07.405Z"
   },
   {
    "duration": 470,
    "start_time": "2022-05-08T17:51:07.869Z"
   },
   {
    "duration": 20,
    "start_time": "2022-05-08T17:51:08.340Z"
   },
   {
    "duration": 40,
    "start_time": "2022-05-08T17:51:08.361Z"
   },
   {
    "duration": 447,
    "start_time": "2022-05-08T17:51:08.403Z"
   },
   {
    "duration": 457,
    "start_time": "2022-05-08T17:51:08.855Z"
   },
   {
    "duration": 16,
    "start_time": "2022-05-08T17:51:09.314Z"
   },
   {
    "duration": 21,
    "start_time": "2022-05-08T17:51:09.334Z"
   },
   {
    "duration": 5,
    "start_time": "2022-05-08T17:51:09.357Z"
   },
   {
    "duration": 109,
    "start_time": "2022-05-08T17:51:09.364Z"
   },
   {
    "duration": 0,
    "start_time": "2022-05-08T17:51:09.475Z"
   },
   {
    "duration": 0,
    "start_time": "2022-05-08T17:51:09.477Z"
   },
   {
    "duration": 0,
    "start_time": "2022-05-08T17:51:09.478Z"
   },
   {
    "duration": 0,
    "start_time": "2022-05-08T17:51:09.479Z"
   },
   {
    "duration": 6,
    "start_time": "2022-05-08T17:59:20.785Z"
   },
   {
    "duration": 83,
    "start_time": "2022-05-08T18:02:05.464Z"
   },
   {
    "duration": 17,
    "start_time": "2022-05-08T18:02:09.873Z"
   },
   {
    "duration": 16,
    "start_time": "2022-05-08T18:04:45.398Z"
   },
   {
    "duration": 15,
    "start_time": "2022-05-08T18:04:54.771Z"
   },
   {
    "duration": 26,
    "start_time": "2022-05-08T18:05:01.228Z"
   },
   {
    "duration": 1171,
    "start_time": "2022-05-08T18:07:25.947Z"
   },
   {
    "duration": 19,
    "start_time": "2022-05-08T18:07:30.428Z"
   },
   {
    "duration": 6617,
    "start_time": "2022-05-08T18:09:10.604Z"
   },
   {
    "duration": 23,
    "start_time": "2022-05-08T18:09:21.020Z"
   },
   {
    "duration": 24,
    "start_time": "2022-05-08T18:35:31.634Z"
   },
   {
    "duration": 1307,
    "start_time": "2022-05-08T18:36:03.457Z"
   },
   {
    "duration": 473,
    "start_time": "2022-05-08T18:36:04.766Z"
   },
   {
    "duration": 11,
    "start_time": "2022-05-08T18:36:05.241Z"
   },
   {
    "duration": 8,
    "start_time": "2022-05-08T18:36:05.255Z"
   },
   {
    "duration": 58,
    "start_time": "2022-05-08T18:36:05.265Z"
   },
   {
    "duration": 267,
    "start_time": "2022-05-08T18:36:05.325Z"
   },
   {
    "duration": 3,
    "start_time": "2022-05-08T18:36:05.593Z"
   },
   {
    "duration": 6,
    "start_time": "2022-05-08T18:36:05.598Z"
   },
   {
    "duration": 137,
    "start_time": "2022-05-08T18:36:05.605Z"
   },
   {
    "duration": 30,
    "start_time": "2022-05-08T18:36:05.745Z"
   },
   {
    "duration": 23,
    "start_time": "2022-05-08T18:36:05.776Z"
   },
   {
    "duration": 14,
    "start_time": "2022-05-08T18:36:05.801Z"
   },
   {
    "duration": 37,
    "start_time": "2022-05-08T18:36:05.817Z"
   },
   {
    "duration": 1032,
    "start_time": "2022-05-08T18:36:05.856Z"
   },
   {
    "duration": 25,
    "start_time": "2022-05-08T18:36:06.890Z"
   },
   {
    "duration": 394,
    "start_time": "2022-05-08T18:36:06.917Z"
   },
   {
    "duration": 10,
    "start_time": "2022-05-08T18:36:07.313Z"
   },
   {
    "duration": 9,
    "start_time": "2022-05-08T18:36:07.325Z"
   },
   {
    "duration": 22,
    "start_time": "2022-05-08T18:36:07.336Z"
   },
   {
    "duration": 64,
    "start_time": "2022-05-08T18:36:07.360Z"
   },
   {
    "duration": 581,
    "start_time": "2022-05-08T18:36:07.426Z"
   },
   {
    "duration": 824,
    "start_time": "2022-05-08T18:36:08.009Z"
   },
   {
    "duration": 37,
    "start_time": "2022-05-08T18:36:08.835Z"
   },
   {
    "duration": 62,
    "start_time": "2022-05-08T18:36:08.875Z"
   },
   {
    "duration": 467,
    "start_time": "2022-05-08T18:36:08.939Z"
   },
   {
    "duration": 495,
    "start_time": "2022-05-08T18:36:09.407Z"
   },
   {
    "duration": 18,
    "start_time": "2022-05-08T18:36:09.904Z"
   },
   {
    "duration": 29,
    "start_time": "2022-05-08T18:36:09.926Z"
   },
   {
    "duration": 7,
    "start_time": "2022-05-08T18:36:09.957Z"
   },
   {
    "duration": 7,
    "start_time": "2022-05-08T18:36:09.965Z"
   },
   {
    "duration": 1191,
    "start_time": "2022-05-08T18:36:09.973Z"
   },
   {
    "duration": 17,
    "start_time": "2022-05-08T18:36:11.166Z"
   },
   {
    "duration": 16,
    "start_time": "2022-05-08T18:36:11.185Z"
   },
   {
    "duration": 6918,
    "start_time": "2022-05-08T18:36:30.522Z"
   },
   {
    "duration": 21,
    "start_time": "2022-05-08T18:36:44.628Z"
   },
   {
    "duration": 1210,
    "start_time": "2022-05-08T18:36:50.330Z"
   },
   {
    "duration": 29,
    "start_time": "2022-05-08T18:36:51.542Z"
   },
   {
    "duration": 1192,
    "start_time": "2022-05-08T18:36:57.109Z"
   },
   {
    "duration": 449,
    "start_time": "2022-05-08T18:36:58.303Z"
   },
   {
    "duration": 11,
    "start_time": "2022-05-08T18:36:58.755Z"
   },
   {
    "duration": 13,
    "start_time": "2022-05-08T18:36:58.768Z"
   },
   {
    "duration": 58,
    "start_time": "2022-05-08T18:36:58.783Z"
   },
   {
    "duration": 251,
    "start_time": "2022-05-08T18:36:58.843Z"
   },
   {
    "duration": 3,
    "start_time": "2022-05-08T18:36:59.096Z"
   },
   {
    "duration": 12,
    "start_time": "2022-05-08T18:36:59.100Z"
   },
   {
    "duration": 134,
    "start_time": "2022-05-08T18:36:59.114Z"
   },
   {
    "duration": 27,
    "start_time": "2022-05-08T18:36:59.254Z"
   },
   {
    "duration": 24,
    "start_time": "2022-05-08T18:36:59.283Z"
   },
   {
    "duration": 15,
    "start_time": "2022-05-08T18:36:59.309Z"
   },
   {
    "duration": 32,
    "start_time": "2022-05-08T18:36:59.325Z"
   },
   {
    "duration": 1069,
    "start_time": "2022-05-08T18:36:59.359Z"
   },
   {
    "duration": 33,
    "start_time": "2022-05-08T18:37:00.430Z"
   },
   {
    "duration": 235,
    "start_time": "2022-05-08T18:37:00.465Z"
   },
   {
    "duration": 8,
    "start_time": "2022-05-08T18:37:00.702Z"
   },
   {
    "duration": 7,
    "start_time": "2022-05-08T18:37:00.712Z"
   },
   {
    "duration": 12,
    "start_time": "2022-05-08T18:37:00.720Z"
   },
   {
    "duration": 61,
    "start_time": "2022-05-08T18:37:00.733Z"
   },
   {
    "duration": 496,
    "start_time": "2022-05-08T18:37:00.795Z"
   },
   {
    "duration": 502,
    "start_time": "2022-05-08T18:37:01.293Z"
   },
   {
    "duration": 18,
    "start_time": "2022-05-08T18:37:01.797Z"
   },
   {
    "duration": 57,
    "start_time": "2022-05-08T18:37:01.817Z"
   },
   {
    "duration": 514,
    "start_time": "2022-05-08T18:37:01.876Z"
   },
   {
    "duration": 481,
    "start_time": "2022-05-08T18:37:02.392Z"
   },
   {
    "duration": 15,
    "start_time": "2022-05-08T18:37:02.875Z"
   },
   {
    "duration": 10,
    "start_time": "2022-05-08T18:37:02.893Z"
   },
   {
    "duration": 13,
    "start_time": "2022-05-08T18:37:02.904Z"
   },
   {
    "duration": 9,
    "start_time": "2022-05-08T18:37:02.919Z"
   },
   {
    "duration": 1724,
    "start_time": "2022-05-08T18:37:02.930Z"
   },
   {
    "duration": 22,
    "start_time": "2022-05-08T18:37:04.656Z"
   },
   {
    "duration": 21,
    "start_time": "2022-05-08T18:37:04.680Z"
   },
   {
    "duration": 18,
    "start_time": "2022-05-08T18:37:22.093Z"
   },
   {
    "duration": 20,
    "start_time": "2022-05-08T19:42:31.275Z"
   },
   {
    "duration": 12,
    "start_time": "2022-05-08T20:30:32.203Z"
   },
   {
    "duration": 1456,
    "start_time": "2022-05-09T08:09:29.595Z"
   },
   {
    "duration": 728,
    "start_time": "2022-05-09T08:09:31.055Z"
   },
   {
    "duration": 12,
    "start_time": "2022-05-09T08:09:31.785Z"
   },
   {
    "duration": 14,
    "start_time": "2022-05-09T08:09:31.800Z"
   },
   {
    "duration": 66,
    "start_time": "2022-05-09T08:09:31.816Z"
   },
   {
    "duration": 379,
    "start_time": "2022-05-09T08:09:31.884Z"
   },
   {
    "duration": 4,
    "start_time": "2022-05-09T08:09:32.265Z"
   },
   {
    "duration": 6,
    "start_time": "2022-05-09T08:09:32.271Z"
   },
   {
    "duration": 147,
    "start_time": "2022-05-09T08:09:32.279Z"
   },
   {
    "duration": 25,
    "start_time": "2022-05-09T08:09:32.428Z"
   },
   {
    "duration": 24,
    "start_time": "2022-05-09T08:09:32.455Z"
   },
   {
    "duration": 42,
    "start_time": "2022-05-09T08:09:32.481Z"
   },
   {
    "duration": 8,
    "start_time": "2022-05-09T08:09:32.525Z"
   },
   {
    "duration": 1118,
    "start_time": "2022-05-09T08:09:32.535Z"
   },
   {
    "duration": 33,
    "start_time": "2022-05-09T08:09:33.655Z"
   },
   {
    "duration": 246,
    "start_time": "2022-05-09T08:09:33.690Z"
   },
   {
    "duration": 7,
    "start_time": "2022-05-09T08:09:33.938Z"
   },
   {
    "duration": 9,
    "start_time": "2022-05-09T08:09:33.947Z"
   },
   {
    "duration": 9,
    "start_time": "2022-05-09T08:09:33.958Z"
   },
   {
    "duration": 62,
    "start_time": "2022-05-09T08:09:33.968Z"
   },
   {
    "duration": 743,
    "start_time": "2022-05-09T08:09:34.032Z"
   },
   {
    "duration": 802,
    "start_time": "2022-05-09T08:09:34.778Z"
   },
   {
    "duration": 25,
    "start_time": "2022-05-09T08:09:35.582Z"
   },
   {
    "duration": 57,
    "start_time": "2022-05-09T08:09:35.623Z"
   },
   {
    "duration": 593,
    "start_time": "2022-05-09T08:09:35.684Z"
   },
   {
    "duration": 486,
    "start_time": "2022-05-09T08:09:36.279Z"
   },
   {
    "duration": 17,
    "start_time": "2022-05-09T08:09:36.767Z"
   },
   {
    "duration": 7,
    "start_time": "2022-05-09T08:09:36.786Z"
   },
   {
    "duration": 33,
    "start_time": "2022-05-09T08:09:36.794Z"
   },
   {
    "duration": 9,
    "start_time": "2022-05-09T08:09:36.829Z"
   },
   {
    "duration": 1356,
    "start_time": "2022-05-09T08:09:36.840Z"
   },
   {
    "duration": 15,
    "start_time": "2022-05-09T08:09:38.198Z"
   },
   {
    "duration": 10,
    "start_time": "2022-05-09T08:09:38.222Z"
   },
   {
    "duration": 4,
    "start_time": "2022-05-09T08:30:59.596Z"
   },
   {
    "duration": 492,
    "start_time": "2022-05-09T08:30:59.762Z"
   },
   {
    "duration": 8,
    "start_time": "2022-05-09T08:31:00.256Z"
   },
   {
    "duration": 16,
    "start_time": "2022-05-09T08:31:00.266Z"
   },
   {
    "duration": 53,
    "start_time": "2022-05-09T08:31:00.539Z"
   },
   {
    "duration": 214,
    "start_time": "2022-05-09T08:31:00.594Z"
   },
   {
    "duration": 3,
    "start_time": "2022-05-09T08:31:00.810Z"
   },
   {
    "duration": 6,
    "start_time": "2022-05-09T08:31:00.822Z"
   },
   {
    "duration": 116,
    "start_time": "2022-05-09T08:31:00.830Z"
   },
   {
    "duration": 20,
    "start_time": "2022-05-09T08:31:00.948Z"
   },
   {
    "duration": 27,
    "start_time": "2022-05-09T08:31:00.970Z"
   },
   {
    "duration": 32,
    "start_time": "2022-05-09T08:31:00.999Z"
   },
   {
    "duration": 12,
    "start_time": "2022-05-09T08:31:01.032Z"
   },
   {
    "duration": 1112,
    "start_time": "2022-05-09T08:31:01.046Z"
   },
   {
    "duration": 14,
    "start_time": "2022-05-09T08:31:02.160Z"
   },
   {
    "duration": 235,
    "start_time": "2022-05-09T08:31:02.176Z"
   },
   {
    "duration": 12,
    "start_time": "2022-05-09T08:31:02.412Z"
   },
   {
    "duration": 5,
    "start_time": "2022-05-09T08:31:02.426Z"
   },
   {
    "duration": 9,
    "start_time": "2022-05-09T08:31:02.432Z"
   },
   {
    "duration": 38,
    "start_time": "2022-05-09T08:31:02.443Z"
   },
   {
    "duration": 465,
    "start_time": "2022-05-09T08:31:02.483Z"
   },
   {
    "duration": 524,
    "start_time": "2022-05-09T08:31:02.951Z"
   },
   {
    "duration": 21,
    "start_time": "2022-05-09T08:31:03.477Z"
   },
   {
    "duration": 56,
    "start_time": "2022-05-09T08:31:03.499Z"
   },
   {
    "duration": 491,
    "start_time": "2022-05-09T08:31:03.557Z"
   },
   {
    "duration": 531,
    "start_time": "2022-05-09T08:31:04.050Z"
   },
   {
    "duration": 18,
    "start_time": "2022-05-09T08:31:04.584Z"
   },
   {
    "duration": 21,
    "start_time": "2022-05-09T08:31:04.604Z"
   },
   {
    "duration": 7,
    "start_time": "2022-05-09T08:31:04.627Z"
   },
   {
    "duration": 8,
    "start_time": "2022-05-09T08:31:04.636Z"
   },
   {
    "duration": 1156,
    "start_time": "2022-05-09T08:31:04.646Z"
   },
   {
    "duration": 19,
    "start_time": "2022-05-09T08:31:05.804Z"
   },
   {
    "duration": 468,
    "start_time": "2022-05-09T08:32:28.172Z"
   },
   {
    "duration": 56,
    "start_time": "2022-05-09T08:33:02.875Z"
   },
   {
    "duration": 515,
    "start_time": "2022-05-09T08:34:18.420Z"
   },
   {
    "duration": 62,
    "start_time": "2022-05-09T08:34:18.986Z"
   },
   {
    "duration": 56,
    "start_time": "2022-05-09T08:36:00.214Z"
   },
   {
    "duration": 54,
    "start_time": "2022-05-09T08:37:20.799Z"
   },
   {
    "duration": 52,
    "start_time": "2022-05-09T08:37:38.233Z"
   },
   {
    "duration": 54,
    "start_time": "2022-05-09T08:37:47.273Z"
   },
   {
    "duration": 172,
    "start_time": "2022-05-09T08:37:57.728Z"
   },
   {
    "duration": 175,
    "start_time": "2022-05-09T08:38:20.912Z"
   },
   {
    "duration": 57,
    "start_time": "2022-05-09T08:38:23.942Z"
   },
   {
    "duration": 54,
    "start_time": "2022-05-09T08:38:28.031Z"
   },
   {
    "duration": 53,
    "start_time": "2022-05-09T08:38:37.750Z"
   },
   {
    "duration": 52,
    "start_time": "2022-05-09T08:38:42.883Z"
   },
   {
    "duration": 53,
    "start_time": "2022-05-09T08:38:48.539Z"
   },
   {
    "duration": 76,
    "start_time": "2022-05-09T08:39:15.296Z"
   },
   {
    "duration": 54,
    "start_time": "2022-05-09T08:39:36.865Z"
   },
   {
    "duration": 8,
    "start_time": "2022-05-09T08:40:41.504Z"
   },
   {
    "duration": 7,
    "start_time": "2022-05-09T08:42:06.173Z"
   },
   {
    "duration": 53,
    "start_time": "2022-05-09T08:42:20.043Z"
   },
   {
    "duration": 3,
    "start_time": "2022-05-09T08:48:43.706Z"
   },
   {
    "duration": 100,
    "start_time": "2022-05-09T08:55:21.353Z"
   },
   {
    "duration": 21,
    "start_time": "2022-05-09T09:30:06.821Z"
   },
   {
    "duration": 18,
    "start_time": "2022-05-09T09:30:31.507Z"
   },
   {
    "duration": 21,
    "start_time": "2022-05-09T09:30:43.286Z"
   },
   {
    "duration": 17,
    "start_time": "2022-05-09T09:31:04.991Z"
   },
   {
    "duration": 7,
    "start_time": "2022-05-09T09:31:39.805Z"
   },
   {
    "duration": 1160,
    "start_time": "2022-05-09T09:31:54.523Z"
   },
   {
    "duration": 4,
    "start_time": "2022-05-09T09:41:59.348Z"
   },
   {
    "duration": 490,
    "start_time": "2022-05-09T09:41:59.613Z"
   },
   {
    "duration": 65,
    "start_time": "2022-05-09T09:42:00.105Z"
   },
   {
    "duration": 9,
    "start_time": "2022-05-09T09:42:00.172Z"
   },
   {
    "duration": 7,
    "start_time": "2022-05-09T09:42:00.403Z"
   },
   {
    "duration": 57,
    "start_time": "2022-05-09T09:42:00.695Z"
   },
   {
    "duration": 222,
    "start_time": "2022-05-09T09:42:00.972Z"
   },
   {
    "duration": 4,
    "start_time": "2022-05-09T09:42:01.274Z"
   },
   {
    "duration": 4,
    "start_time": "2022-05-09T09:42:01.562Z"
   },
   {
    "duration": 106,
    "start_time": "2022-05-09T09:42:02.460Z"
   },
   {
    "duration": 20,
    "start_time": "2022-05-09T09:42:02.780Z"
   },
   {
    "duration": 22,
    "start_time": "2022-05-09T09:42:03.082Z"
   },
   {
    "duration": 20,
    "start_time": "2022-05-09T09:42:03.384Z"
   },
   {
    "duration": 7,
    "start_time": "2022-05-09T09:42:03.830Z"
   },
   {
    "duration": 1269,
    "start_time": "2022-05-09T09:42:04.122Z"
   },
   {
    "duration": 8,
    "start_time": "2022-05-09T09:42:05.393Z"
   },
   {
    "duration": 276,
    "start_time": "2022-05-09T09:42:05.403Z"
   },
   {
    "duration": 63,
    "start_time": "2022-05-09T09:42:55.351Z"
   },
   {
    "duration": 5,
    "start_time": "2022-05-09T09:44:21.191Z"
   },
   {
    "duration": 40,
    "start_time": "2022-05-09T09:45:18.821Z"
   },
   {
    "duration": 537,
    "start_time": "2022-05-09T09:59:32.905Z"
   },
   {
    "duration": 838,
    "start_time": "2022-05-09T11:36:03.962Z"
   },
   {
    "duration": 554,
    "start_time": "2022-05-09T11:42:17.925Z"
   },
   {
    "duration": 30,
    "start_time": "2022-05-09T12:17:38.613Z"
   },
   {
    "duration": 61,
    "start_time": "2022-05-09T12:18:15.319Z"
   },
   {
    "duration": 526,
    "start_time": "2022-05-09T12:18:40.659Z"
   },
   {
    "duration": 505,
    "start_time": "2022-05-09T12:22:29.633Z"
   },
   {
    "duration": 1488,
    "start_time": "2022-05-09T12:48:50.947Z"
   },
   {
    "duration": 16,
    "start_time": "2022-05-09T12:49:59.648Z"
   },
   {
    "duration": 1951,
    "start_time": "2022-05-09T17:51:17.127Z"
   },
   {
    "duration": 645,
    "start_time": "2022-05-09T17:51:19.084Z"
   },
   {
    "duration": 90,
    "start_time": "2022-05-09T17:51:19.735Z"
   },
   {
    "duration": 31,
    "start_time": "2022-05-09T17:51:19.828Z"
   },
   {
    "duration": 25,
    "start_time": "2022-05-09T17:51:19.861Z"
   },
   {
    "duration": 88,
    "start_time": "2022-05-09T17:51:19.888Z"
   },
   {
    "duration": 323,
    "start_time": "2022-05-09T17:51:19.978Z"
   },
   {
    "duration": 4,
    "start_time": "2022-05-09T17:51:20.303Z"
   },
   {
    "duration": 14,
    "start_time": "2022-05-09T17:51:20.309Z"
   },
   {
    "duration": 214,
    "start_time": "2022-05-09T17:51:20.325Z"
   },
   {
    "duration": 44,
    "start_time": "2022-05-09T17:51:20.541Z"
   },
   {
    "duration": 32,
    "start_time": "2022-05-09T17:51:20.589Z"
   },
   {
    "duration": 57,
    "start_time": "2022-05-09T17:51:20.625Z"
   },
   {
    "duration": 10,
    "start_time": "2022-05-09T17:51:20.685Z"
   },
   {
    "duration": 1987,
    "start_time": "2022-05-09T17:51:20.698Z"
   },
   {
    "duration": 11,
    "start_time": "2022-05-09T17:51:22.692Z"
   },
   {
    "duration": 470,
    "start_time": "2022-05-09T17:51:22.705Z"
   },
   {
    "duration": 11,
    "start_time": "2022-05-09T17:51:23.177Z"
   },
   {
    "duration": 82,
    "start_time": "2022-05-09T17:51:23.190Z"
   },
   {
    "duration": 870,
    "start_time": "2022-05-09T17:51:23.274Z"
   },
   {
    "duration": 910,
    "start_time": "2022-05-09T17:51:24.147Z"
   },
   {
    "duration": 30,
    "start_time": "2022-05-09T17:51:25.059Z"
   },
   {
    "duration": 91,
    "start_time": "2022-05-09T17:51:25.092Z"
   },
   {
    "duration": 826,
    "start_time": "2022-05-09T17:51:25.185Z"
   },
   {
    "duration": 914,
    "start_time": "2022-05-09T17:51:26.014Z"
   },
   {
    "duration": 8,
    "start_time": "2022-05-09T17:51:26.930Z"
   },
   {
    "duration": 21,
    "start_time": "2022-05-09T17:51:26.940Z"
   },
   {
    "duration": 22,
    "start_time": "2022-05-09T17:51:26.966Z"
   },
   {
    "duration": 2034,
    "start_time": "2022-05-09T17:51:26.991Z"
   },
   {
    "duration": 34,
    "start_time": "2022-05-09T17:51:29.028Z"
   },
   {
    "duration": 1462,
    "start_time": "2022-05-10T18:18:38.299Z"
   },
   {
    "duration": 1410,
    "start_time": "2022-05-10T18:18:39.763Z"
   },
   {
    "duration": 59,
    "start_time": "2022-05-10T18:18:41.175Z"
   },
   {
    "duration": 10,
    "start_time": "2022-05-10T18:18:41.235Z"
   },
   {
    "duration": 9,
    "start_time": "2022-05-10T18:18:41.247Z"
   },
   {
    "duration": 54,
    "start_time": "2022-05-10T18:18:41.258Z"
   },
   {
    "duration": 250,
    "start_time": "2022-05-10T18:18:41.314Z"
   },
   {
    "duration": 4,
    "start_time": "2022-05-10T18:18:41.565Z"
   },
   {
    "duration": 5,
    "start_time": "2022-05-10T18:18:41.570Z"
   },
   {
    "duration": 137,
    "start_time": "2022-05-10T18:18:41.577Z"
   },
   {
    "duration": 33,
    "start_time": "2022-05-10T18:18:41.715Z"
   },
   {
    "duration": 24,
    "start_time": "2022-05-10T18:18:41.750Z"
   },
   {
    "duration": 15,
    "start_time": "2022-05-10T18:18:41.775Z"
   },
   {
    "duration": 8,
    "start_time": "2022-05-10T18:18:41.793Z"
   },
   {
    "duration": 1058,
    "start_time": "2022-05-10T18:18:41.803Z"
   },
   {
    "duration": 9,
    "start_time": "2022-05-10T18:18:42.863Z"
   },
   {
    "duration": 241,
    "start_time": "2022-05-10T18:18:42.874Z"
   },
   {
    "duration": 5,
    "start_time": "2022-05-10T18:18:43.117Z"
   },
   {
    "duration": 51,
    "start_time": "2022-05-10T18:18:43.123Z"
   },
   {
    "duration": 546,
    "start_time": "2022-05-10T18:18:43.176Z"
   },
   {
    "duration": 543,
    "start_time": "2022-05-10T18:18:43.723Z"
   },
   {
    "duration": 16,
    "start_time": "2022-05-10T18:18:44.268Z"
   },
   {
    "duration": 58,
    "start_time": "2022-05-10T18:18:44.286Z"
   },
   {
    "duration": 486,
    "start_time": "2022-05-10T18:18:44.345Z"
   },
   {
    "duration": 544,
    "start_time": "2022-05-10T18:18:44.834Z"
   },
   {
    "duration": 6,
    "start_time": "2022-05-10T18:18:45.380Z"
   },
   {
    "duration": 6,
    "start_time": "2022-05-10T18:18:45.387Z"
   },
   {
    "duration": 5,
    "start_time": "2022-05-10T18:18:45.395Z"
   },
   {
    "duration": 1265,
    "start_time": "2022-05-10T18:18:45.402Z"
   },
   {
    "duration": 12,
    "start_time": "2022-05-10T18:18:46.668Z"
   },
   {
    "duration": 6,
    "start_time": "2022-05-10T18:21:23.993Z"
   },
   {
    "duration": 16,
    "start_time": "2022-05-10T18:21:26.660Z"
   },
   {
    "duration": 12,
    "start_time": "2022-05-10T18:21:33.826Z"
   },
   {
    "duration": 50,
    "start_time": "2022-05-11T08:10:16.991Z"
   },
   {
    "duration": 1371,
    "start_time": "2022-05-11T08:10:21.764Z"
   },
   {
    "duration": 484,
    "start_time": "2022-05-11T08:10:23.137Z"
   },
   {
    "duration": 60,
    "start_time": "2022-05-11T08:10:23.736Z"
   },
   {
    "duration": 9,
    "start_time": "2022-05-11T08:10:24.643Z"
   },
   {
    "duration": 7,
    "start_time": "2022-05-11T08:10:25.530Z"
   },
   {
    "duration": 66,
    "start_time": "2022-05-11T08:10:26.082Z"
   },
   {
    "duration": 236,
    "start_time": "2022-05-11T08:10:29.507Z"
   },
   {
    "duration": 3,
    "start_time": "2022-05-11T08:10:30.507Z"
   },
   {
    "duration": 3,
    "start_time": "2022-05-11T08:10:31.083Z"
   },
   {
    "duration": 126,
    "start_time": "2022-05-11T08:10:32.728Z"
   },
   {
    "duration": 5,
    "start_time": "2022-05-11T08:10:33.185Z"
   },
   {
    "duration": 19,
    "start_time": "2022-05-11T08:10:39.377Z"
   },
   {
    "duration": 88,
    "start_time": "2022-05-11T09:06:53.497Z"
   },
   {
    "duration": 4,
    "start_time": "2022-05-11T09:07:02.215Z"
   },
   {
    "duration": 97,
    "start_time": "2022-05-11T09:07:52.913Z"
   },
   {
    "duration": 4,
    "start_time": "2022-05-11T09:08:10.357Z"
   },
   {
    "duration": 4,
    "start_time": "2022-05-11T09:08:48.414Z"
   },
   {
    "duration": 92,
    "start_time": "2022-05-11T09:09:31.675Z"
   },
   {
    "duration": 149,
    "start_time": "2022-05-11T09:09:37.445Z"
   },
   {
    "duration": 108,
    "start_time": "2022-05-11T09:09:43.456Z"
   },
   {
    "duration": 6,
    "start_time": "2022-05-11T09:09:47.992Z"
   },
   {
    "duration": 6,
    "start_time": "2022-05-11T09:11:13.293Z"
   },
   {
    "duration": 71,
    "start_time": "2022-05-11T09:14:27.538Z"
   },
   {
    "duration": 9,
    "start_time": "2022-05-11T09:14:32.362Z"
   },
   {
    "duration": 4,
    "start_time": "2022-05-11T09:14:38.130Z"
   },
   {
    "duration": 445,
    "start_time": "2022-05-11T09:14:38.385Z"
   },
   {
    "duration": 58,
    "start_time": "2022-05-11T09:14:38.833Z"
   },
   {
    "duration": 8,
    "start_time": "2022-05-11T09:14:39.254Z"
   },
   {
    "duration": 7,
    "start_time": "2022-05-11T09:14:39.722Z"
   },
   {
    "duration": 52,
    "start_time": "2022-05-11T09:14:40.009Z"
   },
   {
    "duration": 208,
    "start_time": "2022-05-11T09:14:40.439Z"
   },
   {
    "duration": 3,
    "start_time": "2022-05-11T09:14:41.023Z"
   },
   {
    "duration": 3,
    "start_time": "2022-05-11T09:14:42.870Z"
   },
   {
    "duration": 33,
    "start_time": "2022-05-11T09:14:44.349Z"
   },
   {
    "duration": 17,
    "start_time": "2022-05-11T09:14:45.946Z"
   },
   {
    "duration": 18,
    "start_time": "2022-05-11T09:14:46.311Z"
   },
   {
    "duration": 15,
    "start_time": "2022-05-11T09:14:46.925Z"
   },
   {
    "duration": 8,
    "start_time": "2022-05-11T09:14:49.183Z"
   },
   {
    "duration": 1160,
    "start_time": "2022-05-11T09:14:49.907Z"
   },
   {
    "duration": 107,
    "start_time": "2022-05-11T09:14:57.901Z"
   },
   {
    "duration": 4,
    "start_time": "2022-05-11T09:19:58.288Z"
   },
   {
    "duration": 98,
    "start_time": "2022-05-11T09:21:41.472Z"
   },
   {
    "duration": 5,
    "start_time": "2022-05-11T09:21:56.758Z"
   },
   {
    "duration": 103,
    "start_time": "2022-05-11T09:23:41.449Z"
   },
   {
    "duration": 104,
    "start_time": "2022-05-11T09:23:49.766Z"
   },
   {
    "duration": 140,
    "start_time": "2022-05-11T09:24:06.319Z"
   },
   {
    "duration": 7,
    "start_time": "2022-05-11T09:24:24.112Z"
   },
   {
    "duration": 3,
    "start_time": "2022-05-11T09:24:35.828Z"
   },
   {
    "duration": 432,
    "start_time": "2022-05-11T09:24:36.346Z"
   },
   {
    "duration": 58,
    "start_time": "2022-05-11T09:24:36.780Z"
   },
   {
    "duration": 8,
    "start_time": "2022-05-11T09:24:37.178Z"
   },
   {
    "duration": 7,
    "start_time": "2022-05-11T09:24:37.605Z"
   },
   {
    "duration": 51,
    "start_time": "2022-05-11T09:24:37.895Z"
   },
   {
    "duration": 198,
    "start_time": "2022-05-11T09:24:38.348Z"
   },
   {
    "duration": 3,
    "start_time": "2022-05-11T09:24:39.041Z"
   },
   {
    "duration": 3,
    "start_time": "2022-05-11T09:24:39.631Z"
   },
   {
    "duration": 31,
    "start_time": "2022-05-11T09:24:42.175Z"
   },
   {
    "duration": 19,
    "start_time": "2022-05-11T09:24:42.473Z"
   },
   {
    "duration": 20,
    "start_time": "2022-05-11T09:24:42.765Z"
   },
   {
    "duration": 14,
    "start_time": "2022-05-11T09:24:44.699Z"
   },
   {
    "duration": 8,
    "start_time": "2022-05-11T09:24:45.952Z"
   },
   {
    "duration": 1092,
    "start_time": "2022-05-11T09:24:50.316Z"
   },
   {
    "duration": 6,
    "start_time": "2022-05-11T09:24:55.516Z"
   },
   {
    "duration": 273,
    "start_time": "2022-05-11T09:24:59.720Z"
   },
   {
    "duration": 293,
    "start_time": "2022-05-11T09:25:09.205Z"
   },
   {
    "duration": 4,
    "start_time": "2022-05-11T09:26:21.047Z"
   },
   {
    "duration": 438,
    "start_time": "2022-05-11T09:26:21.308Z"
   },
   {
    "duration": 59,
    "start_time": "2022-05-11T09:26:21.748Z"
   },
   {
    "duration": 8,
    "start_time": "2022-05-11T09:26:22.136Z"
   },
   {
    "duration": 7,
    "start_time": "2022-05-11T09:26:22.560Z"
   },
   {
    "duration": 52,
    "start_time": "2022-05-11T09:26:22.839Z"
   },
   {
    "duration": 195,
    "start_time": "2022-05-11T09:26:23.286Z"
   },
   {
    "duration": 3,
    "start_time": "2022-05-11T09:26:23.609Z"
   },
   {
    "duration": 3,
    "start_time": "2022-05-11T09:26:23.962Z"
   },
   {
    "duration": 35,
    "start_time": "2022-05-11T09:26:25.052Z"
   },
   {
    "duration": 20,
    "start_time": "2022-05-11T09:26:25.384Z"
   },
   {
    "duration": 20,
    "start_time": "2022-05-11T09:26:25.711Z"
   },
   {
    "duration": 20,
    "start_time": "2022-05-11T09:26:26.091Z"
   },
   {
    "duration": 8,
    "start_time": "2022-05-11T09:26:28.002Z"
   },
   {
    "duration": 1091,
    "start_time": "2022-05-11T09:26:28.621Z"
   },
   {
    "duration": 8,
    "start_time": "2022-05-11T09:26:29.714Z"
   },
   {
    "duration": 7,
    "start_time": "2022-05-11T09:26:31.768Z"
   },
   {
    "duration": 224,
    "start_time": "2022-05-11T09:26:32.072Z"
   },
   {
    "duration": 261,
    "start_time": "2022-05-11T09:36:37.018Z"
   },
   {
    "duration": 7,
    "start_time": "2022-05-11T09:36:47.554Z"
   },
   {
    "duration": 280,
    "start_time": "2022-05-11T09:36:48.036Z"
   },
   {
    "duration": 5,
    "start_time": "2022-05-11T09:36:50.198Z"
   },
   {
    "duration": 41,
    "start_time": "2022-05-11T09:36:50.714Z"
   },
   {
    "duration": 513,
    "start_time": "2022-05-11T09:36:51.647Z"
   },
   {
    "duration": 524,
    "start_time": "2022-05-11T09:36:52.839Z"
   },
   {
    "duration": 17,
    "start_time": "2022-05-11T09:36:54.106Z"
   },
   {
    "duration": 40,
    "start_time": "2022-05-11T09:36:54.820Z"
   },
   {
    "duration": 465,
    "start_time": "2022-05-11T09:36:55.483Z"
   },
   {
    "duration": 584,
    "start_time": "2022-05-11T09:36:56.852Z"
   },
   {
    "duration": 282,
    "start_time": "2022-05-11T09:36:58.995Z"
   },
   {
    "duration": 245,
    "start_time": "2022-05-11T09:38:03.127Z"
   },
   {
    "duration": 228,
    "start_time": "2022-05-11T09:38:16.465Z"
   },
   {
    "duration": 266,
    "start_time": "2022-05-11T09:38:20.010Z"
   },
   {
    "duration": 273,
    "start_time": "2022-05-11T09:38:25.329Z"
   },
   {
    "duration": 258,
    "start_time": "2022-05-11T09:38:30.770Z"
   },
   {
    "duration": 265,
    "start_time": "2022-05-11T09:39:42.238Z"
   },
   {
    "duration": 351,
    "start_time": "2022-05-11T09:39:49.216Z"
   },
   {
    "duration": 290,
    "start_time": "2022-05-11T09:40:18.670Z"
   },
   {
    "duration": 377,
    "start_time": "2022-05-11T09:40:23.615Z"
   },
   {
    "duration": 253,
    "start_time": "2022-05-11T09:40:27.853Z"
   },
   {
    "duration": 2047,
    "start_time": "2022-05-11T13:40:37.134Z"
   },
   {
    "duration": 579,
    "start_time": "2022-05-11T13:40:39.184Z"
   },
   {
    "duration": 82,
    "start_time": "2022-05-11T13:40:40.277Z"
   },
   {
    "duration": 14,
    "start_time": "2022-05-11T13:40:41.355Z"
   },
   {
    "duration": 10,
    "start_time": "2022-05-11T13:40:42.605Z"
   },
   {
    "duration": 71,
    "start_time": "2022-05-11T13:40:43.095Z"
   },
   {
    "duration": 83,
    "start_time": "2022-05-11T13:41:56.941Z"
   },
   {
    "duration": 95,
    "start_time": "2022-05-11T13:42:04.093Z"
   },
   {
    "duration": 27,
    "start_time": "2022-05-11T13:42:10.765Z"
   },
   {
    "duration": 69,
    "start_time": "2022-05-11T13:42:40.089Z"
   },
   {
    "duration": 127,
    "start_time": "2022-05-11T13:43:59.780Z"
   },
   {
    "duration": 21,
    "start_time": "2022-05-11T13:44:03.268Z"
   },
   {
    "duration": 5,
    "start_time": "2022-05-11T13:44:28.491Z"
   },
   {
    "duration": 558,
    "start_time": "2022-05-11T13:44:28.678Z"
   },
   {
    "duration": 84,
    "start_time": "2022-05-11T13:44:29.239Z"
   },
   {
    "duration": 11,
    "start_time": "2022-05-11T13:44:29.728Z"
   },
   {
    "duration": 11,
    "start_time": "2022-05-11T13:44:30.439Z"
   },
   {
    "duration": 130,
    "start_time": "2022-05-11T13:44:30.647Z"
   },
   {
    "duration": 281,
    "start_time": "2022-05-11T13:45:14.018Z"
   },
   {
    "duration": 47,
    "start_time": "2022-05-11T13:47:11.859Z"
   },
   {
    "duration": 165,
    "start_time": "2022-05-11T13:47:12.188Z"
   },
   {
    "duration": 33,
    "start_time": "2022-05-11T13:47:12.508Z"
   },
   {
    "duration": 22,
    "start_time": "2022-05-11T13:47:13.574Z"
   },
   {
    "duration": 2077,
    "start_time": "2022-05-11T13:47:14.674Z"
   },
   {
    "duration": 6,
    "start_time": "2022-05-11T13:47:45.893Z"
   },
   {
    "duration": 560,
    "start_time": "2022-05-11T13:47:46.408Z"
   },
   {
    "duration": 78,
    "start_time": "2022-05-11T13:47:47.919Z"
   },
   {
    "duration": 11,
    "start_time": "2022-05-11T13:47:49.660Z"
   },
   {
    "duration": 9,
    "start_time": "2022-05-11T13:47:50.794Z"
   },
   {
    "duration": 592,
    "start_time": "2022-05-11T13:48:29.928Z"
   },
   {
    "duration": 80,
    "start_time": "2022-05-11T13:48:31.348Z"
   },
   {
    "duration": 19,
    "start_time": "2022-05-11T13:48:37.353Z"
   },
   {
    "duration": 3,
    "start_time": "2022-05-11T13:49:21.269Z"
   },
   {
    "duration": 10,
    "start_time": "2022-05-11T13:49:23.670Z"
   },
   {
    "duration": 124,
    "start_time": "2022-05-11T13:49:24.298Z"
   },
   {
    "duration": 268,
    "start_time": "2022-05-11T13:49:28.238Z"
   },
   {
    "duration": 4,
    "start_time": "2022-05-11T13:49:29.047Z"
   },
   {
    "duration": 46,
    "start_time": "2022-05-11T13:49:34.969Z"
   },
   {
    "duration": 27,
    "start_time": "2022-05-11T13:49:35.956Z"
   },
   {
    "duration": 26,
    "start_time": "2022-05-11T13:49:38.019Z"
   },
   {
    "duration": 20,
    "start_time": "2022-05-11T13:49:38.848Z"
   },
   {
    "duration": 9,
    "start_time": "2022-05-11T13:49:40.547Z"
   },
   {
    "duration": 1911,
    "start_time": "2022-05-11T13:49:41.835Z"
   },
   {
    "duration": 9,
    "start_time": "2022-05-11T13:49:44.960Z"
   },
   {
    "duration": 488,
    "start_time": "2022-05-11T13:49:52.330Z"
   },
   {
    "duration": 7,
    "start_time": "2022-05-11T13:50:08.071Z"
   },
   {
    "duration": 64,
    "start_time": "2022-05-11T13:50:20.732Z"
   },
   {
    "duration": 800,
    "start_time": "2022-05-11T13:50:23.176Z"
   },
   {
    "duration": 842,
    "start_time": "2022-05-11T13:50:26.521Z"
   },
   {
    "duration": 17,
    "start_time": "2022-05-11T13:50:32.643Z"
   },
   {
    "duration": 60,
    "start_time": "2022-05-11T13:50:38.109Z"
   },
   {
    "duration": 755,
    "start_time": "2022-05-11T13:50:39.623Z"
   },
   {
    "duration": 898,
    "start_time": "2022-05-11T13:50:41.653Z"
   },
   {
    "duration": 473,
    "start_time": "2022-05-11T13:51:56.364Z"
   },
   {
    "duration": 507,
    "start_time": "2022-05-11T13:55:08.848Z"
   },
   {
    "duration": 774,
    "start_time": "2022-05-11T13:55:30.886Z"
   },
   {
    "duration": 122,
    "start_time": "2022-05-11T13:55:43.384Z"
   },
   {
    "duration": 482,
    "start_time": "2022-05-11T13:55:48.273Z"
   },
   {
    "duration": 491,
    "start_time": "2022-05-11T13:55:52.584Z"
   },
   {
    "duration": 437,
    "start_time": "2022-05-11T13:55:55.472Z"
   },
   {
    "duration": 489,
    "start_time": "2022-05-11T13:56:06.877Z"
   },
   {
    "duration": 420,
    "start_time": "2022-05-11T13:56:10.754Z"
   },
   {
    "duration": 388,
    "start_time": "2022-05-11T14:04:02.229Z"
   },
   {
    "duration": 642,
    "start_time": "2022-05-11T14:04:37.089Z"
   },
   {
    "duration": 106,
    "start_time": "2022-05-11T14:04:46.629Z"
   },
   {
    "duration": 391,
    "start_time": "2022-05-11T14:04:50.875Z"
   },
   {
    "duration": 483,
    "start_time": "2022-05-11T14:06:04.769Z"
   },
   {
    "duration": 1008,
    "start_time": "2022-05-11T14:06:26.146Z"
   },
   {
    "duration": 708,
    "start_time": "2022-05-11T14:07:51.921Z"
   },
   {
    "duration": 408,
    "start_time": "2022-05-11T14:08:00.743Z"
   },
   {
    "duration": 440,
    "start_time": "2022-05-11T14:08:08.199Z"
   },
   {
    "duration": 499,
    "start_time": "2022-05-11T14:08:19.200Z"
   },
   {
    "duration": 619,
    "start_time": "2022-05-11T14:09:10.717Z"
   },
   {
    "duration": 430,
    "start_time": "2022-05-11T14:09:31.150Z"
   },
   {
    "duration": 475,
    "start_time": "2022-05-11T14:09:36.509Z"
   },
   {
    "duration": 8456,
    "start_time": "2022-05-11T14:11:19.234Z"
   },
   {
    "duration": 650,
    "start_time": "2022-05-11T14:11:29.150Z"
   },
   {
    "duration": 488,
    "start_time": "2022-05-11T14:12:03.863Z"
   },
   {
    "duration": 398,
    "start_time": "2022-05-11T14:12:23.127Z"
   },
   {
    "duration": 546,
    "start_time": "2022-05-11T14:12:27.636Z"
   },
   {
    "duration": 549,
    "start_time": "2022-05-11T14:13:12.911Z"
   },
   {
    "duration": 507,
    "start_time": "2022-05-11T14:14:58.365Z"
   },
   {
    "duration": 515,
    "start_time": "2022-05-11T14:15:12.863Z"
   },
   {
    "duration": 519,
    "start_time": "2022-05-11T14:16:02.679Z"
   },
   {
    "duration": 521,
    "start_time": "2022-05-11T14:16:50.966Z"
   },
   {
    "duration": 583,
    "start_time": "2022-05-11T14:17:07.818Z"
   },
   {
    "duration": 769,
    "start_time": "2022-05-11T14:17:19.599Z"
   },
   {
    "duration": 528,
    "start_time": "2022-05-11T14:17:30.222Z"
   },
   {
    "duration": 513,
    "start_time": "2022-05-11T14:17:49.021Z"
   },
   {
    "duration": 528,
    "start_time": "2022-05-11T14:17:55.365Z"
   },
   {
    "duration": 13,
    "start_time": "2022-05-11T14:23:36.941Z"
   },
   {
    "duration": 19,
    "start_time": "2022-05-11T14:23:54.601Z"
   },
   {
    "duration": 15,
    "start_time": "2022-05-11T14:24:02.702Z"
   },
   {
    "duration": 20,
    "start_time": "2022-05-11T14:24:07.966Z"
   },
   {
    "duration": 8,
    "start_time": "2022-05-11T14:24:11.483Z"
   },
   {
    "duration": 587,
    "start_time": "2022-05-11T14:42:13.013Z"
   },
   {
    "duration": 526,
    "start_time": "2022-05-11T14:42:25.763Z"
   },
   {
    "duration": 567,
    "start_time": "2022-05-11T14:42:44.094Z"
   },
   {
    "duration": 544,
    "start_time": "2022-05-11T14:43:01.762Z"
   }
  ],
  "celltoolbar": "Необработанный формат ячейки",
  "kernelspec": {
   "display_name": "Python 3 (ipykernel)",
   "language": "python",
   "name": "python3"
  },
  "language_info": {
   "codemirror_mode": {
    "name": "ipython",
    "version": 3
   },
   "file_extension": ".py",
   "mimetype": "text/x-python",
   "name": "python",
   "nbconvert_exporter": "python",
   "pygments_lexer": "ipython3",
   "version": "3.9.7"
  },
  "toc": {
   "base_numbering": "1",
   "nav_menu": {},
   "number_sections": true,
   "sideBar": true,
   "skip_h1_title": true,
   "title_cell": "Содержание",
   "title_sidebar": "Оглавление",
   "toc_cell": true,
   "toc_position": {
    "height": "calc(100% - 180px)",
    "left": "10px",
    "top": "150px",
    "width": "303.837px"
   },
   "toc_section_display": true,
   "toc_window_display": true
  }
 },
 "nbformat": 4,
 "nbformat_minor": 2
}
