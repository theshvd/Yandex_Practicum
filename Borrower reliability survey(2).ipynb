{
 "cells": [
  {
   "cell_type": "markdown",
   "id": "f2f15a7c",
   "metadata": {
    "toc": true
   },
   "source": [
    "<h1>Оглавление<span class=\"tocSkip\"></span></h1>\n",
    "<div class=\"toc\"><ul class=\"toc-item\"><li><span><a href=\"#Исследование-надежности-заемщиков.\" data-toc-modified-id=\"Исследование-надежности-заемщиков.-1\"><span class=\"toc-item-num\">1&nbsp;&nbsp;</span>Исследование надежности заемщиков.</a></span><ul class=\"toc-item\"><li><span><a href=\"#Шаг-1.-Обзор-данных\" data-toc-modified-id=\"Шаг-1.-Обзор-данных-1.1\"><span class=\"toc-item-num\">1.1&nbsp;&nbsp;</span>Шаг 1. Обзор данных</a></span></li><li><span><a href=\"#Шаг-2.1-Заполнение-пропусков\" data-toc-modified-id=\"Шаг-2.1-Заполнение-пропусков-1.2\"><span class=\"toc-item-num\">1.2&nbsp;&nbsp;</span>Шаг 2.1 Заполнение пропусков</a></span></li><li><span><a href=\"#Шаг-2.2-Проверка-данных-на-аномалии-и-исправления.\" data-toc-modified-id=\"Шаг-2.2-Проверка-данных-на-аномалии-и-исправления.-1.3\"><span class=\"toc-item-num\">1.3&nbsp;&nbsp;</span>Шаг 2.2 Проверка данных на аномалии и исправления.</a></span></li><li><span><a href=\"#Шаг-2.3.-Изменение-типов-данных.\" data-toc-modified-id=\"Шаг-2.3.-Изменение-типов-данных.-1.4\"><span class=\"toc-item-num\">1.4&nbsp;&nbsp;</span>Шаг 2.3. Изменение типов данных.</a></span></li><li><span><a href=\"#Шаг-2.4.-Удаление-дубликатов.\" data-toc-modified-id=\"Шаг-2.4.-Удаление-дубликатов.-1.5\"><span class=\"toc-item-num\">1.5&nbsp;&nbsp;</span>Шаг 2.4. Удаление дубликатов.</a></span></li><li><span><a href=\"#Шаг-2.5.-Формирование-дополнительных-датафреймов-словарей,-декомпозиция-исходного-датафрейма.\" data-toc-modified-id=\"Шаг-2.5.-Формирование-дополнительных-датафреймов-словарей,-декомпозиция-исходного-датафрейма.-1.6\"><span class=\"toc-item-num\">1.6&nbsp;&nbsp;</span>Шаг 2.5. Формирование дополнительных датафреймов словарей, декомпозиция исходного датафрейма.</a></span></li><li><span><a href=\"#Шаг-2.6.-Категоризация-дохода.\" data-toc-modified-id=\"Шаг-2.6.-Категоризация-дохода.-1.7\"><span class=\"toc-item-num\">1.7&nbsp;&nbsp;</span>Шаг 2.6. Категоризация дохода.</a></span></li><li><span><a href=\"#Шаг-2.7.-Категоризация-целей-кредита.\" data-toc-modified-id=\"Шаг-2.7.-Категоризация-целей-кредита.-1.8\"><span class=\"toc-item-num\">1.8&nbsp;&nbsp;</span>Шаг 2.7. Категоризация целей кредита.</a></span></li><li><span><a href=\"#Ответы-на-вопросы.\" data-toc-modified-id=\"Ответы-на-вопросы.-1.9\"><span class=\"toc-item-num\">1.9&nbsp;&nbsp;</span>Ответы на вопросы.</a></span><ul class=\"toc-item\"><li><ul class=\"toc-item\"><li><span><a href=\"#Вопрос-1-Есть-ли-зависимость-между-количеством-детей-и-возвратом-кредита-в-срок?\" data-toc-modified-id=\"Вопрос-1-Есть-ли-зависимость-между-количеством-детей-и-возвратом-кредита-в-срок?-1.9.0.1\"><span class=\"toc-item-num\">1.9.0.1&nbsp;&nbsp;</span>Вопрос 1 Есть ли зависимость между количеством детей и возвратом кредита в срок?</a></span></li></ul></li></ul></li><li><span><a href=\"#Ответ-на-вопрос-1\" data-toc-modified-id=\"Ответ-на-вопрос-1-1.10\"><span class=\"toc-item-num\">1.10&nbsp;&nbsp;</span>Ответ на вопрос 1</a></span><ul class=\"toc-item\"><li><span><a href=\"#Вопрос-2-Есть-ли-зависимость-между-семейным-положением-и-возвратом-кредита-в-срок?\" data-toc-modified-id=\"Вопрос-2-Есть-ли-зависимость-между-семейным-положением-и-возвратом-кредита-в-срок?-1.10.1\"><span class=\"toc-item-num\">1.10.1&nbsp;&nbsp;</span>Вопрос 2 Есть ли зависимость между семейным положением и возвратом кредита в срок?</a></span></li></ul></li><li><span><a href=\"#Ответ-на-вопрос-2\" data-toc-modified-id=\"Ответ-на-вопрос-2-1.11\"><span class=\"toc-item-num\">1.11&nbsp;&nbsp;</span>Ответ на вопрос 2</a></span><ul class=\"toc-item\"><li><span><a href=\"#Вопрос-3-Есть-ли-зависимость-между-уровнем-дохода-и-возвратом-кредита-в-срок?\" data-toc-modified-id=\"Вопрос-3-Есть-ли-зависимость-между-уровнем-дохода-и-возвратом-кредита-в-срок?-1.11.1\"><span class=\"toc-item-num\">1.11.1&nbsp;&nbsp;</span>Вопрос 3 Есть ли зависимость между уровнем дохода и возвратом кредита в срок?</a></span></li></ul></li><li><span><a href=\"#Ответ-на-вопрос-3\" data-toc-modified-id=\"Ответ-на-вопрос-3-1.12\"><span class=\"toc-item-num\">1.12&nbsp;&nbsp;</span>Ответ на вопрос 3</a></span><ul class=\"toc-item\"><li><span><a href=\"#Вопрос-4-:-Как-разные-цели-кредита-влияют-на-его-возврат-в-срок?\" data-toc-modified-id=\"Вопрос-4-:-Как-разные-цели-кредита-влияют-на-его-возврат-в-срок?-1.12.1\"><span class=\"toc-item-num\">1.12.1&nbsp;&nbsp;</span>Вопрос 4 : Как разные цели кредита влияют на его возврат в срок?</a></span></li></ul></li><li><span><a href=\"#Ответ-на-вопрос-4\" data-toc-modified-id=\"Ответ-на-вопрос-4-1.13\"><span class=\"toc-item-num\">1.13&nbsp;&nbsp;</span>Ответ на вопрос 4</a></span></li></ul></li><li><span><a href=\"#Общий-вывод\" data-toc-modified-id=\"Общий-вывод-2\"><span class=\"toc-item-num\">2&nbsp;&nbsp;</span>Общий вывод</a></span></li></ul></div>"
   ]
  },
  {
   "cell_type": "markdown",
   "id": "251bf5fa",
   "metadata": {},
   "source": [
    "## Исследование надежности заемщиков."
   ]
  },
  {
   "cell_type": "markdown",
   "id": "e6c09c04",
   "metadata": {},
   "source": [
    "### Шаг 1. Обзор данных"
   ]
  },
  {
   "cell_type": "code",
   "execution_count": 18,
   "id": "4e5c0d31",
   "metadata": {
    "scrolled": true
   },
   "outputs": [],
   "source": [
    "import pandas as pd\n",
    "import numpy as np\n",
    "import seaborn as sns\n",
    "import matplotlib.pyplot as plt"
   ]
  },
  {
   "cell_type": "code",
   "execution_count": 19,
   "id": "18f34432",
   "metadata": {},
   "outputs": [
    {
     "name": "stdout",
     "output_type": "stream",
     "text": [
      "<class 'pandas.core.frame.DataFrame'>\n",
      "RangeIndex: 21525 entries, 0 to 21524\n",
      "Data columns (total 12 columns):\n",
      " #   Column            Non-Null Count  Dtype  \n",
      "---  ------            --------------  -----  \n",
      " 0   children          21525 non-null  int64  \n",
      " 1   days_employed     19351 non-null  float64\n",
      " 2   dob_years         21525 non-null  int64  \n",
      " 3   education         21525 non-null  object \n",
      " 4   education_id      21525 non-null  int64  \n",
      " 5   family_status     21525 non-null  object \n",
      " 6   family_status_id  21525 non-null  int64  \n",
      " 7   gender            21525 non-null  object \n",
      " 8   income_type       21525 non-null  object \n",
      " 9   debt              21525 non-null  int64  \n",
      " 10  total_income      19351 non-null  float64\n",
      " 11  purpose           21525 non-null  object \n",
      "dtypes: float64(2), int64(5), object(5)\n",
      "memory usage: 2.0+ MB\n"
     ]
    },
    {
     "data": {
      "text/plain": [
       "None"
      ]
     },
     "metadata": {},
     "output_type": "display_data"
    },
    {
     "data": {
      "text/html": [
       "<div>\n",
       "<style scoped>\n",
       "    .dataframe tbody tr th:only-of-type {\n",
       "        vertical-align: middle;\n",
       "    }\n",
       "\n",
       "    .dataframe tbody tr th {\n",
       "        vertical-align: top;\n",
       "    }\n",
       "\n",
       "    .dataframe thead th {\n",
       "        text-align: right;\n",
       "    }\n",
       "</style>\n",
       "<table border=\"1\" class=\"dataframe\">\n",
       "  <thead>\n",
       "    <tr style=\"text-align: right;\">\n",
       "      <th></th>\n",
       "      <th>children</th>\n",
       "      <th>days_employed</th>\n",
       "      <th>dob_years</th>\n",
       "      <th>education</th>\n",
       "      <th>education_id</th>\n",
       "      <th>family_status</th>\n",
       "      <th>family_status_id</th>\n",
       "      <th>gender</th>\n",
       "      <th>income_type</th>\n",
       "      <th>debt</th>\n",
       "      <th>total_income</th>\n",
       "      <th>purpose</th>\n",
       "    </tr>\n",
       "  </thead>\n",
       "  <tbody>\n",
       "    <tr>\n",
       "      <th>0</th>\n",
       "      <td>1</td>\n",
       "      <td>-8437.673028</td>\n",
       "      <td>42</td>\n",
       "      <td>высшее</td>\n",
       "      <td>0</td>\n",
       "      <td>женат / замужем</td>\n",
       "      <td>0</td>\n",
       "      <td>F</td>\n",
       "      <td>сотрудник</td>\n",
       "      <td>0</td>\n",
       "      <td>253875.639453</td>\n",
       "      <td>покупка жилья</td>\n",
       "    </tr>\n",
       "    <tr>\n",
       "      <th>1</th>\n",
       "      <td>1</td>\n",
       "      <td>-4024.803754</td>\n",
       "      <td>36</td>\n",
       "      <td>среднее</td>\n",
       "      <td>1</td>\n",
       "      <td>женат / замужем</td>\n",
       "      <td>0</td>\n",
       "      <td>F</td>\n",
       "      <td>сотрудник</td>\n",
       "      <td>0</td>\n",
       "      <td>112080.014102</td>\n",
       "      <td>приобретение автомобиля</td>\n",
       "    </tr>\n",
       "    <tr>\n",
       "      <th>2</th>\n",
       "      <td>0</td>\n",
       "      <td>-5623.422610</td>\n",
       "      <td>33</td>\n",
       "      <td>Среднее</td>\n",
       "      <td>1</td>\n",
       "      <td>женат / замужем</td>\n",
       "      <td>0</td>\n",
       "      <td>M</td>\n",
       "      <td>сотрудник</td>\n",
       "      <td>0</td>\n",
       "      <td>145885.952297</td>\n",
       "      <td>покупка жилья</td>\n",
       "    </tr>\n",
       "    <tr>\n",
       "      <th>3</th>\n",
       "      <td>3</td>\n",
       "      <td>-4124.747207</td>\n",
       "      <td>32</td>\n",
       "      <td>среднее</td>\n",
       "      <td>1</td>\n",
       "      <td>женат / замужем</td>\n",
       "      <td>0</td>\n",
       "      <td>M</td>\n",
       "      <td>сотрудник</td>\n",
       "      <td>0</td>\n",
       "      <td>267628.550329</td>\n",
       "      <td>дополнительное образование</td>\n",
       "    </tr>\n",
       "    <tr>\n",
       "      <th>4</th>\n",
       "      <td>0</td>\n",
       "      <td>340266.072047</td>\n",
       "      <td>53</td>\n",
       "      <td>среднее</td>\n",
       "      <td>1</td>\n",
       "      <td>гражданский брак</td>\n",
       "      <td>1</td>\n",
       "      <td>F</td>\n",
       "      <td>пенсионер</td>\n",
       "      <td>0</td>\n",
       "      <td>158616.077870</td>\n",
       "      <td>сыграть свадьбу</td>\n",
       "    </tr>\n",
       "  </tbody>\n",
       "</table>\n",
       "</div>"
      ],
      "text/plain": [
       "   children  days_employed  dob_years education  education_id  \\\n",
       "0         1   -8437.673028         42    высшее             0   \n",
       "1         1   -4024.803754         36   среднее             1   \n",
       "2         0   -5623.422610         33   Среднее             1   \n",
       "3         3   -4124.747207         32   среднее             1   \n",
       "4         0  340266.072047         53   среднее             1   \n",
       "\n",
       "      family_status  family_status_id gender income_type  debt   total_income  \\\n",
       "0   женат / замужем                 0      F   сотрудник     0  253875.639453   \n",
       "1   женат / замужем                 0      F   сотрудник     0  112080.014102   \n",
       "2   женат / замужем                 0      M   сотрудник     0  145885.952297   \n",
       "3   женат / замужем                 0      M   сотрудник     0  267628.550329   \n",
       "4  гражданский брак                 1      F   пенсионер     0  158616.077870   \n",
       "\n",
       "                      purpose  \n",
       "0               покупка жилья  \n",
       "1     приобретение автомобиля  \n",
       "2               покупка жилья  \n",
       "3  дополнительное образование  \n",
       "4             сыграть свадьбу  "
      ]
     },
     "metadata": {},
     "output_type": "display_data"
    }
   ],
   "source": [
    "data=pd.read_csv('/datasets/data.csv')\n",
    "display(data.info())\n",
    "display(data.head())"
   ]
  },
  {
   "cell_type": "markdown",
   "id": "238210fc",
   "metadata": {},
   "source": [
    "Как мы видим, в колонках total_income и  days_employed  есть какие-то проблемы. Вероятнее всего, пропуски. "
   ]
  },
  {
   "cell_type": "markdown",
   "id": "1b9768d2",
   "metadata": {},
   "source": [
    "### Шаг 2.1 Заполнение пропусков"
   ]
  },
  {
   "cell_type": "code",
   "execution_count": 20,
   "id": "17a5a290",
   "metadata": {},
   "outputs": [
    {
     "name": "stdout",
     "output_type": "stream",
     "text": [
      "Количество NaN в total_income: 2174\n",
      "Количество NaN в days_employed: 2174\n"
     ]
    }
   ],
   "source": [
    "nan_count_total = len(data[data['total_income'].isna()]) #нахождение количества NaN значений в столбце total_income\n",
    "nan_count_days = len(data[data['days_employed'].isna()]) #нахождение количества NaN значений в столбце days_employed\n",
    "\n",
    "print(f'''Количество NaN в total_income: {nan_count_total}\n",
    "Количество NaN в days_employed: {nan_count_days}''') # вывод количества пропущенных значений в столбцах total_income и \n",
    "#days_epmloyed"
   ]
  },
  {
   "cell_type": "code",
   "execution_count": 21,
   "id": "423f427e",
   "metadata": {},
   "outputs": [
    {
     "name": "stdout",
     "output_type": "stream",
     "text": [
      "Общее количество значений в total_income:21525\n",
      "Общее количество значений в days_employed:21525\n"
     ]
    }
   ],
   "source": [
    "full_count_total = len(data['total_income']) #нахождение количества всех значений в столбце total_income\n",
    "full_count_days = len(data['days_employed']) #нахождение количества всех значений в столбце days_employed\n",
    "\n",
    "print(f'''Общее количество значений в total_income:{full_count_total}\n",
    "Общее количество значений в days_employed:{full_count_days}''') # вывод количества всех  значений в столбцах total_income и \n",
    "#days_epmloyed"
   ]
  },
  {
   "cell_type": "code",
   "execution_count": 22,
   "id": "c07fb97d",
   "metadata": {},
   "outputs": [
    {
     "name": "stdout",
     "output_type": "stream",
     "text": [
      "Доля NaN к общему числу в total_income:0.10099883855981417 \n",
      "Доля NaN к общему числу в days_employed:0.10099883855981417\n"
     ]
    }
   ],
   "source": [
    "percentage_of_nan_total = nan_count_total/full_count_total #нахождение доли пропущенных значений ко всем значениям в столбце\n",
    "#total_income\n",
    "percentage_of_nan_days = nan_count_days/full_count_days #нахождение доли пропущенных значений ко всем значениям в столбце\n",
    "#days_employed\n",
    "\n",
    "print(f'''Доля NaN к общему числу в total_income:{percentage_of_nan_total} \n",
    "Доля NaN к общему числу в days_employed:{percentage_of_nan_days}''') # вывод доли пропущенных значений к общему числу значений \n",
    "#в столбцах total_income и days_epmloyed"
   ]
  },
  {
   "cell_type": "code",
   "execution_count": 23,
   "id": "c5639849",
   "metadata": {},
   "outputs": [
    {
     "name": "stdout",
     "output_type": "stream",
     "text": [
      "Медиана столбца total_income:  145017.93753253992\n"
     ]
    }
   ],
   "source": [
    "\n",
    "median = data.sort_values(by= 'total_income', ascending=False)['total_income'].median() # нахождение медианы для столбца \n",
    "#total_income\n",
    "\n",
    "print('Медиана столбца total_income: ',median) # вывод медианы столбца total_income\n",
    "\n",
    "data['total_income'] = data['total_income'].fillna(median) # замена пропущенных значений на медианное в столбце total_income"
   ]
  },
  {
   "cell_type": "markdown",
   "id": "8452572b",
   "metadata": {},
   "source": [
    "  1) Пропуски типа object,а конкрето NaN, то есть незаполненные строки таблицы\n",
    "  \n",
    "  2) Пропуски в столбце total_income возможны либо потому что кто-то не захотел предоставлять свои данные, либо кто-то безработный и у него нет заработка, либо у него нет постоянного заработка(самозанятый/бизнес) и нет задокументированных цифр которые банк мог бы занести в свою базу данных.\n",
    " \n",
    " 3) Медианное значение является лучшим решением потому что оно не реагирует на возможные выбросы в данных. "
   ]
  },
  {
   "cell_type": "markdown",
   "id": "373afebc",
   "metadata": {},
   "source": [
    "### Шаг 2.2 Проверка данных на аномалии и исправления."
   ]
  },
  {
   "cell_type": "code",
   "execution_count": 24,
   "id": "c9d1d8ea",
   "metadata": {},
   "outputs": [
    {
     "name": "stdout",
     "output_type": "stream",
     "text": [
      "Аномальные(NaN):2174\n",
      "Неаномальные:19351\n",
      "Меньше нуля:15906\n"
     ]
    }
   ],
   "source": [
    "counter_of_anomaly = 0 # счётчик строк с NaN данными в столбце days_employed\n",
    "counter_of_true = 0 # счётчик строк c числовыми данными в столбце days_employed\n",
    "counter_of_less_zero= 0 # счётчик строк c отрицательными данными в столбце days_employed\n",
    "\n",
    "for item in data[\"days_employed\"]: # проверка и изучение данных в столбце days_employed\n",
    "    try:\n",
    "        if item < 0:\n",
    "            counter_of_less_zero+=1 # проверка количества данных меньше нуля\n",
    "        item=int(item)\n",
    "        counter_of_true+=1 # проверка количества верных данных \n",
    "    except:\n",
    "        counter_of_anomaly+=1 # проверка количества NaN в данных \n",
    "        \n",
    "print(f'Аномальные(NaN):{counter_of_anomaly}') # вывод количества NaN\n",
    "print(f'Неаномальные:{counter_of_true}') # вывод количества верных данных\n",
    "print(f'Меньше нуля:{counter_of_less_zero}') # вывод количества отрицательных данныхb\n"
   ]
  },
  {
   "cell_type": "code",
   "execution_count": 25,
   "id": "a9cdf2ab",
   "metadata": {},
   "outputs": [
    {
     "name": "stdout",
     "output_type": "stream",
     "text": [
      "Медиана:2194.220566878695\n",
      "NaN после замены:  0\n",
      "Отрицательных данных после замены:  0\n"
     ]
    }
   ],
   "source": [
    "data.loc[data[\"days_employed\"]<0,'days_employed']*=-1 # замена отрицательных чисел на такие же положительные\n",
    "mediana=data.sort_values(by=\"days_employed\",ascending=False)['days_employed'].median() # нахождение медианы\n",
    "print(f'Медиана:{mediana}') # проверка значения  медианы \n",
    "data['days_employed'] = data['days_employed'].fillna(mediana) # заполнение строк с NaN медианными данными\n",
    "\n",
    "print('NaN после замены: ',len(data.loc[data['days_employed'].isna()])) # проверка количества NaN после замены \n",
    "print('Отрицательных данных после замены: ',len(data.loc[data['days_employed']<0])) # проверка количества отрицательных данных\n",
    "# после замены "
   ]
  },
  {
   "cell_type": "markdown",
   "id": "20a1a26f",
   "metadata": {},
   "source": [
    "Возможными причинами появления NaN являются:\n",
    "  1) Кто-то не захотел предоставлять свои данные\n",
    "  \n",
    "  2) Кто-то безработный и у него нет накопленных дней работы \n",
    "  \n",
    "  3) У этих людей нет официальной работы(самозанятые/бизнес)\n",
    "  \n",
    "  4) Ошибка работы СУБД (программы по заполнению базы данных)\n",
    "  \n",
    "  5) Человеческий фактор(человек, вносивший эти данные по какой-то причине не внёс их)\n",
    "  \n",
    "Возможными причинами появления отрицательных значений являются либо ошибка пользователя( если данные заполнялись обычным человеком, а не работником банка), однако для таких случаев в программах должна стоять защита на ввод отрицательного числа. Мог ошибиться работник банка, случайно нажав минус перед данными, когда вносил их в СУБД. Могло что-то произойти с программой.\n",
    "  \n",
    "  "
   ]
  },
  {
   "cell_type": "markdown",
   "id": "b575d3ae",
   "metadata": {},
   "source": [
    "### Шаг 2.3. Изменение типов данных."
   ]
  },
  {
   "cell_type": "code",
   "execution_count": 26,
   "id": "68a667c8",
   "metadata": {},
   "outputs": [
    {
     "name": "stdout",
     "output_type": "stream",
     "text": [
      "<class 'pandas.core.frame.DataFrame'>\n",
      "RangeIndex: 21525 entries, 0 to 21524\n",
      "Data columns (total 12 columns):\n",
      " #   Column            Non-Null Count  Dtype  \n",
      "---  ------            --------------  -----  \n",
      " 0   children          21525 non-null  int64  \n",
      " 1   days_employed     21525 non-null  float64\n",
      " 2   dob_years         21525 non-null  int64  \n",
      " 3   education         21525 non-null  object \n",
      " 4   education_id      21525 non-null  int64  \n",
      " 5   family_status     21525 non-null  object \n",
      " 6   family_status_id  21525 non-null  int64  \n",
      " 7   gender            21525 non-null  object \n",
      " 8   income_type       21525 non-null  object \n",
      " 9   debt              21525 non-null  int64  \n",
      " 10  total_income      21525 non-null  int64  \n",
      " 11  purpose           21525 non-null  object \n",
      "dtypes: float64(1), int64(6), object(5)\n",
      "memory usage: 2.0+ MB\n"
     ]
    }
   ],
   "source": [
    "data['total_income']=data['total_income'].astype('int') # изменение типа данных с float на int в столбце total_income\n",
    "data.info() # проверка результата"
   ]
  },
  {
   "cell_type": "markdown",
   "id": "9c74baf0",
   "metadata": {},
   "source": [
    "### Шаг 2.4. Удаление дубликатов."
   ]
  },
  {
   "cell_type": "code",
   "execution_count": 27,
   "id": "730e1ee0",
   "metadata": {},
   "outputs": [
    {
     "name": "stdout",
     "output_type": "stream",
     "text": [
      "Количество дубликатов в исходной таблице:  71\n",
      "Дубликатов после преобразования:  0\n"
     ]
    }
   ],
   "source": [
    "data['education'] = data['education'].str.lower() # приведение всех значений столбца education к нижнему регистру\n",
    "print('Количество дубликатов в исходной таблице: ', data.duplicated().sum()) # просмотр количества дубликатов\n",
    "data = data.drop_duplicates().reset_index(drop=True) # удаление явных дубликатов\n",
    "print('Дубликатов после преобразования: ',data.duplicated().sum()) # проверка количества дубликатов после их удаления"
   ]
  },
  {
   "cell_type": "markdown",
   "id": "df25725e",
   "metadata": {},
   "source": [
    "Метод duplicated() позволяет найти все дубликаты во всём датафрейме. Приведя столбец education к нижнему регистру мы исключили возможность метода duplicated() не обнаружить дубликаты из-за разности регистров. Метод duplicated удобен тем, что проверяет построчно (т.е. ищет схожие строки используя все столбцы этой строки. Т.е. строка в которой комбинация отличается от заданной хотя бы на один столбец уже не является дубликатом, а метод duplicated() проверяет полностью строки.)"
   ]
  },
  {
   "cell_type": "markdown",
   "id": "e0af7c65",
   "metadata": {},
   "source": [
    "Возможные причины появления дубликатов:\n",
    "\n",
    "1) Человеческий фактор( забыл что уже перенёс эту строку с бумаги в СУБД, не заметил включённый CapsLock при введении данных, не было указано, что необходимо вводить всё в нижнем регистре, оди и тот же человек создал несколько заявок на кредит по разным причинам(забагался сайт и т.д.) и так далее до бесконечности) \n",
    "\n",
    "2) Ошибка программы (разработчики апдейтнули программу, и пока увидели ошибку, пользователи уже успели внести свои данные, программа забагалась, и т.д.) "
   ]
  },
  {
   "cell_type": "markdown",
   "id": "7352e565",
   "metadata": {},
   "source": [
    "### Шаг 2.5. Формирование дополнительных датафреймов словарей, декомпозиция исходного датафрейма."
   ]
  },
  {
   "cell_type": "code",
   "execution_count": 28,
   "id": "c62dbec3",
   "metadata": {},
   "outputs": [
    {
     "name": "stdout",
     "output_type": "stream",
     "text": [
      "<class 'pandas.core.frame.DataFrame'>\n",
      "RangeIndex: 21454 entries, 0 to 21453\n",
      "Data columns (total 10 columns):\n",
      " #   Column            Non-Null Count  Dtype  \n",
      "---  ------            --------------  -----  \n",
      " 0   children          21454 non-null  int64  \n",
      " 1   days_employed     21454 non-null  float64\n",
      " 2   dob_years         21454 non-null  int64  \n",
      " 3   education_id      21454 non-null  int64  \n",
      " 4   family_status_id  21454 non-null  int64  \n",
      " 5   gender            21454 non-null  object \n",
      " 6   income_type       21454 non-null  object \n",
      " 7   debt              21454 non-null  int64  \n",
      " 8   total_income      21454 non-null  int64  \n",
      " 9   purpose           21454 non-null  object \n",
      "dtypes: float64(1), int64(6), object(3)\n",
      "memory usage: 1.6+ MB\n"
     ]
    }
   ],
   "source": [
    "edu = {'высшее': [0], 'среднее': [1], 'неоконченное высшее': [2]} #создание словаря для нового датафрейма \n",
    "fam= {'женат/замужем': [0], 'гражданский брат': [1], 'вдовец/вдова': [2], 'в разводе': [3], 'не женат/не замужем': [4]} #создание \n",
    "#словаря для нового датафрейма\n",
    "\n",
    "education=pd.DataFrame(data=edu) # создание датафрема для удаления столбца education\n",
    "family=pd.DataFrame(data=fam) # создание датафрейма для удаления столбца family_status\n",
    "\n",
    "data=data.drop(columns=['family_status','education']) # удаление столбцов family_status и education \n",
    "data.info() # проверка удаления столбцов"
   ]
  },
  {
   "cell_type": "markdown",
   "id": "ea7b3e8a",
   "metadata": {},
   "source": [
    "### Шаг 2.6. Категоризация дохода."
   ]
  },
  {
   "cell_type": "code",
   "execution_count": 29,
   "id": "83e4c724",
   "metadata": {
    "code_folding": []
   },
   "outputs": [
    {
     "name": "stdout",
     "output_type": "stream",
     "text": [
      "NaN в получившемся столбце:  0\n"
     ]
    }
   ],
   "source": [
    "def total_income_category(item): # функция для присвоения категории клиенту в зависимости от его зарплаты\n",
    "    if 0 <= item <= 30000: # если зарплата менее 30000,присваивается категория С\n",
    "        return 'E'\n",
    "    elif 30001 <= item <= 50000: # если зарплата более 30001 и менее 50000,присваивается категория D\n",
    "        return 'D'\n",
    "    elif 50001 <= item <= 200000: # если зарплата более 50001 и менее 200000,присваивается категория E\n",
    "        return 'C'\n",
    "    elif 200001 <= item <= 1000000: # если зарплата более 200001 и менее 1000000,присваивается категория B\n",
    "        return 'B'\n",
    "    elif item >= 1000001: # если зарплата более 1000001,присваивается категория A\n",
    "        return 'A'\n",
    "    \n",
    "data['total_income_category']=data['total_income'].apply(total_income_category) # применение функции total_income_category к\n",
    "# к столбцу total income и создание нового столбца total_income_category с помощью метода apply()\n",
    "\n",
    "print('NaN в получившемся столбце: ', data['total_income_category'].isna().sum()) # проверка наличия NaN в получившемся столбце"
   ]
  },
  {
   "cell_type": "markdown",
   "id": "dad723df",
   "metadata": {},
   "source": [
    "### Шаг 2.7. Категоризация целей кредита."
   ]
  },
  {
   "cell_type": "code",
   "execution_count": 30,
   "id": "e76b4ba3",
   "metadata": {
    "scrolled": true
   },
   "outputs": [
    {
     "name": "stdout",
     "output_type": "stream",
     "text": [
      "<class 'pandas.core.frame.DataFrame'>\n",
      "RangeIndex: 21454 entries, 0 to 21453\n",
      "Data columns (total 12 columns):\n",
      " #   Column                 Non-Null Count  Dtype  \n",
      "---  ------                 --------------  -----  \n",
      " 0   children               21454 non-null  int64  \n",
      " 1   days_employed          21454 non-null  float64\n",
      " 2   dob_years              21454 non-null  int64  \n",
      " 3   education_id           21454 non-null  int64  \n",
      " 4   family_status_id       21454 non-null  int64  \n",
      " 5   gender                 21454 non-null  object \n",
      " 6   income_type            21454 non-null  object \n",
      " 7   debt                   21454 non-null  int64  \n",
      " 8   total_income           21454 non-null  int64  \n",
      " 9   purpose                21454 non-null  object \n",
      " 10  total_income_category  21454 non-null  object \n",
      " 11  purpose_category       21454 non-null  object \n",
      "dtypes: float64(1), int64(6), object(5)\n",
      "memory usage: 2.0+ MB\n"
     ]
    }
   ],
   "source": [
    "def purpose(purp): # функция категоризации целей взятия кредита исходя из данных в столбце purpose\n",
    "    if 'жиль' in purp: \n",
    "        return 'операции с недвижимостью'\n",
    "    if 'образов' in purp:\n",
    "        return 'получение образования'\n",
    "    if  'автомоб' in purp:\n",
    "        return 'операции с автомобилем'\n",
    "    if 'свадьб' in purp:\n",
    "        return 'проведение свадьбы'\n",
    "    if 'недвиж' in purp:\n",
    "        return 'операции с недвижимостью'\n",
    "    \n",
    "data['purpose_category'] = data['purpose'].apply(purpose) # применение функции к столбцу purpose и запись результата в столбец\n",
    "#purpose_category\n",
    "data.info() # проверка действия функции"
   ]
  },
  {
   "cell_type": "markdown",
   "id": "042e2f56",
   "metadata": {},
   "source": [
    "### Ответы на вопросы."
   ]
  },
  {
   "cell_type": "markdown",
   "id": "946e0735",
   "metadata": {},
   "source": [
    "##### Вопрос 1 Есть ли зависимость между количеством детей и возвратом кредита в срок?"
   ]
  },
  {
   "cell_type": "markdown",
   "id": "b48b6249",
   "metadata": {},
   "source": [
    "Для ответа на этот вопрос необходимо провести краткий анализ:"
   ]
  },
  {
   "cell_type": "code",
   "execution_count": 31,
   "id": "e6e7ee19",
   "metadata": {
    "scrolled": true
   },
   "outputs": [
    {
     "data": {
      "text/html": [
       "<div>\n",
       "<style scoped>\n",
       "    .dataframe tbody tr th:only-of-type {\n",
       "        vertical-align: middle;\n",
       "    }\n",
       "\n",
       "    .dataframe tbody tr th {\n",
       "        vertical-align: top;\n",
       "    }\n",
       "\n",
       "    .dataframe thead th {\n",
       "        text-align: right;\n",
       "    }\n",
       "</style>\n",
       "<table border=\"1\" class=\"dataframe\">\n",
       "  <thead>\n",
       "    <tr style=\"text-align: right;\">\n",
       "      <th></th>\n",
       "      <th>debt</th>\n",
       "    </tr>\n",
       "    <tr>\n",
       "      <th>children</th>\n",
       "      <th></th>\n",
       "    </tr>\n",
       "  </thead>\n",
       "  <tbody>\n",
       "    <tr>\n",
       "      <th>0</th>\n",
       "      <td>0.075438</td>\n",
       "    </tr>\n",
       "    <tr>\n",
       "      <th>1</th>\n",
       "      <td>0.092346</td>\n",
       "    </tr>\n",
       "    <tr>\n",
       "      <th>2</th>\n",
       "      <td>0.094542</td>\n",
       "    </tr>\n",
       "    <tr>\n",
       "      <th>3</th>\n",
       "      <td>0.081818</td>\n",
       "    </tr>\n",
       "    <tr>\n",
       "      <th>4</th>\n",
       "      <td>0.097561</td>\n",
       "    </tr>\n",
       "    <tr>\n",
       "      <th>5</th>\n",
       "      <td>0.000000</td>\n",
       "    </tr>\n",
       "    <tr>\n",
       "      <th>20</th>\n",
       "      <td>0.105263</td>\n",
       "    </tr>\n",
       "  </tbody>\n",
       "</table>\n",
       "</div>"
      ],
      "text/plain": [
       "              debt\n",
       "children          \n",
       "0         0.075438\n",
       "1         0.092346\n",
       "2         0.094542\n",
       "3         0.081818\n",
       "4         0.097561\n",
       "5         0.000000\n",
       "20        0.105263"
      ]
     },
     "metadata": {},
     "output_type": "display_data"
    }
   ],
   "source": [
    "data['counter'] = 1 # счётчик для подсчёта количества отданных и неотданных кредитов\n",
    "new = data.loc[~data['children'].isin([-1])] # удаление строк, где количество детей равно -1\n",
    "dependence_on_children=pd.pivot_table(new, # строим сводную таблицу где в качестве индекса выступает количество дет\n",
    "# а в качестве колонок имел ли задолженность по возврату кредитов\n",
    "              index=['children'],\n",
    "              values='debt',\n",
    "              aggfunc='mean')\n",
    "\n",
    "display(dependence_on_children) # вывод сводной таблицы"
   ]
  },
  {
   "cell_type": "markdown",
   "id": "7e571a5c",
   "metadata": {},
   "source": [
    "### Ответ на вопрос 1\n",
    "Так как датасет у нас достаточно большой ( более 20 тысяч строк) различие между группами даже в процент уже имеют статистическую значимость. Для проверки можем использовать критерий Хи-квадрат Пирсона. Люди у которых 3 и более детей слишком малочисленны и их выборка не показательна. Поэтому стоит смотреть только на первые 3 строки,а смотря на них мы увидим, что люди у которых есть дети чаще имеют задолженности по кредиту чем те, у кого детей нет. Из этого мы можем сделать вывод что зависимость между количеством детей и возвратом кредита в срок есть."
   ]
  },
  {
   "cell_type": "markdown",
   "id": "e309d6e9",
   "metadata": {},
   "source": [
    "#### Вопрос 2 Есть ли зависимость между семейным положением и возвратом кредита в срок?\n",
    "Ответ:"
   ]
  },
  {
   "cell_type": "code",
   "execution_count": 32,
   "id": "ed7a99b6",
   "metadata": {},
   "outputs": [
    {
     "data": {
      "text/html": [
       "<div>\n",
       "<style scoped>\n",
       "    .dataframe tbody tr th:only-of-type {\n",
       "        vertical-align: middle;\n",
       "    }\n",
       "\n",
       "    .dataframe tbody tr th {\n",
       "        vertical-align: top;\n",
       "    }\n",
       "\n",
       "    .dataframe thead th {\n",
       "        text-align: right;\n",
       "    }\n",
       "</style>\n",
       "<table border=\"1\" class=\"dataframe\">\n",
       "  <thead>\n",
       "    <tr style=\"text-align: right;\">\n",
       "      <th></th>\n",
       "      <th>debt</th>\n",
       "    </tr>\n",
       "    <tr>\n",
       "      <th>family_status_id</th>\n",
       "      <th></th>\n",
       "    </tr>\n",
       "  </thead>\n",
       "  <tbody>\n",
       "    <tr>\n",
       "      <th>0</th>\n",
       "      <td>0.075548</td>\n",
       "    </tr>\n",
       "    <tr>\n",
       "      <th>1</th>\n",
       "      <td>0.093584</td>\n",
       "    </tr>\n",
       "    <tr>\n",
       "      <th>2</th>\n",
       "      <td>0.065969</td>\n",
       "    </tr>\n",
       "    <tr>\n",
       "      <th>3</th>\n",
       "      <td>0.071369</td>\n",
       "    </tr>\n",
       "    <tr>\n",
       "      <th>4</th>\n",
       "      <td>0.097683</td>\n",
       "    </tr>\n",
       "  </tbody>\n",
       "</table>\n",
       "</div>"
      ],
      "text/plain": [
       "                      debt\n",
       "family_status_id          \n",
       "0                 0.075548\n",
       "1                 0.093584\n",
       "2                 0.065969\n",
       "3                 0.071369\n",
       "4                 0.097683"
      ]
     },
     "metadata": {},
     "output_type": "display_data"
    },
    {
     "data": {
      "text/html": [
       "<div>\n",
       "<style scoped>\n",
       "    .dataframe tbody tr th:only-of-type {\n",
       "        vertical-align: middle;\n",
       "    }\n",
       "\n",
       "    .dataframe tbody tr th {\n",
       "        vertical-align: top;\n",
       "    }\n",
       "\n",
       "    .dataframe thead th {\n",
       "        text-align: right;\n",
       "    }\n",
       "</style>\n",
       "<table border=\"1\" class=\"dataframe\">\n",
       "  <thead>\n",
       "    <tr style=\"text-align: right;\">\n",
       "      <th></th>\n",
       "      <th>женат/замужем</th>\n",
       "      <th>гражданский брат</th>\n",
       "      <th>вдовец/вдова</th>\n",
       "      <th>в разводе</th>\n",
       "      <th>не женат/не замужем</th>\n",
       "    </tr>\n",
       "  </thead>\n",
       "  <tbody>\n",
       "    <tr>\n",
       "      <th>0</th>\n",
       "      <td>0</td>\n",
       "      <td>1</td>\n",
       "      <td>2</td>\n",
       "      <td>3</td>\n",
       "      <td>4</td>\n",
       "    </tr>\n",
       "  </tbody>\n",
       "</table>\n",
       "</div>"
      ],
      "text/plain": [
       "   женат/замужем  гражданский брат  вдовец/вдова  в разводе  \\\n",
       "0              0                 1             2          3   \n",
       "\n",
       "   не женат/не замужем  \n",
       "0                    4  "
      ]
     },
     "metadata": {},
     "output_type": "display_data"
    }
   ],
   "source": [
    "dependence_on_family_status=pd.pivot_table(new, #строим сводную таблицу где в качестве индекса выступает количество дет\n",
    "#а в качестве колонок имел ли задолженность по возврату кредитов\n",
    "              index=['family_status_id'],\n",
    "              values='debt',\n",
    "              aggfunc='mean')\n",
    "display(dependence_on_family_status)\n",
    "\n",
    "\n",
    "\n",
    "display(family) # вывод датафрейма с соответсвием семейного положения к цифре"
   ]
  },
  {
   "cell_type": "markdown",
   "id": "4ea2c6c2",
   "metadata": {},
   "source": [
    "### Ответ на вопрос 2\n",
    "Как мы видим, зависимости есть и вполне логичная. Всего 7.5 % людей среди замужних имеют задолженности по кредиту. Это логично, замужние люди обычно более стабильные и устойчивые по жизни  и поэтому им можно доверять вы выдаче кредита. Далее идут люди в гражданском браке и у них 9,1 % задолженностей по кредиту, это тоже логично, ведь люди в гражданском браке ещё не настолько встали на ноги в жизни и не взаимосвязаны друг с другом как люди замужние и поэтому с меньшей вероятностью буду помогать друг другу с задолженностями по кредиту. Из третьей группы вдовцов и вдвов всего 6.5% имеют задолженности по кредиту, вдовы и вдовцы это, зачастую, люди в возрасте, им не нужно брать большие кредиты на покупку машины, квартиры и они не рискуют в своём возрасте беря огромные кредиты которые не смогут вернуть. Далее идут люди в разводе из  них 7.1% люди у которых есть задолженность, это люди которые уже аккуратнее относятся к жизни и к деньгам и поэтому меньше рискуют, беря кредиты. Ну и последние это незамужние люди, и у них больше всего тех, кто не возвращает кредиты, что тоже понятно. Молодые, неопытные, набивающие шишки люди и у них часто нехватает денег для возвращения кредита. Поэтому можно сделать вывод, что зависимость есть."
   ]
  },
  {
   "cell_type": "markdown",
   "id": "8f1b081d",
   "metadata": {},
   "source": [
    "#### Вопрос 3 Есть ли зависимость между уровнем дохода и возвратом кредита в срок?\n",
    "Ответ: "
   ]
  },
  {
   "cell_type": "code",
   "execution_count": 33,
   "id": "0c98184a",
   "metadata": {},
   "outputs": [
    {
     "data": {
      "text/html": [
       "<div>\n",
       "<style scoped>\n",
       "    .dataframe tbody tr th:only-of-type {\n",
       "        vertical-align: middle;\n",
       "    }\n",
       "\n",
       "    .dataframe tbody tr th {\n",
       "        vertical-align: top;\n",
       "    }\n",
       "\n",
       "    .dataframe thead th {\n",
       "        text-align: right;\n",
       "    }\n",
       "</style>\n",
       "<table border=\"1\" class=\"dataframe\">\n",
       "  <thead>\n",
       "    <tr style=\"text-align: right;\">\n",
       "      <th></th>\n",
       "      <th>debt</th>\n",
       "    </tr>\n",
       "    <tr>\n",
       "      <th>total_income_category</th>\n",
       "      <th></th>\n",
       "    </tr>\n",
       "  </thead>\n",
       "  <tbody>\n",
       "    <tr>\n",
       "      <th>A</th>\n",
       "      <td>0.080000</td>\n",
       "    </tr>\n",
       "    <tr>\n",
       "      <th>B</th>\n",
       "      <td>0.070733</td>\n",
       "    </tr>\n",
       "    <tr>\n",
       "      <th>C</th>\n",
       "      <td>0.085054</td>\n",
       "    </tr>\n",
       "    <tr>\n",
       "      <th>D</th>\n",
       "      <td>0.060172</td>\n",
       "    </tr>\n",
       "    <tr>\n",
       "      <th>E</th>\n",
       "      <td>0.090909</td>\n",
       "    </tr>\n",
       "  </tbody>\n",
       "</table>\n",
       "</div>"
      ],
      "text/plain": [
       "                           debt\n",
       "total_income_category          \n",
       "A                      0.080000\n",
       "B                      0.070733\n",
       "C                      0.085054\n",
       "D                      0.060172\n",
       "E                      0.090909"
      ]
     },
     "metadata": {},
     "output_type": "display_data"
    }
   ],
   "source": [
    "dependence_on_total_income_category=pd.pivot_table(new, #строим сводную таблицу где в качестве индекса выступает количество дет\n",
    "#а в качестве колонок имел ли задолженность по возврату кредитов\n",
    "              index=['total_income_category'],\n",
    "              values='debt',\n",
    "              aggfunc='mean')\n",
    "display(dependence_on_total_income_category)"
   ]
  },
  {
   "cell_type": "markdown",
   "id": "1db9b4bd",
   "metadata": {},
   "source": [
    "### Ответ на вопрос 3\n",
    "Как мы видим зависимость от уровня дохода тоже есть, однака она нелинейна. Люди из группы А и группы E слишком малочисленны поэтому они практически не оказывают влияния и их можно не учитывать. Людей из группы C больше всего и из них всех 8.5% имеют задолженности по кредитам, что логично так как этих людей больше всего и значит в них вероятнее всего будет больше тех, кто не возвращает. Далее идёт группа D которая тоже достаточно малочисленна и на неё тоже можно не обращать внимания и не считать. А вот группа B по численности нам подходит и как мы видим, в ней всего 7% людей имеют задолженности по кредитам, так как это более обеспеченные люди чем группа C и им или нет необходимости брать кредит, или они смогут его выплатить и не будут задалживать деньги банку"
   ]
  },
  {
   "cell_type": "markdown",
   "id": "d3b56b67",
   "metadata": {},
   "source": [
    "#### Вопрос 4 : Как разные цели кредита влияют на его возврат в срок?\n"
   ]
  },
  {
   "cell_type": "code",
   "execution_count": 34,
   "id": "8558835d",
   "metadata": {},
   "outputs": [
    {
     "data": {
      "text/html": [
       "<div>\n",
       "<style scoped>\n",
       "    .dataframe tbody tr th:only-of-type {\n",
       "        vertical-align: middle;\n",
       "    }\n",
       "\n",
       "    .dataframe tbody tr th {\n",
       "        vertical-align: top;\n",
       "    }\n",
       "\n",
       "    .dataframe thead th {\n",
       "        text-align: right;\n",
       "    }\n",
       "</style>\n",
       "<table border=\"1\" class=\"dataframe\">\n",
       "  <thead>\n",
       "    <tr style=\"text-align: right;\">\n",
       "      <th>debt</th>\n",
       "      <th>0</th>\n",
       "      <th>1</th>\n",
       "    </tr>\n",
       "    <tr>\n",
       "      <th>purpose_category</th>\n",
       "      <th></th>\n",
       "      <th></th>\n",
       "    </tr>\n",
       "  </thead>\n",
       "  <tbody>\n",
       "    <tr>\n",
       "      <th>операции с автомобилем</th>\n",
       "      <td>3893</td>\n",
       "      <td>402</td>\n",
       "    </tr>\n",
       "    <tr>\n",
       "      <th>операции с недвижимостью</th>\n",
       "      <td>10005</td>\n",
       "      <td>782</td>\n",
       "    </tr>\n",
       "    <tr>\n",
       "      <th>получение образования</th>\n",
       "      <td>3633</td>\n",
       "      <td>370</td>\n",
       "    </tr>\n",
       "    <tr>\n",
       "      <th>проведение свадьбы</th>\n",
       "      <td>2136</td>\n",
       "      <td>186</td>\n",
       "    </tr>\n",
       "  </tbody>\n",
       "</table>\n",
       "</div>"
      ],
      "text/plain": [
       "debt                          0    1\n",
       "purpose_category                    \n",
       "операции с автомобилем     3893  402\n",
       "операции с недвижимостью  10005  782\n",
       "получение образования      3633  370\n",
       "проведение свадьбы         2136  186"
      ]
     },
     "metadata": {},
     "output_type": "display_data"
    },
    {
     "data": {
      "text/html": [
       "<div>\n",
       "<style scoped>\n",
       "    .dataframe tbody tr th:only-of-type {\n",
       "        vertical-align: middle;\n",
       "    }\n",
       "\n",
       "    .dataframe tbody tr th {\n",
       "        vertical-align: top;\n",
       "    }\n",
       "\n",
       "    .dataframe thead th {\n",
       "        text-align: right;\n",
       "    }\n",
       "</style>\n",
       "<table border=\"1\" class=\"dataframe\">\n",
       "  <thead>\n",
       "    <tr style=\"text-align: right;\">\n",
       "      <th></th>\n",
       "      <th>debt</th>\n",
       "    </tr>\n",
       "    <tr>\n",
       "      <th>purpose_category</th>\n",
       "      <th></th>\n",
       "    </tr>\n",
       "  </thead>\n",
       "  <tbody>\n",
       "    <tr>\n",
       "      <th>операции с автомобилем</th>\n",
       "      <td>0.093597</td>\n",
       "    </tr>\n",
       "    <tr>\n",
       "      <th>операции с недвижимостью</th>\n",
       "      <td>0.072495</td>\n",
       "    </tr>\n",
       "    <tr>\n",
       "      <th>получение образования</th>\n",
       "      <td>0.092431</td>\n",
       "    </tr>\n",
       "    <tr>\n",
       "      <th>проведение свадьбы</th>\n",
       "      <td>0.080103</td>\n",
       "    </tr>\n",
       "  </tbody>\n",
       "</table>\n",
       "</div>"
      ],
      "text/plain": [
       "                              debt\n",
       "purpose_category                  \n",
       "операции с автомобилем    0.093597\n",
       "операции с недвижимостью  0.072495\n",
       "получение образования     0.092431\n",
       "проведение свадьбы        0.080103"
      ]
     },
     "metadata": {},
     "output_type": "display_data"
    }
   ],
   "source": [
    "dependence_on_purpose_category=pd.pivot_table(new, #строим сводную таблицу где в качестве индекса выступает количество дет\n",
    "#а в качестве колонок имел ли задолженность по возврату кредитов\n",
    "              index=['purpose_category'],\n",
    "              columns=['debt'],\n",
    "              aggfunc=sum)\n",
    "display(dependence_on_purpose_category['counter'])\n",
    "\n",
    "dependence_on_purpose_category=pd.pivot_table(new, #строим сводную таблицу где в качестве индекса выступает количество дет\n",
    "#а в качестве колонок имел ли задолженность по возврату кредитов\n",
    "              index=['purpose_category'],\n",
    "              values='debt',\n",
    "              aggfunc='mean')\n",
    "display(dependence_on_purpose_category)"
   ]
  },
  {
   "cell_type": "markdown",
   "id": "f250a32f",
   "metadata": {},
   "source": [
    "### Ответ на вопрос 4\n",
    "Здесь зависимость тоже вполне явная. Люди берущие кредит на недвижимость реже имеют проблемы с его возвратом, что логично, скорее всего они более осознанно подходят к жизни и поэтому берут деньги на недвижимость. Потом идёт самая малочисленная категория, люди которые берут кредит на проведение свадьбы, эти люди в 8% случаев не имеют задолженности по кредиту, что уже больше чем у людей, покупающих недвижимость. Скорее всего это молодые люди и поэтому у них могут быть проблемы с деньгами. Далее люди которым требуются деньги для операций с автомоблями и на получение образования примерно в равной доле имеют задолженности, это 9.2 и 9.3 процентов.Люди которые берут кредит на автомобиль или на получение образования скорее всего малоимущие по причине возраста или ещё какой-либо причине, поэтому вполне логично, что они чаще не могут вернуть кредит."
   ]
  },
  {
   "cell_type": "markdown",
   "id": "a68a6ecd",
   "metadata": {},
   "source": [
    "## Общий вывод"
   ]
  },
  {
   "cell_type": "markdown",
   "id": "d5cfbd34",
   "metadata": {},
   "source": [
    "Проанализировав данный датасет, можно сказать, что наличие долгов по кредитам у людей определяется большим количеством факторов в отдельности, и уж тем более определяется комбинацией этих факторов и можно с большой долей уверенности сказать, что замужние люди, без детей, с заработком от 200 000 до 1 000 000, берущие кредит на покупку квартиры вернут кредит, нежели неженатые, с 2-мя детьми, с заработком от 50 000 до 200 000 которые берут кредит на покупку автомобиля."
   ]
  }
 ],
 "metadata": {
  "ExecuteTimeLog": [
   {
    "duration": 813,
    "start_time": "2022-04-05T17:06:04.876Z"
   },
   {
    "duration": 84,
    "start_time": "2022-04-05T17:06:18.647Z"
   },
   {
    "duration": 120,
    "start_time": "2022-04-05T17:09:14.033Z"
   },
   {
    "duration": 71,
    "start_time": "2022-04-05T17:09:34.805Z"
   },
   {
    "duration": 71,
    "start_time": "2022-04-05T17:09:39.843Z"
   },
   {
    "duration": 137,
    "start_time": "2022-04-05T17:09:47.559Z"
   },
   {
    "duration": 109,
    "start_time": "2022-04-05T17:09:50.284Z"
   },
   {
    "duration": 4,
    "start_time": "2022-04-05T17:10:01.011Z"
   },
   {
    "duration": 112,
    "start_time": "2022-04-05T17:10:04.002Z"
   },
   {
    "duration": 84,
    "start_time": "2022-04-05T17:10:41.056Z"
   },
   {
    "duration": 213,
    "start_time": "2022-04-05T17:11:28.635Z"
   },
   {
    "duration": 99,
    "start_time": "2022-04-05T17:11:46.328Z"
   },
   {
    "duration": 94,
    "start_time": "2022-04-05T17:11:53.387Z"
   },
   {
    "duration": 100,
    "start_time": "2022-04-05T17:12:01.731Z"
   },
   {
    "duration": 94,
    "start_time": "2022-04-05T17:12:08.489Z"
   },
   {
    "duration": 110,
    "start_time": "2022-04-05T17:12:17.520Z"
   },
   {
    "duration": 92,
    "start_time": "2022-04-05T17:12:29.002Z"
   },
   {
    "duration": 96,
    "start_time": "2022-04-05T17:13:08.227Z"
   },
   {
    "duration": 111,
    "start_time": "2022-04-05T17:13:29.027Z"
   },
   {
    "duration": 90,
    "start_time": "2022-04-05T17:13:55.814Z"
   },
   {
    "duration": 90,
    "start_time": "2022-04-05T17:14:08.266Z"
   },
   {
    "duration": 111,
    "start_time": "2022-04-05T17:14:21.109Z"
   },
   {
    "duration": 93,
    "start_time": "2022-04-05T17:15:51.895Z"
   },
   {
    "duration": 111,
    "start_time": "2022-04-05T17:16:01.412Z"
   },
   {
    "duration": 97,
    "start_time": "2022-04-05T17:16:13.961Z"
   },
   {
    "duration": 94,
    "start_time": "2022-04-05T17:16:21.981Z"
   },
   {
    "duration": 88,
    "start_time": "2022-04-05T17:44:48.845Z"
   },
   {
    "duration": 2168,
    "start_time": "2022-04-05T17:44:58.975Z"
   },
   {
    "duration": 71,
    "start_time": "2022-04-05T17:45:07.818Z"
   },
   {
    "duration": 74,
    "start_time": "2022-04-05T17:45:35.523Z"
   },
   {
    "duration": 72,
    "start_time": "2022-04-05T17:45:45.317Z"
   },
   {
    "duration": 79,
    "start_time": "2022-04-05T17:45:51.802Z"
   },
   {
    "duration": 92,
    "start_time": "2022-04-05T17:46:00.674Z"
   },
   {
    "duration": 79,
    "start_time": "2022-04-05T17:47:01.605Z"
   },
   {
    "duration": 74,
    "start_time": "2022-04-05T17:47:05.466Z"
   },
   {
    "duration": 74,
    "start_time": "2022-04-05T17:47:10.551Z"
   },
   {
    "duration": 81,
    "start_time": "2022-04-05T17:47:18.161Z"
   },
   {
    "duration": 73,
    "start_time": "2022-04-05T17:47:29.140Z"
   },
   {
    "duration": 72,
    "start_time": "2022-04-05T17:47:46.977Z"
   },
   {
    "duration": 73,
    "start_time": "2022-04-05T17:48:04.867Z"
   },
   {
    "duration": 73,
    "start_time": "2022-04-05T17:48:11.561Z"
   },
   {
    "duration": 71,
    "start_time": "2022-04-05T17:48:27.004Z"
   },
   {
    "duration": 93,
    "start_time": "2022-04-05T17:48:32.058Z"
   },
   {
    "duration": 74,
    "start_time": "2022-04-05T17:48:41.663Z"
   },
   {
    "duration": 95,
    "start_time": "2022-04-05T17:49:52.713Z"
   },
   {
    "duration": 72,
    "start_time": "2022-04-05T17:50:10.674Z"
   },
   {
    "duration": 114,
    "start_time": "2022-04-05T17:50:19.338Z"
   },
   {
    "duration": 69,
    "start_time": "2022-04-05T17:50:26.078Z"
   },
   {
    "duration": 77,
    "start_time": "2022-04-05T17:52:07.490Z"
   },
   {
    "duration": 74,
    "start_time": "2022-04-05T17:52:19.502Z"
   },
   {
    "duration": 72,
    "start_time": "2022-04-05T17:53:36.839Z"
   },
   {
    "duration": 100,
    "start_time": "2022-04-05T17:57:35.894Z"
   },
   {
    "duration": 72,
    "start_time": "2022-04-05T17:57:46.071Z"
   },
   {
    "duration": 70,
    "start_time": "2022-04-05T17:58:16.925Z"
   },
   {
    "duration": 72,
    "start_time": "2022-04-05T17:58:57.409Z"
   },
   {
    "duration": 72,
    "start_time": "2022-04-05T17:59:04.619Z"
   },
   {
    "duration": 70,
    "start_time": "2022-04-05T17:59:35.447Z"
   },
   {
    "duration": 75,
    "start_time": "2022-04-05T17:59:54.136Z"
   },
   {
    "duration": 86,
    "start_time": "2022-04-05T17:59:59.546Z"
   },
   {
    "duration": 88,
    "start_time": "2022-04-05T18:00:20.249Z"
   },
   {
    "duration": 93,
    "start_time": "2022-04-05T18:01:04.123Z"
   },
   {
    "duration": 88,
    "start_time": "2022-04-05T18:01:25.091Z"
   },
   {
    "duration": 89,
    "start_time": "2022-04-05T18:04:42.378Z"
   },
   {
    "duration": 83,
    "start_time": "2022-04-05T18:05:08.214Z"
   },
   {
    "duration": 79,
    "start_time": "2022-04-05T18:05:25.802Z"
   },
   {
    "duration": 80,
    "start_time": "2022-04-05T18:05:33.606Z"
   },
   {
    "duration": 79,
    "start_time": "2022-04-05T18:06:06.481Z"
   },
   {
    "duration": 99,
    "start_time": "2022-04-05T18:06:13.270Z"
   },
   {
    "duration": 101,
    "start_time": "2022-04-05T18:06:25.682Z"
   },
   {
    "duration": 83,
    "start_time": "2022-04-05T18:08:22.796Z"
   },
   {
    "duration": 83,
    "start_time": "2022-04-05T18:12:48.582Z"
   },
   {
    "duration": 22,
    "start_time": "2022-04-05T18:14:18.587Z"
   },
   {
    "duration": 18,
    "start_time": "2022-04-05T18:14:23.700Z"
   },
   {
    "duration": 18,
    "start_time": "2022-04-05T18:16:29.197Z"
   },
   {
    "duration": 91,
    "start_time": "2022-04-05T18:16:40.301Z"
   },
   {
    "duration": 22,
    "start_time": "2022-04-05T18:16:42.657Z"
   },
   {
    "duration": 21,
    "start_time": "2022-04-05T18:17:47.967Z"
   },
   {
    "duration": 21,
    "start_time": "2022-04-05T18:19:16.529Z"
   },
   {
    "duration": 92,
    "start_time": "2022-04-05T18:19:21.214Z"
   },
   {
    "duration": 23,
    "start_time": "2022-04-05T18:19:22.764Z"
   },
   {
    "duration": 22,
    "start_time": "2022-04-05T18:21:05.063Z"
   },
   {
    "duration": 23,
    "start_time": "2022-04-05T18:21:14.798Z"
   },
   {
    "duration": 23,
    "start_time": "2022-04-05T18:21:21.697Z"
   },
   {
    "duration": 25,
    "start_time": "2022-04-05T18:21:32.075Z"
   },
   {
    "duration": 21,
    "start_time": "2022-04-05T18:21:52.487Z"
   },
   {
    "duration": 23,
    "start_time": "2022-04-05T18:21:55.310Z"
   },
   {
    "duration": 21,
    "start_time": "2022-04-05T18:22:05.658Z"
   },
   {
    "duration": 23,
    "start_time": "2022-04-05T18:22:18.234Z"
   },
   {
    "duration": 19,
    "start_time": "2022-04-05T18:23:54.823Z"
   },
   {
    "duration": 20,
    "start_time": "2022-04-05T18:24:58.219Z"
   },
   {
    "duration": 101,
    "start_time": "2022-04-05T18:25:06.466Z"
   },
   {
    "duration": 20,
    "start_time": "2022-04-05T18:25:07.650Z"
   },
   {
    "duration": 20,
    "start_time": "2022-04-05T18:25:53.514Z"
   },
   {
    "duration": 20,
    "start_time": "2022-04-05T18:26:03.359Z"
   },
   {
    "duration": 104,
    "start_time": "2022-04-05T18:27:03.295Z"
   },
   {
    "duration": 101,
    "start_time": "2022-04-05T18:29:38.387Z"
   },
   {
    "duration": 137,
    "start_time": "2022-04-05T18:29:46.385Z"
   },
   {
    "duration": 20,
    "start_time": "2022-04-05T18:41:09.106Z"
   },
   {
    "duration": 7,
    "start_time": "2022-04-05T18:49:10.394Z"
   },
   {
    "duration": 133,
    "start_time": "2022-04-05T18:49:55.136Z"
   },
   {
    "duration": 175,
    "start_time": "2022-04-05T18:53:33.987Z"
   },
   {
    "duration": 5,
    "start_time": "2022-04-05T18:53:42.607Z"
   },
   {
    "duration": 138,
    "start_time": "2022-04-05T18:53:57.564Z"
   },
   {
    "duration": 19,
    "start_time": "2022-04-05T18:54:14.652Z"
   },
   {
    "duration": 133,
    "start_time": "2022-04-05T18:54:31.030Z"
   },
   {
    "duration": 7,
    "start_time": "2022-04-05T18:55:53.387Z"
   },
   {
    "duration": 24466,
    "start_time": "2022-04-05T18:56:24.992Z"
   },
   {
    "duration": 27,
    "start_time": "2022-04-05T18:57:36.498Z"
   },
   {
    "duration": 155,
    "start_time": "2022-04-05T19:02:56.468Z"
   },
   {
    "duration": 15,
    "start_time": "2022-04-05T19:03:03.505Z"
   },
   {
    "duration": 28,
    "start_time": "2022-04-05T19:08:36.435Z"
   },
   {
    "duration": 15,
    "start_time": "2022-04-05T19:11:21.214Z"
   },
   {
    "duration": 32,
    "start_time": "2022-04-05T19:11:40.353Z"
   },
   {
    "duration": 120,
    "start_time": "2022-04-05T19:13:59.508Z"
   },
   {
    "duration": 125,
    "start_time": "2022-04-05T19:15:49.094Z"
   },
   {
    "duration": 3862,
    "start_time": "2022-04-05T19:16:19.962Z"
   },
   {
    "duration": 122,
    "start_time": "2022-04-05T19:16:36.413Z"
   },
   {
    "duration": 128,
    "start_time": "2022-04-05T19:17:02.012Z"
   },
   {
    "duration": 112,
    "start_time": "2022-04-05T19:17:05.404Z"
   },
   {
    "duration": 20,
    "start_time": "2022-04-05T19:17:06.040Z"
   },
   {
    "duration": 120,
    "start_time": "2022-04-05T19:17:09.408Z"
   },
   {
    "duration": 119,
    "start_time": "2022-04-05T19:19:16.711Z"
   },
   {
    "duration": 124,
    "start_time": "2022-04-05T19:19:40.904Z"
   },
   {
    "duration": 132,
    "start_time": "2022-04-05T19:19:46.899Z"
   },
   {
    "duration": 12,
    "start_time": "2022-04-05T19:19:57.350Z"
   },
   {
    "duration": 126,
    "start_time": "2022-04-05T19:21:31.530Z"
   },
   {
    "duration": 176,
    "start_time": "2022-04-05T19:22:00.307Z"
   },
   {
    "duration": 12,
    "start_time": "2022-04-05T19:22:05.470Z"
   },
   {
    "duration": 13,
    "start_time": "2022-04-05T19:24:16.475Z"
   },
   {
    "duration": 13,
    "start_time": "2022-04-05T19:24:31.699Z"
   },
   {
    "duration": 12,
    "start_time": "2022-04-05T19:24:41.660Z"
   },
   {
    "duration": 13,
    "start_time": "2022-04-05T19:25:31.356Z"
   },
   {
    "duration": 3658,
    "start_time": "2022-04-05T19:25:35.341Z"
   },
   {
    "duration": 14,
    "start_time": "2022-04-05T19:25:57.918Z"
   },
   {
    "duration": 12,
    "start_time": "2022-04-05T19:26:05.558Z"
   },
   {
    "duration": 12,
    "start_time": "2022-04-05T19:26:10.650Z"
   },
   {
    "duration": 16,
    "start_time": "2022-04-05T19:28:51.407Z"
   },
   {
    "duration": 1623,
    "start_time": "2022-04-05T19:29:42.764Z"
   },
   {
    "duration": 16,
    "start_time": "2022-04-05T19:30:18.055Z"
   },
   {
    "duration": 16,
    "start_time": "2022-04-05T19:30:24.897Z"
   },
   {
    "duration": 16,
    "start_time": "2022-04-05T19:30:31.176Z"
   },
   {
    "duration": 107,
    "start_time": "2022-04-05T19:30:34.023Z"
   },
   {
    "duration": 21,
    "start_time": "2022-04-05T19:30:34.515Z"
   },
   {
    "duration": 17,
    "start_time": "2022-04-05T19:30:44.853Z"
   },
   {
    "duration": 25,
    "start_time": "2022-04-05T19:33:54.101Z"
   },
   {
    "duration": 30,
    "start_time": "2022-04-05T19:34:01.506Z"
   },
   {
    "duration": 21,
    "start_time": "2022-04-05T19:34:31.317Z"
   },
   {
    "duration": 116,
    "start_time": "2022-04-05T19:34:34.925Z"
   },
   {
    "duration": 20,
    "start_time": "2022-04-05T19:34:35.606Z"
   },
   {
    "duration": 24,
    "start_time": "2022-04-05T19:34:36.784Z"
   },
   {
    "duration": 658,
    "start_time": "2022-04-05T19:35:32.231Z"
   },
   {
    "duration": 521,
    "start_time": "2022-04-05T19:35:49.756Z"
   },
   {
    "duration": 471,
    "start_time": "2022-04-05T19:35:56.337Z"
   },
   {
    "duration": 29,
    "start_time": "2022-04-05T19:36:06.817Z"
   },
   {
    "duration": 21,
    "start_time": "2022-04-05T19:37:12.738Z"
   },
   {
    "duration": 21,
    "start_time": "2022-04-05T19:37:29.326Z"
   },
   {
    "duration": 2005,
    "start_time": "2022-04-05T19:38:21.276Z"
   },
   {
    "duration": 102,
    "start_time": "2022-04-05T19:38:50.592Z"
   },
   {
    "duration": 26,
    "start_time": "2022-04-05T19:38:51.470Z"
   },
   {
    "duration": 2114,
    "start_time": "2022-04-05T19:38:52.592Z"
   },
   {
    "duration": 2121,
    "start_time": "2022-04-05T19:39:05.187Z"
   },
   {
    "duration": 127,
    "start_time": "2022-04-05T19:41:02.252Z"
   },
   {
    "duration": 1990,
    "start_time": "2022-04-05T19:41:09.866Z"
   },
   {
    "duration": 2016,
    "start_time": "2022-04-05T19:41:31.227Z"
   },
   {
    "duration": 1971,
    "start_time": "2022-04-05T19:41:35.880Z"
   },
   {
    "duration": 2359,
    "start_time": "2022-04-05T19:43:32.324Z"
   },
   {
    "duration": 2028,
    "start_time": "2022-04-05T19:43:55.679Z"
   },
   {
    "duration": 1997,
    "start_time": "2022-04-05T19:44:06.724Z"
   },
   {
    "duration": 2021,
    "start_time": "2022-04-05T19:46:42.284Z"
   },
   {
    "duration": 97,
    "start_time": "2022-04-05T19:47:05.050Z"
   },
   {
    "duration": 21,
    "start_time": "2022-04-05T19:47:05.913Z"
   },
   {
    "duration": 2503,
    "start_time": "2022-04-05T19:47:07.640Z"
   },
   {
    "duration": 2657,
    "start_time": "2022-04-05T19:48:09.209Z"
   },
   {
    "duration": 2564,
    "start_time": "2022-04-05T19:48:32.753Z"
   },
   {
    "duration": 118,
    "start_time": "2022-04-05T19:49:00.656Z"
   },
   {
    "duration": 96,
    "start_time": "2022-04-05T19:49:08.081Z"
   },
   {
    "duration": 2601,
    "start_time": "2022-04-05T19:49:42.346Z"
   },
   {
    "duration": 0,
    "start_time": "2022-04-05T19:50:29.595Z"
   },
   {
    "duration": 0,
    "start_time": "2022-04-05T19:50:29.597Z"
   },
   {
    "duration": 0,
    "start_time": "2022-04-05T19:50:29.599Z"
   },
   {
    "duration": 152,
    "start_time": "2022-04-05T19:50:32.045Z"
   },
   {
    "duration": 26,
    "start_time": "2022-04-05T19:50:34.994Z"
   },
   {
    "duration": 45,
    "start_time": "2022-04-05T19:50:36.507Z"
   },
   {
    "duration": 45,
    "start_time": "2022-04-05T19:51:22.639Z"
   },
   {
    "duration": 54,
    "start_time": "2022-04-05T19:51:47.863Z"
   },
   {
    "duration": 4,
    "start_time": "2022-04-05T19:53:03.387Z"
   },
   {
    "duration": 5,
    "start_time": "2022-04-05T19:53:07.618Z"
   },
   {
    "duration": 32,
    "start_time": "2022-04-05T19:55:00.109Z"
   },
   {
    "duration": 41,
    "start_time": "2022-04-05T19:55:20.510Z"
   },
   {
    "duration": 106,
    "start_time": "2022-04-05T19:55:35.167Z"
   },
   {
    "duration": 20,
    "start_time": "2022-04-05T19:55:36.239Z"
   },
   {
    "duration": 51,
    "start_time": "2022-04-05T19:55:37.284Z"
   },
   {
    "duration": 23,
    "start_time": "2022-04-05T19:56:50.769Z"
   },
   {
    "duration": 98,
    "start_time": "2022-04-05T19:57:07.720Z"
   },
   {
    "duration": 92,
    "start_time": "2022-04-05T19:57:08.517Z"
   },
   {
    "duration": 25,
    "start_time": "2022-04-05T19:57:09.785Z"
   },
   {
    "duration": 96,
    "start_time": "2022-04-05T19:58:58.736Z"
   },
   {
    "duration": 20,
    "start_time": "2022-04-05T19:58:59.684Z"
   },
   {
    "duration": 35,
    "start_time": "2022-04-05T19:59:43.747Z"
   },
   {
    "duration": 27,
    "start_time": "2022-04-05T19:59:49.590Z"
   },
   {
    "duration": 137,
    "start_time": "2022-04-05T19:59:59.697Z"
   },
   {
    "duration": 23,
    "start_time": "2022-04-05T20:00:03.433Z"
   },
   {
    "duration": 104,
    "start_time": "2022-04-05T20:00:15.003Z"
   },
   {
    "duration": 23,
    "start_time": "2022-04-05T20:00:22.531Z"
   },
   {
    "duration": 51,
    "start_time": "2022-04-05T20:00:24.318Z"
   },
   {
    "duration": 99,
    "start_time": "2022-04-05T20:01:26.376Z"
   },
   {
    "duration": 21,
    "start_time": "2022-04-05T20:01:27.380Z"
   },
   {
    "duration": 52,
    "start_time": "2022-04-05T20:01:28.649Z"
   },
   {
    "duration": 143,
    "start_time": "2022-04-05T20:01:58.081Z"
   },
   {
    "duration": 24,
    "start_time": "2022-04-05T20:01:59.010Z"
   },
   {
    "duration": 53,
    "start_time": "2022-04-05T20:02:00.148Z"
   },
   {
    "duration": 133,
    "start_time": "2022-04-05T20:03:09.551Z"
   },
   {
    "duration": 157,
    "start_time": "2022-04-05T20:03:20.012Z"
   },
   {
    "duration": 46,
    "start_time": "2022-04-05T20:03:23.256Z"
   },
   {
    "duration": 101,
    "start_time": "2022-04-05T20:03:37.772Z"
   },
   {
    "duration": 21,
    "start_time": "2022-04-05T20:03:38.596Z"
   },
   {
    "duration": 56,
    "start_time": "2022-04-05T20:03:39.850Z"
   },
   {
    "duration": 149,
    "start_time": "2022-04-05T20:04:56.391Z"
   },
   {
    "duration": 27,
    "start_time": "2022-04-05T20:04:57.473Z"
   },
   {
    "duration": 56,
    "start_time": "2022-04-05T20:04:58.746Z"
   },
   {
    "duration": 10,
    "start_time": "2022-04-05T20:22:05.644Z"
   },
   {
    "duration": 103,
    "start_time": "2022-04-05T20:22:11.495Z"
   },
   {
    "duration": 9,
    "start_time": "2022-04-05T20:22:17.899Z"
   },
   {
    "duration": 554,
    "start_time": "2022-04-06T07:12:10.628Z"
   },
   {
    "duration": 17,
    "start_time": "2022-04-06T07:12:12.471Z"
   },
   {
    "duration": 42,
    "start_time": "2022-04-06T07:12:16.438Z"
   },
   {
    "duration": 145,
    "start_time": "2022-04-06T07:15:32.800Z"
   },
   {
    "duration": 91,
    "start_time": "2022-04-06T07:18:27.378Z"
   },
   {
    "duration": 15,
    "start_time": "2022-04-06T07:18:28.597Z"
   },
   {
    "duration": 27,
    "start_time": "2022-04-06T07:18:30.132Z"
   },
   {
    "duration": 91,
    "start_time": "2022-04-06T07:23:47.840Z"
   },
   {
    "duration": 16,
    "start_time": "2022-04-06T07:23:48.794Z"
   },
   {
    "duration": 2844,
    "start_time": "2022-04-06T07:23:49.936Z"
   },
   {
    "duration": 85,
    "start_time": "2022-04-06T07:24:05.594Z"
   },
   {
    "duration": 17,
    "start_time": "2022-04-06T07:24:05.976Z"
   },
   {
    "duration": 2348,
    "start_time": "2022-04-06T07:24:06.730Z"
   },
   {
    "duration": 1567,
    "start_time": "2022-04-06T07:24:20.335Z"
   },
   {
    "duration": 15,
    "start_time": "2022-04-06T07:24:21.904Z"
   },
   {
    "duration": 37,
    "start_time": "2022-04-06T07:24:21.932Z"
   },
   {
    "duration": 29,
    "start_time": "2022-04-06T07:24:51.553Z"
   },
   {
    "duration": 82,
    "start_time": "2022-04-06T07:24:57.010Z"
   },
   {
    "duration": 15,
    "start_time": "2022-04-06T07:24:57.481Z"
   },
   {
    "duration": 37,
    "start_time": "2022-04-06T07:24:58.562Z"
   },
   {
    "duration": 35,
    "start_time": "2022-04-06T07:27:38.460Z"
   },
   {
    "duration": 4,
    "start_time": "2022-04-06T07:36:37.793Z"
   },
   {
    "duration": 160,
    "start_time": "2022-04-06T07:36:56.423Z"
   },
   {
    "duration": 3,
    "start_time": "2022-04-06T07:36:59.780Z"
   },
   {
    "duration": 161,
    "start_time": "2022-04-06T07:37:05.787Z"
   },
   {
    "duration": 14,
    "start_time": "2022-04-06T07:37:06.554Z"
   },
   {
    "duration": 29,
    "start_time": "2022-04-06T07:37:07.368Z"
   },
   {
    "duration": 147,
    "start_time": "2022-04-06T07:37:08.705Z"
   },
   {
    "duration": 5,
    "start_time": "2022-04-06T07:37:12.796Z"
   },
   {
    "duration": 16,
    "start_time": "2022-04-06T07:37:32.144Z"
   },
   {
    "duration": 18,
    "start_time": "2022-04-06T07:38:53.922Z"
   },
   {
    "duration": 15,
    "start_time": "2022-04-06T07:39:19.878Z"
   },
   {
    "duration": 10,
    "start_time": "2022-04-06T07:39:26.314Z"
   },
   {
    "duration": 19,
    "start_time": "2022-04-06T07:39:30.957Z"
   },
   {
    "duration": 17,
    "start_time": "2022-04-06T07:39:36.287Z"
   },
   {
    "duration": 163,
    "start_time": "2022-04-06T07:39:47.329Z"
   },
   {
    "duration": 88,
    "start_time": "2022-04-06T07:39:50.144Z"
   },
   {
    "duration": 15,
    "start_time": "2022-04-06T07:39:51.606Z"
   },
   {
    "duration": 39,
    "start_time": "2022-04-06T07:39:51.909Z"
   },
   {
    "duration": 17,
    "start_time": "2022-04-06T07:39:53.308Z"
   },
   {
    "duration": 11,
    "start_time": "2022-04-06T07:44:06.825Z"
   },
   {
    "duration": 81,
    "start_time": "2022-04-06T07:44:19.540Z"
   },
   {
    "duration": 84,
    "start_time": "2022-04-06T07:44:22.692Z"
   },
   {
    "duration": 19,
    "start_time": "2022-04-06T07:44:23.577Z"
   },
   {
    "duration": 34,
    "start_time": "2022-04-06T07:44:23.971Z"
   },
   {
    "duration": 17,
    "start_time": "2022-04-06T07:44:24.823Z"
   },
   {
    "duration": 12,
    "start_time": "2022-04-06T07:44:26.044Z"
   },
   {
    "duration": 16,
    "start_time": "2022-04-06T07:44:29.401Z"
   },
   {
    "duration": 108,
    "start_time": "2022-04-06T07:44:42.533Z"
   },
   {
    "duration": 85,
    "start_time": "2022-04-06T07:44:50.464Z"
   },
   {
    "duration": 15,
    "start_time": "2022-04-06T07:44:50.918Z"
   },
   {
    "duration": 36,
    "start_time": "2022-04-06T07:44:51.700Z"
   },
   {
    "duration": 17,
    "start_time": "2022-04-06T07:44:52.406Z"
   },
   {
    "duration": 15,
    "start_time": "2022-04-06T07:45:00.638Z"
   },
   {
    "duration": 25,
    "start_time": "2022-04-06T07:45:48.086Z"
   },
   {
    "duration": 83,
    "start_time": "2022-04-06T07:45:51.479Z"
   },
   {
    "duration": 15,
    "start_time": "2022-04-06T07:45:52.038Z"
   },
   {
    "duration": 28,
    "start_time": "2022-04-06T07:45:52.779Z"
   },
   {
    "duration": 16,
    "start_time": "2022-04-06T07:45:57.659Z"
   },
   {
    "duration": 15,
    "start_time": "2022-04-06T07:45:58.794Z"
   },
   {
    "duration": 81,
    "start_time": "2022-04-06T07:46:46.775Z"
   },
   {
    "duration": 15,
    "start_time": "2022-04-06T07:46:47.360Z"
   },
   {
    "duration": 26,
    "start_time": "2022-04-06T07:46:47.881Z"
   },
   {
    "duration": 19,
    "start_time": "2022-04-06T07:46:49.626Z"
   },
   {
    "duration": 30,
    "start_time": "2022-04-06T07:46:50.688Z"
   },
   {
    "duration": 94,
    "start_time": "2022-04-06T07:47:51.581Z"
   },
   {
    "duration": 16,
    "start_time": "2022-04-06T07:47:51.678Z"
   },
   {
    "duration": 51,
    "start_time": "2022-04-06T07:47:51.882Z"
   },
   {
    "duration": 35,
    "start_time": "2022-04-06T07:47:55.693Z"
   },
   {
    "duration": 31,
    "start_time": "2022-04-06T07:48:03.880Z"
   },
   {
    "duration": 110,
    "start_time": "2022-04-06T07:49:26.850Z"
   },
   {
    "duration": 17,
    "start_time": "2022-04-06T07:49:27.262Z"
   },
   {
    "duration": 40,
    "start_time": "2022-04-06T07:49:27.656Z"
   },
   {
    "duration": 17,
    "start_time": "2022-04-06T07:49:28.260Z"
   },
   {
    "duration": 15,
    "start_time": "2022-04-06T07:49:29.305Z"
   },
   {
    "duration": 85,
    "start_time": "2022-04-06T07:49:36.761Z"
   },
   {
    "duration": 17,
    "start_time": "2022-04-06T07:49:37.183Z"
   },
   {
    "duration": 25,
    "start_time": "2022-04-06T07:49:37.618Z"
   },
   {
    "duration": 17,
    "start_time": "2022-04-06T07:49:38.272Z"
   },
   {
    "duration": 17,
    "start_time": "2022-04-06T07:49:39.291Z"
   },
   {
    "duration": 93,
    "start_time": "2022-04-06T07:52:45.924Z"
   },
   {
    "duration": 15,
    "start_time": "2022-04-06T07:52:46.725Z"
   },
   {
    "duration": 26,
    "start_time": "2022-04-06T07:52:47.547Z"
   },
   {
    "duration": 17,
    "start_time": "2022-04-06T07:52:49.031Z"
   },
   {
    "duration": 16,
    "start_time": "2022-04-06T07:52:50.515Z"
   },
   {
    "duration": 13,
    "start_time": "2022-04-06T07:53:11.871Z"
   },
   {
    "duration": 15,
    "start_time": "2022-04-06T07:53:40.654Z"
   },
   {
    "duration": 2374,
    "start_time": "2022-04-06T07:54:29.404Z"
   },
   {
    "duration": 15,
    "start_time": "2022-04-06T07:54:38.448Z"
   },
   {
    "duration": 16,
    "start_time": "2022-04-06T07:54:40.804Z"
   },
   {
    "duration": 16,
    "start_time": "2022-04-06T07:54:51.409Z"
   },
   {
    "duration": 16,
    "start_time": "2022-04-06T07:54:51.967Z"
   },
   {
    "duration": 2251,
    "start_time": "2022-04-06T07:55:16.871Z"
   },
   {
    "duration": 20,
    "start_time": "2022-04-06T07:55:26.333Z"
   },
   {
    "duration": 46,
    "start_time": "2022-04-06T07:56:36.238Z"
   },
   {
    "duration": 69,
    "start_time": "2022-04-06T07:56:56.744Z"
   },
   {
    "duration": 31,
    "start_time": "2022-04-06T07:58:21.122Z"
   },
   {
    "duration": 32,
    "start_time": "2022-04-06T07:58:59.603Z"
   },
   {
    "duration": 30,
    "start_time": "2022-04-06T07:59:05.195Z"
   },
   {
    "duration": 60,
    "start_time": "2022-04-06T07:59:33.107Z"
   },
   {
    "duration": 470,
    "start_time": "2022-04-06T18:18:32.806Z"
   },
   {
    "duration": 16,
    "start_time": "2022-04-06T18:18:33.294Z"
   },
   {
    "duration": 24,
    "start_time": "2022-04-06T18:18:34.096Z"
   },
   {
    "duration": 15,
    "start_time": "2022-04-06T18:18:35.546Z"
   },
   {
    "duration": 60,
    "start_time": "2022-04-06T18:18:36.446Z"
   },
   {
    "duration": 58,
    "start_time": "2022-04-06T18:18:47.924Z"
   },
   {
    "duration": 61,
    "start_time": "2022-04-06T18:18:59.496Z"
   },
   {
    "duration": 56,
    "start_time": "2022-04-06T18:19:04.139Z"
   },
   {
    "duration": 55,
    "start_time": "2022-04-06T18:19:14.118Z"
   },
   {
    "duration": 12,
    "start_time": "2022-04-06T18:24:19.894Z"
   },
   {
    "duration": 3,
    "start_time": "2022-04-06T18:26:41.419Z"
   },
   {
    "duration": 15,
    "start_time": "2022-04-06T18:26:47.637Z"
   },
   {
    "duration": 5,
    "start_time": "2022-04-06T18:29:44.964Z"
   },
   {
    "duration": 68,
    "start_time": "2022-04-06T18:29:51.293Z"
   },
   {
    "duration": 17,
    "start_time": "2022-04-06T18:31:38.798Z"
   },
   {
    "duration": 12,
    "start_time": "2022-04-06T18:31:43.107Z"
   },
   {
    "duration": 14,
    "start_time": "2022-04-06T18:32:06.424Z"
   },
   {
    "duration": 12,
    "start_time": "2022-04-06T18:33:33.649Z"
   },
   {
    "duration": 4,
    "start_time": "2022-04-06T18:34:08.348Z"
   },
   {
    "duration": 6,
    "start_time": "2022-04-06T18:34:16.073Z"
   },
   {
    "duration": 4,
    "start_time": "2022-04-06T18:34:25.996Z"
   },
   {
    "duration": 6,
    "start_time": "2022-04-06T18:34:32.895Z"
   },
   {
    "duration": 6,
    "start_time": "2022-04-06T18:35:03.970Z"
   },
   {
    "duration": 11,
    "start_time": "2022-04-06T18:35:25.753Z"
   },
   {
    "duration": 6,
    "start_time": "2022-04-06T18:36:08.823Z"
   },
   {
    "duration": 495,
    "start_time": "2022-04-06T18:41:50.108Z"
   },
   {
    "duration": 15,
    "start_time": "2022-04-06T18:41:50.605Z"
   },
   {
    "duration": 25,
    "start_time": "2022-04-06T18:41:51.545Z"
   },
   {
    "duration": 17,
    "start_time": "2022-04-06T18:41:52.560Z"
   },
   {
    "duration": 61,
    "start_time": "2022-04-06T18:41:54.568Z"
   },
   {
    "duration": 14,
    "start_time": "2022-04-06T18:41:56.757Z"
   },
   {
    "duration": 6,
    "start_time": "2022-04-06T18:41:59.906Z"
   },
   {
    "duration": 12,
    "start_time": "2022-04-06T18:43:00.994Z"
   },
   {
    "duration": 19,
    "start_time": "2022-04-06T18:43:07.031Z"
   },
   {
    "duration": 19,
    "start_time": "2022-04-06T18:43:34.090Z"
   },
   {
    "duration": 19,
    "start_time": "2022-04-06T18:43:55.727Z"
   },
   {
    "duration": 6,
    "start_time": "2022-04-06T18:44:21.095Z"
   },
   {
    "duration": 4,
    "start_time": "2022-04-06T18:44:25.313Z"
   },
   {
    "duration": 5,
    "start_time": "2022-04-06T18:44:40.789Z"
   },
   {
    "duration": 8,
    "start_time": "2022-04-06T18:45:19.977Z"
   },
   {
    "duration": 9,
    "start_time": "2022-04-06T18:45:27.044Z"
   },
   {
    "duration": 92,
    "start_time": "2022-04-06T18:46:01.628Z"
   },
   {
    "duration": 8,
    "start_time": "2022-04-06T18:46:06.520Z"
   },
   {
    "duration": 10,
    "start_time": "2022-04-06T18:46:16.226Z"
   },
   {
    "duration": 22,
    "start_time": "2022-04-06T18:47:35.581Z"
   },
   {
    "duration": 101,
    "start_time": "2022-04-06T18:54:16.485Z"
   },
   {
    "duration": 92,
    "start_time": "2022-04-06T18:54:24.703Z"
   },
   {
    "duration": 13,
    "start_time": "2022-04-06T18:54:31.658Z"
   },
   {
    "duration": 76,
    "start_time": "2022-04-06T18:55:15.746Z"
   },
   {
    "duration": 96,
    "start_time": "2022-04-06T18:55:27.092Z"
   },
   {
    "duration": 21,
    "start_time": "2022-04-06T18:55:28.989Z"
   },
   {
    "duration": 17,
    "start_time": "2022-04-06T18:56:24.825Z"
   },
   {
    "duration": 17,
    "start_time": "2022-04-06T18:56:26.507Z"
   },
   {
    "duration": 22,
    "start_time": "2022-04-06T18:56:33.392Z"
   },
   {
    "duration": 14,
    "start_time": "2022-04-06T18:56:43.834Z"
   },
   {
    "duration": 14,
    "start_time": "2022-04-06T18:56:48.364Z"
   },
   {
    "duration": 97,
    "start_time": "2022-04-06T18:57:12.656Z"
   },
   {
    "duration": 23,
    "start_time": "2022-04-06T18:57:14.727Z"
   },
   {
    "duration": 11,
    "start_time": "2022-04-06T18:57:18.548Z"
   },
   {
    "duration": 83,
    "start_time": "2022-04-06T18:58:40.973Z"
   },
   {
    "duration": 20,
    "start_time": "2022-04-06T18:58:41.439Z"
   },
   {
    "duration": 28,
    "start_time": "2022-04-06T18:58:41.916Z"
   },
   {
    "duration": 15,
    "start_time": "2022-04-06T18:58:42.390Z"
   },
   {
    "duration": 84,
    "start_time": "2022-04-06T18:58:42.705Z"
   },
   {
    "duration": 25,
    "start_time": "2022-04-06T18:58:43.210Z"
   },
   {
    "duration": 21,
    "start_time": "2022-04-06T18:58:43.558Z"
   },
   {
    "duration": 13,
    "start_time": "2022-04-06T18:59:10.855Z"
   },
   {
    "duration": 14,
    "start_time": "2022-04-06T18:59:13.753Z"
   },
   {
    "duration": 12,
    "start_time": "2022-04-06T18:59:35.711Z"
   },
   {
    "duration": 13,
    "start_time": "2022-04-06T18:59:44.305Z"
   },
   {
    "duration": 11,
    "start_time": "2022-04-06T18:59:49.166Z"
   },
   {
    "duration": 59,
    "start_time": "2022-04-06T19:00:39.669Z"
   },
   {
    "duration": 67,
    "start_time": "2022-04-06T19:00:45.644Z"
   },
   {
    "duration": 11,
    "start_time": "2022-04-06T19:01:18.088Z"
   },
   {
    "duration": 23,
    "start_time": "2022-04-06T19:01:45.155Z"
   },
   {
    "duration": 3631,
    "start_time": "2022-04-06T19:03:52.640Z"
   },
   {
    "duration": 3795,
    "start_time": "2022-04-06T19:04:02.649Z"
   },
   {
    "duration": 3909,
    "start_time": "2022-04-06T19:04:13.742Z"
   },
   {
    "duration": 3725,
    "start_time": "2022-04-06T19:04:34.827Z"
   },
   {
    "duration": 23,
    "start_time": "2022-04-06T19:05:00.511Z"
   },
   {
    "duration": 3814,
    "start_time": "2022-04-06T19:05:30.769Z"
   },
   {
    "duration": 1524,
    "start_time": "2022-04-06T19:05:44.265Z"
   },
   {
    "duration": 70,
    "start_time": "2022-04-06T19:05:57.681Z"
   },
   {
    "duration": 14,
    "start_time": "2022-04-06T19:05:58.113Z"
   },
   {
    "duration": 23,
    "start_time": "2022-04-06T19:05:58.538Z"
   },
   {
    "duration": 15,
    "start_time": "2022-04-06T19:05:58.962Z"
   },
   {
    "duration": 51,
    "start_time": "2022-04-06T19:05:59.236Z"
   },
   {
    "duration": 25,
    "start_time": "2022-04-06T19:05:59.688Z"
   },
   {
    "duration": 3720,
    "start_time": "2022-04-06T19:06:01.063Z"
   },
   {
    "duration": 1727,
    "start_time": "2022-04-06T19:06:06.468Z"
   },
   {
    "duration": 5,
    "start_time": "2022-04-06T19:06:19.221Z"
   },
   {
    "duration": 3714,
    "start_time": "2022-04-06T19:14:18.167Z"
   },
   {
    "duration": 5,
    "start_time": "2022-04-06T19:14:34.014Z"
   },
   {
    "duration": 14,
    "start_time": "2022-04-06T19:14:44.110Z"
   },
   {
    "duration": 14,
    "start_time": "2022-04-06T19:14:47.710Z"
   },
   {
    "duration": 6,
    "start_time": "2022-04-06T19:15:20.989Z"
   },
   {
    "duration": 2588,
    "start_time": "2022-04-06T19:15:41.557Z"
   },
   {
    "duration": 2516,
    "start_time": "2022-04-06T19:15:53.296Z"
   },
   {
    "duration": 86,
    "start_time": "2022-04-06T19:16:07.024Z"
   },
   {
    "duration": 510,
    "start_time": "2022-04-07T16:16:49.495Z"
   },
   {
    "duration": 15,
    "start_time": "2022-04-07T16:16:50.480Z"
   },
   {
    "duration": 24,
    "start_time": "2022-04-07T16:16:51.672Z"
   },
   {
    "duration": 16,
    "start_time": "2022-04-07T16:16:52.758Z"
   },
   {
    "duration": 57,
    "start_time": "2022-04-07T16:16:53.656Z"
   },
   {
    "duration": 24,
    "start_time": "2022-04-07T16:16:54.828Z"
   },
   {
    "duration": 66,
    "start_time": "2022-04-07T16:16:56.196Z"
   },
   {
    "duration": 89,
    "start_time": "2022-04-07T16:19:02.840Z"
   },
   {
    "duration": 108,
    "start_time": "2022-04-07T16:19:45.691Z"
   },
   {
    "duration": 3791,
    "start_time": "2022-04-07T16:19:48.841Z"
   },
   {
    "duration": 12,
    "start_time": "2022-04-07T16:19:59.799Z"
   },
   {
    "duration": 93,
    "start_time": "2022-04-07T16:20:08.005Z"
   },
   {
    "duration": 4,
    "start_time": "2022-04-07T16:20:09.764Z"
   },
   {
    "duration": 19,
    "start_time": "2022-04-07T16:20:20.402Z"
   },
   {
    "duration": 11,
    "start_time": "2022-04-07T16:21:28.377Z"
   },
   {
    "duration": 21,
    "start_time": "2022-04-07T16:21:31.094Z"
   },
   {
    "duration": 14,
    "start_time": "2022-04-07T16:31:13.359Z"
   },
   {
    "duration": 16,
    "start_time": "2022-04-07T16:31:16.866Z"
   },
   {
    "duration": 8,
    "start_time": "2022-04-07T16:31:40.154Z"
   },
   {
    "duration": 7,
    "start_time": "2022-04-07T16:31:46.012Z"
   },
   {
    "duration": 7,
    "start_time": "2022-04-07T16:32:22.997Z"
   },
   {
    "duration": 1754,
    "start_time": "2022-04-07T16:32:35.437Z"
   },
   {
    "duration": 1415,
    "start_time": "2022-04-07T16:32:39.058Z"
   },
   {
    "duration": 9,
    "start_time": "2022-04-07T16:32:51.444Z"
   },
   {
    "duration": 4,
    "start_time": "2022-04-07T16:34:03.818Z"
   },
   {
    "duration": 5,
    "start_time": "2022-04-07T16:34:36.390Z"
   },
   {
    "duration": 5,
    "start_time": "2022-04-07T16:34:43.196Z"
   },
   {
    "duration": 88,
    "start_time": "2022-04-07T16:34:51.806Z"
   },
   {
    "duration": 6,
    "start_time": "2022-04-07T16:34:55.153Z"
   },
   {
    "duration": 13,
    "start_time": "2022-04-07T16:35:51.644Z"
   },
   {
    "duration": 9,
    "start_time": "2022-04-07T16:35:59.396Z"
   },
   {
    "duration": 12,
    "start_time": "2022-04-07T16:36:06.605Z"
   },
   {
    "duration": 6,
    "start_time": "2022-04-07T16:36:35.683Z"
   },
   {
    "duration": 75,
    "start_time": "2022-04-07T17:09:53.711Z"
   },
   {
    "duration": 16,
    "start_time": "2022-04-07T17:09:54.215Z"
   },
   {
    "duration": 24,
    "start_time": "2022-04-07T17:09:54.688Z"
   },
   {
    "duration": 17,
    "start_time": "2022-04-07T17:09:55.108Z"
   },
   {
    "duration": 53,
    "start_time": "2022-04-07T17:09:55.421Z"
   },
   {
    "duration": 26,
    "start_time": "2022-04-07T17:09:56.604Z"
   },
   {
    "duration": 11,
    "start_time": "2022-04-07T17:09:57.559Z"
   },
   {
    "duration": 10,
    "start_time": "2022-04-07T17:09:58.628Z"
   },
   {
    "duration": 6,
    "start_time": "2022-04-07T17:10:32.369Z"
   },
   {
    "duration": 78,
    "start_time": "2022-04-07T17:10:40.554Z"
   },
   {
    "duration": 21,
    "start_time": "2022-04-07T17:10:41.209Z"
   },
   {
    "duration": 36,
    "start_time": "2022-04-07T17:10:41.877Z"
   },
   {
    "duration": 20,
    "start_time": "2022-04-07T17:10:42.622Z"
   },
   {
    "duration": 57,
    "start_time": "2022-04-07T17:10:43.384Z"
   },
   {
    "duration": 27,
    "start_time": "2022-04-07T17:10:44.495Z"
   },
   {
    "duration": 11,
    "start_time": "2022-04-07T17:10:45.483Z"
   },
   {
    "duration": 6,
    "start_time": "2022-04-07T17:10:46.255Z"
   },
   {
    "duration": 12,
    "start_time": "2022-04-07T17:12:37.932Z"
   },
   {
    "duration": 14,
    "start_time": "2022-04-07T17:13:29.055Z"
   },
   {
    "duration": 7,
    "start_time": "2022-04-07T17:14:13.105Z"
   },
   {
    "duration": 9,
    "start_time": "2022-04-07T17:18:14.283Z"
   },
   {
    "duration": 8,
    "start_time": "2022-04-07T17:18:19.259Z"
   },
   {
    "duration": 14,
    "start_time": "2022-04-07T17:18:27.871Z"
   },
   {
    "duration": 19,
    "start_time": "2022-04-07T17:18:32.826Z"
   },
   {
    "duration": 19,
    "start_time": "2022-04-07T17:19:48.826Z"
   },
   {
    "duration": 22,
    "start_time": "2022-04-07T17:20:01.143Z"
   },
   {
    "duration": 12,
    "start_time": "2022-04-07T17:21:12.223Z"
   },
   {
    "duration": 11,
    "start_time": "2022-04-07T17:21:59.354Z"
   },
   {
    "duration": 8,
    "start_time": "2022-04-07T17:22:05.783Z"
   },
   {
    "duration": 20,
    "start_time": "2022-04-07T17:22:12.960Z"
   },
   {
    "duration": 19,
    "start_time": "2022-04-07T17:35:38.400Z"
   },
   {
    "duration": 19,
    "start_time": "2022-04-07T17:50:52.570Z"
   },
   {
    "duration": 22,
    "start_time": "2022-04-07T17:57:26.724Z"
   },
   {
    "duration": 5,
    "start_time": "2022-04-07T18:03:46.628Z"
   },
   {
    "duration": 21,
    "start_time": "2022-04-07T18:06:17.381Z"
   },
   {
    "duration": 2743,
    "start_time": "2022-04-07T18:08:01.118Z"
   },
   {
    "duration": 13,
    "start_time": "2022-04-07T18:08:37.653Z"
   },
   {
    "duration": 21,
    "start_time": "2022-04-07T18:08:52.735Z"
   },
   {
    "duration": 84,
    "start_time": "2022-04-07T18:09:02.883Z"
   },
   {
    "duration": 16,
    "start_time": "2022-04-07T18:09:03.289Z"
   },
   {
    "duration": 25,
    "start_time": "2022-04-07T18:09:03.729Z"
   },
   {
    "duration": 17,
    "start_time": "2022-04-07T18:09:04.112Z"
   },
   {
    "duration": 57,
    "start_time": "2022-04-07T18:09:04.411Z"
   },
   {
    "duration": 27,
    "start_time": "2022-04-07T18:09:04.992Z"
   },
   {
    "duration": 14,
    "start_time": "2022-04-07T18:09:06.189Z"
   },
   {
    "duration": 9,
    "start_time": "2022-04-07T18:09:09.086Z"
   },
   {
    "duration": 21,
    "start_time": "2022-04-07T18:09:13.363Z"
   },
   {
    "duration": 2579,
    "start_time": "2022-04-07T18:09:38.086Z"
   },
   {
    "duration": 20,
    "start_time": "2022-04-07T18:09:55.474Z"
   },
   {
    "duration": 14,
    "start_time": "2022-04-07T18:16:55.923Z"
   },
   {
    "duration": 22,
    "start_time": "2022-04-07T18:17:01.478Z"
   },
   {
    "duration": 18,
    "start_time": "2022-04-07T18:17:13.731Z"
   },
   {
    "duration": 76,
    "start_time": "2022-04-07T18:17:38.021Z"
   },
   {
    "duration": 16,
    "start_time": "2022-04-07T18:17:38.705Z"
   },
   {
    "duration": 26,
    "start_time": "2022-04-07T18:17:39.168Z"
   },
   {
    "duration": 16,
    "start_time": "2022-04-07T18:17:39.545Z"
   },
   {
    "duration": 74,
    "start_time": "2022-04-07T18:17:40.355Z"
   },
   {
    "duration": 24,
    "start_time": "2022-04-07T18:17:41.994Z"
   },
   {
    "duration": 14,
    "start_time": "2022-04-07T18:17:50.988Z"
   },
   {
    "duration": 8,
    "start_time": "2022-04-07T18:17:51.867Z"
   },
   {
    "duration": 19,
    "start_time": "2022-04-07T18:17:52.927Z"
   },
   {
    "duration": 16,
    "start_time": "2022-04-07T18:21:59.468Z"
   },
   {
    "duration": 16,
    "start_time": "2022-04-07T18:22:53.709Z"
   },
   {
    "duration": 17,
    "start_time": "2022-04-07T18:23:27.445Z"
   },
   {
    "duration": 18,
    "start_time": "2022-04-07T18:23:52.651Z"
   },
   {
    "duration": 2644,
    "start_time": "2022-04-07T18:24:42.880Z"
   },
   {
    "duration": 19,
    "start_time": "2022-04-07T18:25:09.917Z"
   },
   {
    "duration": 84,
    "start_time": "2022-04-07T18:25:19.093Z"
   },
   {
    "duration": 15,
    "start_time": "2022-04-07T18:25:19.549Z"
   },
   {
    "duration": 25,
    "start_time": "2022-04-07T18:25:19.956Z"
   },
   {
    "duration": 16,
    "start_time": "2022-04-07T18:25:20.334Z"
   },
   {
    "duration": 56,
    "start_time": "2022-04-07T18:25:20.623Z"
   },
   {
    "duration": 18,
    "start_time": "2022-04-07T18:25:21.037Z"
   },
   {
    "duration": 16,
    "start_time": "2022-04-07T18:25:22.279Z"
   },
   {
    "duration": 6,
    "start_time": "2022-04-07T18:25:22.835Z"
   },
   {
    "duration": 19,
    "start_time": "2022-04-07T18:25:24.749Z"
   },
   {
    "duration": 20,
    "start_time": "2022-04-07T18:26:26.040Z"
   },
   {
    "duration": 14,
    "start_time": "2022-04-07T18:26:44.076Z"
   },
   {
    "duration": 19,
    "start_time": "2022-04-07T18:31:36.945Z"
   },
   {
    "duration": 30,
    "start_time": "2022-04-07T18:35:21.280Z"
   },
   {
    "duration": 26,
    "start_time": "2022-04-07T18:35:33.284Z"
   },
   {
    "duration": 29,
    "start_time": "2022-04-07T18:37:28.449Z"
   },
   {
    "duration": 27,
    "start_time": "2022-04-07T18:38:16.741Z"
   },
   {
    "duration": 14,
    "start_time": "2022-04-07T18:38:45.788Z"
   },
   {
    "duration": 12,
    "start_time": "2022-04-07T18:39:03.382Z"
   },
   {
    "duration": 26,
    "start_time": "2022-04-07T18:39:29.416Z"
   },
   {
    "duration": 24,
    "start_time": "2022-04-07T18:42:53.199Z"
   },
   {
    "duration": 30,
    "start_time": "2022-04-07T18:43:07.366Z"
   },
   {
    "duration": 9,
    "start_time": "2022-04-07T18:43:51.748Z"
   },
   {
    "duration": 415,
    "start_time": "2022-04-08T10:52:54.379Z"
   },
   {
    "duration": 14,
    "start_time": "2022-04-08T10:52:56.302Z"
   },
   {
    "duration": 24,
    "start_time": "2022-04-08T10:52:57.453Z"
   },
   {
    "duration": 14,
    "start_time": "2022-04-08T10:52:58.460Z"
   },
   {
    "duration": 60,
    "start_time": "2022-04-08T10:52:59.418Z"
   },
   {
    "duration": 23,
    "start_time": "2022-04-08T10:53:01.228Z"
   },
   {
    "duration": 13,
    "start_time": "2022-04-08T10:53:02.666Z"
   },
   {
    "duration": 7,
    "start_time": "2022-04-08T10:53:03.171Z"
   },
   {
    "duration": 11,
    "start_time": "2022-04-08T10:53:06.563Z"
   },
   {
    "duration": 21,
    "start_time": "2022-04-08T10:53:50.354Z"
   },
   {
    "duration": 11,
    "start_time": "2022-04-08T10:54:33.971Z"
   },
   {
    "duration": 10,
    "start_time": "2022-04-08T10:54:48.897Z"
   },
   {
    "duration": 17,
    "start_time": "2022-04-08T10:55:23.626Z"
   },
   {
    "duration": 26,
    "start_time": "2022-04-08T10:55:31.657Z"
   },
   {
    "duration": 31,
    "start_time": "2022-04-08T10:56:40.154Z"
   },
   {
    "duration": 70,
    "start_time": "2022-04-08T11:01:36.061Z"
   },
   {
    "duration": 71,
    "start_time": "2022-04-08T11:01:41.253Z"
   },
   {
    "duration": 15,
    "start_time": "2022-04-08T11:01:41.960Z"
   },
   {
    "duration": 21,
    "start_time": "2022-04-08T11:01:42.706Z"
   },
   {
    "duration": 15,
    "start_time": "2022-04-08T11:01:43.787Z"
   },
   {
    "duration": 59,
    "start_time": "2022-04-08T11:01:45.580Z"
   },
   {
    "duration": 18,
    "start_time": "2022-04-08T11:01:48.700Z"
   },
   {
    "duration": 607,
    "start_time": "2022-04-08T18:17:48.742Z"
   },
   {
    "duration": 22,
    "start_time": "2022-04-08T18:17:49.351Z"
   },
   {
    "duration": 52,
    "start_time": "2022-04-08T18:17:49.886Z"
   },
   {
    "duration": 22,
    "start_time": "2022-04-08T18:17:50.996Z"
   },
   {
    "duration": 81,
    "start_time": "2022-04-08T18:17:51.856Z"
   },
   {
    "duration": 26,
    "start_time": "2022-04-08T18:17:53.014Z"
   },
   {
    "duration": 18,
    "start_time": "2022-04-08T18:19:05.540Z"
   },
   {
    "duration": 32,
    "start_time": "2022-04-08T18:21:46.923Z"
   },
   {
    "duration": 6,
    "start_time": "2022-04-08T18:24:08.161Z"
   },
   {
    "duration": 105,
    "start_time": "2022-04-08T18:24:20.513Z"
   },
   {
    "duration": 19,
    "start_time": "2022-04-08T18:24:20.929Z"
   },
   {
    "duration": 34,
    "start_time": "2022-04-08T18:24:21.326Z"
   },
   {
    "duration": 21,
    "start_time": "2022-04-08T18:24:22.269Z"
   },
   {
    "duration": 77,
    "start_time": "2022-04-08T18:24:22.902Z"
   },
   {
    "duration": 28,
    "start_time": "2022-04-08T18:24:25.435Z"
   },
   {
    "duration": 18,
    "start_time": "2022-04-08T18:24:26.187Z"
   },
   {
    "duration": 31,
    "start_time": "2022-04-08T18:24:26.950Z"
   },
   {
    "duration": 103,
    "start_time": "2022-04-08T18:43:18.504Z"
   },
   {
    "duration": 21,
    "start_time": "2022-04-08T18:43:18.927Z"
   },
   {
    "duration": 35,
    "start_time": "2022-04-08T18:43:19.365Z"
   },
   {
    "duration": 21,
    "start_time": "2022-04-08T18:43:19.839Z"
   },
   {
    "duration": 77,
    "start_time": "2022-04-08T18:43:20.156Z"
   },
   {
    "duration": 24,
    "start_time": "2022-04-08T18:43:20.801Z"
   },
   {
    "duration": 20,
    "start_time": "2022-04-08T18:43:21.148Z"
   },
   {
    "duration": 30,
    "start_time": "2022-04-08T18:43:21.542Z"
   },
   {
    "duration": 17,
    "start_time": "2022-04-08T18:43:41.248Z"
   },
   {
    "duration": 6,
    "start_time": "2022-04-08T18:44:19.012Z"
   },
   {
    "duration": 21,
    "start_time": "2022-04-08T18:44:28.541Z"
   },
   {
    "duration": 4,
    "start_time": "2022-04-08T18:44:36.776Z"
   },
   {
    "duration": 28,
    "start_time": "2022-04-08T18:44:42.609Z"
   },
   {
    "duration": 7,
    "start_time": "2022-04-08T18:44:49.442Z"
   },
   {
    "duration": 7,
    "start_time": "2022-04-08T18:44:54.391Z"
   },
   {
    "duration": 6,
    "start_time": "2022-04-08T18:44:59.502Z"
   },
   {
    "duration": 6,
    "start_time": "2022-04-08T18:45:04.564Z"
   },
   {
    "duration": 7,
    "start_time": "2022-04-08T18:45:09.179Z"
   },
   {
    "duration": 6,
    "start_time": "2022-04-08T18:45:16.752Z"
   },
   {
    "duration": 7,
    "start_time": "2022-04-08T18:45:21.010Z"
   },
   {
    "duration": 7,
    "start_time": "2022-04-08T18:45:27.194Z"
   },
   {
    "duration": 5,
    "start_time": "2022-04-08T18:45:31.852Z"
   },
   {
    "duration": 102,
    "start_time": "2022-04-08T18:48:33.384Z"
   },
   {
    "duration": 10,
    "start_time": "2022-04-08T18:53:07.243Z"
   },
   {
    "duration": 10,
    "start_time": "2022-04-08T18:54:11.044Z"
   },
   {
    "duration": 11,
    "start_time": "2022-04-08T18:55:23.577Z"
   },
   {
    "duration": 111,
    "start_time": "2022-04-08T18:56:35.421Z"
   },
   {
    "duration": 20,
    "start_time": "2022-04-08T18:56:35.859Z"
   },
   {
    "duration": 35,
    "start_time": "2022-04-08T18:56:36.216Z"
   },
   {
    "duration": 21,
    "start_time": "2022-04-08T18:56:36.579Z"
   },
   {
    "duration": 77,
    "start_time": "2022-04-08T18:56:36.835Z"
   },
   {
    "duration": 27,
    "start_time": "2022-04-08T18:56:37.349Z"
   },
   {
    "duration": 20,
    "start_time": "2022-04-08T18:56:37.602Z"
   },
   {
    "duration": 31,
    "start_time": "2022-04-08T18:56:37.874Z"
   },
   {
    "duration": 10,
    "start_time": "2022-04-08T18:56:38.780Z"
   },
   {
    "duration": 16,
    "start_time": "2022-04-08T18:56:57.082Z"
   },
   {
    "duration": 17,
    "start_time": "2022-04-08T18:57:02.979Z"
   },
   {
    "duration": 21,
    "start_time": "2022-04-08T18:58:14.425Z"
   },
   {
    "duration": 16,
    "start_time": "2022-04-08T18:58:41.048Z"
   },
   {
    "duration": 11,
    "start_time": "2022-04-08T18:59:32.756Z"
   },
   {
    "duration": 100,
    "start_time": "2022-04-08T18:59:47.108Z"
   },
   {
    "duration": 100,
    "start_time": "2022-04-08T18:59:51.140Z"
   },
   {
    "duration": 22,
    "start_time": "2022-04-08T18:59:51.712Z"
   },
   {
    "duration": 37,
    "start_time": "2022-04-08T18:59:51.804Z"
   },
   {
    "duration": 22,
    "start_time": "2022-04-08T18:59:51.892Z"
   },
   {
    "duration": 78,
    "start_time": "2022-04-08T18:59:51.958Z"
   },
   {
    "duration": 24,
    "start_time": "2022-04-08T18:59:52.078Z"
   },
   {
    "duration": 19,
    "start_time": "2022-04-08T18:59:52.140Z"
   },
   {
    "duration": 30,
    "start_time": "2022-04-08T18:59:52.201Z"
   },
   {
    "duration": 10,
    "start_time": "2022-04-08T18:59:52.352Z"
   },
   {
    "duration": 24,
    "start_time": "2022-04-08T18:59:52.384Z"
   },
   {
    "duration": 27,
    "start_time": "2022-04-08T19:00:04.533Z"
   },
   {
    "duration": 14,
    "start_time": "2022-04-08T19:00:14.573Z"
   },
   {
    "duration": 33,
    "start_time": "2022-04-08T19:00:34.429Z"
   },
   {
    "duration": 12,
    "start_time": "2022-04-08T19:00:56.174Z"
   },
   {
    "duration": 195,
    "start_time": "2022-04-08T19:01:37.799Z"
   },
   {
    "duration": 11,
    "start_time": "2022-04-08T19:01:49.289Z"
   },
   {
    "duration": 11,
    "start_time": "2022-04-08T19:01:55.051Z"
   },
   {
    "duration": 48,
    "start_time": "2022-04-08T19:02:15.618Z"
   },
   {
    "duration": 1365,
    "start_time": "2022-04-08T19:07:55.139Z"
   },
   {
    "duration": 23,
    "start_time": "2022-04-08T19:07:57.969Z"
   },
   {
    "duration": 37,
    "start_time": "2022-04-08T19:07:58.336Z"
   },
   {
    "duration": 23,
    "start_time": "2022-04-08T19:07:58.710Z"
   },
   {
    "duration": 83,
    "start_time": "2022-04-08T19:07:58.966Z"
   },
   {
    "duration": 27,
    "start_time": "2022-04-08T19:07:59.469Z"
   },
   {
    "duration": 20,
    "start_time": "2022-04-08T19:07:59.736Z"
   },
   {
    "duration": 33,
    "start_time": "2022-04-08T19:08:00.018Z"
   },
   {
    "duration": 54,
    "start_time": "2022-04-08T19:08:01.407Z"
   },
   {
    "duration": 411,
    "start_time": "2022-04-08T19:09:04.434Z"
   },
   {
    "duration": 837,
    "start_time": "2022-04-08T19:12:02.168Z"
   },
   {
    "duration": 219,
    "start_time": "2022-04-08T19:13:48.145Z"
   },
   {
    "duration": 343,
    "start_time": "2022-04-08T19:14:01.860Z"
   },
   {
    "duration": 73,
    "start_time": "2022-04-08T19:14:39.057Z"
   },
   {
    "duration": 442,
    "start_time": "2022-04-08T19:14:43.286Z"
   },
   {
    "duration": 21,
    "start_time": "2022-04-08T19:17:45.628Z"
   },
   {
    "duration": 13,
    "start_time": "2022-04-08T19:18:14.273Z"
   },
   {
    "duration": 12,
    "start_time": "2022-04-08T19:20:03.806Z"
   },
   {
    "duration": 13,
    "start_time": "2022-04-08T19:21:18.865Z"
   },
   {
    "duration": 7,
    "start_time": "2022-04-08T19:21:49.357Z"
   },
   {
    "duration": 197,
    "start_time": "2022-04-08T19:22:00.352Z"
   },
   {
    "duration": 336,
    "start_time": "2022-04-08T19:22:04.427Z"
   },
   {
    "duration": 1029,
    "start_time": "2022-04-08T19:24:34.427Z"
   },
   {
    "duration": 971,
    "start_time": "2022-04-08T19:24:43.251Z"
   },
   {
    "duration": 211,
    "start_time": "2022-04-08T19:24:55.347Z"
   },
   {
    "duration": 21,
    "start_time": "2022-04-08T19:25:06.591Z"
   },
   {
    "duration": 14,
    "start_time": "2022-04-08T19:25:11.256Z"
   },
   {
    "duration": 2705,
    "start_time": "2022-04-08T19:26:15.052Z"
   },
   {
    "duration": 301,
    "start_time": "2022-04-08T19:27:26.774Z"
   },
   {
    "duration": 221,
    "start_time": "2022-04-08T19:28:48.528Z"
   },
   {
    "duration": 333,
    "start_time": "2022-04-08T19:28:52.324Z"
   },
   {
    "duration": 338,
    "start_time": "2022-04-08T19:28:56.462Z"
   },
   {
    "duration": 205,
    "start_time": "2022-04-08T19:29:02.156Z"
   },
   {
    "duration": 204,
    "start_time": "2022-04-08T19:29:05.659Z"
   },
   {
    "duration": 216,
    "start_time": "2022-04-08T19:29:12.127Z"
   },
   {
    "duration": 17,
    "start_time": "2022-04-08T19:30:07.173Z"
   },
   {
    "duration": 7,
    "start_time": "2022-04-08T19:30:12.364Z"
   },
   {
    "duration": 8,
    "start_time": "2022-04-08T19:30:57.820Z"
   },
   {
    "duration": 17,
    "start_time": "2022-04-08T19:31:04.322Z"
   },
   {
    "duration": 33,
    "start_time": "2022-04-08T19:31:22.912Z"
   },
   {
    "duration": 12,
    "start_time": "2022-04-08T19:31:42.985Z"
   },
   {
    "duration": 15,
    "start_time": "2022-04-08T19:31:50.915Z"
   },
   {
    "duration": 174,
    "start_time": "2022-04-08T19:31:58.313Z"
   },
   {
    "duration": 21,
    "start_time": "2022-04-08T19:32:03.361Z"
   },
   {
    "duration": 12,
    "start_time": "2022-04-08T19:32:11.830Z"
   },
   {
    "duration": 25,
    "start_time": "2022-04-08T20:14:10.855Z"
   },
   {
    "duration": 4,
    "start_time": "2022-04-08T20:15:29.967Z"
   },
   {
    "duration": 213,
    "start_time": "2022-04-08T20:15:33.249Z"
   },
   {
    "duration": 16,
    "start_time": "2022-04-08T20:17:13.127Z"
   },
   {
    "duration": 16,
    "start_time": "2022-04-08T20:17:38.220Z"
   },
   {
    "duration": 13,
    "start_time": "2022-04-08T20:17:45.146Z"
   },
   {
    "duration": 27,
    "start_time": "2022-04-08T20:18:08.016Z"
   },
   {
    "duration": 23,
    "start_time": "2022-04-08T20:18:43.320Z"
   },
   {
    "duration": 31,
    "start_time": "2022-04-08T20:18:49.286Z"
   },
   {
    "duration": 28,
    "start_time": "2022-04-08T20:18:57.086Z"
   },
   {
    "duration": 165,
    "start_time": "2022-04-08T20:19:08.733Z"
   },
   {
    "duration": 9,
    "start_time": "2022-04-08T20:19:16.968Z"
   },
   {
    "duration": 11,
    "start_time": "2022-04-08T20:19:25.558Z"
   },
   {
    "duration": 11,
    "start_time": "2022-04-08T20:19:38.068Z"
   },
   {
    "duration": 15,
    "start_time": "2022-04-08T20:20:12.068Z"
   },
   {
    "duration": 16,
    "start_time": "2022-04-08T20:20:30.723Z"
   },
   {
    "duration": 18,
    "start_time": "2022-04-08T20:20:38.045Z"
   },
   {
    "duration": 193,
    "start_time": "2022-04-08T20:20:54.655Z"
   },
   {
    "duration": 29,
    "start_time": "2022-04-08T20:40:21.313Z"
   },
   {
    "duration": 34,
    "start_time": "2022-04-08T20:40:52.932Z"
   },
   {
    "duration": 28,
    "start_time": "2022-04-08T20:41:27.326Z"
   },
   {
    "duration": 23,
    "start_time": "2022-04-08T20:41:58.895Z"
   },
   {
    "duration": 189,
    "start_time": "2022-04-08T20:42:04.295Z"
   },
   {
    "duration": 29,
    "start_time": "2022-04-08T20:42:11.925Z"
   },
   {
    "duration": 16,
    "start_time": "2022-04-08T20:42:59.015Z"
   },
   {
    "duration": 17,
    "start_time": "2022-04-08T20:43:17.811Z"
   },
   {
    "duration": 28,
    "start_time": "2022-04-08T20:43:31.497Z"
   },
   {
    "duration": 23,
    "start_time": "2022-04-08T20:43:36.751Z"
   },
   {
    "duration": 111,
    "start_time": "2022-04-08T20:45:22.671Z"
   },
   {
    "duration": 22,
    "start_time": "2022-04-08T20:45:23.523Z"
   },
   {
    "duration": 36,
    "start_time": "2022-04-08T20:45:23.944Z"
   },
   {
    "duration": 23,
    "start_time": "2022-04-08T20:45:24.342Z"
   },
   {
    "duration": 82,
    "start_time": "2022-04-08T20:45:24.612Z"
   },
   {
    "duration": 27,
    "start_time": "2022-04-08T20:45:25.167Z"
   },
   {
    "duration": 19,
    "start_time": "2022-04-08T20:45:25.444Z"
   },
   {
    "duration": 31,
    "start_time": "2022-04-08T20:45:25.730Z"
   },
   {
    "duration": 25,
    "start_time": "2022-04-08T20:45:30.686Z"
   },
   {
    "duration": 25,
    "start_time": "2022-04-08T20:46:15.801Z"
   },
   {
    "duration": 30,
    "start_time": "2022-04-08T20:46:27.995Z"
   },
   {
    "duration": 11,
    "start_time": "2022-04-08T20:46:43.626Z"
   },
   {
    "duration": 392,
    "start_time": "2022-04-08T20:46:49.596Z"
   },
   {
    "duration": 29279,
    "start_time": "2022-04-08T20:46:58.607Z"
   },
   {
    "duration": 0,
    "start_time": "2022-04-08T20:47:27.888Z"
   },
   {
    "duration": 29,
    "start_time": "2022-04-08T20:47:37.797Z"
   },
   {
    "duration": 27,
    "start_time": "2022-04-08T20:47:41.786Z"
   },
   {
    "duration": 29,
    "start_time": "2022-04-08T20:48:29.371Z"
   },
   {
    "duration": 29,
    "start_time": "2022-04-08T20:48:32.101Z"
   },
   {
    "duration": 30,
    "start_time": "2022-04-08T20:48:50.287Z"
   },
   {
    "duration": 172,
    "start_time": "2022-04-08T20:49:57.617Z"
   },
   {
    "duration": 175,
    "start_time": "2022-04-08T20:50:08.305Z"
   },
   {
    "duration": 195,
    "start_time": "2022-04-08T20:50:34.161Z"
   },
   {
    "duration": 31,
    "start_time": "2022-04-08T20:50:38.863Z"
   },
   {
    "duration": 57,
    "start_time": "2022-04-08T20:51:08.477Z"
   },
   {
    "duration": 33,
    "start_time": "2022-04-08T20:53:13.603Z"
   },
   {
    "duration": 41,
    "start_time": "2022-04-08T20:53:21.578Z"
   },
   {
    "duration": 31,
    "start_time": "2022-04-08T20:54:25.350Z"
   },
   {
    "duration": 29,
    "start_time": "2022-04-08T20:54:31.730Z"
   },
   {
    "duration": 31,
    "start_time": "2022-04-08T20:56:36.510Z"
   },
   {
    "duration": 36,
    "start_time": "2022-04-08T20:56:39.049Z"
   },
   {
    "duration": 38,
    "start_time": "2022-04-08T20:57:38.644Z"
   },
   {
    "duration": 35,
    "start_time": "2022-04-08T20:57:45.488Z"
   },
   {
    "duration": 39,
    "start_time": "2022-04-08T20:57:59.203Z"
   },
   {
    "duration": 44,
    "start_time": "2022-04-08T20:58:27.450Z"
   },
   {
    "duration": 43,
    "start_time": "2022-04-08T20:58:48.911Z"
   },
   {
    "duration": 44,
    "start_time": "2022-04-08T20:59:13.147Z"
   },
   {
    "duration": 35,
    "start_time": "2022-04-08T20:59:17.921Z"
   },
   {
    "duration": 38,
    "start_time": "2022-04-08T21:20:59.902Z"
   },
   {
    "duration": 35,
    "start_time": "2022-04-08T21:21:02.560Z"
   },
   {
    "duration": 196,
    "start_time": "2022-04-08T21:22:38.432Z"
   },
   {
    "duration": 400,
    "start_time": "2022-04-08T21:23:57.745Z"
   },
   {
    "duration": 961,
    "start_time": "2022-04-08T21:28:02.265Z"
   },
   {
    "duration": 194,
    "start_time": "2022-04-08T21:28:40.103Z"
   },
   {
    "duration": 187,
    "start_time": "2022-04-08T21:28:47.287Z"
   },
   {
    "duration": 38,
    "start_time": "2022-04-08T21:51:30.312Z"
   },
   {
    "duration": 304,
    "start_time": "2022-04-08T21:51:34.216Z"
   },
   {
    "duration": 315,
    "start_time": "2022-04-08T21:51:49.147Z"
   },
   {
    "duration": 204,
    "start_time": "2022-04-08T22:12:06.450Z"
   },
   {
    "duration": 20,
    "start_time": "2022-04-08T22:12:15.913Z"
   },
   {
    "duration": 1552,
    "start_time": "2022-04-09T09:46:04.104Z"
   },
   {
    "duration": 17,
    "start_time": "2022-04-09T09:46:05.659Z"
   },
   {
    "duration": 45,
    "start_time": "2022-04-09T09:46:05.678Z"
   },
   {
    "duration": 18,
    "start_time": "2022-04-09T09:46:06.508Z"
   },
   {
    "duration": 58,
    "start_time": "2022-04-09T09:46:06.866Z"
   },
   {
    "duration": 20,
    "start_time": "2022-04-09T09:46:08.044Z"
   },
   {
    "duration": 13,
    "start_time": "2022-04-09T09:46:09.164Z"
   },
   {
    "duration": 22,
    "start_time": "2022-04-09T09:46:10.203Z"
   },
   {
    "duration": 31,
    "start_time": "2022-04-09T09:46:14.283Z"
   },
   {
    "duration": 9,
    "start_time": "2022-04-09T09:49:25.761Z"
   },
   {
    "duration": 109,
    "start_time": "2022-04-09T09:49:32.571Z"
   },
   {
    "duration": 10,
    "start_time": "2022-04-09T09:49:38.726Z"
   },
   {
    "duration": 19,
    "start_time": "2022-04-09T09:53:29.289Z"
   },
   {
    "duration": 26,
    "start_time": "2022-04-09T09:53:33.947Z"
   },
   {
    "duration": 33,
    "start_time": "2022-04-09T10:08:13.187Z"
   },
   {
    "duration": 19,
    "start_time": "2022-04-09T10:09:50.143Z"
   },
   {
    "duration": 13,
    "start_time": "2022-04-09T10:10:39.800Z"
   },
   {
    "duration": 16,
    "start_time": "2022-04-09T10:12:15.447Z"
   },
   {
    "duration": 18,
    "start_time": "2022-04-09T10:13:56.468Z"
   },
   {
    "duration": 27,
    "start_time": "2022-04-09T10:14:07.191Z"
   },
   {
    "duration": 31,
    "start_time": "2022-04-09T10:21:06.392Z"
   },
   {
    "duration": 25,
    "start_time": "2022-04-09T10:21:12.751Z"
   },
   {
    "duration": 277,
    "start_time": "2022-04-09T10:21:41.054Z"
   },
   {
    "duration": 405,
    "start_time": "2022-04-09T10:22:29.703Z"
   },
   {
    "duration": 2,
    "start_time": "2022-04-09T10:23:41.920Z"
   },
   {
    "duration": 27,
    "start_time": "2022-04-09T10:28:32.593Z"
   },
   {
    "duration": 27,
    "start_time": "2022-04-09T10:28:39.473Z"
   },
   {
    "duration": 139,
    "start_time": "2022-04-09T10:30:33.700Z"
   },
   {
    "duration": 18,
    "start_time": "2022-04-09T10:30:38.274Z"
   },
   {
    "duration": 35,
    "start_time": "2022-04-09T10:30:41.705Z"
   },
   {
    "duration": 165,
    "start_time": "2022-04-09T10:31:12.563Z"
   },
   {
    "duration": 23,
    "start_time": "2022-04-09T10:31:16.460Z"
   },
   {
    "duration": 644,
    "start_time": "2022-04-09T10:35:10.461Z"
   },
   {
    "duration": 55,
    "start_time": "2022-04-09T10:35:16.026Z"
   },
   {
    "duration": 259,
    "start_time": "2022-04-09T10:35:45.667Z"
   },
   {
    "duration": 28,
    "start_time": "2022-04-09T10:35:48.354Z"
   },
   {
    "duration": 59,
    "start_time": "2022-04-09T10:36:01.033Z"
   },
   {
    "duration": 19,
    "start_time": "2022-04-09T10:38:20.670Z"
   },
   {
    "duration": 201,
    "start_time": "2022-04-09T10:38:26.122Z"
   },
   {
    "duration": 19,
    "start_time": "2022-04-09T10:38:30.015Z"
   },
   {
    "duration": 47,
    "start_time": "2022-04-09T10:38:36.623Z"
   },
   {
    "duration": 635,
    "start_time": "2022-04-09T10:40:07.168Z"
   },
   {
    "duration": 23,
    "start_time": "2022-04-09T10:40:10.411Z"
   },
   {
    "duration": 46,
    "start_time": "2022-04-09T10:40:23.070Z"
   },
   {
    "duration": 37,
    "start_time": "2022-04-09T10:43:24.592Z"
   },
   {
    "duration": 2283,
    "start_time": "2022-04-09T10:44:46.146Z"
   },
   {
    "duration": 29,
    "start_time": "2022-04-09T10:45:04.618Z"
   },
   {
    "duration": 29,
    "start_time": "2022-04-09T10:45:09.644Z"
   },
   {
    "duration": 31,
    "start_time": "2022-04-09T10:45:23.406Z"
   },
   {
    "duration": 137,
    "start_time": "2022-04-09T10:45:29.436Z"
   },
   {
    "duration": 30,
    "start_time": "2022-04-09T10:45:38.356Z"
   },
   {
    "duration": 5,
    "start_time": "2022-04-09T10:45:43.615Z"
   },
   {
    "duration": 4,
    "start_time": "2022-04-09T10:45:56.891Z"
   },
   {
    "duration": 4,
    "start_time": "2022-04-09T10:46:09.083Z"
   },
   {
    "duration": 6,
    "start_time": "2022-04-09T10:46:14.367Z"
   },
   {
    "duration": 31,
    "start_time": "2022-04-09T11:55:02.924Z"
   },
   {
    "duration": 6,
    "start_time": "2022-04-09T11:55:12.161Z"
   },
   {
    "duration": 2182,
    "start_time": "2022-04-09T11:57:39.214Z"
   },
   {
    "duration": 2214,
    "start_time": "2022-04-09T11:57:48.282Z"
   },
   {
    "duration": 7,
    "start_time": "2022-04-09T11:58:03.258Z"
   },
   {
    "duration": 8,
    "start_time": "2022-04-09T12:00:06.587Z"
   },
   {
    "duration": 6,
    "start_time": "2022-04-09T12:00:08.888Z"
   },
   {
    "duration": 144,
    "start_time": "2022-04-09T12:00:14.010Z"
   },
   {
    "duration": 11,
    "start_time": "2022-04-09T12:00:18.569Z"
   },
   {
    "duration": 8,
    "start_time": "2022-04-09T12:02:10.033Z"
   },
   {
    "duration": 5,
    "start_time": "2022-04-09T12:02:26.318Z"
   },
   {
    "duration": 9,
    "start_time": "2022-04-09T12:02:39.129Z"
   },
   {
    "duration": 9,
    "start_time": "2022-04-09T12:02:52.147Z"
   },
   {
    "duration": 11,
    "start_time": "2022-04-09T12:03:25.566Z"
   },
   {
    "duration": 12,
    "start_time": "2022-04-09T12:05:03.583Z"
   },
   {
    "duration": 14,
    "start_time": "2022-04-09T12:05:07.223Z"
   },
   {
    "duration": 14,
    "start_time": "2022-04-09T12:05:48.087Z"
   },
   {
    "duration": 25,
    "start_time": "2022-04-09T12:15:34.666Z"
   },
   {
    "duration": 27,
    "start_time": "2022-04-09T12:15:38.457Z"
   },
   {
    "duration": 600,
    "start_time": "2022-04-09T12:15:38.880Z"
   },
   {
    "duration": 0,
    "start_time": "2022-04-09T12:15:39.483Z"
   },
   {
    "duration": 707,
    "start_time": "2022-04-09T12:15:46.736Z"
   },
   {
    "duration": 45,
    "start_time": "2022-04-09T12:16:35.063Z"
   },
   {
    "duration": 38,
    "start_time": "2022-04-09T12:16:44.227Z"
   },
   {
    "duration": 87,
    "start_time": "2022-04-09T12:17:46.838Z"
   },
   {
    "duration": 16,
    "start_time": "2022-04-09T12:17:47.238Z"
   },
   {
    "duration": 26,
    "start_time": "2022-04-09T12:17:47.631Z"
   },
   {
    "duration": 19,
    "start_time": "2022-04-09T12:17:48.053Z"
   },
   {
    "duration": 60,
    "start_time": "2022-04-09T12:17:48.489Z"
   },
   {
    "duration": 18,
    "start_time": "2022-04-09T12:17:50.216Z"
   },
   {
    "duration": 15,
    "start_time": "2022-04-09T12:17:51.067Z"
   },
   {
    "duration": 35,
    "start_time": "2022-04-09T12:17:59.612Z"
   },
   {
    "duration": 28,
    "start_time": "2022-04-09T12:18:02.636Z"
   },
   {
    "duration": 46,
    "start_time": "2022-04-09T12:18:05.754Z"
   },
   {
    "duration": 48,
    "start_time": "2022-04-09T12:18:11.960Z"
   },
   {
    "duration": 48,
    "start_time": "2022-04-09T12:18:19.408Z"
   },
   {
    "duration": 38,
    "start_time": "2022-04-09T12:18:21.734Z"
   },
   {
    "duration": 31,
    "start_time": "2022-04-09T12:18:23.503Z"
   },
   {
    "duration": 39,
    "start_time": "2022-04-09T12:18:31.508Z"
   },
   {
    "duration": 41,
    "start_time": "2022-04-09T12:18:33.798Z"
   },
   {
    "duration": 34,
    "start_time": "2022-04-09T12:18:36.956Z"
   },
   {
    "duration": 34,
    "start_time": "2022-04-09T12:20:31.033Z"
   },
   {
    "duration": 44,
    "start_time": "2022-04-09T12:21:00.182Z"
   },
   {
    "duration": 22,
    "start_time": "2022-04-09T12:43:29.846Z"
   },
   {
    "duration": 2320,
    "start_time": "2022-04-09T12:44:16.393Z"
   },
   {
    "duration": 21,
    "start_time": "2022-04-09T12:44:27.777Z"
   },
   {
    "duration": 2187,
    "start_time": "2022-04-09T12:45:12.087Z"
   },
   {
    "duration": 21,
    "start_time": "2022-04-09T12:45:31.650Z"
   },
   {
    "duration": 2237,
    "start_time": "2022-04-09T12:47:12.952Z"
   },
   {
    "duration": 2250,
    "start_time": "2022-04-09T12:47:36.658Z"
   },
   {
    "duration": 42,
    "start_time": "2022-04-09T12:47:49.900Z"
   },
   {
    "duration": 16,
    "start_time": "2022-04-09T12:48:51.660Z"
   },
   {
    "duration": 146,
    "start_time": "2022-04-09T12:52:13.116Z"
   },
   {
    "duration": 142,
    "start_time": "2022-04-09T12:52:25.053Z"
   },
   {
    "duration": 2370,
    "start_time": "2022-04-09T12:52:33.638Z"
   },
   {
    "duration": 22,
    "start_time": "2022-04-09T12:52:40.578Z"
   },
   {
    "duration": 21,
    "start_time": "2022-04-09T12:53:10.599Z"
   },
   {
    "duration": 41,
    "start_time": "2022-04-09T12:53:17.681Z"
   },
   {
    "duration": 2263,
    "start_time": "2022-04-09T12:54:33.182Z"
   },
   {
    "duration": 2514,
    "start_time": "2022-04-09T12:54:37.830Z"
   },
   {
    "duration": 25,
    "start_time": "2022-04-09T12:54:48.665Z"
   },
   {
    "duration": 21,
    "start_time": "2022-04-09T12:54:58.926Z"
   },
   {
    "duration": 19,
    "start_time": "2022-04-09T12:55:08.276Z"
   },
   {
    "duration": 14,
    "start_time": "2022-04-09T12:59:23.204Z"
   },
   {
    "duration": 21,
    "start_time": "2022-04-09T12:59:26.071Z"
   },
   {
    "duration": 21,
    "start_time": "2022-04-09T12:59:31.265Z"
   },
   {
    "duration": 16,
    "start_time": "2022-04-09T12:59:39.522Z"
   },
   {
    "duration": 16,
    "start_time": "2022-04-09T13:01:51.642Z"
   },
   {
    "duration": 18,
    "start_time": "2022-04-09T13:01:58.039Z"
   },
   {
    "duration": 92,
    "start_time": "2022-04-09T13:02:06.531Z"
   },
   {
    "duration": 15,
    "start_time": "2022-04-09T13:02:06.917Z"
   },
   {
    "duration": 25,
    "start_time": "2022-04-09T13:02:07.308Z"
   },
   {
    "duration": 17,
    "start_time": "2022-04-09T13:02:07.696Z"
   },
   {
    "duration": 57,
    "start_time": "2022-04-09T13:02:07.957Z"
   },
   {
    "duration": 19,
    "start_time": "2022-04-09T13:02:08.494Z"
   },
   {
    "duration": 16,
    "start_time": "2022-04-09T13:02:08.997Z"
   },
   {
    "duration": 24,
    "start_time": "2022-04-09T13:02:09.629Z"
   },
   {
    "duration": 32,
    "start_time": "2022-04-09T13:02:16.161Z"
   },
   {
    "duration": 38,
    "start_time": "2022-04-09T13:02:24.467Z"
   },
   {
    "duration": 27,
    "start_time": "2022-04-09T13:03:18.340Z"
   },
   {
    "duration": 24,
    "start_time": "2022-04-09T13:03:25.015Z"
   },
   {
    "duration": 26,
    "start_time": "2022-04-09T13:05:03.891Z"
   },
   {
    "duration": 36,
    "start_time": "2022-04-09T13:05:43.462Z"
   },
   {
    "duration": 24,
    "start_time": "2022-04-09T13:07:33.751Z"
   },
   {
    "duration": 34,
    "start_time": "2022-04-09T13:07:40.449Z"
   },
   {
    "duration": 26,
    "start_time": "2022-04-09T13:08:02.993Z"
   },
   {
    "duration": 35,
    "start_time": "2022-04-09T13:08:10.130Z"
   },
   {
    "duration": 127,
    "start_time": "2022-04-09T13:08:55.271Z"
   },
   {
    "duration": 4,
    "start_time": "2022-04-09T13:09:00.571Z"
   },
   {
    "duration": 32,
    "start_time": "2022-04-09T13:09:27.752Z"
   },
   {
    "duration": 34,
    "start_time": "2022-04-09T13:10:05.973Z"
   },
   {
    "duration": 148,
    "start_time": "2022-04-09T13:14:06.277Z"
   },
   {
    "duration": 49,
    "start_time": "2022-04-09T13:14:11.352Z"
   },
   {
    "duration": 56,
    "start_time": "2022-04-09T13:14:26.113Z"
   },
   {
    "duration": 2214,
    "start_time": "2022-04-09T13:17:27.380Z"
   },
   {
    "duration": 26,
    "start_time": "2022-04-09T13:18:01.410Z"
   },
   {
    "duration": 142,
    "start_time": "2022-04-09T13:18:25.424Z"
   },
   {
    "duration": 29,
    "start_time": "2022-04-09T13:18:29.561Z"
   },
   {
    "duration": 2287,
    "start_time": "2022-04-09T13:19:10.730Z"
   },
   {
    "duration": 2371,
    "start_time": "2022-04-09T13:19:26.057Z"
   },
   {
    "duration": 34,
    "start_time": "2022-04-09T13:19:42.357Z"
   },
   {
    "duration": 2219,
    "start_time": "2022-04-09T13:19:47.539Z"
   },
   {
    "duration": 48,
    "start_time": "2022-04-09T13:19:55.065Z"
   },
   {
    "duration": 2574,
    "start_time": "2022-04-09T13:20:48.564Z"
   },
   {
    "duration": 5,
    "start_time": "2022-04-09T13:20:56.679Z"
   },
   {
    "duration": 39,
    "start_time": "2022-04-09T13:20:59.648Z"
   },
   {
    "duration": 46,
    "start_time": "2022-04-09T13:21:08.667Z"
   },
   {
    "duration": 34,
    "start_time": "2022-04-09T13:22:06.688Z"
   },
   {
    "duration": 3250,
    "start_time": "2022-04-09T13:22:13.128Z"
   },
   {
    "duration": 2772,
    "start_time": "2022-04-09T13:22:40.990Z"
   },
   {
    "duration": 1092,
    "start_time": "2022-04-09T13:23:10.547Z"
   },
   {
    "duration": 22,
    "start_time": "2022-04-09T13:23:27.376Z"
   },
   {
    "duration": 29,
    "start_time": "2022-04-09T13:25:30.075Z"
   },
   {
    "duration": 27,
    "start_time": "2022-04-09T13:25:43.425Z"
   },
   {
    "duration": 2196,
    "start_time": "2022-04-09T13:26:13.724Z"
   },
   {
    "duration": 26,
    "start_time": "2022-04-09T13:26:21.857Z"
   },
   {
    "duration": 2226,
    "start_time": "2022-04-09T13:26:34.846Z"
   },
   {
    "duration": 25,
    "start_time": "2022-04-09T13:26:43.188Z"
   },
   {
    "duration": 24,
    "start_time": "2022-04-09T13:27:19.847Z"
   },
   {
    "duration": 50,
    "start_time": "2022-04-09T13:27:44.543Z"
   },
   {
    "duration": 33,
    "start_time": "2022-04-09T13:28:11.062Z"
   },
   {
    "duration": 50,
    "start_time": "2022-04-09T13:28:44.588Z"
   },
   {
    "duration": 34,
    "start_time": "2022-04-09T13:29:04.800Z"
   },
   {
    "duration": 25,
    "start_time": "2022-04-09T13:29:32.931Z"
   },
   {
    "duration": 32,
    "start_time": "2022-04-09T13:29:43.529Z"
   },
   {
    "duration": 31,
    "start_time": "2022-04-09T13:30:33.457Z"
   },
   {
    "duration": 2198,
    "start_time": "2022-04-09T13:31:00.100Z"
   },
   {
    "duration": 26,
    "start_time": "2022-04-09T13:31:12.109Z"
   },
   {
    "duration": 32,
    "start_time": "2022-04-09T13:31:19.106Z"
   },
   {
    "duration": 48,
    "start_time": "2022-04-09T13:33:08.646Z"
   },
   {
    "duration": 40,
    "start_time": "2022-04-09T13:34:44.987Z"
   },
   {
    "duration": 13296,
    "start_time": "2022-04-09T13:35:01.808Z"
   },
   {
    "duration": 32,
    "start_time": "2022-04-09T13:35:20.342Z"
   },
   {
    "duration": 47,
    "start_time": "2022-04-09T13:35:52.994Z"
   },
   {
    "duration": 11,
    "start_time": "2022-04-09T13:38:09.720Z"
   },
   {
    "duration": 22,
    "start_time": "2022-04-09T13:38:15.713Z"
   },
   {
    "duration": 35,
    "start_time": "2022-04-09T13:38:34.050Z"
   },
   {
    "duration": 33,
    "start_time": "2022-04-09T13:38:41.417Z"
   },
   {
    "duration": 34,
    "start_time": "2022-04-09T13:38:47.030Z"
   },
   {
    "duration": 85,
    "start_time": "2022-04-09T13:39:27.590Z"
   },
   {
    "duration": 15,
    "start_time": "2022-04-09T13:39:27.983Z"
   },
   {
    "duration": 24,
    "start_time": "2022-04-09T13:39:28.401Z"
   },
   {
    "duration": 17,
    "start_time": "2022-04-09T13:39:28.836Z"
   },
   {
    "duration": 59,
    "start_time": "2022-04-09T13:39:29.142Z"
   },
   {
    "duration": 17,
    "start_time": "2022-04-09T13:39:29.739Z"
   },
   {
    "duration": 14,
    "start_time": "2022-04-09T13:39:30.127Z"
   },
   {
    "duration": 23,
    "start_time": "2022-04-09T13:39:30.667Z"
   },
   {
    "duration": 34,
    "start_time": "2022-04-09T13:39:33.560Z"
   },
   {
    "duration": 139,
    "start_time": "2022-04-09T13:42:07.715Z"
   },
   {
    "duration": 34,
    "start_time": "2022-04-09T13:42:51.864Z"
   },
   {
    "duration": 47,
    "start_time": "2022-04-09T13:42:55.282Z"
   },
   {
    "duration": 47,
    "start_time": "2022-04-09T13:44:14.759Z"
   },
   {
    "duration": 3274,
    "start_time": "2022-04-09T13:45:12.574Z"
   },
   {
    "duration": 2227,
    "start_time": "2022-04-09T13:45:24.925Z"
   },
   {
    "duration": 2517,
    "start_time": "2022-04-09T13:45:47.008Z"
   },
   {
    "duration": 40,
    "start_time": "2022-04-09T13:46:09.186Z"
   },
   {
    "duration": 2531,
    "start_time": "2022-04-09T13:46:29.972Z"
   },
   {
    "duration": 36,
    "start_time": "2022-04-09T13:46:36.905Z"
   },
   {
    "duration": 50,
    "start_time": "2022-04-09T13:47:30.696Z"
   },
   {
    "duration": 2197,
    "start_time": "2022-04-09T13:50:56.743Z"
   },
   {
    "duration": 2229,
    "start_time": "2022-04-09T13:51:20.112Z"
   },
   {
    "duration": 36,
    "start_time": "2022-04-09T13:51:25.127Z"
   },
   {
    "duration": 32,
    "start_time": "2022-04-09T13:51:42.531Z"
   },
   {
    "duration": 39,
    "start_time": "2022-04-09T13:51:45.956Z"
   },
   {
    "duration": 36,
    "start_time": "2022-04-09T13:52:01.152Z"
   },
   {
    "duration": 2199,
    "start_time": "2022-04-09T13:53:07.636Z"
   },
   {
    "duration": 30,
    "start_time": "2022-04-09T13:54:10.092Z"
   },
   {
    "duration": 38,
    "start_time": "2022-04-09T13:54:28.192Z"
   },
   {
    "duration": 37,
    "start_time": "2022-04-09T13:54:38.735Z"
   },
   {
    "duration": 37,
    "start_time": "2022-04-09T13:54:46.094Z"
   },
   {
    "duration": 21,
    "start_time": "2022-04-09T13:59:30.644Z"
   },
   {
    "duration": 18,
    "start_time": "2022-04-09T14:00:01.388Z"
   },
   {
    "duration": 2160,
    "start_time": "2022-04-09T14:00:08.725Z"
   },
   {
    "duration": 2164,
    "start_time": "2022-04-09T14:00:13.331Z"
   },
   {
    "duration": 30,
    "start_time": "2022-04-09T14:02:09.012Z"
   },
   {
    "duration": 133,
    "start_time": "2022-04-09T14:04:15.703Z"
   },
   {
    "duration": 163,
    "start_time": "2022-04-09T14:04:32.643Z"
   },
   {
    "duration": 138,
    "start_time": "2022-04-09T14:05:48.730Z"
   },
   {
    "duration": 13,
    "start_time": "2022-04-09T14:06:36.228Z"
   },
   {
    "duration": 17,
    "start_time": "2022-04-09T14:06:41.740Z"
   },
   {
    "duration": 16,
    "start_time": "2022-04-09T14:07:15.421Z"
   },
   {
    "duration": 8,
    "start_time": "2022-04-09T14:07:21.832Z"
   },
   {
    "duration": 8,
    "start_time": "2022-04-09T14:07:28.533Z"
   },
   {
    "duration": 17,
    "start_time": "2022-04-09T14:07:46.730Z"
   },
   {
    "duration": 8,
    "start_time": "2022-04-09T14:09:00.989Z"
   },
   {
    "duration": 16,
    "start_time": "2022-04-09T14:09:16.819Z"
   },
   {
    "duration": 90,
    "start_time": "2022-04-09T14:09:45.278Z"
   },
   {
    "duration": 15,
    "start_time": "2022-04-09T14:09:46.002Z"
   },
   {
    "duration": 27,
    "start_time": "2022-04-09T14:09:46.095Z"
   },
   {
    "duration": 18,
    "start_time": "2022-04-09T14:09:46.188Z"
   },
   {
    "duration": 60,
    "start_time": "2022-04-09T14:09:46.249Z"
   },
   {
    "duration": 20,
    "start_time": "2022-04-09T14:09:46.370Z"
   },
   {
    "duration": 15,
    "start_time": "2022-04-09T14:09:46.430Z"
   },
   {
    "duration": 23,
    "start_time": "2022-04-09T14:09:46.490Z"
   },
   {
    "duration": 31,
    "start_time": "2022-04-09T14:09:46.641Z"
   },
   {
    "duration": 16,
    "start_time": "2022-04-09T14:09:46.911Z"
   },
   {
    "duration": 16,
    "start_time": "2022-04-09T14:10:00.467Z"
   },
   {
    "duration": 147,
    "start_time": "2022-04-09T14:10:14.837Z"
   },
   {
    "duration": 18,
    "start_time": "2022-04-09T14:10:17.555Z"
   },
   {
    "duration": 12,
    "start_time": "2022-04-09T14:11:01.937Z"
   },
   {
    "duration": 20,
    "start_time": "2022-04-09T14:27:04.322Z"
   },
   {
    "duration": 28,
    "start_time": "2022-04-09T14:27:17.289Z"
   },
   {
    "duration": 23,
    "start_time": "2022-04-09T14:27:30.231Z"
   },
   {
    "duration": 36,
    "start_time": "2022-04-09T14:37:14.063Z"
   },
   {
    "duration": 29,
    "start_time": "2022-04-09T14:37:23.589Z"
   },
   {
    "duration": 33,
    "start_time": "2022-04-09T14:39:49.544Z"
   },
   {
    "duration": 34,
    "start_time": "2022-04-09T14:39:54.071Z"
   },
   {
    "duration": 86,
    "start_time": "2022-04-09T14:46:36.607Z"
   },
   {
    "duration": 16,
    "start_time": "2022-04-09T14:46:36.992Z"
   },
   {
    "duration": 25,
    "start_time": "2022-04-09T14:46:37.409Z"
   },
   {
    "duration": 18,
    "start_time": "2022-04-09T14:46:37.843Z"
   },
   {
    "duration": 61,
    "start_time": "2022-04-09T14:46:38.125Z"
   },
   {
    "duration": 18,
    "start_time": "2022-04-09T14:46:38.708Z"
   },
   {
    "duration": 15,
    "start_time": "2022-04-09T14:46:38.994Z"
   },
   {
    "duration": 23,
    "start_time": "2022-04-09T14:46:39.291Z"
   },
   {
    "duration": 29,
    "start_time": "2022-04-09T14:46:40.193Z"
   },
   {
    "duration": 11,
    "start_time": "2022-04-09T14:46:40.597Z"
   },
   {
    "duration": 35,
    "start_time": "2022-04-09T14:46:41.931Z"
   },
   {
    "duration": 36,
    "start_time": "2022-04-09T14:47:03.005Z"
   },
   {
    "duration": 35,
    "start_time": "2022-04-09T14:48:04.770Z"
   },
   {
    "duration": 13,
    "start_time": "2022-04-09T14:57:36.772Z"
   },
   {
    "duration": 22,
    "start_time": "2022-04-09T14:57:54.357Z"
   },
   {
    "duration": 23,
    "start_time": "2022-04-09T14:58:04.835Z"
   },
   {
    "duration": 26,
    "start_time": "2022-04-09T14:58:11.838Z"
   },
   {
    "duration": 13,
    "start_time": "2022-04-09T14:59:42.047Z"
   },
   {
    "duration": 12,
    "start_time": "2022-04-09T15:01:58.987Z"
   },
   {
    "duration": 10,
    "start_time": "2022-04-09T15:02:04.685Z"
   },
   {
    "duration": 10,
    "start_time": "2022-04-09T15:02:12.828Z"
   },
   {
    "duration": 8,
    "start_time": "2022-04-09T15:02:19.321Z"
   },
   {
    "duration": 31,
    "start_time": "2022-04-09T15:04:23.846Z"
   },
   {
    "duration": 132,
    "start_time": "2022-04-09T15:09:35.100Z"
   },
   {
    "duration": 141,
    "start_time": "2022-04-09T15:09:38.117Z"
   },
   {
    "duration": 11,
    "start_time": "2022-04-09T15:09:40.605Z"
   },
   {
    "duration": 13,
    "start_time": "2022-04-09T15:09:46.192Z"
   },
   {
    "duration": 9,
    "start_time": "2022-04-09T15:10:12.867Z"
   },
   {
    "duration": 95,
    "start_time": "2022-04-09T15:12:50.866Z"
   },
   {
    "duration": 17,
    "start_time": "2022-04-09T15:12:51.268Z"
   },
   {
    "duration": 26,
    "start_time": "2022-04-09T15:12:51.685Z"
   },
   {
    "duration": 17,
    "start_time": "2022-04-09T15:12:52.135Z"
   },
   {
    "duration": 57,
    "start_time": "2022-04-09T15:12:52.434Z"
   },
   {
    "duration": 19,
    "start_time": "2022-04-09T15:12:53.065Z"
   },
   {
    "duration": 15,
    "start_time": "2022-04-09T15:12:53.371Z"
   },
   {
    "duration": 23,
    "start_time": "2022-04-09T15:12:53.683Z"
   },
   {
    "duration": 28,
    "start_time": "2022-04-09T15:12:54.679Z"
   },
   {
    "duration": 10,
    "start_time": "2022-04-09T15:12:54.963Z"
   },
   {
    "duration": 34,
    "start_time": "2022-04-09T15:12:56.072Z"
   },
   {
    "duration": 12,
    "start_time": "2022-04-09T15:12:57.141Z"
   },
   {
    "duration": 26,
    "start_time": "2022-04-09T15:12:57.433Z"
   },
   {
    "duration": 9,
    "start_time": "2022-04-09T15:12:57.974Z"
   },
   {
    "duration": 1930,
    "start_time": "2022-04-09T18:05:01.193Z"
   },
   {
    "duration": 22,
    "start_time": "2022-04-09T18:05:03.126Z"
   },
   {
    "duration": 59,
    "start_time": "2022-04-09T18:05:03.151Z"
   },
   {
    "duration": 22,
    "start_time": "2022-04-09T18:05:04.017Z"
   },
   {
    "duration": 88,
    "start_time": "2022-04-09T18:05:04.381Z"
   },
   {
    "duration": 26,
    "start_time": "2022-04-09T18:05:05.174Z"
   },
   {
    "duration": 20,
    "start_time": "2022-04-09T18:05:05.544Z"
   },
   {
    "duration": 32,
    "start_time": "2022-04-09T18:05:05.950Z"
   },
   {
    "duration": 46,
    "start_time": "2022-04-09T18:05:07.483Z"
   },
   {
    "duration": 15,
    "start_time": "2022-04-09T18:05:07.902Z"
   },
   {
    "duration": 49,
    "start_time": "2022-04-09T18:05:09.473Z"
   },
   {
    "duration": 18,
    "start_time": "2022-04-09T18:05:10.834Z"
   },
   {
    "duration": 35,
    "start_time": "2022-04-09T18:05:11.250Z"
   },
   {
    "duration": 154,
    "start_time": "2022-04-09T18:11:39.513Z"
   },
   {
    "duration": 114,
    "start_time": "2022-04-09T18:11:59.029Z"
   },
   {
    "duration": 21,
    "start_time": "2022-04-09T18:11:59.504Z"
   },
   {
    "duration": 35,
    "start_time": "2022-04-09T18:11:59.963Z"
   },
   {
    "duration": 21,
    "start_time": "2022-04-09T18:12:00.379Z"
   },
   {
    "duration": 88,
    "start_time": "2022-04-09T18:12:00.676Z"
   },
   {
    "duration": 26,
    "start_time": "2022-04-09T18:12:01.266Z"
   },
   {
    "duration": 21,
    "start_time": "2022-04-09T18:12:01.580Z"
   },
   {
    "duration": 33,
    "start_time": "2022-04-09T18:12:01.882Z"
   },
   {
    "duration": 43,
    "start_time": "2022-04-09T18:12:02.686Z"
   },
   {
    "duration": 16,
    "start_time": "2022-04-09T18:12:02.848Z"
   },
   {
    "duration": 52,
    "start_time": "2022-04-09T18:12:03.520Z"
   },
   {
    "duration": 18,
    "start_time": "2022-04-09T18:12:04.014Z"
   },
   {
    "duration": 40,
    "start_time": "2022-04-09T18:12:04.214Z"
   },
   {
    "duration": 20,
    "start_time": "2022-04-09T18:12:04.819Z"
   },
   {
    "duration": 36,
    "start_time": "2022-04-09T18:12:28.265Z"
   },
   {
    "duration": 1561,
    "start_time": "2022-04-10T08:33:38.770Z"
   },
   {
    "duration": 29,
    "start_time": "2022-04-10T08:33:40.333Z"
   },
   {
    "duration": 26,
    "start_time": "2022-04-10T08:33:40.364Z"
   },
   {
    "duration": 23,
    "start_time": "2022-04-10T08:33:40.539Z"
   },
   {
    "duration": 73,
    "start_time": "2022-04-10T08:33:40.901Z"
   },
   {
    "duration": 20,
    "start_time": "2022-04-10T08:33:41.673Z"
   },
   {
    "duration": 15,
    "start_time": "2022-04-10T08:33:42.493Z"
   },
   {
    "duration": 43,
    "start_time": "2022-04-10T08:33:42.510Z"
   },
   {
    "duration": 42,
    "start_time": "2022-04-10T08:33:43.739Z"
   },
   {
    "duration": 14,
    "start_time": "2022-04-10T08:33:43.968Z"
   },
   {
    "duration": 34,
    "start_time": "2022-04-10T08:33:44.881Z"
   },
   {
    "duration": 14,
    "start_time": "2022-04-10T08:33:45.523Z"
   },
   {
    "duration": 33,
    "start_time": "2022-04-10T08:33:45.739Z"
   },
   {
    "duration": 33,
    "start_time": "2022-04-10T08:33:46.469Z"
   },
   {
    "duration": 30,
    "start_time": "2022-04-10T10:39:14.243Z"
   },
   {
    "duration": 28,
    "start_time": "2022-04-10T10:39:19.525Z"
   },
   {
    "duration": 27,
    "start_time": "2022-04-10T10:39:30.596Z"
   },
   {
    "duration": 27,
    "start_time": "2022-04-10T10:40:29.917Z"
   },
   {
    "duration": 133,
    "start_time": "2022-04-10T11:10:14.471Z"
   },
   {
    "duration": 36,
    "start_time": "2022-04-10T11:10:31.634Z"
   },
   {
    "duration": 31,
    "start_time": "2022-04-10T11:10:37.828Z"
   },
   {
    "duration": 52,
    "start_time": "2022-04-19T20:55:23.208Z"
   },
   {
    "duration": 8,
    "start_time": "2022-04-19T20:55:42.359Z"
   },
   {
    "duration": 144,
    "start_time": "2022-04-19T20:55:47.527Z"
   },
   {
    "duration": 6,
    "start_time": "2022-04-19T20:55:57.432Z"
   },
   {
    "duration": 1585,
    "start_time": "2022-04-19T20:56:07.441Z"
   },
   {
    "duration": 17,
    "start_time": "2022-04-19T20:56:09.028Z"
   },
   {
    "duration": 46,
    "start_time": "2022-04-19T20:56:09.047Z"
   },
   {
    "duration": 17,
    "start_time": "2022-04-19T20:56:09.094Z"
   },
   {
    "duration": 82,
    "start_time": "2022-04-19T20:56:09.114Z"
   },
   {
    "duration": 19,
    "start_time": "2022-04-19T20:56:09.198Z"
   },
   {
    "duration": 17,
    "start_time": "2022-04-19T20:56:09.219Z"
   },
   {
    "duration": 2418,
    "start_time": "2022-04-19T20:56:09.238Z"
   },
   {
    "duration": 0,
    "start_time": "2022-04-19T20:56:11.658Z"
   },
   {
    "duration": 0,
    "start_time": "2022-04-19T20:56:11.659Z"
   },
   {
    "duration": 0,
    "start_time": "2022-04-19T20:56:11.660Z"
   },
   {
    "duration": 0,
    "start_time": "2022-04-19T20:56:11.662Z"
   },
   {
    "duration": 0,
    "start_time": "2022-04-19T20:56:11.663Z"
   },
   {
    "duration": 0,
    "start_time": "2022-04-19T20:56:11.664Z"
   },
   {
    "duration": 23,
    "start_time": "2022-04-19T20:56:22.425Z"
   },
   {
    "duration": 10,
    "start_time": "2022-04-19T20:56:23.901Z"
   },
   {
    "duration": 7,
    "start_time": "2022-04-19T20:56:56.782Z"
   },
   {
    "duration": 1280,
    "start_time": "2022-04-19T20:57:13.324Z"
   },
   {
    "duration": 16,
    "start_time": "2022-04-19T20:57:14.606Z"
   },
   {
    "duration": 25,
    "start_time": "2022-04-19T20:57:14.623Z"
   },
   {
    "duration": 17,
    "start_time": "2022-04-19T20:57:14.650Z"
   },
   {
    "duration": 60,
    "start_time": "2022-04-19T20:57:14.693Z"
   },
   {
    "duration": 38,
    "start_time": "2022-04-19T20:57:14.755Z"
   },
   {
    "duration": 13,
    "start_time": "2022-04-19T20:57:14.796Z"
   },
   {
    "duration": 41,
    "start_time": "2022-04-19T20:57:14.812Z"
   },
   {
    "duration": 39,
    "start_time": "2022-04-19T20:57:14.854Z"
   },
   {
    "duration": 11,
    "start_time": "2022-04-19T20:57:14.897Z"
   },
   {
    "duration": 38,
    "start_time": "2022-04-19T20:57:14.910Z"
   },
   {
    "duration": 66,
    "start_time": "2022-04-19T20:57:14.950Z"
   },
   {
    "duration": 29,
    "start_time": "2022-04-19T20:57:15.018Z"
   },
   {
    "duration": 1948,
    "start_time": "2022-04-23T09:23:40.848Z"
   },
   {
    "duration": 107,
    "start_time": "2022-04-23T09:23:43.265Z"
   },
   {
    "duration": 10,
    "start_time": "2022-04-23T09:25:20.418Z"
   },
   {
    "duration": 7,
    "start_time": "2022-04-23T09:25:21.212Z"
   },
   {
    "duration": 6,
    "start_time": "2022-04-23T09:25:21.814Z"
   },
   {
    "duration": 19,
    "start_time": "2022-04-23T09:25:22.394Z"
   },
   {
    "duration": 37,
    "start_time": "2022-04-23T10:02:05.883Z"
   },
   {
    "duration": 35,
    "start_time": "2022-04-23T10:02:09.258Z"
   },
   {
    "duration": 50,
    "start_time": "2022-04-23T10:02:14.483Z"
   },
   {
    "duration": 18,
    "start_time": "2022-04-23T10:02:14.887Z"
   },
   {
    "duration": 2121,
    "start_time": "2022-04-23T10:03:03.433Z"
   },
   {
    "duration": 34,
    "start_time": "2022-04-23T10:03:12.696Z"
   },
   {
    "duration": 25,
    "start_time": "2022-04-23T10:06:41.023Z"
   },
   {
    "duration": 32,
    "start_time": "2022-04-23T10:07:25.733Z"
   },
   {
    "duration": 37,
    "start_time": "2022-04-23T10:07:32.949Z"
   },
   {
    "duration": 23,
    "start_time": "2022-04-23T10:10:08.733Z"
   },
   {
    "duration": 53,
    "start_time": "2022-04-23T10:13:20.420Z"
   },
   {
    "duration": 25,
    "start_time": "2022-04-23T10:15:10.020Z"
   },
   {
    "duration": 4,
    "start_time": "2022-04-23T11:14:13.266Z"
   },
   {
    "duration": 97,
    "start_time": "2022-04-23T11:14:13.388Z"
   },
   {
    "duration": 10,
    "start_time": "2022-04-23T11:14:13.488Z"
   },
   {
    "duration": 6,
    "start_time": "2022-04-23T11:14:13.508Z"
   },
   {
    "duration": 18,
    "start_time": "2022-04-23T11:14:13.534Z"
   },
   {
    "duration": 15,
    "start_time": "2022-04-23T11:14:13.656Z"
   },
   {
    "duration": 37,
    "start_time": "2022-04-23T11:14:13.804Z"
   },
   {
    "duration": 23,
    "start_time": "2022-04-23T11:14:13.926Z"
   },
   {
    "duration": 80,
    "start_time": "2022-04-23T11:14:14.049Z"
   },
   {
    "duration": 25,
    "start_time": "2022-04-23T11:14:14.170Z"
   },
   {
    "duration": 19,
    "start_time": "2022-04-23T11:14:14.425Z"
   },
   {
    "duration": 33,
    "start_time": "2022-04-23T11:14:14.525Z"
   },
   {
    "duration": 29,
    "start_time": "2022-04-23T11:14:14.561Z"
   },
   {
    "duration": 27,
    "start_time": "2022-04-23T11:14:16.952Z"
   },
   {
    "duration": 130,
    "start_time": "2022-04-23T11:14:53.248Z"
   },
   {
    "duration": 127,
    "start_time": "2022-04-23T11:14:55.714Z"
   },
   {
    "duration": 131,
    "start_time": "2022-04-23T11:14:59.682Z"
   },
   {
    "duration": 145,
    "start_time": "2022-04-23T11:15:30.542Z"
   },
   {
    "duration": 125,
    "start_time": "2022-04-23T11:15:55.475Z"
   },
   {
    "duration": 53,
    "start_time": "2022-04-23T11:17:44.939Z"
   },
   {
    "duration": 29,
    "start_time": "2022-04-23T11:19:24.071Z"
   },
   {
    "duration": 26,
    "start_time": "2022-04-23T11:19:24.424Z"
   },
   {
    "duration": 127,
    "start_time": "2022-04-23T11:20:50.725Z"
   },
   {
    "duration": 1961,
    "start_time": "2022-04-23T11:21:17.670Z"
   },
   {
    "duration": 168,
    "start_time": "2022-04-23T11:21:19.634Z"
   },
   {
    "duration": 13,
    "start_time": "2022-04-23T11:21:19.804Z"
   },
   {
    "duration": 31,
    "start_time": "2022-04-23T11:21:19.821Z"
   },
   {
    "duration": 22,
    "start_time": "2022-04-23T11:21:19.855Z"
   },
   {
    "duration": 21,
    "start_time": "2022-04-23T11:21:19.880Z"
   },
   {
    "duration": 30,
    "start_time": "2022-04-23T11:21:19.904Z"
   },
   {
    "duration": 44,
    "start_time": "2022-04-23T11:21:19.937Z"
   },
   {
    "duration": 30,
    "start_time": "2022-04-23T11:21:19.983Z"
   },
   {
    "duration": 151,
    "start_time": "2022-04-23T11:21:20.017Z"
   },
   {
    "duration": 32,
    "start_time": "2022-04-23T11:21:20.171Z"
   },
   {
    "duration": 50,
    "start_time": "2022-04-23T11:21:20.206Z"
   },
   {
    "duration": 58,
    "start_time": "2022-04-23T11:21:20.259Z"
   },
   {
    "duration": 46,
    "start_time": "2022-04-23T11:21:20.320Z"
   },
   {
    "duration": 32,
    "start_time": "2022-04-23T11:21:20.369Z"
   },
   {
    "duration": 54,
    "start_time": "2022-04-23T11:21:20.404Z"
   },
   {
    "duration": 95,
    "start_time": "2022-04-23T11:21:20.461Z"
   },
   {
    "duration": 135,
    "start_time": "2022-04-23T11:24:48.287Z"
   },
   {
    "duration": 2,
    "start_time": "2022-04-24T09:05:45.105Z"
   },
   {
    "duration": 77,
    "start_time": "2022-04-24T09:05:45.108Z"
   },
   {
    "duration": 6,
    "start_time": "2022-04-24T09:05:45.186Z"
   },
   {
    "duration": 7,
    "start_time": "2022-04-24T09:05:45.193Z"
   },
   {
    "duration": 13,
    "start_time": "2022-04-24T09:05:45.201Z"
   },
   {
    "duration": 15,
    "start_time": "2022-04-24T09:05:45.216Z"
   },
   {
    "duration": 11,
    "start_time": "2022-04-24T09:05:45.232Z"
   },
   {
    "duration": 17,
    "start_time": "2022-04-24T09:05:45.245Z"
   },
   {
    "duration": 23,
    "start_time": "2022-04-24T09:05:45.263Z"
   },
   {
    "duration": 49,
    "start_time": "2022-04-24T09:05:45.288Z"
   },
   {
    "duration": 16,
    "start_time": "2022-04-24T09:05:45.340Z"
   },
   {
    "duration": 12,
    "start_time": "2022-04-24T09:05:45.357Z"
   },
   {
    "duration": 32,
    "start_time": "2022-04-24T09:05:45.371Z"
   },
   {
    "duration": 15,
    "start_time": "2022-04-24T09:05:45.405Z"
   },
   {
    "duration": 14,
    "start_time": "2022-04-24T09:05:45.422Z"
   },
   {
    "duration": 12,
    "start_time": "2022-04-24T09:05:45.438Z"
   },
   {
    "duration": 55,
    "start_time": "2022-04-24T09:05:45.452Z"
   },
   {
    "duration": 6,
    "start_time": "2022-04-24T09:06:40.767Z"
   }
  ],
  "kernelspec": {
   "display_name": "Python 3 (ipykernel)",
   "language": "python",
   "name": "python3"
  },
  "language_info": {
   "codemirror_mode": {
    "name": "ipython",
    "version": 3
   },
   "file_extension": ".py",
   "mimetype": "text/x-python",
   "name": "python",
   "nbconvert_exporter": "python",
   "pygments_lexer": "ipython3",
   "version": "3.9.7"
  },
  "toc": {
   "base_numbering": 1,
   "nav_menu": {},
   "number_sections": true,
   "sideBar": true,
   "skip_h1_title": true,
   "title_cell": "Оглавление",
   "title_sidebar": "Оглавление",
   "toc_cell": true,
   "toc_position": {
    "height": "318px",
    "left": "189px",
    "top": "204.125px",
    "width": "272.475px"
   },
   "toc_section_display": true,
   "toc_window_display": true
  }
 },
 "nbformat": 4,
 "nbformat_minor": 5
}
